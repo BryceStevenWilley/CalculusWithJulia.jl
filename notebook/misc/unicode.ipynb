{
  "cells": [
    {
      "cell_type": "markdown",
      "source": [
        "# Usages of unicode symbols\n\n\n`Julia` allows the use of *unicode* symbols to replace variable names and for function calls. Unicode operations are entered in this pattern `\\name[tab]`. That is a slash, `\\`, the name (e.g., `alpha`), and then a press of the `tab` key.\n\nIn these notes, the following may appear as variable or function names\n\n\n| `\\Name`          | Symbol | Usage notes                     |\n|:---------------- |:------ |:------------------------------- |\n| `\\euler`         | `ℯ`    | The variable `e`                |\n| `\\pi`            | `π`    |                                 |\n| `\\alpha`         | `α`    |                                 |\n| `\\beta`          | `β`    |                                 |\n| `\\delta`         | `δ`    |                                 |\n| `\\Delta`         | `Δ`    | Change, as in `Δx`              |\n| `\\gamma`         | `γ`    |                                 |\n| `\\phi`           | `ϕ`    |                                 |\n| `\\Phi`           | `Φ`    | Used for parameterized surfaces |\n| `x\\_1`           | `x₁`   | Subscripts                      |\n| `r\\vec`          | `r⃗`   | Vector annotation               |\n| `T\\hat`          | `T̂`    | Unit vector annotation          |\n\nThe following are associated with derivatives\n\n| `\\Name`          | Symbol | Usage notes                     |\n|:---------------- |:------ |:------------------------------- |\n| `\\partial`       | `∂`    |                                 |\n| `\\nabla`         | `∇`    | del operator in CwJ package     |\n\nThe following are *infix* operators\n\n| `\\Name`          | Symbol | Usage notes                     |\n|:---------------- |:------ |:------------------------------- |\n| `\\circ`          | `∘`    | composition                     |\n| `\\cdot`          | `⋅`    | dot product                     |\n| `\\times`         | `×`    | cross product                   |\n\nInfix operators may need parentheses due to precedence rules. For example, to call a composition, one needs `(f ∘ g)(x)` so that composition happens before function evaluation (`g(x)`)."
      ],
      "metadata": {}
    }
  ],
  "nbformat_minor": 2,
  "metadata": {
    "language_info": {
      "file_extension": ".jl",
      "mimetype": "application/julia",
      "name": "julia",
      "version": "1.5.0"
    },
    "kernelspec": {
      "name": "julia-1.5",
      "display_name": "Julia 1.5.0",
      "language": "julia"
    }
  },
  "nbformat": 4
}
