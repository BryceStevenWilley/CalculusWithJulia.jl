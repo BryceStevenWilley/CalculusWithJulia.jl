{
  "cells": [
    {
      "cell_type": "markdown",
      "source": [
        "# Quick introduction to calculus with Julia\n\nJulia can be downloaded and used like other programming languages.\n\n[launch binder](https://mybinder.org/v2/gh/CalculusWithJulia/CwJScratchPad.git/master)\n\nJulia can be used through the internet for free using the [mybinder.org](https://mybinder.org) service.\nTo do so, click on the `CalcululsWithJulia.ipynb` file after launching Binder by clicking on the badge.\n\n\n----"
      ],
      "metadata": {}
    },
    {
      "outputs": [],
      "cell_type": "code",
      "source": [
        "using CalculusWithJulia\nusing CalculusWithJulia.WeaveSupport\nusing Plots\nnothing"
      ],
      "metadata": {},
      "execution_count": null
    },
    {
      "cell_type": "markdown",
      "source": [
        "Here are some `Julia` usages to create calculus objects.\n\nThe `Julia` packages loaded below are all loaded when the `CalculusWithJulia` package is loaded.\n\nA `Julia` package is loaded with the `using` command:"
      ],
      "metadata": {}
    },
    {
      "outputs": [],
      "cell_type": "code",
      "source": [
        "using LinearAlgebra"
      ],
      "metadata": {},
      "execution_count": null
    },
    {
      "cell_type": "markdown",
      "source": [
        "The `LinearAlgebra` package comes with a `Julia` installation. Other packages can be added. Something like:"
      ],
      "metadata": {}
    },
    {
      "outputs": [],
      "cell_type": "code",
      "source": [
        "using Pkg\nPkg.add(\"SomePackageName\")"
      ],
      "metadata": {},
      "execution_count": null
    },
    {
      "cell_type": "markdown",
      "source": [
        "These notes have an accompanying package, `CalculusWithJulia`, that when installed, as above, also installs most of the necessary packages to perform the examples.\n\nPackages need only be installed once, but they must be loaded into *each* session for which they will be used."
      ],
      "metadata": {}
    },
    {
      "outputs": [],
      "cell_type": "code",
      "source": [
        "using CalculusWithJulia\nusing Plots"
      ],
      "metadata": {},
      "execution_count": null
    },
    {
      "cell_type": "markdown",
      "source": [
        "Packages can also be loaded through `import PackageName`. Importing does not add the exported objects of a function into the namespace, so is used when there are possible name collisions.\n\n## Types\n\nObjects in `Julia` are \"typed.\" Common numeric types are `Float64`, `Int64` for floating point numbers and integers. Less used here are types like `Rational{Int64}`,  specifying rational numbers with a numerator and denominator as `Int64`; or `Complex{Float64}`, specifying a comlex number with floating point components. Julia also has `BigFloat` and `BigInt` for arbitrary precision types. Typically, operations use \"promotion\" to ensure the combination of types is appropriate. Other useful types are `Function`, an abstract type describing functions; `Bool` for true and false values; `Sym` for symbolic values (through `SymPy`); and `Vector{Float64}` for vectors with floating point components.\n\nFor the most part the type will not be so important, but it is useful to know that for some function calls the  type of the argument will decide what method ultimately gets called. (This allows symbolic types to interact with Julia functions in an idiomatic manner.)\n\n## Functions\n\n### Definition\n\nFunctions can be defined four basic ways:\n\n* one statement functions follow traditional mathematics notation:"
      ],
      "metadata": {}
    },
    {
      "outputs": [],
      "cell_type": "code",
      "source": [
        "f(x) = exp(x) * 2x"
      ],
      "metadata": {},
      "execution_count": null
    },
    {
      "cell_type": "markdown",
      "source": [
        "* multi-statement functions are defined with the `function` keyword. The `end` statement ends the definition. The last evaluated command is returned. There is no need for explicit `return` statement, though it can be useful for control flow."
      ],
      "metadata": {}
    },
    {
      "outputs": [],
      "cell_type": "code",
      "source": [
        "function g(x)\n  a = sin(x)^2\n  a + a^2 + a^3\nend"
      ],
      "metadata": {},
      "execution_count": null
    },
    {
      "cell_type": "markdown",
      "source": [
        "* Anonymous functions, useful for example, as arguments to other functions or as return values, are defined using an arrow, `->`, as follows:"
      ],
      "metadata": {}
    },
    {
      "outputs": [],
      "cell_type": "code",
      "source": [
        "fn = x -> sin(2x)\nfn(pi/2)"
      ],
      "metadata": {},
      "execution_count": null
    },
    {
      "cell_type": "markdown",
      "source": [
        "In the following, the defined function, `Derivative`, returns an anonymously defined function that uses a `Julia` package, loaded with `CalculusWithJulia`, to take a derivative:"
      ],
      "metadata": {}
    },
    {
      "outputs": [],
      "cell_type": "code",
      "source": [
        "Derivatve(f::Function) = x -> ForwardDiff.derivative(f, x)    # ForwardDiff is loaded in CalculusWithJulia"
      ],
      "metadata": {},
      "execution_count": null
    },
    {
      "cell_type": "markdown",
      "source": [
        "(The `D` function of `CalculusWithJulia` implements something similar.)\n\n* Anonymous function may also be created using the `function` keyword.\n\n\n\nFor mathematical functions $f: R^n \\rightarrow R^m$ when $n$ or $m$ is bigger than 1 we have:\n\n* When $n =1$ and $m > 1$ we use a \"vector\" for the return value"
      ],
      "metadata": {}
    },
    {
      "outputs": [],
      "cell_type": "code",
      "source": [
        "r(t) = [sin(t), cos(t), t]"
      ],
      "metadata": {},
      "execution_count": null
    },
    {
      "cell_type": "markdown",
      "source": [
        "(An alternative would be to create a vector of functions.)\n\n* When $n > 1$ and $m=1$ we use multiple arguments or pass the arguments in a container. This pattern is common, as it allows both calling styles."
      ],
      "metadata": {}
    },
    {
      "outputs": [],
      "cell_type": "code",
      "source": [
        "f(x,y,z) = x*y + y*z + z*x\nf(v) = f(v...)"
      ],
      "metadata": {},
      "execution_count": null
    },
    {
      "cell_type": "markdown",
      "source": [
        "Some functions need to pass in a container of values, for this the last definition is useful to expand the values. Splatting takes a container and treats the values like individual arguments.\n\nAlternatively, indexing can be used directly, as in:"
      ],
      "metadata": {}
    },
    {
      "outputs": [],
      "cell_type": "code",
      "source": [
        "f(x) = x[1]*x[2] + x[2]*x[3] + x[3]*x[1]"
      ],
      "metadata": {},
      "execution_count": null
    },
    {
      "cell_type": "markdown",
      "source": [
        "* For vector fields ($n,m > 1$) a combination is used:"
      ],
      "metadata": {}
    },
    {
      "outputs": [],
      "cell_type": "code",
      "source": [
        "F(x,y,z) = [-y, x, z]\nF(v) = F(v...)"
      ],
      "metadata": {},
      "execution_count": null
    },
    {
      "cell_type": "markdown",
      "source": [
        "### Calling a function\n\nFunctions are called using parentheses to group the arguments."
      ],
      "metadata": {}
    },
    {
      "outputs": [],
      "cell_type": "code",
      "source": [
        "f(t) = sin(t)*sqrt(t)\nsin(1), sqrt(1), f(1)"
      ],
      "metadata": {},
      "execution_count": null
    },
    {
      "cell_type": "markdown",
      "source": [
        "When a function has multiple arguments, yet the value passed in is a container holding the arguments, splatting is used to expand the arguments, as is done in the definition `F(v) = F(v...)`, above.\n\n### Multiple dispatch\n\n`Julia` can have many methods for a single generic function. (E.g., it can have many different implementations of addiion when the `+` sign is encountered.)\nThe *type*s of the arguments and the number of arguments are used for dispatch.\n\nHere the number of arguments is used:"
      ],
      "metadata": {}
    },
    {
      "outputs": [],
      "cell_type": "code",
      "source": [
        "Area(w, h) = w * h    # area of rectangle\nArea(w) = Area(w, w)  # area of square using area of rectangle defintion"
      ],
      "metadata": {},
      "execution_count": null
    },
    {
      "cell_type": "markdown",
      "source": [
        "Calling `Area(5)` will call `Area(5,5)` which will return `5*5`.\n\nSimilarly, the definition for a vector field:"
      ],
      "metadata": {}
    },
    {
      "outputs": [],
      "cell_type": "code",
      "source": [
        "F(x,y,z) = [-y, x, z]\nF(v) = F(v...)"
      ],
      "metadata": {},
      "execution_count": null
    },
    {
      "cell_type": "markdown",
      "source": [
        "takes advantage of multiple dispatch to allow either a vector argument or individual arguments.\n\nType parameters can be used to restrict the type of arguments that are permitted. The `Derivative(f::Function)` definition illustrates how the `Derivative` function, defined above, is restricted to `Function` objects.\n\n\n### Keyword arguments\n\nOptional arguments may be specified with keywords, when the function is defined to use them. Keywords are separated from positional arguments using a semicolon, `;`:"
      ],
      "metadata": {}
    },
    {
      "outputs": [],
      "cell_type": "code",
      "source": [
        "circle(x; r=1) = sqrt(r^2 - x^2)\ncircle(0.5), circle(0.5, r=10)"
      ],
      "metadata": {},
      "execution_count": null
    },
    {
      "cell_type": "markdown",
      "source": [
        "The main (but not sole) use of keyword arguments will be with plotting, where various plot attribute are passed as `key=value` pairs.\n\n\n\n## Symbolic objects\n\nThe add-on `SymPy` package allows for symbolic expressions to be used. Symbolic values are defined with `@vars`, as below."
      ],
      "metadata": {}
    },
    {
      "outputs": [],
      "cell_type": "code",
      "source": [
        "using SymPy\n@vars x y z  # no comma as done here, though @vars(x,y,z) is also available\nx^2 + y^3 + z"
      ],
      "metadata": {},
      "execution_count": null
    },
    {
      "cell_type": "markdown",
      "source": [
        "Assumptions on the variables can be useful, particularly with simplification, as in"
      ],
      "metadata": {}
    },
    {
      "outputs": [],
      "cell_type": "code",
      "source": [
        "@vars x y z real=true"
      ],
      "metadata": {},
      "execution_count": null
    },
    {
      "cell_type": "markdown",
      "source": [
        "Symbolic expressions flow through `Julia` functions symbolically"
      ],
      "metadata": {}
    },
    {
      "outputs": [],
      "cell_type": "code",
      "source": [
        "sin(x)^2 + cos(x)^2"
      ],
      "metadata": {},
      "execution_count": null
    },
    {
      "cell_type": "markdown",
      "source": [
        "Numbers are symbolic once `SymPy` interacts with them:"
      ],
      "metadata": {}
    },
    {
      "outputs": [],
      "cell_type": "code",
      "source": [
        "x - x + 1  # 1 is now symbolic"
      ],
      "metadata": {},
      "execution_count": null
    },
    {
      "cell_type": "markdown",
      "source": [
        "The number `PI` is a symbolic `pi`.\na"
      ],
      "metadata": {}
    },
    {
      "outputs": [],
      "cell_type": "code",
      "source": [
        "sin(PI), sin(pi)"
      ],
      "metadata": {},
      "execution_count": null
    },
    {
      "cell_type": "markdown",
      "source": [
        "Use `Sym` to create symbolic numbers, `N` to find a `Julia` number from a symbolic number:"
      ],
      "metadata": {}
    },
    {
      "outputs": [],
      "cell_type": "code",
      "source": [
        "1 / Sym(2)"
      ],
      "metadata": {},
      "execution_count": null
    },
    {
      "outputs": [],
      "cell_type": "code",
      "source": [
        "N(PI)"
      ],
      "metadata": {},
      "execution_count": null
    },
    {
      "cell_type": "markdown",
      "source": [
        "Many generic `Julia` functions will work with symbolic objects through multiple dispatch (e.g., `sin`, `cos`, ...). Sympy functions that are not in `Julia` can be accessed through the `sympy` object using dot-call notation:"
      ],
      "metadata": {}
    },
    {
      "outputs": [],
      "cell_type": "code",
      "source": [
        "sympy.harmonic(10)"
      ],
      "metadata": {},
      "execution_count": null
    },
    {
      "cell_type": "markdown",
      "source": [
        "Some Sympy methods belong to the object and a called via the pattern `object.method(...)`. This too is the case using SymPy with `Julia`. For example:\n\n```\nA = [x 1; x 2]\nA.det()   # determinant of symbolic matrix A\n```\n\n\n## Containers\n\nWe use a few different containers:\n\n* Tuples. These are objects grouped together using parentheses. They need not be of the same type"
      ],
      "metadata": {}
    },
    {
      "outputs": [],
      "cell_type": "code",
      "source": [
        "x1 = (1, \"two\", 3.0)"
      ],
      "metadata": {},
      "execution_count": null
    },
    {
      "cell_type": "markdown",
      "source": [
        "Tuples are useful for programming. For example, they are uesd to return multiple values from a function.\n\n* Vectors. These are objects of the same type (typically) grouped together using square brackets, values separated by commas:"
      ],
      "metadata": {}
    },
    {
      "outputs": [],
      "cell_type": "code",
      "source": [
        "x2 = [1, 2, 3.0]  # 3.0 makes theses all floating point"
      ],
      "metadata": {},
      "execution_count": null
    },
    {
      "cell_type": "markdown",
      "source": [
        "Unlike tuples, the expected arithmatic from Linear Algebra is implemented for vectors.\n\n* Matrices. Like vectors, combine values of the same type, only they are 2-dimensional. Use spaces to separate values along a row; semicolons to separate rows:"
      ],
      "metadata": {}
    },
    {
      "outputs": [],
      "cell_type": "code",
      "source": [
        "x3 = [1 2 3; 4 5 6; 7 8 9]"
      ],
      "metadata": {},
      "execution_count": null
    },
    {
      "cell_type": "markdown",
      "source": [
        "* Row vectors. A vector is 1 dimensional, though it may be identified as a column of two dimensional matrix. A row vector is a two-dimensional matrix with a single row:"
      ],
      "metadata": {}
    },
    {
      "outputs": [],
      "cell_type": "code",
      "source": [
        "x4 = [1 2 3.0]"
      ],
      "metadata": {},
      "execution_count": null
    },
    {
      "cell_type": "markdown",
      "source": [
        "These have *indexing* using square brackets:"
      ],
      "metadata": {}
    },
    {
      "outputs": [],
      "cell_type": "code",
      "source": [
        "x1[1], x2[2], x3[3]"
      ],
      "metadata": {},
      "execution_count": null
    },
    {
      "cell_type": "markdown",
      "source": [
        "Matrices are usually indexed by row and column:"
      ],
      "metadata": {}
    },
    {
      "outputs": [],
      "cell_type": "code",
      "source": [
        "x3[1,2] # row one column two"
      ],
      "metadata": {},
      "execution_count": null
    },
    {
      "cell_type": "markdown",
      "source": [
        "For vectors and matrices - but not tuples, as they are immutable - indexing can be used to change a value in the container:"
      ],
      "metadata": {}
    },
    {
      "outputs": [],
      "cell_type": "code",
      "source": [
        "x2[1], x3[1,1] = 2, 2"
      ],
      "metadata": {},
      "execution_count": null
    },
    {
      "cell_type": "markdown",
      "source": [
        "Vectors and matrices are arrays. As hinted above, arrays have mathematical operations, such as addition and subtraction, defined for them. Tuples do not.\n\n\nDestructuring is an alternative to indexing to get at the entries in certain containers:"
      ],
      "metadata": {}
    },
    {
      "outputs": [],
      "cell_type": "code",
      "source": [
        "a,b,c = x2"
      ],
      "metadata": {},
      "execution_count": null
    },
    {
      "cell_type": "markdown",
      "source": [
        "### Structured collections\n\nAn arithmetic progression, $a, a+h, a+2h, ..., b$ can be produced *efficiently* using the range operator `a:h:b`:"
      ],
      "metadata": {}
    },
    {
      "outputs": [],
      "cell_type": "code",
      "source": [
        "5:10:55  # an object that describes 5, 15, 25, 35, 45, 55"
      ],
      "metadata": {},
      "execution_count": null
    },
    {
      "cell_type": "markdown",
      "source": [
        "If `h=1` it can be omitted:"
      ],
      "metadata": {}
    },
    {
      "outputs": [],
      "cell_type": "code",
      "source": [
        "1:10     # an object that describes 1,2,3,4,5,6,7,8,9,10"
      ],
      "metadata": {},
      "execution_count": null
    },
    {
      "cell_type": "markdown",
      "source": [
        "The `range` function can *efficiently* describe $n$ evenly spaced points between `a` and `b`:"
      ],
      "metadata": {}
    },
    {
      "outputs": [],
      "cell_type": "code",
      "source": [
        "range(0, pi, length=5)  # range(a, stop=b, length=n) for version 1.0"
      ],
      "metadata": {},
      "execution_count": null
    },
    {
      "cell_type": "markdown",
      "source": [
        "This is useful for creating regularly spaced values needed for certain plots.\n\n## Iteration\n\n\nThe `for` keyword is useful for iteration, Here is a traditional for loop, as `i` loops over each entry of the vector `[1,2,3]`:"
      ],
      "metadata": {}
    },
    {
      "outputs": [],
      "cell_type": "code",
      "source": [
        "for i in [1,2,3]\n  print(i)\nend"
      ],
      "metadata": {},
      "execution_count": null
    },
    {
      "outputs": [],
      "cell_type": "code",
      "source": [
        "CalculusWithJulia.WeaveSupport.note(\"\"\"Technical aside: For assignment within a for loop at the global level, a `global` declaration may be needed to ensure proper scoping.\"\"\")"
      ],
      "metadata": {},
      "execution_count": null
    },
    {
      "cell_type": "markdown",
      "source": [
        "List comprehensions are similar, but are useful as they perform the iteration and collect the values:"
      ],
      "metadata": {}
    },
    {
      "outputs": [],
      "cell_type": "code",
      "source": [
        "[i^2 for i in [1,2,3]]"
      ],
      "metadata": {},
      "execution_count": null
    },
    {
      "cell_type": "markdown",
      "source": [
        "Comprehesions can also be used to make matrices"
      ],
      "metadata": {}
    },
    {
      "outputs": [],
      "cell_type": "code",
      "source": [
        "[1/(i+j) for i in 1:3, j in 1:4]"
      ],
      "metadata": {},
      "execution_count": null
    },
    {
      "cell_type": "markdown",
      "source": [
        "(The three rows are for `i=1`, then `i=2`, and finally for `i=3`.)\n\nComprehensions  apply an *expression* to each entry in a container through iteration. Applying a function to each entry of a container can be facilitated by:\n\n* Broadcasting. Using  `.` before an operation instructs `Julia` to match up sizes (possibly extending to do so) and then apply the operation element by element:"
      ],
      "metadata": {}
    },
    {
      "outputs": [],
      "cell_type": "code",
      "source": [
        "xs = [1,2,3]\nsin.(xs)   # sin(1), sin(2), sin(3)"
      ],
      "metadata": {},
      "execution_count": null
    },
    {
      "cell_type": "markdown",
      "source": [
        "This example pairs off the value in `bases` and `xs`:\n\n```juila\nbases = [5,5,10]\nlog.(bases, xs)  # log(5, 1), log(5,2), log(10, 3)\n```\n\nThis example broadcasts the scalar value for the base with `xs`:"
      ],
      "metadata": {}
    },
    {
      "outputs": [],
      "cell_type": "code",
      "source": [
        "log.(5, xs)"
      ],
      "metadata": {},
      "execution_count": null
    },
    {
      "cell_type": "markdown",
      "source": [
        "Row and column vectors can fill in:"
      ],
      "metadata": {}
    },
    {
      "outputs": [],
      "cell_type": "code",
      "source": [
        "ys = [4 5] # a row vector\nf(x,y) = (x,y)\nf.(xs, ys)    # broadcasting a column and row vector makes a matrix, then applies f."
      ],
      "metadata": {},
      "execution_count": null
    },
    {
      "cell_type": "markdown",
      "source": [
        "This should be contrasted to the case when both `xs` and `ys` are (column) vectors, as then they pair off:\n\n```\nf.(xs, [4,5])\n```\n\n* The `map` function is similar, it applies a function to each element:"
      ],
      "metadata": {}
    },
    {
      "outputs": [],
      "cell_type": "code",
      "source": [
        "map(sin, [1,2,3])"
      ],
      "metadata": {},
      "execution_count": null
    },
    {
      "outputs": [],
      "cell_type": "code",
      "source": [
        "CalculusWithJulia.WeaveSupport.note(\"\"\"Many different computer languages implement `map`, broadcasting is less common. `Julia`'s use of the dot syntax to indicate broadcasting is reminiscent of MATLAB, but is quite different.\"\"\")"
      ],
      "metadata": {},
      "execution_count": null
    },
    {
      "cell_type": "markdown",
      "source": [
        "## Plots\n\n\nThe following commands use the `Plots` package. The `Plots` package expects a choice of backend. We will use both `plotly` and `gr` (and occasionally `pyplot()`)."
      ],
      "metadata": {}
    },
    {
      "outputs": [],
      "cell_type": "code",
      "source": [
        "using Plots\npyplot()      # select pyplot. Use `gr()` for GR; `plotly()` for Plotly"
      ],
      "metadata": {},
      "execution_count": null
    },
    {
      "outputs": [],
      "cell_type": "code",
      "source": [
        "CalculusWithJulia.WeaveSupport.note(\"\"\"\nThe `plotly` backend and `gr` backends are available by default. The `plotly` backend is has some interactivity, `gr` is for static plots. The `pyplot` package is used for certain surface plots, when `gr` can not be used.\n\"\"\")"
      ],
      "metadata": {},
      "execution_count": null
    },
    {
      "cell_type": "markdown",
      "source": [
        "> Plotting a univariate function $f:R \\rightarrow R$\n\n* using `plot(f, a, b)`"
      ],
      "metadata": {}
    },
    {
      "outputs": [],
      "cell_type": "code",
      "source": [
        "plot(sin, 0, 2pi)"
      ],
      "metadata": {},
      "execution_count": null
    },
    {
      "cell_type": "markdown",
      "source": [
        "Or"
      ],
      "metadata": {}
    },
    {
      "outputs": [],
      "cell_type": "code",
      "source": [
        "f(x) = exp(-x/2pi)*sin(x)\nplot(f, 0, 2pi)"
      ],
      "metadata": {},
      "execution_count": null
    },
    {
      "cell_type": "markdown",
      "source": [
        "Or with an anonymous function"
      ],
      "metadata": {}
    },
    {
      "outputs": [],
      "cell_type": "code",
      "source": [
        "plot(x -> sin(x) + sin(2x), 0, 2pi)"
      ],
      "metadata": {},
      "execution_count": null
    },
    {
      "outputs": [],
      "cell_type": "code",
      "source": [
        "CalculusWithJulia.WeaveSupport.note(\"\"\"The time to first plot can be lengthy! This can be removed by creating a custom `Julia` image, but that is not introductory level stuff. As well, standalone plotting packages offer quicker first plots, but the simplicity of `Plots` is preferred. Subsequent plots are not so time consuming, as the initial time is spent compiling functions so their re-use is speedy.\n\"\"\")"
      ],
      "metadata": {},
      "execution_count": null
    },
    {
      "cell_type": "markdown",
      "source": [
        "Arguments of interest include\n\n| Attribute      | Value                                                   |\n|:--------------:|:-------------------------------------------------------:|\n| `legend`       | A boolean, specify `false` to inhibit drawing a legend  |\n| `aspect_ratio` | Use `:equal` to have x and y axis have same scale       |\n| `linewidth`    | Ingters greater than 1 will thicken lines drawn         |\n| `color`        | A color may be specified by a symbol (leading `:`).     |\n|                | E.g., `:black`, `:red`, `:blue`                          |\n\n\n\n* using `plot(xs, ys)`\n\nThe lower level interface to `plot` involves directly creating x and y values to plot:"
      ],
      "metadata": {}
    },
    {
      "outputs": [],
      "cell_type": "code",
      "source": [
        "xs = range(0, 2pi, length=100)\nys = sin.(xs)\nplot(xs, ys, color=:red)"
      ],
      "metadata": {},
      "execution_count": null
    },
    {
      "cell_type": "markdown",
      "source": [
        "* plotting a symbolic expression\n\nA symbolic expression of single variable can be plotted as a function is:"
      ],
      "metadata": {}
    },
    {
      "outputs": [],
      "cell_type": "code",
      "source": [
        "@vars x\nplot(exp(-x/2pi)*sin(x), 0, 2pi)"
      ],
      "metadata": {},
      "execution_count": null
    },
    {
      "cell_type": "markdown",
      "source": [
        "* Multiple functions\n\nThe `!` Julia convention to modify an object is used by the `plot` command, so `plot!` will add to the existing plot:"
      ],
      "metadata": {}
    },
    {
      "outputs": [],
      "cell_type": "code",
      "source": [
        "plot(sin, 0, 2pi, color=:red)\nplot!(cos, 0, 2pi, color=:blue)\nplot!(zero, color=:green)  # no a, b then inherited from graph."
      ],
      "metadata": {},
      "execution_count": null
    },
    {
      "cell_type": "markdown",
      "source": [
        "The `zero` function is just 0 (more generally useful when the type of a number is important, but used here to emphasize the $x$ axis).\n\n> Plotting a parameterized (space) curve function $f:R \\rightarrow R^n$, $n = 2$ or $3$\n\n* Using `plot(xs, ys)`\n\nLet $f(t) = e^{t/2\\pi} \\langle \\cos(t), \\sin(t)\\rangle$ be a parameterized function. Then the $t$ values can be generated as follows:"
      ],
      "metadata": {}
    },
    {
      "outputs": [],
      "cell_type": "code",
      "source": [
        "ts = range(0, 2pi, length = 100)\nxs = [exp(t/2pi) * cos(t) for t in ts]\nys = [exp(t/2pi) * sin(t) for t in ts]\nplot(xs, ys)"
      ],
      "metadata": {},
      "execution_count": null
    },
    {
      "cell_type": "markdown",
      "source": [
        "* using `plot(f1, f2, a, b)`. If the two functions describing the components are available, then"
      ],
      "metadata": {}
    },
    {
      "outputs": [],
      "cell_type": "code",
      "source": [
        "f1(t) = exp(t/2pi) * cos(t)\nf2(t) = exp(t/2pi) * sin(t)\nplot(f1, f2, 0, 2pi)"
      ],
      "metadata": {},
      "execution_count": null
    },
    {
      "cell_type": "markdown",
      "source": [
        "* Using `plot_parametric_curve`. If the curve is described as a function of `t` with a vector output, then the `CalculusWithJulia` package provides `plot_parametric_curve` to produce a plot:"
      ],
      "metadata": {}
    },
    {
      "outputs": [],
      "cell_type": "code",
      "source": [
        "r(t) = exp(t/2pi) * [cos(t), sin(t)]\nplot_parametric_curve(r, 0, 2pi)"
      ],
      "metadata": {},
      "execution_count": null
    },
    {
      "cell_type": "markdown",
      "source": [
        "The low-level approach doesn't quite work as easily as desired:"
      ],
      "metadata": {}
    },
    {
      "outputs": [],
      "cell_type": "code",
      "source": [
        "ts = range(0, 2pi, length = 4)\nvs = r.(ts)"
      ],
      "metadata": {},
      "execution_count": null
    },
    {
      "cell_type": "markdown",
      "source": [
        "As seen, the values are a vector of vectors. To plot a reshaping needs to be done:"
      ],
      "metadata": {}
    },
    {
      "outputs": [],
      "cell_type": "code",
      "source": [
        "ts = range(0, 2pi, length = 100)\nvs = r.(ts)\nxs = [vs[i][1] for i in eachindex(vs)]\nys = [vs[i][2] for i in eachindex(vs)]\nplot(xs, ys)"
      ],
      "metadata": {},
      "execution_count": null
    },
    {
      "cell_type": "markdown",
      "source": [
        "This approach is faciliated by the `unzip` function in `CalculusWithJulia` (and used internally by `plot_parametric_curve`):"
      ],
      "metadata": {}
    },
    {
      "outputs": [],
      "cell_type": "code",
      "source": [
        "plot(unzip(vs)...)"
      ],
      "metadata": {},
      "execution_count": null
    },
    {
      "cell_type": "markdown",
      "source": [
        "* Plotting an arrow\n\nAn arrow in 2D can be plotted with the `quiver` command. We show the `arrow(p, v)` (or `arrow!(p,v)` function) from the `CalculusWithJulia` package, which has an easier syntax (`arrow!(p, v)`, where `p` is a point indicating the placement of the tail, and `v` the vector to represent):"
      ],
      "metadata": {}
    },
    {
      "outputs": [],
      "cell_type": "code",
      "source": [
        "gr()\nplot_parametric_curve(r, 0, 2pi)\nt0 = pi/8\narrow!(r(t0), r'(t0))"
      ],
      "metadata": {},
      "execution_count": null
    },
    {
      "cell_type": "markdown",
      "source": [
        "The `GR` package makes nicer arrows that `Plotly`.\n\n> Plotting a scalar function $f:R^2 \\rightarrow R$\n\nThe `surface` and `contour` functions are available to visualize a scalar function of $2$ variables:\n\n* A surface plot"
      ],
      "metadata": {}
    },
    {
      "outputs": [],
      "cell_type": "code",
      "source": [
        "plotly()    # The `plotly` backend allows for rotation by the mouse; otherwise the `camera` argument is used\nf(x, y) = 2 - x^2 + y^2\nxs = ys = range(-2,2, length=25)\nsurface(xs, ys, f)"
      ],
      "metadata": {},
      "execution_count": null
    },
    {
      "cell_type": "markdown",
      "source": [
        "The function generates the $z$ values, this can be done by the user and then passed to the `surface(xs, ys, zs)` format:"
      ],
      "metadata": {}
    },
    {
      "outputs": [],
      "cell_type": "code",
      "source": [
        "surface(xs, ys, f.(xs, ys'))"
      ],
      "metadata": {},
      "execution_count": null
    },
    {
      "cell_type": "markdown",
      "source": [
        "* A contour plot\n\nThe `contour` function is like the `surface` function."
      ],
      "metadata": {}
    },
    {
      "outputs": [],
      "cell_type": "code",
      "source": [
        "contour(xs, ys, f)"
      ],
      "metadata": {},
      "execution_count": null
    },
    {
      "outputs": [],
      "cell_type": "code",
      "source": [
        "contour(xs, ys, f.(xs, ys'))"
      ],
      "metadata": {},
      "execution_count": null
    },
    {
      "cell_type": "markdown",
      "source": [
        "* An implicit equation. The constraint $f(x,y)=c$ generates an implicit equation. While `contour` can be used for this type of plot - by adjusting the requested contours - the `ImplicitEquations` package can as well, and, perhaps. is easier. This package is loaded with `CalculusWithJulia`; loading it by itself will lead to naming conflicts with `SymPy`, so best not to do so. `ImplicitEquations` plots predicates formed by `Eq`, `Le`, `Lt`, `Ge`, and `Gt` (or some unicode counterparts). For example to plot when $f(x,y) =  \\sin(xy) - \\cos(xy) \\leq 0$ we have:"
      ],
      "metadata": {}
    },
    {
      "outputs": [],
      "cell_type": "code",
      "source": [
        "f(x,y) = sin(x*y) - cos(x*y)\nplot(Le(f, 0))     # or plot(f ≦ 0) using \\leqq[tab] to create that symbol"
      ],
      "metadata": {},
      "execution_count": null
    },
    {
      "cell_type": "markdown",
      "source": [
        "> Plotting a parameterized surface $f:R^2 \\rightarrow R^3$\n\n\n\nThe `plotly` (and `pyplot`) backends allow plotting of parameterized surfaces.\n\nThe low-level `surface(xs,ys,zs)` is used, and can be specified directly as follows:"
      ],
      "metadata": {}
    },
    {
      "outputs": [],
      "cell_type": "code",
      "source": [
        "X(theta, phi) = sin(phi)*cos(theta)\nY(theta, phi) = sin(phi)*sin(theta)\nZ(theta, phi) = cos(phi)\nthetas = range(0, pi/4, length=20)\nphis = range(0, pi, length=20)\nsurface(X.(thetas, phis'), Y.(thetas, phis'), Z.(thetas, phis'))"
      ],
      "metadata": {},
      "execution_count": null
    },
    {
      "cell_type": "markdown",
      "source": [
        "The function `parametric_grid` from the `CalculusWithJulia` package will prepare the `xs`, `ys`, and `zs` to pass to `surface` when a vector-valued function is involved:"
      ],
      "metadata": {}
    },
    {
      "outputs": [],
      "cell_type": "code",
      "source": [
        "Phi(theta, phi) = [sin(phi) * cos(theta), sin(phi) * sin(theta), cos(phi)]\nthetas, phis = range(0, pi/4, length=15), range(0, pi, length=20)\nxs, ys, zs = parametric_grid(thetas, phis, Phi)\nsurface(xs, ys, zs)\nwireframe!(xs, ys, zs)"
      ],
      "metadata": {},
      "execution_count": null
    },
    {
      "cell_type": "markdown",
      "source": [
        "> Plotting a vector field $F:R^2 \\rightarrow R^2$. The `CalculusWithJulia` package provides `vectorfieldplot`, used as:"
      ],
      "metadata": {}
    },
    {
      "outputs": [],
      "cell_type": "code",
      "source": [
        "gr()  # better arrows than plotly()\nF(x,y) = [-y, x]\nvectorfieldplot(F, xlim=(-2, 2), ylim=(-2,2), nx=10, ny=10)"
      ],
      "metadata": {},
      "execution_count": null
    },
    {
      "cell_type": "markdown",
      "source": [
        "There is also `vectorfieldplot3d`.\n\n\n## Limits\n\nLimits can be investigated numerically by forming tables, eg.:"
      ],
      "metadata": {}
    },
    {
      "outputs": [],
      "cell_type": "code",
      "source": [
        "xs = [1, 1/10, 1/100, 1/1000]\nf(x) = sin(x)/x\n[xs f.(xs)]"
      ],
      "metadata": {},
      "execution_count": null
    },
    {
      "cell_type": "markdown",
      "source": [
        "Symbolically, `SymPy` provides a `limit` function:"
      ],
      "metadata": {}
    },
    {
      "outputs": [],
      "cell_type": "code",
      "source": [
        "@vars x\nlimit(sin(x)/x, x => 0)"
      ],
      "metadata": {},
      "execution_count": null
    },
    {
      "cell_type": "markdown",
      "source": [
        "Or"
      ],
      "metadata": {}
    },
    {
      "outputs": [],
      "cell_type": "code",
      "source": [
        "@vars h x\nlimit((sin(x+h) - sin(x))/h, h => 0)"
      ],
      "metadata": {},
      "execution_count": null
    },
    {
      "cell_type": "markdown",
      "source": [
        "## Derivatives\n\nThere are numeric and symbolic approaches  to derivatives. For the numeric approach we use the `ForwardDiff` package, which performs automatic differentiation.\n\n\n> Derivatives of univariate functions\n\nNumerically, the `ForwardDiff.derivative(f, x)` function call will find the derivative of the function `f` at the point `x`:"
      ],
      "metadata": {}
    },
    {
      "outputs": [],
      "cell_type": "code",
      "source": [
        "ForwardDiff.derivative(sin, pi/3) - cos(pi/3)"
      ],
      "metadata": {},
      "execution_count": null
    },
    {
      "cell_type": "markdown",
      "source": [
        "The `CalculusWithJulia` package overides the `'` (`adjoint`) syntax for functions to provide a derivative which takes a function and returns a function, so its usage is familiar"
      ],
      "metadata": {}
    },
    {
      "outputs": [],
      "cell_type": "code",
      "source": [
        "f(x) = sin(x)\nf'(pi/3) - cos(pi/3)  # or just sin'(pi/3) - cos(pi/3)"
      ],
      "metadata": {},
      "execution_count": null
    },
    {
      "cell_type": "markdown",
      "source": [
        "Higher order derivatives are possible as well,"
      ],
      "metadata": {}
    },
    {
      "outputs": [],
      "cell_type": "code",
      "source": [
        "f(x) = sin(x)\nf''''(pi/3) - f(pi/3)"
      ],
      "metadata": {},
      "execution_count": null
    },
    {
      "cell_type": "markdown",
      "source": [
        "----\n\nSymbolically, the `diff` function of `SymPy` finds derivatives."
      ],
      "metadata": {}
    },
    {
      "outputs": [],
      "cell_type": "code",
      "source": [
        "@vars x\nf(x) = exp(-x)*sin(x)\nex = f(x)  # symbolic expression\ndiff(ex, x)   # or just diff(f(x), x)"
      ],
      "metadata": {},
      "execution_count": null
    },
    {
      "cell_type": "markdown",
      "source": [
        "Higher order derivatives can be specified as well"
      ],
      "metadata": {}
    },
    {
      "outputs": [],
      "cell_type": "code",
      "source": [
        "diff(ex, x, x)"
      ],
      "metadata": {},
      "execution_count": null
    },
    {
      "cell_type": "markdown",
      "source": [
        "Or with a number:"
      ],
      "metadata": {}
    },
    {
      "outputs": [],
      "cell_type": "code",
      "source": [
        "diff(ex, x, 5)"
      ],
      "metadata": {},
      "execution_count": null
    },
    {
      "cell_type": "markdown",
      "source": [
        "The variable is important, as this allows parameters to be symbolic"
      ],
      "metadata": {}
    },
    {
      "outputs": [],
      "cell_type": "code",
      "source": [
        "@vars mu sigma x\ndiff(exp(-((x-mu)/sigma)^2/2), x)"
      ],
      "metadata": {},
      "execution_count": null
    },
    {
      "cell_type": "markdown",
      "source": [
        "> partial derivatives\n\nThere is no direct partial derivative function provided by `ForwardDiff`, rather we use the result of the `ForwardDiff.gradient` function, which finds the partial derivatives for each variable. To use this, the function must be defined in terms of a point or vector."
      ],
      "metadata": {}
    },
    {
      "outputs": [],
      "cell_type": "code",
      "source": [
        "f(x,y,z) = x*y + y*z + z*x\nf(v) = f(v...)               # this is needed for ForwardDiff.gradient\nForwardDiff.gradient(f, [1,2,3])"
      ],
      "metadata": {},
      "execution_count": null
    },
    {
      "cell_type": "markdown",
      "source": [
        "We can see directly that $\\partial{f}/\\partial{x} = \\langle y + z\\rangle$. At the point $(1,2,3)$, this is $5$, as returned above.\n\n----\n\nSymbolically, `diff` is used for partial derivatives:"
      ],
      "metadata": {}
    },
    {
      "outputs": [],
      "cell_type": "code",
      "source": [
        "@vars x y z\nex = x*y + y*z + z*x\ndiff(ex, x)    # ∂f/∂x"
      ],
      "metadata": {},
      "execution_count": null
    },
    {
      "cell_type": "markdown",
      "source": [
        "> Gradient\n\nAs seen, the `ForwardDiff.gradient` function finds the gradient at a point. In `CalculusWithJulia`, the gradient is extended to return a function when called with no additional arguments:"
      ],
      "metadata": {}
    },
    {
      "outputs": [],
      "cell_type": "code",
      "source": [
        "f(x,y,z) =  x*y + y*z + z*x\nf(v) = f(v...)\ngradient(f)(1,2,3) - gradient(f, [1,2,3])"
      ],
      "metadata": {},
      "execution_count": null
    },
    {
      "cell_type": "markdown",
      "source": [
        "The `∇` symbol, formed by entering `\\nabla[tab]`, is mathematical syntax for the gradient, and is defined in `CalculusWithJulia`."
      ],
      "metadata": {}
    },
    {
      "outputs": [],
      "cell_type": "code",
      "source": [
        "∇(f)(1,2,3)   # same as gradient(f, [1,2,3])"
      ],
      "metadata": {},
      "execution_count": null
    },
    {
      "cell_type": "markdown",
      "source": [
        "----\n\nIn `SymPy`, there is no gradient function, though finding the gradient is easy through broadcasting:"
      ],
      "metadata": {}
    },
    {
      "outputs": [],
      "cell_type": "code",
      "source": [
        "@vars x y z\nex = x*y + y*z + z*x\ndiff.(ex, [x,y,z])  # [diff(ex, x), diff(ex, y), diff(ex, z)]"
      ],
      "metadata": {},
      "execution_count": null
    },
    {
      "cell_type": "markdown",
      "source": [
        "The  `CalculusWithJulia` package provides a method for `gradient`:"
      ],
      "metadata": {}
    },
    {
      "outputs": [],
      "cell_type": "code",
      "source": [
        "gradient(ex, [x,y,z])"
      ],
      "metadata": {},
      "execution_count": null
    },
    {
      "cell_type": "markdown",
      "source": [
        "The `∇` symbol is an alias. It can guess the order of the free symbols, but generally specifying them is needed. This is done with a tuple:"
      ],
      "metadata": {}
    },
    {
      "outputs": [],
      "cell_type": "code",
      "source": [
        "∇((ex, [x,y,z]))  # for this, ∇(ex) also works"
      ],
      "metadata": {},
      "execution_count": null
    },
    {
      "cell_type": "markdown",
      "source": [
        "> Jacobian\n\nThe Jacobian of a function $f:R^n \\rightarrow R^m$ is a $m\\times n$ matrix of partial derivatives. Numerically, `ForwardDiff.jacobian` can find the Jacobian of a function at a point:"
      ],
      "metadata": {}
    },
    {
      "outputs": [],
      "cell_type": "code",
      "source": [
        "F(u,v) = [u*cos(v), u*sin(v), u]\nF(v) = F(v...)    # needed for ForwardDiff.jacobian\npt = [1, pi/4]\nForwardDiff.jacobian(F , pt)"
      ],
      "metadata": {},
      "execution_count": null
    },
    {
      "cell_type": "markdown",
      "source": [
        "----\n\nSymbolically, the `jacobian` function is a method of a *matrix*, so the calling pattern is different. (Of the form `object.method(arguments...)`.)"
      ],
      "metadata": {}
    },
    {
      "outputs": [],
      "cell_type": "code",
      "source": [
        "@vars u v\nex = F(u,v)\nex.jacobian([u,v])"
      ],
      "metadata": {},
      "execution_count": null
    },
    {
      "cell_type": "markdown",
      "source": [
        "As the Jacobian can be identified as the matrix with rows given by the transpose of the gradient of the component, it can be computed directly, but it is more difficult:"
      ],
      "metadata": {}
    },
    {
      "outputs": [],
      "cell_type": "code",
      "source": [
        "@vars u v real=true\nvcat([diff.(ex, [u,v])' for ex in F(u,v)]...)"
      ],
      "metadata": {},
      "execution_count": null
    },
    {
      "cell_type": "markdown",
      "source": [
        "> Divergence\n\nNumerically, the divergence can be computed from the Jacobian by adding the diagonal elements. This is a numerically inefficient, as the other partial derivates must be found and discarded, but this is generally not an issue for these notes. The following uses `tr` (the trace from the `LinearAlgebra` package) to find the sum of a diagonal."
      ],
      "metadata": {}
    },
    {
      "outputs": [],
      "cell_type": "code",
      "source": [
        "F(x,y,z) = [-y, x, z]\nF(v) = F(v...)\npt = [1,2,3]\ntr(ForwardDiff.jacobian(F , pt))"
      ],
      "metadata": {},
      "execution_count": null
    },
    {
      "cell_type": "markdown",
      "source": [
        "The `CalculusWithJulia` package provides `divergence` to compute the divergence and provides the `∇ ⋅` notation (`\\nabla[tab]\\cdot[tab]`):"
      ],
      "metadata": {}
    },
    {
      "outputs": [],
      "cell_type": "code",
      "source": [
        "divergence(F, [1,2,3])\n(∇⋅F)(1,2,3)    # not ∇⋅F(1,2,3) as that evaluates F(1,2,3) before the divergence"
      ],
      "metadata": {},
      "execution_count": null
    },
    {
      "cell_type": "markdown",
      "source": [
        "----\n\n\nSymbolically, the divergence can be found directly:"
      ],
      "metadata": {}
    },
    {
      "outputs": [],
      "cell_type": "code",
      "source": [
        "@vars x y z\nex = F(x,y,z)\nsum(diff.(ex, [x,y,z]))    # sum of [diff(ex[1], x), diff(ex[2],y), diff(ex[3], z)]"
      ],
      "metadata": {},
      "execution_count": null
    },
    {
      "cell_type": "markdown",
      "source": [
        "The `divergence` function can be used for symbolic expressions:"
      ],
      "metadata": {}
    },
    {
      "outputs": [],
      "cell_type": "code",
      "source": [
        "divergence(ex, [x,y,z])\n∇⋅(F(x,y,z), [x,y,z])   # For this, ∇ ⋅ F(x,y,z) also works"
      ],
      "metadata": {},
      "execution_count": null
    },
    {
      "cell_type": "markdown",
      "source": [
        "> Curl\n\nThe curl can be computed from the off-diagonal elements of the Jacobian. The calculation follows the formula. The `CalculusWithJulia` package provides `curl` to compute this:"
      ],
      "metadata": {}
    },
    {
      "outputs": [],
      "cell_type": "code",
      "source": [
        "F(x,y,z) = [-y, x, 1]\nF(v) = F(v...)\ncurl(F, [1,2,3])"
      ],
      "metadata": {},
      "execution_count": null
    },
    {
      "cell_type": "markdown",
      "source": [
        "As well, if no point is specified, a function is returned for which a point may be specified using 3 coordinates or a vector"
      ],
      "metadata": {}
    },
    {
      "outputs": [],
      "cell_type": "code",
      "source": [
        "curl(F)(1,2,3), curl(F)([1,2,3])"
      ],
      "metadata": {},
      "execution_count": null
    },
    {
      "cell_type": "markdown",
      "source": [
        "Finally, the `∇ ×` (`\\nabla[tab]\\times[tab]` notation is available)"
      ],
      "metadata": {}
    },
    {
      "outputs": [],
      "cell_type": "code",
      "source": [
        "(∇×F)(1,2,3)"
      ],
      "metadata": {},
      "execution_count": null
    },
    {
      "cell_type": "markdown",
      "source": [
        "For symbolic expressions, we have\n\n```\n∇×F(1,2,3)\n```\n\n(Do note the subtle difference in the use of parentheses between the numeric and the symbolic. For the symbolic, `F(x,y,z)` is evaluated *before* being passed to `∇×`, where as for the numeric approach `∇×F` is evaluated *before* passing a point to compute the value there.)\n\n## Integrals\n\nNumeric integration is provided by the `QuadGK` package, for univariate integrals, and the `HCubature` package for higher dimensional integrals.\n\n> Integrals of univariate functions\n\nA definite integral may be computed numerically using `quadgk`"
      ],
      "metadata": {}
    },
    {
      "outputs": [],
      "cell_type": "code",
      "source": [
        "using QuadGK\nquadgk(sin, 0, pi)"
      ],
      "metadata": {},
      "execution_count": null
    },
    {
      "cell_type": "markdown",
      "source": [
        "The answer and an estimate for the worst case error is returned.\n\nIf singularities are avoided, improper integrals are computed as well:"
      ],
      "metadata": {}
    },
    {
      "outputs": [],
      "cell_type": "code",
      "source": [
        "quadgk(x->1/x^(1/2), 0, 1)"
      ],
      "metadata": {},
      "execution_count": null
    },
    {
      "cell_type": "markdown",
      "source": [
        "-----\n\nSymPy provides the `integrate` function to compute both definite and indefinite integrals."
      ],
      "metadata": {}
    },
    {
      "outputs": [],
      "cell_type": "code",
      "source": [
        "@vars a x real=true\nintegrate(exp(a*x)*sin(x), x)"
      ],
      "metadata": {},
      "execution_count": null
    },
    {
      "cell_type": "markdown",
      "source": [
        "Like `diff` the variable to integrate is specified.\n\nDefinite integrals use a tuple, `(variable, a, b)`, to specify the variable and range to integrate over:"
      ],
      "metadata": {}
    },
    {
      "outputs": [],
      "cell_type": "code",
      "source": [
        "integrate(sin(a + x), (x, 0, PI))   #  ∫_0^PI sin(a+x) dx"
      ],
      "metadata": {},
      "execution_count": null
    },
    {
      "cell_type": "markdown",
      "source": [
        "> 2D and 3D iterated integrals\n\nTwo and three dimensional integrals over box-like regions are computed numerically with the `hcubature` function from the `HCubature` package. If the box is $[x_1, y_1]\\times[x_2,y_2]\\times\\cdots\\times[x_n,y_n]$ then the limits are specified through tuples of the form $(x_1,x_2,\\dots,x_n)$ and $(y_1,y_2,\\dots,y_n)$."
      ],
      "metadata": {}
    },
    {
      "outputs": [],
      "cell_type": "code",
      "source": [
        "f(x,y) = x*y^2\nf(v) = f(v...)\nhcubature(f, (0,0), (1, 2))  # computes ∫₀¹∫₀² f(x,y) dy dx"
      ],
      "metadata": {},
      "execution_count": null
    },
    {
      "cell_type": "markdown",
      "source": [
        "The calling pattern for more dimensions is identical."
      ],
      "metadata": {}
    },
    {
      "outputs": [],
      "cell_type": "code",
      "source": [
        "f(x,y,z) = x*y^2*z^3\nf(v) = f(v...)\nhcubature(f, (0,0,0), (1, 2,3)) # computes ∫₀¹∫₀²∫₀³ f(x,y,z) dz dy dx"
      ],
      "metadata": {},
      "execution_count": null
    },
    {
      "cell_type": "markdown",
      "source": [
        "The box-like region requirement means a change of variables may be necessary. For example, to integrate over the region $x^2 + y^2 \\leq 1; x \\geq 0$, polar coordinates can be used with $(r,\\theta)$ in $[0,1]\\times[-\\pi/2,\\pi/2]$. When changing variables, the Jacobian enters into the formula, through\n\n$$~\n\\iint_{G(S)} f(\\vec{x}) dV = \\iint_S (f \\circ G)(\\vec{u}) |\\det(J_G)(\\vec{u})| dU.\n~$$\n\nHere we implement this:"
      ],
      "metadata": {}
    },
    {
      "outputs": [],
      "cell_type": "code",
      "source": [
        "f(x,y) = x*y^2\nf(v) = f(v...)\nPhi(r, theta) = r * [cos(theta), sin(theta)]\nPhi(rtheta) = Phi(rtheta...)\nintegrand(rtheta) = f(Phi(rtheta)) * det(ForwardDiff.jacobian(Phi, rtheta))\nhcubature(integrand, (0.0,-pi/2), (1.0, pi/2))"
      ],
      "metadata": {},
      "execution_count": null
    },
    {
      "cell_type": "markdown",
      "source": [
        "In `CalculusWithJulia` a `fubini` function is provided to compute numeric integrals over regions which can be described by curves represented by functions. E.g., for this problem:"
      ],
      "metadata": {}
    },
    {
      "outputs": [],
      "cell_type": "code",
      "source": [
        "fubini(f, (x -> -sqrt(1-x^2), x -> sqrt(1-x^2)), (0, 1))"
      ],
      "metadata": {},
      "execution_count": null
    },
    {
      "cell_type": "markdown",
      "source": [
        "This function is for convenience, but is not performant.\n\n\n----\n\nSymbolically, the `integrate` function allows additional terms to be specified. For example, the above could be done through:"
      ],
      "metadata": {}
    },
    {
      "outputs": [],
      "cell_type": "code",
      "source": [
        "@vars x y real=true\nintegrate(x * y^2, (y, -sqrt(1-x^2), sqrt(1-x^2)), (x, 0, 1))"
      ],
      "metadata": {},
      "execution_count": null
    },
    {
      "cell_type": "markdown",
      "source": [
        "> Line integrals\n\nA line integral of $f$ parameterized by $\\vec{r}(t)$ is computed by:\n\n$$~\n\\int_a^b (f\\circ\\vec{r})(t) \\| \\frac{dr}{dt}\\| dt.\n~$$\n\nFor example, if $f(x,y) = 2 - x^2 - y^2$ and $r(t) = 1/t \\langle \\cos(t), \\sin(t) \\rangle$, then the line integral over $[1,2]$ is given by:"
      ],
      "metadata": {}
    },
    {
      "outputs": [],
      "cell_type": "code",
      "source": [
        "f(x,y) = 2 - x^2 - y^2\nf(v) = f(v...)\nr(t) = [cos(t), sin(t)]/t\nintegrand(t) = (f∘r)(t) * norm(r'(t))\nquadgk(integrand, 1, 2)"
      ],
      "metadata": {},
      "execution_count": null
    },
    {
      "cell_type": "markdown",
      "source": [
        "To integrate a line integral through a vector field, say $\\int_C F \\cdot\\hat{T} ds=\\int_C F\\cdot \\vec{r}'(t) dt$ we have, for example,"
      ],
      "metadata": {}
    },
    {
      "outputs": [],
      "cell_type": "code",
      "source": [
        "F(x,y) = [-y, x]\nF(v) = F(v...)\nr(t) =  [cos(t), sin(t)]/t\nintegrand(t) = (F∘r)(t) ⋅ r'(t)\nquadgk(integrand, 1, 2)"
      ],
      "metadata": {},
      "execution_count": null
    },
    {
      "cell_type": "markdown",
      "source": [
        "----\n\nSymbolically, there is no real difference from a 1-dimensional integral. Let $\\phi = 1/\\|r\\|$ and integrate the gradient field over one turn of the helix $\\vec{r}(t) = \\langle \\cos(t), \\sin(t), t\\rangle$."
      ],
      "metadata": {}
    },
    {
      "outputs": [],
      "cell_type": "code",
      "source": [
        "@vars x y z t real=true\nphi(x,y,z) = 1/sqrt(x^2 + y^2 + z^2)\nr(t) = [cos(t), sin(t), t]\n∇phi = diff.(phi(x,y,z), [x,y,z])\n∇phi_r = subs.(∇phi, x.=> r(t)[1], y.=>r(t)[2], z.=>r(t)[3])\nrp = diff.(r(t), t)\nex = simplify(∇phi_r ⋅ rp )"
      ],
      "metadata": {},
      "execution_count": null
    },
    {
      "cell_type": "markdown",
      "source": [
        "Then"
      ],
      "metadata": {}
    },
    {
      "outputs": [],
      "cell_type": "code",
      "source": [
        "integrate(ex, (t, 0, 2PI))"
      ],
      "metadata": {},
      "execution_count": null
    },
    {
      "cell_type": "markdown",
      "source": [
        "> Surface integrals\n\n\nThe surface integral for a parameterized surface involves a surface element $\\|\\partial\\Phi/\\partial{u} \\times \\partial\\Phi/\\partial{v}\\|$. This can be computed numerically with:"
      ],
      "metadata": {}
    },
    {
      "outputs": [],
      "cell_type": "code",
      "source": [
        "Phi(u,v) = [u*cos(v), u*sin(v), u]\nPhi(v) = Phi(v...)\n\nfunction SE(Phi, pt)\n   J = ForwardDiff.jacobian(Phi, pt)\n   J[:,1] × J[:,2]\nend\n\nnorm(SE(Phi, [1,2]))"
      ],
      "metadata": {},
      "execution_count": null
    },
    {
      "cell_type": "markdown",
      "source": [
        "To find the surface integral ($f=1$) for this surface over $[0,1] \\times [0,2\\pi]$, we have:"
      ],
      "metadata": {}
    },
    {
      "outputs": [],
      "cell_type": "code",
      "source": [
        "hcubature(pt -> norm(SE(Phi, pt)), (0.0,0.0), (1.0, 2pi))"
      ],
      "metadata": {},
      "execution_count": null
    },
    {
      "cell_type": "markdown",
      "source": [
        "Symbolically, the approach is similar:"
      ],
      "metadata": {}
    },
    {
      "outputs": [],
      "cell_type": "code",
      "source": [
        "@vars u v real=true\nex = Phi(u,v)\nJ = ex.jacobian([u,v])\nSurfEl = norm(J[:,1] × J[:,2]) |> simplify"
      ],
      "metadata": {},
      "execution_count": null
    },
    {
      "cell_type": "markdown",
      "source": [
        "Then"
      ],
      "metadata": {}
    },
    {
      "outputs": [],
      "cell_type": "code",
      "source": [
        "integrate(SurfEl, (u, 0, 1), (v, 0, 2PI))"
      ],
      "metadata": {},
      "execution_count": null
    },
    {
      "cell_type": "markdown",
      "source": [
        "Integrating a vector field over the surface, would be similar:"
      ],
      "metadata": {}
    },
    {
      "outputs": [],
      "cell_type": "code",
      "source": [
        "F(x,y,z) = [x, y, z]\nex = F(Phi(u,v)...)  ⋅ (J[:,1] × J[:,2])\nintegrate(ex, (u,0,1), (v, 0, 2PI))"
      ],
      "metadata": {},
      "execution_count": null
    }
  ],
  "nbformat_minor": 2,
  "metadata": {
    "language_info": {
      "file_extension": ".jl",
      "mimetype": "application/julia",
      "name": "julia",
      "version": "1.5.0"
    },
    "kernelspec": {
      "name": "julia-1.5",
      "display_name": "Julia 1.5.0",
      "language": "julia"
    }
  },
  "nbformat": 4
}
