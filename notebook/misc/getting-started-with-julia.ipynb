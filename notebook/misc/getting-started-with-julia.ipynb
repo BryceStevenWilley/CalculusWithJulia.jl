{
  "cells": [
    {
      "cell_type": "markdown",
      "source": [
        "# Getting started with Julia"
      ],
      "metadata": {}
    },
    {
      "outputs": [],
      "cell_type": "code",
      "source": [
        "using CalculusWithJulia\nusing CalculusWithJulia.WeaveSupport\nusing Plots\nnothing"
      ],
      "metadata": {},
      "execution_count": null
    },
    {
      "cell_type": "markdown",
      "source": [
        "Julia is a freely available, open-source programming language aimed at technical computing.\n\nAs it is open source, indeed with a liberal MIT license, it can be\ninstalled for free on many types of computers (though not phones or\ntablets).\n\n[lauch binder](https://mybinder.org/v2/gh/CalculusWithJulia/CwJScratchPad.git/master)\n\nWe recommend taking advantage of [Binder](https://mybinder.org), which\nprovides a web-based interface to `Julia` built around `Jupyter`, a\nwildly succesful platform for interacting with different open-source\nsoftware programs. Clicking the launch button above will open a web\npage which provides a blank notebook, save for a package used by these\nnotes.\n\n[COCALC](https://cocalc.com/) offers free access to Julia through the\nweb. The free version can be slow due to limits on the resources used,\nbut the monthly price for paid version is modest and the performance\nis quite reasonable.\n\n### Installing Julia locally\n\nBinder is great and convenient, but it may not be the\nbest option. Fortunately, installing `Julia` is a not-so-difficult\noption.\n\n\nBinaries of `Julia` are provided at\n[julialang.org](http://julialang.org/downloads/). Julia has an\nofficial released version and a developmental version. Unless there is\na compelling reason, the latest released version should be downloaded\nand installed for use.\n\nThe base `Julia` provides a *command-line interface*, or REPL\n(read-evaluate-parse).\n\n### Basic interactive usage\n\nOnce installed, `Julia` can be started by clicking on an icon or\ntyping `julia` at the command line. Either will open a *command line\ninterface* for a user to interact with a `Julia` process. The basic\nworkflow is easy: commands are typed then sent to a `Julia` process\nwhen the \"return\" key is pressed for a complete expression. Then the\noutput is displayed.\n\n\nA command is typed following the *prompt*. An example might be `2 + 2`. To send the command to the `Julia` interpreter the \"return\" key is pressed. A complete expression or expressions will then be parsed and evaluated (executed). If the expression is not complete, `julia`'s prompt will still accept input to complete the expression. Type `2 +` to see. (The expression `2 +` is not complete, as the infix operator `+` expects two arguments, one on its left and one on its right.)"
      ],
      "metadata": {}
    },
    {
      "outputs": [],
      "cell_type": "code",
      "source": [
        "_\n   _       _ _(_)_     |  Documentation: https://docs.julialang.org\n  (_)     | (_) (_)    |\n   _ _   _| |_  __ _   |  Type \"?\" for help, \"]?\" for Pkg help.\n  | | | | | | |/ _` |  |\n  | | |_| | | | (_| |  |  Version 1.0.0 (2018-08-08)\n _/ |\\__'_|_|_|\\__'_|  |  Official https://julialang.org/ release\n|__/                   |\n\njulia> 2 + 2\n4"
      ],
      "metadata": {},
      "execution_count": null
    },
    {
      "cell_type": "markdown",
      "source": [
        "Above, `julia>` is the prompt.  These notes will not include the\nprompt, so that copying-and-pasting can be more easily used. Input and\noutput cells display similarly, though with differences in\ncoloring. For example:"
      ],
      "metadata": {}
    },
    {
      "outputs": [],
      "cell_type": "code",
      "source": [
        "2 + 2"
      ],
      "metadata": {},
      "execution_count": null
    },
    {
      "cell_type": "markdown",
      "source": [
        "Other interfaces to `Julia` are described briefly in  [Julia interfaces](./julia_interfaces.html). The notebook interface provided through `IJulia` most closely matches the style of the notes.\n\n\n\n## Add-on packages\n\n`Julia` has well over a 1000 external, add-on packages that enhance the\nofferings of base `Julia`. We refer to one, `CalculusWithJulia`, that is designed to accompany these notes. This package installs several other packages that provide the needed functionality. The package (and its dependencies) can be installed through:"
      ],
      "metadata": {}
    },
    {
      "outputs": [],
      "cell_type": "code",
      "source": [
        "using Pkg\nPkg.add(\"CalculusWithJulia\")"
      ],
      "metadata": {},
      "execution_count": null
    },
    {
      "cell_type": "markdown",
      "source": [
        "(Or the one liner `] add CalculusWithJulia`. Some additional details on packages is provided [here](./calculus_with_julia.html).)\n\nInstallation only needs to be done once, but to use a package it must be loaded into each new session. This can be done with this command:"
      ],
      "metadata": {}
    },
    {
      "outputs": [],
      "cell_type": "code",
      "source": [
        "using CalculusWithJulia"
      ],
      "metadata": {},
      "execution_count": null
    },
    {
      "cell_type": "markdown",
      "source": [
        "## The basics of working with IJulia\n\nThe **very** basics of the Jupyter notebook interface provided by `IJulia` are covered here.\n\nAn `IJulia` notebook is made up of cells. Within a cell a collection of commands may be typed (one or more).\n\nWhen a cell is executed (by the triangle icon or under the Cell menu) the contents of the cell are evaluated by the `Julia` kernel and any output is displayed below the cell. Typically this is just the output of the last command."
      ],
      "metadata": {}
    },
    {
      "outputs": [],
      "cell_type": "code",
      "source": [
        "2 + 2\n3 + 3"
      ],
      "metadata": {},
      "execution_count": null
    },
    {
      "cell_type": "markdown",
      "source": [
        "If the last commands are separated by commas, then a \"tuple\" will be formed and each output will be displayed, separated by commas."
      ],
      "metadata": {}
    },
    {
      "outputs": [],
      "cell_type": "code",
      "source": [
        "2 + 2, 3 + 3"
      ],
      "metadata": {},
      "execution_count": null
    },
    {
      "cell_type": "markdown",
      "source": [
        "Comments can be made in a cell. Anything after a `#` will be ignored."
      ],
      "metadata": {}
    },
    {
      "outputs": [],
      "cell_type": "code",
      "source": [
        "2 + 2  # this is a comment, you can ignore me..."
      ],
      "metadata": {},
      "execution_count": null
    },
    {
      "cell_type": "markdown",
      "source": [
        "Graphics are provided by external packages. There is no built-in\ngraphing. We use the `Plots` package and its default backend. The\n`Plots` package provides a common interface to several different\nbackends, so this choice is easily changed. The `GR` and\n`plotly` backends are used in these notes, when possible; the `PyPlot` backend is used for some surface plots."
      ],
      "metadata": {}
    },
    {
      "outputs": [],
      "cell_type": "code",
      "source": [
        "using CalculusWithJulia\nusing Plots"
      ],
      "metadata": {},
      "execution_count": null
    },
    {
      "cell_type": "markdown",
      "source": [
        "With that in hand, to make a graph of a function over a range, we follow this pattern:"
      ],
      "metadata": {}
    },
    {
      "outputs": [],
      "cell_type": "code",
      "source": [
        "plot(sin, 0, 2pi)"
      ],
      "metadata": {},
      "execution_count": null
    },
    {
      "cell_type": "markdown",
      "source": [
        "A few things:\n\n* Cells are numbered in the order they were evaluated.\n\n* This order need not be from top to bottom of the notebook.\n\n* The evaluation of a cell happens within the state of the workspace,\n  which depends on what was evaluated earlier.\n\n* The workspace can be cleared by the \"Restart\" menu item under\n  \"Kernel\". After restarting the \"Run All\" menu item under \"Cell\" can\n  be used to re-run all the commands in the notebook - from top to bottom. \"Run all\" will also\n  reload any packages."
      ],
      "metadata": {}
    }
  ],
  "nbformat_minor": 2,
  "metadata": {
    "language_info": {
      "file_extension": ".jl",
      "mimetype": "application/julia",
      "name": "julia",
      "version": "1.5.0"
    },
    "kernelspec": {
      "name": "julia-1.5",
      "display_name": "Julia 1.5.0",
      "language": "julia"
    }
  },
  "nbformat": 4
}
