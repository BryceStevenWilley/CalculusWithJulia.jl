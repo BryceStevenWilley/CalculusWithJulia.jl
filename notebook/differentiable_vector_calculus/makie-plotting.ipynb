{
  "cells": [
    {
      "cell_type": "markdown",
      "source": [
        "# Calculus plots with Makie"
      ],
      "metadata": {}
    },
    {
      "outputs": [],
      "cell_type": "code",
      "source": [
        "using CalculusWithJulia\nusing CalculusWithJulia.WeaveSupport\nusing AbstractPlotting\nnothing"
      ],
      "metadata": {},
      "execution_count": null
    },
    {
      "cell_type": "markdown",
      "source": [
        "The [Makie.jl webpage](https://github.com/JuliaPlots/Makie.jl) says\n\n> From the Jpanese word Maki-e, which is a technique to sprinkle lacquer with gold and silver powder. Data is basically the gold and silver of our age, so let's spread it out beautifully on the screen!\n\n`Makie` itself is a metapackage for a rich ecosystem. We show how to\nuse the interface provided by `AbstractPlotting` and the `GLMakie`\nbackend to produce the familiar graphics of calculus.  We do not\ndiscuss the `MakieLayout` package which provides a means to layout\nmultiple graphics and add widgets, such as sliders and buttons, to a\nlayout. We do not discuss `MakieRecipes`. For `Plots`, there are\n\"recipes\" that make some of the plots more straightforward.  We do not\ndiscuss the\n[`AlgebraOfGraphics`](https://github.com/JuliaPlots/AlgebraOfGraphics.jl)\nwhich presents an interface for the familiar graphics of statistics. The [`MakieGallery`](https://github.com/JuliaPlots/MakieGallery.jl) shows many exmaples of the use of `Makie`.\n\n\n## Scenes\n\nMakie draws graphics onto a canvas termed a \"scene\" in the Makie documentation. There are `GLMakie`, `WGLMakie`, and `CairoMakie` backends for different types of canvases. In the following, we have used `GLMakie`. `WGLMakie` is useful for incorporating `Makie` plots into web-based technologies.\n\nWe begin by loading our two packages:"
      ],
      "metadata": {}
    },
    {
      "outputs": [],
      "cell_type": "code",
      "source": [
        "using AbstractPlotting\nusing GLMakie\n#using WGLMakie; WGLMakie.activate!()\n#AbstractPlotting.set_theme!(scale_figure=false, resolution = (480, 400))"
      ],
      "metadata": {},
      "execution_count": null
    },
    {
      "cell_type": "markdown",
      "source": [
        "The `Makie` developers have workarounds for the delayed time to first plot, but without utilizing these the time to load the package is lengthy.\n\n\n\nA scene is produced with `Scene()` or through a plotting primitive:"
      ],
      "metadata": {}
    },
    {
      "outputs": [],
      "cell_type": "code",
      "source": [
        "scene = Scene()"
      ],
      "metadata": {},
      "execution_count": null
    },
    {
      "cell_type": "markdown",
      "source": [
        "We see next how to move beyond the blank canvas.\n\n## Points (`scatter`)\n\nThe task of plotting the points, say $(1,2)$, $(2,3)$, $(3,2)$ can be done different ways. Most plotting packages, and `Makie` is no exception, allow the following: form vectors of the $x$ and $y$ values then plot those with `scatter`:"
      ],
      "metadata": {}
    },
    {
      "outputs": [],
      "cell_type": "code",
      "source": [
        "xs = [1,2,3]\nys = [2,3,2]\nscatter(xs, ys)"
      ],
      "metadata": {},
      "execution_count": null
    },
    {
      "cell_type": "markdown",
      "source": [
        "The `scatter` function creates and returns a `Scene` object, which when displayed shows the plot.\n\nThe more generic `plot` function can also be used for this task.\n\n\n### `Point2`, `Point3`\n\nWhen learning about points on the Cartesian plane, a \"`t`\"-chart is often produced:\n\n```\nx | y\n-----\n1 | 2\n2 | 3\n3 | 2\n```\n\nThe `scatter` usage above used the columns. The rows are associated with the points, and these too can be used to produce the same graphic.\nRather than make vectors of $x$ and $y$ (and optionally $z$) coordinates, it is more idiomatic to create a vector of \"points.\" `Makie` utilizes a `Point` type to store a 2 or 3 dimensional point. The `Point2` and `Point3` constructors will be utilized. \n\n`Makie` uses a GPU, when present, to accelerate the graphic rendering. GPUs employ 32-bit numbers. Julia uses an `f0` to indicate 32-bit floating points. Hence the alternate types `Point2f0` to store 2D points as 32-bit numbers and `Points3f0` to store 3D points as 32-bit numbers are seen in the documentation for Makie.\n\n\nWe can plot vector of points in as direct manner as vectors of their coordinates:"
      ],
      "metadata": {}
    },
    {
      "outputs": [],
      "cell_type": "code",
      "source": [
        "pts = [Point2(1,2), Point2(2,3), Point2(3,2)]\nscatter(pts)"
      ],
      "metadata": {},
      "execution_count": null
    },
    {
      "cell_type": "markdown",
      "source": [
        "A typical usage is to generate points from some vector-valued\nfunction. Say we have a parameterized function `r` taking $R$ into\n$R^2$ defined by:"
      ],
      "metadata": {}
    },
    {
      "outputs": [],
      "cell_type": "code",
      "source": [
        "r(t) = [sin(t), cos(t)]"
      ],
      "metadata": {},
      "execution_count": null
    },
    {
      "cell_type": "markdown",
      "source": [
        "Then broadcasting values gives a vector of vectors, each identified with a point:"
      ],
      "metadata": {}
    },
    {
      "outputs": [],
      "cell_type": "code",
      "source": [
        "ts = [1,2,3]\nr.(ts)"
      ],
      "metadata": {},
      "execution_count": null
    },
    {
      "cell_type": "markdown",
      "source": [
        "We can broadcast `Point2` over this to create a vector of `Point` objects:"
      ],
      "metadata": {}
    },
    {
      "outputs": [],
      "cell_type": "code",
      "source": [
        "pts = Point2.(r.(ts))"
      ],
      "metadata": {},
      "execution_count": null
    },
    {
      "cell_type": "markdown",
      "source": [
        "These then can be plotted directly:"
      ],
      "metadata": {}
    },
    {
      "outputs": [],
      "cell_type": "code",
      "source": [
        "scatter(pts)"
      ],
      "metadata": {},
      "execution_count": null
    },
    {
      "cell_type": "markdown",
      "source": [
        "The ploting of points in three dimesions is essentially the same, save the use of `Point3` instead of `Point2`."
      ],
      "metadata": {}
    },
    {
      "outputs": [],
      "cell_type": "code",
      "source": [
        "r(t) = [sin(t), cos(t), t]\nts = range(0, 4pi, length=100)\npts = Point3.(r.(ts))\nscatter(pts)"
      ],
      "metadata": {},
      "execution_count": null
    },
    {
      "cell_type": "markdown",
      "source": [
        "----\n\nTo plot points generated in terms of vectors of coordinates, the\ncomponent vectors must be created.  The \"`t`\"-table shows how, simply\nloop over each column and add the corresponding $x$ or $y$ (or $z$)\nvalue.  This utility function does exactly that, returning the vectors\nin a tuple."
      ],
      "metadata": {}
    },
    {
      "outputs": [],
      "cell_type": "code",
      "source": [
        "unzip(vs) = Tuple([vs[j][i] for j in eachindex(vs)] for i in eachindex(vs[1]))"
      ],
      "metadata": {},
      "execution_count": null
    },
    {
      "cell_type": "markdown",
      "source": [
        "(The functionality is essentially a reverse of the `zip` function, hence the name.)\n\nWe might have then:"
      ],
      "metadata": {}
    },
    {
      "outputs": [],
      "cell_type": "code",
      "source": [
        "scatter(unzip(r.(ts))...)"
      ],
      "metadata": {},
      "execution_count": null
    },
    {
      "cell_type": "markdown",
      "source": [
        "where splatting is used to specify the `xs`, `ys`, and `zs` to `scatter`.\n\n(Compare to `scatter(Point3.(r.(ts)))` or `scatter(Point3∘r).(ts))`.)\n\n### Attributes\n\nA point is drawn with a \"marker\" with a certain size and color. These attributes can be adjusted, as in the following:"
      ],
      "metadata": {}
    },
    {
      "outputs": [],
      "cell_type": "code",
      "source": [
        "scatter(xs, ys, marker=[:x,:cross, :circle], markersize=25, color=:blue)"
      ],
      "metadata": {},
      "execution_count": null
    },
    {
      "cell_type": "markdown",
      "source": [
        "Marker attributes include\n\n* `marker` a symbol, shape. A single value will be repeated. A vector of values of a matching size will specify a marker for each point.\n* `marker_offset` offset coordinates\n* `markersize` size (radius pixels) of marker\n\n\n### Text (`text`)\n\nText can be placed at a point, as a marker is. To place text the desired text and a position need to be specified.\n\nFor example:"
      ],
      "metadata": {}
    },
    {
      "outputs": [],
      "cell_type": "code",
      "source": [
        "pts = Point2.(1:5, 1:5)\nscene = scatter(pts)\n[text!(scene, \"text\", position=pt, textsize=1/i, rotation=2pi/i) for (i,pt) in enumerate(pts)]\nscene"
      ],
      "metadata": {},
      "execution_count": null
    },
    {
      "cell_type": "markdown",
      "source": [
        "The graphic shows that `position` positions the text, `textsize` adjusts the displayed size, and `rotation` adjusts the orientation.\n\nAttributes for `text` include:\n\n* `position` to indicate the position. Either a `Point` object, as above, or a tuple\n* `align` Specify the text alignment through `(:pos, :pos)`, where `:pos` can be `:left`, `:center`, or `:right`.\n* `rotation` to indicate how the text is to be rotated\n* `textsize` the font point size for the text\n* `font` to indicate the desired font\n\n\n## Curves\n\n### Plots of univariate functions\n\nThe basic plot of univariate calculus is the graph of a function $f$ over an interval $[a,b]$. This is implemented using a familiar strategy: produce a series of representative values between $a$ and $b$; produce the corresponding $f(x)$ values; plot these as points and connect the points with straight lines. The `lines` function of `AbstractPlotting` will do the last step.\n\nBy taking a sufficient number of points within $[a,b]$ the connect-the-dot figure will appear curved, when the function is.\n\nTo create regular values between `a` and `b` either the `range` function, the related `LinRange` function, or the range operator (`a:h:b`) are employed.\n\n\nFor example:"
      ],
      "metadata": {}
    },
    {
      "outputs": [],
      "cell_type": "code",
      "source": [
        "f(x) = sin(x)\na, b = 0, 2pi\nxs = range(a, b, length=250)\nlines(xs, f.(xs))"
      ],
      "metadata": {},
      "execution_count": null
    },
    {
      "cell_type": "markdown",
      "source": [
        "Or"
      ],
      "metadata": {}
    },
    {
      "outputs": [],
      "cell_type": "code",
      "source": [
        "f(x) = cos(x)\na, b = -pi, pi\nxs = a:pi/100:b\nlines(xs, f.(xs))"
      ],
      "metadata": {},
      "execution_count": null
    },
    {
      "cell_type": "markdown",
      "source": [
        "As with `scatter`, `lines` returns a `Scene` object that produces a graphic when displayed.\n\nAs with `scatter`, `lines` can can also be drawn using a vector of points:\n\n```juila\nlines([Point2(x, fx) for (x,fx) in zip(xs, f.(xs))])\n```\n\n(Though the advantage isn't clear here, this will be useful when the points are more naturally generated.)\n\n\nWhen a `y` value is `NaN` or infinite, the connecting lines are not drawn:\n\n\n```\nxs = 1:5\nys = [1,2,NaN, 4, 5]\nlines(xs, ys)\n```\n\nAs with other plotting packages, this is useful to represent discontinuous functions, such as what occurs at a vertical asymptote.\n\n#### Adding to a scene (`lines!`, `scatter!`, ...)\n\nTo *add* or *modify* a scene can be done using a mutating version of a plotting primitive, such as `lines!` or `scatter!`. The names follow `Julia`'s convention of using an `!` to indicate that a function modifies an argument, in this case the scene.\n\nHere is one way to show two plots at once:"
      ],
      "metadata": {}
    },
    {
      "outputs": [],
      "cell_type": "code",
      "source": [
        "xs = range(0, 2pi, length=100)\nscene = lines(xs, sin.(xs))\nlines!(scene, xs, cos.(xs))"
      ],
      "metadata": {},
      "execution_count": null
    },
    {
      "cell_type": "markdown",
      "source": [
        "We will see soon how to modify the line attributes so that the curves can be distinguished.\n\nThe following shows the construction details in the graphic, and that  the initial scene argument is implicitly assumed:"
      ],
      "metadata": {}
    },
    {
      "outputs": [],
      "cell_type": "code",
      "source": [
        "xs = range(0, 2pi, length=10)\nlines(xs, sin.(xs))\nscatter!(xs, sin.(xs), markersize=10)"
      ],
      "metadata": {},
      "execution_count": null
    },
    {
      "cell_type": "markdown",
      "source": [
        "----\n\nThe current scene will have data limits that can be of interest. The following indicates how they can be manipulated to get the limits of the displayed `x` values."
      ],
      "metadata": {}
    },
    {
      "outputs": [],
      "cell_type": "code",
      "source": [
        "xs = range(0, 2pi, length=200)\nscene = plot(xs, sin.(xs))\nrect = scene.data_limits[] # get limits for g from f\na, b = rect.origin[1],  rect.origin[1] + rect.widths[1]"
      ],
      "metadata": {},
      "execution_count": null
    },
    {
      "cell_type": "markdown",
      "source": [
        "In the output it can be discerned that the values are 32-bit floating point numbers *and* yield a  slightly larger interval than specified in `xs`.\n\n\nAs an example, this shows how to add the tangent line to a graph. The slope of the tangent line being computed by `ForwardDiff.derivative`."
      ],
      "metadata": {}
    },
    {
      "outputs": [],
      "cell_type": "code",
      "source": [
        "using ForwardDiff\nf(x) = x^x\na, b= 0, 2\nc = 0.5\nxs = range(a, b, length=200)\n\ntl(x) = f(c) + ForwardDiff.derivative(f, c) * (x-c)\n\nscene = lines(xs, f.(xs))\nlines!(scene, xs, tl.(xs), color=:blue)"
      ],
      "metadata": {},
      "execution_count": null
    },
    {
      "cell_type": "markdown",
      "source": [
        "#### Attributes\n\nIn the last example, we added the argument `color=:blue` to the `lines!` call. This set an attribute for the line being drawn. Lines have other attributes that allow different ones to be distinguished, as above where colors indicate the different graphs.\n\nOther attributes can be seen from the help page for `lines`, and include:\n\n* `color` set with a symbol, as above, or a string\n* `linestyle` available styles are set by a symbol, one of `:dash`, `:dot`, `:dashdot`, or `:dashdotdot`.\n* `linewidth` width of line\n* `transparency` the `alpha` value, a number between $0$ and $1$, smaller numbers for more transparent.\n\nA legend can also be used to help identify different curves on the same graphic, though this is not illustrated. There are examples in the Makie gallery.\n\n#### Scene attributes\n\nAttributes of the scene include any titles and labels, the limits that define the coordinates being displayed, the presentation of tick marks, etc.\n\n\nThe `title` function can be used to add a title to a scene. The calling syntax is `title(scene, text)`.\n\nTo set the labels of the graph, there are \"shorthand\" functions `xlabel!`, `ylabel!`, and `zlabel!`. The calling pattern would follow `xlabel!(scene, \"x-axis\")`.\n\n\n\nThe plotting ticks and their labels are returned by the unexported functions `tickranges` and `ticklabels`. The unexported `xtickrange`, `ytickrange`, and `ztickrange`; and `xticklabels`, `yticklabels`, and `zticklabels` return these for the indicated axes.\n\nThese can be dynamically adjusted using `xticks!`, `yticks!`, or `zticks!`."
      ],
      "metadata": {}
    },
    {
      "outputs": [],
      "cell_type": "code",
      "source": [
        "pts = [Point2(1,2), Point2(2,3), Point2(3,2)]\nscene = scatter(pts)\ntitle(scene, \"3 points\")\nylabel!(scene, \"y values\")\nxticks!(scene, xtickrange=[1,2,3], xticklabels=[\"a\", \"b\", \"c\"])"
      ],
      "metadata": {},
      "execution_count": null
    },
    {
      "cell_type": "markdown",
      "source": [
        "To set the limits of the graph there are shorthand functions `xlims!`, `ylims!`, and `zlims!`. This might prove useful if vertical asymptotes are encountered, as in this example:"
      ],
      "metadata": {}
    },
    {
      "outputs": [],
      "cell_type": "code",
      "source": [
        "f(x) = 1/x\na,b = -1, 1\nxs = range(-1, 1, length=200)\nscene = lines(xs, f.(xs))\nylims!(scene, (-10, 10))\ncenter!(scene)"
      ],
      "metadata": {},
      "execution_count": null
    },
    {
      "cell_type": "markdown",
      "source": [
        "### Plots of parametric functions\n\nA space curve is a plot of a function $f:R^2 \\rightarrow R$ or $f:R^3 \\rightarrow R$. \n\nTo construct a curve from a set of points, we have a similar pattern in both $2$ and $3$ dimensions:"
      ],
      "metadata": {}
    },
    {
      "outputs": [],
      "cell_type": "code",
      "source": [
        "r(t) = [sin(2t), cos(3t)]\nts = range(0, 2pi, length=200)\npts = Point2.(r.(ts))  # or (Point2∘r).(ts)\nlines(pts)"
      ],
      "metadata": {},
      "execution_count": null
    },
    {
      "cell_type": "markdown",
      "source": [
        "Or"
      ],
      "metadata": {}
    },
    {
      "outputs": [],
      "cell_type": "code",
      "source": [
        "r(t) = [sin(2t), cos(3t), t]\nts = range(0, 2pi, length=200)\npts = Point3.(r.(ts))\nlines(pts)"
      ],
      "metadata": {},
      "execution_count": null
    },
    {
      "cell_type": "markdown",
      "source": [
        "Alternatively, vectors of the $x$, $y$, and $z$ components can be produced and then plotted using the pattern `lines(xs, ys)` or `lines(xs, ys, zs)`. For example, using `unzip`, as above, we might have done the prior example with:"
      ],
      "metadata": {}
    },
    {
      "outputs": [],
      "cell_type": "code",
      "source": [
        "xs, ys, zs = unzip(r.(ts))\nlines(xs, ys, zs)"
      ],
      "metadata": {},
      "execution_count": null
    },
    {
      "cell_type": "markdown",
      "source": [
        "#### Tangent vectors (`arrows`)\n\nA tangent vector along a curve can be drawn quite easily using the `arrows` function. There are different interfaces for `arrows`, but we show the one which uses a vector of positions and a vector of \"vectors\". For the latter, we utilize the `derivative` function from `ForwardDiff`:"
      ],
      "metadata": {}
    },
    {
      "outputs": [],
      "cell_type": "code",
      "source": [
        "using ForwardDiff\nr(t) = [sin(t), cos(t)] # vector, not tuple\nts = range(0, 4pi, length=200)\nscene = Scene()\nlines!(scene, Point2.(r.(ts)))\n\nnts = 0:pi/4:2pi\nus = r.(nts)\ndus = ForwardDiff.derivative.(r, nts)\n\narrows!(scene, Point2.(us), Point2.(dus))"
      ],
      "metadata": {},
      "execution_count": null
    },
    {
      "cell_type": "markdown",
      "source": [
        "In 3 dimensions the differences are minor:"
      ],
      "metadata": {}
    },
    {
      "outputs": [],
      "cell_type": "code",
      "source": [
        "r(t) = [sin(t), cos(t), t] # vector, not tuple\nts = range(0, 4pi, length=200)\nscene = Scene()\nlines!(scene, Point3.(r.(ts)))\n\nnts = pi:pi/4:3pi\nus = r.(nts)\ndus = ForwardDiff.derivative.(r, nts)\n\narrows!(scene, Point3.(us), Point3.(dus))"
      ],
      "metadata": {},
      "execution_count": null
    },
    {
      "cell_type": "markdown",
      "source": [
        "##### Attributes\n\nAttributes for `arrows` include\n\n* `arrowsize` to adjust the size\n* `lengthscale` to scale the size\n* `arrowcolor` to set the color\n* `arrowhead` to adjust the head\n* `arrowtail` to adjust the tail\n\n### Implicit equations (2D)\n\nThe graph of an equation is the collection of all $(x,y)$ values satisfying the equation. This is more general than the graph of a function, which can be viewed as the graph of the equation $y=f(x)$. An equation in $x$-$y$ can be graphed if the set of solutions to a related equation $f(x,y)=0$ can be identified, as one can move all terms to one side of an equation and define $f$ as the rule of the side with the terms.\n\nThe [MDBM](https://github.com/bachrathyd/MDBM.jl) (Multi-Dimensional Bisection Method) package can be used for the task of characterizing when $f(x,y)=0$. (Also `IntervalConstraintProgramming` can be used.) We first wrap its interface and then define a \"`plot`\" recipe (through method overloading, not through `MakieRecipes`)."
      ],
      "metadata": {}
    },
    {
      "outputs": [],
      "cell_type": "code",
      "source": [
        "using MDBM"
      ],
      "metadata": {},
      "execution_count": null
    },
    {
      "outputs": [],
      "cell_type": "code",
      "source": [
        "function implicit_equation(f, axes...; iteration::Int=4, constraint=nothing)\n\n    axes = [axes...]\n\n    if constraint == nothing\n        prob = MDBM_Problem(f, axes)\n    else\n        prob = MDBM_Problem(f, axes, constraint=constraint)\n    end\n\n    solve!(prob, iteration)\n\n    prob\nend"
      ],
      "metadata": {},
      "execution_count": null
    },
    {
      "cell_type": "markdown",
      "source": [
        "The `implicit_equation` function is just a simplified wrapper for the `MDBM_Problem` interface. It creates an object to be plotted in a manner akin to:"
      ],
      "metadata": {}
    },
    {
      "outputs": [],
      "cell_type": "code",
      "source": [
        "f(x,y) = x^3 + x^2 + x + 1 - x*y        # solve x^3 + x^2 + x + 1 = x*y\nie = implicit_equation(f, -5:5, -10:10)"
      ],
      "metadata": {},
      "execution_count": null
    },
    {
      "cell_type": "markdown",
      "source": [
        "The function definition is straightforward. The limits for `x` and `y` are specified in the above using ranges. This specifies the initial grid of points for the apdaptive algorithm used by `MDBM` to identify solutions.\n\nTo visualize the output, we make a new method for `plot` and `plot!`. There is a distinction between 2 and 3 dimensions. Below in two dimensions curve(s) are drawn. In three dimensions, scaled cubes are used to indicate the surface."
      ],
      "metadata": {}
    },
    {
      "outputs": [],
      "cell_type": "code",
      "source": [
        "AbstractPlotting.plot(m::MDBM_Problem; kwargs...) = plot!(Scene(), m; kwargs...)\nAbstractPlotting.plot!(m::MDBM_Problem; kwargs...) = plot!(AbstractPlotting.current_scene(), m; kwargs...)\nAbstractPlotting.plot!(scene::AbstractPlotting.Scene, m::MDBM_Problem; kwargs...) =\n    plot!(Val(_dim(m)), scene, m; kwargs...)\n\n_dim(m::MDBM.MDBM_Problem{a,N,b,c,d,e,f,g,h}) where {a,N,b,c,d,e,f,g,h} = N"
      ],
      "metadata": {},
      "execution_count": null
    },
    {
      "cell_type": "markdown",
      "source": [
        "Dispatch is used for the two different dimesions, identified through `_dim`, defined above."
      ],
      "metadata": {}
    },
    {
      "outputs": [],
      "cell_type": "code",
      "source": [
        "# 2D plot\nfunction AbstractPlotting.plot!(::Val{2}, scene::AbstractPlotting.Scene,\n    m::MDBM_Problem; color=:black, kwargs...)\n\n    mdt=MDBM.connect(m)\n    for i in 1:length(mdt)\n        dt=mdt[i]\n        P1=getinterpolatedsolution(m.ncubes[dt[1]], m)\n        P2=getinterpolatedsolution(m.ncubes[dt[2]], m)\n        lines!(scene, [P1[1],P2[1]],[P1[2],P2[2]], color=color, kwargs...)\n    end\n\n    scene\nend"
      ],
      "metadata": {},
      "execution_count": null
    },
    {
      "outputs": [],
      "cell_type": "code",
      "source": [
        "# 3D plot\nfunction AbstractPlotting.plot!(::Val{3}, scene::AbstractPlotting.Scene,\n    m::MDBM_Problem; color=:black, kwargs...)\n\n    positions = Point{3, Float32}[]\n    scales = Vec3[]\n    \n    mdt=MDBM.connect(m)\n    for i in 1:length(mdt)\n        dt=mdt[i]\n        P1=getinterpolatedsolution(m.ncubes[dt[1]], m)\n        P2=getinterpolatedsolution(m.ncubes[dt[2]], m)\n\n        a, b = Vec3(P1), Vec3(P2)\n        push!(positions, Point3(P1))\n        push!(scales, b-a)\n    end\n\n    cube = Rect{3, Float32}(Vec3(-0.5, -0.5, -0.5), Vec3(1, 1, 1))\n    meshscatter!(scene, positions, marker=cube, scale = scales, color=color, transparency=true, kwargs...)\n    \n    scene\nend"
      ],
      "metadata": {},
      "execution_count": null
    },
    {
      "cell_type": "markdown",
      "source": [
        "We see that the equation `ie` has two pieces. (This is known as Newton's trident, as Newton was interested in this form of equation.)"
      ],
      "metadata": {}
    },
    {
      "outputs": [],
      "cell_type": "code",
      "source": [
        "plot(ie)"
      ],
      "metadata": {},
      "execution_count": null
    },
    {
      "cell_type": "markdown",
      "source": [
        "## Surfaces\n\nPlots of surfaces in 3 dimensions are useful to help understand the behavior of multivariate functions.\n\n#### Surfaces defined through $z=f(x,y)$\n\nThe \"peaks\" function generates the logo for MATLAB. Here we see how it can be plotted over the region $[-5,5]\\times[-5,5]$."
      ],
      "metadata": {}
    },
    {
      "outputs": [],
      "cell_type": "code",
      "source": [
        "peaks(x,y) = 3*(1-x)^2*exp(-x^2 - (y+1)^2) - 10(x/5-x^3-y^5)*exp(-x^2-y^2)- 1/3*exp(-(x+1)^2-y^2)\nxs = ys = range(-5, 5, length=25)\nsurface(xs, ys, peaks)"
      ],
      "metadata": {},
      "execution_count": null
    },
    {
      "cell_type": "markdown",
      "source": [
        "The calling pattern `surface(xs, ys, f)` implies a rectangular grid over the $x$-$y$ plane defined by `xs` and `ys` with $z$ values given by $f(x,y)$. \n\n\nAlternatively a \"matrix\" of $z$ values can be specified. For a function `f`, this is conveniently generated by the pattern `f.(xs, ys')`, the `'` being important to get a matrix of all $x$-$y$ pairs through `Julia`'s broadcasting syntax."
      ],
      "metadata": {}
    },
    {
      "outputs": [],
      "cell_type": "code",
      "source": [
        "zs = peaks.(xs, ys')\nsurface(xs, ys, zs)"
      ],
      "metadata": {},
      "execution_count": null
    },
    {
      "cell_type": "markdown",
      "source": [
        "To see how this graph is constructed, the points $(x,y,f(x,y))$ are plotted over the grid and displayed. \n\nHere we downsample to illutrate"
      ],
      "metadata": {}
    },
    {
      "outputs": [],
      "cell_type": "code",
      "source": [
        "xs = ys = range(-5, 5, length=5)\npts = [Point3(x, y, peaks(x,y)) for x in xs for y in ys]\nscatter(pts, markersize=25)"
      ],
      "metadata": {},
      "execution_count": null
    },
    {
      "cell_type": "markdown",
      "source": [
        "These points are connected. The `wireframe` function illustrates just the frame"
      ],
      "metadata": {}
    },
    {
      "outputs": [],
      "cell_type": "code",
      "source": [
        "wireframe(xs, ys, peaks.(xs, ys'), linewidth=5)"
      ],
      "metadata": {},
      "execution_count": null
    },
    {
      "cell_type": "markdown",
      "source": [
        "The `surface` call triangulates the frame and fills in the shading:"
      ],
      "metadata": {}
    },
    {
      "outputs": [],
      "cell_type": "code",
      "source": [
        "surface!(xs, ys, peaks.(xs, ys'))"
      ],
      "metadata": {},
      "execution_count": null
    },
    {
      "cell_type": "markdown",
      "source": [
        "#### Implicitly defined surfaces, $F(x,y,z)=0$\n\nThe set of points $(x,y,z)$ satisfying $F(x,y,z) = 0$ will form a surface that can be visualized using the `MDBM` package. We illustrate showing two nested surfaces."
      ],
      "metadata": {}
    },
    {
      "outputs": [],
      "cell_type": "code",
      "source": [
        "r₂(x,y,z) = x^2 + y^2 + z^2 - 5/4 # a sphere\nr₄(x,y,z) = x^4 + y^4 + z^4 - 1\nxs = ys = zs = -2:2\nm2,m4 = implicit_equation(r₂, xs, ys, zs), implicit_equation(r₄, xs, ys, zs)\n\nplot(m4, color=:yellow)\nplot!(m2, color=:red)"
      ],
      "metadata": {},
      "execution_count": null
    },
    {
      "cell_type": "markdown",
      "source": [
        "#### Parametrically defined surfaces\n\nA surface may be parametrically defined through a function $r(u,v) = (x(u,v), y(u,v), z(u,v))$. For example, the surface generated by $z=f(x,y)$ is of the form with $r(u,v) = (u,v,f(u,v))$. \n\nThe `surface` function and the `wireframe` function can be used to display such surfaces. In previous usages, the `x` and `y` values were vectors from which a 2-dimensional grid is formed. For parametric surfaces, a grid for the `x` and `y` values must be generated. This function will do so:"
      ],
      "metadata": {}
    },
    {
      "outputs": [],
      "cell_type": "code",
      "source": [
        "function parametric_grid(us, vs, r)\n    n,m = length(us), length(vs)\n    xs, ys, zs = zeros(n,m), zeros(n,m), zeros(n,m)\n    for (i, uᵢ) in enumerate(us)\n        for (j, vⱼ) in enumerate(vs)\n            x,y,z = r(uᵢ, vⱼ)\n            xs[i,j] = x\n            ys[i,j] = y\n            zs[i,j] = z\n        end\n    end\n    (xs, ys, zs)\nend"
      ],
      "metadata": {},
      "execution_count": null
    },
    {
      "cell_type": "markdown",
      "source": [
        "With the data suitably massaged, we can directly plot either a `surface` or `wireframe` plot.\n\n\nFor example, a sphere can be parameterized by $r(u,v) = (\\sin(u)\\cos(v), \\sin(u)\\sin(v), \\cos(u))$ and visualized through:"
      ],
      "metadata": {}
    },
    {
      "outputs": [],
      "cell_type": "code",
      "source": [
        "r(u,v) = [sin(u)*cos(v), sin(u)*sin(v), cos(u)]\nus = range(0, pi, length=25)\nvs = range(0, pi/2, length=25)\nxs, ys, zs = parametric_grid(us, vs, r)\n\nscene = Scene()\nsurface!(scene, xs, ys, zs)\nwireframe!(scene, xs, ys, zs)"
      ],
      "metadata": {},
      "execution_count": null
    },
    {
      "cell_type": "markdown",
      "source": [
        "A surface of revolution for $g(u)$ revolved about the $z$ axis can be visualized through:"
      ],
      "metadata": {}
    },
    {
      "outputs": [],
      "cell_type": "code",
      "source": [
        "g(u) = u^2 * exp(-u)\nr(u,v) = (g(u)*sin(v), g(u)*cos(v), u)\nus = range(0, 3, length=10)\nvs = range(0, 2pi, length=10)\nxs, ys, zs = parametric_grid(us, vs, r)\n\nscene = Scene()\nsurface!(scene, xs, ys, zs)\nwireframe!(scene, xs, ys, zs)"
      ],
      "metadata": {},
      "execution_count": null
    },
    {
      "cell_type": "markdown",
      "source": [
        "A torus with big radius $2$ and inner radius $1/2$ can be visualized as follows"
      ],
      "metadata": {}
    },
    {
      "outputs": [],
      "cell_type": "code",
      "source": [
        "r1, r2 = 2, 1/2\nr(u,v) = ((r1 + r2*cos(v))*cos(u), (r1 + r2*cos(v))*sin(u), r2*sin(v))\nus = vs = range(0, 2pi, length=25)\nxs, ys, zs = parametric_grid(us, vs, r)\n\nscene = Scene()\nsurface!(scene, xs, ys, zs)\nwireframe!(scene, xs, ys, zs)"
      ],
      "metadata": {},
      "execution_count": null
    },
    {
      "cell_type": "markdown",
      "source": [
        "A Möbius strip can be produced with:"
      ],
      "metadata": {}
    },
    {
      "outputs": [],
      "cell_type": "code",
      "source": [
        "ws = range(-1/4, 1/4, length=8)\nthetas = range(0, 2pi, length=30)\nr(w, θ) = ((1+w*cos(θ/2))*cos(θ), (1+w*cos(θ/2))*sin(θ), w*sin(θ/2))\nxs, ys, zs = parametric_grid(ws, thetas, r)\n\nscene = Scene()\nsurface!(scene, xs, ys, zs)\nwireframe!(scene, xs, ys, zs)"
      ],
      "metadata": {},
      "execution_count": null
    },
    {
      "cell_type": "markdown",
      "source": [
        "## Contour plots (`contour`, `heatmap`)\n\nFor a function $z = f(x,y)$ an alternative to a surface plot, is a contour plot. That is, for different values of $c$ the level curves $f(x,y)=c$ are drawn.\n\nFor a function $f(x,y)$, the syntax for generating a contour plot follows that for `surface`.\n\nFor example, using the `peaks` function, previously defined, we have a contour plot over the region $[-5,5]\\times[-5,5]$ is generated through:"
      ],
      "metadata": {}
    },
    {
      "outputs": [],
      "cell_type": "code",
      "source": [
        "xs = ys = range(-5, 5, length=100)\ncontour(xs, ys, peaks)"
      ],
      "metadata": {},
      "execution_count": null
    },
    {
      "cell_type": "markdown",
      "source": [
        "The default of $5$ levels can be adjusted using the `levels` keyword:"
      ],
      "metadata": {}
    },
    {
      "outputs": [],
      "cell_type": "code",
      "source": [
        "contour(xs, ys, peaks.(xs, ys'), levels = 20)"
      ],
      "metadata": {},
      "execution_count": null
    },
    {
      "cell_type": "markdown",
      "source": [
        "(As a reminder, the above also shows how to generate values \"`zs`\" to pass to `contour` instead of a function.)\n\nThe contour graph makes identification of peaks and valleys easy as the limits of patterns of nested contour lines.\n\n\nAn alternative visualzation using color to replace contour lines is a heatmap. The `heatmap` function produces these. The calling syntax is similar to `contour` and `surface`:"
      ],
      "metadata": {}
    },
    {
      "outputs": [],
      "cell_type": "code",
      "source": [
        "heatmap(xs, ys, peaks)"
      ],
      "metadata": {},
      "execution_count": null
    },
    {
      "cell_type": "markdown",
      "source": [
        "This graph shows peaks and valleys through \"hotspots\" on the graph.\n\n\n\nThe `MakieGallery` package includes an example of a surface plot with both a wireframe and 2D contour graph added. It is replicated here using the `peaks` function scaled by $5$.\n\nThe function and domain to plot are described by:"
      ],
      "metadata": {}
    },
    {
      "outputs": [],
      "cell_type": "code",
      "source": [
        "xs = ys = range(-5, 5, length=51)\nzs = peaks.(xs, ys') / 5;"
      ],
      "metadata": {},
      "execution_count": null
    },
    {
      "cell_type": "markdown",
      "source": [
        "The `zs` were generated, as `wireframe` does not provide the interface for passing a function.\n\nThe `surface` and `wireframe` are produced as follows:"
      ],
      "metadata": {}
    },
    {
      "outputs": [],
      "cell_type": "code",
      "source": [
        "scene = surface(xs, ys, zs)\nwireframe!(scene, xs, ys, zs, overdraw = true, transparency = true, color = (:black, 0.1))"
      ],
      "metadata": {},
      "execution_count": null
    },
    {
      "cell_type": "markdown",
      "source": [
        "To add the contour, a simple call via `contour!(scene, xs, ys, zs)` will place the contour at the $z=0$ level which will make it hard to read. Rather, placing at the \"bottom\" of the scene is desirable. To identify that the \"scene limits\" are queried and the argument `transformation = (:xy, zmin)` is passed to `contour!`:"
      ],
      "metadata": {}
    },
    {
      "outputs": [],
      "cell_type": "code",
      "source": [
        "xmin, ymin, zmin = minimum(scene_limits(scene))\ncontour!(scene, xs, ys, zs, levels = 15, linewidth = 2, transformation = (:xy, zmin))\ncenter!(scene)"
      ],
      "metadata": {},
      "execution_count": null
    },
    {
      "cell_type": "markdown",
      "source": [
        "The `transformation` plot attribute sets the \"plane\" (one of `:xy`, `:yz`, or `:xz`) at a location, in this example `zmin`.\n\n\n\n\n### Three dimensional contour plots\n\nThe `contour` function can also plot $3$-dimensional contour plots. Concentric spheres, contours of $x^2 + y^2 + z^2 = c$ for $c > 0$ are presented by the following:"
      ],
      "metadata": {}
    },
    {
      "outputs": [],
      "cell_type": "code",
      "source": [
        "f(x,y,z) = x^2 + y^2 + z^2\nxs = ys = zs = range(-3, 3, length=100)\ncontour(xs, ys, zs, f)"
      ],
      "metadata": {},
      "execution_count": null
    },
    {
      "cell_type": "markdown",
      "source": [
        "## Vector fields. Visualizations of $f:R^2 \\rightarrow R^2$\n\nThe vector field $f(x,y) = (y, -x)$ can be visualized as a set of vectors, $f(x,y)$, positioned at a grid. These can be produced with the `arrows` function. Below we pass a vector of points for the anchors and a vector of points representing the vectors.\n\nWe can generate these on a regular grid through:"
      ],
      "metadata": {}
    },
    {
      "outputs": [],
      "cell_type": "code",
      "source": [
        "f(x, y) = [y, -x]\nxs = ys = -5:5\npts = vec(Point2.(xs, ys'))\ndus = vec(Point2.(f.(xs, ys')))"
      ],
      "metadata": {},
      "execution_count": null
    },
    {
      "cell_type": "markdown",
      "source": [
        "Broadcasting over `(xs, ys')` ensures each pair of possible values is encountered. The `vec` call reshapes an array into a  vector.\n\nCalling `arrows` on the prepared data produces the graphic:"
      ],
      "metadata": {}
    },
    {
      "outputs": [],
      "cell_type": "code",
      "source": [
        "arrows(pts, dus)"
      ],
      "metadata": {},
      "execution_count": null
    },
    {
      "cell_type": "markdown",
      "source": [
        "The grid seems rotated at first glance. This is due to the length of the vectors as the $(x,y)$ values get farther from the origin. Plotting the *normalized* values (each will have length $1$) can be done easily using `norm` (which requires `LinearAlgebra` to be loaded):"
      ],
      "metadata": {}
    },
    {
      "outputs": [],
      "cell_type": "code",
      "source": [
        "using LinearAlgebra\ndvs = dus ./ norm.(dus)\narrows(pts, dvs)"
      ],
      "metadata": {},
      "execution_count": null
    },
    {
      "cell_type": "markdown",
      "source": [
        "The rotational pattern becomes quite clear now.\n\nThe `streamplot` function also illustrates this phenomenon. This implements an \"algorithm [that] puts an arrow somewhere and extends the streamline in both directions from there. Then, it chooses a new position (from the remaining ones), repeating the the exercise until the streamline  gets blocked, from which on a new starting point, the process repeats.\"\n\nThe `streamplot` function expects a `point` not a pair of values, so we adjust `f` slightly and call the function using the pattern `streamplot(f, xs, ys)`:"
      ],
      "metadata": {}
    },
    {
      "outputs": [],
      "cell_type": "code",
      "source": [
        "g(x,y) = Point2(f(x,y))\nstreamplot(g, xs, ys)"
      ],
      "metadata": {},
      "execution_count": null
    },
    {
      "cell_type": "markdown",
      "source": [
        "(The viewing range could also be adjusted with the `-5..5` notation from the `IntervalSets` package which is brought in when `AbstractPlotting` is loaded.)\n\n\n\n\n\n\n## Interacting with a scene\n\n[Interaction](http://makie.juliaplots.org/stable/interaction.html) with a scene is very much integrated into `Makie`, as the design has a \"sophisticated referencing system\" which allows sharing of attributes. Adjusting one attribute, can then propogate to others.\n\n\nIn Makie, a `Node` is a structure that allows its value to be updated, similar to an array.\nNodes are `Observables`, which when changed can trigger an event. Nodes can rely on other nodes, so events can be cascaded.\n\nA simple example is a means to dynamically adjust a label for a scene.\n\n```\nxs, = 1:5, rand(5)\nscene = scatter(xs, ys)\n```\n\nWe can create a \"Node\" through:\n\n```\nx = Node(\"x values\")\n```\n\nThe value of the node is retrieved by `x[]`, though the function call `to_value(x)` is recommened, as it will be defined even when `x` is not a node. This stored value could be used to set the $x$-label in our scene:\n\n```\nxlabel!(scene, x[])\n```\n\nWe now set up an observer to update the label whenever the value of `x` is updated:\n\n```\non(x) do val\n   xlabel!(scen, val)\nend\n```\n\nNow setting the value of `x` will also update the label:\n\n```\nx[] = \"The x axis\"\n```\n\n\nA node can be more complicated. This shows how a node of $x$ value can be used to define dependent $y$ values. A scatter plot will update when the $x$ values are updated:\n\n```\nxs = Node(1:10)\nys = lift(a -> f.(a), xs)\n```\n\nThe `lift` function lifts the values of `xs` to the values of `ys`.\n\nThese can be plotted directly:\n\n```\nscene =  lines(xs, ys)\n```\n\nChanges to the `xs` values will be reflected in the `scene`.\n\n```\nxs[] = 2:9\n```\n\nWe can incoporporate the two:\n\n```\nlab = lift(val -> \"Showing from $(val.start) to $(val.stop)\", xs)\non(lab) do val\n  xlabel!(scene, val)\n  udpate!(scene)\nend\n```\n\nThe `update!` call redraws the scene to adjust to increased or decreased range of $x$ values.\n\n\nThe mouse position can be recorded. An example in the gallery of examples shows how.\n\nHere is a hint:\n\n```\nscene = lines(1:5, rand(5))\npos = lift(scene.events.mouseposition) do mpos\n    @show AbstractPlotting.to_world(scene, Point2f0(mpos))\nend\n```\n\nThis will display the coordinates of the mouse in the terminal, as the mouse is moved around."
      ],
      "metadata": {}
    }
  ],
  "nbformat_minor": 2,
  "metadata": {
    "language_info": {
      "file_extension": ".jl",
      "mimetype": "application/julia",
      "name": "julia",
      "version": "1.5.0"
    },
    "kernelspec": {
      "name": "julia-1.5",
      "display_name": "Julia 1.5.0",
      "language": "julia"
    }
  },
  "nbformat": 4
}
