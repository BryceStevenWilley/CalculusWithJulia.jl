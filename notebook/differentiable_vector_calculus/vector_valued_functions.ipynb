{
  "cells": [
    {
      "cell_type": "markdown",
      "source": [
        "# Vector-valued functions, $f:R \\rightarrow R^n$"
      ],
      "metadata": {}
    },
    {
      "outputs": [],
      "cell_type": "code",
      "source": [
        "using CalculusWithJulia\nusing CalculusWithJulia.WeaveSupport\nusing Plots\nnothing"
      ],
      "metadata": {},
      "execution_count": null
    },
    {
      "cell_type": "markdown",
      "source": [
        "We discuss functions of a single variable that return a vector in $R^n$. There are many parallels to univariate functions (when $n=1$) and differences.\n\nBefore beginning, we load our `CalculusWithJulia` package, which will provide a few functions used in the following."
      ],
      "metadata": {}
    },
    {
      "outputs": [],
      "cell_type": "code",
      "source": [
        "using CalculusWithJulia\nusing Plots"
      ],
      "metadata": {},
      "execution_count": null
    },
    {
      "outputs": [],
      "cell_type": "code",
      "source": [
        "gr()         # renders vectors better than plotly()"
      ],
      "metadata": {},
      "execution_count": null
    },
    {
      "cell_type": "markdown",
      "source": [
        "## Definition\n\nA function $\\vec{f}: R \\rightarrow R^n$, $n > 1$ is called a vector valued function. Some examples:\n\n$$~\n\\vec{f}(t) = \\langle \\sin(t), 2\\cos(t) \\rangle, \\quad\n\\vec{g}(t) = \\langle \\sin(t), \\cos(t), t \\rangle, \\quad\n\\vec{h}(t) = \\langle 2, 3 \\rangle + t \\cdot \\langle 1, 2 \\rangle.\n~$$\n\nThe components themselves are also functions of $t$, in this case\nunivariate functions. Depending on the context, it can be useful to\nview vector-valued functions as a function that returns a vector, or a\nvector of the component functions.\n\n\nThe above example functions have $n$ equal $2$, $3$, and $2$ respectively. We\nwill see that many concepts of calculus for univariate functions\n($n=1$) have direct counterparts.\n\n\n## Representation in Julia\n\nIn `Julia`, the representation of a vector-valued function is straightforward: we define a function of a single variable that returns a vector. For example, the three functions above would be represented by:"
      ],
      "metadata": {}
    },
    {
      "outputs": [],
      "cell_type": "code",
      "source": [
        "f(t) = [sin(t), 2*cos(t)]\ng(t) = [sin(t), cos(t), t]\nh(t) = [2, 3] + t * [1, 2]"
      ],
      "metadata": {},
      "execution_count": null
    },
    {
      "cell_type": "markdown",
      "source": [
        "For a given `t`, these evaluate to a vector. For example:"
      ],
      "metadata": {}
    },
    {
      "outputs": [],
      "cell_type": "code",
      "source": [
        "h(2)"
      ],
      "metadata": {},
      "execution_count": null
    },
    {
      "cell_type": "markdown",
      "source": [
        "We can create a vector of functions, e.g., `F = [cos, sin, identify]`, but calling this object, as in `F(t)`, would require some work, such as `t = 1; [f(t) for f in F]`.\n\n\n\n\n## Space curves\n\nA vector-valued function is typically visualized as a\ncurve. That is, for some range, $a \\leq t \\leq b$ the set of points\n$\\{\\vec{f}(t): a \\leq t \\leq b\\}$ are plotted. If, say in $n=2$, we\nhave $x(t)$ and $y(t)$ as the component functions, then the graph\nwould also be the parametric plot of $x$ and $y$. The term *planar* curve is common for the $n=2$ case and *space* curve for the $n \\geq 3$ case.\n\n\nThis plot represents the vectors with their tails at the origin.\n\nThere is a convention for plotting the component functions to yield a parametric plot within the `Plots` package (e.g., `plot(x, y, a, b)`). This can be used to make polar plots, where `x` is  `t -> r(t)*cos(t)` and `y` is `t -> r(t)*sin(t)`.\n\nHowever,  we will use a different approach, as the component functions are not naturally produced from the vector-valued function.\n\nIn `Plots`, the command `plot(xs, ys)`, where, say, `xs=[x1, x2, ..., xn]` and `ys=[y1, y2, ..., yn]`, will make a connect-the-dot plot between corresponding pairs of points. This can be used as an alternative to plotting a function through `plot(f, a, b)`: first make a set of $x$ values, say `xs=range(a, b, length=100)`; then the corresponding $y$ values, say `ys = f.(xs)`; and then plotting through `plot(xs, ys)`. (If using `Julia 1.0` the second argument to `range` should be named, as in `stop=b`.)\n\nSimilarly, were a third vector, ` zs`, for $z$ components used, `plot(xs, ys, zs)` will make a 3-dimensional connect the dot plot\n\nHowever, our representation of vector-valued functions naturally generates a vector of points: `[[x1,y1], [x2, y2], ..., [xn, yn]]`, as this comes from broadcasting `f` over some time values.\nThat is, for a collection of time values, `ts`, typically generated, as above, by `range`, the command `f.(ts)` will produce the vector of points.\n\nTo get the `xs` and `ys` from this, is conceptually easy: just iterate over all the points and extract the corresponding component. For example, to get `xs` we would have a command like `[p[1] for p in f.(ts)]`. Similarly, the `ys` would use `p[2]` in place of `p[1]`. The following  function, from the `CalculusWithJulia` package and employed  previously, does this for us, returning the vectors in a tuple:"
      ],
      "metadata": {}
    },
    {
      "outputs": [],
      "cell_type": "code",
      "source": [
        "unzip(vs) = Tuple(eltype(first(vs))[xyz[j] for xyz in vs] for j in eachindex(first(vs)))"
      ],
      "metadata": {},
      "execution_count": null
    },
    {
      "cell_type": "markdown",
      "source": [
        "The name comes from how the `zip` function in base `Julia` takes two vectors and returns a vector of the values paired off. This is the reverse.\n\n\nIt was noted in [vectors](./vectors.html) that the `unzip` function\nturns a vector of points (or vectors) into a tuple of vectors\ncollecting the $x$ values, the $y$ values, and, if present, the $z$\nvalues:\n\n```\n[[x1, y1, z1],         (⌈x1⌉,  ⌈y1⌉, ⌈z1⌉,\n [x2, y2, z2],          |x2|, |y2|, |z2|,\n [x3, y3, z3],   -->    |x3|, |y3|, |z3|,\n     ⋮                         ⋮\n [xn, yn, zn]]          ⌊xn⌋,  ⌊yn⌋, ⌊zn⌋ )\n```\n\n\n\n\n\nTo turn a tuple of vectors into separate arguments for a function, splatting (the `...`) is used.\n\n----\n\nFinally, with these definitions, we can visualize the three functions we have defined.\n\nHere we show the plot of `f` over the values between $0$ and $2\\pi$ and also add a vector anchored at the origin defined by `f(1)`."
      ],
      "metadata": {}
    },
    {
      "outputs": [],
      "cell_type": "code",
      "source": [
        "ts = range(0, 2pi, length=200)\nplot(unzip(f.(ts))...)\narrow!([0, 0], f(1))"
      ],
      "metadata": {},
      "execution_count": null
    },
    {
      "cell_type": "markdown",
      "source": [
        "The trace of the plot is an ellipse. If we describe the components as $\\vec{f}(t) = \\langle x(t), y(t) \\rangle$, then we have $x(t)^2 + y(t)^2/4 = 1$. That is, for any value of $t$, the resulting point satisfies the equation $x^2 + y^2/4 =1$ for an ellipse.\n\n\nThe plot of $g$ needs 3-dimensions to render. For most plotting backends, the following should work with no differences, save the additional vector is anchored in 3 dimensions now:"
      ],
      "metadata": {}
    },
    {
      "outputs": [],
      "cell_type": "code",
      "source": [
        "plotly()"
      ],
      "metadata": {},
      "execution_count": null
    },
    {
      "outputs": [],
      "cell_type": "code",
      "source": [
        "ts = range(0, 6pi, length=200)\nplot(unzip(g.(ts))...)\narrow!([0, 0, 0], g(2pi))"
      ],
      "metadata": {},
      "execution_count": null
    },
    {
      "outputs": [],
      "cell_type": "code",
      "source": [
        "gr()"
      ],
      "metadata": {},
      "execution_count": null
    },
    {
      "cell_type": "markdown",
      "source": [
        "Here the graph is a helix; three turns are plotted. If we write $g(t) = \\langle x(t), y(t), z(t) \\rangle$, as the $x$ and $y$ values trace out a circle, the $z$ value increases. When the graph is viewed from above, as below, we see only $x$ and $y$ components, and the view is circular."
      ],
      "metadata": {}
    },
    {
      "outputs": [],
      "cell_type": "code",
      "source": [
        "plot(unzip(g.(ts))..., camera=(0, 90))"
      ],
      "metadata": {},
      "execution_count": null
    },
    {
      "cell_type": "markdown",
      "source": [
        "The graph of $h$ shows that this function parameterizes a line in space. The line segment for $-2 \\leq t \\leq 2$ is shown below:"
      ],
      "metadata": {}
    },
    {
      "outputs": [],
      "cell_type": "code",
      "source": [
        "ts = range(-2, 2, length=200)\nplot(unzip(h.(ts))...)"
      ],
      "metadata": {},
      "execution_count": null
    },
    {
      "cell_type": "markdown",
      "source": [
        "### The `plot_parametric_curve` function\n\nWhile the `unzip` function is easy to understand as a function that reshapes data from one format into one that `plot` can use, it's usage is a bit cumbersome.\nThe `CalculusWithJulia` package provides a function `plot_parametric_curve` which hides the use of `unzip` and the splatting within a function definition. It expects a vector-valued function and a range of $t$ values specified by two values. For example, the last plot can be produced with"
      ],
      "metadata": {}
    },
    {
      "outputs": [],
      "cell_type": "code",
      "source": [
        "plot_parametric_curve(h, -2, 2)"
      ],
      "metadata": {},
      "execution_count": null
    },
    {
      "outputs": [],
      "cell_type": "code",
      "source": [
        "note(\"\"\"\nDefining plotting functions in `Julia` for `Plots` is facilitated by the `RecipesBase` package. There are two common choices: creating a new function for plotting, as is done with `plot_parametric_curve` and `plot_polar`; or creating a new type so that `plot` can dispatch to an appropriate plotting method. The latter would also be a reasonable choice, but wasn't taken here.\n\"\"\")"
      ],
      "metadata": {},
      "execution_count": null
    },
    {
      "cell_type": "markdown",
      "source": [
        "##### Example\n\nFamiliarity with equations for lines, circles, and ellipses is\nimportant, as these fundamental geometric shapes are often building\nblocks in the description of other more complicated things.\n\nThe point-slope equation of a line, $y = y_0 + m \\cdot (x - x_0)$\nfinds an analog. The slope, $m$, is replaced with a vector $\\vec{v}$\nand the point, $(x_0, y_0)$ is replaced with a vector $\\vec{p}$\nidentified with a point in the plane. A parameterization would then be\n$f(t) = \\vec{p} + (t - t_0) \\vec{v}$. From this, we have $f(t_0) =\n\\vec{p}$.\n\n\n\n\nThe unit circle is instrumental in introducing the trigonometric\nfunctions though the identification of and angle $t$ with a point on\nthe unit circle $(x,y)$ through $y = \\sin(t)$ and $x=\\cos(t)$. With\nthis identification certain properties of the trigonometric functions\nare immediately seen, such as the period of $\\sin$ and $\\cos$ being\n$2\\pi$, or the angles for which $\\sin$ and $\\cos$ are positive or even\nincreasing. Further, this gives a natural parameterization for a\nvector-valued function whose plot yields the unit circle, namely\n$\\vec{f}(t) = \\langle \\cos(t), \\sin(t) \\rangle$. This\nparameterization starts (at $t=0$) at the point $(1, 0)$. More\ngenerally, we might have additional parameters $\\vec{f}(t) = \\vec{p} +\nR \\cdot \\langle \\cos(\\omega(t-t_0)), \\sin(\\omega(t-t_0)) \\rangle$ to\nchange the origin, $\\vec{p}$; the radius, $R$; the starting angle,\n$t_0$; and the rotational frequency, $\\omega$.\n\n\nAn ellipse has a slightly more general equation than a circle and in\nsimplest forms may satisfy the equation $x^2/a^2 +  y^2/b^2 = 1$, where *when*\n$a=b$ a circle is being described. A vector-valued function of the form\n$\\vec{f}(t) = \\langle a\\cdot\\cos(t),  b\\cdot\\sin(t) \\rangle$ will trace out an ellipse.\n\n\nThe above description of an ellipse is useful, but it can also be useful to re-express the ellipse so that one of the foci is at the origin. With this, the ellipse can be given in *polar* coordinates through a description of the radius:\n\n$$~\nr(\\theta) = \\frac{a (1 - e^2)}{1 + e \\cos(\\theta)}.\n~$$\n\nHere, $a$ is the semi-major axis ($a > b$); $e$ is the *eccentricity* given by $b = a \\sqrt{1 - e^2}$; and $\\theta$ a polar angle.\n\nUsing the conversion to Cartesian equations, we have\n$\\vec{x}(\\theta) = \\langle r(\\theta) \\cos(\\theta), r(\\theta) \\sin(\\theta)\\rangle$.\n\nFor example:"
      ],
      "metadata": {}
    },
    {
      "outputs": [],
      "cell_type": "code",
      "source": [
        "a, ecc = 20, 3/4\nf(t) = a*(1-ecc^2)/(1 + ecc*cos(t)) * [cos(t), sin(t)]\nplot_parametric_curve(f, 0, 2pi, legend=false)\nscatter!([0],[0], markersize=4)"
      ],
      "metadata": {},
      "execution_count": null
    },
    {
      "cell_type": "markdown",
      "source": [
        "##### Example\n\nThe [Spirograph](https://en.wikipedia.org/wiki/Spirograph) is \"... a geometric drawing toy that produces mathematical roulette curves of the variety technically known as hypotrochoids and epitrochoids. It was developed by British engineer Denys Fisher and first sold in 1965.\" These can be used to make interesting geometrical curves.\n\nFollowing Wikipedia: Consider a fixed outer circle $C_o$ of radius $R$ centered at the origin. A smaller inner circle  $C_i$ of radius $r < R$ rolling inside $C_o$ and is continuously tangent to it. $C_i$ will be assumed never to slip on $C_o$ (in a real Spirograph, teeth on both circles prevent such slippage). Now assume that a point $A$ lying somewhere inside $C_{i}$is located a distance $\\rho < r$ from $C_i$'s center.\n\nThe center of the inner circle will move in a circular manner with radius $R-r$. The fixed point on the inner circle will rotate about this center. The accumulated angle may be described by the angle the point of contact of the inner circle with the outer circle. Call this angle $t$.\n\nSuppose the outer circle is centered at the origin and the inner circle starts ($t=0$) with center $(R-r, 0)$ and rotates around counterclockwise. Then if the point of contact makes angle $t$, the arc length along the outer circle is $Rt$. The inner circle will have moved a distance $r t'$ in the opposite direction, so $Rt =-r t'$ and solving the angle will be $t' = -(R/r)t$.\n\nIf the initial position of the fixed point is at $(\\rho, 0)$ relative to the origin, then the following function will describe the motion:\n\n$$~\n\\vec{s}(t) = (R-r) \\cdot \\langle \\cos(t), \\sin(t) \\rangle +\n\\rho \\cdot \\langle \\cos(-\\frac{R}{r}t), \\sin(-\\frac{R}{r}t) \\rangle.\n~$$\n\n\n\nTo visualize this we first define a helper function to draw a circle at point $P$ with radius $R$:"
      ],
      "metadata": {}
    },
    {
      "outputs": [],
      "cell_type": "code",
      "source": [
        "circle!(P, R; kwargs...) = plot_parametric_curve!(t -> P + R*[cos(t), sin(t)], 0, 2pi;kwargs...)"
      ],
      "metadata": {},
      "execution_count": null
    },
    {
      "cell_type": "markdown",
      "source": [
        "Then we have this function to visualize the spirograph for different $t$ values:"
      ],
      "metadata": {}
    },
    {
      "outputs": [],
      "cell_type": "code",
      "source": [
        "function spiro(t; r=2, R=5, rho=0.8*r)\n\n    cent(t) = (R-r) * [cos(t), sin(t)]\n\n    p = plot(legend=false, aspect_ratio=:equal)\n    circle!([0,0], R, color=:blue)\n    circle!(cent(t), r, color=:black)\n\n    tp(t) = -R/r * t\n\n    s(t) = cent(t) + rho * [cos(tp(t)), sin(tp(t))]\n    plot_parametric_curve!(s, 0, t, n=1000, color=:red)\n\n    p\nend"
      ],
      "metadata": {},
      "execution_count": null
    },
    {
      "cell_type": "markdown",
      "source": [
        "And we can see the trace for $t=\\pi$:"
      ],
      "metadata": {}
    },
    {
      "outputs": [],
      "cell_type": "code",
      "source": [
        "spiro(pi)"
      ],
      "metadata": {},
      "execution_count": null
    },
    {
      "cell_type": "markdown",
      "source": [
        "The point of contact is at $(-R, 0)$, as expected. Carrying this forward to a full circle's worth is done through:"
      ],
      "metadata": {}
    },
    {
      "outputs": [],
      "cell_type": "code",
      "source": [
        "spiro(2pi)"
      ],
      "metadata": {},
      "execution_count": null
    },
    {
      "cell_type": "markdown",
      "source": [
        "The curve does not match up at the start. For that, a second time around the outer circle is needed:"
      ],
      "metadata": {}
    },
    {
      "outputs": [],
      "cell_type": "code",
      "source": [
        "spiro(4pi)"
      ],
      "metadata": {},
      "execution_count": null
    },
    {
      "cell_type": "markdown",
      "source": [
        "Whether the curve will have a period or not is decided by the ratio of $R/r$ being rational or irrational.\n\n\n##### Example\n\n[Ivars Peterson](http://www.phschool.com/science/science_news/articles/tilt_a_whirl.html) described the carnival ride \"tilt-a-whirl\" as a chaotic system, whose equations of motion are presented in [American Journal of Physics](https://doi.org/10.1119/1.17742) by Kautz and Huggard. The tilt-a-whirl has a platform that moves in a circle that also moves up and down. To describe the  motion of a point on the platform assuming it has radius $R$ and period $T$ and rises twice in that period could be done with the function:\n\n$$~\n\\vec{u}(t) = \\langle R \\sin(2\\pi t/T), R \\cos(2\\pi t/T), h + h \\cdot \\sin(2\\pi t/ T) \\rangle.\n~$$\n\nA passenger sits on a circular platform with radius $r$ attached at some point on the larger platform. The dynamics of the person on the tilt-a-whirl depend on physics, but for simplicity, let's assume the platform moves at a constant rate with period $S$ and has no relative $z$ component. The motion of the platform in relation to the point it is attached would be modeled by:\n\n$$~\n\\vec{v}(t) = \\langle r \\sin(2\\pi t/S), r \\sin(2\\pi t/S), 0 \\rangle.\n~$$\n\nAnd the motion relative to the origin would be the vector sum, or superposition:\n\n$$~\n\\vec{f}(t) = \\vec{u}(t) + \\vec{v}(t).\n~$$\n\nTo visualize for some parameters, we have:"
      ],
      "metadata": {}
    },
    {
      "outputs": [],
      "cell_type": "code",
      "source": [
        "plotly()\nM, m = 25, 5\nheight = 5\nS, T = 8, 2\nouter(t) = [M * sin(2pi*t/T), M * cos(2pi*t/T), height*(1 +sin(2pi * (t-pi/2)/T))]\ninner(t) = [m * sin(2pi*t/S), m * cos(2pi*t/S), 0]\nf(t) = outer(t) + inner(t)\nplot_parametric_curve(f, 0, 8, n=1000)"
      ],
      "metadata": {},
      "execution_count": null
    },
    {
      "cell_type": "markdown",
      "source": [
        "## Limits and continuity\n\nThe definition of a limit for a univariate function is: For every $\\epsilon > 0$ there exists a $\\delta > 0$ such that *if* $0 \\leq |x-c| < \\delta$ *then* $|f(x) - L | < \\epsilon$.\n\nIf  the notion of \"$f$ is close to $L$\" is replaced by close in the sense of a norm, or vector distance, then the same limit definition can be used, with the new wording \"... $\\| \\vec{f}(x) - L \\| < \\epsilon$\".\n\n\nThe notion of continuity is identical: $\\vec{f}(t)$ is continuous at $t_0$ if $\\lim_{t \\rightarrow t_0}\\ve{f}(t) = \\vec{f}(t_0)$.\n\nA consequence of the triangle inequality is that a vector-valued function is continuous or has a limit if and only it its component functions do.\n\n### derivatives\n\nIf $\\vec{f}(t)$ is  vector valued,  and $\\Delta t > 0$ then we can consider the vector:\n\n$$~\n\\vec{f}(t + \\Delta t) - \\vec{f}(t)\n~$$\n\nFor example, if $\\vec{f}(t) = \\langle 3\\cos(t), 2\\sin(t) \\rangle$ and $t=\\pi/4$ and $\\Delta t = \\pi/16$ we have this picture:"
      ],
      "metadata": {}
    },
    {
      "outputs": [],
      "cell_type": "code",
      "source": [
        "gr()  # better arrows\nf(t) = [3cos(t), 2sin(t)]\nt, Deltat = pi/4, pi/16\ndf = f(t + Deltat) - f(t)\n\nplot(legend=false)\narrow!([0,0], f(t))\narrow!([0,0], f(t+Deltat))\narrow!(f(t), df)"
      ],
      "metadata": {},
      "execution_count": null
    },
    {
      "cell_type": "markdown",
      "source": [
        "The length of the difference appears to be related to the length of $\\Delta t$, in a similar manner as the univariate derivative. The following limit defines the *derivative* of a vector-valued function:\n\n$$~\n\\vec{f}'(t) = \\lim_{\\Delta t \\rightarrow 0} \\frac{f(t + \\Delta t) - f(t)}{\\Delta t}.\n~$$\n\nThe limit exists if the component limits do. The component limits are just the derivatives of the component functions. So, if $\\vec{f}(t) = \\langle x(t), y(t) \\rangle$, then $\\vec{f}'(t) = \\langle x'(t), y'(t) \\rangle$.\n\nIf the derivative is never $\\vec{0}$, the curve is called *regular*. For a regular\ncurve\nthe derivative is a tangent vector to the parameterized curve, akin to the case for a univariate function. We can use `ForwardDiff` to compute the derivative in the exact same manner as was done for univariate functions:"
      ],
      "metadata": {}
    },
    {
      "outputs": [],
      "cell_type": "code",
      "source": [
        "using ForwardDiff\nD(f,n=1) = n > 1 ? D(D(f),n-1) : x -> ForwardDiff.derivative(f, float(x))\nBase.adjoint(f::Function) = D(f)         # allow f' to compute derivative"
      ],
      "metadata": {},
      "execution_count": null
    },
    {
      "cell_type": "markdown",
      "source": [
        "(This is already done by the `CalculusWithJulia package.)\n\nWe can visualize the tangential property through a graph:"
      ],
      "metadata": {}
    },
    {
      "outputs": [],
      "cell_type": "code",
      "source": [
        "f(t) = [3cos(t), 2sin(t)]\np = plot_parametric_curve(f, 0, 2pi, legend=false, aspect_ratio=:equal)\nfor t in [1,2,3]\n    arrow!(f(t), f'(t))   # add arrow with tail on curve, in direction of derivative\nend\np"
      ],
      "metadata": {},
      "execution_count": null
    },
    {
      "cell_type": "markdown",
      "source": [
        "### Symbolic representation\n\nWere symbolic expressions used in place of functions, the vector-valued function would naturally be represented as a vector of expressions:"
      ],
      "metadata": {}
    },
    {
      "outputs": [],
      "cell_type": "code",
      "source": [
        "using SymPy\n@vars t\nvvf = [cos(t), sin(t), t]"
      ],
      "metadata": {},
      "execution_count": null
    },
    {
      "cell_type": "markdown",
      "source": [
        "We will see working with these expressions is not identical to working with a vector-valued function.\n\nTo plot, we can avail ourselves of the the parametric plot syntax. The following expands to `plot(cos(t), sin(t), t, 0, 2pi)`:"
      ],
      "metadata": {}
    },
    {
      "outputs": [],
      "cell_type": "code",
      "source": [
        "plotly()"
      ],
      "metadata": {},
      "execution_count": null
    },
    {
      "outputs": [],
      "cell_type": "code",
      "source": [
        "plot(vvf..., 0, 2pi)"
      ],
      "metadata": {},
      "execution_count": null
    },
    {
      "outputs": [],
      "cell_type": "code",
      "source": [
        "gr()"
      ],
      "metadata": {},
      "execution_count": null
    },
    {
      "cell_type": "markdown",
      "source": [
        "The `unzip` usage, as was done above, could be used, but it would be  more trouble in this case.\n\nTo evaluate the function at a given value, say $t=2$, we can use `subs` with broadcasting to substitute into each component:"
      ],
      "metadata": {}
    },
    {
      "outputs": [],
      "cell_type": "code",
      "source": [
        "subs.(vvf, t.=>2)"
      ],
      "metadata": {},
      "execution_count": null
    },
    {
      "cell_type": "markdown",
      "source": [
        "The notation is a bit subtle: `subs.(` will broadcast over the 3 components in `vvf`. This is familiar, but broadcasting tries to match up sizes of collections. Without a \"dot\", `vvf` would have size 3 and `t=>2` has size 2 as an iterable object; and this causes a mismatch. We need to make `t=>2` appear to have just length 1. The `t.=>2` expresses this. (The \"dot\" syntactically indicates that `t .=> 2` will be a scalar.). Alternatively,  would wrapping the pair in a tuple, as in `(t=>2, )` or using `Ref`, as in `Ref(t=>2)`, will ensure broadcasting treats the pair as a scalar value. (This will be unnecessary as version `1.3` of `Julia`, as pairs will not be considered iterable for broadcasting purposes.)\n\n\nLimits are performed component by component, and can also be defined by broadcasting, again with the need to adjust the values:"
      ],
      "metadata": {}
    },
    {
      "outputs": [],
      "cell_type": "code",
      "source": [
        "@syms delta\nlimit.((subs.(vvf, t .=> t + delta) - vvf) / delta, delta .=> 0)"
      ],
      "metadata": {},
      "execution_count": null
    },
    {
      "cell_type": "markdown",
      "source": [
        "Derivatives, as was just done through a limit, are a bit more\nstraightforward than evaluation or limit taking, as we won't bump into\nthe shape mismatch when broadcasting:"
      ],
      "metadata": {}
    },
    {
      "outputs": [],
      "cell_type": "code",
      "source": [
        "diff.(vvf, t)"
      ],
      "metadata": {},
      "execution_count": null
    },
    {
      "cell_type": "markdown",
      "source": [
        "The second derivative, can be found through:"
      ],
      "metadata": {}
    },
    {
      "outputs": [],
      "cell_type": "code",
      "source": [
        "diff.(vvf, t, t)"
      ],
      "metadata": {},
      "execution_count": null
    },
    {
      "outputs": [],
      "cell_type": "code",
      "source": [
        "note(\"\"\"\nIf these differences are too subtle, it might be best to work with a function and when a symbolic expression is desirable, simply evaluate the function for a symbolic value.\n\"\"\")"
      ],
      "metadata": {},
      "execution_count": null
    },
    {
      "cell_type": "markdown",
      "source": [
        "### Applications of the derivative\n\nHere are some sample applications of the derivative.\n\n##### Example: equation of the tangent line\nThe derivative of a vector-valued function is similar to that of a univariate function, in that it indicates a direction tangent to a curve. The point-slope form offers a straightforward parameterization. We have a point given through the vector-valued function and a direction given by its derivative. (After identifying a vector with its tail at the origin with the point that is the head of the vector.)\n\nWith this, the equation is simply $\\vec{tl}(t) = \\vec{f}(t_0) + \\vec{f}'(t_0) \\cdot (t - t_0)$, where the dot indicates scalar multiplication.\n\n\n\n##### Example: parabolic motion\n\nIn physics, we learn that the equation $F=ma$ can be used to derive a formula for postion, when acceleration, $a$, is a constant. The resulting equation of motion is $x = x_0 + v_0t + (1/2) at^2$. Similarly, if $x(t)$ is a vector-valued postion vector, and the *second* derivative, $x''(t) =\\vec{a}$, a constant, then we have: $x(t) = \\vec{x_0} + \\vec{v_0}t + (1/2) \\vec{a} t^2$.\n\nFor two dimensions, we have the force due to gravity acts downward, only in the $y$ direction. The acceleration is then $\\vec{a} = \\langle 0, -g \\rangle$. If we start at the origin, with initial velocity $\\vec{v_0} = \\langle 2, 3\\rangle$, then we can plot the trajectory until the object returns to ground ($y=0$) as follows:"
      ],
      "metadata": {}
    },
    {
      "outputs": [],
      "cell_type": "code",
      "source": [
        "gravity = 9.8\nx0, v0, a = [0,0], [2, 3], [0, -gravity]\nxpos(t) = x0 + v0*t + (1/2)*a*t^2\n\nusing Roots\nt_0 = fzero(t -> xpos(t)[2], 1/10, 100)  # find when y=0\n\nplot_parametric_curve(xpos, 0, t_0)"
      ],
      "metadata": {},
      "execution_count": null
    },
    {
      "cell_type": "markdown",
      "source": [
        "##### Example: tractrix"
      ],
      "metadata": {}
    },
    {
      "outputs": [],
      "cell_type": "code",
      "source": [
        "# https://en.wikipedia.org/wiki/Tractrix\n# https://sinews.siam.org/Details-Page/a-bike-and-a-catenary\n# https://www.math.psu.edu/tabachni/talks/BicycleDouble.pdf\n# https://www.tandfonline.com/doi/abs/10.4169/amer.math.monthly.120.03.199\n# https://projecteuclid.org/download/pdf_1/euclid.em/1259158427"
      ],
      "metadata": {},
      "execution_count": null
    },
    {
      "cell_type": "markdown",
      "source": [
        "A [tractrix](https://en.wikipedia.org/wiki/Tractrix), studied by Perrault, Newton, Huygens, and many others, is the curve along which an object moves when pulled in a horizontal plane by a line segment attached to a pulling point (Wikipedia). If the object is placed at $(a,0)$ and the puller at the origin, and the puller moves along the positive $x$ axis, then the line will always be tangent to the curve and of fixed length, so determinable from the motion of the puller. In this example $dy/dx = -\\sqrt{a^2-x^2}/x$.\n\nThis is the key property: \"Due to the geometrical way it was defined, the tractrix has the property that the segment of its tangent, between the asymptote and the point of tangency, has constant length $a$.\"\n\n\nThe tracks made by the front and rear bicycle wheels also have this\nsame property and similarly afford a mathematical description. We follow\n[Dunbar, Bosman, and Nooij](https://doi.org/10.2307/2691097) from *The\nTrack of a Bicycle Back Tire* below, though\n[Levi and Tabachnikov](https://projecteuclid.org/download/pdf_1/euclid.em/1259158427)\nand\n[Foote, Levi, and Tabachnikov](https://www.tandfonline.com/doi/abs/10.4169/amer.math.monthly.120.03.199)\nwere also consulted.  Let $a$ be the distance between the front and\nback wheels, whose positions are parameterized by $\\vec{F}(t)$ and\n$\\vec{B}(t)$, respectively. The key property is the distance between\nthe two is always $a$, and, as the back wheel is always moving in the\ndirection of the front wheel, we have $\\vec{B}'(t)$ is in the\ndirection of $\\vec{F}(t) - \\vec{B}(t)$, that is the vector\n$(\\vec{F}(t)-\\vec{B}(t))/a$ is a unit vector in the direction of the\nderivative of $\\vec{B}$. How long is the derivative vector? That would\nbe answered by the speed of the back wheel, which is related to the\nvelocity of the front wheel. But only the component of the velocity in\nthe direction of $\\vec{F}(t)-\\vec{B}(t)$, so the speed of the back\nwheel is the length of the projection of $\\vec{F}'(t)$ onto the unit\nvector $(\\vec{F}(t)-\\vec{B}(t))/a$, which is identified through the dot product.\n\nCombined, this gives the following equations relating $\\vec{F}(t)$ to $\\vec{B}(t)$:\n\n$$~\ns_B(t) = \\vec{F}'(t) \\cdot \\frac{\\vec{F}(t)-\\vec{B}(t)}{a}, \\quad\n\\vec{B}'(t) = s_B(t) \\frac{\\vec{F}(t)-\\vec{B}(t)}{a}.\n~$$\n\nThis is a *differential* equation describing the motion of the back wheel in terms of the front wheel.\n\nIf the back wheel trajectory is known, the relationship is much easier, as the two differ by a vector of length $a$ in the direction of $\\vec{B}'(t)$, or:\n\n$$~\nF(t) = \\vec{B}(t) + a \\frac{\\vec{B'(t)}}{\\|\\vec{B}'(t)\\|}.\n~$$\n\n\nWe don't discuss when a differential equation has a solution, or if it\nis unique when it does, but note that the differential equation above\nmay be solved numerically, in a manner somewhat similar to what was\ndiscussed in [ODEs](../ODEs/odes.html). Though here we will use the\n`DifferentialEquations` package for finding the numeric solution.\n\nWe can define our equation as follows, using `p` to pass in the two parameters: the wheel-base length $a$, and $F(t)$, the parameterization of the front wheel in time:"
      ],
      "metadata": {}
    },
    {
      "outputs": [],
      "cell_type": "code",
      "source": [
        "using DifferentialEquations, LinearAlgebra\n\nfunction bicycle(dB, B, p, t)\n\n  a, F = p   # unpack parameters\n\n  speed =  F'(t) ⋅ (F(t) - B) / a\n  dB[1], dB[2] = speed * (F(t) - B) / a\n\nend"
      ],
      "metadata": {},
      "execution_count": null
    },
    {
      "cell_type": "markdown",
      "source": [
        "Let's consider a few simple cases first. We suppose $a=1$ and the front wheel moves in a circle of radius $3$. Here is how we can plot two loops:"
      ],
      "metadata": {}
    },
    {
      "outputs": [],
      "cell_type": "code",
      "source": [
        "t0, t1 = 0.0, 4pi\ntspan = (t0, t1)  # time span to consider\n\na = 1\nF(t) = 3 * [cos(t), sin(t)]\np = (a, F)      # combine parameters\n\nB0 = F(0) - [0, a]  # some initial position for the back\nprob = ODEProblem(bicycle, B0, tspan, p)\n\nout = DifferentialEquations.solve(prob, reltol=1e-6)"
      ],
      "metadata": {},
      "execution_count": null
    },
    {
      "cell_type": "markdown",
      "source": [
        "We qualify the `solve` function, as `SymPy` also has a `solve` function. (We would also need to qualify that as `SymPy.solve` once `DifferentialEquations` is loaded.) The object `out` holds the answer. This object is callable, in that `out(t)` will return the numerically computed value for the answer to our equation at time point `t`.\n\nTo plot the two trajectories, we could use that `out.u` holds the $x$ and $y$ components of the computed trajectory, but more simply, we  call `out` like a function."
      ],
      "metadata": {}
    },
    {
      "outputs": [],
      "cell_type": "code",
      "source": [
        "plt = plot_parametric_curve(F, t0, t1, legend=false)\nplot_parametric_curve!(out,  t0, t1, linewidth=3)\n\n## add the bicycle as a line segment at a few times along the path\nfor t in range(t0, t1, length=11)\n    plot!(unzip([out(t), F(t)])..., linewidth=3, color=:black)\nend\nplt"
      ],
      "metadata": {},
      "execution_count": null
    },
    {
      "cell_type": "markdown",
      "source": [
        "That the rear wheel track appears shorter, despite the rear wheel starting outside the circle, is typical of bicycle tracks and also a reason to rotate tires on car, as the front ones move a bit more than the rear, so presumably wear faster.\n\nLet's look what happens if the front wheel wobbles back and forth following a sine curve. Repeating the above, only with $F$ redefined, we have:"
      ],
      "metadata": {}
    },
    {
      "outputs": [],
      "cell_type": "code",
      "source": [
        "a = 1\nF(t) = [t, 2sin(t)]\np = (a, F)\n\nB0 = F(0) - [0, a]  # some initial position for the back\nprob = ODEProblem(bicycle, B0, tspan, p)\n\nout = DifferentialEquations.solve(prob, reltol=1e-6)\nplt = plot_parametric_curve(F, t0, t1, legend=false)\nplot_parametric_curve!(t->out(t),  t0, t1, linewidth=3)"
      ],
      "metadata": {},
      "execution_count": null
    },
    {
      "cell_type": "markdown",
      "source": [
        "Again, the back wheel moves less than the front.\n\n\nThe motion of the back wheel need not be smooth, even if the motion of the front wheel is, as this curve illustrates:"
      ],
      "metadata": {}
    },
    {
      "outputs": [],
      "cell_type": "code",
      "source": [
        "a = 1\nF(t) = [cos(t), sin(t)] + [cos(2t), sin(2t)]\np = (a, F)\n\nB0 = F(0) - [0,a]\nprob = ODEProblem(bicycle, B0, tspan, p)\n\nout = DifferentialEquations.solve(prob, reltol=1e-6)\nplt = plot_parametric_curve(F, t0, t1, legend=false)\nplot_parametric_curve!(t->out(t),  t0, t1, linewidth=3)"
      ],
      "metadata": {},
      "execution_count": null
    },
    {
      "cell_type": "markdown",
      "source": [
        "The back wheel is moving backwards for part of the above trajectory.\n\n\nThis effect can happen even for a front wheel motion as simple as a circle when the front wheel radius is less than the wheelbase:"
      ],
      "metadata": {}
    },
    {
      "outputs": [],
      "cell_type": "code",
      "source": [
        "a = 1\nF(t) = a/3 * [cos(t), sin(t)]\np = (a, F)\n\nt0, t1 = 0.0, 25pi\ntspan = (t0, t1)\n\nB0 = F(0) - [0,a]\nprob = ODEProblem(bicycle, B0, tspan, p)\n\nout = DifferentialEquations.solve(prob, reltol=1e-6)\nplt = plot_parametric_curve(F, t0, t1, legend=false, aspect_ratio=:equal)\nplot_parametric_curve!(t->out(t),  t0, t1, linewidth=3)"
      ],
      "metadata": {},
      "execution_count": null
    },
    {
      "cell_type": "markdown",
      "source": [
        "Later we will characterize when there are cusps in the rear-wheel trajectory.\n\n\n## Derivative rules.\n\nFrom the definition, as it is for univariate functions, for vector-valued functions $\\vec{f}, \\vec{g}: R \\rightarrow R^n$:\n\n$$~\n[\\vec{f} + \\vec{g}]'(t) = \\vec{f}'(t) + \\vec{g}'(t), \\quad\\text{and }\n[a\\vec{f}]'(t) = a \\vec{f}'(t).\n~$$\n\nIf $a(t)$ is a univariate (scalar) function of $t$, then a product rule holds:\n\n$$~\n[a(t) \\vec{f}(t)]' = a'(t)\\vec{f}(t) + a(t)\\vec{f}'(t).\n~$$\n\nIf $s$ is a univariate function, then the composition $\\vec{f}(s(t))$ can be differentiated. Each component would satisfy the chain rule, and consequently:\n\n$$~\n\\frac{d}{dt}\\left(\\vec{f}(s(t))\\right) = \\vec{f}'(s(t)) \\cdot s'(t),\n~$$\n\nThe dot being scalar multiplication by the derivative of the univariate function $s$.\n\nvector-valued functions do not have multiplication or division defined for them, so there are no ready analogues of the product and quotient rule. However, the dot product and the cross product produce new functions that may have derivative rules available.\n\nFor the dot product, the combination $\\vec{f}(t) \\cdot \\vec{g}(t)$ we have a univariate function of $t$, so we know a derivative is well defined. Can it be represented in terms of the vector-valued functions? In terms of the component functions, we have this calculation specific to $n=2$, but that which can be generalized:\n\n$$~\n\\frac{d}{dt}(\\vec{f}(t) \\cdot \\vec{g}(t)) =\n\\frac{d}{dt}(f_1(t) g_1(t) + f_2(t) g_2(t)) =\nf_1'(t) g_1(t) + f_1(t) g_1'(t) + f_2'(t) g_2(t) + f_2(t) g_2'(t) =\nf_1'(t) g_1(t) + f_2'(t) g_2(t) + f_1(t) g_1'(t)  + f_2(t) g_2'(t) =\n\\vec{f}'(t)\\cdot \\vec{g}(t) + \\vec{f}(t) \\cdot \\vec{g}'(t).\n~$$\n\nSuggesting the that a product rule like formula applies for dot products.\n\n\nFor the cross product, we let `SymPy` derive a formula for us."
      ],
      "metadata": {}
    },
    {
      "outputs": [],
      "cell_type": "code",
      "source": [
        "u1, u2, u3, v1, v2, v3 = SymFunction(\"u1, u2, u3, v1, v2, v3\")\n@vars t\nu = [u1(t), u2(t), u3(t)]\nv = [v1(t), v2(t), v3(t)]"
      ],
      "metadata": {},
      "execution_count": null
    },
    {
      "cell_type": "markdown",
      "source": [
        "Then the cross product a derivative:"
      ],
      "metadata": {}
    },
    {
      "outputs": [],
      "cell_type": "code",
      "source": [
        "using LinearAlgebra\ndiff.(u × v, t)"
      ],
      "metadata": {},
      "execution_count": null
    },
    {
      "cell_type": "markdown",
      "source": [
        "Admittedly, that isn't very clear. With a peek at the answer, we show that the derivative is the same as the product rule would suggest ($\\vec{u}' \\times \\vec{v} + \\vec{u} \\times \\vec{v}'$):"
      ],
      "metadata": {}
    },
    {
      "outputs": [],
      "cell_type": "code",
      "source": [
        "diff.(u × v, t) - (diff.(u,t) × v + u × diff.(v,t))"
      ],
      "metadata": {},
      "execution_count": null
    },
    {
      "cell_type": "markdown",
      "source": [
        "In summary, these two derivative formulas hold for vector-valued functions $R \\rightarrow R^n$:\n\n$$~\n\\begin{align}\n(\\vec{u} \\cdot \\vec{v})' &= \\vec{u}' \\cdot \\vec{v} + \\vec{u} \\cdot \\vec{v}',\\\\\n(\\vec{u} \\times \\vec{v})' &= \\vec{u}' \\times \\vec{v} + \\vec{u} \\times \\vec{v}'.\n\\end{align}\n~$$\n\n##### Application. Circular motion and the tangent vector.\n\nThe parameterization $\\vec{r}(t) = \\langle \\cos(t), \\sin(t) \\rangle$ describes a circle. Characteristic of this motion is a constant radius, or in terms of a norm: $\\| \\vec{r}(t) \\| = c$. The norm squared, can be expressed in terms of the dot product:\n\n$$~\n\\| \\vec{r}(t) \\|^2 = \\vec{r}(t) \\cdot \\vec{r}(t).\n~$$\n\nDifferentiating this for the case of a constant radius yields the\nequation $0 = [\\vec{r}\\cdot\\vec{r}]'(t)$, which simplifies through the\nproduct rule and commutativity of the dot product to $0 = 2 \\vec{r}(t)\n\\cdot \\vec{r}'(t)$. That is, the two vectors are orthogonal to each\nother. This observation proves to be very useful, as will be seen.\n\n\n##### Example: Kepler's laws\n\n[Kepler](https://tinyurl.com/y38wragh)'s laws of planetary motion are summarized by:\n\n* The orbit of a planet is an ellipse with the Sun at one of the two foci.\n\n* A line segment joining a planet and the Sun sweeps out equal areas during equal intervals of time.\n\n* The square of the orbital period of a planet is directly proportional to the cube of the semi-major axis of its orbit.\n\nKepler was a careful astronomer, and derived these laws empirically.\nWe show next how to derive these laws using vector calculus assuming some facts on Newtonian motion, as postulated by Newton. This approach is borrowed from [Joyce](https://mathcs.clarku.edu/~djoyce/ma131/kepler.pdf).\n\nWe adopt a sun-centered view of the universe, placing the sun at the origin and letting $\\vec{x}(t)$ be the position of a planet relative to this origin. We can express this in terms of a magnitude and direction through $r(t) \\hat{x}(t)$.\n\nNewton's law of gravitational force between the sun and this planet is then expressed by:\n\n\n$$~\n\\vec{F} = -\\frac{G M m}{r^2} \\hat{x}(t).\n~$$\n\nNewton's famous law relating force and acceleration is\n\n$$~\n\\vec{F} = m \\vec{a} = m \\ddot{\\vec{x}}.\n~$$\n\nCombining, Newton states $\\vec{a} = -(GM/r^2) \\hat{x}$.\n\nNow to show the first law. Consider $\\vec{x} \\times \\vec{v}$. It is constant, as:\n\n$$~\n\\begin{align}\n(\\vec{x} \\times \\vec{v})' &= \\vec{x}' \\times \\vec{v} + \\vec{x} \\times \\vec{v}'\\\\\n&= \\vec{v} \\times \\vec{v} + \\vec{x} \\times \\vec{a}.\n\\end{align}\n~$$\n\nBoth terms are $\\vec{0}$, as $\\vec{a}$ is parallel to $\\vec{x}$ by the above, and clearly $\\vec{v}$ is parallel to itself.\n\nThis says, $\\vec{x} \\times \\vec{v} = \\vec{c}$ is a constant vector, meaning, the motion of $\\vec{x}$ must lie in a plane, as $\\vec{x}$ is always orthogonal to the fixed vector $\\vec{c}$.\n\nNow, by differentiating $\\vec{x} = r \\hat{x}$ we have:\n\n$$~\n\\begin{align}\n\\vec{v} &= \\vec{x}'\\\\\n&= (r\\hat{x})'\\\\\n&= r' \\hat{x} + r \\hat{x}',\n\\end{align}\n~$$\n\nand so\n\n$$~\n\\begin{align}\n\\vec{c} &= \\vec{x} \\times \\vec{v}\\\\\n&= (r\\hat{x}) \\times (r'\\hat{x} + r \\hat{x}')\\\\\n&= r^2 (\\hat{x} \\times \\hat{x}').\n\\end{align}\n~$$\n\nFrom this, we can compute $\\vec{a} \\times \\vec{c}$:\n\n$$~\n\\begin{align}\n\\vec{a} \\times \\vec{c} &= (-\\frac{GM}{r^2})\\hat{x} \\times r^2(\\hat{x} \\times \\hat{x}')\\\\\n&= -GM \\hat{x} \\times (\\hat{x} \\times \\hat{x}') \\\\\n&= GM (\\hat{x} \\times \\hat{x}')\\times \\hat{x}.\n\\end{align}\n~$$\n\nThe last line by anti-commutativity.\n\nBut, the triple cross product can be simplified through the identify\n$(\\vec{u}\\times\\vec{v})\\times\\vec{w} = (\\vec{u}\\cdot\\vec{w})\\vec{v} - (\\vec{v}\\cdot\\vec{w})\\vec{u}$. So, the above becomes:\n\n$$~\n\\begin{align}\n\\vec{a} \\times \\vec{c} &=  GM ((\\hat{x}\\cdot\\hat{x})\\hat{x}' - (\\hat{x} \\cdot \\hat{x}')\\hat{x})\\\\\n&= GM (1 \\hat{x}' - 0 \\hat{x}).\n\\end{align}\n~$$\n\nNow, since $\\vec{c}$ is constant, we have:\n\n$$~\n\\begin{align}\n(\\vec{v} \\times \\vec{c})' &= (\\vec{a} \\times \\vec{c})\\\\\n&= GM \\hat{x}'\\\\\n&= (GM\\hat{x})'.\n\\end{align}\n~$$\n\nThe two sides have the same derivative, hence differ by a constant:\n\n$$~\n\\vec{v} \\times \\vec{c} = GM \\hat{x} + \\vec{d}.\n~$$\n\nAs $\\vec{u}$ and $\\vec{v}\\times\\vec{c}$ lie in the same plane - orthogonal to $\\vec{c}$ - so does $\\vec{d}$. With a suitable re-orientation, so that $\\vec{d}$ is along the $x$ axis, $\\vec{c}$ is along the $z$-axis, then we have $\\vec{c} = \\langle 0,0,c\\rangle$ and $\\vec{d} = \\langle d ,0,0 \\rangle$, and $\\vec{x} = \\langle x, y, 0 \\rangle$. Set $\\theta$ to be the angle, then $\\hat{x} = \\langle \\cos(\\theta), \\sin(\\theta), 0\\rangle$.\n\nNow\n\n$$~\n\\begin{align}\nc^2 &= \\|\\vec{c}\\|^2 \\\\\n&= \\vec{c} \\cdot \\vec{c}\\\\\n&= (\\vec{x} \\times \\vec{v}) \\cdot \\vec{c}\\\\\n&= \\vec{x} \\cdot (\\vec{v} \\times \\vec{c})\\\\\n&= r\\hat{x} \\cdot (GM\\hat{x} + \\vec{d})\\\\\n&= GMr + r \\hat{x} \\cdot \\vec{d}\\\\\n&= GMr + rd \\cos(\\theta).\n\\end{align}\n~$$\n\nSolving, this gives the radial distance in the form of an ellipse:\n\n$$~\nr = \\frac{c^2}{GM + d\\cos(\\theta)} =\n\\frac{c^2/(GM)}{1 + (d/GM) \\cos(\\theta)}.\n~$$\n\n\n\nKepler's second law can also be derived from vector calculus. This derivation follows that given at [MIT OpenCourseWare](https://ocw.mit.edu/courses/mathematics/18-02sc-multivariable-calculus-fall-2010/1.-vectors-and-matrices/part-c-parametric-equations-for-curves/session-21-keplers-second-law/MIT18_02SC_MNotes_k.pdf) [OpenCourseWare](https://ocw.mit.edu/courses/mathematics/18-02sc-multivariable-calculus-fall-2010/index.htm).\n\nThe second law states that the area being swept out during a time duration only depends on the duration of time, not the time. Let $\\Delta t$ be this duration. Then if $\\vec{x}(t)$ is the position vector, as above, we have the area swept out between $t$ and $t + \\Delta t$ is visualized along the lines of:"
      ],
      "metadata": {}
    },
    {
      "outputs": [],
      "cell_type": "code",
      "source": [
        "x1(t) = [cos(t), 2 * sin(t)]\nt0, t1, Delta = 1.0, 2.0, 1/10\nplot_parametric_curve(x1, 0, pi/2)\n\narrow!([0,0], x1(t0)); arrow!([0,0], x1(t0 + Delta))\narrow!(x1(t0), x1(t0+Delta)- x1(t0), linewidth=5)"
      ],
      "metadata": {},
      "execution_count": null
    },
    {
      "cell_type": "markdown",
      "source": [
        "The area swept out, is basically the half the area of the parallelogram formed by $\\vec{x}(t)$ and $\\Delta \\vec{x}(t) = \\vec{x}(t + \\Delta t) - \\vec{x}(t))$. This area is $(1/2) (\\vec{x} \\times \\Delta\\vec{x}(t))$.\n\nIf we divide through by $\\Delta t$, and take a limit we have:\n\n$$~\n\\frac{dA}{dt} = \\| \\frac{1}{2}\\lim_{\\Delta t \\rightarrow 0} (\\vec{x} \\times \\frac{\\vec{x}(t + \\Delta t) - \\vec{x}(t)}{\\Delta t})\\| =\n\\frac{1}{2}\\|\\vec{x} \\times \\vec{v}\\|.\n~$$\n\nBut we saw above, that for the motion of a planet, that $\\vec{x} \\times \\vec{v} = \\vec{c}$, a constant. This says, $dA$ is a constant independent of $t$, and consequently, the area swept out over a duration of time will not depend on the particular times involved, just the duration.\n\n\nThe third law relates the period to a parameter of the ellipse. We have from the above a strong suggestion that area of the ellipse can be found by integrating $dA$ over the period, say $T$. Assuming that is the case and letting $a$ be the semi-major axis length, and $b$ the semi-minor axis length, then\n\n$$~\n\\pi a b = \\int_0^T dA = \\int_0^T (1/2) \\|\\vec{x} \\times \\vec{v}\\| dt = \\| \\vec{x} \\times \\vec{v}\\| \\frac{T}{2}.\n~$$\n\nAs $c = \\|\\vec{x} \\times \\vec{v}\\|$ is a constant, this allows us to express $c$ by: $2\\pi a b/T$.\n\nBut, we have\n\n$$~\nr(\\theta) = \\frac{c^2}{GM + d\\cos(\\theta)} = \\frac{c^2/(GM)}{1 + d/(GM) \\cos(\\theta)}.\n~$$\n\nSo, $e = d/(GM)$ and $a (1 - e^2) = c^2/(GM)$. Using $b = a \\sqrt{1-e^2}$ we have:\n\n$$~\na(1-e^2) = c^2/(GM) = (\\frac{2\\pi a b}{T})^2 \\frac{1}{GM} =\n\\frac{(2\\pi)^2}{GM} \\frac{a^2 (a^2(1-e^2))}{T^2},\n~$$\n\nor after cancelling $(1-e^2)$ from each side:\n\n$$~\nT^2 = \\frac{(2\\pi)^2}{GM} \\frac{a^4}{a} = \\frac{(2\\pi)^2}{GM} a^3.\n~$$\n\n\n----\n\nThe above shows how Newton might have derived Kepler's observational facts. Next we show, that assuming the laws of Kepler can anticipate Newton's equation for gravitational force. This follows [Wikipedia](https://en.wikipedia.org/wiki/Kepler%27s_laws_of_planetary_motion#Planetary_acceleration).\n\nNow let $\\vec{r}(t)$ be the position of the planet relative to the Sun at the origin, in two dimensions (we used $\\vec{x}(t)$ above). Assume $\\vec{r}(0)$ points in the $x$ direction.\nWrite $\\vec{r} = r \\hat{r}$. Define $\\hat{\\theta(t)}$ to be the mapping from time $t$ to the angle  defined by $\\hat{r}$ through the unit circle.\n\nThen we express the velocity ($\\dot{\\vec{r}}$) and acceleration ($\\ddot{\\vec{r}}$) in terms of the orthogonal vectors $\\hat{r}$ and $\\hat{\\theta}$, as follows:\n\n$$~\n\\frac{d}{dt}(r \\hat{r}) = \\dot{r} \\hat{r} + r \\dot{\\hat{r}} =  \\dot{r} \\hat{r} + r \\dot{\\theta}\\hat{\\theta}.\n~$$\n\nThe last equality from expressing $\\hat{r}(t) = \\hat{r}(\\theta(t))$ and using the chain rule, noting $d(\\hat{r}(\\theta))/d\\theta = \\hat{\\theta}$.\n\nContinuing,\n\n$$~\n\\frac{d^2}{dt^2}(r \\hat{r}) =\n(\\ddot{r} \\hat{r} + \\dot{r} \\dot{\\hat{r}}) +\n(\\dot{r} \\dot{\\theta}\\hat{\\theta} + r \\ddot{\\theta}\\hat{\\theta} + r \\dot{\\theta}\\dot{\\hat{\\theta}}).\n~$$\n\nNoting, similar to above, $\\dot{\\hat{\\theta}}  = d\\hat{\\theta}/dt = d\\hat{\\theta}/d\\theta \\cdot d\\theta/dt = -\\dot{\\theta} \\hat{r}$ we can express the above in terms of $\\hat{r}$ and $\\hat{\\theta}$ as:\n\n$$~\n\\vec{a} = \\frac{d^2}{dt^2}(r \\hat{r}) = (\\ddot{r} - r (\\dot{\\theta})^2) \\hat{r}  + (r\\ddot{\\theta}  + 2\\dot{r}\\dot{\\theta}) \\hat{\\theta}.\n~$$\n\nThat is, in general, the acceleration has a radial component and a transversal component.\n\nKepler's second law says that the area increment over time is constant ($dA/dt$), but this area increment is approximated by the following wedge in polar coordinates: $dA = (1/2) r \\cdot rd\\theta$. We have then $dA/dt = r^2 \\dot{\\theta}$ is constant.\n\nDifferentiating, we have:\n\n$$~\n0 = \\frac{d(r^2 \\dot{\\theta})}{dt} = 2r\\dot{r}\\dot{\\theta} + r^2 \\ddot{\\theta},\n~$$\n\nwhich is the tranversal component of the acceleration times $r$, as decomposed above. This means, that the acceleration of the planet is completely towards the Sun at the origin.\n\nKepler's first law, relates $r$ and $\\theta$ through the polar equation of an ellipse:\n\n$$~\nr = \\frac{p}{1 + \\epsilon \\cos(\\theta)}.\n~$$\n\nExpressing in terms of $p/r$ and differentiating in $t$ gives:\n\n$$~\n-\\frac{p \\dot{r}}{r^2} = -\\epsilon\\sin(\\theta) \\dot{\\theta}.\n~$$\n\nOr\n\n$$~\np\\dot{r} = \\epsilon\\sin(\\theta) r^2 \\dot{\\theta} = \\epsilon \\sin(\\theta) C,\n~$$\n\nFor a constant $C$, used above, as the second laws implies $r^2 \\dot{\\theta}$ is constant. (This constant can be expressed in terms of parameters describing the ellipse.)\n\nDifferentiating again in $t$, gives:\n\n$$~\np \\ddot{r} = C\\epsilon \\cos(\\theta) \\dot{\\theta} = C\\epsilon \\cos(\\theta)\\frac{C}{r^2}.\n~$$\n\nSo $\\ddot{r} = (C^2 \\epsilon / p) \\cos{\\theta} (1/r^2)$.\n\nThe radial acceleration from above is:\n\n$$~\n\\ddot{r} - r (\\dot{\\theta})^2 =\n(C^2 \\epsilon/p) \\cos{\\theta} \\frac{1}{r^2} - r\\frac{C^2}{r^4} = \\frac{C^2}{pr^2}(\\epsilon \\cos(\\theta) - \\frac{p}{r}).\n~$$\n\nUsing $p/r = 1 + \\epsilon\\cos(\\theta)$, we have the radial acceleration is $C^2/p \\cdot (1/r^2)$. That is the acceleration, is proportional to the inverse square of the position, and using the relation between $F$, force, and acceleration, we see the force on the planet follows the inverse-square law of Newton.\n\n\n\n### Moving frames of reference\n\nIn the last example, it proved useful to represent vectors in terms of\nother unit vectors, in that case $\\hat{r}$ and $\\hat{\\theta}$. Here we\ndiscuss a coordinate system defined intrinsically by the motion along\nthe trajectory of a curve.\n\nLet $r(t)$ be a smooth vector-valued function in $R^3$. It gives rise to a space curve, through its graph. This curve has tangent vector $\\vec{r}'(t)$, indicating the direction of travel along $\\vec{r}$ as $t$ increases. The length of $\\vec{r}'(t)$ depends on the parameterization of $\\vec{r}$, as for any increasing, differentiable function $s(t)$, the composition $\\vec{r}(s(t))$ will have derivative, $\\vec{r}'(s(t)) s'(t)$, having the same direction as $\\vec{r}'(t)$ (at suitably calibrated points), but not the same magnitude, the factor of $s(t)$ being involved.\n\nTo discuss properties intrinsic to the curve, the unit vector is considered:\n\n$$~\n\\hat{T}(t) = \\frac{\\vec{r}'(t)}{\\|\\vec{r}'(t)\\|}.\n~$$\n\n\nThe function $\\hat{T}(t)$ is the unit tangent vector.\nNow define the unit *normal*, $\\hat{N}(t)$, by:\n\n$$~\n\\hat{N}(t) = \\frac{\\hat{T}'(t)}{\\| \\hat{T}'(t) \\|}.\n~$$\n\nSince $\\|\\hat{T}(t)\\| = 1$, a constant, it must be that $\\hat{T}'(t) \\cdot \\hat{T}(t) = 0$, that is, the $\\hat{N}$ and $\\hat{T}$ are orthogonal.\n\nFinally, define the *binormal*, $\\hat{B}(t) = \\hat{T}(t) \\times \\hat{N}(t)$. At each time $t$, the three unit vectors are orthogonal to each other. They form a moving coordinate system for the motion along the curve that does not depend on the parameterization.\n\nWe can visualize this, for example along a [Viviani](https://tinyurl.com/y4lo29mv) curve, as is done in a [Wikipedia](https://en.wikipedia.org/wiki/Frenet%E2%80%93Serret_formulas) animation:"
      ],
      "metadata": {}
    },
    {
      "outputs": [],
      "cell_type": "code",
      "source": [
        "plotly()"
      ],
      "metadata": {},
      "execution_count": null
    },
    {
      "outputs": [],
      "cell_type": "code",
      "source": [
        "function viviani(t, a=1)\n    [a*(1-cos(t)), a*sin(t), 2a*sin(t/2)]\nend\n\n\nTangent(t) = viviani'(t)/norm(viviani'(t))\nNormal(t) = Tangent'(t)/norm(Tangent'(t))\nBinormal(t) = Tangent(t) × Normal(t)\n\np = plot(legend=false, aspect_ratio=:equal)\nplot_parametric_curve!(viviani, -2pi, 2pi)\n\nt0, t1 = -pi/3, pi/2 + 2pi/5\nr0, r1 = viviani(t0), viviani(t1)\narrow!(r0, Tangent(t0)); arrow!(r0, Binormal(t0)); arrow!(r0, Normal(t0))\narrow!(r1, Tangent(t1)); arrow!(r1, Binormal(t1)); arrow!(r1, Normal(t1))\np"
      ],
      "metadata": {},
      "execution_count": null
    },
    {
      "cell_type": "markdown",
      "source": [
        "----\n\nThe *curvature* of a 3-dimensional space curve is defined by:\n\n$$~\n\\kappa = \\frac{\\| r'(t) \\times r''(t) \\|}{\\| r'(t) \\|^3}\n~$$\n\n\nFor $2$ dimensional space curves, the same formula applies after embedding a $0$ third component. It can also be expressed directly as $(x'y''-x''y')/\\|r'\\|^3$.\n\n\n\nThis can also be defined as derivative of the tangent vector, $\\hat{T}$,\n*when* the curve is parameterized by arc length, a topic still to be taken up.  The vector $\\vec{r}'(t)$ is the direction of motion, whereas\n$\\vec{r}''(t)$ indicates how fast and in what direction this is\nchanging. For curves with little curve in them, the two will be nearly\nparallel and the cross product small (reflecting the presence of\n$\\cos(\\theta)$ in the definition). For \"curvy\" curves, $\\vec{r}''$ will be\nin a direction opposite of $\\vec{r}'$ to the $\\cos(\\theta)$ term in the\ncross product will be closer to $1$.\n\nLet $\\vec{r}(t) = k \\cdot \\langle \\cos(t), \\sin(t), 0 \\rangle$. This will have curvature:"
      ],
      "metadata": {}
    },
    {
      "outputs": [],
      "cell_type": "code",
      "source": [
        "@vars k positive=true\n@vars t real=true\nr1 = k * [cos(t), sin(t),0]\nnorm(diff.(r1,t) × diff.(r1,t,t)) / norm(diff.(r1,t))^3 |> simplify"
      ],
      "metadata": {},
      "execution_count": null
    },
    {
      "cell_type": "markdown",
      "source": [
        "For larger circles (bigger $\\|k\\|$) there is less curvature. The limit being a line with curvature $0$.\n\nIf a curve is imagined to have a tangent \"circle\" (second order Taylor series approximation), then the curvature of that circle matches the curvature of the curve.\n\n\nThe [torsion](https://en.wikipedia.org/wiki/Torsion_of_a_curve), $\\tau$, of a space curve ($n=3$), is a measure of how sharply the curve is twisting out of the plane of curvature.\n\nThe torsion is defined for smooth curves by\n\n$$~\n\\tau = \\frac{(\\vec{r}' \\times \\vec{r}'') \\cdot \\vec{r}'''}{\\|\\vec{r}' \\times \\vec{r}''\\|^2}.\n~$$\n\nFor the torsion to be defined, the cross product $\\vec{r}' \\times \\vec{r}''$ must be non zero, that is the two must not be parallel or zero.\n\n\n## Arc length\n\nIn [Arc length](../integrals/arc_length.html) there is a discussion of how to find the arc length of a parameterized curve in 2 dimensions. The general case is discussed by [Destafano](https://randomproofs.files.wordpress.com/2010/11/arc_length.pdf) who shows if the curve $C$ is parameterized by a smooth function $\\vec{r}(t)$ over an interval $I$, that the arc length of $C$ is $\\int_I \\| \\vec{r}'(t)  \\| dt$.\n\nIf we associate $\\vec{r}'(t)$ with the velocity, then this is the integral of the speed (the magnitude of the velocity).\n\nLet $I=[a,b]$ and $s(t): [v,w] \\rightarrow [a,b]$ such that $s$ is increasing and differentiable. Then $\\vec{\\phi} = \\vec{r} \\circ s$ will have have\n\n$$~\n\\text{arc length} =\n\\int_v^w \\| \\vec{\\phi}'(t)\\| dt =\n\\int_v^w \\| \\vec{r}'(s(t))\\| s'(t) dt =\n\\int_a^b \\| \\vec{r}'(u) \\| du,\n~$$\n\nby a change of variable $u=s(t)$. As such the arc length is a property of the curve and not the parameterization of the curve.\n\nFor some parameterization, we can define\n\n$$~\ns(t) = \\int_0^t \\| \\vec{r}'(u) \\| du\n~$$\n\nThen by the fundamental theorem of calculus, $s(t)$ is non-decreasing. If $\\vec{r}'$ is assumed to be non-zero and continuous (regular), then $s(t)$ has a derivative and an inverse which is monotonic. Using the inverse function $s^{-1}$ to change variables ($\\vec{\\phi} = \\vec{r} \\circ s^{-1}$) has\n\n$$~\n\\int_0^c \\| \\phi'(t) \\| dt =\n\\int_{s^{-1}(0)}^{s^{-1}(c)} \\| \\vec{r}'(u) \\| du =\ns(s^{-1}(c)) - s(s^{-1}(0)) =\nc\n~$$\n\nThat is, the arc length from $[0,c]$ for $\\phi$ is just $c$; the curve $C$ is parameterized by arc length.\n\n\n##### Example\n\nViviani's curve is the intersection of sphere of radius $a$ with a cylinder of radius $a$. A parameterization was given previously by:"
      ],
      "metadata": {}
    },
    {
      "outputs": [],
      "cell_type": "code",
      "source": [
        "function viviani(t, a=1)\n    [a*(1-cos(t)), a*sin(t), 2a*sin(t/2)]\nend"
      ],
      "metadata": {},
      "execution_count": null
    },
    {
      "cell_type": "markdown",
      "source": [
        "The curve is traced out over the interval $[0, 4\\pi]$. We try to find the arc-length:"
      ],
      "metadata": {}
    },
    {
      "outputs": [],
      "cell_type": "code",
      "source": [
        "@vars t a positive=true\nspeed = simplify(norm(diff.(viviani(t, a), t)))\nintegrate(speed, (t, 0, 4*PI))"
      ],
      "metadata": {},
      "execution_count": null
    },
    {
      "cell_type": "markdown",
      "source": [
        "We see that the answer depends linearly on $a$, but otherwise is a constant expressed as an integral. We use `QuadGk` to provide a numeric answer for the case $a=1$:"
      ],
      "metadata": {}
    },
    {
      "outputs": [],
      "cell_type": "code",
      "source": [
        "using QuadGK\nquadgk(t -> norm(viviani'(t)), 0, 4pi)"
      ],
      "metadata": {},
      "execution_count": null
    },
    {
      "cell_type": "markdown",
      "source": [
        "##### Example\n\nVery few parameterized curves admit a closed-form expression for parameterization by arc-length. Let's consider the helix expressed by $\\langle a\\cos(t), a\\sin(t), bt\\rangle$, as this does allow such a parameterization."
      ],
      "metadata": {}
    },
    {
      "outputs": [],
      "cell_type": "code",
      "source": [
        "@vars a b t al positive=true\nhelix = [a*cos(t), a*sin(t), b*t]\nspeed = simplify( norm(diff.(helix, t)) )\ns = integrate(speed, (t, 0, al))"
      ],
      "metadata": {},
      "execution_count": null
    },
    {
      "cell_type": "markdown",
      "source": [
        "So `s` is a linear function. We can re-parameterize by:"
      ],
      "metadata": {}
    },
    {
      "outputs": [],
      "cell_type": "code",
      "source": [
        "eqn = subs.(helix, t.=> al/sqrt(a^2 + b^2))"
      ],
      "metadata": {},
      "execution_count": null
    },
    {
      "cell_type": "markdown",
      "source": [
        "To see that the speed, $\\| \\vec{\\phi}' \\|$, is constantly $1$:"
      ],
      "metadata": {}
    },
    {
      "outputs": [],
      "cell_type": "code",
      "source": [
        "simplify(norm(diff.(eqn,al)))"
      ],
      "metadata": {},
      "execution_count": null
    },
    {
      "cell_type": "markdown",
      "source": [
        "From this, we have the arc length is:\n\n$$~\n\\int_0^t \\| \\vec{\\phi}'(u) \\| du = \\int_0^t 1 du = t\n~$$\n\n----\n\nParameterizing by arc-length is only explicitly possible for a few examples, however knowing it can be done in theory, is important. Some formulas are simplified, such as the tangent, normal, and binormal. Let $\\vec{r}(s)$ be parameterized by arc length, then:\n\n$$~\n\\hat{T}(s)= \\vec{r}'(s) / \\| \\vec{r}'(s) \\| = \\vec{r}'(s),\\quad\n\\hat{N}(s) = \\hat{T}'(s) / \\| \\hat{T}'(s)\\| = \\hat{T}'(s)/\\kappa,\\quad\n\\hat{B} = \\hat{T} \\times \\hat{N},\n~$$\n\nAs before, but further, we have if $\\kappa$ is the curvature and $\\tau$ the torsion, these relationships expressing the derivatives with respect to $s$ in terms of the components in the frame:\n\n$$~\n\\begin{array}{}\n\\hat{T}'(s) &=                    &\\kappa \\hat{N}(s)  &\\\\\n\\hat{N}'(s) &= -\\kappa \\hat{T}(s) &                   &+ \\tau \\hat{B}(s)\\\\\n\\hat{B}'(s) &=                    &-\\tau \\hat{N}(s)   &\n\\end{array}\n~$$\n\nThese are the [Frenet-Serret](https://en.wikipedia.org/wiki/Frenet%E2%80%93Serret_formulas) formulas.\n\n##### Example\n\nContinuing with our parameterization of a helix by arc length, we can compute the curvature and torsion by differentiation:"
      ],
      "metadata": {}
    },
    {
      "outputs": [],
      "cell_type": "code",
      "source": [
        "gamma = subs.(helix, t.=> al/sqrt(a^2 + b^2))   # gamma parameterized by arc length\n@vars u positive=true\ngamma = subs.(gamma, al .=> u)                  # u is arc-length parameterization"
      ],
      "metadata": {},
      "execution_count": null
    },
    {
      "outputs": [],
      "cell_type": "code",
      "source": [
        "T = diff.(gamma, u)\nnorm(T)"
      ],
      "metadata": {},
      "execution_count": null
    },
    {
      "cell_type": "markdown",
      "source": [
        "The length is one, as the speed of a curve parameterized by arc-length is 1."
      ],
      "metadata": {}
    },
    {
      "outputs": [],
      "cell_type": "code",
      "source": [
        "out = diff.(T, u)"
      ],
      "metadata": {},
      "execution_count": null
    },
    {
      "cell_type": "markdown",
      "source": [
        "This should be $\\kappa \\hat{N}$, so we do:"
      ],
      "metadata": {}
    },
    {
      "outputs": [],
      "cell_type": "code",
      "source": [
        "kappa = norm(out)\nNorm = out/kappa\nkappa |> simplify"
      ],
      "metadata": {},
      "execution_count": null
    },
    {
      "cell_type": "markdown",
      "source": [
        "Interpreting, $a$ is the radius of the circle and $b$ how tight the coils are. If $a$ gets much larger than $b$, then the curvature is like $1/a$, just as with a circle. If $b$ gets very big, then the trajectory looks more stretched out and the curvature gets smaller.\n\n\nTo find the torsion, we find, $\\hat{B}$ then differentiate:"
      ],
      "metadata": {}
    },
    {
      "outputs": [],
      "cell_type": "code",
      "source": [
        "B = T × Norm\nout = diff.(B, u)"
      ],
      "metadata": {},
      "execution_count": null
    },
    {
      "cell_type": "markdown",
      "source": [
        "This looks complicated, as does `Norm`:"
      ],
      "metadata": {}
    },
    {
      "outputs": [],
      "cell_type": "code",
      "source": [
        "Norm"
      ],
      "metadata": {},
      "execution_count": null
    },
    {
      "cell_type": "markdown",
      "source": [
        "However, the torsion, up to a sign, simplifies nicely:"
      ],
      "metadata": {}
    },
    {
      "outputs": [],
      "cell_type": "code",
      "source": [
        "norm(out) |> simplify"
      ],
      "metadata": {},
      "execution_count": null
    },
    {
      "cell_type": "markdown",
      "source": [
        "Here, when $b$ gets large, the curve looks more and more \"straight\" and the torsion decreases. Similarly, if $a$ gets big, the torsion decreases.\n\n\n##### Example\n\n[Levi and Tabachnikov](https://projecteuclid.org/download/pdf_1/euclid.em/1259158427) consider the trajectories of the front and rear bicycle wheels. Recall the notation previously used: $\\vec{F}(t)$ for the front wheel, and $\\vec{B}(t)$ for the rear wheel trajectories. Consider now their parameterization by arc length, using $u$ for the arc-length parameter for $\\vec{F}$ and $v$ for $\\vec{B}$. We define $\\alpha(u)$ to be the steering angle of the bicycle. This can be found as the angle between the tangent vector of the path of $\\vec{F}$ with the vector $\\vec{B} - \\vec{F}$. Let $\\kappa$ be the curvature of the front wheel and $k$ the curvature of the back wheel."
      ],
      "metadata": {}
    },
    {
      "outputs": [],
      "cell_type": "code",
      "source": [
        "gr()\na = 1\nF(t) = [cos(pi/2 - t), 2sin(pi/2-t)]\np = (a, F)\n\nt0, t1 = -pi/6, pi/2.75\ntspan = (t0, t1)\n\nt = 7pi/6\nB0 = F(t0) + a*[cos(t), sin(t)]\nprob = ODEProblem(bicycle, B0, tspan, p)\n\nout = DifferentialEquations.solve(prob, reltol=1e-6)\nplt = plot_parametric_curve(F, t0, t1, linewidth=3,\n                            xticks=nothing, yticks=nothing, border=:none,\n                            legend=false, aspect_ratio=:equal)\nplot_parametric_curve!(t->out(t),  t0, t1, linewidth=3)\n\nt = pi/4\narrow!(out(t), 2*(F(t) - out(t)))\nplot!(unzip([out(t), F(t)])..., linewidth=2)\narrow!(F(t), F'(t)/norm(F'(t)))\nFphat(t) = F'(t)/norm(F'(t))\narrow!( F(t), -Fphat'(t)/norm(Fphat'(t)))\nusing LaTeXStrings\nannotate!([(-.5,1.5,L\"k\"),\n(.775,1.55,L\"\\kappa\"),\n(.85, 1.3, L\"\\alpha\")])\n\nplt"
      ],
      "metadata": {},
      "execution_count": null
    },
    {
      "cell_type": "markdown",
      "source": [
        "Levi and Tabachnikov prove in their Proposition 2.4:\n\n$$~\n\\begin{align}\n\\kappa(u) &= \\frac{d\\alpha(u)}{du} + \\frac{\\sin(\\alpha(u))}{a},\\\\\n|\\frac{du}{dv}| &= |\\cos(\\alpha)|, \\quad \\text{and}\\\\\nk &= \\frac{\\tan(\\alpha)}{a}.\n\\end{align}\n~$$\n\nThe first equation relates the steering angle with the curvature. If the steering angle is not changed ($d\\alpha/du=0$) then the curvature is constant and the motion is circular. It will be greater for larger angles (up to $\\pi/2$). As the curvature is the reciprocal of the radius, this means the radius of the circular trajectory will be smaller. For the same constant steering angle, the curvature will be smaller for longer wheelbases, meaning the circular trajectory will have a larger radius. For cars, which have similar dynamics, this means longer wheelbase cars will take more room to make a U turn.\n\nThe second equation may be interpreted in ratio of arc lengths. The infinitesimal arc length of the rear wheel is proportional to that of the front wheel only scaled down by $\\cos(\\alpha)$. When $\\alpha=0$ - the bike is moving in a straight line - and the two are the same. At the other extreme - when $\\alpha=\\pi/2$ - the bike must be pivoting on its rear wheel and the rear wheel has no arc length. This cosine, is related to the speed of the back wheel relative to the speed of the front wheel, which was used in the initial differential equation.\n\nThe last equation, relates the curvature of the back wheel track to the steering angle of the front wheel. When $\\alpha=\\pm\\pi/2$, the rear-wheel curvature, $k$, is infinite, resulting in a cusp (no circle with non-zero radius will approximate the trajectory). This occurs when the front wheel is steered orthogonal to the direction of motion. As was seen in previous graphs of the trajectories, a cusp can happen for quite regular front wheel trajectories.\n\n\nTo derive the first one, we have previously noted that\nwhen a curve is parameterized by arc length, the curvature is more directly computed: it is the magnitude of the derivative of the tangent vector.\nThe tangent vector is of unit length, when parametrized by arc length. This implies it's derivative will be orthogonal. If $\\vec{r}(t)$ is a parameterization by arc length, then the curvature formula simplifies as:\n\n$$~\n\\kappa(s) = \\frac{\\| \\vec{r}'(s) \\times \\vec{r}''(s) \\|}{\\|\\vec{r}'(s)\\|^3} =\n\\frac{\\| \\vec{r}'(s) \\times \\vec{r}''(s) \\|}{1} =\n\\| \\vec{r}'(s) \\| \\| \\vec{r}''(s) \\| \\sin(\\theta) =\n1 \\| \\vec{r}''(s) \\| 1 = \\| \\vec{r}''(s) \\|.\n~$$\n\n\nSo in the above, the curvature is $\\kappa = \\| \\vec{F}''(u) \\|$ and $k = \\|\\vec{B}''(v)\\|$.\n\nOn the figure, the tangent vector $\\vec{F}'(u)$ is drawn, along with this unit vector rotated by $\\pi/2$. We call these, for convenience, $\\vec{U}$ and $\\vec{V}$. We have $\\vec{U} = \\vec{F}'(u)$ and $\\vec{V} = -(1/\\kappa) \\vec{F}''(u)$.\n\n\nThe key decomposition, is to express a unit vector in the direction of the line segment, as the vector $\\vec{U}$ rotated by $\\alpha$ degrees. Mathematically, this is usually expressed in matrix notation, but more explicitly by\n\n$$~\n\\langle \\cos(\\alpha) \\vec{U}_1 - \\sin(\\alpha) \\vec{U}_2,\n\\sin(\\alpha) \\vec{U}_1 + \\cos(\\alpha) \\vec{U}_2 =\n\\vec{U} \\cos(\\alpha) - \\vec{V} \\sin(\\alpha).\n~$$\n\nWith this, the mathematical relationship between $F$ and $B$ is just a multiple of this unit vector:\n\n$$~\n\\vec{B}(u) = \\vec{F}(u) - a \\vec{U} \\cos(\\alpha) + a \\vec{V} \\sin(\\alpha).\n~$$\n\nIt must be that the tangent line of $\\vec{B}$ is parallel to $\\vec{U} \\cos(\\alpha) + \\vec{V} \\sin(\\alpha)$. To utilize this, we differentiate $\\vec{B}$ using the facts that $\\vec{U}' = \\kappa \\vec{V}$ and $\\vec{V}' = -\\kappa \\vec{U}$. These coming from $\\vec{U} = \\vec{F}'$ and so it's derivative in $u$ has magnitude yielding the curvature, $\\kappa$, and direction orthogonal to $\\vec{U}$.\n\n$$~\n\\begin{align}\n\\vec{B}'(u) &= \\vec{F}'(u)\n-a \\vec{U}' \\cos(\\alpha) -a \\vec{U} (-\\sin(\\alpha)) \\alpha'\n+a \\vec{V}' \\sin(\\alpha) + a \\vec{V} \\cos(\\alpha) \\alpha'\\\\\n& =  \\vec{U}\n-a (\\kappa) \\vec{V} \\cos(\\alpha) + a \\vec{U} \\sin(\\alpha) \\alpha' +\na (-\\kappa) \\vec{U} \\sin(\\alpha) + a \\vec{V} \\cos(\\alpha) \\alpha' \\\\\n&= \\vec{U}\n+ a(\\alpha' - \\kappa) \\sin(\\alpha) \\vec{U}\n+ a(\\alpha' - \\kappa) \\cos(\\alpha)\\vec{V}.\n\\end{align}\n~$$\n\nExtend the 2-dimensional vectors to 3-d, by adding a zero $z$ component, then:\n\n$$~\n\\begin{align}\n\\vec{0} &= (\\vec{U}\n+ a(\\alpha' - \\kappa) \\sin(\\alpha) \\vec{U}\n+ a(\\alpha' - \\kappa) \\cos(\\alpha)\\vec{V}) \\times\n(-\\vec{U} \\cos(\\alpha) +  \\vec{V} \\sin(\\alpha)) \\\\\n&= (\\vec{U} \\times \\vec{V}) \\sin(\\alpha) +\na(\\alpha' - \\kappa) \\sin(\\alpha) \\vec{U} \\times  \\vec{V} \\sin(\\alpha)) -\na(\\alpha' - \\kappa) \\cos(\\alpha)\\vec{V} \\times \\vec{U} \\cos(\\alpha) \\\\\n&= (\\sin(\\alpha) + a(\\alpha'-\\kappa) \\sin^2(\\alpha) +\na(\\alpha'-\\kappa) \\cos^2(\\alpha)) \\vec{U} \\times \\vec{V} \\\\\n&= (\\sin(\\alpha) + a (\\alpha' - \\kappa)) \\vec{U} \\times \\vec{V}.\n\\end{align}\n~$$\n\nThe terms $\\vec{U} \\times\\vec{U}$ and $\\vec{V}\\times\\vec{V}$ being $\\vec{0}$, due to properties of the cross product. This says the scalar part must be $0$, or\n\n$$~\n\\frac{\\sin(\\alpha)}{a} + \\alpha' = \\kappa.\n~$$\n\nAs for the second equation,\nfrom the expression for $\\vec{B}'(u)$, after setting $a(\\alpha'-\\kappa) = -\\sin(\\alpha)$:\n\n$$~\n\\begin{align}\n\\|\\vec{B}'(u)\\|^2\n&= \\| (1 -\\sin(\\alpha)\\sin(\\alpha)) \\vec{U} -\\sin(\\alpha)\\cos(\\alpha) \\vec{V} \\|^2\\\\\n&= \\| \\cos^2(\\alpha) \\vec{U} -\\sin(\\alpha)\\cos(\\alpha) \\vec{V} \\|^2\\\\\n&= (\\cos^2(\\alpha))^2 + (\\sin(\\alpha)\\cos(\\alpha))^2\\quad\\text{using } \\vec{U}\\cdot\\vec{V}=0\\\\\n&= \\cos^2(\\alpha)(\\cos^2(\\alpha) + \\sin^2(\\alpha))\\\\\n&= \\cos^2(\\alpha).\n\\end{align}\n~$$\n\nFrom this $\\|\\vec{B}(u)\\| = |\\cos(\\alpha)\\|$. But $1 = \\|d\\vec{B}/dv\\| = \\|d\\vec{B}/du \\| \\cdot |du/dv|$ and $|dv/du|=|\\cos(\\alpha)|$ follows."
      ],
      "metadata": {}
    },
    {
      "outputs": [],
      "cell_type": "code",
      "source": [
        "#How to compute the curvature k?\n#$$~\n#\\begin{align}\n#\\frac{d^2\\hat{B}}{dv}\n#&= \\frac{d^2\\hat{B}}{du^2} \\cdot (\\frac{dv}{du})^2 + \\frac{d^2v}{du^2} \\cdot \\hat{B}'(u)\\\\\n#&= \\cos^2(\\alpha) \\cdot (-2\\sin(\\alpha)\\cos(\\alpha}\\alpha'\\vec{U} + \\cos^2(\\alpha) \\kappa \\vec{V} - (\\cos^2(\\alph#a)-\\sin^2(\\alpha))\\alpha'\\vec{V} + \\sin(\\alpha)\\cos(\\alpha)\\kappa \\vec{U}) + \\frac{\\sin(\\alpha)}{\\cos^2(\\alpha) \\#cdot (\\cos^2(\\alpha)\\vec{U} - \\sin(\\alpha)\\cos(\\alpha) \\vec{V})\\\\\n#&=\n#\n#\n#&= \\| (1 -\\sin(alpha)\\sin(\\alpha) \\vec{U} -\\sin(\\alpha)\\cos(\\alpha) \\vec{V} \\|^2\\\\\n#&= \\| \\cos^2(\\alpha) \\vec{U} -\\sin(\\alpha)\\cos(\\alpha) \\vec{V} \\|^2\\\\\n#&= ((\\cos^2(alpha))^2 + (\\sin(\\alpha)\\cos(\\alpha))^2\\quad\\text{using } \\vec{U}\\cdot\\vec{V}=0\\\\\n#&= \\cos(\\alpha)^2.\n#\\end{align}\n#~$$"
      ],
      "metadata": {},
      "execution_count": null
    },
    {
      "cell_type": "markdown",
      "source": [
        "##### Example: evolutes and involutes\n\nFollowing [Fuchs](https://doi.org/10.4169/amer.math.monthly.120.03.217) we discuss a geometric phenomenon known and explored by Huygens, and likely earlier. We stick to the two-dimensional case, Fuchs extends this to three dimensions. The following figure"
      ],
      "metadata": {}
    },
    {
      "outputs": [],
      "cell_type": "code",
      "source": [
        "X(t)= 2cos(t)\nY(t) = sin(t)\nr(t) = [X(t),Y(t)]\nunit_vec(x) = x/norm(x)\np = plot(legend=false, aspect_ratio=:equal)\nts = range(0, 2pi, length=50)\nfor t in ts\n    P, V = r(t), unit_vec([-Y'(t), X'(t)])\n    plot_parametric_curve!(x -> P + x*V, -4, 4 )\nend\nplot!(X, Y, 0, 2pi, linewidth=5)\np"
      ],
      "metadata": {},
      "execution_count": null
    },
    {
      "cell_type": "markdown",
      "source": [
        "is that of an ellipse with many *normal* lines drawn to it. The normal lines appear to intersect in a somewhat diamond-shaped curve. This curve is the evolute of the ellipse. We can characterize this using the language of planar curves.\n\nConsider a parameterization of a curve by arc-length, $\\vec\\gamma(s) = \\langle u(s), v(s) \\rangle$. The unit *tangent* to this curve is $\\vec\\gamma'(s) = \\hat{T}(s) = \\langle u'(s), v'(s) \\rangle$ and by simple geometry the unit *normal* will be $\\hat{N}(s) = \\langle -v'(s), u'(s) \\rangle$. At a time $t$, a line through the curve parameterized by $\\vec\\gamma$ is given by $l_t(a) = \\vec\\gamma(t) + a \\hat{N}(t)$.\n\nConsider two nearby points $t$ and $t+\\epsilon$ and the intersection of $l_t$ and $l_{t+\\epsilon}$. That is, we need points $a$ and $b$ with: $l_t(a) = l_{t+\\epsilon}(b)$. Setting the components equal, this is:\n\n$$~\n\\begin{align}\nu(t) - av'(t) &= u(t+\\epsilon) - bv'(t+\\epsilon) \\\\\nv(t) - au'(t) &= v(t+\\epsilon) - bu'(t+\\epsilon).\n\\end{align}\n~$$\n\nThis is a linear equation in two unknowns ($a$ and $b$) which can be solved. Here is the value for `a`:"
      ],
      "metadata": {}
    },
    {
      "outputs": [],
      "cell_type": "code",
      "source": [
        "u, v = SymFunction(\"u, v\")\n@vars t epsilon w\n@vars a b\nγ(t) = [u(t),v(t)]\nn(t) = subs.(diff.([-v(w), u(w)], w), w.=>t)\nl(a, t) = γ(t) + a * n(t)\nout = SymPy.solve(l(a, t) - l(b, t+epsilon), [a,b])\nout[a]"
      ],
      "metadata": {},
      "execution_count": null
    },
    {
      "cell_type": "markdown",
      "source": [
        "Letting $\\epsilon \\rightarrow 0$ we get an expression for $a$ that will describe the evolute at time $t$ in terms of the function $\\gamma$. Looking at the expression above, we can see that dividing the *numerator* by $\\epsilon$ and taking a limit will yield $u'(t)^2 + v'(t)^2$. If the *denominator* has a limit after dividing by $\\epsilon$, then we can find the description sought. Pursuing this leads to:\n\n$$~\n\\frac{u'(t) v'(t+\\epsilon) - v'(t) u'(t+\\epsilon)}{\\epsilon} =\n\\frac{u'(t) v'(t+\\epsilon) -u'(t)v'(t) + u'(t)v'(t)- v'(t) u'(t+\\epsilon)}{\\epsilon} =\n\\frac{u'(t)(v'(t+\\epsilon) -v'(t))}{\\epsilon} + \\frac{(u'(t)- u'(t+\\epsilon))v'(t)}{\\epsilon},\n~$$\n\nwhich in the limit will give $u'(t)v''(t) - u''(t) v'(t)$. All told, in the limit as $\\epsilon \\rightarrow 0$ we get\n\n$$~\na = \\frac{u'(t)^2 + v'(t)^2}{u'(t)v''(t) - v'(t) u''(t)} = 1/(\\|\\vec\\gamma'\\|\\kappa) = 1/(\\|\\hat{T}\\|\\kappa) = 1/\\kappa,\n~$$\n\nwith $\\kappa$ being the curvature of the planar curve. That is, the evolute of $\\vec\\gamma$ is described by:\n\n$$~\n\\vec\\beta(s) = \\vec\\gamma(s) + \\frac{1}{\\kappa(s)}\\hat{N}(s).\n~$$\n\nRevisualizing:"
      ],
      "metadata": {}
    },
    {
      "outputs": [],
      "cell_type": "code",
      "source": [
        "unit_vec(x) = x/norm(x)\n\nr(t) = [2cos(t), sin(t), 0]\nTangent(t) = unit_vec(r'(t))\nNormal(t) = unit_vec(Tangent'(t))\ncurvature(t) = norm(r'(t) × r''(t) ) / norm(r'(t))^3\n\nplot_parametric_curve(t -> r(t)[1:2], 0, 2pi, legend=false, aspect_ratio=:equal)\nplot_parametric_curve!(t -> (r(t) + Normal(t)/curvature(t))[1:2], 0, 2pi)"
      ],
      "metadata": {},
      "execution_count": null
    },
    {
      "cell_type": "markdown",
      "source": [
        "We computed the above illustration using $3$ dimensions (hence the use of `[1:2]...`) as the curvature formula is easier to express. Recall, the curvature also appears in the [Frenet-Serret](https://en.wikipedia.org/wiki/Frenet%E2%80%93Serret_formulas) formulas: $d\\hat{T}/ds = \\kappa \\hat{N}$ and $d\\hat{N}/ds = -\\kappa \\hat{T}+ \\tau \\hat{B}$. In a planar curve, as under consideration, the binormal is $\\vec{0}$. This allow the computation of $\\vec\\beta(s)'$:\n\n$$~\n\\begin{align}\n\\vec{\\beta}' &= \\frac{d(\\vec\\gamma + (1/k) \\hat{N})}{dt}\\\\\n&= \\hat{T} + (-\\frac{k'}{k^2}\\hat{N} + \\frac{1}{k} \\hat{N}')\\\\\n&= \\hat{T} - \\frac{k'}{k^2}\\hat{N} + \\frac{1}{k} (-\\kappa \\hat{T})\\\\\n&= - \\frac{k'}{k^2}\\hat{N}.\n\\end{align}\n~$$\n\nWe see $\\vec\\beta'$ is zero (the curve is non-regular) when $\\kappa'(s) = 0$. The curvature changes from increasing to decreasing, or vice versa at each of the 4 crossings of the major and minor axes - there are 4 non-regular points, and we see $4$ cusps in the evolute.\n\n\nThe curve parameterized by $\\vec{r}(t) = 2(1 - \\cos(t)) \\langle \\cos(t), \\sin(t)\\rangle$ over $[0,2\\pi]$ is cardiod. It is formed by rolling a circle of radius $r$ around another similar sized circle. The following graphically shows the evolute is a smaller cardiod (one-third the size). For fun, the evolute of the evolute is drawn:"
      ],
      "metadata": {}
    },
    {
      "outputs": [],
      "cell_type": "code",
      "source": [
        "r(t) = 2*(1 - cos(t)) * [cos(t), sin(t), 0]\n\nfunction evolute(r)\n    Tangent(t) = unit_vec(r'(t))\n    Normal(t) = unit_vec(Tangent'(t))\n    curvature(t) = norm(r'(t) × r''(t) ) / norm(r'(t))^3\n    t -> r(t) + 1/curvature(t)*Normal(t)\nend\n\nplot_parametric_curve(t -> r(t)[1:2], 0, 2pi, legend=false, aspect_ratio=:equal)\nplot_parametric_curve!(t -> evolute(r)(t)[1:2], 0, 2pi...)\nplot_parametric_curve!(t -> ((evolute∘evolute)(r)(t))[1:2], 0, 2pi)"
      ],
      "metadata": {},
      "execution_count": null
    },
    {
      "cell_type": "markdown",
      "source": [
        "----\n\nIf $\\vec\\beta$ is *the* **evolute** of $\\vec\\gamma$, then $\\vec\\gamma$ is *an* **involute** of $\\beta$. For a given curve, there is a parameterized family of involutes. While this definition has a pleasing self-referentialness, it doesn't have an immediately clear geometric interpretation. For that, consider the image of a string of fixed length $a$ attached to the curve $\\vec\\gamma$ at some point $t_0$. As this curve wraps around the curve traced by $\\vec\\gamma$ it is held taut so that it makes a tangent at the point of contact. The end of the string will trace out a curve and this is the trace of an *involute*."
      ],
      "metadata": {}
    },
    {
      "outputs": [],
      "cell_type": "code",
      "source": [
        "using QuadGK\n\nr(t) = [t, cosh(t)]\nt0, t1 = -2, 0\na = t1\n\nTangent(t) = unit_vec(r'(t))\nbeta(t) = r(t) - Tangent(t) * quadgk(t -> norm(r'(t)), a, t)[1]\n\np = plot_parametric_curve(r, -2, 2, legend=false)\nplot_parametric_curve!(beta, t0, t1)\nfor t in range(t0,-0.2, length=4)\n    arrow!(r(t), -Tangent(t) * quadgk(t -> norm(r'(t)), a, t)[1])\n    scatter!(unzip([r(t)])...)\nend\np"
      ],
      "metadata": {},
      "execution_count": null
    },
    {
      "cell_type": "markdown",
      "source": [
        "This lends itself to this mathematical description, if $\\vec\\gamma(t)$ parameterizes the planar curve, then an involute for $\\vec\\gamma(t)$ is described by:\n\n$$~\n\\vec\\beta(t) = \\vec\\gamma(t) + \\left(a - \\int_{t_0}^t \\| \\vec\\gamma'(t)\\| dt) \\hat{T}(t)\\right),\n~$$\n\nwhere $\\hat{T}(t) = \\vec\\gamma'(t)/\\|\\vec\\gamma'(t)\\|$ is the unit tangent vector. The above uses two parameters ($a$ and $t_0$), but only one is needed, as there is an obvious redundancy (a point can *also* be expressed by $t$ and the shortened length of string). [Wikipedia](https://en.wikipedia.org/wiki/Involute) uses this definition for $a$ and $t$ values in an interval $[t_0, t_1]$:\n\n$$~\n\\vec\\beta_a(t) = \\vec\\gamma(t) - \\frac{\\vec\\gamma'(t)}{\\|\\vec\\gamma'(t)\\|}\\int_a^t \\|\\vec\\gamma'(t)\\| dt.\n~$$\n\nIf $\\vec\\gamma(s)$ is parameterized by arc length, then this simplifies quite a bit, as the unit tangent is just $\\vec\\gamma'(s)$ and the remaining arc length just $(s-a)$:\n\n$$~\n\\vec\\beta_a(s) = \\vec\\gamma(s) - \\vec\\gamma'(s) (s-a)\n=\\vec\\gamma(s) - \\hat{T}_{\\vec\\gamma}(s)(s-a).\\quad\\text{($s$ is the arc-length parameter)}\n~$$\n\nWith this characterization, we see several properties:\n\n* From $\\vec\\beta_a'(s) = \\hat{T}(s) - (\\kappa(s) \\hat{N}(s) (s-a) + \\hat{T}(s)) = -\\kappa_{\\vec\\gamma}(s) \\cdot (s-a) \\cdot \\hat{N}_{\\vec\\gamma}(s)$,  the involute is *not* regular at $s=a$, as its derivative is zero.\n\n* As $\\vec\\beta_a(s) = \\vec\\beta_0(s) + a\\hat{T}(s)$, the family of curves is parallel.\n\n* The evolute of $\\vec\\beta_a(s)$, $s$ the arc-length parameter of $\\vec\\gamma$, can be shown to be $\\vec\\gamma$. This requires more work:\n\nThe evolute for $\\vec\\beta_a(s)$ is:\n\n$$~\n\\vec\\beta_a(s) + \\frac{1}{\\kappa_{\\vec\\beta_a}(s)}\\hat{N}_{\\vec\\beta_a}(s).\n~$$\n\nIn the following we show that:\n\n$$~\n\\begin{align}\n\\kappa_{\\vec\\beta_a}(s) &= 1/(s-a),\\\\\n\\hat{N}_{\\vec\\beta_a}(s) &= \\hat{T}_{\\vec\\beta_a}'(s)/\\|\\hat{T}_{\\vec\\beta_a}'(s)\\| = -\\hat{T}_{\\vec\\gamma}(s).\n\\end{align}\n~$$\n\nThe first shows in a different way that when $s=a$ the curve is not regular, as the curvature fails to exists. In the above figure, when the involute touches $\\vec\\gamma$, there will be a cusp.\n\nWith these two identifications and using $\\vec\\gamma'(s) = \\hat{T}_{\\vec\\gamma(s)}$, we have the evolute simplifies to\n\n$$~\n\\vec\\beta_a(s) + \\frac{1}{\\kappa_{\\vec\\beta_a}(s)}\\hat{N}_{\\vec\\beta_a}(s) =\n\\vec\\gamma(s) + \\vec\\gamma'(s)(s-a)  + \\frac{1}{\\kappa_{\\vec\\beta_a}(s)}\\hat{N}_{\\vec\\beta_a}(s) =\n\\vec\\gamma(s) + \\hat{T}_{\\vec\\gamma}(s)(s-a) + \\frac{1}{1/(s-a)} (-\\hat{T}_{\\vec\\gamma}(s)) = \\vec\\gamma(s).\n~$$\n\nThat is the evolute an an involute of $\\vec\\gamma(s)$ is $\\vec\\gamma(s)$.\n\n\nWe have:\n\n$$~\n\\begin{align}\n\\beta_a(s) &= \\vec\\gamma - \\vec\\gamma'(s)(s-a)\\\\\n\\beta_a'(s) &= -\\kappa_{\\vec\\gamma}(s)(s-a)\\hat{N}_{\\vec\\gamma}(s)\\\\\n\\beta_a''(s) &= (-\\kappa_{\\vec\\gamma}(s)(s-a))' \\hat{N}_{\\vec\\gamma}(s) + (-\\kappa_{\\vec\\gamma}(s)(s-a))(-\\kappa_{\\vec\\gamma}\\hat{T}_{\\vec\\gamma}(s)),\n\\end{align}\n~$$\n\nthe last line by the Frenet-Serret for formula *planar* curves which show $\\hat{T}'(s) = \\kappa(s) \\hat{N}$ and $\\hat{N}'(s) = -\\kappa(s)\\hat{T}(s)$.\n\nTo compute the curvature of $\\vec\\beta_a$, we need to compute both:\n\n$$~\n\\begin{align}\n\\| \\vec\\beta' \\|^3 &= |\\kappa^3 (s-a)^3|\\\\\n\\| \\vec\\beta' \\times \\vec\\beta'' \\| &= |\\kappa(s)^3 (s-a)^2|,\n\\end{align}\n~$$\n\nthe last line using both $\\hat{N}\\times\\hat{N} = \\vec{0}$ and $\\|\\hat{N}\\times\\hat{T}\\| = 1$. The curvature then is $\\kappa_{\\vec\\beta_a}(s) = 1/(s-a)$.\n\nUsing the formula for $\\vec\\beta'$ above, we get $\\hat{T}_\\beta(s)=\\hat{N}_{\\vec\\gamma}(s)$ so $\\hat{T}_\\beta(s)' = -\\kappa_{\\vec\\gamma}(s) \\hat{T}_{\\vec\\gamma}(s)$ with unit vector just $\\hat{N}_{\\vec\\beta_a} = -\\hat{T}_{\\vec\\gamma}(s)$.\n\n\n----\n\nShow that *an* involute of the cycloid $\\vec{r}(t) = \\langle t - \\sin(t), 1 - \\cos(t) \\rangle$ is also a cycloid. We do so graphically:"
      ],
      "metadata": {}
    },
    {
      "outputs": [],
      "cell_type": "code",
      "source": [
        "r(t) = [t - sin(t), 1 - cos(t)]\n## find *involute*: r - r'/|r'| * int(|r'|, a, t)\nt0, t1, a = 2PI, PI, PI\n@vars t real=true\nrp = diff.(r(t), t)\nspeed = 2sin(t/2)\n\nex = r(t) - rp/speed * integrate(speed, a, t)\n\nplot_parametric_curve(r, 0, 4pi, legend=false)\nplot_parametric_curve!(u -> SymPy.N.(subs.(ex, t .=> u)), 0, 4pi)"
      ],
      "metadata": {},
      "execution_count": null
    },
    {
      "cell_type": "markdown",
      "source": [
        "The expression `ex` is secretly `[t + sin(t), 3 + cos(t)]`, another cycloid.\n\n\n\n\n\n## Questions\n\n###### Question\n\nA cycloid is formed by pushing a wheel on a surface without slipping. The position of a fixed point on the outer rim of the wheel traces out the cycloid. Suppose the wheel has radius $R$ and the initial position of the point is at the bottom, $(0,0)$. Let $t$ measure angle measurement, in radians. Then the point of contact of the wheel will be at $Rt$, as that is the distance the wheel will have rotated. That is, the hub of the wheel will move according to $\\langle Rt,~ R\\rangle$. Relative to the hub, the point on the rim will have coordinates $\\langle -R\\sin(t), -R\\cos(t) \\rangle$, so the superposition gives:\n\n$$~\n\\vec{r}(t) = \\langle Rt - R\\sin(t), R - R\\cos(t) \\rangle.\n~$$\n\nWhat is the position at $t=\\pi/4$?"
      ],
      "metadata": {}
    },
    {
      "outputs": [],
      "cell_type": "code",
      "source": [
        "choices = [\nq\"[0.0782914, 0.292893 ]\",\nq\"[0.181172, 0.5]\",\nq\"[0.570796, 1.0]\"]\nans = 1\nradioq(choices, ans)"
      ],
      "metadata": {},
      "execution_count": null
    },
    {
      "cell_type": "markdown",
      "source": [
        "And the position at $\\pi/2$?"
      ],
      "metadata": {}
    },
    {
      "outputs": [],
      "cell_type": "code",
      "source": [
        "choices = [\nq\"[0.0782914, 0.292893 ]\",\nq\"[0.181172, 0.5]\",\nq\"[0.570796, 1.0]\"]\nans = 3\nradioq(choices, ans)"
      ],
      "metadata": {},
      "execution_count": null
    },
    {
      "cell_type": "markdown",
      "source": [
        "###### Question\n\nSuppose instead of keeping track of a point on the outer rim of the wheel, a point a distance $r < R$ from the hub is chosen in the above description of a cycloid (a [Curtate](http://mathworld.wolfram.com/CurtateCycloid.html) cycloid). If we start at $\\langle 0,~ R-r \\rangle$, what will be the position at $t$?"
      ],
      "metadata": {}
    },
    {
      "outputs": [],
      "cell_type": "code",
      "source": [
        "choices = [\nL\"\\langle Rt - r\\sin(t),~ R - r\\cos(t) \\rangle\",\nL\"\\langle Rt - R\\sin(t),~ R - R\\cos(t) \\rangle\",\nL\"\\langle -r\\sin(t),~ -r\\cos(t) \\rangle\"\n]\nans = 1\nradioq(choices, ans)"
      ],
      "metadata": {},
      "execution_count": null
    },
    {
      "cell_type": "markdown",
      "source": [
        "###### Question\n\nFor the  cycloid $\\vec{r}(t) = \\langle t - \\sin(t),~ 1 - \\cos(t) \\rangle$, find a simplified expression for $\\| \\vec{r}'(t)\\|$."
      ],
      "metadata": {}
    },
    {
      "outputs": [],
      "cell_type": "code",
      "source": [
        "choices = [\nL\"\\sqrt{2 - 2\\cos(t)}\",\nL\"1\",\nL\"1 - \\cos(t)\",\nL\"1 + \\cos(t) + \\cos(2t)\"]\nans = 1\nradioq(choices, ans)"
      ],
      "metadata": {},
      "execution_count": null
    },
    {
      "cell_type": "markdown",
      "source": [
        "###### Question\n\nThe cycloid $\\vec{r}(t) = \\langle t - \\sin(t),~ 1 - \\cos(t) \\rangle$ has a formula for the arc length from $0$ to $t$ given by: $l(t) = 4 - 4\\cos(t/2)$.\n\nPlot the following two equations over $[0,8]$ which are a reparameterization of the cycloid by $l^{-1}(t)$."
      ],
      "metadata": {}
    },
    {
      "outputs": [],
      "cell_type": "code",
      "source": [
        "γ(s) = 2 * acos(1-s/4)\nx1(s) = γ(s) - sin(γ(s))\ny1(s) = 1 - cos(γ(s))"
      ],
      "metadata": {},
      "execution_count": null
    },
    {
      "cell_type": "markdown",
      "source": [
        "How many arches of the cycloid are traced out?"
      ],
      "metadata": {}
    },
    {
      "outputs": [],
      "cell_type": "code",
      "source": [
        "radioq(1:3, 1, keep_order=true)"
      ],
      "metadata": {},
      "execution_count": null
    },
    {
      "cell_type": "markdown",
      "source": [
        "###### Question\n\nConsider the cycloid  $\\vec{r}(t) = \\langle t - \\sin(t),~ 1 - \\cos(t) \\rangle$\n\nWhat is the derivative at $t=\\pi/2$?"
      ],
      "metadata": {}
    },
    {
      "outputs": [],
      "cell_type": "code",
      "source": [
        "choices = [\nq\"[1,1]\",\nq\"[2,0]\",\nq\"[0,0]\"\n]\nans = 1\nradioq(choices, ans)"
      ],
      "metadata": {},
      "execution_count": null
    },
    {
      "cell_type": "markdown",
      "source": [
        "What is the derivative at $t=\\pi$?"
      ],
      "metadata": {}
    },
    {
      "outputs": [],
      "cell_type": "code",
      "source": [
        "choices = [\nq\"[1,1]\",\nq\"[2,0]\",\nq\"[0,0]\"\n]\nans = 2\nradioq(choices, ans)"
      ],
      "metadata": {},
      "execution_count": null
    },
    {
      "cell_type": "markdown",
      "source": [
        "###### Question\n\nConsider the circle $\\vec{r}(t) = R \\langle \\cos(t),~ \\sin(t) \\rangle$, $R > 0$. Find the norm of $\\vec{r}'(t)$:"
      ],
      "metadata": {}
    },
    {
      "outputs": [],
      "cell_type": "code",
      "source": [
        "choices = [\nL\"1\",\nL\"1/R\",\nL\"R\",\nL\"R^2\"\n]\nans = 3\nradioq(choices, ans, keep_order=true)"
      ],
      "metadata": {},
      "execution_count": null
    },
    {
      "cell_type": "markdown",
      "source": [
        "###### Question\n\nThe curve described by $\\vec{r}(t) = \\langle 10t,~ 10t - 16t^2\\rangle$ models the flight of an arrow. Compute the length traveled from when it is launched to when it returns to the ground."
      ],
      "metadata": {}
    },
    {
      "outputs": [],
      "cell_type": "code",
      "source": [
        "using Roots\nx(t) = 10t\ny(t) = 10t - 16t^2\na,b = sort(find_zeros(y, -10, 10))\nf(x,y) = 1\nval, _ = quadgk(t -> f(x(t), y(t)) * sqrt(D(x)(t)^2 + D(y)(t)^2), a, b)\nnumericq(val)"
      ],
      "metadata": {},
      "execution_count": null
    },
    {
      "cell_type": "markdown",
      "source": [
        "##### Question\n\nLet $\\vec{r}(t) = \\langle t, t^2 \\rangle$ describe a parabola. What is the arc length between $0 \\leq t \\leq 1$? First, what is a formula for the speed ($\\| \\vec{r}'(t)\\|$)?"
      ],
      "metadata": {}
    },
    {
      "outputs": [],
      "cell_type": "code",
      "source": [
        "choices = [\nL\"\\sqrt{1 + 4t^2}\",\nL\"1 + 4t^2\",\nL\"1\",\nL\"t + t^2\"\n]\nans = 1\nradioq(choices, ans)"
      ],
      "metadata": {},
      "execution_count": null
    },
    {
      "cell_type": "markdown",
      "source": [
        "Numerically find the arc length."
      ],
      "metadata": {}
    },
    {
      "outputs": [],
      "cell_type": "code",
      "source": [
        "val,err = quadgk(t -> (1 + 4t^2)^(1/2), 0, 1)\nnumericq(val)"
      ],
      "metadata": {},
      "execution_count": null
    },
    {
      "cell_type": "markdown",
      "source": [
        "##### Question\n\nLet $\\vec{r}(t) = \\langle t, t^2 \\rangle$ describe a parabola. What is the curvature of $\\vec{r}(t)$ at $t=0$?"
      ],
      "metadata": {}
    },
    {
      "outputs": [],
      "cell_type": "code",
      "source": [
        "@vars t positive=true\nrt = [t, t^2, 0]\nrp = diff.(rt, t)\nrpp = diff.(rt, t, t)\nkappa =  norm(rp × rpp) / norm(rp)^3\n#val = N(kappa(t=>0)) #2\nval = 2\nnumericq(val)"
      ],
      "metadata": {},
      "execution_count": null
    },
    {
      "cell_type": "markdown",
      "source": [
        "The curvature at $1$ will be"
      ],
      "metadata": {}
    },
    {
      "outputs": [],
      "cell_type": "code",
      "source": [
        "choices = [\nL\"greater than the curvature at $t=0$\",\nL\"less than the curvature at $t=0$\",\nL\"the same as the curvature at $t=0$\"]\nans = 2\nradioq(choices, ans)"
      ],
      "metadata": {},
      "execution_count": null
    },
    {
      "cell_type": "markdown",
      "source": [
        "The curvature as $t\\rightarrow \\infty$ will be"
      ],
      "metadata": {}
    },
    {
      "outputs": [],
      "cell_type": "code",
      "source": [
        "choices = [\nL\"0\",\nL\"\\infty\",\nL\"1\"\n]\nans = 1\nradioq(choices, ans)"
      ],
      "metadata": {},
      "execution_count": null
    },
    {
      "cell_type": "markdown",
      "source": [
        "----\n\nNow, if we have a more general parabola by introducing a parameter $a>0$: $\\vec{r}(t) = \\langle t, a\\cdot t^2 \\rangle$, What is the curvature of $\\vec{r}(t)$ at $t=0$?"
      ],
      "metadata": {}
    },
    {
      "outputs": [],
      "cell_type": "code",
      "source": [
        "choices = [\nL\"2a\",\nL\"2/a\",\nL\"2\",\nL\"1\"\n]\nans = 1\nradioq(choices, ans)"
      ],
      "metadata": {},
      "execution_count": null
    },
    {
      "cell_type": "markdown",
      "source": [
        "###### Question\n\nProjectile motion with constant acceleration is expressed parametrically by $\\vec{x}(t) = \\vec{x}_0 + \\vec{v}_0 t + (1/2) \\vec{a} t^2$, where $\\vec{x}_0$ and $\\vec{v}_0$ are initial positions and velocity respectively. In [Strang](https://ocw.mit.edu/resources/res-18-001-calculus-online-textbook-spring-2005/textbook/MITRES_18_001_strang_12.pdf) p451, we find an example utilizing this formula to study the curve of a baseball. Place the pitcher at the origin, the batter along the $x$ axis, then a baseball thrown with spin around its $z$ axis will have acceleration in the $y$ direction in addition to the acceration due to gravity in the $z$ direction. Suppose the ball starts 5 feet above the ground when pitched ($\\vec{x}_0 = \\langle 0,0, 5\\rangle$), and has initial velocity $\\vec{v}_0 = \\langle 120, -2, 2 \\rangle$. (120 feet per second is about 80 miles per hour). Suppose the pitcher can produce an acceleration in the $y$ direction of $16ft/sec^2$, then $\\vec{a} = \\langle 0, 16, -32\\rangle$ in these units. (Gravity is $9.8m/s^2$ or $32ft/s^2$.)\n\n\nThe plate is 60 feet away. How long will it take for the ball to reach the batter? (When the first component is $60$?)"
      ],
      "metadata": {}
    },
    {
      "outputs": [],
      "cell_type": "code",
      "source": [
        "x0 = [0,0,5]\nv0 = [120, -2, 2]\na = [0, 16, -32]\nr(t) = x0 + v0*t + 1/2*a*t^2\nans = 60/v0[1]\nnumericq(ans)"
      ],
      "metadata": {},
      "execution_count": null
    },
    {
      "cell_type": "markdown",
      "source": [
        "At $t=1/4$ the ball is half-way to home. If the batter reads the ball at this point, where in the $y$ direction is the ball?"
      ],
      "metadata": {}
    },
    {
      "outputs": [],
      "cell_type": "code",
      "source": [
        "t = 1/4\nans = r(t)[2]\nnumericq(ans)"
      ],
      "metadata": {},
      "execution_count": null
    },
    {
      "cell_type": "markdown",
      "source": [
        "At $t=1/2$ has the ball moved more than 1/2 foot in the $y$ direction?"
      ],
      "metadata": {}
    },
    {
      "outputs": [],
      "cell_type": "code",
      "source": [
        "t = 1/2\nans = abs(r(t)[2]) > 1/2\nyesnoq(ans)"
      ],
      "metadata": {},
      "execution_count": null
    },
    {
      "cell_type": "markdown",
      "source": [
        "###### Question\n\nIn [Strang](https://ocw.mit.edu/resources/res-18-001-calculus-online-textbook-spring-2005/textbook/MITRES_18_001_strang_12.pdf) we see this picture describing  a curve:"
      ],
      "metadata": {}
    },
    {
      "outputs": [],
      "cell_type": "code",
      "source": [
        "a = 1\n\nplot(t -> 0, -2, 2,aspect_ratio=:equal, legend=false)\nplot!(t -> 2a)\nr(t) = [0, a] + a*[cos(t), sin(t)]\nplot!(unzip(r, 0, 2pi)...)\ntheta = pi/3\nplot!([0, 2a/tan(theta)], [0, 2a], linestyle=:dash)\nA = [2a*cot(theta), 2a]\nB = 2a*sin(theta)^2 *[ 1/tan(theta),1]\nscatter!(unzip([A,B])...)\nplot!([B[1],A[1],A[1]], [B[2],B[2],A[2]], linestyle=:dash)\ndelta = 0.2\nannotate!([(B[1],B[2]-delta,\"B\"),(A[1]+delta,A[2]-delta,\"A\")])\nr(theta) = [2a*cot(theta), 2a*sin(theta)^2 ]\ntheta0 = pi/4\nplot!(unzip(r, theta0, pi-theta0)..., linewidth=3)\nP = r(theta)\nannotate!([(P[1],P[2]-delta, \"P\")])"
      ],
      "metadata": {},
      "execution_count": null
    },
    {
      "cell_type": "markdown",
      "source": [
        "Strang notes that the curve is called the \"witch of Agnesi\" after Maria Agnesi, the author of the first three-semester calculus book. (L'Hopital's book did not contain integration.)\n\n\nWe wish to identify the parameterization. Using $\\theta$ an angle in standard position, we can see that the component functions $x(\\theta)$ and $y(\\theta)$ may be found using trigonometric analysis.\n\nWhat is the $x$ coordinate of point $A$? (Also the $x$ coordinate of $P$.)"
      ],
      "metadata": {}
    },
    {
      "outputs": [],
      "cell_type": "code",
      "source": [
        "choices = [\nL\"2\\cot(\\theta)\",\nL\"\\cot(\\theta)\",\nL\"2\\tan(\\theta)\",\nL\"\\tan(\\theta)\"\n]\nans = 1\nradioq(choices, ans)"
      ],
      "metadata": {},
      "execution_count": null
    },
    {
      "cell_type": "markdown",
      "source": [
        "Using the polar form of a circle, the length between the origin and $B$ is given by $2\\cos(\\theta-\\pi/2) = 2\\sin(\\theta)$. Using this, what is the $y$ coordinate of $B$?"
      ],
      "metadata": {}
    },
    {
      "outputs": [],
      "cell_type": "code",
      "source": [
        "choices = [\nL\"2\\sin^2(\\theta)\",\nL\"2\\sin(\\theta)\",\nL\"2\",\nL\"\\sin(\\theta)\"\n]\nans=1\nradioq(choices, ans)"
      ],
      "metadata": {},
      "execution_count": null
    },
    {
      "cell_type": "markdown",
      "source": [
        "###### Question\n\nLet $n > 0$, $\\vec{r}(t) = \\langle t^(n+1),t^n\\rangle$. Find the speed, $\\|\\vec{r}'(t)\\|$."
      ],
      "metadata": {}
    },
    {
      "outputs": [],
      "cell_type": "code",
      "source": [
        "choices = [\nL\"\\frac{\\sqrt{n^{2} t^{2 n} + t^{2 n + 2} \\left(n + 1\\right)^{2}}}{t}\",\nL\"t^n + t^{n+1}\",\nL\"\\sqrt{n^2 + t^2}\"\n]\nans=1\nradioq(choices, ans)"
      ],
      "metadata": {},
      "execution_count": null
    },
    {
      "cell_type": "markdown",
      "source": [
        "For $n=2$, the arc length of $\\vec{r}$ can be found exactly. What is the arc-length between $0 \\leq t \\leq a$?"
      ],
      "metadata": {}
    },
    {
      "outputs": [],
      "cell_type": "code",
      "source": [
        "choices = [\nL\"\\frac{a^{2} \\sqrt{9 a^{2} + 4}}{3} + \\frac{4 \\sqrt{9 a^{2} + 4}}{27} - \\frac{8}{27}\",\nL\"\\frac{2 a^{\\frac{5}{2}}}{5}\",\nL\"\\sqrt{a^2 + 4}\"\n]\nans = 1\nradioq(choices, ans)"
      ],
      "metadata": {},
      "execution_count": null
    },
    {
      "cell_type": "markdown",
      "source": [
        "###### Question\n\nThe [astroid](http://www-history.mcs.st-and.ac.uk/Curves/Astroid.html) is one of the few curves with an exactly computable arc-length. The curve is parametrized by $\\vec{r}(t) = \\langle a\\cos^3(t), a\\sin^3(t)\\rangle$. For $a=1$ find the arc-length between $0 \\leq t \\leq \\pi/2$."
      ],
      "metadata": {}
    },
    {
      "outputs": [],
      "cell_type": "code",
      "source": [
        "choices = [\nL\"\\sqrt{2}\",\nL\"3/2\",\nL\"\\pi/2\",\nL\"2\"\n]\nans = 2\nradioq(choices, ans, keep_order=true)"
      ],
      "metadata": {},
      "execution_count": null
    },
    {
      "cell_type": "markdown",
      "source": [
        "###### Question"
      ],
      "metadata": {}
    },
    {
      "outputs": [],
      "cell_type": "code",
      "source": [
        "t0, t1 = pi/12, pi/3\ntspan = (t0, t1)  # time span to consider\n\na = 1\nr(theta) = -cos(theta) + 4*2cos(theta)*sin(theta)^2\nF(t) = r(t) * [cos(t), sin(t)]\np = (a, F)      # combine parameters\n\nB0 = F(0) - [0, a]  # some initial position for the back\nprob = ODEProblem(bicycle, B0, tspan, p)\n\nout = DifferentialEquations.solve(prob, reltol=1e-6)\n\nplt = plot(unzip(F, t0, t1)..., legend=false, color=:red)\nplot!(plt, unzip(t->out(t),  t0, t1)..., color=:blue)"
      ],
      "metadata": {},
      "execution_count": null
    },
    {
      "cell_type": "markdown",
      "source": [
        "Let $F$ and $B$ be pictured above. Which is the red curve?"
      ],
      "metadata": {}
    },
    {
      "outputs": [],
      "cell_type": "code",
      "source": [
        "choices = [\n\"The front wheel\",\n\"The back wheel\"\n]\nans=1\nradioq(choices, ans)"
      ],
      "metadata": {},
      "execution_count": null
    },
    {
      "cell_type": "markdown",
      "source": [
        "###### Question"
      ],
      "metadata": {}
    },
    {
      "outputs": [],
      "cell_type": "code",
      "source": [
        "t0, t1 = 0.0, pi/3\ntspan = (t0, t1)  # time span to consider\n\na = 1\nr(t) = 3a * cos(2t)cos(t)\nF(t) = r(t) * [cos(t), sin(t)]\np = (a, F)      # combine parameters\n\nB0 = F(0) - [0, a]  # some initial position for the back\nprob = ODEProblem(bicycle, B0, tspan, p)\n\nout = DifferentialEquations.solve(prob, reltol=1e-6)\n\nplt = plot(unzip(F, t0, t1)..., legend=false, color=:blue)\nplot!(plt, unzip(t->out(t),  t0, t1)..., color=:red)"
      ],
      "metadata": {},
      "execution_count": null
    },
    {
      "cell_type": "markdown",
      "source": [
        "Let $F$ and $B$ be pictured above. Which is the red curve?"
      ],
      "metadata": {}
    },
    {
      "outputs": [],
      "cell_type": "code",
      "source": [
        "choices = [\n\"The front wheel\",\n\"The back wheel\"\n]\nans=2\nradioq(choices, ans)"
      ],
      "metadata": {},
      "execution_count": null
    },
    {
      "cell_type": "markdown",
      "source": [
        "###### Question\n\nLet $\\vec{\\gamma}(s)$ be a parameterization of a curve by arc length and $s(t)$ some continuous increasing function of $t$. Then $\\vec{\\gamma} \\circ s$ also parameterizes the curve. We have\n\n$$~\n\\text{velocity}  = \\frac{d (\\vec{\\gamma} \\circ s)}{dt} = \\frac{d\\vec{\\gamma}}{ds} \\frac{ds}{dt} = \\hat{T} \\frac{ds}{dt}.\n~$$\n\nContinuing with a second derivative\n\n$$~\n\\text{acceleration} = \\frac{d^2(\\vec{\\gamma}\\circ s)}{dt^2} =\n\\frac{d\\hat{T}}{ds} \\frac{ds}{dt} \\frac{ds}{dt} + \\hat{T} \\frac{d^2s}{dt^2} = \\frac{d^2s}{dt^2}\\hat{T} + \\kappa (\\frac{ds}{dt})^2 \\hat{N},\n~$$\n\nUsing $ d\\hat{T}{ds} = \\kappa\\hat{N}$ when parameterized by arc length.\n\nThis expresses the acceleration in term of the tangential part and the normal part. [Strang](https://ocw.mit.edu/resources/res-18-001-calculus-online-textbook-spring-2005/textbook/MITRES_18_001_strang_12.pdf) views this in terms of driving where the car motion is determined by the gas pedal and the brake pedal only giving acceleration in the $\\hat{T}$ direction) and the steering wheel (giving acceleration in the $\\hat{N}$ direction).\n\n\nIf a car is on a straight road, the $\\kappa=0$. Is the acceleration along the $\\hat{T}$ direction of the $\\hat{N}$ direction?"
      ],
      "metadata": {}
    },
    {
      "outputs": [],
      "cell_type": "code",
      "source": [
        "choices = [\nL\"The $\\hat{T}$ direction\",\nL\"The $\\hat{N}$ direction\"]\nans = 1\nradioq(choices, ans)"
      ],
      "metadata": {},
      "execution_count": null
    },
    {
      "cell_type": "markdown",
      "source": [
        "Suppose no gas or break is applied for a duration of time. The tangential acceleration will be $0$. During this time, which of these must  be $0$?"
      ],
      "metadata": {}
    },
    {
      "outputs": [],
      "cell_type": "code",
      "source": [
        "choices = [\nL\"\\vec{\\gamma} \\circ s\",\nL\"ds/dt\",\nL\"d^2s/dt^2\"\n]\nans = 3\nradioq(choices, ans, keep_order=true)"
      ],
      "metadata": {},
      "execution_count": null
    },
    {
      "cell_type": "markdown",
      "source": [
        "In going around a corner (with non-zero curvature), which is true?"
      ],
      "metadata": {}
    },
    {
      "outputs": [],
      "cell_type": "code",
      "source": [
        "choices = [\nL\"The acceleration in the normal direction depends on both the curvature and the speed ($ds/dt$)\",\nL\"The acceleration in the normal direction depends only on the curvature and not the speed ($ds/dt$)\",\nL\"The acceleration in the normal direction depends only on the speed ($ds/dt$) and not the curvature\"\n]\nans = 1\nradioq(choices, ans)"
      ],
      "metadata": {},
      "execution_count": null
    },
    {
      "cell_type": "markdown",
      "source": [
        "###### Question\n\nThe evolute comes from the formula $\\vec\\gamma(T) - (1/\\kappa(t)) \\hat{N}(t)$. For hand computation, this formula can be explicitly given by two components $\\langle X(t), Y(t) \\rangle$ through:\n\n$$~\n\\begin{align}\nr(t) &= x'(t)^2 + y'(t)^2\\\\\nk(t) &= x'(t)y''(t) - x''(t) y'(t)\\\\\nX(t) &= x(t) - y'(t) r(t)/k(t)\\\\\nY(t) &= x(t) + x'(t) r(t)/k(t)\n\\end{align}\n~$$\n\nLet $\\vec\\gamma(t) = \\langle t, t^2 \\rangle = \\langle x(t), y(t)\\rangle$ be a parameterization of a parabola.\n\n* Compute $r(t)$"
      ],
      "metadata": {}
    },
    {
      "outputs": [],
      "cell_type": "code",
      "source": [
        "choices = [\nL\"1 + 4t^2\",\nL\"1 - 4t^2\",\nL\"1 + 2t\",\nL\"1 - 2t\"\n]\nans = 1\nradioq(choices, ans)"
      ],
      "metadata": {},
      "execution_count": null
    },
    {
      "cell_type": "markdown",
      "source": [
        "* Compute $k(t)$"
      ],
      "metadata": {}
    },
    {
      "outputs": [],
      "cell_type": "code",
      "source": [
        "choices = [\nL\"2\",\nL\"-2\",\nL\"8t\",\nL\"-8t\"\n]\nans = 1\nradioq(choices, ans)"
      ],
      "metadata": {},
      "execution_count": null
    },
    {
      "cell_type": "markdown",
      "source": [
        "* Compute $X(t)$"
      ],
      "metadata": {}
    },
    {
      "outputs": [],
      "cell_type": "code",
      "source": [
        "choices = [\nL\"t - 2t(1 + 4t^2)/2\",\nL\"t - 4t(1+2t)/2\",\nL\"t - 2(8t)/(1-2t)\",\nL\"t - 1(1+4t^2)/2\"\n]\nans = 1\nradioq(choices, ans)"
      ],
      "metadata": {},
      "execution_count": null
    },
    {
      "cell_type": "markdown",
      "source": [
        "* Compute $Y(t)$"
      ],
      "metadata": {}
    },
    {
      "outputs": [],
      "cell_type": "code",
      "source": [
        "choices = [\nL\"t^2 + 1(1 + 4t^2)/2\",\nL\"t^2 + 2t(1+4t^2)/2\",\nL\"t^2 - 1(1+4t^2)/2\",\nL\"t^2 - 2t(1+4t^2)/2\"\n]\nans = 1\nradioq(choices, ans)"
      ],
      "metadata": {},
      "execution_count": null
    },
    {
      "cell_type": "markdown",
      "source": [
        "###### Question\n\nThe following will compute the evolute of an ellipse:"
      ],
      "metadata": {}
    },
    {
      "outputs": [],
      "cell_type": "code",
      "source": [
        "@vars t a b\nx = a*cos(t)\ny = b*sin(t)\nxp, xpp, yp, ypp = diff(x, t), diff(x,t,t), diff(y,t), diff(y,t,t)\nr2 = xp^2 + yp^2\nk = xp*ypp - xpp*yp\nX = x - yp*r2/k     |> simplify\nY = y + xp * r2 / k |> simplify\n[X,Y]"
      ],
      "metadata": {},
      "execution_count": null
    },
    {
      "cell_type": "markdown",
      "source": [
        "What is the resulting curve?"
      ],
      "metadata": {}
    },
    {
      "outputs": [],
      "cell_type": "code",
      "source": [
        "choices = [\nL\"An astroid of the form $c \\langle \\cos^3(t), \\sin^3(t) \\rangle$\",\nL\"An cubic parabola of the form $\\langle ct^3, dt^2\\rangle$\",\nL\"An ellipse of the form $\\langle a\\cos(t), b\\sin(t)$\",\nL\"A cyloid of the form $c\\langle t + \\sin(t), 1 - \\cos(t)\\rangle$\"\n]\nans = 1\nradioq(choices, ans)"
      ],
      "metadata": {},
      "execution_count": null
    }
  ],
  "nbformat_minor": 2,
  "metadata": {
    "language_info": {
      "file_extension": ".jl",
      "mimetype": "application/julia",
      "name": "julia",
      "version": "1.5.0"
    },
    "kernelspec": {
      "name": "julia-1.5",
      "display_name": "Julia 1.5.0",
      "language": "julia"
    }
  },
  "nbformat": 4
}
