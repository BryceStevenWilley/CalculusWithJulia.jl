{
  "cells": [
    {
      "cell_type": "markdown",
      "source": [
        "# Polar Coordinates and Curves"
      ],
      "metadata": {}
    },
    {
      "outputs": [],
      "cell_type": "code",
      "source": [
        "using CalculusWithJulia\nusing CalculusWithJulia.WeaveSupport\nusing Plots\nnothing"
      ],
      "metadata": {},
      "execution_count": null
    },
    {
      "cell_type": "markdown",
      "source": [
        "The description of the $x$-$y$ plane via Cartesian coordinates is not\nthe only possible way, though one that is most familiar. Here we discuss\na different means. Instead of talking about over and up from an\norigin, we focus on a direction and a distance from the origin.\n\nWe begin by loading our package providing access to the necessary packages:\n\n\n\n## Definition of polar coordinates\n\nPolar coordinates parameterize the plane though an angle $\\theta$ made from the positive ray of the $x$ axis and a radius $r$."
      ],
      "metadata": {}
    },
    {
      "outputs": [],
      "cell_type": "code",
      "source": [
        "gr()\ntheta = pi/6\nrr = 1\n\np = plot(xticks=nothing, yticks=nothing, border=:none, aspect_ratio=:equal, xlim=(-.1,1), ylim=(-.1,3/4))\nplot!([0,rr*cos(theta)], [0, rr*sin(theta)], legend=false, color=:blue, linewidth=2)\nscatter!([rr*cos(theta)],[rr*sin(theta)], markersize=3, color=:blue)\narrow!([0,0], [0,3/4], color=:black)\narrow!([0,0], [1,0], color=:black)\nts = range(0, theta, length=50)\nrr = 1/6\nplot!(rr*cos.(ts), rr*sin.(ts), color=:black)\nplot!([cos(theta),cos(theta)],[0, sin(theta)], linestyle=:dash, color=:gray)\nplot!([0,cos(theta)],[sin(theta), sin(theta)], linestyle=:dash, color=:gray)\nannotate!([\n        (1/5*cos(theta/2), 1/5*sin(theta/2), L\"\\theta\"),\n        (1/2*cos(theta*1.2), 1/2*sin(theta*1.2), L\"r\"),\n        (cos(theta), sin(theta)+.05, L\"(x,y)\"),\n        (cos(theta),-.05, L\"x\"),\n        (-.05, sin(theta),L\"y\")\n        ])"
      ],
      "metadata": {},
      "execution_count": null
    },
    {
      "cell_type": "markdown",
      "source": [
        "To recover the Cartesian coordinates from the pair $(r,\\theta)$, we have these formulas from [right](http://en.wikipedia.org/wiki/Polar_coordinate_system#Converting_between_polar_and_Cartesian_coordinates) triangle geometry:\n\n$$~\nx = r \\cos(\\theta),~ y = r \\sin(\\theta).\n~$$\n\nEach point $(x,y)$ corresponds to several possible values of\n$(r,\\theta)$, as any integer multiple of $2\\pi$ added to $\\theta$ will\ndescribe the same point. Except for the origin, there is only one pair\nwhen we restrict to $r > 0$ and $0 \\leq \\theta < 2\\pi$.\n\nFor values in the first and fourth quadrants (the range of\n$\\tan^{-1}(x)$), we have:\n\n$$~\nr = \\sqrt{x^2 + y^2},~ \\theta=\\tan^{-1}(y/x).\n~$$\n\nFor the other two quadrants, the signs of $y$ and $x$ must be\nconsidered. This is done with the function `atan` when two arguments are used.\n\n\nFor example, $(-3, 4)$ would have polar coordinates:"
      ],
      "metadata": {}
    },
    {
      "outputs": [],
      "cell_type": "code",
      "source": [
        "x,y = -3, 4\nrad, theta = sqrt(x^2 + y^2), atan(y, x)"
      ],
      "metadata": {},
      "execution_count": null
    },
    {
      "cell_type": "markdown",
      "source": [
        "And reversing"
      ],
      "metadata": {}
    },
    {
      "outputs": [],
      "cell_type": "code",
      "source": [
        "rad*cos(theta), rad*sin(theta)"
      ],
      "metadata": {},
      "execution_count": null
    },
    {
      "cell_type": "markdown",
      "source": [
        "This figure illustrates:"
      ],
      "metadata": {}
    },
    {
      "outputs": [],
      "cell_type": "code",
      "source": [
        "gr()\n\nusing LaTeXStrings\np = plot([-5,5], [0,0],  color=:blue, legend=false)\nplot!([0,0],  [-5,5], color=:blue)\nplot!([-3,0], [4,0])\nscatter!([-3], [4])\ntitle!(\"(-3,4) Cartesian or (5, 2.21...) polar\")\n\nplotly()\np"
      ],
      "metadata": {},
      "execution_count": null
    },
    {
      "cell_type": "markdown",
      "source": [
        "The case where $r < 0$ is handled by going 180 degrees in the opposite direction, in other\nwords the point $(r, \\theta)$ can be described as well by $(-r,\\theta+\\pi)$.\n\n## Parameterizing curves using polar coordinates\n\nIf $r=r(\\theta)$, then the parameterized curve $(r(\\theta), \\theta)$\nis just the set of points generated as $\\theta$ ranges over some set\nof values. There are many examples of parameterized curves that\nsimplify what might be a complicated presentation in Cartesian coordinates.\n\nFor example, a circle has the form $x^2 + y^2 = R^2$. Whereas\nparameterized by polar coordinates it is just $r(\\theta) = R$, or a\nconstant function.\n\nThe circle centered at $(r_0, \\gamma)$ (in polar coordinates) with\nradius $R$ has a more involved description in polar coordinates:\n\n$$~\nr(\\theta) = r_0 \\cos(\\theta - \\gamma)  + \\sqrt{R^2 - r_0^2\\sin^2(\\theta - \\gamma)}.\n~$$\n\nThe case where $r_0 > R$ will not be defined for all values of $\\theta$, only when $|\\sin(\\theta-\\gamma)| \\leq R/r_0$.\n\n## Examples\n\nThe `Plots.jl` package provides a means to visualize polar plots through `plot(thetas, rs, proj=:polar)`. For example, to plot a circe with $r_0=1/2$ and $\\gamma=\\pi/6$ we would have:"
      ],
      "metadata": {}
    },
    {
      "outputs": [],
      "cell_type": "code",
      "source": [
        "using Plots\nR, r0, gamma = 1, 1/2, pi/6\nr(theta) = r0 * cos(theta-gamma) + sqrt(R^2 - r0^2*sin(theta-gamma)^2)\nts = range(0, 2pi, length=100)\nrs = r.(ts)\nplot(ts, rs, proj=:polar, legend=false)"
      ],
      "metadata": {},
      "execution_count": null
    },
    {
      "cell_type": "markdown",
      "source": [
        "To avoid having to create values for $\\theta$ and values for $r$, the `CalculusWithJulia` package provides a helper function, `plot_polar`. It is essentially this:"
      ],
      "metadata": {}
    },
    {
      "outputs": [],
      "cell_type": "code",
      "source": [
        "plot_polar(r, a, b; kwargs...) = plot(t -> r(t)*cos(t), t -> r(t)*sin(t), a, b; kwargs...)"
      ],
      "metadata": {},
      "execution_count": null
    },
    {
      "cell_type": "markdown",
      "source": [
        "We will use this in the following, as the graphs are a bit more familiar and the calling pattern similar to how we have plotted functions.\n\nAs `Plots` will make a parametric plot when called as `plot(function, function, a,b)`, the above\nfunction creates two such functions using the relationship $x=r\\cos(\\theta)$ and $y=r\\sin(\\theta)$.\n\n\nUsing `plot_polar`,  we can plot circles with the following. We have to be a bit careful for the general circle, as when center is farther away from the origin that the radius ($R$), then not all angles will be acceptable and there are two functions needed to describe the radius, as this comes from a quadratic equation and both the \"plus\" and \"minus\" terms are used."
      ],
      "metadata": {}
    },
    {
      "outputs": [],
      "cell_type": "code",
      "source": [
        "R=4; r(t) = R;\n\nfunction plot_general_circle!(r0, gamma, R)\n    # law of cosines has if gamma=0, |theta| <= asin(R/r0)\n    # R^2 = a^2 + r^2 - 2a*r*cos(theta); solve for a\n    r(t) = r0 * cos(t - gamma) + sqrt(R^2 - r0^2*sin(t-gamma)^2)\n    l(t) = r0 * cos(t - gamma) - sqrt(R^2 - r0^2*sin(t-gamma)^2)\n\n    if R < r0\n        theta = asin(R/r0)-1e-6                 # avoid round off issues\n        plot_polar!(r, gamma-theta, gamma+theta)\n        plot_polar!(l, gamma-theta, gamma+theta)\n\telse\n\t\tplot_polar!(r, 0, 2pi)\n\tend\nend\n\nplot_polar(r, 0, 2pi, aspect_ratio=:equal, legend=false)\nplot_general_circle!(2, 0, 2)\nplot_general_circle!(3, 0, 1)"
      ],
      "metadata": {},
      "execution_count": null
    },
    {
      "cell_type": "markdown",
      "source": [
        "There are many interesting examples of curves described by polar coordinates. An interesting [compilation](http://www-history.mcs.st-and.ac.uk/Curves/Curves.html) of famous curves is found at the MacTutor History of Mathematics archive, many of which have formulas in polar coordinates.\n\n##### Example\n\n\nThe [rhodenea](http://www-history.mcs.st-and.ac.uk/Curves/Rhodonea.html) curve has\n\n$$~\nr(\\theta) = a \\sin(k\\theta)\n~$$"
      ],
      "metadata": {}
    },
    {
      "outputs": [],
      "cell_type": "code",
      "source": [
        "a, k = 4, 5\nr(theta) = a * sin(k * theta)\nplot_polar(r, 0, pi)"
      ],
      "metadata": {},
      "execution_count": null
    },
    {
      "cell_type": "markdown",
      "source": [
        "This graph has radius $0$ whenever $\\sin(k\\theta) = 0$ or $k\\theta\n=n\\pi$. Solving means that it is $0$ at integer multiples of\n$\\pi/k$. In the above, with $k=5$, there will $5$ zeroes in\n$[0,\\pi]$. The entire curve is traced out over this interval, the\nvalues from $\\pi$ to $2\\pi$ yield negative value of $r$, so are\nrelated to values within $0$ to $\\pi$ via the relation $(r,\\pi\n+\\theta) = (-r, \\theta)$.\n\n##### Example\n\nThe [folium](http://www-history.mcs.st-and.ac.uk/Curves/Folium.html)\nis a somewhat similar looking curve, but has this description:\n\n$$~\nr(\\theta) = -b \\cos(\\theta) + 4a \\cos(\\theta) \\sin(2\\theta)\n~$$"
      ],
      "metadata": {}
    },
    {
      "outputs": [],
      "cell_type": "code",
      "source": [
        "a, b = 4, 2\nr(theta) = -b * cos(theta) + 4a * cos(theta) * sin(2theta)\nplot_polar(r, 0, 2pi)"
      ],
      "metadata": {},
      "execution_count": null
    },
    {
      "cell_type": "markdown",
      "source": [
        "The folium has radial part $0$ when $\\cos(\\theta) = 0$ or\n$\\sin(2\\theta) = b/4a$. This could be used to find out what values\ncorrespond to which loop. For our choice of $a$ and $b$ this gives $\\pi/2$, $3\\pi/2$ or, as\n$b/4a = 1/8$, when $\\sin(2\\theta) = 1/8$ which happens at\n$a_0=\\sin^{-1}(1/8)/2=0.0626...$ and $\\pi/2 - a_0$, $\\pi+a_0$ and $3\\pi/2 - a_0$. The first folium can be plotted with:"
      ],
      "metadata": {}
    },
    {
      "outputs": [],
      "cell_type": "code",
      "source": [
        "a0 = (1/2) * asin(1/8)\nplot_polar(r, a0, pi/2 - a0)"
      ],
      "metadata": {},
      "execution_count": null
    },
    {
      "cell_type": "markdown",
      "source": [
        "The second - which is too small to appear in the initial plot without zooming in - with"
      ],
      "metadata": {}
    },
    {
      "outputs": [],
      "cell_type": "code",
      "source": [
        "plot_polar(r, pi/2 - a0, pi/2)"
      ],
      "metadata": {},
      "execution_count": null
    },
    {
      "cell_type": "markdown",
      "source": [
        "The third with"
      ],
      "metadata": {}
    },
    {
      "outputs": [],
      "cell_type": "code",
      "source": [
        "plot_polar(r, pi/2, pi + a0)"
      ],
      "metadata": {},
      "execution_count": null
    },
    {
      "cell_type": "markdown",
      "source": [
        "The plot repeats from there, so the initial plot could have been made over $[0, \\pi + a_0]$.\n\n##### Example\n\nThe [Limacon of Pascal](http://www-history.mcs.st-and.ac.uk/Curves/Limacon.html) has\n\n$$~\nr(\\theta) = b + 2a\\cos(\\theta)\n~$$"
      ],
      "metadata": {}
    },
    {
      "outputs": [],
      "cell_type": "code",
      "source": [
        "a,b = 4, 2\nr(theta) = b + 2a*cos(theta)\nplot_polar(r, 0, 2pi)"
      ],
      "metadata": {},
      "execution_count": null
    },
    {
      "cell_type": "markdown",
      "source": [
        "##### Example\n\nSome curves require a longer parameterization, such as this where we\nplot over $[0, 8\\pi]$ so that the cosine term can range over an entire\nhalf period:"
      ],
      "metadata": {}
    },
    {
      "outputs": [],
      "cell_type": "code",
      "source": [
        "r(theta) = sqrt(abs(cos(theta/8)))\nplot_polar(r, 0, 8pi)"
      ],
      "metadata": {},
      "execution_count": null
    },
    {
      "cell_type": "markdown",
      "source": [
        "## Area of polar graphs\n\nConsider the [cardioid](http://www-history.mcs.st-and.ac.uk/Curves/Cardioid.html) described by $r(\\theta) = 2(1 + \\cos(\\theta))$:"
      ],
      "metadata": {}
    },
    {
      "outputs": [],
      "cell_type": "code",
      "source": [
        "r(theta) = 2(1 + cos(theta))\nplot_polar(r, 0, 2pi)"
      ],
      "metadata": {},
      "execution_count": null
    },
    {
      "cell_type": "markdown",
      "source": [
        "How much area is contained in the graph?\n\nIn some cases it might be possible to translate back into Cartesian\ncoordinates and compute from there. In practice, this is not usually the best\nsolution.\n\nThe area can be approximated by wedges (not rectangles). For example, here we see that the area over a given angle is well approximated by the wedge for each of the sectors:"
      ],
      "metadata": {}
    },
    {
      "outputs": [],
      "cell_type": "code",
      "source": [
        "gr()\nr(theta) = 1/(1 + (1/3)cos(theta))\np = plot_polar(r, 0, pi/2, legend=false, linewidth=3, aspect_ratio=:equal)\nt0, t1, t2, t3 = collect(range(pi/12, pi/2 - pi/12, length=4))\n\nfor s in (t0,t1,t2,t3)\n  plot!(p, [0, r(s)*cos(s)], [0, r(s)*sin(s)], linewidth=3)\nend\n\nfor (s0,s1) in ((t0,t1), (t1, t2), (t2,t3))\n    s = (s0 + s1)/2\n    plot!(p, [0, ])\n    plot!(p, [0,r(s)*cos(s)], [0, r(s)*sin(s)])\n    ts = range(s0, s1, length=25)\n    xs, ys = r(s)*cos.(ts), r(s)*sin.(ts)\n    plot!(p, xs, ys)\n    plot!(p, [0,xs[1]],[0,ys[1]])\nend\np"
      ],
      "metadata": {},
      "execution_count": null
    },
    {
      "cell_type": "markdown",
      "source": [
        "As well, see this part of a\n[Wikipedia](http://en.wikipedia.org/wiki/Polar_coordinate_system#Integral_calculus_.28area.29)\npage for a figure.\n\nImagine we have $a < b$ and a partition $a=t_0 < t_1 < \\cdots < t_n =\nb$. Let $\\phi_i = (1/2)(t_{i-1} + t_{i})$ be the midpoint.\nThen the wedge of radius $r(\\phi_i)$ with angle between $t_{i-1}$ and $t_i$ will have area $\\pi r(\\phi_i)^2 (t_i-t_{i-1}) / (2\\pi) = (1/2) r(\\phi_i)(t_i-t_{i-1})$, the ratio $(t_i-t_{i-1}) / (2\\pi)$ being the angle to the total angle of a circle.\n Summing the area of these wedges\nover the partition gives a Riemann sum approximation for the integral $(1/2)\\int_a^b\nr(\\theta)^2 d\\theta$. This limit of this sum defines the area in polar coordinates.\n\n> Area of polar regions. Let $R$ denote the region bounded by the curve $r(\\theta)$ and bounded by the rays\n> $\\theta=a$ and $\\theta=b$ with $b-a \\leq 2\\pi$, then the area of $R$ is given by\n> $$~A = \\frac{1}{2}\\int_a^b r(\\theta)^2 d\\theta.~$$\n\nSo the area of the cardioid, which is parameterized over $[0, 2\\pi]$ is found by"
      ],
      "metadata": {}
    },
    {
      "outputs": [],
      "cell_type": "code",
      "source": [
        "using SymPy\nr(theta) = 2(1 + cos(theta))\n@vars theta\n(1//2) * integrate(r(theta)^2, (theta, 0, 2PI))"
      ],
      "metadata": {},
      "execution_count": null
    },
    {
      "cell_type": "markdown",
      "source": [
        "##### Example\n\nThe folium has general formula $r(\\theta) = -b \\cos(\\theta)\n+4a\\cos(\\theta)\\sin(\\theta)^2$. When $a=1$ and $b=1$ a leaf of the\nfolium is traced out between $\\pi/6$ and $\\pi/2$. What is the area of\nthat leaf?\n\n\nAn antiderivative exists for arbitrary $a$ and $b$:"
      ],
      "metadata": {}
    },
    {
      "outputs": [],
      "cell_type": "code",
      "source": [
        "@vars a b\nr(theta) = -b*cos(theta) + 4a*cos(theta)*sin(theta)^2\nintegrate(r(theta)^2, theta) / 2"
      ],
      "metadata": {},
      "execution_count": null
    },
    {
      "cell_type": "markdown",
      "source": [
        "For our specific values, the answer can be computed with:"
      ],
      "metadata": {}
    },
    {
      "outputs": [],
      "cell_type": "code",
      "source": [
        "ex = integrate(r(theta)^2, (theta, PI/6, PI/2)) / 2\nex(a => 1, b=>1)"
      ],
      "metadata": {},
      "execution_count": null
    },
    {
      "cell_type": "markdown",
      "source": [
        "###### Example\n\nPascal's\n[limacon](http://www-history.mcs.st-and.ac.uk/Curves/Limacon.html) is\nlike the cardioid, but contains an extra loop. When $a=1$ and $b=1$ we\nhave this graph."
      ],
      "metadata": {}
    },
    {
      "outputs": [],
      "cell_type": "code",
      "source": [
        "a,b = 1,1\nr(theta) = b + 2a*cos(theta)\np = plot(t->r(t)*cos(t), t->r(t)*sin(t), 0, pi/2 + pi/6,  legend=false, color=:blue)\nplot!(p, t->r(t)*cos(t), t->r(t)*sin(t), 3pi/2 - pi/6, pi/2 + pi/6, color=:orange)\nplot!(p, t->r(t)*cos(t), t->r(t)*sin(t), 3pi/2 - pi/6, 2pi, color=:blue)\n\np"
      ],
      "metadata": {},
      "execution_count": null
    },
    {
      "cell_type": "markdown",
      "source": [
        "What is the area contained in the outer loop, that is not in the inner loop?\n\nTo answer, we need to find out what range of values in $[0, 2\\pi]$ the\ninner and outer loops are traced. This will be when $r(\\theta) = 0$,\nwhich for the choice of $a$ and $b$ solves $1 + 2\\cos(\\theta) = 0$, or\n$\\cos(\\theta) = -1/2$. This is $\\pi/2 + \\pi/6$ and $3\\pi/2 -\n\\pi/6$. The inner loop is traversed between those values and has area:"
      ],
      "metadata": {}
    },
    {
      "outputs": [],
      "cell_type": "code",
      "source": [
        "@vars a b\nr(theta) =  b + 2a*cos(theta)\nex = integrate(r(theta)^2 / 2, (theta, PI/2 + PI/6, 3PI/2 - PI/6))\ninner = ex(a=>1, b=>1)"
      ],
      "metadata": {},
      "execution_count": null
    },
    {
      "cell_type": "markdown",
      "source": [
        "The outer area (including the inner loop) is the integral from $0$ to $\\pi/2 + \\pi/6$ plus that from $3\\pi/2 - \\pi/6$ to $2\\pi$. These areas are equal, so we double the first:"
      ],
      "metadata": {}
    },
    {
      "outputs": [],
      "cell_type": "code",
      "source": [
        "ex = 2 * integrate(r(theta)^2 / 2, (theta, 0, PI/2 + PI/6))\nouter = ex(a=>1, b=>1)"
      ],
      "metadata": {},
      "execution_count": null
    },
    {
      "cell_type": "markdown",
      "source": [
        "The answer is the difference:"
      ],
      "metadata": {}
    },
    {
      "outputs": [],
      "cell_type": "code",
      "source": [
        "outer - inner"
      ],
      "metadata": {},
      "execution_count": null
    },
    {
      "cell_type": "markdown",
      "source": [
        "## Arc length\n\nThe length of the arc traced by a polar graph can also be expressed\nusing an integral. Again, we partition the interval $[a,b]$ and\nconsider the wedge from $(r(t_{i-1}), t_{i-1})$ to $(r(t_i),\nt_i)$. The curve this wedge approximates will have its arc length\napproximated by the line segment connecting the points. Expressing the\npoints in Cartesian coordinates and simplifying gives the distance\nsquared as:\n\n$$~\n\\begin{align}\nd_i^2 &= (r(t_i) \\cos(t_i) - r(t_{i-1})\\cos(t_{i-1}))^2 + (r(t_i) \\sin(t_i) - r(t_{i-1})\\sin(t_{i-1}))^2\\\\\n&= r(t_i)^2 - 2r(t_i)r(t_{i-1}) \\cos(t_i - t_{i-1}) +  r(t_{i-1})^2 \\\\\n&\\approx r(t_i)^2 - 2r(t_i)r(t_{i-1}) (1 - \\frac{(t_i - t_{i-1})^2}{2})+  r(t_{i-1})^2 \\quad(\\text{as} \\cos(x) \\approx 1 - x^2/2)\\\\\n&= (r(t_i) - r(t_{i-1}))^2 + r(t_i)r(t_{i-1}) (t_i - t_{i-1})^2.\n\\end{align}\n~$$\n\nAs was done with arc length we multiply $d_i$ by $(t_i - t_{i-1})/(t_i - t_{i-1})$\nand move the bottom factor under the square root:\n\n\n$$~\n\\begin{align}\nd_i\n&= d_i \\frac{t_i - t_{i-1}}{t_i - t_{i-1}} \\\\\n&\\approx \\sqrt{\\frac{(r(t_i) - r(t_{i-1}))^2}{(t_i - t_{i-1})^2} +\n\\frac{r(t_i)r(t_{i-1}) (t_i - t_{i-1})^2}{(t_i - t_{i-1})^2}} \\cdot (t_i - t_{i-1})\\\\\n&= \\sqrt{(r'(\\xi_i))^2 + r(t_i)r(t_{i-1})} \\cdot (t_i - t_{i-1}).\\quad(\\text{the mean value theorem})\n\\end{align}\n~$$\n\nAdding the approximations to the $d_i$ looks like a Riemann sum approximation to the\nintegral $\\int_a^b \\sqrt{(r'(\\theta)^2) + r(\\theta)^2} d\\theta$ (with\nthe extension to the Riemann sum formula needed to derive the arc\nlength for a parameterized curve). That is:\n\n> Arc length of a polar curve. The arc length of the curve described in polar coordinates by $r(\\theta)$ for $a \\leq \\theta \\leq b$ is given by\n> $$~\\int_a^b \\sqrt{r'(\\theta)^2 + r(\\theta)^2} d\\theta.~$$\n\nWe test this out on a circle with $r(\\theta) = R$, a constant. The\nintegrand simplifies to just $\\sqrt{R^2}$ and the integral is from $0$\nto $2\\pi$, so the arc length is $2\\pi R$, precisely the formula for\nthe circumference.\n\n##### Example\n\nA cardioid is described by $r(\\theta) = 2(1 + \\cos(\\theta))$. What is the arc length from $0$ to $2\\pi$?\n\nThe integrand is integrable"
      ],
      "metadata": {}
    },
    {
      "outputs": [],
      "cell_type": "code",
      "source": [
        "r(theta) = 2*(1 + cos(theta))\nds = sqrt(diff(r(theta), theta)^2 + r(theta)^2) |> simplify"
      ],
      "metadata": {},
      "execution_count": null
    },
    {
      "cell_type": "markdown",
      "source": [
        "with antiderivative $4\\sqrt{2\\cos(\\theta) + 2} \\cdot \\tan(\\theta/2)$,\nbut `SymPy` isn't able to find it. Instead we give a numeric answer:"
      ],
      "metadata": {}
    },
    {
      "outputs": [],
      "cell_type": "code",
      "source": [
        "quadgk(t -> sqrt(r'(t)^2 + r(t)^2), 0, 2pi)[1]"
      ],
      "metadata": {},
      "execution_count": null
    },
    {
      "cell_type": "markdown",
      "source": [
        "##### Example\n\nThe [equiangular](http://www-history.mcs.st-and.ac.uk/Curves/Equiangular.html) spiral has polar representation\n\n$$~\nr(\\theta) = a e^{\\theta \\cot(b)}\n~$$\n\nWith $a=1$ and $b=\\pi/4$, find the arc length traced out from $\\theta=0$ to $\\theta=1$."
      ],
      "metadata": {}
    },
    {
      "outputs": [],
      "cell_type": "code",
      "source": [
        "a, b= 1, PI/4\nr(theta) = a * exp(theta * cot(b))\nds = sqrt(diff(r(theta), theta)^2 + r(theta)^2)\nintegrate(ds, (theta, 0, 1))"
      ],
      "metadata": {},
      "execution_count": null
    },
    {
      "cell_type": "markdown",
      "source": [
        "##### Example\n\nAn Archimedean [spiral](http://en.wikipedia.org/wiki/Archimedean_spiral) is defined in polar form by\n\n$$~\nr(\\theta) = a + b \\theta\n~$$\n\nThat is, the radius increases linearly. The crossings of the positive $x$ axis occur at $a + b n 2\\pi$, so are evenly spaced out by $2\\pi b$. These could be a model for such things as coils of materials of uniform thickness.\n\nFor example, a roll of toilet paper promises 1000 sheets with the\n[smaller](http://www.phlmetropolis.com/2011/03/the-incredible-shrinking-toilet-paper.php)\n$4.1 \\times 3.7$ inch size. This $3700$ inch long connected sheet of\npaper is wrapped around a paper tube in an Archimedean spiral with\n$r(\\theta) = d_{\\text{inner}}/2 + b\\theta$. The entire roll must fit in a standard\ndimension, so the outer diameter will be $d_{\\text{outer}} = 5~1/4$ inches. Can we figure out\n$b$?\n\nLet $n$ be the number of windings and assume the starting and ending point is on the positive $x$ axis,\n$r(2\\pi n) = d_{\\text{outer}}/2 = d_{\\text{inner}}/2 + b (2\\pi n)$. Solving for $n$ in terms of $b$ we get:\n$n = ( d_{\\text{outer}} - d_{\\text{inner}})/2 / (2\\pi b)$. With this, the following must hold as the total arc length is $3700$ inches.\n\n\n$$~\n\\int_0^{n\\cdot 2\\pi} \\sqrt{r(\\theta)^2 + r'(\\theta)^2} d\\theta = 3700\n~$$\n\nNumerically then we have:"
      ],
      "metadata": {}
    },
    {
      "outputs": [],
      "cell_type": "code",
      "source": [
        "dinner = 1 + 5/8\ndouter = 5 + 1/4\nr(b,t) = dinner/2 + b*t\nrp(b,t) = b\nintegrand(b,t) = sqrt((r(b,t))^2 + rp(b,t)^2)  # sqrt(r^2 + r'^2)\nn(b) = (douter - dinner)/2/(2*pi*b)\nb = find_zero(b -> quadgk(t->integrand(b,t), 0, n(b)*2*pi)[1] - 3700, (1/100000, 1/100))"
      ],
      "metadata": {},
      "execution_count": null
    },
    {
      "cell_type": "markdown",
      "source": [
        "This gives a value in inches, in millimeters this is about a $.02mm$ thickness per sheet:"
      ],
      "metadata": {}
    },
    {
      "outputs": [],
      "cell_type": "code",
      "source": [
        "b * 25.4"
      ],
      "metadata": {},
      "execution_count": null
    },
    {
      "cell_type": "markdown",
      "source": [
        "## Questions\n\n###### Question\n\nLet $r=3$ and $\\theta=\\pi/8$. In Cartesian coordinates what is $x$?"
      ],
      "metadata": {}
    },
    {
      "outputs": [],
      "cell_type": "code",
      "source": [
        "x,y = 3 * [cos(pi/8), sin(pi/8)]\nnumericq(x)"
      ],
      "metadata": {},
      "execution_count": null
    },
    {
      "cell_type": "markdown",
      "source": [
        "What is $y$?"
      ],
      "metadata": {}
    },
    {
      "outputs": [],
      "cell_type": "code",
      "source": [
        "numericq(y)"
      ],
      "metadata": {},
      "execution_count": null
    },
    {
      "cell_type": "markdown",
      "source": [
        "###### Question\n\nA point in Cartesian coordinates is given by $(-12, -5)$. In has a polar coordinate representation with an angle $\\theta$ in $[0,2\\pi]$ and $r > 0$. What is $r$?"
      ],
      "metadata": {}
    },
    {
      "outputs": [],
      "cell_type": "code",
      "source": [
        "x,y = -12, -5\nr1, theta1 = sqrt(x^2 + y^2), atan(y,x)\nnumericq(r1)"
      ],
      "metadata": {},
      "execution_count": null
    },
    {
      "cell_type": "markdown",
      "source": [
        "What is $\\theta$?"
      ],
      "metadata": {}
    },
    {
      "outputs": [],
      "cell_type": "code",
      "source": [
        "numericq(theta1)"
      ],
      "metadata": {},
      "execution_count": null
    },
    {
      "cell_type": "markdown",
      "source": [
        "###### Question\n\nDoes $r(\\theta) = a \\sec(\\theta - \\gamma)$ describe a line for $0$ when $a=3$ and $\\gamma=\\pi/4$?"
      ],
      "metadata": {}
    },
    {
      "outputs": [],
      "cell_type": "code",
      "source": [
        "yesnoq(\"yes\")"
      ],
      "metadata": {},
      "execution_count": null
    },
    {
      "cell_type": "markdown",
      "source": [
        "If yes, what is the $y$ intercept"
      ],
      "metadata": {}
    },
    {
      "outputs": [],
      "cell_type": "code",
      "source": [
        "r(theta) == 3 * sec(theta -pi/4)\nval = r(pi/2)\nnumericq(val)"
      ],
      "metadata": {},
      "execution_count": null
    },
    {
      "cell_type": "markdown",
      "source": [
        "What is slope of the line?"
      ],
      "metadata": {}
    },
    {
      "outputs": [],
      "cell_type": "code",
      "source": [
        "val = (r(pi/2)*sin(pi/2) - r(pi/4)*sin(pi/4)) / (r(pi/2)*cos(pi/2) - r(pi/4)*cos(pi/4))\nnumericq(val)"
      ],
      "metadata": {},
      "execution_count": null
    },
    {
      "cell_type": "markdown",
      "source": [
        "Does this seem likely: the slope is $-1/\\tan(\\gamma)$?"
      ],
      "metadata": {}
    },
    {
      "outputs": [],
      "cell_type": "code",
      "source": [
        "yesnoq(\"yes\")"
      ],
      "metadata": {},
      "execution_count": null
    },
    {
      "cell_type": "markdown",
      "source": [
        "###### Question\n\nThe polar curve $r(\\theta) = 2\\cos(\\theta)$ has tangent lines at most points. This differential representation of the chain rule\n\n$$~\n\\frac{dy}{dx} = \\frac{dy}{d\\theta} / \\frac{dx}{d\\theta},\n~$$\n\nallows the slope to be computed when $y$ and $x$ are the Cartesian\nform of the polar curve. For this curve, we have\n\n$$~\n\\frac{dy}{d\\theta} = \\frac{d}{d\\theta}(2\\cos(\\theta) \\cdot \\cos(\\theta)),~ \\text{ and }\n\\frac{dx}{d\\theta} = \\frac{d}{d\\theta}(2\\sin(\\theta) \\cdot \\cos(\\theta)).\n~$$\n\nNumerically, what is the slope of the tangent line when $\\theta = \\pi/4$?"
      ],
      "metadata": {}
    },
    {
      "outputs": [],
      "cell_type": "code",
      "source": [
        "r(theta) = 2cos(theta)\ng(theta) = r(theta)*cos(theta)\nf(theta) = r(theta)*sin(theta)\nc = pi/4\nval = D(g)(c) / D(f)(c)\nnumericq(val)"
      ],
      "metadata": {},
      "execution_count": null
    },
    {
      "cell_type": "markdown",
      "source": [
        "###### Question\n\nFor different values $k > 0$ and $e > 0$ the polar equation\n\n$$~\nr(\\theta) = \\frac{ke}{1 + e\\cos(\\theta)}\n~$$\n\nhas a familiar form. The value of $k$ is just a scale factor, but different values of $e$ yield different shapes.\n\nWhen $0 < e < 1$ what is the shape of the curve? (Answer by making a plot and guessing.)"
      ],
      "metadata": {}
    },
    {
      "outputs": [],
      "cell_type": "code",
      "source": [
        "choices = [\n\"an ellipse\",\n\"a parabola\",\n\"a hyperbola\",\n\"a circle\",\n\"a line\"\n]\nans = 1\nradioq(choices, ans, keep_order=true)"
      ],
      "metadata": {},
      "execution_count": null
    },
    {
      "cell_type": "markdown",
      "source": [
        "When $e = 1$ what is the shape of the curve?"
      ],
      "metadata": {}
    },
    {
      "outputs": [],
      "cell_type": "code",
      "source": [
        "choices = [\n\"an ellipse\",\n\"a parabola\",\n\"a hyperbola\",\n\"a circle\",\n\"a line\"\n]\nans = 2\nradioq(choices, ans, keep_order=true)"
      ],
      "metadata": {},
      "execution_count": null
    },
    {
      "cell_type": "markdown",
      "source": [
        "When $1 < e$ what is the shape of the curve?"
      ],
      "metadata": {}
    },
    {
      "outputs": [],
      "cell_type": "code",
      "source": [
        "choices = [\n\"an ellipse\",\n\"a parabola\",\n\"a hyperbola\",\n\"a circle\",\n\"a line\"\n]\nans = 3\nradioq(choices, ans, keep_order=true)"
      ],
      "metadata": {},
      "execution_count": null
    },
    {
      "cell_type": "markdown",
      "source": [
        "###### Question\n\nFind the area of a lobe of the\n[lemniscate](http://www-history.mcs.st-and.ac.uk/Curves/Lemniscate.html)\ncurve traced out by $r(\\theta) = \\sqrt{\\cos(2\\theta)}$ between\n$-\\pi/4$ and $\\pi/4$. What is the answer?"
      ],
      "metadata": {}
    },
    {
      "outputs": [],
      "cell_type": "code",
      "source": [
        "choices = [\nL\"1/2\",\nL\"\\pi/2\",\nL\"1\"\n]\nans=1\nradioq(choices, ans)"
      ],
      "metadata": {},
      "execution_count": null
    },
    {
      "cell_type": "markdown",
      "source": [
        "###### Question\n\nFind the area of a lobe of the [eight](http://www-history.mcs.st-and.ac.uk/Curves/Eight.html) curve traced out by $r(\\theta) = \\cos(2\\theta)\\sec(\\theta)^4$ from $-\\pi/4$ to $\\pi/4$. Do this numerically."
      ],
      "metadata": {}
    },
    {
      "outputs": [],
      "cell_type": "code",
      "source": [
        "r(theta) = sqrt(cos(2theta) * sec(theta)^4)\nval, _ = quadgk(t -> r(t)^2/2, -pi/4, pi/4)\nnumericq(val)"
      ],
      "metadata": {},
      "execution_count": null
    },
    {
      "cell_type": "markdown",
      "source": [
        "###### Question\n\nFind the arc length of a lobe of the\n[lemniscate](http://www-history.mcs.st-and.ac.uk/Curves/Lemniscate.html)\ncurve traced out by $r(\\theta) = \\sqrt{\\cos(2\\theta)}$ between\n$-\\pi/4$ and $\\pi/4$. What is the answer (numerically)?"
      ],
      "metadata": {}
    },
    {
      "outputs": [],
      "cell_type": "code",
      "source": [
        "r(theta) = sqrt(cos(2theta))\nval, _ = quadgk(t -> sqrt(D(r)(t)^2 + r(t)^2), -pi/4, pi/4)\nnumericq(val)"
      ],
      "metadata": {},
      "execution_count": null
    },
    {
      "cell_type": "markdown",
      "source": [
        "###### Question\n\n\nFind the arc length of a lobe of the [eight](http://www-history.mcs.st-and.ac.uk/Curves/Eight.html) curve traced out by $r(\\theta) = \\cos(2\\theta)\\sec(\\theta)^4$ from $-\\pi/4$ to $\\pi/4$. Do this numerically."
      ],
      "metadata": {}
    },
    {
      "outputs": [],
      "cell_type": "code",
      "source": [
        "r(theta) = sqrt(cos(2theta) * sec(theta)^4)\nval, _ = quadgk(t -> sqrt(D(r)(t)^2 + r(t)^2), -pi/4, pi/4)\nnumericq(val)"
      ],
      "metadata": {},
      "execution_count": null
    }
  ],
  "nbformat_minor": 2,
  "metadata": {
    "language_info": {
      "file_extension": ".jl",
      "mimetype": "application/julia",
      "name": "julia",
      "version": "1.5.0"
    },
    "kernelspec": {
      "name": "julia-1.5",
      "display_name": "Julia 1.5.0",
      "language": "julia"
    }
  },
  "nbformat": 4
}
