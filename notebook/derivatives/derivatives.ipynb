{
  "cells": [
    {
      "cell_type": "markdown",
      "source": [
        "# Derivatives"
      ],
      "metadata": {}
    },
    {
      "outputs": [],
      "cell_type": "code",
      "source": [
        "using CalculusWithJulia\nusing CalculusWithJulia.WeaveSupport\nusing Plots\nnothing"
      ],
      "metadata": {},
      "execution_count": null
    },
    {
      "cell_type": "markdown",
      "source": [
        "Before defining the derivative of a function, let's begin with two\nmotivating examples.\n\n##### Example: Driving\n\nImagine motoring along down highway 61 leaving Minnesota on the way to\nNew Orleans; though lost in listening to music, still mindful of the\nspeedometer and odometer, both prominently placed on the dashboard of\nthe car.\n\nThe speedometer reads 60 miles per hour, what is the odometer doing?\nBesides recording total distance traveled, it is incrementing\ndutifully every hour by 60 miles. Why? Well, the well-known formula relating distance, time and rate of travel is\n\n$$~\n\\text{distance} = \\text{ rate } \\times \\text{ time.}\n~$$\n\nIf the rate is a constant $60$ miles/hour, then in one hour the distance traveled is 60 miles.\n\nOf course, the odometer isn't just incrementing once per hour, it is incrementing once every 1/10th of a mile. How much time does that take? Well, we would need to solve $1/10=60 \\cdot t$ which means $t=1/600$ hours, better known as once every 6 seconds.\n\nUsing some mathematical notation, would give $x(t) = v\\cdot t$, where\n$x$ is position at time $t$, $v$ is the velocity and $t$ the time\ntraveled in hours. A simple graph of the first three hours of travel would show:"
      ],
      "metadata": {}
    },
    {
      "outputs": [],
      "cell_type": "code",
      "source": [
        "using CalculusWithJulia\nusing Plots\nposition(t) = 60 * t\nplot(position, 0, 3)"
      ],
      "metadata": {},
      "execution_count": null
    },
    {
      "outputs": [],
      "cell_type": "code",
      "source": [
        "plotly()\nplot(sin, 0, 2pi)"
      ],
      "metadata": {},
      "execution_count": null
    },
    {
      "cell_type": "markdown",
      "source": [
        "Oh no, we hit traffic. In the next 30 minutes we only traveled\n15 miles. We were so busy looking out for traffic, the speedometer was\nnot checked. What would the average speed have been? Though in the 30\nminutes, the displayed speed may have varied, the *average speed*\nwould simply be the change in distance over the change in time, or\n$\\Delta x / \\Delta t$. That is"
      ],
      "metadata": {}
    },
    {
      "outputs": [],
      "cell_type": "code",
      "source": [
        "15/(1/2)"
      ],
      "metadata": {},
      "execution_count": null
    },
    {
      "cell_type": "markdown",
      "source": [
        "Now suppose that after $6$ hours of travel the GPS in the car gives us a readout of distance traveled\nas a function of time. The graph looks like this:"
      ],
      "metadata": {}
    },
    {
      "outputs": [],
      "cell_type": "code",
      "source": [
        "function position(t)\n  if t <= 3\n     60*t\n  elseif 3 < t <= 3.5\n     position(3) + 30(t -3)\n  elseif 3.5 < t <= 4\n     position(3.499)  + 75(t-3.5)\n  elseif 4 < t <= 4.5\n     position(4)\n  else\n     position(4) + 60(t-4.5)\n  end\nend\nplot(position, 0, 6)"
      ],
      "metadata": {},
      "execution_count": null
    },
    {
      "cell_type": "markdown",
      "source": [
        "We can see with some effort that the slope is steady for the first three hours, is slightly less between $3$ and\n$3.5$ hours, then is a bit steeper for the next half hour. After that, it is flat for the\nabout half an hour, then the slope continues on with same value as in the first\n3 hours. What does that say about our speed during our trip?\n\nBased on the graph, what was the average speed over the first three hours? Well, we traveled 180 miles, and took 3 hours:"
      ],
      "metadata": {}
    },
    {
      "outputs": [],
      "cell_type": "code",
      "source": [
        "180/3"
      ],
      "metadata": {},
      "execution_count": null
    },
    {
      "cell_type": "markdown",
      "source": [
        "What about the next half hour? Squinting shows the amount traveled was 15 miles (195 - 180) and it took 1/2 an hour:"
      ],
      "metadata": {}
    },
    {
      "outputs": [],
      "cell_type": "code",
      "source": [
        "15/(1/2)"
      ],
      "metadata": {},
      "execution_count": null
    },
    {
      "cell_type": "markdown",
      "source": [
        "And the half hour after that? The average speed is found from the distance traveled, 37.5 miles, divided by the time, 1/2 hour:"
      ],
      "metadata": {}
    },
    {
      "outputs": [],
      "cell_type": "code",
      "source": [
        "37.5 / (1/2)"
      ],
      "metadata": {},
      "execution_count": null
    },
    {
      "cell_type": "markdown",
      "source": [
        "Okay, so there was some speeding involved.\n\nThe next half hour the car did not move. What was the average speed? Well the change in position was 0, but the time was 1/2 hour, so the average was 0.\n\nPerhaps a graph of the speed is a bit more clear. We can do this based on the above:"
      ],
      "metadata": {}
    },
    {
      "outputs": [],
      "cell_type": "code",
      "source": [
        "function speed(t)\n  if     0   < t <= 3\n     60\n  elseif 3   < t <= 3.5\n     30\n  elseif 3.5 < t <= 4\n     75\n  elseif 4   < t <= 4.5\n     0\n  else\n     60\n  end\nend\nplot(speed, 0, 6)"
      ],
      "metadata": {},
      "execution_count": null
    },
    {
      "cell_type": "markdown",
      "source": [
        "The jumps, as discussed before, are artifacts of the graphing\nalgorithm. What is interesting, is we could have derived the graph of\n`speed` from that of `x` by just finding the slopes of the line\nsegments, and we could have derived the graph of `x` from that of\n`speed`, just using the simple formula relating distance, rate, and\ntime."
      ],
      "metadata": {}
    },
    {
      "outputs": [],
      "cell_type": "code",
      "source": [
        "note(\"\"\"\n\nWe were pretty loose with some key terms. There is a distinction\nbetween \"speed\" and \"velocity\", this being the speed is the absolute\nvalue of velocity. Velocity incorporates a direction as well as a\nmagnitude. Similarly, distance traveled and change in position are not\nthe same thing when there is back tracking involved. The total\ndistance traveled is computed with the speed, the change in position\nis computed with the velocity. When there is no change of sign, it is\na bit more natural, perhaps, to use the language of speed and\ndistance.\n\n\"\"\")"
      ],
      "metadata": {},
      "execution_count": null
    },
    {
      "cell_type": "markdown",
      "source": [
        "##### Example: Galileo's ball and ramp experiment\n\nOne of history's most famous experiments was performed by\n[Galileo](http://en.wikipedia.org/wiki/History_of_experiments) where\nhe rolled balls down inclined ramps, making note of distance traveled\nwith respect to time. As Galileo had no ultra-accurate measuring device,\nhe needed to slow movement down by controlling the angle of the\nramp. With this, he could measure units of distance per units of time.\n(Click through to *Galileo and Perspective* [Dauben](http://www.mcm.edu/academic/galileo/ars/arshtml/mathofmotion1.html).)\n\n\nSuppose that no matter what the incline was, Galileo observed that in\nunits of the distance traveled in the first second that the distance\ntraveled between subsequent seconds was $3$ times, then $5$ times, then\n$7$ times, ... This table summarizes."
      ],
      "metadata": {}
    },
    {
      "outputs": [],
      "cell_type": "code",
      "source": [
        "using DataFrames\nts = [0,1,2,3,4,5]\ndxs = [0,1,3, 5, 7, 9]\nds = [0,1,4,9,16,25]\nd = DataFrame(t=ts, delta=dxs, distance=ds)\ntable(d)"
      ],
      "metadata": {},
      "execution_count": null
    },
    {
      "cell_type": "markdown",
      "source": [
        "A graph of distance versus time could be found by interpolating between the measured points:"
      ],
      "metadata": {}
    },
    {
      "outputs": [],
      "cell_type": "code",
      "source": [
        "ts = [0,1,2,3,4, 5]\nxs = [0,1,4,9,16,25]\nplot(ts, xs)"
      ],
      "metadata": {},
      "execution_count": null
    },
    {
      "cell_type": "markdown",
      "source": [
        "The graph looks almost quadratic. What would the following questions have yielded?\n\n* What is the average speed between $0$ and $3$?"
      ],
      "metadata": {}
    },
    {
      "outputs": [],
      "cell_type": "code",
      "source": [
        "(9-0) / (3-0)  # (xs[4] - xs[1]) / (ts[4] - ts[1])"
      ],
      "metadata": {},
      "execution_count": null
    },
    {
      "cell_type": "markdown",
      "source": [
        "* What is the average speed between $2$ and $3$?"
      ],
      "metadata": {}
    },
    {
      "outputs": [],
      "cell_type": "code",
      "source": [
        "(9-4) / (3-2)  # (xs[4] - xs[3]) / (ts[4] - ts[3])"
      ],
      "metadata": {},
      "execution_count": null
    },
    {
      "cell_type": "markdown",
      "source": [
        "From the graph, we can tell that the slope of the line connecting\n$(2,4)$ and $(3,9)$ will be greater than that connecting $(0,0)$ and\n$(3,9)$. In fact, given the shape of the graph (concave up), the line\nconnecting $(0,0)$ with any point will have a slope less than or equal\nto any of the line segments.\n\nThe average speed between $k$ and $k+1$ for this graph is:"
      ],
      "metadata": {}
    },
    {
      "outputs": [],
      "cell_type": "code",
      "source": [
        "xs[2]-xs[1], xs[3] - xs[2], xs[4] - xs[3], xs[5] - xs[4]"
      ],
      "metadata": {},
      "execution_count": null
    },
    {
      "cell_type": "markdown",
      "source": [
        "We see it increments by $2$. The acceleration is the rate of change of\nspeed. We see the rate of change of speed is constant, as the speed\nincrements by 2 each time unit.\n\nBased on this - and given Galileo's insight - it appears the\nacceleration will be a constant and the position as a function of time\nwill be quadratic.\n\n## The slope of the secant line\n\nIn the above examples, we see that the average speed is computed using\nthe slope formula. This can be generalized for any univariate function\n$f(x)$:\n\n> The average rate of change between $a$ and $b$ is $(f(b) - f(a)) /\n> (b - a)$. It is typical to express this as $\\Delta y/ \\Delta x$,\n> where $\\Delta$ means \"change\".\n\nGeometrically, this is the slope of the line connecting the points\n$(a, f(a))$ and $(b, f(b))$. This line is called a\n[secant](http://en.wikipedia.org/wiki/Secant_line) line, which is just\na line intersecting two specified points on a curve.\n\n\nRather than parameterize this problem using $a$ and $b$, we let $c$ and $c+h$ represent the two values for $x$, then the secant-line-slope formula becomes\n\n$$~\nm = \\frac{f(c+h) - f(c)}{h}.\n~$$\n\n## The slope of the tangent line\n\nThe slope of the secant line represents the average rate of change\nover a given period, $h$. What if this rate is so variable, that it\nmakes sense to take smaller and smaller periods $h$? In fact, what if\n$h$ goes to $0$?"
      ],
      "metadata": {}
    },
    {
      "outputs": [],
      "cell_type": "code",
      "source": [
        "pyplot()\nfig_size=(600, 400)\n\nfunction secant_line_tangent_line_graph(n)\n    f(x) = sin(x)\n    c = pi/3\n    h = 2.0^(-n) * pi/4\n    m = (f(c+h) - f(c))/h\n\n    xs = range(0, stop=pi, length=50)\n    plt = plot(f, 0, pi, legend=false, size=fig_size)\n    plot!(plt, xs, f(c) .+ cos(c)*(xs .- c), color=:orange)\n    plot!(plt, xs, f(c) .+ m*(xs .- c), color=:black)\n    scatter!(plt, [c,c+h], [f(c), f(c+h)], color=:orange, markersize=5)\n\n    plot!(plt, [c, c+h, c+h], [f(c), f(c), f(c+h)], color=:gray30)\n    annotate!(plt, [(c+h/2, f(c), text(\"h\", :top)), (c + h + .05, (f(c) + f(c + h))/2, text(\"f(c+h) - f(c)\", :left))])\n\n    plt\nend\ncaption = L\"\"\"\n\nThe slope of each secant line represents the *average* rate of change between $c$ and $c+h$. As $h$ goes towards $0$, we recover the slope of the tangent line, which represents the *instantatneous* rate of change.\n\n\"\"\"\n\n\n\nn = 5\nanim = @animate for i=0:n\n    secant_line_tangent_line_graph(i)\nend\n\nimgfile = tempname() * \".gif\"\ngif(anim, imgfile, fps = 1)\n\nplotly()\nImageFile(imgfile, caption)"
      ],
      "metadata": {},
      "execution_count": null
    },
    {
      "cell_type": "markdown",
      "source": [
        "The graphic suggests that the slopes of the secant line converge to\nthe slope of a \"tangent\" line. That is, for a given $c$, this\nlimit exists:\n\n$$~\n\\lim_{h \\rightarrow 0} \\frac{f(c+h) - f(c)}{h}.\n~$$\n\nWe'll define the tangent line at $(c, f(c))$ to be the line through\nthe point with the slope from the limit above - provided that limit\nexists. Informally, the tangent line is the line through the point\nthat best approximates the function."
      ],
      "metadata": {}
    },
    {
      "outputs": [],
      "cell_type": "code",
      "source": [
        "function line_approx_fn_graph(n)\n    f(x) = sin(x)\n    c = pi/3\n    h = round(2.0^(-n) * pi/2, digits=2)\n    m = cos(c)\n\n    Delta = max(f(c) - f(c-h), f(min(c+h, pi/2)) - f(c))\n\n    p = plot(f, c-h, c+h, legend=false, xlims=(c-h,c+h), ylims=(f(c)-Delta,f(c)+Delta ))\n    plot!(p, x -> f(c) + m*(x-c))\n    scatter!(p, [c], [f(c)])\n    p\nend\ncaption = L\"\"\"\n\nThe tangent line is the best linear approximation to the function at the point $(c, f(c))$. As the viewing window zooms in on $(c,f(c))$ we\n    can see how the graph and its tangent line get more similar.\n\n\"\"\"\n\npyplot()\nn = 6\nanim = @animate for i=1:n\n    line_approx_fn_graph(i)\nend\n\nimgfile = tempname() * \".gif\"\ngif(anim, imgfile, fps = 1)\n\nplotly()\nImageFile(imgfile, caption)"
      ],
      "metadata": {},
      "execution_count": null
    },
    {
      "cell_type": "markdown",
      "source": [
        "The tangent line is not just a line that intersects the graph in one\npoint, nor does it need only intersect the line in just one point."
      ],
      "metadata": {}
    },
    {
      "outputs": [],
      "cell_type": "code",
      "source": [
        "note(\"\"\"\nThis last point was certainly not obvious at\nfirst. [Barrow](http://www.maa.org/sites/default/files/0746834234133.di020795.02p0640b.pdf),\nwho had Newton as a pupil and was the first to sketch a proof of part\nof the Fundamental Theorem of Calculus, understood a tangent line to\nbe a line that intersects a curve at only one point.\n\"\"\")"
      ],
      "metadata": {},
      "execution_count": null
    },
    {
      "cell_type": "markdown",
      "source": [
        "##### Example\n\nWhat is the slope of the tangent line to $f(x) = \\sin(x)$ at $c=0$?\n\nWe need to compute the limit $(\\sin(c+h) - \\sin(c))/h$ which is the\nlimit as $h$ goes to $0$ of $\\sin(h)/h$. We know this to be 1."
      ],
      "metadata": {}
    },
    {
      "outputs": [],
      "cell_type": "code",
      "source": [
        "f(x) = sin(x)\nc = 0\ntl(x) = f(c) + 1 * (x - c)\nplot(f, -pi/2, pi/2)\nplot!(tl, -pi/2, pi/2)"
      ],
      "metadata": {},
      "execution_count": null
    },
    {
      "cell_type": "markdown",
      "source": [
        "## The derivative\n\nThe limit of the slope of the secant line gives an operation: for each\n$c$ in the domain of $f$ there is a number (the slope of the tangent\nline) or it does not exist. That is, there is derived function from\n$f$. Call this function the *derivative* of $f$. There are many\nnotations for this, here we use the \"prime\" notation:\n\n$$~\nf'(x) = \\lim_{h \\rightarrow 0} \\frac{f(x+h) - f(x)}{h}.\n~$$\n\nThe limit above is identical, only it uses $x$ instead of $c$ to\nemphasize that we are thinking of function now, and not just a value\nat a point.\n\n### Some basic derivatives\n\n- **The power rule**. What is the derivative of the monomial $f(x) = x^n$? We need to look\n  at $(x+h)^n - x^n$ for positive, integer-value $n$. Let's look at a case, $n=5$"
      ],
      "metadata": {}
    },
    {
      "outputs": [],
      "cell_type": "code",
      "source": [
        "@vars x h real=true\nn = 5\nex = expand((x+h)^n - x^n)"
      ],
      "metadata": {},
      "execution_count": null
    },
    {
      "cell_type": "markdown",
      "source": [
        "All terms have an `h` in them, so we cancel it out:"
      ],
      "metadata": {}
    },
    {
      "outputs": [],
      "cell_type": "code",
      "source": [
        "cancel(ex/h, h)"
      ],
      "metadata": {},
      "execution_count": null
    },
    {
      "cell_type": "markdown",
      "source": [
        "We see the lone term `5x^4` without an $h$, so as we let $h$ go to $0$, this will be the limit. That is, $f'(x) = 5x^4$.\n\n\nFor general integer-value, positive $n$, the binomial theorem gives an\nexpansion $(x+h)^n = x^n + nx^{n-1}\\cdot h^1 + n\\cdot(n-1)x^{n-2}\\cdot h^2 + \\cdots$. Subtracting $x^n$\nthen dividing by $h$ leaves just the term $nx^{n-1}$ without a power\nof $h$, so the limit, in general, is just this term. That is $[x^n]' =\nnx^{n-1}$.\n\n\nIt isn't a special case, but when $n=0$, we also have the above\nformula applies, as $x^0$ is the constant $1$, and all constant\nfunctions will have a derivative of $0$ at all $x$. We will see that in\ngeneral, the power rule applies for any $n$ where $x^n$ is defined.\n\n- What is the derivative of $f(x) = \\sin(x)$? We know that $f'(0)= 1$\n  by an earlier example, here we solve in general.\n\nWe need to consider the difference $\\sin(x+h) - \\sin(x)$:"
      ],
      "metadata": {}
    },
    {
      "outputs": [],
      "cell_type": "code",
      "source": [
        "ex = sympy.expand_trig(sin(x+h) - sin(x))  # expand_trig is not exposed in `SymPy`"
      ],
      "metadata": {},
      "execution_count": null
    },
    {
      "cell_type": "markdown",
      "source": [
        "That used the formula $\\sin(x+h) = \\sin(x)\\cos(h) + \\sin(h)\\cos(x)$.\n\nWe could then rearrange the secant line slope formula to become:\n\n$$~\n\\cos(x) \\cdot \\frac{\\sin(h)}{h} + \\sin(x) \\cdot \\frac{\\cos(h) - 1}{h}\n~$$\n\nand take a limit. If the answer isn't clear, we can let `SymPy` do this work:"
      ],
      "metadata": {}
    },
    {
      "outputs": [],
      "cell_type": "code",
      "source": [
        "limit((sin(x+h) - sin(x))/ h, h=>0)"
      ],
      "metadata": {},
      "execution_count": null
    },
    {
      "cell_type": "markdown",
      "source": [
        "- Let's see what the derivative of $\\log(x)$ is. We have\n\n$$~\n\\frac{\\log(x+h) - \\log(x)}{h} = \\frac{1}{h}\\log(\\frac{x+h}{x}) = \\log((1+h/x)^{1/h}).\n~$$\n\nEarlier we saw that the limit as $u$ goes to $0$ of $f(u) = (1 +\nu)^{1/u}$ is $e$. Re-expressing the above we can get $1/x \\cdot\n\\log(f(h/x))$. The limit as $h$ goes to $0$ of this is found from\nthe composition rules for limits: as $\\lim_{h \\rightarrow 0} f(h/x) =\ne$, and since $\\log(e)$ is $1$ we get this expression has a limit of $1/x$.\n\nWe verify through:"
      ],
      "metadata": {}
    },
    {
      "outputs": [],
      "cell_type": "code",
      "source": [
        "limit((log(x+h) - log(x))/h, h=>0)"
      ],
      "metadata": {},
      "execution_count": null
    },
    {
      "outputs": [],
      "cell_type": "code",
      "source": [
        "alert(L\"\"\"\n\nThere are several different\n[notations](http://en.wikipedia.org/wiki/Notation_for_differentiation)\nfor derivatives. Some are historical, some just add\nflexibility. We use the prime notation of Lagrange: $f'(x)$, $u'$ and $[\\text{expr}]'$,\nwhere the first emphasizes that the derivative is a function with a\nvalue at $x$, the second emphasizes the derivative operates on\nfunctions, the last emphasize that we are taking the derivative of\nsome expression (the \"rule\" part of an unnamed function).\n\nThere are many other notations:\n\n- The Leibniz notation uses the infinitesimals: $dy/dx$ to relate to\n  $\\Delta y/\\Delta x$. This notation is very common, and especially\n  useful when more than one variable is involved.  `SymPy` uses\n  Leibniz notation in some of its output, expressing somethings such\n  as:\n\n$$~\nf'(x) = \\frac{d}{d\\xi}(f(\\xi)) \\big|_{\\xi=x}.\n~$$\n\n  The notation - $\\big|$ - on the right-hand side separates the tasks of finding the\n  derivative and evaluating the derivative at a specific value.\n\n- Euler used `D` for the operator `D(f)`. This notation is appropriated by an\n  operator in the `CalculusWithJulia` package. This was initially used by\n  [Argobast](http://jeff560.tripod.com/calculus.html).\n\n- Newton used a \"dot\" $\\dot{x}(t)$, which is still widely used in physics to indicate  a derivative in time.\n\n\n\n\n\"\"\")"
      ],
      "metadata": {},
      "execution_count": null
    },
    {
      "cell_type": "markdown",
      "source": [
        "## Rules of derivatives\n\nWe could proceed in a similar manner to find other derivatives, but\nlet's not. If we have a function $f(x) = x^5 \\sin(x)$, it would be\nnice to leverage our previous work on the derivatives of $f(x) =x^5$\nand $g(x) = \\sin(x)$, rather than derive an answer from scratch.\n\n\nAs with limits and continuity, it proves very useful to consider rules\nthat make the process of finding derivatives of combinations of\nfunctions a matter of combining derivatives of the individual functions in some manner.\n\n### Sum rule\n\nLet's consider $k(x) = a\\cdot f(x) + b\\cdot g(x)$, what is its derivative? That is, in terms of $f$, $g$ and their derivatives, can we express $k'(x)$?\n\nWe can rearrange $(k(x+h) - k(x))$ as follows:\n\n$$~\n(a\\cdot f(x+h) + b\\cdot g(x+h)) - (a\\cdot f(x) + b \\cdot g(x)) =\na\\cdot (f(x+h) - f(x)) + b \\cdot (g(x+h) - g(x)).\n~$$\n\nDividing by $h$, we see that this becomes\n\n$$~\na\\cdot \\frac{f(x+h) - f(x)}{h} + b \\cdot \\frac{g(x+h) - g(x)}{h} \\rightarrow a\\cdot f'(x) + b\\cdot g'(x).\n~$$\n\n\n\nThis holds two rules: the derivative of a constant times a function is\nthe constant times the derivative of the function; and the derivative\nof a sum of functions is the sum of the derivative of the functions.\n\n### Product rule\n\nOther rules can be similarly derived. `SymPy` can give us them as\nwell. Here we define to symbolic functions `u` and `v` and let `SymPy`\nderive a formula for the derivative of a product of functions:"
      ],
      "metadata": {}
    },
    {
      "outputs": [],
      "cell_type": "code",
      "source": [
        "u,v = SymFunction(\"u,v\") # make symbolic functions\nf(x) = u(x) * v(x)\nlimit((f(x+h) - f(x))/h, h=>0)"
      ],
      "metadata": {},
      "execution_count": null
    },
    {
      "cell_type": "markdown",
      "source": [
        "The output uses some new notation to represent that the derivative of\n$u(x) \\cdot v(x)$ is the $u$ times the derivative of $v$ plus $v$\ntimes the derivative of $u$. A common shorthand is $[uv]' = u'v +\nuv'$.\n\n\n\n### Quotient rule\n\nThe derivative of $f(x) = u(x)/v(x)$ - a ratio of functions - can be\nsimilarly computed. The result will be $[u/v]' = (u'v - uv')/u^2$.\n\n### Chain rule\n\nFinally, the derivative of a composition of functions can be\ncomputed. This gives a rule called the *chain rule*. Before deriving,\nlet's give a slight motivation.\n\n\nConsider the output of a factory for some widget. It depends on two steps:\nan initial manufacturing step and a finishing step. The number of\nemployees is important in how much is initially manufactured. Suppose\n$x$ is the number of employees and $g(x)$ is the amount initially\nmanufactured. Adding more employees increases the amount made by the\nmade-up rule $g(x) = \\sqrt{x}$. The finishing step depends on how much\nis made by the employees. If $y$ is the amount made, then $f(y)$ is\nthe number of widgets finished. Suppose for some reason that $f(y) =\ny^2.$\n\nHow many widgets are made as a function of employees? The composition\n$u(x) = f(g(x))$ would provide that.\n\nWhat is the effect of adding employees on the rate of output of widgets?\nIn this specific case we know the answer, as $(f \\circ g)(x) = x$, so\nthe answer is just the rate is $1$.\n\nIn general, we want to express $\\Delta f / \\Delta x$ in a form so that we can take a limit.\n\nBut what do we know? We know $\\Delta g / \\Delta x$ and $\\Delta f/\\Delta y$. Using $y=g(x)$, this suggests that we might have luck with the right side of this equation:\n\n$$~\n\\frac{\\Delta f}{\\Delta x} = \\frac{\\Delta f}{\\Delta y} \\cdot \\frac{\\Delta y}{\\Delta x}.\n~$$\n\n\nInterpreting this, we get the *average* rate of change in the\ncomposition can be thought of as a product: The *average* rate of\nchange of the initial step ($\\Delta y/ \\Delta x$) times the *average*\nrate of the change of the second step evaluated not at $x$, but at\n$y$, $\\Delta f/ \\Delta y$.\n\n\nRe-expressing using derivative notation with $h$ would be:\n\n\n$$~\n\\frac{f(g(x+h)) - f(g(x))}{h} = \\frac{f(g(x+h)) - f(g(x))}{g(x+h) - g(x)} \\cdot \\frac{g(x+h) - g(x)}{h}.\n~$$\n\nThe left hand side will converge to the derivative of $u(x)$ or $[f(g(x))]'$.\n\nThe right most part of the right side would have a limit $g'(x)$, were\nwe to let $h$ go to $0$.\n\nIt isn't obvious, but the left part of the right side has the limit\n$f'(g(x))$. This would be clear if *only* $g(x+h) = g(x) + h$, for\nthen the expression would be exactly the limit expression with\n$c=g(x)$. But, alas, except to some hopeful students and some special\ncases, it is definitely not the case in general that $g(x+h) = g(x) + h$ - that\nright parentheses actually means something. However, it is *nearly*\nthe case that $g(x+h) = g(x) + kh$ for some $k$ and this can be used to formulate a\nproof (one of the two detailed\n[here](http://en.wikipedia.org/wiki/Chain_rule#Proofs) and [here](http://kruel.co/math/chainrule.pdf)).\n\nWe can verify this using `SymPy`:"
      ],
      "metadata": {}
    },
    {
      "outputs": [],
      "cell_type": "code",
      "source": [
        "limit(( u(v(x+h)) - u(v(x)) ) / (v(x+h) - v(x)), h=>0)"
      ],
      "metadata": {},
      "execution_count": null
    },
    {
      "cell_type": "markdown",
      "source": [
        "Combined, we would end up with:\n\n\n> The chain rule: $[f(g(x))]' = f'(g(x)) \\cdot g'(x)$. That is the\n> derivative of the outer function evaluated at the inner function\n> times the derivative of the inner function.\n\n\nTo see that this works in our specific case, we assume the general\npower rule that $[x^n]' = n x^{n-1}$ to get: $g'(x) = (1/2)x^{-1/2}$,\n$f'(x)=2x$, and $f'(g(x)) = 2(\\sqrt{x})$. Together, the product is:\n\n$$~\n2\\sqrt{x} \\cdot (1/2) 1/\\sqrt{x} = 1\n~$$\n\nWhich is the same as the derivative of $x$ found by first evaluating the composition.\n\n##### Proof of the Chain Rule\n\nA function is *differentiable* at $a$ if the following limit exists $\\lim_{h \\rightarrow 0}(f(a+h)-f(a))/h$. Reexpressing this as: $f(a+h) - f(a) - f'(a)h = \\epsilon_f(h) h$ where as $h\\rightarrow 0$, $\\epsilon_f(h) \\rightarrow 0$. Then, we have:\n\n$$~\ng(a+h) = g(a) + g'(a)h + \\epsilon_g(h) h = g(a) + h',\n~$$\n\nWhere $h' = (g'(a) + \\epsilon_g(h))h \\rightarrow 0$ as $h \\rightarrow 0$ will be used to simplify the following:\n\n\n\n$$~\n\\begin{align}\nf(g(a+h)) - f(g(a)) &=\nf(g(a) + g'(a)h + \\epsilon_g(h)h) - f(g(a)) \\\\\n&= f(g(a)) + f'(g(a)) (g'(a)h + \\epsilon_g(h)h) + \\epsilon_f(h')(h') - f(g(a))\\\\\n&= f'(g(a)) g'(a)h  + f'(g(a))(\\epsilon_g(h)h) + \\epsilon_f(h')(h').\n\\end{align}\n~$$\n\nRearranging:\n\n$$~\nf(g(a+h)) - f(g(a)) - f'(g(a)) g'(a) h = f'(g(a))\\epsilon_g(h))h + \\epsilon_f(h')(h') =\n(f'(g(a)) \\epsilon_g(h)  + \\epsilon_f(h')( (g'(a) + \\epsilon_g(h))))h =\n\\epsilon(h)h,\n~$$\n\nwhere $\\epsilon(h)$ combines the above terms which go to zero as $h\\rightarrow 0$ into one. This is\nthe alternative definition of the derivative, showing $(f\\circ g)'(a) = f'(g(a)) g'(a)$ when $g$ is differentiable at $a$ and $f$ is differentiable at $g(a)$.\n\n\n##### More examples\n\n- Find the derivative of $x^5 \\cdot \\sin(x)$.\n\nThis is a product of functions, using $[u\\cdot v]' = u'v + uv'$ we get:\n\n$$~\n5x^4 \\cdot \\sin(x) + x^5 \\cdot \\cos(x)\n~$$\n\n- Find the derivative of $x^5 / \\sin(x)$.\n\nThis is a quotient of functions. Using $[u/v]' = (u'v - uv')/v^2$ we get\n\n$$~\n(5x^4 \\cdot \\sin(x) - x^5 \\cdot \\cos(x)) / (\\sin(x))^2.\n~$$\n\n- Find the derivative of $\\sin(x^5)$. This is a composition of\n  functions $u(v(x))$ with $v(x) = x^5$. The chain rule says find the\n  derivative of $u$ ($\\cos(x)$) and evaluate at $v(x)$ ($\\cos(x^5)$)\n  then multiply by the derivative of $v$:\n\n$$~\n\\cos(x^5) \\cdot 5x^4.\n~$$\n\n- Similarly, but differently, find the derivative of $\\sin(x)^5$. Now\n  $v(x) = \\sin(x)$, so the derivative of $u(x)$ ($5x^4$) evaluated at\n  $v(x)$ is $5(\\sin(x))^4$ so multiplying by $v'$ gives:\n\n$$~\n5(\\sin(x))^4 \\cdot \\cos(x)\n~$$\n\n\nWe can verify these with `SymPy`. Rather than take a limit, we will\nuse `SymPy`'s `diff` function to compute derivatives."
      ],
      "metadata": {}
    },
    {
      "outputs": [],
      "cell_type": "code",
      "source": [
        "diff(x^5 * sin(x))"
      ],
      "metadata": {},
      "execution_count": null
    },
    {
      "outputs": [],
      "cell_type": "code",
      "source": [
        "diff(x^5/sin(x))"
      ],
      "metadata": {},
      "execution_count": null
    },
    {
      "outputs": [],
      "cell_type": "code",
      "source": [
        "diff(sin(x^5))"
      ],
      "metadata": {},
      "execution_count": null
    },
    {
      "cell_type": "markdown",
      "source": [
        "and finally,"
      ],
      "metadata": {}
    },
    {
      "outputs": [],
      "cell_type": "code",
      "source": [
        "diff(sin(x)^5)"
      ],
      "metadata": {},
      "execution_count": null
    },
    {
      "outputs": [],
      "cell_type": "code",
      "source": [
        "note(\"\"\"\nThe `diff` function can be called as `diff(ex)` when there is just one\nfree variable, as in the above examples; as  `diff(ex, var)` when there are parameters in the\nexpression; or, as `diff(f)`, where `f` is the name of a univariate function.\n\"\"\"\n)"
      ],
      "metadata": {},
      "execution_count": null
    },
    {
      "cell_type": "markdown",
      "source": [
        "- Let's see that the derivative of $e^x$ is just itself.\n\n$$~\n\\frac{e^{x+h} - e^x}{h} = \\frac{e^x \\cdot(e^h -1)}{h}.\n~$$\n\nIf we know that $\\lim_{h \\rightarrow 0}(e^h - 1)/h = 1$, we get\n$[e^x]' = e^x$, that is it is a function satisfying $f'=f$.\n\n\n\n- Suppose we knew that $\\log(x)$ had derivative of $1/x$, but didn't know the derivative of $e^x$. From their inverse relation, we have: $x=\\log(e^x)$, so taking derivatives of both sides would yield:\n\n$$~\n1 = (\\frac{1}{e^x}) \\cdot [e^x]'.\n~$$\n\nOr solving, $[e^x]' = e^x$. This is a general strategy to find the\nderivative of an *inverse* function.\n\n\n\n- The general product rule:  For any $n$ - not just integer values -  we can re-express $x^n$  using $e$: $x^n = e^{n \\log(x)}$. Now the chain rule can be applied:\n\n$$~\n[x^n]' = [e^{n\\log(x)}]' = e^{n\\log(x)} \\cdot (n \\frac{1}{x}) = n x^n \\cdot \\frac{1}{x} = n x^{n-1}.\n~$$\n\n\n##### Examples\n\n* Find the derivative of $f(x) = x^3 (1-x)^2$ using either the power rule or the sum rule.\n\nThe power rule expresses $f=u\\cdot v$. With $u(x)=x^3$ and $v(x)=(1-x)^2$ we get:\n\n$$~\nu'(x) = 3x^2, \\quad v'(x) = 2 \\cdot (1-x)^1 \\cdot (-1),\n~$$\n\nthe last by the chain rule. Combining with $u' v + u v'$ we get:\n$f'(x) = (3x^2)\\cdot (1-x)^2 + x^3 \\cdot (-2) \\cdot (1-x)$.\n\nOtherwise, the polynomial can be expanded to give\n$f(x)=x^5-2x^4+x^3$ which has derivative $f'(x) = 5x^4 - 8x^3 + 3x^2$.\n\n* Find the derivative of $f(x) = (x-1)(x-2)(x-3)(x-4)(x-5)$.\n\nWe could expand this, as above, but instead will use the product rule. Let's work symbolically first and treat the case of $3$ products:\n\n$$~\n[u\\cdot v\\cdot w]' =[ u \\cdot (vw)]' = u' (vw) + u [vw]' = u'(vw) + u[v' w + v w'] =\nu' vw + u v' w + uvw'.\n~$$\n\nThis pattern generalizes, clearly to\n$$~\n[f_1\\cdot f_2 \\cdots f_n]' = f_1' f_2 \\cdots f_n + f_1 \\cdot f_2' \\cdot (f_3 \\cdots f_n) + \\dots +\nf_1 \\cdots f_{n-1} \\cdot f_n'.\n~$$\n\nThere are $n$ terms, each where one of the $f_i$s have a derivative. Were we to multiply top and bottom by $f_i$, we would get each term looks like: $f \\cdot f_i'/f_i$.\n\nWith this, we can proceed. Each term $x-i$ has derivative $1$, so the answer to $f'(x)$, with $f$ as above, is $f'(x) = f(x)/(x-1) + f(x)/(x-2) + f(x)/(x-3) + f(x)/(x-4) + f(x)/(x-5)$.\n\n* Find the derivative of $f(x) = x \\cdot e^{-x^2}$.\n\nUsing the product rule and then the chain rule, we have:\n\n$$~\n\\begin{align}\nf'(x) &= [x \\cdot e^{-x^2}]'\\\\\n&= [x]' \\cdot e^{-x^2} + x \\cdot [e^{-x^2}]'\\\\\n&= 1 \\cdot e^{-x^2} + x \\cdot (e^{-x^2}) \\cdot [-x^2]'\\\\\n&= e^{-x^2} + x \\cdot e^{-x^2} \\cdot (-2x)\\\\\n&= e^{-x^2} (1 - 2x^2).\n\\end{align}\n~$$\n\n* Find the derivative of $f(x) = e^{-ax} \\cdot \\sin(x)$.\n\nUsing the  product rule and then the chain rule, we have:\n\n$$~\n\\begin{align}\nf'(x) &= [e^{-ax} \\cdot \\sin(x)]'\\\\\n&= [e^{-ax}]' \\cdot \\sin(x) + e^{-ax} \\cdot [\\sin(x)]'\\\\\n&= e^{-ax} \\cdot [-ax]' \\cdot \\sin(x) + e^{-ax} \\cdot \\cos(x)\\\\\n&= e^{-ax} \\cdot (-a)   \\cdot \\sin(x) + e^{-ax} \\cos(x)\\\\\n&= e^{-ax}(\\cos(x) - a\\sin(x)).\n\\end{align}\n~$$\n\n#### Rules of derivatives and some sample functions\n\nThis table summarizes the rules of derivatives that allow derivatives\nof more complicated expressions to be computed with the derivatives of\ntheir pieces."
      ],
      "metadata": {}
    },
    {
      "outputs": [],
      "cell_type": "code",
      "source": [
        "using DataFrames\nnm = [\"Power rule\", \"constant\", \"sum/difference\", \"product\", \"quotient\", \"chain\"]\nrule = [L\"[x^n]' = n\\cdot x^{n-1}\",\n L\"[cf(x)]' = c \\cdot f'(x)\",\n L\"[f(x) \\pm g(x)]' = f'(x) \\pm g'(x)\",\n L\"[f(x) \\cdot g(x)]' = f'(x)\\cdot g(x) + f(x) \\cdot g'(x)\",\n L\"[f(x)/g(x)]' = (f'(x) \\cdot g(x) - f(x) \\cdot g'(x)) / g(x)^2\",\n L\"[f(g(x))]' = f'(g(x)) \\cdot g'(x)\"]\nd = DataFrame(Name=nm, Rule=rule)\ntable(d)"
      ],
      "metadata": {},
      "execution_count": null
    },
    {
      "cell_type": "markdown",
      "source": [
        "This table gives some useful derivatives:"
      ],
      "metadata": {}
    },
    {
      "outputs": [],
      "cell_type": "code",
      "source": [
        "fn = [L\"x^n \\text{ all } n\",\nL\"e^x\",\nL\"\\log(x)\",\nL\"\\sin(x)\",\nL\"\\cos(x)\"]\na = [L\"nx^{n-1}\",\nL\"e^x\",\nL\"1/x\",\nL\"\\cos(x)\",\nL\"-\\sin(x)\"]\nd = DataFrame(Function=fn, Derivative=a)\ntable(d)"
      ],
      "metadata": {},
      "execution_count": null
    },
    {
      "cell_type": "markdown",
      "source": [
        "## Higher-order derivatives\n\nThe derivative of a function is an operator, it takes a function and\nreturns a new, derived, function. We could repeat this\noperation. The result is called a higher-order derivative. The\nLagrange notation uses additional \"primes\" to indicate how many. So\n$f''(x)$ is the second derivative and $f'''(x)$ the third. For even\nhigher orders, sometimes the notation is $f^{(n)}(x)$ to indicate an\n$n$th derivative.\n\n##### Examples\n\nFind the second derivative of $e^{-x^2}$.\n\nWe need the chain rule *and* the product rule:\n\n$$~\n[e^{-x^2}]'' = [e^{-x^2} \\cdot (-2x)]' = (e^{-x^2} \\cdot (-2x) \\cdot(-2x) + e^{-x^2} \\cdot (-2)) =\ne^{-x^2}(4x^2 - 2).\n~$$\n\nThis can be verified:"
      ],
      "metadata": {}
    },
    {
      "outputs": [],
      "cell_type": "code",
      "source": [
        "diff(diff(e^(-x^2))) |> simplify"
      ],
      "metadata": {},
      "execution_count": null
    },
    {
      "cell_type": "markdown",
      "source": [
        "Having to iterate the use of `diff` is cumbersome. An alternate notation is either specifying the variable twice: `diff(ex, x, x)` or using a number after the variable: `diff(ex, x, 2)`:"
      ],
      "metadata": {}
    },
    {
      "outputs": [],
      "cell_type": "code",
      "source": [
        "diff(e^(-x^2), x, x) |> simplify"
      ],
      "metadata": {},
      "execution_count": null
    },
    {
      "cell_type": "markdown",
      "source": [
        "##### Example: Details on symbolic derivatives\n\nThe ability to breakdown an expression into operations and their\narguments is necessary when trying to apply the differentiation\nrules. Such rules are applied from the outside in. Identifying\nthe proper \"outside\" function is usually most of the battle when finding derivatives.\n\nThe `SymPy` program has a function that can identify the outside\nfunction of a symbolic expression. Basic math expressions can be\nparsed as a function being called with one or more arguments. The\nfunction `SymPy.Introspection.funcname` will return the function, and\n`SymPy.Introspection.args` will return the arguments.\n\nTo illustrate, we define some variables and look at the operations:"
      ],
      "metadata": {}
    },
    {
      "outputs": [],
      "cell_type": "code",
      "source": [
        "args, funcname = SymPy.Introspection.args, SymPy.Introspection.funcname # args, funcname are not exported\n@vars x y z"
      ],
      "metadata": {},
      "execution_count": null
    },
    {
      "cell_type": "markdown",
      "source": [
        "This shows how addition is identified:"
      ],
      "metadata": {}
    },
    {
      "outputs": [],
      "cell_type": "code",
      "source": [
        "ex = x + y + z\nfuncname(ex)"
      ],
      "metadata": {},
      "execution_count": null
    },
    {
      "cell_type": "markdown",
      "source": [
        "The arguments are all three variables being added:"
      ],
      "metadata": {}
    },
    {
      "outputs": [],
      "cell_type": "code",
      "source": [
        "args(ex)"
      ],
      "metadata": {},
      "execution_count": null
    },
    {
      "cell_type": "markdown",
      "source": [
        "Similarly, with expressions of a single variable"
      ],
      "metadata": {}
    },
    {
      "outputs": [],
      "cell_type": "code",
      "source": [
        "ex = x^2 + sin(x) + sqrt(x^2 + 2)\nfuncname(ex)"
      ],
      "metadata": {},
      "execution_count": null
    },
    {
      "cell_type": "markdown",
      "source": [
        "and now the arguments are the expressions being added:"
      ],
      "metadata": {}
    },
    {
      "outputs": [],
      "cell_type": "code",
      "source": [
        "args(ex)"
      ],
      "metadata": {},
      "execution_count": null
    },
    {
      "cell_type": "markdown",
      "source": [
        "When addition is the \"outside\" function, the next step would be to apply the sum rule.\n\nWhat about multiplication?"
      ],
      "metadata": {}
    },
    {
      "outputs": [],
      "cell_type": "code",
      "source": [
        "ex = x * y * z\nfuncname(ex)"
      ],
      "metadata": {},
      "execution_count": null
    },
    {
      "cell_type": "markdown",
      "source": [
        "and"
      ],
      "metadata": {}
    },
    {
      "outputs": [],
      "cell_type": "code",
      "source": [
        "args(ex)"
      ],
      "metadata": {},
      "execution_count": null
    },
    {
      "cell_type": "markdown",
      "source": [
        "Like addition, multiplication is not just a binary operation, as it\nis typically viewed mathematically. The output of `args` can be 2 or more expressions.\n\n\nThe power rule is an easy to use derivative rule. SymPy recognizes when the \"outer\" function is a power:"
      ],
      "metadata": {}
    },
    {
      "outputs": [],
      "cell_type": "code",
      "source": [
        "ex = x^4\nfuncname(ex)"
      ],
      "metadata": {},
      "execution_count": null
    },
    {
      "cell_type": "markdown",
      "source": [
        "The power rule would be used *if* the variable is not in the exponent, of course, as here.\n\nExploring the quotient rule offers a surprise:"
      ],
      "metadata": {}
    },
    {
      "outputs": [],
      "cell_type": "code",
      "source": [
        "ex = x/y\nfuncname(ex)"
      ],
      "metadata": {},
      "execution_count": null
    },
    {
      "cell_type": "markdown",
      "source": [
        "The surprise? We may have expected division, but see multiplication. SymPy uses a\ndifferent form to represent division, which can be gleaned from\nlooking at the resulting arguments:"
      ],
      "metadata": {}
    },
    {
      "outputs": [],
      "cell_type": "code",
      "source": [
        "args(ex)"
      ],
      "metadata": {},
      "execution_count": null
    },
    {
      "cell_type": "markdown",
      "source": [
        "And the expression `1/y` is really a power:"
      ],
      "metadata": {}
    },
    {
      "outputs": [],
      "cell_type": "code",
      "source": [
        "ex = 1/y\nfuncname(ex)"
      ],
      "metadata": {},
      "execution_count": null
    },
    {
      "cell_type": "markdown",
      "source": [
        "So the quotient rule would be implemented here as a combination of the product rule and the power rule.\n\nTo differentiate, we need to recursively apply derivative rules,\npeeling back one level at a time. When would you stop? When a number\nor a free symbol is encountered, as with:"
      ],
      "metadata": {}
    },
    {
      "outputs": [],
      "cell_type": "code",
      "source": [
        "funcname(x)"
      ],
      "metadata": {},
      "execution_count": null
    },
    {
      "cell_type": "markdown",
      "source": [
        "or"
      ],
      "metadata": {}
    },
    {
      "outputs": [],
      "cell_type": "code",
      "source": [
        "funcname(Sym(3))"
      ],
      "metadata": {},
      "execution_count": null
    },
    {
      "cell_type": "markdown",
      "source": [
        "In each of these cases, `args` returns an empty container:"
      ],
      "metadata": {}
    },
    {
      "outputs": [],
      "cell_type": "code",
      "source": [
        "args(x), args(Sym(3))"
      ],
      "metadata": {},
      "execution_count": null
    },
    {
      "cell_type": "markdown",
      "source": [
        "We can put all this together to create a function to differentiate an\nexpression. This function will be called `diffex` (to distinguish\nitself from the more powerful, built-in, `diff` function). The first\ntask for `diffex` is to identify the wrapping, outside function, if any, and\napply the corresponding rule to the arguments. Julia's `Val` types are\nused in the following to specialize based on the type of \"outside\" function. This is\ntechnical, but is exactly what is needed as different types of\nfunctions need different rules of differentiation."
      ],
      "metadata": {}
    },
    {
      "outputs": [],
      "cell_type": "code",
      "source": [
        "function diffex(ex)\n    n = length(free_symbols(ex))\n\n    n == 0 && return Sym(0)\n    n > 1 && error(\"This is a simple example, use diff\")\n\n    _diff(Val{Symbol(funcname(ex))}, args(ex)...)\nend"
      ],
      "metadata": {},
      "execution_count": null
    },
    {
      "cell_type": "markdown",
      "source": [
        "This function identifies the number of symbols in the expression to\ndifferentiate. If none, $0$ is returned; if more than one, an error is\nthrown, and if one, the outside function is identified.\n\nFor sums, we want the sum rule. This is the sum of the individual derivatives, simply implemented as:"
      ],
      "metadata": {}
    },
    {
      "outputs": [],
      "cell_type": "code",
      "source": [
        "_diff(::Type{Val{:Add}}, xs...) = sum(diffex(ex) for ex in xs)"
      ],
      "metadata": {},
      "execution_count": null
    },
    {
      "cell_type": "markdown",
      "source": [
        "The product rule is a bit more advanced. We use a formula derived above:\nif $f = f_1 \\cdot f_2 \\cdots f_n$\nthen $f' = \\sum f'_i/f_i \\cdot f$:"
      ],
      "metadata": {}
    },
    {
      "outputs": [],
      "cell_type": "code",
      "source": [
        "function _diff(::Type{Val{:Mul}}, fs...)\n    f = prod(fs)\n    sum(diffex(fi)/fi * f for fi in fs)\nend"
      ],
      "metadata": {},
      "execution_count": null
    },
    {
      "cell_type": "markdown",
      "source": [
        "The power rule has three cases that could be considered depending on\nwhere the variable exists (in the base, exponent, or both). The\nfollowing avoids this by reexpressing $a^b = \\exp(b \\ln(a))$ and then\napplying the *chain* rule:"
      ],
      "metadata": {}
    },
    {
      "outputs": [],
      "cell_type": "code",
      "source": [
        "_diff(::Type{Val{:Pow}}, a, b) = sympy.powsimp(a^b * diffex(b * log(a)))"
      ],
      "metadata": {},
      "execution_count": null
    },
    {
      "cell_type": "markdown",
      "source": [
        "The `powsimp` function is used to encourage SymPy to simplify $a^b/b$ into $a^{b-1}$, which may not otherwise occur. (It is not exposed, so must be qualified by the underlying `sympy` Python object.)\n\nNow to catch some special cases. First, when we encounter the symbol, we want to return `1`, as $d/dx[x] = 1$:"
      ],
      "metadata": {}
    },
    {
      "outputs": [],
      "cell_type": "code",
      "source": [
        "_diff(::Type{Val{:Symbol}}) = Sym(1)"
      ],
      "metadata": {},
      "execution_count": null
    },
    {
      "cell_type": "markdown",
      "source": [
        "For numbers the derivative is $0$. As there are quite a few number\ntypes, we define a catch all distinguishing them by the fact that the\n`args` call is empty."
      ],
      "metadata": {}
    },
    {
      "outputs": [],
      "cell_type": "code",
      "source": [
        "_diff(::Any) = Sym(0)"
      ],
      "metadata": {},
      "execution_count": null
    },
    {
      "cell_type": "markdown",
      "source": [
        "Now for some specific functions. Here is where the chain rule comes\nin. For example, the derivative when the `log` function is encountered\nhas an extra product of `diffex(ex)`:"
      ],
      "metadata": {}
    },
    {
      "outputs": [],
      "cell_type": "code",
      "source": [
        "_diff(::Type{Val{:log}}, ex) =  1/ex * diffex(ex)"
      ],
      "metadata": {},
      "execution_count": null
    },
    {
      "cell_type": "markdown",
      "source": [
        "Similarly, here is the rule for `exp`:"
      ],
      "metadata": {}
    },
    {
      "outputs": [],
      "cell_type": "code",
      "source": [
        "_diff(::Type{Val{:exp}}, ex) = exp(ex) * diffex(ex)"
      ],
      "metadata": {},
      "execution_count": null
    },
    {
      "cell_type": "markdown",
      "source": [
        "Finally, we define values for some trigonometric functions. Many more special\ncases, as these, would be needed to fully implement this approach:"
      ],
      "metadata": {}
    },
    {
      "outputs": [],
      "cell_type": "code",
      "source": [
        "_diff(::Type{Val{:sin}}, ex) =  cos(ex)   * diffex(ex)\n_diff(::Type{Val{:cos}}, ex) = -sin(ex)   * diffex(ex)\n_diff(::Type{Val{:tan}}, ex) =  sec(ex)^2 * diffex(ex)"
      ],
      "metadata": {},
      "execution_count": null
    },
    {
      "cell_type": "markdown",
      "source": [
        "(The chain rule uses fall into a pattern that could be exploited to make the code only depend on a mapping of terms like `:sin -> cos`.)\n\nHere we try it out:"
      ],
      "metadata": {}
    },
    {
      "outputs": [],
      "cell_type": "code",
      "source": [
        "diffex(x^5 + x^4 + x^3 + x^2 + x + 1)"
      ],
      "metadata": {},
      "execution_count": null
    },
    {
      "outputs": [],
      "cell_type": "code",
      "source": [
        "diffex(sin(x^2) + cos(1/x))"
      ],
      "metadata": {},
      "execution_count": null
    },
    {
      "cell_type": "markdown",
      "source": [
        "And"
      ],
      "metadata": {}
    },
    {
      "outputs": [],
      "cell_type": "code",
      "source": [
        "diffex(x^x * exp(x))"
      ],
      "metadata": {},
      "execution_count": null
    },
    {
      "cell_type": "markdown",
      "source": [
        "## Questions\n\n###### Question\n\nThe derivative at $c$ is the slope of the tangent line at $x=c$. Answer the following based on this graph:"
      ],
      "metadata": {}
    },
    {
      "outputs": [],
      "cell_type": "code",
      "source": [
        "fn = x -> -x*exp(x)*sin(pi*x)\nplot(fn, 0, 2)"
      ],
      "metadata": {},
      "execution_count": null
    },
    {
      "cell_type": "markdown",
      "source": [
        "At which of these points $c= 1/2, 1, 3/2$ is the derivative negative?"
      ],
      "metadata": {}
    },
    {
      "outputs": [],
      "cell_type": "code",
      "source": [
        "choices = [L\"1/2\", L\"1\", L\"3/2\"]\nans = 1\nradioq(choices, ans, keep_order=true)"
      ],
      "metadata": {},
      "execution_count": null
    },
    {
      "cell_type": "markdown",
      "source": [
        "Which value looks bigger from reading the graph:"
      ],
      "metadata": {}
    },
    {
      "outputs": [],
      "cell_type": "code",
      "source": [
        "choices = [L\"f(1)\", L\"f(3/2)\"]\nans = 2\nradioq(choices, ans, keep_order=true)"
      ],
      "metadata": {},
      "execution_count": null
    },
    {
      "cell_type": "markdown",
      "source": [
        "At $0.708 \\dots$ and $1.65\\dots$ the derivative has a common value. What is it?"
      ],
      "metadata": {}
    },
    {
      "outputs": [],
      "cell_type": "code",
      "source": [
        "numericq(0, 1e-2)"
      ],
      "metadata": {},
      "execution_count": null
    },
    {
      "cell_type": "markdown",
      "source": [
        "###### Question\n\nConsider the graph of the `airyai` function (from `SpecialFunctions`) over $[-5, 5]$."
      ],
      "metadata": {}
    },
    {
      "outputs": [],
      "cell_type": "code",
      "source": [
        "import SpecialFunctions: airyai\nplot(airyai, -5, 5)"
      ],
      "metadata": {},
      "execution_count": null
    },
    {
      "cell_type": "markdown",
      "source": [
        "At $x = -2.5$  the derivative is postive or negative?"
      ],
      "metadata": {}
    },
    {
      "outputs": [],
      "cell_type": "code",
      "source": [
        "choices = [\"positive\", \"negative\"]\nans = 1\nradioq(choices, ans, keep_order=true)"
      ],
      "metadata": {},
      "execution_count": null
    },
    {
      "cell_type": "markdown",
      "source": [
        "At $x=0$ the derivative is postive or negative?"
      ],
      "metadata": {}
    },
    {
      "outputs": [],
      "cell_type": "code",
      "source": [
        "choices = [\"positive\", \"negative\"]\nans = 2\nradioq(choices, ans, keep_order=true)"
      ],
      "metadata": {},
      "execution_count": null
    },
    {
      "cell_type": "markdown",
      "source": [
        "At $x = 2.5$  the derivative is postive or negative?"
      ],
      "metadata": {}
    },
    {
      "outputs": [],
      "cell_type": "code",
      "source": [
        "choices = [\"positive\", \"negative\"]\nans = 2\nradioq(choices, ans, keep_order=true)"
      ],
      "metadata": {},
      "execution_count": null
    },
    {
      "cell_type": "markdown",
      "source": [
        "###### Question\n\nCompute the derivative of $e^x$ using `limit`. What do you get?"
      ],
      "metadata": {}
    },
    {
      "outputs": [],
      "cell_type": "code",
      "source": [
        "choices = [L\"e^x\", L\"x^e\", L\"(e-1)x^e\", L\"e x^{(e-1)}\", \"something else\"]\nans = 1\nradioq(choices, ans, keep_order=true)"
      ],
      "metadata": {},
      "execution_count": null
    },
    {
      "cell_type": "markdown",
      "source": [
        "###### Question\n\nCompute the derivative of $x^e$ using `limit`. What do you get?"
      ],
      "metadata": {}
    },
    {
      "outputs": [],
      "cell_type": "code",
      "source": [
        "choices = [L\"e^x\", L\"x^e\", L\"(e-1)x^e\", L\"e x^{(e-1)}\", \"something else\"]\nans = 5\nradioq(choices, ans, keep_order=true)"
      ],
      "metadata": {},
      "execution_count": null
    },
    {
      "cell_type": "markdown",
      "source": [
        "###### Question\n\nCompute the derivative of $e^{e\\cdot x}$ using `limit`. What do you get?"
      ],
      "metadata": {}
    },
    {
      "outputs": [],
      "cell_type": "code",
      "source": [
        "choices = [L\"e^x\", L\"x^e\", L\"(e-1)x^e\", L\"e x^{(e-1)}\", L\"e \\cdot e^{e\\cdot x}\", \"something else\"]\nans = 5\nradioq(choices, ans, keep_order=true)"
      ],
      "metadata": {},
      "execution_count": null
    },
    {
      "cell_type": "markdown",
      "source": [
        "###### Question\n\nIn the derivation of the derivative of $\\sin(x)$, the following limit is needed:\n\n$$~\nL = \\lim_{h \\rightarrow 0} \\frac{\\cos(h) - 1}{h}.\n~$$\n\nThis is"
      ],
      "metadata": {}
    },
    {
      "outputs": [],
      "cell_type": "code",
      "source": [
        "choices = [\nL\" $1$, as this is clearly the analog of the limit of $\\sin(h)/h$.\",\nL\"Does not exist. The answer is $0/0$ which is undefined\",\nL\" $0$,  as this expression is the derivative of cosine at $0$. The answer follows, as cosine clearly has a tangent line with slope $0$  at $x=0$.\"]\nans = 3\nradioq(choices, ans)"
      ],
      "metadata": {},
      "execution_count": null
    },
    {
      "cell_type": "markdown",
      "source": [
        "###### Question\n\nLet $f(x) = (e^x + e^{-x})/2$ and $g(x) = (e^x - e^{-x})/2$. Which is true?"
      ],
      "metadata": {}
    },
    {
      "outputs": [],
      "cell_type": "code",
      "source": [
        "choices = [\nL\"f'(x) =  g(x)\",\nL\"f'(x) = -g(x)\",\nL\"f'(x) =  f(x)\",\nL\"f'(x) = -f(x)\"\n]\nans= 1\nradioq(choices, ans)"
      ],
      "metadata": {},
      "execution_count": null
    },
    {
      "cell_type": "markdown",
      "source": [
        "###### Question\n\nLet $f(x) = (e^x + e^{-x})/2$ and $g(x) = (e^x - e^{-x})/2$. Which is true?"
      ],
      "metadata": {}
    },
    {
      "outputs": [],
      "cell_type": "code",
      "source": [
        "choices = [\nL\"f''(x) =  g(x)\",\nL\"f''(x) = -g(x)\",\nL\"f''(x) =  f(x)\",\nL\"f''(x) = -f(x)\"]\nans= 3\nradioq(choices, ans)"
      ],
      "metadata": {},
      "execution_count": null
    },
    {
      "cell_type": "markdown",
      "source": [
        "###### Question\n\nConsider the function $f$ and its transformation $g(x) = a + f(x)$\n(shift up by $a$). Do $f$ and $g$ have the same derivative?"
      ],
      "metadata": {}
    },
    {
      "outputs": [],
      "cell_type": "code",
      "source": [
        "yesnoq(\"yes\")"
      ],
      "metadata": {},
      "execution_count": null
    },
    {
      "cell_type": "markdown",
      "source": [
        "Consider the function $f$ and its transformation $g(x) = f(x - a)$\n(shift right by $a$). Do $f$ and $g$ have the same derivative?"
      ],
      "metadata": {}
    },
    {
      "outputs": [],
      "cell_type": "code",
      "source": [
        "yesnoq(\"no\")"
      ],
      "metadata": {},
      "execution_count": null
    },
    {
      "cell_type": "markdown",
      "source": [
        "Consider the function $f$ and its transformation $g(x) = f(x - a)$\n(shift right by $a$). Is $f'$ at $x$ equal to $g'$ at $x-a$?"
      ],
      "metadata": {}
    },
    {
      "outputs": [],
      "cell_type": "code",
      "source": [
        "yesnoq(\"yes\")"
      ],
      "metadata": {},
      "execution_count": null
    },
    {
      "cell_type": "markdown",
      "source": [
        "Consider the function $f$ and its transformation $g(x) = c f(x)$, $c >\n1$. Do $f$ and $g$ have the same derivative?"
      ],
      "metadata": {}
    },
    {
      "outputs": [],
      "cell_type": "code",
      "source": [
        "yesnoq(\"no\")"
      ],
      "metadata": {},
      "execution_count": null
    },
    {
      "cell_type": "markdown",
      "source": [
        "Consider the function $f$ and its transformation $g(x) = f(x/c)$, $c >\n1$. Do $f$ and $g$ have the same derivative?"
      ],
      "metadata": {}
    },
    {
      "outputs": [],
      "cell_type": "code",
      "source": [
        "yesnoq(\"no\")"
      ],
      "metadata": {},
      "execution_count": null
    },
    {
      "cell_type": "markdown",
      "source": [
        "Which of the following is true?"
      ],
      "metadata": {}
    },
    {
      "outputs": [],
      "cell_type": "code",
      "source": [
        "choices = [\nL\"If the graphs of $f$ and $g$ are translations up and down, the tangent line at corresponding points is unchanged.\",\nL\"If the graphs of $f$ and $g$ are rescalings of each other through $g(x)=f(x/c)$, $c > 1$. Then the tangent line for corresponding points is the same.\",\nL\"If the graphs of $f$ and $g$ are rescalings of each other through $g(x)=cf(x)$, $c > 1$. Then the tangent line for corresponding points is the same.\"\n]\nans = 1\nradioq(choices, ans)"
      ],
      "metadata": {},
      "execution_count": null
    },
    {
      "cell_type": "markdown",
      "source": [
        "###### Question\n\nThe rate of change of volume with respect to height is $3h$. The rate of change of height with respect to time is $2t$. At at $t=3$ the height is $h=14$ what is the rate of change of volume with respect to time when $t=3$?"
      ],
      "metadata": {}
    },
    {
      "outputs": [],
      "cell_type": "code",
      "source": [
        "## dv/dt = dv/dh * dh/dt = 3h * 2t\nh = 14; t=3\nval = (3*h) * (2*t)\nnumericq(val)"
      ],
      "metadata": {},
      "execution_count": null
    },
    {
      "cell_type": "markdown",
      "source": [
        "###### Question\n\nWhich equation below is $f(x) = \\sin(k\\cdot x)$ a solution of ($k > 1$)?"
      ],
      "metadata": {}
    },
    {
      "outputs": [],
      "cell_type": "code",
      "source": [
        "choices = [\nL\"f'(x) = k^2\\cdot f(x)\",\nL\"f'(x) = -k^2\\cdot f(x)\",\nL\"f''(x) = k^2\\cdot f(x)\",\nL\"f''(x) = -k^2\\cdot f(x)\"]\nans = 4\nradioq(choices, ans)"
      ],
      "metadata": {},
      "execution_count": null
    },
    {
      "cell_type": "markdown",
      "source": [
        "###### Question\n\nLet $f(x) = e^{k\\cdot x}$, $k > 1$. Which equation below is $f(x)$ a solution of?"
      ],
      "metadata": {}
    },
    {
      "outputs": [],
      "cell_type": "code",
      "source": [
        "choices = [\nL\"f'(x) = k^2\\cdot f(x)\",\nL\"f'(x) = -k^2\\cdot f(x)\",\nL\"f''(x) = k^2\\cdot f(x)\",\nL\"f''(x) = -k^2\\cdot f(x)\"]\nans = 3\nradioq(choices, ans)"
      ],
      "metadata": {},
      "execution_count": null
    }
  ],
  "nbformat_minor": 2,
  "metadata": {
    "language_info": {
      "file_extension": ".jl",
      "mimetype": "application/julia",
      "name": "julia",
      "version": "1.5.0"
    },
    "kernelspec": {
      "name": "julia-1.5",
      "display_name": "Julia 1.5.0",
      "language": "julia"
    }
  },
  "nbformat": 4
}
