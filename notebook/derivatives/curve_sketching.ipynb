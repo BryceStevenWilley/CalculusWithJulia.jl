{
  "cells": [
    {
      "cell_type": "markdown",
      "source": [
        "# Curve Sketching"
      ],
      "metadata": {}
    },
    {
      "outputs": [],
      "cell_type": "code",
      "source": [
        "using CalculusWithJulia\nusing CalculusWithJulia.WeaveSupport\nusing Plots\nnothing"
      ],
      "metadata": {},
      "execution_count": null
    },
    {
      "cell_type": "markdown",
      "source": [
        "The figure illustrates a means to *sketch* a sine curve - identify as\nmany of the following values as you can: asymptotic behaviour, periodic\nbehaviour, vertical asymptotes, $y$ intercept, $x$ intercepts, local\npeaks and valleys (extrema). With these, a sketch fills in between the\npoints/lines associated with these values."
      ],
      "metadata": {}
    },
    {
      "outputs": [],
      "cell_type": "code",
      "source": [
        "### {{{ sketch_sin_plot }}}\npyplot()\nfig_size=(600, 400)\n\n\n\nusing ForwardDiff\nD(f, n=1) = n > 1 ? D(D(f),n-1) : x -> ForwardDiff.derivative(f, float(x))\nBase.adjoint(f::Function) = D(f)    # for f' instead of D(f)\n\n\n\nfunction sketch_sin_plot_graph(i)\n    f(x) = 10*sin(pi/2*x)  # [0,4]\n    deltax = 1/10\n    deltay = 5/10\n\n    zs = find_zeros(f, 0-deltax, 4+deltax)\n    cps = find_zeros(D(f), 0-deltax, 4+deltax)\n    xs = range(0, stop=4*(i-2)/6, length=50)\n    if i == 1\n        ## plot zeros\n        title = \"Plot the zeros\"\n        p = scatter(zs, 0*zs, title=title, xlim=(-deltax,4+deltax), ylim=(-10-deltay,10+deltay), legend=false)\n    elseif i == 2\n        ## plot extrema\n        title = \"Plot the local extrema\"\n        p = scatter(zs, 0*zs, title=title, xlim=(-deltax,4+deltax), ylim=(-10-deltay,10+deltay), legend=false)\n        scatter!(p, cps, f.(cps))\n    else\n        ##  sketch graph\n        title = \"sketch the graph\"\n        p = scatter(zs, 0*zs, title=title, xlim=(-deltax,4+deltax), ylim=(-10-deltay,10+deltay), legend=false)\n        scatter!(p, cps, f.(cps))\n        plot!(p, xs, f.(xs))\n    end\n    p\nend\n\n\ncaption = L\"\"\"\n\nAfter identifying asymptotic behaviours,\na curve sketch involves identifying the $y$ intercept, if applicable; the $x$ intercepts, if possible; and the local extrema. From there a sketch fills in between the points. In this example, the periodic function $f(x) = 10\\cdot\\sin(\\pi/2\\cdot x)$ is sketched over $[0,4]$.\n\n\"\"\"\n\n\n\nn = 8\nanim = @animate for i=1:n\n    sketch_sin_plot_graph(i)\nend\n\nimgfile = tempname() * \".gif\"\ngif(anim, imgfile, fps = 1)\n\nplotly()\nImageFile(imgfile, caption)"
      ],
      "metadata": {},
      "execution_count": null
    },
    {
      "cell_type": "markdown",
      "source": [
        "Though this approach is most useful for hand-sketches, the underlying\nconcepts are important for properly framing graphs made with the\ncomputer.\n\nWe can easily make a graph of a function over a specified\ninterval. What is not always so easy is to pick an interval that shows\noff the feature of interest. In the section on\n[rational](../precalc/rational_functions.html) functions there was a\ndiscussion about how to draw graphs for rational functions so that\nhorizontal and vertical asymptotes can be seen. These are properties\nof the \"large.\" In this section, we build on this, but concentrate now\non more local properties of a function.\n\n\n## Positive and increasing on an interval\n\nBefore beginning, we need some vocabulary:\n\n> A function $f$ is *positive* on an interval $I$ if for any $a$ in $I$ it must be that $f(a) > 0$.\n\nOf course, we  define *negative* in a parallel manner. The intermediate value theorem says a continuous function can not change from positive to negative without crossing $0$. This is not the case for functions with jumps, of course.\n\n> A function, $f$, is (strictly) *increasing* on an interval $I$ if for any $a < b$ it must be that $f(a) < f(b)$.\n\nThe word strictly is related to the inclusion of the $<$ precluding the possibility of a function being flat over an interval that the $\\leq$ inequality would allow.\n\nA parallel definition with $a < b$ implying $f(a) > f(b)$ would be used for a *strictly decreasing* function.\n\n\nWe can try and prove these properties for a function algebraically -\nwe'll see both are related to the zeros of some function, but, as with\nmost problems, However, before proceeding to that it is usually\nhelpful to get an idea of where the answer is using exploratory\ngraphs.\n\nThis helper function plots the function `f` twice: the second time\nonly when the second function `g` is positive."
      ],
      "metadata": {}
    },
    {
      "outputs": [],
      "cell_type": "code",
      "source": [
        "function plotif(f, g, a, b)\n       xs = range(a, stop=b, length=251)\n       ys = f.(xs)\n       cols = [gx < 0 ? :red : :blue for gx in g.(xs)]\n       p = plot(xs, ys, color=cols, linewidth=5, legend=false)\n       p\nend"
      ],
      "metadata": {},
      "execution_count": null
    },
    {
      "cell_type": "markdown",
      "source": [
        "Such a function is defined for us in the accompanying package, loaded with"
      ],
      "metadata": {}
    },
    {
      "outputs": [],
      "cell_type": "code",
      "source": [
        "using CalculusWithJulia"
      ],
      "metadata": {},
      "execution_count": null
    },
    {
      "cell_type": "markdown",
      "source": [
        "To see where a function is positive, we simply pass the function\nobject in for *both* `f` and `g` above. For example, let's look at\nwhere $f(x) = \\sin(x)$ is positive:"
      ],
      "metadata": {}
    },
    {
      "outputs": [],
      "cell_type": "code",
      "source": [
        "f(x) = sin(x)\nplotif(f, f, -2pi, 2pi)"
      ],
      "metadata": {},
      "execution_count": null
    },
    {
      "cell_type": "markdown",
      "source": [
        "Let's graph with `cos` in the masking spot and see what happens:"
      ],
      "metadata": {}
    },
    {
      "outputs": [],
      "cell_type": "code",
      "source": [
        "plotif(sin, cos, -2pi, 2pi)"
      ],
      "metadata": {},
      "execution_count": null
    },
    {
      "cell_type": "markdown",
      "source": [
        "Maybe surprisingly, we see that the increasing parts of the sine curve are now\nhighlighted. Of course, the cosine is the derivative of the sine\nfunction, now we discuss that this is no coincidence.\n\nFor the sequel, we will use `f'` notation to find numeric derivatives, with the notation being defined in the `CalculusWithJulia` package using the `ForwardDiff` package.\n\n\n## Relative extrema\n\nWhen a function changes from increasing to decreasing, or decreasing to increasing, it will have a peak or a valley. We call such points relative extrema. A definition may be:\n\n> The function $f(x)$ has a *relative  maximum* at $x$ if the value $f(x)$ is an *absolute maximum* for some open interval containing $x$. Similarly, a *relative minimum* is defined.\n\nIf $x$ is a relative maximum, then there is some $a < x < b$ with $f(u) \\leq f(x)$ for any $u \\in (a,b)$. This does not say there is an absolute maximum over any interval $I$ at $x$, but rather there is some (open) interval for which $f(x)$ is an absolute maximum.\n\n\n[Fermat's](http://tinyurl.com/nfgz8fz) theorem implies that any local\nextrema must occur at a critical point of the function $f(x)$.\n\n\n\n## The relationship of the derivative and increasing\n\nThe derivative, $f'(x)$, computes the slope of the tangent line to the\ngraph of $f(x)$ at the point $(x,f(x))$. If the derivative is\npositive, the tangent line will have an increasing slope. Clearly if\nwe see an increasing function and mentally layer on a tangent line, it will\nhave a positive slope. Intuitively then, increasing functions and\npositive derivatives are related concepts. But there are some\ntechnicalities.\n\nSuppose $f(x)$ has a derivative on $I$ . Then\n\n> If $f'(x)$ is positive on an interval $I=(a,b)$, then $f(x)$ is strictly increasing on $I$.\n\nMeanwhile,\n\n> If a function $f(x)$ is increasing on $I$, then $f'(x) \\geq 0$.\n\nThe technicality being the equality parts. In the second statement, we\nhave the derivative is non-negative, as we can't guarantee it is\npositive, even if we considered just strictly increasing functions.\n\nWe can see by the example of $f(x) = x^3$ that strictly increasing\nfunctions can have a zero derivative, at a point.\n\nThe mean value theorem provides the reasoning behind the first statement: on\n$I$, the slope of any secant line between $d < e$ (both in $I$) is matched by the slope of some\ntangent line, which by assumption will always be positive. If the\nsecant line slope is written as $(f(e) - f(d))/(e - d)$ with $d < e$,\nthen it is clear then that $f(e) - f(d) > 0$, or $f(e) > f(d)$.\n\nThe second part, follows from the secant line equation. The derivative\ncan be written as a limit of secant-line slopes, each of which is\npositive. The limit of positive things can only be non-negative,\nthough there is no guarantee the limit will be positive.\n\n\nSo, to visualize where a function is increasing, we can just pass in\nthe derivative as the masking function in our `plotif` function, as long as we are wary about places with $0$ derivative (flat spots).\n\nFor example, here we see where a more complicated function is\nincreasing by passing in its derivative to `plotif`:"
      ],
      "metadata": {}
    },
    {
      "outputs": [],
      "cell_type": "code",
      "source": [
        "f(x) = sin(pi*x) * (x^3 - 4x^2 + 2)\nplotif(f, f', -2, 2)"
      ],
      "metadata": {},
      "execution_count": null
    },
    {
      "cell_type": "markdown",
      "source": [
        "### First derivative test\n\nWe know since Fermat that relative maxima and minima occur at\n*critical* points. But what is **not** true is that all critical points\ncorrespond to relative maxima and minima. Again, $f(x)=x^3$ provides\nthe example at $x=0$. This is a critical point, but clearly not a\nrelative maximum or minimum - it is just a slight pause for a\nstrictly increasing function.\n\nWhen will a critical point correspond to a relative maximum or minimum? That\nquestion can be answered by considering the first derivative.\n\n> *The first derivative test*: If $c$ is a critical point for $f(x)$ and\n> *if* $f'(x)$ changes sign at $x=c$, then $f(c)$ will be either a\n> relative maximum or a relative minimum. It will be a relative maximum if the\n> derivative changes sign from $+$ to $-$ and a relative minimum if the\n> derivative changes sign from $-$ to $+$. If $f'(x)$ does not change sign\n> at $c$, then $(c,f(c))$ is *not* a relative maximum or minimum.\n\nThe classification part, should be clear: e.g., if the derivative is positive then\nnegative, the function $f$ will increase to $(c,f(c))$ then decrease\nfrom $(c,f(c))$ - so a local maximum.\n\nOur definition of critical point *assumes* $f(c)$ exists, as $c$ is in\nthe domain of $f$. With this assumption, vertical asymptotes are\navoided. However, it need not be that $f'(c)$ exists. The absolute\nvalue function at $x=0$ provides an example: this point is a critical\npoint where the derivative changes sign, but is not defined exactly at\n$x=0$. Regardless, it is guaranteed that $(c,f(c))$ will be a relative\nminimum by the first derivative test.\n\n##### Example\n\nConsider the function $f(x) = e^{-\\lvert x\\rvert} \\cos(\\pi x)$ over $[-3,3]$:"
      ],
      "metadata": {}
    },
    {
      "outputs": [],
      "cell_type": "code",
      "source": [
        "f(x) = exp(-abs(x)) * cos(pi * x)\nplotif(f, f', -3, 3)"
      ],
      "metadata": {},
      "execution_count": null
    },
    {
      "cell_type": "markdown",
      "source": [
        "We can see the first derivative test in action: at the peaks and\nvalleys - the relative extrema - the color changes, as the function\nchanges from increasing to decreasing or vice versa.\n\n##### Example\n\nProduce a graph of the function $f(x) = x^4 -13x^3 + 56x^2-92x + 48$.\n\nWe identify this as a fourth-degree polynomial with postive leading\ncoefficient. Hence it will eventually look $U$-shaped. If we graph\nover a too-wide interval, that is all we will see. Rather, we do some\nwork to produce a graph that shows the zeros, peaks, and valleys of\n$f(x)$. To do so, we need to know the extent of the zeros. We can try\nsome theory, but instead we just guess and if that fails, will work harder:"
      ],
      "metadata": {}
    },
    {
      "outputs": [],
      "cell_type": "code",
      "source": [
        "f(x) = x^4 - 13x^3 + 56x^2 -92x + 48\nrts = find_zeros(f, -10, 10)"
      ],
      "metadata": {},
      "execution_count": null
    },
    {
      "cell_type": "markdown",
      "source": [
        "As we found $4$ roots, we know by the fundamental theorem of algebra we have them all. This means, our graph need not focus on values much larger than $6$ or much smaller than $1$.\n\nTo know where the peaks and valleys are, we look for the critical points:"
      ],
      "metadata": {}
    },
    {
      "outputs": [],
      "cell_type": "code",
      "source": [
        "cps = find_zeros(f', 1, 6)"
      ],
      "metadata": {},
      "execution_count": null
    },
    {
      "cell_type": "markdown",
      "source": [
        "Because we have the $4$ distinct zeros, we must have the peaks and\nvalleys appear in an interleaving manner, so a search over $[1,6]$\nfinds all three critical points and without checking, they must\ncorrespond to relative extrema.\n\nWe finally check that if we were to just use $[0,7]$ as a domain to\nplot over that the function doesn't get too large to mask the\noscillations. This could happen if the $y$ values at the end points\nare too much larger than the $y$ values at the peaks and valleys, as\nonly so many pixels can be used within a graph. For this we have:"
      ],
      "metadata": {}
    },
    {
      "outputs": [],
      "cell_type": "code",
      "source": [
        "f.([0, cps..., 7])"
      ],
      "metadata": {},
      "execution_count": null
    },
    {
      "cell_type": "markdown",
      "source": [
        "The values at $0$ and at $7$ area a bit large, and since we know the\ngraph is eventually $U$-shaped, this offers no insight. So we narrow\nthe range a bit for the graph:"
      ],
      "metadata": {}
    },
    {
      "outputs": [],
      "cell_type": "code",
      "source": [
        "plot(f, 0.5, 6.5)"
      ],
      "metadata": {},
      "execution_count": null
    },
    {
      "cell_type": "markdown",
      "source": [
        "##### Example\n\nFind all the relative maxima and minima of the function $f(x) =\n\\sin(\\pi \\cdot x) \\cdot (x^3 - 4x^2 + 2)$ over the interval $[-2, 2]$.\n\nWe will do so numerically, rather than attempt this algebraically. For\nthis task we first need to gather the critical points. As each of the\npieces of $f$ are everywhere differentiable and no quotients are\ninvolved, the function $f$ will be everywhere differentiable. As such,\nonly zeros of $f'(x)$ can be critical points. We find these with"
      ],
      "metadata": {}
    },
    {
      "outputs": [],
      "cell_type": "code",
      "source": [
        "f(x) = sin(pi*x) * (x^3 - 4x^2 + 2)\ncps = find_zeros(f', -2, 2)"
      ],
      "metadata": {},
      "execution_count": null
    },
    {
      "cell_type": "markdown",
      "source": [
        "We should be careful though, as `find_zeros` may miss zeros that are not\nsimple or too close together. A critical point will correspond to a\nrelative maximum if the function crosses the axis, so these can not be\n\"pauses.\" As this is exactly the case we are screening for, we double\ncheck that all the critical points are accounted for by graphing the\nderivative:"
      ],
      "metadata": {}
    },
    {
      "outputs": [],
      "cell_type": "code",
      "source": [
        "plot(f', -2, 2, legend=false)\nplot!(zero)\nscatter!(cps, 0*cps)"
      ],
      "metadata": {},
      "execution_count": null
    },
    {
      "cell_type": "markdown",
      "source": [
        "We see the six zeros as stored in `cps` and note that at each the\nfunction clearly crosses the $x$ axis.\n\nFrom this last graph of the derivative we can also characterize the\ngraph of $f$: The left-most critical point coincides with a relative minimum\nof $f$, as the derivative changes sign from negative to\npositive. The critical points then alternate relative maximum,\nrelative minimum, relative maximum, relative, minimum, and finally relative maximum.\n\n##### Example\n\nConsider the function $f(x) = \\sqrt{\\lvert x^2 - 1\\rvert}$. Find the critical\npoints and characterize them as relative extrema or not.\n\nWe will apply the same approach, but need to get a handle on how large\nthe values can be. The function is a composition of three\nfunctions. We should expect that the only critical points will occur\nwhen the interior polynomial, $x^2-1$ has values of interest, which is\naround the interval $(-1, 1)$. So we look to the slightly wider interval $[-2, 2]$:"
      ],
      "metadata": {}
    },
    {
      "outputs": [],
      "cell_type": "code",
      "source": [
        "f(x) = sqrt(abs(x^2 - 1))\ncps = find_zeros(f', -2, 2)"
      ],
      "metadata": {},
      "execution_count": null
    },
    {
      "cell_type": "markdown",
      "source": [
        "We see the three values $-1$, $0$, $1$ that correspond to the two\nzeros and the relative minimum of $x^2 - 1$. We could graph things,\nbut instead we characterize these values using a sign chart. A\ncontinuous function only can change sign when it crosses $0$ and the\nderivative will be continuous, except possibly at the three values\nabove.\n\nWe can then pick intermediate values to test for positive or negative\nvalues:"
      ],
      "metadata": {}
    },
    {
      "outputs": [],
      "cell_type": "code",
      "source": [
        "pts = union(-2, cps, 2)  # this includes the endpoints (a, b) and the critical points\ntest_pts = pts[1:end-1] + diff(pts)/2 # midpoints of intervals between pts\n[test_pts sign.(f'.(test_pts))]"
      ],
      "metadata": {},
      "execution_count": null
    },
    {
      "cell_type": "markdown",
      "source": [
        "Reading this we have:\n\n- the derivative changes sign from negative to postive at $x=-1$, so $f(x)$ will have a relative minimum.\n\n- the derivative changes sign from positive to negative at $x=0$, so $f(x)$ will have a relative maximum.\n\n- the derivative changes sign from negative to postive at $x=1$, so $f(x)$ will have a relative minimum.\n\nJust for fun, we define a function to print `+` or `-` instead of just using `sign`:"
      ],
      "metadata": {}
    },
    {
      "outputs": [],
      "cell_type": "code",
      "source": [
        "plus_or_minus(x, tol=1e-12) = x > tol ? \"+\" : (x < -tol ? \"-\" : \"0\")\n[test_pts plus_or_minus.(f'.(test_pts))]"
      ],
      "metadata": {},
      "execution_count": null
    },
    {
      "cell_type": "markdown",
      "source": [
        "We did this all without graphs. But, let's look at the graph of the derivative:"
      ],
      "metadata": {}
    },
    {
      "outputs": [],
      "cell_type": "code",
      "source": [
        "plot(f', -2, 2)"
      ],
      "metadata": {},
      "execution_count": null
    },
    {
      "cell_type": "markdown",
      "source": [
        "We see asymptotes at $x=-1$ and $x=1$! These aren't zeroes of $f'(x)$,\nbut rather where $f'(x)$ does not exist. The conclusion is correct -\neach of $-1$, $0$ and $1$ are critical points with the identified characterization - but not for the\nreason that they are all zeros."
      ],
      "metadata": {}
    },
    {
      "outputs": [],
      "cell_type": "code",
      "source": [
        "plot(f, -2, 2)"
      ],
      "metadata": {},
      "execution_count": null
    },
    {
      "cell_type": "markdown",
      "source": [
        "Finally, why does `find_zeros` find these values that are not zeros of\n$f'(x)$? It uses the bisection algorithm on bracketing intervals to\nfind zeros which are guaranteed by the intermediate value theorem. But\nwe see from the graph that $f'(x)$ is not continuous. Still the\nalgorithm will also converge to values where the function *jumps* over\n$0$, which this function clearly does.\n\n##### Example\n\nConsider the function $f(x) = \\sin(x) - x$. Characterize the critical points.\n\nWe will work symbolically for this example."
      ],
      "metadata": {}
    },
    {
      "outputs": [],
      "cell_type": "code",
      "source": [
        "f(x) = sin(x) - x\n@vars x\nfp = diff(f(x), x)\ncps = solve(fp)"
      ],
      "metadata": {},
      "execution_count": null
    },
    {
      "cell_type": "markdown",
      "source": [
        "We get values of $0$ and $2\\pi$. Let's look at the derivative at these points:\n\nAt $x=0$ we have to the left and right signs found by"
      ],
      "metadata": {}
    },
    {
      "outputs": [],
      "cell_type": "code",
      "source": [
        "vals = fp.([-1/10, 1/10])\n[vals plus_or_minus.(vals)]"
      ],
      "metadata": {},
      "execution_count": null
    },
    {
      "cell_type": "markdown",
      "source": [
        "Both are negative. The derivative does not change sign at $0$, so the critical point is neither a relative minimum or maximum.\n\nWhat about at $2\\pi$? We do something similar:"
      ],
      "metadata": {}
    },
    {
      "outputs": [],
      "cell_type": "code",
      "source": [
        "vals = fp.(2*pi .+ [-1/10,  1/10])\n[vals plus_or_minus.(vals)]"
      ],
      "metadata": {},
      "execution_count": null
    },
    {
      "cell_type": "markdown",
      "source": [
        "Again, both negative. The function $f(x)$ is just decreasing near\n$2\\pi$, so again the critical point is neither a relative minimum or maximum.\n\nA graph verifies this:"
      ],
      "metadata": {}
    },
    {
      "outputs": [],
      "cell_type": "code",
      "source": [
        "plot(f, -3pi, 3pi)"
      ],
      "metadata": {},
      "execution_count": null
    },
    {
      "cell_type": "markdown",
      "source": [
        "We see that at $0$ and $2\\pi$ there are \"pauses\" as the function\ndecreases. We should also see that this pattern repeats. The critical\npoints found by `solve` are only those within a certain domain. Any\nvalue that satisfies $\\cos(x) - 1 = 0$ will be a critical point, and\nthere are infinitely many of these of the form $n \\cdot 2\\pi$ for $n$\nan integer.\n\n\nAs a comment, the `solveset` function, which is replacing `solve`,\nreturns the entire collection of zeros:"
      ],
      "metadata": {}
    },
    {
      "outputs": [],
      "cell_type": "code",
      "source": [
        "solveset(fp)"
      ],
      "metadata": {},
      "execution_count": null
    },
    {
      "cell_type": "markdown",
      "source": [
        "##### Example\n\nSuppose you know $f'(x) = (x-1)\\cdot(x-2)\\cdot (x-3) = x^3 - 6x^2 +\n11x - 6$ and $g'(x) = (x-1)\\cdot(x-2)^2\\cdot(x-3)^3 = x^6 -14x^5\n+80x^4-238x^3+387x^2-324x+108$.\n\nHow would the graphs of $f(x)$ and $g(x)$ differ, as they share identical critical points?\n\nThe graph of $f(x)$ - a function we do not have a formula for - can have its critical points characterized by the first derivative test. As the derivative changes sign at each, all critical points correspond to relative maxima. The sign pattern is negative/positive/negative/positive so we have from left to right a relative minimum, a relative maximum, and then a relative minimum.\n\nFor the graph of $g(x)$ we can apply the same analysis. Thinking for a\nmoment, we see as the factor $(x-2)^2$ comes as a power of $2$, the\nderivative of $g(x)$ will not change sign at $x=2$, so there is no\nrelative extreme value there. However, at $x=3$ the factor has an odd\npower, so the derivative will change sign at $x=3$. So, as $g'(x)$ is\npositive for large *negative* values, there will be a relative maximum\nat $x=1$ and, as $g'(x)$ is positive for large *positive* values, a\nrelative minimum at $x=3$.\n\nThe latter is consistent with a $7$th degree polynomial with positive leading coefficient. It is intuitive that since $g'(x)$ is a $6$th degree polynomial, $g(x)$ will be a $7$th degree one, as the power rule applied to a polynomial results in a polynomial of lesser degree by one.\n\n## Concavity\n\nConsider the function $f(x) = x^2$. Over this function we draw some\nsecant lines for a few pairs of $x$ values:"
      ],
      "metadata": {}
    },
    {
      "outputs": [],
      "cell_type": "code",
      "source": [
        "f(x) = x^2\nseca(f,a,b) = x -> f(a) + (f(b) - f(a)) / (b-a) * (x-a)\np = plot(f, -2, 3, legend=false, linewidth=5, xlim=(-2,3), ylim=(-2, 9))\nplot!(p,seca(f, -1, 2))\na,b = -1, 2; xs = range(a, stop=b, length=50)\nplot!(xs, seca(f, a, b).(xs), linewidth=5)\nplot!(p,seca(f, 0, 3/2))\na,b = 0, 3/2; xs = range(a, stop=b, length=50)\nplot!(xs, seca(f, a, b).(xs), linewidth=5)\np"
      ],
      "metadata": {},
      "execution_count": null
    },
    {
      "cell_type": "markdown",
      "source": [
        "The graph attempts to illustrate that for this function the secant\nline between any two points $a$ and $b$ will lie above the graph over $[a,b]$.\n\nThis is a special property not shared by all functions. Let $I$ be an open interval.\n\n> **Concave up**: A function $f(x)$ is concave up on $I$ if for any $a < b$ in $I$, the secant line between $a$ and $b$ lies above the graph of $f(x)$ over $[a,b]$.\n\nA similar definition exists for *concave down* where the secant lines\nlie below the graph.  Notationally, concave up says $f(a) + (f(b) -\nf(a))/(b-a) \\cdot (x-a) \\geq f(x)$ for any $x$ in $[a,b]$.  Replacing\n$\\geq$ with $\\leq$ defines *concave up*, and with either $>$ or $<$\nwill add the prefix \"strictly.\" These definitions are useful for a\ngeneral definition of\n[convex functions](https://en.wikipedia.org/wiki/Convex_function).  We\nwon't work with these definitions, rather we will characterize\nconcavity for functions which have either a first or second\nderivative.\n\n> If $f'(x)$ exists and is *increasing* on $(a,b)$ then $f(x)$ is concave up on $(a,b)$.\n\nA proof of this makes use of the same trick used to establish the mean\nvalue theorem from Rolle's theorem. Let $g(x) = f(x) - (f(a) + M \\cdot\n(x-a)$, where $M$ is the slope of the secant line between $a$ and\n$b$. By construction $g(a) = g(b) = 0$. If $f'(x)$ is increasing, then\nso is $g'(x) = f'(x) + M$. Concave up means $g(x) \\leq 0$. Suppose to\nthe contrary that there is a value where $g(x) > 0$ in $[a,b]$. We\nshow this can't be. Assuming $g'(x)$ always exists, after some work,\nRolle's theorem will ensure there is a value where $g'(c) = 0$ and\n$(c,g(c))$ is a relative maximum, and as we know there is at least one\npositive value, it must be $g(c) > 0$. The first derivative test then\nensures that $g'(x)$ will increase to the left of $c$ and decrease to\nthe right of $c$, since $c$ is at a critical point and not an\nendpoint. But this can't happen as $g'(x)$ is assumed to be increasing\non the interval.\n\nSimilarly, if a function has a decreasing derivative on $I$ then it\nwill be concave down on $I$.\n\n\nThe relationship between increasing functions and their derivatives - if $f'(x) > 0 $ on $I$ it is increasing on $I$ - \ngives this second characterization of concavity when the second\nderivative exists:\n\n> If $f''(x)$ exists and is positive on $I$, then $f(x)$ is concave up on $I$.\n\nThis follows,  as we can think of $f''(x)$ as just the first derivative\nof the function $f'(x)$, so the assumption will force $f'(x)$ to exist and be\nincreasing, and hence $f(x)$ to be concave up.\n\n##### Example\n\nLet's look at the function $x^2 \\cdot e^{-x}$ for positive $x$. A\nquick graph shows the function is concave up, then down, then up in\nthe region plotted:"
      ],
      "metadata": {}
    },
    {
      "outputs": [],
      "cell_type": "code",
      "source": [
        "f(x) = x^2 * exp(-x)\nplotif(f, f'', 0, 8)"
      ],
      "metadata": {},
      "execution_count": null
    },
    {
      "cell_type": "markdown",
      "source": [
        "From the graph, we would expect that the second derivative - which is continuous - would have two zeros on $[0,8]$:"
      ],
      "metadata": {}
    },
    {
      "outputs": [],
      "cell_type": "code",
      "source": [
        "ips = find_zeros(f'', 0, 8)"
      ],
      "metadata": {},
      "execution_count": null
    },
    {
      "cell_type": "markdown",
      "source": [
        "As well, between the zeros we should have the sign pattern `+`, `-`, and `+`, as we verify:"
      ],
      "metadata": {}
    },
    {
      "outputs": [],
      "cell_type": "code",
      "source": [
        "ps = [0, 1, 4]\n[ps plus_or_minus.(f''.(ps))]"
      ],
      "metadata": {},
      "execution_count": null
    },
    {
      "cell_type": "markdown",
      "source": [
        "### Second derivative test\n\nConcave up functions are \"opening\" up, and often just $U$-shaped. At a\nrelative minimum, the graph will be concave up, and conversely concave\ndown at a relative maximum. This observation becomes:\n\n> The **second derivative test**: If $c$ is a critical point of $f(x)$\n> with $f''(c)$ existing in a neighborhood of $c$, then $(c,f(c))$\n> will be a relative maximum if $f''(c) > 0$ and a relative minimum if\n> $f''(c) < 0$.\n\nIf $f''(c)$ is positive in an interval about $c$, then  $f''(c) > 0$ implies the function is\nconcave up at $x=c$, Concave up implies the derivative is increasing\nso must go from negative to positive at the critical point.\n\nThe second derivative test is *inconclusive* when $f''(c)=0$. No such\ngeneral statement exists, as there isn't enough information. For\nexample, the function $f(x) = x^3$ has $0$ as a critical point,\n$f''(0)=0$ and the value does not correspond to a relative maximum or minimum. On the\nother hand $f(x)=x^4$ has $0$ as a critical point, $f''(0)=0$  is a\nrelative minimum.\n\n##### Example\n\nUse the second derivative test to characterize the critical points of $f(x) = x^5 - x^4 + x^3$."
      ],
      "metadata": {}
    },
    {
      "outputs": [],
      "cell_type": "code",
      "source": [
        "f(x) = x^5 - 2x^4 + x^3\ncps = find_zeros(f', -3, 3)"
      ],
      "metadata": {},
      "execution_count": null
    },
    {
      "cell_type": "markdown",
      "source": [
        "The critical point $x=0$ is masked by floating point issues. Here we work around that:"
      ],
      "metadata": {}
    },
    {
      "outputs": [],
      "cell_type": "code",
      "source": [
        "cps = [0.0, 0.6, 1.0]"
      ],
      "metadata": {},
      "execution_count": null
    },
    {
      "cell_type": "markdown",
      "source": [
        "We can check the sign of the second derivative for each critical point:"
      ],
      "metadata": {}
    },
    {
      "outputs": [],
      "cell_type": "code",
      "source": [
        "vals = f''.(cps)\n[cps plus_or_minus.(vals)]"
      ],
      "metadata": {},
      "execution_count": null
    },
    {
      "cell_type": "markdown",
      "source": [
        "That $f''(0.6) < 0$ implies that at $0.6$, $f(x)$ will have a relative\nmaximum. As $f''(1) > 0$, the second derivative test says at $x=1$\nthere will be a relative minimum. That $f''(0) = 0$ says that only\nthat there **may** be a relative maximum or minimum at $x=0$, as the second\nderivative test does not speak to this situation.\n\nThis should be consistent with\nthis graph, where $-0.25$, and $1.25$ are chosen to capture the zero at\n$0$ and the two relative extrema:"
      ],
      "metadata": {}
    },
    {
      "outputs": [],
      "cell_type": "code",
      "source": [
        "plotif(f, f'', -0.25, 1.25)"
      ],
      "metadata": {},
      "execution_count": null
    },
    {
      "cell_type": "markdown",
      "source": [
        "For the graph we see that $0$ **is** not a relative maximum or minimum. We could have seen this numerically by checking the first derivative test, and noting there is no sign change:"
      ],
      "metadata": {}
    },
    {
      "outputs": [],
      "cell_type": "code",
      "source": [
        "plus_or_minus.(f'.([-0.1, 0.1]))"
      ],
      "metadata": {},
      "execution_count": null
    },
    {
      "cell_type": "markdown",
      "source": [
        "### Inflection points\n\nAn inflection point is a value where the *second* derivative of $f$\nchanges sign. At an inflection point the derivative will change from\nincreasing to decreasing (or vice versa) and the function will change\nfrom concave up to down (or vice versa).\n\nWe can use the `find_zeros` function to find inflection points, by passing\nin the second derivative function. For example, consider the\nbell-shaped function\n\n$$~\nf(x) = e^{-x^2/2}.\n~$$\n\nA graph suggests relative a maximum at $x=0$, a horizontal asymptote of $y=0$,\nand two inflection points:"
      ],
      "metadata": {}
    },
    {
      "outputs": [],
      "cell_type": "code",
      "source": [
        "f(x) = exp(-x^2/2)\nplotif(f, f'', -3, 3)"
      ],
      "metadata": {},
      "execution_count": null
    },
    {
      "cell_type": "markdown",
      "source": [
        "The inflection points can be found directly, if desired, or numerically with:"
      ],
      "metadata": {}
    },
    {
      "outputs": [],
      "cell_type": "code",
      "source": [
        "find_zeros(f'', -3, 3)"
      ],
      "metadata": {},
      "execution_count": null
    },
    {
      "cell_type": "markdown",
      "source": [
        "(The `find_zeros` function may return points which are not inflection points. It primarily returns points where $f''(x)$ changes sign, but may also find points where $f''(x)$ is $0$ yet does not change sign at $x$.)\n\n\n##### Example\n\nGraph  the function\n\n$$~\nf(x) = \\frac{(x-1)\\cdot(x-3)^2}{x \\cdot (x-2)}.\n~$$\n\nNot much to do here if you are satisfied with a graph that only gives insight into the asymptotes of this rational function:"
      ],
      "metadata": {}
    },
    {
      "outputs": [],
      "cell_type": "code",
      "source": [
        "f(x) = ( (x-1)*(x-3)^2 ) / (x * (x-2) )\nplot(f, -10, 10)"
      ],
      "metadata": {},
      "execution_count": null
    },
    {
      "cell_type": "markdown",
      "source": [
        "We can see the slant asymptote and hints of vertical asymptotes, but,\nwe'd like to see more of the basic features of the graph.\n\nPreviously, we have discussed rational functions and their\nasymptotes. This function has numerator of degree 3 and denominator of\ndegree 2, so will have a slant asymptote. As well, the zeros of the\ndenominator, $0$ and $-2$, will lead to vertical asymptotes.\n\nTo identify how wide a viewing window should be, for the rational\nfunction the asymptotic behaviour is determined after the concavity is\ndone changing and we are past all relative extrema, so we should take an interval that include all\npotential inflection points and critical points:"
      ],
      "metadata": {}
    },
    {
      "outputs": [],
      "cell_type": "code",
      "source": [
        "cps = find_zeros(f', -10, 10)\nposs_ips = find_zero(f'', (-10, 10))\nextrema(union(cps, poss_ips))"
      ],
      "metadata": {},
      "execution_count": null
    },
    {
      "cell_type": "markdown",
      "source": [
        "So a range over $[-5,5]$ should display the key features including the slant asymptote.\n\nPreviously we used the `trimplot` function defined in `CalculusWithJulia` to avoid the distortion that vertical asymptotes can have:"
      ],
      "metadata": {}
    },
    {
      "outputs": [],
      "cell_type": "code",
      "source": [
        "trimplot(f, -5, 5)"
      ],
      "metadata": {},
      "execution_count": null
    },
    {
      "cell_type": "markdown",
      "source": [
        "With this graphic, we can now clearly see in the graph the two zeros at $x=1$ and $x=3$, the vertical asymptotes at $x=0$ and $x=2$, and the slant asymptote.\n\n\n##### Example\n\nA car travels from a stop for 1 mile in 2 minutes. A graph of its\nposition as a function of time might look like any of these graphs:"
      ],
      "metadata": {}
    },
    {
      "outputs": [],
      "cell_type": "code",
      "source": [
        "v(t) = 30/60*t\nw(t) = t < 1/2 ? 0.0 : (t > 3/2 ? 1.0 : (t-1/2))\ny(t) = 1 / (1 + exp(-t))\ny1(t) = y(2(t-1))\ny2(t) = y1(t) - y1(0)\ny3(t) = 1/y2(2) * y2(t)\nplot([v, w, y3], 0, 2)"
      ],
      "metadata": {},
      "execution_count": null
    },
    {
      "cell_type": "markdown",
      "source": [
        "All three graphs have the same *average* velocity which is just the\n$1/2$ miles per minute (30 miles an hour). But the instantaneous\nvelocity - which is given by the derivative of the position function)\nvaries.\n\nThe graph `f1` has constant velocity, so the position is a straight\nline with slope $v_0$. The graph `f2` is similar, though for first and\nlast 30 seconds, the car does not move, so must move faster during the\ntime it moves. A more realistic graph would be `f3`. The position\nincreases continuously, as do the others, but the velocity changes\nmore gradually. The initial velocity is less than $v_0$, but\neventually gets to be more than $v_0$, then velocity starts to\nincrease less. At no point is the velocity not increasing, for `f3`,\nthe way it is for `f2` after a minute and a half.\n\nThe rate of change of the velocity is the acceleration. For `f1` this\nis zero, for `f2` it is zero as well - when it is defined. However,\nfor `f3` we see the increase in velocity is positive in the first\nminute, but negative in the second minute. This fact relates to the\nconcavity of the graph. As acceleration is the derivative of velocity,\nit is the second derivative of position - the graph we see. Where the\nacceleration is *positive*, the position graph will be concave *up*,\nwhere the acceleration is *negative* the graph will be concave\n*down*. The point $t=1$ is an inflection point, and\nwould be felt by most riders.\n\n## Questions\n\n###### Question\n\nConsider this graph:"
      ],
      "metadata": {}
    },
    {
      "outputs": [],
      "cell_type": "code",
      "source": [
        "plot(airyai, -5, 0)  # airyai in `SpecialFunctions` loaded with `CalculusWithJulia`"
      ],
      "metadata": {},
      "execution_count": null
    },
    {
      "cell_type": "markdown",
      "source": [
        "On what intervals (roughly) is the function positive?"
      ],
      "metadata": {}
    },
    {
      "outputs": [],
      "cell_type": "code",
      "source": [
        "choices=[\nL\"(-3.2,-1)\",\nL\"(-5, -4.2)\",\nL\" $(-5, -4.2)$ and $(-2.5, 0)$\",\nL\"(-4.2, -2.5)\"]\nans = 3\nradioq(choices, ans)"
      ],
      "metadata": {},
      "execution_count": null
    },
    {
      "cell_type": "markdown",
      "source": [
        "###### Question\n\nConsider this graph:"
      ],
      "metadata": {}
    },
    {
      "outputs": [],
      "cell_type": "code",
      "source": [
        "import SpecialFunctions: besselj\np = plot(x->besselj(x, 1), -5,-3)"
      ],
      "metadata": {},
      "execution_count": null
    },
    {
      "cell_type": "markdown",
      "source": [
        "On what intervals (roughly) is the function negative?"
      ],
      "metadata": {}
    },
    {
      "outputs": [],
      "cell_type": "code",
      "source": [
        "choices=[\nL\"(-5.0, -4.0)\",\nL\"(-25.0, 0.0)\",\nL\" $(-5.0, -4.0)$ and $(-4, -3)$\",\nL\"(-4.0, -3.0)\"]\nans = 4\nradioq(choices, ans)"
      ],
      "metadata": {},
      "execution_count": null
    },
    {
      "cell_type": "markdown",
      "source": [
        "###### Question\n\nConsider this graph"
      ],
      "metadata": {}
    },
    {
      "outputs": [],
      "cell_type": "code",
      "source": [
        "plot(x->besselj(x, 21), -5,-3)"
      ],
      "metadata": {},
      "execution_count": null
    },
    {
      "cell_type": "markdown",
      "source": [
        "On what interval(s) is this function increasing?"
      ],
      "metadata": {}
    },
    {
      "outputs": [],
      "cell_type": "code",
      "source": [
        "choices=[\nL\"(-5.0, -3.8)\",\nL\"(-3.8, -3.0\",\nL\"(-4.7, -3.0)\",\nL\"(-0.17, 0.17)\"\n]\nans = 3\nradioq(choices, ans)"
      ],
      "metadata": {},
      "execution_count": null
    },
    {
      "cell_type": "markdown",
      "source": [
        "###### Question\n\n\nConsider this graph"
      ],
      "metadata": {}
    },
    {
      "outputs": [],
      "cell_type": "code",
      "source": [
        "p = plot(x -> 1 / (1+x^2), -3, 3)"
      ],
      "metadata": {},
      "execution_count": null
    },
    {
      "cell_type": "markdown",
      "source": [
        "On what interval(s) is this function concave up?"
      ],
      "metadata": {}
    },
    {
      "outputs": [],
      "cell_type": "code",
      "source": [
        "choices=[\nL\"(0.1, 1.0)\",\nL\"(-3.0, 3.0)\",\nL\"(-0.6, 0.6)\",\nL\" $(-3.0, -0.6)$ and $(0.6, 3.0)$\"\n]\nans = 4\nradioq(choices, ans)"
      ],
      "metadata": {},
      "execution_count": null
    },
    {
      "cell_type": "markdown",
      "source": [
        "###### Question\n\nConsider this graph"
      ],
      "metadata": {}
    },
    {
      "outputs": [],
      "cell_type": "code",
      "source": [
        "f(x) = (x-2)* (x-2.5)*(x-3) / ((x-1)*(x+1))\np = plot(f, -20, -1-.3, legend=false, xlim=(-15, 15), color=:blue)\nplot!(p, f, -1 + .2, 1 - .02, color=:blue)\nplot!(p, f, 1 + .05, 20, color=:blue)"
      ],
      "metadata": {},
      "execution_count": null
    },
    {
      "cell_type": "markdown",
      "source": [
        "What kind of *asymptotes* does it appear to have?"
      ],
      "metadata": {}
    },
    {
      "outputs": [],
      "cell_type": "code",
      "source": [
        "choices = [\nL\"Just a horizontal asymptote, $y=0$\",\nL\"Just vertical asymptotes at $x=-1$ and $x=1$\",\nL\"Vertical asymptotes at $x=-1$ and $x=1$ and a horizontal asymptote $y=1$\",\nL\"Vertical asymptotes at $x=-1$ and $x=1$ and a slant asymptote\"\n]\nans = 4\nradioq(choices, ans)"
      ],
      "metadata": {},
      "execution_count": null
    },
    {
      "cell_type": "markdown",
      "source": [
        "###### Question\n\nIf it is known that:\n\n*  A function $f(x)$ has critical points at $x=-1, 0, 1$\n\n* at $-2$ an $-1/2$ the values are: $f'(-2) = 1$ and $f'(-1/2) = -1$.\n\nWhat can be concluded?"
      ],
      "metadata": {}
    },
    {
      "outputs": [],
      "cell_type": "code",
      "source": [
        "choices = [\n\"Nothing\",\nL\"That the critical point at $-1$ is a relative maximum\",\nL\"That the critical point at $-1$ is a relative minimum\",\nL\"That the critical point at $0$ is a relative maximum\",\n       L\"That the critical point at $0$ is a relative minimum\"\n]\nans = 2\nradioq(choices, ans, keep_order=true)"
      ],
      "metadata": {},
      "execution_count": null
    },
    {
      "cell_type": "markdown",
      "source": [
        "###### Question\n\nMystery function $f(x)$ has $f'(2) = 0$ and $f''(0) = 2$. What is the *most* you can say about $x=2$?"
      ],
      "metadata": {}
    },
    {
      "outputs": [],
      "cell_type": "code",
      "source": [
        "choices = [\nL\" $f(x)$ is continuous at 2\",\nL\" $f(x)$ is continuous and differentiable at 2\",\nL\" $f(x)$ is continuous and differentiable at 2 and has a critical point\",\nL\" $f(x)$ is continuous and differentiable at 2 and has a critical point that is a relative minimum by the second derivative test\"\n]\nans = 3\nradioq(choices, ans, keep_order=true)"
      ],
      "metadata": {},
      "execution_count": null
    },
    {
      "cell_type": "markdown",
      "source": [
        "###### Question\n\nFind  the smallest critical point of $f(x) = x^3 e^{-x}$."
      ],
      "metadata": {}
    },
    {
      "outputs": [],
      "cell_type": "code",
      "source": [
        "f(x)= x^3*exp(-x)\nusing Roots\ncps = find_zeros(D(f), -5, 10)\nval = minimum(cps)\nnumericq(val)"
      ],
      "metadata": {},
      "execution_count": null
    },
    {
      "cell_type": "markdown",
      "source": [
        "###### Question\n\nHow many critical points does $f(x) = x^5 - x + 1$ have?"
      ],
      "metadata": {}
    },
    {
      "outputs": [],
      "cell_type": "code",
      "source": [
        "f(x) = x^5 - x + 1\ncps = find_zeros(D(f), -3, 3)\nval = length(cps)\nnumericq(val)"
      ],
      "metadata": {},
      "execution_count": null
    },
    {
      "cell_type": "markdown",
      "source": [
        "###### Question\n\nHow many inflection points does $f(x) = x^5 - x + 1$ have?"
      ],
      "metadata": {}
    },
    {
      "outputs": [],
      "cell_type": "code",
      "source": [
        "f(x) = x^5 - x + 1\ncps = find_zeros(D(f,2), -3, 3)\nval = length(cps)\nnumericq(val)"
      ],
      "metadata": {},
      "execution_count": null
    },
    {
      "cell_type": "markdown",
      "source": [
        "###### Question\n\nAt $c$, $f'(c) = 0$ and $f''(c) = 1 + c^2$. Is $(c,f(c))$ a relative maximum? ($f$ is a \"nice\" function.)"
      ],
      "metadata": {}
    },
    {
      "outputs": [],
      "cell_type": "code",
      "source": [
        "choices = [\n\"No, it is a relative minimum\",\n\"No, the second derivative test is possibly inconclusive\",\n\"Yes\"\n]\nans = 1\nradioq(choices, ans)"
      ],
      "metadata": {},
      "execution_count": null
    },
    {
      "cell_type": "markdown",
      "source": [
        "###### Question\n\nAt $c$, $f'(c) = 0$ and $f''(c) = c^2$. Is $(c,f(c))$ a relative minimum? ($f$ is a \"nice\" function.)"
      ],
      "metadata": {}
    },
    {
      "outputs": [],
      "cell_type": "code",
      "source": [
        "choices = [\n\"No, it is a relative maximum\",\nL\"No, the second derivative test is possibly inconclusive if $c=0$, but otherwise yes\",\n\"Yes\"\n]\nans = 2\nradioq(choices, ans)"
      ],
      "metadata": {},
      "execution_count": null
    },
    {
      "cell_type": "markdown",
      "source": [
        "###### Question"
      ],
      "metadata": {}
    },
    {
      "outputs": [],
      "cell_type": "code",
      "source": [
        "f(x) = exp(-x) * sin(pi*x)\nplot(D(f), 0, 3)"
      ],
      "metadata": {},
      "execution_count": null
    },
    {
      "cell_type": "markdown",
      "source": [
        "The graph shows $f'(x)$. Is it possible that $f(x) = e^{-x} \\sin(\\pi x)$?"
      ],
      "metadata": {}
    },
    {
      "outputs": [],
      "cell_type": "code",
      "source": [
        "yesnoq(true)"
      ],
      "metadata": {},
      "execution_count": null
    },
    {
      "cell_type": "markdown",
      "source": [
        "###### Question"
      ],
      "metadata": {}
    },
    {
      "outputs": [],
      "cell_type": "code",
      "source": [
        "f(x) = x^4 - 3x^3 - 2x + 4\nplot(D(f,2), -2, 4)"
      ],
      "metadata": {},
      "execution_count": null
    },
    {
      "cell_type": "markdown",
      "source": [
        "The graph shows $f'(x)$. Is it possible that $f(x) = x^4 - 3x^3 - 2x + 4$?"
      ],
      "metadata": {}
    },
    {
      "outputs": [],
      "cell_type": "code",
      "source": [
        "yesnoq(\"no\")"
      ],
      "metadata": {},
      "execution_count": null
    },
    {
      "cell_type": "markdown",
      "source": [
        "###### Question"
      ],
      "metadata": {}
    },
    {
      "outputs": [],
      "cell_type": "code",
      "source": [
        "f(x) = (1+x)^(-2)\nplot(D(f,2), 0,2)"
      ],
      "metadata": {},
      "execution_count": null
    },
    {
      "cell_type": "markdown",
      "source": [
        "The graph shows $f''(x)$. Is it possible that $f(x) = (1+x)^{-2}$?"
      ],
      "metadata": {}
    },
    {
      "outputs": [],
      "cell_type": "code",
      "source": [
        "yesnoq(\"yes\")"
      ],
      "metadata": {},
      "execution_count": null
    },
    {
      "cell_type": "markdown",
      "source": [
        "###### Question"
      ],
      "metadata": {}
    },
    {
      "outputs": [],
      "cell_type": "code",
      "source": [
        "f_p(x) = (x-1)*(x-2)^2*(x-3)^2\nplot(f_p, 0, 4)"
      ],
      "metadata": {},
      "execution_count": null
    },
    {
      "cell_type": "markdown",
      "source": [
        "This plot shows the graph of $f'(x)$. What is true about the critical points and their characterization?"
      ],
      "metadata": {}
    },
    {
      "outputs": [],
      "cell_type": "code",
      "source": [
        "choices = [\nL\"The critical points are at $x=1$ (a relative minimum), $x=2$ (not a relative extrema), and $x=3$ (not a relative extrema).\",\nL\"The critical points are at $x=1$ (a relative maximum), $x=2$ (not a relative extrema), and $x=3$ (not a relative extrema).\",\nL\"The critical points are at $x=1$ (a relative minimum), $x=2$ (not a relative extrema), and $x=3$ (a relative minimum.\",\nL\"The critical points are at $x=1$ (a relative minimum), $x=2$ (a relative minimum), and $x=3$ (a relative minimum).\",\n]\nans=1\nradioq(choices, ans)"
      ],
      "metadata": {},
      "execution_count": null
    },
    {
      "cell_type": "markdown",
      "source": [
        "##### Question\n\nYou know $f''(x) = (x-1)^3$. What do you know about $f(x)$?"
      ],
      "metadata": {}
    },
    {
      "outputs": [],
      "cell_type": "code",
      "source": [
        "choices = [\nL\"The function is concave down over $(-\\infty, 1)$ and concave up over $(1, \\infty)\",\nL\"The function is decreasing over $(-\\infty, 1)$ and increasing over $(1, \\infty)\",\nL\"The function is negative over $(-\\infty, 1)$ and positive over $(1, \\infty)\",\n]\nans = 1\nradioq(choices, ans)"
      ],
      "metadata": {},
      "execution_count": null
    },
    {
      "cell_type": "markdown",
      "source": [
        "##### Question\n\nWhile driving we accelerate to get through a light before it turns red. However, at time $t_0$ a car cuts in front of us and we are forced to break. If $s(t)$ represents position, what is $t_0$:"
      ],
      "metadata": {}
    },
    {
      "outputs": [],
      "cell_type": "code",
      "source": [
        "choices = [\"A zero of the function\",\n\"A critical point for the function\",\n\"An inflection point for the function\"]\nans = 3\nradioq(choices, ans, keep_order=true)"
      ],
      "metadata": {},
      "execution_count": null
    },
    {
      "cell_type": "markdown",
      "source": [
        "##### Question\n\nTwo models for population growth are *exponential* growth: $P(t) = P_0 a^t$ and *logistic*\n[growth[(https://en.wikipedia.org/wiki/Logistic_function#In_ecology:_modeling_population_growth): $P(t) = K P_0 a^t / (K + P_0(a^t - 1))$. The exponential growth model has growth rate proportional to the current population. The logistic model has growth rate depending on the current population *and* the available resources (which can limit growth).\n\n\nLetting $K=10$, $P_0=5$, and $a= e^(1/4)$. A plot over $[0,5]$ shows somewhat similar behaviour:"
      ],
      "metadata": {}
    },
    {
      "outputs": [],
      "cell_type": "code",
      "source": [
        "K, P0, a = 50, 5, exp(1/4)\negrowth(t) = P0 * a^t\nlgrowth(t) = K * P0 * a^t / (K + P0*(a^t-1))\n\nplot([egrowth, lgrowth], 0, 5)"
      ],
      "metadata": {},
      "execution_count": null
    },
    {
      "cell_type": "markdown",
      "source": [
        "Does a plot over $[0,50]$ show qualitatively\t similar behaviour?"
      ],
      "metadata": {}
    },
    {
      "outputs": [],
      "cell_type": "code",
      "source": [
        "yesnoq(true)"
      ],
      "metadata": {},
      "execution_count": null
    },
    {
      "cell_type": "markdown",
      "source": [
        "Exponential growth has $P''(t) = P_0 a^t \\log(a)^2 > 0$, so has no inflection point. By plotting over a sufficiently wide interval, can you answer: does the logistic growth model have an inflection point?"
      ],
      "metadata": {}
    },
    {
      "outputs": [],
      "cell_type": "code",
      "source": [
        "yesnoq(true)"
      ],
      "metadata": {},
      "execution_count": null
    },
    {
      "cell_type": "markdown",
      "source": [
        "If yes, find it numerically:"
      ],
      "metadata": {}
    },
    {
      "outputs": [],
      "cell_type": "code",
      "source": [
        "using Roots\nval = find_zero(D(lgrowth,2), (0, 20))\nnumericq(val)"
      ],
      "metadata": {},
      "execution_count": null
    },
    {
      "cell_type": "markdown",
      "source": [
        "The available resources are quantified by $K$. As $K \\rightarrow \\infty$ what is the limit of the logistic growth model:"
      ],
      "metadata": {}
    },
    {
      "outputs": [],
      "cell_type": "code",
      "source": [
        "choices = [\n\"The exponential growth model\",\n\"The limit does not exist\",\nL\"The limit is $P_0$\"]\nans = 1\nradioq(choices, ans)"
      ],
      "metadata": {},
      "execution_count": null
    },
    {
      "cell_type": "markdown",
      "source": [
        "##### Question\n\nThe plotting algorithm for plotting functions  starts with a small\ninitial set of points over the specified interval ($21$) and then\nrefines those sub-intervals where the second derivative is determined\nto be large.\n\nWhy are sub-intervals where the second derivative is large different than those where the second derivative is small?"
      ],
      "metadata": {}
    },
    {
      "outputs": [],
      "cell_type": "code",
      "source": [
        "choices = [\n\"The function will increase (or decrease) rapidly when the second derivative is large, so there needs to be more points to capture the shape\",\n\"The function will have more curvature when the second derivative is large, so there  needs to be more points to capture the shape\",\n\"The function will be much larger (in absolute value) when the second derivative is large, so there needs to be more points to capture the shape\",\n]\nans = 2\nradioq(choices, ans)"
      ],
      "metadata": {},
      "execution_count": null
    },
    {
      "cell_type": "markdown",
      "source": [
        "##### Question\n\nIs there a nice algorithm to identify what domain a function should be\nplotted over to produce an informative graph?\n[Wilkinson](https://www.cs.uic.edu/~wilkinson/Publications/plotfunc.pdf)\nhas some suggestions. (Wilkinson is well known to the `R` community as\nthe specifier of the grammar of graphics.) It is mentioned that\n\"finding an informative domain for a given function depends on at least\nthree features: periodicity, asymptotics, and monotonicity.\"\n\nWhy would periodicity matter?"
      ],
      "metadata": {}
    },
    {
      "outputs": [],
      "cell_type": "code",
      "source": [
        "choices = [\n\"An informative graph only needs to show one or two periods, as others can be inferred.\",\n\"An informative graph need only show a part of the period, as the rest can be inferred.\",\nL\"An informative graph needs to show several periods, as that will allow proper computation for the $y$ axis range.\"]\nans = 1\nradioq(choices, ans)"
      ],
      "metadata": {},
      "execution_count": null
    },
    {
      "cell_type": "markdown",
      "source": [
        "Why should asymptotics matter?"
      ],
      "metadata": {}
    },
    {
      "outputs": [],
      "cell_type": "code",
      "source": [
        "choices = [\nL\"A vertical asymptote can distory the $y$ range, so it is important to avoid too-large values\",\nL\"A horizontal asymptote must be plotted from $-\\infty$ to $\\infty$\",\n\"A slant asymptote must be plotted over a very wide domain so that it can be identified.\"\n]\nans = 1\nradioq(choices, ans)"
      ],
      "metadata": {},
      "execution_count": null
    },
    {
      "cell_type": "markdown",
      "source": [
        "Monotonicity means increasing or decreasing. This is important for what reason?"
      ],
      "metadata": {}
    },
    {
      "outputs": [],
      "cell_type": "code",
      "source": [
        "choices = [\n\"For monotonic regions, a large slope or very concave function might require more care to plot\",\n\"For monotonic regions, a function is basically a straight line\",\n\"For monotonic regions, the function will have a vertical asymptote, so the region should not be plotted\"\n]\nans = 1\nradioq(choices, ans)"
      ],
      "metadata": {},
      "execution_count": null
    }
  ],
  "nbformat_minor": 2,
  "metadata": {
    "language_info": {
      "file_extension": ".jl",
      "mimetype": "application/julia",
      "name": "julia",
      "version": "1.5.0"
    },
    "kernelspec": {
      "name": "julia-1.5",
      "display_name": "Julia 1.5.0",
      "language": "julia"
    }
  },
  "nbformat": 4
}
