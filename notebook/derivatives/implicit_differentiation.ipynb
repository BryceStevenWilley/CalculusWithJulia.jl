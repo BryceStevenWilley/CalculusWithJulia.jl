{
  "cells": [
    {
      "cell_type": "markdown",
      "source": [
        "# Implicit Differentiation"
      ],
      "metadata": {}
    },
    {
      "outputs": [],
      "cell_type": "code",
      "source": [
        "using CalculusWithJulia\nusing CalculusWithJulia.WeaveSupport\nusing Plots\nnothing"
      ],
      "metadata": {},
      "execution_count": null
    },
    {
      "cell_type": "markdown",
      "source": [
        "## Graphs of equations\n\n\nAn **equation** in $y$ and $x$ is an algebraic expression involving an\nequality with two (or more) variables. An example might be $x^2 + y^2\n= 1$.\n\nThe **solutions** to an equation in the variables $x$ and $y$ are all\npoints $(x,y)$ which satisfy the equation.\n\nThe **graph** of an equation is just the set of solutions to the equation represented in the Cartesian plane.\n\nWith this definition, the graph of a function $f(x)$ is just the graph of the equation $y = f(x)$.\n\nIn general, graphing an equation is more complicated than graphing a\nfunction. For a function, we know for a given value of $x$ what\nthe corresponding value of $f(x)$ is through evaluation of the function. For\nequations, we may have 0, 1 or more $y$ values for a given $x$ and\neven more problematic is we may have no rule to find these values.\n\n\nTo plot such an equation in `Julia`, we can use the\n`ImplicitEquations` package, which is loaded when `CalculusWithJulia` is:"
      ],
      "metadata": {}
    },
    {
      "outputs": [],
      "cell_type": "code",
      "source": [
        "using CalculusWithJulia \nusing Plots\ngr()   # better graphics than plotly() here"
      ],
      "metadata": {},
      "execution_count": null
    },
    {
      "cell_type": "markdown",
      "source": [
        "To plot the circle of radius $2$, we would first define a function of *two* variables:"
      ],
      "metadata": {}
    },
    {
      "outputs": [],
      "cell_type": "code",
      "source": [
        "f(x,y) = x^2 + y^2"
      ],
      "metadata": {},
      "execution_count": null
    },
    {
      "outputs": [],
      "cell_type": "code",
      "source": [
        "using LaTeXStrings\nnote(L\"\"\"\n\nThis is a function of *two* variables, used here to express one side of an equation. `Julia` makes this easy to do - just make sure two variables are in the signature of `f` when it is defined. Using functions like this, we can express our equation in the form $f(x,y) = c$ or $f(x,y) = g(x,y)$, the latter of which can be expressed as $h(x,y) = f(x,y) - g(x,y) = 0$. That is, only the form $f(x,y)=c$ is needed.\n\n\"\"\")"
      ],
      "metadata": {},
      "execution_count": null
    },
    {
      "cell_type": "markdown",
      "source": [
        "Then we use one of the logical operations - `Lt`, `Le`, `Eq`, `Ge`, or `Gt` - to construct a predicate to plot. This one describes $x^2 + y^2 = 2^2$:"
      ],
      "metadata": {}
    },
    {
      "outputs": [],
      "cell_type": "code",
      "source": [
        "r = Eq(f, 2^2)"
      ],
      "metadata": {},
      "execution_count": null
    },
    {
      "outputs": [],
      "cell_type": "code",
      "source": [
        "note(\"\"\"\nThere are unicode infix operators for each of these which make it\neasier to read at the cost of being harder to type in. This predicate\nwould be written as `f ⩵ 2^2` where `⩵` is **not** two equals signs,\nbut rather typed with `\\\\Equal[tab]`.)\n\"\"\")"
      ],
      "metadata": {},
      "execution_count": null
    },
    {
      "cell_type": "markdown",
      "source": [
        "These \"predicate\" objects can be passed to `plot` for visualization:"
      ],
      "metadata": {}
    },
    {
      "outputs": [],
      "cell_type": "code",
      "source": [
        "plot(r)"
      ],
      "metadata": {},
      "execution_count": null
    },
    {
      "cell_type": "markdown",
      "source": [
        "Of course, more complicated equations are possible and the steps are\nsimilar - only the function definition is more involved.  For example,\nthe [Devils\ncurve](http://www-groups.dcs.st-and.ac.uk/~history/Curves/Devils.html)\nhas the form\n\n$$~\ny^4 - x^4 + ay^2 + bx^2 = 0\n~$$\n\nHere we draw the curve for a particular choice of $a$ and $b$. For illustration purposes, a narrower\nviewing window than the default of $[-5,5] \\times [-5,5]$ is specified below using `xlims` and `ylims`:"
      ],
      "metadata": {}
    },
    {
      "outputs": [],
      "cell_type": "code",
      "source": [
        "a,b = -1,2\nf(x,y) =  y^4 - x^4 + a*y^2 + b*x^2\nplot(Eq(f, 0), xlims=(-3,3), ylims=(-3,3))"
      ],
      "metadata": {},
      "execution_count": null
    },
    {
      "outputs": [],
      "cell_type": "code",
      "source": [
        "note(L\"\"\"\n\nThe rendered plots look \"blocky\" due to the algorithm used to plot the\nequations. As there is no rule defining $(x,y)$ pairs to plot, a\nsearch by regions is done. A region is initially labeled\nundetermined. If it can be shown that for any value in the region the\nequation is true (equations can also be inequalities), the region is\ncolored black. If it can be shown it will never be true, the region is\ndropped. If a black-and-white answer is not clear, the region is\nsubdivided and each subregion is similarly tested. This continues\nuntil the remaining undecided regions are smaller than some\nthreshold. Such regions comprise a boundary, and here are also colored\nblack. Only regions are plotted - not $(x,y)$ pairs - so the results\nare blocky. Pass larger values of $N=M$ (with defaults of $8$) to\n`plot` to lower the threshold at the cost of longer computation times.\n\n\"\"\")"
      ],
      "metadata": {},
      "execution_count": null
    },
    {
      "cell_type": "markdown",
      "source": [
        "### The IntervalConstraintProgramming package\n\nThe `IntervalConstraintProgramming` package also can be used to graph implicit equations. For certain problem descriptions it is significantly faster and makes better graphs. The usage is slightly more involved:\n\nWe specify a problem using the `@constraint` macro. Using a macro\nallows expressions to involve free symbols, so the problem is\nspecified in an equation-like manner:"
      ],
      "metadata": {}
    },
    {
      "outputs": [],
      "cell_type": "code",
      "source": [
        "using IntervalArithmetic, IntervalConstraintProgramming\nS = @constraint x^2 + y^2 <= 2"
      ],
      "metadata": {},
      "execution_count": null
    },
    {
      "cell_type": "markdown",
      "source": [
        "The right hand side must be a number.\n\nThe area to plot over must be specified as an `IntervalBox`, basically a pair of intervals. The interval $[a,b]$ is expressed through `a..b`."
      ],
      "metadata": {}
    },
    {
      "outputs": [],
      "cell_type": "code",
      "source": [
        "X = IntervalBox(-3..3, -3..3)"
      ],
      "metadata": {},
      "execution_count": null
    },
    {
      "outputs": [],
      "cell_type": "code",
      "source": [
        "r = pave(S, X)"
      ],
      "metadata": {},
      "execution_count": null
    },
    {
      "cell_type": "markdown",
      "source": [
        "We can plot either the boundary, the interior, or both."
      ],
      "metadata": {}
    },
    {
      "outputs": [],
      "cell_type": "code",
      "source": [
        "plot(r.inner)       # plot interior; use r.boundary for boundary"
      ],
      "metadata": {},
      "execution_count": null
    },
    {
      "cell_type": "markdown",
      "source": [
        "## Tangent lines, implicit differentiation\n\n\nThe graph $x^2 + y^2 = 1$ has well-defined tangent lines at all points except\n$(-1,0)$ and $(0, 1)$ and even at these two points, we could call the vertical lines\n$x=-1$ and $x=1$ tangent lines. However, to recover the slope would\nneed us to express $y$ as a function of $x$ and then differentiate\nthat function. Of course, in this example, we would need two functions:\n$f(x) = \\sqrt{1-x^2}$ and $g(x) = - \\sqrt{1-x^2}$ to do this\ncompletely.\n\nIn general though, we may not be able to solve for $y$ in terms of $x$. What then?\n\nThe idea is to *assume* that $y$ is representable by some function of\n$x$. This makes sense, moving on the curve from $(x,y)$ to some nearby\npoint, means changing $x$ will cause some change in $y$. This\nassumption is only made *locally* - basically meaning a complicated\ngraph is reduced to just a small, well-behaved, section of its graph.\n\n\nWith this assumption, asking what $dy/dx$ is has an obvious meaning -\nwhat is the slope of the tangent line to the graph at $(x,y)$.\n\nThe method of implicit differentiation allows this question to be\ninvestigated. It begins by differentiating both sides of the equation\nassuming $y$ is a function of $x$ to derive a new equation involving $dy/dx$.\n\nFor example,  starting with $x^2 + y^2 = 1$, differentiating both sides in $x$ gives:\n\n$$~\n2x + 2y\\cdot \\frac{dy}{dx} = 0.\n~$$\n\nThe chain rule was used to find $d/dx(y^2) = 2y \\cdot dy/dx$. From this we can solve for $dy/dx$ (the resulting equations are linear in $dy/dx$, so can always be solved explicitly):\n\n$$~\ndy/dx = -x/y\n~$$\n\nThis says the slope of the tangent line depends on the point $(x,y)$ through the formula $-x/y$.\n\n\nAs a check, we compare to what we would have found had we solved for\n$y= \\sqrt{1 - x^2}$ (for $(x,y)$ with $y \\geq 0$). We would have\nfound: $dy/dx = 1/2 \\cdot 1/\\sqrt{1 - x^2} \\cdot -2x$. Which can be\nsimplified to $-x/y$. This should show that the method\nabove - assuming $y$ is a function of $x$ and differentiating - is not\nonly more general, but can even be easier.\n\nThe name - *implicit differentiation* - comes from the assumption that\n$y$ is implicitly defined in terms of $x$.  According to the\n[Implicit Function Theorem](http://en.wikipedia.org/wiki/Implicit_function_theorem) the\nabove method will work provided the curve has sufficient smoothness\nnear the point $(x,y)$.\n\n##### Examples\n\nConsider the [serpentine](http://www-history.mcs.st-and.ac.uk/Curves/Serpentine.html) equation\n\n$$~\nx^2y + a\\cdot b \\cdot y - a^2 \\cdot x = 0, \\quad a\\cdot b > 0.\n~$$\n\nFor $a = 2, b=1$ we have the graph:"
      ],
      "metadata": {}
    },
    {
      "outputs": [],
      "cell_type": "code",
      "source": [
        "a, b = 2, 1\nf(x,y) = x^2*y + a * b * y - a^2 * x\nplot(Eq(f, 0))"
      ],
      "metadata": {},
      "execution_count": null
    },
    {
      "cell_type": "markdown",
      "source": [
        "We can see that at each point in the viewing window the tangent line\nexists due to the smoothness of the curve. Moreover, at a point\n$(x,y)$ the tangent will have slope $dy/dx$ satisfying:\n\n$$~\n2xy + x^2 \\frac{dy}{dx} + a\\cdot b \\frac{dy}{dx} - a^2 = 0.\n~$$\n\nSolving, yields:\n\n$$~\n\\frac{dy}{dx} = \\frac{a^2 - 2xy}{ab + x^2}.\n~$$\n\n\nIn particular, the point $(0,0)$ is always on this graph, and the tangent line will have positive slope $a^2/(ab) = a/b$.\n\n----\n\nThe [eight](http://www-history.mcs.st-and.ac.uk/Curves/Eight.html) curve has representation\n\n$$~\nx^4 = a^2(x^2-y^2), \\quad a \\neq 0.\n~$$\n\n\nA graph for $a=3$ shows why it has the name it does:"
      ],
      "metadata": {}
    },
    {
      "outputs": [],
      "cell_type": "code",
      "source": [
        "a = 3\nf(x,y) = x^4 - a^2*(x^2 - y^2)\nplot(Eq(f, 0))"
      ],
      "metadata": {},
      "execution_count": null
    },
    {
      "cell_type": "markdown",
      "source": [
        "The tangent line at $(x,y)$ will have slope, $dy/dx$ satisfying:\n\n$$~\n4x^3 = a^2 \\cdot (2x - 2y \\frac{dy}{dx}).\n~$$\n\nSolving gives:\n\n$$~\n\\frac{dy}{dx} = -\\frac{4x^3 - a^2 \\cdot 2x}{a^2 \\cdot 2y}.\n~$$\n\nThe point $(3,0)$ can be seen to be a solution to the equation and\nshould have a vertical tangent line. This also is reflected in the\nformula, as the denominator is $a^2\\cdot 2 y$, which is $0$ at this point, whereas the numerator is not.\n\n\n##### Example\n\nThe quotient rule can be hard to remember, unlike the product rule. No\nreason to despair, the product rule plus implicit differentiation can\nbe used to recover the quotient rule. Suppose $y=f(x)/g(x)$, then we\ncould also write $y g(x) = f(x)$. Differentiating implicitly gives:\n\n$$~\n\\frac{dy}{dx} g(x) + y g'(x) = f'(x).\n~$$\n\nSolving for $dy/dx$ gives:\n\n$$~\n\\frac{dy}{dx} = \\frac{f'(x) - y g'(x)}{g(x)}.\n~$$\n\nNot quite what we expect, perhaps, but substituting in $f(x)/g(x)$ for $y$ gives us the usual formula:\n\n\n$$~\n\\frac{dy}{dx} = \\frac{f'(x) - \\frac{f(x)}{g(x)} g'(x)}{g(x)} = \\frac{f'(x) g(x) - f(x) g'(x)}{g(x)^2}.\n~$$"
      ],
      "metadata": {}
    },
    {
      "outputs": [],
      "cell_type": "code",
      "source": [
        "note(L\"\"\"\n\nIn this example we mix notations using $g'(x)$ to\nrepresent a derivative of $g$ with respect to $x$ and $dy/dx$ to\nrepresent the derivative of $y$ with respect to $x$. This is done to\nemphasize the value that we are solving for. It is just a convention\nthough, we could just as well have used the \"prime\" notation for each.\n\n\"\"\")"
      ],
      "metadata": {},
      "execution_count": null
    },
    {
      "cell_type": "markdown",
      "source": [
        "##### Example: Graphing a tangent line\n\nLet's see how to add a graph of a tangent line to the graph of an\nequation. Tangent lines are tangent at a point, so we need a point to\ndiscuss.\n\nReturning to the equation for a circle, $x^2 + y^2 = 1$, let's look at\n$(\\sqrt{2}/2, - \\sqrt{2}/2)$. The derivative is $ -y/x$, so the slope\nat this point is $1$. The line itself has equation $y = b + m \\cdot\n(x-a)$. The following represents this in `Julia`:"
      ],
      "metadata": {}
    },
    {
      "outputs": [],
      "cell_type": "code",
      "source": [
        "F(x,y) = x^2 + y^2\n\na,b = sqrt(2)/2, -sqrt(2)/2\n\nm = -a/b\ntl(x) = b + m * (x-a)"
      ],
      "metadata": {},
      "execution_count": null
    },
    {
      "cell_type": "markdown",
      "source": [
        "Now we want to plot *both* $F ⩵ 1$ and the tangent line. This can be done with two layers:"
      ],
      "metadata": {}
    },
    {
      "outputs": [],
      "cell_type": "code",
      "source": [
        "f(x,y) = x^2 + y^2\nplot(Eq(f, 1), xlims=(-2, 2), ylims=(-2, 2))\nplot!(tl)"
      ],
      "metadata": {},
      "execution_count": null
    },
    {
      "cell_type": "markdown",
      "source": [
        "##### Example\n\nWhen we assume $y$ is a function of $x$, it may not be feasible to\nactually find the function algebraically. However, in many cases one\ncan be found numerically. Suppose $F(x,y) = c$ describes the\nequation. Then for a fixed $x$, $y(x)$ solves $F(x,y(x))) - c = 0$, so\n$y(x)$ is a zero of a known function. As long as we can piece together\nwhich $y$ goes with which, we can find the function.\n\nFor example, [folium](http://www-history.mcs.st-and.ac.uk/Curves/Foliumd.html) of Descartes has the equation\n\n$$~\nx^3 + y^3  = 3axy.\n~$$\n\nSetting $a=1$ we have the graph:"
      ],
      "metadata": {}
    },
    {
      "outputs": [],
      "cell_type": "code",
      "source": [
        "a = 1\nF(x,y) = x^3 + y^3 - 3*a*x*y\nplot(Eq(F,0))"
      ],
      "metadata": {},
      "execution_count": null
    },
    {
      "cell_type": "markdown",
      "source": [
        "We can solve for the lower curve, $y$, as a function of $x$, as follows:"
      ],
      "metadata": {}
    },
    {
      "outputs": [],
      "cell_type": "code",
      "source": [
        "y1(x) = minimum(find_zeros(y->F(x,y), -10, 10))  # find_zeros from `Roots`"
      ],
      "metadata": {},
      "execution_count": null
    },
    {
      "cell_type": "markdown",
      "source": [
        "This gives the lower part of the curve, which we can plot with:"
      ],
      "metadata": {}
    },
    {
      "outputs": [],
      "cell_type": "code",
      "source": [
        "plot(y1, -5, 5)"
      ],
      "metadata": {},
      "execution_count": null
    },
    {
      "cell_type": "markdown",
      "source": [
        "Though, in this case, the cubic equation would admit a closed-form solution, the approach illustrated applies more generally.\n\n\n## Using SymPy for computation\n\n`SymPy` can be used to perform implicit differentiation. The three\nsteps are similar: we assume $y$ is a function of $x$, *locally*;\ndifferentiate both sides; solve the result for $dy/dx$.\n\n\nLet's do so for the [Trident of\nNewton](http://www-history.mcs.st-and.ac.uk/Curves/Trident.html), which\nis represented in Cartesian form as follows:\n\n$$~\nxy = cx^3 + dx^2 + ex + h.\n~$$\n\n\n\nTo approach this task in `SymPy`, we begin by defining our symbolic expression. For now, we keep the parameters as symbolic values:"
      ],
      "metadata": {}
    },
    {
      "outputs": [],
      "cell_type": "code",
      "source": [
        "@vars a b c d x y\nex = x*y - (a*c^3 + b*x^2 + c*x + d)"
      ],
      "metadata": {},
      "execution_count": null
    },
    {
      "cell_type": "markdown",
      "source": [
        "To express that `y` is a locally a function of `x`, we use a \"symbolic function\" object:"
      ],
      "metadata": {}
    },
    {
      "outputs": [],
      "cell_type": "code",
      "source": [
        "u = SymFunction(\"u\")"
      ],
      "metadata": {},
      "execution_count": null
    },
    {
      "cell_type": "markdown",
      "source": [
        "Defining a symbolic function is done with the command `SymFunction`. (This\ncommand's name is slightly modified from that when using SymPy under `Python`.) The object\n`u` is the symbolic function, and `u(x)` a symbolic expression\ninvolving a symbolic function.  This is what we will use to refer to `y`.\n\n\nAssume $y$ is a function of $x$, called `u(x)`, this substitution is just a renaming:"
      ],
      "metadata": {}
    },
    {
      "outputs": [],
      "cell_type": "code",
      "source": [
        "ex1 = ex(y => u(x))"
      ],
      "metadata": {},
      "execution_count": null
    },
    {
      "cell_type": "markdown",
      "source": [
        "At this point,  we differentiate both sides in `x`:"
      ],
      "metadata": {}
    },
    {
      "outputs": [],
      "cell_type": "code",
      "source": [
        "ex2 = diff(ex1, x)"
      ],
      "metadata": {},
      "execution_count": null
    },
    {
      "cell_type": "markdown",
      "source": [
        "The next step is solve for $dy/dx$ - the lone answer to the linear equation - which is done as follows:"
      ],
      "metadata": {}
    },
    {
      "outputs": [],
      "cell_type": "code",
      "source": [
        "dydx = diff(u(x), x)\nex3 = solve(ex2, dydx)[1]    # pull out lone answer with [1] indexing"
      ],
      "metadata": {},
      "execution_count": null
    },
    {
      "cell_type": "markdown",
      "source": [
        "As this represents an answer in terms of `u(x)`, we replace that term with the original variable:"
      ],
      "metadata": {}
    },
    {
      "outputs": [],
      "cell_type": "code",
      "source": [
        "dydx = ex3(u(x) => y)"
      ],
      "metadata": {},
      "execution_count": null
    },
    {
      "cell_type": "markdown",
      "source": [
        "If `x` and `y` are the variable names, this function will combine the steps above:"
      ],
      "metadata": {}
    },
    {
      "outputs": [],
      "cell_type": "code",
      "source": [
        "function dy_dx(eqn)\n  u = SymFunction(\"u\")\n  eqn1 = eqn(y => u(x))\n  eqn2 = solve(diff(eqn1, x), diff(u(x), x))[1]\n  eqn2(u(x) => y)\nend"
      ],
      "metadata": {},
      "execution_count": null
    },
    {
      "cell_type": "markdown",
      "source": [
        "Let $a = b = c = d = 1$, then $(1,4)$ is a point on the curve. We can draw a tangent line to this point with these commands:"
      ],
      "metadata": {}
    },
    {
      "outputs": [],
      "cell_type": "code",
      "source": [
        "H = ex(a=>1, b=>1, c=>1, d=>1)\nx0, y0 = 1, 4\nm = dydx(x=>1, y=>4, a=>1, b=>1, c=>1, d=>1)\nplot(Eq(lambdify(H), 0), xlims=(-5,5), ylims=(-5,5))\nplot!(y0 + m * (x-x0))"
      ],
      "metadata": {},
      "execution_count": null
    },
    {
      "cell_type": "markdown",
      "source": [
        "Basically all the same steps as if done \"by hand.\" Some effort could have been saved in plotting, had\nvalues for the parameters been substituted initially, but not doing so\nshows their dependence in the derivative."
      ],
      "metadata": {}
    },
    {
      "outputs": [],
      "cell_type": "code",
      "source": [
        "alert(\"The use of `lambdify` is needed to turn the symbolic expression, `H`, into a function, as `ImplicitEquations` expects functions in its predicates.\")"
      ],
      "metadata": {},
      "execution_count": null
    },
    {
      "outputs": [],
      "cell_type": "code",
      "source": [
        "note(\"\"\"\n\nWhile `SymPy` itself has the `plot_implicit` function for plotting implicit equations,  this works only with `PyPlot`, not `Plots`, so we use the `ImplicitEquations` package in these examples.\n\n\"\"\")"
      ],
      "metadata": {},
      "execution_count": null
    },
    {
      "cell_type": "markdown",
      "source": [
        "## Higher order derivatives\n\nImplicit differentiation can be used to find $d^2y/dx^2$ or other higher-order derivatives. At each stage, the same technique is applied. The\nonly \"trick\" is that some simplifications can be made.\n\nFor example, consider $x^3 - y^3=3$. To find $d^2y/dx^2$, we first find $dy/dx$:\n\n$$~\n3x^2 - (3y^2 \\frac{dy}{dx}) = 0.\n~$$\n\nWe could solve for $dy/dx$ at this point - it always appears as a linear factor - to get:\n\n$$~\n\\frac{dy}{dx} = \\frac{3x^2}{3y^2} = \\frac{x^2}{y^2}.\n~$$\n\nHowever, we differentiate the first equation, as we generally try to avoid the quotient rule\n\n$$~\n6x - (6y \\frac{dy}{dx} \\cdot \\frac{dy}{dx} + 3y^2 \\frac{d^2y}{dx^2}) = 0.\n~$$\n\nAgain, if must be that $d^2y/dx^2$ appears as a linear factor, so we can solve for it:\n\n$$~\n\\frac{d^2y}{dx^2} = \\frac{6x - 6y (\\frac{dy}{dx})^2}{3y^2}.\n~$$\n\nOne last substitution for $dy/dx$ gives:\n\n$$~\n\\frac{d^2y}{dx^2} = \\frac{-6x + 6y (\\frac{x^2}{y^2})^2}{3y^2} = -2\\frac{x}{y^2} + 2\\frac{x^4}{y^5} = 2\\frac{x}{y^2}(1 - \\frac{x^3}{y^3}) = 2\\frac{x}{y^5}(y^3 - x^3) = 2 \\frac{x}{y^5}(-3).\n~$$\n\nIt isn't so pretty, but that's all it takes.\n\n\n\nTo visualize, we plot implicitly and notice that:\n\n* as we change quadrants from the third to the fourth to the first the\n  concavity changes from down to up to down, as the sign of the second\n  derivative changes from negative to positive to negative;\n\n* and that at these inflection points, the \"tangent\" line is vertical\n  when $y=0$ and flat when $x=0$."
      ],
      "metadata": {}
    },
    {
      "outputs": [],
      "cell_type": "code",
      "source": [
        "F(x,y) = x^3 - y^3\nplot(Eq(F, 3),  xlims=(-3, 3), ylims=(-3, 3))"
      ],
      "metadata": {},
      "execution_count": null
    },
    {
      "cell_type": "markdown",
      "source": [
        "The same problem can be done symbolically. The steps are similar, though the last step (replacing $x^3 - y^3$ with $3$) isn't done without explicitly asking."
      ],
      "metadata": {}
    },
    {
      "outputs": [],
      "cell_type": "code",
      "source": [
        "@vars x y\nu = SymFunction(\"u\")\n\neqn    = F(x,y) - 3\neqn1   = eqn(y => u(x))\ndydx   = solve(diff(eqn1,x), diff(u(x), x))[1]        # 1 solution\nd2ydx2 = solve(diff(eqn1, x, 2), diff(u(x),x, 2))[1]  # 1 solution\neqn2   = d2ydx2(diff(u(x), x) => dydx, u(x) => y)\nsimplify(eqn2)"
      ],
      "metadata": {},
      "execution_count": null
    },
    {
      "cell_type": "markdown",
      "source": [
        "## Inverse functions\n\nAs [mentioned](../precalc/inversefunctions.html), an [inverse](http://en.wikipedia.org/wiki/Inverse_function) function for $f(x)$ is a function $g(x)$ satisfying:\n$y = f(x)$ if and only if $g(y) = x$ for all $x$ in the domain of $f$ and $y$ in the range of $f$.\n\nIn short, both $f \\circ g$ and $g \\circ f$ are identify functions on their respective domains.\nAs inverses are unique, their notation, $f^{-1}(x)$, reflects the name of the related function.\nfunction.\n\nThe chain rule can be used to give the derivative of an inverse\nfunction when applied to $f(f^{-1}(x)) = x$. Solving gives,\n$[f^{-1}(x)]' = 1 / f'(g(x))$.\n\nThis is great - if we can remember the rules. If not, sometimes implicit\ndifferentiation can also help.\n\nConsider the inverse function for the tangent, which exists when the domain of the tangent function is restricted to $(-\\pi/2, \\pi/2)$. The function solves $y = \\tan^{-1}(x)$ or $\\tan(y) = x$. Differentiating this yields:\n\n$$~\n\\sec(y)^2 \\frac{dy}{dx} = 1.\n~$$\n\nBut $\\sec(y)^2 = 1 + x^2$, as can be seen by right-triangle trigonometry. This yields the formula $dy/dx = [\\tan^{-1}(x)]' = 1 / (1 + x^2)$.\n\n##### Example\n\nFor a more complicated example, suppose we have a moving trajectory $(x(t),\ny(t))$. The angle it makes with the origin satisfies\n\n$$~\n\\tan(\\theta(t)) = \\frac{y(t)}{x(t)}.\n~$$\n\nSuppose $\\theta(t)$ can be defined in terms of the inverse to some\nfunction ($\\tan^{-1}(x)$). We can differentiate implicitly to find $\\theta'(t)$ in\nterms of derivatives of $y$ and $x$:\n\n$$~\n\\sec^2(\\theta(t)) \\cdot \\theta'(t) = \\frac{y'(t) x(t) - y(t) x'(t)}{x(t))^2}.\n~$$\n\nBut $\\sec^2(\\theta(t)) = (r(t)/x(t))^2 = (x(t)^2 + y(t)^2) / x(t)^2$, so moving to the other side the secant term gives an explicit, albeit complicated, expression for the derivative of $\\theta$ in terms of the functions $x$ and $y$:\n\n$$~\n\\theta'(t) = \\frac{x^2}{x^2(t) + y^2(t)} \\cdot \\frac{y'(t) x(t) - y(t) x'(t)}{x(t))^2} = \\frac{y'(t) x(t) - y(t) x'(t)}{x^2(t) + y^2(t)}.\n~$$\n\nThis could have been made easier, had we leveraged the result of the previous example.\n\n## Example from physics\n\nMany problems are best done with implicit derivatives. A video showing\nsuch a problem along with how to do it analytically is\n[here](http://ocw.mit.edu/courses/mathematics/18-01sc-single-variable-calculus-fall-2010/unit-2-applications-of-differentiation/part-b-optimization-related-rates-and-newtons-method/session-32-ring-on-a-string/).\n\nThis video starts with a simple question:\n\n\n> If you have a rope and heavy ring, where will the ring position itself\n> due to gravity?\n\n\nWell, suppose you hold the rope in two places, which we can take to be\n$(0,0)$ and $(a,b)$. Then let $(x,y)$ be all the possible positions of\nthe ring that hold the rope taught. Then we have this picture:"
      ],
      "metadata": {}
    },
    {
      "outputs": [],
      "cell_type": "code",
      "source": [
        "imgfile = \"figures/extrema-ring-string.png\"\ncaption = \"Ring on string figure.\"\nImageFile(imgfile, caption)"
      ],
      "metadata": {},
      "execution_count": null
    },
    {
      "cell_type": "markdown",
      "source": [
        "Since the length of the rope does not change, we must have for any admissible $(x,y)$ that:\n\n$$~\nL = \\sqrt{x^2 + y^2} + \\sqrt{(a-x)^2 + (b-y)^2},\n~$$\n\nwhere these terms come from  the two hypotenuses in the figure, as computed through\nPythagorean's theorem.\n\n\n> If we assume that the ring will minimize the value of y subject to\n> this constraint, can we solve for y?\n\n\nWe create a function to represent the equation:"
      ],
      "metadata": {}
    },
    {
      "outputs": [],
      "cell_type": "code",
      "source": [
        "F(x, y, a, b) = sqrt(x^2 + y^2) + sqrt((a-x)^2 + (b-y)^2)"
      ],
      "metadata": {},
      "execution_count": null
    },
    {
      "cell_type": "markdown",
      "source": [
        "To illustrate, we need specific values of $a$, $b$, and $L$:"
      ],
      "metadata": {}
    },
    {
      "outputs": [],
      "cell_type": "code",
      "source": [
        "a, b, L = 3, 3, 10      # L > sqrt{a^2 + b^2}\nF(x, y) = F(x, y, a, b)"
      ],
      "metadata": {},
      "execution_count": null
    },
    {
      "cell_type": "markdown",
      "source": [
        "Our values $(x,y)$ must satisfy $f(x,y) = L$. Let's graph:"
      ],
      "metadata": {}
    },
    {
      "outputs": [],
      "cell_type": "code",
      "source": [
        "plot(Eq(F, L), xlims=(-5, 7), ylims=(-5, 7))"
      ],
      "metadata": {},
      "execution_count": null
    },
    {
      "cell_type": "markdown",
      "source": [
        "The graph is an ellipse, though slightly tilted.\n\nOkay, now to find the lowest point. This will be when the derivative\nis $0$. We solve by assuming $y$ is a function of $x$ called `u`:"
      ],
      "metadata": {}
    },
    {
      "outputs": [],
      "cell_type": "code",
      "source": [
        "@vars a b L x y\nu = SymFunction(\"u\")"
      ],
      "metadata": {},
      "execution_count": null
    },
    {
      "outputs": [],
      "cell_type": "code",
      "source": [
        "F(x,y,a,b) = sqrt(x^2 + y^2) + sqrt((a-x)^2 + (b-y)^2)\neqn = F(x,y,a,b) - L"
      ],
      "metadata": {},
      "execution_count": null
    },
    {
      "outputs": [],
      "cell_type": "code",
      "source": [
        "eqn1 = diff(eqn(y => u(x)), x)\neqn2 = solve(eqn1, diff(u(x), x))[1]\ndydx  = eqn2(u(x) => y)"
      ],
      "metadata": {},
      "execution_count": null
    },
    {
      "cell_type": "markdown",
      "source": [
        "We are looking for when the tangent line has 0 slope, or when `dydx` is 0:"
      ],
      "metadata": {}
    },
    {
      "outputs": [],
      "cell_type": "code",
      "source": [
        "cps = solve(dydx, x)"
      ],
      "metadata": {},
      "execution_count": null
    },
    {
      "cell_type": "markdown",
      "source": [
        "There are two answers, as we could guess from the graph, but we want the one for the smallest value of $y$, which is the second.\n\nThe values of dydx depend on any pair (x,y), but our solution must\nalso satisfy the equation. That is for our value of x, we need to find\nthe corresponding y. This should be possible by substituting:"
      ],
      "metadata": {}
    },
    {
      "outputs": [],
      "cell_type": "code",
      "source": [
        "eqn1 = eqn(x => cps[2])"
      ],
      "metadata": {},
      "execution_count": null
    },
    {
      "cell_type": "markdown",
      "source": [
        "We would try to solve `eqn1` for `y` with `solve(eqn1, y)`, but\n`SymPy` can't complete this problem. Instead, we will approach this\nnumerically using `find_zero` from the `Roots` package. We make the above a function of `y` alone"
      ],
      "metadata": {}
    },
    {
      "outputs": [],
      "cell_type": "code",
      "source": [
        "eqn2 = eqn1(a=>3, b=>3, L=>10)\nystar = find_zero(eqn2, -3)"
      ],
      "metadata": {},
      "execution_count": null
    },
    {
      "cell_type": "markdown",
      "source": [
        "Okay, now we need to put this value back into our expression for the `x` value and also substitute in for the parameters:"
      ],
      "metadata": {}
    },
    {
      "outputs": [],
      "cell_type": "code",
      "source": [
        "xstar = N(cps[2](y => ystar, a =>3, b => 3, L => 3))"
      ],
      "metadata": {},
      "execution_count": null
    },
    {
      "cell_type": "markdown",
      "source": [
        "Our minimum is at `(xstar, ystar)`, as this graphic shows:"
      ],
      "metadata": {}
    },
    {
      "outputs": [],
      "cell_type": "code",
      "source": [
        "F(x,y) = F(x,y, 3, 3)\ntl(x) = ystar + 0 * (x- xstar)\nplot(Eq(F, 10), xlims=(-4, 7), ylims=(-10, 10))\nplot!(tl)"
      ],
      "metadata": {},
      "execution_count": null
    },
    {
      "cell_type": "markdown",
      "source": [
        "If you watch the video linked to above, you will see that the\nsurprising fact here is the resting point is such that the angles\nformed by the rope are the same. Basically this makes the tension in\nboth parts of the rope equal, so there is a static position (if not\nstatic, the ring would move and not end in the final position). We can\nverify this fact numerically by showing the arctangents of the two\ntriangles are the same up to a sign (and slight round-off error):"
      ],
      "metadata": {}
    },
    {
      "outputs": [],
      "cell_type": "code",
      "source": [
        "a0, b0 = 0,0   # the foci of the ellipse are (0,0) and (3,3)\na1, b1 = 3, 3\natan((b0 - ystar)/(a0 - xstar)) + atan((b1 - ystar)/(a1 - xstar)) # 0"
      ],
      "metadata": {},
      "execution_count": null
    },
    {
      "cell_type": "markdown",
      "source": [
        "Now, were we lucky and just happened to take $a=3$, $b = 3$ in such a way to\nmake this work? Well, no. But convince yourself by doing the above for\ndifferent values of $b$.\n\n## Questions\n\n###### Question\n\nIs $(1,1)$ on the graph of\n\n$$~\nx^2 - 2xy + y^2 = 1?\n~$$"
      ],
      "metadata": {}
    },
    {
      "outputs": [],
      "cell_type": "code",
      "source": [
        "x,y=1,1\nyesnoq(x^2 - 2x*y + y^2 ==1)"
      ],
      "metadata": {},
      "execution_count": null
    },
    {
      "cell_type": "markdown",
      "source": [
        "###### Question\n\nFor the equation\n\n$$~\nx^2y + 2y - 4 x = 0,\n~$$\n\nif $x=4$, what is a value for $y$ such that $(x,y)$ is a point on the graph of the equation?"
      ],
      "metadata": {}
    },
    {
      "outputs": [],
      "cell_type": "code",
      "source": [
        "using SymPy\n@vars x y\neqn = x^2*y + 2y - 4x\nval = float(N(solve(subs(eqn, (x,4)), y)[1]))\nnumericq(val)"
      ],
      "metadata": {},
      "execution_count": null
    },
    {
      "cell_type": "markdown",
      "source": [
        "###### Question\n\nFor the equation\n\n$$~\n(y-5)\\cdot \\cos(4\\cdot \\sqrt{(x-4)^2 + y^2)} =  x\\cdot\\sin(2\\sqrt{x^2 + y^2})\n~$$\n\n\nis the point $(5,0)$ a solution?"
      ],
      "metadata": {}
    },
    {
      "outputs": [],
      "cell_type": "code",
      "source": [
        "yesnoq(false)"
      ],
      "metadata": {},
      "execution_count": null
    },
    {
      "cell_type": "markdown",
      "source": [
        "##### Question\n\nLet $(x/3)^2 + (y/2)^2 = 1$. Find the slope of the tangent line at the point $(3/\\sqrt{2}, 2/\\sqrt{2})$."
      ],
      "metadata": {}
    },
    {
      "outputs": [],
      "cell_type": "code",
      "source": [
        "SymPy.@vars x y\nu = SymFunction(\"u\")\neqn = (x/3)^2 + (y/2)^2 - 1\ndydx = SymPy.solve(SymPy.diff(SymPy.subs(eqn, y, u(x)), x), SymPy.diff(u(x), x))[1]\nval = float(SymPy.N(SymPy.subs(dydx, (u(x), y), (x, 3/sqrt(2)), (y, 2/sqrt(2)))))\nnumericq(val)"
      ],
      "metadata": {},
      "execution_count": null
    },
    {
      "cell_type": "markdown",
      "source": [
        "###### Question\n\nThe [lame](http://www-history.mcs.st-and.ac.uk/Curves/Lame.html) curves satisfy:\n\n$$~\n(\\frac{x}{a})^n + (\\frac{y}{b})^n = 1.\n~$$\n\nAn ellipse is when $n=1$. Take $n=3$, $a=1$, and $b=2$.\n\nFind a *positive* value of $y$ when $x=1/2$."
      ],
      "metadata": {}
    },
    {
      "outputs": [],
      "cell_type": "code",
      "source": [
        "a,b,n=1,2,3\nval = b*(1 - ((1/2)/a)^n)^(1/n)\nnumericq(val)"
      ],
      "metadata": {},
      "execution_count": null
    },
    {
      "cell_type": "markdown",
      "source": [
        "What expression gives $dy/dx$?"
      ],
      "metadata": {}
    },
    {
      "outputs": [],
      "cell_type": "code",
      "source": [
        "choices = [\nL\" -(y/x) \\cdot (x/a)^n \\cdot (y/b)^{-n}\",\nL\"b \\cdot (1 - (x/a)^n)^{1/n}\",\nL\"-(x/a)^n / (y/b)^n\"\n]\nans = 1\nradioq(choices, ans)"
      ],
      "metadata": {},
      "execution_count": null
    },
    {
      "cell_type": "markdown",
      "source": [
        "###### Question\n\nLet $y - x^2 = -\\log(x)$. At the point $(1/2, 0.9431...)$, the graph has a tangent line. Find this line, then find its intersection point with the $y$ axes.\n\nThis intersection is:"
      ],
      "metadata": {}
    },
    {
      "outputs": [],
      "cell_type": "code",
      "source": [
        "using Roots\nusing ForwardDiff\nD(f) = x -> ForwardDiff.derivative(f, float(x))\nf(x) = x^2 - log(x)\nx0 = 1/2\ntl(x) = f(x0) + D(f)(x0) * (x - x0)\nnumericq(tl(0))"
      ],
      "metadata": {},
      "execution_count": null
    },
    {
      "cell_type": "markdown",
      "source": [
        "###### Question\n\nThe [witch](http://www-history.mcs.st-and.ac.uk/Curves/Witch.html) of [Agnesi](http://www.maa.org/publications/periodicals/convergence/mathematical-treasures-maria-agnesis-analytical-institutions) is the curve given by the equation\n\n$$~\ny(x^2 + a^2) = a^3.\n~$$\n\nIf $a=1$, numerically find a a value of $y$ when $x=2$."
      ],
      "metadata": {}
    },
    {
      "outputs": [],
      "cell_type": "code",
      "source": [
        "using Roots\na = 1\nf(x,y) = y*(x^2 + a^2) - a^3\nval = find_zero(y->f(2,y), 1)\nnumericq(val)"
      ],
      "metadata": {},
      "execution_count": null
    },
    {
      "cell_type": "markdown",
      "source": [
        "What expression yields $dy/dx$ for this curve:"
      ],
      "metadata": {}
    },
    {
      "outputs": [],
      "cell_type": "code",
      "source": [
        "choices = [\nL\"-2xy/(x^2 + a^2)\",\nL\"2xy / (x^2 + a^2)\",\nL\"a^3/(x^2 + a^2)\"\n]\nans = 1\nradioq(choices, ans)"
      ],
      "metadata": {},
      "execution_count": null
    },
    {
      "cell_type": "markdown",
      "source": [
        "###### Question"
      ],
      "metadata": {}
    },
    {
      "outputs": [],
      "cell_type": "code",
      "source": [
        "### {{{lhopital_35}}}\nimgfile = \"figures/fcarc-may2016-fig35-350.gif\"\ncaption = L\"\"\"\n\nImage number 35 from L'Hospitals calculus book (the first). Given a description of the curve, identify\nthe point $E$ which maximizes the height.\n\n\"\"\"\nImageFile(imgfile, caption)"
      ],
      "metadata": {},
      "execution_count": null
    },
    {
      "cell_type": "markdown",
      "source": [
        "The figure above shows a problem appearing in L'Hospital's first calculus book. Given a function defined implicitly by $x^3 + y^3 = axy$  (with $AP=x$, $AM=y$ and $AB=a$) find the point $E$ that maximizes the height. In the [AMS feature column](http://www.ams.org/samplings/feature-column/fc-2016-05) this problem is illustrated and solved in the historical manner, with the comment that the concept of implicit differentiation wouldn't have occurred to L'Hospital.\n\nUsing Implicit differentiation, find when $dy/dx = 0$."
      ],
      "metadata": {}
    },
    {
      "outputs": [],
      "cell_type": "code",
      "source": [
        "choices = [L\"y^2 = 3x/a\", L\"y=3x^2/a\", L\"y=a/(3x^2)\", L\"y^2=a/(3x)\"]\nans = 2\nradioq(choices, ans)"
      ],
      "metadata": {},
      "execution_count": null
    },
    {
      "cell_type": "markdown",
      "source": [
        "Substituting the correct value of $y$, above, into the defining equation gives what value for $x$:"
      ],
      "metadata": {}
    },
    {
      "outputs": [],
      "cell_type": "code",
      "source": [
        "choices=[\nL\"x=(1/2) a 2^{1/2}\",\nL\"x=(1/3) a 2^{1/3}\",\nL\"x=(1/2) a^3 3^{1/3}\",\nL\"x=(1/3) a^2 2^{1/2}\"\n]\nans = 2\nradioq(choices, ans)"
      ],
      "metadata": {},
      "execution_count": null
    },
    {
      "cell_type": "markdown",
      "source": [
        "###### Question\n\nFor the equation of an ellipse:\n\n$$~\n(\\frac{x}{a})^2 + (\\frac{y}{b})^2 = 1,\n~$$\n\ncompute $d^2y/dx^2$. Is this the answer?\n\n$$~\n\\frac{d^2y}{dx^2} = -\\frac{b^2}{a^2\\cdot y} - \\frac{b^4\\cdot x^2}{a^4\\cdot y^3} = -\\frac{1}{y}\\frac{b^2}{a^2}(1 + \\frac{b^2 x^2}{a^2 y^2}).\n~$$"
      ],
      "metadata": {}
    },
    {
      "outputs": [],
      "cell_type": "code",
      "source": [
        "yesnoq(true)"
      ],
      "metadata": {},
      "execution_count": null
    },
    {
      "cell_type": "markdown",
      "source": [
        "If $y>0$ is the sign positive or negative?"
      ],
      "metadata": {}
    },
    {
      "outputs": [],
      "cell_type": "code",
      "source": [
        "choices = [\"positive\", \"negative\", \"Can be both\"]\nans = 2\nradioq(choices, ans, keep_order=true)"
      ],
      "metadata": {},
      "execution_count": null
    },
    {
      "cell_type": "markdown",
      "source": [
        "If $x>0$ is the sign positive or negative?"
      ],
      "metadata": {}
    },
    {
      "outputs": [],
      "cell_type": "code",
      "source": [
        "choices = [\"positive\", \"negative\", \"Can be both\"]\nans = 3\nradioq(choices, ans, keep_order=true)"
      ],
      "metadata": {},
      "execution_count": null
    },
    {
      "cell_type": "markdown",
      "source": [
        "When $x>0$, the graph of the equation is..."
      ],
      "metadata": {}
    },
    {
      "outputs": [],
      "cell_type": "code",
      "source": [
        "choices = [\"concave up\", \"concave down\", \"both concave up and down\"]\nans = 3\nradioq(choices, ans, keep_order=true)"
      ],
      "metadata": {},
      "execution_count": null
    }
  ],
  "nbformat_minor": 2,
  "metadata": {
    "language_info": {
      "file_extension": ".jl",
      "mimetype": "application/julia",
      "name": "julia",
      "version": "1.5.0"
    },
    "kernelspec": {
      "name": "julia-1.5",
      "display_name": "Julia 1.5.0",
      "language": "julia"
    }
  },
  "nbformat": 4
}
