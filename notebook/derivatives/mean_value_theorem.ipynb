{
  "cells": [
    {
      "cell_type": "markdown",
      "source": [
        "# The Mean Value Theorem and other facts about differentiable functions."
      ],
      "metadata": {}
    },
    {
      "outputs": [],
      "cell_type": "code",
      "source": [
        "using CalculusWithJulia\nusing CalculusWithJulia.WeaveSupport\nusing Plots\nnothing"
      ],
      "metadata": {},
      "execution_count": null
    },
    {
      "cell_type": "markdown",
      "source": [
        "A function is *continuous* at $c$ if $f(c+h) - f(c)$ goes to $0$ as $h$ goes to $0$,\nwhereas it is *differentiable* at $c$ if  the limit of  $(f(c+h) - f(c))/h$ exists as $h$ goes to $0$.\n\nWe defined a function to be *continuous* on an interval $I=(a,b)$ if\nit was continuous at each point $c$ in $I$. Similarly, we define a\nfunction to be *differentiable* on the interval $I$ it it is differentiable\nat each point $c$ in $I$.\n\nThis section looks at properties of differentiable functions. As there is a more stringent definitions, perhaps more properties are a consequence of the definition.\n\n## Differentiable is more restrictive than continuous.\n\nLet $f$ be a differentiable function on $I=(a,b)$.  For a\ndifferentiable function, the secant-line expression defining the\nderivative has a denominator that goes to $0$. For it to have a limit\nthen, the numerator must also go to $0$. That is $f(c+h) -f(c)\n\\rightarrow 0$ for each $c$. This means that:\n\n> A differentiable function on $I=(a,b)$ is continuous on $I$.\n\nIs it possible that all continuous functions are differentiable?\n\nThe fact that the derivative is related to the tangent line's slope\nmight give an indication that this won't be the case - we just need a\nfunction which is continuous but has a point with no tangent line. The\nusual suspect is $f(x) = \\lvert x\\rvert$ at $0$."
      ],
      "metadata": {}
    },
    {
      "outputs": [],
      "cell_type": "code",
      "source": [
        "using CalculusWithJulia  # Loads `SymPy`, `ForwardDiff`, `Roots`\nusing Plots\nf(x) = abs(x)\nplot(f, -1,1)"
      ],
      "metadata": {},
      "execution_count": null
    },
    {
      "cell_type": "markdown",
      "source": [
        "We can see formally that the secant line expression will not have a\nlimit when $c=0$ (the left limit is $-1$, the right limit $1$). But\nmore insight is gained by looking a the shape of the graph.  At the origin, the graph\nalways is vee-shaped. There is no linear function that approximates this function\nwell. The function is just not smooth enough, as it has a kink.\n\n\nThere are other functions that have kinks. These are often associated\nwith powers. For example, at $x=0$ this function will not have a\nderivative:"
      ],
      "metadata": {}
    },
    {
      "outputs": [],
      "cell_type": "code",
      "source": [
        "f(x) = (x^2)^(1/3)\nplot(f, -1, 1)"
      ],
      "metadata": {},
      "execution_count": null
    },
    {
      "cell_type": "markdown",
      "source": [
        "Other functions have tangent lines that become vertical. The natural slope would be $\\infty$, but this isn't a limiting answer (except in the extended sense we don't apply to the definition of derivatives). A candidate is the cube root function:"
      ],
      "metadata": {}
    },
    {
      "outputs": [],
      "cell_type": "code",
      "source": [
        "f(x) = cbrt(x)\nplot(f, -1, 1)"
      ],
      "metadata": {},
      "execution_count": null
    },
    {
      "cell_type": "markdown",
      "source": [
        "The derivative at $0$ would need to be $+\\infty$ to match the\ngraph. This is implied by the formula for the derivative from the\npower rule: $f'(x) = 1/3 \\cdot x^{-2/3}$, which has a vertical\nasymptote at $x=0$."
      ],
      "metadata": {}
    },
    {
      "outputs": [],
      "cell_type": "code",
      "source": [
        "note(\"\"\"\n\nThe `cbrt` function is used above, instead of `f(x) = x^(1/3)`, as the\nlatter is not defined for negative `x`. Though it can be for the exact\npower `1/3`, it can't be for an exact power like `1/2`. This means the\nvalue of the argument is important in determining the type of the\noutput - and not just the type of the argument. Having type-stable\nfunctions is part of the magic to making `Julia` run fast, so `x^c` is\nnot defined for negative `x` and most floating point exponents.\n\n\"\"\")"
      ],
      "metadata": {},
      "execution_count": null
    },
    {
      "cell_type": "markdown",
      "source": [
        "Lest you think that continuous functions always have derivatives\nexcept perhaps at exceptional points, this isn't the case. The\nfunctions used to\n[model](http://tinyurl.com/cpdpheb) the\nstock market are continuous but have no points where they are\ndifferentiable.\n\n\n\n## Derivatives and maxima.\n\nWe have defined an *absolute maximum* of $f(x)$ over an interval to be\na value $f(c)$ for a point $c$ in the interval that is as large as any\nother value in the interval. Just specifying a function and an\ninterval does not guarantee an absolute maximum, but specifying a\n*continuous* function and a *closed* interval does.\n\nWe say $f(x)$ has a *relative maximum* at $c$ if there exists some\ninterval $I=(a,b)$ with $a < c < b$ for which $f(c)$ is an absolute\nmaximum for $f$ and $I$.\n\nThe difference is a bit subtle, for an absolute maximum the interval\nis specified ahead of time, for a relative maximum there just needs to\nexist some interval, that can be really small, but must be bigger than a point."
      ],
      "metadata": {}
    },
    {
      "outputs": [],
      "cell_type": "code",
      "source": [
        "note(\"\"\"\n\nA hiker can appreciate the difference. A relative maximum would be the\ncrest of any hill, but an absolute maximum would be the summit.\n\n\"\"\")"
      ],
      "metadata": {},
      "execution_count": null
    },
    {
      "cell_type": "markdown",
      "source": [
        "What does this have to do with derivatives?\n\n[Fermat](http://science.larouchepac.com/fermat/fermat-maxmin.pdf),\nperhaps with insight from Kepler, was interested in maxima of\npolynomial functions. As a warm up, he considered a line segment $AC$ and a point $E$\nwith the task of choosing $E$ so that $(E-A) \\times (C-A)$ being a maximum. We might recognize this as\nfinding the maximum of $f(x) = (x-A)\\cdot(C-x)$ for some $A <\nC$. Geometrically, we know this to be at the midpoint, as the equation\nis a parabola, but Fermat was interested in an algebraic solution that\nled to more generality.\n\nHe takes $b=AC$ and  $a=AE$. Then the product is $a \\cdot (b-a) =\nab - a^2$. He then perturbs this writing $AE=a+e$, then this new\nproduct is $(a+e) \\cdot (b - a - e)$. Equating the two, and canceling\nlike terms gives $be = 2ae + e^2$. He cancels the $e$ and basically\ncomments that this must be true for all $e$ even as $e$ goes to $0$,\nso $b = 2a$ and the value is at the midpoint.\n\nIn a more modern approach, this would be the same as looking at this expression:\n\n$$~\n\\frac{f(x+e) - f(x)}{e} = 0.\n~$$\n\nWorking on the left hand side, for non-zero $e$ we can cancel the\ncommon $e$ terms, and then let $e$ become $0$.  This becomes a problem\nin solving $f'(x)=0$. Fermat could compute the derivative for any\npolynomial by taking a limit, a task we would do now by the power\nrule and the sum and difference of function rules.\n\n\nThis insight holds for other types of functions:\n\n> If $f(c)$ is a relative maximum then either $f'(c) = 0$ or the\n>  derivative at $c$ does not exist.\n\nWhen the derivative exists, this says the tangent line is flat. (If it\nhad a slope, then the the function would increase by moving left or\nright, as appropriate, a point we pursue later.)\n\n\nFor a continuous function $f(x)$, call a point $c$ in the domain of\n$f$ where either $f'(c)=0$ or the derivative does not exist a **critical**\n**point**.\n\n\nWe can combine Bolzano's extreme value theorem with Fermat's insight to get the following:\n\n> A continuous function on $[a,b]$ has an absolute maximum that occurs\n> at a critical point $c$, $a < c < b$, or an endpoint, $a$ or $b$.\n\nA similar statement holds for an absolute minimum.  This gives a\nrestricted set of places to look for absolute maximum and minimum values - all the\ncritical points and the endpoints."
      ],
      "metadata": {}
    },
    {
      "outputs": [],
      "cell_type": "code",
      "source": [
        "### {{{lhopital_32}}}\nimgfile = \"figures/lhopital-32.png\"\ncaption =  L\"\"\"\nImage number 32 from L'Hopitals calculus book (the first) showing that\nat a relative minimum, the tangent line is parallel to the\n$x$-axis. This of course is true when the tangent line is well defined\nby Fermat's observation.\n\"\"\"\nImageFile(imgfile, caption)"
      ],
      "metadata": {},
      "execution_count": null
    },
    {
      "cell_type": "markdown",
      "source": [
        "### Numeric derivatives\n\nThe `ForwardDiff` package provides a means to numerically compute derivatives without approximations at a point. In `CalculusWithJulia` this is extended to find derivatives of functions and the `'` notation is overloaded for function objects. (Through this definition `Base.adjoint(f::Function)=x->ForwardDiff.derivative(f, float(x))`.) Hence these two give nearly identical answers:"
      ],
      "metadata": {}
    },
    {
      "outputs": [],
      "cell_type": "code",
      "source": [
        "f(x) = 3x^3 - 2x\nfp(x) = 9x^2 - 2\nf'(3), fp(3)"
      ],
      "metadata": {},
      "execution_count": null
    },
    {
      "cell_type": "markdown",
      "source": [
        "##### Example\n\nFor the function $f(x) = x^2 \\cdot e^{-x}$ find the absolute maximum over the interval $[0, 5]$.\n\nWe have that $f(x)$ is continuous on the closed interval of the\nquestion, and in fact differentiable on $(0,5)$, so any critical point\nwill be a zero of the derivative. We can check for these with:"
      ],
      "metadata": {}
    },
    {
      "outputs": [],
      "cell_type": "code",
      "source": [
        "f(x) = x^2 * exp(-x)\ncps = find_zeros(f', -1, 6)     # find_zeros in `Roots`"
      ],
      "metadata": {},
      "execution_count": null
    },
    {
      "cell_type": "markdown",
      "source": [
        "We get $0$ and $2$ are critical points. The endpoints are $0$ and\n$5$. So the absolute maximum over this interval is either at $0$, $2$\nor $5$:"
      ],
      "metadata": {}
    },
    {
      "outputs": [],
      "cell_type": "code",
      "source": [
        "f(0), f(2), f(5)"
      ],
      "metadata": {},
      "execution_count": null
    },
    {
      "cell_type": "markdown",
      "source": [
        "We see that $f(2)$ is then the maximum.\n\nA few things. First, `find_zeros` can miss some roots, in particular\nendpoints and roots that just touch $0$. We should graph to verify it\ndidn't. Second, it can be easier sometimes to check the values using\nthe \"dot\" notation. If `f`, `a`,`b` are the function and the interval,\nthen this would typically follow this pattern:"
      ],
      "metadata": {}
    },
    {
      "outputs": [],
      "cell_type": "code",
      "source": [
        "a, b = 0, 5\ncps = find_zeros(f', a, b)\nf.(cps), f(a), f(b)"
      ],
      "metadata": {},
      "execution_count": null
    },
    {
      "cell_type": "markdown",
      "source": [
        "For this problem, we have the left endpoint repeated, but in general\nthis won't be a point where the derivative is zero."
      ],
      "metadata": {}
    },
    {
      "outputs": [],
      "cell_type": "code",
      "source": [
        "note(\"\"\"\n\nIf you don't like how the output has the values at critical points in a vector, the following, though a bit cryptic, could be done: `f.( (cps..., a, b) )`\n\n\"\"\")"
      ],
      "metadata": {},
      "execution_count": null
    },
    {
      "cell_type": "markdown",
      "source": [
        "##### Example\n\nFor the function $f(x) = e^x\\cdot(x^3 - x)$ find the  absolute maximum over the interval $[0, 2]$.\n\nWe follow the same pattern. Since $f(x)$ is continuous on the closed interval and differentiable on the open interval we know that the absolute maximum must occur at an endpoint ($0$ or $2$) or a critical point where $f'(c)=0$. To solve for these, we have again:"
      ],
      "metadata": {}
    },
    {
      "outputs": [],
      "cell_type": "code",
      "source": [
        "f(x) = exp(x) * (x^3 - x)\ncps = find_zeros(f', 0, 2)"
      ],
      "metadata": {},
      "execution_count": null
    },
    {
      "cell_type": "markdown",
      "source": [
        "And checking values gives:"
      ],
      "metadata": {}
    },
    {
      "outputs": [],
      "cell_type": "code",
      "source": [
        "f.(cps), f(0), f(2)"
      ],
      "metadata": {},
      "execution_count": null
    },
    {
      "cell_type": "markdown",
      "source": [
        "Here the maximum occurs at an endpoint. The critical point $c=0.67\\dots$\ndoes not produce a maximum value. Rather $f(0.67\\dots)$ is an absolute\nminimum."
      ],
      "metadata": {}
    },
    {
      "outputs": [],
      "cell_type": "code",
      "source": [
        "note(L\"\"\"\n\n**Absolute minimum** We haven't discussed the parallel problem of\n  absolute minima over a closed interval. By considering the function\n  $h(x) = - f(x)$, we see that the any thing true for an absolute\n  maximum should hold in a related manner for an absolute minimum, in\n  particular an absolute minimum on a closed interval will only occur\n  at a critical point or an end point.\n\n\"\"\")"
      ],
      "metadata": {},
      "execution_count": null
    },
    {
      "cell_type": "markdown",
      "source": [
        "## Rolle's Theorem\n\nLet $f(x)$ be differentiable on $(a,b)$ and continuous on\n$[a,b]$. Then the absolute maximum occurs at an endpoint or where the\nderivative is 0. This gives rise to:\n\n> [Rolle's](http://en.wikipedia.org/wiki/Rolle%27s_theorem) Theorem: For such $f$, if $f(a)=f(b)$, then there exists some $c$ in $(a,b)$ with $f'(c) = 0$.\n\nWe assume that $f(a)=0$, otherwise consider $g(x)=f(x)-f(a)$. By the\nextreme value theorem, there must be an absolute maximum and\nminimum. If $f(x)$ is ever positive, then the absolute maximum occurs\nin $(a,b)$ - not at an endpoint - so at a critical point where the\nderivative is $0$. Similarly if $f(x)$ is ever negative. Finally, if\n$f(x)$ is just $0$, then take any $c$ in $(a,b)$.\n\nThe statement in Rolle's theorem speaks to existence. It doesn't give\na recipe to find $c$. It just guarantees that there is *one* or *more*\nvalues in the interval $(a,b)$ where the derivative is $0$ if we\nassume differentiability on $(a,b)$ and continuity on $[a,b]$.\n\n##### Example\n\nLet $f(x) = e^x \\cdot x \\cdot (x-1)$. We know $f(0)=0$ and $f(1)=0$,\nso on $[0,1]$ we will find a zero of the derivative. In fact, this\nwon't be a simple zero (as we will see soon), so Rolle's theorem\nguarantees that this will find *at* *least* one answer (unless numeric\nissues arise):"
      ],
      "metadata": {}
    },
    {
      "outputs": [],
      "cell_type": "code",
      "source": [
        "f(x) = exp(x) * x * (x-1)\nfind_zeros(f', 0, 1)"
      ],
      "metadata": {},
      "execution_count": null
    },
    {
      "cell_type": "markdown",
      "source": [
        "This graph illustrates the lone value for $c$ for this problem"
      ],
      "metadata": {}
    },
    {
      "outputs": [],
      "cell_type": "code",
      "source": [
        "x0 = fzero(f', 0, 1)\nplot([f, x->f(x0) + 0*(x-x0)], 0, 1)"
      ],
      "metadata": {},
      "execution_count": null
    },
    {
      "cell_type": "markdown",
      "source": [
        "## The Mean Value Theorem\n\nWe are driving south and in one hour cover 70 miles. If the speed\nlimit is 65 miles per hour, were we ever speeding? We'll we averaged\nmore than the speed limit so we know the answer is yes, but why?\nSpeeding would mean our instantaneous speed was more than the speed\nlimit, yet we only know for sure our *average* speed was more than the\nspeed limit. The mean value tells us that if some conditions are met,\nthen at some point (possibly more than one) we must have that our\ninstantaneous speed is equal to our average speed.\n\nThe mean value theorem is related to Rolle's theorem, but sounds more general:\n\n> Mean Value Theorem. Let $f(x)$ be differentiable on $(a,b)$ and\n> continuous on $[a,b]$. Then there exists a value $c$ in $(a,b)$\n> where $f'(c) = (f(b) - f(a)) / (b - a)$.\n\n\nThis says for any secant line between $a < b$ there will\nbe a parallel tangent line at some $c$ with $a < c < b$ (all provided $f$\nis differentiable on $(a,b)$ and continuous on $[a,b]$).\n\n\nThis graph illustrates the theorem. The orange line is the secant\nline. A parallel line tangent to the graph is guaranteed by the mean\nvalue theorem. In this figure, there are two such lines, rendered\nusing red."
      ],
      "metadata": {}
    },
    {
      "outputs": [],
      "cell_type": "code",
      "source": [
        "f(x) = x^3 - x\na, b = -2, 1.75\nm = (f(b) - f(a)) / (b-a)\ncps = find_zeros(x -> f'(x) - m, a, b)\n\np = plot(f, a-1, b+1,         linewidth=3, legend=false)\nplot!(x -> f(a) + m*(x-a),  a-1, b+1,   linewidth=3, color=:orange)\nscatter!([a,b], [f(a), f(b)])\n\nfor cp in cps\n  plot!(x -> f(cp) + f'(cp)*(x-cp), a-1, b+1, color=:red)\nend\np"
      ],
      "metadata": {},
      "execution_count": null
    },
    {
      "cell_type": "markdown",
      "source": [
        "Like Rolle's theorem this is a guarantee that something exists, not a\nrecipe to find it. In fact, the mean value theorem is just Rolle's\ntheorem applied to:\n\n$$~\ng(x) = f(x) - (f(a) + (f(b) - f(a)) / (b-a) \\cdot (x-a))\n~$$\n\nThat is the function $f(x)$, minus the secant line between $(a,f(a))$ and $(b, f(b))$.\n\n##### Example\n\nThe mean value is an extremely useful tool for some proofs.\n\n\nFor example, suppose we have a function $f(x)$ and we know that the\nderivative is **always** $0$. What can we say about the function?\n\nWell, constant functions have derivatives that are constantly $0$. But\ndo others? Suppose we know $f'(x)=0$. Take any two values $a$ and\n$b$. Since $f'(x)$ always exists, $f(x)$ is always differentiable, and\nhence always continuous. So on $[a,b]$ the conditions of the mean\nvalue theorem apply. So there is a $c$ with $(f(b) - f(a)) / (b-a) =\nf'(c) = 0$. But this would imply $f(b) - f(a)=0$. That is $f(x)$ is a\nconstant, as for any $a$ and $b$, as $f(a)=f(b)$.\n\n### The Cauchy mean value theorem\n\n[Cauchy](http://en.wikipedia.org/wiki/Mean_value_theorem#Cauchy.27s_mean_value_theorem)\noffered an extension to the mean value theorem above. Suppose both $f$\nand $g$ satisfy the conditions of the mean value theorem on $[a,b]$ with $g(b)-g(a) \\neq 0$,\nthen there exists at least one $c$ with $a < c < b$ such that\n\n$$~\nf'(c)  = g'(c) \\cdot \\frac{f(b) - f(a)}{g(b) - g(a)}.\n~$$\n\nThe proof follows by considering $h(x) = f(x) - r\\cdot g(x)$, with $r$ chosen so that $h(a)=h(b)$. Then Rolle's theorem applies so that there is a $c$ with $h'(c)=0$, so $f'(c) = r g'(c)$, but $r$ can be seen to be $(f(b)-f(a))/(g(b)-g(a))$, which proves the theorem.\n\nLetting $g(x) = x$ demonstrates that the mean value theorem is a special case.\n\n##### Example\n\nSuppose $f(x)$ and $g(x)$ satisfy the Cauchy mean value theorem on\n$[0,x]$, $g'(x)$ is non-zero on $(0,x)$, and $f(0)=g(0)=0$. Then we have:\n\n$$~\n\\frac{f(x) - f(0)}{g(x) - g(0)} = \\frac{f(x)}{g(x)} = \\frac{f'(c)}{g'(c)},\n~$$\n\nFor some $c$ in $[0,x]$. If $\\lim_{x \\rightarrow 0} f'(x)/g'(x) = L$,\nthen the right hand side will have a limit of $L$, and hence the left\nhand side will too. That is, when the limit exists, we have under\nthese conditions that $\\lim_{x\\rightarrow 0}f(x)/g(x) =\n\\lim_{x\\rightarrow 0}f'(x)/g'(x)$.\n\nThis could be used to prove the limit of $\\sin(x)/x$ as $x$ goes to\n$0$ just by showing the limit of $\\cos(x)/1$ is $1$, as is known by\ncontinuity.\n\n### Visualizing the Cauchy mean value theorem\n\nThe Cauchy mean value theorem can be visualized in terms of a tangent\nline and a *parallel* secant line in a similar manner as the mean\nvalue theorem as long as a *parametric* graph is used. A parametric\ngraph plots the points $(g(t), f(t))$ for some range of $t$. That is,\nit graphs *both* functions at the same time. The following illustrates\nthe construction of such a graph:"
      ],
      "metadata": {}
    },
    {
      "outputs": [],
      "cell_type": "code",
      "source": [
        "### {{{parametric_fns}}}\n\nusing Printf\npyplot()\nfig_size = (600, 400)\n\n\nfunction parametric_fns_graph(n)\n    f = (x) -> sin(x)\n    g = (x) -> x\n\n    ns = (1:10)/10\n    ts = range(-pi/2, stop=-pi/2 + ns[n] * pi, length=100)\n\n    plt = plot(f, g, -pi/2, -pi/2 + ns[n] * pi, legend=false, size=fig_size,\n               xlim=(-1.1,1.1), ylim=(-pi/2-.1, pi/2+.1))\n    scatter!(plt, [f(ts[end])], [g(ts[end])], color=:orange, markersize=5)\n    val = @sprintf(\"% 0.2f\", ts[end])\n    annotate!(plt, [(0, 1, \"t = $val\")])\nend\ncaption = L\"\"\"\n\nIllustration of parametric graph of $(g(t), f(t))$ for $-\\pi/2 \\leq t\n\\leq \\pi/2$ with $g(x) = \\sin(x)$ and  $f(x) = x$. Each point on the\ngraph is from some value $t$ in the interval. We can see that the\ngraph goes through $(0,0)$ as that is when $t=0$. As well, it must go\nthrough $(1, \\pi/2)$ as that is when $t=\\pi/2$\n\n\"\"\"\n\n\nn = 10\nanim = @animate for i=1:n\n    parametric_fns_graph(i)\nend\n\nimgfile = tempname() * \".gif\"\ngif(anim, imgfile, fps = 1)\n\n\nplotly()\nImageFile(imgfile, caption)"
      ],
      "metadata": {},
      "execution_count": null
    },
    {
      "cell_type": "markdown",
      "source": [
        "With $g(x) = \\sin(x)$ and $f(x) = x$, we can take $I=[a,b] =\n[0, \\pi/2]$. In the figure below, the *secant line* is drawn in red which\nconnects $(g(a), f(a))$ with the point $(g(b), f(b))$, and hence\nhas slope $\\Delta f/\\Delta g$. The parallel lines drawn show the *tangent* lines with slope $f'(c)/g'(c)$. Two exist for this problem, the mean value theorem guarantees at least one will."
      ],
      "metadata": {}
    },
    {
      "outputs": [],
      "cell_type": "code",
      "source": [
        "g(x) = sin(x)\nf(x) = x\nts = range(-pi/2, stop=pi/2, length=50)\na,b = 0, pi/2\nm = (f(b) - f(a))/(g(b) - g(a))\ncps = find_zeros(x -> f'(x)/g'(x) - m, -pi/2, pi/2)\nc = cps[1]\nDelta = (0 + m * (c - 0)) - (g(c))\n\np = plot(g, f, -pi/2, pi/2, linewidth=3, legend=false)\nplot!(x -> f(a) + m * (x - g(a)), -1, 1, linewidth=3, color=:red)\nscatter!([g(a),g(b)], [f(a), f(b)])\nfor c in cps\n  plot!(x -> f(c) + m * (x - g(c)), -1, 1, color=:orange)\nend\n\np"
      ],
      "metadata": {},
      "execution_count": null
    },
    {
      "cell_type": "markdown",
      "source": [
        "## Questions\n\n###### Question\n\nThe extreme value theorem is a guarantee of a value, but does not provide a recipe to find it. For the function $f(x) = \\sin(x)$ on $I=[0, \\pi]$ find a value $c$ satisfying the theorem for an absolute maximum."
      ],
      "metadata": {}
    },
    {
      "outputs": [],
      "cell_type": "code",
      "source": [
        "c = pi/2\nnumericq(c)"
      ],
      "metadata": {},
      "execution_count": null
    },
    {
      "cell_type": "markdown",
      "source": [
        "###### Question\n\nThe extreme value theorem is a guarantee of a value, but does not provide a recipe to find it. For the function $f(x) = \\sin(x)$ on $I=[\\pi, 3\\pi/2]$ find a value $c$ satisfying the theorem for an absolute maximum."
      ],
      "metadata": {}
    },
    {
      "outputs": [],
      "cell_type": "code",
      "source": [
        "c = pi\nnumericq(c)"
      ],
      "metadata": {},
      "execution_count": null
    },
    {
      "cell_type": "markdown",
      "source": [
        "###### Question\n\nRolle's theorem is a guarantee of a value, but does not provide a recipe to find it. For the function $1 - x^2$ over the interval $[-5,5]$, find a value $c$ that satisfies the result."
      ],
      "metadata": {}
    },
    {
      "outputs": [],
      "cell_type": "code",
      "source": [
        "c = 0\nnumericq(c)"
      ],
      "metadata": {},
      "execution_count": null
    },
    {
      "cell_type": "markdown",
      "source": [
        "###### Question\n\nThe mean value theorem is a guarantee of a value, but does not provide a recipe to find it. For $f(x) = x^2$ on $[0,2]$ find a value of $c$ satisfying the theorem."
      ],
      "metadata": {}
    },
    {
      "outputs": [],
      "cell_type": "code",
      "source": [
        "c = 1\nnumericq(c)"
      ],
      "metadata": {},
      "execution_count": null
    },
    {
      "cell_type": "markdown",
      "source": [
        "###### Question\n\nThe Cauchy mean value theorem is a guarantee of a value, but does not provide a recipe to find it. For $f(x) = x^3$ and $g(x) = x^2$ find a value $c$ in the interval $[1, 2]$"
      ],
      "metadata": {}
    },
    {
      "outputs": [],
      "cell_type": "code",
      "source": [
        "using SymPy\nc,x = symbols(\"c, x\", real=true)\nval = solve(3c^2 / (2c) - (2^3 - 1^3) / (2^2 - 1^2), c)[1]\nnumericq(float(val))"
      ],
      "metadata": {},
      "execution_count": null
    },
    {
      "cell_type": "markdown",
      "source": [
        "###### Question\n\nWill the function $f(x) = x + 1/x$ satisfy the conditions of the mean value theorem over $[-1/2, 1/2]$?"
      ],
      "metadata": {}
    },
    {
      "outputs": [],
      "cell_type": "code",
      "source": [
        "radioq([\"Yes\", \"No\"], 2)"
      ],
      "metadata": {},
      "execution_count": null
    },
    {
      "cell_type": "markdown",
      "source": [
        "###### Question\n\nJust as it is a fact that $f'(x) = 0$ (for all $x$ in $I$) implies\n$f(x)$ is a constant, so too is it a fact that if $f'(x) = g'(x)$ that\n$f(x) - g(x)$ is a constant. What function would you consider, if you\nwanted to prove this with the mean value theorem?"
      ],
      "metadata": {}
    },
    {
      "outputs": [],
      "cell_type": "code",
      "source": [
        "choices = [\nL\"h(x) = f(x) - (f(b) - f(a)) / (b - a)\",\nL\"h(x) = f(x) - (f(b) - f(a)) / (b - a) \\cdot g(x)\",\nL\"h(x) = f(x) - g(x)\",\nL\"h(x) = f'(x) - g'(x)\"\n]\nans = 3\nradioq(choices, ans)"
      ],
      "metadata": {},
      "execution_count": null
    },
    {
      "cell_type": "markdown",
      "source": [
        "###### Question\n\nSuppose $f''(x) > 0$ on $I$. Why is it impossible that $f'(x) = 0$ at more than one value in $I$?"
      ],
      "metadata": {}
    },
    {
      "outputs": [],
      "cell_type": "code",
      "source": [
        "choices = [\nL\"It isn't. The function $f(x) = x^2$ has two zeros and $f''(x) = 2 > 0$\",\n\"By the Rolle's theorem, there is at least one, and perhaps more\",\nL\"By the mean value theorem, we must have $f'(b) - f'(a) > 0$ when ever $b > a$. This means $f'(x)$ is increasing and can't double back to have more than one zero.\"\n]\nans = 3\nradioq(choices, ans)"
      ],
      "metadata": {},
      "execution_count": null
    },
    {
      "cell_type": "markdown",
      "source": [
        "###### Question\n\nLet $f(x) = 1/x$. For $0 < a < b$, find $c$ so that $f'(c) = (f(b) - f(a)) / (b-a)$."
      ],
      "metadata": {}
    },
    {
      "outputs": [],
      "cell_type": "code",
      "source": [
        "choices = [\nL\"c = (a+b)/2\",\nL\"c = \\sqrt{ab}\",\nL\"c = 1 / (1/a + 1/b)\",\nL\"c = a + (\\sqrt{5} - 1)/2 \\cdot (b-a)\"\n]\nans = 2\nradioq(choices, ans)"
      ],
      "metadata": {},
      "execution_count": null
    },
    {
      "cell_type": "markdown",
      "source": [
        "###### Question\n\nLet $f(x) = x^2$. For $0 < a < b$, find $c$ so that $f'(c) = (f(b) - f(a)) / (b-a)$."
      ],
      "metadata": {}
    },
    {
      "outputs": [],
      "cell_type": "code",
      "source": [
        "choices = [\nL\"c = (a+b)/2\",\nL\"c = \\sqrt{ab}\",\nL\"c = 1 / (1/a + 1/b)\",\nL\"c = a + (\\sqrt{5} - 1)/2 \\cdot (b-a)\"\n]\nans = 1\nradioq(choices, ans)"
      ],
      "metadata": {},
      "execution_count": null
    },
    {
      "cell_type": "markdown",
      "source": [
        "###### Question\n\nIn an example, we used the fact that if $0 < c < x$, for some $c$ given by the mean value theorem and $f(x)$ goes to $0$ as $x$ goes to zero then $f(c)$ will also go to zero. Suppose we say that $c=g(x)$ for some function $c$.\n\nWhy is it known that $g(x)$ goes to $0$ as $x$ goes to zero (from the right)?"
      ],
      "metadata": {}
    },
    {
      "outputs": [],
      "cell_type": "code",
      "source": [
        "choices = [L\"The squeeze theorem applies, as $0 < g(x) < x$.\",\nL\"As $f(x)$ goes to zero by Rolle's theorem it must be that $g(x)$ goes to $0$.\",\nL\"This follows by the extreme value theorem, as there must be some $c$ in $[0,x]$.\"]\nans = 1\nradioq(choices, ans)"
      ],
      "metadata": {},
      "execution_count": null
    },
    {
      "cell_type": "markdown",
      "source": [
        "Since $g(x)$ goes to zero, why is it true that if $f(x)$ goes to $L$ as $x$ goes to zero that $f(g(x))$ must also have a limit $L$?"
      ],
      "metadata": {}
    },
    {
      "outputs": [],
      "cell_type": "code",
      "source": [
        "choices = [\"It isn't true. The limit must be 0\",\nL\"The squeeze theorem applies, as $0 < g(x) < x$\",\n\"This follows from the limit rules for composition of functions\"]\nans = 3\nradioq(choices, ans)"
      ],
      "metadata": {},
      "execution_count": null
    }
  ],
  "nbformat_minor": 2,
  "metadata": {
    "language_info": {
      "file_extension": ".jl",
      "mimetype": "application/julia",
      "name": "julia",
      "version": "1.5.0"
    },
    "kernelspec": {
      "name": "julia-1.5",
      "display_name": "Julia 1.5.0",
      "language": "julia"
    }
  },
  "nbformat": 4
}
