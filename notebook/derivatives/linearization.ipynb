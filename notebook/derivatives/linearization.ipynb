{
  "cells": [
    {
      "cell_type": "markdown",
      "source": [
        "# Linearization"
      ],
      "metadata": {}
    },
    {
      "outputs": [],
      "cell_type": "code",
      "source": [
        "using CalculusWithJulia\nusing CalculusWithJulia.WeaveSupport\nusing Plots\nnothing"
      ],
      "metadata": {},
      "execution_count": null
    },
    {
      "cell_type": "markdown",
      "source": [
        "The derivative of $f(x)$ has the interpretation as the slope of the\ntangent line. The tangent line is the line that best approximates the\nfunction at the point.\n\nUsing the point-slope form of a line, we see that the tangent line to the graph of $f(x)$ at $(c,f(c))$ is given by:\n\n$$~\ny = f(c) + f'(c) \\cdot (x - c).\n~$$\n\nThis is written as an equation, though we prefer to work with\nfunctions within `Julia`. Here we write such a function as an\noperator - it takes a function `f` and returns a function\nrepresenting the tangent line."
      ],
      "metadata": {}
    },
    {
      "outputs": [],
      "cell_type": "code",
      "source": [
        "tangent(f, c) = x -> f(c) + f'(c) * (x - c)"
      ],
      "metadata": {},
      "execution_count": null
    },
    {
      "cell_type": "markdown",
      "source": [
        "(Recall, the `->` indicates that an anonymous function is being generated.)\n\nThis function along with the `f'` notation, as defined in the\n`CalculusWithJulia` package, through\n`Base.adjoint(f::Function)=x->ForwardDiff.derivative(f, float(x))`,\nis loaded with:"
      ],
      "metadata": {}
    },
    {
      "outputs": [],
      "cell_type": "code",
      "source": [
        "using CalculusWithJulia\nusing Plots"
      ],
      "metadata": {},
      "execution_count": null
    },
    {
      "cell_type": "markdown",
      "source": [
        "To illustrate the tangent line, we can make some graphs:"
      ],
      "metadata": {}
    },
    {
      "outputs": [],
      "cell_type": "code",
      "source": [
        "f(x) = x^2\nplot(f, -3, 3)\nplot!(tangent(f, -1), -3, 3)\nplot!(tangent(f, 2), -3, 3)"
      ],
      "metadata": {},
      "execution_count": null
    },
    {
      "cell_type": "markdown",
      "source": [
        "The graph shows that near the point, the line and function are close,\nbut this need not be the case away from the point. We can express this informally as\n\n$$~\nf(x) \\approx f(c) + f'(c) \\cdot (x-c)\n~$$\n\nwith the understanding this applies for $x$ \"close\" to $c$.\n\nThis section gives some implications of this fact and quantifies what\n\"close\" can mean.\n\n##### Example\n\nThere are several approximations that are well known in physics, due to their widespread usage. Three are:\n\n* That $\\sin(x) \\approx x$ around $x=0$:"
      ],
      "metadata": {}
    },
    {
      "outputs": [],
      "cell_type": "code",
      "source": [
        "f(x) = sin(x)\nplot(f, -pi/2, pi/2)\nplot!(tangent(f, 0), -pi/2, pi/2)"
      ],
      "metadata": {},
      "execution_count": null
    },
    {
      "cell_type": "markdown",
      "source": [
        "* That $\\log(1 + x) \\approx x$ around $x=0$:"
      ],
      "metadata": {}
    },
    {
      "outputs": [],
      "cell_type": "code",
      "source": [
        "f(x) = log(1 + x)\nplot(f, -1/2, 1/2)\nplot!(tangent(f, 0), -1/2, 1/2)"
      ],
      "metadata": {},
      "execution_count": null
    },
    {
      "cell_type": "markdown",
      "source": [
        "* That $1/(1-x) \\approx x$ around $x=0$:"
      ],
      "metadata": {}
    },
    {
      "outputs": [],
      "cell_type": "code",
      "source": [
        "f(x) = 1/(1-x)\nplot(f, -1/2, 1/2)\nplot!(tangent(f, 0), -1/2, 1/2)"
      ],
      "metadata": {},
      "execution_count": null
    },
    {
      "cell_type": "markdown",
      "source": [
        "In each of these  cases, a more complicated non-linear function\nis well approximated in a region of interest by a simple linear\nfunction.\n\n## Numeric approximations"
      ],
      "metadata": {}
    },
    {
      "outputs": [],
      "cell_type": "code",
      "source": [
        "f(x) = sin(x)\na, b = -1/4, pi/2\n\np = plot(f, a, b, legend=false);\nplot!(p, x->x, a, b);\nplot!(p, [0,1,1], [0, 0, 1], color=:brown);\nplot!(p, [0,1,1], [0, 0, sin(1)], color=:green);\nannotate!(p, collect(zip([1/2,1+.05, 1/2-1/8], [.05, sin(1)/2, .75], [\"Δx\", \"Δy\", \"m=dy/dx\"])));\np"
      ],
      "metadata": {},
      "execution_count": null
    },
    {
      "cell_type": "markdown",
      "source": [
        "The plot shows the tangent line with slope $dy/dx$ and the actual\nchange in $y$, $\\Delta y$, for some specified $\\Delta x$. The small\ngap above the sine curve is the error were the value of the sine approximated using the drawn tangent line. We can see that approximating\nthe value of $\\Delta y = \\sin(c+\\Delta x) - \\sin(c)$ with the often\neasier to compute $f'(c)\\Delta x$ - for small enough values of\n$\\Delta x$ -  is not going to be too far off provided $\\Delta x$ is not too large.\n\nThis approximation is known as linearization. It can be used both in\ntheoretical computations and in pratical applications. To see how\neffective it is, we look at some examples.\n\n##### Example\n\nIf $f(x) = \\sin(x)$, $c=0$ and $\\Delta x= 0.1$ then the values for the actual change in the function values and the value of $\\Delta y$ are:"
      ],
      "metadata": {}
    },
    {
      "outputs": [],
      "cell_type": "code",
      "source": [
        "f(x) = sin(x)\nc, deltax = 0, 0.1\nf(c + deltax) - f(c), f'(c) * deltax"
      ],
      "metadata": {},
      "execution_count": null
    },
    {
      "cell_type": "markdown",
      "source": [
        "The values are pretty close. But what is $0.1$ radians? Lets use degrees. Suppose we have $\\Delta x = 10^\\circ$:"
      ],
      "metadata": {}
    },
    {
      "outputs": [],
      "cell_type": "code",
      "source": [
        "c, deltax = 0, 10*pi/180\nactual=f(c + deltax) - f(c)\napprox = f'(c) * deltax\nactual, approx"
      ],
      "metadata": {},
      "execution_count": null
    },
    {
      "cell_type": "markdown",
      "source": [
        "They agree until the third decimal value. The *percentage error* is just $1/2$ a percent:"
      ],
      "metadata": {}
    },
    {
      "outputs": [],
      "cell_type": "code",
      "source": [
        "(approx - actual) / actual * 100"
      ],
      "metadata": {},
      "execution_count": null
    },
    {
      "cell_type": "markdown",
      "source": [
        "##### Example\n\nWe are traveling 60 miles. At 60 miles an hour, we will take 60 minutes (or one hour). How long will it take at 70 miles an hour? (Assume you can't divide, but, instead, can only multiply!)\n\n\nWell the answer is $60/70$ hours or $60/70 \\cdot 60$ minutes. But we\ncan't divide, so we turn this into a multiplication problem via some algebra:\n\n$$~\n\\frac{60}{70} = \\frac{60}{60 + 10} = \\frac{1}{1 + 10/60} = \\frac{1}{1 + 1/6}.\n~$$\n\nOkay, so far no calculator was needed. We wrote $70 = 60 + 10$, as we\nknow that $60/60$ is just $1$. This almost gets us there. If we really\ndon't want to divide, we can get an answer by using the tangent line\napproximation for $1/(1+x)$ around $x=0$. This is $1/(1+x) \\approx 1 -\nx$. (You can check by finding that $f'(0) = -1$.) Thus, our answer is\napproximately $5/6$ of an hour or 50 minutes.\n\nHow much in error are we?"
      ],
      "metadata": {}
    },
    {
      "outputs": [],
      "cell_type": "code",
      "source": [
        "abs(50 - 60/70*60) / (60/70*60) * 100"
      ],
      "metadata": {},
      "execution_count": null
    },
    {
      "cell_type": "markdown",
      "source": [
        "That's about $3$ percent. Not bad considering we could have done all\nthe above in our head while driving without taking our eyes off the\nroad to use the calculator on our phone for a division.\n\n##### Example\n\nA 10cm by 10cm by 10cm cube will contain 1 liter (1000cm$^3$). In\nmanufacturing such a cube, the side lengths are actually $10.1$\ncm. What will be the volume in liters? Compute this with a linear\napproximation to $(10.1)^3$.\n\nHere $f(x) = x^3$ and we are asked to approximate $f(10.1)$. Letting $c=10$, we have:\n\n$$~\nf(c + \\Delta) \\approx f(c) + f'(c) \\cdot \\Delta = 1000 + f'(c) \\cdot (0.1)\n~$$\n\nComputing the derivative can be done easily, we get for our answer:"
      ],
      "metadata": {}
    },
    {
      "outputs": [],
      "cell_type": "code",
      "source": [
        "fp(x) = 3*x^2\nc, Delta = 10, 0.1\napprox = 1000 + fp(c) * Delta"
      ],
      "metadata": {},
      "execution_count": null
    },
    {
      "cell_type": "markdown",
      "source": [
        "This is a relative error as a percent of:"
      ],
      "metadata": {}
    },
    {
      "outputs": [],
      "cell_type": "code",
      "source": [
        "actual = 10.1^3\n(actual - approx)/actual * 100"
      ],
      "metadata": {},
      "execution_count": null
    },
    {
      "cell_type": "markdown",
      "source": [
        "The manufacturer may be interested instead in comparing the volume of the actual object to the $1$ liter target. They might use the approximate value for this comparison, which would yield:"
      ],
      "metadata": {}
    },
    {
      "outputs": [],
      "cell_type": "code",
      "source": [
        "(1000 - approx)/approx * 100"
      ],
      "metadata": {},
      "execution_count": null
    },
    {
      "cell_type": "markdown",
      "source": [
        "This is off by about $3$ percent. Not so bad for some applications, devastating for others.\n\n##### Example from physics\n\nA *simple* pendulum is comprised of a massless \"bob\" on a rigid \"rod\"\nof length $l$. The rod swings back and forth making an angle $\\theta$\nwith the perpendicular. At rest $\\theta=0$, here we have $\\theta$ swinging with $\\lvert\\theta\\rvert \\leq \\theta_0$\nfor some $\\theta_0$.\n\nAccording to [Wikipedia](http://tinyurl.com/yz5sz7e) - and many\nintroductory physics book - while swinging, the angle $\\theta$ varies\nwith time following this equation:\n\n$$~\n\\theta''(t) + \\frac{g}{l} \\sin(\\theta(t)) = 0.\n~$$\n\nThat is, the second derivative of $\\theta$ is proportional to the sine\nof $\\theta$ where the proportionality constant involves $g$ from\ngravity and the length of the \"rod.\"\n\nThis would be much easier if the second derivative were proportional to the angle $\\theta$ and not its sine.\n\n[Huygens](http://en.wikipedia.org/wiki/Christiaan_Huygens) used the\napproximation of $\\sin(x) \\approx x$, noted above, to say that when\nthe angle is not too big, we have the pendulum's swing obeying\n$\\theta''(t) = -g/l \\cdot t$. Without getting too involved in why,\nwe can verify by taking two derivatives that $\\theta_0\\sin(\\sqrt{g/l}\\cdot t)$ will be a solution to this\nmodified equation.\n\nThis says the motion is periodic with constant amplitude (assuming frictionless behaviour), as\nthe sine function is. More surprisingly, the period is found from $T =\n2\\pi/(\\sqrt{g/l}) = 2\\pi \\sqrt{l/g}$. It depends on $l$ - longer\n\"rods\" take more time to swing back and forth - but does not depend\non the how wide the pendulum is swinging between (provided $\\theta_0$\nis not so big the approximation of $\\sin(x) \\approx x$ fails). This\nlatter fact may be surprising, though not to Galileo who discovered\nit.\n\n\n\n\n## The actual error\n\nHow good is the approximation? Graphically we can see it is pretty\ngood for the graphs we choose, but are there graphs out there for\nwhich the approximation is not so good?  Of course. However, we can\nsay this (the\n[Lagrange](http://en.wikipedia.org/wiki/Taylor%27s_theorem) form of a\nmore general Taylor remainder theorem):\n\n> Let $f(x)$ be twice differentiable on $I=(a,b)$, and $a < c <\n> b$. Then for any $x$ in $I$, there exists some value $\\xi$ between $c$  and $x$ such that\n> $$~f(x) = f(c) + f'(c)(x-c) + f''(\\xi)\\cdot(x-c)^2/2.~$$\n\nThat is, the error is basically a constant depending on the concavity\nof $f$ times a quadratic function centered at $c$.\n\nFor $\\sin(x)$ at $c=0$ we get $\\lvert\\sin(x) - x\\rvert = \\lvert-\\sin(\\xi)\\cdot x^2/2\\rvert$.\nSince $\\lvert\\sin(\\xi)\\rvert \\leq 1$, we must have this bound:\n$\\lvert\\sin(x) - x\\rvert \\leq x^2/2$.\n\n\nCan we verify? Let's do so graphically:"
      ],
      "metadata": {}
    },
    {
      "outputs": [],
      "cell_type": "code",
      "source": [
        "h(x) = abs(sin(x) - x)\ng(x) = x^2/2\nplot(h, -2, 2)\nplot!(g, -2, 2)"
      ],
      "metadata": {},
      "execution_count": null
    },
    {
      "cell_type": "markdown",
      "source": [
        "Similarly, for $f(x) = \\log(1 + x)$ we have the following at $c=0$:\n\n$$~\nf'(x) = 1/(1+x), \\quad f''(x) = -1/(1+x)^2.\n~$$\n\nSo, as $f(c)=0$ and $f'(c) = 1$, we have\n\n$$~\n\\lvert f(x) - x\\rvert \\leq \\lvert f''(\\xi)\\rvert \\cdot \\frac{x^2}{2}\n~$$\n\nWe see that $\\lvert f''(x)\\rvert$ is decreasing for $x > -1$. So if $-1 < x < c$ we have\n\n$$~\n\\lvert f(x) - x\\rvert \\leq \\lvert f''(x)\\rvert \\cdot \\frac{x^2}{2} = \\frac{x^2}{2(1+x)^2}.\n~$$\n\nAnd for  $c=0 < x$, we have\n\n$$~\n\\lvert f(x) - x\\rvert \\leq \\lvert f''(0)\\rvert \\cdot \\frac{x^2}{2} = x^2/2.\n~$$\n\n\nPlotting we verify:"
      ],
      "metadata": {}
    },
    {
      "outputs": [],
      "cell_type": "code",
      "source": [
        "h(x) = abs(log(1+x) - x)\ng(x) = x < 0 ? x^2/(2*(1+x)^2) : x^2/2\nplot(h, -0.5, 2)\nplot!(g, -0.5, 2)"
      ],
      "metadata": {},
      "execution_count": null
    },
    {
      "cell_type": "markdown",
      "source": [
        "### Why is the remainder term as it is?\n\nTo see formally why the remainder is as it is, we recall the mean value\ntheorem in the extended form of Cauchy. Suppose $c=0$ and let $h(x) = f(x) - (f(0) +\nf'(0) x)$ and $g(x) = x^2$. Then we have that there exists a $e$ with\n$0 < e < x$ such that\n\n$$~\n\\text{error} = h(x) - h(0) = (g(x) - g(0)) \\frac{h'(e)}{g'(e)} = x^2 \\cdot \\frac{1}{2} \\cdot \\frac{f'(e) - f'(0)}{e} =\nx^2 \\cdot \\frac{1}{2} \\cdot f''(\\xi).\n~$$\n\nThe value of $\\xi$, from the mean value theorem applied to $f'(x)$,\nsatisfies $0 < \\xi < e < x$, so is in $[0,x]$.\n\n### The big (and small) \"oh\"\n\n`SymPy` can find the tangent line expression as a special case of its `series` function (which implements Taylor series). Here we see the answer provided for $e^{\\sin(x)}$:"
      ],
      "metadata": {}
    },
    {
      "outputs": [],
      "cell_type": "code",
      "source": [
        "@vars x\nseries(exp(sin(x)), x, 0, 2)"
      ],
      "metadata": {},
      "execution_count": null
    },
    {
      "cell_type": "markdown",
      "source": [
        "We see the expression $1 + x$ which comes from the fact that `exp(sin(0))` is $1$, and the derivative `exp(sin(0)) * cos(0)` is *also* $1$. But what is the $\\mathcal{O}(x^2)$?\n\nWe know the answer is *precisely* $f''(\\xi)/2 \\cdot x^2$, but were we\nonly concerned about the scale as $x$ goes to zero we would say this\nis some well-behaved value (converging to $1 - f''(0)/2$) times\n$x^2$. The [big](http://en.wikipedia.org/wiki/Big_O_notation) \"oh\"\nnotation says just that: were we take this term and divide by $x^2$\nthe limit - if it exists - would be bounded. A little \"oh\" (e.g., $\\mathcal{o}(x^2)$) would mean\nthat limit would be $0$.\n\nBig \"oh\" and little \"oh\" give us a sense of how good an approximation\nis without being bogged down in the details of the exact value. As\nsuch they are useful guides in focusing on what is primary and what is\nsecondary. Applying this to our case, we have this rough form of the\ntangent line approximation valid for functions having a second\nderivative:\n\n$$~\nf(x) = f(c) + f'(c)(x-c) + \\mathcal{O}((x-c)^2).\n~$$\n\n##### Example: the algebra of tangent line approximations\n\nSuppose $f(x)$ and $g(x)$ are represented by their tangent lines about $c$, respectively:\n\n$$~\nf(x) = f(c) + f'(c)(x-c) + \\mathcal{O}((x-c)^2), \\quad\ng(x) = g(c) + g'(c)(x-c) + \\mathcal{O}((x-c)^2).\n~$$\n\nConsider the sum, after rearranging we have:\n\n$$~\n\\begin{align}\nf(x) + g(x) &=  f(c) + f'(c)(x-c) + \\mathcal{O}((x-c)^2) + g(c) + g'(c)(x-c) + \\mathcal{O}((x-c)^2)\\\\\n&= (f(c) + g(c)) + (f'(c)+g'(c))(x-c) + \\mathcal{O}((x-c)^2).\n\\end{align}\n~$$\n\nThe two big \"Oh\" terms become just one as the sum of a constant times $(x-c)^2$ plus a constant time $(x-c)^2$ is just some other constant times $(x-c)^2$. What we can read off from this is the term multiplying $(x-c)$ is just the derivative of $f(x) + g(x)$ (from the sum rule), so this too is a tangent line approximation.\n\n\nIs it a coincidence that s basic algebraic operation wit tangent lines approximations produces a tangent line approximation? Let's try multiplication:\n\n$$~\n\\begin{align}\nf(x) \\cdot g(x) &=  [f(c) + f'(c)(x-c) + \\mathcal{O}((x-c)^2)] \\cdot [g(c) + g'(c)(x-c) + \\mathcal{O}((x-c)^2)]\\\\\n&=[(f(c) + f'(c)(x-c)] \\cdot  [g(c) + g'(c)(x-c)] + (f(c) + f'(c)(x-c) \\cdot \\mathcal{O}((x-c)^2)) + g(c) + g'(c)(x-c) \\cdot \\mathcal{O}((x-c)^2)) + [\\mathcal{O}((x-c)^2))]^2\\\\\n&= [(f(c) + f'(c)(x-c)] \\cdot  [g(c) + g'(c)(x-c)] + \\mathcal{O}((x-c)^2)\\\\\n&= f(c) \\cdot g(c) + [f'(c)\\cdot g(c) + f(c)\\cdot g'(c)] \\cdot (x-c) + [f'(c)\\cdot g'(c) \\cdot (x-c)^2 + \\mathcal{O}((x-c)^2)] \\\\\n&= f(c) \\cdot g(c) + [f'(c)\\cdot g(c) + f(c)\\cdot g'(c)] \\cdot (x-c) + \\mathcal{O}((x-c)^2)\n\\end{align}\n~$$\n\nThe big \"oh\" notation just sweeps up many things including any products of it *and* the term $f'(c)\\cdot g'(c) \\cdot (x-c)^2$. Again, we see from the product rule that this is just a tangent line approximation for $f(x) \\cdot g(x)$.\n\nIn conclusion, basic mathematical operations involving tangent lines can be computed just using the tangent lines when the desired accuracy is at the tangent line level. This is even true for composition, though there the outer and inner functions may have different \"$c$\"s.\n\nKnowing this can simplify the task of finding tangent line approximations of compound expressions.\n\nFor example, suppose we know that at $c=0$ we have these formula where $a \\approx b$ is a shorthand for the more formal $a=b + \\mathcal{O}(x^2)$:\n\n$$~\n\\sin(x) \\approx x, \\quad e^x \\approx 1 + x, \\quad \\text{and}\\quad 1/(1+x) \\approx 1 - x.\n~$$\n\nThen we can immediately see these tangent line approximations about $x=0$:\n\n\n$$~\ne^x \\cdot \\sin(x) \\approx (1+x) \\cdot x = x + x^2 \\approx x,\n~$$\n\nand\n\n$$~\n\\frac{\\sin(x)}{e^x} \\approx \\frac{x}{1 + x} \\approx x \\cdot(1-x) = x-x^2 \\approx x.\n~$$\n\n\nSince $\\sin(0) = 0$, we can use these to find the tangent line approximation of\n\n$$~\ne^{\\sin(x)} \\approx e^x \\approx 1 + x.\n~$$\n\n\nNote that $\\sin(\\exp(x))$ is approximately $\\sin(1+x)$ but not approximately $1+x$, as the expansion for $\\sin$ about $1$ is not simply $x$.\n\n\n\n\n## Questions\n\n###### Question\n\nWhat is the right linear approximation for $\\sqrt{1 + x}$ near $0$?"
      ],
      "metadata": {}
    },
    {
      "outputs": [],
      "cell_type": "code",
      "source": [
        "choices = [\nL\"1 + 1/2\",\nL\"1 + x^{1/2}\",\nL\"1 + (1/2)\\cdot x\",\nL\"1 - (1/2) \\cdot x\"]\nans = 3\nradioq(choices, ans)"
      ],
      "metadata": {},
      "execution_count": null
    },
    {
      "cell_type": "markdown",
      "source": [
        "###### Question\n\n\nWhat is the right linear approximation for $(1 + x)^k$ near $0$?"
      ],
      "metadata": {}
    },
    {
      "outputs": [],
      "cell_type": "code",
      "source": [
        "choices = [\nL\"1 + k\",\nL\"1 + x^k\",\nL\"1 + k\\cdot x\",\nL\"1 - k \\cdot x\"]\nans = 3\nradioq(choices, ans)"
      ],
      "metadata": {},
      "execution_count": null
    },
    {
      "cell_type": "markdown",
      "source": [
        "###### Question\n\nWhat is the right linear approximation for $\\cos(\\sin(x))$ near $0$?"
      ],
      "metadata": {}
    },
    {
      "outputs": [],
      "cell_type": "code",
      "source": [
        "choices = [\nL\"1\",\nL\"1 + x\",\nL\"x\",\nL\"1 - x^2/2\"\n]\nans = 1\nradioq(choices, ans)"
      ],
      "metadata": {},
      "execution_count": null
    },
    {
      "cell_type": "markdown",
      "source": [
        "###### Question\n\nWhat is the  right linear approximation for $\\tan(x)$ near $0$?"
      ],
      "metadata": {}
    },
    {
      "outputs": [],
      "cell_type": "code",
      "source": [
        "choices = [\nL\"1\",\nL\"x\",\nL\"1 + x\",\nL\"1 - x\"\n]\nans = 2\nradioq(choices, ans)"
      ],
      "metadata": {},
      "execution_count": null
    },
    {
      "cell_type": "markdown",
      "source": [
        "###### Question\n\nWhat is the right linear approximation of $\\sqrt{25 + x}$ near $x=0$?"
      ],
      "metadata": {}
    },
    {
      "outputs": [],
      "cell_type": "code",
      "source": [
        "choices = [\nL\"5 \\cdot (1 + (1/2) \\cdot (x/25))\",\nL\"1 - (1/2) \\cdot x\",\nL\"1 + x\",\nL\"25\"\n]\nans = 1\nradioq(choices, ans)"
      ],
      "metadata": {},
      "execution_count": null
    },
    {
      "cell_type": "markdown",
      "source": [
        "###### Question\n\n\nLet $f(x) = \\sqrt{x}$. Find the actual error in approximating $f(26)$ by the\nvalue of the tangent line at $(25, f(25))$ at $x=26$."
      ],
      "metadata": {}
    },
    {
      "outputs": [],
      "cell_type": "code",
      "source": [
        "tgent(x) = 5 + x/10\nans = tgent(1) - sqrt(26)\nnumericq(ans)"
      ],
      "metadata": {},
      "execution_count": null
    },
    {
      "cell_type": "markdown",
      "source": [
        "###### Question\n\nAn estimate of some quantity was $12.34$ the actual value was $12$. What was the *percentage error*?"
      ],
      "metadata": {}
    },
    {
      "outputs": [],
      "cell_type": "code",
      "source": [
        "est = 12.34\nact = 12.0\nans = (est -act)/act * 100\nnumericq(ans)"
      ],
      "metadata": {},
      "execution_count": null
    },
    {
      "cell_type": "markdown",
      "source": [
        "###### Question\n\nFind the percentage error in estimating $\\sin(5^\\circ)$ by $5 \\pi/180$."
      ],
      "metadata": {}
    },
    {
      "outputs": [],
      "cell_type": "code",
      "source": [
        "tl(x) = x\nx0 = 5 * pi/180\nest = x0\nact = sin(x0)\nans = (est -act)/act * 100\nnumericq(ans)"
      ],
      "metadata": {},
      "execution_count": null
    },
    {
      "cell_type": "markdown",
      "source": [
        "###### Question\n\nThe side length of a square is measured roughly to be $2.0$ cm. The actual length $2.2$ cm. What is the difference in area (in absolute values) as *estimated* by a tangent line approximation."
      ],
      "metadata": {}
    },
    {
      "outputs": [],
      "cell_type": "code",
      "source": [
        "tl(x) = 4 + 4x\nans = tl(.2) - 4\nnumericq(abs(ans))"
      ],
      "metadata": {},
      "execution_count": null
    }
  ],
  "nbformat_minor": 2,
  "metadata": {
    "language_info": {
      "file_extension": ".jl",
      "mimetype": "application/julia",
      "name": "julia",
      "version": "1.5.0"
    },
    "kernelspec": {
      "name": "julia-1.5",
      "display_name": "Julia 1.5.0",
      "language": "julia"
    }
  },
  "nbformat": 4
}
