{
  "cells": [
    {
      "cell_type": "markdown",
      "source": [
        "# Optimization"
      ],
      "metadata": {}
    },
    {
      "outputs": [],
      "cell_type": "code",
      "source": [
        "using CalculusWithJulia\nusing CalculusWithJulia.WeaveSupport\nusing Plots\nnothing"
      ],
      "metadata": {},
      "execution_count": null
    },
    {
      "cell_type": "markdown",
      "source": [
        "This section discusses a basic application of calculus to answer\nquestions which relate to the largest or smallest a function can be given\nsome constraints.\n\n\nFor example,\n\n\n> Of all rectangles with perimeter 20, which has of the largest area?\n\n\nThe main tool is the extreme value theorem of Bolzano and Fermat's\ntheorem about critical points: If the function $f(x)$ is continuous on\n$[a,b]$ and differentiable on $(a,b)$, then the extrema exist and must\noccur at either an end point or a critical point.\n\n\nThough not all of our problems lend themselves to a description of a\ncontinuous function on a closed interval, if they do, we have an\nalgorithmic prescription to find the absolute extrema of a function:\n\n1) Find the critical points. For this we will can use a root-finding function like `find_zero`.\n\n2) Evaluate the function values at the critical points and at the end points.\n\n3) Identify the largest and smallest values.\n\nWith the computer we can take some shortcuts, as we will be able to\ngraph our function to see where the extreme values will be.\n\n## Fixed perimeter and area\n\nThe simplest way to investigate the maximum or minimum value of a\nfunction over a closed interval is to just graph it and look.\n\nWe begin with the question of which rectangles of perimeter 20 have\nthe largest area? The figure shows a few different rectangles with\nthis perimeter and their respective areas."
      ],
      "metadata": {}
    },
    {
      "outputs": [],
      "cell_type": "code",
      "source": [
        "### {{{perimeter_area_graphic}}}\npyplot()\nfig_size = (400, 400)\n\n\nfunction perimeter_area_graphic_graph(n)\n    h = 1 + 2n\n    w = 10-h\n    plt = plot([0,0,w,w,0], [0,h,h,0,0], legend=false, size=fig_size,\n               xlim=(0,10), ylim=(0,10))\n    scatter!(plt, [w], [h], color=:orange, markersize=5)\n    annotate!(plt, [(w/2, h/2, \"Area=$(round(w*h,digits=1))\")])\n    plt\nend\n\ncaption = \"\"\"\n\nSome possible rectangles that satisfy the constraint on the perimeter and their area.\n\n\"\"\"\nn = 6\nanim = @animate for i=1:n\n    perimeter_area_graphic_graph(i-1)\nend\n\nimgfile = tempname() * \".gif\"\ngif(anim, imgfile, fps = 1)\n\nplotly()\nImageFile(imgfile, caption)"
      ],
      "metadata": {},
      "execution_count": null
    },
    {
      "cell_type": "markdown",
      "source": [
        "The basic mathematical approach is to find a function of a single\nvariable to maximize or minimize. In this case we have two variables\ndescribing a rectangle: a base $b$ and height $h$. Our formulas are the area of a rectangle:\n\n$$~\nA = bh,\n~$$\n\nand the formula for the perimeter of a rectangle:\n\n$$~\nP = 2b + 2h = 20.\n~$$\n\nFrom this last one, we see that $b$ can be no bigger than 10 and no\nsmaller than 0 from the restriction put in place through the\nperimeter. Solving for $h$ in terms of $b$ then yields this\nrestatement of the problem:\n\nMaximize $A(b) = b \\cdot (10 - b)$ over the interval $[0,10]$.\n\nThis is exactly the form needed to apply our theorem about the\nexistence of extrema (a continuous function on a closed\ninterval). Rather than solve analytically by taking a derivative, we\nsimply graph to find the value:"
      ],
      "metadata": {}
    },
    {
      "outputs": [],
      "cell_type": "code",
      "source": [
        "using CalculusWithJulia   #  `ForwardDiff`, `Roots`, `SymPy`\nusing Plots\nA(b) = b * (10 - b)\nplot(A, 0, 10)"
      ],
      "metadata": {},
      "execution_count": null
    },
    {
      "cell_type": "markdown",
      "source": [
        "You should see the maximum occurs at $b=5$ by symmetry, so $h=5$ as\nwell, and the maximum area is then $25$. This gives the satisfying\nanswer that among all rectangles of fixed perimeter, that with the\nlargest area is a square. As well, this indicates a common result:\nthere is often some underlying symmetry in the answer.\n\n### Exploiting polymorphism\n\nBefore moving on, let's see a slightly different way to do this\nproblem with `Julia`, where we trade off some algebra for a bit of\nabstraction. This was discussed in the section on\n[functions](../precalc/functions.html). Let's first write area as a\nfunction of both base and height:"
      ],
      "metadata": {}
    },
    {
      "outputs": [],
      "cell_type": "code",
      "source": [
        "A(b, h) = b*h"
      ],
      "metadata": {},
      "execution_count": null
    },
    {
      "cell_type": "markdown",
      "source": [
        "Here we write area, quite naturally, as a function of two variables.\n\n\nThen from the constraint given by the perimeter being a fixed value we\ncan solve for `h` in terms of `b`. We write this as a function:"
      ],
      "metadata": {}
    },
    {
      "outputs": [],
      "cell_type": "code",
      "source": [
        "h(b) = (20 - 2b) / 2"
      ],
      "metadata": {},
      "execution_count": null
    },
    {
      "cell_type": "markdown",
      "source": [
        "Then to get `A(b)` we simply need to substitute `h(b)` into our\nformula for the area, `A`. However, instead of doing the substitution\nourselves using algebra we let `Julia` do it through composition of\nfunctions:"
      ],
      "metadata": {}
    },
    {
      "outputs": [],
      "cell_type": "code",
      "source": [
        "A(b) = A(b, h(b))"
      ],
      "metadata": {},
      "execution_count": null
    },
    {
      "cell_type": "markdown",
      "source": [
        "From this we can solve graphically as before, or numerically.\nWe search for zeros of the derivative:"
      ],
      "metadata": {}
    },
    {
      "outputs": [],
      "cell_type": "code",
      "source": [
        "find_zeros(A', 0, 10)   # find_zeros in `Roots`,"
      ],
      "metadata": {},
      "execution_count": null
    },
    {
      "outputs": [],
      "cell_type": "code",
      "source": [
        "alert(\"\"\"\n\nLook at the last definition of `A`. The function `A` appears on both sides, though on the left side with one argument and on the right with two. These are two \"methods\" of a *generic* function, `A`. `Julia` allows multiple definitions for the same name as long as the arguments (their number and type) can disambiguate which to use. In this instance, when one argument is passed in then the last defintion is used (`A(b,h(b))`), whereas if two are passed in, then the method that multiplies both arguments is used. The advantage of multiple dispatch is illustrated: the same concept - area - has one function name, though there may be different ways to compute the area, so there is more than one implementation.\n\n\"\"\")"
      ],
      "metadata": {},
      "execution_count": null
    },
    {
      "cell_type": "markdown",
      "source": [
        "### Norman Windows\n\nHere is a similar, though more complicated, example where the analytic\napproach can be a bit more tedious, but the graphical one mostly\nsatisfying, though we do use  a numerical algorithm to find\nan exact final answer.\n\nLet a \"[Norman](https://en.wikipedia.org/wiki/Norman_architecture)\"\nwindow consist of a rectangular window of top length $x$ and side\nlength $y$ and a half circle on top. The goal is to maximize the area\nfor a fixed value of the perimeter. Again, assume this perimeter is 20\nunits.\n\nThis figure shows two such windows, one with base length given by\n$x=4$, the other with base length given by $x=3$. The one with base\nlength $4$ seems to have much bigger area, what value of $x$ will lead to the largest area?"
      ],
      "metadata": {}
    },
    {
      "outputs": [],
      "cell_type": "code",
      "source": [
        "ts = range(0, stop=pi, length=50)\nx1,y1 = 4, 4.85840\nx2,y2 = 3, 6.1438\ndelta = 4\np = plot(delta .+ x1*[0, 1,1,0], y1*[0,0,1,1],          linetype=:polygon, fillcolor=:blue, legend=false)\nplot!(p, x2*[0, 1,1,0], y2*[0,0,1,1],                linetype=:polygon, fillcolor=:blue)\n\nplot!(p, delta .+ x1/2 .+ x1/2*cos.(ts), y1.+x1/2*sin.(ts), linetype=:polygon, fillcolor=:red)\nplot!(p, x2/2 .+ x2/2*cos.(ts), y2 .+ x2/2*sin.(ts),         linetype=:polygon, fillcolor=:red)\np"
      ],
      "metadata": {},
      "execution_count": null
    },
    {
      "cell_type": "markdown",
      "source": [
        "For this problem, we have two equations.\n\nThe area is the area of the rectangle plus the area of the half circle ($\\pi r^2/2$ with $r=x/2$).\n\n$$~\nA = xy + \\pi(x/2)^2/2\n~$$\n\nIn `Julia` this is"
      ],
      "metadata": {}
    },
    {
      "outputs": [],
      "cell_type": "code",
      "source": [
        "A(x, y) = x*y + pi*(x/2)^2 / 2"
      ],
      "metadata": {},
      "execution_count": null
    },
    {
      "cell_type": "markdown",
      "source": [
        "The perimeter consists of 3 sides of the rectangle and the perimeter\nof half a circle ($\\pi r$, with $r=x/2$):\n\n$$~\nP = 2y + x + \\pi(x/2) = 20\n~$$\n\nWe solve for $y$ in the first with $y = (20 - x - \\pi(x/2))/2$ so that in `julia` we have:"
      ],
      "metadata": {}
    },
    {
      "outputs": [],
      "cell_type": "code",
      "source": [
        "y(x) = (20 - x - pi * x/2) / 2"
      ],
      "metadata": {},
      "execution_count": null
    },
    {
      "cell_type": "markdown",
      "source": [
        "And then we substitute in `y(x)` for `y` in the area formula through:"
      ],
      "metadata": {}
    },
    {
      "outputs": [],
      "cell_type": "code",
      "source": [
        "A(x) = A(x, y(x))"
      ],
      "metadata": {},
      "execution_count": null
    },
    {
      "cell_type": "markdown",
      "source": [
        "Of course both $x$ and $y$ are non-negative. The latter forces $x$ to\nbe no more than $x=20/(1+\\pi/2)$.\n\nThis leaves us the calculus problem of finding an absolute maximum of\na continuous function over the closed interval\n$[0, 20/(1+\\pi/2)]$. Our theorem tells us this maximum must occur, we\nnow proceed to find it.\n\nWe begin by simply graphing and estimating the values of the maximum and\nwhere it occurs."
      ],
      "metadata": {}
    },
    {
      "outputs": [],
      "cell_type": "code",
      "source": [
        "plot(A, 0, 20/(1+pi/2))"
      ],
      "metadata": {},
      "execution_count": null
    },
    {
      "cell_type": "markdown",
      "source": [
        "The naked eye sees that maximum value is somewhere around $27$ and\noccurs at $x\\approx 5.6$. Clearly from the graph, we know the maximum\nvalue happens at the critical point and there is only one such\ncritical point.\n\nAs reading the maximum from the graph is more difficult than reading a\n$0$ of a function, we plot the derivative using our approximate\nderivative."
      ],
      "metadata": {}
    },
    {
      "outputs": [],
      "cell_type": "code",
      "source": [
        "plot(A', 5.5, 5.7)"
      ],
      "metadata": {},
      "execution_count": null
    },
    {
      "cell_type": "markdown",
      "source": [
        "We confirm that the critical point is around $5.6$.\n\n(As a reminder, the notation `A'` is defined in `CalculusWithJulia` through `Base.adjoint(f::Function)=x->ForwardDiff.derivative(f, float(x))`.)\n\n#### Using `find_zero` to locate critical points.\n\nRather than zoom in graphically, we now use a root-finding algorithm,\nto find a more precise value. We know that the maximum will occur at a\ncritical point, a zero of the derivative. The `find_zero`\nfunction from the `Roots` package provides a non-linear root-finding\nalgorithm based on the bisection method. The only thing to keep\ntrack of is that solving $f'(x) = 0$ means we use the derivative and\nnot the original function.\n\nWe see from the graph that $[0, 20/(1+\\pi/2)]$ will provide a bracket, as there is only one relative maximum:"
      ],
      "metadata": {}
    },
    {
      "outputs": [],
      "cell_type": "code",
      "source": [
        "x = find_zero(A', (0, 20/(1+pi/2)))"
      ],
      "metadata": {},
      "execution_count": null
    },
    {
      "cell_type": "markdown",
      "source": [
        "The value `x` is the critical point, and in this case gives\nthe position of the value that will maximize the function. This value is\nsometimes referred to as the *argmax*, or argument which maximizes the\nfunction. The value and maximum area is then given by:"
      ],
      "metadata": {}
    },
    {
      "outputs": [],
      "cell_type": "code",
      "source": [
        "(x, A(x))"
      ],
      "metadata": {},
      "execution_count": null
    },
    {
      "cell_type": "markdown",
      "source": [
        "(Compare this answer to the previous, is the square the figure of\ngreatest area for a fixed perimeter, or just the figure amongst all\nrectangles? See [Isoperimetric inequality](https://en.wikipedia.org/wiki/Isoperimetric_inequality) for an answer.)\n\n#### A symbolic approach\n\nWe could also do the above problem symbolically with the aid of `SymPy`. Here are the steps:"
      ],
      "metadata": {}
    },
    {
      "outputs": [],
      "cell_type": "code",
      "source": [
        "@vars width height real=true\n\nArea  = width * height + pi * (width/2)^2 / 2\nPerim = 2*height + width + pi * width/2\nh0    = solve(Perim - 20, height)[1]\nArea  = Area(height=> h0)\nw0    = solve(diff(Area,width), width)[1]"
      ],
      "metadata": {},
      "execution_count": null
    },
    {
      "cell_type": "markdown",
      "source": [
        "We know that `w0` is the maximum in this example from our previous\nwork. We shall see soon, that just knowing that the second derivative\nis negative at `w0` would suffice to know this. Here we check that\ncondition:"
      ],
      "metadata": {}
    },
    {
      "outputs": [],
      "cell_type": "code",
      "source": [
        "diff(Area, width, width)(width => 40)"
      ],
      "metadata": {},
      "execution_count": null
    },
    {
      "cell_type": "markdown",
      "source": [
        "As an aside, compare the steps involved above for a symbolic solution to those of previous work for a numeric solution:"
      ],
      "metadata": {}
    },
    {
      "outputs": [],
      "cell_type": "code",
      "source": [
        "A(w, h) = w*h + pi*(w/2)^2 / 2\nh(w)    = (20 - w - pi * w/2) / 2\nA(w)    =  A(w, h(w))\nfind_zero(A', (0, 20/(1+pi/2)))  # 40 / (pi + 4)"
      ],
      "metadata": {},
      "execution_count": null
    },
    {
      "cell_type": "markdown",
      "source": [
        "They are similar, except we solved for `h0` symbolically, rather than by hand, when we solved for `h(w)`.\n\n## Trigonometry\n\nMany maximization and minimization problems involve triangles, which\nin turn use trigonometry in their description. Here is an example, the\n\"ladder corner problem.\" (There are many other [ladder](http://www.mathematische-basteleien.de/ladder.htm) problems.)\n\n\nA ladder is to be moved through a two-dimensional hallway which has a\nbend and gets narrower after the bend. The hallway is 8 feet wide then\n5 feet wide. What is the longest such ladder that can be navigated\naround the corner?\n\nThe figure shows a ladder of length $l_1 + l_2$ that got stuck - it\nwas too long."
      ],
      "metadata": {}
    },
    {
      "outputs": [],
      "cell_type": "code",
      "source": [
        "p = plot([0, 0, 15], [15, 0, 0], color=:blue, legend=false)\nplot!(p, [5, 5, 15], [15, 8, 8], color=:blue)\nplot!(p, [0,14.53402874075368], [12.1954981558864, 0], linewidth=3)\nplot!(p, [0,5], [8,8], color=:orange)\nplot!(p, [5,5], [0,8], color=:orange)\nannotate!(p, [(13, 1/2, \"θ\"),\n              (2.5, 11, \"l2\"), (10, 5, \"l1\"), (2.5, 7.0, \"l2 * cos(θ)\"),\n\t      (5.1, 5, \"l1 * sin(θ)\")])"
      ],
      "metadata": {},
      "execution_count": null
    },
    {
      "cell_type": "markdown",
      "source": [
        "We approach this problem in reverse. It is easy to see when a ladder\nis too long. It gets stuck at some angle $\\theta$. So for each\n$\\theta$ we find that ladder length that is just too long. Then we\nfind the minimum length of all these ladders that are too long. If a\nladder is this length or more it will get stuck for some\nangle. However, if it is less than this length it will not get stuck.\nSo to maximize a ladder length, we minimize a different\nfunction. Neat.\n\nNow, to find the length $l = l_1 + l_2$ as a function of $\\theta$.\n\nWe need to brush off our trigonometry, in particular right triangle\ntrigonometry. We see from the figure that $l_1$ is the hypotenuse of a\nright triangle with opposite side $8$ and $l_2$ is the hypotenuse of a\nright triangle with adjacent side $5$. So, $8/l_1 = \\sin\\theta$ and\n$5/l_2 = \\cos\\theta$.\n\n\nThat is, we have"
      ],
      "metadata": {}
    },
    {
      "outputs": [],
      "cell_type": "code",
      "source": [
        "l(l1, l2) = l1 + l2\nl1(t) = 8/sin(t)\nl2(t) = 5/cos(t)\n\nl(t) = l(l1(t), l2(t))\t\t# or simply l(t) = 8/sin(t) + 5/cos(t)"
      ],
      "metadata": {},
      "execution_count": null
    },
    {
      "cell_type": "markdown",
      "source": [
        "Our goal is to minimize this function for all angles between $0$ and $90$ degrees, or $0$ and $\\pi/2$ radians.\n\nThis is not a continuous function on a closed interval - it is\nundefined at the endpoints. That being said, a quick plot will\nconvince us that the minimum occurs at a critical point and there is\nonly one critical point in $(0, \\pi/2)$."
      ],
      "metadata": {}
    },
    {
      "outputs": [],
      "cell_type": "code",
      "source": [
        "delta = 0.2\nplot(l, delta, pi/2 - delta)"
      ],
      "metadata": {},
      "execution_count": null
    },
    {
      "cell_type": "markdown",
      "source": [
        "The minimum occurs between 0.5 and 1.0 radians, a bracket for the derivative:"
      ],
      "metadata": {}
    },
    {
      "outputs": [],
      "cell_type": "code",
      "source": [
        "x = find_zero(l', (0.5, 1.0))"
      ],
      "metadata": {},
      "execution_count": null
    },
    {
      "cell_type": "markdown",
      "source": [
        "So the minimum of the function $l$ is"
      ],
      "metadata": {}
    },
    {
      "outputs": [],
      "cell_type": "code",
      "source": [
        "l(x)"
      ],
      "metadata": {},
      "execution_count": null
    },
    {
      "cell_type": "markdown",
      "source": [
        "That is, any ladder less than this length can get around the hallway.\n\n## Rate times time\n\nEthan Hunt, a top secret spy, has a mission to chase a bad guy. Here\nis what we know:\n\n* Ethan likes to run. He can run at 10 miles per hour.\n* He can drive a car - usually some concept car by BMW - at 30 miles per hour, but only on the road.\n\nFor his mission, he needs to go 10 miles west and 5 miles north. He\ncan do this by:\n\n* just driving 10 miles west then 5 miles north, or\n* just running the diagonal distance, or\n* driving $0 < x < 10$ miles west, then running on the diagonal\n\n\nA quick analysis says:\n\n* It would take $(10+5)/30$ hours to just drive\n* It would take $\\sqrt{10^2 + 5^2}/10$ hours to just run\n\nNow, if he drives $x$ miles west ($0 < x < 10$) he would run an amount\ngiven by the hypotenuse of a triangle with lengths $5$ and $10-x$. His\ntime driving would be $x/30$ and his time running would be\n$\\sqrt{5^2+(10-x)^2}/10$ for a total of:\n\n$$~\nT(x) = x/30 + \\sqrt{5^2 + (10-x)^2}/10, \\quad 0 < x < 10\n~$$\n\nWith the endpoints given by\n$T(0) = \\sqrt{10^2 + 5^2}/10$ and $T(10) = (10 + 5)/30$.\n\n\nLet's plot $T(x)$ over the interval $(0,10)$ and look:"
      ],
      "metadata": {}
    },
    {
      "outputs": [],
      "cell_type": "code",
      "source": [
        "T(x) = x/30 + sqrt(5^2 + (10-x)^2)/10"
      ],
      "metadata": {},
      "execution_count": null
    },
    {
      "outputs": [],
      "cell_type": "code",
      "source": [
        "plot(T, 0, 10)"
      ],
      "metadata": {},
      "execution_count": null
    },
    {
      "cell_type": "markdown",
      "source": [
        "The minimum happens way out near 8. We zoom in a bit:"
      ],
      "metadata": {}
    },
    {
      "outputs": [],
      "cell_type": "code",
      "source": [
        "plot(T, 7, 9)"
      ],
      "metadata": {},
      "execution_count": null
    },
    {
      "cell_type": "markdown",
      "source": [
        "It appears to be around 8.3. We now use `find_zero` to refine our\nguess at the critical point using $[7,9]$ as a bracket:"
      ],
      "metadata": {}
    },
    {
      "outputs": [],
      "cell_type": "code",
      "source": [
        "x = find_zero(T', (7, 9))"
      ],
      "metadata": {},
      "execution_count": null
    },
    {
      "cell_type": "markdown",
      "source": [
        "Okay, got it. Around 8.23. So is  our minimum time"
      ],
      "metadata": {}
    },
    {
      "outputs": [],
      "cell_type": "code",
      "source": [
        "T(x)"
      ],
      "metadata": {},
      "execution_count": null
    },
    {
      "cell_type": "markdown",
      "source": [
        "We know this is a relative minimum, but not that it is the global\nminimum over the closed time interlal. For that we must also check the\nendpoints:"
      ],
      "metadata": {}
    },
    {
      "outputs": [],
      "cell_type": "code",
      "source": [
        "sqrt(10^2 + 5^2)/10, T(x), (10+5)/30"
      ],
      "metadata": {},
      "execution_count": null
    },
    {
      "cell_type": "markdown",
      "source": [
        "Ahh, we see that $T(x)$ is not continuous on $[0, 10]$, as it jumps at\n$x=10$ down to an even smaller amount of $1/2$.  It may not look as\nimpressive as a miles-long sprint, but Mr. Hunt is advised by Benji to drive\nthe whole way.\n\n## Rate times time ... the origin story"
      ],
      "metadata": {}
    },
    {
      "outputs": [],
      "cell_type": "code",
      "source": [
        "### {{{lhopital_43}}}\n\nimgfile = \"figures/fcarc-may2016-fig43-250.gif\"\ncaption = L\"\"\"\n\nImage number $43$ from l'Hospital's calculus book (the first). A\ntraveler leaving location $C$ to go to location $F$ must cross two\nregions separated by the straight line $AEB$. We suppose that in the\nregion on the side of $C$, he covers distance $a$ in time $c$, and\nthat on the other, on the side of $F$, distance $b$ in the same time\n$c$. We ask through which point $E$ on the line $AEB$ he should pass,\nso as to take the least possible time to get from $C$ to $F$? (From\nhttp://www.ams.org/samplings/feature-column/fc-2016-05.)\n\n\n\"\"\"\nImageFile(imgfile, caption)"
      ],
      "metadata": {},
      "execution_count": null
    },
    {
      "cell_type": "markdown",
      "source": [
        "The last example is a modern day illustration of a problem of calculus\ndating back to l'Hospital. His parameterization is a bit\ndifferent. Let's change his by taking two points $(0, a)$ and\n$(L,-b)$, with $a,b,L$ positive values. Above the $x$ axis travel\nhappens at rate $r_0$, and below, travel happens at rate $r_1$, again,\nboth positive. What value $x$ in $[0,L]$ will minimize the total travel time?\n\nWe approach this symbolically with `SymPy`:"
      ],
      "metadata": {}
    },
    {
      "outputs": [],
      "cell_type": "code",
      "source": [
        "@vars a b L x r0 r1 positive=true\n\nd0 = sqrt(x^2 + a^2)\nd1 = sqrt((L-x)^2 + b^2)\n\nt = d0/r0 + d1/r1   # time = distance/rate\ndt = diff(t, x)     # look for critical points"
      ],
      "metadata": {},
      "execution_count": null
    },
    {
      "cell_type": "markdown",
      "source": [
        "The answer will occur at a critical point or an endpoint, either $x=0$ or $x=L$.\n\nThe structure of `dt` is too complicated for simply calling `solve` to find the critical points. Instead we help `SymPy` out a bit. We are solving an equation of the form $a/b + c/d = 0$. These solutions will also be solutions of $(a/b)^2 - (c/d)^2=0$ or even $a^2d^2 - c^2b^2 = 0$. This follows as solutions to $u+v=0$, also solve $(u+v)\\cdot(u-v)=0$, or $u^2 - v^2=0$. Setting $u=a/b$ and $v=c/d$ completes the comparison.\n\nWe can get these terms - $a$, $b$, $c$, and $d$ - as follows:"
      ],
      "metadata": {}
    },
    {
      "outputs": [],
      "cell_type": "code",
      "source": [
        "t1, t2 = SymPy.Introspection.args(dt)  # args finds arguments to the outer function (+ in this case)"
      ],
      "metadata": {},
      "execution_count": null
    },
    {
      "cell_type": "markdown",
      "source": [
        "The equivalent of $a^2d^2 - c^2 b^2$ is found using `numer` and\n`denom` to access the numerator and denominator of the fractions:"
      ],
      "metadata": {}
    },
    {
      "outputs": [],
      "cell_type": "code",
      "source": [
        "ex = numer(t1^2)*denom(t2^2) - denom(t1^2)*numer(t2^2)"
      ],
      "metadata": {},
      "execution_count": null
    },
    {
      "cell_type": "markdown",
      "source": [
        "This is a polynomial in the `x` variable of degree $4$:"
      ],
      "metadata": {}
    },
    {
      "outputs": [],
      "cell_type": "code",
      "source": [
        "sympy.Poly(ex, x).coeffs() # a0 + a1⋅x + a2⋅x^2 + a3⋅x^3 + a4⋅x^4"
      ],
      "metadata": {},
      "execution_count": null
    },
    {
      "cell_type": "markdown",
      "source": [
        "Fourth degree polynomials can be solved. The critical points of the\noriginal equation will be among the 4 solutions given. However, the result\nis complicated.  The\n[article](http://www.ams.org/samplings/feature-column/fc-2016-05) from\nwhich the figure came states that \"In today's textbooks the problem,\nusually involving a river, involves walking along one bank and then\nswimming across; this corresponds to setting $g=0$ in l'Hospital's\nexample, and leads to a quadratic equation.\" Let's see that case,\nwhich we can get in our notation by taking $b=0$:"
      ],
      "metadata": {}
    },
    {
      "outputs": [],
      "cell_type": "code",
      "source": [
        "q = ex(b=>0)\nfactor(q)"
      ],
      "metadata": {},
      "execution_count": null
    },
    {
      "cell_type": "markdown",
      "source": [
        "We see two terms: one with $x=L$ and another quadratic. For the simple\ncase $r_0=r_1$, a straight line is the best solution, and this\ncorresponds to $L=0$, which is clear from the formula above, as we\nonly have one solution to the following:"
      ],
      "metadata": {}
    },
    {
      "outputs": [],
      "cell_type": "code",
      "source": [
        "solve(q(r1=>r0), x)"
      ],
      "metadata": {},
      "execution_count": null
    },
    {
      "cell_type": "markdown",
      "source": [
        "Well, not so fast. We need to check the other endpoint, $x=0$:"
      ],
      "metadata": {}
    },
    {
      "outputs": [],
      "cell_type": "code",
      "source": [
        "ta = t(b=>0, r1=>r0)\nta(x=>0), ta(x=>L)"
      ],
      "metadata": {},
      "execution_count": null
    },
    {
      "cell_type": "markdown",
      "source": [
        "The value at $x=L$ is smaller, as $L^2 + a^2 \\leq (L+a)^2$.\n\n\nNow, if, say, travel above the line is half as slow as travel along, then $2r_0 = r_1$, and the critical points will be:"
      ],
      "metadata": {}
    },
    {
      "outputs": [],
      "cell_type": "code",
      "source": [
        "out = solve(q(r1 => 2r0), x)"
      ],
      "metadata": {},
      "execution_count": null
    },
    {
      "cell_type": "markdown",
      "source": [
        "It is hard to tell which would minimize time without more work. To check a case ($a=1, L=2, r_0=1$) we might have"
      ],
      "metadata": {}
    },
    {
      "outputs": [],
      "cell_type": "code",
      "source": [
        "t(r1 =>2r0, b=>0, x=>out[1], a=>1, L=>2, r0 => 1)  # for x=L"
      ],
      "metadata": {},
      "execution_count": null
    },
    {
      "cell_type": "markdown",
      "source": [
        "Compared to the smaller ($x=\\sqrt{3}a/3$):"
      ],
      "metadata": {}
    },
    {
      "outputs": [],
      "cell_type": "code",
      "source": [
        "t(r1 =>2r0, b=>0, x=>out[2], a=>1, L=>2, r0 => 1)"
      ],
      "metadata": {},
      "execution_count": null
    },
    {
      "cell_type": "markdown",
      "source": [
        "What about $x=0$?"
      ],
      "metadata": {}
    },
    {
      "outputs": [],
      "cell_type": "code",
      "source": [
        "t(r1 =>2r0, b=>0, x=>0, a=>1, L=>2, r0 => 1)"
      ],
      "metadata": {},
      "execution_count": null
    },
    {
      "cell_type": "markdown",
      "source": [
        "The value of $x=\\sqrt{3}a/3$ minimizes time\nThe traveler in this case is advised to head to the $x$ axis at $x=\\sqrt{3}a/3$  and then travel along the $x$ axis.\n\n\n\nWill this approach always be true?  Consider different parameters, say we\nswitch the values of $a$ and $L$ so $a > L$:"
      ],
      "metadata": {}
    },
    {
      "outputs": [],
      "cell_type": "code",
      "source": [
        "pts = [0, out...]\nvals = N.([t(r1 =>2r0, b=>0, x=>u, a=>2, L=>1, r0 => 1) for u in pts])\n[pts vals]"
      ],
      "metadata": {},
      "execution_count": null
    },
    {
      "cell_type": "markdown",
      "source": [
        "Here traveling directly to the point $(L,0)$ is fastest. Though travel\nis slower, the route is more direct and there is no time saved by\ntaking the longer route with faster travel for part of it.\n\n\n\n\n## Unbounded domains\n\nMaximize the function $xe^{-(1/2) x^2}$ over the interval $[0, \\infty)$.\n\nHere the extreme value theorem doesn't technically apply, as we don't\nhave a closed interval. However, if we can eliminate the endpoints as\ncandidates, then we should be able to convince ourselves the maximum\nmust occur at a critical point of $f(x)$. (If not, then convince yourself for all sufficiently large $M$ the maximum over $[0,M]$ occurs at\na critical point, not an endpoint. Then let $M$ go to infinity.)\n\nSo to approach this problem we first graph it over a wide interval."
      ],
      "metadata": {}
    },
    {
      "outputs": [],
      "cell_type": "code",
      "source": [
        "f(x) = x * exp(-x^2)\nplot(f, 0, 100)"
      ],
      "metadata": {},
      "execution_count": null
    },
    {
      "cell_type": "markdown",
      "source": [
        "Clearly the action is nearer to 1 than 100. We try graphing the\nderivative near that area:"
      ],
      "metadata": {}
    },
    {
      "outputs": [],
      "cell_type": "code",
      "source": [
        "plot(f', 0, 5)"
      ],
      "metadata": {},
      "execution_count": null
    },
    {
      "cell_type": "markdown",
      "source": [
        "This shows the value of interest near $0.7$. We use `find_zero` with $[0,1]$ as a bracket"
      ],
      "metadata": {}
    },
    {
      "outputs": [],
      "cell_type": "code",
      "source": [
        "x = find_zero(f', (0, 1))"
      ],
      "metadata": {},
      "execution_count": null
    },
    {
      "cell_type": "markdown",
      "source": [
        "The maximum is then at"
      ],
      "metadata": {}
    },
    {
      "outputs": [],
      "cell_type": "code",
      "source": [
        "f(x)"
      ],
      "metadata": {},
      "execution_count": null
    },
    {
      "cell_type": "markdown",
      "source": [
        "### Minimize the surface area of a can\n\n\nFor a more applied problem of this type (infinite domain), consider a\ncan of some soft drink that is to contain 355ml which is 355 cubic\ncentimeters.  We use metric units, as the relationship between volume\n(cubic centimeters) and fluid amount (ml) is clear.  A can to hold\nthis amount is produced in the shape of cylinder with radius $r$ and\nheight $h$. The materials involved give the surface area, which would\nbe:\n\n$$~\nSA = h \\cdot 2\\pi r + 2 \\cdot \\pi r^2\n~$$\n\nThe volume satisfies:\n\n$$~\nV = 355 = h \\cdot \\pi r^2\n~$$\n\nFind the values of $r$ and $h$ which minimize the surface area.\n\n\nFirst the surface area in both variables is given by"
      ],
      "metadata": {}
    },
    {
      "outputs": [],
      "cell_type": "code",
      "source": [
        "SA(h, r) = h * 2pi * r + 2pi * r^2"
      ],
      "metadata": {},
      "execution_count": null
    },
    {
      "cell_type": "markdown",
      "source": [
        "Solving from the constraint on the volume for `h` in terms of `r` yields:"
      ],
      "metadata": {}
    },
    {
      "outputs": [],
      "cell_type": "code",
      "source": [
        "h(r) = 355 / (pi * r^2)"
      ],
      "metadata": {},
      "execution_count": null
    },
    {
      "cell_type": "markdown",
      "source": [
        "Composing gives a function of `r` alone:"
      ],
      "metadata": {}
    },
    {
      "outputs": [],
      "cell_type": "code",
      "source": [
        "SA(r) = SA(h(r), r)"
      ],
      "metadata": {},
      "execution_count": null
    },
    {
      "cell_type": "markdown",
      "source": [
        "This is minimized subject to the constraint that $r \\geq 0$. A quick\nglance shows that as $r$ gets close to $0$, the can must get\ninfinitely tall to contain that fixed volume, and would have infinite\nsurface area as the $1/r^2$ in the first term implies. On the other\nhand, as $r$ goes to infinity, the height must go to 0 to make a\nreally flat can. Again, we would have infinite surface area, as the\n$r^2$ term at the end indicates. With this observation, we can rule\nout the endpoints as possible minima, so any minima must occur at a\ncritical point.\n\nWe start by making a graph, making an educated guess that the answer\nis somewhere near a real life answer, or around 3-5 cms in radius:"
      ],
      "metadata": {}
    },
    {
      "outputs": [],
      "cell_type": "code",
      "source": [
        "plot(SA, 2, 10)"
      ],
      "metadata": {},
      "execution_count": null
    },
    {
      "cell_type": "markdown",
      "source": [
        "The minimum looks to be around $4$cm and is clearly between $3$ and\n$5$. We can use `find_zero` to zero in on the value of the critical point:"
      ],
      "metadata": {}
    },
    {
      "outputs": [],
      "cell_type": "code",
      "source": [
        "r0 = find_zero(SA', (3, 5))"
      ],
      "metadata": {},
      "execution_count": null
    },
    {
      "cell_type": "markdown",
      "source": [
        "Okay, $3.837...$ is our computation for $r$. To get $h$, we use:"
      ],
      "metadata": {}
    },
    {
      "outputs": [],
      "cell_type": "code",
      "source": [
        "h(r0)"
      ],
      "metadata": {},
      "execution_count": null
    },
    {
      "cell_type": "markdown",
      "source": [
        "This produces a can which is about square in profile. This is not how\nmost cans look though. Perhaps our model is too simple, or the cans\nare optimized for some other purpose than minimizing materials.\n\n\n\n## Questions\n\n###### Question\n\nA geometric figure has area given in terms of two measurements by\n$A=\\pi a b$ and perimeter $P = \\pi (a + b)$. If the perimeter is fixed\nto be 20 units long, what is the maximal area the figure can be?"
      ],
      "metadata": {}
    },
    {
      "outputs": [],
      "cell_type": "code",
      "source": [
        "A(a,b) = pi*a*b\nP = 20\nb1(a) = 20/pi - a\nA(a) = A(a, b1(a))\nx = find_zero(A', (0, 10))\nval = A(x)\nnumericq(val)"
      ],
      "metadata": {},
      "execution_count": null
    },
    {
      "cell_type": "markdown",
      "source": [
        "###### Question\n\nA geometric figure has area given in terms of two measurements by\n$A=\\pi a b$ and perimeter $P=\\pi \\cdot \\sqrt{a^2 + b^2}/2$. If the\nperimeter is 20 units long, what is the maximal area?"
      ],
      "metadata": {}
    },
    {
      "outputs": [],
      "cell_type": "code",
      "source": [
        "A(a,b) = pi*a*b\nP = 20\nb1(a) = sqrt((P*2/pi)^2 - a^2)\nA(a) = A(a, b1(a))\nx = find_zero(A', (0, 10))\nval = A(x)\nnumericq(val)"
      ],
      "metadata": {},
      "execution_count": null
    },
    {
      "cell_type": "markdown",
      "source": [
        "###### Question\n\nA rancher with 10 meters of fence wishes to make a pen adjacent to an\nexisting fence. The pen will be a rectangle with one edge using the\nexisting fence. Say that has length $x$, then $10 = 2y + x$, with $y$\nthe other dimension of the pen. What is the maximum area that can be\nmade?"
      ],
      "metadata": {}
    },
    {
      "outputs": [],
      "cell_type": "code",
      "source": [
        "Ar(y) = (10-2y)*y;\nval = Ar(find_zero(Ar',  5))\nnumericq(val, 1e-3)"
      ],
      "metadata": {},
      "execution_count": null
    },
    {
      "cell_type": "markdown",
      "source": [
        "Is there \"symmetry\" in the answer between $x$ and $y$?"
      ],
      "metadata": {}
    },
    {
      "outputs": [],
      "cell_type": "code",
      "source": [
        "yesnoq(\"no\")"
      ],
      "metadata": {},
      "execution_count": null
    },
    {
      "cell_type": "markdown",
      "source": [
        "What is you were do do two pens like this back to back, then the\nanswer would involve a rectangle. Is there symmetry in the answer now?"
      ],
      "metadata": {}
    },
    {
      "outputs": [],
      "cell_type": "code",
      "source": [
        "yesnoq(\"yes\")"
      ],
      "metadata": {},
      "execution_count": null
    },
    {
      "cell_type": "markdown",
      "source": [
        "###### Question\n\nA rectangle of sides $w$ and $h$ has fixed area $20$. What is the *smallest* perimeter it can have?"
      ],
      "metadata": {}
    },
    {
      "outputs": [],
      "cell_type": "code",
      "source": [
        "Prim(x,y) = 2x + 2y\nPrim(x) = Prim(x, 20/x)\nxstar = find_zero(Prim', 5)\nval = Prim(xstar)\nnumericq(val)"
      ],
      "metadata": {},
      "execution_count": null
    },
    {
      "cell_type": "markdown",
      "source": [
        "###### Question\n\nA rectangle of sides $w$ and $h$ has fixed area $20$. What is the *largest* perimeter it can have?"
      ],
      "metadata": {}
    },
    {
      "outputs": [],
      "cell_type": "code",
      "source": [
        "choices = [\n\"It can be infinite\",\n\"It is also 20\",\nL\"17.888\"\n]\nans = 1\nradioq(choices, ans)"
      ],
      "metadata": {},
      "execution_count": null
    },
    {
      "cell_type": "markdown",
      "source": [
        "###### Question\n\nA rain gutter is constructed from a 30\" wide sheet of tin by bending\nit into thirds. If the sides are bent 90 degrees, then the\ncross-sectional area would be $100 = 10^2$. This is not the largest\npossible amount. For example, if the sides are bent by 45 degrees, the cross sectional area is:"
      ],
      "metadata": {}
    },
    {
      "outputs": [],
      "cell_type": "code",
      "source": [
        "2 * (1/2 * 10*cos(pi/4) * 10 * sin(pi/4)) + 10*sin(pi/4) * 10"
      ],
      "metadata": {},
      "execution_count": null
    },
    {
      "cell_type": "markdown",
      "source": [
        "Find a value in degrees that gives the maximum. (The first task is to\nwrite the area in terms of $\\theta$."
      ],
      "metadata": {}
    },
    {
      "outputs": [],
      "cell_type": "code",
      "source": [
        "function Ar(t)\n\t opp = 10 * sin(t)\n\t adj = 10 * cos(t)\n\t 2 * opp * adj/2 + opp * 10\nend\nt = find_zero(Ar', pi/4);\t## Has issues with order=8 algorithm, tol > 1e-14 is needed\nval = t * 180/pi;\nnumericq(val, 1e-3)"
      ],
      "metadata": {},
      "execution_count": null
    },
    {
      "cell_type": "markdown",
      "source": [
        "###### Question Non-Norman windows\n\nSuppose our new \"Norman\" window has half circular tops at the top and bottom? If the perimeter is fixed at $20$ and the dimensions of the rectangle are $x$ for the width and $y$ for the height.\n\nWhat is the value of $y$ that maximizes the area?"
      ],
      "metadata": {}
    },
    {
      "outputs": [],
      "cell_type": "code",
      "source": [
        "using Roots\nP = 20\nA(x,y) = x*y + pi * (x/2)^2\ny(x) = (P - pi*x)/2 # P = 2y + 2pi*x/2\nA(x) = A(x,y(x))\nx0 = find_zero(D(A), (0, 10))\nval = y(x0)\nnumericq(val) # 0"
      ],
      "metadata": {},
      "execution_count": null
    },
    {
      "cell_type": "markdown",
      "source": [
        "###### Question (Thanks https://www.math.ucdavis.edu/~kouba)\n\nA movie screen projects on a wall 20 feet high beginning 10 feet above\nthe floor.  This figure shows $\\theta$ for $x=30$:"
      ],
      "metadata": {}
    },
    {
      "outputs": [],
      "cell_type": "code",
      "source": [
        "p = plot([0, 30,30], [0,0,10], xlim=(0, 32), color=:blue, legend=false)\nplot!(p, [30, 30], [10, 30], color=:blue, linewidth=4)\nplot!(p, [0, 30,30,0], [0,10,30,0], color=:orange)\nannotate!(p, [(x,y,l) for (x,y,l) in zip([15, 5, 31, 31], [1.5, 3.5, 5, 20], [\"x=30\", \"θ\", \"10\", \"20\"])])"
      ],
      "metadata": {},
      "execution_count": null
    },
    {
      "cell_type": "markdown",
      "source": [
        "What value of $x$ gives the largest angle $\\theta$? (In degrees.)"
      ],
      "metadata": {}
    },
    {
      "outputs": [],
      "cell_type": "code",
      "source": [
        "theta(x) = atan(30/x) - atan(10/x)\nval = find_zero(D(theta), 20); ## careful where one starts\nval = theta(val) * 180/pi\nnumericq(val, 1e-1)"
      ],
      "metadata": {},
      "execution_count": null
    },
    {
      "cell_type": "markdown",
      "source": [
        "###### Question\n\nA maximum likelihood estimator is a value derived by maximizing a function. For example, if"
      ],
      "metadata": {}
    },
    {
      "outputs": [],
      "cell_type": "code",
      "source": [
        "Likhood(t) = t^3 * exp(-3t) * exp(-2t) * exp(-4t) ## 0 <= t <= 10"
      ],
      "metadata": {},
      "execution_count": null
    },
    {
      "cell_type": "markdown",
      "source": [
        "Then `Likhood(t)` is continuous and has single peak, so the maximum occurs\nat the lone critical point. It turns out that this problem is bit sensitive to an initial condition, so we bracket"
      ],
      "metadata": {}
    },
    {
      "outputs": [],
      "cell_type": "code",
      "source": [
        "x = find_zero(Likhood',  (0.1, 0.5))"
      ],
      "metadata": {},
      "execution_count": null
    },
    {
      "cell_type": "markdown",
      "source": [
        "Now if $Likhood(t) = \\exp(-3t) \\cdot \\exp(-2t) \\cdot \\exp(-4t), \\quad 0 \\leq t \\leq 10$, by graphing, explain why the same approach won't work:"
      ],
      "metadata": {}
    },
    {
      "outputs": [],
      "cell_type": "code",
      "source": [
        "choices=[\"It does work and the answer is x = 2.27...\",\n\t L\" $Likhood(t)$ is not continuous on $0$ to $10$\",\n         L\" $Likhood(t)$ takes its maximum at a boundary point - not a critical point\"];\nans = 3;\nradioq(choices, ans)"
      ],
      "metadata": {},
      "execution_count": null
    },
    {
      "cell_type": "markdown",
      "source": [
        "##### Question\n\nLet $x_1$, $x_2$, $x_n$ be a set of unspecified numbers in a data\nset. Form the expression $s(x) = (x-x_1)^2 + \\cdots (x-x_n)^2$. What\nis the smallest this can be (in $x$)?\n\nWe approach this using `SymPy` and $n=10$"
      ],
      "metadata": {}
    },
    {
      "outputs": [],
      "cell_type": "code",
      "source": [
        "using SymPy\nn = 10\n@vars s\nxs = [symbols(\"x\\$i\") for i in 1:n]\ns(x) = sum((x-xs[i])^2 for i in 1:n)\ncps = solve(diff(s(x), x), x)"
      ],
      "metadata": {},
      "execution_count": null
    },
    {
      "cell_type": "markdown",
      "source": [
        "Run the above code. Baseed on the critical points found, what do you guess will be the\nminimum value in terms of the values $x_1$, $x_2, \\dots$?"
      ],
      "metadata": {}
    },
    {
      "outputs": [],
      "cell_type": "code",
      "source": [
        "choices=[\n\"The mean, or average, of the values\",\n\"The median, or middle number, of the values\",\nL\"The square roots of the values squared, $(x_1^2 + \\cdots x_n^2)^2$\"\n]\nans = 1\nradioq(choices, ans)"
      ],
      "metadata": {},
      "execution_count": null
    },
    {
      "cell_type": "markdown",
      "source": [
        "###### Question\n\nMinimize the function $f(x) = 2x + 3/x$ over $(0, \\infty)$."
      ],
      "metadata": {}
    },
    {
      "outputs": [],
      "cell_type": "code",
      "source": [
        "f(x) = 2x + 3/x;\nval = find_zero(f', 1);\nnumericq(val, 1e-3)"
      ],
      "metadata": {},
      "execution_count": null
    },
    {
      "cell_type": "markdown",
      "source": [
        "###### Question\n\nOf all rectangles of area 4, find the one with smallest perimeter. What is the perimeter?"
      ],
      "metadata": {}
    },
    {
      "outputs": [],
      "cell_type": "code",
      "source": [
        "# 4 = xy\nPrim(x) = 2x + 2*(4/x);\nval = find_zero(D(Prim), 1);\nnumericq(Prim(val), 1e-3)\t\t## a square!"
      ],
      "metadata": {},
      "execution_count": null
    },
    {
      "cell_type": "markdown",
      "source": [
        "###### Question\n\nA running track is in the shape of two straight aways and two half\ncircles. The total distance (perimeter) is 400 meters. Suppose $w$ is\nthe width (twice the radius of the circles) and $h$ is the\nheight. What dimensions minimize the sum $w + h$?\n\nYou have $P(w, h) = 2\\pi \\cdot (w/2) + 2\\cdot(h-w)$."
      ],
      "metadata": {}
    },
    {
      "outputs": [],
      "cell_type": "code",
      "source": [
        "Ar(w,h) = w + h\nh(w) = (400 - 2pi*w/2 + 2w) / 2\nAr(w) = Ar(w, h(w)) ## linear\nval = Ar(0)\nnumericq(val)"
      ],
      "metadata": {},
      "execution_count": null
    },
    {
      "cell_type": "markdown",
      "source": [
        "###### Question\n\nA cell phone manufacturer wishes to make a rectangular phone with\ntotal surface area of 12,000 $mm^2$ and maximal screen area. The\nscreen is surrounded by bezels with sizes of 8$mm$ on the long sides\nand 32$mm$ on the short sides. (So, for example, the screen width is\nshorter by $2\\cdot 8$ mm than the phone width.)\n\nWhat are the dimensions (width and\nheight) that allow the maximum screen area?\n\nThe width is:"
      ],
      "metadata": {}
    },
    {
      "outputs": [],
      "cell_type": "code",
      "source": [
        "#A = w*h = 12000\nw(h) = 12_000 / h\nS(w, h) = (w- 2*8) * (h - 2*32)\nS(h) = S(w(h), h)\nhstar =find_zero(D(S), 500)\nwstar = w(hstar)\nnumericq(wstar)"
      ],
      "metadata": {},
      "execution_count": null
    },
    {
      "cell_type": "markdown",
      "source": [
        "The height is?"
      ],
      "metadata": {}
    },
    {
      "outputs": [],
      "cell_type": "code",
      "source": [
        "numericq(hstar)"
      ],
      "metadata": {},
      "execution_count": null
    },
    {
      "cell_type": "markdown",
      "source": [
        "###### Question\n\nFind the value $x > 0$ which minimizes the distance from the graph of\n$f(x) = \\log_e(x) - x$ to the origin $(0,0)$."
      ],
      "metadata": {}
    },
    {
      "outputs": [],
      "cell_type": "code",
      "source": [
        "f(x) = log(x) - x\np = plot(f, 0.2, 2, ylim=(-2,0.25), legend=false, linewidth=3)\nplot!(p, [0,0], [-2, 0.25], color=:blue)\nplot!(p, [0,2],[0,0], color=:blue)\nxs = [0,1]; ys = [0, f(1)]\nscatter!(p, xs,ys, color=:orange)\nplot!(p, xs, ys, color=:orange, linewidth=3)\nannotate!(p, [(.75, f(.5)/2, \"d = $(round(sqrt(.5^2 + f(.5)^2), digits=2))\")])\np"
      ],
      "metadata": {},
      "execution_count": null
    },
    {
      "outputs": [],
      "cell_type": "code",
      "source": [
        "d2(x) = sqrt((0-x)^2 + (0 - f(x))^2)\nxstar = find_zero(D(d2), 1)\nval = d2(xstar)\nnumericq(val)"
      ],
      "metadata": {},
      "execution_count": null
    },
    {
      "cell_type": "markdown",
      "source": [
        "###### Question"
      ],
      "metadata": {}
    },
    {
      "outputs": [],
      "cell_type": "code",
      "source": [
        "### {{{lhopital_40}}}\nimgfile =\"figures/fcarc-may2016-fig40-300.gif\"\ncaption = L\"\"\"\n\nImage number $40$ from l'Hospital's calculus book (the first calculus book). Among all the cones that can be inscribed in a sphere, determine which one has the largest lateral area. (From http://www.ams.org/samplings/feature-column/fc-2016-05)\n\n\"\"\"\nImageFile(imgfile, caption)"
      ],
      "metadata": {},
      "execution_count": null
    },
    {
      "cell_type": "markdown",
      "source": [
        "The figure above poses a problem about cones in spheres, which can be reduced to a two-dimensional problem. Take a sphere of radius $r=1$, and imagine a secant line of length$l$ connecting $(-r, 0)$ to another point $(x,y)$ with $y>0$. Rotating that line around the $x$ axis produces a cone and its lateral surface is given by $SA=\\pi \\cdot y \\cdot l$. Write $SA$ as a function of $x$ and solve.\n\nThe largest lateral surface area is:"
      ],
      "metadata": {}
    },
    {
      "outputs": [],
      "cell_type": "code",
      "source": [
        "using Roots\nSA(r,l) = pi * r * l\ny(x) = sqrt(1 - x^2)\nl(x) = sqrt((x-(-1))^2 +  y(x)^2)\nSA(x) = SA(y(x), l(x))\ncp = find_zero(D(SA), (-1, 1))\nval = SA(cp)\nnumericq(val)"
      ],
      "metadata": {},
      "execution_count": null
    },
    {
      "cell_type": "markdown",
      "source": [
        "The surface area of a sphere of radius $1$ is $4\\pi r^2 = 4 \\pi$. This is how many times greater than that of the largest cone?"
      ],
      "metadata": {}
    },
    {
      "outputs": [],
      "cell_type": "code",
      "source": [
        "choices = [\"exactly four times\",\nL\"exactly $\\pi$ times\",\nL\"about $2.6$ times as big\",\n\"about the same\"]\nans = 1\nradioq(choices, ans)"
      ],
      "metadata": {},
      "execution_count": null
    }
  ],
  "nbformat_minor": 2,
  "metadata": {
    "language_info": {
      "file_extension": ".jl",
      "mimetype": "application/julia",
      "name": "julia",
      "version": "1.5.0"
    },
    "kernelspec": {
      "name": "julia-1.5",
      "display_name": "Julia 1.5.0",
      "language": "julia"
    }
  },
  "nbformat": 4
}
