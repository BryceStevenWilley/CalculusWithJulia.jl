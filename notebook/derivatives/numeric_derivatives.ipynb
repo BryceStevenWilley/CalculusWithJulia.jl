{
  "cells": [
    {
      "cell_type": "markdown",
      "source": [
        "# Numeric derivatives"
      ],
      "metadata": {}
    },
    {
      "outputs": [],
      "cell_type": "code",
      "source": [
        "using CalculusWithJulia\nusing CalculusWithJulia.WeaveSupport\nusing Plots\nnothing"
      ],
      "metadata": {},
      "execution_count": null
    },
    {
      "cell_type": "markdown",
      "source": [
        "`SymPy` returns symbolic derivatives. Up to choices of simplification, these answers match those that would be derived by hand. This is useful when comparing with known answers and for seeing the structure of the answer. However, there are times we just want to work with the answer numerically. For that we have other options.\n\n### Approximate derivatives\n\nAn approximate derivative can be used. By approximating the limit of the secant line with a value for a small, but positive, $h$, we get an approximation. That is\n\n$$~\nf'(x) \\approx \\frac{f(x+h) - f(x)}{h}.\n~$$\n\nThis is the forward-difference approximation. The central difference approximation looks both ways:\n\n$$~\nf'(x) \\approx \\frac{f(x+h) - f(x-h)}{2h}.\n~$$\n\nThough in general they are different, they are both\napproximations. The central difference is a bit more accurate for the\nsame size $h$. However, both are susceptible to round-off errors. The\nnumerator is a subtraction of like-size numbers - a perfect\nopportunity to lose precision. As such there is a balancing act: if\n$h$ is too small the round-off errors are problematic, if $h$ is too\nbig, the approximation to the limit is not good. For the forward\ndifference $h$ values around $10^{-8}$ are good, for the central\ndifference, values around $10^{-6}$ are good for most instances.\n\n##### Example\n\nLet's verify that the forward difference isn't too far off."
      ],
      "metadata": {}
    },
    {
      "outputs": [],
      "cell_type": "code",
      "source": [
        "f(x) = exp(-x^2/2)\nc = 1\nh = 1e-8\napprox = (f(c+h) - f(c)) / h"
      ],
      "metadata": {},
      "execution_count": null
    },
    {
      "cell_type": "markdown",
      "source": [
        "We can compare to the actual with:"
      ],
      "metadata": {}
    },
    {
      "outputs": [],
      "cell_type": "code",
      "source": [
        "using CalculusWithJulia\n@vars x\ndf = diff(f(x), x)\nactual = N(df(c))\nabs(actual - approx)"
      ],
      "metadata": {},
      "execution_count": null
    },
    {
      "cell_type": "markdown",
      "source": [
        "The error is about 1 part in 100 million.\n\nThe central difference is better here:"
      ],
      "metadata": {}
    },
    {
      "outputs": [],
      "cell_type": "code",
      "source": [
        "h = 1e-6\napprox = (f(c+h) - f(c-h)) / (2h)\nabs(actual - approx)"
      ],
      "metadata": {},
      "execution_count": null
    },
    {
      "cell_type": "markdown",
      "source": [
        "### Automatic derivatives\n\nThere are some other ways to compute derivatives numerically that give\nmuch more accuracy at the expense of some increased computing\ntime. Automatic differentiation is the general name for a few\ndifferent approaches. These approaches promise less complexity - in\nsome cases - than symbolic derivatives and more accuracy than\napproximate derivatives. In fact the accuracy is on the order of\nmachine precision.\n\nThe `ForwardDiff` package provides one of several ways for `Julia` to compute automatic derivatives. This package is loaded with `CalculusWithJulia`, but its functions are not exported, so their usage requires qualification. To illustrate, to find the derivative of $f(x)$ at a *point* we have this syntax:"
      ],
      "metadata": {}
    },
    {
      "outputs": [],
      "cell_type": "code",
      "source": [
        "f(x) = exp(-x^2/2)\nc = 1\nForwardDiff.derivative(f, c)   # derivative is qualified by a module name"
      ],
      "metadata": {},
      "execution_count": null
    },
    {
      "cell_type": "markdown",
      "source": [
        "The `CalculusWithJulia` package defines an operator `D` which goes from finding a derivative at a point with `ForwardDiff.derivative` to definin a function which evaluates the derivative at each point. It is defined along the lines of `D(f) = x -> ForwardDiff.derivative(f,x)` in parallel to how the derivative operation for a function is defined mathematically from the definition for its value at a point.\n\n\nHere we see the error in estimating $f'(1)$ for the $f(x) = e^{-x^2/2}$."
      ],
      "metadata": {}
    },
    {
      "outputs": [],
      "cell_type": "code",
      "source": [
        "approx = D(f)(c)         # D(f) is a function, D(f)(c) is the function called on c\nabs(actual - approx)"
      ],
      "metadata": {},
      "execution_count": null
    },
    {
      "cell_type": "markdown",
      "source": [
        "In this case, it is exact.\n\n\nThe `D` operator is only defined for most functions, not all. (The\n`diff` operator of `SymPy` is somewhat similar in that respect.)\n\n##### Example\n\nFor $f(x) = \\sqrt{1 + \\sin(\\cos(x))}$ compare the difference between the forward derivative with $h=1e-8$ and that computed by `D` at $x=\\pi/4$.\n\nThe forward derivative is found from:"
      ],
      "metadata": {}
    },
    {
      "outputs": [],
      "cell_type": "code",
      "source": [
        "f(x) = sqrt(1 + sin(cos(x)))\nc, h = pi/4, 1e-8\nfwd = (f(c+h) - f(c))/h"
      ],
      "metadata": {},
      "execution_count": null
    },
    {
      "cell_type": "markdown",
      "source": [
        "That given by `D` is:"
      ],
      "metadata": {}
    },
    {
      "outputs": [],
      "cell_type": "code",
      "source": [
        "ds_value = D(f)(c)\nds_value, fwd, ds_value - fwd"
      ],
      "metadata": {},
      "execution_count": null
    },
    {
      "cell_type": "markdown",
      "source": [
        "Finally, `SymPy` gives an exact value we use to compare:"
      ],
      "metadata": {}
    },
    {
      "outputs": [],
      "cell_type": "code",
      "source": [
        "@vars x\nactual = diff(f(x), x) |> subs(x, PI/4) |> N\nactual - ds_value, actual - fwd"
      ],
      "metadata": {},
      "execution_count": null
    },
    {
      "cell_type": "markdown",
      "source": [
        "#### Convenient notation\n\n`Julia` allows the possibility of extending functions to different\ntypes. Out of the box, the `'` notation is not employed for functions,\nbut is used for matrices. It is used in postfix position, as with\n`A'`. We can define it to do the same thing as `D` for functions and\nthen, we can evaluate derivatives with the familiar `f'(x)`.\nThis is done in `CalculusWithJulia` along the lines of `Base.adjoint(f::Function) = D(f)`.\n\n\nThen, we have, for example:"
      ],
      "metadata": {}
    },
    {
      "outputs": [],
      "cell_type": "code",
      "source": [
        "f(x) = sin(x)\nf'(pi), f''(pi)"
      ],
      "metadata": {},
      "execution_count": null
    },
    {
      "cell_type": "markdown",
      "source": [
        "##### Example\n\nSuppose our task is to find a zero of the second derivative of $f(x) =\ne^{-x^2/2}$ in $[0, 10]$, a known bracket. The `D` function takes a second argument to indicate the order of the derivative (e.g., `D(f,2)`), but we use the more familiar notation:"
      ],
      "metadata": {}
    },
    {
      "outputs": [],
      "cell_type": "code",
      "source": [
        "f(x) = exp(-x^2/2)\nfzero(f'', 0, 10)"
      ],
      "metadata": {},
      "execution_count": null
    },
    {
      "cell_type": "markdown",
      "source": [
        "We pass in the function object, `f''`, and not the evaluated function.\n\n\n## Recap on derivatives in Julia\n\nA quick summary for finding derivatives in `Julia`, as there are $3$ different manners:\n\n* Symbolic derivatives are found using `diff` from `SymPy`\n* Automatic derivatives are found using the notation `f'` using `ForwardDiff.derivative`\n* approximate derivatives at a point, `c`, for a given `h` are found with `(f(c+h)-f(c))/h`.\n\nFor example"
      ],
      "metadata": {}
    },
    {
      "outputs": [],
      "cell_type": "code",
      "source": [
        "f(x) = exp(-x)*sin(x)\nc = pi\nh = 0.1\n@vars x\n\nfp = diff(f(x),x)\nfp, fp(c)"
      ],
      "metadata": {},
      "execution_count": null
    },
    {
      "cell_type": "markdown",
      "source": [
        "As compared to"
      ],
      "metadata": {}
    },
    {
      "outputs": [],
      "cell_type": "code",
      "source": [
        "f'(c), (f(c+h)-f(c))/h"
      ],
      "metadata": {},
      "execution_count": null
    },
    {
      "cell_type": "markdown",
      "source": [
        "## Questions\n\n\n##### Question\n\nFind the derivative using a forward difference approximation of $f(x) = x^x$ at the point $x=2$ using `h=0.1`:"
      ],
      "metadata": {}
    },
    {
      "outputs": [],
      "cell_type": "code",
      "source": [
        "f(x) = x^x\nc, h = 2, 0.1\nval = (f(c+h) - f(c))/h\nnumericq(val)"
      ],
      "metadata": {},
      "execution_count": null
    },
    {
      "cell_type": "markdown",
      "source": [
        "Using `D` or `f'` find the value using automatic differentiation"
      ],
      "metadata": {}
    },
    {
      "outputs": [],
      "cell_type": "code",
      "source": [
        "f(x) = x^x\nc = 2\nval = f'(c)\nnumericq(val)"
      ],
      "metadata": {},
      "execution_count": null
    },
    {
      "cell_type": "markdown",
      "source": [
        "##### Question\n\nMathematically, as the value of `h` in the forward difference gets\nsmaller the forward difference approximation gets better. On the\ncomputer, this is thwarted by floating point representation issues (in\nparticular the error in subtracting two like-sized numbers in forming\n$f(x+h)-f(x)$.)\n\nFor `1e-16` what is the error (in absolute value) in finding the forward difference\napproximation for the derivative of $\\sin(x)$ at $x=0$?"
      ],
      "metadata": {}
    },
    {
      "outputs": [],
      "cell_type": "code",
      "source": [
        "h = 1e-16\nc = 0\napprox = (f(c+h)-f(c))/h\nval = abs(cos(0)  - approx)\nnumericq(val)"
      ],
      "metadata": {},
      "execution_count": null
    },
    {
      "cell_type": "markdown",
      "source": [
        "Repeat for $x=pi/4$:"
      ],
      "metadata": {}
    },
    {
      "outputs": [],
      "cell_type": "code",
      "source": [
        "h = 1e-16\nc = pi/4\napprox = (f(c+h)-f(c))/h\nval = abs(cos(0)  - approx)\nnumericq(val)"
      ],
      "metadata": {},
      "execution_count": null
    },
    {
      "cell_type": "markdown",
      "source": [
        "###### Question\n\nLet $f(x) = x^x$. Using `D`, find $f'(3)$."
      ],
      "metadata": {}
    },
    {
      "outputs": [],
      "cell_type": "code",
      "source": [
        "f(x) = x^x\nval = D(f)(3)\nnumericq(val)"
      ],
      "metadata": {},
      "execution_count": null
    },
    {
      "cell_type": "markdown",
      "source": [
        "###### Question\n\n\nLet $f(x) = \\lvert 1 - \\sqrt{1 + x}\\rvert$. Using `D`, find $f'(3)$."
      ],
      "metadata": {}
    },
    {
      "outputs": [],
      "cell_type": "code",
      "source": [
        "f(x) = abs(1 - sqrt(1 + x))\nval = D(f)(3)\nnumericq(val)"
      ],
      "metadata": {},
      "execution_count": null
    },
    {
      "cell_type": "markdown",
      "source": [
        "###### Question\n\n\nLet $f(x) = e^{\\sin(x)}$. Using `D`, find $f'(3)$."
      ],
      "metadata": {}
    },
    {
      "outputs": [],
      "cell_type": "code",
      "source": [
        "f(x) = exp(sin(x))\nval = D(f)(3)\nnumericq(val)"
      ],
      "metadata": {},
      "execution_count": null
    },
    {
      "cell_type": "markdown",
      "source": [
        "###### Question\n\nFor `Julia`'s\n`airyai` function find a numeric derivative using the\nforward difference. For $c=3$ and $h=10^{-8}$ find the forward\ndifference approximation to $f'(3)$ for the `airyai` function."
      ],
      "metadata": {}
    },
    {
      "outputs": [],
      "cell_type": "code",
      "source": [
        "h = 1e-8\nc = 3\nval = (airyai(c+h) - airyai(c))/h\nnumericq(val)"
      ],
      "metadata": {},
      "execution_count": null
    },
    {
      "cell_type": "markdown",
      "source": [
        "###### Question\n\nFind the rate of change with respect to time of the function $f(t)= 64 - 16t^2$ at $t=1$."
      ],
      "metadata": {}
    },
    {
      "outputs": [],
      "cell_type": "code",
      "source": [
        "fp_(t) = -16*2*t\nc = 1\nnumericq(fp_(c))"
      ],
      "metadata": {},
      "execution_count": null
    },
    {
      "cell_type": "markdown",
      "source": [
        "###### Question\n\nFind the rate of change with respect to height, $h$, of $f(h) = 32h^3 - 62 h + 12$ at $h=2$."
      ],
      "metadata": {}
    },
    {
      "outputs": [],
      "cell_type": "code",
      "source": [
        "fp_(h) = 3*32h^2 - 62\nc = 2\nnumericq(fp_(2))"
      ],
      "metadata": {},
      "execution_count": null
    }
  ],
  "nbformat_minor": 2,
  "metadata": {
    "language_info": {
      "file_extension": ".jl",
      "mimetype": "application/julia",
      "name": "julia",
      "version": "1.5.0"
    },
    "kernelspec": {
      "name": "julia-1.5",
      "display_name": "Julia 1.5.0",
      "language": "julia"
    }
  },
  "nbformat": 4
}
