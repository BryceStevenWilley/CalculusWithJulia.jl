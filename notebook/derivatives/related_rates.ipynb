{
  "cells": [
    {
      "cell_type": "markdown",
      "source": [
        "# Related rates"
      ],
      "metadata": {}
    },
    {
      "outputs": [],
      "cell_type": "code",
      "source": [
        "using CalculusWithJulia\nusing CalculusWithJulia.WeaveSupport\nusing Plots\nnothing"
      ],
      "metadata": {},
      "execution_count": null
    },
    {
      "cell_type": "markdown",
      "source": [
        "Related rates problems involve two (or more) unknown quantities that\nare related through an equation. As the two variables depend on each\nother, also so do their rates - change with respect to some variable\nwhich is often time, though exactly how remains to be\ndiscovered. Hence the name \"related rates.\"\n\n## Examples\n\nThe following is a typical \"book\" problem:\n\n> A screen saver displays the outline of a 3 cm by 2 cm rectangle and\n> then expands the rectangle in such a way that the 2 cm side is\n> expanding at the rate of 4 cm/sec and the proportions of the\n> rectangle never change.  How fast is the area of the rectangle\n> increasing when its dimensions are 12 cm by 8 cm?\n> [Source.](http://oregonstate.edu/instruct/mth251/cq/Stage9/Practice/ratesProblems.html)"
      ],
      "metadata": {}
    },
    {
      "outputs": [],
      "cell_type": "code",
      "source": [
        "### {{{growing_rects}}}\npyplot()\nfig_size=(600, 400)\n\n\n\n## Secant line approaches tangent line...\nfunction growing_rects_graph(n)\n    w = (t) -> 2 + 4t\n    h = (t) -> 3/2 * w(t)\n    t = n - 1\n\n    w_2 = w(t)/2\n    h_2 = h(t)/2\n\n    w_n = w(5)/2\n    h_n = h(5)/2\n\n    plt = plot(w_2 * [-1, -1, 1, 1, -1], h_2 * [-1, 1, 1, -1, -1], xlim=(-17,17), ylim=(-17,17),\n               legend=false, size=fig_size)\n    annotate!(plt, [(-1.5, 1, \"Area = $(round(Int, 4*w_2*h_2))\")])\n    plt\n\n\nend\ncaption = L\"\"\"\n\nAs $t$ increases, the size of the rectangle grows. The ratio of width to height is fixed. If we know the rate of change in time for the width ($dw/dt$) and the height ($dh/dt$) can we tell the rate of change of *area* with respect to time ($dA/dt$)?\n\n\"\"\"\nn=6\n\nanim = @animate for i=1:n\n    growing_rects_graph(i)\nend\n\nimgfile = tempname() * \".gif\"\ngif(anim, imgfile, fps = 1)\n\nplotly()\nImageFile(imgfile, caption)"
      ],
      "metadata": {},
      "execution_count": null
    },
    {
      "cell_type": "markdown",
      "source": [
        "Here we know $A = w \\cdot h$ and we know some things about how $w$ and\n$h$ are related *and* about the rate of how both $w$ and $h$ grow in\ntime $t$. That means that we could express this growth in terms of\nsome functions $w(t)$ and $h(t)$, then we can figure out that the area - as a function of $t$ - will be expressed as:\n\n$$~\nA(t) = w(t) \\cdot h(t).\n~$$\n\nWe would get by the product rule that the *rate of change* of area with respect to time, $A'(t)$ is just:\n\n$$~\nA'(t) = w'(t) h(t) + w(t) h'(t).\n~$$\n\nAs an aside, it is fairly conventional to suppress the $(t)$ part of\nthe notation $A=wh$ and to use the Leibniz notation for derivatives:\n\n$$~\n\\frac{dA}{dt} = \\frac{dw}{dt} h + w \\frac{dh}{dt}.\n~$$\n\nThis relationship is true for all $t$, but the problem discusses a\ncertain value of $t$ - when $w(t)=8$ and $h(t) = 12$. At this same\nvalue of $t$, we have $w'(t) = 4$ and so $h'(t) = 6$. Substituting these 4 values into the 4 unknowns in the formula for $A'(t)$ gives:\n\n$$~\nA'(t) = 4 \\cdot 12 + 8 \\cdot 6 = 96.\n~$$\n\nSummarizing, from the relationship between $A$, $w$ and $t$, there is\na relationship between their rates of growth with respect to $t$, a\ntime variable. Using this and known values, we can compute. In this\ncase $A'$ at the specific $t$.\n\n\nWe could also have done this differently. We would recognize the following:\n\n-  The area of a rectangle is just:"
      ],
      "metadata": {}
    },
    {
      "outputs": [],
      "cell_type": "code",
      "source": [
        "A(w,h) = w * h"
      ],
      "metadata": {},
      "execution_count": null
    },
    {
      "cell_type": "markdown",
      "source": [
        "- The width - expanding at a rate of $4t$ from a starting value of $2$ - must satisfy:"
      ],
      "metadata": {}
    },
    {
      "outputs": [],
      "cell_type": "code",
      "source": [
        "w(t) = 2 + 4*t"
      ],
      "metadata": {},
      "execution_count": null
    },
    {
      "cell_type": "markdown",
      "source": [
        "- The height is a constant proportion of the width:"
      ],
      "metadata": {}
    },
    {
      "outputs": [],
      "cell_type": "code",
      "source": [
        "h(t) = 3/2 * w(t)"
      ],
      "metadata": {},
      "execution_count": null
    },
    {
      "cell_type": "markdown",
      "source": [
        "This means again that area depends on $t$ through this formula:"
      ],
      "metadata": {}
    },
    {
      "outputs": [],
      "cell_type": "code",
      "source": [
        "A(t) = A(w(t), h(t))"
      ],
      "metadata": {},
      "execution_count": null
    },
    {
      "cell_type": "markdown",
      "source": [
        "This is why the rates of change are related: as $w$ and $h$ change in\ntime, the functional relationship with $A$ means $A$ also changes in\ntime.\n\n\n\nNow to answer the question, when the width is 8, we must have that $t$ is:"
      ],
      "metadata": {}
    },
    {
      "outputs": [],
      "cell_type": "code",
      "source": [
        "using CalculusWithJulia               # loads `ForwardDiff`, `Roots`\nusing Plots\ntstar = fzero(x -> w(x) - 8, [0, 4])  # or solve by hand to get 3/2"
      ],
      "metadata": {},
      "execution_count": null
    },
    {
      "cell_type": "markdown",
      "source": [
        "The question is to find the rate the area is increasing at the given\ntime $t$, which is $A'(t)$ or $dA/dt$. We get this by performing the\ndifferentiation, the substituting in the value.\n\nHere we do so with the aid of `Julia`, though this problem could readily be done \"by hand.\"\n\nWe (again) re-express $A$ as a function of $t$ by composition, then differentiate that:"
      ],
      "metadata": {}
    },
    {
      "outputs": [],
      "cell_type": "code",
      "source": [
        "A(t) = A(w(t), h(t))\nda_dt = A'(tstar)"
      ],
      "metadata": {},
      "execution_count": null
    },
    {
      "cell_type": "markdown",
      "source": [
        "So what? Why is 96 of any interest? It is if the value at a specific\ntime is needed. But in general, a better question might be to\nunderstand if there is some pattern to the numbers in the figure,\nthese being $6, 54, 150, 294, 486, 726$. Their differences are the\n*average* rate of change:"
      ],
      "metadata": {}
    },
    {
      "outputs": [],
      "cell_type": "code",
      "source": [
        "xs = [6, 54, 150, 294, 486, 726]\nds = diff(xs)"
      ],
      "metadata": {},
      "execution_count": null
    },
    {
      "cell_type": "markdown",
      "source": [
        "Those seem to be increasing by a fixed amount each time, which we can see by one more application of `diff`:"
      ],
      "metadata": {}
    },
    {
      "outputs": [],
      "cell_type": "code",
      "source": [
        "diff(ds)"
      ],
      "metadata": {},
      "execution_count": null
    },
    {
      "cell_type": "markdown",
      "source": [
        "How can this relationship be summarized? Well, let's go back to what we know, though this time using symbolic math:"
      ],
      "metadata": {}
    },
    {
      "outputs": [],
      "cell_type": "code",
      "source": [
        "using SymPy\n@vars t\ndiff(A(t), t)"
      ],
      "metadata": {},
      "execution_count": null
    },
    {
      "cell_type": "markdown",
      "source": [
        "This should be clear: the rate of change, $dA/dt$, is increasing\nlinearly, hence the second derivative, $dA^2/dt^2$ would be constant,\njust as we saw for the average rate of change.\n\nSo, for this problem, a constant rate of change in width and height\nleads to a linear rate of change in area, put otherwise, linear growth\nin both width and height leads to quadratic growth in area.\n\n##### Example\n\nA ladder, with length $l$, is leaning against a wall. We parameterize\nthis problem so that the top of the ladder is at $(0,h)$ and the\nbottom at $(b, 0)$. Then $l^2 = h^2 + b^2$ is a constant.\n\nIf the ladder starts to slip away at the base, but remains in contact\nwith the wall, express the rate of change of $h$ with respect to $t$\nin terms of $db/dt$.\n\nWe have from implicitly differentiating in $t$ the equation $l^2 = h^2 + b^2$,  noting that $l$ is a constant, that:\n\n$$~\n0 = 2h \\frac{dh}{dt} + 2b \\frac{db}{dt}.\n~$$\n\n\nSolving, yields:\n\n$$~\n\\frac{dh}{dt} = -\\frac{b}{h} \\cdot \\frac{db}{dt}.\n~$$\n\n\n* If $l = 12$ and $db/dt = 2$ when $b=4$, find $dh/dt$.\n\nWe just need to find $h$ for this value of $b$, as the other two quantities in the last equation are known. But $h = \\sqrt{l^2 - b^2}$, so the answer is:"
      ],
      "metadata": {}
    },
    {
      "outputs": [],
      "cell_type": "code",
      "source": [
        "l, b, dbdt = 12, 4, 2\nheight = sqrt(l^2 - b^2)\n-b/height * dbdt"
      ],
      "metadata": {},
      "execution_count": null
    },
    {
      "cell_type": "markdown",
      "source": [
        "* What happens to the rate as $b$ goes to $l$?\n\nAs $b$ goes to $l$, $h$ goes to 0, so $b/h$ blows up. Unless $db/dt$\ngoes to $0$, the expression will become $-\\infty$.\n\n\n\n##### Example"
      ],
      "metadata": {}
    },
    {
      "outputs": [],
      "cell_type": "code",
      "source": [
        "###{{{baseball_been_berry_good}}}\n## Secant line approaches tangent line...\npyplot()\nfunction baseball_been_berry_good_graph(n)\n\n    v0 = 15\n    x = (t) -> 50t\n    y = (t) -> v0*t - 5 * t^2\n\n\n    ns = range(.25, stop=3, length=8)\n\n    t = ns[n]\n    ts = range(0, stop=t, length=50)\n    xs = map(x, ts)\n    ys = map(y, ts)\n\n    degrees = atand(y(t)/(100-x(t)))\n    degrees = degrees < 0 ? 180 + degrees : degrees\n\n    plt = plot(xs, ys, legend=false, size=fig_size, xlim=(0,150), ylim=(0,15))\n    plot!(plt, [x(t), 100], [y(t), 0.0], color=:orange)\n    annotate!(plt, [(55, 4,\"theta = $(round(Int, degrees)) degrees\"),\n                    (x(t), y(t), \"($(round(Int, x(t))), $(round(Int, y(t))))\")])\n\nend\ncaption = L\"\"\"\n\nThe flight of the ball as being tracked by a stationary outfielder.  This ball will go over the head of the player. What can the player tell from the quantity $d\\theta/dt$?\n\n\"\"\"\nn = 8\n\n\nanim = @animate for i=1:n\n    baseball_been_berry_good_graph(i)\nend\n\n\nimgfile = tempname() * \".gif\"\ngif(anim, imgfile, fps = 1)\n\nplotly()\nImageFile(imgfile, caption)"
      ],
      "metadata": {},
      "execution_count": null
    },
    {
      "cell_type": "markdown",
      "source": [
        "A baseball player stands 100 meters from home base. A batter hits the\nball directly at the player so that the distance from home plate is\n$x(t)$ and the height is $y(t)$.\n\nThe player tracks the flight of the ball in terms of the angle\n$\\theta$ made between the ball and the player. This will satisfy:\n\n$$~\n\\tan(\\theta) = \\frac{y(t)}{100 - x(t)}.\n~$$\n\nWhat is the rate of change of $\\theta$ with respect to $t$ in terms of that of $x$ and $y$?\n\nWe have by the chain rule and quotient rule:\n\n$$~\n\\sec^2(\\theta) \\theta'(t) = \\frac{y'(t) \\cdot (100 - x(t)) - y(t) \\cdot (-x'(t))}{(100 - x(t))^2}.\n~$$\n\nIf we have $x(t) = 50t$ and $y(t)=v_{0y} t - 5 t^2$ when is the rate of change of the angle happening most quickly?\n\n\nThe formula for $\\theta'(t)$ is\n\n$$~\n\\theta'(t) = \\cos^2(\\theta) \\cdot \\frac{y'(t) \\cdot (100 - x(t)) - y(t) \\cdot (-x'(t))}{(100 - x(t))^2}.\n~$$\n\nThis question requires us to differentiate *again* in $t$. Since we\nhave fairly explicit function for $x$ and $y$, we will use `SymPy` to\ndo this."
      ],
      "metadata": {}
    },
    {
      "outputs": [],
      "cell_type": "code",
      "source": [
        "@vars t\ntheta = SymFunction(\"theta\")\n\nv0 = 5\nx(t) = 50t\ny(t) = v0*t - 5 * t^2\neqn = tan(theta(t)) - y(t) / (100 - x(t))"
      ],
      "metadata": {},
      "execution_count": null
    },
    {
      "outputs": [],
      "cell_type": "code",
      "source": [
        "thetap = diff(theta(t),t)\ndtheta = solve(diff(eqn, t), thetap)[1]"
      ],
      "metadata": {},
      "execution_count": null
    },
    {
      "cell_type": "markdown",
      "source": [
        "We could proceed directly by evaluating:"
      ],
      "metadata": {}
    },
    {
      "outputs": [],
      "cell_type": "code",
      "source": [
        "d2theta = diff(dtheta, t)(thetap => dtheta)"
      ],
      "metadata": {},
      "execution_count": null
    },
    {
      "cell_type": "markdown",
      "source": [
        "That is not so tractable, however.\n\nIt helps to simplify\n$\\cos^2(\\theta(t))$ using basic right-triangle trigonometry. Recall, $\\theta$ comes from a right triangle with\nheight $y(t)$ and length $(100 - x(t))$. The cosine of this angle will\nbe $100 - x(t)$ divided by the length of the hypotenuse. So we can\nsubstitute:"
      ],
      "metadata": {}
    },
    {
      "outputs": [],
      "cell_type": "code",
      "source": [
        "dtheta = dtheta(cos(theta(t))^2 => (100 -x(t))^2/(y(t)^2 + (100-x(t))^2))"
      ],
      "metadata": {},
      "execution_count": null
    },
    {
      "cell_type": "markdown",
      "source": [
        "Plotting reveals some interesting things. For $v_{0y} < 10$ we have graphs that look like:"
      ],
      "metadata": {}
    },
    {
      "outputs": [],
      "cell_type": "code",
      "source": [
        "plot(dtheta, 0, v0/5)"
      ],
      "metadata": {},
      "execution_count": null
    },
    {
      "cell_type": "markdown",
      "source": [
        "The ball will drop in front of the player, and the change in $d\\theta/dt$ is monotonic.\n\n\n\nBut let's rerun the code with $v_{0y} > 10$:"
      ],
      "metadata": {}
    },
    {
      "outputs": [],
      "cell_type": "code",
      "source": [
        "v0 = 15\nx(t) = 50t\ny(t) = v0*t - 5 * t^2\neqn = tan(theta(t)) - y(t) / (100 - x(t))\nthetap = diff(theta(t),t)\ndtheta = solve(diff(eqn, t), thetap)[1]\ndtheta = subs(dtheta, cos(theta(t))^2, (100 - x(t))^2/(y(t)^2 + (100 - x(t))^2))\nplot(dtheta, 0, v0/5)"
      ],
      "metadata": {},
      "execution_count": null
    },
    {
      "cell_type": "markdown",
      "source": [
        "In the second case we have a different shape. The graph is not\nmonotonic, and before the peak there is an inflection point.  Without\nthinking too hard, we can see that the greatest change in the angle is\nwhen it is just above the head ($t=2$ has $x(t)=100$).\n\nThat these two graphs differ so, means that the player may be able to\nread if the ball is going to go over his or her head by paying\nattention to the how the ball is being tracked.\n\n##### Example\n\nHipster pour-over coffee is made with a conical coffee filter. The\ncone is actually a [frustum](http://en.wikipedia.org/wiki/Frustum) of\na cone with small diameter, say $r_0$ chopped off. We will parameterize\nour cone by a value $h \\geq 0$ on the $y$ axis and an angle $\\theta$\nformed by a side and the $y$ axis. Then the coffee filter is the part\nof the cone between some $h_0$ (related  $r_0=h_0 \\tan(\\theta)$) and $h$.\n\nThe volume of a cone of height $h$ is $V(h) = \\pi/3 h \\cdot\nR^2$. From the geometry, $R = h\\tan(\\theta)$. The volume of the\nfilter then is:\n\n$$~\nV = V(h) - V(h_0).\n~$$\n\nWhat is $dV/dh$ in terms of $dR/dh$?\n\nDifferentiating implicitly gives:\n\n\n$$~\n\\frac{dV}{dh} = \\frac{\\pi}{3} ( R(h)^2 + h \\cdot 2 R \\frac{dR}{dh}).\n~$$\n\nWe see that it depends on $R$ and the change in $R$ with respect to $h$. However, we visualize $h$ - the height - so it is better to re-express. Clearly, $dR/dh = \\tan\\theta$ and using $R(h) = h \\tan(\\theta)$ we get:\n\n$$~\n\\frac{dV}{dh} = \\pi h^2 \\tan^2(\\theta).\n~$$\n\nThe rate of change goes down as $h$ gets smaller ($h \\geq h_0$) and gets bigger for bigger $\\theta$.\n\nHow do the quantities vary in time?\n\nFor an incompressible fluid, by balancing the volume leaving with how\nit leaves we will have $dh/dt$ is the ratio of the cross-sectional\narea at bottom over that at the height of the fluid $(\\pi \\cdot (h_0\\tan(\\theta))^2) /\n(\\pi \\cdot ((h\\tan\\theta))^2)$ times the outward velocity of the fluid.\n\nThat is $dh/dt = (h_0/h)^2 \\cdot v$. Which makes sense - larger openings\n($h_0$) mean more fluid lost per unit time so the height change\nfollows, higher levels ($h$) means the change in height is slower, as\nthe cross-sections have more volume.\n\n\nBy [Torricelli's](http://en.wikipedia.org/wiki/Torricelli's_law) law,\nthe out velocity follows the law $v = \\sqrt{2g(h-h_0)}$. This gives:\n\n$$~\n\\frac{dh}{dt} = \\frac{h_0^2}{h^2} \\cdot v = \\frac{h_0^2}{h^2} \\sqrt{2g(h-h_0)}.\n~$$\n\nIf $h >> h_0$, then $\\sqrt{h-h_0} = \\sqrt{h}\\sqrt(1 - h_0/h) \\approx \\sqrt{h}(1 - (1/2)(h_0/h)) \\approx \\sqrt{h}$. So the rate of change of height in time is like $1/h^{3/2}$.\n\n\nNow, by the chain rule, we have then the rate of change of volume with respect to time, $dV/dt$, is:\n\n$$~\n\\frac{dV}{dt} =\n\\frac{dV}{dh} \\cdot \\frac{dh}{dt} =\n\\pi h^2 \\tan^2(\\theta) \\cdot \\frac{h_0^2}{h^2} \\sqrt{2g(h-h_0)} =\n\\pi \\sqrt{2g} \\cdot (r_0)^2 \\cdot \\sqrt{h-h_0}\n\\approx \\pi \\sqrt{2g} \\cdot r_0^2 \\cdot \\sqrt{h}\n~$$\n\n\n\nThis rate depends on the square of the size of the\nopening ($r_0^2$) and the square root of the height ($h$), but not the\nangle of the cone.\n\n## Questions\n\n###### Question\n\nSupply and demand. Suppose demand for product $XYZ$ is $d(x)$ and supply\nis $s(x)$. The excess demand is $d(x) - s(x)$. Suppose this is positive. How does this influence\nprice? Guess the \"law\" of economics that applies:"
      ],
      "metadata": {}
    },
    {
      "outputs": [],
      "cell_type": "code",
      "source": [
        "choices = [\nL\"The rate of change of price will be $0$\",\n\"The rate of change of price will increase\",\n\"The rate of change of price will be positive and will depend on the rate of change of excess demand.\"\n]\nans = 3\nradioq(choices, ans, keep_order=true)"
      ],
      "metadata": {},
      "execution_count": null
    },
    {
      "cell_type": "markdown",
      "source": [
        "###### Question\n\nWhich makes more sense from an economic viewpoint?"
      ],
      "metadata": {}
    },
    {
      "outputs": [],
      "cell_type": "code",
      "source": [
        "choices = [\n\"If the rate of change of unemployment is negative, the rate of change of wages will be negative.\",\n\"If the rate of change of unemployment is negative, the rate of change of wages will be positive.\"\n]\nans = 2\nradioq(choices, ans, keep_order=true)"
      ],
      "metadata": {},
      "execution_count": null
    },
    {
      "cell_type": "markdown",
      "source": [
        "###### Question\n\nIn chemistry there is a fundamental relationship between pressure\n($P$), temperature ($T)$ and volume ($V$) given by $PV=cT$ where $c$\nis a constant. Which of the following would be true with respect to time?"
      ],
      "metadata": {}
    },
    {
      "outputs": [],
      "cell_type": "code",
      "source": [
        "choices = [\nL\"The rate of change of pressure is always increasing by $c$\",\n\"If volume is constant, the rate of change of pressure is proportional to the temperature\",\n\"If volume is constant, the rate of change of pressure is proportional to the rate of change of temperature\",\n\"If pressure is held constant, the rate of change of pressure is proportional to the rate of change of temperature\"]\nans = 3\nradioq(choices, ans, keep_order=true)"
      ],
      "metadata": {},
      "execution_count": null
    },
    {
      "cell_type": "markdown",
      "source": [
        "###### Question\n\nA pebble is thrown into a lake causing ripples to form expanding\ncircles. Suppose one of the circles expands at a rate of 1 foot per second and\nthe radius of the circle is 10 feet, what is the rate of change of\nthe area enclosed by the circle?"
      ],
      "metadata": {}
    },
    {
      "outputs": [],
      "cell_type": "code",
      "source": [
        "# a = pi*r^2\n# da/dt = pi * 2r * drdt\nr = 10; drdt = 1\nval = pi * 2r * drdt\nnumericq(val, units=L\"feet$^2$/second\")"
      ],
      "metadata": {},
      "execution_count": null
    },
    {
      "cell_type": "markdown",
      "source": [
        "###### Question\n\nA pizza maker tosses some dough in the air. The dough is formed in a\ncircle with radius 10. As it rotates, its area increases at a rate of\n1 inch$^2$ per second. What is the rate of change of the radius?"
      ],
      "metadata": {}
    },
    {
      "outputs": [],
      "cell_type": "code",
      "source": [
        "# a = pi*r^2\n# da/dt = pi * 2r * drdt\nr = 10; dadt = 1\nval =  dadt /( pi * 2r)\nnumericq(val, units=\"inches/second\")"
      ],
      "metadata": {},
      "execution_count": null
    },
    {
      "cell_type": "markdown",
      "source": [
        "###### Question\n\n\nAn FBI agent with a powerful spyglass is located in a boat anchored\n400 meters offshore.  A gangster under surveillance is driving along\nthe shore. Assume the shoreline is straight and that the gangster is 1\nkm from the point on the shore nearest to the boat.  If the spyglasses\nmust rotate at a rate of $\\pi/4$ radians per minute to track\nthe gangster, how fast is the gangster moving? (In kilometers per minute.)\n[Source.](http://oregonstate.edu/instruct/mth251/cq/Stage9/Practice/ratesProblems.html)"
      ],
      "metadata": {}
    },
    {
      "outputs": [],
      "cell_type": "code",
      "source": [
        "## tan(theta) = x/y\n## sec^2(theta) dtheta/dt = 1/y dx/dt (y is constant)\n## dxdt = y sec^2(theta) dtheta/dt\ndthetadt = pi/4\ny0 = .4; x0 = 1.0\ntheta = atan(x0/y0)\nval = y0 * sec(theta)^2 * dthetadt\nnumericq(val, units=\"kilometers/minute\")"
      ],
      "metadata": {},
      "execution_count": null
    },
    {
      "cell_type": "markdown",
      "source": [
        "###### Question\n\nA flood lamp is installed on the ground 200 feet from a vertical\nwall. A six foot tall man is walking towards the wall at the rate of\n4 feet per second. How fast is the tip of his shadow moving down the\nwall when he is 50 feet from the wall?\n[Source.](http://oregonstate.edu/instruct/mth251/cq/Stage9/Practice/ratesProblems.html)\n(As the question is written the answer should be positive.)"
      ],
      "metadata": {}
    },
    {
      "outputs": [],
      "cell_type": "code",
      "source": [
        "## y/200 = 6/x\n## dydt = 200 * 6 * -1/x^2 dxdt\nx0 = 200 - 50\ndxdt = 4\nval = 200 * 6 * (1/x0^2) * dxdt\nnumericq(val, units=\"feet/second\")"
      ],
      "metadata": {},
      "execution_count": null
    },
    {
      "cell_type": "markdown",
      "source": [
        "###### Question\n\n\nConsider the hyperbola $y = 1/x$ and think of it as a slide. A\nparticle slides along the hyperbola so that its x-coordinate is\nincreasing at a rate of $f(x)$ units/sec. If its $y$-coordinate is\ndecreasing at a constant rate of $1$ unit/sec, what is $f(x)$?\n[Source.](http://oregonstate.edu/instruct/mth251/cq/Stage9/Practice/ratesProblems.html)"
      ],
      "metadata": {}
    },
    {
      "outputs": [],
      "cell_type": "code",
      "source": [
        "choices = [\nL\"f(x) = 1/x\",\nL\"f(x) = x^0\",\nL\"f(x) = x\",\nL\"f(x) = x^2\"\n]\nans = 4\nradioq(choices, ans)"
      ],
      "metadata": {},
      "execution_count": null
    },
    {
      "cell_type": "markdown",
      "source": [
        "###### Question\n\nA balloon is in the shape of a sphere. Fortunately, as this gives\n$V=4/3 \\pi r^3$ for the volume. If it is being filled with a rate of\nchange of volume per unit time is $2$ and the radius is $3$, what is\nrate of change of radius per unit time?"
      ],
      "metadata": {}
    },
    {
      "outputs": [],
      "cell_type": "code",
      "source": [
        "r, dVdt = 3, 2\ndrdt = dVdt / (4 * pi * r^2)\nnumericq(drdt, units=\"units per unit time\")"
      ],
      "metadata": {},
      "execution_count": null
    },
    {
      "cell_type": "markdown",
      "source": [
        "###### Question\n\nConsider the curve $f(x) = x^2 - \\log(x)$. For a given $x$, the tangent line intersects the $y$ axis. Where?"
      ],
      "metadata": {}
    },
    {
      "outputs": [],
      "cell_type": "code",
      "source": [
        "choices = [\nL\"y = 1 - x^2 - \\log(x)\",\nL\"y = 1 - x^2\",\nL\"y = 1 - \\log(x)\",\nL\"y = x(2x - 1/x)\"\n]\nans = 1\nradioq(choices, ans)"
      ],
      "metadata": {},
      "execution_count": null
    },
    {
      "cell_type": "markdown",
      "source": [
        "If $dx/dt = -1$, what is $dy/dt$?"
      ],
      "metadata": {}
    },
    {
      "outputs": [],
      "cell_type": "code",
      "source": [
        "choices = [\nL\"dy/dt = 2x + 1/x\",\nL\"dy/dt = 1 - x^2 - \\log(x)\",\nL\"dy/dt = -2x - 1/x\",\nL\"dy/dt = 1\"\n]\nans=1\nradioq(choices, ans)"
      ],
      "metadata": {},
      "execution_count": null
    }
  ],
  "nbformat_minor": 2,
  "metadata": {
    "language_info": {
      "file_extension": ".jl",
      "mimetype": "application/julia",
      "name": "julia",
      "version": "1.5.0"
    },
    "kernelspec": {
      "name": "julia-1.5",
      "display_name": "Julia 1.5.0",
      "language": "julia"
    }
  },
  "nbformat": 4
}
