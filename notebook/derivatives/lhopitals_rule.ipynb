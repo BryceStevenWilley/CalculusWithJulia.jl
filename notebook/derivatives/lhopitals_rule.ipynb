{
  "cells": [
    {
      "cell_type": "markdown",
      "source": [
        "# L'Hospital's Rule"
      ],
      "metadata": {}
    },
    {
      "outputs": [],
      "cell_type": "code",
      "source": [
        "using CalculusWithJulia\nusing CalculusWithJulia.WeaveSupport\nusing Plots\nnothing"
      ],
      "metadata": {},
      "execution_count": null
    },
    {
      "cell_type": "markdown",
      "source": [
        "Let's return to limits of the form $f(x)/g(x)$ which have an\nindeterminate form of $0/0$ if both are evaluated at $c$. The typical\nexample being the limit considered by Euler:\n\n$$~\n\\lim_{x\\rightarrow 0} \\frac{\\sin(x)}{x}.\n~$$\n\nWe know this is $1$ using a bound from geometry, but might also guess\nthis is one, as we know from linearization near $0$ that we have\n\n$$~\n\\sin(x) = x - \\sin(\\xi)x^2/2, \\quad 0 < \\xi < x.\n~$$\n\nThis would yield:\n\n$$~\n\\lim_{x \\rightarrow 0} \\frac{\\sin(x)}{x} = \\lim_{x\\rightarrow 0} \\frac{x -\\sin(\\xi) x^2/2}{x} = \\lim_{x\\rightarrow 0} 1 + \\sin(\\xi) \\cdot x/2 = 1.\n~$$\n\nThis is because we know $\\sin(\\xi) x/2$  has a limit of $0$, when $|\\xi| \\leq |x|$.\n\nThat doesn't look any easier, as we worried about the error term, but\nif just mentally replaced $\\sin(x)$ with $x$ - which it basically is\nnear $0$ - then we can see that the limit should be the same as $x/x$\nwhich we know is $1$ without thinking.\n\n\nBasically, we found that in terms of limits, if both $f(x)$ and $g(x)$\nare $0$ at $c$, that we *might* be able to just take this limit:\n$(f(c) + f'(c) \\cdot(x-c)) / (g(c) + g'(c) \\cdot (x-c))$ which is just\n$f'(c)/g'(c)$.\n\nWouldn't that be nice? We could find difficult limits just by\ndifferentiating the top and the bottom at $c$ (and not use the messy quotient rule).\n\n\nWell, in fact that is more or less true, a fact that dates back to\n[L'Hospital](http://en.wikipedia.org/wiki/L%27H%C3%B4pital%27s_rule) -\nwho wrote the first textbook on differential calculus - though this result is\nlikely due to one of the Bernoulli brothers.\n\n> **L'Hospital's rule**: Suppose, $f$ and $g$ are differentiable in $(a,b)$\n> with $a < c < b$. Moreover, suppose $|g(x)| > 0$ for all $x$ in $(a,b)$ except\n> at $c$. Further suppose $f(c)=g(c) =0$. If $\\lim_{x\\rightarrow\n> c}f'(x)/g'(x)=L$ (the limit exists), then $L = \\lim_{x \\rightarrow\n> c}f(x)/g(x)$.\n\nThat is *if* the limit of $f(x)/g(x)$ is indeterminate of the form $0/0$,\nbut the limit of $f'(x)/g'(x)$ is known, possibly by simple\ncontinuity, then the limit of $f(x)/g(x)$ exists and is equal to that\nof $f'(x)/g'(x)$.\n\nTo apply this rule to Euler's example, $\\sin(x)/x$, we just need to consider that:\n\n$$~\nL = 1 = \\lim_{x \\rightarrow 0}\\frac{\\cos(x)}{1},\n~$$\n\nSo, as well, $\\lim_{x \\rightarrow 0} \\sin(x)/x = 1$.\n\nThis is due to $\\cos(x)$ being continuous at $0$, so this limit is\njust $\\cos(0)/1$. (More importantly, the tangent line expansion of\n$\\sin(x)$ at $0$ is $\\sin(0) + \\cos(0)x$, so that $\\cos(0)$ is why\nthis answer is as it is, but we don't need to think in terms of\n$\\cos(0)$, but rather the tangent-line expansion, which is $\\sin(x)\n\\approx x$, as $\\cos(0)$ appears as the coefficient.\n\n#####  Examples\n\n- Consider this limit at $0$: $(a^x - 1)/x$. We have $f(x) =a^x-1$ has\n  $f(0) = 0$, so this limit is indeterminate of the form $0/0$. The\n  derivative of $f(x)$ is $f'(x) = a^x \\log(a)$ which has $f'(0) = \\log(a)$.\n  The derivative of the bottom is also $1$ at $0$, so we have:\n\n$$~\n\\log(a) = \\frac{\\log(a)}{1} = \\frac{f'(0)}{g'(0)} = \\lim_{x \\rightarrow 0}\\frac{f'(x)}{g'(x)} = \\lim_{x \\rightarrow 0}\\frac{f(x)}{g(x)}\n= \\lim_{x \\rightarrow 0}\\frac{a^x - 1}{x}.\n~$$\n\n(Why rewrite in the \"opposite\" direction? Because the theorem's result ($L$ is the limit) is only true if the related limit involving the derivative exists.)\n\n- Consider this limit:\n\n$$~\n\\lim_{x \\rightarrow 0} \\frac{e^x - e^{-x}}{x}.\n~$$\n\nIt too is of the indeterminate form $0/0$. The derivative of the top\nis $e^x + e^{-x}$, which is $2$ when $x=0$, so the ratio of\n$f'(0)/g'(0)$ is seen to be 2. By L'Hospital's rule, the limit above is\n$2$.\n\n\n- Sometimes, L'Hospital's rule must be applied twice. Consider this\n  limit:\n\n$$~\n\\lim_{x \\rightarrow 0} \\frac{\\cos(x)}{1 - x^2}\n~$$\n\nBy L'Hospital's rule *if* this following limit exists, the two will be equal:\n\n$$~\n\\lim_{x \\rightarrow 0} \\frac{-\\sin(x)}{-2x}.\n~$$\n\nBut if we didn't guess the answer, we see that this new problem is *also* indeterminate\nof the form $0/0$. So, repeating the process, this new limit will exist and be equal to the following\nlimit, should it exist:\n\n$$~\n\\lim_{x \\rightarrow 0} \\frac{-\\cos(x)}{-2} = 1/2.\n~$$\n\nAs $L = 1/2$ for this related limit, it must also be the limit of the original problem, by L'Hospital's rule.\n\n\n- Our \"intuitive\" limits can bump into issues. Take for example the limit of $(\\sin(x)-x)/x^2$ as $x$ goes to $0$. Using $\\sin(x) \\approx x$ makes this look like $0/x^2$ which is still indeterminate. (Because the difference is higher order than $x$.) Using L'Hospitals, says this limit will exist (and be equal) if the following one does:\n\n$$~\n\\lim_{x \\rightarrow 0} \\frac{\\cos(x) - 1}{2x}.\n~$$\n\nThis particular limit is indeterminate of the form $0/0$, so we again try L'Hospital's rule and consider\n\n\n$$~\n\\lim_{x \\rightarrow 0} \\frac{-\\sin(x)}{2} = 0\n~$$\n\nSo as this limit exists, working backwards, the original limit in question will also be $0$.\n\n\n- This example comes from the Wikipedia page. It \"proves\" a discrete approximation for the second derivative.\n\nShow if $f''(x)$ exists at $c$ and is continuous at $c$, then\n\n$$~\nf''(c) = \\lim_{h \\rightarrow 0} \\frac{f(c + h) - 2f(c) + f(c-h)}{h^2}.\n~$$\n\nThis will follow from two applications of L'Hospital's rule to the\nright-hand side. The first says, the limit on the right is equal to\nthis limit, should it exist:\n\n$$~\n\\lim_{h \\rightarrow 0} \\frac{f'(c+h) - 0 - f'(c-h)}{2h}.\n~$$\n\nWe have to be careful, as we differentiate in the $h$ variable, not\nthe $c$ one, so the chain rule brings out the minus sign. But again,\nas we still have an indeterminate form $0/0$, this limit will equal the\nfollowing limit should it exist:\n\n$$~\n\\lim_{h \\rightarrow 0} \\frac{f''(c+h) - 0 - (-f''(c-h))}{2} =\n\\lim_{c \\rightarrow 0}\\frac{f''(c+h) + f''(c-h)}{2} = f''(c).\n~$$\n\nThat last equality follows, as it is assumed that $f''(x)$ exists at $c$ and is continuous, that is, $f''(c \\pm h) \\rightarrow f''(c)$.\n\nThe expression above finds use when second derivatives are numerically approximated. (The middle expression is the basis of the central-finite difference approximation to the derivative.)\n\n## Why?\n\nThe proof of L'Hospital's rule takes advantage of Cauchy's\n[generalization](http://en.wikipedia.org/wiki/Mean_value_theorem#Cauchy.27s_mean_value_theorem)\nof the mean value theorem to two functions. Let $f(x)$ and $g(x)$ be\ncontinuous on $[a,b]$ and differentiable on $(a,b)$ so that on\n$[c,c+x]$ there exists a $\\xi$ with $f'(\\xi) \\cdot (f(x) - f(c)) =\ng'(\\xi) \\cdot (g(x) - g(c))$. In our formulation, both $f(c)$ and $g(c)$\nare zero, so we have, provided we know that $g(x)$ is non zero, that\n$f(x)/g(x) = f'(\\xi)/g'(\\xi)$ for some $\\xi$, $c < \\xi < c + x$. That\nthe right-hand side has a limit as $x \\rightarrow c+$ is true by the\nassumption that the limit of the derivative's ratio exists. (The $\\xi$\npart can be removed by considering it as a composition of a function\ngoing to $c$.) Thus the right limit of the left hand side is\nknown. Similarly, working with $[c-x, c]$ we can get the left limit is\nknown and is equal to the right.\n\n### L'Hospital's picture"
      ],
      "metadata": {}
    },
    {
      "outputs": [],
      "cell_type": "code",
      "source": [
        "## {{{lhopitals_picture}}}\npyplot()\nfig_size=(600, 400)\n\n\nfunction lhopitals_picture_graph(n)\n\n    g = (x) -> sqrt(1 + x) - 1 - x^2\n    f = (x) -> x^2\n    ts = range(-1/2, stop=1/2, length=50)\n\n\n    a, b = 0, 1/2^n * 1/2\n    m = (f(b)-f(a)) /  (g(b)-g(a))\n\n    ## get bounds\n    tl = (x) -> g(0) + m * (x - f(0))\n\n    lx = max(fzero(x -> tl(x) - (-0.05),-1000, 1000), -0.6)\n    rx = min(fzero(x -> tl(x) - (0.25),-1000, 1000), 0.2)\n    xs = [lx, rx]\n    ys = map(tl, xs)\n\n    plt = plot(g, f, -1/2, 1/2, legend=false, size=fig_size, xlim=(-.6, .5), ylim=(-.1, .3))\n    plot!(plt, xs, ys, color=:orange)\n    scatter!(plt, [g(a),g(b)], [f(a),f(b)], markersize=5, color=:orange)\n    plt\nend\n\ncaption = L\"\"\"\n\nGeometric interpretation of $L=\\lim_{x \\rightarrow 0} x^2 / (\\sqrt{1 +\nx} - 1 - x^2)$. At $0$ this limit is indeterminate of the form\n$0/0$. The value for a fixed $x$ can be seen as the slope of a secant\nline of a parametric plot of the two functions, plotted as $(g,\nf)$. In this figure, the limiting \"tangent\" line has $0$ slope,\ncorresponding to the limit $L$. In general, L'Hospital's rule is\nnothing more than a statement about slopes of tangent lines.\n\n\"\"\"\n\nn = 6\nanim = @animate for i=1:n\n    lhopitals_picture_graph(i)\nend\n\nimgfile = tempname() * \".gif\"\ngif(anim, imgfile, fps = 1)\n\n\nplotly()\nImageFile(imgfile, caption)"
      ],
      "metadata": {},
      "execution_count": null
    },
    {
      "cell_type": "markdown",
      "source": [
        "## Generalizations\n\nL'Hospital's rule generalizes to other indeterminate forms, in\nparticular $\\infty/\\infty$ can be proved at the same time as $0/0$\nwith a more careful\n[proof](http://en.wikipedia.org/wiki/L%27H%C3%B4pital%27s_rule#General_proof).\n\n\nIn addition, indeterminate forms of the type $0 \\cdot \\infty$, $0^0$\nand $\\infty^\\infty$ can be re-expressed to be in the form $0/0$ or\n$\\infty/\\infty$.\n\n\nFor example, consider\n\n$$~\n\\lim_{x \\rightarrow \\infty} \\frac{x}{e^x}.\n~$$\n\nWe see it is of the form $\\infty/\\infty$ (That we are taking a limit\nat $\\infty$ is also a generalization.) We have by the generalized\nL'Hospital rule that this limit will exist and be equal to this one,\nshould it exist:\n\n$$~\n\\lim_{x \\rightarrow \\infty} \\frac{1}{e^x}.\n~$$\n\nThis limit is, of course, $0$, as it is of the form $1/\\infty$. It is not\nhard to build up from here to show that for any integer value of $n>0$\nthat:\n\n$$~\n\\lim_{x \\rightarrow \\infty} \\frac{x^n}{e^x} = 0.\n~$$\n\nThis is an expression of the fact that exponential functions grow faster than polynomial functions.\n\n##### Examples\n\n- What is the limit $x \\log(x)$ as $x \\rightarrow 0+$?\n\nRewriting, we see this is just:\n\n$$~\n\\lim_{x \\rightarrow 0+}\\frac{\\log(x)}{1/x}.\n~$$\n\nL'Hospital's rule clearly applies to one sided limits, as well as two\n(our proof sketch used one-sided limits), so this limit will equal the\nfollowing, should it exist:\n\n$$~\n\\lim_{x \\rightarrow 0+}\\frac{1/x}{-1/x^2} = \\lim_{x \\rightarrow 0+} -x = 0.\n~$$\n\n- What is the limit $x^x$ as $x \\rightarrow 0+$? The expression is of the form $0^0$, which is indeterminate. (Even though floating point math defines the value as $1$.) We can rewrite this by taking a log:\n\n$$~\nx^x = \\exp(\\log(x^x)) = \\exp(x \\log(x)) = \\exp(\\log(x)/(1/x)).\n~$$\n\nBe just saw that $\\lim_{x \\rightarrow 0+}\\log(x)/(1/x) = 0$. So by the\nrules for limits of compositions and the fact that $e^x$ is\ncontinuous, we see $\\lim_{x \\rightarrow 0+} x^x = e^0 = 1$.\n\n\n- L'Hospital himself was interested in this limit for $a > 0$\n\n$$~\n\\lim_{x \\rightarrow a} \\frac{\\sqrt{2a^3\\cdot x-x^4} - a\\cdot(a^2\\cdot x)^{1/3}}{ a - (a\\cdot x^3)^{1/4}}.\n~$$\n\n\nThese derivatives can be done by hand, but to avoid any minor mistakes\nwe utilize `SymPy` taking care to use rational numbers for the\nfractional powers, so as not to lose precision through floating point\nroundoff:"
      ],
      "metadata": {}
    },
    {
      "outputs": [],
      "cell_type": "code",
      "source": [
        "using CalculusWithJulia    # loads `SymPy`\n@vars a x positive=true real=true\nf(x) = sqrt(2a^3*x - x^4) - a * (a^2*x)^(1//3)\ng(x) = a - (a*x^3)^(1//4)"
      ],
      "metadata": {},
      "execution_count": null
    },
    {
      "cell_type": "markdown",
      "source": [
        "We can see that at $x=a$ we have the indeterminate form $0/0$:"
      ],
      "metadata": {}
    },
    {
      "outputs": [],
      "cell_type": "code",
      "source": [
        "f(a), g(a)"
      ],
      "metadata": {},
      "execution_count": null
    },
    {
      "cell_type": "markdown",
      "source": [
        "What about the derivatives?"
      ],
      "metadata": {}
    },
    {
      "outputs": [],
      "cell_type": "code",
      "source": [
        "fp, gp = subs(diff(f(x),x), x=>a), subs(diff(g(x),x), x=>a)"
      ],
      "metadata": {},
      "execution_count": null
    },
    {
      "cell_type": "markdown",
      "source": [
        "Their ratio will not be indeterminate, so the limit in question is just the ratio:"
      ],
      "metadata": {}
    },
    {
      "outputs": [],
      "cell_type": "code",
      "source": [
        "fp/gp"
      ],
      "metadata": {},
      "execution_count": null
    },
    {
      "cell_type": "markdown",
      "source": [
        "Of course, we could have just relied on `limit`, which knows about L'Hospital's rule:"
      ],
      "metadata": {}
    },
    {
      "outputs": [],
      "cell_type": "code",
      "source": [
        "limit(f(x)/g(x), x, a)"
      ],
      "metadata": {},
      "execution_count": null
    },
    {
      "cell_type": "markdown",
      "source": [
        "## Questions\n\n###### Question\n\nThis function $f(x) = \\sin(5x)/x$ is *indeterminate* at $x=0$. What type?"
      ],
      "metadata": {}
    },
    {
      "outputs": [],
      "cell_type": "code",
      "source": [
        "choices = [\nL\"0/0\",\nL\"\\infty/\\infty\",\nL\"0^0\",\nL\"\\infty - \\infty\",\nL\"0 \\cdot \\infty\"\n]\nans = 1\nradioq(choices, ans, keep_order=true)"
      ],
      "metadata": {},
      "execution_count": null
    },
    {
      "cell_type": "markdown",
      "source": [
        "###### Question\n\nThis function $f(x) = \\sin(x)^{\\sin(x)}$ is *indeterminate* at $x=0$. What type?"
      ],
      "metadata": {}
    },
    {
      "outputs": [],
      "cell_type": "code",
      "source": [
        "choices = [\nL\"0/0\",\nL\"\\infty/\\infty\",\nL\"0^0\",\nL\"\\infty - \\infty\",\nL\"0 \\cdot \\infty\"\n]\nans =3\nradioq(choices, ans, keep_order=true)"
      ],
      "metadata": {},
      "execution_count": null
    },
    {
      "cell_type": "markdown",
      "source": [
        "###### Question\n\nThis function $f(x) = (x-2)/(x^2 - 4)$ is *indeterminate* at $x=2$. What type?"
      ],
      "metadata": {}
    },
    {
      "outputs": [],
      "cell_type": "code",
      "source": [
        "choices = [\nL\"0/0\",\nL\"\\infty/\\infty\",\nL\"0^0\",\nL\"\\infty - \\infty\",\nL\"0 \\cdot \\infty\"\n]\nans = 1\nradioq(choices, ans, keep_order=true)"
      ],
      "metadata": {},
      "execution_count": null
    },
    {
      "cell_type": "markdown",
      "source": [
        "###### Question\n\nThis function $f(x) = (g(x+h) - g(x-h)) / (2h)$ ($g$ is continuous) is *indeterminate* at $h=0$. What type?"
      ],
      "metadata": {}
    },
    {
      "outputs": [],
      "cell_type": "code",
      "source": [
        "choices = [\nL\"0/0\",\nL\"\\infty/\\infty\",\nL\"0^0\",\nL\"\\infty - \\infty\",\nL\"0 \\cdot \\infty\"\n]\nans = 1\nradioq(choices, ans, keep_order=true)"
      ],
      "metadata": {},
      "execution_count": null
    },
    {
      "cell_type": "markdown",
      "source": [
        "###### Question\n\nThis function $f(x) = x \\log(x)$ is *indeterminate* at $x=0$. What type?"
      ],
      "metadata": {}
    },
    {
      "outputs": [],
      "cell_type": "code",
      "source": [
        "choices = [\nL\"0/0\",\nL\"\\infty/\\infty\",\nL\"0^0\",\nL\"\\infty - \\infty\",\nL\"0 \\cdot \\infty\"\n]\nans = 5\nradioq(choices, ans, keep_order=true)"
      ],
      "metadata": {},
      "execution_count": null
    },
    {
      "cell_type": "markdown",
      "source": [
        "###### Question\n\nDoes L'Hospital's rule apply to this limit:\n\n$$~\n\\lim_{x \\rightarrow \\pi} \\frac{\\sin(\\pi x)}{\\pi x}.\n~$$"
      ],
      "metadata": {}
    },
    {
      "outputs": [],
      "cell_type": "code",
      "source": [
        "choices = [\nL\"Yes. It is of the form $0/0$\",\n\"No. It is not indeterminate\"\n]\nans = 2\nradioq(choices, ans)"
      ],
      "metadata": {},
      "execution_count": null
    },
    {
      "cell_type": "markdown",
      "source": [
        "###### Question\n\nUse L'Hospital's rule to find the limit\n\n$$~\nL = \\lim_{x \\rightarrow 0} \\frac{4x - \\sin(x)}{x}.\n~$$\n\nWhat is $L$?"
      ],
      "metadata": {}
    },
    {
      "outputs": [],
      "cell_type": "code",
      "source": [
        "using SymPy\nf(x) = (4x - sin(x))/x\nL = float(N(limit(f, 0)))\nnumericq(L)"
      ],
      "metadata": {},
      "execution_count": null
    },
    {
      "cell_type": "markdown",
      "source": [
        "###### Question\n\n\nUse L'Hospital's rule to find the limit\n\n$$~\nL = \\lim_{x \\rightarrow 0} \\frac{\\sqrt{1+x} - 1}{x}.\n~$$\n\nWhat is $L$?"
      ],
      "metadata": {}
    },
    {
      "outputs": [],
      "cell_type": "code",
      "source": [
        "using SymPy\nf(x) = (sqrt(1+x) - 1)/x\nL = float(N(limit(f, 0)))\nnumericq(L)"
      ],
      "metadata": {},
      "execution_count": null
    },
    {
      "cell_type": "markdown",
      "source": [
        "###### Question\n\n\nUse L'Hospital's rule *two* or more times to find the limit\n\n$$~\nL = \\lim_{x \\rightarrow 0} \\frac{x - \\sin(x)}{x^3}.\n~$$\n\nWhat is $L$?"
      ],
      "metadata": {}
    },
    {
      "outputs": [],
      "cell_type": "code",
      "source": [
        "using SymPy\nf(x) = (x - sin(x))/x^3\nL = float(N(limit(f, 0)))\nnumericq(L)"
      ],
      "metadata": {},
      "execution_count": null
    },
    {
      "cell_type": "markdown",
      "source": [
        "###### Question\n\n\nUse L'Hospital's rule *two* or more times to find the limit\n\n$$~\nL = \\lim_{x \\rightarrow 0} \\frac{1 - x^2/2 - \\cos(x)}{x^3}.\n~$$\n\nWhat is $L$?"
      ],
      "metadata": {}
    },
    {
      "outputs": [],
      "cell_type": "code",
      "source": [
        "using SymPy\nf(x) = (1 - x^2/2 - cos(x))/x^3\nL = float(N(limit(f, 0)))\nnumericq(L)"
      ],
      "metadata": {},
      "execution_count": null
    },
    {
      "cell_type": "markdown",
      "source": [
        "###### Question\n\nBy using a common denominator to rewrite this expression, use L'Hospital's rule to find the limit\n\n$$~\nL = \\lim_{x \\rightarrow 0} \\frac{1}{x} - \\frac{1}{\\sin(x)}.\n~$$\n\nWhat is $L$?"
      ],
      "metadata": {}
    },
    {
      "outputs": [],
      "cell_type": "code",
      "source": [
        "using SymPy\nf(x) = 1/x - 1/sin(x)\nL = float(N(limit(f, 0)))\nnumericq(L)"
      ],
      "metadata": {},
      "execution_count": null
    },
    {
      "cell_type": "markdown",
      "source": [
        "##### Question\n\nUse  L'Hospital's rule  to find the limit\n\n$$~\nL = \\lim_{x \\rightarrow \\infty} \\log(x)/x\n~$$\n\nWhat is $L$?"
      ],
      "metadata": {}
    },
    {
      "outputs": [],
      "cell_type": "code",
      "source": [
        "using SymPy\n@vars x\nL = float(N(limit(log(x)/x, x=>oo)))\nnumericq(L)"
      ],
      "metadata": {},
      "execution_count": null
    },
    {
      "cell_type": "markdown",
      "source": [
        "##### Question\n\nUsing  L'Hospital's rule, does\n\n\n$$~\n\\lim_{x \\rightarrow 0+} x^{\\log(x)}\n~$$\n\nexist?\n\nConsider $x^{\\log(x)} = e^{\\log(x)\\log(x)}$."
      ],
      "metadata": {}
    },
    {
      "outputs": [],
      "cell_type": "code",
      "source": [
        "yesnoq(false)"
      ],
      "metadata": {},
      "execution_count": null
    },
    {
      "cell_type": "markdown",
      "source": [
        "##### Question\n\nUsing  L'Hospital's rule, find the limit of\n\n$$~\n\\lim_{x \\rightarrow 1} (2-x)^{\\tan(\\pi/2 \\cdot x)}.\n~$$\n\n(Hint, express as $\\exp^{\\tan(\\pi/2 \\cdot x) \\cdot \\log(2-x)}$ and take the limit of the resulting exponent.)"
      ],
      "metadata": {}
    },
    {
      "outputs": [],
      "cell_type": "code",
      "source": [
        "choices = [\nL\"e^{2/\\pi}\",\nL\"{2\\pi}\",\nL\"1\",\nL\"0\",\n\"It does not exist\"\n]\nans =1\nradioq(choices, ans)"
      ],
      "metadata": {},
      "execution_count": null
    }
  ],
  "nbformat_minor": 2,
  "metadata": {
    "language_info": {
      "file_extension": ".jl",
      "mimetype": "application/julia",
      "name": "julia",
      "version": "1.5.0"
    },
    "kernelspec": {
      "name": "julia-1.5",
      "display_name": "Julia 1.5.0",
      "language": "julia"
    }
  },
  "nbformat": 4
}
