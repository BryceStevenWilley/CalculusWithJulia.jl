{
  "cells": [
    {
      "cell_type": "markdown",
      "source": [
        "# ODEs"
      ],
      "metadata": {}
    },
    {
      "outputs": [],
      "cell_type": "code",
      "source": [
        "using CalculusWithJulia\nusing CalculusWithJulia.WeaveSupport\nusing Plots\nnothing"
      ],
      "metadata": {},
      "execution_count": null
    },
    {
      "cell_type": "markdown",
      "source": [
        "Some relationships are easiest to describe in terms of derivatives. For example:\n\n* One of Newton's famous laws, $F=ma$, describes the force on an\n   object of mass $m$ in terms of the acceleration. The acceleration\n   is the derivative of velocity, which in turn is the derivative of\n   position. So if we know the rates of change of $v(t)$ or $x(t)$, we\n   can differentiate to find $F$.\n\n\n\n\n* Newton's law of [cooling](http://tinyurl.com/z4lmetp). This\n  describes the temperature change in an object due to a difference in\n  temperature with the object's surroundings. The formula being,\n  $T'(t) = -r \\left(T(t) - T_a \\right)$, where $T(t)$ is temperature at time $t$\n  and $T_a$ the ambient temperature.\n\n* [Hooke's law](http://tinyurl.com/kbz7r8l) relates force on an object to the position on the object, through $F = k x$. This is appropriate for many systems involving springs. Combined with Newton's law $F=ma$, this leads to an equation that $x$ must satisfy: $m x''(t) = k x(t)$.\n\n## Motion with constant acceleration\n\nLet's consider the case of constant acceleration. This describes how nearby objects fall to earth, as the force due to gravity is assumed to be a constant, so the acceleration is the constant force divided by the constant mass.\n\nWith constant acceleration, what is the velocity?\n\nAs mentioned, we have $dv/dt = a$ for any velocity function $v(t)$, but in this case, the right hand side is assumed to be constant. How does this restrict the possible functions, $v(t)$, that the velocity can be?\n\nHere we can integrate to find that any answer must look like the following for some constant of integration:\n\n$$~\nv(t) = \\int \\frac{dv}{dt} dt = \\int a dt = at + C.\n~$$\n\nIf we are given the velocity at a fixed time, say $v(t_0) = v_0$, then we can use the definite integral to get:\n\n$$~\nv(t) - v(t_0) = \\int_{t_0}^t a dt = at - a t_0.\n~$$\n\nSolving, gives:\n\n$$~\nv(t) = v_0 + a (t - t_0).\n~$$\n\nThis expresses the velocity at time $t$ in terms of the initial velocity, the constant acceleration and the time duration.\n\nA natural question might be, is this the *only* possible answer? There are a few useful ways to think about this.\n\nFirst, suppose there were another, say $u(t)$. Then define $w(t)$ to be the difference: $w(t) = v(t) - u(t)$. We would have that $w'(t) = v'(t) - u'(t) = a - a = 0$. But from the mean value theorem, a function whose derivative is *continuously* $0$, will necessarily be a constant. So at most, $v$ and $u$ will differ by a constant, but if both are equal at $t_0$, they will be equal for all $t$.\n\nSecond, since the derivative of any solution is a continuous function, it is true by the fundamental theorem of calculus that it *must* satisfy the form for the antiderivative. The initial condition makes the answer unique, as the indeterminate $C$ can take only one value.\n\nSummarizing, we have\n\n> If $v(t)$ satisfies the equation:\n> $$~ v'(t) = a, \\quad v(t_0) = v_0,~$$\n> then the unique solution will be $v(t) = v_0 + a (t - t_0)$.\n\n\nNext, what about position? Here we know that the time derivative of position yields the velocity, so we should have that the unknown position function satisfies this equation and initial condition:\n\n$$~\nx'(t) = v(t) = v_0 + a (t - t_0), \\quad x(t_0) = x_0.\n~$$\n\nAgain, we can integrate to get an answer for any value $t$:\n\n$$~\nx(t) - x(t_0) = \\int_{t_0}^t \\frac{dv}{dt} dt = (v_0t + \\frac{1}{2}a t^2 - at_0 t) |_{t_0}^t =\n(v_0 - at_0)(t - t_0) + \\frac{1}{2} a (t^2 - t_0^2).\n~$$\n\nThere are three constants: the initial value for the independent variable, $t_0$, and the two initial values for the velocity and position, $v_0, x_0$.  Assuming $t_0 = 0$, we can simplify the above to get a formula familiar from introductory physics:\n\n$$~\nx(t) = x_0 + v_0 t + \\frac{1}{2} at^2.\n~$$\n\nAgain, the mean value theorem can show that with the initial value specified this is the only possible solution.\n\n## First-order initial-value problems\n\nThe two problems just looked at can be summarized by the following. We are looking for solutions to an equation of the form (taking $y$ and $x$ as the variables, in place of $x$ and $t$):\n\n$$~\ny'(x) = f(x), \\quad y(x_0) = y_0.\n~$$\n\nThis is called an *ordinary differential equation* (ODE), as it is an equation involving the ordinary derivative of an unknown function, $y$.\n\nThis is called a first-order, ordinary differential equation, as there is only the first derivative involved.\n\nThis is called an initial-value problem, as the value at the initial point $x_0$ is specified as part of the problem.\n\n### Examples\n\nLet's look at a few more examples, and then generalize.\n\n##### Newton's Law of Cooling\n\nConsider the ordinary differential equation given by Newton's law of cooling:\n\n$$~\nT'(t) = -r (T(t) - T_a), \\quad T(0) = T_0\n~$$\n\nThis equation is also first order, as it involves just the first derivative, but notice that on the right hand side is the function $T$, not the variable being differentiated against, $t$.\n\nAs we have a difference on the right hand side, we rename the variable through $U(t) = T(t) - T_a$. Then, as $U'(t) = T'(t)$, we have the equation:\n\n$$~\nU'(t) = -r U(t), \\quad U(0) = U_0.\n~$$\n\n\nThis shows that the rate of change of $U$ depends on $U$. Large postive values indicate a negative rate of change - a push back towards the origin, and large negative values of $U$ indicate a positive rate of change - again, a push back towards the origin. We shouldn't be surprised to either see a steady decay towards the origin, or oscillations about the origin.\n\nWhat will we find? This equation is different from the previous two\nequations, as the function $U$ appears on both sides. However, we can\nrearrange to get:\n\n$$~\n\\frac{dU}{dt}\\frac{1}{U(t)} = -r.\n~$$\n\n\nThis suggests integrating both sides, as before. Here we do the \"$u$\"-substitution $u = U(t)$, so $du = U'(t) dt$:\n\n$$~\n-rt + C = \\int \\frac{dU}{dt}\\frac{1}{U(t)} dt =\n\\int \\frac{1}{u}du = \\log(u).\n~$$\n\nSolving gives: $u = U(t) = e^C e^{-rt}$. Using the initial condition forces $e^C = U(t_0) = T(0) - T_a$ and so our solution in terms of $T(t)$ is:\n\n\n$$~\nT(t) - T_a = (T_0 - T_a) e^{-rt}.\n~$$\n\nIn words, the initial difference in temperature of the object and the environment exponentially decays to $0$.\n\nThat is, as $t > 0$ goes to $\\infty$, the right hand will go to $0$ for $r > 0$, so $T(t) \\rightarrow T_a$ - the temperature of the object will reach the ambient temperature. The rate of this is largest when the difference between $T(t)$ and $T_a$ is largest, so when objects are cooling the statement \"hotter things cool faster\" is appropriate.\n\n\nA graph of the solution for $T_0=200$ and $T_a=72$ and $r=1/2$ is made\nas follows. We've added a few line segments from the defining formula,\nand see that they are indeed tangent to the solution found for the differential equation."
      ],
      "metadata": {}
    },
    {
      "outputs": [],
      "cell_type": "code",
      "source": [
        "T0, Ta, r = 200, 72, 1/2\nf(u, t) = -r*(u - Ta)\nv(t) = Ta + (T0 - Ta) * exp(-r*t)\np = plot(v, 0, 6, linewidth=4, legend=false)\n[plot!(p, x -> v(a) + f(v(a), a) * (x-a), 0, 6) for a in 1:2:5]\np"
      ],
      "metadata": {},
      "execution_count": null
    },
    {
      "cell_type": "markdown",
      "source": [
        "The above is implicitly assuming that there could be no other\nsolution, than the one we found. Is that really the case? We will see\nthat there is a theorem that can answer this, but in this case, the\ntrick of taking the difference of two equations satisfying the\nequation leads to the equation $W'(t) = r W(t), \\text{ and } W(0) =\n0$. This equation has a general solution of $W(t) = Ce^{rt}$ and the\ninitial condition forces $C=0$, so $W(t) = 0$, as before. Hence, the\ninitial-value problem for Newton's law of cooling has a unique\nsolution.\n\n\n\nIn general, the equation could be written as (again using $y$ and $x$ as the variables):\n\n$$~\ny'(x) = g(y), \\quad y(x_0) = y_0\n~$$\n\n\nThis is called an *autonomous*, first-order ODE, as the right-hand side does not depend on $x$.\n\nLet $F(y) = \\int_{y_0}^y du/g(u)$, then a solution to the above is $F(y) = x - x_0$, assuming $1/g(u)$ is integrable.\n\n\n##### Example Toricelli's Law\n\n[Toricelli's Law](http://tinyurl.com/hxvf3qp) describes the speed a jet of water will leave a vessel through an opening below the surface of the water. The formula is $v=\\sqrt{2gh}$, where $h$ is the height of the water above the hole and $g$ the gravitational constant. This arises from equating the kinetic energy gained, $1/2 mv^2$ and potential energy lost, $mgh$, for the exiting water.\n\nAn application of Torricelli's law is to describe the volume of water in a tank over time, $V(t)$. Imagine a cylinder of cross sectional area $A$ with a hole of cross sectional diameter $a$ at the bottom, Then $V(t) = A h(t)$, with $h$ giving the height. The change in volume over $\\Delta t$ units of time must be given by the value $a v(t) \\Delta t$, or\n\n$$~\nV(t+\\Delta t) - V(t) = -a v(t) \\Delta t = -a\\sqrt{2gh(t)}\\Delta t\n~$$\n\nThis suggests the following formula, written in terms of $h(t)$ should apply:\n\n$$~\nA\\frac{dh}{dt} = -a \\sqrt{2gh(t)}.\n~$$\n\nRearranging, this gives an equation\n\n$$~\n\\frac{dh}{dt} \\frac{1}{\\sqrt{h(t)}} = -\\frac{a}{A}\\sqrt{2g}.\n~$$\n\nIntegrating both sides yields:\n\n$$~\n2\\sqrt{h(t)} = -\\frac{a}{A}\\sqrt{2g} t + C.\n~$$\n\nIf $h(0) = h_0 = V(0)/A$, we can solve for $C = 2\\sqrt{h_0}$, or\n\n$$~\n\\sqrt{h(t)} = \\sqrt{h_0} -\\frac{1}{2}\\frac{a}{A}\\sqrt{2g} t.\n~$$\n\n\nSetting $h(t)=0$ and solving for $t$ shows that the time to drain the tank would be $(2A)/(a\\sqrt{2g})\\sqrt{h_0}$.\n\n\n##### Example\n\nConsider now the equation\n\n$$~\ny'(x) = y(x)^2, \\quad y(x_0) = y_0.\n~$$\n\nThis is called a *non-linear* ordinary differential equation, as the $y$ variable on the right hand side presents itself in a non-linear form (it is squared). These equations may have solutions that are not defined for all times.\n\nThis particular problem can be solved as before by moving the $y^2$ to the left hand side and integrating to yield:\n\n$$~\ny(x) = - \\frac{1}{C + x},\n~$$\n\nand with the initial condition:\n\n$$~\ny(x) = \\frac{y_0}{1 - y_0(x - x_0)}.\n~$$\n\nThis answer can demonstrate *blow-up*. That is, in a finite range for $x$ values, the $y$ value can go to infinity. For example, if the initial conditions are $x_0=0$ and $y_0 = 1$, then $y(x) = 1/(1-x)$ is only defined for $x \\geq x_0$ on $[0,1)$, as at $x=1$ there is a vertical asymptote.\n\n\n## Separable equations\n\nWe've seen equations of the form $y'(x) = f(x)$ and $y'(x) = g(y)$ both solved by integrating. The same tricks will work for equations of the form $y'(x) = f(x) \\cdot g(y)$. Such equations are called *separable*.\n\nBasically, we equate up to constants\n\n$$~\n\\int \\frac{dy}{g(y)} = \\int f(x) dx.\n~$$\n\nFor example, suppose we have the equation\n\n$$~\n\\frac{dy}{dx} = x \\cdot y(x), \\quad y(x_0) = y_0.\n~$$\n\nThen we can find a solution, $y(x)$ through:\n\n$$~\n\\int \\frac{dy}{y} = \\int x dx,\n~$$\n\nor\n\n$$~\n\\log(y) = \\frac{x^2}{2} + C\n~$$\n\nWhich yields:\n\n$$~\ny(x) = e^C e^{\\frac{1}{2}x^2}.\n~$$\n\nSubstituting in $x_0$ yields a value for $C$ in terms of the initial information $y_0$ and $x_0$.\n\n\n## Symbolic solutions\n\nDifferential equations are classified according to their type. Different types have different methods for solution, when a solution exists.\n\nThe first-order initial value equations we have seen can be described generally by $y'(x) = F(y,x), \\quad y(x_0)=x_0$. The equation is *linear* if the function $F$ is linear in $y$; it is *autonomous* if $F(y,x) = G(y)$ (a function of $y$ alone); it is *separable* if $F(y,x) = G(y)H(x)$.\n\nAs seen, separable equations are approached by moving the \"$y$\" terms to one side, the \"$x$\" terms to the other and integrating. This also applies to autonomous equations then. There are other families of equation types that have exact solutions, and techniques for solution, summarized at this [Wikipedia page](http://tinyurl.com/zywzz4q).\n\nRather than go over these various families, we demonstrate that `SymPy` can solve many of these equations symbolically.\n\n\nThe `solve` function in `SymPy` solves equations for unknown\n*variables*. As a differential equation involves an unknown *function*\nthere is a different function, `dsolve`. The basic idea is to describe\nthe differential equation using a symbolic function and then call\n`dsolve` to solve the expression.\n\nSymbolic functions are defined by `SymFunction` (or the macro `@symfuns`):"
      ],
      "metadata": {}
    },
    {
      "outputs": [],
      "cell_type": "code",
      "source": [
        "using CalculusWithJulia   # loads `SymPy`\nusing Plots\nu = SymFunction(\"u\")"
      ],
      "metadata": {},
      "execution_count": null
    },
    {
      "cell_type": "markdown",
      "source": [
        "We will use this to sole the following, known as the *logistic equation*:\n\n$$~\nu'(x) = a u(1-u), \\quad a > 0\n~$$\n\nBefore beginning, we look at the form of the equation. When $u=0$ or\n$u=1$ the rate of change is $0$, so we expect the function might be\nbounded within that range. If not, when $u$ gets bigger than $1$, then\nthe slope is negative and when $u$ gets less than $0$, the slope is\npositive, so there will at least be a drift back to the range\n$[0,1]$. Let's see exactly what happens. We define some variables,\nrestricting `a` to be positive:"
      ],
      "metadata": {}
    },
    {
      "outputs": [],
      "cell_type": "code",
      "source": [
        "@vars x y\n@vars a positive=true"
      ],
      "metadata": {},
      "execution_count": null
    },
    {
      "cell_type": "markdown",
      "source": [
        "Our equation can be specified by an expression equaling $0$:"
      ],
      "metadata": {}
    },
    {
      "outputs": [],
      "cell_type": "code",
      "source": [
        "eqn = u'(x) - a * u(x) * (1 - u(x))"
      ],
      "metadata": {},
      "execution_count": null
    },
    {
      "cell_type": "markdown",
      "source": [
        "In the above, we evaluate the symbolic function at the variable `x`\nthrough the use of `u(x)` in the expression. Finally, we call `dsolve`\nto find a solution (if possible):"
      ],
      "metadata": {}
    },
    {
      "outputs": [],
      "cell_type": "code",
      "source": [
        "out = dsolve(eqn)"
      ],
      "metadata": {},
      "execution_count": null
    },
    {
      "cell_type": "markdown",
      "source": [
        "This answer - to a first-order equation - has one free constant,\n`C_1`, which can be solved for from an initial condition. We can see\nthat when $a > 0$, as $x$ goes to positive infinity the solution goes\nto $1$, and when $x$ goes to negative infinity, the solution goes to $0$\nand otherwise is trapped in between, as expected.\n\nSuppose that $u(0) = 1/2$. Can we solve for $C_1$ symbolically? We can use `solve`, but first we will need to get the symbol for `C_1`:"
      ],
      "metadata": {}
    },
    {
      "outputs": [],
      "cell_type": "code",
      "source": [
        "rhs(x) = x.rhs        # convenience to extract right hand side of an equation\neq = rhs(out)    # just the right hand side\nC1 = first(setdiff(free_symbols(eq), (x,a))) # fish out constant\nc1 = solve(eq(x=>0) - 1//2, C1)"
      ],
      "metadata": {},
      "execution_count": null
    },
    {
      "cell_type": "markdown",
      "source": [
        "And we plug in with:"
      ],
      "metadata": {}
    },
    {
      "outputs": [],
      "cell_type": "code",
      "source": [
        "eq(C1 => c1[1])"
      ],
      "metadata": {},
      "execution_count": null
    },
    {
      "cell_type": "markdown",
      "source": [
        "That's a lot of work. The `dsolve` function also allows initial conditions to be specified. In this case, ours is $x_0=0$ and $y_0=1/2$. The extra arguments passed are the function (`u(x)`) and tuples of conditions of the form `(SymFunction, x0, y0)` to the `ics` argument:"
      ],
      "metadata": {}
    },
    {
      "outputs": [],
      "cell_type": "code",
      "source": [
        "x0, y0 = 0, 1//2\ndsolve(eqn, u(x), ics=(u, x0, y0))"
      ],
      "metadata": {},
      "execution_count": null
    },
    {
      "cell_type": "markdown",
      "source": [
        "##### Example: Hooke's law\n\n\nIn the first example, we solved for position, $x(t)$, from an assumption of constant acceleration in two steps. The equation relating the two is a second-order equation: $x''(t) = a$, so two constants are generated. That a second-order equation could be reduced to two first-order equations is not happy circumstance, as it can always be done. Rather than show the technique though, we demonstrate that `SymPy` can also handle some second-order ODEs.\n\nHooke's law relates the force on an object to its position via $F=ma = -kx$, or $x''(t) = -(k/m)x(t)$.\n\nSuppose $k > 0$. Then we can solve, similar to the above, with:"
      ],
      "metadata": {}
    },
    {
      "outputs": [],
      "cell_type": "code",
      "source": [
        "@vars k m positive=true\neqn = u''(x) + k/m*u(x)\ndsolve(eqn)"
      ],
      "metadata": {},
      "execution_count": null
    },
    {
      "cell_type": "markdown",
      "source": [
        "Here we find two constants, as anticipated, for we would guess that\ntwo integrations are needed in the solution.\n\nSuppose the spring were started by pulling it down to a bottom and\nreleasing. The initial position at time $0$ would be $a$, say, and\ninitial velocity $0$. Here we get the solution specifying initial\nconditions on the function and its derivative (expressed through\n`u'`):"
      ],
      "metadata": {}
    },
    {
      "outputs": [],
      "cell_type": "code",
      "source": [
        "@vars a positive=true\ndsolve(eqn, x, ics = ((u, 0, -a), (u', 0, 0)))"
      ],
      "metadata": {},
      "execution_count": null
    },
    {
      "cell_type": "markdown",
      "source": [
        "We get that the motion will follow\n$u(x) = -a \\cos(\\sqrt{k/m}x)$. This is simple oscillatory behavior. As the spring stretches, the force gets large enough to pull it back, and as it compresses the force gets large enough to push it back. The amplitude of this oscillation is $a$ and the period $2\\pi/\\sqrt{k/m}$. Larger $k$ values mean shorter periods; larger $m$ values mean longer periods.\n\n\n##### The pendulum\n\nThe simple gravity [pendulum](http://tinyurl.com/h8ys6ts) is an idealization of a physical pendulum that models a \"bob\" with mass $m$ swinging on a massless rod of length $l$ in a frictionless world governed only by the gravitational constant $g$. The motion can be described by this differential equation for the angle, $\\theta$, made from the vertical:\n\n$$~\n\\theta''(t) + \\frac{g}{l}\\sin(\\theta(t)) = 0\n~$$\n\nCan this second-order equation be solved by `SymPy`?"
      ],
      "metadata": {}
    },
    {
      "outputs": [],
      "cell_type": "code",
      "source": [
        "@vars g l positive=true\neqn = u''(x) + g/l*sin(u(x))\ndsolve(eqn)"
      ],
      "metadata": {},
      "execution_count": null
    },
    {
      "cell_type": "markdown",
      "source": [
        "That long error message can be summarized: no easy answer is forthcoming for this equation. In general, for the first-order initial value problem characterized by $y'(x) = F(y,x)$, there are conditions ([Peano](http://tinyurl.com/h663wba) and [Picard-Lindelof](http://tinyurl.com/3rbde5e)) that can guarantee the existence (and uniqueness) of equation locally, but there may not be an accompanying method to actually find it. This particular problem has a solution, but it can not be written in terms of elementary functions.\n\nHowever, as [Huygens](https://en.wikipedia.org/wiki/Christiaan_Huygens) first noted, if the angles involved are small, then we approximate the solution through the linearization $\\sin(\\theta(t)) \\approx \\theta(t)$. The resulting equation for an approximate answer is just that of Hooke:\n\n\n$$~\n\\theta''(t) + \\frac{g}{l}\\theta(t) = 0\n~$$\n\nHere, the solution is in terms of sines and cosines, with period given by $T = 2\\pi/\\sqrt{k} =  2\\pi\\cdot\\sqrt{l/g}$. The answer does not depend on the mass, $m$, of the bob nor the amplitude of the motion, provided the small-angle approximation is valid.\n\nIf we pull the bob back an angle $a$ and release it then the initial conditions are $\\theta(0) = a$ and $\\theta'(a) = 0$. This gives the solution:"
      ],
      "metadata": {}
    },
    {
      "outputs": [],
      "cell_type": "code",
      "source": [
        "eqn = u''(x) + g/l * u(x)\ndsolve(eqn, u(x), ics=((u, 0, a), (u', 0, 0)))"
      ],
      "metadata": {},
      "execution_count": null
    },
    {
      "cell_type": "markdown",
      "source": [
        "##### Example: Hanging cables\n\nA chain hangs between two supports a distance $L$ apart. What shape\nwill it take if there are no forces outside of gravity acting on it?\nWhat about if the force is uniform along length of the chain, like a\nsuspension bridge? How will the shape differ then?\n\nLet $y(x)$ describe the chain at position $x$, with $0 \\leq x \\leq L$,\nsay. We consider first the case of the chain with no force save\ngravity. Let $w(x)$ be the density of the chain at $x$, taken below to be a constant.\n\nThe chain is in equilibrium, so tension, $T(x)$, in the chain will be\nin the direction of the derivative. Let $V$ be the vertical component\nand $H$ the horizontal component. With only gravity acting on the\nchain, the value of $H$ will be a constant. The value of $V$ will vary\nwith position.\n\nAt a point $x$, there is $s(x)$ amount of chain with weight $w \\cdot s(x)$. The tension is in the direction of the tangent line, so:\n\n$$~\n\\tan(\\theta) = y'(x) = \\frac{w s(x)}{H}.\n~$$\n\nIn terms of an increment of chain, we have:\n\n$$~\n\\frac{w ds}{H} = d(y'(x)).\n~$$\n\nThat is the ratio of the vertical and horizontal tensions in the increment are in balance with the differential of the derivative.\n\n\nBut $ds = \\sqrt{dx^2 + dy^2} = \\sqrt{dx^2 + y'(x)^2 dx^2} = \\sqrt{1 + y'(x)^2}dx$, so we can simplify to:\n\n\n$$~\n\\frac{w}{H}\\sqrt{1 + y'(x)^2}dx =y''(x)dx.\n~$$\n\nThis yields the second-order equation:\n\n$$~\ny''(x) = \\frac{w}{H} \\sqrt{1 + y'(x)}.\n~$$\n\nThis equation can be solved exactly, though with some work, as a direct approach fails:"
      ],
      "metadata": {}
    },
    {
      "outputs": [],
      "cell_type": "code",
      "source": [
        "u = SymFunction(\"u\")\n@vars x w H positive=true\nout = dsolve(u''(x) - w/H * sqrt(1 + u'(x)^2))"
      ],
      "metadata": {},
      "execution_count": null
    },
    {
      "cell_type": "markdown",
      "source": [
        "To help `SymPy` out we break the problem into steps. For the first step we solve for the derivative.\nLet $u = y'$, then we have $u'(x) = (w/H)\\sqrt{1 + u(x)^2}$:"
      ],
      "metadata": {}
    },
    {
      "outputs": [],
      "cell_type": "code",
      "source": [
        "out = dsolve(u'(x) - w/H * sqrt(1 + u(x)^2))"
      ],
      "metadata": {},
      "execution_count": null
    },
    {
      "cell_type": "markdown",
      "source": [
        "So $y'(x) = \\sinh(C_1 + w \\cdot x/H)$. This can be solved by direct\nintegration as there is no $u(x)$ term on the right hand\nside. Repurposing `u` to represent `y` now, we have the equation and solution:"
      ],
      "metadata": {}
    },
    {
      "outputs": [],
      "cell_type": "code",
      "source": [
        "eqn = u'(x) - rhs(out)\nout1 = dsolve(eqn)"
      ],
      "metadata": {},
      "execution_count": null
    },
    {
      "cell_type": "markdown",
      "source": [
        "The shape is a hyperbolic cosine, known as the catenary.\n\n\nIf the chain has a uniform load, sufficient to make the weight of the chain negligible, then how does the above change? Then the vertical tension comes from $Udx$ and not $w ds$, so the equation becomes instead:\n\n$$~\n\\frac{Udx}{H} = d(y'(x)).\n~$$\n\nThis $y''(x) = U/H$, a constant. So it's answer will be a parabola.\n\n\n\n##### Example: projectile motion in a medium\n\n\nThe first example describes projectile motion without air resistance. If we use $(x(t), y(t))$ to describe position at time $t$, the functions satisfy:\n\n$$~\nx''(t) = 0, \\quad y''(t) = -g.\n~$$\n\nThat is, the $x$ position - where no forces act - has $0$ acceleration, and the $y$ position - where the force of gravity acts - has constant acceleration, $-g$, where $g=9.8m/sec^2$ is the gravitational constant. These equations can be solved to give:\n\n$$~\nx(t) = x_0 + v_0 \\cos(\\alpha) t, \\quad y(t) = y_0 + v_0\\sin(\\alpha)t - \\frac{1}{2}g \\cdot t^2.\n~$$\n\n\nFurthermore, we can solve for $t$ from $x(t)$, to get an equation describing $y(x)$. Here are all the steps:"
      ],
      "metadata": {}
    },
    {
      "outputs": [],
      "cell_type": "code",
      "source": [
        "@vars x0 y0 v0 alpha g real=true\n@vars x y t\nu = SymFunction(\"u\")\na1 = dsolve(u''(t) + 0, u(t), ics=((u, 0, x0), (u', 0, v0 * cos(alpha))))\na2 = dsolve(u''(t) - g, u(t), ics=((u, 0, y0), (u', 0, v0 * sin(alpha))))\nts = solve(x - rhs(a1), t)[1]\ny = simplify(rhs(a2)(t => ts))"
      ],
      "metadata": {},
      "execution_count": null
    },
    {
      "cell_type": "markdown",
      "source": [
        "Though messy, it can be seen that the answer is a quadratic polynomial in $x$ yielding the familiar\nparabolic motion for a trajectory.\n\n\nIn a resistive medium, there are drag forces at play. If this force is\nproportional to the velocity, say, with proportion $\\gamma$, then the\nequations become:\n\n$$~\nx''(t) = -\\gamma x'(t), \\quad y''(t) = -\\gamma y'(t) -g, \\quad x(0) = x_0, y(0)=y_0, x'(0) = v_0\\cos(\\alpha), y'(0) = v_0 \\sin(\\alpha).\n~$$\n\n\nWe now attempt to solve these:"
      ],
      "metadata": {}
    },
    {
      "outputs": [],
      "cell_type": "code",
      "source": [
        "@vars gamma\nu = SymFunction(\"u\")\na1 = dsolve(u''(t) + gamma * u'(t),     u(t), ics=((u, 0, x0), (u', 0, v0 * cos(alpha))))\na2 = dsolve(u''(t) + gamma * u'(t) + g, u(t), ics=((u, 0, y0), (u', 0, v0 * sin(alpha))))\nts = solve(x - rhs(a1), t)[1]\ny = simplify(rhs(a2)(t => ts))"
      ],
      "metadata": {},
      "execution_count": null
    },
    {
      "cell_type": "markdown",
      "source": [
        "This gives $y$ as a function of $x$.\n\nThere are a lot of symbols. Lets simplify by using constants $x_0=y_0=0$:"
      ],
      "metadata": {}
    },
    {
      "outputs": [],
      "cell_type": "code",
      "source": [
        "y = y(x0 => 0, y0 => 0)"
      ],
      "metadata": {},
      "execution_count": null
    },
    {
      "cell_type": "markdown",
      "source": [
        "What is the trajectory? We see\nthat the `log` function part will have issues when\n$-\\gamma x + v_0 \\cos(\\alpha) = 0$.\n\nIf we fix some parameters, we can plot."
      ],
      "metadata": {}
    },
    {
      "outputs": [],
      "cell_type": "code",
      "source": [
        "v_0, gam, alp = 200, 1/2, pi/4\nsoln = y(v0=>v_0, gamma=>gam, alpha=>alp, g=>9.8)\nplot(soln, 0, v_0 * cos(alp) / gam - 1/10, legend=false)"
      ],
      "metadata": {},
      "execution_count": null
    },
    {
      "cell_type": "markdown",
      "source": [
        "We can see that the resistance makes the path quite non-symmetric.\n\n## Visualizing a first-order initial value problem\n\nThe solution, $y(x)$, is known through its derivative. A useful tool to visualize the solution to a first-order differential equation is the [slope field](http://tinyurl.com/jspzfok) (or direction field) plot, which at different values of $(x,y)$, plots a vector with slope given through $y'(x)$.The `vectorfieldplot` of the `CalculusWithJulia` package can be used to produce these.\n\n\n\nFor example, in a previous example we found a solution to  $y'(x) = x\\cdot y(x)$. Suppose $x_0=1$ and $y_0=1$. Then a direction field plot is drawn through:"
      ],
      "metadata": {}
    },
    {
      "outputs": [],
      "cell_type": "code",
      "source": [
        "@vars x y\nx0, y0 = 1, 1\nF(y, x) = y*x\n\nplot(legend=false)\nvectorfieldplot!((x,y) -> [1, F(y,x)], xlims=(x0, 2), ylims=(y0-5, y0+5))\n\nf(x) =  y0*exp(-x0^2/2) * exp(x^2/2)\nplot!(f,  linewidth=5)"
      ],
      "metadata": {},
      "execution_count": null
    },
    {
      "cell_type": "markdown",
      "source": [
        "In general, if the first-order equation is written as $y'(x) = F(y,x)$, then we plot a \"function\" that takes $(x,y)$ and returns an $x$ value of $1$ and a $y$ value of $F(y,x)$, so the slope is $F(y,x)$."
      ],
      "metadata": {}
    },
    {
      "outputs": [],
      "cell_type": "code",
      "source": [
        "note(L\"\"\"The order of variables in $F(y,x)$ is conventional with the equation $y'(x) = F(y(x),x)$.\n\"\"\")"
      ],
      "metadata": {},
      "execution_count": null
    },
    {
      "cell_type": "markdown",
      "source": [
        "The plots are also useful for illustrating solutions for different initial conditions:"
      ],
      "metadata": {}
    },
    {
      "outputs": [],
      "cell_type": "code",
      "source": [
        "p = plot(legend=false)\nvectorfieldplot!((x,y) -> [1,F(y,x)], xlims=(x0, 2), ylims=(y0-5, y0+5))\nfor y0 in -4:4\n  f(x) =  y0*exp(-x0^2/2) * exp(x^2/2)\n  plot!(f, x0, 2, linewidth=5)\nend\np"
      ],
      "metadata": {},
      "execution_count": null
    },
    {
      "cell_type": "markdown",
      "source": [
        "Such solutions are called [integral\ncurves](https://en.wikipedia.org/wiki/Integral_curve).\nThese graphs illustrate the fact that the slope field is tangent to the graph of any\nintegral curve.\n\n\n\n## Questions\n\n\n\n\n##### Question\n\nUsing `SymPy` to solve the differential equation\n\n$$~\nu' = \\frac{1-x}{u}\n~$$\n\ngives"
      ],
      "metadata": {}
    },
    {
      "outputs": [],
      "cell_type": "code",
      "source": [
        "u = SymFunction(\"u\")\n@vars x\ndsolve(u'(x) - (1-x)/u(x))"
      ],
      "metadata": {},
      "execution_count": null
    },
    {
      "cell_type": "markdown",
      "source": [
        "The two answers track positive and negative solutions. For the initial condition, $u(-1)=1$, we have the second one is appropriate: $u(x) = \\sqrt{C_1 - x^2 + 2x}$. At $-1$ this gives: $1 = \\sqrt{C_1-3}$, so $C_1 = 4$.\n\nThis value is good for what values of $x$?"
      ],
      "metadata": {}
    },
    {
      "outputs": [],
      "cell_type": "code",
      "source": [
        "choices = [\nL\"[-1, \\infty)\",\nL\"[-1, 4]\",\nL\"[-1, 0]\",\nL\"[1-\\sqrt{5}, 1 + \\sqrt{5}]\"]\nans = 4\nradioq(choices, ans)"
      ],
      "metadata": {},
      "execution_count": null
    },
    {
      "cell_type": "markdown",
      "source": [
        "##### Question\n\nSuppose $y(x)$ satisfies\n\n$$~\ny'(x) = y(x)^2, \\quad y(1) = 1.\n~$$\n\nWhat is $y(3/2)$?"
      ],
      "metadata": {}
    },
    {
      "outputs": [],
      "cell_type": "code",
      "source": [
        "u = SymFunction(\"u\")\n@vars x\nout = dsolve(u'(x) - u(x)^2, u(x), ics=(u, 1, 1))\nval = N(rhs(out(3/2)))\nnumericq(val)"
      ],
      "metadata": {},
      "execution_count": null
    },
    {
      "cell_type": "markdown",
      "source": [
        "##### Question\n\nSolve the initial value problem\n\n$$~\ny' = 1 + x^2 + y(x)^2 + x^2 y(x)^2, \\quad y(0) = 1.\n~$$\n\nUse your answer to find $y(1)$."
      ],
      "metadata": {}
    },
    {
      "outputs": [],
      "cell_type": "code",
      "source": [
        "eqn = u'(x) - (1 + x^2 + u(x)^2 + x^2 * u(x)^2)\nout = dsolve(eqn, u(x), ics=(u, 0, 1))\nval = N(rhs(out)(1).evalf())\nnumericq(val)"
      ],
      "metadata": {},
      "execution_count": null
    },
    {
      "cell_type": "markdown",
      "source": [
        "##### Question\n\nA population is modeled by $y(x)$. The rate of population growth is generally proportional to the population ($k y(x)$), but as the population gets large, the rate is curtailed $(1 - y(x)/M)$.\n\nSolve the initial value problem\n\n$$~\ny'(x) = k\\cdot y(x) \\cdot (1 - y(x)/M),\n~$$\n\nwhen $k=1$, $M=100$, and $y(0) = 20$. Find the value of $y(5)$."
      ],
      "metadata": {}
    },
    {
      "outputs": [],
      "cell_type": "code",
      "source": [
        "k, M = 1, 100\neqn = u'(x) - k * u(x) * (1 - u(x)/M)\nout = dsolve(eqn, u(x), ics=(u, 0, 20))\nval = N(rhs(out)(5))\nnumericq(val)"
      ],
      "metadata": {},
      "execution_count": null
    },
    {
      "cell_type": "markdown",
      "source": [
        "##### Question\n\nSolve the initial value problem\n\n$$~\ny'(t) = \\sin(t) - \\frac{y(t)}{t}, \\quad y(\\pi) = 1\n~$$\n\nFind the value of the solution at $t=2\\pi$."
      ],
      "metadata": {}
    },
    {
      "outputs": [],
      "cell_type": "code",
      "source": [
        "eqn = u'(x) - (sin(x) - u(x)/x)\nout = dsolve(eqn, u(x), ics=(u, PI, 1))\nval = N(rhs(out(2PI)))\nnumericq(val)"
      ],
      "metadata": {},
      "execution_count": null
    },
    {
      "cell_type": "markdown",
      "source": [
        "##### Question\n\nSuppose $u(x)$ satisfies:\n\n$$~\n\\frac{du}{dx} = e^{-x} \\cdot u(x), \\quad u(0) = 1.\n~$$\n\nFind $u(5)$ using `SymPy`."
      ],
      "metadata": {}
    },
    {
      "outputs": [],
      "cell_type": "code",
      "source": [
        "eqn = u'(x) - exp(-x)*u(x)\nout = dsolve(eqn, u(x), ics=(u, 0, 1))\nval = N(rhs(out)(5))\nnumericq(val)"
      ],
      "metadata": {},
      "execution_count": null
    },
    {
      "cell_type": "markdown",
      "source": [
        "##### Question\n\nThe differential equation with boundary values\n\n$$~\n\\frac{r^2 \\frac{dc}{dr}}{dr} = 0, \\quad c(1)=2, c(10)=1,\n~$$\n\ncan be solved with `SymPy`. What is the value of $c(5)$?"
      ],
      "metadata": {}
    },
    {
      "outputs": [],
      "cell_type": "code",
      "source": [
        "u = SymFunction(\"u\")\n@vars x\neqn = diff(x^2*u'(x), x)\nout = dsolve(eqn, u(x), ics=((u, 1, 2), (u, 10, 1))) |> rhs\nout(5)  # 10/9\nchoices = [L\"10/9\", L\"3/2\", L\"9/10\", L\"8/9\"]\nans = 1\nradioq(choices, ans)"
      ],
      "metadata": {},
      "execution_count": null
    },
    {
      "cell_type": "markdown",
      "source": [
        "##### Question\n\nThe example with projectile motion in a medium has a parameter\n$\\gamma$ modeling the effect of air resistance. If `y` is the\nanswer - as would be the case if the example were copy-and-pasted\nin - what can be said about `limit(y, gamma=>0)`?"
      ],
      "metadata": {}
    },
    {
      "outputs": [],
      "cell_type": "code",
      "source": [
        "choices = [\n\"The limit is a quadratic polynomial in `x`, mirroring the first part of that example.\",\n\"The limit does not exists, but the limit to `oo` gives a quadratic polynomial in `x`, mirroring the first part of that example.\",\n\"The limit does not exist, as there is a singularity, as seen by setting `gamma=0`.\"\n]\nans = 1\nradioq(choices, ans)"
      ],
      "metadata": {},
      "execution_count": null
    }
  ],
  "nbformat_minor": 2,
  "metadata": {
    "language_info": {
      "file_extension": ".jl",
      "mimetype": "application/julia",
      "name": "julia",
      "version": "1.5.0"
    },
    "kernelspec": {
      "name": "julia-1.5",
      "display_name": "Julia 1.5.0",
      "language": "julia"
    }
  },
  "nbformat": 4
}
