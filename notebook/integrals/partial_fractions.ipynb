{
  "cells": [
    {
      "cell_type": "markdown",
      "source": [
        "# Partial Fractions"
      ],
      "metadata": {}
    },
    {
      "outputs": [],
      "cell_type": "code",
      "source": [
        "using CalculusWithJulia\nusing CalculusWithJulia.WeaveSupport\nusing Plots\nnothing"
      ],
      "metadata": {},
      "execution_count": null
    },
    {
      "cell_type": "markdown",
      "source": [
        "Integration is facilitated when an antiderivative for $f$ can be found, as then definite integrals can be evaluated through the fundamental theorem of calculus.\n\nHowever, despite integration being an algorithmic procedure,\nintegration is not. There are \"tricks\" to try, such as substitution\nand integration by parts. These work in some cases. However, there are\nclasses of functions for which algorithms exist. For example, the\n`SymPy` `integrate` function implements an algorithm that decides if\nan elementary function has an antiderivative. The\n[elementary](http://en.wikipedia.org/wiki/Elementary_function)\nfunctions include exponentials, their inverses (logarithms),\ntrigonometric functions, their inverses, and powers, including $n$th\nroots. Not every elementary function will have an antiderivative\ncomprised of (finite) combinations of elementary functions. The\ntypical example is $e^{x^2}$, which has no simple antiderivative,\ndespite its ubiquitousness.\n\nThere are classes of functions where an (elementary) antiderivative can always be\nfound. Polynomials provide a case. More surprisingly, so do their\nratios, *rational functions*.\n\n## Partial fraction decomposition\n\nLet $f(x) = p(x)/q(x)$, where  $p$ and $q$ are polynomial\nfunctions. Further, we assume without comment that $p$ and $q$ have no common\nfactors. (If they did, we can divide them out, an act which has no\neffect on the integrability of $f(x)$.\n\n\nThe function $q(x)$ will factor over the real numbers. The fundamental\ntheorem of algebra can be applied to say that $q(x)=q_1(x)^{n_1}\n\\cdots q_k(x)^{n_k}$ where $q_i(x)$ is a linear or quadratic\npolynomial and $n_k$ a positive integer.\n\n\n> **Partial Fraction Decomposition**: There are unique polynomials $a_{ij}$ with degree $a_{ij} <$\n> degree $q_i$ such that\n> $$~\n> \\frac{p(x)}{q(x)} = a(x) + \\sum_{i=1}^k \\sum_{j=1}^{n_i} \\frac{a_{ij}(x)}{q_i(x)^j}.\n> ~$$\n\nThe method is attributed to John Bernoulli, one of the prolific\nBernoulli brothers who put a stamp on several areas of math. This\nBernoulli was a mentor to Euler.\n\nThis basically says that each factor $q_i(x)^{n_i}$ contributes a term like:\n\n$$~\n\\frac{a_{i1}}{q_i(x)^1} + \\frac{a_{i2}}{q_i(x)^2} + \\cdots + \\frac{a_{in_i}}{q_i(x)^{n_i}},\n~$$\n\nwhere each $a_{ij}$ has degree less than the degree of $q_i$.\n\nThe value of this decomposition is that the terms $a_{ij}(x)/q_i(x)^j$\neach have an antiderivative, and so the sum of them will also have an\nantiderivative."
      ],
      "metadata": {}
    },
    {
      "outputs": [],
      "cell_type": "code",
      "source": [
        "note(\"\"\"\n\nMany calculus texts will give some examples for finding a partial\nfraction decomposition. We push that work off to `SymPy`, as for all\nbut the easiest cases - a few are in the problems - it can be a bit tedious.\n\n\"\"\")"
      ],
      "metadata": {},
      "execution_count": null
    },
    {
      "cell_type": "markdown",
      "source": [
        "In `SymPy`, the `apart` function will find the partial fraction\ndecomposition. For example, here we see $n_i$ terms for each power of\n$q_i$"
      ],
      "metadata": {}
    },
    {
      "outputs": [],
      "cell_type": "code",
      "source": [
        "using CalculusWithJulia  # loads `SymPy`\n@vars a b c A B x real=true"
      ],
      "metadata": {},
      "execution_count": null
    },
    {
      "outputs": [],
      "cell_type": "code",
      "source": [
        "apart((x-2)*(x-3) / (x*(x-1)^2*(x^2 + 2)^3))"
      ],
      "metadata": {},
      "execution_count": null
    },
    {
      "cell_type": "markdown",
      "source": [
        "### Sketch of proof\n\nA standard proof uses two facts of number systems: the division\nalgorithm and a representation of the greatest common divisor in terms\nof sum, extended to polynomials. Our sketch shows how these are used.\n\nTake one of the factors of the denominators, and consider this\nrepresentation of the rational function $P(x)/(q(x)^k Q(x))$ where\nthere are no common factors to any of the three polynomials.\n\nSince $q(x)$ and $Q(x)$ share no factors,\n[Bezout's](http://tinyurl.com/kd6prns)\nidentity says there exists polynomials $a(x)$ and $b(x)$  with:\n\n$$~\na(x) Q(x) + b(x) q(x) = 1.\n~$$\n\n\nThen dividing by $q^k(x)Q(x)$ gives the decomposition\n\n$$~\n\\frac{1}{q(x)^k Q(x)} = \\frac{a(x)}{q(x)^k} + \\frac{b(x)}{q(x)^{k-1}Q(x)}.\n~$$\n\nSo we get by multiplying the $P(x)$:\n\n$$~\n\\frac{P(x)}{q(x)^k Q(x)} = \\frac{A(x)}{q(x)^k} + \\frac{B(x)}{q(x)^{k-1}Q(x)}.\n~$$\n\nThis may look more complicated, but what it does is peel off one term\n(The first) and leave something which is smaller, in this case by a\nfactor of $q(x)$. This process can be repeated pulling off a power of a factor at a time until nothing is left to do.\n\n\nWhat remains is to establish that we can take $A(x) = a(x)\\cdot P(x)$ with a degree less than that of $q(x)$.\n\nIn Proposition 3.8 of\n[Bradley](http://www.m-hikari.com/imf/imf-2012/29-32-2012/cookIMF29-32-2012.pdf)\nand Cook it is shown how an expression of the form $A(x)/a(x)^k$ can\nbe written as $q_1(x) + r_k(x)/a(x)^k + \\cdots + r_2(x)/a(x)^2 +\nr_1(x)/a(x)$ with the degree of each $r_i(x)$ less than that of $a(x)$\nby repeated application of the division algorithm. This fact can be used to\nfinish the proof.\n\nTo generate the $r_1$, $r_2$, $\\dots$, $r_k$, the division\nalgorithm is applied $k$ times giving: $A=aq_k + r_k$, $q_k = a q_{k-1} +\nr_{k-1}$, $\\dots$, $q_2 = a q_1 + r_1$. These are put together to show\n$A/a^k=q_1 + r_k/a^k + r_{k-1}/a^{k-1} + \\cdots + r_2/a^2 + r_1/a$.\n\n\n\n## Integrating the terms in a partial fraction decomposition\n\nWe discuss by example how each type of possible terms in a partial\nfraction decomposition has an antiderivative. Hence, rational\nfunctions will *always* have an antiderivative that can be computed.\n\n### Linear factors\n\nFor $j=1$, if $q_i$ is linear, then $a_{ij}/q_i^j$ must look like a constant over a linear term, or something like:"
      ],
      "metadata": {}
    },
    {
      "outputs": [],
      "cell_type": "code",
      "source": [
        "p = a/(x-c)"
      ],
      "metadata": {},
      "execution_count": null
    },
    {
      "cell_type": "markdown",
      "source": [
        "This has a logarithmic antiderivative:"
      ],
      "metadata": {}
    },
    {
      "outputs": [],
      "cell_type": "code",
      "source": [
        "integrate(p, x)"
      ],
      "metadata": {},
      "execution_count": null
    },
    {
      "cell_type": "markdown",
      "source": [
        "For $j > 1$, we have powers."
      ],
      "metadata": {}
    },
    {
      "outputs": [],
      "cell_type": "code",
      "source": [
        "@vars j positive=true\nintegrate(a/(x-c)^j, x)"
      ],
      "metadata": {},
      "execution_count": null
    },
    {
      "cell_type": "markdown",
      "source": [
        "### Quadratic factors\n\nWhen $q_i$ is quadratic, it looks like $ax^2 + bx + c$. Then $a_{ij}$\ncan be a constant or a linear polynomial. The latter can be written as\n$Ax + B$.\n\n\nRather than try to consider the general case of\n\n$$~\n\\frac{Ax +B }{(ax^2  + bx + c)^j},\n~$$\n\nwhich can be handled, it is best to shift the value of $x$ so that this is no more than a constant times:\n\n$$~\n\\frac{Ax + B}{((ax)^2 \\pm 1)^j}\n~$$\n\nThis can be done by finding a $d$ so that $a(x-d)^2 + b(x-d) + c = dx^2 + e = e((\\sqrt{d/e}x^2 \\pm 1)$.\n\nThe integrals of the type $Ax/((ax)^2 \\pm 1)$ can completed by $u$-substitution, with $u=(ax)^2 \\pm 1$.\n\nFor example,"
      ],
      "metadata": {}
    },
    {
      "outputs": [],
      "cell_type": "code",
      "source": [
        "integrate(A*x/((a*x)^2 + 1)^4, x)"
      ],
      "metadata": {},
      "execution_count": null
    },
    {
      "cell_type": "markdown",
      "source": [
        "The integrals of the type $B/((ax)^2\\pm 1)$ are completed by\ntrigonometric substitution and various reduction formulas. They can get involved, but are tractable. For\nexample:"
      ],
      "metadata": {}
    },
    {
      "outputs": [],
      "cell_type": "code",
      "source": [
        "integrate(B/((a*x)^2 + 1)^4, x)"
      ],
      "metadata": {},
      "execution_count": null
    },
    {
      "cell_type": "markdown",
      "source": [
        "and"
      ],
      "metadata": {}
    },
    {
      "outputs": [],
      "cell_type": "code",
      "source": [
        "integrate(B/((a*x)^2 - 1)^4, x)"
      ],
      "metadata": {},
      "execution_count": null
    },
    {
      "cell_type": "markdown",
      "source": [
        "## Examples\n\nFind an antiderivative for $1/(x\\cdot(x^2+1)^2)$.\n\nWe have a partial fraction decomposition is:"
      ],
      "metadata": {}
    },
    {
      "outputs": [],
      "cell_type": "code",
      "source": [
        "q = (x * (x^2 + 1)^2)\napart(1/q)"
      ],
      "metadata": {},
      "execution_count": null
    },
    {
      "cell_type": "markdown",
      "source": [
        "We see three terms. The first and second will be done by $u$-substitution, the third by a logarithm:"
      ],
      "metadata": {}
    },
    {
      "outputs": [],
      "cell_type": "code",
      "source": [
        "integrate(1/q, x)"
      ],
      "metadata": {},
      "execution_count": null
    },
    {
      "cell_type": "markdown",
      "source": [
        "----\n\nFind an antiderivative of $1/(x^2 - 2x-3)$.\n\nWe again just let `SymPy` do the work. A partial fraction decomposition is given by:"
      ],
      "metadata": {}
    },
    {
      "outputs": [],
      "cell_type": "code",
      "source": [
        "q =  (x^2 - 2x - 3)\napart(1/q)"
      ],
      "metadata": {},
      "execution_count": null
    },
    {
      "cell_type": "markdown",
      "source": [
        "We see what should yield two logarithmic terms:"
      ],
      "metadata": {}
    },
    {
      "outputs": [],
      "cell_type": "code",
      "source": [
        "integrate(1/q, x)"
      ],
      "metadata": {},
      "execution_count": null
    },
    {
      "outputs": [],
      "cell_type": "code",
      "source": [
        "note(L\"\"\"\n\n`SymPy` will find $\\log(x)$ as an antiderivative for $1/x$, but more\ngenerally, $\\log(\\lvert x\\rvert)$ is one.\n\n\"\"\")"
      ],
      "metadata": {},
      "execution_count": null
    },
    {
      "cell_type": "markdown",
      "source": [
        "## Questions\n\n###### Question\n\nThe partial fraction decomposition of $1/(x(x-1))$ must be of the form $A/x + B/(x-1)$.\n\nWhat is $A$? (Use `SymPy` or just put the sum over a common denominator and solve for $A$ and $B$.)"
      ],
      "metadata": {}
    },
    {
      "outputs": [],
      "cell_type": "code",
      "source": [
        "val = -1\nnumericq(val)"
      ],
      "metadata": {},
      "execution_count": null
    },
    {
      "cell_type": "markdown",
      "source": [
        "What is $B$?"
      ],
      "metadata": {}
    },
    {
      "outputs": [],
      "cell_type": "code",
      "source": [
        "val = 1\nnumericq(val)"
      ],
      "metadata": {},
      "execution_count": null
    },
    {
      "cell_type": "markdown",
      "source": [
        "###### Question\n\nThe following gives the partial fraction decomposition for a rational expression:\n\n$$~\n\\frac{3x+5}{(1-2x)^2} = \\frac{A}{1-2x} + \\frac{B}{(1-2x)^2}.\n~$$\n\nFind $A$ (being careful with the sign):"
      ],
      "metadata": {}
    },
    {
      "outputs": [],
      "cell_type": "code",
      "source": [
        "numericq(-3/2)"
      ],
      "metadata": {},
      "execution_count": null
    },
    {
      "cell_type": "markdown",
      "source": [
        "Find $B$:"
      ],
      "metadata": {}
    },
    {
      "outputs": [],
      "cell_type": "code",
      "source": [
        "numericq(13/2)"
      ],
      "metadata": {},
      "execution_count": null
    },
    {
      "cell_type": "markdown",
      "source": [
        "###### Question\n\nThe following specifies the general partial fraction decomposition for a rational expression:\n\n$$~\n\\frac{1}{(x+1)(x-1)^2} = \\frac{A}{x+1} + \\frac{B}{x-1} + \\frac{C}{(x-1)^2}.\n~$$\n\nFind $A$:"
      ],
      "metadata": {}
    },
    {
      "outputs": [],
      "cell_type": "code",
      "source": [
        "numericq(1/4)"
      ],
      "metadata": {},
      "execution_count": null
    },
    {
      "cell_type": "markdown",
      "source": [
        "Find $B$:"
      ],
      "metadata": {}
    },
    {
      "outputs": [],
      "cell_type": "code",
      "source": [
        "numericq(-1/4)"
      ],
      "metadata": {},
      "execution_count": null
    },
    {
      "cell_type": "markdown",
      "source": [
        "Find $C$:"
      ],
      "metadata": {}
    },
    {
      "outputs": [],
      "cell_type": "code",
      "source": [
        "numericq(1/2)"
      ],
      "metadata": {},
      "execution_count": null
    },
    {
      "cell_type": "markdown",
      "source": [
        "###### Question\n\nCompute the following exactly:\n\n$$~\n\\int_0^1 \\frac{(x-2)(x-3)}{(x-4)^2\\cdot(x-5)} dx\n~$$\n\nIs $-6\\log(5) - 5\\log(3) - 1/6 + 11\\log(4)$ the answer?"
      ],
      "metadata": {}
    },
    {
      "outputs": [],
      "cell_type": "code",
      "source": [
        "yesnoq(\"yes\")"
      ],
      "metadata": {},
      "execution_count": null
    },
    {
      "cell_type": "markdown",
      "source": [
        "###### Question\n\nIn the assumptions for the partial fraction decomposition is the fact that $p(x)$ and $q(x)$ share no common factors. Suppose, this isn't the case and in fact we have:\n\n$$~\n\\frac{p(x)}{q(x)} = \\frac{(x-c)^m s(x)}{(x-c)^n t(x)}.\n~$$\n\nHere $s$ and $t$ are polynomials such that $s(c)$ and $t(c)$ are non-zero.\n\nIf $m > n$, then why can we cancel out the $(x-c)^n$ and not have a concern?"
      ],
      "metadata": {}
    },
    {
      "outputs": [],
      "cell_type": "code",
      "source": [
        "choices = [\n\"`SymPy` allows it.\",\nL\"The value $c$ is a removable singularity, so the integral will be identical.\",\nL\"The resulting function has an identical domain and is equivalent for all $x$.\"\n]\nans = 2\nradioq(choices, ans, keep_order=true)"
      ],
      "metadata": {},
      "execution_count": null
    },
    {
      "cell_type": "markdown",
      "source": [
        "If $m = n$, then why can we cancel out the $(x-c)^n$ and not have a concern?"
      ],
      "metadata": {}
    },
    {
      "outputs": [],
      "cell_type": "code",
      "source": [
        "choices = [\n\"`SymPy` allows it.\",\nL\"The value $c$ is a removable singularity, so the integral will be identical.\",\nL\"The resulting function has an identical domain and is equivalent for all $x$.\"\n]\nans = 2\nradioq(choices, ans, keep_order=true)"
      ],
      "metadata": {},
      "execution_count": null
    },
    {
      "cell_type": "markdown",
      "source": [
        "If $m < n$, then why can we cancel out the $(x-c)^n$ and not have a concern?"
      ],
      "metadata": {}
    },
    {
      "outputs": [],
      "cell_type": "code",
      "source": [
        "choices = [\n\"`SymPy` allows it.\",\nL\"The value $c$ is a removable singularity, so the integral will be identical.\",\nL\"The resulting function has an identical domain and is equivalent for all $x$.\"\n]\nans = 3\nradioq(choices, ans, keep_order=true)"
      ],
      "metadata": {},
      "execution_count": null
    }
  ],
  "nbformat_minor": 2,
  "metadata": {
    "language_info": {
      "file_extension": ".jl",
      "mimetype": "application/julia",
      "name": "julia",
      "version": "1.5.0"
    },
    "kernelspec": {
      "name": "julia-1.5",
      "display_name": "Julia 1.5.0",
      "language": "julia"
    }
  },
  "nbformat": 4
}
