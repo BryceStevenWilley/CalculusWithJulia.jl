{
  "cells": [
    {
      "cell_type": "markdown",
      "source": [
        "# Arc length"
      ],
      "metadata": {}
    },
    {
      "outputs": [],
      "cell_type": "code",
      "source": [
        "using CalculusWithJulia\nusing CalculusWithJulia.WeaveSupport\nusing Plots\nnothing"
      ],
      "metadata": {},
      "execution_count": null
    },
    {
      "outputs": [],
      "cell_type": "code",
      "source": [
        "imgfile = \"figures/jump-rope.png\"\ncaption = \"\"\"\n\nA kids' jump rope by Lifeline is comprised of little plastic segments of uniform length around a cord. The length of the rope can be computed by adding up the lengths of each segment, regardless of how the rope is arranged.\n\n\"\"\"\nImageFile(imgfile, caption)"
      ],
      "metadata": {},
      "execution_count": null
    },
    {
      "cell_type": "markdown",
      "source": [
        "The length of the jump rope in the picture can be computed by either looking at the packaging it came in, or measuring the length of each plastic segment and multiplying by the number of segments. The former is easier, the latter provides the intuition as to how we can find the length of curves in the $x-y$ plane. The idea is old, [Archimedes](http://www.maa.org/external_archive/joma/Volume7/Aktumen/Polygon.html) used fixed length segments of polygons to approximate $\\pi$ using the circumference of circle producing the bounds $3~\\frac{1}{7} > \\pi > 3~\\frac{10}{71}$.\n\nA more modern application is the algorithm used by GPS devices to record a path taken. However, rather than record times for a fixed distance traveled, the GPS device records position ($(x,y)$ or longitude and latitude at fixed units of time - similar to how parametric functions are used. The device can then compute distance traveled and speed traveled using some familiar formulas.\n\n## Arc length formula\n\nRecall the distance formula gives the distance between two points: $\\sqrt{(x_1 - x_0)^2 + (y_1 - y_0)^2}$.\n\nConsider now two functions $g(t)$ and $f(t)$ and the parameterized\ngraph between $a$ and $b$ given by the points $(g(t), f(t))$ for $a\n\\leq t \\leq b$. Assume that both $g$ and $f$ are differentiable on\n$(a,b)$ and continuous on $[a,b]$ and furthermore that $\\sqrt{f'(t) +\ng'(t)}$ is Riemann integrable.\n\n\n> **The arc length of a curve**. For $f$ and $g$ as described, the arc length of the parameterized curve is given by\n> $$~ L = \\int_a^b \\sqrt{g'(t) + f'(t)} dt. ~$$ For the special case of the graph of a function $f(x)$ between $a$ and $b$ the formula becomes $L = \\int_a^b \\sqrt{ 1 + f'(x)} dx$ (taking $g(t) = t$)."
      ],
      "metadata": {}
    },
    {
      "outputs": [],
      "cell_type": "code",
      "source": [
        "note(L\"\"\"\n\nThe form of the integral may seem daunting with the square root and\nthe derivatives. A more general writing would create a vector out of\nthe two functions: $\\phi(t) = \\langle g(t), f(t) \\rangle$. It is\nnatural to then let $\\phi'(t) = \\langle g'(t), f'(t) \\rangle$. With\nthis, the integrand is just the norm - or length - of the\nderivative, or $L=\\int \\| \\phi'(t) \\| dt$. This is similar to the\ndistance traveled being the integral of the speed, or the absolute\nvalue of the derivative of position.\n\n\"\"\")"
      ],
      "metadata": {},
      "execution_count": null
    },
    {
      "cell_type": "markdown",
      "source": [
        "To see why, any partition of the interval $[a,b]$ by $a = t_0 < t_1 < \\cdots < t_n =b$ gives rise to $n+1$ points in the plane given by $(g(t_i), f(t_i))$."
      ],
      "metadata": {}
    },
    {
      "outputs": [],
      "cell_type": "code",
      "source": [
        "## {{{arclength_graph}}}\npyplot()\nfig_size=(600, 400)\n\nfunction make_arclength_graph(n)\n\n    ns = [10,15,20, 30, 50]\n\n    g(t) = cos(t)/t\n    f(t) = sin(t)/t\n\n    ts = range(1, stop=4pi, length=200)\n    tis = range(1, stop=4pi, length=ns[n])\n\n    p = plot(g, f, 1, 4pi, legend=false, size=fig_size,\n             title=\"Approximate arc length with $(ns[n]) points\")\n    plot!(p,  map(g, tis), map(f, tis), color=:orange)\n\n    p\n\nend\n\nn = 5\nanim = @animate for i=1:n\n    make_arclength_graph(i)\nend\n\nimgfile = tempname() * \".gif\"\ngif(anim, imgfile, fps = 1)\ncaption = L\"\"\"\n\nThe arc length of the parametric curve can be approximated using straight line segments connecting points. This gives rise to an integral expression defining the length in terms of the functions $f$ and $g$.\n\n\"\"\"\n\nplotly()\nImageFile(imgfile, caption)"
      ],
      "metadata": {},
      "execution_count": null
    },
    {
      "cell_type": "markdown",
      "source": [
        "The distance between points $(g(t_i), f(t_i))$ and $(g(t_{i-1}), f(t_{i-1}))$ is just\n\n$$~\nd_i = \\sqrt{(g(t_i)-g(t_{i-1}))^2 + (f(t_i)-f(t_{i-1}))^2}\n~$$\n\nThe total approximate distance of the curve would be $L_n = d_1 +\nd_2 + \\cdots + d_n$. This is exactly how we would compute the length\nof the jump rope or the distance traveled from GPS recordings.\n\nHowever, differences, such as $f(t_i)-f(t_{i-1})$, are the building blocks of approximate derivatives. With an eye towards this, we multiply both top and bottom by $t_i - t_{i-1}$ to get:\n\n$$~\nL_n = d_1 \\cdot \\frac{t_1 - t_0}{t_1 - t_0} + d_2 \\cdot \\frac{t_2 - t_1}{t_2 - t_1} + \\cdots + d_n \\cdot \\frac{t_n - t_{n-1}}{t_n - t_{n-1}}.\n~$$\n\nBut looking at each term, we can push the denominator into the square root as:\n\n$$~\n\\begin{align}\nd_i &= d_i \\cdot \\frac{t_i - t_{i-1}}{t_i - t_{i-1}}\n\\\\\n&= \\sqrt{ \\left(\\frac{g(t_i)-g(t_{i-1})}{t_i-t_{i-1}}\\right)^2 +\n\\left(\\frac{f(t_i)-f(t_{i-1})}{t_i-t_{i-1}}\\right)^2} \\cdot (t_i - t_{i-1}) \\\\\n&= \\sqrt{ g'(\\xi_i)^2 + f'(\\psi_i)^2} \\cdot (t_i - t_{i-1}).\n\\end{align}\n~$$\n\nThe values $\\xi_i$ and $\\psi_i$ are guaranteed by the mean value theorem and must be in $[t_{i-1}, t_i]$.\n\nWith this, if $\\sqrt{f'(t) + g'(t)}$ is integrable, as assumed, then as the size of the partition goes to zero, the sum of the $d_i$, $L_n$, must converge to the integral:\n\n$$~\nL = \\int_a^b \\sqrt{f'(t) + g'(t)} dt.\n~$$\n\n(This needs a technical adjustment to the Riemann theorem, as we are evaluating our function at two points in the interval. A general proof is [here](https://randomproofs.files.wordpress.com/2010/11/arc_length.pdf).)"
      ],
      "metadata": {}
    },
    {
      "outputs": [],
      "cell_type": "code",
      "source": [
        "note(L\"\"\"\n\n[Bressoud](http://www.math.harvard.edu/~knill/teaching/math1a_2011/exhibits/bressoud/)\nnotes that Gregory (1668) proved this formula for arc length of the\ngraph of a function by showing that the length of the curve $f(x)$ is defined\nby the area under $\\sqrt{1 + f'(x)^2}$. (It is commented that this was\nalso known a bit earlier by von Heurat.) Gregory went further though,\nas part of the fundamental theorem of calculus was contained in his\nwork.  Gregory then posed this inverse question: given a curve\n$y=g(x)$ find a function $u(x)$ so that the area under $g$ is equal to\nthe length of the second curve. The answer given was $u(x) =\n(1/c)\\int_a^x \\sqrt{g^2(t) - c^2}$, which if $g(t) = \\sqrt{1 + f'(t)}$\nand $c=1$ says $u(x) = \\int_a^x f(t)dt$.\n\nAn analogy might be a sausage maker. These take a mass of ground-up sausage material and return a long length of sausage. The material going in would depend on time via an equation like $\\int_0^t g(u) du$ and the length coming out would be a constant (accounting for the cross section) times $u(t) = \\int_0^t \\sqrt{1 + g'(s)} ds$.\n\n\"\"\")"
      ],
      "metadata": {},
      "execution_count": null
    },
    {
      "cell_type": "markdown",
      "source": [
        "## Examples\n\nLet $f(x) = x^2$. The arc length of the graph of $f(x)$ over $[0,1]$ is then $L=\\int_0^1 \\sqrt{1 + (2x)^2} dx$. A trigonometric substitution of $2x = \\sin(\\theta)$ leads to the antiderivative:"
      ],
      "metadata": {}
    },
    {
      "outputs": [],
      "cell_type": "code",
      "source": [
        "using CalculusWithJulia  # loads `SymPy`, `Roots`, `QuadGK`, `ForwardDiff`\nusing Plots\n@vars x\nF = integrate(sqrt(1 + (2x)^2), x)"
      ],
      "metadata": {},
      "execution_count": null
    },
    {
      "outputs": [],
      "cell_type": "code",
      "source": [
        "F(1) - F(0)"
      ],
      "metadata": {},
      "execution_count": null
    },
    {
      "cell_type": "markdown",
      "source": [
        "That number has some context, as can be seen from the graph, which gives simple lower and upper bounds of $\\sqrt{1^2 + 1^2} = 1.414...$ and $1 + 1 = 2$."
      ],
      "metadata": {}
    },
    {
      "outputs": [],
      "cell_type": "code",
      "source": [
        "f(x) = x^2\nplot(f, 0, 1)"
      ],
      "metadata": {},
      "execution_count": null
    },
    {
      "outputs": [],
      "cell_type": "code",
      "source": [
        "note(L\"\"\"\n\nThe integrand $\\sqrt{1 + f'(x)^2}$ may seem odd at first, but it can be interpreted as the length of the hypotenuse of a right triangle with \"run\" of $1$ and rise of $f'(x)$. This triangle is easily formed using the tangent line to the graph of $f(x)$. By multiplying by $dx$, the integral is \"summing\" up the lengths of infinitesimal pieces of the tangent line approximation.\n\n\"\"\")"
      ],
      "metadata": {},
      "execution_count": null
    },
    {
      "cell_type": "markdown",
      "source": [
        "##### Example\n\nLet $f(t) = R\\cos(t)$ and $g(t) = R\\sin(t)$. Then the parametric curve over $[0, 2\\pi]$ is a circle. As the curve does not wrap around, the arc-length of the curve is just the circumference of the circle. To see that the arc length formula gives us familiar answers, we have:\n\n$$~\nL = \\int_0^{2\\pi} \\sqrt{(R\\cos(t))^2 + (-R\\sin(t))^2} dt = R\\int_0^{2\\pi} \\sqrt{\\cos(t)^2 + \\sin(t)^2} dt =\nR\\int_0^{2\\pi} dt = 2\\pi R.\n~$$\n\n##### Example\n\nLet $f(x) = \\log(x)$. Find the length of the graph of $f$ over $[1/e, e]$.\n\nThe answer is\n\n$$~\nL = \\int_{1/e}^e \\sqrt{1 + (\\frac{1}{x})^2} dx.\n~$$\n\nThis has a *messy* antiderivative, so we let `SymPy` compute for us:"
      ],
      "metadata": {}
    },
    {
      "outputs": [],
      "cell_type": "code",
      "source": [
        "@vars x\nex = integrate(sqrt(1 + (1/x)^2), (x, 1/Sym(e), e))    # 1/Sym(e) keeps as symbolic value"
      ],
      "metadata": {},
      "execution_count": null
    },
    {
      "cell_type": "markdown",
      "source": [
        "Which isn't so satisfying. From a quick graph, we see the answer should be no more than 4, and we see in fact it is"
      ],
      "metadata": {}
    },
    {
      "outputs": [],
      "cell_type": "code",
      "source": [
        "N(ex)"
      ],
      "metadata": {},
      "execution_count": null
    },
    {
      "cell_type": "markdown",
      "source": [
        "##### Example\n\n\nA [catenary shape](http://en.wikipedia.org/wiki/Catenary) is the shape a hanging chain will take as it is suspended between two posts. It appears elsewhere, for example, power wires will also have this shape as they are suspended between towers.  A formula for a catenary can be written in terms of the hyperbolic cosine, `cosh` in `julia` or exponentials.\n\n$$~\ny = a \\cosh(x/a) = a \\cdot \\frac{e^{x/a} + e^{-x/a}}{2}.\n~$$\n\nSuppose we have the following chain hung between $x=-1$ and $x=1$ with $a = 2$:"
      ],
      "metadata": {}
    },
    {
      "outputs": [],
      "cell_type": "code",
      "source": [
        "f(x; a=2) = a * cosh(x/a)\nplot(f, -1, 1)"
      ],
      "metadata": {},
      "execution_count": null
    },
    {
      "cell_type": "markdown",
      "source": [
        "How long is the chain? Looking at the graph we can guess an answer is\nbetween $2$ and $2.5$, say, but it isn't much work to get\nan approximate numeric answer. Recall, the accompanying `CalculusWithJulia` package deines `f'` to find the derivative using the `ForwardDiff` package."
      ],
      "metadata": {}
    },
    {
      "outputs": [],
      "cell_type": "code",
      "source": [
        "quadgk(x -> sqrt(1 + f'(x)^2), -1, 1)[1]"
      ],
      "metadata": {},
      "execution_count": null
    },
    {
      "cell_type": "markdown",
      "source": [
        "We used a numeric approach, but this can be solved by hand and the answer is surprising.\n\n##### Example\n\nThis picture of Jasper John's [Near the Lagoon](http://www.artic.edu/aic/collections/artwork/184095) was taken at The Art Institute Chicago."
      ],
      "metadata": {}
    },
    {
      "outputs": [],
      "cell_type": "code",
      "source": [
        "imgfile = \"figures/johns-catenary.jpg\"\ncaption = \"One of Jasper Johns' Catenary series. Art Institute of Chicago.\"\nImageFile(imgfile, caption)"
      ],
      "metadata": {},
      "execution_count": null
    },
    {
      "cell_type": "markdown",
      "source": [
        "The museum notes have\n\n>    For his Catenary series (1997–2003), of which Near the Lagoon is\n>    the largest and last work, Johns formed catenaries—a term used to\n>    describe the curve assumed by a cord suspended freely from two\n>    points—by tacking ordinary household string to the canvas or its\n>    supports.\n\nThis particular catenary has a certain length. The basic dimensions\nare 78in wide and 118in drop. We shift the basic function for catenaries to have $f(78/2) = f(-78/2) = 0$ and\n$f(0) = -118$ (the top curve segment is on the $x$ axis and centered). We let our shifted function be parameterized by\n\n$$~\nf(x; a, b) = a \\cosh(x/a) - b.\n~$$\n\n\nEvaluating at $0$ gives:\n\n$$~\n-118 = a - b \\text{ or } b = a + 118.\n~$$\n\nEvaluating at $78/2$ gives: $a \\cdot \\cosh(78/(2a)) - (a + 118) = 0$. This can be solved numerically for a:"
      ],
      "metadata": {}
    },
    {
      "outputs": [],
      "cell_type": "code",
      "source": [
        "cat(x; a=1, b=0) = a*cosh(x/a) - b\na = find_zero(a -> cat(78/2, a=a, b=118 + a), 10)"
      ],
      "metadata": {},
      "execution_count": null
    },
    {
      "cell_type": "markdown",
      "source": [
        "Rounding, we take $a=13$. With these parameters ($a=13$, $b = 131$), we\ncompute the length of Johns' catenary in inches:"
      ],
      "metadata": {}
    },
    {
      "outputs": [],
      "cell_type": "code",
      "source": [
        "a = 13\nb = 118 + a\nf(x) = cat(x, a=13, b=118+13)\nquadgk(x -> sqrt(1 + f'(x)^2), -78/2, 78/2)[1]"
      ],
      "metadata": {},
      "execution_count": null
    },
    {
      "cell_type": "markdown",
      "source": [
        "##### Example\n\n\nSuspension bridges, like the Verrazano bridge, have different loading\nthan a cable and hence a different shape. A parabola is the shape the\ncable takes under uniform loading (cf. [page 19](http://calteches.library.caltech.edu/4007/1/Calculus.pdf) for a\npicture).\n\nThe Verrazano-Narrows\n[bridge](http://observer.com/2012/09/staten-island/s-i-8/) has a span\nof $1298$m. (Though, in the picture from the link the cable is\nbasically unloaded so will form a catenary.) Suppose the drop of the\nmain cables is $147$ meters over this span. Then the cable itself can\nbe modeled as a parabola with\n\n* The $x$-intercepts $a = 1298/2$ and $-a$ and\n* vertex $(0,b)$ with $b=-147$.\n\nThe parabola that fits these three points is\n\n$$~\ny = \\frac{-b}{a^2}(x^2 - a^2)\n~$$\n\nFind the  length of the cable in meters."
      ],
      "metadata": {}
    },
    {
      "outputs": [],
      "cell_type": "code",
      "source": [
        "a = 1298/2;\nb = -147;\nf(x) = (-b/a^2)*(x^2 - a^2);\nval, _ = quadgk(x -> sqrt(1 + f'(x)^2), -a, a)\nval"
      ],
      "metadata": {},
      "execution_count": null
    },
    {
      "cell_type": "markdown",
      "source": [
        "##### Example\n\nThe\n[Nephroid](http://www-history.mcs.st-and.ac.uk/Curves/Nephroid.html)\nis a curve that can be described parametrically by\n\n$$~\n\\begin{align}\ng(t) &= a(3\\cos(t) - \\cos(3t)) \\\\\nf(t) &= a(3\\sin(t) - \\sin(3t)).\n\\end{align}\n~$$\n\nTaking $a=1$ we have this graph:"
      ],
      "metadata": {}
    },
    {
      "outputs": [],
      "cell_type": "code",
      "source": [
        "a = 1\ng(t) = a*(3cos(t) - cos(3t))\nf(t) = a*(3sin(t) - sin(3t))\nplot(g, f, 0, 2pi)"
      ],
      "metadata": {},
      "execution_count": null
    },
    {
      "cell_type": "markdown",
      "source": [
        "Find the length of the perimeter of the closed figure formed by the graph.\n\nWe have $\\sqrt{g'(t)^ + f'(t)^2} = \\sqrt{18 - 18\\cos(2t)}$.\nAn antiderivative isn't forthcoming through `SymPy`, so we take a numeric approach to find the length:"
      ],
      "metadata": {}
    },
    {
      "outputs": [],
      "cell_type": "code",
      "source": [
        "quadgk(t -> sqrt(g'(t)^2 + f'(t)^2), 0, 2pi)[1]"
      ],
      "metadata": {},
      "execution_count": null
    },
    {
      "cell_type": "markdown",
      "source": [
        "The answer seems like a floating point approximation of $24$, which  suggests that  this integral is tractable. Pursuing this, the integrand simplifies:\n\n$$~\n\\begin{align}\n\\sqrt{g'(t)^2 + f'(t)^2}\n&= \\sqrt{(-3\\sin(t) + 3\\sin(3t))^2 + (3\\cos(t) - 3\\cos(3t))^2} \\\\\n&= 3\\sqrt{(\\sin(t)^2 - 2\\sin(t)\\sin(3t) + \\sin(3t)^2) + (\\cos(t)^2 -2\\cos(t)\\cos(3t) + \\cos(3t)^2)} \\\\\n&= 3\\sqrt{(\\sin(t)^2+\\cos(t)^2) + (\\sin(3t)^2 + \\cos(3t)^2) - 2(\\sin(t)\\sin(3t) + \\cos(t)\\cos(3t))}\\\\\n&= 3\\sqrt{2(1 - (\\sin(t)\\sin(3t) + \\cos(t)\\cos(3t)))}\\\\\n&= 3\\sqrt{2}\\sqrt{1 - \\cos(2t)}\\\\\n&= 3\\sqrt{2}\\sqrt{2\\sin(t)^2}.\n\\end{align}\n~$$\n\nThe second to last line comes from a double angle formula expansion of $\\cos(3t - t)$ and the last line from the half angle formula for $\\cos$.\n\nBy graphing, we see that integrating over $[0,2\\pi]$ gives twice the answer to integrating over $[0, \\pi]$, which allows the simplification to:\n\n$$~\nL = \\int_0^{2\\pi} \\sqrt{g'(t)^2 + f'(t)^2}dt = \\int_0^{2\\pi} 3\\sqrt{2}\\sqrt{2\\sin(t)^2} =\n3 \\cdot 2 \\cdot 2 \\int_0^\\pi \\sin(t) dt = 3 \\cdot 2 \\cdot 2 \\cdot 2 = 24.\n~$$\n\n##### Example\n\nA teacher of small children assigns his students the task of computing the length of a jump rope by counting the number of $1$-inch segments it is made of. He knows that if a student is accurate, no matter how fast or slow they count the answer will be the same. (That is, unless the student starts counting in the wrong direction by mistake). The teacher knows this, as he is certain that the length of curve is independent of its parameterization, as it is a property intrinsic to the curve.\n\nMathematically, suppose a curve is described parametrically by $(g(t), f(t))$ for $a \\leq t \\leq b$. A new parameterization is provided by $\\gamma(t)$. Suppose $\\gamma$ is strictly increasing, so that an inverse function exists. (This assumption is implicitly made by the teacher, as it implies the student won't start counting in the wrong direction.) Then the same curve is described by composition through $(g(\\gamma(u)), f(\\gamma(u)))$ $\\gamma^{-1}(a) \\leq u \\leq \\gamma^{-1}(b)$. That the arc length is the same follows from substitution:\n\n$$~\n\\begin{align}\n\\int_{\\gamma^{-1}(a)}^{\\gamma^{-1}(b)} \\sqrt{([g(\\gamma(t))]')^2 + ([f(\\gamma(t))]')^2} dt\n&=\\int_{\\gamma^{-1}(a)}^{\\gamma^{-1}(b)} \\sqrt{(g'(\\gamma(t) )\\gamma'(t))^2 + (f'(\\gamma(t) )\\gamma'(t))^2 } dt \\\\\n&=\\int_{\\gamma^{-1}(a)}^{\\gamma^{-1}(b)} \\sqrt{g'(\\gamma(t))^2 + f'(\\gamma(t))^2} \\gamma'(t) dt\\\\\n&=\\int_a^b \\sqrt{g'(u)^2 + f'(u)^2} du = L\n\\end{align}\n~$$\n\n(Using $u=\\gamma(t)$ for the substitution.)\n\nIn traveling there are two natural parameterizations: one by time, as in \"how long have we been driving?\"; and the other by distance, as in \"how  far have we been driving?\" Parameterizing by distance, or more technically arc length has other mathematical advantages.\n\nTo parameterize by arc length, we just need to consider a special $\\gamma$ defined by:\n\n$$~\n\\gamma(u) = \\int_0^u \\sqrt{g'(t)^2 + f'(t)^2} dt.\n~$$\n\nSupposing $\\sqrt{g'(t)^2 + f'(t)^2}$ is continuous and positive, This\ntransformation is increasing, as its derivative by the Fundamental\nTheorem of Calculus is $\\sqrt{g'(t)^2 + f'(t)^2}$, which by assumption\nis positive. (It is certainly non-negative.) So there exists an inverse\nfunction. That it exists is one thing, computing all of this is a\ndifferent matter, of course.\n\nFor a simple example, we have $g(t) = R\\cos(t)$ and $f(t)=R\\sin(t)$\nparameterizing the circle of radius $R$. The arc length between $0$\nand $t$ is simply $\\gamma(t) = Rt$, which we can easily see from the\nformula.  The inverse of this function is $\\gamma^{-1}(u) = u/R$, so\nwe get the parameterization $(g(Rt), f(Rt))$ for $0/R \\leq t \\leq\n2\\pi/R$.\n\nWhat looks at first glance to be just a slightly more complicated equation is that of an ellipse, with $g(t) = a\\cos(t)$ and $f(t) = b\\sin(t)$. Taking $a=1$ and $b = a + c$, for $c > 0$ we get the equation for the arc length as a function of $t$ is just\n\n$$~\ns(u) = \\int_0^u \\sqrt{(-\\sin(t))^2 + b\\cos(t)^2} dt = \\int_0^u \\sqrt{\\sin(t))^2 + \\cos(t)^2 + c\\cos(t)^2} dt =\n\\int_0^u \\sqrt{1 + c\\cos(t)^2} dt.\n~$$\n\nBut, despite it not being too daunting, this integral is not tractable through our techniques and has an answer involving elliptic integrals. We can work numerically though. Letting $a=1$ and $b=2$, we have the arc length is given by:"
      ],
      "metadata": {}
    },
    {
      "outputs": [],
      "cell_type": "code",
      "source": [
        "a, b= 1, 2\ns(u) = quadgk(t -> sqrt(a^2 * sin(t)^2 + b^2 * cos(t)^2), 0, u)[1]"
      ],
      "metadata": {},
      "execution_count": null
    },
    {
      "cell_type": "markdown",
      "source": [
        "This  has a graph, which does not look familiar, but we can see is monotonically increasing, so will have an inverse function:"
      ],
      "metadata": {}
    },
    {
      "outputs": [],
      "cell_type": "code",
      "source": [
        "plot(s, 0, 2pi)"
      ],
      "metadata": {},
      "execution_count": null
    },
    {
      "cell_type": "markdown",
      "source": [
        "The range is $[0, s(2\\pi)]$.\n\nThe inverse function can be found by solving, we use `find_zero` for this:"
      ],
      "metadata": {}
    },
    {
      "outputs": [],
      "cell_type": "code",
      "source": [
        "using Roots\nsinv(u) = find_zero(x -> s(x) - u, (0, s(2pi)))"
      ],
      "metadata": {},
      "execution_count": null
    },
    {
      "cell_type": "markdown",
      "source": [
        "Here we see that the new parameterization yields the same curve:"
      ],
      "metadata": {}
    },
    {
      "outputs": [],
      "cell_type": "code",
      "source": [
        "g(t) = a*cos(t)\nf(t) = b*sin(t)\n\nplot(t->g(s(t)), t-> f(s(t)), 0, s(2*pi))"
      ],
      "metadata": {},
      "execution_count": null
    },
    {
      "cell_type": "markdown",
      "source": [
        "## Questions\n\n###### Question\n\nThe length of the curve given by $f(x) = e^x$ between $0$ and $1$ is certainly longer than the length of the line connecting $(0, f(0))$ and $(1, f(1))$. What is that length?"
      ],
      "metadata": {}
    },
    {
      "outputs": [],
      "cell_type": "code",
      "source": [
        "f(x) = exp(x)\nval = sqrt( (f(1) - f(0))^2 - (1 - 0)^2)\nnumericq(val)"
      ],
      "metadata": {},
      "execution_count": null
    },
    {
      "cell_type": "markdown",
      "source": [
        "The length of the curve is certainly less than the length of going from $(0,f(0))$ to $(1, f(0))$ and then up to $(1, f(1))$. What is the length of this upper bound?"
      ],
      "metadata": {}
    },
    {
      "outputs": [],
      "cell_type": "code",
      "source": [
        "val = (1 - 0) + (f(1) - f(0))\nnumericq(val)"
      ],
      "metadata": {},
      "execution_count": null
    },
    {
      "cell_type": "markdown",
      "source": [
        "Now find the actual length of the curve numerically:"
      ],
      "metadata": {}
    },
    {
      "outputs": [],
      "cell_type": "code",
      "source": [
        "a,b = 0, 1\nval, _ = quadgk(x -> sqrt(1 + exp(x)^2), a, b)\nnumericq(val)"
      ],
      "metadata": {},
      "execution_count": null
    },
    {
      "cell_type": "markdown",
      "source": [
        "###### Question\n\nFind the length of the graph of $f(x) = x^{3/2}$ between $0$ and $4$."
      ],
      "metadata": {}
    },
    {
      "outputs": [],
      "cell_type": "code",
      "source": [
        "f(x) = x^(3/2)\na, b = 0, 4\nval, _ = quadgk( x -> sqrt(1 + f'(x)^2), a, b)\nnumericq(val)"
      ],
      "metadata": {},
      "execution_count": null
    },
    {
      "cell_type": "markdown",
      "source": [
        "###### Question\n\nA [pursuit](http://www-history.mcs.st-and.ac.uk/Curves/Pursuit.html) curve is a track an optimal pursuer will take when chasing prey. The function $f(x) = x^2 - \\log(x)$ is an example. Find the length of the curve between $1/10$ and $2$."
      ],
      "metadata": {}
    },
    {
      "outputs": [],
      "cell_type": "code",
      "source": [
        "f(x) = x^2 - log(x)\na, b= 1/10, 2\nval, _ = quadgk( x -> sqrt(1 + (f)(x)^2), a, b)\nnumericq(val)"
      ],
      "metadata": {},
      "execution_count": null
    },
    {
      "cell_type": "markdown",
      "source": [
        "###### Question\n\nFind the length of the graph of $f(x) = \\tan(x)$ between $-\\pi/4$ and $\\pi/4$."
      ],
      "metadata": {}
    },
    {
      "outputs": [],
      "cell_type": "code",
      "source": [
        "f(x) = tan(x)\na, b= -pi/4, pi/4\nval, _ = quadgk( x -> sqrt(1 + f'(x)^2), a, b)\nnumericq(val)"
      ],
      "metadata": {},
      "execution_count": null
    },
    {
      "cell_type": "markdown",
      "source": [
        "Note, the straight line segment should be a close approximation and has length:"
      ],
      "metadata": {}
    },
    {
      "outputs": [],
      "cell_type": "code",
      "source": [
        "sqrt((tan(pi/4) - tan(-pi/4))^2 + (pi/4 - -pi/4)^2)"
      ],
      "metadata": {},
      "execution_count": null
    },
    {
      "cell_type": "markdown",
      "source": [
        "###### Question\n\nFind the length of the graph of the function $g(x) =\\int_0^x \\tan(x)dx$ between $0$ and $\\pi/4$ by hand or numerically:"
      ],
      "metadata": {}
    },
    {
      "outputs": [],
      "cell_type": "code",
      "source": [
        "fp(x) = tan(x)\na, b = 0, pi/4\nval, _ = quadgk(x -> sqrt(1 + fp(x)^2), a, b)\nnumericq(val)"
      ],
      "metadata": {},
      "execution_count": null
    },
    {
      "cell_type": "markdown",
      "source": [
        "###### Question\n\n\nA boat sits at the point $(a, 0)$ and a man holds a rope taut attached to the boat at the origin $(0,0)$. The man walks on the $y$ axis. The position $y$ depends then on the position $x$ of the boat, and if the rope is taut, the position satisfies:\n\n\n$$~\ny = a \\ln\\frac{a + \\sqrt{a^2 - x^2}}{x} - \\sqrt{a^2 - x^2}\n~$$\n\nThis can be entered into `julia` as:"
      ],
      "metadata": {}
    },
    {
      "outputs": [],
      "cell_type": "code",
      "source": [
        "g(x, a) = a * log((a + sqrt(a^2 - x^2))/x) - sqrt(a^2 - x^2)"
      ],
      "metadata": {},
      "execution_count": null
    },
    {
      "cell_type": "markdown",
      "source": [
        "Let $a=12$, $f(x) = g(x, a)$. Compute the length the bow of the\nboat has traveled between $x=1$ and $x=a$ using `quadgk`."
      ],
      "metadata": {}
    },
    {
      "outputs": [],
      "cell_type": "code",
      "source": [
        "a = 12\nf(x) = g(x, a);\nval = quadgk(x -> sqrt(1 + D(f)(x)^2), 1, a)[1];\nnumericq(val, 1e-3)"
      ],
      "metadata": {},
      "execution_count": null
    },
    {
      "cell_type": "markdown",
      "source": [
        "(The most elementary description of this curve is in terms\nof the relationship $dy/dx = -\\sqrt{a^2-x^2}/x$ which could be used in place of `D(f)` in your work.)"
      ],
      "metadata": {}
    },
    {
      "outputs": [],
      "cell_type": "code",
      "source": [
        "note(\"\"\"\n\nTo see an example of how the tractrix can be found in an everyday observation, follow this link on a description of [bicycle](https://simonsfoundation.org/multimedia/mathematical-impressions-bicycle-tracks) tracks.\n\n\"\"\")"
      ],
      "metadata": {},
      "execution_count": null
    },
    {
      "cell_type": "markdown",
      "source": [
        "###### Question\n\nA curve is parameterized by $g(t) = t + \\sin(t)$ and $f(t) = \\cos(t)$. Find the arc length of the curve between $t=0$ and $\\pi$."
      ],
      "metadata": {}
    },
    {
      "outputs": [],
      "cell_type": "code",
      "source": [
        "g(t) = t + sin(t)\nf(t) = cos(t)\na, b = 0, pi\nval, _ = quadgk( x -> sqrt(D(g)(x)^2 + D(f)(x)^2), a, b)\nnumericq(val)"
      ],
      "metadata": {},
      "execution_count": null
    },
    {
      "cell_type": "markdown",
      "source": [
        "###### Question\n\nThe [astroid](http://www-history.mcs.st-and.ac.uk/Curves/Astroid.html) is\na curve  parameterized by $g(t) = \\cos(t)^3$ and $f(t) = \\sin(t)^3$. Find the arc length of the curve between $t=0$ and $2\\pi$. (This can be computed by hand or numerically.)"
      ],
      "metadata": {}
    },
    {
      "outputs": [],
      "cell_type": "code",
      "source": [
        "g(t) = cos(t)^3\nf(t) = sin(t)^3\na, b = 0, 2pi\nval, _ = quadgk( x -> sqrt(D(g)(x)^2 + D(f)(x)^2), a, b)\nnumericq(val)"
      ],
      "metadata": {},
      "execution_count": null
    },
    {
      "cell_type": "markdown",
      "source": [
        "###### Question\n\nA curve is parameterized by $g(t) = (2t + 3)^{2/3}/3$ and $f(t) = t + t^2/2$, for $0\\leq t \\leq 3$. Compute the arc-length numerically or by hand:"
      ],
      "metadata": {}
    },
    {
      "outputs": [],
      "cell_type": "code",
      "source": [
        "g(t) = (2t+3)^(2/3)/3\nf(t) = t + t^2/2\na, b = 0, 3\nval, _ = quadgk( x -> sqrt(D(g)(x)^2 + D(f)(x)^2), a, b)\nnumericq(val)"
      ],
      "metadata": {},
      "execution_count": null
    },
    {
      "cell_type": "markdown",
      "source": [
        "###### Question\n\nThe cycloid is parameterized by $g(t) = a(t - \\sin(t))$ and $f(t) = a(1 - \\cos(t))$ for $a > 0$. Taking $a=1$, and $t$ in $[0, 2\\pi]$, find the length of the curve traced out."
      ],
      "metadata": {}
    },
    {
      "outputs": [],
      "cell_type": "code",
      "source": [
        "g(t) = t - sin(t)\nf(t) = 1 - cos(t)\na, b = 0, 2pi\nval, _ = quadgk( x -> sqrt(D(g)(x)^2 + D(f)(x)^2), a, b)\nnumericq(val)"
      ],
      "metadata": {},
      "execution_count": null
    }
  ],
  "nbformat_minor": 2,
  "metadata": {
    "language_info": {
      "file_extension": ".jl",
      "mimetype": "application/julia",
      "name": "julia",
      "version": "1.5.0"
    },
    "kernelspec": {
      "name": "julia-1.5",
      "display_name": "Julia 1.5.0",
      "language": "julia"
    }
  },
  "nbformat": 4
}
