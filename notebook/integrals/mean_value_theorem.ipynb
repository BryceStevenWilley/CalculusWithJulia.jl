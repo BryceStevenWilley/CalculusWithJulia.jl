{
  "cells": [
    {
      "cell_type": "markdown",
      "source": [
        "# Average of a function and the mean value theorem for integrals"
      ],
      "metadata": {}
    },
    {
      "outputs": [],
      "cell_type": "code",
      "source": [
        "using CalculusWithJulia\nusing CalculusWithJulia.WeaveSupport\nusing Plots\nnothing"
      ],
      "metadata": {},
      "execution_count": null
    },
    {
      "cell_type": "markdown",
      "source": [
        "Let $f(x)$ be a continuous function over the interval $[a,b]$ with $a < b$.\n\nThe average value of $f$ over $[a,b]$ is defined by:\n\n$$~\n\\frac{1}{b-a} \\int_a^b f(x) dx.\n~$$\n\nIf $f$ is a constant, this is just the contant value, as would be\nexpected. If $f$ is *piecewise* linear, then this is the weighted\naverage of these constants.\n\n## Examples\n\n##### Average velocity\n\nThe average velocity between times $a < b$, is simply the\nchange in position during the time interval divided by the change in\ntime. In notation, this would be $(x(b) - x(a)) / (b-a)$. If $v(t) =\nx'(t)$ is the velocity, then by the second part of the fundamental\ntheorem of calculus, we have, in agreement with the definition above,\nthat:\n\n$$~\n\\text{average velocity} = \\frac{x(b) - x(a)}{b-a} = \\frac{1}{b-a} \\int_a^b v(t) dt.\n~$$\n\n\nThe average speed is the change in *total* distance over time, which is given by\n\n$$~\n\\text{average speed} =  \\frac{1}{b-a} \\int_a^b \\lvert v(t)\\rvert dt.\n~$$\n\n\n\nLet $\\bar{v}$ be the average velocity. Then we have $\\bar{v}\n\\cdot(b-a) = x(b) - x(a)$, or the change in position can be written as\na constant ($\\bar{v}$) times the time, as though we had a constant\nvelocity.  This is an old intuition.\n[Bressoud](http://www.math.harvard.edu/~knill/teaching/math1a_2011/exhibits/bressoud/)\ncomments on the special case known to scholars at Merton\nCollege around 1350 that the distance traveled by an object under\nuniformly increasing velocity starting at $v_0$ and ending at $v_t$ is\nequal to the distance traveled by an object with constant velocity of\n$(v_0 + v_t)/2$.\n\n##### Example\n\nWhat is the average value of $f(x)=\\sin(x)$ over $[0, \\pi]$?\n\n$$~\n\\text{average} = \\frac{1}{\\pi-0} \\int_0^\\pi \\sin(x) dx = \\frac{1}{\\pi} (-\\cos(x)) \\big|_0^\\pi = \\frac{2}{\\pi}\n~$$\n\nVisually, we have:"
      ],
      "metadata": {}
    },
    {
      "outputs": [],
      "cell_type": "code",
      "source": [
        "using CalculusWithJulia\nusing Plots\nplot(sin, 0, pi)\nplot!(x -> 2/pi, 0, 2pi)"
      ],
      "metadata": {},
      "execution_count": null
    },
    {
      "cell_type": "markdown",
      "source": [
        "##### Example\n\nWhat is the average value of the function $f$ which is $1$ between\n$[0,3]$, $2$ between $(3,5]$ and $1$ between $(5,6]$?\n\nThough not continuous, $f(x)$ is integrable as it contains only jumps. The integral from $[0,6]$ can be computed with geometry: $3\\cdot 3 + 2 \\cdot 2 + 1 \\cdot 1 = 14$. The average then is $14/(6-0) = 7/3$.\n\n##### Example\n\nWhat is the average value of the function $e^{-x}$ between $0$ and $\\log(2)$?\n\n$$~\n\\text{average} = \\frac{1}{\\log(2) - 0} \\int_0^{\\log(2)} e^{-x} dx\n= \\frac{1}{\\log(2)} (-e^{-x}) \\big|_0^{\\log(2)}\n= -\\frac{1}{\\log(2)} (\\frac{1}{2} - 1)\n= \\frac{1}{2\\log(2)}.\n~$$\n\nVisualizing, we have"
      ],
      "metadata": {}
    },
    {
      "outputs": [],
      "cell_type": "code",
      "source": [
        "plot(x -> exp(-x), 0, log(2))\nplot!(x -> 1/(2*log(2)), 0, log(2))"
      ],
      "metadata": {},
      "execution_count": null
    },
    {
      "cell_type": "markdown",
      "source": [
        "## The mean value theorem for integrals\n\nIf $f(x)$ is assumed integrable, the average value of $f(x)$ is\ndefined, as above. Re-expressing gives that there exists a $K$ with\n\n$$~\nK \\cdot (b-a) = \\int_a^b f(x) dx.\n~$$\n\nWhen we assume that $f(x)$ is continuous, we can describe $K$ as a value in the range of $f$:\n\n> **The mean value theorem for integrals**: Let $f(x)$ be a continuous\n> function on $[a,b]$ with $a < b$. Then there exists $c$ with $a \\leq c \\leq b$ with\n> $$~ f(c) \\cdot (b-a) = \\int_a^b f(x) dx.~$$\n\nThe proof comes from the intermediate value theorem and the extreme\nvalue theorem. Since $f$ is continuous on a closed interval, there\nexists values $m$ and $M$ with $f(c_m) = m \\leq f(x) \\leq M=f(c_M)$,\nfor some $c_m$ and $c_M$ in the interval $[a,b]$. Since $m \\leq f(x) \\leq M$, we must have:\n\n$$~\nm \\cdot (b-a) \\leq K\\cdot(b-a) \\leq M\\cdot(b-a).\n~$$\n\nSo in particular $K$ is in $[m, M]$. But $m$ and $M$ correspond to\nvalues of $f(x)$, so by the intermediate value theorem, $K=f(c)$ for\nsome $c$ that must lie in between $c_m$ and $c_M$, which means as well\nthat it must be in $[a,b]$.\n\n##### Proof of second part of Fundamental Theorem of Calculus\n\nThe mean value theorem is exactly what is needed to prove formally the\nsecond part of the Fundamental Theorem of Calculus. Again, suppose\n$f(x)$ is continuous on $[a,b]$ with $a < b$. For any $a < x < b$, we\ndefine $F(x) = \\int_a^x f(u) du$. Then the derivative of $F$ is $f$.\n\nLet $h>0$. Then consider the forward difference $(F(x+h) -\nF(x))/h$. Rewriting gives:\n\n$$~\n\\frac{\\int_a^{x+h} f(u) du - \\int_a^x f(u) du}{h}  =\\frac{\\int_x^{x+h} f(u) du}{h} = f(\\xi(h)).\n~$$\n\nThe value $\\xi(h)$ is just the $c$ corresponding to a given value in $[x, x+h]$\nguaranteed by the mean value theorem.  We only know that $x \\leq \\xi(h) \\leq x+h$. But\nthis is plenty - it says that $\\lim_{h \\rightarrow 0+} \\xi(h) =\nx$. Using the fact that $f$ is continuous and the known properties of\nlimits of compositions of functions this gives $\\lim_{h \\rightarrow\n0+} f(\\xi(h)) = f(x)$. But this means that the (right) limit of the\nsecant line expression exists and is equal to $f(x)$, which is what we\nwant to prove. Repeating a similar argument when $h < 0$, finishes the proof.\n\n\nThe basic notion used is simply that for small $h$, this expression is well\napproximated by the left Riemann sum taken over $[x, x+h]$:\n\n$$~\nf(\\xi(h)) \\cdot h = \\int_x^{x+h} f(u) du.\n~$$\n\n## Questions\n\n###### Question\n\nBetween $0$ and $1$ a function is constantly $1$. Between $1$ and $2$ the function is constantly $2$. What is the average value of the function over the interval $[0,2]$?"
      ],
      "metadata": {}
    },
    {
      "outputs": [],
      "cell_type": "code",
      "source": [
        "f(x) = x < 1 ? 1.0 : 2.0\na,b = 0, 2\nval, _ = quadgk(f, a, b)\nnumericq(val/(b-a))"
      ],
      "metadata": {},
      "execution_count": null
    },
    {
      "cell_type": "markdown",
      "source": [
        "###### Question\n\n\nBetween $0$ and $2$ a function is constantly $1$. Between $2$ and $3$ the function is constantly $2$. What is the average value of the function over the interval $[0,3]$?"
      ],
      "metadata": {}
    },
    {
      "outputs": [],
      "cell_type": "code",
      "source": [
        "f(x) = x < 2 ? 1.0 : 2.0\na, b= 0, 2\nval, _ = quadgk(f, a, b)\nnumericq(val/(b-a))"
      ],
      "metadata": {},
      "execution_count": null
    },
    {
      "cell_type": "markdown",
      "source": [
        "###### Question\n\nWhat integral will show the intuition of the Merton College scholars\nthat the distance traveled by an object under uniformly increasing\nvelocity starting at $v_0$ and ending at $v_t$ is equal to the\ndistance traveled by an object with constant velocity of $(v_0 +\nv_t)/2$."
      ],
      "metadata": {}
    },
    {
      "outputs": [],
      "cell_type": "code",
      "source": [
        "choices = [\nL\"\\int_0^t v(u) du = v^2/2 \\big|_0^t\",\nL\"\\int_0^t (v(0) + v(u))/2 du = v(0)/2\\cdot t + x(u)/2\\ \\big|_0^t\",\nL\"(v(0) + v(t))/2 \\cdot \\int_0^t du = (v(0) + v(t))/2 \\cdot t\"\n]\nans = 1\nradioq(choices, ans)"
      ],
      "metadata": {},
      "execution_count": null
    },
    {
      "cell_type": "markdown",
      "source": [
        "###### Question\n\nFind the average value of $\\cos(x)$ over the interval $[-\\pi/2, \\pi/2]$."
      ],
      "metadata": {}
    },
    {
      "outputs": [],
      "cell_type": "code",
      "source": [
        "f(x) = cos(x)\na,b = -pi/2,pi/2\nval, _ = quadgk(f, a, b)\nval = val/(b-a)\nnumericq(val)"
      ],
      "metadata": {},
      "execution_count": null
    },
    {
      "cell_type": "markdown",
      "source": [
        "###### Question\n\n\nFind the average value of $\\cos(x)$ over the interval $[0, \\pi]$."
      ],
      "metadata": {}
    },
    {
      "outputs": [],
      "cell_type": "code",
      "source": [
        "f(x) = cos(x)\na,b = 0, pi\nval, _ = quadgk(f, a, b)\nval = val/(b-a)\nnumericq(val)"
      ],
      "metadata": {},
      "execution_count": null
    },
    {
      "cell_type": "markdown",
      "source": [
        "###### Question\n\nFind the average value of $f(x) = e^{-2x}$ between $0$ and $2$."
      ],
      "metadata": {}
    },
    {
      "outputs": [],
      "cell_type": "code",
      "source": [
        "f(x) = exp(-2x)\na, b = 0, 2\nval, _ = quadgk(f, a, b)\nval = val/(b-a)\nnumericq(val)"
      ],
      "metadata": {},
      "execution_count": null
    },
    {
      "cell_type": "markdown",
      "source": [
        "###### Question\n\nFind the average value of $f(x) = \\sin(x)^2$ over the $0$, $\\pi$."
      ],
      "metadata": {}
    },
    {
      "outputs": [],
      "cell_type": "code",
      "source": [
        "f(x) = sin(x)^2\na, b = 0, pi\nval, _ = quadgk(f, a, b)\nval = val/(b-a)\nnumericq(val)"
      ],
      "metadata": {},
      "execution_count": null
    },
    {
      "cell_type": "markdown",
      "source": [
        "###### Question\n\nWhich is bigger? The average value of $f(x) = x^{10}$ or the average\nvalue of $g(x) = \\lvert x \\rvert$ over the interval $[0,1]$?"
      ],
      "metadata": {}
    },
    {
      "outputs": [],
      "cell_type": "code",
      "source": [
        "choices = [\nL\"That of $f(x) = x^{10}$.\",\nL\"That of $g(x) = \\lvert x \\rvert$.\"]\nans = 2\nradioq(choices, ans)"
      ],
      "metadata": {},
      "execution_count": null
    },
    {
      "cell_type": "markdown",
      "source": [
        "###### Question\n\nDefine a family of functions over the interval $[0,1]$ by $f(x; a,b) =\nx^a \\cdot (1-x)^b$. Which has a greater average, $f(x; 2,3)$ or $f(x;\n3,4)$?"
      ],
      "metadata": {}
    },
    {
      "outputs": [],
      "cell_type": "code",
      "source": [
        "choices = [\nL\"f(x; 2,3)\",\nL\"f(x; 3,4)\"\n]\nn1, _ = quadgk(x -> x^2 *(1-x)^3, 0, 1)\nn2, _ = quadgk(x -> x^3 *(1-x)^4, 0, 1)\nans = 1 + (n1 < n2)\nradioq(choices, ans)"
      ],
      "metadata": {},
      "execution_count": null
    },
    {
      "cell_type": "markdown",
      "source": [
        "###### Question\n\nSuppose the average value of $f(x)$ over $[a,b]$ is $100$. What is the average value of $100 f(x)$ over $[a,b]$?"
      ],
      "metadata": {}
    },
    {
      "outputs": [],
      "cell_type": "code",
      "source": [
        "numericq(100 * 100)"
      ],
      "metadata": {},
      "execution_count": null
    },
    {
      "cell_type": "markdown",
      "source": [
        "###### Question\n\nSuppose $f(x)$ is continuous and positive on $[a,b]$.\n\n* Explain why for any $x > a$ it must be that:\n\n$$~\nF(x) = \\int_a^x f(x) dx > 0\n~$$"
      ],
      "metadata": {}
    },
    {
      "outputs": [],
      "cell_type": "code",
      "source": [
        "choices = [\nL\"Because the mean value theorem says this is $f(c) (x-a)$ for some $c$ and both terms are positive by the assumptions\",\n\"Because the definite integral is only defined for positive area, so it is always positive\"\n]\nans = 1\nradioq(choices, ans)"
      ],
      "metadata": {},
      "execution_count": null
    },
    {
      "cell_type": "markdown",
      "source": [
        "* Explain why $F(x)$ is increasing."
      ],
      "metadata": {}
    },
    {
      "outputs": [],
      "cell_type": "code",
      "source": [
        "choices = [\nL\"By the extreme value theorem, $F(x)$ must reach its maximum, hence it must increase.\",\nL\"By the intermediate value theorem, as $F(x) > 0$, it must be true that $F(x)$ is increasing\",\nL\"By the fundamental theorem of calculus, part I, $F'(x) = f(x) > 0$, hence $F(x)$ is increasing\"\n]\nans = 3\nradioq(choices, ans)"
      ],
      "metadata": {},
      "execution_count": null
    },
    {
      "cell_type": "markdown",
      "source": [
        "###### Question\n\nFor $f(x) = x^2$, which is bigger: the average of the function $f(x)$ over $[0,1]$ or the geometric mean which is the exponential of the average of the logarithm of $f$ over the same interval?"
      ],
      "metadata": {}
    },
    {
      "outputs": [],
      "cell_type": "code",
      "source": [
        "f(x) = x^2\na,b = 0, 1\nval1 = quadgk(f, a, b)[1] / (b-a)\nval2 = exp(quadgk(x -> log(f(x)), a, b)[1] / (b - a))\n\nchoices = [\nL\"The average of $f$\",\nL\"The exponential of the average of $\\log(f)$\"\n]\nans = val1 > val2 ? 1 : 2\nradioq(choices, ans)"
      ],
      "metadata": {},
      "execution_count": null
    }
  ],
  "nbformat_minor": 2,
  "metadata": {
    "language_info": {
      "file_extension": ".jl",
      "mimetype": "application/julia",
      "name": "julia",
      "version": "1.5.0"
    },
    "kernelspec": {
      "name": "julia-1.5",
      "display_name": "Julia 1.5.0",
      "language": "julia"
    }
  },
  "nbformat": 4
}
