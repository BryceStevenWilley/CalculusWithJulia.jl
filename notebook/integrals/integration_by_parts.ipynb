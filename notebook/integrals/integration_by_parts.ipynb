{
  "cells": [
    {
      "cell_type": "markdown",
      "source": [
        "# Integration By Parts"
      ],
      "metadata": {}
    },
    {
      "outputs": [],
      "cell_type": "code",
      "source": [
        "using CalculusWithJulia\nusing CalculusWithJulia.WeaveSupport\nusing Plots\nnothing"
      ],
      "metadata": {},
      "execution_count": null
    },
    {
      "cell_type": "markdown",
      "source": [
        "So far we have seen that the *derivative* rules lead to *integration rules*. In particular:\n\n* The sum rule $[au(x) + bv(x)]' = au'(x) + bv'(x)$ gives rise to an\n  integration rule: $\\int (au(x) + bv(x))dx = a\\int u(x)dx + b\\int\n  v(x))dx$. (That is, the linearity of the derivative means the\n  integral has linearity.)\n\n* The chain rule $[f(g(x))]' = f'(g(x)) g'(x)$ gives $\\int_a^b\n  f(g(x))g'(x)dx=\\int_{g(a)}^{g(b)}f(x)dx$. That is, substitution\n  reverses the chain rule.\n\nNow we turn our attention to the implications of the *product rule*: $[uv]' = u'v + uv'$. The resulting technique is called integration by parts.\n\n\nThe following illustrates integration by parts of the integral $(uv)'$ over\n$[a,b]$ [original](http://en.wikipedia.org/wiki/Integration_by_parts#Visualization)."
      ],
      "metadata": {}
    },
    {
      "outputs": [],
      "cell_type": "code",
      "source": [
        "## parts picture\nu(x) = sin(x*pi/2)\nv(x) = x\nxs = range(0, stop=1, length=50)\na,b = 1/4, 3/4\np = plot(u, v, 0, 1, legend=false)\nplot!(p, zero, 0, 1)\nscatter!(p, [u(a), u(b)], [v(a), v(b)], color=:orange, markersize=5)\n\nplot!(p, [u(a),u(a),0, 0, u(b),u(b),u(a)], [0, v(a), v(a), v(b), v(b), 0, 0], linetype=:polygon, fillcolor=:orange, alpha=0.25)\n#plot!(p, [u(a),u(a),0],  [0, v(a), v(a)], color=:orange)\n#plot!(p,  [u(b),u(b),0], [0, v(b), v(b)], color=:orange)\nannotate!(p, [(0.65, .25, \"A\"), (0.4, .55, \"B\")])\nannotate!(p, [(u(a),v(a) + .08, \"(u(a),v(a))\"), (u(b),v(b)+.08, \"(u(b),v(b))\")])"
      ],
      "metadata": {},
      "execution_count": null
    },
    {
      "cell_type": "markdown",
      "source": [
        "The figure is a parametric plot of $(u,v)$ with the points $(u(a),\nv(a))$ and $(u(b), v(b))$ marked. The difference $u(b)v(b) - u(a)v(a)\n= u(x)v(x) \\big|_a^b$ is shaded.  This area breaks into two pieces,\n$A$ and $B$, partitioned by the curve. If $u$ is increasing and the\ncurve is parameterized by $t \\rightarrow u^{-1}(t)$, then\n$A=\\int_{u^{-1}(a)}^{u^{-1}(b)} v(u^{-1}(t))dt$. A $u$-substitution\nwith $t = u(x)$ changes this into the integral $\\int_a^b v(x) u'(x)\ndx$. Similarly, for increasing $v$, it can be seen that $B=\\int_a^b\nu(x) v'(x) dx$. This suggests a relationship between the integral of\n$u v'$, the integral of $u' v$ and the value $u(b)v(b) - u(a)v(a)$.\n\n\n\n\nIn terms of formulas:\n\n$$~\nu(x)\\cdot v(x)\\big|_a^b = \\int_a^b [u(x) v(x)]' dx = \\int_a^b u'(x) \\cdot v(x) dx + \\int_a^b u(x) \\cdot v'(x) dx.\n~$$\n\nThis is re-expressed as\n\n$$~\n\\int_a^b u(x) \\cdot v'(x) dx = u(x) \\cdot v(x)\\big|_a^b -  \\int_a^b v(x) \\cdot u'(x) dx,\n~$$\n\nOr, more informally, as $\\int udv = uv - \\int v du$.\n\n\n\nThis can sometimes be confusingly written as:\n\n$$~\n\\int f(x) g'(x) dx = f(x)g(x) - \\int f'(x) g(x) dx.\n~$$\n\n(The confusion coming from the fact that the indefinite integrals are only defined up to a constant.)\n\nHow does this help? It allows us to differentiate parts of an integral in hopes it makes the result easier to integrate.\n\nAn illustration can clarify.\n\nConsider the integral $\\int_0^\\pi x\\sin(x) dx$. If we let $u=x$ and $dv=\\sin(x) dx$, the $du = 1dx$ and $v=-\\cos(x)$. The above then says:\n\n$$~\n\\begin{align}\n\\int_0^\\pi x\\sin(x) dx &= \\int_0^\\pi u dv\\\\\n&= uv\\big|_0^\\pi - \\int_0^\\pi v du\\\\\n&= x \\cdot (-\\cos(x)) \\big|_0^\\pi - \\int_0^\\pi (-\\cos(x)) dx\\\\\n&= \\pi (-\\cos(\\pi)) - 0(-\\cos(0)) + \\int_0^\\pi \\cos(x) dx\\\\\n&= \\pi + \\sin(x)\\big|_0^\\pi\\\\\n&= \\pi.\n\\end{align}\n~$$\n\nThe technique means one part is differentiated and one part\nintegrated. The art is to break the integrand up into a piece that gets\neasier through differentiation and a piece that doesn't get much\nharder through integration.\n\n## Examples\n\nConsider $\\int_1^2 x \\log(x) dx$. We might try differentiating the $\\log(x)$ term, so we set $u=\\log(x)$ and $dv=xdx$. Then we get $du = 1/x dx$ and $v = x^2/2$. Putting together gives:\n\n$$~\n\\begin{align}\n\\int_1^2 x \\log(x) dx\n&= (\\log(x) \\cdot \\frac{x^2}{2}) \\big|_1^2 - \\int_1^2 \\frac{x^2}{2} \\frac{1}{x} dx\\\\\n&= (2\\log(2) - 0) - (\\frac{x^2}{4})\\big|_1^2\\\\\n&= 2\\log(2) - (1 - \\frac{1}{4}) \\\\\n&= 2\\log(2) - \\frac{3}{4}.\n\\end{align}\n~$$\n\n##### Example\n\nThis related problem uses the same idea, though perhaps harder to see at first glance, as $dv=dx$ seems too trivial.\n\n$$~\n\\begin{align}\n\\int \\log(x) dx\n&= \\int u dv\\\\\n&= uv - \\int v du\\\\\n&= (\\log(x) \\cdot x) - \\int x \\cdot \\frac{1}{x} dx\\\\\n&= x \\log(x) - \\int dx\\\\\n&= x \\log(x) - x\n\\end{align}\n~$$\n\nWere this a definite integral problem, we would have written:\n\n$$~\n\\int_a^b \\log(x) dx = (x\\log(x))\\big|_a^b - \\int_a^b dx = (x\\log(x) - x)\\big|_a^b.\n~$$\n\n##### Example\n\nSometimes integration by parts is used two or more times. Here we let $u=x^2$ and $dv = e^x dx$:\n\n\n$$~\n\\int_a^b x^2 e^x dx = (x^2 \\cdot e^x)\\big|_a^b - \\int_a^b 2x e^x dx.\n~$$\n\n\nBut we can do $\\int_a^b x e^xdx$ the same way:\n\n$$~\n\\int_a^b x e^x = (x\\cdot e^x)\\big|_a^b - \\int_a^b 1 \\cdot e^xdx = (xe^x - e^x)\\big|_a^b.\n~$$\n\nCombining gives the answer:\n\n$$~\n\\int_a^b x^2 e^x dx\n= (x^2 \\cdot e^x)\\big|_a^b - 2( (xe^x - e^x)\\big|_a^b ) =\ne^x(x^2  - 2x - 1) \\big|_a^b.\n~$$\n\n\nIn fact, it isn't hard to see that an integral of $x^m e^x$, $m$ a positive integer, can be handled in this manner. For example, when $m=10$, `SymPy` gives:"
      ],
      "metadata": {}
    },
    {
      "outputs": [],
      "cell_type": "code",
      "source": [
        "using CalculusWithJulia   # loads `SymPy`\n@vars x\nintegrate(x^10 * exp(x), x)"
      ],
      "metadata": {},
      "execution_count": null
    },
    {
      "cell_type": "markdown",
      "source": [
        "The general answer is $\\int x^n e^xdx = p(x) e^x$, where $p(x)$ is a\npolynomial of degree $n$.\n\n##### Example\n\nThe same technique is attempted for  this integral, but ends differently. First in the following we let $u=\\sin(x)$ and $dv=e^x dx$:\n\n$$~\n\\int e^x \\sin(x)dx = \\sin(x) e^x - \\int \\cos(x) e^x dx.\n~$$\n\nNow we let $u = \\cos(x)$ and again $dv=e^x dx$:\n\n$$~\n\\int e^x \\sin(x)dx = \\sin(x) e^x - \\int \\cos(x) e^x dx = \\sin(x)e^x - \\cos(x)e^x - \\int (-\\sin(x))e^x dx.\n~$$\n\nBut simplifying this gives:\n\n$$~\n\\int e^x \\sin(x)dx = - \\int e^x \\sin(x)dx +  e^x(\\sin(x) - \\cos(x)).\n~$$\n\nSolving for the \"unknown\" $\\int e^x \\sin(x) dx$ gives:\n\n$$~\n\\int e^x \\sin(x) dx = \\frac{1}{2} e^x (\\sin(x) - \\cos(x)).\n~$$\n\n##### Example\n\nPositive integer powers of trigonometric functions can be addressed by this technique. Consider\n$\\int \\cos(x)^n dx$. We let $u=\\cos(x)^{n-1}$ and $dv=\\cos(x) dx$. Then $du = (n-1)\\cos(x)^{n-2}(-\\sin(x))dx$ and $v=\\sin(x)$. So,\n\n$$~\n\\begin{align}\n\\int \\cos(x)^n dx &= \\cos(x)^{n-1} \\cdot (\\sin(x)) - \\int (\\sin(x)) ((n-1)\\sin(x) \\cos(x)^{n-2}) dx \\\\\n&= \\sin(x) \\cos(x)^{n-1} + (n-1)\\int \\sin^2(x) \\cos(x)^{n-1} dx\\\\\n&= \\sin(x) \\cos(x)^{n-1} + (n-1)\\int (1 - \\cos(x)^2) \\cos(x)^{n-2} dx\\\\\n&= \\sin(x) \\cos(x)^{n-1} + (n-1)\\int \\cos(x)^{n-2}dx - (n-1)\\int \\cos(x)^n dx.\n\\end{align}\n~$$\n\nWe can then solve for the unknown ($\\int \\cos(x)^{n}dx$) to get this *reduction formula*:\n\n\n$$~\n\\int \\cos(x)^n dx = \\frac{1}{n}\\sin(x) \\cos(x)^{n-1} + \\frac{n-1}{n}\\int \\cos(x)^{n-2}dx.\n~$$\n\nThis is called a reduction formula as it reduces the problem from an\nintegral with a power of $n$ to one with a power of $n - 2$, so could\nbe repeated until the remaining indefinite integral required knowing either\n$\\int \\cos(x) dx$ (which is $-\\sin(x)$) or $\\int \\cos(x)^2 dx$, which\nby a double angle formula application, is $x/2 - \\sin(2x)/4$.\n\n`SymPy` is quite able to do this repeated bookkeeping. For example with $n=10$:"
      ],
      "metadata": {}
    },
    {
      "outputs": [],
      "cell_type": "code",
      "source": [
        "integrate(cos(x)^10, x)"
      ],
      "metadata": {},
      "execution_count": null
    },
    {
      "cell_type": "markdown",
      "source": [
        "##### Example\n\nThe visual interpretation of integration by parts breaks area into two pieces, the one labeled \"B\" looks like it would be labeled \"A\" for an inverse function for $f$. Indeed, integration by parts gives a means to possibly find antiderivatives for inverse functions.\n\nLet $uv = x f^{-1}(x)$. Then we have $[uv]' = u'v + uv' = f^{-1}(x) + x [f^{-1}(x)]'$. So,\n\n$$~\n\\begin{align}\n\\int f^{-1}(x) dx\n&= xf^{-1}(x) - \\int x [f^{-1}(x)]' dx\\\\\n&= xf^{-1}(x) - \\int f(u) du.\\\\\n\\end{align}\n~$$\n\nThe last line follows from the $u$-substitution $u=f^{-1}(x)$ for then $du = [f^{-1}(x)]' dx$ and $x=f(u)$.\n\nWe use this to find an antiderivative for $\\sin^{-1}(x)$:\n\n$$~\n\\int \\sin^{-1}(x) = x \\sin^{-1}(x) - \\int \\sin(u) du =  x \\sin^{-1}(x) + \\cos(u) = x \\sin^{-1}(x) + \\cos(\\sin^{-1}(x)).\n~$$\n\nUsing right triangles to simplify, the last value\n$\\cos(\\sin^{-1}(x))$ can otherwise be written as $\\sqrt{1 - x^2}$.\n\n##### Example\n\nThe [trapezoid](http://en.wikipedia.org/wiki/Trapezoidal_rule) rule is an approximation to the definite integral like a\nRiemann sum, only instead of approximating the area above\n$[x_i, x_i + h]$ by a rectangle with height $f(c_i)$ (for some $c_i$),\nit uses a trapezoid formed by the left and right endpoints. That is,\nthis area is used in the estimation: $(1/2)\\cdot (f(x_i) + f(x_i+h))\n\\cdot h$.\n\nEven though we suggest just using `quadgk` for numeric integration,\nestimating the error in this approximation is still of some\ntheoretical interest. Recall, just using *either* $x_i$ or $x_{i-1}$\nfor $c_i$ gives an error that is \"like\" $1/n$, as $n$ gets large, though the exact rate depends on the function and the length of the interval.\n\nThis [proof](http://www.math.ucsd.edu/~ebender/20B/77_Trap.pdf) for the\nerror estimate is involved, but is reproduced here, as it nicely\nintegrates many of the theoretical concepts of integration discussed so far.\n\nFirst, for convenience, we consider the interval $x_i$ to $x_i+h$. The\nactual answer over this is just $\\int_{x_i}^{x_i+h}f(x) dx$. By a\n$u$-substitution with $u=x-x_i$ this becomes $\\int_0^h f(t + x_i)\ndt$. For analyzing this we integrate once by parts using $u=f(t+x_i)$ and\n$dv=dt$. But instead of letting $v=t$, we choose to add - as is our prerogative - a constant of integration\n$A$, so $v=t+A$:\n\n$$~\n\\int_0^h f(t + x_i) dt = (t+A)f(t+x_i)\\big|_0^h - \\int_0^h (t + A) f'(t + x_i) dt.\n~$$\n\nWe choose $A$ to be $-h/2$, for then the term $(t+A)f(t+x_i)\\big|_0^h$\nbecomes $(1/2)(f(x_i+h) + f(x_i)) \\cdot h$, or the trapezoid\napproximation. This means, the error over this interval - actual minus estimate - satisfies:\n\n$$~\n\\text{error}_i = \\int_{x_i}^{x_i+h}f(x) dx - \\frac{f(x_i+h) -f(x_i)}{2} \\cdot h  = - \\int_0^h (t + A) f'(t + x_i) dt.\n~$$\n\nFor this, we *again* integrate by parts with $u=f'(t+x_i)$ and\n$dv=(t+A)dt$. Again we add a constant of integration to get $v=(t+A)^2/2 + B$, and\nour error becomes:\n\n$$~\n\\text{error}_i = -(\\frac{(t+A)^2}{2} + B)f'(t+x_i)\\big|_0^h + \\int_0^h (\\frac{(t+A)^2}{2} + B) \\cdot f''(t+x_i) dt.\n~$$\n\nWith $A=-h/2$, $B$ is chosen to be $-h^2/8$ which causes the first\nterm to vanish and the absolute error to simplify to:\n\n$$~\n\\lvert \\text{error}_i  \\rvert = \\lvert \\int_0^h \\left(\\frac{(t-h/2)^2}{2} - \\frac{h^2}{8}\\right) \\cdot f''(t + x_i) dt \\rvert.\n~$$\n\nNow, we assume the $\\lvert f''(t)\\rvert$ is bounded by $K$ for any $a \\leq t \\leq b$. This\nwill be true, for example, if the second derivative is assumed to exist and be continuous.  Using this fact about definite integrals\n$\\lvert \\int_a^b g dx\\rvert \\leq \\int_a^b \\lvert g \\rvert dx$ we have:\n\n\n$$~\n\\lvert \\text{error}_i  \\rvert \\leq K \\int_0^h \\lvert (\\frac{(t-h/2)^2}{2} - \\frac{h^2}{8}) \\rvert dt.\n~$$\n\nBut what is the function in the integrand? Clearly it is a quadratic in $t$. Expanding gives $1/2 \\cdot\n(t^2 - ht)$.  This is negative over $[0,h]$ (and $0$ at these\nendpoints, so the integral above is just:\n\n$$~\n\\frac{1}{2}\\int_0^h (ht - t^2)dt = \\frac{1}{2} (\\frac{ht^2}{2} - \\frac{t^3}{3})\\big|_0^h = \\frac{h^3}{12}\n~$$\n\nThis gives the bound: $\\vert \\text{error}_i \\rvert \\leq K h^3/12$. The\n*total* error may be less, but is not more than the value found by\nadding up the error over each of the $n$ intervals. As our bound does not\ndepend on the $i$, we have this sum satisfies:\n\n$$~\n\\lvert \\text{error}\\rvert \\leq n \\cdot \\frac{Kh^3}{12} = \\frac{K(b-a)^3}{12}\\frac{1}{n^2}.\n~$$\n\nSo the error is like $1/n^2$, in contrast to the $1/n$ error of the\nRiemann sums. One way to see this, for the Riemann sum it takes twice\nas many terms to half an error estimate, but for the trapezoid rule\nonly $\\sqrt{2}$ as many, and for Simpson's rule, only $2^{1/4}$ as\nmany.\n\n\n\n## Questions\n\n\n###### Question\n\nIn the integral of $\\int \\log(x) dx$ we let $u=\\log(x)$ and $dv=dx$. What are $du$ and $v$?"
      ],
      "metadata": {}
    },
    {
      "outputs": [],
      "cell_type": "code",
      "source": [
        "choices = [\nL\"du=1/x dx \\quad v = x\",\nL\"du=x\\log(x) dx\\quad v = 1\",\nL\"du=1/x dx\\quad v = x^2/2\"]\nans = 1\nradioq(choices, ans)"
      ],
      "metadata": {},
      "execution_count": null
    },
    {
      "cell_type": "markdown",
      "source": [
        "###### Question\n\nIn the integral $\\int \\sec(x)^3 dx$ we let $u=\\sec(x)$ and $dv = \\sec(x)^2 dx$. What are $du$ and $v$?"
      ],
      "metadata": {}
    },
    {
      "outputs": [],
      "cell_type": "code",
      "source": [
        "choices = [\nL\"du=\\sec(x)\\tan(x)dx \\quad v=\\tan(x)\",\nL\"du=\\csc(x) dx \\quad v=\\sec(x)^3 / 3\",\nL\"du=\\tan(x)  dx \\quad v=\\sec(x)\\tan(x)\"\n]\nans = 1\nradioq(choices, ans)"
      ],
      "metadata": {},
      "execution_count": null
    },
    {
      "cell_type": "markdown",
      "source": [
        "###### Question\n\nIn the integral $\\int e^{-x} \\cos(x)dx$ we let $u=e^{-x}$ and $dv=\\cos(x) dx$.\nWhat are $du$ and $v$?"
      ],
      "metadata": {}
    },
    {
      "outputs": [],
      "cell_type": "code",
      "source": [
        "choices = [\nL\"du=-e^{-x} dx \\quad v=\\sin(x)\",\nL\"du=-e^{-x} dx \\quad v=-\\sin(x)\",\nL\"du=\\sin(x)dx \\quad v=-e^{-x}\"\n]\nans = 1\nradioq(choices, ans)"
      ],
      "metadata": {},
      "execution_count": null
    },
    {
      "cell_type": "markdown",
      "source": [
        "###### Question\n\nFind the value of $\\int_1^4 x \\log(x) dx$. You can integrate by parts."
      ],
      "metadata": {}
    },
    {
      "outputs": [],
      "cell_type": "code",
      "source": [
        "f(x) = x*log(x)\na,b = 1,4\nval,err = quadgk(f, a, b)\nnumericq(val)"
      ],
      "metadata": {},
      "execution_count": null
    },
    {
      "cell_type": "markdown",
      "source": [
        "###### Question\n\nFind the value of $\\int_0^{\\pi/2} x\\cos(2x) dx$. You can integrate by parts."
      ],
      "metadata": {}
    },
    {
      "outputs": [],
      "cell_type": "code",
      "source": [
        "f(x) = x*cos(2x)\na,b = 0, pi/2\nval,err = quadgk(f, a, b)\nnumericq(val)"
      ],
      "metadata": {},
      "execution_count": null
    },
    {
      "cell_type": "markdown",
      "source": [
        "###### Question\n\n\nFind the value of $\\int_1^e (\\log(x))^2 dx$. You can integrate by parts."
      ],
      "metadata": {}
    },
    {
      "outputs": [],
      "cell_type": "code",
      "source": [
        "f(x) = log(x)^2\na,b = 1,exp(1)\nval,err = quadgk(f, a, b)\nnumericq(val)"
      ],
      "metadata": {},
      "execution_count": null
    },
    {
      "cell_type": "markdown",
      "source": [
        "###### Question\n\nIntegration by parts can be used to provide \"reduction\" formulas, where an antiderivative is written in terms of another antiderivative with a lower power. Which is the proper reduction formula for $\\int (\\log(x))^n dx$?"
      ],
      "metadata": {}
    },
    {
      "outputs": [],
      "cell_type": "code",
      "source": [
        "choices = [\nL\"x(\\log(x))^n - n \\int (\\log(x))^{n-1} dx\",\nL\"\\int (\\log(x))^{n+1}/(n+1) dx\",\nL\"x(\\log(x))^n - \\int (\\log(x))^{n-1} dx\"\n]\nans = 1\nradioq(choices, ans)"
      ],
      "metadata": {},
      "execution_count": null
    },
    {
      "cell_type": "markdown",
      "source": [
        "###### Question\n\nThe [Wikipedia](http://en.wikipedia.org/wiki/Integration_by_parts)\npage has a rule of thumb with an acronym LIATE to indicate what is a\ngood candidate to be \"$u$\": **L**og function, **I**nverse functions,\n**A**lgebraic functions ($x^n$), **T**rigonmetric functions, and\n**E**xponential functions.\n\nConsider the integral $\\int x \\cos(x) dx$. Which letter should be tried first?"
      ],
      "metadata": {}
    },
    {
      "outputs": [],
      "cell_type": "code",
      "source": [
        "choices = [\"L\", \"I\", \"A\", \"T\", \"E\"]\nans = 3\nradioq(choices, ans, keep_order=true)"
      ],
      "metadata": {},
      "execution_count": null
    },
    {
      "cell_type": "markdown",
      "source": [
        "----\n\n\nConsider the integral $\\int x^2\\log(x) dx$. Which letter should be tried first?"
      ],
      "metadata": {}
    },
    {
      "outputs": [],
      "cell_type": "code",
      "source": [
        "choices = [\"L\", \"I\", \"A\", \"T\", \"E\"]\nans = 1\nradioq(choices, ans, keep_order=true)"
      ],
      "metadata": {},
      "execution_count": null
    },
    {
      "cell_type": "markdown",
      "source": [
        "----\n\n\nConsider the integral $\\int x^2 \\sin^{-1}(x) dx$. Which letter should be tried first?"
      ],
      "metadata": {}
    },
    {
      "outputs": [],
      "cell_type": "code",
      "source": [
        "choices = [\"L\", \"I\", \"A\", \"T\", \"E\"]\nans = 2\nradioq(choices, ans, keep_order=true)"
      ],
      "metadata": {},
      "execution_count": null
    },
    {
      "cell_type": "markdown",
      "source": [
        "----\n\n\nConsider the integral $\\int e^x \\sin(x) dx$. Which letter should be tried first?"
      ],
      "metadata": {}
    },
    {
      "outputs": [],
      "cell_type": "code",
      "source": [
        "choices = [\"L\", \"I\", \"A\", \"T\", \"E\"]\nans = 4\nradioq(choices, ans, keep_order=true)"
      ],
      "metadata": {},
      "execution_count": null
    },
    {
      "cell_type": "markdown",
      "source": [
        "###### Question\n\nFind an antiderivative for $\\cos^{-1}(x)$ using the integration by parts formula."
      ],
      "metadata": {}
    },
    {
      "outputs": [],
      "cell_type": "code",
      "source": [
        "choices = [\nL\"x\\cos^{-1}(x)-\\sqrt{1 - x^2}\",\nL\"x^2/2 \\cos^{-1}(x) - x\\sqrt{1-x^2}/4 - \\cos^{-1}(x)/4\",\nL\"-\\sin^{-1}(x)\"]\nans = 1\nradioq(choices, ans)"
      ],
      "metadata": {},
      "execution_count": null
    }
  ],
  "nbformat_minor": 2,
  "metadata": {
    "language_info": {
      "file_extension": ".jl",
      "mimetype": "application/julia",
      "name": "julia",
      "version": "1.5.0"
    },
    "kernelspec": {
      "name": "julia-1.5",
      "display_name": "Julia 1.5.0",
      "language": "julia"
    }
  },
  "nbformat": 4
}
