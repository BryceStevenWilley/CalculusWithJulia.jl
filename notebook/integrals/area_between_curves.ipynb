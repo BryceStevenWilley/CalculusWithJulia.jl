{
  "cells": [
    {
      "cell_type": "markdown",
      "source": [
        "# Area between two curves"
      ],
      "metadata": {}
    },
    {
      "outputs": [],
      "cell_type": "code",
      "source": [
        "using CalculusWithJulia\nusing CalculusWithJulia.WeaveSupport\nusing Plots\nnothing"
      ],
      "metadata": {},
      "execution_count": null
    },
    {
      "cell_type": "markdown",
      "source": [
        "The definite integral gives the \"signed\" area between the function $f(x)$ and the $x$-axis over $[a,b]$. Conceptually, this is the area between two curves, $f(x)$ and $g(x)=0$. More generally, this integral:\n\n$$~\n\\int_a^b (f(x) - g(x)) dx\n~$$\n\ncan be interpreted as the \"signed\" area between $f(x)$ and $g(x)$ over\n$[a,b]$. If on this interval $[a,b]$ it is true that $f(x) \\geq g(x)$,\nthen this would just be the area, as seen in this figure. The\nrectangle in the figure has area: $(f(a)-g(a)) \\cdot (b-a)$ which\ncould be a term in a left Riemann sum of the integral of $f(x) - g(x)$:"
      ],
      "metadata": {}
    },
    {
      "outputs": [],
      "cell_type": "code",
      "source": [
        "f1(x) = x^2\ng1(x) = sqrt(x)\na,b = 1/4, 3/4\n\nxs = range(a, stop=b, length=250)\nss = vcat(xs, reverse(xs))\nts = vcat(f1.(xs), g1.(reverse(xs)))\n\nplot(f1, 0, 1, legend=false)\nplot!(g1, 0, 1)\nplot!(ss, ts, fill=(0, :red))\nplot!(xs, f1.(xs), linewidth=5, color=:green)\nplot!(xs, g1.(xs), linewidth=5, color=:green)\n\n\nplot!(xs, f1.(xs), legend=false, linewidth=5, color=:blue)\nplot!(xs, g1.(xs), linewidth=5, color=:blue)\nu,v = .4, .5\nplot!([u,v,v,u,u], [f1(u), f1(u), g1(u), g1(u), f1(u)], color=:black, linewidth=3)"
      ],
      "metadata": {},
      "execution_count": null
    },
    {
      "cell_type": "markdown",
      "source": [
        "For the figure, we have $f(x) = \\sqrt{x}$, $g(x)= x^2$ and $[a,b] = [1/4, 3/4]$. The shaded area is then found by:\n\n$$~\n\\int_{1/4}^{3/4} (x^{1/2} - x^2) dx = (\\frac{x^{3/2}}{3/2} - \\frac{x^3}{3})\\big|_{1/4}^{3/4} = \\frac{\\sqrt{3}}{4} -\\frac{7}{32}.\n~$$\n\n\n\n## Examples\n\nFind the area bounded by the line $y=2x$ and the curve $y=2 - x^2$.\n\nWe can plot to see the area in question:"
      ],
      "metadata": {}
    },
    {
      "outputs": [],
      "cell_type": "code",
      "source": [
        "using CalculusWithJulia  # loads  `Roots`, `QuadGK`, `SymPy`\nusing Plots\nf(x) = 2 - x^2\ng(x) = 2x\nplot(f, -3,3)\nplot!(g, -3,3)"
      ],
      "metadata": {},
      "execution_count": null
    },
    {
      "cell_type": "markdown",
      "source": [
        "For this problem we need to identify $a$ and $b$. These are found numerically through:"
      ],
      "metadata": {}
    },
    {
      "outputs": [],
      "cell_type": "code",
      "source": [
        "a,b = find_zeros(x -> f(x) - g(x), -3, 3)"
      ],
      "metadata": {},
      "execution_count": null
    },
    {
      "cell_type": "markdown",
      "source": [
        "The answer then can be found numerically:"
      ],
      "metadata": {}
    },
    {
      "outputs": [],
      "cell_type": "code",
      "source": [
        "quadgk(x -> f(x) - g(x), a, b)[1]"
      ],
      "metadata": {},
      "execution_count": null
    },
    {
      "cell_type": "markdown",
      "source": [
        "##### Example\n\nFind the integral between $f(x) = \\sin(x)$ and $g(x)=\\cos(x)$ over $[0,2\\pi]$ where $f(x) \\geq g(x)$.\n\nA plot shows the areas:"
      ],
      "metadata": {}
    },
    {
      "outputs": [],
      "cell_type": "code",
      "source": [
        "f(x) = sin(x)\ng(x) = cos(x)\nplot([f,g], 0, 2pi)"
      ],
      "metadata": {},
      "execution_count": null
    },
    {
      "cell_type": "markdown",
      "source": [
        "There is a single interval when $f \\geq g$ and this can be found\nalgebraically using basic trigonometry, or numerically:"
      ],
      "metadata": {}
    },
    {
      "outputs": [],
      "cell_type": "code",
      "source": [
        "a,b = find_zeros(x -> f(x) - g(x), 0, 2pi)  # pi/4, 5pi/4\nquadgk(x -> f(x) - g(x), a, b)[1]"
      ],
      "metadata": {},
      "execution_count": null
    },
    {
      "cell_type": "markdown",
      "source": [
        "##### Example\n\nFind the area between $x^n$ and $x^{n+1}$ over $[0,1]$ for $n=1,2,\\dots$.\n\nWe have on this interval $x^n \\geq x^{n+1}$, so the integral can be found symbolically through:"
      ],
      "metadata": {}
    },
    {
      "outputs": [],
      "cell_type": "code",
      "source": [
        "@vars x n real=true positive=true\nex = integrate(x^n - x^(n+1), (x, 0, 1))\ntogether(ex)"
      ],
      "metadata": {},
      "execution_count": null
    },
    {
      "cell_type": "markdown",
      "source": [
        "Based on this answer, what is the value of this\n\n$$~\n\\frac{1}{2\\cdot 3} + \\frac{1}{3\\cdot 4} + \\frac{1}{4\\cdot 5} + \\cdots?\n~$$\n\nThis should should be no surprise, given how the areas computed carve up the area under the line $y=x^1$ over $[0,1]$:"
      ],
      "metadata": {}
    },
    {
      "outputs": [],
      "cell_type": "code",
      "source": [
        "summation(1/(n+1)/(n+2), (n, 1, oo))"
      ],
      "metadata": {},
      "execution_count": null
    },
    {
      "cell_type": "markdown",
      "source": [
        "##### Example\n\nVerify [Archimedes'](http://en.wikipedia.org/wiki/The_Quadrature_of_the_Parabola) finding that the area of the parabolic segment is $4/3$rds that of the triangle joining $a$, $(a+b)/2$ and $b$."
      ],
      "metadata": {}
    },
    {
      "outputs": [],
      "cell_type": "code",
      "source": [
        "f(x) = 2 - x^2\na,b = -1, 1/2\nc = (a+b)/2\nxs = range(-sqrt(2), stop=sqrt(2), length=50)\nrxs = range(a, stop=b, length=50)\nrys = map(f, rxs)\n\n\nplot(f, a, b, legend=false, linewidth=3)\nxs = [a,c,b,a]\nplot!(xs, f.(xs), linewidth=3)"
      ],
      "metadata": {},
      "execution_count": null
    },
    {
      "cell_type": "markdown",
      "source": [
        "For concreteness, let $f(x) = 2-x^2$ and $[a,b] = [-1, 1/2]$, as in\nthe figure. Then the area of the triangle can be computed through:"
      ],
      "metadata": {}
    },
    {
      "outputs": [],
      "cell_type": "code",
      "source": [
        "f(x) = 2 - x^2\na,b = -1, 1/2\nc = (a +b)/2\nfunction secant(f, x1, x2)\n   m = (f(x2) - f(x1)) / (x2 - x1)\n   x -> f(x1) + m * (x-x1)\nend\n\nsac, sab, scb = secant(f, a,c), secant(f, a,b), secant(f, c,b)\nf1(x) = min(sac(x), scb(x))\nf2(x) = sab(x)\n\nval1 = quadgk(x -> f1(x) - f2(x), a, b)[1]"
      ],
      "metadata": {},
      "execution_count": null
    },
    {
      "cell_type": "markdown",
      "source": [
        "As we needed three secant lines, we created a function to generate\nthem. Once that was done, we used the `max` function to facilitate\nintegrating over the top bounding curve, alternatively, we could break\nthe integral over $[a,c]$ and $[c,b]$.\n\nThe area of the parabolic segment is more straightforward."
      ],
      "metadata": {}
    },
    {
      "outputs": [],
      "cell_type": "code",
      "source": [
        "val2 = quadgk(x -> f(x) - f2(x), a, b)[1]"
      ],
      "metadata": {},
      "execution_count": null
    },
    {
      "cell_type": "markdown",
      "source": [
        "Finally, if Archimedes was right, this relationship should bring about $0$ (or something within round-off error):"
      ],
      "metadata": {}
    },
    {
      "outputs": [],
      "cell_type": "code",
      "source": [
        "val1 * 4/3 - val2"
      ],
      "metadata": {},
      "execution_count": null
    },
    {
      "cell_type": "markdown",
      "source": [
        "##### Example\n\nFind the area bounded by $y=x^4$ and $y=e^x$ when $x^4 \\geq e^x$ and\n$x > 0$.\n\nA graph  over $[0,10]$ shows clearly the largest zero, for afterwards\nthe exponential dominates the power."
      ],
      "metadata": {}
    },
    {
      "outputs": [],
      "cell_type": "code",
      "source": [
        "f(x) = x^4\ng(x) = exp(x)\nplot([f, g], 0, 10)"
      ],
      "metadata": {},
      "execution_count": null
    },
    {
      "cell_type": "markdown",
      "source": [
        "There must be another zero, though it is hard to see from the graph over $[0,10]$,\nas $0^4=0$ and $e^0=1$, so the polynomial must cross below the\nexponential to the left of $5$. (Otherwise, plotting over $[0,2]$ will\nclearly reveal the other zero.) We now find these intersection points\nnumerically and then integrate:"
      ],
      "metadata": {}
    },
    {
      "outputs": [],
      "cell_type": "code",
      "source": [
        "a,b = find_zeros(x -> f(x) - g(x), 0, 10)\nquadgk(x -> f(x) - g(x), a, b)[1]"
      ],
      "metadata": {},
      "execution_count": null
    },
    {
      "cell_type": "markdown",
      "source": [
        "##### Examples\n\nThe area between $y=\\sin(x)$ and $y=m\\cdot x$ between $0$ and the\nfirst positive intersection depends on $m$ (where $0 \\leq m \\leq\n1$. The extremes are when $m=0$, the area is $2$ and when $m=1$ (the\nline is tangent at $x=0$), the area is $0$. What is it for other\nvalues of $m$? The picture for $m=1/2$ is:"
      ],
      "metadata": {}
    },
    {
      "outputs": [],
      "cell_type": "code",
      "source": [
        "m = 1/2\nplot(sin, 0, pi)\nplot!(x -> m*x, 0, pi)"
      ],
      "metadata": {},
      "execution_count": null
    },
    {
      "cell_type": "markdown",
      "source": [
        "For a given $m$, the area is found after computing $b$, the\nintersection point. We express this as a function of $m$ for later reuse:"
      ],
      "metadata": {}
    },
    {
      "outputs": [],
      "cell_type": "code",
      "source": [
        "B(m) = maximum(find_zeros(x -> sin(x) - m*x, 0, pi))\na = 0\nb = B(m)\nquadgk(x -> sin(x) - m*x, a, b)[1]"
      ],
      "metadata": {},
      "execution_count": null
    },
    {
      "cell_type": "markdown",
      "source": [
        "In general, the area then as a function of `m` is found by substitution `B(m)` for `b`:"
      ],
      "metadata": {}
    },
    {
      "outputs": [],
      "cell_type": "code",
      "source": [
        "area(m) = quadgk(x -> sin(x) - m*x, 0, B(m))[1]"
      ],
      "metadata": {},
      "execution_count": null
    },
    {
      "cell_type": "markdown",
      "source": [
        "A plot shows the relationship:"
      ],
      "metadata": {}
    },
    {
      "outputs": [],
      "cell_type": "code",
      "source": [
        "plot(area, 0, 1)"
      ],
      "metadata": {},
      "execution_count": null
    },
    {
      "cell_type": "markdown",
      "source": [
        "While here, let's also answer the question of which $m$ gives an area\nof $1$, or one-half the total? This can be done as follows:"
      ],
      "metadata": {}
    },
    {
      "outputs": [],
      "cell_type": "code",
      "source": [
        "find_zero(m -> area(m) - 1, (0, 1))"
      ],
      "metadata": {},
      "execution_count": null
    },
    {
      "cell_type": "markdown",
      "source": [
        "(Which is a nice combination of using `find_zeros`, `quadgk` and `find_zero` to answer a problem.)\n\n##### Example\n\nFind the area bounded by the $x$ axis, the line $x-1$ and the function $\\log(x+1)$.\n\nA plot shows us the basic area:"
      ],
      "metadata": {}
    },
    {
      "outputs": [],
      "cell_type": "code",
      "source": [
        "f(x) = log(x+1)\ng(x) = x - 1\nplot([f,g,zero],0, 3)"
      ],
      "metadata": {},
      "execution_count": null
    },
    {
      "cell_type": "markdown",
      "source": [
        "The value for \"$b$\" is found from the intersection point of  $\\log(x+1)$ and $x-1$, which is near $2$:"
      ],
      "metadata": {}
    },
    {
      "outputs": [],
      "cell_type": "code",
      "source": [
        "a = 0\nb = find_zero(x -> f(x) - g(x), 2)"
      ],
      "metadata": {},
      "execution_count": null
    },
    {
      "cell_type": "markdown",
      "source": [
        "We see that the lower part of the area has a condition: if $x < 1$ then use $0$, otherwise use $g(x)$. We can handle this many different ways:\n\n* break the integral into two pieces and add:"
      ],
      "metadata": {}
    },
    {
      "outputs": [],
      "cell_type": "code",
      "source": [
        "quadgk(x -> f(x) - zero(x), a, 1)[1] + quadgk(x -> f(x) - g(x), 1, b)[1]"
      ],
      "metadata": {},
      "execution_count": null
    },
    {
      "cell_type": "markdown",
      "source": [
        "* make a new function for the bottom bound:"
      ],
      "metadata": {}
    },
    {
      "outputs": [],
      "cell_type": "code",
      "source": [
        "h(x) = x < 1 ? 0.0 : g(x)\nquadgk(x -> f(x) - h(x), a, b)[1]"
      ],
      "metadata": {},
      "execution_count": null
    },
    {
      "cell_type": "markdown",
      "source": [
        "* Turn the picture on its side and integrate in the $y$ variable. To\n  do this, we need to solve for inverse functions:"
      ],
      "metadata": {}
    },
    {
      "outputs": [],
      "cell_type": "code",
      "source": [
        "a1=f(a)\nb1=f(b)\nf1(y)=y+1                # y=x-1, so x=y+1\ng1(y)=exp(y)-1           # y=log(x+1) so e^y = x + 1, x = e^y - 1\nquadgk(y -> f1(y) - g1(y), a1, b1)[1]"
      ],
      "metadata": {},
      "execution_count": null
    },
    {
      "outputs": [],
      "cell_type": "code",
      "source": [
        "note(\"\"\"\n\nWhen doing problems by hand this latter style can often reduce the complications, but when approaching the task numerically, the first two styles are generally easier, though computationally more expensive.\n\n\"\"\")"
      ],
      "metadata": {},
      "execution_count": null
    },
    {
      "cell_type": "markdown",
      "source": [
        "#### Integrating in different directions\n\nThe last example suggested integrating in the $y$ variable. This could have more explanation.\n\nIt has been noted that different symmetries can aid in computing\nintegrals through their interpretation as areas. For example, if\n$f(x)$ is odd, then $\\int_{-b}^b f(x)dx=0$ and if $f(x)$ is even,\n$\\int_{-b}^b f(x) dx = 2\\int_0^b f(x) dx$.\n\nAnother symmetry of the $x-y$ plane is the reflection through the line\n$y=x$. This has the effect of taking the graph of $f(x)$ to the graph\nof $f^{-1}(x)$ and vice versa. Here is an example with $f(x) = x^3$\nover $[-1,1]$."
      ],
      "metadata": {}
    },
    {
      "outputs": [],
      "cell_type": "code",
      "source": [
        "f(x) = x^3\nxs = range(-1, stop=1, length=50)\nys = f.(xs)\nplot(ys, xs)"
      ],
      "metadata": {},
      "execution_count": null
    },
    {
      "cell_type": "markdown",
      "source": [
        "By switching the order of the `xs` and `ys` we \"flip\" the graph\nthrough the line $x=y$.\n\nWe can use this symmetry to our advantage. Suppose instead of being given an equation $y=f(x)$, we are given it in \"inverse\" style: $x = f(y)$, for example suppose we have $x = y^3$. We can plot this as above via:"
      ],
      "metadata": {}
    },
    {
      "outputs": [],
      "cell_type": "code",
      "source": [
        "ys = range(-1, stop=1, length=50)\nxs = [y^3 for y in ys]\nplot(xs, ys)"
      ],
      "metadata": {},
      "execution_count": null
    },
    {
      "cell_type": "markdown",
      "source": [
        "Suppose we wanted the area in the first quadrant between this graph,\nthe $y$ axis and the line $y=1$. What to do? With the problem\n\"flipped\" through the $y=x$ line, this would just be $\\int_0^1 x^3dx$.\nRather than mentally flipping the picture to integrate, instead we can just integrate in\nthe $y$ variable. That is, the area is  $\\int_0^1 y^3 dy$. The\nmental picture for Riemann sums would be have the approximating rectangles laying flat and as\na function of $y$, are given a length of $y^3$ and height of \"$dy$\".\n\nFor a less trivial problem, consider the area between $x = y^2$ and $x\n= 2-y$ in the first quadrant."
      ],
      "metadata": {}
    },
    {
      "outputs": [],
      "cell_type": "code",
      "source": [
        "ys = range(0, stop=2, length=50)\nxs = [y^2 for y in ys]\nplot(xs, ys)\nxs = [2-y for y in ys]\nplot!(xs, ys)\nplot!(zero, 0, 2)"
      ],
      "metadata": {},
      "execution_count": null
    },
    {
      "cell_type": "markdown",
      "source": [
        "We see the bounded area could be described in the \"$x$\" variable in\nterms of two integrals, but in the $y$ variable in terms of the\ndifference of two functions with the limits of integration running\nfrom $y=0$ to $y=1$. So, this area may be found as follows:"
      ],
      "metadata": {}
    },
    {
      "outputs": [],
      "cell_type": "code",
      "source": [
        "f(y) = 2-y\ng(y) = y^2\na, b = 0, 1\nquadgk(y -> f(y) - g(y), a, b)[1]"
      ],
      "metadata": {},
      "execution_count": null
    },
    {
      "cell_type": "markdown",
      "source": [
        "## Questions\n\n###### Question\n\nFind the area enclosed by the curves $y=2-x^2$ and $y=x^2 - 3$."
      ],
      "metadata": {}
    },
    {
      "outputs": [],
      "cell_type": "code",
      "source": [
        "using Roots\nf(x) = 2 - x^2\ng(x) = x^2 - 3\na,b = find_zeros(x -> f(x) - g(x), -10,10)\nval, _ = quadgk(x -> f(x) - g(x), a, b)\nnumericq(val)"
      ],
      "metadata": {},
      "execution_count": null
    },
    {
      "cell_type": "markdown",
      "source": [
        "###### Question\n\nFind the area between $f(x) = \\cos(x)$, $g(x) = x$ and the $y$ axis."
      ],
      "metadata": {}
    },
    {
      "outputs": [],
      "cell_type": "code",
      "source": [
        "f(x) = cos(x)\ng(x) = x\na = 0\nb = find_zero(x -> f(x) - g(x), 1)\nval, _ = quadgk(x -> f(x) - g(x), a, b)\nnumericq(val)"
      ],
      "metadata": {},
      "execution_count": null
    },
    {
      "cell_type": "markdown",
      "source": [
        "###### Question\n\nFind the area between the line $y=1/2(x+1)$ and half circle $y=\\sqrt{1 - x^2}$."
      ],
      "metadata": {}
    },
    {
      "outputs": [],
      "cell_type": "code",
      "source": [
        "f(x) = sqrt(1 - x^2)\ng(x) = 1/2 * (x + 1)\na,b = find_zeros(x -> f(x) - g(x), -1, 1)\nval, _ = quadgk(x -> f(x) - g(x), a, b)\nnumericq(val)"
      ],
      "metadata": {},
      "execution_count": null
    },
    {
      "cell_type": "markdown",
      "source": [
        "###### Question\n\nFind the area in the first quadrant between the lines $y=x$, $y=1$, and the curve $y=x^2 + 4$."
      ],
      "metadata": {}
    },
    {
      "outputs": [],
      "cell_type": "code",
      "source": [
        "f(x) = x\ng(x) = 1.0\nh(x) = min(f(x), g(x))\nj(x) = x^2 / 4\na,b = find_zeros(x -> h(x) - j(x), 0, 3)\nval, _ = quadgk(x -> h(x) - j(x), a, b)\nnumericq(val)"
      ],
      "metadata": {},
      "execution_count": null
    },
    {
      "cell_type": "markdown",
      "source": [
        "###### Question\n\nFind the area between $y=x^2$ and $y=-x^4$ for $\\lvert x \\rvert \\leq 1$."
      ],
      "metadata": {}
    },
    {
      "outputs": [],
      "cell_type": "code",
      "source": [
        "f(x) = x^2\ng(x) = -x^4\na,b = -1, 1\nval, _ = quadgk(x -> f(x) - g(x), a, b)\nnumericq(val)"
      ],
      "metadata": {},
      "execution_count": null
    },
    {
      "cell_type": "markdown",
      "source": [
        "###### Question\n\nLet `f(x) = 1/(sqrt(pi)*gamma(1/2)) * (1 + t^2)^(-1)` and `g(x) = 1/sqrt(2*pi) * exp(-x^2/2)`. These graphs intersect in two points. Find the area bounded by them."
      ],
      "metadata": {}
    },
    {
      "outputs": [],
      "cell_type": "code",
      "source": [
        "import SpecialFunctions: gamma\nf(x) = 1/(sqrt(pi)*gamma(1/2)) * (1 + x^2)^(-1)\ng(x) = 1/sqrt(2*pi) * exp(-x^2/2)\na,b =  find_zeros(x -> f(x) - g(x), -3, 3)\nval, _ = quadgk(x -> f(x) - g(x), a, b)\nnumericq(val)"
      ],
      "metadata": {},
      "execution_count": null
    },
    {
      "cell_type": "markdown",
      "source": [
        "(Where `gamma(1/2)` is a call to the [gamma](http://en.wikipedia.org/wiki/Gamma_function) function.)\n\n###### Question\n\nFind the area in the first quadrant bounded by the graph of $x = (y-1)^2$, $x=3-y$ and $x=2\\sqrt{y}$. (Hint: integrate in the $y$ variable.)"
      ],
      "metadata": {}
    },
    {
      "outputs": [],
      "cell_type": "code",
      "source": [
        "f(y) = (y-1)^2\ng(y) = 3 - y\nh(y) = 2sqrt(y)\na = 0\nb = find_zero(y -> f(y) - g(y), 2)\nf1(y) = max(f(y), zero(y))\ng1(y) = min(g(y), h(y))\nval, _ = quadgk(y -> g1(y) - f1(y), a, b)\nnumericq(val)"
      ],
      "metadata": {},
      "execution_count": null
    },
    {
      "cell_type": "markdown",
      "source": [
        "###### Question\n\nFind the total area bounded by the lines $x=0$, $x=2$ and the curves $y=x^2$ and $y=x$. This would be $\\int_a^b \\lvert f(x) - g(x) \\rvert dx$."
      ],
      "metadata": {}
    },
    {
      "outputs": [],
      "cell_type": "code",
      "source": [
        "f(x) = x^2\ng(x) = x\na, b = 0, 2\nval, _ = quadgk(x -> abs(f(x) - g(x)), a, b)\nnumericq(val)"
      ],
      "metadata": {},
      "execution_count": null
    },
    {
      "cell_type": "markdown",
      "source": [
        "###### Question\n\n\nLook at the sculpture\n[Le Tamanoir](https://www.google.com/search?q=Le+Tamanoir+by+Calder.&num=50&tbm=isch&tbo=u&source=univ&sa=X&ved=0ahUKEwiy8eO2tqzVAhVMPz4KHXmgBpgQsAQILQ&biw=1556&bih=878)\nby Calder. A large scale work. How much does it weigh? Approximately?\n\n\nLet's try to answer that with an educated guess. The right most figure\nlooks to be about 1/5th the total amount. So if we estimate that piece\nand multiply by 5 we get a good guess. That part looks like an area of\nmetal bounded by two quadratic polynomials. If we compute that area in\nsquare inches, then multiply by an assumed thickness of one inch, we\nhave the cubic volume. The density of galvanized steel is 7850\nkg/$m^3$ which we convert into pounds/in$^3$ via:"
      ],
      "metadata": {}
    },
    {
      "outputs": [],
      "cell_type": "code",
      "source": [
        "7850 * 2.2 * (1/39.3)^3"
      ],
      "metadata": {},
      "execution_count": null
    },
    {
      "cell_type": "markdown",
      "source": [
        "The two parabolas, after rotating, might look like the following (with $x$ in inches):\n\n$$~\nf(x) = x^2/70, \\quad g(x) = 35 + x^2/140\n~$$\n\n\n\nPut this altogether to give an estimated weight in pounds."
      ],
      "metadata": {}
    },
    {
      "outputs": [],
      "cell_type": "code",
      "source": [
        "f(x) = x^2/70\ng(x) = 35 + x^2/140\na,b = find_zeros(x -> f(x) - g(x), -100, 100)\nar, _ = quadgk(x -> abs(f(x) - g(x)), a, b)\nval = 5 * ar * 7850 * 2.2 * (1/39.3)^3\nnumericq(val)"
      ],
      "metadata": {},
      "execution_count": null
    },
    {
      "cell_type": "markdown",
      "source": [
        "Is the guess that the entire sculpture is more than two tons?"
      ],
      "metadata": {}
    },
    {
      "outputs": [],
      "cell_type": "code",
      "source": [
        "choices=[\"Less than two tons\", \"More than two tons\"]\nans = 2\nradioq(choices, ans, keep_order=true)"
      ],
      "metadata": {},
      "execution_count": null
    },
    {
      "cell_type": "markdown",
      "source": [
        "###### Question\n\nFormulas from the business world say that revenue is the integral of *marginal revenue* or the additional money from  selling 1 more unit. (This is basically the derivative of profit). Cost is the integral of *marginal cost*, or the cost to produce 1 more. Suppose we have\n\n$$~\n\\text{mr}(x) = 2 - \\frac{e^{-x/10}}{1 + e^{-x/10}}, \\quad\n\\text{mc}(x) = 1 - \\frac{1}{2} \\cdot \\frac{e^{-x/5}}{1 + e^{-x/5}}.\n~$$\n\nFind the profit to produce 100 units: $P = \\int_0^{100} (\\text{mr}(x) - \\text{mc}(x)) dx$."
      ],
      "metadata": {}
    },
    {
      "outputs": [],
      "cell_type": "code",
      "source": [
        "mr(x) = 2 + exp((-x/10)) / (1 + exp(-x/10))\nmc(x) = 1 + (1/2) * exp(-x/5) / (1 + exp(-x/5))\na, b = 0, 100\nval, _ = quadgk(x -> mr(x) - mc(x), 0, 100)\nnumericq(val)"
      ],
      "metadata": {},
      "execution_count": null
    }
  ],
  "nbformat_minor": 2,
  "metadata": {
    "language_info": {
      "file_extension": ".jl",
      "mimetype": "application/julia",
      "name": "julia",
      "version": "1.5.0"
    },
    "kernelspec": {
      "name": "julia-1.5",
      "display_name": "Julia 1.5.0",
      "language": "julia"
    }
  },
  "nbformat": 4
}
