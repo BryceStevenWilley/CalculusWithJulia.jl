{
  "cells": [
    {
      "cell_type": "markdown",
      "source": [
        "# Fundamental Theorem or Calculus"
      ],
      "metadata": {}
    },
    {
      "outputs": [],
      "cell_type": "code",
      "source": [
        "using CalculusWithJulia\nusing CalculusWithJulia.WeaveSupport\nusing Plots\nnothing"
      ],
      "metadata": {},
      "execution_count": null
    },
    {
      "cell_type": "markdown",
      "source": [
        "We refer to the example the section on\n[transformations](../precalc/transformations.html#two_operators_D_S)\nwhere two operators on functions were defined:\n\n$$~\nD(f)(k) = f(k) - f(k-1), \\quad S(f)(k) = f(1) + f(2) + \\cdots + f(k).\n~$$\n\nIt was remarked that these relationships hold: $D(S(f))(k) = f(k)$ and\n$S(D(f))(k) = f(k) - f(0)$. These being a consequence of the inverse\nrelationship between addition and subtraction.  These two\nrelationships are examples of a more general pair of relationships\nknown as the\n[Fundamental Theorem of Calculus](http://en.wikipedia.org/wiki/Fundamental_theorem_of_calculus) or FTC.\n\nThe FTC details the interconnectivity between the operations of integration and\ndifferentiation.\n\nFor example:\n\n> What is the definite integral of the derivative? That is, what is $A = \\int_a^b f'(x) dx$? (Assume $f'$ is continuous.)\n\nTo investigate, we begin with the right Riemann sum using $h = (b-a)/n$:\n\n$$~\nA \\approx S_n = \\sum_{i=1}^n f'(a + ih) \\cdot h.\n~$$\n\nBut the Mean Value Theorem says that for small $h$ we have $f'(x) \\approx (f(x) - f(x-h))/h$. Using this approximation with $x=a+ih$ gives:\n\n$$~\nA \\approx\n\\sum_{i=1}^n (f(a + ih) - f(a + (i-1)h)).\n~$$\n\nIf we let $g(i) = f(a + ih)$, then the summand above is just $g(i) - g(i-1) = D(g)(i)$ and the above then is just the sum of the $D(g)(i)$s, or:\n\n$$~\nA \\approx S(D(g))(n) = g(n) - g(0).\n~$$\n\nBut $g(n) - g(0) = f(a + nh) - f(a + 0h) = f(b) - f(a)$. That is we\nexpect that if $\\approx$ in the limit becomes $=$ then:\n\n$$~\n\\int_a^b f'(x) dx = f(b) - f(a).\n~$$\n\nThis is indeed the case.\n\nThe other question would be\n\n> What is the derivative of the integral? That is, can we find the derivative of $\\int_0^x f(u) du$?\n\n\nLet's look first at the integral using the right-Riemann sum, again using $h=(b-a)/n$:\n\n$$~\n\\int_a^b f(u) du \\approx f(a + 1h)h + f(a + 2h)h + \\cdots f(a +nh)h = S(g)(n),\n~$$\n\nwhere we define $g(i) = f(a + ih)h$. In the\nabove, $n$ relates to $b$, but we could have stopped accumulating at\nany value. The analog for $S(g)(k)$ would be $\\int_a^x f(u) du$ where\n$x = a + kh$. That is we can make a function out of integration by\nconsidering the mapping $(x, \\int_a^x f(u) du)$. This might be written\nas $F(x) = \\int_a^x f(u)du$.  With this definition, can we take a\nderivative in $x$?\n\nAgain, we fix a large $n$ and let $h=(b-a)/n$. And suppose $x = a +\nMh$ for some $M$. Then writing out the approximations to both the\ndefinite integral and derivative we have\n\n$$~\n\\begin{align*}\nF'(x) = & \\frac{d}{dx} \\int_a^x f(u) du \\\\\n& \\approx \\frac{F(x) - F(x-h)}{h} = \\frac{\\int_a^x f(u) du - \\int_a^{x-h} f(u) du}{h}\\\\\n& \\approx \\frac{(f(a + 1h)h + f(a + 2h)h + \\cdots + f(a + (M-1)h)h + f(a + Mh)h)}{h} -\n\\frac{(f(a + 1h)h + f(a + 2h)h + \\cdots + f(a + (M-1)h)h )}{h}.\n\\end{align*}\n~$$\n\nIf $g(i) = f(a + ih)$, then the above becomes\n\n$$~\n\\begin{align*}\nF'(x) & \\approx D(S(g))(M) \\\\\n&= f(a + Mh)\\\\\n&= f(x).\n\\end{align*}\n~$$\n\n\n\nThat is $F'(x) \\approx f(x)$.\n\nIn the limit, then, we would expect that\n\n$$~\n\\frac{d}{dx} \\int_a^x f(u) du = f(x).\n~$$\n\n\nWith these heuristics, we now have:\n\n> **The Fundamental Theorem of Calculus**\n>\n> Part 1: Let $f$ be a continuous\n> function on a closed interval $[a,b]$ and define $F(x) = \\int_a^x\n> f(u) du$ for $a \\leq x \\leq b$. Then $F$ is continuous on $[a,b]$,\n> differentiable on $(a,b)$ and moreover, $F'(x) =f(x)$.\n>\n> Part 2: Now\n> suppose $f$ is any integrable function on a closed interval $[a,b]$\n> and $F(x)$ is *any* differentiable function on $[a,b]$ with $F'(x) =\n> f(x)$. Then $\\int_a^b f(x)dx=F(b)-F(a)$."
      ],
      "metadata": {}
    },
    {
      "outputs": [],
      "cell_type": "code",
      "source": [
        "note(L\"\"\"\n\nIn Part 1, the integral $F(x) = \\int_a^x f(u) du$ is defined for any\nRiemann integrable function, $f$. If the function is not continuous,\nthen it is true the $F$ will be continuous, but it need not be true\nthat it is differentiable at all points in $(a,b)$. Forming $F$ from\n$f$ is a form of *smoothing*. It makes a continuous function out of an\nintegrable one, a differentiable function from a continuous one, and a\n$k+1$-times differentiable function from a $k$-times differentiable\none.\n\n\"\"\")"
      ],
      "metadata": {},
      "execution_count": null
    },
    {
      "cell_type": "markdown",
      "source": [
        "## Using the Fundamental Theorem of Calculus to evaluate definite integrals\n\nThe major use of the FTC is the computation of $\\int_a^b f(x)\ndx$. Rather then resort to Riemann sums or geometric arguments, there\nis an alternative - find a function $F$ with $F'(x) = f(x)$ and compute $F(b) - F(a)$.\n\nSome examples:\n\n* Consider the problem of Archimedes, $\\int_0^1 x^2 dx$. Clearly, we\n  have with $f(x) = x^2$ that $F(x)=x^3/3$ will satisfy the\n  assumptions of the FTC, so that:\n\n$$~\n\\int_0^1 x^2 dx = F(1) - F(0) = \\frac{1^3}{3} - \\frac{0^3}{3} = \\frac{1}{3}.\n~$$\n\n\n* More generally, we know if $n\\neq-1$ that if $f(x) = x^{n}$, that\n$F(x) = x^{n+1}/(n+1)$ will satisfy $F'(x)=f(x)$, so that\n\n$$~\n\\int_a^b x^n dx = \\frac{b^{n+1} - a^{n+1}}{n+1}, \\quad n\\neq -1.\n~$$\n\n(Well almost! We must be careful to know that $a \\cdot b > 0$, as\notherwise we will encounter a place where $f(x)$ may not be\nintegrable.)\n\nWe note that the above includes the case of a constant, or $n=0$: $\\int 1 dx = x^1/1=x$.\n\n\nWhat about the case $n=-1$, or $f(x) = 1/x$, that is not covered by\nthe above? For this special case, it is known that $F(x) =\n\\log(x)$ (natural log) will have $F'(x) = 1/x$. This gives for $0 < a\n< b$:\n\n$$~\n\\int_a^b \\frac{1}{x} dx = \\log(b) - \\log(a).\n~$$\n\n\n* Let $f(x) = \\cos(x)$. How much area is between $-\\pi/2$ and $\\pi/2$?\n  We have that $F(x) = \\sin(x)$ will have $F'(x) = f(x)$, so:\n\n$$~\n\\int_{-\\pi/2}^{\\pi/2} \\cos(x) dx = F(\\pi/2) - F(-\\pi/2) = 1 - (-1) = 2.\n~$$\n\n### An alternate notation for $F(b) - F(a)$\n\nThe expression $F(b) - F(a)$ is often written in this more compact form:\n\n$$~\n\\int_a^b f(x) dx = F(b) - F(a) = F(x)\\big|_{x=a}^b, \\text{ or just expr}\\big|_{x=a}^b.\n~$$\n\n\n\nThe vertical bar is used for the *evaluation* step, in this case the\n$a$ and $b$ mirror that of the definite integral. This notation lends\nitself to working inline, as we illustrate with this next problem\nwhere we \"know\" a function \"$F$\", so just express it \"inline\":\n\n$$~\n\\int_0^{\\pi/4} \\sec^2(x) dx = \\tan(x) \\big|_{x=0}^{\\pi/4} = 1 - 0 = 1.\n~$$\n\nA consequence of this notation is:\n\n$$~\nF(x) \\big|_{x=a}^b = -F(x) \\big|_{x=b}^a.\n~$$\n\nThis says nothing more than $F(b)-F(a) = -F(a) - (-F(b))$, though more compactly.\n\n## The indefinite integral\n\nA function $F(x)$ with $F'(x) = f(x)$ is known as an\n*antiderivative* of $f$. For a given $f$, there are infinitely many\nantiderivatives: if $F(x)$ is one, then so is $G(x) = F(x) + C$. But - due to the mean value theorem - all antiderivatives for $f$ differ at\nmost by a constant.\n\nThe **indefinite integral** of $f(x)$ is denoted by:\n\n$$~\n\\int f(x) dx.\n~$$\n\n(There are no limits of integration.) There are two possible\ndefinitions: this refers to the set of *all* antiderivatives, or is\njust one of the set of all antiderivatives for $f$. The former gives\nrise to expressions such as\n\n$$~\n\\int x^2 dx = \\frac{x^3}{3} + C\n~$$\n\nwhere $C$ is the *constant of integration* and isn't really a fixed\nconstant, but any possible constant. These notes will follow the lead\nof `SymPy` and not give a $C$ in the expression, but instead rely on\nthe reader to understand that there could be many other possible\nexpressions given, though all differ by no more than a constant. This means, that\n$\\int f(x) dx$ refers to *an* antiderivative, not *the*\nantiderivative.\n\n`SymPy` provides the `integrate` function to perform integration. There are two usages:\n\n- `integrate(ex, var)` to find an indefinite integral. For a\n  univariate function `f` this is shortened to `integrate(f)`,\n\n- `integrate(ex, (var, a, b))` to find the definite integral. This integrates the\n  expression in the variable `var` from `a` to `b`. For a univariate\n  function `f` this can also be shortened to `integrate(f, a, b)`,\n  which matches our usual template of `action(function, args...)`.\n\nTo illustrate, we have, this call finds an antiderivative:"
      ],
      "metadata": {}
    },
    {
      "outputs": [],
      "cell_type": "code",
      "source": [
        "using CalculusWithJulia  # loads `SymPy`, `QuadGK`\nusing Plots\nintegrate(sin)"
      ],
      "metadata": {},
      "execution_count": null
    },
    {
      "cell_type": "markdown",
      "source": [
        "Whereas this call computes the \"area\" under $f(x)$ between `a` and `b`:"
      ],
      "metadata": {}
    },
    {
      "outputs": [],
      "cell_type": "code",
      "source": [
        "integrate(sin, 0, pi)"
      ],
      "metadata": {},
      "execution_count": null
    },
    {
      "cell_type": "markdown",
      "source": [
        "In the last two example, function objects were integrated. We can also integrate expressions, though in this usage we must specify the variable:"
      ],
      "metadata": {}
    },
    {
      "outputs": [],
      "cell_type": "code",
      "source": [
        "@vars x n real=true\nintegrate(x^n, x)          # indefinite integral"
      ],
      "metadata": {},
      "execution_count": null
    },
    {
      "cell_type": "markdown",
      "source": [
        "For a definite integral we have"
      ],
      "metadata": {}
    },
    {
      "outputs": [],
      "cell_type": "code",
      "source": [
        "integrate(acos(1-x), (x, 0, 2))"
      ],
      "metadata": {},
      "execution_count": null
    },
    {
      "cell_type": "markdown",
      "source": [
        "## Rules of integration\n\nThe `integrate` function includes an implementation of the\n[Risch](http://en.wikipedia.org/wiki/Risch_algorithm) algorithm. This\nalgorithm is implemented for elementary functions and operations\ninvolving these functions, such as addition, multiplication, division\nand composition. There are some \"rules\" of integration that allow this to work.\n\n* The integral of a constant times a function:\n\n$$~\n\\int c \\cdot f(x) dx = c \\cdot \\int f(x) dx.\n~$$\n\nThis follows as if $F(x)$ is an antiderivative of $f(x)$, then $[cF(x)]' = c f(x)$ by rules of derivatives.\n\n* The integral of a sum of functions:\n\n$$~\n\\int (f(x) + g(x)) dx = \\int f(x) dx + \\int g(x) dx.\n~$$\n\nThis follows immediately as if $F(x)$ and $G(x)$ are antiderivatives of $f(x)$ and $g(x)$, then $[F(x) + G(x)]' = f(x) + g(x)$, so the right hand side will have a derivative of $f(x) + g(x)$.\n\nIn fact, this more general form where $c$ and $d$ are constants covers both cases:\n\n$$~\n\\int (cf(x) + dg(x)) dx = c \\int f(x) dx + d \\int g(x) dx.\n~$$\n\n\nThis statement is nothing more than the derivative formula\n$[cf(x) + dg(x)]' = cf'(x) + dg'(x)$. The product rule gives rise to a\ntechnique called *integration by parts* and the chain rule gives rise\nto a technique of *integration by substitution*, but we defer those\ndiscussions to other sections.\n\n##### Examples\n\n- The antiderivative of the polynomial $p(x) = a_n x^n + \\cdots a_1 x + a_0$ follows from the linearity of the integral and the general power rule:\n\n$$~\n\\begin{align}\n\\int (a_n x^n + \\cdots a_1 x + a_0) dx\n&= \\int a_nx^n dx + \\cdots \\int a_1 x dx + \\int a_0 dx                   \\\\\n&= a_n \\int x^n dx + \\cdots +  a_1 \\int x dx + a_0 \\int dx                   \\\\\n&= a_n\\frac{x^{n1}}{n+1} + \\cdots +  a_1 \\frac{x^2}{2} +  a_0 \\frac{x}{1}.\n\\end{align}\n~$$\n\n\n- More generally, a [Laurent](https://en.wikipedia.org/wiki/Laurent_polynomial) polynomial allows for terms with negative powers. These too can be handled by the above. For example\n\n$$~\n\\begin{align}\n\\int (\\frac{2}{x} + 2 + 2x) dx\n&= \\int \\frac{2}{x} dx + \\int 2 dx + \\int 2x dx \\\\\n&= 2\\int \\frac{1}{x} dx + 2 \\int dx + 2 \\int xdx\\\\\n&= 2\\log(x) + 2x + 2\\frac{x^2}{2}.\n\\end{align}\n~$$\n\n- Consider this integral:\n\n$$~\n\\int_0^\\pi 100 \\sin(x) dx = F(\\pi) - F(0),\n~$$\n\nwhere $F(x)$ is an antiderivative of $100\\sin(x)$. But:\n\n$$~\n\\int 100 \\sin(x) dx = 100 \\int \\sin(x) dx = 100 (-\\cos(x)).\n~$$\n\nSo the answer to the question is\n\n\n$$~\n\\int_0^\\pi 100 \\sin(x) dx = (100 (-\\cos(\\pi)))  - (100(-\\cos(0))) = (100(-(-1))) - (100(-1)) = 200.\n~$$\n\n\nThis seems like a lot of work, and indeed it is more than is needed. The following would be more typical once the rules are learned:\n\n$$~\n\\int_0^\\pi 100 \\sin(x) dx = -100(-\\cos(x)) \\big|_0^{\\pi} = 100 \\cos(x) \\big|_{\\pi}^0 = 100(1) - 100(-1) = 200.\n~$$\n\n## The derivative of the integral\n\nThe relationship that $[\\int_a^x f(u) du]' = f(x)$ is a bit harder to appreciate, as it doesn't help answer many ready made questions. Here we give some examples of its use.\n\nFirst, the expression defining an antiderivative, or indefinite integral, is given in term of a definite integral:\n\n$$~\nF(x) = \\int_a^x f(u) du.\n~$$\n\nThe value of $a$ does not matter, as long as the integral is defined."
      ],
      "metadata": {}
    },
    {
      "outputs": [],
      "cell_type": "code",
      "source": [
        "##{{{ftc_graph}}}\npyplot()\nfig_size = (600, 400)\n\nfunction make_ftc_graph(n)\n    a, b = 2, 3\n    ts = range(0, stop=b, length=50)\n    xs = range(a, stop=b, length=8)\n    g(x) = x\n    G(x) = x^2/2\n\n    xn,xn1 = xs[n:(n+1)]\n    xbar = (xn+xn1)/2\n    rxs = collect(range(xn, stop=xn1, length=2))\n    rys = map(g, rxs)\n\n    p = plot(g, 0, b, legend=false, size=fig_size, xlim=(0,3.25), ylim=(0,5))\n    plot!(p, [xn, rxs..., xn1], [0,rys...,0], linetype=:polygon, color=:orange)\n    plot!(p, [xn1, xn1], [G(xn), G(xn1)], color=:orange, alpha = 0.25)\n    annotate!(p, collect(zip([xn1, xn1], [G(xn1)/2, G(xn1)], [\"A\", \"A\"])))\n\n    p\nend\n\ncaption = L\"\"\"\n\nIllustration showing $F(x) = \\int_a^x f(u) du$ is a function that\naccumulates area. The value of $A$ is the area over $[x_{n-1}, x_n]$\nand also the difference $F(x_n) - F(x_{n-1})$.\n\n\"\"\"\n\nn = 7\n\nanim = @animate for i=1:n\n    make_ftc_graph(i)\nend\n\nimgfile = tempname() * \".gif\"\ngif(anim, imgfile, fps = 1)\n\nplotly()\nImageFile(imgfile, caption)"
      ],
      "metadata": {},
      "execution_count": null
    },
    {
      "cell_type": "markdown",
      "source": [
        "The picture for this, for non-negative $f$, is of accumulating area as\n$x$ increases. It can be used to give insight into some formulas:\n\nFor any function, we know that $F(b) - F(c) + F(c) - F(a) = F(b) - F(a)$. For this specific function, this translates into this property of the integral:\n\n$$~\n\\int_a^b f(x) dx = \\int_a^c f(x) dx + \\int_c^b f(x) dx.\n~$$\n\nSimilarly, $\\int_a^a f(x) dx = F(a) - F(a) = 0$ follows.\n\nTo see that the value of $a$ does not matter,  consider $a_0 < a_1$. Then we have with\n\n$$~\nF(x) = \\int_{a_0}^x f(u)du, \\quad G(x) = \\int_{a_0}^x f(u)du,\n~$$\n\nThat $F(x) = G(x) + \\int_{a_0}^{a_1} f(u) du$. The additional part may\nlook complicated, but the point is that as far as $x$ is involved, it\nis a constant. Hence both $F$ and $G$ are antiderivatives if either\none is.\n\n##### Example\n\nIn probability theory, for a positive, continuous random variable, the\nprobability that the random value is less than $a$ is given by $P(X\n\\leq a) = F(a) = \\int_{0}^a f(x) dx$. (Positive means the integral\nstarts at $0$, whereas in general it could be $-\\infty$, a minor complication that\nwe haven't yet  discussed.)\n\nFor example, the exponential distribution with rate $1$ has $f(x) = e^{-x}$. Compute $F(x)$.\n\nThis is just $F(x) = \\int_0^x e^{-u} du = -e^{-u}\\big|_0^x = 1 - e^{-x}$.\n\nThe \"uniform\" distribution on $[a,b]$ has\n\n$$~\nF(x) =\n\\begin{cases}\n0               & x < a\\\\\n\\frac{x-a}{b-a} & a \\leq x \\leq b\\\\\n1               & x > b\n\\end{cases}\n~$$\n\nFind $f(x)$. There are some subtleties here. If we assume that $F(x) = \\int_0^x f(u) du$ then we know if $f(x)$ is continuous that $F'(x) = f(x)$. Differentiating we get\n\n$$~\nf(x) = \\begin{cases}\n0             & x < a\\\\\n\\frac{1}{b-a} & a < x < b\\\\\n0             & x > b\n\\end{cases}\n~$$\n\nHowever, the function  $f$  is *not* continuous on $[a,b]$ and $F'(x)$ is not\ndifferentiable on $(a,b)$. It is true that $f$ is integrable, and\nwhere $F$ is differentiable $F'=f$. So $f$ is determined except\npossibly at the points $x=a$ and $x=b$.\n\n##### Example\n\nThe error function is defined by $\\text{erf}(x) = 2/\\sqrt{\\pi}\\int_0^x e^{-u^2}\ndu$. It is implemented in `Julia` through `erf`. Suppose, we were to\nask where it takes on it's maximum value, what would we find?\n\nThe answer will either be at a critical point, at $0$ or as $x$ goes to $\\infty$. We can differentiate to find critical points:\n\n$$~\n[\\text{erf}(x)] = \\frac{2}{\\pi}e^{-x^2}.\n~$$\n\nOh, this is never $0$, so there are no critical points. The maximum occurs at $0$ or as $x$ goes to $\\infty$. Clearly at $0$, we have $\\text{erf}(0)=0$, so the answer will be as $x$ goes to $\\infty$.\n\nIn retrospect, this is a silly question. As $f(x) > 0$ for all $x$, we\n*must* have that $F(x)$ is strictly increasing, so never gets to a\nlocal maximum.\n\n##### Example\n\nThe [Dawson](http://en.wikipedia.org/wiki/Dawson_function) function is\n\n$$~\nF(x) = e^{-x^2} \\int_0^x e^{t^2} dt\n~$$\n\nCharacterize any local maxima or minima.\n\nFor this we need to consider the product rule. The fundamental theorem of calculus will help with the right-hand side. We have:\n\n$$~\nF'(x) = (-2x)e^{-x^2} \\int_0^x e^{t^2} dt + e^{-x^2} e^{x^2} = -2x F(x) + 1\n~$$\n\nWe need to figure out when this is $0$. For that, we use some numeric math."
      ],
      "metadata": {}
    },
    {
      "outputs": [],
      "cell_type": "code",
      "source": [
        "F(x) = exp(-x^2) * quadgk(t -> exp(t^2), 0, x)[1]\nFp(x) = -2x*F(x) + 1\ncps = find_zeros(Fp, -4,4)"
      ],
      "metadata": {},
      "execution_count": null
    },
    {
      "cell_type": "markdown",
      "source": [
        "We could take a second derivative to characterize. For that we use\n$F''(x) = [-2xF(x) + 1]' = -2F(x) + -2x(-2xF(x) + 1)$, so"
      ],
      "metadata": {}
    },
    {
      "outputs": [],
      "cell_type": "code",
      "source": [
        "Fpp(x) = -2F(x) + 4x^2*F(x) - 2x\nFpp.(cps)"
      ],
      "metadata": {},
      "execution_count": null
    },
    {
      "cell_type": "markdown",
      "source": [
        "The first value being positive says there is a relative minimum at $-0.924139$, at $0.924139$ there is a relative maximum.\n\n##### Example\n\nFrom the familiar formula rate $\\times$ time $=$ distance, we \"know,\"\nfor example, that a car traveling 60 miles an hour for one hour will\nhave traveled 60 miles. This allows us to translate statements about\nthe speed (or more generally velocity) into statements about position\nat a given time. If the speed is not constant, we don't have such an\neasy conversion.\n\nSuppose our velocity at time $t$ is $v(t)$, and always positive. We\nwant to find the position at time $t$, $x(t)$. Let's assume $x(0) =\n0$. Let $h$ be some small time step, say $h=(t - 0)/n$ for some large\n$n>0$. Then we can *approximate* $v(t)$ between\n$[ih, (i+1)h)$ by $v(ih)$.  This is a constant so the change in position over the time interval $[ih, (i+1)h)$ would simply be $v(ih) \\cdot h$, and ignoring the accumulated errors, the approximate position at time $t$ would be found by adding this pieces together: $x(t) \\approx v(0h)\\cdot h + v(1h)\\cdot h + v(2h) \\cdot h + \\cdots + v(nh)h$. But we recognize this (as did [Beeckman](http://www.math.harvard.edu/~knill/teaching/math1a_2011/exhibits/bressoud/)\nin 1618) as nothing more than an approximation for the Riemann sum of\n$v$ over the interval $[0, t]$. That is, we expect:\n\n$$~\nx(t) = \\int_0^t v(u) du.\n~$$\n\nHopefully this makes sense: our position is the result of accumulating\nour change in position over small units of time. The old\none-foot-in-front-of-another approach to walking out the door.\n\nThe above was simplified by the assumption that $x(0) = 0$. What if $x(0) = x_0$ for some non-zero value. Then the above is not exactly correct, as $\\int_0^0 v(u) du = 0$. So instead, we might write this more concretely as:\n\n$$~\nx(t) = x_0 + \\int_0^t v(u) du.\n~$$\n\nThere is a similar relationship between velocity and acceleration, but let's think about it formally. If we know that the acceleration is the rate of change of velocity, then we have $a(t) = v'(t)$. By the FTC, then\n\n$$~\n\\int_0^t a(u) du = \\int_0^t v'(t) = v(t) - v(0).\n~$$\n\nRewriting gives a similar statement as before:\n\n$$~\nv(t) = v_0 + \\int_0^t a(u) du.\n~$$\n\n##### Example\n\nA junior engineer at `Treadmills.com` is tasked with updating the\ndisplay of calories burned for an older-model treadmill. The old display\ninvolved a sequence of LED \"dots\" that updated each minute. The last\n10 minutes were displayed. Each dot corresponded to one calorie\nburned, so the total number of calories burned in the past 10 minutes\nwas the number of dots displayed, or the sum of each column of dots.\nAn example might be:\n\n```\n\n  **\n  ****\n  *****\n ********\n**********\n```\n\n\nIn this example display there was 1 calorie burned in the first minute, then\n2, then 5, 5, 4, 3, 2, 2, 1. The total is $24$.\n\n\nIn her work the junior engineer found this old function for updating the display"
      ],
      "metadata": {}
    },
    {
      "outputs": [],
      "cell_type": "code",
      "source": [
        "function cnew = update(Cnew, Cold)\n  cnew = Cnew - Cold\nend"
      ],
      "metadata": {},
      "execution_count": null
    },
    {
      "cell_type": "markdown",
      "source": [
        "She discovered that the function was written awhile ago, and in MATLAB. The function\nreceives the values `Cnew` and `Cold` which indicate the *total*\nnumber of calories burned up until that time frame. The value `cnew`\nis the number of calories burned in the minute. (Some other engineer\nhas cleverly figured out how many calories have been burned during the\ntime on the machine.)\n\nThe new display will have twice as many dots, so the display can be\nupdated every 30 seconds and still display 10 minutes worth of data. What should the\n`update` function now look like?\n\nHer first attempt was simply to rewrite the function in `Julia`:"
      ],
      "metadata": {}
    },
    {
      "outputs": [],
      "cell_type": "code",
      "source": [
        "function update(Cnew, Cold)\n  cnew = Cnew - Cold\nend"
      ],
      "metadata": {},
      "execution_count": null
    },
    {
      "cell_type": "markdown",
      "source": [
        "This has the advantage that each \"dot\" still represents a calorie\nburned, so that a user can still count the dots to see the total burned\nin the past 10 minutes.\n\n\n```\n\n\n\n     * *\n    ****** *\n ************* *\n```\n\n\nSadly though, users didn't like it. Instead of a set of dots being,\nsay, 5 high, they were now 3 high and 2 high. It \"looked\" like they\nwere doing less work! What to do?\n\nThe users actually were not responding to the number of dots, which\nhadn't changed, but rather the *area* that they represented - and\nthis shrank in half. (It is much easier to visualize area than count dots when tired.)\nHow to adjust for that?\n\nWell our engineer knew - double the dots and count each as half a\ncalorie. This makes the \"area\" constant.  She also generalized letting\n`n` be the number of updates per minute, in anticipation of even\nfurther improvements in the display technology:"
      ],
      "metadata": {}
    },
    {
      "outputs": [],
      "cell_type": "code",
      "source": [
        "function update(Cnew, Cold, n)\n   cnew = (Cnew - Cold) * n\nend"
      ],
      "metadata": {},
      "execution_count": null
    },
    {
      "cell_type": "markdown",
      "source": [
        "Then the \"area\" represented by the dots stays fixed over this time frame.\n\nThe engineer then thought a bit more, as the form of her answer seemed\nfamiliar. She decides to parameterize it in terms of $t$ and found with\n$h=1/n$: `c(t) = (C(t) - C(t-h))/h`. Ahh - the derivative\napproximation. But then what is the \"area\"? It is no longer just the\nsum of the dots, but in terms of the functions she finds that each\ncolumn represents $c(t)\\cdot h$, and the sum is just $c(t_1)h +\nc(t_2)h + \\cdots c(t_n)h$ which looks like an approximate integral.\n\nIf the display were to reach the modern age and replace LED \"dots\"\nwith a higher-pixel display, then the function to display would be $c(t)\n= C'(t)$ and the area displayed would be $\\int_{t-10}^t c(u) du$.\n\n\nThinking a bit harder, she knows that her `update` function is getting\n$C(t)$, and displaying the *rate* of calorie burn leads to the area\ndisplayed being interpretable as the total calories burned between $t$\nand $t-10$ (or $C(t)-C(t-10)$) by the Fundamental Theorem of Calculus.\n\n## Questions\n\n###### Question\n\nIf $F(x) = e^{x^2}$ is an antiderivative for $f$, find $\\int_0^2 f(x) dx$."
      ],
      "metadata": {}
    },
    {
      "outputs": [],
      "cell_type": "code",
      "source": [
        "F(x) = exp(x^2)\nval = F(2) - F(0)\nnumericq(val)"
      ],
      "metadata": {},
      "execution_count": null
    },
    {
      "cell_type": "markdown",
      "source": [
        "###### Question\n\nIf $\\sin(x) - x\\cos(x)$ is an antiderivative for $x\\sin(x)$, find the following integral $\\int_0^\\pi x\\sin(x) dx$."
      ],
      "metadata": {}
    },
    {
      "outputs": [],
      "cell_type": "code",
      "source": [
        "F(x) = sin(x) - x*cos(x)\na, b= 0, pi\nval = F(b) - F(a)\nnumericq(val)"
      ],
      "metadata": {},
      "execution_count": null
    },
    {
      "cell_type": "markdown",
      "source": [
        "###### Question\n\nFind an antiderivative then evaluate $\\int_0^1 x(1-x) dx$."
      ],
      "metadata": {}
    },
    {
      "outputs": [],
      "cell_type": "code",
      "source": [
        "f(x) = x*(1-x)\na,b = 0, 1\nF(x) = x^2/2 - x^3/3\nval = F(b) - F(a)\nnumericq(val)"
      ],
      "metadata": {},
      "execution_count": null
    },
    {
      "cell_type": "markdown",
      "source": [
        "###### Question\n\nUse the fact that $[e^x]' = e^x$ to evaluate $\\int_0^e (e^x - 1) dx$."
      ],
      "metadata": {}
    },
    {
      "outputs": [],
      "cell_type": "code",
      "source": [
        "f(x) = exp(x) - 1\na, b = 0, exp(a)\nF(x) = exp(x) - x\nval = F(b) - F(a)\nnumericq(val)"
      ],
      "metadata": {},
      "execution_count": null
    },
    {
      "cell_type": "markdown",
      "source": [
        "###### Question\n\nFind the value of $\\int_0^1 (1-x^2/2 + x^4/24) dx$."
      ],
      "metadata": {}
    },
    {
      "outputs": [],
      "cell_type": "code",
      "source": [
        "f(x) = 1 - x^2/2 + x^4/24\na, b = 0, 1\nval, _ = quadgk(f, a, b)\nnumericq(val)"
      ],
      "metadata": {},
      "execution_count": null
    },
    {
      "cell_type": "markdown",
      "source": [
        "###### Question\n\nUsing `SymPy`, what is an antiderivative for $x^2 \\sin(x)$?"
      ],
      "metadata": {}
    },
    {
      "outputs": [],
      "cell_type": "code",
      "source": [
        "choices = [\nL\"-x^2\\cos(x)\",\nL\"-x^2\\cos(x) + 2x\\sin(x)\",\nL\"-x^2\\cos(x) + 2x\\sin(x) + 2\\cos(x)\"\n]\nans = 3\nradioq(choices, ans, keep_order=true)"
      ],
      "metadata": {},
      "execution_count": null
    },
    {
      "cell_type": "markdown",
      "source": [
        "###### Question\n\nUsing `SymPy`, what is an antiderivative for $xe^{-x}$?"
      ],
      "metadata": {}
    },
    {
      "outputs": [],
      "cell_type": "code",
      "source": [
        "choices = [\nL\"-e^{-x}\",\nL\"-xe^{-x}\",\nL\"-(1+x) e^{-x}\",\nL\"-(1 + x + x^2) e^{-x}\"\n]\nans = 3\nradioq(choices, ans, keep_order=true)"
      ],
      "metadata": {},
      "execution_count": null
    },
    {
      "cell_type": "markdown",
      "source": [
        "###### Question\n\nUsing `SymPy`, integrate the function $\\int_0^{2\\pi} e^x \\cdot \\sin(x) dx$."
      ],
      "metadata": {}
    },
    {
      "outputs": [],
      "cell_type": "code",
      "source": [
        "using SymPy\n@vars x\nval = N(integrate(exp(x) * sin(x), (x, 0, 2pi)))\nnumericq(val)"
      ],
      "metadata": {},
      "execution_count": null
    },
    {
      "cell_type": "markdown",
      "source": [
        "###### Question\n\nA particle has velocity $v(t) = 2t^2 - t$ between $0$ and $1$. If $x(0) = 0$, find the position $x(1)$."
      ],
      "metadata": {}
    },
    {
      "outputs": [],
      "cell_type": "code",
      "source": [
        "v(t) = 2t^2 - t\nf(x) = quadgk(v, 0, x)[1] - 0\nnumericq(f(1))"
      ],
      "metadata": {},
      "execution_count": null
    },
    {
      "cell_type": "markdown",
      "source": [
        "###### Question\n\nA particle has acceleration given by $\\sin(t)$ between $0$ and\n$\\pi$. If the initial velocity is $v(0) = 0$, find $v(\\pi/2)$."
      ],
      "metadata": {}
    },
    {
      "outputs": [],
      "cell_type": "code",
      "source": [
        "f(x) = quadgk(sin, 0, x)[1] - 0\nnumericq(f(pi/2))"
      ],
      "metadata": {},
      "execution_count": null
    },
    {
      "cell_type": "markdown",
      "source": [
        "###### Question\n\nThe position of a particle is given by $x(t) = \\int_0^t g(u) du$,\nwhere $x(0)=0$ and $g(u)$ is given by this piecewise linear graph:"
      ],
      "metadata": {}
    },
    {
      "outputs": [],
      "cell_type": "code",
      "source": [
        "function g1(x)\n  if x < 2\n    -1 + x\n  elseif 2 < x < 3\n    1\n  else\n    1 + (1/2)*(x-3)\n  end\n  end\nusing Plots\nplot(g1, 0, 5)"
      ],
      "metadata": {},
      "execution_count": null
    },
    {
      "cell_type": "markdown",
      "source": [
        "* The velocity of the particle is positive over:"
      ],
      "metadata": {}
    },
    {
      "outputs": [],
      "cell_type": "code",
      "source": [
        "choices = [\n\"It is always positive\",\n\"It is always negative\",\nL\"Between $0$ and $1$\",\nL\"Between $1$ and $5$\"\n]\nans = 4\nradioq(choices, ans, keep_order=true)"
      ],
      "metadata": {},
      "execution_count": null
    },
    {
      "cell_type": "markdown",
      "source": [
        "* The position of the particle is $0$ at $t=0$ and:"
      ],
      "metadata": {}
    },
    {
      "outputs": [],
      "cell_type": "code",
      "source": [
        "choices = [\nL\"t=1\",\nL\"t=2\",\nL\"t=3\",\nL\"t=4\"]\nans = 2\nradioq(choices, ans, keep_order=true)"
      ],
      "metadata": {},
      "execution_count": null
    },
    {
      "cell_type": "markdown",
      "source": [
        "* The position of the particle at time $t=5$ is?"
      ],
      "metadata": {}
    },
    {
      "outputs": [],
      "cell_type": "code",
      "source": [
        "val = 4\nnumericq(val)"
      ],
      "metadata": {},
      "execution_count": null
    },
    {
      "cell_type": "markdown",
      "source": [
        "* On the interval $[2,3]$:"
      ],
      "metadata": {}
    },
    {
      "outputs": [],
      "cell_type": "code",
      "source": [
        "choices = [\nL\"The position, $x(t)$, stays constant\",\nL\"The position, $x(t)$, increases with a slope of $1$\",\nL\"The position, $x(t)$, increases quadratically from $-1/2$ to $1$\",\nL\"The position, $x(t)$, increases quadratically from $0$ to $1$\"\n]\nans = 2\nradioq(choices, ans, keep_order=true)"
      ],
      "metadata": {},
      "execution_count": null
    },
    {
      "cell_type": "markdown",
      "source": [
        "###### Question\n\nLet $F(x) = \\int_{t-10}^t f(u) du$ for $f(u)$ a positive, continuous function. What is $F'(t)$?"
      ],
      "metadata": {}
    },
    {
      "outputs": [],
      "cell_type": "code",
      "source": [
        "choices = [\nL\"f(t)\",\nL\"-f(t-10)\",\nL\"f(t) - f(t-10)\"\n]\nans = 3\nradioq(choices, ans, keep_order=true)"
      ],
      "metadata": {},
      "execution_count": null
    },
    {
      "cell_type": "markdown",
      "source": [
        "###### Question\n\nSuppose $f(x) \\geq 0$ and $F(x) = \\int_0^x f(u) du$. $F(x)$ is continuous and so has a maximum value on the interval $[0,1]$ taken at some $c$ in $[0,1]$. It is"
      ],
      "metadata": {}
    },
    {
      "outputs": [],
      "cell_type": "code",
      "source": [
        "choices = [\n\"At a critical point\",\nL\"At the endpoint $0$\",\nL\"At the endpoint $1$\"]\nans = 3\nradioq(choices, ans, keep_order=true)"
      ],
      "metadata": {},
      "execution_count": null
    },
    {
      "cell_type": "markdown",
      "source": [
        "###### Question\n\nSuppose $f(x)$ is monotonically decreasing with $f(0)=1$, $f(1/2) = 0$ and $f(1) = -1$. Let $F(x) = \\int_0^x f(u) du$. $F(x)$ is continuous and so has a maximum value on the interval $[0,1]$ taken at some $c$ in $[0,1]$. It is"
      ],
      "metadata": {}
    },
    {
      "outputs": [],
      "cell_type": "code",
      "source": [
        "choices = [\nL\"At a critical point, either $0$ or $1$\",\nL\"At a critical point, $1/2$\",\nL\"At the endpoint $0$\",\nL\"At the endpoint $1$\"]\nans = 2\nradioq(choices, ans, keep_order=true)"
      ],
      "metadata": {},
      "execution_count": null
    },
    {
      "cell_type": "markdown",
      "source": [
        "###### Question\n\nBarrow presented a version of the Fundamental Theorem of Calculus in a\n1670 volume edited by Newton, Barrow's student\n(cf. [Wagner](http://www.maa.org/sites/default/files/0746834234133.di020795.02p0640b.pdf)). His version can be stated as follows (cf. [Jardine](http://www.maa.org/publications/ebooks/mathematical-time-capsules)):\n\nConsider the following figure where $f$ is a strictly increasing\nfunction with $f(0) = 0$. and $x > 0$. The function $A(x) = \\int_0^x\nf(u) du$ is also plotted. The point $Q$ is $f(x)$, and the point $P$\nis $A(x)$. The point $T$ is chosen to so that the length between $T$\nand $x$ times the length between $Q$ and $x$ equals the length from\n$P$ to $x$. ($\\lvert Tx \\rvert \\cdot \\lvert Qx \\rvert = \\lvert Px\n\\rvert$.) Barrow showed that the line segment $PT$ is tangent to the graph of\n$A(x)$. This figure illustrates the labeling for some function:"
      ],
      "metadata": {}
    },
    {
      "outputs": [],
      "cell_type": "code",
      "source": [
        "f(x) = x^(2/3)\nx = 2\nA(x) = quadgk(f, 0, x)[1]\nm=f(x)\nT = x - A(x)/f(x)\nQ = f(x)\nP = A(x)\nsecpt = u -> 0 + P/(x-T) * (u-T)\nxs = range(0, stop=x+1/4, length=50\n)\np = plot(f, 0, x + 1/4, legend=false)\nplot!(p, A, 0, x + 1/4, color=:red)\nscatter!(p, [T, x, x, x], [0, 0, Q, P], color=:orange)\nannotate!(p, collect(zip([T, x, x+.1, x+.1], [0-.15, 0-.15, Q-.1, P], [\"T\", \"x\", \"Q\", \"P\"])))\nplot!(p,  [T-1/4, x+1/4], map(secpt, [T-1/4, x + 1/4]), color=:orange)\nplot!(p, [T, x, x], [0, 0, P], color=:green)\n\np"
      ],
      "metadata": {},
      "execution_count": null
    },
    {
      "cell_type": "markdown",
      "source": [
        "The fact that $\\lvert Tx \\rvert \\cdot \\lvert Qx \\rvert = \\lvert Px\n\\rvert$ says what in terms of $f(x)$, $A(x)$ and $A'(x)$?"
      ],
      "metadata": {}
    },
    {
      "outputs": [],
      "cell_type": "code",
      "source": [
        "choices = [\nL\"\\lvert Tx \\rvert \\cdot f(x) = A(x)\",\nL\"A(x) / \\lvert Tx \\rvert = A'(x)\",\nL\"A(x) \\cdot A'(x) = f(x)\"\n]\nans = 1\nradioq(choices, ans, keep_order=true)"
      ],
      "metadata": {},
      "execution_count": null
    },
    {
      "cell_type": "markdown",
      "source": [
        "The fact that $\\lvert PT \\rvert$ is tangent says what in terms of $f(x)$, $A(x)$ and $A'(x)$?"
      ],
      "metadata": {}
    },
    {
      "outputs": [],
      "cell_type": "code",
      "source": [
        "choices = [\nL\"\\lvert Tx \\rvert \\cdot f(x) = A(x)\",\nL\"A(x) / \\lvert Tx \\rvert = A'(x)\",\nL\"A(x) \\cdot A'(x) = f(x)\"\n]\nans = 2\nradioq(choices, ans, keep_order=true)"
      ],
      "metadata": {},
      "execution_count": null
    },
    {
      "cell_type": "markdown",
      "source": [
        "Solving, we get:"
      ],
      "metadata": {}
    },
    {
      "outputs": [],
      "cell_type": "code",
      "source": [
        "choices = [\nL\"A'(x) = f(x)\",\nL\"A(x) = A^2(x) / f(x)\",\nL\"A'(x) = A(x)\",\nL\"A(x) = f(x)\"\n]\nans = 1\nradioq(choices, ans)"
      ],
      "metadata": {},
      "execution_count": null
    },
    {
      "cell_type": "markdown",
      "source": [
        "###### Question\n\nAccording to [Bressoud](http://www.math.harvard.edu/~knill/teaching/math1a_2011/exhibits/bressoud/) \"Newton observes that the rate of change of an accumulated quantity is the rate at which that quantity is accumulating\". Which part of the FTC does this refer to:"
      ],
      "metadata": {}
    },
    {
      "outputs": [],
      "cell_type": "code",
      "source": [
        "choices = [\nL\"Part 1: $[\\int_a^x f(u) du]' = f$\",\nL\"Part 2: $\\int_a^b f(u) du = F(b)- F(a)$.\"]\nans=1\nradioq(choices, ans, keep_order=true)"
      ],
      "metadata": {},
      "execution_count": null
    }
  ],
  "nbformat_minor": 2,
  "metadata": {
    "language_info": {
      "file_extension": ".jl",
      "mimetype": "application/julia",
      "name": "julia",
      "version": "1.5.0"
    },
    "kernelspec": {
      "name": "julia-1.5",
      "display_name": "Julia 1.5.0",
      "language": "julia"
    }
  },
  "nbformat": 4
}
