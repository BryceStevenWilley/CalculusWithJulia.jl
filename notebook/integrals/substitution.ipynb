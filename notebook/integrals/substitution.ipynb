{
  "cells": [
    {
      "cell_type": "markdown",
      "source": [
        "# Substitution"
      ],
      "metadata": {}
    },
    {
      "outputs": [],
      "cell_type": "code",
      "source": [
        "using CalculusWithJulia\nusing CalculusWithJulia.WeaveSupport\nusing Plots\nnothing"
      ],
      "metadata": {},
      "execution_count": null
    },
    {
      "cell_type": "markdown",
      "source": [
        "The technique of $u$-[substitution](https://en.wikipedia.org/wiki/Integration_by_substitution) is derived from reversing the chain rule: $[f(g(x))]' = f'(g(x)) g'(x)$.\n\nSuppose that $g$ and $u'(x)$ are integrable functions. Then both these integrals are defined:\n\n$$~\n\\int_a^b g(u(t)) \\cdot u'(t) dt, \\quad \\text{and}\\quad \\int_{u(a)}^{u(b)} g(x) dx.\n~$$\n\nWe wish to show they are equal.\n\nLet $G$ be an antiderivative of $g$, which exists as $g$ is assumed to be continuous. (By the Fundamental Theorem part I.) Consider the composition $G \\circ u$. The chain rule gives:\n\n$$~\n[G \\circ u]'(t) = G'(u(t)) \\cdot u'(t) = g(u(t)) \\cdot u'(t).\n~$$\n\nSo,\n\n$$~\n\\begin{align}\n\\int_a^b g(u(t)) \\cdot u'(t) dt &= \\int_a^b (G \\circ u)'(t) dt\\\\\n&= (G\\circ u)(b) - (G\\circ u)(a) \\quad\\text{(the FTC, part II)}\\\\\n&= G(u(b)) - G(u(a)) \\\\\n&= \\int_{u(a)}^{u(b)} g(x) dx. \\quad\\text{(the FTC part II)}\n\\end{align}\n~$$\n\n\nThat is, this substitution formula applies:\n\n> $$~ \\int_a^b g(u(x)) u'(x) dx = \\int_{u(a)}^{u(b)} g(x) dx. ~$$\n\nWe have seen a special case of substitution where $u(x) = x-c$ in the formula $\\int_{a-c}^{b-c} g(x) dx= \\int_a^b g(x-c)dx$.\n\n\n\nThe main use of this is to take complicated things inside of the function $g$ out of the function (the $u(x)$) by renaming them, then account for the change of name.\n\nSome examples are in order.\n\nConsider:\n\n$$~\n\\int_0^{\\pi/2} \\cos(x) e^{\\sin(x)} dx.\n~$$\n\nClearly the $\\sin(x)$ inside the exponential is an issue. If we let $u(x) = \\sin(x)$, then $u'(x) = \\cos(x)$, and this becomes\n\n$$~\n\\int_{u(0)}^{u(\\pi/2)} e^x dx = e^x \\big|_{\\sin(0)}^{\\sin(\\pi/2)} = e^1 - e^0.\n~$$\n\nThis all worked as the problem was such that it was more or less obvious what to choose for $u$ and $G$.\n\n### \"u\" substitution\n\nThe process of identifying the result of the chain rule in the\nfunction to integrate is not automatic, but rather a bit of an art. The basic\nstep is to try some values. Typically, this is taught by\n\"substituting\" in some value for part of the expression (basically the\n$u(x)$) and seeing what happens.\n\nIn the above problem, $\\int_0^{\\pi/2} \\cos(x) e^{\\sin(x)} dx$, we\nmight just rename $\\sin(x)$ to be $u$ (suppressing the \"of $x$\npart). Then we need to rewrite the \"$dx$\" part of the integral. We\nknow in this case that $du/dx = \\cos(x)$. In terms of differentials,\nthis gives $du = \\cos(x) dx$. But this allows us to substitute in with\n$u$ and $du$ as is possible:\n\n$$~\n\\int_0^{\\pi/2} \\cos(x) e^{\\sin(x)} dx = \\int_0^{\\pi/2}  e^{\\sin(x)} \\cdot \\cos(x) dx = \\int_{u(0)}^{u(\\pi)} e^u du.\n~$$\n\n----\n\nLet's illustrate with a new problem: $\\int_0^2 4x e^{x^2} dx$.\n\nAgain, we see that the $x^2$ inside the exponential is a complication. Letting $u = x^2$ we have $du = 2x dx$. We  have $4xdx$ in the\noriginal problem, so we will end up with $2du$:\n\n$$~\n\\int_0^2 4x e^{x^2} dx = 2\\int_0^2 e^{x^2} \\cdot 2x dx = 2\\int_{u(0)}^{u(2)} e^u du = 2 \\int_0^4 e^u du =\n2 e^u\\big|_{u=0}^4 = 2(e^4 - 1).\n~$$\n\n----\n\nConsider now $\\int_0^1 2x^2 \\sqrt{1 + x^3} dx$. Here we see that the $1 + x^3$ makes the square root term complicated. If we call this $u$, then what is $du$? Clearly, $du = 3x^2 dx$, or $(1/3)du = x^2 dx$, so we can rewrite this as:\n\n$$~\n\\int_0^1 2x^2 \\sqrt{1 + x^3} dx = \\int_{u(0)}^{u(1)} 2 \\sqrt{u} (1/3) du = 2/3 \\cdot \\frac{u^{3/2}}{3/2} \\big|_1^2 =\n\\frac{4}{9} \\cdot(2^{3/2} - 1).\n~$$\n\n\n----\n\nConsider $\\int_0^{\\pi} \\cos(x)^3 \\sin(x) dx$. The $\\cos(x)$ function inside the $x^3$ function is complicated. We let $u(x) = \\cos(x)$ and see what that implies: $du = \\sin(x) dx$, which we see is part of the question. So the above becomes:\n\n$$~\n\\int_0^{\\pi} \\cos(x)^3 \\sin(x) dx = \\int_{u(0)}^{u(\\pi)} u^3 du= \\frac{u^4}{4}\\big|_0^0 = 0.\n~$$\n\nChanging limits leaves the two endpoints the same, which means the\ntotal area after substitution is $0$. A graph of this function shows\nthat about $\\pi/2$ the function has odd-like symmetry, so the answer of $0$ is supported by the plot:"
      ],
      "metadata": {}
    },
    {
      "outputs": [],
      "cell_type": "code",
      "source": [
        "using CalculusWithJulia  # loads  `SymPy`, `QuadGK`\nusing Plots\nf(x) = cos(x)^3 * sin(x)\nplot(f, 0, 1pi)"
      ],
      "metadata": {},
      "execution_count": null
    },
    {
      "cell_type": "markdown",
      "source": [
        "----\n\nConsider $\\int_1^e \\log(x)/x dx$. There isn't really an \"inside\" function here, but instead just a tricky $\\log(x)$. If we let $u=\\log(x)$, what happens? We get $du = 1/x \\cdot dx$, which we see present in the original. So with this, we have:\n\n$$~\n\\int_1^e \\frac{\\log(x)}{x} dx = \\int_{u(1)}^{u(e)} u du = \\frac{u^2}{2}\\big|_0^1 = \\frac{1}{2}.\n~$$\n\n##### Example: Transformations\n\nWe say that the area intrinsically discussed in the definite integral\n$A=\\int_a^b f(x-c) dx$ is unaffected by shifts, in that $A =\n\\int_{a-c}^{b-c} f(x) dx$. What about more general transformations?\nFor example: if $g(x) = (1/h) \\cdot f((x-c)/h)$ for values $c$ and $h$ what is\nthe integral over $a$ to $b$ in terms of the function $f(x)$?\n\nIf $A = \\int_a^b (1/h) \\cdot f((x-c)/h) dx$ then we let $u = (x-c)/h$. With this, $du = 1/h \\cdot dx$. This allows a straight substitution:\n\n$$~\nA = \\int_a^b \\frac{1}{h} f(\\frac{x-c}{h}) dx = \\int_{(a-c)/h}^{(b-c)/h} f(u) du.\n~$$\n\nSo the answer is: the area under the transformed function over $a$ to $b$\nis the area of the function over the transformed region.\n\n\nFor example, consider the \"hat\" function $f(x) = 1 - \\lvert x \\rvert $\nwhen $-1 \\leq x \\leq 1$ and $0$ otherwise. The area under $f$ is just\n$1$ - the graph forms a triangle with base of length $2$ and height\n$1$. If we take any values of $c$ and $h$, what do we find for the\narea under the curve of the transformed function?\n\nLet $u(x) = (x-c)/h$ and $g(x) = h f(u(x))$. Then, as $du = 1/h dx$\n\n$$~\n\\begin{align}\n\\int_{c-h}^{c+h} g(x) dx\n&= \\int_{c-h}^{c+h} h f(u(x)) dx\\\\\n&= \\int_{u(c-h)}^{u(c+h)} f(u) du\\\\\n&= \\int_{-1}^1 f(u) du\\\\\n&= 1.\n\\end{align}\n~$$\n\nSo the area of this transformed function is still $1$. The shifting by\n$c$ we know doesn't effect the area, the scaling by $h$ inside of $f$\ndoes, but is balanced out by the multiplication by $h$ outside of $f$.\n\n##### Example: Speed versus velocity\n\nThe \"velocity\" of an object includes a sense of direction in addition to the sense of magnitude. The \"speed\" just includes the sense of magnitude. Speed is always non-negative, whereas velocity is a signed quantity.\n\nAs mentioned previously, position is the integral of velocity, as expressed precisely through this equation:\n\n$$~\nx(t) = \\int_0^t v(u) du - x(0).\n~$$\n\nWhat is the integral of speed?\n\nIf $v(t)$ is the velocity, the $s(t) = \\lvert v(t) \\rvert$ is the speed. If integrating either $s(t)$ or $v(t)$, the  integrals would agree when $v(t) \\geq 0$. However,  when $v(t) \\leq 0$, the position back tracks so $x(t)$ decreases, where the integral of $s(t)$ would only increase.\n\nThis integral\n\n$$~\ntd(t) = \\int_0^t s(u) du = \\int_0^t \\lvert v(u) \\rvert du,\n~$$\n\nGives the *total distance* traveled.\n\nTo illustrate with a simple example, if a car drives East for one hour\nat 60 miles per hour, then heads back West for an hour at 60 miles per\nhour, the car's position after one hour is $x(2) = x(0)$, with a change in position $x(2) - x(0) = 0$. Whereas, the\ntotal distance traveled is $120$ miles. (Gas is paid on total\ndistance, not change in position!). What are the formulas for speed\nand velocity? Clearly $s(t) = 60$, a constant, whereas here $v(t) =\n60$ for $0 \\leq t \\leq 1$ and $-60$ for $1 < t \\leq 2$.\n\n\n\nSuppose $v(t)$ is given by $v(t) = (t-2)^3/3 - 4(t-2)/3$. If $x(0)=0$\nFind the position after 3 time units and the total distance traveled.\n\n\nWe let $u(t) = t - 2$ so $du=dt$. The position is given by\n\n$$~\n\\int_0^3  ((t-2)^3/3 - 4(t-2)/3) dt = \\int_{u(0)}^{u(3)} (u^3/3 - 4/3 u) du =\n(\\frac{u^4}{12} - \\frac{4}{3}\\frac{u^2}{2}) \\big|_{-2}^1 = \\frac{3}{4}.\n~$$\n\nThe speed is similar, but we have to work harder:\n\n\n$$~\n\\int_0^3 \\lvert v(t) \\rvert dt = \\int_0^3  \\lvert ((t-2)^3/3 - 4(t-2)/3) \\rvert dt  =\n\\int_{-2}^1 \\lvert u^3/3 - 4u/3 \\rvert du.\n~$$\n\nBut $u^3/3 - 4u/3 = (1/3) \\cdot u(u-1)(u+2)$, so between $-2$ and $0$\nit is positive and between $0$ and $1$ negative, so this integral is:\n\n$$~\n\\int_{-2}^0 (u^3/3 - 4u/3 ) du + \\int_{0}^1 -(u^3/3 - 4u/3) du =\n(\\frac{u^4}{12} - \\frac{4}{3}\\frac{u^2}{2}) \\big|_{-2}^0 - (\\frac{u^4}{12} - \\frac{4}{3}\\frac{u^2}{2}) \\big|_{0}^1 = \\frac{4}{3} - -\\frac{7}{12} = \\frac{23}{12}.\n~$$\n\n## SymPy and substitution\n\nThe `integrate` function in `SymPy` can handle most problems which involve substitution. Here are a few examples:\n\n\n* This integral, $\\int_0^2 4x/\\sqrt{x^2 +1}dx$, involves a substitution for $x^2 + 1$:"
      ],
      "metadata": {}
    },
    {
      "outputs": [],
      "cell_type": "code",
      "source": [
        "@vars x t real=true\nf(x) = 4x / sqrt(x^2 + 1)\nintegrate(f(x), (x, 0, 2))"
      ],
      "metadata": {},
      "execution_count": null
    },
    {
      "cell_type": "markdown",
      "source": [
        "* This integral, $\\int_e^{e^2} 1/(x\\log(x)) dx$ involves a substitution of $u=\\log(x)$. Here we see the answer:"
      ],
      "metadata": {}
    },
    {
      "outputs": [],
      "cell_type": "code",
      "source": [
        "f(x) = 1/(x*log(x))\nintegrate(f(x), (x, e, Sym(e)^2))"
      ],
      "metadata": {},
      "execution_count": null
    },
    {
      "cell_type": "markdown",
      "source": [
        "(We used `Sym(e)` - and not `e` - to avoid a conversion to floating point, which would yield an inexact answer.)\n\n\nThe antiderivative is interesting here:"
      ],
      "metadata": {}
    },
    {
      "outputs": [],
      "cell_type": "code",
      "source": [
        "integrate(f(x), x)"
      ],
      "metadata": {},
      "execution_count": null
    },
    {
      "cell_type": "markdown",
      "source": [
        "The answer is an *iterated* logarithm.\n\n### Failures...\n\n\nNot every integral problem lends itself to solution by\nsubstitution. For example, we can use substitution to evaluate the\nintegral of $xe^{-x^2}$, but for $e^{-x^2}$ or $x^2e^{-x^2}$. The\nfirst has no familiar antiderivative, the second is done by a\ndifferent technique.\n\nEven when substitution can be used, `SymPy` may not be able to\nalgorithmically identify it. The algorithm used can determine if\nexpressions involving rational functions, radicals, logarithms, and\nexponential functions is integrable. Missing from this list are\nabsolute values, so something as simple as"
      ],
      "metadata": {}
    },
    {
      "outputs": [],
      "cell_type": "code",
      "source": [
        "integrate(abs(x), (x, -2, 2))"
      ],
      "metadata": {},
      "execution_count": null
    },
    {
      "cell_type": "markdown",
      "source": [
        "is not found.\n\n\nFor such problems, we know how to help `SymPy` out - we can break the integral into pieces where we know the sign of the expression.\n\nFor substitution problems, we can also help out. For example, find an antiderivative for\n\n$$~\n\\int(1 + \\log(x)) \\sqrt{1 + (x\\log(x))^2} dx\n~$$\n\nA quick attempt with `SymPy` turns up nothing:"
      ],
      "metadata": {}
    },
    {
      "outputs": [],
      "cell_type": "code",
      "source": [
        "f(x) = (1 + log(x)) * sqrt(1 + (x*log(x))^2 )\nintegrate(f(x), x)"
      ],
      "metadata": {},
      "execution_count": null
    },
    {
      "cell_type": "markdown",
      "source": [
        "But were we to try $u=x\\log(x)$, we'd see that this simplifies to $\\int \\sqrt{1 + u^2} du$, which has some hope of having an antiderivative.\n\nWe can help `SymPy` out by substitution:"
      ],
      "metadata": {}
    },
    {
      "outputs": [],
      "cell_type": "code",
      "source": [
        "u(x) = x * log(x)\n@vars w dw\nex = f(x)\nex = ex(u(x) => w, diff(u(x),x) => dw)"
      ],
      "metadata": {},
      "execution_count": null
    },
    {
      "cell_type": "markdown",
      "source": [
        "This verifies the above. Can it be integrated in `w`? The \"`dw`\" is only for familiarity, `SymPy` doesn't use this, so we set it to 1 then integrate:"
      ],
      "metadata": {}
    },
    {
      "outputs": [],
      "cell_type": "code",
      "source": [
        "ex = ex(dw => 1)\nex1 = integrate(ex, w)"
      ],
      "metadata": {},
      "execution_count": null
    },
    {
      "cell_type": "markdown",
      "source": [
        "Finally, we put back in the `u(x)` to get an antiderivative."
      ],
      "metadata": {}
    },
    {
      "outputs": [],
      "cell_type": "code",
      "source": [
        "ex1(w => u(x))"
      ],
      "metadata": {},
      "execution_count": null
    },
    {
      "outputs": [],
      "cell_type": "code",
      "source": [
        "note(\"\"\"\nLest it be thought this is an issue with `SymPy`, but not other\nsystems, this example was [borrowed](http://faculty.uml.edu/jpropp/142/Integration.pdf) from an\nillustration for helping Mathematica.\n\"\"\")"
      ],
      "metadata": {},
      "execution_count": null
    },
    {
      "cell_type": "markdown",
      "source": [
        "## Trigonometric substitution\n\nWait, in the last example an antiderivative for $\\sqrt{1 + u^2}$ was found. But how? We haven't discussed this yet.\n\n\nThis can be found using *trigonometric* substitution. In this example,\nwe know that $1 + \\tan(\\theta)^2$ simplifies to $\\sec(\\theta)^2$, so\nwe might *try* a substitution of $\\tan(u)=x$. This would simplify\n$\\sqrt{1 + x^2}$ to $\\sqrt{1 + \\tan(u)^2} = \\sqrt{\\sec(u)^2}$ which is\n$\\lvert \\sec(u) \\rvert$. What of $du$? The chain rule gives\n$\\sec(u)^2du = dx$. In short we get:\n\n$$~\n\\int \\sqrt{1 + x^2} dx = \\int \\sec(u)^2 \\lvert \\sec(u) \\rvert du = \\int \\sec(u)^3 du\n~$$\n\n\nThis leaves still the question of integrating $\\sec(u)^3$, which we aren't (yet) prepared to discuss, but we see that this type of substitution can re-express an integral in a new way that may pay off.\n\n##### Examples\n\nLet's see some examples where a trigonometric substitution is all that is needed.\n\nConsider $\\int 1/(1+x^2) dx$. This is an antiderivative of some function, but if that isn't observed, we might notice the $1+x^2$ and try to simplify that. First, an attempt at a $u$-substitution:\n\n\nLetting $u = 1+x^2$ we get $du = 2xdx$ which gives $\\int 1/u (2x) du$. We aren't able to address the \"$2x$\" part successfully, so this attempt is for naught.\n\n\nNow we try the trigonometric substitution taking advantage of $1+\\tan(x)^2 = \\sec(x)^2$. Letting $\\tan(u) = x$ yields $\\sec(u)^2 du = dx$ and we get:\n\n$$~\n\\int \\frac{1}{1+x^2} dx = \\int \\frac{1}{1 + \\tan(u)^2} \\sec(u)^2 du = \\int 1 du = u.\n~$$\n\nBut $\\tan(u) = x$, so in terms of $x$, an antiderivative is just $\\tan^{-1}(x)$, or the arctangent. Here we verify with `SymPy`:"
      ],
      "metadata": {}
    },
    {
      "outputs": [],
      "cell_type": "code",
      "source": [
        "integrate(1/(1+x^2), x)"
      ],
      "metadata": {},
      "execution_count": null
    },
    {
      "cell_type": "markdown",
      "source": [
        "----\n\nThe expression $1-x^2$ can be attacked by the substitution $\\sin(u) =x$ as then $1-x^2 = 1-\\cos(u)^2 = \\sin(u)^2$. Here we see this substitution being used successfully:\n\n$$~\n\\int \\frac{1}{\\sqrt{9 - x^2}} dx = \\int \\frac{1}{\\sqrt{9 - (3\\sin(u))^2}} \\cdot 3\\cos(u) du =\n\\int \\frac{1}{3\\sqrt{1 - \\sin(u)^2}}\\cdot3\\cos(u) du = \\int du = u = \\sin^{-1}(x/3).\n~$$\n\n\n----\n\nThe expression $x^2 - 1$ is a bit different, this lends itself to $\\sec(u) = x$ for a substitution, for $\\sec(u)^2 - 1 = \\tan(u)^2$. For example, we try $\\sec(u) = x$ to integrate:\n\n$$~\n\\int \\frac{1}{\\sqrt{x^2 - 1}} dx = \\int \\frac{1}{\\sqrt{\\sec(u)^2 - 1}} \\cdot \\sec(u)\\tan(u) du =\n\\int \\frac{1}{\\tan(u)}\\sec(u)\\tan(u) du = \\int \\sec(u) du.\n~$$\n\n\nThis doesn't seem that helpful, but the antiderivative to $\\sec(u)$ is\n$\\log\\lvert (\\sec(u) + \\tan(u))\\rvert$, so we can proceed to get:\n\n$$~\n\\int \\frac{1}{\\sqrt{x^2 - 1}} dx = \\int \\sec(u) du = \\log\\lvert (\\sec(u) + \\tan(u))\\rvert = \\log\\lvert x + \\sqrt{x^2-1} \\rvert.\n~$$\n\n----\n\nThe equation of an ellipse is $x^2/a^2 + y^2/b^2 = 1$. Suppose $a,b>0$. The area under\nthe function $b \\sqrt{1 - x^2/a^2}$ between $-a$ and $a$\nwill then be half the area of the ellipse. Find the area enclosed by\nthe ellipse.\n\nWe need to compute:\n\n$$~\n2\\int_{-a}^a b \\sqrt{1 - x^2/a^2} dx =\n4 b \\int_0^a\\sqrt{1 - x^2/a^2} dx.\n~$$\n\nLetting $\\sin(u) = x/a$ gives $a\\cos(u)du = dx$ and an antiderivative is found with:\n\n$$~\n4 b \\int_0^a \\sqrt{1 - x^2/a^2} dx = 4b \\int_0^{\\pi/2} \\sqrt{1-u^2} a \\cos(u) du\n= 4ab \\int_0^{\\pi/2} \\cos(u)^2 du\n~$$\n\nThe identify $\\cos(u)^2 = (1 +  \\cos(2u))/2$ makes this tractable:\n\n$$~\n4ab \\int \\cos(u)^2 du\n= 4ab\\int_0^{\\pi/2}(\\frac{1}{2} + \\frac{\\cos(2u)}{2}) du\n= 4ab(\\frac{1}{2}u + \\frac{\\sin(2u)}{4})\\big|_0^{\\pi/2} =\n4ab (\\pi/4 + 0) = \\pi ab.\n~$$\n\nKeeping in mind that that a circle with radius $a$ is an ellipse with\n$b=a$, we see that this gives the correct answer for a circle.\n\n## Questions\n\n###### Question\n\nFor $\\int \\sin(x) \\cos(x) dx$, let $u=\\sin(x)$. What is the resulting substitution?"
      ],
      "metadata": {}
    },
    {
      "outputs": [],
      "cell_type": "code",
      "source": [
        "choices = [\nL\"\\int u du\",\nL\"\\int u (1 - u^2) du\",\nL\"\\int u \\cos(x) du\"\n]\nans = 1\nradioq(choices, ans)"
      ],
      "metadata": {},
      "execution_count": null
    },
    {
      "cell_type": "markdown",
      "source": [
        "###### Question\n\nFor $\\int \\tan(x)^4 \\sec(x)2 dx$ what $u$-substitution makes this easy?"
      ],
      "metadata": {}
    },
    {
      "outputs": [],
      "cell_type": "code",
      "source": [
        "choices = [\nL\"u=\\tan(x)\",\nL\"u=\\tan(x)^4\",\nL\"u=\\sec(x)\",\nL\"u=\\sec(x)^2\"\n]\nans = 1\nradioq(choices, ans)"
      ],
      "metadata": {},
      "execution_count": null
    },
    {
      "cell_type": "markdown",
      "source": [
        "###### Question\n\nFor $\\int x \\sqrt{x^2 - 1} dx$ what $u$ substitution makes this easy?"
      ],
      "metadata": {}
    },
    {
      "outputs": [],
      "cell_type": "code",
      "source": [
        "choices = [\nL\"u=x^2 - 1\",\nL\"u=x^2\",\nL\"u=\\sqrt{x^2 - 1}\",\nL\"u=x\"\n]\nans = 1\nradioq(choices, ans)"
      ],
      "metadata": {},
      "execution_count": null
    },
    {
      "cell_type": "markdown",
      "source": [
        "###### Question\n\nFor $\\int x^2(1-x)^2 dx$ will the substitution $u=1-x$ prove effective?"
      ],
      "metadata": {}
    },
    {
      "outputs": [],
      "cell_type": "code",
      "source": [
        "yesnoq(\"no\")"
      ],
      "metadata": {},
      "execution_count": null
    },
    {
      "cell_type": "markdown",
      "source": [
        "What about expanding the factored polynomial to get a fourth degree polynomial, will this prove effective?"
      ],
      "metadata": {}
    },
    {
      "outputs": [],
      "cell_type": "code",
      "source": [
        "yesnoq(\"yes\")"
      ],
      "metadata": {},
      "execution_count": null
    },
    {
      "cell_type": "markdown",
      "source": [
        "###### Question\n\nFor  $\\int (\\log(x))^3/x dx$ the substitution $u=\\log(x)$ reduces this to what?"
      ],
      "metadata": {}
    },
    {
      "outputs": [],
      "cell_type": "code",
      "source": [
        "choices = [\nL\"\\int u^3 du\",\nL\"\\int u du\",\nL\"\\int u^3/x du\"\n]\nans = 1\nradioq(choices, ans)"
      ],
      "metadata": {},
      "execution_count": null
    },
    {
      "cell_type": "markdown",
      "source": [
        "###### Question\n\nFor $\\int \\tan(x) dx$ what substitution will prove effective?"
      ],
      "metadata": {}
    },
    {
      "outputs": [],
      "cell_type": "code",
      "source": [
        "choices = [\nL\"u=\\cos(x)\",\nL\"u=\\sin(x)\",\nL\"u=\\tan(x)\"\n]\nans = 1\nradioq(choices, ans)"
      ],
      "metadata": {},
      "execution_count": null
    },
    {
      "cell_type": "markdown",
      "source": [
        "###### Question\n\nIntegrating $\\int_0^1 x \\sqrt{1 - x^2} dx$ can be done by using the $u$-substitution $u=1-x^2$. This yields an integral\n\n$$~\n\\int_a^b \\frac{-\\sqrt{u}}{2} du.\n~$$\n\nWhat are $a$ and $b$?"
      ],
      "metadata": {}
    },
    {
      "outputs": [],
      "cell_type": "code",
      "source": [
        "choices = [\nL\"a=0,~ b=1\",\nL\"a=1,~ b=0\",\nL\"a=0,~ b=0\",\nL\"a=1,~ b=1\"\n]\nans = 1\nradioq(choices, ans)"
      ],
      "metadata": {},
      "execution_count": null
    },
    {
      "cell_type": "markdown",
      "source": [
        "###### Question\n\nThe integral $\\int \\sqrt{1 - x^2} dx$ lends itself to what substitution?"
      ],
      "metadata": {}
    },
    {
      "outputs": [],
      "cell_type": "code",
      "source": [
        "choices = [\nL\"\\sin(u) = x\",\nL\"\\tan(u) = x\",\nL\"\\sec(u) = x\",\nL\"u = 1 - x^2\"\n]\nans = 1\nradioq(choices, ans)"
      ],
      "metadata": {},
      "execution_count": null
    },
    {
      "cell_type": "markdown",
      "source": [
        "###### Question\n\nThe integral $\\int x/(1+x^2) dx$ lends itself to what substitution?"
      ],
      "metadata": {}
    },
    {
      "outputs": [],
      "cell_type": "code",
      "source": [
        "choices = [\nL\"u = 1 + x^2\",\nL\"\\sin(u) = x\",\nL\"\\tan(u) = x\",\nL\"\\sec(u) = x\"\n]\nans = 1\nradioq(choices, ans)"
      ],
      "metadata": {},
      "execution_count": null
    },
    {
      "cell_type": "markdown",
      "source": [
        "###### Question\n\nThe integral $\\int dx / \\sqrt{1 - x^2}$ lends itself to what substitution?"
      ],
      "metadata": {}
    },
    {
      "outputs": [],
      "cell_type": "code",
      "source": [
        "choices = [\nL\"\\sin(u) = x\",\nL\"\\tan(u) = x\",\nL\"\\sec(u) = x\",\nL\"u = 1 - x^2\"\n]\nans = 1\nradioq(choices, ans)"
      ],
      "metadata": {},
      "execution_count": null
    },
    {
      "cell_type": "markdown",
      "source": [
        "###### Question\n\nThe integral $\\int dx / \\sqrt{x^2 - 16}$ lends itself to what substitution?"
      ],
      "metadata": {}
    },
    {
      "outputs": [],
      "cell_type": "code",
      "source": [
        "choices = [\nL\"4\\sec(u) = x\",\nL\"\\sec(u) = x\",\nL\"4\\sin(u) = x\",\nL\"\\sin(u) = x\"]\nans = 1\nradioq(choices, ans)"
      ],
      "metadata": {},
      "execution_count": null
    },
    {
      "cell_type": "markdown",
      "source": [
        "###### Question\n\nThe integral $\\int dx / (a^2 + x^2)$ lends itself to what substitution?"
      ],
      "metadata": {}
    },
    {
      "outputs": [],
      "cell_type": "code",
      "source": [
        "choices = [\nL\"\\tan(u) = x\",\nL\"\\tan(u) = x\",\nL\"a\\sec(u) = x\",\nL\"\\sec(u) = x\"]\nans = 1\nradioq(choices, ans)"
      ],
      "metadata": {},
      "execution_count": null
    },
    {
      "cell_type": "markdown",
      "source": [
        "###### Question\n\nThe integral $\\int_{1/2}^1 \\sqrt{1 - x^2}dx$ can be approached with the substitution $\\sin(u) = x$ giving:\n\n$$~\n\\int_a^b \\cos(u)^2 du.\n~$$\n\nWhat are $a$ and $b$?"
      ],
      "metadata": {}
    },
    {
      "outputs": [],
      "cell_type": "code",
      "source": [
        "choices =[\nL\"a=\\pi/6,~ b=\\pi/2\",\nL\"a=\\pi/4,~ b=\\pi/2\",\nL\"a=\\pi/3,~ b=\\pi/2\",\nL\"a=1/2,~ b= 1\"\n]\nans =1\nradioq(choices, ans)"
      ],
      "metadata": {},
      "execution_count": null
    },
    {
      "cell_type": "markdown",
      "source": [
        "###### Question\n\nHow would we verify that $\\log\\lvert (\\sec(u) + \\tan(u))\\rvert$ is an antiderivative for $\\sec(u)$?"
      ],
      "metadata": {}
    },
    {
      "outputs": [],
      "cell_type": "code",
      "source": [
        "choices = [\nL\"We could differentiate $\\sec(u)$.\",\nL\"We could differentiate $\\log\\lvert (\\sec(u) + \\tan(u))\\rvert$ \"]\nans = 2\nradioq(choices, ans)"
      ],
      "metadata": {},
      "execution_count": null
    }
  ],
  "nbformat_minor": 2,
  "metadata": {
    "language_info": {
      "file_extension": ".jl",
      "mimetype": "application/julia",
      "name": "julia",
      "version": "1.5.0"
    },
    "kernelspec": {
      "name": "julia-1.5",
      "display_name": "Julia 1.5.0",
      "language": "julia"
    }
  },
  "nbformat": 4
}
