{
  "cells": [
    {
      "cell_type": "markdown",
      "source": [
        "# Area under a curve"
      ],
      "metadata": {}
    },
    {
      "outputs": [],
      "cell_type": "code",
      "source": [
        "using CalculusWithJulia\nusing CalculusWithJulia.WeaveSupport\nusing Plots\nnothing"
      ],
      "metadata": {},
      "execution_count": null
    },
    {
      "cell_type": "markdown",
      "source": [
        "The question of area has long fascinated human culture. As children,\nwe learn early on the formulas for the areas of some geometric\nfigures: a square is $b^2$, a rectangle $b\\cdot h$ a triangle $1/2\n\\cdot b \\cdot h$ and for a circle, $\\pi r^2$. The area of a rectangle\nis often the intuitive basis for illustrating multiplication. The area of a triangle\nhas been known for ages. Even complicated expressions, such as\n[Heron's](http://tinyurl.com/mqm9z) formula which relates the area of\na triangle with measurements from its perimeter have been around for\n2000 years. The formula for the area of a circle is also quite\nold. Wikipedia dates it as far back as the\n[Rhind](http://en.wikipedia.org/wiki/Rhind_Mathematical_Papyrus)\npapyrus for 1700 BC, with the approximation of $256/81$ for $\\pi$.\n\n\nThe modern approach to area begins with a non-negative function $f(x)$\nover an interval $[a,b]$. The goal is to compute the area under the\ngraph. That is, the area between $f(x)$ and the $x$-axis between $a\n\\leq x \\leq b$.\n\n\nFor some functions, this area can be computed by geometry, for\nexample, here we see the area under $f(x)$ is just $1$, as it is a triangle with base $2$ and height $1$:"
      ],
      "metadata": {}
    },
    {
      "outputs": [],
      "cell_type": "code",
      "source": [
        "using CalculusWithJulia   # loads `QuadGK`, `Roots`, ...\nusing Plots\nf(x) = 1 - abs(x)\nplot([f, zero], -1, 1)"
      ],
      "metadata": {},
      "execution_count": null
    },
    {
      "cell_type": "markdown",
      "source": [
        "Similarly, we know this area is also $1$, it being a square:"
      ],
      "metadata": {}
    },
    {
      "outputs": [],
      "cell_type": "code",
      "source": [
        "f(x) = 1\nplot([f, zero], 0, 1)"
      ],
      "metadata": {},
      "execution_count": null
    },
    {
      "cell_type": "markdown",
      "source": [
        "This one, is simply $\\pi/2$, it being half a circle of radius $1$:"
      ],
      "metadata": {}
    },
    {
      "outputs": [],
      "cell_type": "code",
      "source": [
        "f(x) = sqrt(1 - x^2)\nplot([f, zero], -1, 1)"
      ],
      "metadata": {},
      "execution_count": null
    },
    {
      "cell_type": "markdown",
      "source": [
        "And this area can be broken into a sum of the area of square and the area of a rectangle, or $1 + 1/2$:"
      ],
      "metadata": {}
    },
    {
      "outputs": [],
      "cell_type": "code",
      "source": [
        "f(x) = x > 1 ? 2 - x : 1.0\nplot([f, zero], 0, 2)"
      ],
      "metadata": {},
      "execution_count": null
    },
    {
      "cell_type": "markdown",
      "source": [
        "But what of more complicated areas? Can these have their area computed?\n\n## Approximating areas\n\nIn a previous section, we saw this animation:"
      ],
      "metadata": {}
    },
    {
      "outputs": [],
      "cell_type": "code",
      "source": [
        "## {{{archimedes_parabola}}}\npyplot()\nfig_size = (600, 400)\n\n\nf(x) = x^2\ncolors = [:black, :blue, :orange, :red, :green, :orange, :purple]\n\n## Area of parabola\n\n## Area of parabola\nfunction make_triangle_graph(n)\n    title = \"Area of parabolic cup ...\"\n    n==1 && (title = \"Area = 1/2\")\n    n==2 && (title = \"Area = previous + 1/8\")\n    n==3 && (title = \"Area = previous + 2*(1/8)^2\")\n    n==4 && (title = \"Area = previous + 4*(1/8)^3\")\n    n==5 && (title = \"Area = previous + 8*(1/8)^4\")\n    n==6 && (title = \"Area = previous + 16*(1/8)^5\")\n    n==7 && (title = \"Area = previous + 32*(1/8)^6\")\n\n\n\n    plt = plot(f, 0, 1, legend=false, size = fig_size, linewidth=2)\n    annotate!(plt, [(0.05, 0.9, text(title,:left))])  # if in title, it grows funny with gr\n    n >= 1 && plot!(plt, [1,0,0,1, 0], [1,1,0,1,1], color=colors[1], linetype=:polygon, fill=colors[1], alpha=.2)\n    n == 1 && plot!(plt, [1,0,0,1, 0], [1,1,0,1,1], color=colors[1], linewidth=2)\n    for k in 2:n\n        xs = range(0, stop=1, length=1+2^(k-1))\n        ys = map(f, xs)\n        k < n && plot!(plt, xs, ys, linetype=:polygon, fill=:black, alpha=.2)\n        if k == n\n            plot!(plt, xs, ys, color=colors[k], linetype=:polygon, fill=:black, alpha=.2)\n            plot!(plt, xs, ys, color=:black, linewidth=2)\n        end\n    end\n    plt\nend\n\n\n\nn = 7\nanim = @animate for i=1:n\n    make_triangle_graph(i)\nend\n\nimgfile = tempname() * \".gif\"\ngif(anim, imgfile, fps = 1)\n\n\ncaption = L\"\"\"\nThe first triangle has area $1/2$, the second has area $1/8$, then $2$ have area $(1/8)^2$, $4$ have area $(1/8)^3$, ...\nWith some algebra, the total area then should be $1/2 \\cdot (1 + (1/4) + (1/4)^2 + \\cdots) = 2/3$.\n\"\"\"\n\nplotly()\nImageFile(imgfile, caption)"
      ],
      "metadata": {},
      "execution_count": null
    },
    {
      "cell_type": "markdown",
      "source": [
        "This illustrates a method of\n[Archimedes](http://en.wikipedia.org/wiki/The_Quadrature_of_the_Parabola)\nto compute the area contained in a parabola using the method of\nexhaustion. Archimedes leveraged a fact he discovered relating the\nareas of triangle inscribed with parabolic segments to create a sum\nthat could be computed.\n\nThe pursuit of computing areas persisted. The method of computing area\nby finding a square with an equivalent area was known as\n*quadrature*. Over the years, many figures had their area computed,\nfor example, the area under the graph of the\n[cycloid](http://en.wikipedia.org/wiki/Cycloid).\n\nHowever, as areas of geometric objects were replaced by the more\ngeneral question of area related to graphs of functions, a more\ngeneral study was called for.\n\nOne such approach is illustrated in this figure due to Beeckman from 1618\n(from\n[Bressoud](http://www.math.harvard.edu/~knill/teaching/math1a_2011/exhibits/bressoud/))"
      ],
      "metadata": {}
    },
    {
      "outputs": [],
      "cell_type": "code",
      "source": [
        "imgfile = \"figures/beeckman-1618.png\"\ncaption = L\"\"\"\n\nFigure of Beeckman (1618) showing a means to compute the area under a\ncurve, in this example the line connecting points $A$ and $B$. Using\napproximations by geometric figures with known area is the basis of\nRiemann sums.\n\n\"\"\"\nImageFile(imgfile, caption)"
      ],
      "metadata": {},
      "execution_count": null
    },
    {
      "cell_type": "markdown",
      "source": [
        "Beeckman actually did more than find the area. He generalized the\nrelationship of rate $\\times$ time $=$ distance. The line was interpreting a\nvelocity, the \"squares\", then, provided an approximate distance traveled\nwhen the velocity is taken as a constant on the small time\ninterval. Then the distance traveled can be approximated by a smaller\nquantity - just add the area of the rectangles squarely within the\ndesired area ($6+16+6$) - and a larger quantity - by including all\nrectangles that have a portion of their area within the desired area\n($10 + 16 + 10$). Beeckman argued that the error vanishes as the\nrectangles get smaller.\n\n\nAdding up the smaller \"squares\" can be a bit more efficient if we were\nto add all those in a row, or column at once. We would then add the\nareas of a smaller number of rectangles. For this curve, the two\napproaches are basically identical. For other curves, identifying\nwhich squares in a row would be added is much more complicated (though\nuseful), but for a curve generated by a function, identifying which\n\"squares\" go in a rectangle is quite easy, in fact we can see the\nrectangle's area will be a base given by that of the squares, and\nheight depending on the function.\n\n### Adding rectangles\n\nThe idea of the Riemann sum then is to approximate the area under the\ncurve by the area of well-chosen rectangles in such a way that as the\nbases of the rectangles get smaller (hence adding more rectangles) the\nerror in approximation vanishes.\n\nDefine a partition of $[a,b]$ to be a selection of points $a = x_0\n< x_1 < \\cdots < x_{n-1} < x_n = b$. The norm of the partition is the\nlargest of all the differences $\\lvert x_i - x_{i-1} \\rvert$. For a partition, consider an\narbitrary selection of points $c_i$ satisfying $x_{i-1} \\leq c_i \\leq\nx_{i}$, $1 \\leq i \\leq n$. Then the following is a **Riemann sum**:\n\n$$~\nS_n  = f(c_1) \\cdot (x_1 - x_0) + f(c_2) \\cdot (x_2 - x_1) + \\cdots + f(c_n) \\cdot (x_n - x_{n-1}).\n~$$\n\nClearly for a given partition and choice of $c_i$, the above can be\ncomputed. Each term $f(c_i)\\cdot(x_i-x_{i-1})$ can be visualized as\nthe area of a rectangle with base spanning from $x_{i-1}$ to $x_i$ and\nheight given by the function value at $c_i$. The following\n[image](http://en.wikipedia.org/wiki/Riemann_sum) from Wikipedia\nvisualizes Riemann sums for different values of $n$ in a way that\nmakes it plausible that as the number of rectangles gets larger, the\napproximate sum will get closer to the actual area.\n\n![Illustration of Riemann sums](http://tinyurl.com/pztbwgb)\n\n\nTo successfully compute a good approximation for the area, we\nwould need to choose $c_i$ and the partition so that a formula can be\nfound to express the dependence on the size of the partition.\n\nFor Archimedes' problem - finding the area under $f(x)=x^2$ between\n$0$ and $1$ -  if we take as a partition $x_i = i/n$ and $c_i = x_i$,\nthen the above sum becomes:\n\n$$~\n\\begin{align}\nS_n &= f(c_1) \\cdot (x_1 - x_0) + f(c_2) \\cdot (x_2 - x_1) + \\cdots + f(c_n) \\cdot (x_n - x_{n-1})\\\\\n&= (x_1)^2 \\cdot \\frac{1}{n} + (x_2)^2 \\cdot \\frac{1}{n} + \\cdot + (x_n)^2 \\cdot \\frac{1}{n}\\\\\n&= 1^2 \\cdot \\frac{1}{n^3}  + 2^2 \\cdot \\frac{1}{n^3} + \\cdots + n^2 \\cdot \\frac{1}{n^3}\\\\\n&= \\frac{1}{n^3} \\cdot (1^2 + 2^2 + \\cdots + n^2) \\\\\n&= \\frac{1}{n^3} \\cdot \\frac{n\\cdot(n-1)\\cdot(2n+1)}{6}.\n\\end{align}\n~$$\n\nThe latter uses a well-known formula for the sum of squares of the\nfirst $n$ natural numbers.\n\nWith this expression, it is readily seen that as $n$ gets large this value gets close to $2/6 = 1/3$."
      ],
      "metadata": {}
    },
    {
      "outputs": [],
      "cell_type": "code",
      "source": [
        "note(\"\"\"\n\nThe above approach, like Archimedes', ends with a limit being\ntaken. The answer comes from using a limit to add a big number of\nsmall values. As with all limit questions, worrying about whether a\nlimit exists is fundamental. For this problem, we will see that for\nthe general statement there is a stretching of the concept of a limit.\n\n\"\"\")"
      ],
      "metadata": {},
      "execution_count": null
    },
    {
      "outputs": [],
      "cell_type": "code",
      "source": [
        "note(L\"\"\"\n\nThere is a more compact notation to $x_1 + x_2 + \\cdots + x_n$, this using the *summation notation* or capital sigma. We have:\n\n$$~\n\\Sigma_{i = 1}^n x_i = x_1 + x_2 + \\cdots + x_n\n~$$\n\nThe notation includes three pieces of information:\n\n- The $\\Sigma$ is an indication of a sum\n\n- The ${i=1}$ and $n$ sub- and superscripts indicate the range to sum over.\n\n- The term $x_i$ is a general term describing the $i$th entry, where it is understood that $i$ is just some arbitrary indexing value.\n\nWith this notation, a Riemann sum can be written  as $\\Sigma_{i=1}^n f(c_i)(x_i-x_{i-1})$.\n\"\"\")"
      ],
      "metadata": {},
      "execution_count": null
    },
    {
      "cell_type": "markdown",
      "source": [
        "### Other sums\n\nThe choice of the $c_i$ will give different answers for the\napproximation, though for an integrable function these differences\nwill vanish in the limit. Some common choices are:\n\n* Using the right hand endpoint of the interval $[x_{i-1}, x_i]$ giving the right-Riemann sum.\n\n* The choice $c_i = x_{i-1}$ gives the left-Riemann sum.\n\n* The choice $c_i = (x_i + x_{i-1})/2$ is the midpoint rule.\n\n* If the function is continuous on the closed subinterval $[x_{i-1}, x_i]$, then it will take on its minimum and maximum values. By the extreme value theorem, we could take $c_i$ to correspond to either the maximum or the minimum. These choices give  the \"upper Riemann-sums\" and \"lower Riemann-sums\".\n\n\nThe choice of partition can also give different answers. A common\nchoice is to break the interval into $n+1$ equal-sized pieces. With\n$\\Delta = (b-a)/n$, these pieces become the arithmetic sequence $a =\na + 0 \\cdot \\Delta < a + 1 \\cdot \\Delta < a + 2 \\cdot \\Delta < \\cdots\na + n \\cdots < \\Delta = b$ with $x_i = a + i (b-a)/n$. (The\n`range(a, b, length=n+1)` command will compute these.) An alternate choice\nmade below for one problem is to use a geometric progression $a = a(1+\\alpha)^0 <\na(1+\\alpha)^1 < a (1+\\alpha)^2 < \\cdots < a (1+\\alpha)^n = b$. The\ngeneral statement allows for any partition such that the largest gap\ngets small.\n\n\nRiemann sums weren't named after Riemann because he was the first to\napproximate areas using rectangles. Indeed, others had been using even\nmore efficient ways to compute areas for  centuries prior to\nRiemann's work. Rather, Riemann put the definition of the area under\nthe curve on a firm theoretical footing with the following\ntheorem which gives a concrete notion of what functions\nare integrable:\n\n\n> **Riemann Integral**: A function $f$ is Riemann integrable over the\n> interval $[a,b]$ and its integral will have value $V$ provided for every\n> $\\epsilon > 0$ there exists a $\\delta > 0$ such that for any\n> partition $a =x_0 < x_1 < \\cdots < x_n=b$ with $\\lvert x_i - x_{i-1}\n> \\rvert < \\delta$ and for any choice of points $x_{i-1} \\leq c_i \\leq\n> x_{i}$ this is satisfied:\n>\n> $$~\n> \\lvert \\sum_{i=1}^n f(c_i)(x_{i} - x_{i-1}) - V \\rvert < \\epsilon.\n> ~$$\n>\n> When the integral exists, it is written $V = \\int_a^b f(x) dx$."
      ],
      "metadata": {}
    },
    {
      "outputs": [],
      "cell_type": "code",
      "source": [
        "note(L\"\"\"\n\nThe expression $V = \\int_a^b f(x) dx$ is known as the *definite\nintegral* of $f$ over $[a,b]$.\nMuch earlier than Riemann, Cauchy had defined the definite integral in terms of a sum of rectangular\nproducts beginning with $S=(x_1 - x_0) f(x_0) + (x_2 - x_1) f(x_1) +\n\\cdots + (x_n - x_{n-1}) f(x_{n-1})$ (the left Riemann sum). He showed\nthe limit was well defined for any continuous function. Riemann's\nformulation relaxes the choice of partition and the choice of the\n$c_i$ so that integrability can be better understood.\n\n\"\"\")"
      ],
      "metadata": {},
      "execution_count": null
    },
    {
      "cell_type": "markdown",
      "source": [
        "### Some immediate consequences\n\nThe following formulas are consequences when $f(x)$ is\nintegrable. These  mostly follow through a judicious rearranging of the\napproximating sums.\n\nThe area is $0$ when there is no width to the interval to integrate over:\n\n> $\\int_a^a f(x) dx = 0.$\n\n\nEven our definition of a partition doesn't really apply, as we assume\n$a < b$, but clearly if $a=x_0=x_n=b$ then our only\"approximating\" sum\ncould be $f(a)(b-a) = 0$.\n\n\nThe area under a constant function is found from the area of\nrectangle, a special case being $c=0$ yielding $0$ area:\n\n> $\\int_a^b c dx = c \\cdot (b-a).$\n\n\nFor any partition of $a < b$, we have\n$S_n = c(x_1 - x_0) + c(x_2 -x_1) + \\cdots + c(x_n - x_{n-1})$.\nBy factoring out the $c$, we have a\n*telescoping sum* which means the sum simplifies to $S_n = c(x_n-x_0)\n= c(b-a)$. Hence any limit must be this constant value.\n\n\nScaling the $y$ axis by a constant can be done before or after\ncomputing the area:\n\n> $\\int_a^b cf(x) dx = c \\int_a^b f(x) dx.$\n\n\nLet $a=x_0 < x_1 < \\cdots < x_n=b$ be any partition. Then we have\n$S_n= cf(c_1)(x_1-x_0) + \\cdots + cf(c_n)(x_n-x_0)$ $=$\n$c\\cdot\\left[ f(c_1)(x_1 - x_0) + \\cdots + f(c_n)(x_n - x_0)\\right]$. The\n\"limit\" of the left side is $\\int_a^b c f(x) dx$. The \"limit\" of the\nright side is $c \\cdot \\int_a^b f(x)$. We call this a \"sketch\" as a\nformal proof would show that for any $\\epsilon$ we could choose a\n$\\delta$ so that any partition with norm $\\delta$ will yield a sum\nless than $\\epsilon$. Here, then our \"any\" partition would be one for\nwhich the $\\delta$ on the left hand side applies. The computation\nshows that the same $\\delta$ would apply for the right hand side when\n$\\epsilon$ is the same.\n\n\nThe area is invariant under shifts left or right.\n\n> $\\int_a^b f(x - c) dx = \\int_{a-c}^{b-c} f(x) dx.$\n\nAny partition $a =x_0 < x_1 < \\cdots < x_n=b$ is related to a\npartition of $[a-c, b-c]$ through $a-c < x_0-c < x_1-c < \\cdots <\nx_n - c = b-c$. Let $d_i=c_i-c$ denote this partition, then we have:\n\n$$~\nf(c_1 -c) \\cdot (x_1 - x_0) + f(c_2 -c) \\cdot (x_2 - x_1)  + \\cdots + f(c_n -c) \\cdot (x_n - x_{n-1}) =\nf(d_1) \\cdot(x_1-c - (x_0-c)) + f(d_2) \\cdot(x_2-c - (x_1-c)) + \\cdots + f(d_n) \\cdot(x_n-c - (x_{n-1}-c)).\n~$$\n\nThe left side will have a limit of $\\int_a^b f(x-c) dx$ the right\nwould have a \"limit\" of $\\int_{a-c}^{b-c}f(x)dx$.\n\nSimilarly, reflections don't effect the area under the curve, they just require a new parameterization:\n\n$$~\n\\int_a^b f(x) dx = \\int_{-b}^{-a} f(-x) dx\n~$$\n\nThe area between $a$ and $b$ can be broken up into the sum of the area\nbetween $a$ and $c$ and that between $c$ and $b$.\n\n> $\\int_a^b f(x) dx = \\int_a^c f(x) dx + \\int_c^b f(x) dx.$\n\n\nFor this, suppose we have a partition for both the integrals on the\nright hand side for a given $\\epsilon/2$ and $\\delta$. Combining these\ninto a partition of $[a,b]$ will mean $\\delta$ is still the norm. The\napproximating sum will combine to be no more than $\\epsilon/2 +\n\\epsilon/2$, so for a given $\\epsilon$, this $\\delta$ applies.\n\n\n\nThis is due to the area on the left and right of\n$0$ being equivalent.\n\nThe \"reversed\" area is the same, only accounted for with a minus sign.\n\n> $\\int_a^b f(x) dx = -\\int_b^a f(x) dx.$\n\nA consequence of the last few statements is:\n\n> If $f(x)$ is an even function, then $\\int_{-a}^a f(x) dx = 2\n> \\int_0^a f(x) dx$. If $f(x)$ is an odd function, then  $\\int_{-a}^a f(x) dx = 0$.\n\n\nIf $g$ bounds $f$ then the area under $g$ wil bound the area under\n $f$, in particular if $f(x)$ is non negative, so will the area under\n $f$ be non negative for any $a < b$. (This assumes that $g$ and $f$\n are integrable.)\n\n> If $0 \\leq f(x) \\leq g(x)$ then $\\int_a^b f(x) dx \\leq \\int_a^b g(x)\n> dx.$\n\nFor any partition of $[a,b]$ and choice of $c_i$, we have the\nterm-by-term bound $f(c_i)(x_i-x_{i-1}) \\leq g(c_i)(x_i-x_{i-1})$ So\nany sequence of partitions that converges to the limits will have this\ninequality maintained for the sum.\n\n\n\n### Some known integrals\n\nUsing the definition, we can compute a few definite integrals:\n\n* $\\int_a^b c dx = c \\cdot (b-a).$\n\n* $\\int_a^b x dx = (b^2/2 - a^2/2).$\n\n\nThis is just the area of a trapezoid with heights $a$ and $b$ and side\n  length $b-a$, or $1/2 \\cdot (b + a) \\cdot (b - a)$. The right sum\n  would be:\n\n\n$$~\n\\begin{align}\nS &= x_1 \\cdot (x_1 - x_0) + x_2 \\cdot (x_2 - x_1) + \\cdots x_n \\cdot (x_n - x_{n-1}) \\\\\n&= (a + 1\\frac{b-a}{n}) \\cdot \\frac{b-a}{n} + (a + 2\\frac{b-a}{n}) \\cdot \\frac{b-a}{n} + \\cdots  (a + n\\frac{b-a}{n}) \\cdot \\frac{b-a}{n}\\\\\n&= n \\cdot a \\cdot (\\frac{b-a}{n})  + (1 + 2 + \\cdots n) \\cdot (\\frac{b-a}{n})^2 \\\\\n&= n \\cdot a \\cdot (\\frac{b-a}{n})  + \\frac{n(n+1)}{2} \\cdot (\\frac{b-a}{n})^2 \\\\\n& \\rightarrow a \\cdot(b-a) + \\frac{(b-a)^2}{2} \\\\\n&= \\frac{b^2}{2} - \\frac{a^2}{2}.\n\\end{align}\n~$$\n\n\n* $\\int_a^b x^2 dx = (b^3/3 - a^3/3).$\n\nThis is similar to the Archimedes case with $a=0$ and $b=1$ shown above.\n\n* $\\int_a^b x^k dx = (b^{k+1}/(k+1) - a^{k+1}/(k+1)),\\quad k \\neq -1$.\n\nCauchy showed this using a *geometric series* for the partition, not the arithmetic series $x_i = a + i (b-a)/n$. The series defined by $1 + \\alpha = (b/a)^{1/n}$, then $x_i = a \\cdot (1 + \\alpha)^i$. Here the bases $x_{i+1} - x_i$ simplify to $x_i \\cdot \\alpha$ and $f(x_i) = (a\\cdot(1+\\alpha)^i)^k = a^k (1+\\alpha)^{ik}$, or $f(x_i)(x_{i+1}-x_i) = a^{k+1}\\alpha[(1+\\alpha)^{k+1}]^i$,\nso, using $u=(1+\\alpha)^{k+1}=(b/a)^{(k+1)/n}$, $f(x_i) \\cdot(x_{i+1} - x_i) = a^{k+1}\\alpha u^i$. This gives\n\n$$~\n\\begin{align}\nS &= a^{k+1}\\alpha u^0 + a^{k+1}\\alpha u^1 + \\cdots + a^{k+1}\\alpha u^{n-1}\n&= a^{k+1} \\cdot \\alpha \\cdot (u^0 + u^1 + \\cdot u^{n-1}) \\\\\n&= a^{k+1} \\cdot \\alpha \\cdot \\frac{u^n - 1}{u - 1}\\\\\n&= (b^{k+1} - a^{k+1}) \\cdot \\frac{\\alpha}{(1+\\alpha)^{k+1} - 1} \\\\\n&\\rightarrow \\frac{b^{k+1} - a^{k+1}}{k+1}.\n\\end{align}\n~$$\n\n\n* $\\int_a^b x^{-1} dx = \\log(b) - \\log(a), \\quad (0 < a < b).$\n\n\nAgain, Cauchy showed this using a geometric series. The expression $f(x_i) \\cdot(x_{i+1} - x_i)$ becomes just $\\alpha$. So the approximating sum becomes:\n\n$$~\nS = f(x_0)(x_1 - x_0) + f(x_1)(x_2 - x_1) + \\cdots + f(x_{n-1}) (x_n - x_{n-1}) = \\alpha + \\alpha + \\cdots \\alpha = n\\alpha.\n~$$\n\nBut, letting $x = 1/n$, the limit above is just the limit of\n\n$$~\n\\lim_{x \\rightarrow 0+} \\frac{(b/a)^x - 1}{x} = \\log(b/a) = \\log(b) - \\log(a).\n~$$\n\n(Using L'Hopital's rule to compute the limit.)\n\nCertainly other integrals could be computed with various tricks, but\nwe won't pursue this. There is another way to evaluate integrals using\nthe forthcoming Fundamental Theorem of Calculus.\n\n### Some other consequences\n\n* The definition is defined in terms of any partition with its norm\n  bounded by $\\delta$. If you know a function $f$ is Riemann\n  integrable, then it is enough to consider just a regular partition\n  $x_i = a + i \\cdot (b-a)/n$ when forming the sums, as was done above. It is just that\n  showing a limit for just this particular type of partition would not be\n  sufficient to prove Riemann integrability.\n\n* The choice of $c_i$ is arbitrary to allow for maximum\n  flexibility. The Darboux integrals use the maximum and minimum over\n  the subinterval. It is sufficient to prove integrability to show\n  that the limit exists with just these choices.\n\n* Most importantly,\n\n> A continuous function on $[a,b]$ is Riemann integrable on $[a,b]$.\n\nThe main idea behind this is that the difference between the maximum\nand minimum values over a partition gets small. That is if\n$[x_{i-1}, x_i]$ is like $1/n$ is length, then the difference between\nthe maximum of $f$ over this interval, $M$, and the minimum, $m$ over\nthis interval will go to zero as $n$ gets big. That $m$ and $M$ exists\nis due to the extreme value theorem, that this difference goes to $0$\nis a consequence of continuity. What is needed is that this value goes\nto $0$ at the same rate - no matter what interval is being discussed\n- is a consequence of a notion of uniform continuity, a concept\ndiscussed in advanced calculus, but which holds for continuous\nfunctions on closed intervals. Armed with this, the Riemann sum for a\ngeneral partition can be bounded by this difference times $b-a$, which\nwill go to zero. So the upper and lower Riemann sums will converge to\nthe same value.\n\n* A \"jump\", or discontinuity of the first kind, is a value $c$ in $[a,b]$ where $\\lim_{x \\rightarrow c+} f(x)$ and $\\lim_{x \\rightarrow c-}f(x)$ both exist, but are not equal. It is true that a function that is not continuous on $I=[a,b]$, but only has discontinuities of the first kind on $I$ will be Riemann integrable on $I$.\n\nFor example, the function $f(x) = 1$ for $x$ in $[0,1]$ and $0$\notherwise will be integrable, as it is continuous at all but two\npoints, $0$ and $1$, where it jumps.\n\n\n* Some functions can have infinitely many points of discontinuity and still be integrable. The example of $f(x) = 1/q$ when $x=p/q$ is rational, and $0$ otherwise is often used as an example.\n\n## Numeric integration\n\nThe Riemann sum approach gives a method to approximate the value of a\ndefinite integral. We just compute an approximating sum for a large\nvalue of $n$, so large that the limiting value and the approximating\nsum are close.\n\n\nTo see the mechanics, let's again return to Archimedes' problem and compute $\\int_0^1 x^2 dx$.\n\n\nLet us fix some values:"
      ],
      "metadata": {}
    },
    {
      "outputs": [],
      "cell_type": "code",
      "source": [
        "a, b = 0, 1\nf(x) = x^2"
      ],
      "metadata": {},
      "execution_count": null
    },
    {
      "cell_type": "markdown",
      "source": [
        "Then for a given $n$ we have some steps to do: create the partition,\nfind the $c_i$, multiply the pieces and add up. Here is one way to do all this:"
      ],
      "metadata": {}
    },
    {
      "outputs": [],
      "cell_type": "code",
      "source": [
        "n = 5\nxs = a:(b-a)/n:b       # also range(a, b, length=n)\ndeltas = diff(xs)      # forms x2-x1, x3-x2, ..., xn-xn-1\ncs = xs[1:end-1]       # finds left-hand end points. xs[2:end] would be right-hand ones."
      ],
      "metadata": {},
      "execution_count": null
    },
    {
      "cell_type": "markdown",
      "source": [
        "Now to multiply the values. We want to sum the product `f(cs[i]) * deltas[i]`, here is one way to do so:"
      ],
      "metadata": {}
    },
    {
      "outputs": [],
      "cell_type": "code",
      "source": [
        "sum(f(cs[i]) * deltas[i] for i in 1:length(deltas))"
      ],
      "metadata": {},
      "execution_count": null
    },
    {
      "cell_type": "markdown",
      "source": [
        "Our answer is not so close to the value of $1/3$, but what did we\nexpect - we only used $n=5$ intervals. Trying again with $50,000$ gives\nus:"
      ],
      "metadata": {}
    },
    {
      "outputs": [],
      "cell_type": "code",
      "source": [
        "a, b = 0, 1\nf(x) = x^2\nn = 50_000\nxs = a:(b-a)/n:b\ndeltas = diff(xs)\ncs = xs[1:end-1]\nsum(f(cs[i]) * deltas[i] for i in 1:length(deltas))"
      ],
      "metadata": {},
      "execution_count": null
    },
    {
      "cell_type": "markdown",
      "source": [
        "This value is about $10^{-5}$ off from the actual answer of $1/3$.\n\nWe should expect that larger values of $n$ will produce better\napproximate values, as long as numeric issues don't get involved.\n\n\nBefore continuing, we define a function to compute the Riemann sum for\nus with an extra argument to specifying one of three methods for\ncomputing $c_i$:"
      ],
      "metadata": {}
    },
    {
      "outputs": [],
      "cell_type": "code",
      "source": [
        "function riemann(f, a, b, n; method=\"left\")\n  xs = a:(b-a)/n:b\n  deltas = diff(xs)      # forms x2-x1, x3-x2, ..., xn-xn-1\n  if method == \"left\"\n    cs = xs[1:end-1]\n  elseif method == \"right\"\n    cs = xs[2:end]\n  else\n    cs = [(xs[i] + xs[i+1])/2 for i in 1:length(deltas)]\n  end\n  sum(f(cs[i]) * deltas[i] for i in 1:length(deltas))\nend"
      ],
      "metadata": {},
      "execution_count": null
    },
    {
      "cell_type": "markdown",
      "source": [
        "(This function is defined in `CalculusWithJulia`.)\n\nWith this, we can easily find an approximate answer. We wrote the\nfunction to use the familiar template `action(function,\narguments...)`, so we pass in a function and arguments to describe the\nproblem (`a`, `b`, and  `n` and, optionally, the `method`):"
      ],
      "metadata": {}
    },
    {
      "outputs": [],
      "cell_type": "code",
      "source": [
        "f(x) = exp(x)\nriemann(f, 0, 5, 10)   # S_10"
      ],
      "metadata": {},
      "execution_count": null
    },
    {
      "cell_type": "markdown",
      "source": [
        "Or with more values intervals in the partition"
      ],
      "metadata": {}
    },
    {
      "outputs": [],
      "cell_type": "code",
      "source": [
        "riemann(f, 0, 5, 50_000)"
      ],
      "metadata": {},
      "execution_count": null
    },
    {
      "cell_type": "markdown",
      "source": [
        "(The answer is $e^5 - e^0 = 147.4131591025766\\dots$, which shows that even $50,000$ partitions is not enough to guarantee many digits of accuracy.)\n\n\n## \"Negative\" area\n\n\nSo far, we have had the assumption that $f(x) \\geq 0$, as that allows\nus to define the concept of area. We can define the signed area\nbetween $f(x)$ and the $x$ axis through the definite integral:\n\n$$~\nA = \\int_a^b f(x) dx.\n~$$\n\nThe right hand side is defined whenever the Riemann limit exists and\nin that case we call $f(x)$ Riemann integrable. (The definition does\nnot suppose $f$ is non-negative.)\n\n\nSuppose $f(a) = f(b) = 0$ for $a < b$ and for all $a < x < b$ we have $f(x) < 0$. Then we can see easily from the geometry (or from the Riemann sum approximation) that\n\n$$~\n\\int_a^b f(x) dx = - \\int_a^b \\lvert f(x) \\rvert dx.\n~$$\n\nIf we think of the area below the $x$ axis as \"signed\" area carrying a minus sign, then the total area can be seen again as a sum, only this time some of the summands may be negative.\n\n##### Example\n\nConsider a function $f(x)$ defined through its piecewise linear graph:"
      ],
      "metadata": {}
    },
    {
      "outputs": [],
      "cell_type": "code",
      "source": [
        "f(x) = abs(x) > 2 ? 1.0 : abs(x) - 1.0\nplot([f, zero], -3,3)"
      ],
      "metadata": {},
      "execution_count": null
    },
    {
      "cell_type": "markdown",
      "source": [
        "* Compute $\\int_{-3}^{-1} f(x) dx$. The area comprised of a square of area $1$ and a triangle with area $1/2$, so should be $3/2$.\n\n* Compute $\\int_{-3}^{0} f(x) dx$. In addition to the above, there is a triangle with area $1/2$, but since the function is negative, this area is added in as $-1/2$. In total then we have $1 + 1/2 - 1/2 = 1$ for the answer.\n\n* Compute $\\int_{-3}^{1} f(x) dx$:\n\nWe could add the signed area over $[0,1]$ to the above, but instead see a square of area $1$, a triangle with area $1/2$ and a triangle with signed area $-1$. The total is then $1/2$.\n\n* Compute $\\int_{-3}^{3} f(x) dx$:\n\nWe could add the area, but let's use a symmetry trick. This is clearly\ntwice our second answer, or $2$. (This is because $f(x)$ is an even\nfunction, as we can tell from the graph.)\n\n##### Example\n\nSuppose $f(x)$ is an odd function, then $f(x) = - f(-x)$ for any\n$x$. So the signed area between $[-a,0]$ is related to the signed area\nbetween $[0,a]$ but of different sign. This gives $\\int_{-a}^a f(x) dx\n= 0$ for odd functions.\n\nAn immediate consequence would be $\\int_{-\\pi}^\\pi \\sin(x) = 0$, as would $\\int_{-a}^a x^k dx$ for any *odd* integer $k > 0$.\n\n##### Example\n\nNumerically estimate the definite integral $\\int_0^e x\\log(x) dx$. (We\nredefine the function to be $0$ at $0$, so it is continuous.)\n\nWe have to be a bit careful with the Riemann sum, as the left Riemann\nsum will have an issue at $0=x_0$ (`0*log(0)` returns `NaN` which will\npoison any subsequent arithmetic operations, so the value returned will\nbe `NaN` and not an approximate answer). We could define our function\nwith a check:"
      ],
      "metadata": {}
    },
    {
      "outputs": [],
      "cell_type": "code",
      "source": [
        "f(x) = x > 0 ? x * log(x) : 0.0"
      ],
      "metadata": {},
      "execution_count": null
    },
    {
      "cell_type": "markdown",
      "source": [
        "This is actually inefficient, as the check for the size of `x` will\nslow things down a bit. Since we will call this function 50,000 times, we\nwould like to avoid this, if we can. In this case just using the right\nsum will work:"
      ],
      "metadata": {}
    },
    {
      "outputs": [],
      "cell_type": "code",
      "source": [
        "f(x) = x * log(x)\nriemann(f, 0, 2, 50_000, method=\"right\")"
      ],
      "metadata": {},
      "execution_count": null
    },
    {
      "cell_type": "markdown",
      "source": [
        "##### Example\n\nLet $f(x) = \\sqrt{1 - x^2}$. The area under the curve between $-1$ and\n$1$ is $\\pi/2$. Using a Riemann sum with 4 equal subintervals and the\nmidpoint, estimate $\\pi$. How close are you?\n\n\nThe partition is $-1 < -1/2 < 0 < 1/2 < 1$. The midpoints are $-3/4,\n-1/4, 1/4, 3/4$. We thus have that $\\pi/2$ is approximately:"
      ],
      "metadata": {}
    },
    {
      "outputs": [],
      "cell_type": "code",
      "source": [
        "xs = range(-1, 1, length=5)\ndeltas = diff(xs)\ncs = [-3/4, -1/4, 1/4, 3/4]\nf(x) = sqrt(1 - x^2)\na = sum(f(c)*delta for (c,delta) in zip(cs, deltas))"
      ],
      "metadata": {},
      "execution_count": null
    },
    {
      "cell_type": "markdown",
      "source": [
        "(For variety, we used an alternate way to sum over two vectors.)\n\nSo $\\pi$ is about `2a`:"
      ],
      "metadata": {}
    },
    {
      "outputs": [],
      "cell_type": "code",
      "source": [
        "2a"
      ],
      "metadata": {},
      "execution_count": null
    },
    {
      "cell_type": "markdown",
      "source": [
        "##### Example\n\nWe have the well-known triangle\n[inequality](http://en.wikipedia.org/wiki/Triangle_inequality) which\nsays for an individual sum:\n$\\lvert a + b \\rvert \\leq \\lvert a \\rvert +\\lvert b \\rvert$.\nApplying this recursively to a partition with\n$a < b$ gives:\n\n\n$$~\n\\begin{align}\n\\lvert f(c_1)(x_1-x_0) + f(c_2)(x_2-x_1) + \\cdots + f(c_n) (x_n-x_1) \\rvert\n& \\leq\n\\lvert f(c_1)(x_1-x_0) \\rvert + \\lvert f(c_2)(x_2-x_1)\\rvert + \\cdots +\\lvert f(c_n) (x_n-x_1) \\rvert \\\\\n&= \\lvert f(c_1)\\rvert (x_1-x_0) + \\lvert f(c_2)\\rvert (x_2-x_1)+ \\cdots +\\lvert f(c_n) \\rvert(x_n-x_1).\n\\end{align}\n~$$\n\nThis suggests that the following inequality holds for integrals:\n\n> $$~ \\lvert \\int_a^b f(x) dx \\rvert \\leq \\int_a^b \\lvert f(x) \\rvert dx.~$$\n\nThis can be used to give bounds on the size of an integral. For example, suppose you know that $f(x)$ is continuous on $[a,b]$ and takes its maximum value of $M$ and minimum value of $m$. Letting $K$ be the larger of $\\lvert M\\rvert$ and $\\lvert m \\rvert$, gives this bound when $a < b$:\n\n$$~\n\\lvert\\int_a^b f(x) dx \\rvert \\leq \\int_a^b \\lvert f(x) \\rvert dx \\leq \\int_a^b K dx = K(b-a).\n~$$\n\nWhile such bounds are disappointing, often, when looking for specific\nvalues, they are very useful when establishing general truths, such as\nis done with proofs.\n\n## Error estimate\n\nThe Riemann sum above is actually extremely inefficient. To see how much, we\ncan derive an estimate for the error in approximating the value using\nan arithmetic progression as the partition. Let's assume that our\nfunction $f(x)$ is increasing, so that the right sum gives an upper\nestimate and the left sum a lower estimate, so the error in the\nestimate will be between these two values:\n\n$$~\n\\begin{align}\n\\text{error} &\\leq\n\\left[\nf(x_1) \\cdot (x_{1} - x_0)  + f(x_2) \\cdot  (x_{2} - x_1) + \\cdots + f(x_{n-1})(x_{n-1} - x_n) + f(x_n) \\cdot (x_n - x_{n-1})\\right] -\n\\left[f(x_0) \\cdot (x_{1} - x_0)  + f(x_1) \\cdot  (x_{2} - x_1) + \\cdots + f(x_{n-1})(x_{n-1} - x_n)\\right] \\\\\n&= \\frac{b-a}{n} \\cdot (\\left[f(x_1) + f(x_2) + \\cdots f(x_n)\\right] - \\left[f(x_0) + \\cdots f(x_{n-1})\\right]) \\\\\n&= \\frac{b-a}{n} \\cdot (f(b) - f(a)).\n\\end{align}\n~$$\n\nWe see the error goes to $0$ at a rate of $1/n$ with the constant\ndepending on $b-a$ and the function $f$. In general, a similar bound\nholds when $f$ is not monotonic.\n\nThere are other ways to approximate the integral that use fewer points\nin the partition. [Simpson's](http://tinyurl.com/7b9pmu) rule is one,\nwhere instead of approximating the area with rectangles that go\nthrough some $c_i$ in $[x_{i-1}, x_i]$ instead the function is\napproximated by the quadratic polynomial going through $x_{i-1}$,\n$(x_i + x_{i-1})/2$, and $x_i$ and the exact area under that\npolynomial is used in the approximation. The explicit formula is:\n\n$$~\nA \\approx \\frac{b-a}{3n} (f(x_0) + 4 f(x_1) + 2f(x_2) + 4f(x_3) + \\cdots + 2f(x_{n-2}) + 4f(x_{n-1}) + f(x_n)).\n~$$\n\nThe error in this approximation can be shown to be\n\n$$~\n\\text{error} \\leq \\frac{(b-a)^5}{180n^4} \\text{max}_{\\xi \\text{ in } [a,b]} \\lvert f^{(4)}(\\xi) \\rvert.\n~$$\n\nThat is, the error is like $1/n^4$ with constants depending on the\nlength of the interval, $(b-a)^5$, and the maximum value of the fourth\nderivative over $[a,b]$. This is significant, the error in $10$ steps\nof Simpson's rule is on the scale of the error of $10,000$ steps of\nthe Riemann sum for well-behaved functions."
      ],
      "metadata": {}
    },
    {
      "outputs": [],
      "cell_type": "code",
      "source": [
        "note(L\"\"\"\n\nThe Wikipedia article mentions that Kepler used a similar formula $100$\nyears prior to Simpson, or about $200$ years before Riemann published\nhis work. Again, the value in Riemann's work is not the computation of\nthe answer, but the framework it provides in determining if a function\nis Riemann integrable or not.\n\n\"\"\")"
      ],
      "metadata": {},
      "execution_count": null
    },
    {
      "cell_type": "markdown",
      "source": [
        "## Gauss quadrature\n\nThe formula for Simpson's rule was the *composite* formula. If just a single rectangle is approximated over $[a,b]$ by a parabola interpolating the points $x_1=a$, $x_2=(a+b)/2$, and $x_3=b$, the formula is:\n\n$$~\n\\frac{b-a}{6}(f(x_1) + 4f(x_2) + f(x_3)).\n~$$\n\nThis formula will actually be exact for any 3rd degree polynomial. In\nfact an entire family of similar approximations using $n$ points can\nbe made exact for any polynomial of degree $n-1$ or lower. But with\nnon-evenly spaced points, even better results can be found.\n\n\n\nThe formulas for an approximation to the integral $\\int_{-1}^1 f(x)\ndx$ discussed so far can be written as:\n\n$$~\nS = w_1 f(x_1) + w_2 f(x_2) + \\cdots + w_n f(x_n).\n~$$\n\nThe $w$s are \"weights\" and the $x$s are nodes. A\n[Gaussian](http://en.wikipedia.org/wiki/Gaussian_quadrature)\n*quadrature rule* is a set of weights and nodes for $i=1, \\dots n$ for\nwhich the sum is *exact* for any $f$ which is a polynomial of degree\n$2n-1$ or less. Such choices then also approximate well the integrals of\nfunctions which are not polynomials of degree $2n-1$, provided $f$ can\nbe well approximated by a polynomial over $[-1,1]$. (Which is the case\nfor the \"nice\" functions we encounter.) Some examples are given in the questions.\n\n### The quadgk function\n\nIn `Julia` a modification of the Gauss quadrature rule is implemented\nin the `quadgk` function (from the `QuadGK` package) to give numeric approximations to\nintegrals.\n`QuadGK` is loaded when `CalculusWithJulia` is loaded.\nThe `quadgk` function also has the familiar interface\n`action(function, arguments...)`. Unlike our `riemann` function, there\nis no `n` specified, as the number of steps is *adaptively*\ndetermined. (There is more partitioning occurring where the function\nis changing rapidly.) Instead, the algorithm outputs an estimate on\nthe possible error along with the answer. Instead of $n$, some\ntrickier problems require a specification of an error threshold.\n\n\nTo use the function, we have:"
      ],
      "metadata": {}
    },
    {
      "outputs": [],
      "cell_type": "code",
      "source": [
        "using QuadGK       # loaded with CalculusWithJulia\nf(x) = x * log(x)\nquadgk(f, 0, 2)"
      ],
      "metadata": {},
      "execution_count": null
    },
    {
      "cell_type": "markdown",
      "source": [
        "As mentioned, there are two values returned: an approximate answer,\nand an error estimate. In this example we see that the value of\n$0.3862943610307017$ is accurate to within $10^{-9}$.  (The actual\nanswer is $-1 + 2\\cdot \\log(2)$ and the error is only $10^{-11}$. The\nreported error is an upper bound, and may be conservative, as with\nthis problem.)  Our previous answer using $50,000$ right-Riemann sums\nwas $0.38632208884775737$ and is only accurate to $10^{-5}$. By\ncontrast, this method uses just $256$ function evaluations in the above\nproblem.\n\n\n\nThe method should be exact for polynomial functions:"
      ],
      "metadata": {}
    },
    {
      "outputs": [],
      "cell_type": "code",
      "source": [
        "f(x) = x^5 - x + 1\nquadgk(f, -2, 2)"
      ],
      "metadata": {},
      "execution_count": null
    },
    {
      "cell_type": "markdown",
      "source": [
        "The error term is $0$, answer is $4$ up to the last unit of precision\n(1 ulp), so any error is only in floating point approximations.\n\n\n\nFor the numeric computation of definite integrals, the `quadgk`\nfunction should be used over the Riemann sums or even Simpson's rule.\n\nHere are some sample integrals computed with `quadgk`:\n\n- $\\int_0^\\pi \\sin(x) dx$"
      ],
      "metadata": {}
    },
    {
      "outputs": [],
      "cell_type": "code",
      "source": [
        "quadgk(sin, 0, pi)"
      ],
      "metadata": {},
      "execution_count": null
    },
    {
      "cell_type": "markdown",
      "source": [
        "(Again, the actual answer is off only in the last digit, the error estimate is an upper bound.)\n\n- $\\int_0^2 x^x dx$"
      ],
      "metadata": {}
    },
    {
      "outputs": [],
      "cell_type": "code",
      "source": [
        "f(x) = x^x\nquadgk(f, 0, 2)"
      ],
      "metadata": {},
      "execution_count": null
    },
    {
      "cell_type": "markdown",
      "source": [
        "- $\\int_0^5 e^x dx$"
      ],
      "metadata": {}
    },
    {
      "outputs": [],
      "cell_type": "code",
      "source": [
        "quadgk(exp, 0, 5)"
      ],
      "metadata": {},
      "execution_count": null
    },
    {
      "cell_type": "markdown",
      "source": [
        "When composing the answer with other functions it may be desirable to\ndrop the error in the answer. Two styles can be used for this. The\nfirst is to just name the two returned values:"
      ],
      "metadata": {}
    },
    {
      "outputs": [],
      "cell_type": "code",
      "source": [
        "A, err = quadgk(cos, 0, pi/4)\nA"
      ],
      "metadata": {},
      "execution_count": null
    },
    {
      "cell_type": "markdown",
      "source": [
        "The second is to ask for just the first component of the returned value:"
      ],
      "metadata": {}
    },
    {
      "outputs": [],
      "cell_type": "code",
      "source": [
        "A = quadgk(tan, 0, pi/4)[1]"
      ],
      "metadata": {},
      "execution_count": null
    },
    {
      "cell_type": "markdown",
      "source": [
        "##### Example\n\nIn probability theory, a *univariate density* is a function, $f(x)$\nsuch that $f(x) \\geq 0$ and $\\int_a^b f(x) dx = 1$, where $a$ and $b$\nare the range of the distribution. The\n[Von Mises](http://en.wikipedia.org/wiki/Von_Mises_distribution)\ndistribution, takes the form\n\n$$~\nf(x) = C \\cdot \\exp(\\cos(x)), \\quad -\\pi \\leq x \\leq \\pi\n~$$\n\nCompute $C$ (numerically).\n\nThe fact that $1 = \\int_{-\\pi}^\\pi C \\cdot \\exp(\\cos(x)) dx = C \\int_{-\\pi}^\\pi \\exp(\\cos(x)) dx$ implies that $C$ is the reciprocal of"
      ],
      "metadata": {}
    },
    {
      "outputs": [],
      "cell_type": "code",
      "source": [
        "f(x) = exp(cos(x))\nA,err = quadgk(f, -pi, pi)"
      ],
      "metadata": {},
      "execution_count": null
    },
    {
      "cell_type": "markdown",
      "source": [
        "So"
      ],
      "metadata": {}
    },
    {
      "outputs": [],
      "cell_type": "code",
      "source": [
        "C = 1/A\nf(x) = C * exp(cos(x))"
      ],
      "metadata": {},
      "execution_count": null
    },
    {
      "cell_type": "markdown",
      "source": [
        "The *cumulative distribution function* for $f(x)$ is $F(x) =\n\\int_{-\\pi}^x f(u) du$, $-\\pi \\leq x \\leq \\pi$. We just showed that $F(\\pi) = 1$ and it is\ntrivial that $F(-\\pi) = 0$. The quantiles of the distribution are the\nvalues $q_1$, $q_2$, and $q_3$ for which $F(q_i) = i/4$. Can we find\nthese?\n\nFirst we define a function, that computes $F(x)$:"
      ],
      "metadata": {}
    },
    {
      "outputs": [],
      "cell_type": "code",
      "source": [
        "F(x) = quadgk(f, -pi, x)[1]"
      ],
      "metadata": {},
      "execution_count": null
    },
    {
      "cell_type": "markdown",
      "source": [
        "(The trailing `[1]` is so only the answer - and not the error - is returned.)\n\nThe question asks us to solve $F(x) = 0.25$, $F(x) = 0.5$ and $F(x)\n= 0.75$. The `Roots` package (loaded with `CalculusWithJulia`) can be used for such work, in particular\n`find_zero`. We will use a bracketing method, as clearly $F(x)$ is\nincreasing, as $f(u)$ is positive, so we can just bracket our answer\nwith $-\\pi$ and $\\pi$. (We solve $F(x) - p = 0$, so $F(\\pi) - p > 0$ and $F(-\\pi)-p < 0$.). The only trick below is the use of an anonymous\nfunction to write the function $h(x) = F(x) - p$ for $p$ taking one of\nthree values:"
      ],
      "metadata": {}
    },
    {
      "outputs": [],
      "cell_type": "code",
      "source": [
        "using Roots     # loaded with `CalculusWithJulia`\n[find_zero(x -> F(x) - p, (-pi, pi)) for p in [0.25, 0.5, 0.75]]"
      ],
      "metadata": {},
      "execution_count": null
    },
    {
      "cell_type": "markdown",
      "source": [
        "The middle one is clearly $0$. This distribution is symmetric about\n$0$, so half the area is to the right of $0$ and half to the left, so\nclearly when $p=0.5$, $x$ is $0$. The other two show that the area to\nthe left of $-0.809767$ is equal to the area to the right of\n$0.809767$ and equal to $0.25$.\n\n## Questions\n\n###### Question\n\nUsing geometry, compute the definite integral:\n\n$$~\n\\int_{-5}^5 \\sqrt{5^2 - x^2} dx.\n~$$"
      ],
      "metadata": {}
    },
    {
      "outputs": [],
      "cell_type": "code",
      "source": [
        "f(x) = sqrt(5^2 - x^2)\nval, _ = quadgk(f, -5,5)\nnumericq(val)"
      ],
      "metadata": {},
      "execution_count": null
    },
    {
      "cell_type": "markdown",
      "source": [
        "###### Question\n\n\nUsing geometry, compute the definite integral:\n\n$$~\n\\int_{-2}^2 (2 - \\lvert x\\rvert) dx\n~$$"
      ],
      "metadata": {}
    },
    {
      "outputs": [],
      "cell_type": "code",
      "source": [
        "f(x) = 2- abs(x)\na,b = -2, 2\nval, _ = quadgk(f, a,b)\nnumericq(val)"
      ],
      "metadata": {},
      "execution_count": null
    },
    {
      "cell_type": "markdown",
      "source": [
        "###### Question\n\n\nUsing geometry, compute the definite integral:\n\n$$~\n\\int_0^3 3 dx + \\int_3^9 (3 + 3(x-3)) dx\n~$$"
      ],
      "metadata": {}
    },
    {
      "outputs": [],
      "cell_type": "code",
      "source": [
        "f(x) = x <= 3 ? 3.0 : 3 + 3*(x-3)\na,b = 0, 9\nval, _ = quadgk(f, a, b)\nnumericq(val)"
      ],
      "metadata": {},
      "execution_count": null
    },
    {
      "cell_type": "markdown",
      "source": [
        "###### Question\n\n\nUsing geometry, compute the definite integral:\n\n$$~\n\\int_0^5 \\lfloor x \\rfloor dx\n~$$\n\n(The notation $\\lfloor x \\rfloor$ is the integer such that $\\lfloor x \\rfloor \\leq x < \\lfloor x \\rfloor + 1$.)"
      ],
      "metadata": {}
    },
    {
      "outputs": [],
      "cell_type": "code",
      "source": [
        "f(x) = floor(x)\na, b = 0, 5\nval, _ = quadgk(f, a, b)\nnumericq(val)"
      ],
      "metadata": {},
      "execution_count": null
    },
    {
      "cell_type": "markdown",
      "source": [
        "###### Question\n\n\nUsing geometry, compute the definite integral between $-3$ and $3$ of this graph comprised of lines and circular arcs:"
      ],
      "metadata": {}
    },
    {
      "outputs": [],
      "cell_type": "code",
      "source": [
        "function f(x)\n  if x < -1\n    abs(x+1)\n  elseif -1 <= x <= 1\n    sqrt(1 - x^2)\n  else\n    abs(x-1)\n  end\nend\nplot(f, -3, 3, aspect_ratio=:equal)"
      ],
      "metadata": {},
      "execution_count": null
    },
    {
      "cell_type": "markdown",
      "source": [
        "The value is:"
      ],
      "metadata": {}
    },
    {
      "outputs": [],
      "cell_type": "code",
      "source": [
        "val = (1/2 * 2 * 2) * 2 + pi*1^2/2\nnumericq(val)"
      ],
      "metadata": {},
      "execution_count": null
    },
    {
      "cell_type": "markdown",
      "source": [
        "###### Question\n\nFor the function $f(x) = \\sin(\\pi x)$, estimate the integral for $-1$\nto $1$ using a left-Riemann sum with the partition $-1 < -1/2 < 0 < 1/2\n< 1$."
      ],
      "metadata": {}
    },
    {
      "outputs": [],
      "cell_type": "code",
      "source": [
        "f(x) = sin(x)\nxs = -1:1/2:1\ndeltas = diff(xs)\nval = sum(map(f, xs[1:end-1]) .* deltas)\nnumericq(val)"
      ],
      "metadata": {},
      "execution_count": null
    },
    {
      "cell_type": "markdown",
      "source": [
        "###### Question\n\nWithout doing any *real* work, find this integral:\n\n$$~\n\\int_{-\\pi/4}^{\\pi/4} \\tan(x) dx.\n~$$"
      ],
      "metadata": {}
    },
    {
      "outputs": [],
      "cell_type": "code",
      "source": [
        "val = 0\nnumericq(val)"
      ],
      "metadata": {},
      "execution_count": null
    },
    {
      "cell_type": "markdown",
      "source": [
        "###### Question\n\nWithout doing any *real* work, find this integral:\n\n$$~\n\\int_3^5 (1 - \\lvert x-4 \\rvert) dx\n~$$"
      ],
      "metadata": {}
    },
    {
      "outputs": [],
      "cell_type": "code",
      "source": [
        "val = 1\nnumericq(val)"
      ],
      "metadata": {},
      "execution_count": null
    },
    {
      "cell_type": "markdown",
      "source": [
        "###### Question\n\nSuppose you know that for the integrable function\n$\\int_a^b f(u)du =1$ and $\\int_a^c f(u)du = p$. If $a < c < b$ what is\n$\\int_c^b f(u)du$?"
      ],
      "metadata": {}
    },
    {
      "outputs": [],
      "cell_type": "code",
      "source": [
        "choices = [\nL\"1\",\nL\"p\",\nL\"1-p\",\nL\"p^2\"]\n ans = 3\nradioq(choices, ans)"
      ],
      "metadata": {},
      "execution_count": null
    },
    {
      "cell_type": "markdown",
      "source": [
        "###### Question\n\nWhat is $\\int_0^2 x^4 dx$? Use the rule for integrating $x^n$."
      ],
      "metadata": {}
    },
    {
      "outputs": [],
      "cell_type": "code",
      "source": [
        "choices = [\nL\"2^5 - 0^5\",\nL\"2^5/5 - 0^5/5\",\nL\"2^4/4 - 0^4/4\",\nL\"3\\cdot 2^3 - 3 \\cdot 0^3\"]\nans = 2\nradioq(choices, ans)"
      ],
      "metadata": {},
      "execution_count": null
    },
    {
      "cell_type": "markdown",
      "source": [
        "###### Question\n\nSolve for a value of $x$ for which:\n\n$$~\n\\int_1^x \\frac{1}{u}du = 1.\n~$$"
      ],
      "metadata": {}
    },
    {
      "outputs": [],
      "cell_type": "code",
      "source": [
        "val = exp(1)\nnumericq(val)"
      ],
      "metadata": {},
      "execution_count": null
    },
    {
      "cell_type": "markdown",
      "source": [
        "###### Question\n\nSolve for a value of $n$ for which\n\n$$~\n\\int_0^1 x^n dx = \\frac{1}{12}.\n~$$"
      ],
      "metadata": {}
    },
    {
      "outputs": [],
      "cell_type": "code",
      "source": [
        "val = 11\nnumericq(val)"
      ],
      "metadata": {},
      "execution_count": null
    },
    {
      "cell_type": "markdown",
      "source": [
        "###### Question\n\nSuppose $f(x) > 0$ and $a < c < b$. Define $F(x) = \\int_a^x f(u) du$. What can be said about $F(b)$ and $F(c)$?"
      ],
      "metadata": {}
    },
    {
      "outputs": [],
      "cell_type": "code",
      "source": [
        "choices = [\nL\"The area between $c$ and $b$ must be positive, so $F(c) < F(b)$.\",\nL\"F(b) - F(c) = F(a).\",\nL\" $F(x)$ is continuous, so between $a$ and $b$ has an extreme value, which must be at $c$. So $F(c) \\geq F(b)$.\"\n]\nans = 1\nradioq(choices, ans)"
      ],
      "metadata": {},
      "execution_count": null
    },
    {
      "cell_type": "markdown",
      "source": [
        "###### Question\n\nFor the right Riemann sum approximating $\\int_0^{10} e^x dx$ with $n=100$ subintervals, what would  be a good estimate for the error?"
      ],
      "metadata": {}
    },
    {
      "outputs": [],
      "cell_type": "code",
      "source": [
        "choices = [\nL\"(10 - 0)/100 \\cdot (e^{10} - e^{0})\",\nL\"10/100\",\nL\"(10 - 0) \\cdot e^{10} / 100^4\"\n]\nans = 1\nradioq(choices, ans)"
      ],
      "metadata": {},
      "execution_count": null
    },
    {
      "cell_type": "markdown",
      "source": [
        "###### Question\n\nUse `quadgk` to find the following definite integral:\n\n$$~\n\\int_1^4 x^x dx   .\n~$$"
      ],
      "metadata": {}
    },
    {
      "outputs": [],
      "cell_type": "code",
      "source": [
        "f(x) = x^x\na, b = 1, 4\nval, _ = quadgk(f, a, b)\nnumericq(val)"
      ],
      "metadata": {},
      "execution_count": null
    },
    {
      "cell_type": "markdown",
      "source": [
        "###### Question\n\nUse `quadgk` to find the following definite integral:\n\n$$~\n\\int_0^3 e^{-x^2} dx   .\n~$$"
      ],
      "metadata": {}
    },
    {
      "outputs": [],
      "cell_type": "code",
      "source": [
        "f(x) = exp(-x^2)\na, b = 0, 3\nval, _ = quadgk(f, a, b)\nnumericq(val)"
      ],
      "metadata": {},
      "execution_count": null
    },
    {
      "cell_type": "markdown",
      "source": [
        "###### Question\n\nUse `quadgk` to find the following definite integral:\n\n$$~\n\\int_0^{9/10} \\tan(u \\frac{\\pi}{2}) du.   .\n~$$"
      ],
      "metadata": {}
    },
    {
      "outputs": [],
      "cell_type": "code",
      "source": [
        "f(x) = tan(x*pi/2)\na, b = 0, 9/10\nval, _ = quadgk(f, a, b)\nnumericq(val)"
      ],
      "metadata": {},
      "execution_count": null
    },
    {
      "cell_type": "markdown",
      "source": [
        "###### Question\n\nUse `quadgk` to find the following definite integral:\n\n$$~\n\\int_{-1/2}^{1/2} \\frac{1}{\\sqrt{1 - x^2}} dx\n~$$"
      ],
      "metadata": {}
    },
    {
      "outputs": [],
      "cell_type": "code",
      "source": [
        "f(x) = 1/sqrt(1 - x^2)\na, b =-1/2, 1/2\nval, _ = quadgk(f, a, b)\nnumericq(val)"
      ],
      "metadata": {},
      "execution_count": null
    },
    {
      "cell_type": "markdown",
      "source": [
        "###### Question\n\n\nGauss nodes for approximating the integral $\\int_{-1}^1 f(x) dx$ for $n=4$ are:"
      ],
      "metadata": {}
    },
    {
      "outputs": [],
      "cell_type": "code",
      "source": [
        "ns = [-0.861136, -0.339981, 0.339981, 0.861136]"
      ],
      "metadata": {},
      "execution_count": null
    },
    {
      "cell_type": "markdown",
      "source": [
        "The corresponding weights are"
      ],
      "metadata": {}
    },
    {
      "outputs": [],
      "cell_type": "code",
      "source": [
        "wts = [0.347855, 0.652145, 0.652145, 0.347855]"
      ],
      "metadata": {},
      "execution_count": null
    },
    {
      "cell_type": "markdown",
      "source": [
        "Use these to estimate the integral $\\int_{-1}^1 \\cos(\\pi/2 \\cdot x)dx$ with $w_1f(x_1) + w_2 f(x_2) + w_3 f(x_3) + w_4 f(x_4)$."
      ],
      "metadata": {}
    },
    {
      "outputs": [],
      "cell_type": "code",
      "source": [
        "f(x) = cos(pi/2*x)\nval = sum([f(wi)*ni for (wi, ni) in zip(wts, ns)])\nnumericq(val)"
      ],
      "metadata": {},
      "execution_count": null
    },
    {
      "cell_type": "markdown",
      "source": [
        "The actual answer is $4/\\pi$. How far off is the approximation based on 4 points?"
      ],
      "metadata": {}
    },
    {
      "outputs": [],
      "cell_type": "code",
      "source": [
        "choices = [\nL\"around $10^{-1}$\",\nL\"around $10^{-2}$\",\nL\"around $10^{-4}$\",\nL\"around $10^{-6}$\",\nL\"around $10^{-8}$\"]\nans = 4\nradioq(choices, ans, keep_order=true)"
      ],
      "metadata": {},
      "execution_count": null
    },
    {
      "cell_type": "markdown",
      "source": [
        "###### Question\n\nUsing the Gauss nodes and weights from the previous question, estimate the integral of $f(x) = e^x$ over $[-1, 1]$. The value is:"
      ],
      "metadata": {}
    },
    {
      "outputs": [],
      "cell_type": "code",
      "source": [
        "f(x) = exp(x)\nval = sum([f(wi)*ni for (wi, ni) in zip(wts, ns)])\nnumericq(val)"
      ],
      "metadata": {},
      "execution_count": null
    }
  ],
  "nbformat_minor": 2,
  "metadata": {
    "language_info": {
      "file_extension": ".jl",
      "mimetype": "application/julia",
      "name": "julia",
      "version": "1.5.0"
    },
    "kernelspec": {
      "name": "julia-1.5",
      "display_name": "Julia 1.5.0",
      "language": "julia"
    }
  },
  "nbformat": 4
}
