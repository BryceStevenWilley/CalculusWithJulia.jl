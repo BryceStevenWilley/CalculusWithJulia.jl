{
  "cells": [
    {
      "cell_type": "markdown",
      "source": [
        "# Bibliography, etc.\n\n(A work in progress...)\n\n## Historical Books\n\n* Oeuvres complètes d'Augustin Cauchy. Série 2, tome 4\nCalcul Diferentiel\n[link](http://gallica.bnf.fr/ark:/12148/bpt6k90196z/f16.image)\n\n*\nAnalyse des infiniment petits, pour l'intelligence des lignes courbes\nby L'Hospital, marquis de, 1661-1704\n\n[link](https://archive.org/details/infinimentpetits1716lhos00uoft)\n\n* Fermat on maxmin\nhttp://science.larouchepac.com/fermat/fermat-maxmin.pdf\n\n* Argobast (1800, primary book for a long time)\n\nhttp://books.google.com/books?id=YoPq8uCy5Y8C&printsec=frontcover&source=gbs_ge_summary_r&cad=0#v=onepage&q&f=false\n\n## Open source text books\n\nRefer to [open](http://danaernst.com/resources/free-and-open-source-textbooks/) source textbooks to find\n\n* Strang\nhttp://ocw.mit.edu/resources/res-18-001-calculus-online-textbook-spring-2005/textbook/\n\n* Oliver Knill teaching notes\nhttp://www.math.harvard.edu/~knill/teaching/summer2018/handouts.html\n\n* Open Stax\nhttps://math.libretexts.org/Bookshelves/Calculus/Book%3A_Calculus_(OpenStax)\n\n* David Guichard (also Neal Koblitz)\nhttp://www.whitman.edu/mathematics/calculus/\n\n* Marsden, Weinstein\nhttp://www.cds.caltech.edu/~marsden/volume/Calculus/\n\n\n* Joyner Differential Calculus with Sage based on Granville's text\nhttp://wdjoyner.com/teach/calc1-sage/\n\n*  Sage for undergraudate\nhttp://wdjoyner.com/teach/calc1-sage/\n\n* AI Math\nhttp://aimath.org/textbooks/approved-textbooks/\n\n\n## Articles\n\nhttp://www.ams.org/samplings/feature-column/fc-2012-02\n\nhttp://www.maa.org/external_archive/joma/Volume7/Aktumen/Polygon.html\n\n* Bressoud - FTC\nhttp://www.math.harvard.edu/~knill/teaching/math1a_2011/exhibits/bressoud/\n\n* [Katz](http://www.jstor.org/stable/2689856) and [Katz](https://www.jstor.org/stable/2690275)\n\n\n\n## Websites\n\n* Math insight https://mathinsight.org/ has many informative pages to peruse\n\n* http://www.math.wpi.edu/IQP/BVCalcHist/calc4.html#_Toc407004376\n\n* earliest uses of symbols in calculus\nhttp://jeff560.tripod.com/calculus.html\n\n* Famous curves index https://www-history.mcs.st-and.ac.uk/Curves/Curves.html. See also [Kokoska](https://elepa.files.wordpress.com/2013/11/fifty-famous-curves.pdf).\n\n## Videos\n\n* https://www.coursera.org/learn/calculus1\n\n* http://ocw.mit.edu/resources/res-18-005-highlights-of-calculus-spring-2010/\n\n* http://ocw.mit.edu/courses/mathematics/18-01sc-single-variable-calculus-fall-2010/\n\n* draining conical tank\nhttps://www.youtube.com/watch?v=2jQ1jA8uJuU\n\n* proof of trapezoid rule\nhttp://www.maa.org/sites/default/files/An_Elementary_Proof30705.pdf\n\n* Some notes on `Plots.jl`\nhttps://www.math.purdue.edu/~allen450/Plotting-Tutorial.html"
      ],
      "metadata": {}
    }
  ],
  "nbformat_minor": 2,
  "metadata": {
    "language_info": {
      "file_extension": ".jl",
      "mimetype": "application/julia",
      "name": "julia",
      "version": "1.5.0"
    },
    "kernelspec": {
      "name": "julia-1.5",
      "display_name": "Julia 1.5.0",
      "language": "julia"
    }
  },
  "nbformat": 4
}
