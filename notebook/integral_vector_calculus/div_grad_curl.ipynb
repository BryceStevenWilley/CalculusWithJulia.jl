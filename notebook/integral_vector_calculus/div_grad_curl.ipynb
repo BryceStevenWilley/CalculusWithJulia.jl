{
  "cells": [
    {
      "cell_type": "markdown",
      "source": [
        "# The Gradient, Divergence, and Curl"
      ],
      "metadata": {}
    },
    {
      "outputs": [],
      "cell_type": "code",
      "source": [
        "using CalculusWithJulia\nusing CalculusWithJulia.WeaveSupport\nusing Plots\nnothing"
      ],
      "metadata": {},
      "execution_count": null
    },
    {
      "cell_type": "markdown",
      "source": [
        "The gradient of a scalar function $f:R^n \\rightarrow R$ is a vector field of partial derivatives. In $R^2$, we have:\n\n$$~\n\\nabla{f} = \\langle \\frac{\\partial{f}}{\\partial{x}},\n\\frac{\\partial{f}}{\\partial{y}} \\rangle.\n~$$\n\nIt has the interpretation of pointing out the direction of greatest ascent for the surface $z=f(x,y)$.\n\nWe move now to two other operations, the divergence and the curl, which combine to give a language to describe vector fields in $R^3$."
      ],
      "metadata": {}
    },
    {
      "outputs": [],
      "cell_type": "code",
      "source": [
        "using CalculusWithJulia\nusing Plots"
      ],
      "metadata": {},
      "execution_count": null
    },
    {
      "cell_type": "markdown",
      "source": [
        "## The divergence\n\nLet $F:R^3 \\rightarrow R^3 = \\langle F_x, F_y, F_z\\rangle$  be a vector field. Consider now a small box-like region, $R$, with surface, $S$, on the cartesian grid, with sides of length $\\Delta x$, $\\Delta y$, and $\\Delta z$ with $(x,y,z)$ being one corner. The outward pointing unit normals are $\\pm \\hat{i}, \\pm\\hat{j},$ and $\\pm\\hat{k}$."
      ],
      "metadata": {}
    },
    {
      "outputs": [],
      "cell_type": "code",
      "source": [
        "pyplot()\nusing LaTeXStrings\n_bar(x) = sum(x)/length(x)\n_shrink(x, xbar, offset) = xbar .+ (1-offset/100)*(x .- xbar)\nfunction _poly!(plt::Plots.Plot, ps; offset=5, kwargs...)\n    push!(ps, first(ps))\n    xs, ys = unzip(ps)\n    xbar, ybar = _bar.((xs, ys))\n    xs, ys = _shrink.(xs, xbar, offset), _shrink.(ys, ybar, offset)\n\n    plot!(plt, xs, ys; kwargs...)\n#    xn = [xs[end],ys[end]]\n#    x0 = [xs[1], ys[1]]\n#    dxn = 0.95*(x0 - xn)\n\n#    plot!(plt, xn, dxn; kwargs...)\n\n    plt\nend\n_poly!(ps;offset=5,kwargs...) = _poly!(Plots.current(), ps; offset=offset, kwargs...)\n\ndx = .5\ndy = .250\noffset=5\np = plot(;ylim=(0-.2, 1+dy+.4), legend=false, aspect_ratio=:equal,xticks=nothing,yticks=nothing, border=:none)\nplot!(p, [dx,dx],[dy,1+dy-offset/100], linestyle=:dash)\nplot!(p, [0+offset/100,dx],[0+offset/100,dy], linestyle=:dash)\nplot!(p, [dx,1+dx-2offset/100],[dy,dy], linestyle=:dash)\n\nps = [[1,1], [0,1],[0,0],[1,0]]\n_poly!(ps, linewidth=3, color=:blue)\n\nps = [[1,1], [1+dx, 1+dy], [dx, 1+dy],[0,1]]\n_poly!(ps,  linewidth=3, color=:red)\n\nps = [[1,0],[1+dx, dy],[1+dx, 1+dy],[1,1]]\n_poly!(ps,  linewidth=3, color=:green)\narrow!([.55,.6],.3*[-1,-1/2], color=:blue)\narrow!([1+.6dx, .6], .3*[1,0], color=:blue)\narrow!([.75, 1+.5*dy], .3*[0,1], color=:blue)\nannotate!([\n        (.5, -.1, \"Δy\"),\n        (1+.75dx, .1, \"Δx\"),\n        (1+dx+.1, .75, \"Δz\"),\n        (.5,.15,L\"(x,y,z)\"),\n        (.45,.6, \"î\"),\n        (1+.8dx, .7, \"ĵ\"),\n        (.8, 1+dy+.1, \"k̂\")\n        ])\np"
      ],
      "metadata": {},
      "execution_count": null
    },
    {
      "cell_type": "markdown",
      "source": [
        "Consider the sides with outward normal $\\hat{i}$. The contribution to the surface  integral, $\\oint_S (F\\cdot\\hat{N})dS$, could be *approximated* by\n\n$$~\n\\left(F(x + \\Delta x, y, z) \\cdot \\hat{i}\\right) \\Delta y \\Delta z,\n~$$\n\nwhereas, the contribution for the face with outward normal $-\\hat{i}$ could be approximated by:\n\n$$~\n\\left(F(x, y, z) \\cdot (-\\hat{i}) \\right) \\Delta y \\Delta z.\n~$$\n\nThe functions are being evaluated at a point on the face of the\nsurface. For Riemann integrable functions, any point in a partition\nmay be chosen, so our choice will not restrict the generality.\n\nThe total contribution of the two would be:\n\n$$~\n\\left(F(x + \\Delta x, y, z) \\cdot \\hat{i}\\right) \\Delta y \\Delta z +\n\\left(F(x, y, z) \\cdot (-\\hat{i})\\right) \\Delta y \\Delta z =\n\\left(F_x(x + \\Delta x, y, z) - F_x(x, y, z)\\right) \\Delta y \\Delta z,\n~$$\n\nas $F \\cdot \\hat{i} = F_x$.\n\n*Were* we to divide by $\\Delta V = \\Delta x \\Delta y \\Delta z$ *and* take a limit as the volume shrinks, the limit would be $\\partial{F}/\\partial{x}$.\n\nIf this is repeated for the other two pair of matching faces, we get a definition for the *divergence*:\n\n> The *divergence* of a vector field $F:R^3 \\rightarrow R^3$ is given by\n> $$~\n> \\text{divergence}(F) =\n> \\lim \\frac{1}{\\Delta V} \\oint_S F\\cdot\\hat{N} dS =\n> \\frac{\\partial{F_x}}{\\partial{x}} +\\frac{\\partial{F_y}}{\\partial{y}}  +\\frac{\\partial{F_z}}{\\partial{z}}.\n> ~$$\n\nThe limit expression for the divergence will hold for any smooth closed surface, $S$, converging on $(x,y,z)$, not just box-like ones.\n\n\n### General $n$\n\nThe derivation of the divergence is done for $n=3$, but could also have easily been done for two dimensions ($n=2$) or higher dimensions $n>3$. The formula in general would be: for $F(x_1, x_2, \\dots, x_n): R^n \\rightarrow R^n$:\n\n$$~\n\\text{divergence}(F) = \\sum_{i=1}^n \\frac{\\partial{F_i}}{\\partial{x_i}}.\n~$$\n\n\n----\n\nIn `Julia`, the divergence can be implemented different ways depending on how the problem is presented. Here are two functions from the `CalculusWithJulia` package for when the problem is symbolic or numeric:"
      ],
      "metadata": {}
    },
    {
      "outputs": [],
      "cell_type": "code",
      "source": [
        "divergence(F::Vector{Sym}, vars) = sum(diff.(F, vars))\ndivergence(F::Function, pt) = sum(diag(ForwardDiff.jacobian(F, pt)))"
      ],
      "metadata": {},
      "execution_count": null
    },
    {
      "cell_type": "markdown",
      "source": [
        "The latter being a bit inefficient, as all $n^2$ partial derivatives are found, but only the $n$ diagonal ones are used.\n\n\n## The curl\n\nBefore considering the curl for $n=3$, we derive a related quantity in $n=2$. The \"curl\" will be a measure of the microscopic circulation of a vector field. To that end we consider a microscopic box-region in $R^2$:"
      ],
      "metadata": {}
    },
    {
      "outputs": [],
      "cell_type": "code",
      "source": [
        "gr()\nusing LaTeXStrings\nfunction apoly!(plt::Plots.Plot, ps; offset=5, kwargs...)\n    xs, ys = unzip(ps)\n    xbar, ybar = _bar.((xs, ys))\n    xs, ys = _shrink.(xs, xbar, offset), _shrink.(ys, ybar, offset)\n\n    plot!(plt, xs, ys; kwargs...)\n    xn = [xs[end],ys[end]]\n    x0 = [xs[1], ys[1]]\n    dxn = 0.95*(x0 - xn)\n\n    arrow!(plt, xn, dxn; kwargs...)\n\n    plt\nend\napoly!(ps;offset=5,kwargs...) = apoly!(Plots.current(), ps; offset=offset, kwargs...)\n\np = plot(legend=false, xticks=nothing, yticks=nothing, border=:none, xlim=(-1/4, 1+1/4),ylim=(-1/4, 1+1/4))\napoly!([[0,0],[1,0], [1,1], [0, 1]], linewidth=3, color=:blue)\n\ndx = .025\narrow!([1/2, dx], .01 *[1,0], linewidth=3, color=:blue)\narrow!([1/2, 1-dx], .01 *[-1,0], linewidth=3, color=:blue)\narrow!([1-dx, 1/2], .01 *[0, 1], linewidth=3, color=:blue)\n\nannotate!([\n        (0,-1/16,L\"(x,y)\"),\n        (1, -1/16, L\"(x+\\Delta{x},y)\"),\n        (0, 1+1/16, L\"(x,y+\\Delta{y})\"),\n        (1/2, 4dx, L\"\\hat{i}\"),\n        (1/2, 1-4dx, L\"-\\hat{i}\"),\n        (3dx, 1/2, L\"-\\hat{j}\"),\n        (1-3dx, 1/2, L\"\\hat{j}\")\n        ])"
      ],
      "metadata": {},
      "execution_count": null
    },
    {
      "cell_type": "markdown",
      "source": [
        "Let $F=\\langle F_x, F_y\\rangle$. For small enough values of $\\Delta{x}$ and $\\Delta{y}$ the line integral, $\\oint_C F\\cdot d\\vec{r}$ can be *approximated* by $4$ terms:\n\n$$~\n\\begin{align}\n\\left(F(x,y) \\cdot \\hat{i}\\right)\\Delta{x} &+\n\\left(F(x+\\Delta{x},y) \\cdot \\hat{j}\\right)\\Delta{y} +\n\\left(F(x,y+\\Delta{y}) \\cdot (-\\hat{i})\\right)\\Delta{x} +\n\\left(F(x,y) \\cdot (-\\hat{j})\\right)\\Delta{x}\\\\\n&=\nF_x(x,y) \\Delta{x} + F_y(x+\\Delta{x},y)\\Delta{y} +\nF_x(x, y+\\Delta{y}) (-\\Delta{x}) + F_y(x,y) (-\\Delta{y})\\\\\n&=\n(F_y(x + \\Delta{x}, y) - F_y(x, y))\\Delta{y} -\n(F_x(x, y+\\Delta{y})-F_x(x,y))\\Delta{x}.\n\\end{align}\n~$$\n\nThe Riemann approximation allows a choice of evaluation point for Riemann integrable functions, and the choice here lends itself to further analysis.\nWere the above divided by $\\Delta{x}\\Delta{y}$, the area of the box, and a limit taken, partial derivatives appear to suggest this formula:\n\n$$~\n\\lim \\frac{1}{\\Delta{x}\\Delta{y}} \\oint_C F\\cdot d\\vec{r} =\n\\frac{\\partial{F_y}}{\\partial{x}} - \\frac{\\partial{F_x}}{\\partial{y}}.\n~$$\n\n\nThe scalar function on the right hand side is called the (two-dimensional) curl of $F$ and the left-hand side lends itself as a measure of the microscopic circulation of the vector field, $F:R^2 \\rightarrow R^2$.\n\n----\n\nConsider now a similar scenario for the $n=3$ case. Let $F=\\langle F_x, F_y,F_z\\rangle$ be a vector field and  $S$ a box-like region with side lengths $\\Delta x$, $\\Delta y$, and $\\Delta z$, anchored at $(x,y,z)$."
      ],
      "metadata": {}
    },
    {
      "outputs": [],
      "cell_type": "code",
      "source": [
        "pyplot()\n\ndx = .5\ndy = .250\noffset=5\np = plot(;ylim=(0-.2, 1+dy+.4), legend=false, aspect_ratio=:equal,xticks=nothing,yticks=nothing, border=:none)\nplot!(p, [dx,dx],[dy,1+dy-offset/100], linestyle=:dash)\nplot!(p, [0+offset/100,dx],[0+offset/100,dy], linestyle=:dash)\nplot!(p, [dx,1+dx-2offset/100],[dy,dy], linestyle=:dash)\n\nps = [[1,1], [0,1],[0,0],[1,0]]\napoly!(ps, linewidth=3, color=:blue)\n\nps = [[1,1], [1+dx, 1+dy], [dx, 1+dy],[0,1]]\napoly!(ps,  linewidth=3, color=:red)\n\nps = [[1,0],[1+dx, dy],[1+dx, 1+dy],[1,1]]\napoly!(ps,  linewidth=3, color=:green)\narrow!([.55,.6],.3*[-1,-1/2], color=:blue)\narrow!([1+.6dx, .6], .3*[1,0], color=:blue)\narrow!([.75, 1+.5*dy], .3*[0,1], color=:blue)\nannotate!([\n        (.5, -.1, \"Δy\"),\n        (1+.75dx, .1, \"Δx\"),\n        (1+dx+.1, .75, \"Δz\"),\n        (.5,.15,L\"(x,y,z)\"),\n        (.45,.6, \"î\"),\n        (1+.8dx, .667, \"ĵ\"),\n        (.8, 1+dy+.067, \"k̂\"),\n        (.9, 1.1, \"S₁\")\n        ])\np"
      ],
      "metadata": {},
      "execution_count": null
    },
    {
      "cell_type": "markdown",
      "source": [
        "The box-like volume in space with the top area, with normal $\\hat{k}$, designated as $S_1$. The curve $C_1$ traces around $S_1$ in a counter clockwise manner, consistent with the right-hand rule pointing in the outward normal direction.\nThe face $S_1$ with unit normal $\\hat{k}$ looks like:"
      ],
      "metadata": {}
    },
    {
      "outputs": [],
      "cell_type": "code",
      "source": [
        "pyplot()\np = plot(xlim=(-.1,1.25), ylim=(-.2, 1.25),legend=false, xticks=nothing, yticks=nothing, border=:none)\nps = [[1,0],[1,1],[0,1],[0,0]]\n#push!(ps, first(ps))\napoly!(p, ps, linewidth=3, color=:red)\n#plot!(p, unzip(ps), linewidth=3, color=:red)\ndx = .025\narrow!([1/2,dx], .01*[1,0], color=:red, linewidth=3)\narrow!([1/2,1-dx],  .01*[-1,0], color=:red, linewidth=3)\narrow!([1-dx,1/2], .01*[0,1], color=:red, linewidth=3)\narrow!([dx,1/2], .01*[0,-1], color=:red, linewidth=3)\ndx = .05\nannotate!([\n        (0, 1/2, \"A\"),\n        (1/2,2dx, \"B\"),\n        (1-(3/2)dx,1/2, \"C\"),\n        (1/2,1-2dx, \"D\"),\n\n        (.9, 1+dx, \"C₁\"),\n\n        (2*dx, 1/2, L\"\\hat{T}=\\hat{i}\"),\n        (1+2*dx,1/2, L\"\\hat{T}=-\\hat{i}\"),\n        (1/2,-3/2*dx, L\"\\hat{T}=\\hat{j}\"),\n        (1/2, 1+(3/2)*dx, L\"\\hat{T}=-\\hat{j}\"),\n\n        (3dx,1-2dx, \"(x,y,z+Δz)\"),\n        (4dx,2dx, \"(x+Δx,y,z+Δz)\"),\n        (1-4dx, 1-2dx, \"(x,y+Δy,z+Δz)\"),\n\t\t(1-2dx, 2dx, \"S₁\")\n        ])\n\nplotly()\np"
      ],
      "metadata": {},
      "execution_count": null
    },
    {
      "cell_type": "markdown",
      "source": [
        "Now we compute the *line integral*. Consider the top face, $S_1$, connecting $(x,y,z+\\Delta z), (x + \\Delta x, y, z + \\Delta z),  (x + \\Delta x, y + \\Delta y, z + \\Delta z),  (x, y + \\Delta y, z + \\Delta z)$, Using the *right hand rule*, parameterize the boundary curve, $C_1$, in a counter clockwise direction so the right hand rule yields the outward pointing normal ($\\hat{k}$). Then the integral $\\oint_{C_1} F\\cdot \\hat{T} ds$ is *approximated* by the following Riemann sum of $4$ terms:\n\n$$~\nF(x,y, z+\\Delta{z}) \\cdot \\hat{i}\\Delta{x} +\nF(x+\\Delta x, y, z+\\Delta{z}) \\cdot \\hat{j}  \\Delta y +\nF(x, y+\\Delta y, z+\\Delta{z}) \\cdot (-\\hat{i}) \\Delta{x}  +\nF(x, y, z+\\Delta{z}) \\cdot (-\\hat{j}) \\Delta{y}.\n~$$\n\n(The points $c_i$ are chosen from the endpoints of the line segments.)\n\n\n\n$$~\n\\oint_{C_1} F\\cdot \\hat{T} ds \\approx\n(F_y(x+\\Delta x, y, z+\\Delta{z}) - F_y(x, y, z+\\Delta{z})) \\Delta{y} -\n(F_x(x,y + \\Delta{y}, z+\\Delta{z}) - F_x(x, y, z+\\Delta{z})) \\Delta{x}\n~$$\n\nAs before, were this divided by the *area* of the surface, we have after rearranging and cancellation:\n\n$$~\n\\frac{1}{\\Delta{S_1}} \\oint_{C_1} F \\cdot \\hat{T} ds \\approx\n\\frac{F_y(x+\\Delta x, y, z+\\Delta{z}) - F_y(x, y, z+\\Delta{z})}{\\Delta{x}}\n-\n\\frac{F_x(x, y+\\Delta y, z+\\Delta{z})-F_x(x, y, z+\\Delta{z})}{\\Delta{y}}.\n~$$\n\nIn the limit, as  $\\Delta{S} \\rightarrow 0$, this will converge to $\\partial{F_y}/\\partial{x}-\\partial{F_x}/\\partial{y}$.\n\nHad the bottom of the box been used, a similar result would be found, up to a minus sign.\n\nUnlike the two dimensional case, there are other directions to consider and here\nthe other sides will yield different answers. Consider now the face connecting $(x,y,z), (x+\\Delta{x}, y, z), (x+\\Delta{x}, y, z + \\Delta{z})$, and $ (x,y,z+\\Delta{z})$ with outward pointing normal $-\\hat{j}$. Let $S_2$ denote this face and $C_2$ describe its boundary. Orient this curve so that the right hand rule points in the $-\\hat{j}$ direction (the outward pointing normal). Then, as before, we can approximate:\n\n$$~\n\\begin{align}\n\\oint_{C_2} F \\cdot \\hat{T} ds\n&\\approx\nF(x,y,z) \\cdot \\hat{i} \\Delta{x} +\nF(x+\\Delta{x},y,z) \\cdot \\hat{k} \\Delta{z} +\nF(x,y,z+\\Delta{z}) \\cdot (-\\hat{i}) \\Delta{x} +\nF(x, y, z) \\cdot (-\\hat{k}) \\Delta{z}\\\\\n&= (F_z(x+\\Delta{x},y,z) - F_z(x, y, z))\\Delta{z} -\n(F_x(x,y,z+\\Delta{z}) - F(x,y,z)) \\Delta{x}.\n\\end{align}\n~$$\n\nDividing by $\\Delta{S}=\\Delta{x}\\Delta{z}$ and taking a limit will give:\n\n$$~\n\\lim \\frac{1}{\\Delta{S}} \\oint_{C_2} F \\cdot \\hat{T} ds =\n\\frac{\\partial{F_z}}{\\partial{x}} - \\frac{\\partial{F_x}}{\\partial{z}}.\n~$$\n\nHad, the opposite face with outward normal $\\hat{j}$ been chosen, the answer would differ by a factor of $-1$.\n\nSimilarly, let $S_3$ be the face with outward normal $\\hat{i}$ and curve $C_3$ bounding it with parameterization chosen so that the right hand rule points in the direction of $\\hat{i}$. This will give\n\n\n$$~\n\\lim \\frac{1}{\\Delta{S}} \\oint_{C_3} F \\cdot \\hat{T} ds =\n\\frac{\\partial{F_z}}{\\partial{y}} - \\frac{\\partial{F_y}}{\\partial{z}}.\n~$$\n\nIn short, depending on the face chosen, a different answer is given, but all have the same type.\n\n> Define the *curl* of a $3$-dimensional vector field $F=\\langle F_x,F_y,F_z\\rangle$ by:\n> $$~\n> \\text{curl}(F) =\n> \\langle \\frac{\\partial{F_z}}{\\partial{y}} - \\frac{\\partial{F_y}}{\\partial{z}},\n> \\frac{\\partial{F_x}}{\\partial{z}} - \\frac{\\partial{F_z}}{\\partial{x}},\n> \\frac{\\partial{F_y}}{\\partial{x}} - \\frac{\\partial{F_x}}{\\partial{y}} \\rangle.\n> ~$$\n\nIf $S$ is some surface with closed boundary $C$ oriented so that the unit normal, $\\hat{N}$, of $S$ is given by the right hand rule about $C$, then\n\n$$~\n\\hat{N} \\cdot \\text{curl}(F) = \\lim \\frac{1}{\\Delta{S}} \\oint_C F \\cdot \\hat{T} ds.\n~$$\n\n\nThe curl has a formal representation in terms of a $3\\times 3$ determinant, similar to that used to compute the cross product, that is useful for computation:\n\n$$~\n\\text{curl}(F) = \\det\\left[\n\\begin{array}{}\n\\hat{i} & \\hat{j} & \\hat{k}\\\\\n\\frac{\\partial}{\\partial{x}} & \\frac{\\partial}{\\partial{y}} & \\frac{\\partial}{\\partial{z}}\\\\\nF_x & F_y & F_z\n\\end{array}\n\\right]\n~$$\n\n----\n\n\nIn `Julia`, the curl can be implemented different ways depending on how the problem is presented.\nWe will use the Jacobian matrix to compute the required partials. If the Jacobian is known, this function from the `CalculusWithJulia` package will combine the off-diagonal terms appropriately:"
      ],
      "metadata": {}
    },
    {
      "outputs": [],
      "cell_type": "code",
      "source": [
        "function curl(J::Matrix)\n    Mx, Nx, Px, My, Ny, Py, Mz, Nz, Pz = J\n    [Py-Nz, Mz-Px, Nx-My] # ∇×VF\nend"
      ],
      "metadata": {},
      "execution_count": null
    },
    {
      "cell_type": "markdown",
      "source": [
        "The computation of the Jacobian differs whether the problem is treated numerically or symbolically. Here are two functions:"
      ],
      "metadata": {}
    },
    {
      "outputs": [],
      "cell_type": "code",
      "source": [
        "curl(F::Vector{Sym}, vars=free_symbols(F)) = curl(F.jacobian(vars))\ncurl(F::Function, pt) = curl(ForwardDiff.jacobian(F, pt))"
      ],
      "metadata": {},
      "execution_count": null
    },
    {
      "cell_type": "markdown",
      "source": [
        "### The $\\nabla$ (del) operator\n\nThe divergence, gradient, and curl all involve partial derivatives. There is a notation employed that can express the operations more succinctly. Let the [Del operator](https://en.wikipedia.org/wiki/Del) be defined in Cartesian coordinates by the formal expression:\n\n> $$~\n> \\nabla = \\langle\n> \\frac{\\partial}{\\partial{x}},\n> \\frac{\\partial}{\\partial{y}},\n> \\frac{\\partial}{\\partial{z}}\n> \\rangle.\n> ~$$\n\nThis is a *vector differential operator* that acts on functions and vector fields through the typical notation to yield the three operations:\n\n$$~\n\\begin{align}\n\\nabla{f} &= \\langle\n\\frac{\\partial{f}}{\\partial{x}},\n\\frac{\\partial{f}}{\\partial{y}},\n\\frac{\\partial{f}}{\\partial{z}}\n\\rangle, \\quad\\text{the gradient;}\\\\\n\\nabla\\cdot{F} &= \\langle\n\\frac{\\partial}{\\partial{x}},\n\\frac{\\partial}{\\partial{y}},\n\\frac{\\partial}{\\partial{z}}\n\\rangle \\cdot F =\n\\langle\n\\frac{\\partial}{\\partial{x}},\n\\frac{\\partial}{\\partial{y}},\n\\frac{\\partial}{\\partial{z}}\n\\rangle \\cdot\n\\langle F_x, F_y, F_z \\rangle =\n\\frac{\\partial{F_x}}{\\partial{x}} +\n\\frac{\\partial{F_y}}{\\partial{y}} +\n\\frac{\\partial{F_z}}{\\partial{z}},\\quad\\text{the divergence;}\\\\\n\\nabla\\times F &= \\langle\n\\frac{\\partial}{\\partial{x}},\n\\frac{\\partial}{\\partial{y}},\n\\frac{\\partial}{\\partial{z}}\n\\rangle \\times F =\n\\det\\left[\n\\begin{array}{}\n\\hat{i} & \\hat{j} & \\hat{k} \\\\\n\\frac{\\partial}{\\partial{x}}&\n\\frac{\\partial}{\\partial{y}}&\n\\frac{\\partial}{\\partial{z}}\\\\\nF_x & F_y & F_z\n\\end{array}\n\\right],\\quad\\text{the curl}.\n\\end{align}\n~$$"
      ],
      "metadata": {}
    },
    {
      "outputs": [],
      "cell_type": "code",
      "source": [
        "note(\"\"\"\nMathematically operators have not been seen previously, but the concept of an operation on a function that returns another function is a common one when using `Julia`. We have seen many examples (`plot`, `D`, `quadgk`, etc.). In computer science such functions are called *higher order* functions, as they accept arguments which are also functions.\n\"\"\")"
      ],
      "metadata": {},
      "execution_count": null
    },
    {
      "cell_type": "markdown",
      "source": [
        "----\n\nIn the `CalculusWithJulia` package, the constant `\\nabla[\\tab]`, producing $\\nabla$ implements this operator for functions and symbolic expressions."
      ],
      "metadata": {}
    },
    {
      "outputs": [],
      "cell_type": "code",
      "source": [
        "f(x,y,z) = x*y*z\nf(v) = f(v...)\nF(x,y,z) = [x, y, z]\nF(v) = F(v...)\n\n@vars x y z\n∇(f(x,y,z))  # symbolic operation on the symbolic expression f(x,y,z)"
      ],
      "metadata": {},
      "execution_count": null
    },
    {
      "cell_type": "markdown",
      "source": [
        "This usage of `∇ ` takes partial derivatives according to the order given by:"
      ],
      "metadata": {}
    },
    {
      "outputs": [],
      "cell_type": "code",
      "source": [
        "free_symbols(f(x,y,z))"
      ],
      "metadata": {},
      "execution_count": null
    },
    {
      "cell_type": "markdown",
      "source": [
        "which may **not** be as desired. In this case,\nthe variables can be specified using a tuple to pair up the expression with the variables to differentiate against:"
      ],
      "metadata": {}
    },
    {
      "outputs": [],
      "cell_type": "code",
      "source": [
        "∇( (f(x,y,z), [x,y,z]) )"
      ],
      "metadata": {},
      "execution_count": null
    },
    {
      "cell_type": "markdown",
      "source": [
        "For numeric expressions, we have:"
      ],
      "metadata": {}
    },
    {
      "outputs": [],
      "cell_type": "code",
      "source": [
        "∇(f)(1,2,3) # a numeric computation. Also can call with a point [1,2,3]"
      ],
      "metadata": {},
      "execution_count": null
    },
    {
      "cell_type": "markdown",
      "source": [
        "(The extra parentheses are unfortunate. Here `∇` is called like a function.)\n\nThe  divergence can be found symbolically:"
      ],
      "metadata": {}
    },
    {
      "outputs": [],
      "cell_type": "code",
      "source": [
        "∇ ⋅ F(x,y,z)"
      ],
      "metadata": {},
      "execution_count": null
    },
    {
      "cell_type": "markdown",
      "source": [
        "Or numerically:"
      ],
      "metadata": {}
    },
    {
      "outputs": [],
      "cell_type": "code",
      "source": [
        "(∇ ⋅ F)(1,2,3)   # a numeric computation. Also can call (∇ ⋅ F)([1,2,3])"
      ],
      "metadata": {},
      "execution_count": null
    },
    {
      "cell_type": "markdown",
      "source": [
        "Similarly, the curl. Symbolically:"
      ],
      "metadata": {}
    },
    {
      "outputs": [],
      "cell_type": "code",
      "source": [
        "∇ × F(x,y,z)"
      ],
      "metadata": {},
      "execution_count": null
    },
    {
      "cell_type": "markdown",
      "source": [
        "and numerically:"
      ],
      "metadata": {}
    },
    {
      "outputs": [],
      "cell_type": "code",
      "source": [
        "(∇ × F)(1,2,3)  # numeric. Also can call (∇ × F)([1,2,3])"
      ],
      "metadata": {},
      "execution_count": null
    },
    {
      "cell_type": "markdown",
      "source": [
        "There is a subtle difference in usage. Symbolically the evaluation of\n`F(x,y,z)` first is desired, numerically the evaluation of `∇ ⋅ F` or\n`∇ × F ` first is desired. As `⋅` and `×` have lower precedence than\nfunction evaluation, parentheses must be used in the numeric case."
      ],
      "metadata": {}
    },
    {
      "outputs": [],
      "cell_type": "code",
      "source": [
        "note(\"\"\"\nAs mentioned, for the symbolic evaluations, a specification of three variables (here `x`, `y`, and `z`) is necessary. This use takes `free_symbols` to identify three free symbols which may not always be the case. (It wouldn't be for, say, `F(x,y,z) = [a*x,b*y,0]`, `a` and `b` constants.) In those cases, the notation accepts a tuple to specify the function or vector field and the variables, e.g. (`∇( (f(x,y,z), [x,y,z]) )`, as illustrated;  `∇ × (F(x,y,z), [x,y,z])`; or `∇ ⋅ (F(x,y,z), [x,y,z])` where this is written using function calls to produce the symbolic expression in the first positional argument, though a direct expression could also be used. In these cases, the named versions `gradient`, `curl`, and `divergence` may be preferred.\n\"\"\")"
      ],
      "metadata": {},
      "execution_count": null
    },
    {
      "cell_type": "markdown",
      "source": [
        "## Interpretation\n\nThe divergence and curl measure complementary aspects of a vector field. The divergence is defined in terms of flow out of an infinitesimal box, the curl is about rotational flow around an infinitesimal area patch.\n\n\n\nLet $F(x,y,z) = [x, 0, 0]$, a vector field pointing in just the $\\hat{i}$ direction. The divergence is simply $1$. If $V$ is a box, as in the derivation, then the divergence measures the flow into the side with outward normal $-\\hat{i}$ and through the side with outward normal $\\hat{i}$ which will clearly be positive as the flow passes through the region $V$, increasing as $x$ increases, when $x > 0$.\n\n\n\nThe radial vector field $F(x,y,z) = \\langle x, y, z \\rangle$ is also an example of a divergent field. The divergence is:"
      ],
      "metadata": {}
    },
    {
      "outputs": [],
      "cell_type": "code",
      "source": [
        "F(x,y,z) = [x,y,z]\n@vars x y z real=true\n∇ ⋅ F(x,y,z)"
      ],
      "metadata": {},
      "execution_count": null
    },
    {
      "cell_type": "markdown",
      "source": [
        "There is a constant outward flow, emanating from the origin. Here we picture the field when $z=0$:"
      ],
      "metadata": {}
    },
    {
      "outputs": [],
      "cell_type": "code",
      "source": [
        "gr()\nF12(x,y) = [x,y]\nF12(v) = F12(v...)\np = plot(legend=false)\nvectorfieldplot!(p, F12, xlim=(-5,5), ylim=(-5,5), nx=10, ny=10)\nt0, dt = -pi/6, 2pi/6\nr0, dr = 3, 1\nplot!(p, unzip(r -> r * [cos(t0), sin(t0)], r0, r0 + dr)..., linewidth=3)\nplot!(p, unzip(r -> r * [cos(t0+dt), sin(t0+dt)], r0, r0 + dr)..., linewidth=3)\nplot!(p, unzip(t -> r0 * [cos(t), sin(t)], t0, t0 + dt)..., linewidth=3)\nplot!(p, unzip(t -> (r0+dr) * [cos(t), sin(t)], t0, t0 + dt)..., linewidth=3)\n\nplotly()\np"
      ],
      "metadata": {},
      "execution_count": null
    },
    {
      "cell_type": "markdown",
      "source": [
        "Consider the limit definition of the divergence:\n\n$$~\n\\nabla\\cdot{F} = \\lim \\frac{1}{\\Delta{V}} \\oint_S F\\cdot\\hat{N} dA.\n~$$\n\nIn the vector field above, the shape along the curved edges has constant magnitude field. On the left curved edge, the length is smaller and the field is smaller than on the right. The flux across the left edge will be less than the flux across the right edge, and a net flux will exist. That is, there is divergence.\n\n\nNow, were the field on the right edge less, it might be that the two balance out and there is no divergence. This occurs with the inverse square laws, such as for gravity and electric field:"
      ],
      "metadata": {}
    },
    {
      "outputs": [],
      "cell_type": "code",
      "source": [
        "@vars x y z real=true\nR = [x,y,z]\nRhat = R/norm(R)\nVF = (1/norm(R)^2) * Rhat\n∇ ⋅ VF  |> simplify"
      ],
      "metadata": {},
      "execution_count": null
    },
    {
      "cell_type": "markdown",
      "source": [
        "----\n\nThe vector field $F(x,y,z) = \\langle -y, x, 0 \\rangle$ is an example of a rotational field. It's curl can be computed symbolically through:"
      ],
      "metadata": {}
    },
    {
      "outputs": [],
      "cell_type": "code",
      "source": [
        "curl([-y,x,0], [x,y,z])"
      ],
      "metadata": {},
      "execution_count": null
    },
    {
      "cell_type": "markdown",
      "source": [
        "This vector field rotates as seen in  this figure showing slices for different values of $z$:"
      ],
      "metadata": {}
    },
    {
      "outputs": [],
      "cell_type": "code",
      "source": [
        "gr()\nV(x,y,z) = [-y, x,0]\nV(v) = V(v...)\np = plot([NaN],[NaN],[NaN], legend=false)\nys = xs = range(-2,2, length=10 )\nzs = range(0, 4, length=3)\nCalculusWithJulia.vectorfieldplot3d!(p, V, xs, ys, zs, nz=3)\nplot!(p, [0,0], [0,0],[-1,5], linewidth=3)\np"
      ],
      "metadata": {},
      "execution_count": null
    },
    {
      "cell_type": "markdown",
      "source": [
        "The field has a clear rotation about the $z$ axis (illustrated with a line), the curl is a vector that points in the direction of the *right hand* rule as the right hand fingers follow the flow with magnitude given by the amount of rotation.\n\nThis is a bit misleading though, the curl is defined by a limit, and not in terms of a large box. The key point for this field is that the strength of the field is stronger as the points get farther away, so for a properly oriented small box, the integral along the closer edge will be less than that along the outer edge.\n\nConsider a related field where the strength gets smaller as the point gets farther away but otherwise has the same circular rotation pattern"
      ],
      "metadata": {}
    },
    {
      "outputs": [],
      "cell_type": "code",
      "source": [
        "R = [-y, x, 0]\nVF = R / norm(R)^2\ncurl(VF, [x,y,z]) .|> simplify"
      ],
      "metadata": {},
      "execution_count": null
    },
    {
      "cell_type": "markdown",
      "source": [
        "Further, the curl of `R/norm(R)^3` now points in the *opposite* direction of the curl of `R`.\nThis example isn't typical, as dividing by `norm(R)` with a power greater than $1$ makes the vector field discontinuous at the origin.\n\n\nThe curl of the  vector field $F(x,y,z) = \\langle 0, 1+y^2, 0\\rangle$ is $0$, as there is clearly no rotation as seen in this slice where $z=0$:"
      ],
      "metadata": {}
    },
    {
      "outputs": [],
      "cell_type": "code",
      "source": [
        "gr()\nvectorfieldplot((x,y) -> [0, 1+y^2], xlim=(-1,1), ylim=(-1,1), nx=10, ny=8)"
      ],
      "metadata": {},
      "execution_count": null
    },
    {
      "cell_type": "markdown",
      "source": [
        "Algebraically, this is so:"
      ],
      "metadata": {}
    },
    {
      "outputs": [],
      "cell_type": "code",
      "source": [
        "curl(Sym[0,1+y^2,0], [x,y,z])"
      ],
      "metadata": {},
      "execution_count": null
    },
    {
      "cell_type": "markdown",
      "source": [
        "Now consider a similar field  $F(x,y,z) = \\langle 0, 1+x^2, 0,\\rangle$. A slice is somewhat similar, in that the flow lines are all in the $\\hat{j}$ direction:"
      ],
      "metadata": {}
    },
    {
      "outputs": [],
      "cell_type": "code",
      "source": [
        "gr()\nvectorfieldplot((x,y) -> [0, 1+x^2], xlim=(-1,1), ylim=(-1,1), nx=10, ny=8)"
      ],
      "metadata": {},
      "execution_count": null
    },
    {
      "cell_type": "markdown",
      "source": [
        "However, this vector field has a curl:"
      ],
      "metadata": {}
    },
    {
      "outputs": [],
      "cell_type": "code",
      "source": [
        "curl([0, 1+x^2,0], [x,y,z])"
      ],
      "metadata": {},
      "execution_count": null
    },
    {
      "cell_type": "markdown",
      "source": [
        "The curl points in the $\\hat{k}$ direction (out of the figure). A useful visualization is to mentally place a small paddlewheel at a point and imagine if it will turn.\nIn the constant field case, there is equal flow on both sides of the axis, so it any forces on the wheel blades will balance out. In the latter example, if $x > 0$, the force on the right side will be greater than the force on the left so the paddlewheel would rotate counter clockwise. The right hand rule for this rotation will point in the upward, or $\\hat{k}$ direction, as seen algebraically in the curl.\n\nFollowing Strang, in general the curl can point in any direction, so the amount the paddlewheel will spin will be related to how the paddlewheel is oriented. The angular velocity of the wheel will be $(1/2)(\\nabla\\times{F})\\cdot\\hat{N}$, $\\hat{N}$ being the normal for the paddlewheel.\n\nIf $\\vec{a}$ is some vector and $\\hat{r} = \\langle x, y, z\\rangle$ is the radial vector, then $\\vec{a} \\times \\vec{r}$ has a curl, which is given by:"
      ],
      "metadata": {}
    },
    {
      "outputs": [],
      "cell_type": "code",
      "source": [
        "@vars x y z a1 a2 a3\na = [a1, a2, a3]\nr = [x, y, z]\ncurl(a × r, [x,y, z])"
      ],
      "metadata": {},
      "execution_count": null
    },
    {
      "cell_type": "markdown",
      "source": [
        "The angular velocity then is $\\vec{a} \\cdot \\hat{N}$. The curl is constant. As the dot product involves the cosine of the angle between the two vectors, we see the turning speed is largest when $\\hat{N}$ is parallel to $\\vec{a}$. This gives a similar statement for the curl like the gradient does for steepest growth rate: the maximum rotation rate of $F$ is $(1/2)\\|\\nabla\\times{F}\\|$ in the direction of $\\nabla\\times{F}$.\n\n\n\nThe curl of the radial vector field, $F(x,y,z) = \\langle x, y, z\\rangle$ will be $\\vec{0}$:"
      ],
      "metadata": {}
    },
    {
      "outputs": [],
      "cell_type": "code",
      "source": [
        "curl([x,y,z], [x,y,z])"
      ],
      "metadata": {},
      "execution_count": null
    },
    {
      "cell_type": "markdown",
      "source": [
        "We will see that this can be anticipated, as $F = (1/2) \\nabla(x^2+y^2+z^2)$ is a gradient field.\n\n\nIn fact, the curl of any radial field will be $\\vec{0}$. Here we represent a radial field as a scalar function of $\\vec{r}$ time $\\hat{r}$:"
      ],
      "metadata": {}
    },
    {
      "outputs": [],
      "cell_type": "code",
      "source": [
        "H = SymFunction(\"H\")\nR = sqrt(x^2 + y^2 + z^2)\nRhat = [x, y, z]/R\ncurl(H(R) * Rhat, [x, y, z])"
      ],
      "metadata": {},
      "execution_count": null
    },
    {
      "cell_type": "markdown",
      "source": [
        "Were one to represent the curl in [spherical](https://en.wikipedia.org/wiki/Del_in_cylindrical_and_spherical_coordinates) coordinates (below), this follows algebraically from the formula easily enough.\nTo anticipate this, due to symmetry, the curl would need to be the same along any ray emanating from the origin and again by symmetry could only possible point along the ray.  Mentally place a paddlewheel along the $x$ axis oriented along $\\hat{i}$. There will be no rotational forces that could make the wheel spin around the $x$-axis, hence the curl must be $0$.\n\n\n## The Maxwell equations\n\nThe divergence and curl appear in [Maxwell](https://en.wikipedia.org/wiki/Maxwell%27s_equations)'s equations describing the relationships of electromagnetism. In the formulas below the notation is $E$ is the electric field; $B$ is the magnetic field; $\\rho$ is the charge *density* (charge per unit volume); $J$ the electric current density (current per unit area); and $\\epsilon_0$, $\\mu_0$, and $c$ are universal constants.\n\nThe equations in differential form are:\n\n> Gauss's law: $\\nabla\\cdot{E} = \\rho/\\epsilon_0$.\n\nThat is, the divergence of the electric field  is proportional to the density. We have already mentioned this in *integral* form.\n\n> Gauss's law of magnetism: $\\nabla\\cdot{B} = 0$\n\nThe magnetic field has no divergence. This says that there no magnetic charges (a magnetic monopole) unlike electric charge, according to Maxwell's laws.\n\n> Faraday's law of induction: $\\nabla\\times{E} = - \\partial{B}/\\partial{t}$.\n\nThe curl of the *time-varying* electric field is in the direction of the partial derivative of the magnetic field. For example, if a magnet is in motion in the in the  $z$ axis, then the electric field has  rotation in the $x-y$ plane *induced* by the motion of the magnet.\n\n> Ampere's circuital law: $\\nabla\\times{B} = \\mu_0J + \\mu_0\\epsilon_0 \\partial{E}/\\partial{t}$\n\nThe curl of the magnetic field is related to the sum of the electric current density and the change in time of the electric field.\n\n----\n\nIn a region with no charges ($\\rho=0$) and no currents ($J=\\vec{0}$), such as a vacuum, these equations reduce to two divergences being $0$: $\\nabla\\cdot{E} = 0$ and $\\nabla\\cdot{B}=0$; and two curl relationships with time derivatives: $\\nabla\\times{E}= -\\partial{B}/\\partial{t}$ and $\\nabla\\times{B} = \\mu_0\\epsilon_0 \\partial{E}/\\partial{t}$.\n\nWe will see later how these are differential forms are consequences of related integral forms.\n\n\n\n\n## Algebra of vector calculus\n\nThe divergence, gradient, and curl satisfy several algebraic [properties](https://en.wikipedia.org/wiki/Vector_calculus_identities).\n\nLet $f$ and $g$ denote scalar functions, $R^3 \\rightarrow R$ and $F$ and $G$ be vector fields, $R^3 \\rightarrow R^3$.\n\n### Linearity\n\nAs with the sum rule of univariate derivatives, these operations satisfy:\n\n$$~\n\\begin{align}\n\\nabla(f + g) &= \\nabla{f} + \\nabla{g}\\\\\n\\nabla\\cdot(F+G) &= \\nabla\\cdot{F} + \\nabla\\cdot{G}\\\\\n\\nabla\\times(F+G) &= \\nabla\\times{F} + \\nabla\\times{G}.\n\\end{align}\n~$$\n\n###  Product rule\n\nThe product rule $(uv)' = u'v + uv'$ has related formulas:\n\n$$~\n\\begin{align}\n\\nabla{(fg)} &= (\\nabla{f}) g + f\\nabla{g} = g\\nabla{f}  + f\\nabla{g}\\\\\n\\nabla\\cdot{fF} &= (\\nabla{f})\\cdot{F} +  f(\\nabla\\cdot{F})\\\\\n\\nabla\\times{fF} &= (\\nabla{f})\\times{F} +  f(\\nabla\\times{F}).\n\\end{align}\n~$$\n\n### Rules over cross products\n\nThe cross product of two vector fields is a vector field for which the divergence and curl may be taken. There are formulas to relate to the individual terms:\n\n$$~\n\\begin{align}\n\\nabla\\cdot(F \\times G) &= (\\nabla\\times{F})\\cdot G - F \\cdot (\\nabla\\times{G})\\\\\n\\nabla\\times(F \\times G) &= F(\\nabla\\cdot{G}) - G(\\nabla\\cdot{F} + (G\\cdot\\nabla)F-(F\\cdot\\nabla)G\\\\\n&= \\nabla\\cdot(BA^t - AB^t).\n\\end{align}\n~$$\nThe curl formula is more involved.\n\n### Vanishing properties\n\nSurprisingly, the curl and divergence satisfy two vanishing properties. First\n\n> The curl of a gradient field is $\\vec{0}$\n> $$~\n> \\nabla \\times \\nabla{f} = \\vec{0},\n> ~$$\n\nif the scalar function $f$ is has continuous second derivatives (so the mixed partials do not depend on order).\n\nVector fields where $F = \\nabla{f}$ are conservative. Conservative fields have path independence, so any line integral, $\\oint F\\cdot \\hat{T} ds$,  around a closed loop will be $0$.  But the curl is defined as a limit of such integrals, so it too will be $\\vec{0}$. In short,  conservative fields have no rotation.\n\nWhat about the converse? If a vector field has zero curl, then integrals around infinitesimally small loops are $0$. Does this *also* mean that integrals around larger closed loops will also be $0$, and hence the field is conservative? The answer will be yes, *under assumptions*. But the discussion will wait for later.\n\nThe combination $\\nabla\\cdot\\nabla{f}$ is defined and is called the Laplacian. This is denoted $\\Delta{f}$. The equation $\\Delta{f} = 0$ is called Laplace's equation. It is *not* guaranteed for any scalar function $f$, but the $f$ for which it holds are important.\n\nSecond,\n\n> The divergence of a curl field is $0$:\n>$$~\n>\\nabla \\cdot(\\nabla\\times{F}) = 0.\n> ~$$\n\nThis is not as clear, but can be seen algebraically as terms cancel. First:\n\n$$~\n\\nabla\\cdot(\\nabla\\times{F}) =\n\\langle\n\\frac{\\partial}{\\partial{x}},\n\\frac{\\partial}{\\partial{y}},\n\\frac{\\partial}{\\partial{z}}\\rangle \\cdot\n\\langle\n\\frac{\\partial{F_z}}{\\partial{y}} - \\frac{\\partial{F_y}}{\\partial{z}},\n\\frac{\\partial{F_x}}{\\partial{z}} - \\frac{\\partial{F_z}}{\\partial{x}},\n\\frac{\\partial{F_y}}{\\partial{x}} - \\frac{\\partial{F_x}}{\\partial{y}}\n\\rangle\n=\n\\left(\\frac{\\partial^2{F_z}}{\\partial{y}\\partial{x}} - \\frac{\\partial^2{F_y}}{\\partial{z}\\partial{x}}\\right) +\n\\left(\\frac{\\partial^2{F_x}}{\\partial{z}\\partial{y}} - \\frac{\\partial^2{F_z}}{\\partial{x}\\partial{y}}\\right) +\n\\left(\\frac{\\partial^2{F_y}}{\\partial{x}\\partial{z}} - \\frac{\\partial^2{F_x}}{\\partial{y}\\partial{z}}\\right)\n~$$\n\nFocusing on one component function, $F_z$ say, we see this contribution:\n\n$$~\n\\frac{\\partial^2{F_z}}{\\partial{y}\\partial{x}} -\n\\frac{\\partial^2{F_z}}{\\partial{x}\\partial{y}}.\n~$$\n\nThis is zero under the assumption that the second partial derivatives are continuous.\n\nFrom the microscopic picture of a box this can also be seen. Again we focus on just the appearance of the $F_z$ component function. Let the faces with normals $\\hat{i}, \\hat{j},-\\hat{i}, -\\hat{j}$ be labeled $A, B, C$, and $D$. This figure shows $A$ (enclosed in blue) and $B$ (enclosed in green):"
      ],
      "metadata": {}
    },
    {
      "outputs": [],
      "cell_type": "code",
      "source": [
        "gr()\n\ndx = .5\ndy = .250\noffset=5\np = plot(;ylim=(0-.1, 1+dy+.1), legend=false, aspect_ratio=:equal,xticks=nothing,yticks=nothing, border=:none)\nplot!(p, [dx,dx],[dy,1+dy-offset/100], linestyle=:dash)\nplot!(p, [0+offset/100,dx],[0+offset/100,dy], linestyle=:dash)\nplot!(p, [dx,1+dx-2offset/100],[dy,dy], linestyle=:dash)\n\nps = [[1,1], [0,1],[0,0],[1,0]]\napoly!(ps, linewidth=3, color=:blue)\n\nps = [[1,1], [1+dx, 1+dy], [dx, 1+dy],[0,1]]\napoly!(ps,  linewidth=3, color=:red)\n\nps = [[1,0],[1+dx, dy],[1+dx, 1+dy],[1,1]]\napoly!(ps,  linewidth=3, color=:green)\nannotate!(dx+.02, dy-0.05, L\"P_1\")\nannotate!(0+0.05, 0 - 0.02, L\"P_2\")\nannotate!(1+0.05, 0 - 0.02, L\"P_3\")\nannotate!(1+dx+.02, dy-0.05, L\"P_4\")\np"
      ],
      "metadata": {},
      "execution_count": null
    },
    {
      "cell_type": "markdown",
      "source": [
        "We will get from the *approximate* surface integral of the *approximate* curl the following terms:"
      ],
      "metadata": {}
    },
    {
      "outputs": [],
      "cell_type": "code",
      "source": [
        "@vars x y z Δx Δy Δz\np1, p2, p3, p4=(x, y, z), (x + Δx, y, z), (x + Δx, y + Δy, z), (x, y + Δy, z)\nF_z = SymFunction(\"F_z\")\nex = (-F_z(p2...) + F_z(p3...))*Δz +   # face A\n(-F_z(p3...) + F_z(p4...))*Δz +   # face B\n(F_z(p1...) - F_z(p4...))*Δz  +   # face C\n(F_z(p2...) - F_z(p1...))*Δz      # face D"
      ],
      "metadata": {},
      "execution_count": null
    },
    {
      "cell_type": "markdown",
      "source": [
        "The term for face $A$, say, should be divided by $\\Delta{y}\\Delta{z}$ for the curl approximation, but this will be multiplied by the same amount for the divergence calculation, so it isn't written.\n\nThe expression above simplifies to:"
      ],
      "metadata": {}
    },
    {
      "outputs": [],
      "cell_type": "code",
      "source": [
        "simplify(ex)"
      ],
      "metadata": {},
      "execution_count": null
    },
    {
      "cell_type": "markdown",
      "source": [
        "This is because of how the line integrals are oriented so that the right-hand rule gives outward pointing normals. For each up stroke for one face, there is a downstroke for a different face, and so the corresponding terms cancel each other out. So providing the limit of these two approximations holds, the vanishing identity can be anticipated from the microscopic picture.\n\n\n##### Example\n\nThe [invariance of charge](https://en.wikipedia.org/wiki/Maxwell%27s_equations#Charge_conservation) can be derived as a corollary of Maxwell's equation. The divergence of the curl of the magnetic field is $0$, leading to:\n\n$$~\n0 = \\nabla\\cdot(\\nabla\\times{B}) =\n\\mu_0(\\nabla\\cdot{J} + \\epsilon_0 \\nabla\\cdot{\\frac{\\partial{E}}{\\partial{t}}}) =\n\\mu_0(\\nabla\\cdot{J} + \\epsilon_0 \\frac{\\partial}{\\partial{t}}(\\nabla\\cdot{E}))\n= \\mu_0(\\nabla\\cdot{J} + \\frac{\\partial{\\rho}}{\\partial{t}}).\n~$$\n\nThat is $\\nabla\\cdot{J} = -\\partial{\\rho}/\\partial{t}$.\nThis says any change in the charge density in time ($\\partial{\\rho}/\\partial{t}$) is balanced off by a divergence in the electric current density ($\\nabla\\cdot{J}$). That is, charge can't be created or destroyed in an isolated system.\n\n\n## Fundamental theorem of vector calculus\n\nThe divergence and curl are complementary ideas. Are there other distinct ideas to sort a vector field by?\nThe Helmholtz decomposition says not really. It states that vector fields that decay rapidly enough can be expressed in terms of two pieces: one with no curl and one with no divergence.\n\nFrom [Wikipedia](https://en.wikipedia.org/wiki/Helmholtz_decomposition) we have this formulation:\n\nLet $F$ be a vector field on a **bounded** domain $V$ which is twice continuously differentiable. Let $S$ be the surface enclosing $V$. Then $F$ can be decomposed into a curl-free  component and a divergence-free component:\n\n$$~\nF = -\\nabla(\\phi) + \\nabla\\times A.\n~$$\n\nWithout explaining why, these values can be computed using volume and\nsurface integrals:\n\n$$~\n\\begin{align}\n\\phi(\\vec{r}') &=\n\\frac{1}{4\\pi} \\int_V \\frac{\\nabla \\cdot F(\\vec{r})}{\\|\\vec{r}'-\\vec{r} \\|} dV -\n\\frac{1}{4\\pi} \\oint_S \\frac{F(\\vec{r})}{\\|\\vec{r}'-\\vec{r} \\|} \\cdot \\hat{N} dS\\\\\nA(\\vec{r}') &= \\frac{1}{4\\pi} \\int_V \\frac{\\nabla \\times F(\\vec{r})}{\\|\\vec{r}'-\\vec{r} \\|} dV +\n\\frac{1}{4\\pi} \\oint_S \\frac{F(\\vec{r})}{\\|\\vec{r}'-\\vec{r} \\|} \\times \\hat{N} dS.\n\\end{align}\n~$$\n\nIf $V = R^3$, an unbounded domain, *but* $F$ *vanishes* faster than $1/r$, then the theorem still holds with just the volume integrals:\n\n$$~\n\\begin{align}\n\\phi(\\vec{r}') &=\\frac{1}{4\\pi} \\int_V \\frac{\\nabla \\cdot F(\\vec{r})}{\\|\\vec{r}'-\\vec{r} \\|} dV\\\\\nA(\\vec{r}') &= \\frac{1}{4\\pi} \\int_V \\frac{\\nabla \\times F(\\vec{r})}{\\|\\vec{r}'-\\vec{r}\\|} dV.\n\\end{align}\n~$$\n\n\n## Change of variable\n\nThe divergence and curl are defined in a manner independent of the coordinate system, though the method to compute them depends on the Cartesian coordinate system. If that is inconvenient, then it is possible to develop the ideas in different coordinate systems.\n\nSome details are [here](https://en.wikipedia.org/wiki/Curvilinear_coordinates), the following is based on [some lecture notes](https://www.jfoadi.me.uk/documents/lecture_mathphys2_05.pdf).\n\nWe restrict to $n=3$ and use $(x,y,z)$ for Cartesian coordinates and $(u,v,w)$ for an *orthogonal* curvilinear coordinate system, such as spherical or cylindrical. If $\\vec{r} = \\langle x,y,z\\rangle$, then\n\n$$~\n\\begin{align}\nd\\vec{r} &= \\langle dx,dy,dz \\rangle = J \\langle du,dv,dw\\rangle\\\\\n&=\n\\left[ \\frac{\\partial{\\vec{r}}}{\\partial{u}} \\vdots\n\\frac{\\partial{\\vec{r}}}{\\partial{v}} \\vdots\n\\frac{\\partial{\\vec{r}}}{\\partial{w}} \\right] \\langle du,dv,dw\\rangle\\\\\n&= \\frac{\\partial{\\vec{r}}}{\\partial{u}} du +\n\\frac{\\partial{\\vec{r}}}{\\partial{v}} dv\n\\frac{\\partial{\\vec{r}}}{\\partial{w}} dw.\n\\end{align}\n~$$\n\nThe term ${\\partial{\\vec{r}}}/{\\partial{u}}$ is tangent to the curve formed by *assuming* $v$ and $w$ are constant and letting $u$ vary. Similarly for the other partial derivatives. Orthogonality assumes that at every point, these tangent vectors are orthogonal.\n\nAs ${\\partial{\\vec{r}}}/{\\partial{u}}$ is a vector it has a magnitude and direction. Define the scale factors as the magnitudes:\n\n$$~\nh_u = \\| \\frac{\\partial{\\vec{r}}}{\\partial{u}} \\|,\\quad\nh_v = \\| \\frac{\\partial{\\vec{r}}}{\\partial{v}} \\|,\\quad\nh_w = \\| \\frac{\\partial{\\vec{r}}}{\\partial{w}} \\|.\n~$$\n\nand let $\\hat{e}_u$, $\\hat{e}_v$, and $\\hat{e}_w$ be the unit, direction vectors.\n\nThis gives the following notation:\n\n$$~\nd\\vec{r} = h_u du \\hat{e}_u +  h_v dv \\hat{e}_v +  h_w dw \\hat{e}_w.\n~$$\n\n\nFrom here, we can express different formulas.\n\nFor line integrals, we have the line element:\n\n$$~\ndl = \\sqrt{d\\vec{r}\\cdot d\\vec{r}} = \\sqrt{(h_ud_u)^2 + (h_vd_v)^2 + (h_wd_w)^2}.\n~$$\n\n\nConsider the surface for constant $u$. The vector $\\hat{e}_v$ and $\\hat{e}_w$ lie in the surface's tangent plane, and the surface element will be:\n\n$$~\ndS_u = \\|  h_v dv \\hat{e}_v \\times  h_w dw \\hat{e}_w \\| = h_v h_w dv dw \\| \\hat{e}_v \\| = h_v h_w dv dw.\n~$$\n\nThis uses orthogonality, so $\\hat{e}_v \\times \\hat{e}_w$ is parallel to $\\hat{e}_u$ and has unit length. Similarly, $dS_v = h_u h_w du dw$ and $dS_w = h_u h_v du dv$ .\n\nThe volume element is found by *projecting* $d\\vec{r}$ onto the $\\hat{e}_u$, $\\hat{e}_v$, $\\hat{e}_w$ coordinate system through $(d\\vec{r} \\cdot\\hat{e}_u) \\hat{e}_u$, $(d\\vec{r} \\cdot\\hat{e}_v) \\hat{e}_v$, and $(d\\vec{r} \\cdot\\hat{e}_w) \\hat{e}_w$. Then forming the triple scalar product to compute the volume of the parallelepiped:\n\n$$~\n\\left[(d\\vec{r} \\cdot\\hat{e}_u) \\hat{e}_u\\right] \\cdot\n\\left(\n\\left[(d\\vec{r} \\cdot\\hat{e}_v) \\hat{e}_v\\right] \\times\n\\left[(d\\vec{r} \\cdot\\hat{e}_w) \\hat{e}_w\\right]\n\\right) =\n(h_u h_v h_w) ( du dv dw ) (\\hat{e}_u \\cdot (\\hat{e}_v \\times \\hat{e}_w) =\nh_u h_v h_w  du dv dw,\n~$$\n\nas the unit vectors are orthonormal, their triple scalar product is $1$ and $d\\vec{r}\\cdot\\hat{e}_u = h_u du$, etc.\n\n\n### Example\n\nWe consider spherical coordinates with\n\n$$~\nF(r, \\theta, \\phi) = \\langle\nr \\sin(\\phi) \\cos(\\theta),\nr \\sin(\\phi) \\sin(\\theta),\nr \\cos(\\phi)\n\\rangle.\n~$$\n\nThe following figure draws curves starting at $(r_0, \\theta_0, \\phi_0)$ formed by holding $2$ of the $3$ variables constant. The tangent vectors are added in blue. The surface $S_r$ formed by a constant value of $r$ is illustrated."
      ],
      "metadata": {}
    },
    {
      "outputs": [],
      "cell_type": "code",
      "source": [
        "plotly()\nFx(r, theta, phi) = r * cos(theta) * sin(phi)\nFy(r, theta, phi) = r * sin(theta) * sin(phi)\nFz(r, theta, phi) = r * cos(phi)\nF(r, theta, phi) = [Fx(r,theta,phi), Fy(r, theta, phi), Fz(r, theta, phi)]\nFtp(theta, phi;r = r0) = F(r, theta, phi)\n\nr0, t0, p0 = 1, pi/4, pi/4\ndr, dt, dp = 0.15, pi/8, pi/24\nnr = nt = np = 5\nrs = range(r0, r0+dr, length=nr)\nts = range(t0, t0+dt, length=nt)\nps = range(p0, p0 + dp, length=np)\n\n\n# plot lines for fixed r, theta, phi\np = plot(unzip(r -> F(r,t0,p0), r0, r0+dr)..., legend=false, linewidth=2, color=:black, camera=(50, 60))\nplot!(p, unzip(t -> F(r0,t,p0), t0, t0+dt)..., linewidth=2, color=:black)\nplot!(p, unzip(p -> F(r0,t0,p), p0, p0+dp)..., linewidth=2, color=:black)\n\nfor theta in ts[2:end]\n   plot!(p, unzip(phi -> Ftp(theta, phi), p0, p0+dp)...)\nend\nfor phi in ps[2:end]\n   plot!(p, unzip(theta -> Ftp(theta, phi), t0, t0+dt)...)\nend\n\n∂Fr(r, theta, phi) = [cos(theta) * sin(phi), sin(theta) * sin(phi), cos(phi)]\n∂Fθ(r, theta, phi) = [-r*sin(theta)*sin(phi), r*cos(theta)*sin(phi), 0]\n∂Fϕ(r, theta, phi) = [r*cos(theta)*cos(phi), r*sin(theta)*cos(phi), -r*sin(phi)]\n\npt = (r0, t0, p0)\narrow!(p, F(pt...), (1/15) * ∂Fr(pt...), color=:blue, linewidth=4)\narrow!(p, F(pt...), (1/4) * ∂Fθ(pt...), color=:blue, linewidth=4)\narrow!(p, F(pt...), (1/10) * ∂Fϕ(pt...), color=:blue, linewidth=4)\np"
      ],
      "metadata": {},
      "execution_count": null
    },
    {
      "cell_type": "markdown",
      "source": [
        "The tangent vectors found from the partial derivatives of $\\vec{r}$:\n\n$$~\n\\begin{align}\n\\frac{\\partial{\\vec{r}}}{\\partial{r}} &=\n\\langle \\cos(\\theta) \\cdot \\sin(\\phi), \\sin(\\theta) \\cdot \\sin(\\phi), \\cos(\\phi)\\rangle,\\\\\n\\frac{\\partial{\\vec{r}}}{\\partial{\\theta}} &=\n\\langle -r\\cdot\\sin(\\theta)\\cdot\\sin(\\phi), r\\cdot\\cos(\\theta)\\cdot\\sin(\\phi), 0\\rangle,\\\\\n\\frac{\\partial{\\vec{r}}}{\\partial{\\phi}} &=\n\\langle r\\cdot\\cos(\\theta)\\cdot\\cos(\\phi), r\\cdot\\sin(\\theta)\\cdot\\cos(\\phi), -r\\cdot\\sin(\\phi) \\rangle.\n\\end{align}\n~$$\n\nWith this, we have $h_r=1$, $h_\\theta=r\\sin(\\phi)$, and $h_\\phi = r$. So that\n\n$$~\ndl = \\sqrt{dr^2 + (r\\sin(\\phi)d\\theta^2) + (rd\\phi)^2},\\quad\ndS_r = r^2\\sin(\\phi)d\\theta d\\phi,\\quad\ndS_\\theta = rdr d\\phi,\\quad\ndS_\\phi = r\\sin(\\phi)dr d\\theta, \\quad\\text{and}\\quad\ndV = r^2\\sin(\\phi) drd\\theta d\\phi.\n~$$\n\nThe following visualizes the volume and the surface elements."
      ],
      "metadata": {}
    },
    {
      "outputs": [],
      "cell_type": "code",
      "source": [
        "plotly()\nFx(r, theta, phi) = r * cos(theta) * sin(phi)\nFy(r, theta, phi) = r * sin(theta) * sin(phi)\nFz(r, theta, phi) = r * cos(phi)\nF(r, theta, phi) = [Fx(r,theta,phi), Fy(r, theta, phi), Fz(r, theta, phi)]\nFtp(theta, phi;r = r0) = F(r, theta, phi)\n\nr0, t0, p0 = 1, pi/4, pi/4\ndr, dt, dp = 0.15, pi/8, pi/24\nnr = nt = np = 5\nrs = range(r0, r0+dr, length=nr)\nts = range(t0, t0+dt, length=nt)\nps = range(p0, p0 + dp, length=np)\n\n\n# plot lines for fixed r, theta, phi\np = plot(unzip(r -> F(r,t0,p0), r0, r0+dr)..., legend=false, linewidth=2, color=:black, camera=(50, 60))\nplot!(p, unzip(r -> F(r,t0+dt,p0), r0, r0+dr)..., linewidth=2, color=:black)\nplot!(p, unzip(r -> F(r,t0,p0+dp), r0, r0+dr)..., linewidth=2, color=:black)\nplot!(p, unzip(r -> F(r,t0+dt,p0+dp), r0, r0+dr)..., linewidth=2, color=:black)\n\nplot!(p, unzip(t -> F(r0,t,p0), t0, t0+dt)..., linewidth=2, color=:black)\nplot!(p, unzip(t -> F(r0+dr,t,p0), t0, t0+dt)..., linewidth=2, color=:black)\nplot!(p, unzip(t -> F(r0,t,p0+dp), t0, t0+dt)..., linewidth=2, color=:black)\nplot!(p, unzip(t -> F(r0+dr,t,p0+dp), t0, t0+dt)..., linewidth=2, color=:black)\n\nplot!(p, unzip(p -> F(r0,t0,p), p0, p0+dp)..., linewidth=2, color=:black)\nplot!(p, unzip(p -> F(r0+dr,t0,p), p0, p0+dp)..., linewidth=2, color=:black)\nplot!(p, unzip(p -> F(r0,t0+dt,p), p0, p0+dp)..., linewidth=2, color=:black)\nplot!(p, unzip(p -> F(r0+dr,t0+dt,p), p0, p0+dp)..., linewidth=2, color=:black)\n\n\n∂Fr(r, theta, phi) = [cos(theta) * sin(phi), sin(theta) * sin(phi), cos(phi)]\n∂Fθ(r, theta, phi) = [-r*sin(theta)*sin(phi), r*cos(theta)*sin(phi), 0]\n∂Fϕ(r, theta, phi) = [r*cos(theta)*cos(phi), r*sin(theta)*cos(phi), -r*sin(phi)]\n\npt = (r0, t0, p0)\narrow!(p, F(pt...), (1/15) * ∂Fr(pt...), color=:blue, linewidth=4)\narrow!(p, F(pt...), (1/4) * ∂Fθ(pt...), color=:blue, linewidth=4)\narrow!(p, F(pt...), (1/10) * ∂Fϕ(pt...), color=:blue, linewidth=4)\np"
      ],
      "metadata": {},
      "execution_count": null
    },
    {
      "cell_type": "markdown",
      "source": [
        "### The gradient in a new coordinate system\n\nIf $f$ is a scalar function then $df = \\nabla{f} \\cdot d\\vec{r}$ by the chain rule. Using the curvilinear coordinates:\n\n$$~\ndf =\n\\frac{\\partial{f}}{\\partial{u}} du +\n\\frac{\\partial{f}}{\\partial{v}} dv +\n\\frac{\\partial{f}}{\\partial{w}} dw\n=\n\\frac{1}{h_u}\\frac{\\partial{f}}{\\partial{u}} h_udu +\n\\frac{1}{h_v}\\frac{\\partial{f}}{\\partial{v}} h_vdv +\n\\frac{1}{h_w}\\frac{\\partial{f}}{\\partial{w}} h_wdw.\n~$$\n\nBut, as was used above, $d\\vec{r} \\cdot \\hat{e}_u = h_u du$, etc. so $df$ can be re-expressed as:\n\n$$~\ndf = (\\frac{1}{h_u}\\frac{\\partial{f}}{\\partial{u}}\\hat{e}_u +\n\\frac{1}{h_v}\\frac{\\partial{f}}{\\partial{v}}\\hat{e}_v +\n\\frac{1}{h_w}\\frac{\\partial{f}}{\\partial{w}}\\hat{e}_w) \\cdot d\\vec{r} =\n\\nabla{f} \\cdot d\\vec{r}.\n~$$\n\nThe gradient is the part within the parentheses.\n\n----\n\nAs an example, in cylindrical coordinates, we have $h_r =1$, $h_\\theta=r$, and $h_z=1$, giving:\n\n$$~\n\\nabla{f} = \\frac{\\partial{f}}{\\partial{r}}\\hat{e}_r +\n\\frac{1}{r}\\frac{\\partial{f}}{\\partial{\\theta}}\\hat{e}_\\theta +\n\\frac{\\partial{f}}{\\partial{z}}\\hat{e}_z\n~$$\n\n\n### The divergence in a new coordinate system\n\nThe divergence is a result of the limit of a surface integral,\n\n$$~\n\\nabla \\cdot F = \\lim \\frac{1}{\\Delta{V}}\\oint_S F \\cdot \\hat{N} dS.\n~$$\n\nTaking $V$ as a box in the curvilinear coordinates, with side lengths $h_udu$, $h_vdv$, and $h_wdw$\nthe surface integral is computed by projecting $F$ onto each normal area element and multiplying by the area. The task is similar to how the the divergence was derived above, only now the terms are like $\\partial{(F_uh_vh_w)}/\\partial{u}$ due to the scale factors ($F_u$ is the u component of $F$.) The result is:\n\n$$~\n\\nabla\\cdot F = \\frac{1}{h_u h_v h_w}\\left[\n\\frac{\\partial{(F_uh_vh_w)}}{\\partial{u}} +\n\\frac{\\partial{(h_uF_vh_w)}}{\\partial{v}} +\n\\frac{\\partial{(h_uh_vF_w)}}{\\partial{w}} \\right].\n~$$\n\n----\n\nFor example, in cylindrical coordinates, we have\n\n$$~\n\\nabla \\cdot F = \\frac{1}{r}\n\\left[\n\\frac{\\partial{F_r r}}{\\partial{r}} +\n\\frac{\\partial{F_\\theta}}{\\partial{\\theta}} +\n\\frac{\\partial{F_x}}{\\partial{z}}\n\\right].\n~$$\n\n### The curl in a new coordinate system\n\nThe curl, like the divergence, can be expressed as the limit of an integral:\n\n$$~\n(\\nabla \\times F) \\cdot \\hat{N} = \\lim \\frac{1}{\\Delta{S}} \\oint_C F \\cdot d\\vec{r},\n~$$\n\nwhere $S$ is a surface perpendicular to $\\hat{N}$ with boundary $C$. For a small rectangular surface, the derivation is similar to above, only the scale factors are included. This gives, say, for the $\\hat{e}_u$ normal, $\\frac{\\partial{(h_zF_z)}}{\\partial{y}} - \\frac{\\partial{(h_yF_y)}}{\\partial{z}}$. The following determinant form combines the terms compactly:\n\n$$~\n\\nabla\\times{F} = \\det \\left[\n\\begin{array}{}\nh_u\\hat{e}_u & h_v\\hat{e}_v & h_w\\hat{e}_w \\\\\n\\frac{\\partial}{\\partial{u}} & \\frac{\\partial}{\\partial{v}} & \\frac{\\partial}{\\partial{w}} \\\\\nh_uF_u & h_v F_v & h_w F_w\n\\end{array}\n\\right].\n~$$\n\n----\n\nFor example, in cylindrical coordinates, the curl is:\n\n$$~\n\\det\\left[\n\\begin{array}{}\n\\hat{r} & r\\hat{\\theta} & \\hat{k} \\\\\n\\frac{\\partial}{\\partial{r}} & \\frac{\\partial}{\\partial{\\theta}} & \\frac{\\partial}{\\partial{z}} \\\\\nF_r & rF_\\theta & F_z\n\\end{array}\n\\right]\n~$$\n\nApplying this to the function $F(r,\\theta, z) = \\hat{\\theta}$ we get:\n\n$$~\n\\text{curl}(F) = \\det\\left[\n\\begin{array}{}\n\\hat{r} & r\\hat{\\theta} & \\hat{k} \\\\\n\\frac{\\partial}{\\partial{r}} & \\frac{\\partial}{\\partial{\\theta}} & \\frac{\\partial}{\\partial{z}} \\\\\n0 & r & 0\n\\end{array}\n\\right] =\n\\hat{k} \\det\\left[\n\\begin{array}{}\n\\frac{\\partial}{\\partial{r}} & \\frac{\\partial}{\\partial{\\theta}}\\\\\n0 & r\n\\end{array}\n\\right] =\n\\hat{k}.\n~$$\n\nAs $F$ represents a vector field that rotates about the $z$ axis at a constant rate, the magnitude of the curl should be a constant and it should point in the $\\hat{k}$ direction, as we found.\n\n## Questions\n\n\n###### Question\n\nNumerically find the divergence of $F(x,y,z) = \\langle xy, yz, zx\\rangle$ at the point $\\langle 1,2,3\\rangle$."
      ],
      "metadata": {}
    },
    {
      "outputs": [],
      "cell_type": "code",
      "source": [
        "F(x,y,z) = [x*y, y*z, z*x]\npt = [1,2,3]\nJac = ForwardDiff.jacobian(pt -> F(pt...), pt)\nval = sum(diag(Jac))\nnumericq(val)"
      ],
      "metadata": {},
      "execution_count": null
    },
    {
      "cell_type": "markdown",
      "source": [
        "###### Question\n\nNumerically find the curl of $F(x,y,z) = \\langle xy, yz, zx\\rangle$ at the point $\\langle 1,2,3\\rangle$. What is the $x$ component?"
      ],
      "metadata": {}
    },
    {
      "outputs": [],
      "cell_type": "code",
      "source": [
        "F(x,y,z) = [x*y, y*z, z*x]\nF(v) = F(v...)\npt = [1,2,3]\nvals = (∇×F)(pt)\nval = vals[1]\nnumericq(val)"
      ],
      "metadata": {},
      "execution_count": null
    },
    {
      "cell_type": "markdown",
      "source": [
        "###### Question\n\nLet $F(x,y,z) = \\langle \\sin(x), e^{xy}, xyz\\rangle$. Find the divergence of $F$ symbolically."
      ],
      "metadata": {}
    },
    {
      "outputs": [],
      "cell_type": "code",
      "source": [
        "choices = [\nL\"x y + x e^{x y} + \\cos{\\left (x \\right )}\",\nL\"x y + x e^{x y}\",\nL\"x e^{x y} + \\cos{\\left (x \\right )}\"\n]\nans=1\nradioq(choices, ans)"
      ],
      "metadata": {},
      "execution_count": null
    },
    {
      "cell_type": "markdown",
      "source": [
        "###### Question\n\nLet $F(x,y,z) = \\langle \\sin(x), e^{xy}, xyz\\rangle$. Find the curl of $F$ symbolically. What is the $x$ component?"
      ],
      "metadata": {}
    },
    {
      "outputs": [],
      "cell_type": "code",
      "source": [
        "choices = [\nL\"xz\",\nL\"-yz\",\nL\"ye^{xy}\"\n]\nans = 1\nradioq(choices, ans)"
      ],
      "metadata": {},
      "execution_count": null
    },
    {
      "cell_type": "markdown",
      "source": [
        "###### Question\n\nLet $\\phi(x,y,z) = x + 2y + 3z$. We know that $\\nabla\\times\\nabla{\\phi}$ is zero by the vanishing property. Compute $\\nabla\\cdot\\nabla{\\phi}$."
      ],
      "metadata": {}
    },
    {
      "outputs": [],
      "cell_type": "code",
      "source": [
        "choices=[\nL\"0\",\nL\"\\vec{0}\",\nL\"6\"\n]\nans=1\nradioq(choices, ans)"
      ],
      "metadata": {},
      "execution_count": null
    },
    {
      "cell_type": "markdown",
      "source": [
        "###### Question\n\nIn two dimension's the curl of a gradient field simplifies to:\n\n$$~\n\\nabla\\times\\nabla{f} = \\nabla\\times\n\\langle\\frac{\\partial{f}}{\\partial{x}},\n\\frac{\\partial{f}}{\\partial{y}}\\rangle =\n\\frac{\\partial{\\frac{\\partial{f}}{\\partial{y}}}}{\\partial{x}} -\n\\frac{\\partial{\\frac{\\partial{f}}{\\partial{x}}}}{\\partial{y}}.\n~$$"
      ],
      "metadata": {}
    },
    {
      "outputs": [],
      "cell_type": "code",
      "source": [
        "choices = [\nL\"This is $0$ if the partial derivatives are continuous by Schwarz's (Clairault's) theorem\",\nL\"This is $0$ for any $f$, as $\\nabla\\times\\nabla$ is $0$ since the cross product of vector with itself is the $0$ vector.\"\n]\nans = 1\nradioq(choices, ans)"
      ],
      "metadata": {},
      "execution_count": null
    },
    {
      "cell_type": "markdown",
      "source": [
        "###### Question\n\nBased on this vector-field plot"
      ],
      "metadata": {}
    },
    {
      "outputs": [],
      "cell_type": "code",
      "source": [
        "gr()\nF(x,y) = [-y,x]/sqrt(0.0000001 + x^2+y^2)\nvectorfieldplot(F, xlim=(-5,5),ylim=(-5,5), nx=15, ny=15)"
      ],
      "metadata": {},
      "execution_count": null
    },
    {
      "cell_type": "markdown",
      "source": [
        "which seems likely"
      ],
      "metadata": {}
    },
    {
      "outputs": [],
      "cell_type": "code",
      "source": [
        "choices=[\n\"The field is incompressible (divergence free)\",\n\"The field is irrotational (curl free)\",\n\"The field has a non-trivial curl and divergence\"\n]\nans=1\nradioq(choices, ans, keep_order=true)"
      ],
      "metadata": {},
      "execution_count": null
    },
    {
      "cell_type": "markdown",
      "source": [
        "###### Question\n\nBased on this vectorfield plot"
      ],
      "metadata": {}
    },
    {
      "outputs": [],
      "cell_type": "code",
      "source": [
        "gr()\nF(x,y) = [x,y]/sqrt(0.0000001 + x^2+y^2)\nvectorfieldplot(F, xlim=(-5,5),ylim=(-5,5), nx=15, ny=15)"
      ],
      "metadata": {},
      "execution_count": null
    },
    {
      "cell_type": "markdown",
      "source": [
        "which seems likely"
      ],
      "metadata": {}
    },
    {
      "outputs": [],
      "cell_type": "code",
      "source": [
        "choices=[\n\"The field is incompressible (divergence free)\",\n\"The field is irrotational (curl free)\",\n\"The field has a non-trivial curl and divergence\"\n]\nans=2\nradioq(choices, ans, keep_order=true)"
      ],
      "metadata": {},
      "execution_count": null
    },
    {
      "cell_type": "markdown",
      "source": [
        "###### Question\n\nThe electric field $E$ (by Maxwell's equations) satisfies:"
      ],
      "metadata": {}
    },
    {
      "outputs": [],
      "cell_type": "code",
      "source": [
        "choices=[\n\"The field is incompressible (divergence free)\",\n\"The field is irrotational (curl free)\",\n\"The field has a non-trivial curl and divergence\"\n]\nans=3\nradioq(choices, ans, keep_order=true)"
      ],
      "metadata": {},
      "execution_count": null
    },
    {
      "cell_type": "markdown",
      "source": [
        "###### Question\n\nThe magnetic field $B$ (by Maxwell's equations) satisfies:"
      ],
      "metadata": {}
    },
    {
      "outputs": [],
      "cell_type": "code",
      "source": [
        "choices=[\n\"The field is incompressible (divergence free)\",\n\"The field is irrotational (curl free)\",\n\"The field has a non-trivial curl and divergence\"\n]\nans=1\nradioq(choices, ans, keep_order=true)"
      ],
      "metadata": {},
      "execution_count": null
    },
    {
      "cell_type": "markdown",
      "source": [
        "###### Question\n\nFor spherical coordinates, $\\Phi(r, \\theta, \\phi)=r \\langle \\sin\\phi\\cos\\theta,\\sin\\phi\\sin\\theta,\\cos\\phi\\rangle$,  the scale factors are $h_r = 1$, $h_\\theta=r\\sin\\phi$, and $h_\\phi=r$.\n\nThe curl then will then be\n\n$$~\n\\nabla\\times{F} = \\det \\left[\n\\begin{array}{}\n\\hat{e}_r & r\\sin\\phi\\hat{e}_\\theta & r\\hat{e}_\\phi \\\\\n\\frac{\\partial}{\\partial{r}} & \\frac{\\partial}{\\partial{\\theta}} & \\frac{\\partial}{\\partial{phi}} \\\\\nF_r & r\\sin\\phi F_\\theta & r F_\\phi\n\\end{array}\n\\right].\n~$$\n\nFor a *radial* function $F = h(r)e_r$. (That is $F_r = h(r)$, $F_\\theta=0$, and $F_\\phi=0$. What is the curl of $F$?"
      ],
      "metadata": {}
    },
    {
      "outputs": [],
      "cell_type": "code",
      "source": [
        "choices = [\nL\"\\vec{0}\",\nL\"re_\\phi\",\nL\"rh'(r)e_\\phi\"\n]\nans=1\nradioq(choices, ans)"
      ],
      "metadata": {},
      "execution_count": null
    }
  ],
  "nbformat_minor": 2,
  "metadata": {
    "language_info": {
      "file_extension": ".jl",
      "mimetype": "application/julia",
      "name": "julia",
      "version": "1.5.0"
    },
    "kernelspec": {
      "name": "julia-1.5",
      "display_name": "Julia 1.5.0",
      "language": "julia"
    }
  },
  "nbformat": 4
}
