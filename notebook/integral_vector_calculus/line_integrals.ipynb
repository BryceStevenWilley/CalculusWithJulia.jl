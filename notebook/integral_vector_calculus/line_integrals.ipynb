{
  "cells": [
    {
      "cell_type": "markdown",
      "source": [
        "# Line and Surface Integrals"
      ],
      "metadata": {}
    },
    {
      "outputs": [],
      "cell_type": "code",
      "source": [
        "using CalculusWithJulia\nusing CalculusWithJulia.WeaveSupport\nusing Plots\nnothing"
      ],
      "metadata": {},
      "execution_count": null
    },
    {
      "cell_type": "markdown",
      "source": [
        "This section discusses generalizations to the one- and two-dimensional definite integral. These two integrals integrate a function over a one or two dimensional region (e.g., $[a,b]$ or $[a,b]\\times[c,d]$). The generalization is to change this region to a one-dimensional piece of path in $R^n$ or a two-dimensional surface in $R^3$.\n\nTo fix notation, consider $\\int_a^b f(x)dx$ and $\\int_a^b\\int_c^d g(x,y) dy dx$. In defining both, a Riemann sum is involved, these involve a partition of $[a,b]$ or $[a,b]\\times[c,d]$ and terms like $f(c_i) \\Delta{x_i}$ and $g(c_i, d_j) \\Delta{x_i}\\Delta{y_j}$. The $\\Delta$s the diameter of an intervals $I_i$ or $J_j$.  Consider now two parameterizations: $\\vec{r}(t)$ for $t$ in $[a,b]$ and $\\Phi(u,v)$ for $(u,v)$ in $[a,b]\\times[c,d]$. One is a parameterization of a space curve, $\\vec{r}:R\\rightarrow R^n$; the other a parameterization of a surface, $\\Phi:R^2 \\rightarrow R^3$. The *image* of $I_i$ or $I_i\\times{J_j}$ under $\\vec{r}$ and $\\Phi$, respectively, will look *almost* linear if the intervals are small enough, so, at least on the microscopic level. A Riemann term can be based around this fact, provided it is understood how much the two parameterizations change the interval $I_i$ or region $I_i\\times{J_j}$.\n\nThis chapter will quantify this change, describing it in terms of associated vectors to $\\vec{r}$ and $\\Phi$, yielding formulas for an integral of a *scalar* function along a path or over a surface. Furthermore, these integrals will be generalized to give meaning to  physically useful interactions between the path or surface and a vector field.\n\n\n\nBefore beginning, we will use many of the packages and functions provided by `CalculusWithJulia`."
      ],
      "metadata": {}
    },
    {
      "outputs": [],
      "cell_type": "code",
      "source": [
        "using CalculusWithJulia\nusing Plots"
      ],
      "metadata": {},
      "execution_count": null
    },
    {
      "cell_type": "markdown",
      "source": [
        "## Line integrals\n\nIn [arc length](../integrals/arc-length.html) a formula to give the\narc-length of the graph of a univariate function or parameterized\ncurve in $2$ dimensions is given in terms of an integral. The\nintuitive approximation involved segments of the curve. To review, let\n$\\vec{r}(t)$, $a \\leq t \\leq b$, describe a curve, $C$, in $R^n$, $n\n\\geq 2$. Partition $[a,b]$ into $a=t_0 < t_1 < \\cdots < t_{n-1} < t_n =\nb$.\n\nConsider the path segment  connecting $\\vec{r}(t_{i-1})$ to $\\vec{r}(t_i)$. If the partition of $[a,b]$ is microscopically small, this path will be *approximated* by $\\vec{r}(t_i) - \\vec{r}(t_{i-1})$. This difference in turn is approximately $\\vec{r}'(t_i) (t_i - t_{i-1}) = \\vec{r}'(t_i) \\Delta{t}_i$, provided $\\vec{r}$ is differentiable.\n\n\nIf $f:R^n \\rightarrow R$ is a scalar function. Taking right-hand end points, we can consider the Riemann sum $\\sum (f\\circ\\vec{r})(t_i) \\|\\vec{r}'(t_i)\\| \\Delta{t}_i$.  For integrable functions, this sum converges to the *line integral* defined as a one-dimensional integral for a given parameterization:\n\n$$~\n\\int_a^b f(\\vec{r}(t)) \\| \\vec{r}'(t) \\| dt.\n~$$\n\nThe weight $\\| \\vec{r}'(t) \\|$ can be interpreted by how much the parameterization stretches (or contracts) an interval $[t_{i-1},t_i]$ when mapped to its corresponding path segment.\n\n----\n\n\nThe curve $C$ can be parameterized many different ways by introducing a function $s(t)$ to change the time. If we use the arc-length parameterization with $\\gamma(0) = a$ and $\\gamma(l) = b$, where $l$ is the arc-length of $C$, then we have by change of variables $t = \\gamma(s)$ that\n\n$$~\n\\int_a^b f(\\vec{r}(t)) \\| \\vec{r}'(t) \\| dt =\n\\int_0^l (f \\circ \\vec{r} \\circ \\gamma)(s) \\| \\frac{d\\vec{r}}{dt}\\mid_{t = \\gamma(s)}\\| \\gamma'(s) ds.\n~$$\n\nBut, by the chain rule:\n\n$$~\n\\frac{d(\\vec{r} \\circ\\gamma)}{du}(s) = \\frac{d\\vec{r}}{dt}\\mid_{t=\\gamma(s)} \\frac{d\\gamma}{du}.\n~$$\n\nSince $\\gamma$ is increasing, $\\gamma' \\geq 0$, so we get:\n\n$$~\n\\int_a^b f(\\vec{r}(t)) \\| \\vec{r}'(t) \\| dt =\n\\int_0^l (f \\circ \\vec{r} \\circ \\gamma)(s) \\|\\frac{d(\\vec{r}\\circ\\gamma)}{ds}\\| ds =\n\\int_0^l (f \\circ \\vec{r} \\circ \\gamma)(s) ds.\n~$$\n\nThe last line, as the derivative is the unit tangent vector, $T$, with norm $1$.\n\nThis shows that the line integral is *not* dependent on the parameterization. The notation $\\int_C f ds$ is used to represent the line integral of a scalar function, the $ds$ emphasizing an implicit parameterization of $C$ by arc-length. When $C$ is a closed curve, the $\\oint_C fds$ is used to indicate that.\n\n### Example\n\n\nWhen $f$ is identically $1$, the line integral returns the arc length. When $f$ varies, then the line integral can be interpreted a few ways. First, if $f \\geq 0$ and we consider a sheet hung from the curve $f\\circ \\vec{r}$ and cut to just touch the ground, the line integral gives the area of this sheet, in the same way an integral gives the area under a positive curve.\n\nIf the composition $f \\circ \\vec{r}$ is viewed as a density of the arc (as though it were constructed out of some non-uniform material), then the line integral can be seen to return the mass of the arc.\n\nSuppose $\\rho(x,y,z) = 5 - z$ gives the density of an arc where the arc is parameterized by $\\vec{r}(t) = \\langle \\cos(t), 0, \\sin(t) \\rangle$, $0 \\leq t \\leq \\pi$. (A half-circular arc.) Find the mass of the arc."
      ],
      "metadata": {}
    },
    {
      "outputs": [],
      "cell_type": "code",
      "source": [
        "rho(x,y,z) = 5 - z\nrho(v) = rho(v...)\nr(t) = [cos(t), 0, sin(t)]\n@vars t\nrp = diff.(r(t),t)  # r'\narea = integrate((rho ∘ r)(t) * norm(rp), (t, 0, PI))"
      ],
      "metadata": {},
      "execution_count": null
    },
    {
      "cell_type": "markdown",
      "source": [
        "Continuing, we could find the center of mass by integrating $\\int_C z (f\\circ \\vec{r}) \\|r'\\| dt$:"
      ],
      "metadata": {}
    },
    {
      "outputs": [],
      "cell_type": "code",
      "source": [
        "Mz = integrate(r(t)[3] * (rho ∘ r)(t) * norm(rp), (t, 0, PI))\nMz"
      ],
      "metadata": {},
      "execution_count": null
    },
    {
      "cell_type": "markdown",
      "source": [
        "Finally, we get the center of mass by"
      ],
      "metadata": {}
    },
    {
      "outputs": [],
      "cell_type": "code",
      "source": [
        "Mz / area"
      ],
      "metadata": {},
      "execution_count": null
    },
    {
      "cell_type": "markdown",
      "source": [
        "##### Example\n\nLet $f(x,y,z) = x\\sin(y)\\cos(z)$ and $C$ the path described by $\\vec{r}(t) = \\langle t, t^2, t^3\\rangle$ for $0 \\leq t \\leq \\pi$. Find the line integral $\\int_C fds$.\n\nWe find the numeric value with:"
      ],
      "metadata": {}
    },
    {
      "outputs": [],
      "cell_type": "code",
      "source": [
        "f(x,y,z) = x*sin(y)*cos(z)\nf(v) = f(v...)\nr(t) = [t, t^2, t^3]\nintegrand(t) = (f ∘ r)(t) * norm(r'(t))\nquadgk(integrand, 0, pi)"
      ],
      "metadata": {},
      "execution_count": null
    },
    {
      "cell_type": "markdown",
      "source": [
        "##### Example\n\nImagine the $z$ axis is a wire and in the $x$-$y$ plane the unit circle is a path. If there is a magnetic field, $B$, then the field will induce a current to flow along the wire. [Ampere's]https://tinyurl.com/y4gl9pgu) circuital law states $\\oint_C B\\cdot\\hat{T} ds = \\mu_0 I$, where $\\mu_0$ is a constant and $I$ the current. If the magnetic field is given by $B=(x^2+y^2)^{1/2}\\langle -y,x,0\\rangle$ compute $I$ in terms of $\\mu_0$.\n\nWe have the path is parameterized by $\\vec{r}(t) = \\langle \\cos(t), \\sin(t), 0\\rangle$, and so $\\hat{T} = \\langle -\\sin(t), \\cos(t), 0\\rangle$ and the integrand, $B\\cdot\\hat{T}$ is\n\n$$~\n(x^2 + y^2)^{-1/2}\\langle -\\sin(t), \\cos(t), 0\\rangle\\cdot\n\\langle -\\sin(t), \\cos(t), 0\\rangle = (x^2 + y^2)(-1/2),\n~$$\n\nwhich is $1$ on the path $C$. So $\\int_C B\\cdot\\hat{T} ds = \\int_C ds = 2\\pi$. So the current satisfies $2\\pi = \\mu_0 I$, so $I = (2\\pi)/\\mu_0$.\n\n(Ampere's law is more typically used to find $B$ from an current, then $I$ from $B$, for special circumstances. The Biot-Savart does this more generally.)\n\n### Line integrals and vector fields; work and flow\n\nAs defined above, the line integral is defined for a scalar function, but this can be generalized. If $F:R^n \\rightarrow R^n$ is a vector field, then each component is a scalar function, so the integral $\\int (F\\circ\\vec{r}) \\|\\vec{r}'\\| dt$ can be defined component by component to yield a vector.\n\nHowever, it proves more interesting to define an integral\nincorporating how properties of the path interact with the vector\nfield. The key is $\\vec{r}'(t) dt = \\hat{T} \\| \\vec{r}'(t)\\|dt$ describes both the magnitude of how the parameterization stretches an interval but also a direction the path is taking. This direction allows interaction with the vector field.\n\nThe canonical example is [work](https://en.wikipedia.org/wiki/Work_(physics)), which is a measure of a\nforce times a distance. For an object following a path, the work done is still a force times a distance, but only that force in the direction of the motion is considered. (The *constraint force* keeping the object on the path does no work.) Mathematically, $\\hat{T}$ describes the direction of motion along a path, so the work done in moving an object over a small segment of the path is $(F\\cdot\\hat{T}) \\Delta{s}$. Adding up incremental amounts of work leads to a Riemann sum for a line integral involving a vector field.\n\n> The *work* done in moving an object along a path $C$ by a force field, $F$, is given by the integral\n> $$~\n> \\int_C (F \\cdot \\hat{T}) ds = \\int_C F\\cdot d\\vec{r} = \\int_a^b ((F\\circ\\vec{r}) \\cdot \\frac{d\\vec{r}}{dt})(t) dt.\n> ~$$\n\n\n----\n\n\nIn the $n=2$ case, there is another useful interpretation of the line integral.\nIn this dimension the normal vector, $\\hat{N}$, is well defined in terms of the tangent vector, $\\hat{T}$, through a rotation:\n$\\langle a,b\\rangle^t = \\langle b,-a\\rangle^t$. (The negative, $\\langle -b,a\\rangle$ is also a candidate, the difference in this choice would lead to a sign difference in  in the answer.)\nThis allows the definition of a different line integral, called a flow integral, as detailed later:\n\n> The *flow* across a curve $C$ is given by\n> $$~\n> \\int_C (F\\cdot\\hat{N}) ds = \\int_a^b (F \\circ \\vec{r})(t) \\cdot (\\vec{r}'(t))^t dt.\n> ~$$\n\n\n### Examples\n\n##### Example\n\nLet $F(x,y,z) = \\langle x - y, x^2 - y^2, x^2 - z^2 \\rangle$ and\n$\\vec{r}(t) = \\langle t, t^2, t^3 \\rangle$. Find the work required to move an object along the curve described by $\\vec{r}$ between $0$ and $1$."
      ],
      "metadata": {}
    },
    {
      "outputs": [],
      "cell_type": "code",
      "source": [
        "F(x,y,z) = [x-y, x^2 - y^2, x^2 - z^2]\nF(v) = F(v...)\nr(t) = [t, t^2, t^3]\n\n@vars t real=true\nintegrate((F ∘ r)(t) ⋅ diff.(r(t), t), (t, 0, 1))"
      ],
      "metadata": {},
      "execution_count": null
    },
    {
      "cell_type": "markdown",
      "source": [
        "##### Example\n\nLet $C$ be a closed curve. For a closed curve, the work integral is also termed the *circulation*. For the vector field $F(x,y) = \\langle -y, x\\rangle$ compute the circulation around the triangle with vertices $(-1,0)$, $(1,0)$, and $(0,1)$.\n\nWe have three integrals using $\\vec{r}_1(t) = \\langle -1+2t, 0\\rangle$,\n$\\vec{r}_2(t) = \\langle 1-t, t\\rangle$ and\n$\\vec{r}_3(t) = \\langle -t, 1-t \\rangle$, all from $0$ to $1$. (Check that the parameterization is counter clockwise.)\n\nThe circulation then is:"
      ],
      "metadata": {}
    },
    {
      "outputs": [],
      "cell_type": "code",
      "source": [
        "r1(t) = [-1 + 2t, 0]\nr2(t) = [1-t, t]\nr3(t) = [-t, 1-t]\nF(x,y) = [-y, x]\nF(v) = F(v...)\nintegrand(r) = t -> (F ∘ r)(t) ⋅ r'(t)\nC1 = quadgk(integrand(r1), 0, 1)[1]\nC2 = quadgk(integrand(r2), 0, 1)[1]\nC3 = quadgk(integrand(r3), 0, 1)[1]\nC1 + C2 + C3"
      ],
      "metadata": {},
      "execution_count": null
    },
    {
      "cell_type": "markdown",
      "source": [
        "That this is non-zero reflects a feature of the vector field. In this case, the vector field spirals around the origin, and the circulation is non zero.\n\n##### Example\n\nLet $F$ be the force of gravity exerted by a mass $M$ on a mass $m$ a distance $\\vec{r}$ away, that is $F(\\vec{r}) = -(GMm/\\|\\vec{r}\\|^2)\\hat{r}$.\n\nLet $\\vec{r}(t) = \\langle 1-t, 0, t\\rangle$, $0 \\leq t \\leq 1$. For concreteness, we take $G M m$ to be $10$. Then the work to move the mass is given by:"
      ],
      "metadata": {}
    },
    {
      "outputs": [],
      "cell_type": "code",
      "source": [
        "using QuadGK\nuvec(v) = v/norm(v) # unit vector\nGMm = 10\nF(r) = - GMm /norm(r)^2 * uvec(r)\nr(t) = [1-t, 0, t]\nquadgk(t -> (F ∘ r)(t) ⋅ r'(t), 0, 1)"
      ],
      "metadata": {},
      "execution_count": null
    },
    {
      "cell_type": "markdown",
      "source": [
        "Hmm, a value of $0$. That's a bit surprising at first glance. Maybe it had something to do with the specific path chosen. To investigate, we connect the start and endpoints with a circular arc, instead of a straight line:"
      ],
      "metadata": {}
    },
    {
      "outputs": [],
      "cell_type": "code",
      "source": [
        "r(t) = [cos(t), 0, sin(t)]\nquadgk(t -> (F ∘ r)(t) ⋅ r'(t), 0, 1)"
      ],
      "metadata": {},
      "execution_count": null
    },
    {
      "cell_type": "markdown",
      "source": [
        "Still $0$. We will see next that this is not surprising if something about $F$ is known."
      ],
      "metadata": {}
    },
    {
      "outputs": [],
      "cell_type": "code",
      "source": [
        "note(\"\"\"\nThe [Washington Post](https://www.washingtonpost.com/outlook/everything-you-thought-you-knew-about-gravity-is-wrong/2019/08/01/627f3696-a723-11e9-a3a6-ab670962db05_story.html\") had an article by Richard Panek with the quote \"Well, yes — depending on what we mean by 'attraction.' Two bodies of mass don’t actually exert some mysterious tugging on each other. Newton himself tried to avoid the word 'attraction' for this very reason. All (!) he was trying to do was find the math to describe the motions both down here on Earth and up there among the planets (of which Earth, thanks to Copernicus and Kepler and Galileo, was one).\" The point being the formula above is a mathematical description of the force, but not an explanation of how the force actually is transferred.\n\"\"\")"
      ],
      "metadata": {},
      "execution_count": null
    },
    {
      "cell_type": "markdown",
      "source": [
        "#### Work in a *conservative* vector field\n\nLet $f: R^n \\rightarrow R$ be a scalar function. Its gradient, $\\nabla f$ is a *vector field*. For a *scalar* function, we have by the chain rule:\n\n$$~\n\\frac{d(f \\circ \\vec{r})}{dt} = \\nabla{f}(\\vec{r}(t)) \\cdot \\frac{d\\vec{r}}{dt}.\n~$$\n\nIf we integrate, we see:\n\n$$~\nW = \\int_a^b = \\nabla{f}(\\vec{r}(t)) \\cdot \\frac{d\\vec{r}}{dt} dt =\n\\int_a^b \\frac{d(f \\circ \\vec{r})}{dt} dt =\n(f\\circ\\vec{r})\\mid_{t = a}^b =\n(f\\circ\\vec{r})(b) - (f\\circ\\vec{r})(a),\n~$$\nusing the Fundamental Theorem of Calculus.\n\nThe main point above is that *if* the vector field is the gradient of a scalar field, then the work done depends *only* on the endpoints of the path and not the path itself.\n\n> Conservative vector field\n>  If $F$ is a vector field defined in an *open* region $R$; $A$ and $B$ are points in $R$ and *if* for *any* curve $C$ in $R$ connecting $A$ to $B$, the line integral of $F \\cdot \\vec{T}$ over $C$ depends *only* on the endpoint $A$ and $B$ and not the path, then the line integral is called *path indenpendent* and the field is called a *conservative field*.\n\nThe force of gravity is the gradient of a scalar field. As such, the two integrals above which yield $0$ could have been computed more directly. The particular scalar field is $f = -GMm/\\|\\vec{r}\\|$, which goes by the name the gravitational *potential* function. As seen, $f$ depends only on magnitude, and as the endpoints of the path in the example have the same distance to the origin, the work integral, $(f\\circ\\vec{r})(b) - (f\\circ\\vec{r})(a)$ will be $0$.\n\n\n##### Example\n\nCoulomb's law states that the electrostatic force between two charged particles is proportional to the product of their charges and *inversely* proportional to square of the distance between the two particles. That is,\n\n$$~\nF = k\\frac{ q q_0}{\\|\\vec{r}\\|^2}\\frac{\\vec{r}}{\\|\\vec{r}\\|}.\n~$$\n\nThis is similar to gravitational force and is a *conservative force*. We saw that a line integral for work in a conservative force depends only on the endpoints. Verify, that for a closed loop the work integral will yield $0$.\n\nTake as a closed loop the unit circle, parameterized by arc-length by $\\vec{r}(t) = \\langle \\cos(t), \\sin(t)\\rangle$. The unit tangent will be $\\hat{T} = \\vec{r}'(t) = \\langle -\\sin(t), \\cos(t) \\rangle$. The work to move a particle of charge $q_0$ about a partical of charge $q$ at the origin around the unit circle would be computed through:"
      ],
      "metadata": {}
    },
    {
      "outputs": [],
      "cell_type": "code",
      "source": [
        "@vars k q q0 t\nF(r) = k*q*q0 * r / norm(r)^3\nr(t) = [cos(t), sin(t)]\nT(r) = [-r[2], r[1]]\nW = integrate(F(r(t)) ⋅ T(r(t)), (t, 0, 2PI))"
      ],
      "metadata": {},
      "execution_count": null
    },
    {
      "cell_type": "markdown",
      "source": [
        "### Closed curves and regions;\n\nThere are technical assumptions about curves and regions that are necessary for some statements to be made:\n\n* Let $C$ be a [Jordan](https://en.wikipedia.org/wiki/Jordan_curve_theorem) curve -  a non-self-intersecting continuous loop in the plane. Such a curve divides the plane into two regions, one bounded and one unbounded. The normal to a Jordan curve is assumed to be in the direction of the unbounded part.\n\n* Further, we will assume that our curves are *piecewise smooth*. That is comprised of finitely many smooth pieces, continuously connected.\n\n* The region enclosed by a closed curve has an *interior*, $D$, which we assume is an *open* set (one for which every point in $D$ has some \"ball\" about it entirely within $D$ as well.)\n\n* The region $D$ is *connected* meaning between any two points there is a continuous path in $D$ between the two points.\n\n* The region $D$ is *simply connected*. This means it has no \"holes.\" Technically, any path in $D$ can be contracted to a point. Connected means one piece, simply connected means no holes.\n\n\n### The fundamental theorem of line integrals\n\nThe fact that work in a potential field is path independent is a consequence of the Fundamental Theorem of Line [Integrals](https://en.wikipedia.org/wiki/Gradient_theorem):\n\n> Let $U$ be an open subset of $R^n$, $f: U \\rightarrow R$ a *differentiable* function and $\\vec{r}: R \\rightarrow R^n$ a differentiable function such that the the path $C = \\vec{r}(t)$, $a\\leq t\\leq b$ is contained in $U$. Then\n> $$~\n> \\int_C  \\nabla{f} \\cdot d\\vec{r} =\n> \\int_a^b \\nabla{f}(\\vec{r}(t)) \\cdot \\vec{r}'(t) dt =\n> f(\\vec{r}(b)) - f(\\vec{r}(a)).\n> ~$$\n\n\n\nThat is, a line integral through a gradient field can be evaluated by\nevaluating the original scalar field at the endpoints of the\ncurve. In other words, line integrals through gradient fields are conservative.\n\nAre conservative fields gradient fields? The answer is yes.\n\nAssume $U$ is an open region in $R^n$ and $F$ is  a continuous and conservative vector field in $U$.\n\nLet $a$ in $U$ be some fixed point. For $\\vec{x}$ in $U$, define:\n\n$$~\n\\phi(\\vec{x}) = \\int_{\\vec\\gamma[a,\\vec{x}]} F \\cdot \\frac{d\\vec\\gamma}{dt}dt,\n~$$\n\nwhere $\\vec\\gamma$ is *any* differentiable path in $U$ connecting $a$ to\n$\\vec{x}$ (as a point in $U$). The function $\\phi$ is uniquely\ndefined, as the integral only depends on the endpoints, not the choice\nof path.\n\nIt is [shown](https://en.wikipedia.org/wiki/Gradient_theorem#Converse_of_the_gradient_theorem) that the directional derivative $\\nabla{\\phi} \\cdot \\vec{v}$ is equal to $F \\cdot \\vec{v}$ by showing\n\n$$~\n\\lim_{t \\rightarrow 0}\\frac{\\phi(\\vec{x} + t\\vec{v}) - \\phi(\\vec{x})}{t}\n= \\lim_{t \\rightarrow 0} \\frac{1}{t} \\int_{\\vec\\gamma[\\vec{x},\\vec{x}+t\\vec{v}]} F \\cdot \\frac{d\\vec\\gamma}{dt}dt\n= F(\\vec{x}) \\cdot \\vec{v}.\n~$$\n\nThis is so for all $\\vec{v}$, so in particular for the coordinate vectors. So $\\nabla\\phi = F$.\n\n\n##### Example\n\nLet $Radial(x,y) = \\langle x, y\\rangle$. This is a conservative field. Show the work integral over the half circle in the upper half plane is the same as the work integral over the $x$ axis connecting $-1$ to $1$.\n\nWe have:"
      ],
      "metadata": {}
    },
    {
      "outputs": [],
      "cell_type": "code",
      "source": [
        "Radial(x,y) = [x,y]\nRadial(v) = Radial(v...)\n\nr(t) = [-1 + t, 0]\nquadgk(t -> Radial(r(t)) ⋅ r'(t), 0, 2)"
      ],
      "metadata": {},
      "execution_count": null
    },
    {
      "cell_type": "markdown",
      "source": [
        "Compared to"
      ],
      "metadata": {}
    },
    {
      "outputs": [],
      "cell_type": "code",
      "source": [
        "r(t) = [-cos(t), sin(t)]\nquadgk(t -> Radial(r(t)) ⋅ r'(t), 0, pi)"
      ],
      "metadata": {},
      "execution_count": null
    },
    {
      "cell_type": "markdown",
      "source": [
        "##### Example\n\n\n\n\n\n----\n\nNot all vector fields are conservative.  How can a vector field in $U$\nbe identified as conservative? For now, this would require either\nfinding a scalar potential *or* showing all line integrals are path\nindependent.\n\nIn dimension $2$ there is an easy to check method assuming $U$ is *simply connected*: If $F=\\langle F_x, F_y\\rangle$ is continuously differentiable in an simply connected region *and* $\\partial{F_y}/\\partial{x} - \\partial{F_x}/\\partial{y} = 0$ then $F$ is conservative. A similarly statement is available in dimension $3$. The reasoning behind this will come from the upcoming Green's theorem.\n\n\n\n\n### Flow across a curve\n\n\nThe flow integral in the $n=2$ case was\n\n$$~\n\\int_C (F\\cdot\\hat{N}) ds = \\int_a^b (F \\circ \\vec{r})(t) \\cdot (\\vec{r}'(t))^{t} dt,\n~$$\n\nwhere $\\langle a,b\\rangle^t = \\langle b, -a\\rangle$.\n\n\nFor a given section of $C$, the vector field breaks down into a\ntangential and normal component. The tangential component moves along\nthe curve and so doesn't contribute to any flow *across* the curve, only\nthe normal component will contribute. Hence the\n$F\\cdot\\hat{N}$ integrand.  The following figure indicates the flow of a vector\nfield by horizontal lines, the closeness of the lines representing\nstrength, though these are all evenly space. The two line segments\nhave equal length, but the one captures more flow than the other, as\nits normal vector is more parallel to the flow lines:"
      ],
      "metadata": {}
    },
    {
      "outputs": [],
      "cell_type": "code",
      "source": [
        "gr()\np = plot(legend=false, aspect_ratio=:equal)\nfor y in range(0, 1, length=15)\n    arrow!( [0,y], [3,0])\nend\nplot!(p, [2,2],[.6, .9], linewidth=3)\narrow!( [2,.75],1/2*[1,0], linewidth=3)\ntheta = pi/3\nl = .3/2\nplot!(p, [2-l*cos(theta), 2+l*cos(theta)], [.25-l*sin(theta), .25+l*sin(theta)], linewidth=3)\narrow!( [2, 0.25], 1/2*[sin(theta), -cos(theta)], linewidth=3)\n\nplotly()\np"
      ],
      "metadata": {},
      "execution_count": null
    },
    {
      "cell_type": "markdown",
      "source": [
        "The flow integral is typically computed for a closed (Jordan) curve, measuring the total flow out of a region. In this case, the integral is written $\\oint_C (F\\cdot\\hat{N})ds$."
      ],
      "metadata": {}
    },
    {
      "outputs": [],
      "cell_type": "code",
      "source": [
        "note(L\"\"\"\nFor a Jordan curve, the positive orientation of the curve is such that the normal direction (proportional to $\\hat{T}'$) points away from the bounded interior. For a non-closed path, the choice of parameterization will determine the normal and the integral for flow across a curve is dependent - up to its sign - on this choice.\n\"\"\")"
      ],
      "metadata": {},
      "execution_count": null
    },
    {
      "cell_type": "markdown",
      "source": [
        "##### Example\n\nThe [New York Times](https://www.nytimes.com/interactive/2019/06/20/world/asia/hong-kong-protest-size.html) showed aerial photos to estimate the number of protest marchers in Hong Kong. This is a more precise way to estimate crowd size, but requires a drone or some such to take photos. If one is on the ground, the number of marchers could be *estimated* by finding the flow of marchers across a given width. In the Times article, we see \"Protestors packed the width of Hennessy Road for more than 5 hours. If this road is 50 meters wide and the rate of the marchers is 3 kilometers per hour, estimate the number of marchers.\n\nThe basic idea is to compute the rate of flow *across* a part of the street and then multiply by time. For computational sake, say the marchers are on a grid of 1 meters (that is in a 40m wide street, there is room for 40 marchers at a time. In one minute, the marchers move 50 meters:"
      ],
      "metadata": {}
    },
    {
      "outputs": [],
      "cell_type": "code",
      "source": [
        "3000/60"
      ],
      "metadata": {},
      "execution_count": null
    },
    {
      "cell_type": "markdown",
      "source": [
        "This means the rate of marchers per minute is `40 * 50`. If this is steady over 5 hours, this *simple* count gives:"
      ],
      "metadata": {}
    },
    {
      "outputs": [],
      "cell_type": "code",
      "source": [
        "40 * 50 * 5 * 60"
      ],
      "metadata": {},
      "execution_count": null
    },
    {
      "cell_type": "markdown",
      "source": [
        "This is short of the estimate 2M marchers, but useful for a rough estimate. The point is from rates of  flow, which can be calculated locally, amounts over bigger scales can be computed. The word \"*across*\" is used, as only the direction across the part of the street counts in the computation. Were the marchers in total unison and then told to take a step to the left and a step to the right, they would have motion, but since it wasn't across the line in the road (rather along the line) there would be no contribution to the count. The dot product with the normal vector formalizes this.\n\n##### Example\n\nLet a path $C$ be parameterized by $\\vec{r}(t) = \\langle \\cos(t), 2\\sin(t)\\rangle$, $0 \\leq t \\leq \\pi/2$ and $F(x,y) = \\langle \\cos(x), \\sin(xy)\\rangle$. Compute the flow across $C$.\n\nWe have"
      ],
      "metadata": {}
    },
    {
      "outputs": [],
      "cell_type": "code",
      "source": [
        "r(t) = [cos(t), 2sin(t)]\nF(x,y) = [cos(x), sin(x*y)]\nF(v) = F(v...)\nnormal(a,b) = [b, -a]\nG(t) = (F ∘ r)(t) ⋅ normal(r(t)...)\na, b = 0, pi/2\nquadgk(G, a, b)[1]"
      ],
      "metadata": {},
      "execution_count": null
    },
    {
      "cell_type": "markdown",
      "source": [
        "##### Example\n\nExample, let $F(x,y) = \\langle -y, x\\rangle$ be a vector field. (It represents an rotational flow.) What is the flow across the unit circle?"
      ],
      "metadata": {}
    },
    {
      "outputs": [],
      "cell_type": "code",
      "source": [
        "@vars t real=true\nF(x,y) = [-y,x]\nF(v) = F(v...)\nr(t) = [cos(t),sin(t)]\nT(t) = diff.(r(t), t)\nnormal(a,b) = [b,-a]\nintegrate((F ∘ r)(t) ⋅ normal(T(t)...) , (t, 0, 2PI))"
      ],
      "metadata": {},
      "execution_count": null
    },
    {
      "cell_type": "markdown",
      "source": [
        "##### Example\n\nLet $F(x,y) = \\langle x,y\\rangle$ be a vector field. (It represents a *source*.) What is the flow across the unit circle?"
      ],
      "metadata": {}
    },
    {
      "outputs": [],
      "cell_type": "code",
      "source": [
        "@vars t real=true\nF(x,y) = [x, y]\nF(v) = F(v...)\nr(t) = [cos(t),sin(t)]\nT(t) = diff.(r(t), t)\nnormal(a,b) = [b,-a]\nintegrate((F ∘ r)(t) ⋅ normal(T(t)...) , (t, 0, 2PI))"
      ],
      "metadata": {},
      "execution_count": null
    },
    {
      "cell_type": "markdown",
      "source": [
        "##### Example\n\n\nLet $F(x,y) = \\langle x, y\\rangle / \\| \\langle x, y\\rangle\\|^3$:"
      ],
      "metadata": {}
    },
    {
      "outputs": [],
      "cell_type": "code",
      "source": [
        "F(x,y) = [x,y] / norm([x,y])^2\nF(v) = F(v...)"
      ],
      "metadata": {},
      "execution_count": null
    },
    {
      "cell_type": "markdown",
      "source": [
        "Consider $C$ to be the square with vertices at $(-1,-1)$, $(1,-1)$, $(1,1)$, and $(-1, 1)$. What is the flow across $C$ for this vector field? The region has simple outward pointing *unit* normals, these being $\\pm\\hat{i}$ and $\\pm\\hat{j}$, the unit vectors in the $x$ and $y$ direction. The integral can be computed in 4 parts. The first (along the bottom):"
      ],
      "metadata": {}
    },
    {
      "outputs": [],
      "cell_type": "code",
      "source": [
        "@vars s real=true\n\nr(s) = [-1 + s, -1]\nn = [0,-1]\nA1 = integrate(F(r(s)) ⋅ n, (s, 0, 2))"
      ],
      "metadata": {},
      "execution_count": null
    },
    {
      "cell_type": "markdown",
      "source": [
        "The other three sides are related as each parameterization and normal is similar:"
      ],
      "metadata": {}
    },
    {
      "outputs": [],
      "cell_type": "code",
      "source": [
        "r(s) = [1, -1 + s]\nn = [1, 0]\nA2 = integrate(F(r(s)) ⋅ n, (s, 0, 2))\n\n\nr(s) = [1 - s, 1]\nn = [0, 1]\nA3 = integrate(F(r(s)) ⋅ n, (s, 0, 2))\n\n\nr(s) = [-1, 1-s]\nn = [-1, 0]\nA4 = integrate(F(r(s)) ⋅ n, (s, 0, 2))\n\nA1 +  A2 +  A3 + A4"
      ],
      "metadata": {},
      "execution_count": null
    },
    {
      "cell_type": "markdown",
      "source": [
        "As could have been anticipated by symmetry, the answer is simply `4A1` or $2\\pi$. What likely is not anticipated, is that this integral will be the same as that found by integrating over the unit circle (an easier integral):"
      ],
      "metadata": {}
    },
    {
      "outputs": [],
      "cell_type": "code",
      "source": [
        "@vars t real=true\nr(t) = [cos(t), sin(t)]\nN(t) = r(t)\nintegrate(F(r(t)) ⋅ N(t), (t, 0, 2PI))"
      ],
      "metadata": {},
      "execution_count": null
    },
    {
      "cell_type": "markdown",
      "source": [
        "This equivalence is a consequence of the upcoming Green's theorem, as the vector field satisfies a particular equation.\n\n\n\n\n## Surface integrals"
      ],
      "metadata": {}
    },
    {
      "outputs": [],
      "cell_type": "code",
      "source": [
        "#out = download(\"https://upload.wikimedia.org/wikipedia/en/c/c1/Cloud_Gate_%28The_Bean%29_from_east%27.jpg\")\n#cp(out, \"figures/kapoor-cloud-gate.jpg\")\nimgfile = \"figures/kapoor-cloud-gate.jpg\"\ncaption = \"\"\"\nThe Anish Kapoor sculpture Cloud Gate maps the Cartesian grid formed by its concrete resting pad onto a curved surface showing the local distortions.  Knowing the areas of the reflected grid after distortion would allow the computation of the surface area of the sculpture through addition. (Wikipedia)\n\"\"\"\nImageFile(imgfile, caption)"
      ],
      "metadata": {},
      "execution_count": null
    },
    {
      "cell_type": "markdown",
      "source": [
        "We next turn attention to a generalization of line integrals to surface integrals. Surfaces were described in one of three ways: directly through a function as $z=f(x,y)$, as a level curve through $f(x,y,z) = c$, and parameterized through a function $\\Phi: R^2 \\rightarrow R^3$. The level curve description is locally a function description, and the function description leads to a parameterization ($\\Phi(u,v) = \\langle u,v,f(u,v)\\rangle$) so we restrict to the parameterized case.\n\n\n\n\nConsider the figure of the surface described by $\\Phi(u,v) = \\langle u,v,f(u,v)\\rangle$:"
      ],
      "metadata": {}
    },
    {
      "outputs": [],
      "cell_type": "code",
      "source": [
        "f(x,y) = 2 - (x+1/2)^2 - y^2\nxs = ys = range(0, 1/2, length=10)\np = surface(xs, ys, f, legend=false, camera=(45,45))\nfor x in xs\n    plot!(p, unzip(y -> [x, y, f(x,y)], 0, 1/2)..., linewidth=3)\n    plot!(p, unzip(y -> [x, y, 0], 0, 1/2)..., linewidth=3)\nend\nfor y in ys\n    plot!(p, unzip(x -> [x, y, f(x,y)], 0, 1/2)..., linewidth=3)\n    plot!(p, unzip(x -> [x, y, 0], 0, 1/2)..., linewidth=3)\nend\np"
      ],
      "metadata": {},
      "execution_count": null
    },
    {
      "cell_type": "markdown",
      "source": [
        "The partitioning of the $u-v$ plane into a grid, lends itself to a partitioning of the surface. To compute the total *surface area* of the surface, it would be natural to begin by *approximating* the area of each cell of this partition and add. As with other sums, we would expect that as the cells got smaller in diameter, the sum would approach an integral, in this case an integral yielding the surface area.\n\nConsider a single cell:"
      ],
      "metadata": {}
    },
    {
      "outputs": [],
      "cell_type": "code",
      "source": [
        "# from https://commons.wikimedia.org/wiki/File:Surface_integral1.svg\n#cp(download(\"https://upload.wikimedia.org/wikipedia/commons/thumb/8/87/Surface_integral1.svg/500px-Surface_integral1.svg.png\"), \"figures/surface-integral-cell.png\", force=true)\nimgfile = \"figures/surface-integral-cell.png\"\ncaption = \"The rectangular region maps to a piece of the surface approximated by a parallelogram whose area can be computed. (Wikipedia)\"\nImageFile(imgfile, caption)"
      ],
      "metadata": {},
      "execution_count": null
    },
    {
      "outputs": [],
      "cell_type": "code",
      "source": [
        "pyplot()\nf(x,y)= .5 - ((x-2)/4)^2 - ((y-1)/3)^2\nPhi(uv) = [uv[1],uv[2],f(uv...)]\n\nxs = range(0, 3.5, length=50)\nys = range(0, 2.5, length=50)\nsurface(xs,ys, f, legend=false)\nΔx = 0.5; Δy = 0.5\nx0 = 2.5; y0 = 0.25\n\nps = [[x0,y0,0], [x0+Δx,y0,0],[x0+Δx,y0+Δy,0],[x0, y0+Δy, 0],[x0,y0,0]]\nplot!(unzip(ps)..., seriestype=:shape, color =:blue)\n\nfx = t -> [x0+t, y0, f(x0+t, y0)]\nfy = t -> [x0, y0+t, f(x0, y0+t)]\nplot!(unzip(fx.(xs.-x0))..., color=:green)\nplot!(unzip(fy.(ys.-y0))..., color=:green)\nfx = t -> [x0+t, y0+Δy, f(x0+t, y0+Δy)]\nfy = t -> [x0+Δx, y0+t, f(x0+Δx, y0+t)]\nts = range(0, 1, length=20)\nplot!(unzip(fx.(ts*Δx))..., color=:green)\nplot!(unzip(fy.(ts*Δy))..., color=:green)\n\nPt = [x0,y0,f(x0,y0)]\nJac = ForwardDiff.jacobian(Phi, Pt[1:2])\nv1 = Jac[:,1]; v2 = Jac[:,2]\narrow!(Pt, v1/2, linewidth=5, color=:red)\narrow!(Pt, v2/2, linewidth=5, color=:red)\narrow!(Pt + v1/2, v2/2, linewidth=1, linetype=:dashed, color=:red)\narrow!(Pt + v2/2, v1/2, linewidth=1, linetype=:dashed, color=:red)\narrow!(Pt, (1/4)*(v1 × v2), linewidth=3, color=:blue)"
      ],
      "metadata": {},
      "execution_count": null
    },
    {
      "cell_type": "markdown",
      "source": [
        "The figure shows that a cell on the grid in the $u-v$ plane of area $\\Delta{u}\\Delta{v}$ maps to a cell of the partition with surface area $\\Delta{S}$ which can be *approximated* by a part of the tangent plane described by two vectors $\\vec{v}_1 = \\partial{\\Phi}/\\partial{u}$ and $\\vec{v}_2 = \\partial{\\Phi}/\\partial{v}$. These two vectors have cross product which a) points in the direction of the normal vector, and b) has magnitude yielding the approximation $\\Delta{S} \\approx \\|\\vec{v}_1 \\times \\vec{v}_2\\|\\Delta{u}\\Delta{v}$.\n\nIf we were to integrate the function $G(x,y, z)$ over the *surface* $S$, then an approximating Riemann sum could be produced by $G(c) \\| \\vec{v}_1 \\times \\vec{v}_2\\| \\Delta u \\Delta v$, for some point $c$ on the surface.\n\nIn the limit a definition of an *integral* over a surface $S$ in $R^3$ is found by a two-dimensional integral over $R$ in $R^2$:\n\n$$~\n\\int_S G(x,y,z) dS = \\int_R G(\\Phi(u,v))\n\\| \\frac{\\partial{\\Phi}}{\\partial{u}} \\times \\frac{\\partial{\\Phi}}{\\partial{v}} \\| du dv.\n~$$\n\nIn the case that the surface is described by $z = f(x,y)$, then the formula's become $\\vec{v}_1 = \\langle 1,0,\\partial{f}/\\partial{x}\\rangle$ and $\\vec{v}_2 = \\langle 0, 1, \\partial{f}/\\partial{y}\\rangle$ with cross product $\\vec{v}_1\\times\\vec{v}_2 =\\langle -\\partial{f}/\\partial{x},  -\\partial{f}/\\partial{y},1\\rangle$.\n\nThe value $\\| \\frac{\\partial{\\Phi}}{\\partial{u}} \\times\n\\frac{\\partial{\\Phi}}{\\partial{y}} \\|$ is called the *surface\nelement*. As seen, it is the scaling between a unit area in the $u-v$\nplane and the approximating area on the surface after the\nparameterization.\n\n### Examples\n\nLet us see that the formula holds for some cases where the answer is known by other means.\n\n##### A cone\n\nThe surface area of cone is a known quantity. In cylindrical coordinates, the cone may be described by $z = a - br$, so the parameterization $(r, \\theta) \\rightarrow \\langle r\\cos(\\theta), r\\sin(\\theta), a - br \\rangle$ maps $T = [0, a/b] \\times [0, 2\\pi]$ onto the surface (less the bottom).\n\nThe surface element is the cross product $\\langle \\cos(\\theta), \\sin(\\theta), -b\\rangle$ and $\\langle -r\\sin(\\theta), r\\cos(\\theta), 0\\rangle$, which is:"
      ],
      "metadata": {}
    },
    {
      "outputs": [],
      "cell_type": "code",
      "source": [
        "@vars R theta a b positive=true\nn = [cos(theta), sin(theta), -b] × [-R*sin(theta), R*cos(theta), 0]\nse = simplify(norm(n))"
      ],
      "metadata": {},
      "execution_count": null
    },
    {
      "cell_type": "markdown",
      "source": [
        "(To do this computationally, one might compute:"
      ],
      "metadata": {}
    },
    {
      "outputs": [],
      "cell_type": "code",
      "source": [
        "Phi(r, theta) = [r*cos(theta), r*sin(theta), a - b*r]\nPhi(R, theta).jacobian([R, theta])"
      ],
      "metadata": {},
      "execution_count": null
    },
    {
      "cell_type": "markdown",
      "source": [
        "and from here pull out the two vectors to take a cross product.)\n\n\nThe surface area is then found by integrating $G(\\vec{x}) = 1$:"
      ],
      "metadata": {}
    },
    {
      "outputs": [],
      "cell_type": "code",
      "source": [
        "integrate(1 * se, (R, 0, a/b), (theta, 0, 2PI))"
      ],
      "metadata": {},
      "execution_count": null
    },
    {
      "cell_type": "markdown",
      "source": [
        "A formula from a *quick* Google search is $A = \\pi r(r^2  + \\sqrt{h^2 + r^2}$. Does this match up?"
      ],
      "metadata": {}
    },
    {
      "outputs": [],
      "cell_type": "code",
      "source": [
        "R = a/b; h = a\npi * R * (R + sqrt(R^2 + h^2)) |> simplify"
      ],
      "metadata": {},
      "execution_count": null
    },
    {
      "cell_type": "markdown",
      "source": [
        "Nope, off by a summand of $\\pi(a/b)^2 = \\pi r^2$, which may be recognized as the area of the base, which we did not compute, but which the Google search did. So yes, the formulas do agree.\n\n##### Example\n\nThe sphere has known surface area $4\\pi r^2$. Let's see if we can compute this. With the parameterization from spherical coordinates $(\\theta, \\phi) \\rightarrow \\langle r\\sin\\phi\\cos\\theta, r\\sin\\phi\\sin\\theta,r\\cos\\phi\\rangle$, we have approaching this *numerically*:"
      ],
      "metadata": {}
    },
    {
      "outputs": [],
      "cell_type": "code",
      "source": [
        "Rad = 1\nPhi(theta, phi) = Rad * [sin(phi)*cos(theta), sin(phi)*sin(theta), cos(phi)]\nPhi(v) = Phi(v...)\n\nfunction surface_element(pt)\n  Jac = ForwardDiff.jacobian(Phi, pt)\n  v1, v2 = Jac[:,1], Jac[:,2]\n  norm(v1 × v2)\nend\nout = hcubature(surface_element, (0, 0), (2pi, 1pi))\nout[1] - 4pi*Rad^2  # *basically* zero"
      ],
      "metadata": {},
      "execution_count": null
    },
    {
      "cell_type": "markdown",
      "source": [
        "##### Example\n\nIn [Surface area](../integrals/surface_area.mmd) the following formula for the surface area of a surface of *revolution* about the $x$ axis is described by $r=f(x)$ is given:\n\n$$~\n\\int_a^b 2\\pi f(x) \\cdot \\sqrt{1 + f'(x)^2} dx.\n~$$\n\nConsider the transformation $(x, \\theta) \\rightarrow \\langle x, f(x)\\cos(\\theta), f(x)\\sin(\\theta)$. This maps the region $[a,b] \\times [0, 2\\pi]$ *onto* the surface of revolution. As such, the surface element would be:"
      ],
      "metadata": {}
    },
    {
      "outputs": [],
      "cell_type": "code",
      "source": [
        "H = SymFunction(\"H\")\n@vars x theta real=true\nPhi(x, theta) = [x, H(x)*cos(theta), H(x)*sin(theta)]\nJac = Phi(x, theta).jacobian([x, theta])\nv1, v2 = Jac[:,1], Jac[:,2]\nnorm(v1 × v2)"
      ],
      "metadata": {},
      "execution_count": null
    },
    {
      "cell_type": "markdown",
      "source": [
        "We divide by `H(x)` and expect (and see) the square root of $1$ plus the derivative:"
      ],
      "metadata": {}
    },
    {
      "outputs": [],
      "cell_type": "code",
      "source": [
        "norm((v1 × v2)/H(x)) .|> simplify"
      ],
      "metadata": {},
      "execution_count": null
    },
    {
      "cell_type": "markdown",
      "source": [
        "##### Example\n\nConsider the *upper* half sphere, $S$. Compute $\\int_S z dS$.\n\nWere the half sphere made of a thin uniform material, this would be computed to find the $z$ direction of the centroid.\n\nWe use the spherical coordinates to parameterize:\n\n$$~\n\\Phi(\\theta, \\phi) = \\langle \\cos(\\phi)\\cos(\\theta), \\cos(\\phi)\\sin(\\theta), \\sin(\\phi) \\rangle\n~$$\n\nThe Jacobian, and surface element can be computed:"
      ],
      "metadata": {}
    },
    {
      "outputs": [],
      "cell_type": "code",
      "source": [
        "@vars theta phi real=true\nPhi(theta, phi) = [cos(phi)*cos(theta), cos(phi)*sin(theta), sin(phi)]\nJac = Phi(theta,phi).jacobian([theta, phi])\nv1, v2 = Jac[:,1], Jac[:,2]\nSurfElement = norm(v1 × v2) |> simplify"
      ],
      "metadata": {},
      "execution_count": null
    },
    {
      "cell_type": "markdown",
      "source": [
        "With this our integral becomes:"
      ],
      "metadata": {}
    },
    {
      "outputs": [],
      "cell_type": "code",
      "source": [
        "z = sin(phi)\nintegrate(z * SurfElement, (theta, 0, 2PI), (phi, 0, PI/2))"
      ],
      "metadata": {},
      "execution_count": null
    },
    {
      "cell_type": "markdown",
      "source": [
        "### Orientation\n\nA smooth surface $S$ is *orientable* if it possible to define a unit normal vector, $\\vec{N}$ that varies continuously with position. For example, a sphere has a normal vector that does this. On the other hand, a Mobius strip does not, as a normal when moved around the surface may necessarily be reversed as it returns to its starting point. For a closed, orientable smooth surface there are two possible choices for a normal, and convention chooses the one that points away from the contained region, such as the outward pointing normal for the sphere or torus.\n\n\n### Surface integrals in vector fields\n\nBeyond finding surface area, surface integrals can also compute interesting physical phenomena. These are often associated to a vector field (in this case a function $\\vec{F}: R^3 \\rightarrow R^3$), and the typical case is the *flux* through a surface defined locally by $\\vec{F} \\cdot \\hat{N}$, that is the *magnitude* of the *projection* of the field onto the *unit* normal vector.\n\n\nConsider the flow of water through an opening in a time period $\\Delta t$. The amount of water mass to flow through would be the area of the opening times the velocity of the flow perpendicular to the surface times the density times the time period; symbolically: $dS \\cdot ((\\rho \\vec{v}) \\cdot \\vec{N}) \\cdot \\Delta t$. Dividing by $\\Delta t$ gives a rate of flow as $((\\rho \\vec{v}) \\cdot \\vec{N}) dS$. With $F = \\rho \\vec{v}$, the flux integral can be seen as the rate of flow through a surface.\n\nTo find the normal for a surface element arising from a parameterization $\\Phi$, we have the two *partial* derivatives $\\vec{v}_1=\\partial{\\Phi}/\\partial{u}$ and $\\vec{v}_2 = \\partial{\\Phi}/\\partial{v}$, the two column vectors of the Jacobian matrix of $\\Phi(u,v)$. These describe the tangent plane, and even more their cross product will be a) *normal* to the tangent plane and b) have magnitude yielding the surface element of the transformation.\n\n\nFrom this, for a given parameterization, $\\Phi(u,v):T \\rightarrow S$, the following formula is suggested for orientable surfaces:\n\n$$~\n\\int_S \\vec{F} \\cdot \\hat{N} dS =\n\\int_T \\vec{F}(\\Phi(u,v)) \\cdot\n(\\frac{\\partial{\\Phi}}{\\partial{u}} \\times \\frac{\\partial{\\Phi}}{\\partial{v}})\ndu dv.\n~$$\n\n\nWhen the surface is described by a function, $z=f(x,y)$, the parameterization is $(u,v) \\rightarrow \\langle u, v, f(u,v)\\rangle$, and the two vectors are $\\vec{v}_1 = \\langle 1, 0, \\partial{f}/\\partial{u}\\rangle$ and $\\vec{v}_2 = \\langle 0, 1, \\partial{f}/\\partial{v}\\rangle$ and their cross product is $\\vec{v}_1\\times\\vec{v}_1=\\langle -\\partial{f}/\\partial{u}, -\\partial{f}/\\partial{v}, 1\\rangle$.\n\n\n##### Example\n\nSuppose a vector field $F(x,y,z) = \\langle 0, y, -z \\rangle$ is given. Let $S$ be the surface of the paraboloid $y = x^2 + z^2$ between $y=0$ and $y=4$. Compute the surface integral $\\int_S F\\cdot \\hat{N} dS$.\n\nThis is a surface of revolution about the $y$ axis, so a parameterization is\n$\\Phi(y,\\theta) = \\langle \\sqrt{y} \\cos(\\theta), y, \\sqrt{y}\\sin(\\theta) \\rangle$. The surface normal is given by:"
      ],
      "metadata": {}
    },
    {
      "outputs": [],
      "cell_type": "code",
      "source": [
        "@vars y theta positive=true\nPhi(y,theta) = [sqrt(y)*cos(theta), y, sqrt(y)*sin(theta)]\nJac = Phi(y, theta).jacobian([y, theta])\nv1, v2 = Jac[:,1], Jac[:,2]\nNormal = v1 × v2"
      ],
      "metadata": {},
      "execution_count": null
    },
    {
      "cell_type": "markdown",
      "source": [
        "With this, the surface integral becomes:"
      ],
      "metadata": {}
    },
    {
      "outputs": [],
      "cell_type": "code",
      "source": [
        "F(x,y,z) = [0, y, -z]\nF(v) = F(v...)\nintegrate(F(Phi(y,theta)) ⋅ Normal, (theta, 0, 2PI), (y, 0, 4))"
      ],
      "metadata": {},
      "execution_count": null
    },
    {
      "cell_type": "markdown",
      "source": [
        "##### Example\n\nLet $S$ be the closed surface bounded by the cylinder $x^2 + y^2 = 1$, the plane $z=0$, and the plane $z = 1+x$. Let $F(x,y,z) =  \\langle 1, y, -z \\rangle$. Compute $\\oint_S F\\cdot\\vec{N} dS$."
      ],
      "metadata": {}
    },
    {
      "outputs": [],
      "cell_type": "code",
      "source": [
        "F(x,y,z) = [1, y, z]\nF(v) = F(v...)"
      ],
      "metadata": {},
      "execution_count": null
    },
    {
      "cell_type": "markdown",
      "source": [
        "The surface has three faces, with different outward pointing normals for each. Let $S_1$ be the unit disk in the $x-y$ plane with normal $-\\hat{k}$; $S_2$ be the top part, with normal $\\langle \\langle-1, 0, 1\\rangle$ (as the plane is $-1x + 0y + 1z = 1$); and $S_3$ be the cylindrical part with outward pointing normal $\\vec{r}$.\n\n\nIntegrating over $S_1$, we have the parameterization $\\Phi(r,\\theta) = \\langle r\\cos(\\theta), r\\sin(\\theta), 0\\rangle$:"
      ],
      "metadata": {}
    },
    {
      "outputs": [],
      "cell_type": "code",
      "source": [
        "@vars R theta positive=true\nPhi(r,theta) = [r*cos(theta), r*sin(theta), 0]\nJac = Phi(R, theta).jacobian([R, theta])\nv1, v2 = Jac[:,1], Jac[:,2]\nNormal = v1 × v2 .|> simplify"
      ],
      "metadata": {},
      "execution_count": null
    },
    {
      "outputs": [],
      "cell_type": "code",
      "source": [
        "F(x,y,z)= [1, y, -z]\nA1 = integrate(F(Phi(R, theta)) ⋅ (-Normal), (theta, 0, 2PI), (R, 0, 1))  # use -Normal for outward pointing"
      ],
      "metadata": {},
      "execution_count": null
    },
    {
      "cell_type": "markdown",
      "source": [
        "Integrating over $S_2$ we use the parameterization $\\Phi(r, \\theta) = \\langle r\\cos(\\theta), r\\sin(\\theta), 1 + r\\cos(\\theta)\\rangle$."
      ],
      "metadata": {}
    },
    {
      "outputs": [],
      "cell_type": "code",
      "source": [
        "Phi(r, theta) = [r*cos(theta), r*sin(theta), 1 + r*cos(theta)]\nJac = Phi(R, theta).jacobian([R, theta])\nv1, v2 = Jac[:,1], Jac[:,2]\nNormal = v1 × v2 .|> simplify  # has correct orientation"
      ],
      "metadata": {},
      "execution_count": null
    },
    {
      "cell_type": "markdown",
      "source": [
        "With this, the contribution for $S_2$ is:"
      ],
      "metadata": {}
    },
    {
      "outputs": [],
      "cell_type": "code",
      "source": [
        "A2 = integrate(F(Phi(R, theta)) ⋅ (Normal), (theta, 0, 2PI), (R, 0, 1))"
      ],
      "metadata": {},
      "execution_count": null
    },
    {
      "cell_type": "markdown",
      "source": [
        "Finally for $S_3$, the parameterization used is $\\Phi(z, \\theta) = \\langle \\cos(\\theta), \\sin(\\theta), z\\rangle$, but this is over a non-rectangular region, as $z$ is between $0$ and $1 + x$.\n\nThis parameterization gives a normal computed through:"
      ],
      "metadata": {}
    },
    {
      "outputs": [],
      "cell_type": "code",
      "source": [
        "@vars z positive=true\nPhi(z, theta) = [cos(theta), sin(theta), z]\nJac = Phi(z, theta).jacobian([z, theta])\nv1, v2 = Jac[:,1], Jac[:,2]\nNormal = v1 × v2 .|> simplify  # wrong orientation, so we change sign below"
      ],
      "metadata": {},
      "execution_count": null
    },
    {
      "cell_type": "markdown",
      "source": [
        "The contribution is"
      ],
      "metadata": {}
    },
    {
      "outputs": [],
      "cell_type": "code",
      "source": [
        "A3 = integrate(F(Phi(Rad, theta)) ⋅ (-Normal), (z, 0, 1 + cos(theta)), (theta, 0, 2PI))"
      ],
      "metadata": {},
      "execution_count": null
    },
    {
      "cell_type": "markdown",
      "source": [
        "In total, the surface integral is"
      ],
      "metadata": {}
    },
    {
      "outputs": [],
      "cell_type": "code",
      "source": [
        "A1 + A2 + A3"
      ],
      "metadata": {},
      "execution_count": null
    },
    {
      "cell_type": "markdown",
      "source": [
        "##### Example\n\nTwo point charges with charges $q$ and $q_0$ will exert an electrostatic force of attraction or repulsion according to [Coulomb](https://en.wikipedia.org/wiki/Coulomb%27s_law)'s law. The Coulomb force is $kqq_0\\vec{r}/\\|\\vec{r}\\|^3$.\nThis force is proportional to the product of the charges, $qq_0$, and inversely proportional to the square of the distance between them.\n\nThe electric field is a vector field is the field generated by the force on a test charge, and is given by $E = kq\\vec{r}/\\|\\vec{r}\\|^3$.\n\n\nLet $S$ be the unit sphere $\\|\\vec{r}\\|^2 = 1$. Compute the surface integral of the electric field over the closed surface, $S$.\n\nWe have (using $\\oint$ for a surface integral over a closed surface):\n\n$$~\n\\oint_S S \\cdot \\vec{N} dS =\n\\oint_S \\frac{kq}{\\|\\vec{r}\\|^2} \\hat{r} \\cdot \\hat{r} dS =\n\\oint_S \\frac{kq}{\\|\\vec{r}\\|^2} dS =\nkqq_0 \\cdot SA(S) =\n4\\pi k q\n~$$\n\n\nNow consider the electric field generated by a point charge within the unit sphere, but not at the origin. The integral now will not fall in place by symmetry considerations, so we will approach the problem numerically."
      ],
      "metadata": {}
    },
    {
      "outputs": [],
      "cell_type": "code",
      "source": [
        "E(r) = (1/norm(r)^2) * uvec(r) # kq = 1\n\nPhi(theta, phi) = 1*[sin(phi)*cos(theta), sin(phi) * sin(theta), cos(phi)]\nPhi(r) = Phi(r...)\n\nnormal(r) = Phi(r)/norm(Phi(r))\n\nfunction SE(r)\n    Jac = ForwardDiff.jacobian(Phi, r)\n    v1, v2 = Jac[:,1], Jac[:,2]\n    v1 × v2\nend\n\na = rand() * Phi(2pi*rand(), pi*rand())\nA1 = hcubature(r -> E(Phi(r)-a) ⋅ normal(r) * norm(SE(r)), (0.0,0.0), (2pi, 1pi))\nA1[1]"
      ],
      "metadata": {},
      "execution_count": null
    },
    {
      "cell_type": "markdown",
      "source": [
        "The answer is $4\\pi$, regardless of the choice of `a`, as long as it is *inside* the surface. (We see above, some fussiness in the limits of integration. `HCubature` does some conversion of the limits, but does not *currently* do well with mixed types, so in the above only floating point values are used.)\n\nWhen `a` is *outside* the surface, the answer is *always*:"
      ],
      "metadata": {}
    },
    {
      "outputs": [],
      "cell_type": "code",
      "source": [
        "a = 2 * Phi(2pi*rand(), pi*rand())  # random point with radius 2\nA1 = hcubature(r -> E(Phi(r)-a) ⋅ normal(r) * norm(SE(r)), (0.0,0.0), (2pi, pi/2))\nA2 = hcubature(r -> E(Phi(r)-a) ⋅ normal(r) * norm(SE(r)), (0.0,pi/2), (2pi, 1pi))\nA1[1] + A2[1]"
      ],
      "metadata": {},
      "execution_count": null
    },
    {
      "cell_type": "markdown",
      "source": [
        "Always $0$.\n\nThis is a consequence of [Gauss's law](https://en.wikipedia.org/wiki/Gauss%27s_law), which states that for an electric field $E$, the electric flux through a closed surface is proportional to the total charge contained. (Gauss's law is related to the upcoming divergence theorem.) When `a` is inside the surface, the total charge is the same regardless of exactly where, so the integral's value is always the same. When `a` is outside the surface, the total charge inside the sphere is $0$, so the flux integral is as well.\n\nGauss's law is typically used to identify the electric field by choosing a judicious surface where the surface integral can be computed. For example, suppose a ball of radius $R_0$ has a *uniform* charge. What is the electric field generated? *Assuming* it is dependent only on the distance from the center of the charged ball, we can, first, take a sphere of radius $R > R_0$ and note that $E(\\vec{r})\\cdot\\hat{N}(r) = \\|E(R)\\|$, the magnitude a distance $R$ away. So the surface integral is simply $\\|E(R)\\|4\\pi R^2$ and by Gauss's law a constant depending on the total charge. So $\\|E(R)\\| ~ 1/R^2$. When $R < R_0$, the same applies, but the total charge within the surface will be like $(R/R_0 )^3$, so the result will be *linear* in $R$, as:\n\n$$~\n4 \\pi \\|E(R)\\| R^2 = k 4\\pi \\left(\\frac{R}{R_0}\\right)^3.\n~$$\n\n\n\n\n## Questions\n\n###### Question\n\nLet $\\vec{r}(t) = \\langle e^t\\cos(t), e^{-t}\\sin(t) \\rangle$.\n\nWhat is $\\|\\vec{r}'(1/2)\\|$?"
      ],
      "metadata": {}
    },
    {
      "outputs": [],
      "cell_type": "code",
      "source": [
        "r(t) = [exp(t)*cos(t), exp(-t)*sin(t)]\nval = norm(r'(1/2))\nnumericq(val)"
      ],
      "metadata": {},
      "execution_count": null
    },
    {
      "cell_type": "markdown",
      "source": [
        "What is the $x$ (first) component of $\\hat{N}(t) = \\hat{T}'(t)/\\|\\hat{T}'(t)\\|$ at $t=1/2$?"
      ],
      "metadata": {}
    },
    {
      "outputs": [],
      "cell_type": "code",
      "source": [
        "T(t) = r'(t)/norm(r'(t))\nN(t) = T'(t)/norm(T'(t))\nval = N(1/2)[1]\nnumericq(val)"
      ],
      "metadata": {},
      "execution_count": null
    },
    {
      "cell_type": "markdown",
      "source": [
        "###### Question\n\nLet $\\Phi(u,v) = \\langle u,v,u^2+v^2\\rangle$ parameterize a surface. Find the magnitude of\n$\\| \\partial{\\Phi}/\\partial{u} \\times  \\partial{\\Phi}/\\partial{v} \\|$ at $u=1$ and $v=2$."
      ],
      "metadata": {}
    },
    {
      "outputs": [],
      "cell_type": "code",
      "source": [
        "Phi(u,v) = [u, v, u^2 + v^2]\nJac = ForwardDiff.jacobian(uv -> Phi(uv...), [1,2])\nval = norm(Jac[:,1] × Jac[:,2])\nnumericq(val)"
      ],
      "metadata": {},
      "execution_count": null
    },
    {
      "cell_type": "markdown",
      "source": [
        "###### Question\n\nFor a plane $ax+by+cz=d$ find the unit normal."
      ],
      "metadata": {}
    },
    {
      "outputs": [],
      "cell_type": "code",
      "source": [
        "choices = [\nL\"\\langle a, b, c\\rangle / \\| \\langle a, b, c\\rangle\\|\",\nL\"\\langle a, b, c\\rangle\",\nL\"\\langle d-a, d-b, d-c\\rangle / \\| \\langle d-a, d-b, d-c\\rangle\\|\",\n]\nans = 1\nradioq(choices, ans)"
      ],
      "metadata": {},
      "execution_count": null
    },
    {
      "cell_type": "markdown",
      "source": [
        "Does it depend on $d$?"
      ],
      "metadata": {}
    },
    {
      "outputs": [],
      "cell_type": "code",
      "source": [
        "choices = [\nL\"No. Moving $d$ just shifts the plane up or down the $z$ axis, but won't change the normal vector\",\nL\"Yes. Of course. Different values for $d$ mean different values for $x$, $y$, and $z$ are needed.\",\nL\"Yes. The gradient of $F(x,y,z) = ax + by + cz$ will be normal to the level curve $F(x,y,z)=d$, and so this will depend on $d$.\"\n]\nans = 1\nradioq(choices, ans)"
      ],
      "metadata": {},
      "execution_count": null
    },
    {
      "cell_type": "markdown",
      "source": [
        "###### Question\n\nLet $\\vec{r}(t) = \\langle \\cos(t), \\sin(t), t\\rangle$ and let $F(x,y,z) = \\langle -y, x, z\\rangle$\n\nNumerically compute $\\int_0^{2\\pi} F(\\vec{r}(t)) \\cdot \\vec{r}'(t) dt$."
      ],
      "metadata": {}
    },
    {
      "outputs": [],
      "cell_type": "code",
      "source": [
        "F(x,y,z) = [-y, x, z]\nr(t) = [cos(t), sin(t), t]\nval = quadgk(t -> F(r(t)...) ⋅ r'(t), 0, 2pi)[1]\nnumericq(val)"
      ],
      "metadata": {},
      "execution_count": null
    },
    {
      "cell_type": "markdown",
      "source": [
        "Compute the value symbolically:"
      ],
      "metadata": {}
    },
    {
      "outputs": [],
      "cell_type": "code",
      "source": [
        "choices = [\nL\"2\\pi + 2\\pi^2\",\nL\"2\\pi^2\",\nL\"4\\pi\"\n]\nans = 1\nradioq(choices, ans)"
      ],
      "metadata": {},
      "execution_count": null
    },
    {
      "cell_type": "markdown",
      "source": [
        "###### Question\n\n\nLet $F(x,y) = \\langle 2x^3y^2, xy^4 + 1\\rangle$. What is the work done in integrating $F$ along the parabola $y=x^2$ between $(-1,1)$ and $(1,1)$? Give a numeric answer:"
      ],
      "metadata": {}
    },
    {
      "outputs": [],
      "cell_type": "code",
      "source": [
        "F(x,y) = [2x^3*y^2, x*y^4 + 1]\nr(t) = [t, t^2]\nval = quadgk(t -> F(r(t)...) ⋅ r'(t), -1, 1)[1]\nnumericq(val)"
      ],
      "metadata": {},
      "execution_count": null
    },
    {
      "cell_type": "markdown",
      "source": [
        "###### Question\n\nLet $F = \\nabla{f}$ where $f:R^2 \\rightarrow R$. The level curves of $f$ are curves in the $x-y$ plane where $f(x,y)=c$, for some constant $c$. Suppose $\\vec{r}(t)$ describes a path on the level curve of $f$. What is the value of $\\int_C F \\cdot d\\vec{r}$?"
      ],
      "metadata": {}
    },
    {
      "outputs": [],
      "cell_type": "code",
      "source": [
        "choices =[\nL\"It will be $0$, as $\\nabla{f}$ is orthogonal to the level curve and $\\vec{r}'$ is tangent to the level curve\",\nL\"It will $f(b)-f(a)$ for any $b$ or $a$\"\n]\nans = 1\nradioq(choices, ans)"
      ],
      "metadata": {},
      "execution_count": null
    },
    {
      "cell_type": "markdown",
      "source": [
        "###### Question\n\nLet $F(x,y) = (x^2+y^2)^{-k/2} \\langle x, y \\rangle$ be a radial field. The work integral around the unit circle simplifies:\n\n$$~\n\\int_C F\\cdot \\frac{dr}{dt} dt = \\int_0^{2pi} \\langle (1)^{-k/2} \\cos(t), \\sin(t) \\rangle \\cdot \\langle-\\sin(t), \\cos(t)\\rangle dt.\n~$$\n\nFor any $k$, this integral will be:"
      ],
      "metadata": {}
    },
    {
      "outputs": [],
      "cell_type": "code",
      "source": [
        "numericq(0)"
      ],
      "metadata": {},
      "execution_count": null
    },
    {
      "cell_type": "markdown",
      "source": [
        "###### Question\n\nLet $f(x,y) = \\tan^{-1}(y/x)$. We will integrate $\\nabla{f}$ over the unit circle. The integrand wil be:"
      ],
      "metadata": {}
    },
    {
      "outputs": [],
      "cell_type": "code",
      "source": [
        "@vars t real=true\nf(x,y) =  atan(y/x)\nr(t) = [cos(t), sin(t)]\n∇f = subs.(∇(f(x,y)), x .=> r(t)[1], y .=> r(t)[2]) .|> simplify\ndrdt = diff.(r(t), t)\n∇f ⋅ drdt |> simplify"
      ],
      "metadata": {},
      "execution_count": null
    },
    {
      "cell_type": "markdown",
      "source": [
        "So $\\int_C \\nabla{f}\\cdot d\\vec{r} = \\int_0^{2\\pi} \\nabla{f}\\cdot d\\vec{r}/dt dt = 2\\pi$.\n\nWhy is this surprising?"
      ],
      "metadata": {}
    },
    {
      "outputs": [],
      "cell_type": "code",
      "source": [
        "choices = [\nL\"The field is a potential field, but the path integral around $0$ is not path dependent.\",\nL\"The value of $d/dt(f\\circ\\vec{r})=0$, so the integral should be $0$.\"\n]\nans =1\nradioq(choices, ans)"
      ],
      "metadata": {},
      "execution_count": null
    },
    {
      "cell_type": "markdown",
      "source": [
        "The function $F = \\nabla{f}$ is"
      ],
      "metadata": {}
    },
    {
      "outputs": [],
      "cell_type": "code",
      "source": [
        "choices = [\n\"Not continuous everywhere\",\n\"Continuous everywhere\"\n]\nans = 1\nradioq(choices, ans)"
      ],
      "metadata": {},
      "execution_count": null
    },
    {
      "cell_type": "markdown",
      "source": [
        "###### Question\n\nLet $F(x,y) = \\langle F_x, F_y\\rangle = \\langle 2x^3y^2, xy^4 + 1\\rangle$. Compute\n\n$$~\n\\frac{\\partial{F_y}}{\\partial{x}}- \\frac{\\partial{F_x}}{\\partial{y}}.\n~$$\n\nIs this $0$?"
      ],
      "metadata": {}
    },
    {
      "outputs": [],
      "cell_type": "code",
      "source": [
        "@vars x y\nF(x,y) = [2x^3*y^2, x*y^4 + 1]\nval = iszero(diff(F(x,y)[2],x) - diff(F(x,y)[1],y))\nyesnoq(val)"
      ],
      "metadata": {},
      "execution_count": null
    },
    {
      "cell_type": "markdown",
      "source": [
        "###### Question\n\nLet $F(x,y) = \\langle F_x, F_y\\rangle = \\langle 2x^3, y^4 + 1\\rangle$. Compute\n\n$$~\n\\frac{\\partial{F_y}}{\\partial{x}} - \\frac{\\partial{F_x}}{\\partial{y}}.\n~$$\n\nIs this $0$?"
      ],
      "metadata": {}
    },
    {
      "outputs": [],
      "cell_type": "code",
      "source": [
        "@vars x y\nF(x,y) = [2x^3, y^4 + 1]\nval = iszero(diff(F(x,y)[2],x) - diff(F(x,y)[1],y))\nyesnoq(val)"
      ],
      "metadata": {},
      "execution_count": null
    },
    {
      "cell_type": "markdown",
      "source": [
        "###### Question\n\nIt is not unusual to see a line integral, $\\int F\\cdot d\\vec{r}$, where $F=\\langle M, N \\rangle$ expressed as $\\int Mdx + Ndy$. This uses the notation for a differential form, so is familiar in some theoretical usages, but does not readily lend itself to computation. It does yield pleasing formulas, such as $\\oint_C x dy$ to give the area of a two-dimensional region, $D$, in terms of a line integral around its perimeter. To see that this is so, let $\\vec{r}(t) = \\langle a\\cos(t), b\\sin(t)\\rangle$, $0 \\leq t \\leq 2\\pi$. This parameterizes an ellipse. Let $F(x,y) = \\langle 0,x\\rangle$. What does $\\oint_C xdy$ become when translated into $\\int_a^b (F\\circ\\vec{r})\\cdot\\vec{r}' dt$?"
      ],
      "metadata": {}
    },
    {
      "outputs": [],
      "cell_type": "code",
      "source": [
        "choices = [\nL\"\\int_0^{2\\pi} (a\\cos(t)) \\cdot (b\\cos(t)) dt\",\nL\"\\int_0^{2\\pi} (-b\\sin(t)) \\cdot (b\\cos(t)) dt\",\nL\"\\int_0^{2\\pi} (a\\cos(t)) \\cdot (a\\cos(t)) dt\"\n]\nans=1\nradioq(choices, ans)"
      ],
      "metadata": {},
      "execution_count": null
    },
    {
      "cell_type": "markdown",
      "source": [
        "###### Question\n\nLet a surface be parameterized by $\\Phi(u,v) = \\langle u\\cos(v), u\\sin(v), u\\rangle$.\n\nCompute $\\vec{v}_1 = \\partial{\\Phi}/\\partial{u}$"
      ],
      "metadata": {}
    },
    {
      "outputs": [],
      "cell_type": "code",
      "source": [
        "choices = [\nL\"\\langle \\cos(v), \\sin(v), 1\\rangle\",\nL\"\\langle -u\\sin(v), u\\cos(v), 0\\rangle\",\nL\"u\\langle -\\cos(v), -\\sin(v), 1\\rangle\"\n]\nans = 1\nradioq(choices, ans, keep_order=true)"
      ],
      "metadata": {},
      "execution_count": null
    },
    {
      "cell_type": "markdown",
      "source": [
        "Compute $\\vec{v}_2 = \\partial{\\Phi}/\\partial{u}$"
      ],
      "metadata": {}
    },
    {
      "outputs": [],
      "cell_type": "code",
      "source": [
        "choices = [\nL\"\\langle \\cos(v), \\sin(v), 1\\rangle\",\nL\"\\langle -u\\sin(v), u\\cos(v), 0\\rangle\",\nL\"u\\langle -\\cos(v), -\\sin(v), 1\\rangle\"\n]\nans = 2\nradioq(choices, ans, keep_order=true)"
      ],
      "metadata": {},
      "execution_count": null
    },
    {
      "cell_type": "markdown",
      "source": [
        "Compute $\\vec{v}_1 \\times \\vec{v}_2$"
      ],
      "metadata": {}
    },
    {
      "outputs": [],
      "cell_type": "code",
      "source": [
        "choices = [\nL\"\\langle \\cos(v), \\sin(v), 1\\rangle\",\nL\"\\langle -u\\sin(v), u\\cos(v), 0\\rangle\",\nL\"u\\langle -\\cos(v), -\\sin(v), 1\\rangle\"\n]\nans = 3\nradioq(choices, ans, keep_order=true)"
      ],
      "metadata": {},
      "execution_count": null
    },
    {
      "cell_type": "markdown",
      "source": [
        "###### Question\n\nFor the surface parameterized by $\\Phi(u,v) = \\langle uv, u^2v, uv^2\\rangle$ for $(u,v)$ in $[0,1]\\times[0,1]$, numerically find the surface area."
      ],
      "metadata": {}
    },
    {
      "outputs": [],
      "cell_type": "code",
      "source": [
        "Phi(u,v) = [u*v, u^2*v, u*v^2]\nPhi(v) = Phi(v...)\nfunction SurfaceElement(u,v)\n  pt = [u,v]\n  Jac = ForwardDiff.jacobian(Phi, pt)\n  v1, v2 = Jac[:,1], Jac[:,2]\n  cross(v1, v2)\nend\na,err = hcubature(uv -> norm(SurfaceElement(uv...)), (0,0), (1,1))\nnumericq(a)"
      ],
      "metadata": {},
      "execution_count": null
    },
    {
      "cell_type": "markdown",
      "source": [
        "###### Question\n\nFor the surface parameterized by $\\Phi(u,v) = \\langle uv, u^2v, uv^2\\rangle$ for $(u,v)$ in $[0,1]\\times[0,1]$ and vector field $F(x,y,z) =\\langle y^2, x, z\\langle$, numerically find $\\iint_S (F\\cdot\\hat{N}) dS$."
      ],
      "metadata": {}
    },
    {
      "outputs": [],
      "cell_type": "code",
      "source": [
        "Phi(u,v) = [u*v, u^2*v, u*v^2]\nPhi(v) = Phi(v...)\nfunction SurfaceElement(u,v)\n  pt = [u,v]\n  Jac = ForwardDiff.jacobian(Phi, pt)\n  v1, v2 = Jac[:,1], Jac[:,2]\n  cross(v1, v2)\nend\nF(x,y,z) = [y^2,x,z]\nF(v) = F(v...)\nintegrand(uv) = dot(F(Phi(uv)...), SurfaceElement(uv...))\na, err = hcubature(integrand, (0,0), (1,1))\nnumericq(a)"
      ],
      "metadata": {},
      "execution_count": null
    },
    {
      "cell_type": "markdown",
      "source": [
        "###### Question\n\nLet $F=\\langle 0,0,1\\rangle$ and $S$ be the upper-half unit sphere, parameterized by $\\Phi(\\theta, \\phi) = \\langle \\sin(\\phi)\\cos(\\theta), \\sin(\\phi)\\sin(\\theta), \\cos(\\phi)\\rangle$. Compute $\\iint_S (F\\cdot\\hat{N}) dS$ numerically. Choose the normal direction so that the answer is postive."
      ],
      "metadata": {}
    },
    {
      "outputs": [],
      "cell_type": "code",
      "source": [
        "F(v) = [0,0,1]\nPhi(theta, phi) = [sin(phi)*cos(theta), sin(phi)*sin(theta), cos(phi)]\nPhi(v) = Phi(v...)\nfunction SurfaceElement(u,v)\n  pt = [u,v]\n  Jac = ForwardDiff.jacobian(Phi, pt)\n  v1, v2 = Jac[:,1], Jac[:,2]\n  cross(v1, v2)\nend\nintegrand(uv) = dot(F(Phi(uv)), SurfaceElement(uv...))\na, err = hcubature(integrand, (0, 0), (2pi, pi/2))\nnumericq(abs(a))"
      ],
      "metadata": {},
      "execution_count": null
    },
    {
      "cell_type": "markdown",
      "source": [
        "###### Question\n\nLet $\\phi(x,y,z) = xy$ and $S$ be the triangle $x+y+z=1$, $x,y,z \\geq 0$. The surface may be described by $z=f(x,y) = 1 - (x + y)$, $0\\leq y \\leq 1-x, 0 \\leq x \\leq 1$ is useful in describing the surface. With this, the following integral will compute $\\int_S \\phi dS$:\n\n$$~\n\\int_0^1 \\int_0^{1-x} xy \\sqrt{1 + \\left(\\frac{\\partial{f}}{\\partial{x}}\\right)^2 + \\left(\\frac{\\partial{f}}{\\partial{y}}\\right)^2} dy dx.\n~$$\n\nCompute this."
      ],
      "metadata": {}
    },
    {
      "outputs": [],
      "cell_type": "code",
      "source": [
        "#@vars x y real=true\n#phi = 1 - (x+y)\n#SE = sqrt(1 + diff(phi,x)^2, diff(phi,y)^2)\n#integrate(x*y*S_, (y, 0, 1-x), (x,0,1)) # \\sqrt{2}/24\nchoices = [\nL\"\\sqrt{2}/24\",\nL\"2/\\sqrt{24}\",\nL\"1/12\"\n]\nans = 1\nradioq(choices, ans)"
      ],
      "metadata": {},
      "execution_count": null
    },
    {
      "cell_type": "markdown",
      "source": [
        "###### Question\n\nLet $\\Phi(u,v) = \\langle u^2, uv, v^2\\rangle$, $(u,v)$ in $[0,1]\\times[0,1]$ and $F(x,y,z) = \\langle x,y^2,z^3\\rangle$. Find  $\\int_S (F\\cdot\\hat{N})dS$"
      ],
      "metadata": {}
    },
    {
      "outputs": [],
      "cell_type": "code",
      "source": [
        "#Phi(u,v) = [u^2, u*v, v^2]\n#F(x,y,z) = [x,y^2,z^3]\n#Phi(v) = Phi(v...); F(v) = F(v...)\n#@vars u v real=true\n#function SurfaceElement(u,v)\n#  pt = [u,v]\n#  Jac = Phi(u,v).jacobian([u,v])\n#  v1, v2 = Jac[:,1], Jac[:,2]\n#  cross(v1, v2)\n#end\n#integrate(F(Phi(u,v)) ⋅ SurfaceElement(u,v), (u,0,1), (v,0,1)) # 17/252\nchoices = [\nL\"17/252\",\nL\"0\",\nL\"7/36\",\nL\"1/60\"\n]\nans = 1\nradioq(choices, ans)"
      ],
      "metadata": {},
      "execution_count": null
    }
  ],
  "nbformat_minor": 2,
  "metadata": {
    "language_info": {
      "file_extension": ".jl",
      "mimetype": "application/julia",
      "name": "julia",
      "version": "1.5.0"
    },
    "kernelspec": {
      "name": "julia-1.5",
      "display_name": "Julia 1.5.0",
      "language": "julia"
    }
  },
  "nbformat": 4
}
