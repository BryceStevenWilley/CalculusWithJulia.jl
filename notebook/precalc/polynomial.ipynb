{
  "cells": [
    {
      "cell_type": "markdown",
      "source": [
        "# Polynomials"
      ],
      "metadata": {}
    },
    {
      "outputs": [],
      "cell_type": "code",
      "source": [
        "using CalculusWithJulia\nusing CalculusWithJulia.WeaveSupport\nusing Plots\nnothing"
      ],
      "metadata": {},
      "execution_count": null
    },
    {
      "cell_type": "markdown",
      "source": [
        "Polynomials are a particular class of expressions that are simple\nenough to have many properties that can be analyzed. In particular,\nthe key concepts of calculus: limits, continuity, derivatives, and\nintegrals are all relatively trivial for polynomial\nfunctions. However, polynomials are flexible enough that they can be\nused to approximate a wide variety of functions. Indeed, though we\ndon't pursue this, we mention that `Julia`'s `ApproxFun` package\nexploits this to great advantage.\n\nHere we discuss some vocabulary and basic facts related to polynomials\nand show how the add-on `SymPy` package can be used to model\npolynomial expressions within `SymPy`.\n\nFor our purposes, a *monomial* is simply a non-negative integer power\nof $x$ (or some other indeterminate symbol) possibly multiplied by a\nscalar constant.  For example, $5x^4$ is a monomial, as are constants,\nsuch as $-2=-2x^0$ and the symbol itself, as $x = x^1$. In general,\none may consider restrictions on where the constants can come from,\nand consider more than one symbol, but we won't pursue this here,\nrestricting ourselves to the case of a single variable and real\ncoefficients.\n\nA *polynomial* is a sum of monomials. After\ncombining terms with same powers, a non-zero polynomial may be written uniquely\nas:\n\n$$\na_n x^n + a_{n-1}x^{n-1} + \\cdots a_1 x + a_0, \\quad a_n \\neq 0\n$$"
      ],
      "metadata": {}
    },
    {
      "outputs": [],
      "cell_type": "code",
      "source": [
        "##{{{ different_poly_graph }}}\npyplot()\nfig_size = (400, 300)\nanim = @animate for m in  2:2:10\n    fn = x -> x^m\n    plot(fn, -1, 1, size = fig_size, legend=false, title=\"graph of x^$m\", xlims=(-1,1), ylims=(-.1,1))\nend\n\nimgfile = tempname() * \".gif\"\ngif(anim, imgfile, fps = 1)\ncaption = \"Polynomials of varying even degrees over [-1,1].\"\n\nImageFile(imgfile, caption)"
      ],
      "metadata": {},
      "execution_count": null
    },
    {
      "cell_type": "markdown",
      "source": [
        "The numbers $a_0, a_1, \\dots, a_n$ are the **coefficients** of the\npolynomial. With the convention that $x=x^1$ and $1 = x^0$, the\nmonomials above have their power match their coefficient's index,\ne.g., $a_ix^i$.  Outside of the coefficient $a_n$, the other\ncoefficients may be negative, positive, *or* $0$. Except for the zero\npolynomial, the largest power $n$ is called the\n[degree](https://en.wikipedia.org/wiki/Degree_of_a_polynomial). The\ndegree of the [zero](http://tinyurl.com/he6eg6s) polynomial is typically not\ndefined or defined to be $-1$, so as to make certain statements easier to express. The term\n$a_n$ is called the **leading coefficient**. When the leading\ncoefficient is $1$, the polynomial is called a **monic polynomial**.\nThe monomial $a_n x^n$ is the **leading term**.\n\nFor example, the polynomial $-16x^2 - 32x + 100$ has degree $2$,\nleading coefficient $-16$ and leading term $-16x^2$. It is not monic,\nas the leading coefficient is not 1.\n\nLower degree polynomials have special names: a degree $0$ polynomial\n($a_0$) is a non-zero constant, a degree 1 polynomial ($a_0+a_1x$) is called\nlinear, a degree $2$ polynomial is quadratic, and  a degree $3$ polynomial is called cubic.\n\n## Linear polynomials\n\nA special place is reserved for polynomials with degree 1. These are\nlinear, as their graphs are straight lines. The general form,\n\n$$\na_1 x + a_0, \\quad a_1 \\neq 0,\n$$\n\nis often written as $mx + b$, which is the **slope-intercept** form. The slope of a line determines how steeply it rises. The value\nof $m$ can be found from two points through the well-known formula:\n\n$$\nm = \\frac{y_1 - y_0}{x_1 - x_0} = \\frac{\\text{rise}}{\\text{run}}\n$$"
      ],
      "metadata": {}
    },
    {
      "outputs": [],
      "cell_type": "code",
      "source": [
        "### {{{ lines_m_graph }}}\n\npyplot()\nanim = @animate for m in  [-5, -2, -1, 1, 2, 5, 10, 20]\n    fn = x -> m * x\n    plot(fn, -1, 1, size = fig_size, legend=false, title=\"m = $m\", xlims=(-1,1), ylims=(-20, 20))\nend\n\nimgfile = tempname() * \".gif\"\ngif(anim, imgfile, fps = 1)\ncaption = \"Graphs of y = mx for different values of m\"\n\nImageFile(imgfile, caption)"
      ],
      "metadata": {},
      "execution_count": null
    },
    {
      "cell_type": "markdown",
      "source": [
        "The intercept, $b$, comes from the fact that when $x=0$ the expression\nis $b$. That is the graph of the function $f(x) = mx + b$ will have\n$(0,b)$ as a point on it.\n\nMore generally, we have the **point-slope** form of a line, written as a polynomial through\n\n$$\ny_0 + m \\cdot (x - x_0).\n$$\n\nThe slope is $m$ and the point $(x_0, y_0)$. Again, the line graphing\nthis as a function of $x$ would have the point $(x_0,y_0)$ on it and\nhave slope $m$. This form is more useful in calculus, as the\ninformation we have convenient is more likely to be related to a\nspecific value of $x$, not the special value $x=0$.\n\nThinking in terms of transformations, this looks like the function\n$f(x) = x$ (whose graph is a line with slope 1) stretched in the $y$\ndirection by a factor of $m$ then shifted right by $x_0$ units, and\nthen shifted up by $y_0$ units. When $m>1$, this means the line grows\nfaster.  When $m< 0$, the line $f(x)=x$ is flipped through the\n$x$-axis so would head downwards, not upwards like $f(x) = x$.\n\n## Symbolic math in Julia\n\nThe indeterminate value `x` (or some other symbol) in a polynomial, is\nlike a variable in a function and unlike a variable in `Julia`. Variables in `Julia`\nare identifiers,  just a means to look up a specific, already determined,\nvalue. Rather, the symbol `x` is not yet determined, it is essentially a place holder for a future value. Although we have\nseen that `Julia` makes it very easy to work with mathematical\nfunctions, it is not the case that base `Julia` makes working with\nexpressions of algebraic symbols easy.  This makes sense, `Julia` is\nprimarily designed for technical computing, where numeric approaches\nrule the day. However, symbolic math can be used from within `Julia` with an add-on package.\n\nSymbolic math programs include well-known ones like the commercial programs\nMathematica and Maple. Mathematica powers the popular\n[WolframAlpha](www.wolframalpha.com) website, which turns \"natural\"\nlanguage into the specifics of a programming language. The open-source\nSage project is an alternative to these two commercial giants. It\nincludes a wide-range of open-source math projects available within\nits umbrella framework. (`Julia` can even be run from within the free\nservice [cloud.sagemath.com](https://cloud.sagemath.com/projects).) A\nmore focused project for symbolic math, is the [SymPy](www.sympy.org)\nPython library. SymPy is also used  within Sage. However, SymPy provides a self-contained library that can be\nused standalone within a Python session. That is great for `Julia` users, as the\n`PyCall` package glues `Julia` to Python in a seamless manner. This\nallows the `Julia` package `SymPy` to provide functionality from SymPy\nwithin `Julia`."
      ],
      "metadata": {}
    },
    {
      "outputs": [],
      "cell_type": "code",
      "source": [
        "note(\"\"\"\n\n`SymPy` is installed when the accompanying `CalculusWithJulia` package\n is installed. It could also be installed directly. The package relies\n on both Python being installed and SymPy being added to the installed\n Python. This is done automatically on installation, if needed, when\n the `PyCall` package is installed.\n\n\"\"\")"
      ],
      "metadata": {},
      "execution_count": null
    },
    {
      "cell_type": "markdown",
      "source": [
        "To use `SymPy`, we create symbolic objects to be our indeterminate\nsymbols. The `symbols` function does this and is used like:"
      ],
      "metadata": {}
    },
    {
      "outputs": [],
      "cell_type": "code",
      "source": [
        "using CalculusWithJulia   # loads the `SymPy` package\nusing Plots\na,b,c = symbols(\"a,b,c\")\nx = symbols(\"x\", real=true)"
      ],
      "metadata": {},
      "execution_count": null
    },
    {
      "cell_type": "markdown",
      "source": [
        "The first use, shows that multiple symbols can be defined at once. The\nsecond shows the extra keyword argument `real=true`, which instructs\n`SymPy` to assume the `x` is real, as otherwise it assumes it is\npossibly complex. There are many other\n[assumptions](http://docs.sympy.org/dev/modules/core.html#module-sympy.core.assumptions)\nthat can be made.\n\nThe *macro* `@vars` is like the second usage, only it does not need\nassignment, as the variable are created behind the scenes. This may\nbe the easiest way to create symbolic values:"
      ],
      "metadata": {}
    },
    {
      "outputs": [],
      "cell_type": "code",
      "source": [
        "@vars h t"
      ],
      "metadata": {},
      "execution_count": null
    },
    {
      "outputs": [],
      "cell_type": "code",
      "source": [
        "note(\"\"\"Macros in `Julia` are just transformations of the syntax into other synax. The `@` indicates they behave differently than regular function calls. For the `@vars` macro, the arguments are **not** separated by commas, as a normal function cal would be.\n\"\"\")"
      ],
      "metadata": {},
      "execution_count": null
    },
    {
      "cell_type": "markdown",
      "source": [
        "The `SymPy` package does two basic things:\n\n- It imports some of the functionality provided by `SymPy`, including the ability to create symbolic variables.\n\n- It overloads many `Julia` functions to work seamlessly with symbolic expressions. This makes working with polynomials quite natural.\n\nTo illustrate, using the just defined `x`, here is how we can create the polynomial $-16x^2 + 100$:"
      ],
      "metadata": {}
    },
    {
      "outputs": [],
      "cell_type": "code",
      "source": [
        "p = -16x^2 + 100"
      ],
      "metadata": {},
      "execution_count": null
    },
    {
      "cell_type": "markdown",
      "source": [
        "That is, the expression is created just as you would create it within\na function body. But here the result is still a symbolic object. We\nhave assigned this expression to a variable `p`, and have not defined\nit as a function `p(x)`. Mentally keeping the distinction between\nexpressions and functions is very important.\n\nThe `typeof` function shows that `p` is of a symbolic type (`Sym`):"
      ],
      "metadata": {}
    },
    {
      "outputs": [],
      "cell_type": "code",
      "source": [
        "typeof(p)"
      ],
      "metadata": {},
      "execution_count": null
    },
    {
      "cell_type": "markdown",
      "source": [
        "We can mix and match symbolic objects. This command creates an\narbitrary quadratic polynomial:"
      ],
      "metadata": {}
    },
    {
      "outputs": [],
      "cell_type": "code",
      "source": [
        "quad = a*x^2 + b*x + c"
      ],
      "metadata": {},
      "execution_count": null
    },
    {
      "cell_type": "markdown",
      "source": [
        "Again, this is entered in a manner nearly identical to how we see such\nexpressions typeset ($ax^2 + bx+c$), though we must remember to\nexplicitly place the multiplication operator, as the symbols are not\nnumeric literals.\n\n\nWe can apply many of `Julia`'s mathematical functions and the result will still be symbolic:"
      ],
      "metadata": {}
    },
    {
      "outputs": [],
      "cell_type": "code",
      "source": [
        "sin(a*(x - b*pi) + c)"
      ],
      "metadata": {},
      "execution_count": null
    },
    {
      "cell_type": "markdown",
      "source": [
        "Another example, might be the following combination:"
      ],
      "metadata": {}
    },
    {
      "outputs": [],
      "cell_type": "code",
      "source": [
        "quad + quad^2 - quad^3"
      ],
      "metadata": {},
      "execution_count": null
    },
    {
      "cell_type": "markdown",
      "source": [
        "## Substitution: subs, replace\n\nAlgebraically working with symbolic expressions is straightforward. A\ndifferent symbolic task is substitution. For example, replacing each\ninstance of `x` in a polynomial, with, say, `(x-1)^2`. Substitution\nrequires three things to be specified: an expression to work on, a\nvariable to substitute, and a value to substitute in.\n\n\nSymPy provides its `subs` function for this. This function is available in `Julia`, but it is easier to use notation reminiscent of function evaluation.\n\nTo illustrate, to do\nthe task above for the polynomial $-16x^2 + 100$ we could have:"
      ],
      "metadata": {}
    },
    {
      "outputs": [],
      "cell_type": "code",
      "source": [
        "p = -16x^2 + 100\np(x => (x-1)^2)"
      ],
      "metadata": {},
      "execution_count": null
    },
    {
      "cell_type": "markdown",
      "source": [
        "This \"call\" notation takes pairs (designated by `a=>b`) where the left-hand side is the variable to substitute for, and the right-hand side the new value.\nThe value to substitute can depend on the variable, as illustrated; be\na different variable; or be a numeric value, such as $2$:"
      ],
      "metadata": {}
    },
    {
      "outputs": [],
      "cell_type": "code",
      "source": [
        "y = p(x=>2)"
      ],
      "metadata": {},
      "execution_count": null
    },
    {
      "cell_type": "markdown",
      "source": [
        "The result will always be of a symbolic type, even if the answer is\njust a number:"
      ],
      "metadata": {}
    },
    {
      "outputs": [],
      "cell_type": "code",
      "source": [
        "typeof(y)"
      ],
      "metadata": {},
      "execution_count": null
    },
    {
      "cell_type": "markdown",
      "source": [
        "If there is just one free variable in an expression, the pair notation can be dropped:"
      ],
      "metadata": {}
    },
    {
      "outputs": [],
      "cell_type": "code",
      "source": [
        "p(4) # substitutes x=>4"
      ],
      "metadata": {},
      "execution_count": null
    },
    {
      "cell_type": "markdown",
      "source": [
        "##### Example\n\nSuppose we have the polynomial $p = ax^2 + bx +c$. What would it look\nlike if we shifted right by $E$ units and up by $F$ units?"
      ],
      "metadata": {}
    },
    {
      "outputs": [],
      "cell_type": "code",
      "source": [
        "@vars a b c E F\np = a*x^2 + b*x + c\np(x => x-E) + F"
      ],
      "metadata": {},
      "execution_count": null
    },
    {
      "cell_type": "markdown",
      "source": [
        "And expanded this becomes:"
      ],
      "metadata": {}
    },
    {
      "outputs": [],
      "cell_type": "code",
      "source": [
        "expand(p(x => x-E) + F)"
      ],
      "metadata": {},
      "execution_count": null
    },
    {
      "cell_type": "markdown",
      "source": [
        "### Conversion of symbolic numbers to Julia numbers\n\nIn the above, we substituted `2` in for `x` to get `y`:"
      ],
      "metadata": {}
    },
    {
      "outputs": [],
      "cell_type": "code",
      "source": [
        "p = -16x^2 + 100\ny = p(2)"
      ],
      "metadata": {},
      "execution_count": null
    },
    {
      "cell_type": "markdown",
      "source": [
        "The value, $36$ is still symbolic, but clearly an integer. If we\nare just looking at the output, we can easily translate from the\nsymbolic value to an integer, as they print similarly. However the\nconversion to an integer, or another type of number, does not happen\nautomatically.  If a number is needed to pass along to another `Julia`\nfunction, it may need to be converted. In general, conversions between\ndifferent types are handled through various methods of\n`convert`. However, with `SymPy`, the `N` function will attempt to do\nthe conversion for you:"
      ],
      "metadata": {}
    },
    {
      "outputs": [],
      "cell_type": "code",
      "source": [
        "N(y)"
      ],
      "metadata": {},
      "execution_count": null
    },
    {
      "cell_type": "markdown",
      "source": [
        "Conversion by `N` also works for other types of data, such as\n`Rational` and `Float64`. For getting more digits of accuracy, a\nprecision can be passed to `N`. The following command will take\nthe symbolic value for $\\pi$, `PI`, and produce about 60 digits worth\nas a `BigFloat` value:"
      ],
      "metadata": {}
    },
    {
      "outputs": [],
      "cell_type": "code",
      "source": [
        "N(PI, 60)"
      ],
      "metadata": {},
      "execution_count": null
    },
    {
      "cell_type": "markdown",
      "source": [
        "Conversion will fail if the value to be converted contains free\nsymbols, as would be expected.\n\n## Graphical properties of polynomials\n\nConsider the graph of the polynomial `x^5 - x + 1`:"
      ],
      "metadata": {}
    },
    {
      "outputs": [],
      "cell_type": "code",
      "source": [
        "plot(x^5 - x + 1, -3/2, 3/2)"
      ],
      "metadata": {},
      "execution_count": null
    },
    {
      "cell_type": "markdown",
      "source": [
        "(Plotting symbolic expressions is similar to plotting a function, in\nthat the expression is passed in as the first argument. The expression\nmust have only one free variable, as above, or an error will occur.)\n\n\nThis graph illustrates the key features of polynomial graphs:\n\n* there may be values for `x` where the graph crosses the $x$ axis\n  (real roots of the polynomial);\n\n* there may be peaks and valleys (local maxima and local minima)\n\n* except for constant polynomials, the ultimate behaviour for large\n  values of $\\lvert x\\rvert$ is either both sides of the graph going to positive\n  infinity, or negative infinity, or as in this graph one to the\n  positive infinity and one to negative infinity. In particular, there\n  is no *horizontal asymptote*.\n\nTo investigate this last point, let's consider the case of the\nmonomial $x^n$. When $n$ is even, the following animation shows that\nlarger values of $n$ have greater growth once outside of $[-1,1]$:"
      ],
      "metadata": {}
    },
    {
      "outputs": [],
      "cell_type": "code",
      "source": [
        "### {{{ poly_growth_graph }}}\n\npyplot()\nanim = @animate for m in  0:2:12\n    fn = x -> x^m\n    plot(fn, -1.2, 1.2, size = fig_size, legend=false, xlims=(-1.2, 1.2), ylims=(0, 1.2^12), title=\"x^{$m} over [-1.2, 1.2]\")\nend\n\nimgfile = tempname() * \".gif\"\ngif(anim, imgfile, fps = 1)\ncaption = L\"Demonstration that $x^{10}$ grows faster than $x^8$, ... and $x^2$  grows faster than $x^0$ (which is constant).\"\n\nImageFile(imgfile, caption)"
      ],
      "metadata": {},
      "execution_count": null
    },
    {
      "cell_type": "markdown",
      "source": [
        "Of course, this is expected, as, for example, $2^2 < 2^4 < 2^6 <\n\\cdots$. The general shape of these terms is similar - $U$ shaped,\nand larger powers dominate the smaller powers as $\\lvert x\\rvert$ gets big.\n\n\nFor odd powers of $n$, the graph of the monomial $x^n$ is no longer\n$U$ shaped, but rather constantly increasing. This graph of $x^5$ is\ntypical:"
      ],
      "metadata": {}
    },
    {
      "outputs": [],
      "cell_type": "code",
      "source": [
        "plot(x^5, -2, 2)"
      ],
      "metadata": {},
      "execution_count": null
    },
    {
      "cell_type": "markdown",
      "source": [
        "Again, for larger powers the shape is similar, but the growth is faster.\n\n### Leading term dominates\n\nTo see the roots and/or the peaks and valleys of a polynomial requires a\njudicious choice of viewing window, as ultimately the leading term\nwill dominate the graph. The following animation of the graph of\n$(x-5)(x-3)(x-2)(x-1)$ illustrates. Subsequent images show a widening\nof the plot window until the graph appears U-shaped."
      ],
      "metadata": {}
    },
    {
      "outputs": [],
      "cell_type": "code",
      "source": [
        "### {{{ leading_term_graph }}}\n\npyplot()\nanim = @animate for n in 1:6\n    m = [1, .5, -1, -5, -20, -25]\n    M = [2, 4,    5, 10, 25, 30]\n    fn = x -> (x-1)*(x-2)*(x-3)*(x-5)\n\n    plt = plot(fn, m[n], M[n], size=fig_size, legend=false, linewidth=2, title =\"Graph of on ($(m[n]), $(M[n]))\")\n    if n > 1\n        plot!(plt, fn, m[n-1], M[n-1], color=:red, linewidth=4)\n    end\nend\n\ncaption = \"The previous graph is highlighted in red. Ultimately the leading term (\\$x^4\\$ here) dominates the graph.\"\nimgfile = tempname() * \".gif\"\ngif(anim, imgfile, fps=1)\n\nImageFile(imgfile, caption)"
      ],
      "metadata": {},
      "execution_count": null
    },
    {
      "cell_type": "markdown",
      "source": [
        "The leading term in the animation is $x^4$, so the graphic is\nU-shaped, were it an odd power, then the left and right sides would\neach head off to different signs of infinity.\n\n\nTo illustrate analytically why the leading term dominates, consider\nthe polynomial $2x^5 - x + 1$ and then factor out the largest power,\n$x^5$, leaving a product:\n\n$$\nx^5 \\cdot (2 - \\frac{1}{x^4} + \\frac{1}{x^5}).\n$$\n\nFor large $\\lvert x\\rvert$, the last two terms in the product on the right get\nclose to $0$, so this expression is *basically* just $2x^5$ - the\nleading term.\n\n\n##### Example\n\nSuppose $p = a_n x^n + \\cdots + a_1 x + a_0$ with $a_n > 0$. Then by\nthe above, eventually for large $x > 0$ we have $p > 0$, as that is the\nbehaviour of $a_n x^n$. Were $a_n < 0$, then eventually for large\n$x>0$, $p < 0$.\n\nNow consider the related polynomial, $q$, where we multiply $p$ by $x^n$ and substitute in $1/x$ for $x$. This is the \"reversed\" polynomial, as we see in this illustration for $n=2$:"
      ],
      "metadata": {}
    },
    {
      "outputs": [],
      "cell_type": "code",
      "source": [
        "p = a*x^2 + b*x + c\nn = 2    # the degree of p\nq = expand(x^n * p(x => 1/x))"
      ],
      "metadata": {},
      "execution_count": null
    },
    {
      "cell_type": "markdown",
      "source": [
        "In particular, from the reversal, the behavior of $q$ for large $x$\ndepends on the sign of $x_0$. As well, due to the $1/x$, the behaviour\nof $q$ for large $x>0$ is the same as the behaviour of $p$ for small\n*positive* $x$. In particular if $a_n > 0$ but $a_0 < 0$, then `p` is\neventually positive and `q` is eventually negative.\n\nThat is, if $p$ has $a_n > 0$ but $a_0 < 0$ then the graph of $p$ must cross the $x$ axis.\n\nThis observation is the start of Descartes' rule of\n[signs](http://sepwww.stanford.edu/oldsep/stew/descartes.pdf), which\ncounts the change of signs of the coefficients in `p` to say something\nabout how many possible crossings there are of the $x$ axis by the\ngraph of the polynomial $p$.\n\n\n\n\n## Factoring polynomials\n\nAmong others, there are two common ways of representing a non-zero polynomial: either in an\n\n* expanded form, as in $a_n x^n + a_{n-1}x^{n-1} + \\cdots a_1 x + a_0, a_n \\neq 0$; or\n\n* in factored form, as in $a\\cdot(x-r_1)\\cdot(x-r_2)\\cdots(x-r_n), a \\neq 0$.\n\nThe latter writes $p$ as a product of linear factors, though this is\nonly possible in general if we consider complex roots. With real roots\nonly, then the factors are either linear or quadratic, as will be\ndiscussed later.\n\nThere are values to each representation. One value of the expanded\nform is that doing arithmetic with polynomials is much easier in\nexpanded form. For example, adding polynomials just requires matching\nup the monomials of similar powers. As for the factored format, the\none value is that it is easy to read off *roots* of the polynomial (values of $x$ where $p$ is $0$), as\na product is $0$ only if a term is $0$, so any zero must be a zero of\na factor. However, factored form has other advantages. For example,\nthe polynomial $(x-1)^{1000}$ can be compactly represented using the\nfactored form, but would require 1001 coefficients to store in expanded\nform. (As well, due to floating point differences, the two would\nevaluate quite differently as one would require over a 1000 operations\nto compute, the other just two.)\n\nTranslating from factored form to expanded form can be done by\ncarefully following the distributive law of multiplication. For\nexample, with some care it can be shown that:\n\n$$\n(x-1) \\cdot (x-2) \\cdot (x-3) = x^3  - 6x^2 +11x - 6.\n$$\n\n\nThe `SymPy` function `expand` will perform these algebraic\nmanipulations without fuss:"
      ],
      "metadata": {}
    },
    {
      "outputs": [],
      "cell_type": "code",
      "source": [
        "expand((x-1)*(x-2)*(x-3))"
      ],
      "metadata": {},
      "execution_count": null
    },
    {
      "cell_type": "markdown",
      "source": [
        "Factoring a polynomial is several weeks worth of lessons, as there is\nno one-size-fits-all algorithm to follow. There are some tricks that\nare taught: for example factoring differences of perfect squares,\ncompleting the square, the rational root theorem, $\\dots$. But in\ngeneral the solution is not automated. The `SymPy` function `factor`\nwill find all rational factors (terms like $(qx-p)$), but will leave\nterms that do not have rational factors alone. For example:"
      ],
      "metadata": {}
    },
    {
      "outputs": [],
      "cell_type": "code",
      "source": [
        "factor(x^3 - 6x^2 + 11x -6)"
      ],
      "metadata": {},
      "execution_count": null
    },
    {
      "cell_type": "markdown",
      "source": [
        "Or"
      ],
      "metadata": {}
    },
    {
      "outputs": [],
      "cell_type": "code",
      "source": [
        "factor(x^5 - 5x^4 + 8x^3 - 8x^2 + 7x - 3)"
      ],
      "metadata": {},
      "execution_count": null
    },
    {
      "cell_type": "markdown",
      "source": [
        "But will not factor things that are not hard to see:"
      ],
      "metadata": {}
    },
    {
      "outputs": [],
      "cell_type": "code",
      "source": [
        "x^2 - 2"
      ],
      "metadata": {},
      "execution_count": null
    },
    {
      "cell_type": "markdown",
      "source": [
        "The factoring $(x-\\sqrt{2})\\cdot(x + \\sqrt{2})$ is not found, as\n$\\sqrt{2}$ is not rational.\n\n(For those, it may be possible to solve to get the roots, which\ncan then be used to produce the factored form.)\n\n### Polynomial functions and polynomials.\n\nOur definition of a polynomial is in terms of algebraic expressions\nwhich are easily represented by `SymPy` objects, but not objects from\nbase `Julia`. (Though there are the `Polynomials` package and the `AbstractAlbegra` package for representing polynomials.)\n\nHowever, *polynomial functions* are easily represented by `Julia`, for\nexample,"
      ],
      "metadata": {}
    },
    {
      "outputs": [],
      "cell_type": "code",
      "source": [
        "f(x) = -16x^2 + 100"
      ],
      "metadata": {},
      "execution_count": null
    },
    {
      "cell_type": "markdown",
      "source": [
        "The distinction is subtle, the expression is turned into a function\njust by adding the `f(x) =` preface. But to `Julia` there is a big\ndistinction. The function form never does any computation until after a value\nof $x$ is passed to it. Whereas symbolic expressions can be\nmanipulated quite freely before any numeric values are specified.\n\nIt is easy to create a symbolic expression from a function - just\nevaluate the function on a symbolic value:"
      ],
      "metadata": {}
    },
    {
      "outputs": [],
      "cell_type": "code",
      "source": [
        "f(x)"
      ],
      "metadata": {},
      "execution_count": null
    },
    {
      "cell_type": "markdown",
      "source": [
        "This is easy - but can also be confusing. The function object is `f`,\nthe expression is `f(x)` - the function evaluated on a symbolic\nobject. `SymPy` provides an interface for a few commonly used\nfunctions so that either will work. One such is `plot`, either\n`plot(f, a, b)` or `plot(f(x),a, b)` will produce the same plot with\n`Plots`.\n\nSymbolic polynomial expressions can be evaluated using the same syntax as a function call:"
      ],
      "metadata": {}
    },
    {
      "outputs": [],
      "cell_type": "code",
      "source": [
        "p = -16*x^2 + 100\np(2)"
      ],
      "metadata": {},
      "execution_count": null
    },
    {
      "cell_type": "markdown",
      "source": [
        "If desired, such expressions can be `convert`ed into a function using `Julia`s `convert` function.\n\n## Questions\n\n###### Question\n\nLet $p$ be the polynomial $3x^2 - 2x + 5$.\n\nWhat is the degree of $p$?"
      ],
      "metadata": {}
    },
    {
      "outputs": [],
      "cell_type": "code",
      "source": [
        "numericq(2)"
      ],
      "metadata": {},
      "execution_count": null
    },
    {
      "cell_type": "markdown",
      "source": [
        "What is the leading coefficient of $p$?"
      ],
      "metadata": {}
    },
    {
      "outputs": [],
      "cell_type": "code",
      "source": [
        "numericq(3)"
      ],
      "metadata": {},
      "execution_count": null
    },
    {
      "cell_type": "markdown",
      "source": [
        "The graph of $p$ would have what $y$-intercept?"
      ],
      "metadata": {}
    },
    {
      "outputs": [],
      "cell_type": "code",
      "source": [
        "numericq(5)"
      ],
      "metadata": {},
      "execution_count": null
    },
    {
      "cell_type": "markdown",
      "source": [
        "Is $p$ a monic polynomial?"
      ],
      "metadata": {}
    },
    {
      "outputs": [],
      "cell_type": "code",
      "source": [
        "booleanq(false, labels=[\"Yes\", \"No\"])"
      ],
      "metadata": {},
      "execution_count": null
    },
    {
      "cell_type": "markdown",
      "source": [
        "Is $p$ a quadratic polynomial?"
      ],
      "metadata": {}
    },
    {
      "outputs": [],
      "cell_type": "code",
      "source": [
        "booleanq(true, labels=[\"Yes\", \"No\"])"
      ],
      "metadata": {},
      "execution_count": null
    },
    {
      "cell_type": "markdown",
      "source": [
        "The graph of $p$ would be $U$-shaped?"
      ],
      "metadata": {}
    },
    {
      "outputs": [],
      "cell_type": "code",
      "source": [
        "booleanq(true, labels=[\"Yes\", \"No\"])"
      ],
      "metadata": {},
      "execution_count": null
    },
    {
      "cell_type": "markdown",
      "source": [
        "What is the leading term of $p$?"
      ],
      "metadata": {}
    },
    {
      "outputs": [],
      "cell_type": "code",
      "source": [
        "choices = [\"3\", L\"3x^2\", L\"-2x\", L\"5\"]\nans = 2\nradioq(choices, ans)"
      ],
      "metadata": {},
      "execution_count": null
    },
    {
      "cell_type": "markdown",
      "source": [
        "###### Question\n\nLet $p = x^3 - 2x^2 +3x - 4$.\n\nWhat is  $a_2$, using the standard numbering of coefficient?"
      ],
      "metadata": {}
    },
    {
      "outputs": [],
      "cell_type": "code",
      "source": [
        "numericq(-2)"
      ],
      "metadata": {},
      "execution_count": null
    },
    {
      "cell_type": "markdown",
      "source": [
        "What is $a_n$?"
      ],
      "metadata": {}
    },
    {
      "outputs": [],
      "cell_type": "code",
      "source": [
        "numericq(1)"
      ],
      "metadata": {},
      "execution_count": null
    },
    {
      "cell_type": "markdown",
      "source": [
        "What is $a_0$?"
      ],
      "metadata": {}
    },
    {
      "outputs": [],
      "cell_type": "code",
      "source": [
        "numericq(-4)"
      ],
      "metadata": {},
      "execution_count": null
    },
    {
      "cell_type": "markdown",
      "source": [
        "###### Question\n\nThe linear polynomial $p = 2x + 3$ is written in which form:"
      ],
      "metadata": {}
    },
    {
      "outputs": [],
      "cell_type": "code",
      "source": [
        "choices = [\"point-slope form\", \"slope-intercept form\", \"general form\"]\nans = 2\nradioq(choices, ans)"
      ],
      "metadata": {},
      "execution_count": null
    },
    {
      "cell_type": "markdown",
      "source": [
        "###### Question\n\nThe polynomial `p` is defined in `Julia` as follows:"
      ],
      "metadata": {}
    },
    {
      "outputs": [],
      "cell_type": "code",
      "source": [
        "@vars x\np = -16x^2 + 64"
      ],
      "metadata": {},
      "execution_count": null
    },
    {
      "cell_type": "markdown",
      "source": [
        "What command will return the value of the polynomial when $x=2$?"
      ],
      "metadata": {}
    },
    {
      "outputs": [],
      "cell_type": "code",
      "source": [
        "choices = [q\"p*2\", q\"p[2]\", q\"p_2\", q\"p(x=>2)\"]\nans = 4\nradioq(choices, ans)"
      ],
      "metadata": {},
      "execution_count": null
    },
    {
      "cell_type": "markdown",
      "source": [
        "###### Question\n\nIn the large, the graph of $p=x^{101} - x + 1$ will"
      ],
      "metadata": {}
    },
    {
      "outputs": [],
      "cell_type": "code",
      "source": [
        "choices = [\nL\"Be $U$-shaped, opening upward\",\nL\"Be $U$-shaped, opening downward\",\nL\"Overall, go upwards from $-\\infty$ to $+\\infty$\",\nL\"Overall, go downwards from $+\\infty$ to $-\\infty$\"]\nans = 3\nradioq(choices, ans, keep_order=true)"
      ],
      "metadata": {},
      "execution_count": null
    },
    {
      "cell_type": "markdown",
      "source": [
        "###### Question\n\nIn the large, the graph of $p=x^{102} - x^{101} + x + 1$ will"
      ],
      "metadata": {}
    },
    {
      "outputs": [],
      "cell_type": "code",
      "source": [
        "choices = [\nL\"Be $U$-shaped, opening upward\",\nL\"Be $U$-shaped, opening downward\",\nL\"Overall, go upwards from $-\\infty$ to $+\\infty$\",\nL\"Overall, go downwards from $+\\infty$ to $-\\infty$\"]\nans = 1\nradioq(choices, ans, keep_order=true)"
      ],
      "metadata": {},
      "execution_count": null
    },
    {
      "cell_type": "markdown",
      "source": [
        "###### Question\n\nIn the large, the graph of $p=-x^{10} + x^9 + x^8 + x^7 + x^6$ will"
      ],
      "metadata": {}
    },
    {
      "outputs": [],
      "cell_type": "code",
      "source": [
        "choices = [\nL\"Be $U$-shaped, opening upward\",\nL\"Be $U$-shaped, opening downward\",\nL\"Overall, go upwards from $-\\infty$ to $+\\infty$\",\nL\"Overall, go downwards from $+\\infty$ to $-\\infty$\"]\nans = 2\nradioq(choices, ans, keep_order=true)"
      ],
      "metadata": {},
      "execution_count": null
    },
    {
      "cell_type": "markdown",
      "source": [
        "###### Question\n\nUse `SymPy` to factor the polynomial $x^{11} - x$. How many factors are found?"
      ],
      "metadata": {}
    },
    {
      "outputs": [],
      "cell_type": "code",
      "source": [
        "numericq(4)"
      ],
      "metadata": {},
      "execution_count": null
    },
    {
      "cell_type": "markdown",
      "source": [
        "###### Question\n\nUse `SymPy` to factor the polynomial $x^{12} - 1$. How many factors are found?"
      ],
      "metadata": {}
    },
    {
      "outputs": [],
      "cell_type": "code",
      "source": [
        "numericq(6)"
      ],
      "metadata": {},
      "execution_count": null
    },
    {
      "cell_type": "markdown",
      "source": [
        "###### Question\n\nWhat is the monic polynomial with roots $x=-1$, $x=0$, and $x=2$?"
      ],
      "metadata": {}
    },
    {
      "outputs": [],
      "cell_type": "code",
      "source": [
        "choices = [q\"x^3 - 3x^2  + 2x\",\nq\"x^3 - x^2 - 2x\",\nq\"x^3 + x^2 - 2x\",\nq\"x^3 + x^2 + 2x\"]\nans = 2\nradioq(choices, 2)"
      ],
      "metadata": {},
      "execution_count": null
    },
    {
      "cell_type": "markdown",
      "source": [
        "###### Question\n\nUse `expand` to expand the expression `((x-h)^3 - x^3) / h` where `x` and `h` are symbolic constants. What is the value:"
      ],
      "metadata": {}
    },
    {
      "outputs": [],
      "cell_type": "code",
      "source": [
        "choices = [\nq\"-h^2 + 3hx  - 3x^2\",\nq\"h^3 + 3h^2x + 3hx^2 + x^3 -x^3/h\",\nq\"x^3 - x^3/h\",\nq\"0\"]\nans = 1\nradioq(choices, ans)"
      ],
      "metadata": {},
      "execution_count": null
    }
  ],
  "nbformat_minor": 2,
  "metadata": {
    "language_info": {
      "file_extension": ".jl",
      "mimetype": "application/julia",
      "name": "julia",
      "version": "1.5.0"
    },
    "kernelspec": {
      "name": "julia-1.5",
      "display_name": "Julia 1.5.0",
      "language": "julia"
    }
  },
  "nbformat": 4
}
