{
  "cells": [
    {
      "cell_type": "markdown",
      "source": [
        "# Overview of Julia commands"
      ],
      "metadata": {}
    },
    {
      "outputs": [],
      "cell_type": "code",
      "source": [
        "using CalculusWithJulia\nusing CalculusWithJulia.WeaveSupport\nusing Plots\nnothing"
      ],
      "metadata": {},
      "execution_count": null
    },
    {
      "cell_type": "markdown",
      "source": [
        "[Julia](http://www.julialang.org) is a programming language that is freely available.\n\n\n[Launch Binder](https://mybinder.org/v2/gh/CalculusWithJulia/CwJScratchPad.git/master)\n\nWe can use `Julia` without installation by clicking the \"launch Binder\" badge. The notebook `CalculusWithJulia.ipynb` is a blank notebook except for the command to load the `CalculusWithJulia` package.\n\n\nAlternatively, the [juliabox.com](https://www.juliabox.com) service\nprovides access to `Julia` through the internet, though the free\naccess is slated to be discontinued. Both use the\n[Jupyter](https://jupyter.org/) notebook interface, which we will\nassume, though many other means of interacting with `Julia` are\navailable.\n\n\n## Commands\n\nCommands are typed into a notebook cell in `Jupyter`. (Or at the command line.)"
      ],
      "metadata": {}
    },
    {
      "outputs": [],
      "cell_type": "code",
      "source": [
        "2 + 2   # use shift-enter to evaluate"
      ],
      "metadata": {},
      "execution_count": null
    },
    {
      "cell_type": "markdown",
      "source": [
        "Commands are executed by using `shift-enter` or the play button in `Jupyter`.\n\nCommands may be separated by new lines or semicolons, allowing multiple commands per cell.\n\nOn a line, anything after a `#` is a *comment*.\n\nThe results of the last line executed will be displayed in an\noutput area. Separating values by commas allows more than one value to be\ndisplayed. Explicit printing can be done to output intermediate values.\n\n## Numbers, variable types\n\n`Julia` has many different number types beyond the floating point type employed by most calculators. These include\n\n* Floating point numbers: `0.5`\n\n* Integers: `2`\n\n* Rational numbers: `1//2`\n\n* Complex numbers `2 + 0im`\n\nAs much as possible, operations involving  certain types of numbers will produce output of a given type. For example, both of these divisions produce a floating point answer, even though  mathematically, they need not:"
      ],
      "metadata": {}
    },
    {
      "outputs": [],
      "cell_type": "code",
      "source": [
        "2/1, 1/2"
      ],
      "metadata": {},
      "execution_count": null
    },
    {
      "cell_type": "markdown",
      "source": [
        "Some operations won't work with integer types, but will with floating point types, as the type of output can't be assured.\n\nPowers with negative bases, like `(-3.0)^(1/3)`, are not defined. However, `Julia` provides the special-case function `cbrt` (and `sqrt`) for handling these.\n\nInteger operations may silently overflow, producing odd answers, at first glance:"
      ],
      "metadata": {}
    },
    {
      "outputs": [],
      "cell_type": "code",
      "source": [
        "2^64"
      ],
      "metadata": {},
      "execution_count": null
    },
    {
      "cell_type": "markdown",
      "source": [
        "(Though the output is predictable, if overflow is taken into consideration appropriateley.)\n\nWhen different types of numbers are mixed, `Julia` will usually promote the values to a common type before the operation:"
      ],
      "metadata": {}
    },
    {
      "outputs": [],
      "cell_type": "code",
      "source": [
        "(2 + 1//2) + 0.5"
      ],
      "metadata": {},
      "execution_count": null
    },
    {
      "cell_type": "markdown",
      "source": [
        "`Julia` will first add `2` and `1//2` converting `2` to rational before doing so. Then add the result, `5//2` to `0.5` by promoting `5//2` to the floating point number `2.5` before proceeding.\n\n`Julia` uses a special type to store a handful of constants, of which both `pi` and `e` are used here. Theh special type allows these to be treated without round off, until they mix with other floating point numbers. There are some functions that require these be explicitly promoted to floating point. This can be done by calling `float`.\n\nThe standard mathematical operations are implemented by `+`, `-`, `*`, `/`, `^`. Parentheses are used for grouping.\n\n\n### Vectors\n\nA vector is an indexed collection of similarly typed values. Vectors can be constructed with square brackets (syntax for concatenation):"
      ],
      "metadata": {}
    },
    {
      "outputs": [],
      "cell_type": "code",
      "source": [
        "[1,1,2,3,5,8]"
      ],
      "metadata": {},
      "execution_count": null
    },
    {
      "cell_type": "markdown",
      "source": [
        "(Vectors are used as a return type so some familiarity is needed.)\n\nRegular arithmetic sequences can be defined by either:\n\n* Range operations:  `a:h:b` or `a:b` which produces a generator of values starting at `a` separated by `h` (`h` is `1` in the last form) until they reach `b`.\n\n* `range(a, b, length=n)` which produces a generator of `n` values between `a` and `b`; (`range(a, stop=b, length=n)` is needed for version `v1.0.0` of `Julia.)\n\nThese constructs return range objects. A range object *compactly* stores the values it references. To see all the values, they can be collected with the `collect` function, though this is hardly needed in practice.\n\n## Variables\n\nValues can be assigned variable names, with `=`. There are some variants"
      ],
      "metadata": {}
    },
    {
      "outputs": [],
      "cell_type": "code",
      "source": [
        "x = 2\na_really_long_name = 3\na, b = 1, 2    # multiple assignment\na1 = a2 = 0    # chained assignment, sets a2 and a1 to 0"
      ],
      "metadata": {},
      "execution_count": null
    },
    {
      "cell_type": "markdown",
      "source": [
        "The names can be short, as above, or more verbose. They can't start\nwith a number, but can include numbers. It can also be a fancy [unicode](../unicode.html)\nor even an emoji.\n\nWe can then use the variables to reference the values:"
      ],
      "metadata": {}
    },
    {
      "outputs": [],
      "cell_type": "code",
      "source": [
        "x + a_really_long_name + a - b"
      ],
      "metadata": {},
      "execution_count": null
    },
    {
      "cell_type": "markdown",
      "source": [
        "Names may be repurposed, even with values of different types (a\ndynamic language), save for function names, which have some special\nrules and can only be redefined as an another function. (Generic functions are central to `Julia`'s design. Generic functions use a method table to dispatch on, so once a name is assigned to a generic function, it can not be used as a variable name; the reverse is also true.\n\n## Functions\n\nFunctions in `Julia` are just regular objects. In these notes, we often pass them as arguments to other functions. There are many built-in functions and it is easy to define new functions.\n\nWe \"call\" a function by passing argument(s) to it, grouped by parentheses:"
      ],
      "metadata": {}
    },
    {
      "outputs": [],
      "cell_type": "code",
      "source": [
        "sqrt(10)\nsin(pi/3)\nlog(5, 100)   # log base 5 of 100"
      ],
      "metadata": {},
      "execution_count": null
    },
    {
      "cell_type": "markdown",
      "source": [
        "With out parentheses, the name (usually) refers to a generic name and the output lists the number of available implementations."
      ],
      "metadata": {}
    },
    {
      "outputs": [],
      "cell_type": "code",
      "source": [
        "log"
      ],
      "metadata": {},
      "execution_count": null
    },
    {
      "cell_type": "markdown",
      "source": [
        "### Built-in functions\n\n`Julia` has numerous built-in [mathematical](http://julia.readthedocs.io/) functions, we review a few here:\n\n#### Powers logs and roots\n\nBesides `^`, there are `sqrt` and `cbrt` for powers. In addition basic functions for exponential and  logarithmic functions:\n\n```\nsqrt(x), cbrt(x)\nexp(x)\nlog(x) # base e\nlog10(x), log2(x), log(b, x)\n```\n\n#### Trigonometric functions\n\nThe $6$ standard trig functions are implemented; their implementation for degree arguments; their inverse functions; and the hyperbolic analogs.\n\n```\nsin, cos, tan, csc, sec, cot\nasin, acos, atan, acsc, asec, acot\nsinh, cosh, tanh, csch, sech, coth\nasinh, acosh, atanh, acsch, asech, acoth\n```\n\nIf degrees are preferred, the following are defined to work with degrees:\n\n```\nsind, cosd, tand, cscd, secd, cotd\n```\n\n\n#### Useful functions\n\nOther useful and familiar functions are defined:\n\n- `abs(x)`: absolute value\n\n- `sign(x)`: is $\\lvert x \\rvert/x$ except at $x=0$, where it is $0$.\n\n- `floor(x)`, `ceil(x)`: greatest integer less or least integer greater\n\n- `max(a,b)`, `min(a,b)`: larger (or smaller) of `a` or `b`\n\n- `maximum(xs)`, `minimum(xs)`: largest or smallest of the collection referred to by `xs`\n\n\n\n### User-defined functions\n\nSimple mathematical functions can be defined using standard mathematical notation:"
      ],
      "metadata": {}
    },
    {
      "outputs": [],
      "cell_type": "code",
      "source": [
        "f(x) = -16x^2 + 100x + 2"
      ],
      "metadata": {},
      "execution_count": null
    },
    {
      "cell_type": "markdown",
      "source": [
        "The argument `x` is passed into the body of function.\n\nOther values are found from  the environment where defined:"
      ],
      "metadata": {}
    },
    {
      "outputs": [],
      "cell_type": "code",
      "source": [
        "a = 1\nf(x) = 2*a + x\nf(3)   # 2 * 1 + 3\na = 4\nf(3)  # now 2 * 4 + 3"
      ],
      "metadata": {},
      "execution_count": null
    },
    {
      "cell_type": "markdown",
      "source": [
        "User defined functions can have 0, 1 or more arguments:"
      ],
      "metadata": {}
    },
    {
      "outputs": [],
      "cell_type": "code",
      "source": [
        "area(w, h) = w*h"
      ],
      "metadata": {},
      "execution_count": null
    },
    {
      "cell_type": "markdown",
      "source": [
        "Julia makes different *methods* for *generic* function names, so functions whose argument specification is different are different functions, even if the name is the same. This is *polymorphism*. The practical use is that it means users need only remember a much smaller set of function names.\n\nFunctions can be defined with *keyword* arguments that may have defaults specified:"
      ],
      "metadata": {}
    },
    {
      "outputs": [],
      "cell_type": "code",
      "source": [
        "f(x; m=1, b=0) = m*x + b     # note \";\"\nf(1)                         # uses m=1, b=0   -> 1 * 1 + 0\nf(1, m=10)                   # uses m=10, b=0  -> 10 * 1 + 0\nf(1, m=10, b=5)              # uses m=10, b=5  -> 10 * 1 + 5"
      ],
      "metadata": {},
      "execution_count": null
    },
    {
      "cell_type": "markdown",
      "source": [
        "Longer functions can be defined using the `function` keyword, the last command executed is returned:"
      ],
      "metadata": {}
    },
    {
      "outputs": [],
      "cell_type": "code",
      "source": [
        "function f(x)\n  y = x^2\n  z = y - 3\n  z\nend"
      ],
      "metadata": {},
      "execution_count": null
    },
    {
      "cell_type": "markdown",
      "source": [
        "Functions without names, *anonymous functions*, are made with the `->` syntax as in:"
      ],
      "metadata": {}
    },
    {
      "outputs": [],
      "cell_type": "code",
      "source": [
        "x -> cos(x)^2 - cos(2x)"
      ],
      "metadata": {},
      "execution_count": null
    },
    {
      "cell_type": "markdown",
      "source": [
        "These are useful when passing a function to another function or when\nwriting a function that *returns* a function.\n\n## Conditional statements\n\n`Julia` provides the traditional `if-else-end` statements, but more conveniently has a `ternary` operator for the simplest case:"
      ],
      "metadata": {}
    },
    {
      "outputs": [],
      "cell_type": "code",
      "source": [
        "our_abs(x) = (x < 0) ? -x : x"
      ],
      "metadata": {},
      "execution_count": null
    },
    {
      "cell_type": "markdown",
      "source": [
        "## Looping\n\nIterating over a collection can be done with the traditional `for` loop. However, there are list comprehensions to mimic the definition of a set:"
      ],
      "metadata": {}
    },
    {
      "outputs": [],
      "cell_type": "code",
      "source": [
        "[x^2 for x in 1:10]"
      ],
      "metadata": {},
      "execution_count": null
    },
    {
      "cell_type": "markdown",
      "source": [
        "## Broadcasting, mapping\n\nA function can be applied to each element of a vector through mapping or broadcasting. The latter is implemented in a succinct notation. Calling a function with a \".\" before its opening \"(` will apply the function to each individual value in the argument:"
      ],
      "metadata": {}
    },
    {
      "outputs": [],
      "cell_type": "code",
      "source": [
        "xs = [1,2,3,4,5]\nsin.(xs)     # gives back [sin(1), sin(2), sin(3), sin(4), sin(5)]"
      ],
      "metadata": {},
      "execution_count": null
    },
    {
      "cell_type": "markdown",
      "source": [
        "## Plotting\n\nPlotting is *not* built-in to `Julia`, rather added through add-on\npackages.  `Julia`'s `Plots` package is an interface to several\nplotting packages. We mention `plotly` (built-in) for web based\ngraphics, and `gr` for other graphics.\n\nTo use an add-on package, it must have been installed and it must be loaded each session. In these notes, the necessary packages are all loaded when an accompanying package, `CalculusWithJulia` is loaded. Assuming it has been installed, this command will do so:"
      ],
      "metadata": {}
    },
    {
      "outputs": [],
      "cell_type": "code",
      "source": [
        "using CalculusWithJulia"
      ],
      "metadata": {},
      "execution_count": null
    },
    {
      "cell_type": "markdown",
      "source": [
        "With `Plots` loaded, we can plot a function by passing the function object by name to `plot`, specifying the range of $x$ values to show, as follows:"
      ],
      "metadata": {}
    },
    {
      "outputs": [],
      "cell_type": "code",
      "source": [
        "plot(sin, 0, 2pi) # plot a function - by name - over an interval [a,b]"
      ],
      "metadata": {},
      "execution_count": null
    },
    {
      "outputs": [],
      "cell_type": "code",
      "source": [
        "note(\"\"\"\nThis is in the form of **the** basic pattern employed: `verb(function_object, arguments...)`. The verb in this example is `plot`, the object `sin`, the arguments `0, 2pi` to specify `[a,b]` domain to plot over.\n\"\"\")"
      ],
      "metadata": {},
      "execution_count": null
    },
    {
      "cell_type": "markdown",
      "source": [
        "Plotting more than one function over $[a,b]$ is achieved through the `plot!` function, which modifies the existing plot (`plot` creates a new one):"
      ],
      "metadata": {}
    },
    {
      "outputs": [],
      "cell_type": "code",
      "source": [
        "plot(sin, 0, 2pi)\nplot!(cos, 0, 2pi)\nplot!(zero, 0, 2pi)"
      ],
      "metadata": {},
      "execution_count": null
    },
    {
      "cell_type": "markdown",
      "source": [
        "Plotting an *anonymous* function is a bit more immediate:"
      ],
      "metadata": {}
    },
    {
      "outputs": [],
      "cell_type": "code",
      "source": [
        "plot( x -> exp(-x/pi) * sin(x), 0, 2pi)"
      ],
      "metadata": {},
      "execution_count": null
    },
    {
      "cell_type": "markdown",
      "source": [
        "The `Plots` package has other types of plots. Of note is `scatter` which is used to make a scatter plot of two data sets.\n\n\n## Equations\n\nNotation for `Julia` and math is *similar* for functions - but not for equations. In math, an equation  might look like:\n\n$$~\nx^2 + y^2 = 3\n~$$\n\nIn `Julia` the equals sign is **only** for *assignment*. The *left-hand* side of an equals sign in `Julia` is reserved for a) variable assignment; b) function defintion (via `f(x) = ...`); and c) indexed assignment to a vector or array. (Vectors are indexed by a number allow retrieval and setting of the stored value in the container. The notation mentioned here would be `xs[2] = 3` to assign to the 2nd element a value `3`.\n\n## Symbolic math\n\nSymbolic math is available through an add-on package `SymPy`. As with `Plots`, this package is also loaded with `CalculusWithJulia`. Once loaded, symbolic variables are created with `@vars`:"
      ],
      "metadata": {}
    },
    {
      "outputs": [],
      "cell_type": "code",
      "source": [
        "using SymPy   # load package, not needed here as it was done already with CalculusWithJulia\n@vars x a b c # no commas here, though `@vars(x,a,b,c)` can be used"
      ],
      "metadata": {},
      "execution_count": null
    },
    {
      "cell_type": "markdown",
      "source": [
        "Symbolic expressions - unlike numeric expressions - are not immediately evaluated, though they are simplified:"
      ],
      "metadata": {}
    },
    {
      "outputs": [],
      "cell_type": "code",
      "source": [
        "p = a*x^2 + b*x + c"
      ],
      "metadata": {},
      "execution_count": null
    },
    {
      "cell_type": "markdown",
      "source": [
        "To substitute a value, we can use `pair` notation (`variable=>value`):"
      ],
      "metadata": {}
    },
    {
      "outputs": [],
      "cell_type": "code",
      "source": [
        "p(x=>2), p(x=>2, a=>3, b=>4, c=>1)"
      ],
      "metadata": {},
      "execution_count": null
    },
    {
      "cell_type": "markdown",
      "source": [
        "This is convenient notation for calling the `subs` function.\n\n\nSymPy expressions of a single free variable can be plotted directly:"
      ],
      "metadata": {}
    },
    {
      "outputs": [],
      "cell_type": "code",
      "source": [
        "plot(64 - (1/2)*32 * x^2, 0, 2)"
      ],
      "metadata": {},
      "execution_count": null
    },
    {
      "cell_type": "markdown",
      "source": [
        "SymPy has functions for manipulating expressions: `simplify`, `expand`, `together`, `factor`, `cancel`, `apart`, `args`, ...\n\nSymPy has functions for basic math: `factor`, `solve`, ...\n\nSymPy has functions for calculus: `limit`, `diff`, `integrate`"
      ],
      "metadata": {}
    }
  ],
  "nbformat_minor": 2,
  "metadata": {
    "language_info": {
      "file_extension": ".jl",
      "mimetype": "application/julia",
      "name": "julia",
      "version": "1.5.0"
    },
    "kernelspec": {
      "name": "julia-1.5",
      "display_name": "Julia 1.5.0",
      "language": "julia"
    }
  },
  "nbformat": 4
}
