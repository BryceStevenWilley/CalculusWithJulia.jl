{
  "cells": [
    {
      "cell_type": "markdown",
      "source": [
        "# Trigonometric functions"
      ],
      "metadata": {}
    },
    {
      "outputs": [],
      "cell_type": "code",
      "source": [
        "using CalculusWithJulia\nusing CalculusWithJulia.WeaveSupport\nusing Plots\nnothing"
      ],
      "metadata": {},
      "execution_count": null
    },
    {
      "cell_type": "markdown",
      "source": [
        "We have informally used some of the trigonometric functions in examples\nso far. In this section we quickly review their definitions and some\nbasic properties.\n\nThe trigonometric functions are used to describe relationships between\ntriangles and circles as well as oscillatory motions. With such a wide range of\nutility it is no wonder that they pop up in many places and their\n[origins](https://en.wikipedia.org/wiki/Trigonometric_functions#History)\ndate to Hipparcus and Ptolemy over 2000 years ago.\n\n## The 6 basic trigonometric functions\n\nWe measure angles in radians, where $360$ degrees is $2\\pi$\nradians. By proportions, $180$ degrees is $\\pi$ radian, $90$ degrees is $\\pi/2$ radians, $60$ degrees is $\\pi/3$ radians, etc. In general, $x$ degrees is $2\\pi \\cdot x / 360$ radians.\n\nFor a right triangle with angles $\\theta$, $\\pi/2 - \\theta$, and\n$\\pi/2$ we call the side opposite $\\theta$ the \"opposite\" side, the\nshorter adjacent side the \"adjacent\" side and the longer adjacent side\nthe hypotenuse."
      ],
      "metadata": {}
    },
    {
      "outputs": [],
      "cell_type": "code",
      "source": [
        "p = plot(legend=false, xlim=(0,5), ylim=(-1/2, 3),\n         xticks=nothing, yticks=nothing, border=:none)\nplot!([0,4,4,0],[0,0,3,0], linewidth=3)\ndel = .25\nplot!([4-del, 4-del,4], [0, del, del], color=:black, linewidth=3)\nannotate!([(.75, .35, \"θ\"), (4.0, 1.25, \"opposite\"), (2, -.25, \"adjacent\"), (1.5, 1.25, \"hypotenuse\")])"
      ],
      "metadata": {},
      "execution_count": null
    },
    {
      "cell_type": "markdown",
      "source": [
        "With these, the basic definitions for the primary\ntrigonometric functions are\n\n$$~\n\\begin{align}\n\\sin(\\theta) &= \\frac{\\text{opposite}}{\\text{hypotenuse}} &\\quad(\\text{the sine function})\\\\\n\\cos(\\theta) &= \\frac{\\text{adjacent}}{\\text{hypotenuse}} &\\quad(\\text{the cosine function})\\\\\n\\tan(\\theta) &= \\frac{\\text{opposite}}{\\text{adjacent}}.  &\\quad(\\text{the tangent function})\n\\end{align}\n~$$"
      ],
      "metadata": {}
    },
    {
      "outputs": [],
      "cell_type": "code",
      "source": [
        "note(\"\"\"Many students remember these through [SOH-CAH-TOA](http://mathworld.wolfram.com/SOHCAHTOA.html).\"\"\")"
      ],
      "metadata": {},
      "execution_count": null
    },
    {
      "cell_type": "markdown",
      "source": [
        "Some algebra shows that $\\tan(\\theta) = \\sin(\\theta)/\\cos(\\theta)$. There are also 3 reciprocal functions, the cosecant, secant and cotangent.\n\n\nThese definitions in terms of sides only apply for $0 \\leq \\theta \\leq \\pi/2$. More generally, if we relate any angle taken in the counter clockwise direction for the $x$-axis with a point $(x,y)$ on the *unit* circle, then we can extend these definitions - the point $(x,y)$ is also $(\\cos(\\theta), \\sin(\\theta))$."
      ],
      "metadata": {}
    },
    {
      "outputs": [],
      "cell_type": "code",
      "source": [
        "## {{{radian_to_trig}}}\n\n#gr()\npyplot()\nfig_size = (400, 300)\n\nfunction plot_angle(m)\n    r = m*pi\n\n    ts = range(0, stop=2pi, length=100)\n    tit = \"$m * pi -> ($(round(cos(r), digits=2)), $(round(sin(r), digits=2)))\"\n    p = plot(cos.(ts), sin.(ts), legend=false, aspect_ratio=:equal,title=tit)\n    plot!(p, [-1,1], [0,0], color=:gray30)\n    plot!(p,  [0,0], [-1,1], color=:gray30)\n\n    if r > 0\n        ts = range(0, stop=r, length=100)\n    else\n        ts = range(r, stop=0, length=100)\n    end\n\n    plot!(p, (1/2 .+ abs.(ts)/10pi).* cos.(ts), (1/2 .+ abs.(ts)/10pi) .* sin.(ts), color=:red, linewidth=3)\n    l = 1 #1/2 + abs(r)/10pi\n    plot!(p, [0,l*cos(r)], [0,l*sin(r)], color=:green, linewidth=4)\n\n    scatter!(p, [cos(r)], [sin(r)], markersize=5)\n    annotate!(p, [(1/4+cos(r), sin(r), \"(x,y)\")])\n\n    p\nend\n\n\n\n## different linear graphs\nanim = @animate for m in  -4//3:1//6:10//3\n    plot_angle(m)\nend\n\nimgfile = tempname() * \".gif\"\ngif(anim, imgfile, fps = 1)\ncaption = \"An angle in radian measure corresponds to a point on the unit circle, whose coordinates define the sine and cosine of the angle.\"\n\nImageFile(imgfile, caption)"
      ],
      "metadata": {},
      "execution_count": null
    },
    {
      "cell_type": "markdown",
      "source": [
        "### The trigonometric functions in Julia\n\nJulia has the 6 basic trigonometric functions defined through the functions `sin`, `cos`, `tan`, `csc`, `sec`, and `cot`.\n\nTwo right triangles - the one with equal, $\\pi/4$, angles; and the\none with angles $\\pi/6$ and $\\pi/3$ can have the ratio of their sides\ncomputed from basic geometry. In particular, this leads to the following values, which are\nusually committed to memory:\n\n$$~\n\\begin{align}\n\\sin(0) &= 0, \\quad \\sin(\\pi/6) = \\frac{1}{2}, \\quad \\sin(\\pi/4) = \\frac{\\sqrt{2}}{2}, \\quad\\sin(\\pi/3) = \\frac{\\sqrt{3}}{2},\\text{ and } \\sin(\\pi/2) = 1\\\\\n\\cos(0) &= 1, \\quad \\cos(\\pi/6) =  \\frac{\\sqrt{3}}{2}, \\quad \\cos(\\pi/4) = \\frac{\\sqrt{2}}{2}, \\quad\\cos(\\pi/3) = \\frac{1}{2},\\text{ and } \\cos(\\pi/2) = 0.\n\\end{align}\n~$$\n\nUsing the circle definition allows these basic values to inform us of\nvalues throughout the unit circle.\n\n\nThese all follow from the definition involving the unit circle:\n\n\n* If the angle $\\theta$ corresponds to a point $(x,y)$ on the unit circle, then the angle $-\\theta$ corresponds to $(x, -y)$. So $\\sin(\\theta) = - \\sin(-\\theta)$ (an odd function), but $\\cos(\\theta) = \\cos(-\\theta)$ (an even function).\n\n* If the angle $\\theta$ corresponds to a point $(x,y)$ on the unit circle, then rotating by $\\pi$ moves the points to $(-x, -y)$. So $\\cos(\\theta) = x = - \\cos(\\theta + \\pi)$, and $\\sin(\\theta) = y = -\\sin(\\theta + \\pi)$.\n\n\n* If the angle $\\theta$ corresponds to a point $(x,y)$ on the unit circle, then rotating by $\\pi/2$ moves the points to $(-y, x)$. So $\\cos(\\theta) = x = \\sin(\\theta + \\pi/2)$.\n\n\n\n\nThe fact that $x^2 + y^2 = 1$ for the unit circle leads to the\n\"Pythagorean identity\" for trigonometric functions:\n\n$$~\n\\sin(\\theta)^2 + \\cos(\\theta)^2 = 1.\n~$$\n\nThis basic fact can be manipulated many ways. For example, dividing through by $\\cos(\\theta)^2$ gives the related identity: $\\tan(\\theta)^2 + 1 = \\sec(\\theta)^2$.\n\n\n`Julia`'s functions can compute values for any angles, including these fundamental ones:"
      ],
      "metadata": {}
    },
    {
      "outputs": [],
      "cell_type": "code",
      "source": [
        "[cos(theta) for theta in [0, pi/6, pi/4, pi/3, pi/2]]"
      ],
      "metadata": {},
      "execution_count": null
    },
    {
      "cell_type": "markdown",
      "source": [
        "These are floating point approximations, as can be seen clearly in the last value. Symbolic math can be used if exactness matters:"
      ],
      "metadata": {}
    },
    {
      "outputs": [],
      "cell_type": "code",
      "source": [
        "using CalculusWithJulia   # to load the `SymPy` package\nusing Plots\ncos.([0, PI/6, PI/4, PI/3, PI/2])"
      ],
      "metadata": {},
      "execution_count": null
    },
    {
      "outputs": [],
      "cell_type": "code",
      "source": [
        "note(L\"\"\"\n\nFor really large values, round off error can play a big role. For example, the *exact* value of $\\sin(1000000 \\pi)$ is $0$, but the returned value is not quite $0$ `sin(1_000_000 * pi) = -2.231912181360871e-10`. For exact multiples of $\\pi$ with large multiples the `sinpi` and  `cospi` functions are useful.\n\n(Both functions are computed by first employing periodicity to reduce the problem to a smaller angle. However, for large multiples the floating-point roundoff becomes a problem with the usual functions.)\n\n\"\"\")"
      ],
      "metadata": {},
      "execution_count": null
    },
    {
      "cell_type": "markdown",
      "source": [
        "##### Example\n\nMeasuring the height of a\n[tree](https://lifehacker.com/5875184/is-there-an-easy-way-to-measure-the-height-of-a-tree)\nmay be a real-world task for some, but a typical task for trigonometry\nstudents. How might it be done? If a right triangle can be formed\nwhere the angle and adjacent side length are known, then the opposite\nside (the height of the tree) can be solved for with the tangent\nfunction. For example, if standing $100$ feet from the base of the\ntree the tip makes a 15 degree angle the height is given by:"
      ],
      "metadata": {}
    },
    {
      "outputs": [],
      "cell_type": "code",
      "source": [
        "theta = 15 * 180/pi\nadjacent = 100\nopposite = adjacent * tan(theta)"
      ],
      "metadata": {},
      "execution_count": null
    },
    {
      "cell_type": "markdown",
      "source": [
        "Having some means to compute an angle and then a tangent of that angle\nhandy is not a given, so the linked to article provides a few other\nmethods taking advantage of similar triangles.\n\nYou can also measure distance with your\n[thumb](http://www.vendian.org/mncharity/dir3/bodyruler_angle/) or\nfist. How, the fist takes up about $10$ degree of view when held\nstraight out. So, pacing off backwards until the fist completely\noccludes the tree will give the distance of the adjacent side of a\nright triangle. If that distance is $30$ paces what is the height of the tree?\nWell, we need some facts. Suppose your pace is $3$ feet. Then the\nadjacent length is $90$ feet. The multiplier is the tangent of $10$\ndegrees, or:"
      ],
      "metadata": {}
    },
    {
      "outputs": [],
      "cell_type": "code",
      "source": [
        "tan(10 * pi/180)"
      ],
      "metadata": {},
      "execution_count": null
    },
    {
      "cell_type": "markdown",
      "source": [
        "Which for sake of memory we will say is $1/6$ (a $5$ percent error). So that answer is *roughly* $15$ feet:"
      ],
      "metadata": {}
    },
    {
      "outputs": [],
      "cell_type": "code",
      "source": [
        "30 * 3 / 6"
      ],
      "metadata": {},
      "execution_count": null
    },
    {
      "cell_type": "markdown",
      "source": [
        "Similarly, you can use your thumb instead of your first. To use your first you can multiply by $1/6$ the adjacent side, to use your thumb about $1/30$ as this approximates the tangent of $2$ degrees:"
      ],
      "metadata": {}
    },
    {
      "outputs": [],
      "cell_type": "code",
      "source": [
        "1/30, tan(2*pi/180)"
      ],
      "metadata": {},
      "execution_count": null
    },
    {
      "cell_type": "markdown",
      "source": [
        "This could be reversed. If you know the height of something a distance\naway that is covered by your thumb or fist, then you would multiply\nthat height by the appropriate amount to find your distance.\n\n\n### Basic properties\n\nThe sine function is defined for all real $\\theta$ and has a range of $[-1,1]$. Clearly as $\\theta$ winds around the $x$-axis, the position of the $y$ coordinate begins to repeat itself. We say the sine function is *periodic* with period $2\\pi$. A graph will illustrate:"
      ],
      "metadata": {}
    },
    {
      "outputs": [],
      "cell_type": "code",
      "source": [
        "plot(sin, 0, 4pi)"
      ],
      "metadata": {},
      "execution_count": null
    },
    {
      "cell_type": "markdown",
      "source": [
        "The graph shows two periods. The wavy aspect of the graph is why this function is used to model periodic motions, such as the amount of sunlight in a day, or the alternating current powering a computer.\n\nFrom this graph - or considering when the $y$ coordinate is $0$ - we see that the sine function has zeros at any integer multiple of $\\pi$, or $k\\pi$, $k$ in $\\dots,-2,-1, 0, 1, 2, \\dots$.\n\nThe cosine function is similar, in that it has the same domain and range, but is \"out of phase\" with the sine curve. A graph of both shows the two are related:"
      ],
      "metadata": {}
    },
    {
      "outputs": [],
      "cell_type": "code",
      "source": [
        "plot(sin, 0, 4pi)\nplot!(cos, 0, 4pi)"
      ],
      "metadata": {},
      "execution_count": null
    },
    {
      "cell_type": "markdown",
      "source": [
        "The cosine function is just a shift of the sine function (or vice versa). We see that the zeros of the cosine function happen at points of the form $\\pi/2 + k\\pi$, $k$ in $\\dots,-2,-1, 0, 1, 2, \\dots$.\n\nThe tangent function does not have all $\\theta$ for its domain, rather those points where division by $0$ occurs are excluded. These occur when the cosine is $0$, or again at $\\pi/2 + k\\pi$, $k$ in $\\dots,-2,-1, 0, 1, 2, \\dots$. The range of the tangent function will be all real $y$.\n\nThe tangent function is also periodic, but not with period $2\\pi$, but\nrather just $\\pi$. A graph will show this. Here we avoid the vertical\nasymptotes by keeping them out of the plot domain and layering several\nplots."
      ],
      "metadata": {}
    },
    {
      "outputs": [],
      "cell_type": "code",
      "source": [
        "k = -2\npt = plot(tan, k*pi - pi/2+.1, k*pi + pi/2 - .1, legend=false, color=:blue)\nfor k in -1:2\n  plot!(pt, tan,  k*pi - pi/2+.1, k*pi + pi/2 - .1, color=:blue)\nend\npt"
      ],
      "metadata": {},
      "execution_count": null
    },
    {
      "cell_type": "markdown",
      "source": [
        "### Functions using degrees\n\nTrigonometric function are functions of angles which have two common descriptions: in terms of degrees or radians. Degrees are common when right triangles are considered, radians much more common in general, as the relationship with arc-length holds in that $r\\theta = l$, where $r$ is the radius of a circle and $l$ the length of the arc formed by angle $\\theta$.\n\nThe two are related, as a circle of $2\\pi$ radians and 360 degrees. So to convert from degrees into radians it takes multiplying by $2\\pi/360$ and to convert from radians to degrees it takes multiplying by $360/(2\\pi)$. The `deg2rad` and `rad2deg` functions are available for this task.\n\n\nIn `Julia`, the functions `sind`, `cosd`, `tand`, `cscd`, `secd`, and `cotd` are available to simplify the task of composing the two operations (that is `sin(deg2rad(x))` is the same as `sind(x)`).\n\n## The sum-and-difference formulas\n\nConsider the point on the unit circle $(x,y) = (\\cos(\\theta), \\sin(\\theta))$. In terms of $(x,y)$ (or $\\theta$) is there a way to represent the angle found by rotating an additional $\\theta$, that is what is $(\\cos(2\\theta), \\sin(2\\theta))$?\n\nMore generally, suppose we have two angles $\\alpha$ and $\\beta$, can we\nrepresent the values of $(\\cos(\\alpha + \\beta), \\sin(\\alpha + \\beta))$\nusing the values just involving $\\beta$ and $\\alpha$ separately?\n\nAccording to [Wikipedia](https://en.wikipedia.org/wiki/Trigonometric_functions#Identities) the following figure (from [mathalino.com](http://www.mathalino.com/reviewer/derivation-of-formulas/derivation-of-sum-and-difference-of-two-angles)) has ideas that date to Ptolemy:"
      ],
      "metadata": {}
    },
    {
      "outputs": [],
      "cell_type": "code",
      "source": [
        "ImageFile(\"figures/summary-sum-and-difference-of-two-angles.jpg\", \"Geometric picture\")"
      ],
      "metadata": {},
      "execution_count": null
    },
    {
      "cell_type": "markdown",
      "source": [
        "To read this, there are three triangles: the bigger (green with pink part) has hypotenuse $1$ (and adjacent and opposite sides that form the hypotenuses of the other two); the next biggest (yellow) hypotenuse $\\cos(\\beta)$,  adjacent side (of angle $\\alpha$) $\\cos(\\beta)\\cdot \\cos(\\alpha)$, and opposite side $\\cos(\\beta)\\cdot\\sin(\\alpha)$; and  the smallest (pink) hypotenuse $\\sin(\\beta)$, adjacent side (of angle $\\alpha$) $\\sin(\\beta)\\cdot \\cos(\\alpha)$, and opposite side $\\sin(\\beta)\\sin(\\alpha)$.\n\nThis figure shows the following sum formula for sine and cosine:\n\n$$~\n\\begin{align}\n\\sin(\\alpha + \\beta) &= \\sin(\\alpha)\\cos(\\beta) + \\sin(\\beta)\\cos(\\alpha)\\\\\n\\cos(\\alpha + \\beta) &= \\cos(\\alpha)\\cos(\\beta) - \\sin(\\alpha)\\sin(\\beta).\n\\end{align}\n~$$\n\nUsing the fact that $\\sin$ is an odd function and $\\cos$ an even function, related formulas for the difference $\\alpha - \\beta$ can be derived.\n\nTaking $\\alpha = \\beta$ we immediately get the \"double-angle\" formulas:\n\n$$~\n\\begin{align}\n\\sin(2\\alpha) &= 2\\sin(\\alpha)\\cos(\\alpha)\\\\\n\\cos(2\\alpha) &= \\cos(\\alpha)^2 - \\sin(\\alpha)^2.\n\\end{align}\n~$$\n\nThe latter looks like the Pythagorean identify, but has a minus sign. In fact, the Pythagorean identify is often used to rewrite this, for example $\\cos(2\\alpha) = 2\\cos(\\alpha)^2 - 1$ or $1 - 2\\sin(\\alpha)^2$.\n\n\nApplying the above with $\\alpha = \\beta/2$, we get that $\\cos(\\beta) = 2\\cos(\\beta/2)^2 -1$, which rearranged yields the \"half-angle\" formula: $\\cos(\\beta/2)^2 = (1 + \\cos(\\beta))/2$.\n\n\n##### Example\n\nConsider the expressions $\\cos((n+1)\\theta)$ and $\\cos((n-1)\\theta)$. These can be re-expressed as:\n\n$$~\n\\begin{align}\n\\cos((n+1)\\theta) &= \\cos(n\\theta + \\theta) = \\cos(n\\theta) \\cos(\\theta) - \\sin(n\\theta)\\sin(\\theta), \\text{ and}\\\\\n\\cos((n-1)\\theta) &= \\cos(n\\theta - \\theta) = \\cos(n\\theta) \\cos(-\\theta) - \\sin(n\\theta)\\sin(-\\theta).\n\\end{align}\n~$$\n\nBut $\\cos(-\\theta) = \\cos(\\theta)$, whereas $\\sin(-\\theta) = -\\sin(\\theta)$. Using this, we add the two formulas above to get:\n\n$$~\n\\cos((n+1)\\theta) = 2\\cos(n\\theta) \\cos(\\theta)  - \\cos((n-1)\\theta).\n~$$\n\nThat is the angle for a multiple of $n+1$ can be expressed in terms of the angle with a multiple of $n$ and $n-1$. This can be used recursively to find expressions for $\\cos(n\\theta)$ in terms of polynomials in $\\cos(\\theta)$.\n\n## Inverse trigonometric functions\n\nThe  trigonometric functions are all periodic. In particular they are not monotonic over their entire domain. This means there is no *inverse* function applicable. However, by restricting the domain to where the functions are monotonic, inverse functions can be defined:\n\n* For $\\sin(x)$, the restricted domain of $[-\\pi/2, \\pi/2]$ allows for the arcsine function to be defined. In `Julia` this is implemented with `asin`.\n\n* For $\\cos(x)$, the restricted domain of $[0,\\pi]$ allows for the arccosine function to be defined. In `Julia` this is implemented with `acos`.\n\n* For $\\tan(x)$, the restricted domain of $(-\\pi/2, \\pi/2)$ allows for the arctangent function to be defined. In `Julia` this is implemented with `atan`.\n\n\nFor example, the arcsine function is defined for $-1 \\leq x \\leq 1$ and has a range of $-\\pi/2$ to $\\pi/2$:"
      ],
      "metadata": {}
    },
    {
      "outputs": [],
      "cell_type": "code",
      "source": [
        "plot(asin, -1, 1)"
      ],
      "metadata": {},
      "execution_count": null
    },
    {
      "cell_type": "markdown",
      "source": [
        "The arctangent has domain of all real $x$. It has shape given by:"
      ],
      "metadata": {}
    },
    {
      "outputs": [],
      "cell_type": "code",
      "source": [
        "plot(atan, -10, 10)"
      ],
      "metadata": {},
      "execution_count": null
    },
    {
      "cell_type": "markdown",
      "source": [
        "The horizontal asymptotes are $y=\\pi/2$ and $y=-\\pi/2$.\n\n### Implications of a restricted domain\n\nNotice that $\\sin(\\arcsin(x)) = x$ for any $x$ in $[-1,1]$, but, of course,  not for all $x$, as the output of the sine function can't be arbitrarily large.\n\nHowever, $\\arcsin(\\sin(x))$ is defined for all $x$, but only equals\n$x$ when $x$ is in $[-\\pi/2, \\pi/2]$. The output, or range, of the\n$\\arcsin$ function is restricted to that interval.\n\n\nThis can be limiting at times. A common case is to find the angle in $[0, 2\\pi)$ corresponding to a point $(x,y)$. In the simplest case (the first and fourth quadrants) this is just given by $\\arctan(y/x)$. But with some work, the correct angle can be found for any pair $(x,y)$. As this is a common desire, the `atan` function with two arguments, `atan(y,x)`, is available. This function returns a value in $(-\\pi, \\pi]$.\n\nFor example, this will not give back $\\theta$ without more work to identify the quadrant:"
      ],
      "metadata": {}
    },
    {
      "outputs": [],
      "cell_type": "code",
      "source": [
        "theta = 3pi/4                     # 2.35619...\nx,y = (cos(theta), sin(theta))    # -0.7071..., 0.7071...\natan(y/x)"
      ],
      "metadata": {},
      "execution_count": null
    },
    {
      "cell_type": "markdown",
      "source": [
        "But,"
      ],
      "metadata": {}
    },
    {
      "outputs": [],
      "cell_type": "code",
      "source": [
        "atan(y, x)"
      ],
      "metadata": {},
      "execution_count": null
    },
    {
      "cell_type": "markdown",
      "source": [
        "##### Example\n\nA (white) light shining through a [prism](http://tinyurl.com/y8sczg4t) will be deflected depending on the material of the prism and the angles involved (cf. the link for a figure). The relationship can be analyzed by tracing a ray through the figure and utilizing Snell's law. If the prism has index of refraction $n$ then the ray will deflect by an amount $\\delta$ that depends on the angle, $\\alpha$ of the prism and the initial angle ($\\theta_0$) according to:\n\n$$~\n\\delta = \\theta_0 - \\alpha  + \\arcsin(n \\sin(\\alpha - \\arcsin(\\frac{1}{n}\\sin(\\theta_0)))).\n~$$\n\nIf $n=1.5$ (glass), $\\alpha = \\pi/3$ and $\\theta_0=\\pi/6$, find the deflection (in radians).\n\nWe have:"
      ],
      "metadata": {}
    },
    {
      "outputs": [],
      "cell_type": "code",
      "source": [
        "n, alpha, theta0 = 1.5, pi/3, pi/6\ndelta = theta0 - alpha + asin(n * sin(alpha - asin(sin(theta0)/n)))"
      ],
      "metadata": {},
      "execution_count": null
    },
    {
      "cell_type": "markdown",
      "source": [
        "For small $\\theta_0$ and $\\alpha$ the deviation is approximated by $(n-1)\\alpha$. Compare this approximation to the actual value when $\\theta_0 = \\pi/10$ and $\\alpha=\\pi/15$.\n\n\nWe have:"
      ],
      "metadata": {}
    },
    {
      "outputs": [],
      "cell_type": "code",
      "source": [
        "n, alpha, theta0 = 1.5, pi/15, pi/10\ndelta = theta0 - alpha + asin(n * sin(alpha - asin(sin(theta0)/n)))\ndelta, (n-1)*alpha"
      ],
      "metadata": {},
      "execution_count": null
    },
    {
      "cell_type": "markdown",
      "source": [
        "The approximation error is about 2.7 percent.\n\n\n##### Example\n\nThe AMS has an interesting column on\n[rainbows](http://www.ams.org/publicoutreach/feature-column/fcarc-rainbows)\nthe start of which uses some formulas from the previous example. Click through to\nsee a ray of light passing through a spherical drop of water, as analyzed by Descartes. The\ndeflection of the ray occurs when the incident light hits the drop of\nwater, then there is an *internal* deflection of the light, and\nfinally when the light leaves, there is another deflection. The total\ndeflection (in radians) is $D = (i-r) + (\\pi - 2r) + (i-r) = \\pi - 2i - 4r$. However, the incident angle $i$ and the refracted angle $r$ are related by Snell's law: $\\sin(i) = n \\sin(r)$. The value $n$ is the index of refraction and is $4/3$ for water. (It was $3/2$ for glass in the previous example.) This gives\n\n$$~\nD = \\pi + 2i - 4 \\arcsin(\\frac{1}{n} \\sin(i)).\n~$$\n\nGraphing this for incident angles between $0$ and $\\pi/2$ we have:"
      ],
      "metadata": {}
    },
    {
      "outputs": [],
      "cell_type": "code",
      "source": [
        "n = 4/3\nD(i) = pi + 2i - 4 * asin(sin(i)/n)\nplot(D, 0, pi/2)"
      ],
      "metadata": {},
      "execution_count": null
    },
    {
      "cell_type": "markdown",
      "source": [
        "Descartes was interested in the minimum value of this graph, as it relates to where the light concentrates. This is roughly at $1$ radian or about $57$ degrees:"
      ],
      "metadata": {}
    },
    {
      "outputs": [],
      "cell_type": "code",
      "source": [
        "rad2deg(1.0)"
      ],
      "metadata": {},
      "execution_count": null
    },
    {
      "cell_type": "markdown",
      "source": [
        "(Using calculus it can be seen to be $\\arccos(((n^2-1)/3)^{1/2})$.)\n\n##### Example: The Chebyshev Polynomials\n\nConsider again this equation derived with the sum-and-difference formula:\n\n\n$$~\n\\cos((n+1)\\theta) = 2\\cos(n\\theta) \\cos(\\theta)  - \\cos((n-1)\\theta).\n~$$\n\nLet $T_n(x) = \\cos(n \\arccos(x))$. Calling $\\theta = \\arccos(x)$ for $-1 \\leq x \\leq x$ we get a relation between these functions:\n\n$$~\nT_{n+1}(x) = 2x T_n(x) - T_{n-1}(x).\n~$$\n\nWe can simplify a few: For example, when $n=0$ we see immediately that $T_0(x) = 1$, the constant function. Whereas with $n=1$ we get $T_1(x) = \\cos(\\arccos(x)) = x$. Things get more interesting as we get bigger $n$, for example using the equation above we get $T_2(x) = 2xT_1(x) - T_0(x) = 2x\\cdot x - 1 = 2x^2 - 1$. Continuing, we'd get $T_3(x) = 2 x T_2(x) - T_1(x) = 2x(2x^2 - 1) - x = 4x^3 -3x$.\n\nA few things become clear from the above two representations:\n\n* Starting from $T_0(x) = 1$ and $T_1(x)=x$ and using the recursive defintion of $T_{n+1}$ we get a family of polynomials where $T_n(x)$ is a degree $n$ polynomial. These are defined for all $x$, not just $-1 \\leq x \\leq 1$.\n\n* Using the initial definition, we see that the zeros of $T_n(x)$ all occur within $[-1,1]$ and happen when $n\\arccos(x) = k\\pi + \\pi/2$, or $x=\\cos((2k+1)/n \\cdot \\pi/2)$ for $k=0, 1, \\dots, n-1$.\n\nOther properties of this polynomial family are not at all obvious. One is that amongst all polynomials of degree $n$ with roots in $[-1,1]$, $T_n(x)$ will be the smallest in magnitude (after we divide by the leading coefficient to make all polynomials considered to be monic). We can check this for one case. Take $n=4$, then we have: $T_4(x) = 8x^4 - 8x^2 + 1$. Compare this with $q(x) = (x+3/5)(x+1/5)(x-1/5)(x-3/5)$ (evenly spaced zeros):"
      ],
      "metadata": {}
    },
    {
      "outputs": [],
      "cell_type": "code",
      "source": [
        "T4(x) = (8x^4 - 8x^2 + 1) / 8\nq(x) = (x+3/5)*(x+1/5)*(x-1/5)*(x-3/5)\nplot(abs ∘ T4, -1,1)\nplot!(abs ∘ q, -1,1)"
      ],
      "metadata": {},
      "execution_count": null
    },
    {
      "cell_type": "markdown",
      "source": [
        "## Hyperbolic trigonometric functions\n\nRelated to the trigonometric functions are the hyperbolic\ntrigonometric functions. Instead of associating a point $(x,y)$ on the\nunit circle with an angle $\\theta$, we associate a point $(x,y)$ on\nthe unit *hyperbola* (with $x^2 - y^2 = 1$. We define the hyperbolic\nsin ($\\sinh$) and hyperbolic cosine ($\\cosh$) through $(\\cosh(\\theta),\n\\sinh(\\theta)) = (x,y)$.\n\nThese can be expressed using the exponential function as:\n\n$$~\n\\begin{align}\n\\sinh(x) &= \\frac{e^x - e^{-x}}{2}\\\\\n\\cosh(x) &= \\frac{e^x + e^{-x}}{2}.\n\\end{align}\n~$$\n\nThe hyperbolic tangent is then the ratio of $\\sinh$ and $\\cosh$. As well, three inverse hyperbolic functions can be defined.\n\n## Questions\n\n###### Question\n\nWhat is bigger $\\sin(1.23456)$ or $\\cos(6.54321)$?"
      ],
      "metadata": {}
    },
    {
      "outputs": [],
      "cell_type": "code",
      "source": [
        "a = sin(1.23456) > cos(6.54321)\nchoices = [L\"\\sin(1.23456)\", L\"\\cos(6.54321)\"]\nans = a ? 1 : 2\nradioq(choices, ans, keep_order=true)"
      ],
      "metadata": {},
      "execution_count": null
    },
    {
      "cell_type": "markdown",
      "source": [
        "###### Question\n\nLet $x=\\pi/4$. What is bigger $\\cos(x)$ or $x$?"
      ],
      "metadata": {}
    },
    {
      "outputs": [],
      "cell_type": "code",
      "source": [
        "x = pi/4\na = cos(x) > x\nchoices = [L\"\\cos(x)\", L\"x\"]\nans = a ? 1 : 2\nradioq(choices, ans, keep_order=true)"
      ],
      "metadata": {},
      "execution_count": null
    },
    {
      "cell_type": "markdown",
      "source": [
        "###### Question\n\nThe cosine function is a simple tranformation of the sine function. Which one?"
      ],
      "metadata": {}
    },
    {
      "outputs": [],
      "cell_type": "code",
      "source": [
        "choices = [\nL\"\\cos(x) = \\sin(x - \\pi/2)\",\nL\"\\cos(x) = \\sin(x + \\pi/2)\",\nL\"\\cos(x) = \\pi/2 \\cdot \\sin(x)\"]\nans = 2\nradioq(choices, ans)"
      ],
      "metadata": {},
      "execution_count": null
    },
    {
      "cell_type": "markdown",
      "source": [
        "###### Question\n\nGraph the secant function. The vertical asymptotes are at?"
      ],
      "metadata": {}
    },
    {
      "outputs": [],
      "cell_type": "code",
      "source": [
        "choices = [\nL\"The values $k\\pi$ for $k$ in $\\dots, -2, -1, 0, 1, 2, \\dots$\",\nL\"The values $\\pi/2 + k\\pi$ for $k$ in $\\dots, -2, -1, 0, 1, 2, \\dots$\",\nL\"The values $2k\\pi$ for $k$ in $\\dots, -2, -1, 0, 1, 2, \\dots$\"]\nans = 2\nradioq(choices, ans, keep_order=true)"
      ],
      "metadata": {},
      "execution_count": null
    },
    {
      "cell_type": "markdown",
      "source": [
        "###### Question\n\nA formula due to [Bhaskara I](http://tinyurl.com/k89ux5q) dates to around 650AD and gives a rational function approximation to the sine function. In degrees, we have\n\n$$~\n\\sin(x^\\circ) \\approx \\frac{4x(180-x)}{40500 - x(180-x)}, \\quad 0 \\leq x \\leq 180.\n~$$\n\nPlot both functions over $[0, 180]$. What is the maximum difference between the two to two decimal points? (You may need to plot the difference of the functions to read off an approximate answer.)"
      ],
      "metadata": {}
    },
    {
      "outputs": [],
      "cell_type": "code",
      "source": [
        "numericq(.0015, .01)"
      ],
      "metadata": {},
      "execution_count": null
    },
    {
      "cell_type": "markdown",
      "source": [
        "###### Question\n\nSolve the following equation for a value of $x$ using `acos`:\n\n$$~\n\\cos(x/3) = 1/3.\n~$$"
      ],
      "metadata": {}
    },
    {
      "outputs": [],
      "cell_type": "code",
      "source": [
        "val = 3*acos(1/3)\nnumericq(val)"
      ],
      "metadata": {},
      "execution_count": null
    },
    {
      "cell_type": "markdown",
      "source": [
        "###### Question\n\nFor any postive integer $n$ the equation $\\cos(x) - nx = 0$ has a solution in $[0, \\pi/2]$. Graphically estimate the value when $n=10$."
      ],
      "metadata": {}
    },
    {
      "outputs": [],
      "cell_type": "code",
      "source": [
        "val = 0.1\nnumericq(val)"
      ],
      "metadata": {},
      "execution_count": null
    },
    {
      "cell_type": "markdown",
      "source": [
        "###### Question\n\nThe sine function is an *odd* function.\n\n* The hyperbolic sine is:"
      ],
      "metadata": {}
    },
    {
      "outputs": [],
      "cell_type": "code",
      "source": [
        "choices = [\"odd\", \"even\", \"neither\"]\nans = 1\nradioq(choices, ans, keep_order=true)"
      ],
      "metadata": {},
      "execution_count": null
    },
    {
      "cell_type": "markdown",
      "source": [
        "* The hyperbolic cosine is:"
      ],
      "metadata": {}
    },
    {
      "outputs": [],
      "cell_type": "code",
      "source": [
        "choices = [\"odd\", \"even\", \"neither\"]\nans = 2\nradioq(choices, ans, keep_order=true)"
      ],
      "metadata": {},
      "execution_count": null
    },
    {
      "cell_type": "markdown",
      "source": [
        "* The hyperbolic tangent is:"
      ],
      "metadata": {}
    },
    {
      "outputs": [],
      "cell_type": "code",
      "source": [
        "choices = [\"odd\", \"even\", \"neither\"]\nans = 1\nradioq(choices, ans, keep_order=true)"
      ],
      "metadata": {},
      "execution_count": null
    },
    {
      "cell_type": "markdown",
      "source": [
        "###### Question\n\nThe hyperbolic sine satisfies this formula:\n\n$$~\n\\sinh(\\theta + \\beta) = \\sinh(\\theta)\\cosh(\\beta) + \\sinh(\\beta)\\cosh(\\theta).\n~$$\n\nIs this identical to the pattern for the regular sine function?"
      ],
      "metadata": {}
    },
    {
      "outputs": [],
      "cell_type": "code",
      "source": [
        "yesnoq(true)"
      ],
      "metadata": {},
      "execution_count": null
    },
    {
      "cell_type": "markdown",
      "source": [
        "The hyperbolic cosine satisfies this formula:\n\n\n$$~\n\\cosh(\\theta + \\beta) = \\cosh(\\theta)\\cosh(\\beta) + \\sinh(\\beta)\\sinh(\\theta).\n~$$\n\nIs this identical to the pattern for the regular sine function?"
      ],
      "metadata": {}
    },
    {
      "outputs": [],
      "cell_type": "code",
      "source": [
        "yesnoq(false)"
      ],
      "metadata": {},
      "execution_count": null
    }
  ],
  "nbformat_minor": 2,
  "metadata": {
    "language_info": {
      "file_extension": ".jl",
      "mimetype": "application/julia",
      "name": "julia",
      "version": "1.5.0"
    },
    "kernelspec": {
      "name": "julia-1.5",
      "display_name": "Julia 1.5.0",
      "language": "julia"
    }
  },
  "nbformat": 4
}
