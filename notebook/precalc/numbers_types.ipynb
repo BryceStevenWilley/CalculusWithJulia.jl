{
  "cells": [
    {
      "cell_type": "markdown",
      "source": [
        "# Number systems"
      ],
      "metadata": {}
    },
    {
      "outputs": [],
      "cell_type": "code",
      "source": [
        "using CalculusWithJulia\nusing CalculusWithJulia.WeaveSupport\nusing Plots\nnothing"
      ],
      "metadata": {},
      "execution_count": null
    },
    {
      "cell_type": "markdown",
      "source": [
        "In mathematics, there are many different number systems in common\nuse. For example by the end of pre-calculus, all of the following have\nbeen introduced:\n\n* The integers, $\\{\\dots, -3, -2, -1, 0, 1, 2, 3, \\dots\\}$;\n* The rational numbers, $\\{p/q: p, q  \\text{ are integers}, q \\neq 0\\}$;\n* The real numbers, $\\{x: -\\infty < x < \\infty\\}$;\n* The complex numbers, $\\{a + bi: a,b \\text{ are real numbers and } i^2=-1\\}$.\n\nOn top of these, we have special subsets, such as the natural numbers $\\{0, 1, 2, \\dots\\}$, the even numbers, the odd numbers, positive numbers, non-negative numbers, etc.\n\nMathematically, these number systems are naturally nested within each\nother as integers are rational numbers which are real numbers, which\ncan be viewed as part of the complex numbers.\n\n\nCalculators typically have just one type of number - floating point\nvalues. These model the real numbers. `Julia`, on other other hand, has\na rich type system, and within that has many different number\ntypes. There are types that model each of the four main systems above,\nand within each type, specializations for how these values are stored.\n\nMost of the details will not be of interest to all, and will be described later.\n\n\nFor now, let's consider the number 1. It can be viewed as either an integer, rational,\nreal, or complex number. To construct \"1\" in each type within `Julia`\nwe have these different styles:"
      ],
      "metadata": {}
    },
    {
      "outputs": [],
      "cell_type": "code",
      "source": [
        "1, 1.0, 1//1, 1 + 0im"
      ],
      "metadata": {},
      "execution_count": null
    },
    {
      "cell_type": "markdown",
      "source": [
        "The basic number types in `Julia` are `Int`, `Float64`, `Rational` and `Complex`, though in fact there are many more, and the last two aren't even *concrete* types. This distinction is important, as the type of number dictates how it will be stored and how precisely the stored value can be expected to be  to the mathematical value it models.\n\nThough there are explicit constructors for these types, these notes\navoid them unless necessary, as `Julia`'s parser can distinguish these\ntypes through an easy to understand syntax:\n\n* integers have no decimal point;\n* floating point numbers have a decimal point (or are in scientific notation);\n* rationals are constructed from integers using the double division operator, `//`; and\n* complex numbers are formed by including a term with the imaginary unit, `im`."
      ],
      "metadata": {}
    },
    {
      "outputs": [],
      "cell_type": "code",
      "source": [
        "alert(\"\"\"\nHeads up, the difference between `1` and `1.0` is subtle (and even more so, as `1.` will parse as `1.0`).\n\"\"\")"
      ],
      "metadata": {},
      "execution_count": null
    },
    {
      "cell_type": "markdown",
      "source": [
        "Similarly, each type is printed slightly differently.\n\nThe key distinction is between integers and floating points. While\nfloating point values include integers, and so can be used exclusively\non the calculator, the difference is that an integer is guaranteed to\nbe an exact value, whereas a floating point value is typically just an\n*approximate* value - used to advantage, as floating point values can model a much\nwider set of numbers.\n\n\nNow in nearly all cases, the differences are not noticed. Take for instance this simple calculation involving mixed types."
      ],
      "metadata": {}
    },
    {
      "outputs": [],
      "cell_type": "code",
      "source": [
        "1 + 1.25 + 3//2"
      ],
      "metadata": {},
      "execution_count": null
    },
    {
      "cell_type": "markdown",
      "source": [
        "The sum of an integer, a floating point number and rational number returns a floating point number without a complaint.\n\nThis is  because behind the scenes, `Julia` will often \"promote\" a type to match, so for example to compute `1 + 1.25` the integer `1` will be promoted to a floating point value and the two values are then added. Similarly, with `2.25 + 3//2`, where the fraction is promoted to the floating point value `1.5` and addition is carried out.\n\nAs floating point numbers are approximations, some values are not quite what they would be mathematically:"
      ],
      "metadata": {}
    },
    {
      "outputs": [],
      "cell_type": "code",
      "source": [
        "sqrt(2) * sqrt(2) - 2, sin(pi)"
      ],
      "metadata": {},
      "execution_count": null
    },
    {
      "cell_type": "markdown",
      "source": [
        "These values are *very* small numbers, but not exactly $0$, as they are mathematically.\n\n----\n\nThe only  common issue is with powers. `Julia` tries to keep a\npredictable output from the input types (not their values). Here are the two main cases\nthat arise where this can cause unexpected results:\n\n\n* integer bases and integer exponents can *easily* overflow. Not only `m^n` is always an integer, it is always an integer with a fixed storage size computed from the sizes of `m` and `n`. So the powers can quickly get too big. This can be especially noticeable on older $32$-bit machines, where too big is $2^{32} = 4,294,967,296$. On $64$-bit machines, this limit is present but much bigger.\n\nRather than give an error though, `Julia` gives seemingly arbitrary answers, as can be seen in this example on a $64$-bit machine:"
      ],
      "metadata": {}
    },
    {
      "outputs": [],
      "cell_type": "code",
      "source": [
        "2^62, 2^63"
      ],
      "metadata": {},
      "execution_count": null
    },
    {
      "cell_type": "markdown",
      "source": [
        "This could be worked around, but it isn't, as it\nwould slow down this basic computation. So, it is up to the user to be\naware of cases where their integer values can grow to big. Again, use\nfloating point numbers in this domain, as they have more room, at\nthe cost of often being approximate values.\n\n\n* the `sqrt` function will give a domain error for negative values:"
      ],
      "metadata": {}
    },
    {
      "outputs": [],
      "cell_type": "code",
      "source": [
        "sqrt(-1.0)"
      ],
      "metadata": {},
      "execution_count": null
    },
    {
      "cell_type": "markdown",
      "source": [
        "This is because for real-valued inputs `Julia` expects to return a\nreal-valued output. Of course, this is true in mathematics until the\ncomplex numbers are introduced. Similarly in `Julia` - to take square\nroots of negative numbers, start with complex numbers:"
      ],
      "metadata": {}
    },
    {
      "outputs": [],
      "cell_type": "code",
      "source": [
        "sqrt(-1.0 + 0im)"
      ],
      "metadata": {},
      "execution_count": null
    },
    {
      "outputs": [],
      "cell_type": "code",
      "source": [
        "note(\"\"\"\nAt one point, `Julia` had an issue with a third type of power:\ninteger bases and negative integer exponents. For example `2^(-1)`. This is now special cased. Historically, the desire to keep a predictable type for the output (integer) led to defining this case as a domain error.\n\"\"\")"
      ],
      "metadata": {},
      "execution_count": null
    },
    {
      "cell_type": "markdown",
      "source": [
        "## Some more details.\n\n\nWhat follows is only needed for those seeking more background.\n\n\nJulia has *abstract* number types `Integer`, `Real`, and `Number`. All\nfour types described above are of type `Number`, but `Complex` is not\nof type `Real`.\n\nHowever, a specific value is an instance of a *concrete* type. A\nconcrete type will also include information about how the value is\nstored. For example, the *integer* `1` could be stored using $64$ bits\nas a signed integers, or, should storage be a concern, as an $8$ bits\nsigned or even unsigned integer, etc.. If storage\nisn't an issue, but exactness at all scales is, then it can be stored in a manner\nthat allows for the storage to grow using \"big\" numbers.\n\nThese distinctions can be seen in how `Julia` parses these three values:\n\n* `1234567890` will be a $64$-bit integer (on newer machines), `Int64`\n* `12345678901234567890` will be a $128$ bit integer, `Int128`\n* `1234567890123456789012345678901234567890` will be a big integer, `BigInt`\n\nHaving abstract types allows programmers to write functions that will\nwork over a wide range of input values that are similar, but have\ndifferent implementation details.\n\n\n### Integers\n\nIntegers are often used casually, as they come about from parsing. As with a calculator, floating point numbers *could* be used for integers, but in `Julia` - and other languages - it proves useful to have numbers known to have *exact* values. In `Julia` there are built-in number types for integers stored in $8$, $16$, $32$, $64$, and $128$ bits and `BigInt`s if the previous aren't large enough. ($8$ bits can hold $8$ binary values representing $1$ of $256=2^8$ possibilities, whereas the larger $128$ bit can hold one of $2^{128}$ possibilities.) Smaller values can be more efficiently used, and this is leveraged at the system level, but not a necessary distinction with calculus where the default size along with an occasional usage of `BigInt` suffice.\n\n### Floating point numbers\n\n[Floating point](http://en.wikipedia.org/wiki/Floating_point) numbers\nare a computational model for the real numbers.  For floating point\nnumbers, $64$ bits are used by default for both $32$- and $64$-bit systems, though other storage sizes can be requested. This gives\na large - but still finite - set of real numbers that can be\nrepresented. However, there are infinitely many real numbers just\nbetween $0$ and $1$, so there is no chance that all can be represented\nexactly on the computer with a floating point value. Floating point\nthen is *necessarily* an approximation for all but a subset of the\nreal numbers. Floating point values can be viewed in normalized\n[scientific notation](http://en.wikipedia.org/wiki/Scientific_notation)\nas $a\\cdot 2^b$ where $a$ is the *significand* and $b$ is the\n*exponent*. Save for special values, the significand $a$ is normalized to satisfy $1 \\leq \\lvert a\\rvert <\n2$, the exponent can be taken to be an integer, possibly negative.\n\nAs per IEEE Standard 754, the `Float64` type gives 52 bits to the precision (with an additional implied one), 11 bits to the exponent and the other bit is used to represent the sign.  Positive, finite, floating point numbers have a range approximately between $10^{-308}$ and $10^{308}$, as 308 is about $\\log_{10}\\cdot 2^{1023}$. The numbers are not evenly spread out over this range, but, rather, are much more concentrated closer to $0$."
      ],
      "metadata": {}
    },
    {
      "outputs": [],
      "cell_type": "code",
      "source": [
        "alert(\"\"\"\nYou can discover more about the range of floating point values provided by calling a few different functions.\n\n- `typemax(0.0)` gives the largest value for the type (`Inf` in this case).\n\n- `prevfloat(Inf)` gives the largest finite one, in general `prevfloat` is the next smallest floating point value.\n\n- `nextfloat(-Inf)`, similarly,  gives the smallest finite floating point value, and in general returns the next largest floating point value.\n\n- `nextfloat(0.0)` gives the closest positive value to 0.\n\n- `eps()`  gives the distance to the next floating point number bigger than `1.0`. This is sometimes referred to as machine precision.\n\n\"\"\", title=\"More on floating point\", label=\"More on the range of floating point values\")"
      ],
      "metadata": {},
      "execution_count": null
    },
    {
      "cell_type": "markdown",
      "source": [
        "#### Scientific notation\n\nFloating point numbers may print in a familiar manner:"
      ],
      "metadata": {}
    },
    {
      "outputs": [],
      "cell_type": "code",
      "source": [
        "x = 1.23"
      ],
      "metadata": {},
      "execution_count": null
    },
    {
      "cell_type": "markdown",
      "source": [
        "or may be represented in scientific notation:"
      ],
      "metadata": {}
    },
    {
      "outputs": [],
      "cell_type": "code",
      "source": [
        "6.23 * 10.0^23"
      ],
      "metadata": {},
      "execution_count": null
    },
    {
      "cell_type": "markdown",
      "source": [
        "The special coding `aeb` (or if the exponent is negative `ae-b`) is\nused to represent the number $a \\cdot 10^b$ ($1 \\leq a < 10$). This\nnotation can be used directly to specify a floating point value:"
      ],
      "metadata": {}
    },
    {
      "outputs": [],
      "cell_type": "code",
      "source": [
        "x = 6.23e23"
      ],
      "metadata": {},
      "execution_count": null
    },
    {
      "cell_type": "markdown",
      "source": [
        "The first way of representing this number required using `10.0` and not `10` as the integer power will return an integer and even for 64-bit systems is only valid up to `10^18`. Using scientific notation avoids having to concentrate on such limitations.\n\n##### Example\n\nFloating point values in scientific notation will always be normalized. This is easy for the computer to do, but tedious to do by hand. Here we see:"
      ],
      "metadata": {}
    },
    {
      "outputs": [],
      "cell_type": "code",
      "source": [
        "4e30 * 3e40, 3e40 / 4e30"
      ],
      "metadata": {},
      "execution_count": null
    },
    {
      "cell_type": "markdown",
      "source": [
        "The power in the first is 71, not 70 = 30+40, as the product of 3 and 4 as 12 or `1.2e^1`. (We also see the artifact of `1.2` not being exactly representable in floating point.)\n\n#### Special values: Inf, -Inf, NaN\n\nThe coding of floating point numbers also allows for the special\nvalues of `Inf`, `-Inf` to represent positive and negative\ninfinity. As well, a special value `NaN` (\"not a number\") is used to\nrepresent a value that arises when an operation is not closed (e.g.,\n$0.0/0.0$ yields `NaN`). Except for negative bases, the floating point\nnumbers with the addition of `Inf` and `NaN` are closed under the\noperations `+`, `-`, `*`, `/`, and `^`. Here are some computations\nthat produce `NaN`:"
      ],
      "metadata": {}
    },
    {
      "outputs": [],
      "cell_type": "code",
      "source": [
        "0/0, Inf/Inf, Inf - Inf, 0 * Inf"
      ],
      "metadata": {},
      "execution_count": null
    },
    {
      "cell_type": "markdown",
      "source": [
        "Whereas, these produce an infinity"
      ],
      "metadata": {}
    },
    {
      "outputs": [],
      "cell_type": "code",
      "source": [
        "1/0, Inf + Inf, 1 * Inf"
      ],
      "metadata": {},
      "execution_count": null
    },
    {
      "cell_type": "markdown",
      "source": [
        "Finally, these are mathematically undefined, but still yield a finite value with `Julia`:"
      ],
      "metadata": {}
    },
    {
      "outputs": [],
      "cell_type": "code",
      "source": [
        "0^0, Inf^0"
      ],
      "metadata": {},
      "execution_count": null
    },
    {
      "cell_type": "markdown",
      "source": [
        "#### Floating point numbers and real numbers\n\nFloating point numbers are an abstraction for the real numbers. For\nthe most part this abstraction works in the background, though there\nare cases where one needs to have it in mind. Here are a few:\n\n* For real and rational numbers, between any two numbers $a < b$,\n  there is another real number in between. This is not so for floating\n  point numbers which have a finite precision. (Julia has some\n  functions for working with this distinction.)\n\n* Floating point numbers are approximations for most values, even\n  simple rational ones like $1/3$. This leads to oddities such as this value\n  not being $0$:"
      ],
      "metadata": {}
    },
    {
      "outputs": [],
      "cell_type": "code",
      "source": [
        "sqrt(2)*sqrt(2) - 2"
      ],
      "metadata": {},
      "execution_count": null
    },
    {
      "cell_type": "markdown",
      "source": [
        "It is no surprise that an irrational number, like $\\sqrt{2}$, can't be represented **exactly** within floating point, but it is perhaps surprising that simple numbers can not be, so $1/3$, $1/5$, $\\dots$ are approximated. Here is a surprising-at-first consequence:"
      ],
      "metadata": {}
    },
    {
      "outputs": [],
      "cell_type": "code",
      "source": [
        "1/10 + 2/10 == 3/10"
      ],
      "metadata": {},
      "execution_count": null
    },
    {
      "cell_type": "markdown",
      "source": [
        "That is adding `1/10` and `2/10` is not exactly `3/10`, as expected mathematically.\nSuch differences are usually very small and are generally attributed to rounding error. The user needs to be mindful when testing for equality, as is done above with the `==` operator.\n\n* Floating point addition is not necessarily associative, that is the property $a + (b+c) = (a+b) + c$ may not hold exactly. For example:"
      ],
      "metadata": {}
    },
    {
      "outputs": [],
      "cell_type": "code",
      "source": [
        "1/10 + (2/10 + 3/10) == (1/10 + 2/10) + 3/10"
      ],
      "metadata": {},
      "execution_count": null
    },
    {
      "cell_type": "markdown",
      "source": [
        "* For real numbers subtraction of similar-sized numbers is not exceptional, for example $1 - \\cos(x)$ is positive if $0 < x < \\pi/2$, say. This will not be the case for floating point values. If $x$ is close enough to $0$, then $\\cos(x)$ and $1$ will be so close, that they will be represented by the same floating point value, `1.0`, so the difference will be zero:"
      ],
      "metadata": {}
    },
    {
      "outputs": [],
      "cell_type": "code",
      "source": [
        "1.0 - cos(1e-8)"
      ],
      "metadata": {},
      "execution_count": null
    },
    {
      "cell_type": "markdown",
      "source": [
        "### Rational numbers\n\nRational numbers can be used when the exactness of the number is more\nimportant than the speed or wider range of values offered by floating\npoint numbers. In `Julia` a rational number is comprised of a\nnumerator and a denominator, each an integer of the same type, and\nreduced to lowest terms. The operations of addition, subtraction,\nmultiplication, and division will keep their answers as rational\nnumbers. As well, raising a rational number to a positive, integer\nvalue will produce a rational number.\n\nAs mentioned, these are constructed using double slashes:"
      ],
      "metadata": {}
    },
    {
      "outputs": [],
      "cell_type": "code",
      "source": [
        "1//2, 2//1, 6//4"
      ],
      "metadata": {},
      "execution_count": null
    },
    {
      "cell_type": "markdown",
      "source": [
        "Rational numbers are exact, so the following are identical to their mathematical counterparts:"
      ],
      "metadata": {}
    },
    {
      "outputs": [],
      "cell_type": "code",
      "source": [
        "1//10 + 2//10 == 3//10"
      ],
      "metadata": {},
      "execution_count": null
    },
    {
      "cell_type": "markdown",
      "source": [
        "and associativity:"
      ],
      "metadata": {}
    },
    {
      "outputs": [],
      "cell_type": "code",
      "source": [
        "(1//10 + 2//10) + 3//10 == 1//10 + (2//10 + 3//10)"
      ],
      "metadata": {},
      "execution_count": null
    },
    {
      "cell_type": "markdown",
      "source": [
        "Here we see that the type is preserved under the basic  operations:"
      ],
      "metadata": {}
    },
    {
      "outputs": [],
      "cell_type": "code",
      "source": [
        "(1//2 + 1//3 * 1//4 / 1//5) ^ 6"
      ],
      "metadata": {},
      "execution_count": null
    },
    {
      "cell_type": "markdown",
      "source": [
        "For powers, a non-integer exponent is converted to floating point, so this operation is defined, though will always return a floating point value:"
      ],
      "metadata": {}
    },
    {
      "outputs": [],
      "cell_type": "code",
      "source": [
        "(1//2)^(1//2)   # the first parentheses are necessary as `^` will be evaluated before `//`."
      ],
      "metadata": {},
      "execution_count": null
    },
    {
      "cell_type": "markdown",
      "source": [
        "##### Example: different types of real numbers\n\nThis table shows what attributes are implemented for the different types."
      ],
      "metadata": {}
    },
    {
      "outputs": [],
      "cell_type": "code",
      "source": [
        "using DataFrames\nattributes = [\"construction\", \"exact\", \"wide range\", \"has infinity\", \"has `-0`\", \"fast\", \"closed under\"]\ninteger = [q\"1\", \"true\", \"false\", \"false\", \"false\", \"true\", \"`+`, `-`, `*`, `^` (non-negative exponent)\"]\nrational = [\"`1//1`\", \"true\", \"false\", \"false\", \"false\", \"false\", \"`+`, `-`, `*`, `/` (non zero denominator),`^` (integer power)\"]\nfloat = [q\"1.0\", \"not usually\", \"true\", \"true\", \"true\", \"true\", \"`+`, `-`, `*`, `/` (possibly `NaN`, `Inf`),`^` (non-negative base)\"]\nd = DataFrame(Attributes=attributes, Integer=integer, Rational=rational, FloatingPoint=float)\ntable(d)"
      ],
      "metadata": {},
      "execution_count": null
    },
    {
      "cell_type": "markdown",
      "source": [
        "## Complex numbers\n\nComplex numbers in `Julia` are stored as two numbers, a real and imaginary part, each some type of `Real` number. The special constant `im` is used to represent $i=\\sqrt{-1}$.  This makes the construction of complex numbers fairly standard:"
      ],
      "metadata": {}
    },
    {
      "outputs": [],
      "cell_type": "code",
      "source": [
        "1 + 2im, 3 + 4.0im"
      ],
      "metadata": {},
      "execution_count": null
    },
    {
      "cell_type": "markdown",
      "source": [
        "(These two aren't exactly the same, the `3` is promoted from an integer to a float to match the `4.0`. Each of the components must be of the same type of number.)\n\nMathematically, complex numbers are needed so that certain equations can be satisfied. For example $x^2 = -2$ has solutions $-\\sqrt{2}i$ and $\\sqrt{2}i$ over the complex numbers. Finding this in `Julia` requires some attention, as we have both `sqrt(-2)` and `sqrt(-2.0)` throwing a `DomainError`, as the `sqrt` function expects non-negative real arguments. However first creating a complex number does work:"
      ],
      "metadata": {}
    },
    {
      "outputs": [],
      "cell_type": "code",
      "source": [
        "sqrt(-2 + 0im)"
      ],
      "metadata": {},
      "execution_count": null
    },
    {
      "cell_type": "markdown",
      "source": [
        "For complex arguments, the `sqrt` function will return complex values (even if the answer is a real number).\n\nThis means, if you wanted to perform the quadratic equation for any real inputs, your computations might involve something like the following:"
      ],
      "metadata": {}
    },
    {
      "outputs": [],
      "cell_type": "code",
      "source": [
        "a,b,c = 1,2,3  ## x^2 + 2x + 3\ndiscr = b^2 - 4a*c\n(-b + sqrt(discr + 0im))/(2a), (-b - sqrt(discr + 0im))/(2a)"
      ],
      "metadata": {},
      "execution_count": null
    },
    {
      "cell_type": "markdown",
      "source": [
        "When learning calculus, the only common usage of complex numbers arises when solving polynomial equations for roots, or zeros, though they are very important for subsequent work using the concepts of calculus.\n\n\n## Type stability\n\nOne design priority of `Julia` is that it should be fast. How can\n`Julia` do this? In a simple model, `Julia` is an interface between\nthe user and the computer's processor(s). Processors consume a set of\ninstructions, the user issues a set of commands. `Julia` is in charge\nof the translation between the two. Ultimately `Julia` calls a compiler to create\nthe instructions. A basic premise is the shorter the instructions, the\nfaster they are to process. Shorter instructions can come about by\nbeing more explicit about what types of values the instructions\nconcern. Explicitness means, there is no need to reason about what a\nvalue can be. When `Julia` can reason about the type of value involved\nwithout having to reason about the values themselves, it can work with\nthe compiler to produce shorter lists of instructions.\n\nSo knowing the type of the output of a function can be a big\nadvantage. In `Julia` this is known as *type stability*. In the\nstandard `Julia` library, this is a primary design consideration.\n\n\n##### Example: closure\n\nTo motivate this a bit, we discuss how mathematics can be shaped by a\ndesire to stick to simple ideas.  A desirable algebraic property of a\nset of numbers and an operation - *closure*.  That is, if one takes an\noperation like `+` and then uses it to add two numbers in a set, will\nthat result also be in the set? If this is so for any pair of numbers,\nthen the set is closed with respect to the operation addition.\n\nLets suppose we start with the *natural numbers*: $1,2, \\dots$. Natural, in that we can easily represent small values in terms of fingers.\nThis set is closed under addition - as a child learns when counting using their fingers. However, if we started with the odd natural numbers, this set would *not* be closed under addition - $3+3=6$.\n\nThe natural numbers are not all the numbers we need, as once a desire\nfor subtraction is included, we find the set isn't closed. There isn't\na $0$, needed as $n-n=0$ and there aren't negative numbers. The set of\nintegers are needed for closure under addition and subtraction.\n\nThe integers are also closed under multiplication, which for integer values can be seen as just regrouping into longer additions.\n\nHowever, the integers are not closed under division - even if you put\naside the pesky issue of dividing by $0$. For that, the rational\nnumbers must be introduced. So aside from division by $0$, the rationals are closed under addition, subtraction, multiplication, and division. There is one more fundamental operation though, powers.\n\nPowers are defined for positive integers in a simple enough manner\n\n$$~\na^n=a\\cdot a \\cdot a \\cdots a \\text{ (n times); }  a, n \\text{ are integers, $n$ is positive}.\n~$$\n\nWe can define $a^0$ to be $1$, except for the special case of $0^0$,\nwhich is left undefined mathematically (though it is also defined as\n`1` within `Julia`). We can extend the above to include negative\nvalues of $a$, but what about negative values of $n$? We can't say the\nintegers are closed under powers, as the definition consistent with\nthe rules that $a^{(-n)} = 1/a^n$ requires rational numbers to be\ndefined.\n\nWell, in the above `a` could be a rational number, is `a^n` closed for\nrational numbers? No again. Though it is fine for $n$ as an integer\n(save the odd case of $0$, simple definitions like $2^{1/2}$ are not\nanswered within the rationals. For this, we need to introduce the\n*real* numbers. It is mentioned that\n[Aristotle](http://tinyurl.com/bpqbkap) hinted at the irrationality of\nthe square root of $2$. To define terms like $a^{1/n}$ for integer\nvalues $a,n > 0$ a reference to a solution to an equation $x^n-a$ is\nused. Such solutions require the irrational numbers to have solutions\nin general. Hence the need for the real numbers (well, algebraic\nnumbers at least, though once the exponent is no longer a rational\nnumber, the full set of real numbers are needed.)\n\nSo, save the pesky cases, the real numbers will be closed under\naddition, subtraction, multiplication, division, and powers - provided\nthe base is non-negative.\n\nFinally for that last case, the complex numbers are introduced to give an answer to $\\sqrt{-1}$.\n\n\n\n----\n\n\nHow does this apply with `Julia`?\n\nThe point is, if we restrict our set of inputs, we can get more\nprecise values for the output of basic operations, but to get more\ngeneral inputs we need to have bigger output sets.\n\n\nA similar thing happens in `Julia`. For addition say, the addition of\ntwo integers of the same type will be an integer of that type. This\nspeed consideration is not solely for type stability, but also to\navoid checking for overflow.\n\nAnother example, the division of two integers will always be a number\nof the same type - floating point, as that is the only type that\nensures the answer will always fit within. (The explicit use of\nrationals notwithstanding.) So even if two integers are the input and\ntheir answer *could* be an integer, in `Julia` it will be a floating\npoint number, (cf. `2/1`).\n\nHopefully this helps explain the subtle issues around powers: in\n`Julia` an integer raised to an integer should be an integer, for\nspeed, though certain cases are special cased, like `2^(-1)`.  However\nsince a real number raised to a real number makes sense always when\nthe base is non-negative, as long as real numbers are used as outputs,\nthe expressions `2.0^(-1)` and `2^(-1.0)` are computed and real\nnumbers (floating points) are returned. For type stability, even\nthough $2.0^1$ could be an integer, a floating point answer is\nreturned.\n\nAs for negative bases, `Julia` could always return complex numbers,\nbut in addition to this being slower, it would be irksome to users. So\nuser's must opt in. Hence `sqrt(-1.0)` will be an error, but the more\nexplicit - but mathematically equivalent - `sqrt(-1.0 + 0im)` will not\nbe a domain error, but rather a complex value will be returned.\n\n\n\n## Questions\n\n###### Question\n\nThe number created by `pi/2` is?"
      ],
      "metadata": {}
    },
    {
      "outputs": [],
      "cell_type": "code",
      "source": [
        "choices = [\"Integer\", \"Rational\", \"Floating point\", \"Complex\", \"None, an error occurs\"]\nans = 3\nradioq(choices, ans, keep_order=true)"
      ],
      "metadata": {},
      "execution_count": null
    },
    {
      "cell_type": "markdown",
      "source": [
        "###### Question\n\nThe number created by `2/2` is?"
      ],
      "metadata": {}
    },
    {
      "outputs": [],
      "cell_type": "code",
      "source": [
        "ans = 3\nradioq(choices, ans, keep_order=true)"
      ],
      "metadata": {},
      "execution_count": null
    },
    {
      "cell_type": "markdown",
      "source": [
        "###### Question\n\nThe number created by `2//2` is?"
      ],
      "metadata": {}
    },
    {
      "outputs": [],
      "cell_type": "code",
      "source": [
        "ans = 2\nradioq(choices, ans, keep_order=true)"
      ],
      "metadata": {},
      "execution_count": null
    },
    {
      "cell_type": "markdown",
      "source": [
        "###### Question\n\nThe number created by `1 + 1//2 + 1/3` is?"
      ],
      "metadata": {}
    },
    {
      "outputs": [],
      "cell_type": "code",
      "source": [
        "ans = 3\nradioq(choices, ans, keep_order=true)"
      ],
      "metadata": {},
      "execution_count": null
    },
    {
      "cell_type": "markdown",
      "source": [
        "###### Question\n\n\nThe number created by `2^3` is?"
      ],
      "metadata": {}
    },
    {
      "outputs": [],
      "cell_type": "code",
      "source": [
        "ans = 1\nradioq(choices, ans, keep_order=true)"
      ],
      "metadata": {},
      "execution_count": null
    },
    {
      "cell_type": "markdown",
      "source": [
        "###### Question\n\n\nThe number created by `sqrt(im)` is?"
      ],
      "metadata": {}
    },
    {
      "outputs": [],
      "cell_type": "code",
      "source": [
        "ans = 4\nradioq(choices, ans, keep_order=true)"
      ],
      "metadata": {},
      "execution_count": null
    },
    {
      "cell_type": "markdown",
      "source": [
        "###### Question\n\n\nThe number created by `2^(-1)` is?"
      ],
      "metadata": {}
    },
    {
      "outputs": [],
      "cell_type": "code",
      "source": [
        "ans = 3\nradioq(choices, ans, keep_order=true)"
      ],
      "metadata": {},
      "execution_count": null
    },
    {
      "cell_type": "markdown",
      "source": [
        "###### Question\n\n\n\nThe \"number\" created by `1/0` is?"
      ],
      "metadata": {}
    },
    {
      "outputs": [],
      "cell_type": "code",
      "source": [
        "ans = 3\nradioq(choices, ans, keep_order=true)"
      ],
      "metadata": {},
      "execution_count": null
    },
    {
      "cell_type": "markdown",
      "source": [
        "###### Question\n\nIs `(2 + 6) + 7` equal to  `2 + (6 + 7)`?"
      ],
      "metadata": {}
    },
    {
      "outputs": [],
      "cell_type": "code",
      "source": [
        "yesnoq(true)"
      ],
      "metadata": {},
      "execution_count": null
    },
    {
      "cell_type": "markdown",
      "source": [
        "###### Question\n\nIs `(2/10 + 6/10) + 7/10` equal to `2/10 + (6/10 + 7/10)`?"
      ],
      "metadata": {}
    },
    {
      "outputs": [],
      "cell_type": "code",
      "source": [
        "yesnoq(false)"
      ],
      "metadata": {},
      "execution_count": null
    },
    {
      "cell_type": "markdown",
      "source": [
        "###### Question\n\nThe following *should* compute `2^(-1)`, which if entered directly will return `0.5`. Does it?"
      ],
      "metadata": {}
    },
    {
      "outputs": [],
      "cell_type": "code",
      "source": [
        "a, b = 2, -1\na^b"
      ],
      "metadata": {},
      "execution_count": null
    },
    {
      "outputs": [],
      "cell_type": "code",
      "source": [
        "yesnoq(false)"
      ],
      "metadata": {},
      "execution_count": null
    },
    {
      "cell_type": "markdown",
      "source": [
        "(This shows the special casing that is done when powers use literal numbers.)"
      ],
      "metadata": {}
    }
  ],
  "nbformat_minor": 2,
  "metadata": {
    "language_info": {
      "file_extension": ".jl",
      "mimetype": "application/julia",
      "name": "julia",
      "version": "1.5.0"
    },
    "kernelspec": {
      "name": "julia-1.5",
      "display_name": "Julia 1.5.0",
      "language": "julia"
    }
  },
  "nbformat": 4
}
