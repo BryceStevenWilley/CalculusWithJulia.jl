{
  "cells": [
    {
      "cell_type": "markdown",
      "source": [
        "# Variables\n\n## Assignment"
      ],
      "metadata": {}
    },
    {
      "outputs": [],
      "cell_type": "code",
      "source": [
        "using CalculusWithJulia\nusing CalculusWithJulia.WeaveSupport\nnothing"
      ],
      "metadata": {},
      "execution_count": null
    },
    {
      "outputs": [],
      "cell_type": "code",
      "source": [
        "imgfile = \"figures/calculator.png\"\ncaption = \"Screenshot of a calculator provided by the Google search engine.\"\nImageFile(imgfile, caption)"
      ],
      "metadata": {},
      "execution_count": null
    },
    {
      "cell_type": "markdown",
      "source": [
        "The Google calculator has a button `Ans` to refer to the answer to the\nprevious evaluation. This is a form of memory. The last answer is\nstored in a specific place in memory for retrieval when `Ans` is\nused. In some calculators, more advanced memory features are\npossible. For some, it is possible to push values onto a stack of\nvalues for them to be referred to at a later time. This proves useful\nfor complicated expressions, say, as the expression can be broken into\nsmaller intermediate steps to be computed. These values can then be\nappropriately combined. This strategy is a good one, though the memory\nbuttons can make its implementation a bit cumbersome.\n\nWith `Julia`, as with other programming languages, it is very easy to\nrefer to past evaluations. This is done by *assignment* whereby a\ncomputed value stored in memory is associated with a name. The name\ncan be used to look up the value later.\n\nAssignment in `Julia` is handled by the equals sign and takes the general form `variable_name = value`. For example, here we assign values to the variables `x` and `y`"
      ],
      "metadata": {}
    },
    {
      "outputs": [],
      "cell_type": "code",
      "source": [
        "x = sqrt(2)\ny = 42"
      ],
      "metadata": {},
      "execution_count": null
    },
    {
      "cell_type": "markdown",
      "source": [
        "In an assignment, the right hand side is returned, so it appears\nnothing has happened. However, the values are there, as can be checked\nby typing their name"
      ],
      "metadata": {}
    },
    {
      "outputs": [],
      "cell_type": "code",
      "source": [
        "x"
      ],
      "metadata": {},
      "execution_count": null
    },
    {
      "cell_type": "markdown",
      "source": [
        "Just typing a variable name (without a trailing semicolon) causes the assigned value to be displayed.\n\n\nVariable names can be reused, as here, where we redefine `x`:"
      ],
      "metadata": {}
    },
    {
      "outputs": [],
      "cell_type": "code",
      "source": [
        "x = 2"
      ],
      "metadata": {},
      "execution_count": null
    },
    {
      "cell_type": "markdown",
      "source": [
        "`Julia` is referred to as a \"dynamic language\" which means (in most\ncases) that a variable can be reassigned with a value of a different\ntype, as we did with `x` where first it was assigned to a floating\npoint value then to an integer value. (Though we meet some cases - generic functions -  where `Julia`\nbalks at reassigning a variable if the type if different.)\n\n\n\nMore importantly than displaying a value, is the use of variables to\nbuild up more complicated expressions. For example, to compute\n\n$$~\n\\frac{1 + 2 \\cdot 3^4}{5 - 6/7}\n~$$\n\nwe might break it into the grouped pieces implied by the mathematical notation:"
      ],
      "metadata": {}
    },
    {
      "outputs": [],
      "cell_type": "code",
      "source": [
        "top = 1 + 2*3^4\nbottom = 5 - 6/7\ntop/bottom"
      ],
      "metadata": {},
      "execution_count": null
    },
    {
      "cell_type": "markdown",
      "source": [
        "### Examples\n\n##### Example\n\nImagine we have the following complicated expression related to the trajectory of a [projectile](http://www.researchgate.net/publication/230963032_On_the_trajectories_of_projectiles_depicted_in_early_ballistic_woodcuts) with wind resistance:\n\n$$~\n\t\\left(\\frac{g}{k v_0\\cos(\\theta)} + \\tan(\\theta) \\right) x + \\frac{g}{k^2}\\ln\\left(1 - \\frac{k}{v_0\\cos(\\theta)} x \\right)\n~$$\n\nHere $g$ is the gravitational constant $9.8$ and $v_0$, $\\theta$ and\n$k$ parameters, which we take to be $200$, $45$ degrees, and $1/2$\nrespectively. With these values, the above expression can be computed\nwhen $x=100$:"
      ],
      "metadata": {}
    },
    {
      "outputs": [],
      "cell_type": "code",
      "source": [
        "g = 9.8\nv0 = 200\ntheta = 45\nk = 1/2\nx = 100\na = v0 * cosd(theta)\n(g/(k*a) + tand(theta))* x + (g/k^2) * log(1 - k/a*x)"
      ],
      "metadata": {},
      "execution_count": null
    },
    {
      "cell_type": "markdown",
      "source": [
        "By defining a new variable `a` to represent a value that is repeated a few times in the expression, the last command is greatly simplified. Doing so makes it much easier to check for accuracy against the expression to compute.\n\n##### Example\n\nA common expression in mathematics is a polynomial expression, for example $-16x^2 + 32x - 12$. Translating this to `Julia` at $x =3$ we might have:"
      ],
      "metadata": {}
    },
    {
      "outputs": [],
      "cell_type": "code",
      "source": [
        "x = 3\n-16*x^2 + 32*x - 12"
      ],
      "metadata": {},
      "execution_count": null
    },
    {
      "cell_type": "markdown",
      "source": [
        "This looks nearly identical to the mathematical expression, but we inserted `*` to indicate multiplication between the constant and the variable. In fact, this step is not needed as Julia allows numeric literals to have an implied multiplication:"
      ],
      "metadata": {}
    },
    {
      "outputs": [],
      "cell_type": "code",
      "source": [
        "-16x^2 + 32x - 12"
      ],
      "metadata": {},
      "execution_count": null
    },
    {
      "cell_type": "markdown",
      "source": [
        "## Where math and computer notations diverge\n\nIt is important to recognize that `=` to `Julia` is not in analogy to\nhow $=$ is used in mathematical notation. The following `Julia` code\nis not an equation:"
      ],
      "metadata": {}
    },
    {
      "outputs": [],
      "cell_type": "code",
      "source": [
        "x = x^2"
      ],
      "metadata": {},
      "execution_count": null
    },
    {
      "cell_type": "markdown",
      "source": [
        "What happens instead? The right hand side is evaluated (`x` is\nsquared), the result is stored and bound to the variable `x` (so that\n`x` will end up pointing to the new value `4` and not the old one `2`); finally the value computed on the\nright-hand side is returned and in this case displayed, as there is no\ntrailing semicolon to suppress the output.\n\nThis is completely unlike the mathematical equation $x = x^2$ which is\ntypically solved for values of $x$ that satisfy the equation ($0$ and\n$1$).\n\n##### Example\n\nHaving `=` as assignment is usefully exploited when modeling sequences. For example, an\napplication of Newton's method might end up with this expression:\n\n$$~\nx_{i+1} = x_i - \\frac{x_i^2 - 2}{2x_i}\n~$$\n\nAs a mathematical expression, for each $i$ this defines a new value\nfor $x_{i+1}$ in terms of a known value $x_i$. This can be used to\nrecursively generate a sequence, provided some starting point is\nknown, such as $x_0 = 2$.\n\nThe above might be written instead with:"
      ],
      "metadata": {}
    },
    {
      "outputs": [],
      "cell_type": "code",
      "source": [
        "x = 2\nx = x - (x^2 - 2) / (2x)"
      ],
      "metadata": {},
      "execution_count": null
    },
    {
      "cell_type": "markdown",
      "source": [
        "Repeating this last line will generate new values of `x` based on the\nprevious one - no need for subscripts. This is exactly what the\nmathematical notation indicates is to be done.\n\n## Context\n\nThe binding of a value to a variable name happens within some\ncontext. For our simple illustrations, we are assigning values, as\nthough they were typed at the command line. This stores the binding in\nthe `Main` module. `Julia` looks for variables in this module when it\nencounters an expression and the value is substituted. Other uses, such as when variables are defined within a function, involve different contexts which may not be\nvisible within the `Main` module."
      ],
      "metadata": {}
    },
    {
      "outputs": [],
      "cell_type": "code",
      "source": [
        "note(\"\"\"\nThe `varinfo` function will list the variables currently defined in the\nmain workspace. There is no mechanism to delete a single variable.\n\"\"\")"
      ],
      "metadata": {},
      "execution_count": null
    },
    {
      "outputs": [],
      "cell_type": "code",
      "source": [
        "alert(\"\"\"\n**Shooting oneselves in the foot.** `Julia` allows us to locally\nredefine variables that are built in, such as the value for `pi` or\nthe function object assigned to `sin`. For example, this is a\nperfectly valid command `sin=3`. However, it will overwrite the\ntypical value of `sin` so that `sin(3)` will be an error. The\nbinding to `sin` occurs in the `Main` module. This shadows that\nvalue of `sin` bound in the `Base` module. Even if redefined in\n`Main`, the value in base can be used by fully qualifying the name,\nas in `Base.sin(pi)`. This uses the convention\n`module_name.variable_name` to look up a binding in a module.\n\"\"\")"
      ],
      "metadata": {},
      "execution_count": null
    },
    {
      "cell_type": "markdown",
      "source": [
        "## Variable names\n\n`Julia` has a very wide set of possible\n[names](https://docs.julialang.org/en/stable/manual/variables/#Allowed-Variable-Names-1)\nfor variables. Variables are case sensitive and their names can\ninclude many\n[Unicode](http://en.wikipedia.org/wiki/List_of_Unicode_characters)\ncharacters. Names must begin with a letter or an appropriate Unicode\nvalue (but not a number). There are some reserved words, such as `try`\nor `else` which can not be assigned to. However, many built-in names\ncan be locally overwritten. Conventionally, variable names are lower\ncase. For compound names, it is not unusual to see them squished\ntogether, joined with underscores, or written in camelCase."
      ],
      "metadata": {}
    },
    {
      "outputs": [],
      "cell_type": "code",
      "source": [
        "value_1 = 1\na_long_winded_variable_name = 2\nsinOfX = sind(45)\n__private = 2     # a convention"
      ],
      "metadata": {},
      "execution_count": null
    },
    {
      "cell_type": "markdown",
      "source": [
        "### Unicode names\n\nJulia allows variable names to use Unicode identifiers. Such\nnames allow `julia` notation to mirror that of many\nmathematical texts. For example, in calculus the variable $\\epsilon$\nis often used to represent some small number. We can assign to a\nsymbol that looks like $\\epsilon$ using `Julia`'s LaTeX input\nmode. Typing `\\epsilon[tab]` will replace the text with the symbol\nwithin `IJulia` or the command line."
      ],
      "metadata": {}
    },
    {
      "outputs": [],
      "cell_type": "code",
      "source": [
        "ϵ = 1e-10"
      ],
      "metadata": {},
      "execution_count": null
    },
    {
      "cell_type": "markdown",
      "source": [
        "Entering Unicode names follows the pattern of\n\"slash\" + LaTeX name + `[tab]` key. Some other ones that are useful\nare `\\delta[tab]`, `\\alpha[tab]`, and `\\beta[tab]`, though there are\n[hundreds](https://github.com/JuliaLang/julia/blob/master/stdlib/REPL/src/latex_symbols.jl)\nof other values defined.\n\n\nFor example, we could have defined `theta` (`\\theta[tab]`) and `v0` (`v\\_0[tab]`) using Unicode to make them match more closely the typeset math:"
      ],
      "metadata": {}
    },
    {
      "outputs": [],
      "cell_type": "code",
      "source": [
        "θ = 45; v₀ = 200"
      ],
      "metadata": {},
      "execution_count": null
    },
    {
      "outputs": [],
      "cell_type": "code",
      "source": [
        "alert(\"\"\"\nThere is even support for tab-completion of\n[emojis](https://github.com/JuliaLang/julia/blob/master/stdlib/REPL/src/emoji_symbols.jl)\nsuch as `\\\\:snowman:[tab]` or `\\\\:koala:[tab]`\n\n\"\"\")"
      ],
      "metadata": {},
      "execution_count": null
    },
    {
      "cell_type": "markdown",
      "source": [
        "##### Example\n\nAs mentioned, as of `Julia` `v\"0.7.0\"`, the value of $e$ is bound to\nthe unicode value `\\euler[tab]` and not the letter `e`, so Unicode\nentry is required to access this constant This isn't quite true. The\n`MathConstants` module defines `e`, as well as a few other values\naccessed via unicode. This is loaded with the accompanying `CalculusWithJulia` package.\nAlternatively, one can define `e = exp(1)` and use the variable as desired.\n\n\n\n## Tuple assignment\n\nIt is a common task to define more than one variable. Multiple definitions can be done in one line, using semicolons to break up the commands, as with:"
      ],
      "metadata": {}
    },
    {
      "outputs": [],
      "cell_type": "code",
      "source": [
        "a = 1; b = 2; c=3"
      ],
      "metadata": {},
      "execution_count": null
    },
    {
      "cell_type": "markdown",
      "source": [
        "For convenience, `Julia` allows an alternate means to define more than one variable at a time. The syntax is similar:"
      ],
      "metadata": {}
    },
    {
      "outputs": [],
      "cell_type": "code",
      "source": [
        "a, b, c = 1, 2, 3"
      ],
      "metadata": {},
      "execution_count": null
    },
    {
      "cell_type": "markdown",
      "source": [
        "This sets `a=1`, `b=2`, and `c=3`, as suggested. This construct relies\non *tuple destructuring*. The expression on the right hand side forms\na tuple of values. A tuple is a container for different types of\nvalues, and in this case the tuple has 3 values. When the same number\nof variables match on the left-hand side as those in the container on\nthe right, the names are assigned one by one.\n\nThe value on the right hand side is evaluated, then the assignment occurs. The following exploits this to swap the values assigned to `a` and `b`:"
      ],
      "metadata": {}
    },
    {
      "outputs": [],
      "cell_type": "code",
      "source": [
        "a, b = b, a"
      ],
      "metadata": {},
      "execution_count": null
    },
    {
      "cell_type": "markdown",
      "source": [
        "#### Example, finding the slope\n\nFind the slope of the line connecting the points $(1,2)$ and $(4,6)$. We begin by defining the values and then applying the slope formula:"
      ],
      "metadata": {}
    },
    {
      "outputs": [],
      "cell_type": "code",
      "source": [
        "x0, y0 = 1, 2\nx1, y1 = 4, 6\nm = (y1 - y0) / (x1 - x0)"
      ],
      "metadata": {},
      "execution_count": null
    },
    {
      "cell_type": "markdown",
      "source": [
        "Of course, this could be computed directly with `(6-2) / (4-1)`, but by using familiar names for the values we can be certain we apply the formula properly.\n\n\n\n## Questions\n\n###### Question\n\nLet $a=10$, $b=2.3$, and $c=8$. Find the value of $(a-b)/(a-c)$."
      ],
      "metadata": {}
    },
    {
      "outputs": [],
      "cell_type": "code",
      "source": [
        "a,b,c = 10, 2.3, 8;\nnumericq((a-b)/(a-c))"
      ],
      "metadata": {},
      "execution_count": null
    },
    {
      "cell_type": "markdown",
      "source": [
        "###### Question\n\nLet `x = 4`. Compute $y=100 - 2x - x^2$. What is the value:"
      ],
      "metadata": {}
    },
    {
      "outputs": [],
      "cell_type": "code",
      "source": [
        "x = 4\ny =- 100 - 2x - x^2\nnumericq(y, 0.1)"
      ],
      "metadata": {},
      "execution_count": null
    },
    {
      "cell_type": "markdown",
      "source": [
        "###### Question\n\nWhat is the answer to this computation?"
      ],
      "metadata": {}
    },
    {
      "outputs": [],
      "cell_type": "code",
      "source": [
        "a = 3.2; b=2.3\na^b - b^a"
      ],
      "metadata": {},
      "execution_count": null
    },
    {
      "outputs": [],
      "cell_type": "code",
      "source": [
        "a = 3.2; b=2.3;\nval = a^b - b^a;\nnumericq(val)"
      ],
      "metadata": {},
      "execution_count": null
    },
    {
      "cell_type": "markdown",
      "source": [
        "###### Question\n\nFor longer computations, it can be convenient to do them in parts, as\nthis makes it easier to check for mistakes.\n\nFor example, to compute\n\n$$~\n\\frac{p - q}{\\sqrt{p(1-p)}}\n~$$\n\nfor $p=0.25$ and $q=0.2$ we might do:"
      ],
      "metadata": {}
    },
    {
      "outputs": [],
      "cell_type": "code",
      "source": [
        "p, q = 0.25, 0.2\ntop = p - q\nbottom = sqrt(p*(1-p))\nans = top/bottom"
      ],
      "metadata": {},
      "execution_count": null
    },
    {
      "cell_type": "markdown",
      "source": [
        "What is the result of the above?"
      ],
      "metadata": {}
    },
    {
      "outputs": [],
      "cell_type": "code",
      "source": [
        "p, q = 0.25, 0.2;\ntop = p - q;\nbottom = sqrt(p*(1-p));\nans = top/bottom;\nnumericq(ans)"
      ],
      "metadata": {},
      "execution_count": null
    },
    {
      "cell_type": "markdown",
      "source": [
        "###### Question\n\nUsing variables to record the top and the bottom of the expression, compute the following for $x=3$:\n\n$$~\ny = \\frac{x^2 - 2x - 8}{x^2 - 9x - 20}.\n~$$"
      ],
      "metadata": {}
    },
    {
      "outputs": [],
      "cell_type": "code",
      "source": [
        "x = 3\nval = (x^2 - 2x - 8)/(x^2 - 9x - 20)\nnumericq(val)"
      ],
      "metadata": {},
      "execution_count": null
    },
    {
      "cell_type": "markdown",
      "source": [
        "###### Question\n\nWhich if these is not a valid variable name (identifier) in `Julia`:"
      ],
      "metadata": {}
    },
    {
      "outputs": [],
      "cell_type": "code",
      "source": [
        "choices = [\nq\"5degreesbelowzero\",\nq\"some_really_long_name_that_is_no_fun_to_type\",\nq\"aMiXeDcAsEnAmE\",\nq\"fahrenheit451\"\n]\nans = 1\nradioq(choices, ans)"
      ],
      "metadata": {},
      "execution_count": null
    },
    {
      "cell_type": "markdown",
      "source": [
        "###### Question\n\nWhich of these symbols is  one of `Julia`'s built-in math constants?"
      ],
      "metadata": {}
    },
    {
      "outputs": [],
      "cell_type": "code",
      "source": [
        "choices = [q\"pi\", q\"oo\", q\"E\", q\"I\"]\nans = 1\nradioq(choices, ans)"
      ],
      "metadata": {},
      "execution_count": null
    },
    {
      "cell_type": "markdown",
      "source": [
        "###### Question\n\nWhat key sequence will produce this assignment"
      ],
      "metadata": {}
    },
    {
      "outputs": [],
      "cell_type": "code",
      "source": [
        "δ = 1/10"
      ],
      "metadata": {},
      "execution_count": null
    },
    {
      "outputs": [],
      "cell_type": "code",
      "source": [
        "choices=[\nq\"\\delta[tab] = 1/10\",\nq\"delta[tab] = 1/10\",\nq\"$\\\\delta$ = 1/10\"]\nans = 1\nradioq(choices, ans)"
      ],
      "metadata": {},
      "execution_count": null
    },
    {
      "cell_type": "markdown",
      "source": [
        "###### Question\n\nWhich of these three statements will **not** be a valid way to assign three variables at once:"
      ],
      "metadata": {}
    },
    {
      "outputs": [],
      "cell_type": "code",
      "source": [
        "choices = [\nq\"a=1, b=2, c=3\",\nq\"a,b,c = 1,2,3\",\nq\"a=1; b=2; c=3\"]\nans = 1\nradioq(choices, ans)"
      ],
      "metadata": {},
      "execution_count": null
    },
    {
      "cell_type": "markdown",
      "source": [
        "###### Question\n\nThe fact that assignment *always* returns the value of the right hand side *and* the fact that the `=` sign associates from right to left means that the following idiom:"
      ],
      "metadata": {}
    },
    {
      "outputs": [],
      "cell_type": "code",
      "source": [
        "x = y = z = 3"
      ],
      "metadata": {},
      "execution_count": null
    },
    {
      "cell_type": "markdown",
      "source": [
        "Will always:"
      ],
      "metadata": {}
    },
    {
      "outputs": [],
      "cell_type": "code",
      "source": [
        "choices = [\"Assign all three variables at once to a value of 3\",\n\"Create 3 linked values that will stay synced when any value changes\",\n\"Throw an error\"\n]\nans = 1\nradioq(choices, ans)"
      ],
      "metadata": {},
      "execution_count": null
    }
  ],
  "nbformat_minor": 2,
  "metadata": {
    "language_info": {
      "file_extension": ".jl",
      "mimetype": "application/julia",
      "name": "julia",
      "version": "1.5.0"
    },
    "kernelspec": {
      "name": "julia-1.5",
      "display_name": "Julia 1.5.0",
      "language": "julia"
    }
  },
  "nbformat": 4
}
