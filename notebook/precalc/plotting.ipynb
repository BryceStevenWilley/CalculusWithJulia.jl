{
  "cells": [
    {
      "cell_type": "markdown",
      "source": [
        "# The Graph of a Function"
      ],
      "metadata": {}
    },
    {
      "outputs": [],
      "cell_type": "code",
      "source": [
        "using CalculusWithJulia\nusing CalculusWithJulia.WeaveSupport\nusing Plots\nnothing"
      ],
      "metadata": {},
      "execution_count": null
    },
    {
      "cell_type": "markdown",
      "source": [
        "A univariate function, such as $f(x) = 1 - x^2/2$, can be thought of in many different ways. For example,\n\n* It can be represented through a rule of what it does to $x$, as above. This is useful for computing numeric values.\n\n* it can be interpreted verbally, as in *square* $x$, take half then *subtract* from\n  one. This can give clarity to what the function does.\n\n* It can be thought of in terms of its properties: a polynomial, continuous, $U$-shaped, an approximation for $\\cos(x)$ near $0$, $\\dots$\n\n* it can be visualized graphically. This is useful for seeing the qualitative behaviour of a function.\n\n\n\nThe graph of a univariate function is just a set of points in the\nCartesian plane. These points come from the relation $(x,f(x))$ that\ndefines the function. Operationally, a sketch of the graph will\nconsider a handful of such pairs and then the rest of the points will\nbe imputed.\n\nFor example, a typical approach to plot $f(x) = 1 - x^2/2$ would be to choose some values for $x$ and find the corresponding values of $y$. This might be organized in a \"T\"-table:\n\n```\n x | y\n--------\n-2 |  -1\n-1 |  1/2\n 0 |   1\n 1 |  1/2\n 2 |  -1\n 3 | -7/2\n```\n\nThese pairs would be plotted in a Cartesian plane and then connected with curved lines. A good sketch is aided by knowing ahead of time that this function describes a parabola which is curving downwards.\n\nIt is important to note that this sketch would not include *all* the pairs $(x,f(x))$, as their extent is infinite.\n\n## Graphing a function with Julia\n\n`Julia` has several different options for rendering graphs, all in\nexternal packages. We will focus in these notes on the `Plots`\npackage, which provides a common interface to several different\nplotting backends.\n\nAs such, we begin by loading the accompanying `CalculusWithJulia` package and  the `Plots` package."
      ],
      "metadata": {}
    },
    {
      "outputs": [],
      "cell_type": "code",
      "source": [
        "using CalculusWithJulia\nusing Plots"
      ],
      "metadata": {},
      "execution_count": null
    },
    {
      "outputs": [],
      "cell_type": "code",
      "source": [
        "note(\"\"\"\n`Plots` is a frontend for one of several backends. `Plots` comes with a backend for web-based graphics (call `plotly()` to specify that); a backend for static graphs (call `gr()` for that). If the `PyPlot` package is installed, calling `pyplot()` with set that as a backend. For terminal usage, if the `UnicodePlots` package is installed, calling `unicodeplots()` will enable that usage.\"\"\")"
      ],
      "metadata": {},
      "execution_count": null
    },
    {
      "cell_type": "markdown",
      "source": [
        "The `plotly` backend is part of the `Plots` package. Other backends require installation. Some others are `pyplot`, for the `PyPlot` package; `gr`, for the `GR` package, `plotlyjs`, for an enhanced Plotly backend through `PlotlyJS`.\n\nWe use a mix in these notes: `plotly` for a default, as it has interactive graphics; `gr` for some static graphs; and `pyplot` for plotting surfaces. Just using `pyplot` is an option for all the plots.\n\"\"\")\n\n```\n\n\nWith `Plots` loaded, it is straightforward to graph a function.\n\nFor example, to graph $f(x) = 1 - x^2/2$ over the interval $[-3,3]$ we have:"
      ],
      "metadata": {}
    },
    {
      "outputs": [],
      "cell_type": "code",
      "source": [
        "f(x) = 1 - x^2/2\nplot(f, -3, 3)"
      ],
      "metadata": {},
      "execution_count": null
    },
    {
      "cell_type": "markdown",
      "source": [
        "The `plot` command does the hard work behind the scenes. It needs 2 pieces of information:\n\n* **What** to plot. With this invocation, this detail is expressed by passing a function object to `plot`\n\n* **Where** to plot. As with a sketch, it is impossible in this case to\n  render a graph with all possible $x$ values in the domain of $f$, so\n  we need to pick some viewing window. In the example this is $[-3,3]$\n  which is expressed by passing the two endpoints as the second and\n  third arguments.\n\nPlotting a function is then this simple: `plot(f, a, b)`.\n\n> *A basic template:* Many operations we meet will take the form\n> `action(function, args...)`, as the call to `plot` does. The\n> template shifts the focus to the action to be performed. This is a\n> [declarative](http://en.wikipedia.org/wiki/Declarative_programming)\n> style, where the details to execute the action are only exposed as\n> needed.\n\nTo see some other graphs, we can plot the `sin` function over one period with:"
      ],
      "metadata": {}
    },
    {
      "outputs": [],
      "cell_type": "code",
      "source": [
        "plot(sin, 0, 2pi)"
      ],
      "metadata": {},
      "execution_count": null
    },
    {
      "cell_type": "markdown",
      "source": [
        "We can make a graph of $f(x) = (1+x^2)^{-1}$ over $[-3,3]$ with"
      ],
      "metadata": {}
    },
    {
      "outputs": [],
      "cell_type": "code",
      "source": [
        "f(x) = 1 / (1 + x^2)\nplot(f, -3, 3)"
      ],
      "metadata": {},
      "execution_count": null
    },
    {
      "cell_type": "markdown",
      "source": [
        "Or a graph of $f(x) = e^{-x^2/2}$ over $[-2,2]$ with:"
      ],
      "metadata": {}
    },
    {
      "outputs": [],
      "cell_type": "code",
      "source": [
        "f(x) = exp(-x^2/2)\nplot(f, -2, 2)"
      ],
      "metadata": {},
      "execution_count": null
    },
    {
      "cell_type": "markdown",
      "source": [
        "We could skip the first step of defining a function by using an *anonymous function* instead. For example, to plot $f(x) = \\cos(x) - x$ over $[0, \\pi/2]$ we could do:"
      ],
      "metadata": {}
    },
    {
      "outputs": [],
      "cell_type": "code",
      "source": [
        "plot(x -> cos(x) - x, 0, pi/2)"
      ],
      "metadata": {},
      "execution_count": null
    },
    {
      "outputs": [],
      "cell_type": "code",
      "source": [
        "note(\"\"\"\n\nThe function object in the general pattern `action(function, args...)`\nis commonly specified in one of three ways: by a name, as with `f`; as an\nanonymous function; or as the return value of some other action\nthrough composition.\n\n\"\"\")"
      ],
      "metadata": {},
      "execution_count": null
    },
    {
      "cell_type": "markdown",
      "source": [
        "Making a graph with `Plots` is easy, but producing a graph that is\ninformative can be a challenge, as the choice of a viewing window can\nmake a big difference in what is seen. For example, trying to make a\ngraph of $f(x) = \\tan(x)$, as below, will result in a bit of a mess below - the\nchosen viewing window crosses several places where the function blows up:"
      ],
      "metadata": {}
    },
    {
      "outputs": [],
      "cell_type": "code",
      "source": [
        "f(x) = tan(x)\nplot(f, -10, 10)"
      ],
      "metadata": {},
      "execution_count": null
    },
    {
      "cell_type": "markdown",
      "source": [
        "Though this graph shows the asymptote structure and periodicity, it\ndoesn't give much insight into each period or even into the fact that\nthe function is periodic.\n\n## The details of graph making\n\nThe actual details of making a graph of $f$ over $[a,b]$ are pretty simple and follow the steps in making a \"T\"-table:\n\n* A set of $x$ values are created between $a$ and $b$.\n\n* A corresponding set of $y$ values are created.\n\n* The pairs $(x,y)$ are plotted as points and connected with straight lines.\n\nThe only real difference is that when drawing by hand, we might know\nto curve the lines connecting points based on an analysis of the\nfunction. As `Julia` doesn't consider this, the points are connected\nwith straight lines like a dot-to-dot puzzle.\n\nWe can use `range` to create the $x$ values and broadcasting to create the $y$ values.\n\nFor example, if we were to plot $f(x) = \\sin(x)$ over $[0,2\\pi]$ using $10$ points, we might do:"
      ],
      "metadata": {}
    },
    {
      "outputs": [],
      "cell_type": "code",
      "source": [
        "f(x) = sin(x)\nxs = range(0, 2pi, length=10)\nys = f.(xs)"
      ],
      "metadata": {},
      "execution_count": null
    },
    {
      "cell_type": "markdown",
      "source": [
        "Finally, to plot the set of points and connect with lines. If the collection of points are specified in place of a function, the graph is produced:"
      ],
      "metadata": {}
    },
    {
      "outputs": [],
      "cell_type": "code",
      "source": [
        "plot(xs, ys)"
      ],
      "metadata": {},
      "execution_count": null
    },
    {
      "cell_type": "markdown",
      "source": [
        "This plots the points as pairs and then connects them in order using\nstraight lines. Basically, it creates a dot-to-dot graph. The above\ngraph looks primitive, as it doesn't utilize enough points. A\nsolution might be to just use more than 10 points. In `Plots` an\nalgorithm is utilized that adds more points when the function is more\n\"curvy\" and uses fewer points when it is \"straighter.\"\n\n#### NaN values\n\n\nAt times it is not desirable to draw lines between each succesive\npoint. For example, if there is a discontinuity in the function or if\nthere were a vertical asymptote, such as what happens at $0$ with\n$1/x$. There is a convention that if the $y$ value for a point is\n`NaN` that no lines will connect. This is convenient in many cases,\nthough not with $1/x$ as `1/0` is `Inf` and not `NaN`. (Unlike `0/0`\nwhich is NaN.)\n\nHere is one way to plot $f(x) = 1/x$ over $[-1,1]$:"
      ],
      "metadata": {}
    },
    {
      "outputs": [],
      "cell_type": "code",
      "source": [
        "f(x) = 1/x\nxs = range(-1, 1, length=251)\nys = f.(xs)\nys[xs .== 0.0] .= NaN\nplot(xs, ys)"
      ],
      "metadata": {},
      "execution_count": null
    },
    {
      "cell_type": "markdown",
      "source": [
        "By using an odd number of points, we should have that $0.0$ is amongst the `xs`. The next to last line replaces the $y$ value that would be infinite with `NaN`.\n\nAlternatively, you might modify the function itself to return `NaN` for values close to $0$:"
      ],
      "metadata": {}
    },
    {
      "outputs": [],
      "cell_type": "code",
      "source": [
        "g(x) = abs(x) < .05 ? NaN : f(x)\nplot(g, -1, 1)"
      ],
      "metadata": {},
      "execution_count": null
    },
    {
      "cell_type": "markdown",
      "source": [
        "##### Example: Reflections\n\nThe graph of a function may be reflected through a line, as those seen with a mirror. For example, a reflection through the $y$ axis takes a point $(x,y)$ to the point $(-x, y)$. We can easily see this graphically, when we have sets of $x$ and $y$ values through a judiciously placed minus sign.\n\nFor example, to plot $\\sin(x)$ over $(-\\pi,\\pi)$ we might do:"
      ],
      "metadata": {}
    },
    {
      "outputs": [],
      "cell_type": "code",
      "source": [
        "xs = range(-pi, pi, length=100)\nys = sin.(xs)\nplot(xs, ys)"
      ],
      "metadata": {},
      "execution_count": null
    },
    {
      "cell_type": "markdown",
      "source": [
        "To reflect this graph through the $y$ axis, we only need to plot `-xs` and not `xs`:"
      ],
      "metadata": {}
    },
    {
      "outputs": [],
      "cell_type": "code",
      "source": [
        "plot(-xs, ys)"
      ],
      "metadata": {},
      "execution_count": null
    },
    {
      "cell_type": "markdown",
      "source": [
        "Looking carefully we see there is a difference. (How?)\n\nThere are four common reflections discussed:\n\n- reflection through the $y$-axis takes $(x,y)$ to $(-x, y)$.\n\n- reflection through the $x$-axis takes $(x,y)$ to $(x, -y)$.\n\n- reflection through the origin takes $(x,y)$ to $(-x, -y)$.\n\n- reflection through the line $y=x$ takes $(x,y)$ to $(y,x)$.\n\nFor the $\\sin(x)$ graph, we see that reflecting through the $x$ axis\nproduces the same graph as reflecting through the $y$ axis:"
      ],
      "metadata": {}
    },
    {
      "outputs": [],
      "cell_type": "code",
      "source": [
        "plot(xs, -ys)"
      ],
      "metadata": {},
      "execution_count": null
    },
    {
      "cell_type": "markdown",
      "source": [
        "However, reflecting through the origin leaves this graph unchanged:"
      ],
      "metadata": {}
    },
    {
      "outputs": [],
      "cell_type": "code",
      "source": [
        "plot(-xs,  -ys)"
      ],
      "metadata": {},
      "execution_count": null
    },
    {
      "cell_type": "markdown",
      "source": [
        "> An *even function* is one where reflection through the $y$ axis\n> leaves the graph unchanged. That is, $f(-x) = f(x)$.  An *odd function*\n> is one where a reflection through the origin leaves the\n> graph unchanged, or symbolically $f(-x) = -f(x)$.\n\n\nIf we try reflecting the graph of $\\sin(x)$ through the line $y=x$, we have:"
      ],
      "metadata": {}
    },
    {
      "outputs": [],
      "cell_type": "code",
      "source": [
        "plot(ys, xs)"
      ],
      "metadata": {},
      "execution_count": null
    },
    {
      "cell_type": "markdown",
      "source": [
        "This is the graph of the equation $x = \\sin(y)$, but is not the graph of a function as the same $x$ can map to more than one $y$ value. (The new graph does not pass the \"vertical line\" test.)\n\n\n\nHowever, for the sine function we can get a function from this reflection if we choose a narrower viewing window:"
      ],
      "metadata": {}
    },
    {
      "outputs": [],
      "cell_type": "code",
      "source": [
        "xs = range(-pi/2, pi/2, length=100)\nys = [sin(x) for x in xs]\nplot(ys, xs)"
      ],
      "metadata": {},
      "execution_count": null
    },
    {
      "cell_type": "markdown",
      "source": [
        "The graph is that of the \"inverse function\" for $\\sin(x), x \\text{ in } [-\\pi/2, \\pi/2]$.\n\n## Layers\n\nGraphing more than one function over the same viewing window is often\ndesirable. This is easily done in `Plots` by specifying a vector of\nfunctions as the first argument to `plot` instead of a single function\nobject. The notation is `[f1, f2, ..., fn]`. For example, to see that\nthe polynomial and the cosine function are \"close\" near $0$, we can\nplot *both* $\\cos(x)$ and the function $f(x) = 1 - x^2/2$ over\n$[-\\pi/2,\\pi/2]$:"
      ],
      "metadata": {}
    },
    {
      "outputs": [],
      "cell_type": "code",
      "source": [
        "f(x) = 1 - x^2/2\nplot(cos, -pi/2, pi/2)\nplot!(f, -pi/2, pi/2)"
      ],
      "metadata": {},
      "execution_count": null
    },
    {
      "cell_type": "markdown",
      "source": [
        "The vector `[cos, f]` is comprised of function objects and not function calls, such as `cos(x)`.\n\n\nAnother useful function to add to a plot is one to highlight the $x$\naxis. This makes identifying zeros of the function easier. The\nanonymous function `x->0` will do this. But, perhaps less cryptically,\nso will the function `zero`. For example"
      ],
      "metadata": {}
    },
    {
      "outputs": [],
      "cell_type": "code",
      "source": [
        "f(x) = x^5 - x + 1\nplot(f, -1.5, 1.4)\nplot!(zero, -1.5, 1.4)"
      ],
      "metadata": {},
      "execution_count": null
    },
    {
      "cell_type": "markdown",
      "source": [
        "### Adding layers explicitly\n\nIt can be useful at times to create these layers one by one. This\nmight better match the workflow. As well, it affords the possibility\nof different kinds of layers.\n\nTo redo the previous plot adding first the graph of the function `f` and then the function `zero`, we have:"
      ],
      "metadata": {}
    },
    {
      "outputs": [],
      "cell_type": "code",
      "source": [
        "plot(f, -1.5, 1.4)\nplot!(zero, -1.5, 1.4)"
      ],
      "metadata": {},
      "execution_count": null
    },
    {
      "cell_type": "markdown",
      "source": [
        "The `plot!` call adds a layer. We still specify the limits for the plot, though this *could* be computed from the figure. (If using `SimplePlots` or `Makie` with `CalculusWithJulia` this will be the case.)\n\n\nFor another example, suppose we wish to plot the function $f(x)=x\\cdot(x-1)$\nover the interval $[-1,2]$ and emphasize with points the fact that $0$\nand $1$ are zeros. We can do this with two layers: the first to graph\nthe function, the second to graph the points."
      ],
      "metadata": {}
    },
    {
      "outputs": [],
      "cell_type": "code",
      "source": [
        "f(x) = x*(x-1)\nplot(f, -1, 2)\nscatter!([0,1], [0,0])"
      ],
      "metadata": {},
      "execution_count": null
    },
    {
      "cell_type": "markdown",
      "source": [
        "The 3 main functions for adding layers are:\n\n* `plot!(f, a, b)` to add the graph of the function `f`\n* `scatter!(xs, ys)` to add points $(xs_1, ys_1), (xs_2, ys_2), \\dots$.\n* `annotate!((x,y, label))` to add a label at $(x,y)$"
      ],
      "metadata": {}
    },
    {
      "outputs": [],
      "cell_type": "code",
      "source": [
        "alert(\"\"\"\n\nJulia has a convention to use functions named with a `!` suffix to\nindicate that they mutate some object. In this case, the object is the\ncurrent graph, though it is implicit. Both `plot!`, `scatter!`, and\n`annotate!` (others too) do this by adding a layer.\n\n\"\"\")"
      ],
      "metadata": {},
      "execution_count": null
    },
    {
      "cell_type": "markdown",
      "source": [
        "### Additional arguments to modify a graphic\n\nThe `Plots` package provides many arguments for modifying a graphic, here we mention just a few:\n\n* `plot(..., title=\"main title\", xlab=\"x axis label\", ylab=\"y axis label\")`: add title and label information to a graphic\n* `plot(..., color=\"green\")`: this argument can be used to adjust the color of the drawn figure (color can be a string,`\"green\"`, or a symbol, `:green`)\n* `plot(..., linewidth=5)`: this argument can be used to adjust the width of drawn lines\n* `plot(..., xlims=(a,b), ylims=(c,d)`: either or both `xlims` and `ylims` can be used to control the viewing window\n* `plot(..., legend=false)`: by default, different layers will be indicated with a legend, this will turn off this feature\n* `plot(..., linestyle=:dash)`: will change the line style of the plotted lines to dashed lines. Also `:dot`, ...\n* `plot(..., aspect_ratio=:equal)`: will keep $x$ and $y$ axis on same scale so that squares look square.\n\nFor plotting points with `scatter` or `scatter!` the markers can be adjusted via\n\n* `scatter(..., markersize=5)`: increase marker size\n* `scatter(..., marker=:square)`: change the marker (uses a symbol, not a string to specify)\n\nOf course, zero, one or more of these can be used on any given call to `plot`, `plot!`, `scatter` or `scatter!`.\n\n\n\n## Parametric graphs\n\nIf we have two functions $f(x)$ and $g(x)$ there are a few ways to\ninvestigate their joint behaviour. As just mentioned, we can graph\nboth $f$ and $g$ over the same interval by passing the vector of\nfunctions `[f,g]` to `plot`. Such a graph allows an easy comparison of\nthe shape of the two functions and can be useful in solving $f(x) =\ng(x)$. For the latter, the graph of $h(x) = f(x) - g(x)$ is also of\nvalue: solutions to $f(x)=g(x)$ appear as crossing points on the graph\nof `[f,g]`, whereas they appear as zeros (crossings of the $x$-axis)\nwhen `h` is plotted.\n\nA different graph can be made to compare the two side-by-side. This is\na parametric plot. Rather than plotting points $(x,f(x))$ and\n$(x,g(x))$ with two separate graphs, the graph consists of points\n$(f(x), g(x))$. We illustrate with some examples below:\n\n##### Example\n\nThe most \"famous\" parametric graph is one we are already familiar with, as it follows the parametrization of points on the unit circle by the angle, which we denote by `x`:"
      ],
      "metadata": {}
    },
    {
      "outputs": [],
      "cell_type": "code",
      "source": [
        "f(x) = cos(x); g(x) = sin(x)\nxs = range(0, 2pi, length=100)\nplot(f.(xs), g.(xs))"
      ],
      "metadata": {},
      "execution_count": null
    },
    {
      "cell_type": "markdown",
      "source": [
        "Any point $(a,b)$ on this graph is represented by $(\\cos(x), \\sin(x))$\nfor some value of $x$, and in fact multiple values of $x$, since $x +\n2k\\pi$ will produce the same $(a,b)$ value as $x$ will.\n\nMaking the parametric plot is similar to creating a plot using lower\nlevel commands. There is a function to generate a sequence of value to\napproximate the $x$ values used (`xs`), a set of commands to create\nthe corresponding function values (e.g., `f.(xs)`), and some\ninstruction on how to represent the values, in this case with lines\nconnecting the points.\n\nThere is a convenience interface for these plots - just pass the two functions in:"
      ],
      "metadata": {}
    },
    {
      "outputs": [],
      "cell_type": "code",
      "source": [
        "plot(f, g, 0, 2pi)"
      ],
      "metadata": {},
      "execution_count": null
    },
    {
      "cell_type": "markdown",
      "source": [
        "##### Example\n\nLooking at growth. Comparing $x^2$ with $x^3$ can run into issues, as the scale gets big:"
      ],
      "metadata": {}
    },
    {
      "outputs": [],
      "cell_type": "code",
      "source": [
        "g(x) = x^2\nf(x) = x^3\nplot(g, 0, 25)\nplot!(f, 0, 25)"
      ],
      "metadata": {},
      "execution_count": null
    },
    {
      "cell_type": "markdown",
      "source": [
        "In the above, $f$ is already $25$ times larger on the scale of $[0,25]$\nand this only gets worse if the viewing window were to get\nlarger. However, the parametric graph is quite different:"
      ],
      "metadata": {}
    },
    {
      "outputs": [],
      "cell_type": "code",
      "source": [
        "xs = range(0, 5, length=100)\nplot(g, f, 0, 25)"
      ],
      "metadata": {},
      "execution_count": null
    },
    {
      "cell_type": "markdown",
      "source": [
        "In this graph, as $f(x)/g(x) = x$, as $x$ gets large, the ratio stays reasonable.\n\n##### Example\n\nParametric plots are useful to compare the ratio of values near a\npoint. In the above example, we see how this is helpful for large\n`x`. This example shows it is convenient for a fixed `x`, in this case\n`x=0`.\n\nPlot $g(x) = x - \\sin(x)$ and $g(x) = x^3$ around $x=0$:"
      ],
      "metadata": {}
    },
    {
      "outputs": [],
      "cell_type": "code",
      "source": [
        "g(x) = x - sin(x)\nf(x) = x^3\nplot(g, f, -pi/2, pi/2)"
      ],
      "metadata": {},
      "execution_count": null
    },
    {
      "cell_type": "markdown",
      "source": [
        "This graph is *nearly* a straight line. At the point $(0,0)=(g(0),\nf(0))$, we see that both functions are behaving in a similar manner,\nthough the slope is not $1$, so they do not increase at exactly the\nsame rate.\n\n##### Example: Etch A Sketch\n\n[Etch A sketch](http://en.wikipedia.org/wiki/Etch_A_Sketch) is a\ndrawing toy where two knobs control the motion of a pointer, one\nknob controlling the $x$ motion, the other the $y$ motion. The trace\nof the movement of the pointer is recorded until the display is\ncleared by shaking. Shake to clear is now a motion incorporated by some smart-phone apps.\n\nPlaying with the toy makes a few things become clear:\n\n* Twisting just the left knob (the horizontal or $x$ motion) will move\n  the pointer left or right, leaving a horizontal\n  line. Parametrically, this would follow the equations $g(t) =\n  \\xi(t)$ for some $\\xi$ and $f(t) = 0$.\n\n* Twisting just the right knob (the vertical or $y$ motion) will move\n  the pointer up or down, leaving a vertical line.  Parametrically, this would follow the\n  equations $g(t) = 0$  and $f(t) = \\psi(t)$ for some $\\psi$.\n\n* Drawing a line with a slope different from $0$ or $\\infty$ requires\n  moving both knobs at the same time. A 45$^\\circ$ line with slope $m=1$\n  can be made by twisting both at the same rate, say through $g(t) =\n  ct$, $f(t)=ct$. It doesn't matter how big $c$ is, just that it is\n  the same for both $g$ and $f$. Creating a different slope is done by\n  twisting at different rates, say $g(t)=ct$ and $f(t)=dt$. The slope\n  of the resulting line will be $d/c$.\n\n* Drawing a curve is done by twisting the two knobs with varying rates.\n\nThese all apply to parametric plots, as the Etch A Sketch trace is no\nmore than a plot of $(g(t), f(t))$ over some range of values for $t$,\nwhere $g$ describes the movement in time of the left knob and $f$ the\nmovement in time of the right.\n\nNow, thinking about the last problem in the context of this, we saw in\nthe last problem that the parametric graph was nearly a line - so\nclose the eye can't really tell otherwise. That means that the rates\nof change in $t$ of both $g(t)=t - \\sin(t)$ and $f(t) = t^3$ for $t$ around\n$0$ are in a nearly fixed ratio, as otherwise the graph would have more\ncurve in it.\n\n##### Example: Spirograph\n\nParametric plots can describe a richer set of curves than can plots of\nfunctions. Plots of functions must pass the \"vertical-line test\", as\nthere can be at most one $y$ value for a given $x$ value. This is not\nso for parametric plots, as the circle example above shows. Plotting sines and cosines this\nway is the basis for the once popular\n[Spirograph](http://en.wikipedia.org/wiki/Spirograph#Mathematical_basis) toy. The curves\ndrawn there are parametric plots where the functions come from rolling\na smaller disc either around the outside or inside of a larger disc.\n\nHere is an example using a parameterization provided on the Wikipedia\npage where $R$ is the radius of the larger disc, $r$ the radius of the\nsmaller disc and $\\rho < r$ indicating the position of the pencil\nwithin the smaller disc."
      ],
      "metadata": {}
    },
    {
      "outputs": [],
      "cell_type": "code",
      "source": [
        "R, r, rho = 1, 1/4, 1/4\ng(t) = (R-r) * cos(t) + rho * cos((R-r)/r * t)\nf(t) = (R-r) * sin(t) - rho * sin((R-r)/r * t)\n\nplot(g, f, 0, max((R-r)/r, r/(R-r))*2pi)"
      ],
      "metadata": {},
      "execution_count": null
    },
    {
      "cell_type": "markdown",
      "source": [
        "In the above, one can fix $R=1$. Then different values for `r` and\n`rho` will produce different graphs. These graphs will be periodic if\n$(R-r)/r$ is a rational. (Nothing about these equations requires $\\rho < r$.)\n\n## Questions\n\n###### Question\n\nPlot the function $f(x) = x^3 - x$ over $[-2,2]$. How many zeros are there?"
      ],
      "metadata": {}
    },
    {
      "outputs": [],
      "cell_type": "code",
      "source": [
        "val = 3;\nnumericq(val, 1e-16)"
      ],
      "metadata": {},
      "execution_count": null
    },
    {
      "cell_type": "markdown",
      "source": [
        "###### Question\n\n\nPlot the function $f(x) = x^3 - x$. When is the function positive?"
      ],
      "metadata": {}
    },
    {
      "outputs": [],
      "cell_type": "code",
      "source": [
        "choices = [\"`(-Inf, -1)` and `(0,1)`\",\n\t\"`(-Inf, -0.577)` and `(0.577, Inf)`\",\n\t\"`(-1, 0)` and `(1, Inf)`\"\n\t];\nans=3;\nradioq(choices, ans)"
      ],
      "metadata": {},
      "execution_count": null
    },
    {
      "cell_type": "markdown",
      "source": [
        "###### Question\n\n\nPlot the function $f(x) = 3x^4 + 8x^3 - 18x^2$. Where (what $x$ value)\nis the smallest value? (That is, for which input $x$ is the output\n$f(x)$ as small as possible."
      ],
      "metadata": {}
    },
    {
      "outputs": [],
      "cell_type": "code",
      "source": [
        "f(x) = 3x^4 + 8x^3 - 18x^2\nval = -3;\nnumericq(val, 0.25)"
      ],
      "metadata": {},
      "execution_count": null
    },
    {
      "cell_type": "markdown",
      "source": [
        "###### Question\n\n\nPlot the function $f(x) = 3x^4 + 8x^3 - 18x^2$. When is the function increasing?"
      ],
      "metadata": {}
    },
    {
      "outputs": [],
      "cell_type": "code",
      "source": [
        "choices = [\"`(-Inf, -3)` and `(0, 1)`\",\n\t\"`(-3, 0)` and `(1, Inf)`\",\n\t\"`(-Inf, -4.1)` and `(1.455, Inf)`\"\n\t];\nans=2;\nradioq(choices, ans)"
      ],
      "metadata": {},
      "execution_count": null
    },
    {
      "cell_type": "markdown",
      "source": [
        "###### Question\n\n\nThe function $f(x) = (x^3 - 2x) / (2x^2 -10)$ is a rational function\nwith issues when $2x^2 = 10$, or $x = -\\sqrt{5}$ or $\\sqrt{5}$.\n\nPlot this function from $-5$ to $5$. How many times does it cross the $x$ axis?"
      ],
      "metadata": {}
    },
    {
      "outputs": [],
      "cell_type": "code",
      "source": [
        "val = 3;\nnumericq(val, .2)"
      ],
      "metadata": {},
      "execution_count": null
    },
    {
      "cell_type": "markdown",
      "source": [
        "###### Question\n\nA trash collection plan charges a flat rate of 35 dollars a month for\nthe first 10 bags of trash and is 4 dollars a bag thereafter. Which\nfunction will model this:"
      ],
      "metadata": {}
    },
    {
      "outputs": [],
      "cell_type": "code",
      "source": [
        "choices = [\n\"`f(x) = x <= 35.0 ? 10.0 : 10.0 + 35.0 * (x-4)`\",\n\"`f(x) = x <= 4    ? 35.0 : 35.0 + 10.0 * (x-4)`\",\n\"`f(x) = x <= 10   ? 35.0 : 35.0 +  4.0 * (x-10)`\"\n]\nans = 3\nradioq(choices, ans)"
      ],
      "metadata": {},
      "execution_count": null
    },
    {
      "cell_type": "markdown",
      "source": [
        "Make a plot of the model. Graphically estimate how many bags of trash will cost 55 dollars."
      ],
      "metadata": {}
    },
    {
      "outputs": [],
      "cell_type": "code",
      "source": [
        "ans = 15\nnumericq(ans, .5)"
      ],
      "metadata": {},
      "execution_count": null
    },
    {
      "cell_type": "markdown",
      "source": [
        "###### Question\n\nPlot the functions $f(x) = \\cos(x)$ and $g(x) = x$. Estimate the $x$ value of where the two graphs intersect."
      ],
      "metadata": {}
    },
    {
      "outputs": [],
      "cell_type": "code",
      "source": [
        "using Roots\nval = fzero(x -> cos(x) -x, .7)\nnumericq(val, .25)"
      ],
      "metadata": {},
      "execution_count": null
    },
    {
      "cell_type": "markdown",
      "source": [
        "###### Question\n\nGraphing both `f` and the line $y=0$ can be done through\n`[f, zero]`. This helps focus on the *zeros* of `f`. When\n`f(x)=log(x)-2`, plot `f` and the line $y=0$.  Identify the lone zero."
      ],
      "metadata": {}
    },
    {
      "outputs": [],
      "cell_type": "code",
      "source": [
        "val = fzero(x -> log(x) - 2, 8)\nnumericq(val, .5)"
      ],
      "metadata": {},
      "execution_count": null
    },
    {
      "cell_type": "markdown",
      "source": [
        "###### Question\n\nThe fact that only a finite number of points are used in a graph can\nintroduce artifacts. An example can appear when plotting\n[sinusoidal](http://en.wikipedia.org/wiki/Aliasing#Sampling_sinusoidal_functions)\nfunctions. An example is the graph of `f(x) = sin(500*pi*x)` over `[0,1]`.\n\nMake its graph using 250 evenly spaced points, as follows:"
      ],
      "metadata": {}
    },
    {
      "outputs": [],
      "cell_type": "code",
      "source": [
        "xs = range(0, 1, length=250)\nf(x) = sin(500*pi*x)\nplot(xs, f.(xs))"
      ],
      "metadata": {},
      "execution_count": null
    },
    {
      "outputs": [],
      "cell_type": "code",
      "source": [
        "choices = [L\"It oscillates wildly, as the period is $T=2\\pi/(500 \\pi)$ so there are 250 oscillations.\",\n\t\"It should oscillate evenly, but instead doesn't oscillate very much near 0 and 1\",\n\tL\"Oddly, it looks exactly like the graph of $f(x) = \\sin(2\\pi x)$.\"]\nans = 3\nradioq(choices, ans)"
      ],
      "metadata": {},
      "execution_count": null
    },
    {
      "cell_type": "markdown",
      "source": [
        "The algorithm to plot a function works to avoid aliasing issues. Does the graph generated by `plot(f, 0, 1)` look the same, as the one above?"
      ],
      "metadata": {}
    },
    {
      "outputs": [],
      "cell_type": "code",
      "source": [
        "choices = [\"Yes\",\n\"No, but is still looks pretty bad, as fitting 250 periods into a too small number of pixels is a problem.\",\n\"No, the graph shows clearly all 250 periods.\"\n]\nans = 2\nradioq(choices, ans)"
      ],
      "metadata": {},
      "execution_count": null
    },
    {
      "cell_type": "markdown",
      "source": [
        "###### Question\n\nThe *viewport* of a graph is the $x$-$y$ range of the viewing window.\nBy default, the $y$-part of the viewport is determined by the range of\nthe function over the specified interval $[a,b]$. For some functions\nthis can produce poor graphs, especially when there is a vertical\nasymptote. Here are two ways to restrict this with `Plots`:\n\n- Add an argument `ylims = (m, M)` where `m` and `M` are the min and maximum of the range you wish to show.\n\n- trim the $y$ values returned by the function so that if they are bigger than 10, say, they are not shown. For this, a function like the following can be useful:"
      ],
      "metadata": {}
    },
    {
      "outputs": [],
      "cell_type": "code",
      "source": [
        "function trimplot(f, a, b, c=20; kwargs...)\n   fn = x -> abs(f(x)) < c ? f(x) : NaN\n   plot(fn, a, b; kwargs...)\nend"
      ],
      "metadata": {},
      "execution_count": null
    },
    {
      "cell_type": "markdown",
      "source": [
        "(This is defined more robustly in the `CalculusWithJulia` package.)\n\nThe `trimplot` function would be used just like `plot`:"
      ],
      "metadata": {}
    },
    {
      "outputs": [],
      "cell_type": "code",
      "source": [
        "f(x) = 1/x\ntrimplot(f, -1, 1)"
      ],
      "metadata": {},
      "execution_count": null
    },
    {
      "cell_type": "markdown",
      "source": [
        "Compare the graph of the above with the graph without using `trimplot`. What would you say:"
      ],
      "metadata": {}
    },
    {
      "outputs": [],
      "cell_type": "code",
      "source": [
        "choices = [\"They appear the same, using `trimplot` just complicates things.\",\n           \"The trimmed graph is not influenced by the vertical asymptote at 0. It is a better graph.\",\n           \"There is an error when plotting `trimplot(f)`.\"]\nans = 2\nradioq(choices, ans)"
      ],
      "metadata": {},
      "execution_count": null
    },
    {
      "cell_type": "markdown",
      "source": [
        "###### Question\n\nMake this parametric plot for the specific values of the parameters `k` and `l`. What shape best describes it?"
      ],
      "metadata": {}
    },
    {
      "outputs": [],
      "cell_type": "code",
      "source": [
        "R, r, rho = 1, 3/4, 1/4\nf(t) = (R-r) * cos(t) + rho * cos((R-r)/r * t)\ng(t) = (R-r) * sin(t) - rho * sin((R-r)/r * t)\n\nplot(f, g, 0, max((R-r)/r, r/(R-r))*2pi, aspect_ratio=:equal)"
      ],
      "metadata": {},
      "execution_count": null
    },
    {
      "outputs": [],
      "cell_type": "code",
      "source": [
        "choices = [\n\"Four sharp points, like a star\",\n\"Four petals, like a flower\",\n\"An ellipse\",\n\"A straight line\"\n]\nans = 2\nradioq(choices, ans)"
      ],
      "metadata": {},
      "execution_count": null
    },
    {
      "cell_type": "markdown",
      "source": [
        "###### Question\n\nFor these next questions, we use this function:"
      ],
      "metadata": {}
    },
    {
      "outputs": [],
      "cell_type": "code",
      "source": [
        "function spirograph(R, r, rho)\n  f(t) = (R-r) * cos(t) + rho * cos((R-r)/r * t)\n  g(t) = (R-r) * sin(t) - rho * sin((R-r)/r * t)\n\n  plot(f, g, 0, max((R-r)/r, r/(R-r))*2pi, aspect_ratio=:equal)\nend"
      ],
      "metadata": {},
      "execution_count": null
    },
    {
      "cell_type": "markdown",
      "source": [
        "Make this plot for the following specific values of the parameters `R`, `r`, and `rho`. What shape best describes it?"
      ],
      "metadata": {}
    },
    {
      "outputs": [],
      "cell_type": "code",
      "source": [
        "R, r, rho = 1, 3/4, 1/4"
      ],
      "metadata": {},
      "execution_count": null
    },
    {
      "outputs": [],
      "cell_type": "code",
      "source": [
        "choices = [\n\"Four sharp points, like a star\",\n\"Four petals, like a flower\",\n\"An ellipse\",\n\"A straight line\",\n\"None of the above\"\n]\nans = 1\nradioq(choices, ans, keep_order=true)"
      ],
      "metadata": {},
      "execution_count": null
    },
    {
      "cell_type": "markdown",
      "source": [
        "Make this plot for the following specific values of the parameters `R`, `r`, and `rho`. What shape best describes it?"
      ],
      "metadata": {}
    },
    {
      "outputs": [],
      "cell_type": "code",
      "source": [
        "R, r, rho = 1, 1/2, 1/4"
      ],
      "metadata": {},
      "execution_count": null
    },
    {
      "outputs": [],
      "cell_type": "code",
      "source": [
        "choices = [\n\"Four sharp points, like a star\",\n\"Four petals, like a flower\",\n\"An ellipse\",\n\"A straight line\",\n\"None of the above\"\n]\nans = 3\nradioq(choices, ans,keep_order=true)"
      ],
      "metadata": {},
      "execution_count": null
    },
    {
      "cell_type": "markdown",
      "source": [
        "Make this plot for the specific values of the parameters `R`, `r`, and `rho`. What shape best describes it?"
      ],
      "metadata": {}
    },
    {
      "outputs": [],
      "cell_type": "code",
      "source": [
        "R, r, rho = 1, 1/4, 1"
      ],
      "metadata": {},
      "execution_count": null
    },
    {
      "outputs": [],
      "cell_type": "code",
      "source": [
        "choices = [\n\"Four sharp points, like a star\",\n\"Four petals, like a flower\",\n\"A circle\",\n\"A straight line\",\n\"None of the above\"\n]\nans = 2\nradioq(choices, ans, keep_order=true)"
      ],
      "metadata": {},
      "execution_count": null
    },
    {
      "cell_type": "markdown",
      "source": [
        "Make this plot for the specific values of the parameters `R`, `r`, and `rho`. What shape best describes it?"
      ],
      "metadata": {}
    },
    {
      "outputs": [],
      "cell_type": "code",
      "source": [
        "R, r, rho = 1, 1/8, 1/4"
      ],
      "metadata": {},
      "execution_count": null
    },
    {
      "outputs": [],
      "cell_type": "code",
      "source": [
        "choices = [\n\"Four sharp points, like a star\",\n\"Four petals, like a flower\",\n\"A circle\",\n\"A straight line\",\n\"None of the above\"\n]\nans = 5\nradioq(choices, ans, keep_order=true)"
      ],
      "metadata": {},
      "execution_count": null
    }
  ],
  "nbformat_minor": 2,
  "metadata": {
    "language_info": {
      "file_extension": ".jl",
      "mimetype": "application/julia",
      "name": "julia",
      "version": "1.5.0"
    },
    "kernelspec": {
      "name": "julia-1.5",
      "display_name": "Julia 1.5.0",
      "language": "julia"
    }
  },
  "nbformat": 4
}
