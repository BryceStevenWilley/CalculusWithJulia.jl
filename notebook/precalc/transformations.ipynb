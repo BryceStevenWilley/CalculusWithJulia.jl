{
  "cells": [
    {
      "cell_type": "markdown",
      "source": [
        "# Function manipulations"
      ],
      "metadata": {}
    },
    {
      "outputs": [],
      "cell_type": "code",
      "source": [
        "using CalculusWithJulia\nusing CalculusWithJulia.WeaveSupport\nusing Plots\nnothing"
      ],
      "metadata": {},
      "execution_count": null
    },
    {
      "cell_type": "markdown",
      "source": [
        "Thinking of functions as objects themselves that can be\nmanipulated - rather than just blackboxes for evaluation - is a major\nabstraction of calculus. The main operations to come: the limit *of a\nfunction*, the derivative *of a function*, and the integral *of a\nfunction* all operate on functions. Hence the idea of an\n[operator](http://tinyurl.com/n5gp6mf). Here we discuss manipulations of functions from pre-calculus that have proven\nto be useful abstractions.\n\n## The algebra of functions\n\nWe can talk about the algebra of functions. For example, the sum of functions $f$ and $g$ would be a function whose value at $x$ was just $f(x) + g(x)$. More formally, we would have:\n\n$$\n(f + g)(x) = f(x) + g(x),\n$$\n\nWe have given meaning to a new function $f+g$ by defining what is does\nto $x$ with the rule on the right hand side. Similarly, we can define\noperations for subtraction, multiplication, addition, and\npowers. These aren't defined in base `Julia`, though they could be if\ndesired, by a commands such as:"
      ],
      "metadata": {}
    },
    {
      "outputs": [],
      "cell_type": "code",
      "source": [
        "import Base: +\nf::Function + g::Function = x -> f(x) + g(x)"
      ],
      "metadata": {},
      "execution_count": null
    },
    {
      "cell_type": "markdown",
      "source": [
        "This adds a method to the generic `+` function for functions. The type annotations `::Function` ensure this applies only to functions. To see that it would work, we could do odd-looking things like:"
      ],
      "metadata": {}
    },
    {
      "outputs": [],
      "cell_type": "code",
      "source": [
        "(sin + sqrt)(4)"
      ],
      "metadata": {},
      "execution_count": null
    },
    {
      "cell_type": "markdown",
      "source": [
        "Doing this works, as Julia treats functions as first class objects,\nlending itself to\n[higher](https://en.wikipedia.org/wiki/Higher-order_programming) order\nprogramming. However, this definition in general is kind of limiting,\nas functions in mathematics and Julia can be much more varied than\njust the univariate functions we have defined addition for. We won't\npursue this further.\n\n## Composition of functions\n\nAs seen, just like with numbers, it can make sense mathematically to define addition,\nsubtraction, multiplication and division of functions. Unlike numbers though,\nwe can also define a new operation on functions called **composition**\nthat involves chaining the output of one function to the input of\nanother.  Composition is a common practice in life, where the result\nof some act is fed into another process. For example, making a pie\nfrom scratch involves first making a crust, then composing this with a\nfilling. A better abstraction might be how we \"surf\" the web. The\noutput of one search leads us to another search whose output then is a\ncomposition.\n\nMathematically, a composition of univariate functions $f$ and $g$ is\nwritten $f \\circ g$ and defined by what it does to a value in the\ndomain of $g$ by:\n\n$$\n(f \\circ g)(x) = f(g(x)).\n$$\n\nThe output of $g$ becomes the input of $f$.\n\nComposition depends on the order of things. There is no guarantee that\n$f \\circ g$ should be the same as $g \\circ f$. (Putting on socks then\nshoes is quite different from putting on shoes then socks.) Mathematically, we can see\nthis quite clearly with the functions $f(x) = x^2$ and $g(x) =\n\\sin(x)$. Algebraically we have:\n\n$$\n(f \\circ g)(x) = \\sin(x)^2, \\quad (g \\circ f)(x) = \\sin(x^2).\n$$\n\nThough they may be *typographically* similar don't be fooled, the following\ngraph shows that the two functions aren't even close except for $x$\nnear $0$ (for example, one composition is always non-negative, whereas\nthe other is not):"
      ],
      "metadata": {}
    },
    {
      "outputs": [],
      "cell_type": "code",
      "source": [
        "using CalculusWithJulia\nusing Plots\nf(x) = x^2\ng(x) = sin(x)\nfg = f ∘ g      # typed as f \\circ[tab] g\ngf = g ∘ f      # typed as g \\circ[tab] f\nplot(fg, -2, 2)\nplot!(gf, -2, 2)"
      ],
      "metadata": {},
      "execution_count": null
    },
    {
      "outputs": [],
      "cell_type": "code",
      "source": [
        "note(\"\"\"\n\nUnlike how the basic arithmetic operations are treated, `Julia` defines the infix\nUnicode operator `\\\\circ[tab]` to represent composition of functions,\nmirroring mathematical notation. It's use with generic functions is a bit\ncumbersome, as the operation returns an anonymous function. However, it\ncan be useful and will mirror standard mathematical usage up to issues\nwith precedence rules.)\n\n\"\"\")"
      ],
      "metadata": {},
      "execution_count": null
    },
    {
      "cell_type": "markdown",
      "source": [
        "Starting with two functions and composing them requires nothing more\nthan a solid grasp of knowing the rules of function evaluation. If\n$f(x)$ is defined by some rule involving $x$, then $f(g(x))$ just\nreplaces each $x$ in the rule with a $g(x)$.\n\nSo if $f(x) = x^2 + 2x - 1$ and $g(x) = e^x - x$ then $f \\circ g$ would be (before any simplification)\n\n$$\n(f \\circ g)(x) = (e^x - x)^2 + 2(e^x - x) - 1.\n$$\n\n\nHere we look at a few compositions:\n\n\n* The function $h(x) = \\sqrt{1 - x^2}$ can be seen as $f\\circ g$ with $f(x) = \\sqrt{x}$ and $g(x) = 1-x^2$.\n\n* The function $h(x) = \\sin(x/3 + x^2)$ can be viewed as $f\\circ g$ with $f(x) = \\sin(x)$ and $g(x) = x/3 + x^2$.\n\n* The function $h(x) = e^{-1/2 \\cdot x^2}$  can be viewed as $f\\circ g$ with $f(x) = e^{-x}$ and $g(x) = (1/2) \\cdot x^2$.\n\nDecomposing a function into a composition of functions is not unique,\nother compositions could have been given above. For example, the last\nfunction is also $f(x) = e^{-x/2}$ composed with $g(x) = x^2$."
      ],
      "metadata": {}
    },
    {
      "outputs": [],
      "cell_type": "code",
      "source": [
        "note(\"\"\"\nThe real value of composition is to break down more complicated things into a sequence of easier steps. This is good mathematics, but also good practice more generally. For example, when we approach a problem with the computer, we generally use a smallish set of functions and piece them together (that is, compose them) to find a solution.\n\"\"\")"
      ],
      "metadata": {},
      "execution_count": null
    },
    {
      "cell_type": "markdown",
      "source": [
        "## Shifting and scaling graphs\n\nIt is very useful to mentally categorize functions within\nfamilies. The difference between $f(x) = \\cos(x)$ and $g(x) =\n12\\cos(2(x - \\pi/4))$ is not that much - both are cosine functions,\none is just a simple enough transformation of the other. As such, we\nexpect bounded, oscillatory behaviour with the details of how large\nand how fast the oscillations are to depend on the specifics of\nfunction. Similarly, both these functions $f(x) = 2^x$ and $g(x)=e^x$\nbehave like exponential growth, the difference being only in the rate\nof growth. There are families of functions that are qualitatively\nsimilar, but quantitatively different, linked together by a few basic transformations.\n\nThere is a set of operations of functions, which does not really\nchange the type of function. Rather, it basically moves and stretches\nhow the functions are graphed. We discuss these four main transformations of $f$:"
      ],
      "metadata": {}
    },
    {
      "outputs": [],
      "cell_type": "code",
      "source": [
        "using DataFrames\nnms = [\"*vertical shifts*\",\"*horizontal shifts*\",\"*stretching*\",\"*scaling*\"]\nacts = [L\"The function $h(x) = k + f(x)$ will have the same graph as $f$ shifted up by $k$ units.\",\nL\"The function $h(x) = f(x - k)$ will have the same graph as $f$ shifted right by $k$ units.\",\nL\"The function $h(x) = kf(x)$ will have the same graph as $f$ stretched by a factor of $k$ in the $y$ direction.\",\nL\"The function $h(x) = f(kx)$ will have the same graph as $f$ compressed horizontally by a factor of $1$ over $k$.\"]\ntable(DataFrame(Transformation=nms, Description=acts))"
      ],
      "metadata": {},
      "execution_count": null
    },
    {
      "cell_type": "markdown",
      "source": [
        "The functions $h$ are derived from $f$ in a predictable way. To implement these transformations within `Julia`, we define operators (functions which transform one function into another). As these return functions, the function bodies are anonymous functions. The basic definitions are similar, save for the `x -> ...` part that signals the creation of an anonymous function to return:"
      ],
      "metadata": {}
    },
    {
      "outputs": [],
      "cell_type": "code",
      "source": [
        "up(f, k)       = x -> f(x) + k\nover(f, k)     = x -> f(x - k)\nstretch(f, k)  = x -> k * f(x)\nscale(f, k)    = x -> f(k * x)"
      ],
      "metadata": {},
      "execution_count": null
    },
    {
      "cell_type": "markdown",
      "source": [
        "To illustrate, let's define a hat-shaped function as follows:"
      ],
      "metadata": {}
    },
    {
      "outputs": [],
      "cell_type": "code",
      "source": [
        "f(x) = max(0, 1 - abs(x))\nplot(f, -2,2)"
      ],
      "metadata": {},
      "execution_count": null
    },
    {
      "cell_type": "markdown",
      "source": [
        "The same graph of $f$ and its image shifted up by 2 units would be given by:"
      ],
      "metadata": {}
    },
    {
      "outputs": [],
      "cell_type": "code",
      "source": [
        "plot(f, -2, 2)\nplot!(up(f, 2), -2, 2)"
      ],
      "metadata": {},
      "execution_count": null
    },
    {
      "cell_type": "markdown",
      "source": [
        "A graph of $f$ and its shift over by $2$ units would be given  by:"
      ],
      "metadata": {}
    },
    {
      "outputs": [],
      "cell_type": "code",
      "source": [
        "plot(f, -2, 4)\nplot!(over(f, 2), -2, 2)"
      ],
      "metadata": {},
      "execution_count": null
    },
    {
      "cell_type": "markdown",
      "source": [
        "A graph of $f$ and it being stretched by $2$ units would be given by:"
      ],
      "metadata": {}
    },
    {
      "outputs": [],
      "cell_type": "code",
      "source": [
        "plot(f, -2, 2)\nplot!(stretch(f, 2), -2, 2)"
      ],
      "metadata": {},
      "execution_count": null
    },
    {
      "cell_type": "markdown",
      "source": [
        "Finally, a graph of $f$ and it being scaled by $2$ would be given by:"
      ],
      "metadata": {}
    },
    {
      "outputs": [],
      "cell_type": "code",
      "source": [
        "plot(f, -2, 2)\nplot!(scale(f, 2), -2, 2)"
      ],
      "metadata": {},
      "execution_count": null
    },
    {
      "cell_type": "markdown",
      "source": [
        "Scaling by $2$ shrinks the non-zero domain, scaling by $1/2$ would\nstretch it. If this is not intuitive, the defintion `x-> f(x/c)` could\nhave been used, which would have opposite behaviour for scaling.\n\n----\n\nMore exciting is what happens if we combine these operations.\n\nA shift right by 2 and up by 1 is achieved through"
      ],
      "metadata": {}
    },
    {
      "outputs": [],
      "cell_type": "code",
      "source": [
        "plot(f, -2, 4)\nplot!(up(over(f,2), 1), -2, 4)"
      ],
      "metadata": {},
      "execution_count": null
    },
    {
      "cell_type": "markdown",
      "source": [
        "Shifting and scaling can be confusing. Here we graph `scale(over(f,2),1/3)`:"
      ],
      "metadata": {}
    },
    {
      "outputs": [],
      "cell_type": "code",
      "source": [
        "plot(f, -1,9)\nplot!(scale(over(f,2), 1/3), -1,9)"
      ],
      "metadata": {},
      "execution_count": null
    },
    {
      "cell_type": "markdown",
      "source": [
        "This graph is over by $6$ with a width of $3$ on each side of the center. Mathematically, we have $h(x) = f((1/3)\\cdot x - 2)$\n\n\nCompare this to the same operations in opposite order:"
      ],
      "metadata": {}
    },
    {
      "outputs": [],
      "cell_type": "code",
      "source": [
        "plot(f, -1, 5)\nplot(over(scale(f, 1/3), 2), -1, 5)"
      ],
      "metadata": {},
      "execution_count": null
    },
    {
      "cell_type": "markdown",
      "source": [
        "This graph first scales the symmetric graph, stretching from $-3$ to $3$, then shifts that right by $2$. The resulting function is $f((1/3)\\cdot (x-2))$.\n\nAs a last example, following up on the last example, a common transformation mathematically is\n\n$$\nh(x) = \\frac{1}{a}f(\\frac{x - b}{a}).\n$$\n\nWe can view this as a composition of \"scale\" by $1/a$, then  \"over\" by $b$,  and finally \"stretch\" by $1/a$:"
      ],
      "metadata": {}
    },
    {
      "outputs": [],
      "cell_type": "code",
      "source": [
        "a = 2; b = 5\nh(x) = stretch(over(scale(f, 1/a), b), 1/a)(x)\nplot(f, -1, 8)\nplot(h, -1, 8)"
      ],
      "metadata": {},
      "execution_count": null
    },
    {
      "cell_type": "markdown",
      "source": [
        "(This transformation keeps the same amount of area in the triangles, can you tell from the graph?)\n\n##### Example\n\nA model for the length of a day in New York City must take into\naccount periodic seasonal effects. A simple model might be a sine\ncurve. However, there would need to be many modifications: Obvious\nones would be that the period would need to be about $365$ days, the\noscillation around 12 and the amplitude of the oscillations no more\nthan 12.\n\nWe can be more precise. According to\n[dateandtime.info](http://dateandtime.info/citysunrisesunset.php?id=5128581)\nin 2015 the longest day will be June 21st when there will be 15h 5m\n46s of sunlight, the shortest day will be December 21st when there\nwill be 9h 15m 19s of sunlight. On January 1, there will be 9h 19m 44s\nof sunlight.\n\nA model for a transformed sine curve is\n\n$$\na + b\\sin(d(x - c))\n$$\n\nWhere $b$ is related to the amplitude, $c$ the shift and the period is $T=2\\pi/d$. We can find some of these easily from the above:"
      ],
      "metadata": {}
    },
    {
      "outputs": [],
      "cell_type": "code",
      "source": [
        "a = 12\nb = ((15 + 5/60 + 46/60/60) - (9 + 19/60 + 44/60/60)) / 2\nd = 2pi/365"
      ],
      "metadata": {},
      "execution_count": null
    },
    {
      "cell_type": "markdown",
      "source": [
        "If we let January 1 be $x=0$ then the first day of spring, March 21,\nis day 79 (`Date(2017, 3, 21) - Date(2017, 1, 1)`). This day aligns\nwith the shift of the sine curve.  This shift is 79:"
      ],
      "metadata": {}
    },
    {
      "outputs": [],
      "cell_type": "code",
      "source": [
        "c = 79"
      ],
      "metadata": {},
      "execution_count": null
    },
    {
      "cell_type": "markdown",
      "source": [
        "Putting this together, we have our graph is \"scaled\" by $d$, \"over\" by\n$c$, \"stretched\" by $b$ and \"up\" by $a$. Here we plot it over slightly more than one year so that we can see that the shortest day of light is in late December ($x \\approx -10$ or $x \\approx 355$)."
      ],
      "metadata": {}
    },
    {
      "outputs": [],
      "cell_type": "code",
      "source": [
        "newyork(t) = up(stretch(over(scale(sin, d), c), b), a)(t)\nplot(newyork, -20, 385)"
      ],
      "metadata": {},
      "execution_count": null
    },
    {
      "cell_type": "markdown",
      "source": [
        "To test, if we match up with the model powering\n[dateandtime.info](http://dateandtime.info/citysunrisesunset.php?id=5128581)\nwe note that it predicts \"15h 0m 4s\" on July 4, 2015. This is day 184\n(`Date(2015, 7, 4) - Date(2015, 1, 1)`). Our model prediction has a\ndifference of"
      ],
      "metadata": {}
    },
    {
      "outputs": [],
      "cell_type": "code",
      "source": [
        "datetime = 15 + 0/60 + 4/60/60\ndelta = (newyork(184) - datetime) * 60"
      ],
      "metadata": {},
      "execution_count": null
    },
    {
      "cell_type": "markdown",
      "source": [
        "This is off by a fair amount - almost 12 minutes. Clearly a trigonometric model, based on the assumption of circular motion of the earth around the sun, is not accurate enough for precise work.\n\n##### Example: the pipeline operator\n\nIn the last example, we described our sequence as scale, over,\nstretch, and up, but code this in reverse order, as the composition $f\n\\circ g$ is done from right to left. A more convenient notation would\nbe to have syntax that allows the composition of $g$ then $f$ to be\nwritten $x \\rightarrow g \\rightarrow f$. `Julia` provides the\n[pipeline](http://julia.readthedocs.org/en/latest/stdlib/base/#Base.|>)\noperator for chaining function calls together.\n\nFor example, if $g(x) = \\sqrt{x}$ and $f(x) =\\sin(x)$ we could call $f(g(x))$ through:"
      ],
      "metadata": {}
    },
    {
      "outputs": [],
      "cell_type": "code",
      "source": [
        "g(x) = sqrt(x)\nf(x) = sin(x)\npi/2 |> g |> f"
      ],
      "metadata": {},
      "execution_count": null
    },
    {
      "cell_type": "markdown",
      "source": [
        "The output of the preceding expression is passed as the input to the next.\nThis notation is especially convenient when the enclosing function is not the main focus.\n(Some programming languages have more developed [fluent interfaces](https://en.wikipedia.org/wiki/Fluent_interface) for chaining function calls. Julia has some macros provided in packages.)\n\n\n\n\n##### Example: a growth model in fisheries\n\nThe von Bertanlaffy growth\n[equation](http://www.fao.org/docrep/W5449e/w5449e05.htm) is\n$L(t) =L_\\infty \\cdot (1 - e^{k\\cdot(t-t_0)})$. This family of functions can\nbe viewed as a transformation of the exponential function $f(t)=e^t$.\nPart is a scaling and shifting (the $e^{k \\cdot (t - t_0)}$)\nalong with some shifting and stretching. The various parameters have\nphysical importance which can be measured: $L_\\infty$ is a carrying\ncapacity for the species or organism, and $k$ is a rate of growth. These\nparameters may be estimated from data by finding the \"closest\" curve\nto a given data set.\n\n\n## Operators\n\nThe functions `up`, `over`, etc. are operators that take a function as\nan argument and return a function. The use of operators fits in with\nthe template `action(f, args...)`. The action is what we are doing,\nsuch as `plot`, `over`, and others to come. The function `f` here is\njust an object that we are performing the action on. For example, a\nplot takes a function and renders a graph using the additional\narguments to select the domain to view, etc.\n\nCreating operators that return functions involves the use of anonymous\nfunctions, using these operators is relatively straightforward. Two basic patterns are\n\n- Storing the returned function, then calling it:"
      ],
      "metadata": {}
    },
    {
      "outputs": [],
      "cell_type": "code",
      "source": [
        "l(x) = action1(f, args...)(x)\nl(10)"
      ],
      "metadata": {},
      "execution_count": null
    },
    {
      "cell_type": "markdown",
      "source": [
        "- Composing two operators:"
      ],
      "metadata": {}
    },
    {
      "outputs": [],
      "cell_type": "code",
      "source": [
        "action2( action1(f, args..), other_args...)"
      ],
      "metadata": {},
      "execution_count": null
    },
    {
      "cell_type": "markdown",
      "source": [
        "Composition like the above is convenient, but can get confusing if more than one composition is involved.\n\n##### Example: two operators\n\n\n\n(See [Krill](http://arxiv.org/abs/1403.5821) for background on this example.) Consider two operations on functions. The first takes the *difference* between adjacent points. We call this `D`:"
      ],
      "metadata": {}
    },
    {
      "outputs": [],
      "cell_type": "code",
      "source": [
        "D(f::Function) = k -> f(k) - f(k-1)"
      ],
      "metadata": {},
      "execution_count": null
    },
    {
      "cell_type": "markdown",
      "source": [
        "To see that it works, we take a typical function and check:"
      ],
      "metadata": {}
    },
    {
      "outputs": [],
      "cell_type": "code",
      "source": [
        "f(k) = 1 + k^2\nD(f)(3), f(3) - f(3-1)"
      ],
      "metadata": {},
      "execution_count": null
    },
    {
      "cell_type": "markdown",
      "source": [
        "That the two are the same value is no coincidence. (Again, pause for a\nsecond to make sure you understand why `D(f)(3)` makes sense. If this\nis unclear, you could name the function `D(f)` and then call this with\na value of `3`.)\n\nNow we want a function to cumulatively *sum* the values $S(f)(k) =\nf(1) + f(2) + \\cdots + f(k-1) + f(k)$, as a function of $k$. Adding up\n$k$ terms is easy to do with a generator and the function `sum` to\nadd a vector of numbers:"
      ],
      "metadata": {}
    },
    {
      "outputs": [],
      "cell_type": "code",
      "source": [
        "S(f) = k -> sum(f(i) for i in 1:k)"
      ],
      "metadata": {},
      "execution_count": null
    },
    {
      "cell_type": "markdown",
      "source": [
        "To check if this works as expected, compare these two values:"
      ],
      "metadata": {}
    },
    {
      "outputs": [],
      "cell_type": "code",
      "source": [
        "S(f)(4), f(1) + f(2) + f(3) + f(4)"
      ],
      "metadata": {},
      "execution_count": null
    },
    {
      "cell_type": "markdown",
      "source": [
        "So one function adds, the other subtracts. Addition and subtraction\nare somehow inverse to each other so should \"cancel\" out. This holds\nfor these two operations as well, in the following sense: subtracting\nafter adding leaves the function alone:"
      ],
      "metadata": {}
    },
    {
      "outputs": [],
      "cell_type": "code",
      "source": [
        "k = 10    # some arbitrary value k >= 1\nD(S(f))(k), f(k)"
      ],
      "metadata": {},
      "execution_count": null
    },
    {
      "cell_type": "markdown",
      "source": [
        "Any positive integer value of `k` will give the same answer (up to\noverflow). This says the difference of the accumulation process is\njust the last value to accumulate.\n\nAdding after subtracting also leaves the function alone, save for a vestige of $f(0)$:"
      ],
      "metadata": {}
    },
    {
      "outputs": [],
      "cell_type": "code",
      "source": [
        "k=15\nS(D(f))(k),  f(k) - f(0)"
      ],
      "metadata": {},
      "execution_count": null
    },
    {
      "cell_type": "markdown",
      "source": [
        "That is the accumulation of differences is just the difference of the end values.\n\nThese two operations are discrete versions of the two main operations\nof calculus - the derivative and the integral. This relationship will\nbe known as the \"fundamental theorem of calculus.\"\n\n## Questions\n\n###### Question\n\nIf $f(x) = 1/x$ and $g(x) = x-2$, what is $g(f(x))$?"
      ],
      "metadata": {}
    },
    {
      "outputs": [],
      "cell_type": "code",
      "source": [
        "choices=[L\"1/(x-2)\", L\"1/x - 2\", L\"x - 2\", L\"-2\"]\nans = 2\nradioq(choices, ans)"
      ],
      "metadata": {},
      "execution_count": null
    },
    {
      "cell_type": "markdown",
      "source": [
        "###### Question\n\nIf $f(x) = e^{-x}$ and $g(x) = x^2$ and $h(x) = x-3$, what is $f \\circ g \\circ h$?"
      ],
      "metadata": {}
    },
    {
      "outputs": [],
      "cell_type": "code",
      "source": [
        "choices=[L\"e^{-x^2 - 3}\", L\"(e^x -3)^2\", L\"e^{-(x-3)^2}\", L\"e^x+x^2+x-3\"]\nans = 3\nradioq(choices, ans)"
      ],
      "metadata": {},
      "execution_count": null
    },
    {
      "cell_type": "markdown",
      "source": [
        "###### Question\nIf $h(x) = (f \\circ g)(x) = \\sin^2(x)$ which is  a possibility for $f$ and $g$:"
      ],
      "metadata": {}
    },
    {
      "outputs": [],
      "cell_type": "code",
      "source": [
        "choices = [L\"f(x)=x^2; \\quad g(x) = \\sin^2(x)\",\n\t   L\"f(x)=x^2; \\quad g(x) = \\sin(x)\",\n\t   L\"f(x)=\\sin(x); \\quad g(x) = x^2\"]\nans = 2\nradioq(choices, ans)"
      ],
      "metadata": {},
      "execution_count": null
    },
    {
      "cell_type": "markdown",
      "source": [
        "###### Question\nWhich function would have the same graph as the sine curve shifted over by 4 and up by 6?"
      ],
      "metadata": {}
    },
    {
      "outputs": [],
      "cell_type": "code",
      "source": [
        "choices = [L\"h(x) = 4 + \\sin(6x)\", L\"h(x) = 6 + \\sin(x + 4)\", L\"h(x) = 6 + \\sin(x-4)\", L\"h(x) = 6\\sin(x-4)\"]\nans = 3\nradioq(choices, 3)"
      ],
      "metadata": {},
      "execution_count": null
    },
    {
      "cell_type": "markdown",
      "source": [
        "###### Question\nLet $h(x) = 4x^2$ and $f(x) = x^2$. Which is **not** true:"
      ],
      "metadata": {}
    },
    {
      "outputs": [],
      "cell_type": "code",
      "source": [
        "choices = [L\"The graph of $h(x)$ is the graph of $f(x)$ stretched by a factor of 4\",\n\t   L\"The graph of $h(x)$ is the graph of $f(x)$ scaled by a factor of 2\",\n\t   L\"The graph of $h(x)$ is the graph of $f(x) shifted up by 4 units\"]\nans = 3\nradioq(choices, ans)"
      ],
      "metadata": {},
      "execution_count": null
    },
    {
      "cell_type": "markdown",
      "source": [
        "###### Question\n\nThe transformation $h(x) = (1/a) \\cdot f((x-b)/a)$ can be viewed in one sequence:"
      ],
      "metadata": {}
    },
    {
      "outputs": [],
      "cell_type": "code",
      "source": [
        "choices = [L\"scaling by $1/a$, then shifting by $b$, then stretching by $1/a$\",\n           L\"shifting by $a$, then scaling by $b$, and then scaling by $1/a$\",\n\t   L\"shifting by $a$, then scaling by $a$, and then scaling by $b$\" ]\nans=1\nradioq(choices, ans)"
      ],
      "metadata": {},
      "execution_count": null
    },
    {
      "cell_type": "markdown",
      "source": [
        "###### Question\n\nThis is the graph of a transformed sine curve."
      ],
      "metadata": {}
    },
    {
      "outputs": [],
      "cell_type": "code",
      "source": [
        "f(x) = 2*sin(pi*x)\np = plot(f, -2,2)"
      ],
      "metadata": {},
      "execution_count": null
    },
    {
      "cell_type": "markdown",
      "source": [
        "What is the period of the graph?"
      ],
      "metadata": {}
    },
    {
      "outputs": [],
      "cell_type": "code",
      "source": [
        "val = 2\nnumericq(val)"
      ],
      "metadata": {},
      "execution_count": null
    },
    {
      "cell_type": "markdown",
      "source": [
        "What is the amplitude of the graph?"
      ],
      "metadata": {}
    },
    {
      "outputs": [],
      "cell_type": "code",
      "source": [
        "val = 2\nnumericq(val)"
      ],
      "metadata": {},
      "execution_count": null
    },
    {
      "cell_type": "markdown",
      "source": [
        "What is the form of the function graphed?"
      ],
      "metadata": {}
    },
    {
      "outputs": [],
      "cell_type": "code",
      "source": [
        "choices = [\nL\"2 \\sin(x)\",\nL\"\\sin(2x)\",\nL\"\\sin(\\pi x)\",\nL\"2 \\sin(\\pi x)\"\n]\nans = 4\nradioq(choices, ans)"
      ],
      "metadata": {},
      "execution_count": null
    },
    {
      "cell_type": "markdown",
      "source": [
        "###### Question\n\nConsider this expression\n\n$$\n\\left(f(1) - f(0)\\right) + \\left(f(2) - f(1)\\right) + \\cdots + \\left(f(n) - f(n-1)\\right) =\n-f(0) + f(1) - f(1) + f(2) - f(2) + \\cdots + f(n-1) - f(n-1) + f(n) =\nf(n) - f(0).\n$$\n\nReferring to the definitions of `D` and `S` in the example on operators, which relationship does this support:"
      ],
      "metadata": {}
    },
    {
      "outputs": [],
      "cell_type": "code",
      "source": [
        "choices = [\nq\"D(S(f))(n) = f(n)\",\nq\"S(D(f))(n) = f(n) - f(0)\"\n]\nans = 2\nradioq(choices, ans, keep_order=true)"
      ],
      "metadata": {},
      "execution_count": null
    },
    {
      "cell_type": "markdown",
      "source": [
        "###### Question\n\nConsider this expression:\n\n$$\n\\left(f(1) + f(2) + \\cdots + f(n-1) + f(n)\\right) - \\left(f(1) + f(2) + \\cdots + f(n-1)\\right) = f(n).\n$$\n\nReferring to the definitions of `D` and `S` in the example on operators, which relationship does this support:"
      ],
      "metadata": {}
    },
    {
      "outputs": [],
      "cell_type": "code",
      "source": [
        "choices = [\nq\"D(S(f))(n) = f(n)\",\nq\"S(D(f))(n) = f(n) - f(0)\"\n]\nans = 1\nradioq(choices, ans, keep_order=true)"
      ],
      "metadata": {},
      "execution_count": null
    }
  ],
  "nbformat_minor": 2,
  "metadata": {
    "language_info": {
      "file_extension": ".jl",
      "mimetype": "application/julia",
      "name": "julia",
      "version": "1.5.0"
    },
    "kernelspec": {
      "name": "julia-1.5",
      "display_name": "Julia 1.5.0",
      "language": "julia"
    }
  },
  "nbformat": 4
}
