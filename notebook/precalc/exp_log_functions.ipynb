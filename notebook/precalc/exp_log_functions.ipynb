{
  "cells": [
    {
      "cell_type": "markdown",
      "source": [
        "# Exponential and logarithmic functions"
      ],
      "metadata": {}
    },
    {
      "outputs": [],
      "cell_type": "code",
      "source": [
        "using CalculusWithJulia\nusing CalculusWithJulia.WeaveSupport\nusing Plots\nnothing"
      ],
      "metadata": {},
      "execution_count": null
    },
    {
      "cell_type": "markdown",
      "source": [
        "The family of exponential functions is used to model growth and\ndecay. The family of logarithmic functions is defined here as the\ninverse of the exponential functions, but have reach far outside of that.\n\n\n## Exponential functions\n\nThe family of exponential functions is defined by\n$f(x) = a^x, -\\infty< x < \\infty$ and $a > 0$.\nFor $0 < a < 1$ these functions decay or decrease, for $a > 1$ the\nfunctions grow or increase, and if $a=1$ the function is constantly $1$.\n\nFor a given $a$, defining $a^n$ for positive integers is\nstraightforward, as it means multiplying $n$ copies of $a$. From this,\nthe key properties of exponents: $a^x \\cdot a^y = a^{x+y}$, and\n$(a^x)^y = a^{x \\cdot y}$ are immediate consequences. For $a \\neq 0$,\n$a^0$ is defined to be $1$. For positive, integer values of $n$, we\nhave $a^{-n} = 1/a^n$. For $n$ a positive integer, we can\ndefine $a^{1/n}$ to be the unique positive solution to $x^n=a$. And\nusing the key properties of exponents extend this to a definition of\n$a^x$ for any rational $x$.\n\nDefining $a^x$ for any real number requires some more sophisticated\nmathematics. One method is to use a\n[theorem](http://tinyurl.com/zk86c8r) that says a *bounded*\nmonotonically increasing sequence will converge. Then for $a > 1$ we\nhave if $q_n$ is a sequence of rational numbers increasing to $x$,\nthen $a^{q_n}$ will be a bounded sequence of increasing numbers, so\nwill converge to a number defined to be $a^x$. Something similar is\npossible for the $0 < a < 1$ case.\n\nThis definition can be done to ensure the rules of exponents hold for\n$a > 0$:\n\n$$~\na^{x + y} = a^x \\cdot a^y, \\quad (a^x)^y = a^{x \\cdot y}.\n~$$\n\n\nIn `Julia` these functions are implemented using `^` or for a base of\n$e$ through `exp(x)`. Here are some representative graphs:"
      ],
      "metadata": {}
    },
    {
      "outputs": [],
      "cell_type": "code",
      "source": [
        "using CalculusWithJulia\nusing Plots\nf1(x) = (1/2)^x\nf2(x) = 1^x\nf3(x) = 2^x\nf4(x) = exp(x)\na,b = -2, 2\np = plot(f1, a, b, legend=false)\nplot!(f2, a, b); plot!(f3, a, b); plot!(f4, a, b)"
      ],
      "metadata": {},
      "execution_count": null
    },
    {
      "cell_type": "markdown",
      "source": [
        "We see examples of some general properties:\n\n* The domain is all real $x$ and the range is all *positive* $y$\n  (provided $a \\neq 1$).\n* For $0 < a < 1$ the functions are monotonically decreasing.\n* For $a > 1$ the functions are monotonically increasing.\n* If $1 < a < b$ the and $x > 0$ we have $a^x < b^x$.\n\n\n##### Example\n\n[Continuously](http://tinyurl.com/gsy939y) compounded interest allows\nan initial amount $P_0$ to grow over time according to\n$P(t)=P_0e^{rt}$. Investigate the difference between investing $1,000$\ndollars in an account which earns $2$% as opposed to an account which\nearns $8$% over $20$ years.\n\nThe  $r$ in the formula is the interest rate, so $r=0.02$ or\n$r=0.08$. To compare the differences we have:"
      ],
      "metadata": {}
    },
    {
      "outputs": [],
      "cell_type": "code",
      "source": [
        "r2, r8 = 0.02, 0.08\nP0 = 1000\nt = 20\nP0 * exp(r2*t), P0 * exp(r8*t)"
      ],
      "metadata": {},
      "execution_count": null
    },
    {
      "cell_type": "markdown",
      "source": [
        "As can be seen, there is quite a bit of difference.\n\nIn 1494, [Pacioli](http://tinyurl.com/gsy939y) gave the \"Rule of 72\",\nstating that to find the number of years it takes an investment to\ndouble when continuously compounded one should divide the interest rate\ninto $72$.\n\nThis formula is not quite precise, but a rule of thumb, the number is\ncloser to $69$, but $72$ has many divisors which makes this an easy to\ncompute approximation. Let's see how accurate it is:"
      ],
      "metadata": {}
    },
    {
      "outputs": [],
      "cell_type": "code",
      "source": [
        "t2, t8 = 72/2, 72/8\nexp(r2*t2), exp(r8*t8)"
      ],
      "metadata": {},
      "execution_count": null
    },
    {
      "cell_type": "markdown",
      "source": [
        "So fairly close - after $72/r$ years the amount is $2.05...$ times more\nthan the initial amount.\n\n##### Example\n\n[Bacterial growth](https://en.wikipedia.org/wiki/Bacterial_growth) (to\nWikipedia) is the asexual reproduction, or cell division, of a\nbacterium into two daughter cells, in a process called binary\nfission. During the log phase \"the number of new bacteria appearing per\nunit time is proportional to the present population.\" The article\nstates that \"Under controlled conditions, *cyanobacteria* can double\ntheir population four times a day...\"\n\nSuppose an initial population of $P_0$ bacteria, a formula for the\nnumber after $n$ *hours* is $P(n) = P_0 2^{n/6}$ where $6 = 24/4$.\n\nAfter two days what multiple of the initial amount is present if\nconditions are appropriate?"
      ],
      "metadata": {}
    },
    {
      "outputs": [],
      "cell_type": "code",
      "source": [
        "n = 2 * 24\n2^(n/6)"
      ],
      "metadata": {},
      "execution_count": null
    },
    {
      "cell_type": "markdown",
      "source": [
        "That would be an enormous growth.  Don't worry: \"Exponential growth\ncannot continue indefinitely, however, because the medium is soon\ndepleted of nutrients and enriched with wastes.\"\n\n##### Example\n\nThe famous [Fibonacci](https://en.wikipedia.org/wiki/Fibonacci_number)\nnumbers are $1,1,2,3,5,8,13,\\dots$, where $F_{n+1}=F_n+F_{n-1}$. These numbers increase. To see how fast, if we *guess* that\nthe growth is evenually exponential and assume $F_n \\approx c \\cdot a^n$, then\nour equation is approximately $a^{n+1} = a^n + a^{n-1}$ which has solutions $a$\nsatisfying $a^2 - a -1 = 0$. The positve solution is\n$(1 + \\sqrt{5})/2\\approx 1.618$\n\nThat is evidence that the $F_n \\approx 1.618^n$. (See\n[Relation to golden ratio](https://en.wikipedia.org/wiki/Fibonacci_number#Relation_to_the_golden_ratio)\nfor a related, but more explicit exact formula.\n\n##### Example\n\nIn the previous example, the exponential family of functions is used\nto describe growth. Polynomial functions also increase. Could these be\nused instead? If so that would be great, as they are easier to reason\nabout.\n\nThe key fact is that exponential growth is much greater than\npolynomial growth. That is for large enough $x$ and for any fixed\n$a>1$ and positive integer $n$ it is true that $a^x \\gg x^n$.\n\nLater we will see an easy way to certify this statement.\n\n\n\n## Logarithmic functions: the inverse of exponential functions\n\nAs the exponential functions are strictly *decreasing* when $0 < a <\n1$ and strictly *increasing* when $a>1$, in both cases an inverse\nfunction will exist. (When $a=1$ the function is a constant and is not\none-to-one.) The domain of an exponential function is all real $x$ and\nthe range is all *positive* $x$, so these are switched around for the\ninverse function.\n\nThe inverse function will solve for $x$ in the equation $a^x = y$. The\nanswer, formally, is the logarithm base $a$, written $\\log_a(x)$.\n\nThat is $a^{\\log_a(x)} = x$ and $\\log_a(a^x) = x$ when defined.\n\n\nTo see how a logarithm is mathematically defined will have to wait,\nthough the family of functions - one for each $a>0$ - are implemented in `Julia` through the function\n`log(a,x)`. There are special cases requiring just one argument: `log(x)` will compute the natural\nlog, base $e$ - the inverse of $f(x) = e^x$; `log2(x)` will compute the\nlog base $2$ - the inverse of $f(x) = 2^x$; and `log10(x)` will compute\nthe log base $10$ - the inverse of $f(x)=10^x$.\n\nTo see this in an example, we plot for base $2$ the exponential\nfunction $f(x)=2^x$, its inverse, and the logarithm function with base\n$2$:"
      ],
      "metadata": {}
    },
    {
      "outputs": [],
      "cell_type": "code",
      "source": [
        "f(x) = 2^x\nxs = range(-2, stop=2, length=100)\nys = f.(xs)\nplot(xs, ys,  color=:blue, legend=false)  # plot f\nplot!(ys, xs, color=:red)                 # plot f^(-1)\nxs = range(1/4, stop=4, length=100)\nplot!(xs, log2.(xs), color=:green)        # plot log2"
      ],
      "metadata": {},
      "execution_count": null
    },
    {
      "cell_type": "markdown",
      "source": [
        "Though we made three graphs, only two are seen, as the graph of `log2`\nmatches that of the inverse function.\n\nNote that we needed a bit of care to plot the inverse function\ndirectly, as the domain of $f$ is *not* the domain of $f^{-1}$. Again, in\nthis case the domain of $f$ is all $x$, but the domain of $f^{-1}$ is only all *positive* $x$ values.\n\nKnowing that `log2` implements an inverse function allows us to solve\nmany problems involving doubling.\n\n\n##### Example\n\nAn [old](https://en.wikipedia.org/wiki/Wheat_and_chessboard_problem) story about doubling is couched in terms of doubling grains of wheat. To simplify the story, suppose each day an amount of grain is doubled. How many days of doubling will it take 1 grain to become 1 million grains?\n\nThe number of grains after one day is $2$, two days is $4$, three days\nis $8$ and so after $n$ days the number of grains is $2^n$. To answer\nthe question, we need to solve $2^x = 1,000,000$. The logarithm\nfunction yields 20 days (after rounding up):"
      ],
      "metadata": {}
    },
    {
      "outputs": [],
      "cell_type": "code",
      "source": [
        "log2(1_000_000)"
      ],
      "metadata": {},
      "execution_count": null
    },
    {
      "cell_type": "markdown",
      "source": [
        "##### Example\n\nThe half-life of a radioactive material is the time it takes for half the material to decay. Different materials have quite different half lives with some quite long, and others quite short. See [half lives](https://en.wikipedia.org/wiki/List_of_radioactive_isotopes_by_half-life) for some details.\n\nThe carbon 14 isotope is a naturally occurring isotope on Earth,\nappearing in trace amounts. Unlike Carbon 12 and 13 it decays, in this\ncase with a half life of 5730 years (plus or minus 40 years). In a\n[technique](https://en.wikipedia.org/wiki/Radiocarbon_dating) due to\nLibby, measuring the amount of Carbon 14 present in an organic item\ncan indicate the time since death. The amount of Carbon 14 at death is\nessentially that of the atmosphere, and this amount decays over\ntime. If roughly half the carbon 14 remains, then the death occurred\nabout 5730 years ago.\n\n\nA formula for the amount of carbon 14 remaining $t$ years after death would be $P(t) = P_0 \\cdot 2^{-t/5730}$.\n\nIf $1/10$ of the original carbon 14 remains, how old is the item? This amounts to solving $2^{-t/5730} = 1/10$. We have: $-t/5730 = \\log_2(1/10)$ or:"
      ],
      "metadata": {}
    },
    {
      "outputs": [],
      "cell_type": "code",
      "source": [
        "-5730 * log2(1/10)"
      ],
      "metadata": {},
      "execution_count": null
    },
    {
      "outputs": [],
      "cell_type": "code",
      "source": [
        "note(\"\"\"\n(Historically) Libby and James Arnold proceeded to test the radiocarbon dating theory by analyzing samples with known ages. For example, two samples taken from the tombs of two Egyptian kings, Zoser and Sneferu, independently dated to 2625 BC plus or minus 75 years, were dated by radiocarbon measurement to an average of 2800 BC plus or minus 250 years. These results were published in Science in 1949. Within 11 years of their announcement, more than 20 radiocarbon dating laboratories had been set up worldwide. Source: [Wikipedia](http://tinyurl.com/p5msnh6).\n\"\"\")"
      ],
      "metadata": {},
      "execution_count": null
    },
    {
      "cell_type": "markdown",
      "source": [
        "### Properties of logarithms\n\n\nThe basic graphs of logarithms ($a > 1$) are all similar, though as we see larger\nbases lead to slower growing functions, though all satisfy $\\log_a(1)\n= 0$:"
      ],
      "metadata": {}
    },
    {
      "outputs": [],
      "cell_type": "code",
      "source": [
        "plot(log2, 1/2, 10)           # base 2\nplot!(log, 1/2, 10)           # base e\nplot!(log10, 1/2, 10)         # base 10"
      ],
      "metadata": {},
      "execution_count": null
    },
    {
      "cell_type": "markdown",
      "source": [
        "Now, what do the properties of exponents imply about logarithms?\n\nConsider the sum $\\log_a(u) + \\log_a(v)$. If we raise $a$ to this\npower, we have using the powers of exponents and the inverse nature of\n$a^x$ and $\\log_a(x)$ that:\n\n$$~\na^{\\log_a(u) + \\log_a(v)} = a^{\\log_a(u)} \\cdot a^{\\log_a(v)} = u \\cdot v.\n~$$\n\nTaking $\\log_a$ of *both* sides yields $\\log_a(u) + \\log_a(v)=\\log_a(u\\cdot v)$. That is logarithms turn products into sums (of logs).\n\nSimilarly, the relation $(a^{x})^y =a^{x \\cdot y}, a > 0$s can be used to see that\n$\\log_a(b^x) = x \\cdot\\log_a(b)$. This follows, as applying $a^x$ to each side yields the\nsame answer.\n\nDue to inverse relationship between $a^x$ and $\\log_a(x)$ we have:\n\n$$~\na^{\\log_a(b^x)} = b^x.\n~$$\n\nDue to the rules of exponents, we have:\n\n$$~\na^{x \\log_a(b)} = a^{\\log_a(b) \\cdot x} = (a^{\\log_a(b)})^x = b^x.\n~$$\n\nFinally, since $a^x$ is one-to-one (when $a>0$ and $a \\neq 1$), if  $a^{\\log_a(b^x)}=a^{x \\log_a(b)}$ it must be that $\\log_a(b^x) = x \\log_a(b)$. That is, logarithms turn powers into products.\n\nFinally, we use the inverse property of logarithms and powers to show that logarithms can be defined for any base. Say $a, b > 0$. Then $\\log_a(x) = \\log_b(x)/\\log_b(a)$. Again, to verify this we apply $a^x$ to both sides to see we get the same answer:\n\n$$~\na^{\\log_a(x)} = x,\n~$$\n\nthis by the inverse property. Whereas, by expressing $a=b^{\\log_b(a)}$ we have:\n\n$$~\na^{(\\log_b(x)/\\log_b(b))} = (b^{\\log_b(a)})^{(\\log_b(x)/\\log_b(a))} =\nb^{\\log_b(a) \\cdot \\log_b(x)/\\log_b(a) } = b^{\\log_b(x)} = x.\n~$$\n\nIn short we have these three properties of logarithmic functions:\n\n> if $a,b$ are positive bases; $u,v$ are positive numbers; and $x$ is any real number then: 1) $\\log_a(uv) = \\log_a(u) + \\log_a(v)$, 2) $\\log_a(u^x) = x \\log_a(u)$, and  3) $\\log_a(u) = \\log_b(u)/\\log_b(a)$.\n\n##### Example\n\nBefore the ubiquity of electonic calculating devices, the need to\ncompute was still present. Ancient civilizations had abacuses to make\naddition easier. For multiplication and powers a [slide\nrule](https://en.wikipedia.org/wiki/Slide_rule) rule could be used.\nIt is easy to represent addition physically with two straight pieces\nof wood - just represent a number with a distance and align the two\npieces so that the distances are sequentially arranged. To multiply\nthen was as easy: represent the logarithm of a number with a distance\nthen add the logarithms. The sum of the logarithms is the logarithm of\nthe *product* of the original two values. Converting back to a number\nanswers the question. The conversion back and forth is done by simply\nlabeling the wood using a logartithmic scale. The slide rule was\n[invented](http://tinyurl.com/qytxo3e) soon after Napier's initial publication\non the logarithm in 1614.\n\n\n##### Example\n\nReturning to the Rule of 72, what should the exact number be?\n\nThe amount of time to double an investment that grows according to\n$P_0 e^{rt}$ solves $P_0 e^{rt} = 2P_0$ or $rt = \\log_2(2)$. So we get\n$t=\\log_2(2)/r$. As $\\log_2(2)$ is"
      ],
      "metadata": {}
    },
    {
      "outputs": [],
      "cell_type": "code",
      "source": [
        "log(2, 2)"
      ],
      "metadata": {},
      "execution_count": null
    },
    {
      "cell_type": "markdown",
      "source": [
        "We get the actual rule should be the \"Rule of $69.314...$\".\n\n## Questions\n\n###### Question\n\nSuppose ever $4$ days, a population doubles. If the population starts\nwith $2$ individuals, what is its size after $4$ weeks?"
      ],
      "metadata": {}
    },
    {
      "outputs": [],
      "cell_type": "code",
      "source": [
        "n = 4*7/4\nval = 2 * 2^n\nnumericq(val)"
      ],
      "metadata": {},
      "execution_count": null
    },
    {
      "cell_type": "markdown",
      "source": [
        "###### Question\n\nA bouncing ball rebounds to a height of $5/6$ of the previous peak\nheight. If the ball is droppet at a height of $3$ feet, how high will\nit bounce after $5$ bounces?"
      ],
      "metadata": {}
    },
    {
      "outputs": [],
      "cell_type": "code",
      "source": [
        "val = 3 * (5/6)^5\nnumericq(val)"
      ],
      "metadata": {},
      "execution_count": null
    },
    {
      "cell_type": "markdown",
      "source": [
        "###### Question\n\nWhich is bigger $e^2$ or $2^e$?"
      ],
      "metadata": {}
    },
    {
      "outputs": [],
      "cell_type": "code",
      "source": [
        "choices = [L\"e^2\", L\"2^e\"]\nans = e^2 - 2^e > 0 ? 1 : 2\nradioq(choices, ans)"
      ],
      "metadata": {},
      "execution_count": null
    },
    {
      "cell_type": "markdown",
      "source": [
        "###### Question\n\nWhich is bigger $\\log_8(9)$ or $\\log_9(10)$?"
      ],
      "metadata": {}
    },
    {
      "outputs": [],
      "cell_type": "code",
      "source": [
        "choices = [L\"\\log_8(9)\", L\"\\log_9(10)\"]\nans = log(8,9) > log(9,10) ? 1 : 2\nradioq(choices, ans)"
      ],
      "metadata": {},
      "execution_count": null
    },
    {
      "cell_type": "markdown",
      "source": [
        "###### Question\n\nIf $x$, $y$, and $z$ satisfy $2^x = 3^y$ and $4^y = 5^z$, what is the\nratio $x/z$?"
      ],
      "metadata": {}
    },
    {
      "outputs": [],
      "cell_type": "code",
      "source": [
        "choices = [\nL\"\\frac{\\log(2)\\log(3)}{\\log(5)\\log(4)}\",\nL\"2/5\",\nL\"\\frac{\\log(5)\\log(4)}{\\log(3)\\log(2)}\"\n]\nans = 1\nradioq(choices, ans)"
      ],
      "metadata": {},
      "execution_count": null
    },
    {
      "cell_type": "markdown",
      "source": [
        "###### Question\n\nDoes $12$ satisfy $\\log_2(x) + \\log_3(x) = \\log_4(x)$?"
      ],
      "metadata": {}
    },
    {
      "outputs": [],
      "cell_type": "code",
      "source": [
        "ans = log(2,12) + log(3,12) == log(4, 12)\nyesnoq(ans)"
      ],
      "metadata": {},
      "execution_count": null
    },
    {
      "cell_type": "markdown",
      "source": [
        "###### Question\n\nThe [Richter](https://en.wikipedia.org/wiki/Richter_magnitude_scale)\nmagnitude is determined from the logarithm of the amplitude of waves\nrecorded by seismographs (Wikipedia). The formula is $M=\\log(A) -\n\\log(A_0)$ where $A_0$ depends on the epicenter distance. Suppose an\nevent has $A=100$ and $A_0=1/100$. What is $M$?"
      ],
      "metadata": {}
    },
    {
      "outputs": [],
      "cell_type": "code",
      "source": [
        "A, A0 = 100, 1/100\nval = M = log(A) - log(A0)\nnumericq(val)"
      ],
      "metadata": {},
      "execution_count": null
    },
    {
      "cell_type": "markdown",
      "source": [
        "If the magnitude of one earthquake is $9$ and the magnitude of another\nearthquake is $7$, how many times stronger is $A$ if $A_0$ is the same\nfor each?"
      ],
      "metadata": {}
    },
    {
      "outputs": [],
      "cell_type": "code",
      "source": [
        "choices = [\"1000 times\", \"100 times\", \"10 times\", \"the same\"]\nans = 2\nradioq(choices, ans, keep_order=true)"
      ],
      "metadata": {},
      "execution_count": null
    },
    {
      "cell_type": "markdown",
      "source": [
        "###### Question\n\nThe [Loudest band](https://en.wikipedia.org/wiki/Loudest_band) can\npossibly be measured in [decibels](https://en.wikipedia.org/wiki/Decibel). In 1976 the Who recorded $126$\ndb and in 1986 Motorhead recorded $130$ db. Suppose both measurements\nrecord power through the formula $db = 10 \\log_10(P)$. What is the\nratio of the Motorhead $P$ to the $P$ for the Who?"
      ],
      "metadata": {}
    },
    {
      "outputs": [],
      "cell_type": "code",
      "source": [
        "db_who, db_motorhead = 126, 130\ndb2P(db) = 10^(db/10)\nP_who, P_motorhead = db2P.((db_who, db_motorhead))\nval = P_motorhead / P_who\nnumericq(val)"
      ],
      "metadata": {},
      "execution_count": null
    },
    {
      "cell_type": "markdown",
      "source": [
        "###### Question\n\nBased on this graph:"
      ],
      "metadata": {}
    },
    {
      "outputs": [],
      "cell_type": "code",
      "source": [
        "plot(log, 1/4, 4)\nf(x) = x - 1\nplot!(f, 1/4, 4)"
      ],
      "metadata": {},
      "execution_count": null
    },
    {
      "cell_type": "markdown",
      "source": [
        "Which statement appears to be true?"
      ],
      "metadata": {}
    },
    {
      "outputs": [],
      "cell_type": "code",
      "source": [
        "choices = [L\"x \\geq 1 + \\log(x)\", L\"x \\leq 1 + \\log(x)\"]\nans = 1\nradioq(choices, ans)"
      ],
      "metadata": {},
      "execution_count": null
    },
    {
      "cell_type": "markdown",
      "source": [
        "###### Question\n\nConsider this graph:"
      ],
      "metadata": {}
    },
    {
      "outputs": [],
      "cell_type": "code",
      "source": [
        "f(x) = log(1-x)\ng(x) = -x - x^2/2\nplot(f, -3, 3/4)\nplot!(g, -3, 3/4)"
      ],
      "metadata": {},
      "execution_count": null
    },
    {
      "cell_type": "markdown",
      "source": [
        "What statement appears to be true?"
      ],
      "metadata": {}
    },
    {
      "outputs": [],
      "cell_type": "code",
      "source": [
        "choices = [\nL\"\\log(1-x) \\geq -x - x^2/2\",\nL\"\\log(1-x) \\leq -x - x^2/2\"\n]\nans = 1\nradioq(choices, ans)"
      ],
      "metadata": {},
      "execution_count": null
    },
    {
      "cell_type": "markdown",
      "source": [
        "###### Question\n\nSuppose $a > 1$. If $\\log_a(x) = y$ what is $\\log_{1/a}(x)$? (The\nreciprocal property of exponents, $a^{-x} = (1/a)^x$, is at play here.)"
      ],
      "metadata": {}
    },
    {
      "outputs": [],
      "cell_type": "code",
      "source": [
        "choices = [L\"-y\", L\"1/y\", L\"-1/y\"]\nans = 1\nradioq(choices, ans)"
      ],
      "metadata": {},
      "execution_count": null
    },
    {
      "cell_type": "markdown",
      "source": [
        "Based on this, the graph of $\\log_{1/a}(x)$ is the graph of\n$\\log_a(x)$ under which transformation?"
      ],
      "metadata": {}
    },
    {
      "outputs": [],
      "cell_type": "code",
      "source": [
        "choices = [\nL\"Flipped over the $x$ axis\",\nL\"Flipped over the $y$ axis\",\nL\"Flipped over the line $y=x$\"\n]\nans = 1\nradioq(choices, ans)"
      ],
      "metadata": {},
      "execution_count": null
    },
    {
      "cell_type": "markdown",
      "source": [
        "###### Question\n\nSuppose $x < y$. Then for $a > 0$, $a^y - a^x$ is equal to:"
      ],
      "metadata": {}
    },
    {
      "outputs": [],
      "cell_type": "code",
      "source": [
        "choices = [L\"a^x \\cdot (a^{y-x} - 1)\",\nL\"a^{y-x}\",\nL\"a^{y-x} \\cdot (a^x - 1)\"]\nans = 1\nradioq(choices, ans)"
      ],
      "metadata": {},
      "execution_count": null
    },
    {
      "cell_type": "markdown",
      "source": [
        "Using $a > 1$ we have:"
      ],
      "metadata": {}
    },
    {
      "outputs": [],
      "cell_type": "code",
      "source": [
        "choices = [\nL\"as $a^{y-x} > 1$ and $y-x > 0$, $a^y > a^x$\",\nL\"as $a^x  > 1$, $a^y > a^x$\",\nL\"a^{y-x} > 0\"\n]\nans=1\nradioq(choices, ans)"
      ],
      "metadata": {},
      "execution_count": null
    },
    {
      "cell_type": "markdown",
      "source": [
        "If $a < 1$ then:"
      ],
      "metadata": {}
    },
    {
      "outputs": [],
      "cell_type": "code",
      "source": [
        "choices = [\nL\"as $a^{y-x} < 1$ as $y-x > 0$, $a^y < a^x$\",\nL\"as $a^x   < 1$, $a^y < a^x$\",\nL\"a^{y-x} < 0\"\n]\nans = 1\nradioq(choices, ans)"
      ],
      "metadata": {},
      "execution_count": null
    }
  ],
  "nbformat_minor": 2,
  "metadata": {
    "language_info": {
      "file_extension": ".jl",
      "mimetype": "application/julia",
      "name": "julia",
      "version": "1.5.0"
    },
    "kernelspec": {
      "name": "julia-1.5",
      "display_name": "Julia 1.5.0",
      "language": "julia"
    }
  },
  "nbformat": 4
}
