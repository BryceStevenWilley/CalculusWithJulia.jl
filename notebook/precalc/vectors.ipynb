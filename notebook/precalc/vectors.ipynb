{
  "cells": [
    {
      "cell_type": "markdown",
      "source": [
        "# Vectors"
      ],
      "metadata": {}
    },
    {
      "outputs": [],
      "cell_type": "code",
      "source": [
        "using CalculusWithJulia\nusing CalculusWithJulia.WeaveSupport\nusing Plots\ngr()\nnothing"
      ],
      "metadata": {},
      "execution_count": null
    },
    {
      "cell_type": "markdown",
      "source": [
        "One of the first models learned in physics are the equations governing the laws of motion with constant acceleration: $x(t) = x_0 + v_0 t + 1/2 \\cdot a t^2$. This is a consequence of Newton's second [law](http://tinyurl.com/8ylk29t) of motion applied to the constant acceleration case. A related formula for the velocity is $v(t) = v_0 + at$. The following figure is produced using these formulas applied to both the vertical position and the horizontal position:"
      ],
      "metadata": {}
    },
    {
      "outputs": [],
      "cell_type": "code",
      "source": [
        "using Measures\nconst px = 0.26mm\nfig_size = (400, 300)\nx0 = [0, 64]\nv0 = [20, 0]\ng  = [0, -32]\n\nunit(v::Vector) = v / norm(v)\nx_ticks = collect(0:10:80)\ny_ticks = collect(0:10:80)\n\n\nfunction make_plot(t)\n\n    xn = (t) -> x0 + v0*t + 1/2*g*t^2\n    vn = (t) -> v0 + g*t\n    an = (t) -> g\n\n\n    t = 1/10 + t*2/10\n\n    ts = range(0, stop=2, length=100)\n    xys = map(xn, ts)\n\n    xs, ys = [p[1] for p in xys], [p[2] for p in xys]\n\n    plt = Plots.plot(xs, ys, legend=false, size=fig_size, xlims=(0,45), ylims=(0,70))\n    plot!(plt, zero, extrema(xs)...)\n    arrow!(xn(t), 10*unit(xn(t)), color=\"black\")\n    arrow!(xn(t), 10*unit(vn(t)), color=\"red\")\n    arrow!(xn(t), 10*unit(an(t)), color=\"green\")\n\n    plt\n\n\nend\n\nimgfile = tempname() * \".gif\"\ncaption = \"\"\"\n\nPosition, velocity, and acceleration vectors (scaled) for projectile\nmotion. Vectors are drawn with tail on the projectile. The position\nvector (black) points from the origin to the projectile, the velocity\nvector (red) is in the direction of the trajectory, and the\nacceleration vector (green) is a constant pointing downward.\n\n\"\"\"\n\nn = 8\nanim = @animate for i=1:n\n    make_plot(i)\nend\n\ngif(anim, imgfile, fps = 1)\n\nImageFile(imgfile, caption)"
      ],
      "metadata": {},
      "execution_count": null
    },
    {
      "cell_type": "markdown",
      "source": [
        "For the motion in the above figure, the object's $x$ and $y$ values change according to the same rule, but, as the acceleration is different in each direction, we get different formula, namely: $x(t) = x_0 + v_{0x} t$ and $y(t) = y_0 + v_{0y}t - 1/2 \\cdot gt^2$.\n\nIt is common to work with *both* formulas at once. Mathematically,\nwhen graphing, we naturally pair off two values using Cartesian\ncoordinates (e.g., $(x,y)$). Another means of combining related values\nis to use a *vector*. The notation for a vector varies, but to\ndistinguish them from a point we will use $\\langle x,~ y\\rangle$.\nWith this notation, we can use it to represent the position,\nthe velocity, and the acceleration at time $t$ through:\n\n$$~\n\\begin{align}\n\\vec{x} &= \\langle x_0 + v_{0x}t,~ -(1/2) g t^2 + v_{0y}t  + y_0 \\rangle,\\\\\n\\vec{v} &= \\langle v_{0x},~ -gt + v_{0y} \\rangle, \\text{ and }\\\\\n\\vec{a} &= \\langle 0,~ -g \\rangle.\n\\end{align}\n~$$\n\n\n\nDon't spend time thinking about the formulas if they are\nunfamiliar. The point emphasized here is that we have used the\nnotation $\\langle x,~ y \\rangle$ to collect the two values into a\nsingle object, which we indicate through a label on the variable\nname. These are vectors, and we shall see they find use far beyond\nthis application.\n\nInitially, our primary use of vectors will be as containers, but it is\nworthwhile to spend some time to discuss properties of vectors and\ntheir visualization.\n\n\nA line segment in the plane connects two points $(x_0, y_0)$ and\n$(x_1, y_1)$. The length of a line segment (its magnitude) is given by\nthe distance formula $\\sqrt{(x_1 - x_0)^2 + (y_1 - y_0)^2}$.  A line\nsegment can be given a direction by assigning an initial point and a\nterminal point. A directed line segment has both a direction and a\nmagnitude. A vector is an abstraction where just these two properties\n- a direction and a magnitude - are intrinsic. While a directed line\nsegment can be represented by a vector, a single vector describes all\nsuch line segments found by translation. That is, how the the vector\nis located when visualized is for convenience, it is not a characteristic of\nthe vector. In the figure above, all vectors are drawn with their tails\nat the position of the projectile over time.\n\n\n\nWe can visualize a (two-dimensional) vector as an arrow in space. This arrow\nhas two components. We represent a vector\nthan mathematically as $\\langle x,~ y \\rangle$. For example, the vector\nconnecting the point $(x_0, y_0)$ to $(x_1, y_1)$ is $\\langle x_1 -\nx_0,~ y_1 - y_0 \\rangle$.\n\nThe magnitude of a vector comes from the distance formula applied to a line segment, and is\n$\\| \\vec{v} \\| = \\sqrt{x^2 + y^2}$."
      ],
      "metadata": {}
    },
    {
      "outputs": [],
      "cell_type": "code",
      "source": [
        "## generic vector\np0 = [0,0]\na1 = [4,1]\nb1 = [-2,2]\n\nplt = plot(legend=false, size=fig_size)\narrow!(p0, a1, color=\"blue\")\narrow!([1,1], unit(a1), color=\"red\")\nannotate!([(2, .4, L\"v\"), (1.6, 1.05, L\"\\hat{v}\")])\n\nimgfile = tempname() * \".png\"\npng(plt, imgfile)\n\ncaption = \"A vector and its unit vector. They share the same direction, but the unit vector has a standardized magnitude.\"\n\nImageFile(imgfile, caption)"
      ],
      "metadata": {},
      "execution_count": null
    },
    {
      "cell_type": "markdown",
      "source": [
        "We call the values $x$ and $y$ of the vector $\\vec{v} = \\langle x,~ y\n\\rangle$ the components of the $v$.\n\nTwo operations on vectors are fundamental.\n\n* Vectors can be multiplied by a scalar (a real number): $c\\vec{v} =\n  \\langle cx,~ cy \\rangle$. Geometrically this scales the vector by a\n  factor of $\\lvert c \\rvert$ and switches the direction of the vector\n  by 180 degree when $c < 0$. A *unit vector* is one with magnitude 1,\n  and, except for the $\\vec{0}$ vector, can be formed from $\\vec{v}$ by dividing\n  $\\vec{v}$ by its magnitude. A vector's two parts are summarized by its direction given by a unit vector gives and its norm given by the magnitude.\n\n\n\n\n* Vectors can be added: $\\vec{v} + \\vec{w} = \\langle v_x + w_x,~ v_y + w_y\n  \\rangle$. That is, each corresponding component adds to form a new\n  vector. Similarly for subtraction. The $\\vec{0}$ vector then would be just\n  $\\langle 0,~ 0 \\rangle$ and would satisfy $\\vec{0} + \\vec{v} = \\vec{v}$ for any vector\n  $\\vec{v}$. The vector addition $\\vec{v} + \\vec{w}$ is visualized by placing the tail\n  of $\\vec{w}$ at the tip of $\\vec{v}$ and then considering the new vector with\n  tail coming from $\\vec{v}$ and tip coming from the position of the tip of\n  $\\vec{w}$. Subtraction is different, place both the tails of $\\vec{v}$ and $\\vec{w}$\n  at the same place and the new vector has tail at the tip of $\\vec{v}$ and\n  tip at the tip of $\\vec{w}$."
      ],
      "metadata": {}
    },
    {
      "outputs": [],
      "cell_type": "code",
      "source": [
        "## vector_addition_image\n\np0 = [0,0]\na1 = [4,1]\nb1 = [-2,2]\n\n\nplt = Plots.plot(legend=false, size=fig_size)\narrow!(p0, a1, color=\"blue\")\narrow!(p0+a1, b1, color=\"red\")\narrow!(p0, a1+b1, color=\"black\")\nannotate!([(2, .25, L\"a\"), (3, 2.25, L\"b\"), (1.35, 1.5, L\"a+b\")])\n\nimgfile = tempname() * \".png\"\npng(plt, imgfile)\n\ncaption = \"The sum of two vectors can be visualized by placing the tail of one at the tip of the other\"\n\nImageFile(imgfile, caption)"
      ],
      "metadata": {},
      "execution_count": null
    },
    {
      "outputs": [],
      "cell_type": "code",
      "source": [
        "## vector_subtraction_image\n\np0 = [0,0]\na1 = [4,1]\nb1 = [-2,2]\n\nplt = plot(legend=false, size=fig_size)\narrow!(p0, a1, color=\"blue\")\narrow!(p0, b1, color=\"red\")\narrow!(b1, a1-b1, color=\"black\")\nannotate!(plt, [(-1, .5, L\"a\"), (2.45, .5, L\"b\"), (1, 1.75, L\"a-b\")])\n\n\nimgfile = tempname() * \".png\"\npng(plt, imgfile)\n\ncaption = \"The sum of two vectors can be visualized by placing the tail of one at the tip of the other\"\n\nImageFile(imgfile, caption)"
      ],
      "metadata": {},
      "execution_count": null
    },
    {
      "cell_type": "markdown",
      "source": [
        "The concept of scalar multiplication and addition, allow the\ndecomposition of vectors into standard vectors. The standard unit\nvectors in two dimensions are $e_x = \\langle 1,~ 0 \\rangle$ and $e_y =\n\\langle 0,~ 1 \\rangle$. Any two dimensional vector can be written\nuniquely as $a e_x + b e_y$ for some pair of scalars $a$ and $b$ (or as, $\\langle a, b \\rangle$). This\nis true more generally where the two vectors are not the standard unit\nvectors - they can be *any* two non-parallel vectors."
      ],
      "metadata": {}
    },
    {
      "outputs": [],
      "cell_type": "code",
      "source": [
        "### {{{vector_decomp}}}\n\naa = [1,2]\nbb = [2,1]\ncc = [4,3]\nalpha = 2/3\nbeta = 5/3\n\nplt = plot(legend=false, size=fig_size)\narrow!(p0, cc, color=\"black\", width=1)\narrow!(p0, aa, color=\"black\", width=1)\narrow!(alpha*aa, bb, color=\"black\", width=1)\narrow!(p0, alpha*aa, color=\"orange\", width=4, opacity=0.5)\narrow!(alpha*aa, beta*bb, color=\"orange\", width=4, opacity=0.5)\nannotate!(plt, collect(zip([2, .5, 1.75], [1.25,1.0,2.25], [L\"c\",L\"2/3 \\cdot a\", L\"5/3 \\cdot b\"])))\n\n\nimgfile = tempname() * \".png\"\npng(plt, imgfile)\n\ncaption = L\"\"\"\nThe vector $\\langle 4,3 \\rangle$ is written as\n$2$/$3$ $\\cdot\\langle 1,2 \\rangle$ $+$ $5$/$3$ $\\cdot\\langle 2,1 \\rangle$. Any vector $\\vec{c}$ can be\nwritten uniquely as $\\alpha\\cdot\\vec{a} + \\beta \\cdot \\vec{b}$ provided\n$\\vec{a}$ and $\\vec{b}$ are not parallel.\"\"\"\n\nImageFile(imgfile, caption)"
      ],
      "metadata": {},
      "execution_count": null
    },
    {
      "cell_type": "markdown",
      "source": [
        "The two operations of scalar multiplication and vector addition are\ndefined in a component-by-component basis. We will see that there are\nmany other circumstances where performing the same action on each\ncomponent in a vector is desirable.\n\n----\n\nWhen a vector is placed with its tail at the origin, it can be\ndescribed in terms of the angle it makes with the $x$ axis, $\\theta$,\nand its length, $r$. The following formulas apply:\n\n$$~\nr = \\sqrt{x^2 + y^2}, \\quad \\tan(\\theta) = y/x.\n~$$\n\nIf we are given $r$ and $\\theta$, then the vector is $v = \\langle r \\cdot \\cos(\\theta),~ r \\cdot \\sin(\\theta) \\rangle$."
      ],
      "metadata": {}
    },
    {
      "outputs": [],
      "cell_type": "code",
      "source": [
        "## vector_rtheta\n\nplt = plot(legend=false, size=fig_size)\narrow!(p0, [2,3], color=\"black\")\narrow!(p0, [2,0], color=\"orange\")\narrow!(p0+[2,0], [0,3], color=\"orange\")\nannotate!(plt, collect(zip([.25, 1,1,1.75], [.35, 1.9,.25,1], [L\"t\",L\"r\", L\"r \\cdot \\cos(t)\", L\"r \\cdot \\sin(t)\"]))) #[\"θ\",\"r\", \"r ⋅ cos(θ)\", \"r ⋅ sin(θ)\"]\n\nimgfile = tempname() * \".png\"\npng(plt, imgfile)\n\ncaption = L\"\"\"\n\nA vector $\\langle x, y \\rangle$ can be written as $\\langle r\\cdot\n\\cos(\\theta), r\\cdot\\sin(\\theta) \\rangle$ for values $r$ and\n$\\theta$. The value $r$ is a magnitude, the direction parameterized by\n$\\theta$.\"\"\"\n\nImageFile(imgfile, caption)"
      ],
      "metadata": {},
      "execution_count": null
    },
    {
      "cell_type": "markdown",
      "source": [
        "## Vectors in Julia\n\nA vector in `Julia` can be represented by its individual components,\nbut it is more convenient to combine them into a collection using the\n`[,]` notation:"
      ],
      "metadata": {}
    },
    {
      "outputs": [],
      "cell_type": "code",
      "source": [
        "x, y = 1, 2\nv = [x, y]        # square brackets, not angles"
      ],
      "metadata": {},
      "execution_count": null
    },
    {
      "cell_type": "markdown",
      "source": [
        "The basic vector operations are implemented for vector objects.\nFor example, the vector `v` has scalar multiplication defined for it:"
      ],
      "metadata": {}
    },
    {
      "outputs": [],
      "cell_type": "code",
      "source": [
        "10 * v"
      ],
      "metadata": {},
      "execution_count": null
    },
    {
      "cell_type": "markdown",
      "source": [
        "The `norm` function returns the magnitude of the vector (by default):"
      ],
      "metadata": {}
    },
    {
      "outputs": [],
      "cell_type": "code",
      "source": [
        "import LinearAlgebra: norm\nnorm(v)"
      ],
      "metadata": {},
      "execution_count": null
    },
    {
      "cell_type": "markdown",
      "source": [
        "A unit vector is then found by scaling by the reciprocal of the magnitude:"
      ],
      "metadata": {}
    },
    {
      "outputs": [],
      "cell_type": "code",
      "source": [
        "v / norm(v)"
      ],
      "metadata": {},
      "execution_count": null
    },
    {
      "cell_type": "markdown",
      "source": [
        "In addition, if `w` is another vector, we can add and subtract:"
      ],
      "metadata": {}
    },
    {
      "outputs": [],
      "cell_type": "code",
      "source": [
        "w = [3, 2]\nv + w, v - 2w"
      ],
      "metadata": {},
      "execution_count": null
    },
    {
      "cell_type": "markdown",
      "source": [
        "We see above that scalar multiplication, addition, and subtraction can\nbe done without new notation. This is because the usual operators have\nmethods defined for vectors.\n\nFinally, to find an angle $\\theta$ from a vector $\\langle x,~ y\\rangle$, we can employ the `atan` function using two arguments:"
      ],
      "metadata": {}
    },
    {
      "outputs": [],
      "cell_type": "code",
      "source": [
        "# v  = [x, y]\nnorm(v), atan(y, x)"
      ],
      "metadata": {},
      "execution_count": null
    },
    {
      "cell_type": "markdown",
      "source": [
        "## Higher dimensional vectors\n\nMathematically, vectors can be generalized to more than 2\ndimensions. For example, using 3-dimensional vectors are common when\nmodeling events happening in space, and 4-dimensional vectors are\ncommon when modeling space and time.\n\n\nIn `Julia` there are many uses for vectors outside of physics\napplications. A vector in `Julia` is just a one-dimensional collection\nof similarly typed values. Such objects find widespread usage. For example:\n\n- In plotting graphs with `Julia`, vectors are used to hold the $x$ and $y$ coordinates of a collection of points to plot and connect with straight lines. There can be hundreds of such points in a plot.\n\n- Vectors are a natural container to hold the roots of a polynomial or zeros of a function.\n\n- Vectors may be used to record the state of an iterative process.\n\n- Vectors are naturally used to represent a data set, such as arise when collecting survey data.\n\nCreating higher-dimensional vectors is similar to creating a\ntwo-dimensional vector, we just include more components:"
      ],
      "metadata": {}
    },
    {
      "outputs": [],
      "cell_type": "code",
      "source": [
        "fibs = [1,1,2,3,5,8,13]"
      ],
      "metadata": {},
      "execution_count": null
    },
    {
      "cell_type": "markdown",
      "source": [
        "Later we will discuss different ways to modify the values of a vector\nto create new ones, similar to how scalar multiplication does.\n\nAs mentioned, vectors in  `Julia`  are comprised of elements of a similar type, but the\ntype is not limited to numeric values. For example, a vector of\nstrings might be useful for text processing, a vector of Boolean\nvalues can naturally arise, some applications are even naturally\nrepresented in terms of vectors of vectors. Look at the output of these two vectors:"
      ],
      "metadata": {}
    },
    {
      "outputs": [],
      "cell_type": "code",
      "source": [
        "[\"one\", \"two\", \"three\"]  # Array{T, 1} is shorthand for Vector{T}. Here T - the type - is String"
      ],
      "metadata": {},
      "execution_count": null
    },
    {
      "outputs": [],
      "cell_type": "code",
      "source": [
        "[true, false, true]\t\t# vector of Bool values"
      ],
      "metadata": {},
      "execution_count": null
    },
    {
      "cell_type": "markdown",
      "source": [
        "Finally, we mention that if `Julia` has values of different types it\nwill promote them to a common type if possible. Here we combine three\ntypes of numbers, and see that each is promoted to `Float64`:"
      ],
      "metadata": {}
    },
    {
      "outputs": [],
      "cell_type": "code",
      "source": [
        "[1, 2.0, 3//1]"
      ],
      "metadata": {},
      "execution_count": null
    },
    {
      "cell_type": "markdown",
      "source": [
        "Whereas, in this example where there is no common type to promote the\nvalues to, a catch-all type of `Any` is used to hold the components."
      ],
      "metadata": {}
    },
    {
      "outputs": [],
      "cell_type": "code",
      "source": [
        "[\"one\", 2, 3.0, 4//1]"
      ],
      "metadata": {},
      "execution_count": null
    },
    {
      "cell_type": "markdown",
      "source": [
        "## Indexing\n\nGetting the components out of a vector can be done in a manner similar to multiple assignment:"
      ],
      "metadata": {}
    },
    {
      "outputs": [],
      "cell_type": "code",
      "source": [
        "v = [1, 2]\nx, y = v"
      ],
      "metadata": {},
      "execution_count": null
    },
    {
      "cell_type": "markdown",
      "source": [
        "When the same number of variable names are on the left hand side of\nthe assignment as in the container on the right, each is assigned in\norder.\n\nThough this is convenient for small vectors, it is far from being so\nif the vector has a large number of components. However, the vector is\nstored in order with a first, second, third, $\\dots$\ncomponent. `Julia` allows these values to be referred to by\n*index*. This too uses the `[]` notation, though differently. Here is\nhow we get the second component of `v`:"
      ],
      "metadata": {}
    },
    {
      "outputs": [],
      "cell_type": "code",
      "source": [
        "v[2]"
      ],
      "metadata": {},
      "execution_count": null
    },
    {
      "cell_type": "markdown",
      "source": [
        "The last value of a vector is usually denoted by $v_n$. In `Julia`,\nthe `length` function will return $n$, the number of items in the\ncontainer. So `v[length(v)]` will refer to the last\ncomponent. However, the special keyword `end` will do so as well, when\nput into the context of indexing. So `v[end]` is more idiomatic."
      ],
      "metadata": {}
    },
    {
      "outputs": [],
      "cell_type": "code",
      "source": [
        "note(\"\"\"\nThere is [much more](http://julia.readthedocs.org/en/latest/manual/arrays/#indexing)\nto indexing than just indexing by a single integer value. For example, the following can be used for indexing:\n\n* a scalar integer (as seen)\n\n* a range\n\n* a vector of integers\n\n* a boolean vector\n\nSome add-on packages extend this further.\n\"\"\",\ntitle=\"More on indexing\", label=\"More on indexing\")"
      ],
      "metadata": {},
      "execution_count": null
    },
    {
      "cell_type": "markdown",
      "source": [
        "### Assignment and indexing\n\nThis notation can also be used for assignment. The following\nexpression replaces the second component with a new value:"
      ],
      "metadata": {}
    },
    {
      "outputs": [],
      "cell_type": "code",
      "source": [
        "v[2] = 10"
      ],
      "metadata": {},
      "execution_count": null
    },
    {
      "cell_type": "markdown",
      "source": [
        "The right hand side is returned, not the value for `v`. We can check\nthat `v` is now $\\langle 1,~ 10 \\rangle$ by showing it:"
      ],
      "metadata": {}
    },
    {
      "outputs": [],
      "cell_type": "code",
      "source": [
        "v"
      ],
      "metadata": {},
      "execution_count": null
    },
    {
      "cell_type": "markdown",
      "source": [
        "The assignment `v[2]` is different than the initial assignment\n`v=[1,2]` in that, `v[2]=10` modifies the container that `v` points\nto, whereas `v=[1,2]` replaces the binding for `v`. The indexed\nassignment is then more memory efficient when vectors are large. This\npoint is also of interest when passing vectors to functions, as a\nfunction may modify components of the vector passed to it, though\ncan't replace the container itself.\n\n## Some functions useful when working with vectors.\n\nAs mentioned, the `length` function returns the number of components\nin a vector. It is one of several useful functions for vectors.\n\nThe `sum` and `prod` function will add and multiply the elements in a vector:"
      ],
      "metadata": {}
    },
    {
      "outputs": [],
      "cell_type": "code",
      "source": [
        "v = [1,1,2,3,5,8]\nsum(v), prod(v)"
      ],
      "metadata": {},
      "execution_count": null
    },
    {
      "cell_type": "markdown",
      "source": [
        "The `unique` function will throw out any duplicates:"
      ],
      "metadata": {}
    },
    {
      "outputs": [],
      "cell_type": "code",
      "source": [
        "unique(v) # drop a `1`"
      ],
      "metadata": {},
      "execution_count": null
    },
    {
      "cell_type": "markdown",
      "source": [
        "The functions `maximum` and `minimum` will return the largest and smallest values of an appropriate vector."
      ],
      "metadata": {}
    },
    {
      "outputs": [],
      "cell_type": "code",
      "source": [
        "v = [1,4,2,3]\nmaximum(v)"
      ],
      "metadata": {},
      "execution_count": null
    },
    {
      "cell_type": "markdown",
      "source": [
        "(These should not be confused with `max` and `min` which give the largest or smallest value over all their arguments.)\n\nThe `extrema` function returns both the smallest and largest value of a collection:"
      ],
      "metadata": {}
    },
    {
      "outputs": [],
      "cell_type": "code",
      "source": [
        "extrema(v)"
      ],
      "metadata": {},
      "execution_count": null
    },
    {
      "cell_type": "markdown",
      "source": [
        "The `sort` function will rearrange the values in `v`:"
      ],
      "metadata": {}
    },
    {
      "outputs": [],
      "cell_type": "code",
      "source": [
        "sort(v)"
      ],
      "metadata": {},
      "execution_count": null
    },
    {
      "cell_type": "markdown",
      "source": [
        "The keyword argument, `rev=false` can be given to get values in decreasing order:"
      ],
      "metadata": {}
    },
    {
      "outputs": [],
      "cell_type": "code",
      "source": [
        "sort(v, rev=false)"
      ],
      "metadata": {},
      "execution_count": null
    },
    {
      "cell_type": "markdown",
      "source": [
        "For adding a new element to a vector the `push!` method can be used, as in"
      ],
      "metadata": {}
    },
    {
      "outputs": [],
      "cell_type": "code",
      "source": [
        "push!(v, 5)"
      ],
      "metadata": {},
      "execution_count": null
    },
    {
      "cell_type": "markdown",
      "source": [
        "To append more than one value, the `append!` function can be used:"
      ],
      "metadata": {}
    },
    {
      "outputs": [],
      "cell_type": "code",
      "source": [
        "append!(v, [6,8,7])"
      ],
      "metadata": {},
      "execution_count": null
    },
    {
      "cell_type": "markdown",
      "source": [
        "These two functions modify or mutate the values stored within the\nvector `v` that passed as an argument. In the `push!` example above,\nthe value `5` is added to the vector of 4 elements. In `Julia`, a\nconvention is to name mutating functions with a trailing exclamation\nmark. (Again, these do not mutate the binding of `v` to the container,\nbut do mutate the contents of the container.) There are functions with\nmutating and non-mutating definitions, an example is `sort` and\n`sort!`.\n\nIf only a mutating function is available, like `push!`, and this is\nnot desired a copy of the vector can be made. It is not enough to copy\nby assignment, as with `w = v`. As both `w` and `v` will be bound to\nthe same memory location. Rather, you call `copy` to make a new\ncontainer with copied contents, as in `w = copy(v)`.\n\nCreating new vectors of a given size is common for programming, though\nnot much use will be made here. There are many different functions to\ndo so: `ones` to make a vector of ones, `zeros` to make a vector of\nzeros, `trues` and `falses` to make Boolean vectors of a given size,\nand `similar` to make a similar-sized vector (with no particular\nvalues assigned).\n\n\n## Applying functions element by element to values in a vector\n\nFunctions such as `sum` or `length` are known as *reductions* as they reduce the \"dimensionality\" of the data: a vector is in some sense $1$-dimensional, the sum or length $0$-dimensional.  Applying a reduction is straightforward, it is just a regular function call.\n\nOther desired operations with vectors act differently. Rather than reduce a collection of values using some formula, the goal is to apply some formula to *each* of the values, returning a modified vector. A simple example might be to square each element, or subtract the average value from each element. An example comes from statistics. When computing a variance, we start with data $x_1, x_2, \\dots, x_n$ and along the way form the values $(x_1-\\bar{x})^2, (x_2-\\bar{x})^2, \\dots, (x_n-\\bar{x})^2$.\n\nSuch things can be done in *many* differents ways. Here we describe two, but will primarily utilize the first.\n\n### Broadcasting a function call\n\nIf we have a vector, `xs`, and a function, `f`, to apply to each value, there is a simple means to achieve this task. By adding a \"dot\" between the function name and the parenthesis that enclose the arguments, instructs `Julia` to \"broadcast\" the function call. The details allow for more flexibility, for this purpose, broadcasting will take each value in `xs` and apply `f` to it, returning a vector of the same size as `xs`. When more than one argument is involved, broadcasting will try to fill out different sized objects.\n\n\n\nFor example, the following will find,  using `sqrt`, the square root each value in a vector:"
      ],
      "metadata": {}
    },
    {
      "outputs": [],
      "cell_type": "code",
      "source": [
        "xs = [1, 1, 3, 4, 7]\nsqrt.(xs)"
      ],
      "metadata": {},
      "execution_count": null
    },
    {
      "cell_type": "markdown",
      "source": [
        "This would find the sine of each number in `xs`:"
      ],
      "metadata": {}
    },
    {
      "outputs": [],
      "cell_type": "code",
      "source": [
        "sin.(xs)"
      ],
      "metadata": {},
      "execution_count": null
    },
    {
      "cell_type": "markdown",
      "source": [
        "The `^` operator is an infix operator. It too can be broadcast by using the form `.^`, as in:"
      ],
      "metadata": {}
    },
    {
      "outputs": [],
      "cell_type": "code",
      "source": [
        "xs .^ 2"
      ],
      "metadata": {},
      "execution_count": null
    },
    {
      "cell_type": "markdown",
      "source": [
        "Here is an example involving the logarithm of a set of numbers. In astronomy, a logarithm with base $100^{1/5}$ is used for star [brightness](http://tinyurl.com/ycp7k8ay). We can use broadcasting to find this value for several values at once through:"
      ],
      "metadata": {}
    },
    {
      "outputs": [],
      "cell_type": "code",
      "source": [
        "xs = [1/5000, 1/500, 1/50, 1/5, 5, 50]\nb = (100)^(1/5)\nlog.(b, xs)"
      ],
      "metadata": {},
      "execution_count": null
    },
    {
      "cell_type": "markdown",
      "source": [
        "Broadcasting with multiple arguments allows for mixing of vectors and scalar values, as above, making it convenient when parameters are used.\n\n\nAs a final example, the task from statistics of centering and then\nsquaring can be done with broadcasting. We go a bit further, showing how to compute\nthe (unbiased) [sample variance](http://tinyurl.com/p6wa4r8) of a data set. This has the formula\n$(1/(n-1))\\cdot ((x_1-\\bar{x})^2 + \\cdots + (x_n + \\bar{x})^2)$. It can be computed, with broadcasting, through:"
      ],
      "metadata": {}
    },
    {
      "outputs": [],
      "cell_type": "code",
      "source": [
        "import Statistics: mean\nxs = [1, 1, 2, 3, 5, 8, 13]\nn = length(xs)\n(1/(n-1)) * sum(abs2.(xs .- mean(xs)))"
      ],
      "metadata": {},
      "execution_count": null
    },
    {
      "cell_type": "markdown",
      "source": [
        "This shows many of the manipulations that can be made with\nvectors. Rather than write `.^2`, we follow the  defintion of `var` and chose the possibly more\nperformant `abs2` function which, in general, efficiently finds $|x|^2$\nfor various number types. The `.-` uses broadcasting to subtract a scalar (`mean(xs)`) from a vector (`xs`). Without the `.`, this would error."
      ],
      "metadata": {}
    },
    {
      "outputs": [],
      "cell_type": "code",
      "source": [
        "note(\"\"\"The `map` function is very much related to broadcasting and similarly named functions are found in many different programming languages. (The \"dot\" broadcast is mostly limited to `Julia` and based on a similar usage of a dot in `MATLAB`.) For those familiar with other programming languages, using `map` may seem more natural. Its syntax is `map(f, xs)`.\n\"\"\")"
      ],
      "metadata": {},
      "execution_count": null
    },
    {
      "cell_type": "markdown",
      "source": [
        "### Comprehensions\n\nIn mathematics, set notation is often used to describe elements in a set.\n\nFor example, the first 5 cubed numbers can be described by:\n\n$$~\n\\{x^3: x \\text{ in } 1, 2,\\dots, 5\\}\n~$$\n\nComprehension notation is similar. The above could be created in `Julia` with:"
      ],
      "metadata": {}
    },
    {
      "outputs": [],
      "cell_type": "code",
      "source": [
        "xs = [1,2,3,4,5]\n[x^3 for x in xs ]"
      ],
      "metadata": {},
      "execution_count": null
    },
    {
      "cell_type": "markdown",
      "source": [
        "Something similar can be done more succinctly:"
      ],
      "metadata": {}
    },
    {
      "outputs": [],
      "cell_type": "code",
      "source": [
        "xs .^ 3"
      ],
      "metadata": {},
      "execution_count": null
    },
    {
      "cell_type": "markdown",
      "source": [
        "However, comprehensions have a value when more complicated expressions are desired as they work with an expression of `x`, and not a pre-defined or user-defined function.\n\n\nAnother typical example of set notation might include a condition,\nsuch as, the numbers divisible by $7$ between $1$ and $100$. Set\nnotation might be:\n\n$$~\n\\{x: rem(x, 7) = 0 \\text{ for } x \\text{ in } 1, 2, \\dots, 100\\}.\n~$$\n\nThis would be read: \"the set of $x$ such that the remainder on division by $7$ is $0$ for all x in $1, 2, \\dots, 100$.\"\n\nIn `Julia`, a comprehension can include an `if` clause to mirror,\nsomewhat, the math notation. For example, the above would become\n(using `1:100` as a means to create the numbers $1,2,\\dots, 100$, as will be described in a later section):"
      ],
      "metadata": {}
    },
    {
      "outputs": [],
      "cell_type": "code",
      "source": [
        "[x for x in 1:100 if rem(x,7) == 0]"
      ],
      "metadata": {},
      "execution_count": null
    },
    {
      "cell_type": "markdown",
      "source": [
        "Comprehensions can be a convenient means to describe a collection of\nnumbers, especially when no function is defined, but the simplicity of\nthe broadcast notation (just adding a judicious \".\") leads to its more\ncommon use in these notes.\n\n\n##### Example: creating a \"T\" table for creating a graph\n\nThe process of plotting a function is usually first taught by\ngenerating a \"T\" table: values of $x$ and corresponding values of\n$y$. These pairs are then plotted on a Cartesian grid and the points\nare connected with lines to form the graph. Generating a \"T\" table in\n`Julia` is easy: create the $x$ values, then create the $y$ values for\neach $x$.\n\nTo be concrete, let's generate $7$ points to plot $f(x) = x^2$ over $[-1,1]$.\n\nThe first task is to create the `xs`. We will see later, more convenient ways to generate patterned data, but for now, we do this by hand:"
      ],
      "metadata": {}
    },
    {
      "outputs": [],
      "cell_type": "code",
      "source": [
        "a,b, n = -1, 1, 7\nd = (b-a) // (n-1)\nxs = [a, a+d, a+2d, a+3d, a+4d, a+5d, a+6d]  # 7 points"
      ],
      "metadata": {},
      "execution_count": null
    },
    {
      "cell_type": "markdown",
      "source": [
        "To get the corresponding $y$ values, we can use a compression (or define a function and broadcast):"
      ],
      "metadata": {}
    },
    {
      "outputs": [],
      "cell_type": "code",
      "source": [
        "ys = [x^2 for x in xs]"
      ],
      "metadata": {},
      "execution_count": null
    },
    {
      "cell_type": "markdown",
      "source": [
        "Vectors can be compared together by combining them into a separate container, as follows:"
      ],
      "metadata": {}
    },
    {
      "outputs": [],
      "cell_type": "code",
      "source": [
        "[xs ys]"
      ],
      "metadata": {},
      "execution_count": null
    },
    {
      "cell_type": "markdown",
      "source": [
        "(If there is a space between objects they are horizontally combined. In our construction of vectors using `[]` we used a comma for vertical combination. More generally we should use a `;` for vertical concatenation.)\n\n\nIn the sequel, we will typically use broadcasting for this task using two\nsteps: one to define a function the second to broadcast it."
      ],
      "metadata": {}
    },
    {
      "outputs": [],
      "cell_type": "code",
      "source": [
        "note(L\"\"\"\n\nThe style generally employed here is to use plural variable names for a collection\nof values, such as the vector of $y$ values and singular names when a\nsingle value is being referred to, leading to expressions like \"`x in xs`\".\n\n\"\"\")"
      ],
      "metadata": {},
      "execution_count": null
    },
    {
      "cell_type": "markdown",
      "source": [
        "## Other container types\n\nVectors in `Julia` are a container, one of many different types. Another useful type for programming purposes are *tuples*. If a vector if formed by placing comma-separated values within a `[]` pair (e.g., `[1,2,3]`), a tuple is formed by placing comma-separated values withing a `()` pair. I tuple of length $1$ uses a convention of a trailing comma to distinguish it from a parethesized expression (e.g. `(1,)` is a tuple, `(1)` is just the value `1`).\n\nTuples are used in programming, as they don't typically require memory to be used so they can be faster. Internal usages are for function arguments and function return types. Unlike vectors, tuples can be heterogeneous collections. (When commas are used to combine more than one output into a cell, a tuple is being used.)\n\nAlso unlike vectors, tuples can have names which can be used for referening a value, similar to indexing but possibly more convenient.\nNamed tuples as similar to *dictionaries* which are used to associate a key (like a name) with a value.\n\n## Questions\n\n###### Question\n\nWhich command will create the vector $\\vec{v} = \\langle 4,~ 3 \\rangle$?"
      ],
      "metadata": {}
    },
    {
      "outputs": [],
      "cell_type": "code",
      "source": [
        "choices = [\nq\"v = [4,3]\",\nq\"v = {4, 3}\",\nq\"v = '4, 3'\",\nq\"v = (4,3)\",\nq\"v = <4,3>\"]\nans = 1\nradioq(choices, ans)"
      ],
      "metadata": {},
      "execution_count": null
    },
    {
      "cell_type": "markdown",
      "source": [
        "###### Question\n\nWhich command will create the vector with components \"4,3,2,1\"?"
      ],
      "metadata": {}
    },
    {
      "outputs": [],
      "cell_type": "code",
      "source": [
        "choices = [q\"v = [4,3,2,1]\", q\"v = (4,3,2,1)\", q\"v = {4,3,2,1}\", q\"v = '4, 3, 2, 1'\", q\"v = <4,3,2,1>\"]\nans = 1\nradioq(choices, ans)"
      ],
      "metadata": {},
      "execution_count": null
    },
    {
      "cell_type": "markdown",
      "source": [
        "###### Question\n\nWhat is the magnitude of the vector $\\vec{v} = \\langle 10,~ 15 \\rangle$?"
      ],
      "metadata": {}
    },
    {
      "outputs": [],
      "cell_type": "code",
      "source": [
        "v = [10, 15]\nval = norm(v)\nnumericq(val)"
      ],
      "metadata": {},
      "execution_count": null
    },
    {
      "cell_type": "markdown",
      "source": [
        "###### Question\n\nWhich of the following is the unit vector in the direction of $\\vec{v} = \\langle 3,~ 4 \\rangle$?"
      ],
      "metadata": {}
    },
    {
      "outputs": [],
      "cell_type": "code",
      "source": [
        "choices = [q\"[3, 4]\", q\"[0.6, 0.8]\", q\"[1.0, 1.33333]\", q\"[1, 1]\"]\nans = 2\nradioq(choices, ans)"
      ],
      "metadata": {},
      "execution_count": null
    },
    {
      "cell_type": "markdown",
      "source": [
        "###### Question\n\nWhat vector is in the same direction as $\\vec{v} = \\langle 3,~ 4 \\rangle$ but is 10 times as long?"
      ],
      "metadata": {}
    },
    {
      "outputs": [],
      "cell_type": "code",
      "source": [
        "choices = [q\"[3, 4]\", q\"[30, 40]\", q\"[9.48683, 12.6491 ]\", q\"[10, 10]\"]\nans = 2\nradioq(choices, ans)"
      ],
      "metadata": {},
      "execution_count": null
    },
    {
      "cell_type": "markdown",
      "source": [
        "###### Question\n\nIf $\\vec{v} = \\langle 3,~ 4 \\rangle$ and $\\vec{w} = \\langle 1,~ 2 \\rangle$  find $2\\vec{v} + 5 \\vec{w}$."
      ],
      "metadata": {}
    },
    {
      "outputs": [],
      "cell_type": "code",
      "source": [
        "choices = [q\"[4, 6]\", q\"[6, 8]\", q\"[11, 18]\", q\"[5, 10]\"]\nans = 3\nradioq(choices, ans)"
      ],
      "metadata": {},
      "execution_count": null
    },
    {
      "cell_type": "markdown",
      "source": [
        "###### Question\n\nLet `v` be defined by:"
      ],
      "metadata": {}
    },
    {
      "outputs": [],
      "cell_type": "code",
      "source": [
        "v = [1, 1, 2, 3, 5, 8, 13, 21]"
      ],
      "metadata": {},
      "execution_count": null
    },
    {
      "cell_type": "markdown",
      "source": [
        "What is the length of `v`?"
      ],
      "metadata": {}
    },
    {
      "outputs": [],
      "cell_type": "code",
      "source": [
        "v = [1, 1, 2, 3, 5, 8, 13, 21]\nval = length(v)\nnumericq(val)"
      ],
      "metadata": {},
      "execution_count": null
    },
    {
      "cell_type": "markdown",
      "source": [
        "What is the `sum` of `v`?"
      ],
      "metadata": {}
    },
    {
      "outputs": [],
      "cell_type": "code",
      "source": [
        "v = [1, 1, 2, 3, 5, 8, 13, 21]\nval = sum(v)\nnumericq(val)"
      ],
      "metadata": {},
      "execution_count": null
    },
    {
      "cell_type": "markdown",
      "source": [
        "What is the `prod` of `v`?"
      ],
      "metadata": {}
    },
    {
      "outputs": [],
      "cell_type": "code",
      "source": [
        "v = [1,1,2,3,5,8,13,21]\nval = prod(v)\nnumericq(val)"
      ],
      "metadata": {},
      "execution_count": null
    },
    {
      "cell_type": "markdown",
      "source": [
        "###### Question\n\nFrom [transum.org](http://www.transum.org/Maths/Exam/Online_Exercise.asp?Topic=Vectors)."
      ],
      "metadata": {}
    },
    {
      "outputs": [],
      "cell_type": "code",
      "source": [
        "using Plots\n#gr()\n\np = plot(xlim=(0,10), ylim=(0,5), legend=false, framestyle=:none)\nfor j in (-3):10\n    plot!(p, [j, j + 5], [0, 5*sqrt(3)], color=:blue, alpha=0.5)\n    plot!(p, [j - 5, j], [5*sqrt(3), 0], color=:blue, alpha=0.5)\nend\nfor i in 1/2:1/2:3\n    plot!(p, [0,10],sqrt(3)*[i,i], color=:blue, alpha=0.5)\nend\n\nquiver!(p, [(3/2, 3/2*sqrt(3))], quiver=[(1,0)], color=:black,  linewidth=5)        # a\nquiver!(p, [(2, sqrt(3))], quiver=[(1/2,-sqrt(3)/2)], color=:black,  linewidth=5)   # b\n\nquiver!(p, [(3 + 3/2, 3/2*sqrt(3))], quiver=[(3,0)], color=:black,  linewidth=5)        # c\nquiver!(p, [(4 , sqrt(3))], quiver=[(3/2,-sqrt(3)/2)], color=:black,  linewidth=5)        # d\nquiver!(p, [(6+1/2 , sqrt(3)/2)], quiver=[(1/2, sqrt(3)/2)], color=:black,  linewidth=5)        # e\n\ndelta = 1/4\nannotate!(p, [(2, 3/2*sqrt(3) -delta, L\"a\"),\n              (2+1/4, sqrt(3), L\"b\"),\n              (3+3/2+3/2, 3/2*sqrt(3)-delta, L\"c\"),\n              (4+3/4, sqrt(3) - sqrt(3)/4-delta, L\"d\"),\n              (6+3/4+delta, sqrt(3)/2 + sqrt(3)/4-delta, L\"e\")\n              ])\n\n\np"
      ],
      "metadata": {},
      "execution_count": null
    },
    {
      "cell_type": "markdown",
      "source": [
        "The figure shows $5$ vectors.\n\nExpress vector **c** in terms of **a** and **b**:"
      ],
      "metadata": {}
    },
    {
      "outputs": [],
      "cell_type": "code",
      "source": [
        "choices = [\"3a\", \"3b\", \"a + b\", \"a - b\", \"b-a\"]\nans = 1\nradioq(choices, ans)"
      ],
      "metadata": {},
      "execution_count": null
    },
    {
      "cell_type": "markdown",
      "source": [
        "Express vector **d** in terms of **a** and **b**:"
      ],
      "metadata": {}
    },
    {
      "outputs": [],
      "cell_type": "code",
      "source": [
        "choices = [\"3a\", \"3b\", \"a + b\", \"a - b\", \"b-a\"]\nans = 3\nradioq(choices, ans)"
      ],
      "metadata": {},
      "execution_count": null
    },
    {
      "cell_type": "markdown",
      "source": [
        "Express vector **e** in terms of **a** and **b**:"
      ],
      "metadata": {}
    },
    {
      "outputs": [],
      "cell_type": "code",
      "source": [
        "choices = [\"3a\", \"3b\", \"a + b\", \"a - b\", \"b-a\"]\nans = 4\nradioq(choices, ans)"
      ],
      "metadata": {},
      "execution_count": null
    },
    {
      "cell_type": "markdown",
      "source": [
        "###### Question\n\nIf `xs=[1, 2, 3, 4]` and `f(x) = x^2` which of these will not produce the vector `[1, 4, 9, 16]`?"
      ],
      "metadata": {}
    },
    {
      "outputs": [],
      "cell_type": "code",
      "source": [
        "choices = [q\"f.(xs)\", q\"map(f, xs)\", q\"[f(x) for x in xs]\", \"All three of them work\"]\nans = 4\nradioq(choices, ans, keep_order=true)"
      ],
      "metadata": {},
      "execution_count": null
    },
    {
      "cell_type": "markdown",
      "source": [
        "###### Question\n\nLet $f(x) = \\sin(x)$ and $g(x) = \\cos(x)$. In the interval $[0, 2\\pi]$ the zeros of $g(x)$ are given by"
      ],
      "metadata": {}
    },
    {
      "outputs": [],
      "cell_type": "code",
      "source": [
        "zs = [pi/2, 3pi/2]"
      ],
      "metadata": {},
      "execution_count": null
    },
    {
      "cell_type": "markdown",
      "source": [
        "What construct will give the function values of $f$ at the zeros of $g$?"
      ],
      "metadata": {}
    },
    {
      "outputs": [],
      "cell_type": "code",
      "source": [
        "choices = [q\"sin(zs)\", q\"sin.(zs)\", q\"sin(.zs)\", q\".sin(zs)\"]\nans = 2\nradioq(choices, ans, keep_order=true)"
      ],
      "metadata": {},
      "execution_count": null
    },
    {
      "cell_type": "markdown",
      "source": [
        "###### Question\n\nIf `zs = [1,4,9,16]` which of these commands will return `[1.0, 2.0, 3.0, 4.0]`?"
      ],
      "metadata": {}
    },
    {
      "outputs": [],
      "cell_type": "code",
      "source": [
        "choices = [\nq\"sqrt(zs)\",\nq\"sqrt.(zs)\",\nq\"zs^(1/2)\",\nq\"zs^(1./2)\"\n]\nans = 2\nradioq(choices, ans, keep_order=true)"
      ],
      "metadata": {},
      "execution_count": null
    }
  ],
  "nbformat_minor": 2,
  "metadata": {
    "language_info": {
      "file_extension": ".jl",
      "mimetype": "application/julia",
      "name": "julia",
      "version": "1.5.0"
    },
    "kernelspec": {
      "name": "julia-1.5",
      "display_name": "Julia 1.5.0",
      "language": "julia"
    }
  },
  "nbformat": 4
}
