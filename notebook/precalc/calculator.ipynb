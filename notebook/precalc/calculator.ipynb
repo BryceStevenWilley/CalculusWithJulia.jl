{
  "cells": [
    {
      "cell_type": "markdown",
      "source": [
        "# Replacing the calculator with a computer\n\n\nLet us consider a basic calculator with buttons to add, subtract,\nmultiply, divide, and take square roots. Using such a simple thing is\ncertainly familiar for any reader of these notes. Indeed, a\nfamiliarity with a *graphing* calculator is expected. `Julia` makes\nthese familiar tasks just as easy, offering numerous conveniences along the\nway. In this section we describe how.\n\nThe following image is the calculator that Google presents upon searching for \"calculator.\""
      ],
      "metadata": {}
    },
    {
      "outputs": [],
      "cell_type": "code",
      "source": [
        "using CalculusWithJulia\nusing CalculusWithJulia.WeaveSupport\n#CalculusWithJulia.WeaveSupport.ImageFile(\"figures/calculator.png\", \"Screenshot of a calculator provided by the Google search engine.\")\nnothing"
      ],
      "metadata": {},
      "execution_count": null
    },
    {
      "cell_type": "markdown",
      "source": [
        "![Screenshot of a calculator provided by the Google search engine](figures/calculator.png)\n\n\nThis calculator should have a familiar appearance with a keypad of\nnumbers, a set of buttons for arithmetic operations, a set of buttons\nfor some common mathematical functions, a degree/radian switch, and\nbuttons for interacting with the calculator: `Ans`, `AC` (also `CE`),\nand `=`.\n\nThe goal here is to see the counterparts within `Julia` to these features.\n\n\n----\n\nFor an illustration of *really* basic calculator, have some fun watching this video:"
      ],
      "metadata": {}
    },
    {
      "outputs": [],
      "cell_type": "code",
      "source": [
        "txt = \"\"\"\n<iframe width=\"560\" height=\"315\" src=\"https://www.youtube.com/embed/sxLdGjV-_yg\" frameborder=\"0\" allowfullscreen></iframe>\n\"\"\"\nCalculusWithJulia.WeaveSupport.HTMLoutput(txt)"
      ],
      "metadata": {},
      "execution_count": null
    },
    {
      "cell_type": "markdown",
      "source": [
        "## Operations\n\nPerforming a simple computation on the calculator typically involves\nhitting buttons in a sequence, such as \"1\", \"+\", \"2\", \"`=`\" to compute\n3 from adding 1 + 2. In `Julia`, the process is not so\ndifferent. Instead of pressing buttons, the various values are\ntyped in. So, we would have:"
      ],
      "metadata": {}
    },
    {
      "outputs": [],
      "cell_type": "code",
      "source": [
        "1 + 2"
      ],
      "metadata": {},
      "execution_count": null
    },
    {
      "cell_type": "markdown",
      "source": [
        "Sending an expression to `Julia`'s interpreter - the equivalent of\npressing the \"`=`\" key on a calculator - is done at the command line\nby pressing the `Enter` or `Return` key, and in `IJulia` using the\n\"play\" icon, or the keyboard shortcut `Shift-Enter`. If the current\nexpression is complete, then `Julia` evaluates it and shows any\noutput.  If the expression is not complete, `Julia`'s response depends\non how it is being called. Within `IJulia`, a message about\n\"premature\" end of input is given. If the expression raises an error,\nthis will be noted.\n\n\nThe basic arithmetic operations on a calculator are \"+\", \"-\", \"×\",\n\"÷\", and \"$xʸ$\". These have parallels in `Julia` through the *binary*\noperators: `+`, `-`, `*`, `/`, and `^`:"
      ],
      "metadata": {}
    },
    {
      "outputs": [],
      "cell_type": "code",
      "source": [
        "1 + 2, 2 - 3, 3 * 4, 4 / 5, 5 ^ 6"
      ],
      "metadata": {},
      "execution_count": null
    },
    {
      "cell_type": "markdown",
      "source": [
        "On some calculators, there is a distinction between minus signs - the\nbinary minus sign and the unary minus sign to create values such as\n$-1$.\n\nIn `Julia`, the same symbol, \"`-`\", is used for each:"
      ],
      "metadata": {}
    },
    {
      "outputs": [],
      "cell_type": "code",
      "source": [
        "-1 - 2"
      ],
      "metadata": {},
      "execution_count": null
    },
    {
      "cell_type": "markdown",
      "source": [
        "An expression like $6 - -3$, subtracting minus three from six, must be handled with some care.  With the\nGoogle calculator, the expression must be entered with accompanying\nparentheses: $6 -(-3)$. In `Julia`, parentheses may be used, but are not needed. However, if omitted, a\nspace is required between the two minus signs:"
      ],
      "metadata": {}
    },
    {
      "outputs": [],
      "cell_type": "code",
      "source": [
        "6 - -3"
      ],
      "metadata": {},
      "execution_count": null
    },
    {
      "cell_type": "markdown",
      "source": [
        "(If no space is included, the value \"`--`\" is parsed like a different, undefined, operation.)"
      ],
      "metadata": {}
    },
    {
      "outputs": [],
      "cell_type": "code",
      "source": [
        "warning(L\"\"\"\n\n`Julia` only uses one symbol for minus, but web pages may not! Copying\nand pasting an expression with a minus sign can lead to hard to\nunderstand errors such as: `invalid character \"−\"`. There are several\nUnicode symbols that look similar to the ASCII minus sign, but are\ndifferent. These notes use a different character for the minus sign for\nthe typeset math (e.g., $1 - \\pi$) than for the code within cells\n(e.g. `1 - 2`). Thus, copying and pasting the typeset math may not work as expected.\n\n\"\"\")"
      ],
      "metadata": {},
      "execution_count": null
    },
    {
      "cell_type": "markdown",
      "source": [
        "### Examples\n\n##### Example\n\nFor everyday temperatures, the conversion from Celsius to Fahrenheit\n($9/5 C + 32$) is well approximated by simply doubling and\nadding $30$. Compare these values for an average room temperature, $C=20$, and for a relatively chilly day, $C=5$:\n\nFor $C=20$:"
      ],
      "metadata": {}
    },
    {
      "outputs": [],
      "cell_type": "code",
      "source": [
        "9 / 5 * 20 + 32"
      ],
      "metadata": {},
      "execution_count": null
    },
    {
      "cell_type": "markdown",
      "source": [
        "The easy to compute approximate value is:"
      ],
      "metadata": {}
    },
    {
      "outputs": [],
      "cell_type": "code",
      "source": [
        "2 * 20 + 30"
      ],
      "metadata": {},
      "execution_count": null
    },
    {
      "cell_type": "markdown",
      "source": [
        "The difference is:"
      ],
      "metadata": {}
    },
    {
      "outputs": [],
      "cell_type": "code",
      "source": [
        "(9/5*20 + 32) - (2 * 20 + 30)"
      ],
      "metadata": {},
      "execution_count": null
    },
    {
      "cell_type": "markdown",
      "source": [
        "For $C=5$, we have the actual value of:"
      ],
      "metadata": {}
    },
    {
      "outputs": [],
      "cell_type": "code",
      "source": [
        "9 / 5 * 5 + 32"
      ],
      "metadata": {},
      "execution_count": null
    },
    {
      "cell_type": "markdown",
      "source": [
        "and the easy to compute value is simply $40 = 10 + 30$. The difference is"
      ],
      "metadata": {}
    },
    {
      "outputs": [],
      "cell_type": "code",
      "source": [
        "(9 / 5 * 5 + 32) - 40"
      ],
      "metadata": {},
      "execution_count": null
    },
    {
      "cell_type": "markdown",
      "source": [
        "##### Example\n\nAdd the numbers $1 + 2 + 3 + 4 + 5$."
      ],
      "metadata": {}
    },
    {
      "outputs": [],
      "cell_type": "code",
      "source": [
        "1 + 2 + 3 + 4 + 5"
      ],
      "metadata": {},
      "execution_count": null
    },
    {
      "cell_type": "markdown",
      "source": [
        "##### Example\n\nHow small is $1/2/3/4/5/6$? It is about $14/10,000$, as this will show:"
      ],
      "metadata": {}
    },
    {
      "outputs": [],
      "cell_type": "code",
      "source": [
        "1/2/3/4/5/6"
      ],
      "metadata": {},
      "execution_count": null
    },
    {
      "cell_type": "markdown",
      "source": [
        "##### Example\n\nWhich is bigger $4^3$ or $3^4$? We can check by computing their difference:"
      ],
      "metadata": {}
    },
    {
      "outputs": [],
      "cell_type": "code",
      "source": [
        "4^3 - 3^4"
      ],
      "metadata": {},
      "execution_count": null
    },
    {
      "cell_type": "markdown",
      "source": [
        "So $3^4$ is bigger.\n\n##### Example\n\nA right triangle has sides $a=11$ and $b=12$. Find the length of the\n  hypotenuse squared. As $c^2 = a^2 + b^2$ we have:"
      ],
      "metadata": {}
    },
    {
      "outputs": [],
      "cell_type": "code",
      "source": [
        "11^2 + 12^2"
      ],
      "metadata": {},
      "execution_count": null
    },
    {
      "cell_type": "markdown",
      "source": [
        "## Order of operations\n\nThe calculator must use some rules to define how it will evaluate its instructions when two or more operations are involved. We know mathematically, that when $1 + 2 \\cdot 3$ is to be evaluated the multiplication is  done first then the addition.\n\nWith the Google Calculator, typing `1 + 2 x 3 =` will give the value\n$7$, but *if* we evaluate the `+` sign first, via `1`  `+` `2` `=` `x` `3` `=` the\nanswer will be 9, as that will force the addition of `1+2` before\nmultiplying. The more traditional way of performing that calculation\nis to use *parentheses* to force an evaluation. That is,\n`(1 + 2) * 3 =` will produce `9` (though one must type it in, and not use a mouse\nto enter). Except for the most primitive of calculators, there are\ndedicated buttons for parentheses to group expressions.\n\nIn `Julia`, the entire expression is typed in before being evaluated,\nso the usual conventions of mathematics related to the order of\noperations may be used. These are colloquially summarized by the\nacronym [PEMDAS](http://en.wikipedia.org/wiki/Order_of_operations).\n\n> **PEMDAS**. This acronym stands for Parentheses, Exponents,\n> Multiplication, Division, Addition, Subtraction. The order indicates\n> which operation has higher precedence, or should happen first. This\n> isn't exactly the case, as \"M\" and \"D\" have the same precedence, as\n> do \"A\" and \"S\". In the case of two operations with equal precedence,\n> *associativity* is used to decide which to do. For the operations\n> `+`, `-`, `*`, `/` the associativity is left to right, as in the\n> left one is done first, then the right. However, `^` has right\n> associativity, so `4^3^2` is `4^(3^2)` and not `(4^3)^2`. (Be warned\n> that some calculators - and spread sheets, such as Excel - will\n> treat this expression with left associativity.)\n\n\nWith rules of precedence, an expression like the following has a\nclear interpretation to `Julia` without the need for parentheses:"
      ],
      "metadata": {}
    },
    {
      "outputs": [],
      "cell_type": "code",
      "source": [
        "1 + 2 - 3 * 4 / 5 ^ 6"
      ],
      "metadata": {},
      "execution_count": null
    },
    {
      "cell_type": "markdown",
      "source": [
        "Working through PEMDAS we see that `^` is first, then `*` and then `/`\n(this due to associativity and `*` being the leftmost expression of\nthe two) and finally `+` and then `-`, again by associativity\nrules. So we should have the same value with:"
      ],
      "metadata": {}
    },
    {
      "outputs": [],
      "cell_type": "code",
      "source": [
        "(1 + 2) - ((3 * 4) / (5 ^ 6))"
      ],
      "metadata": {},
      "execution_count": null
    },
    {
      "cell_type": "markdown",
      "source": [
        "If different parentheses are used, the answer will likely be different. For example, the following forces the operations to be `-`, then `*`, then `+`. The result of that is then divided by `5^6`:"
      ],
      "metadata": {}
    },
    {
      "outputs": [],
      "cell_type": "code",
      "source": [
        "(1 + ((2 - 3) * 4)) / (5 ^ 6)"
      ],
      "metadata": {},
      "execution_count": null
    },
    {
      "cell_type": "markdown",
      "source": [
        "### Examples\n\n##### Example\n\nThe percentage error in $x$ if $y$ is the correct value is $(x-y)/y \\cdot 100$. Compute this if $x=100$ and $y=98.6$."
      ],
      "metadata": {}
    },
    {
      "outputs": [],
      "cell_type": "code",
      "source": [
        "(100 - 98.6) / 98.6 * 100"
      ],
      "metadata": {},
      "execution_count": null
    },
    {
      "cell_type": "markdown",
      "source": [
        "##### Example\n\nThe marginal cost of producing one unit can be computed by\n  finding the cost for $n+1$ units and subtracting the cost for\n  $n$ units. If the cost of $n$ units is $n^2 + 10$, find the marginal cost when $n=100$."
      ],
      "metadata": {}
    },
    {
      "outputs": [],
      "cell_type": "code",
      "source": [
        "(101^2 + 10) - (100^2 + 10)"
      ],
      "metadata": {},
      "execution_count": null
    },
    {
      "cell_type": "markdown",
      "source": [
        "##### Example\n\nThe average cost per unit is the total cost divided by the number of units. Again, if the cost of $n$ units is $n^2 + 10$, find the average cost for $n=100$ units."
      ],
      "metadata": {}
    },
    {
      "outputs": [],
      "cell_type": "code",
      "source": [
        "(100^2 + 10) / 100"
      ],
      "metadata": {},
      "execution_count": null
    },
    {
      "cell_type": "markdown",
      "source": [
        "##### Example\n\nThe slope of the line through two points is $m=(y_1 - y_0) / (x_1 - x_0)$. For the two points $(1,2)$ and $(3,4)$ find the slope of the line through them."
      ],
      "metadata": {}
    },
    {
      "outputs": [],
      "cell_type": "code",
      "source": [
        "(4 - 2) / (3 - 1)"
      ],
      "metadata": {},
      "execution_count": null
    },
    {
      "cell_type": "markdown",
      "source": [
        "### Two ways to write division - and they are not the same\n\nThe expression $a + b / c + d$ is equivalent to $a + (b/c) + d$ due to the order of operations. It will generally have a different answer than $(a + b) / (c + d)$.\n\nHow would the following be expressed, were it written inline:\n\n$$~\n\\frac{1 + 2}{3 + 4}?\n~$$\n\nIt would have to be computed through $(1 + 2) / (3 + 4)$.  This is\nbecause unlike `/`, the implied order of operation in the mathematical\nnotation with the *horizontal division symbol* (the\n[vinicula](http://tinyurl.com/y9tj6udl)) is to compute the top and the\nbottom and then divide. That is, the vinicula is a grouping notation\nlike parentheses, only implicitly so. Thus the above expression really\nrepresents the more verbose:\n\n\n$$~\n\\frac{(1 + 2)}{(3 + 4)}.\n~$$\n\nWhich  lends itself readily to the translation:"
      ],
      "metadata": {}
    },
    {
      "outputs": [],
      "cell_type": "code",
      "source": [
        "(1 + 2) / (3 + 4)"
      ],
      "metadata": {},
      "execution_count": null
    },
    {
      "cell_type": "markdown",
      "source": [
        "To emphasize, this is not the same as the value without the parentheses:"
      ],
      "metadata": {}
    },
    {
      "outputs": [],
      "cell_type": "code",
      "source": [
        "1 + 2 / 3 + 4"
      ],
      "metadata": {},
      "execution_count": null
    },
    {
      "outputs": [],
      "cell_type": "code",
      "source": [
        "alert(L\"\"\"\n\nThe viniculum also indicates grouping when used with the square root\n(the top bar), and complex conjugation. That usage is often clear\nenough, but the usage of the viniculum in division often leads to\nconfusion. The example above is one where the parentheses are often,\nerroneously, omitted. However, more confusion can arise when there is\nmore than one vinicula. An expression such as $a/b/c$ written inline\nhas no confusion, it is: $(a/b) / c$ as left association is used; but\nwhen written with a pair of vinicula there is often the typographical\nconvention of a slightly longer vinicula to indicate which is to\nbe considered first. In the absence of that, then top to bottom association is\noften implied.\n\n\"\"\")"
      ],
      "metadata": {},
      "execution_count": null
    },
    {
      "cell_type": "markdown",
      "source": [
        "### Infix, postfix, and prefix notation\n\nThe factorial button on the Google Button creates an expression like\n`14!` that is then evaluated. The operator, `!`, appears after the\nvalue (`14`) that it is applied to. This is called *postfix\nnotation*. When a unary minus sign is used, as in `-14`, the minus\nsign occurs before the value it operates on. This uses *prefix\nnotation*. These concepts can be extended to binary operations, where\na third possibility is provided: *infix notation*, where the operator\nis between the two values. The infix notation is common for our\nfamiliar mathematical operations. We write `14 + 2` and not `+ 14 2`\nor `14 2 +`. (Though if we had an old reverse-Polish notation\ncalculator, we would enter `14 2 +`!) In `Julia`, there are several\ninfix operators, such as `+`, `-`, ... and others that we may be\nunfamiliar with. These mirror the familiar notation from most math\ntexts."
      ],
      "metadata": {}
    },
    {
      "outputs": [],
      "cell_type": "code",
      "source": [
        "note(\"\"\"\n\nIn `Julia` many infix operations can be done using a prefix manner. For example `14 + 2` can also be evaluated by `+(14,2)`.\n\n\"\"\")"
      ],
      "metadata": {},
      "execution_count": null
    },
    {
      "cell_type": "markdown",
      "source": [
        "## Constants\n\nThe Google calculator has two built in constants, `e` and `π`. Julia provides these as well, though not quite as easily. First,  `π` is just `pi`:"
      ],
      "metadata": {}
    },
    {
      "outputs": [],
      "cell_type": "code",
      "source": [
        "pi"
      ],
      "metadata": {},
      "execution_count": null
    },
    {
      "cell_type": "markdown",
      "source": [
        "Whereas, `e` is is not simply the character `e`, but *rather* a [unicode](../unicode.html) character typed in as `\\euler[tab]`.\n\nHowever, when the accompanying package, `CalculusWithJulia`, is loaded, the character `e` will refer to the Euler constant (as it brings in the `Base.MathConstants` package):"
      ],
      "metadata": {}
    },
    {
      "outputs": [],
      "cell_type": "code",
      "source": [
        "using CalculusWithJulia\ne"
      ],
      "metadata": {},
      "execution_count": null
    },
    {
      "cell_type": "markdown",
      "source": [
        "In the sequel, we will just use `e` for this constant (though more commonly the `exp` function), with the reminder that base `Julia` alone does not reserve this symbol.\n\nMathematically these are irrational values with decimal expansions that do not repeat. `Julia` represents these values internally with additional accuracy beyond that which is displayed. Math constants can be used as though they were numbers, such is done with this expression:"
      ],
      "metadata": {}
    },
    {
      "outputs": [],
      "cell_type": "code",
      "source": [
        "e^(1/(2*pi))"
      ],
      "metadata": {},
      "execution_count": null
    },
    {
      "outputs": [],
      "cell_type": "code",
      "source": [
        "alert(\"\"\"In most cases. There are occasional (basically rare) spots where using `pi` by itself causes an eror where `1*pi` will not. The reason is `1*pi` will create a floating point value from the irrational object, `pi`.\n\"\"\")"
      ],
      "metadata": {},
      "execution_count": null
    },
    {
      "cell_type": "markdown",
      "source": [
        "### Numeric literals\n\nFor some special cases, Julia implements *multiplication* without a\nmultiplication symbol. This is when the value on the left is a number,\nas in `2pi`, which has an equivalent value to `2*pi`. *However* the\ntwo are not equivalent, in that multiplication with *numeric literals*\ndoes not have the same precedence as regular multiplication - it is\nhigher. This has practical importance when used in division or\npowers. For instance, these two are **not** the same:"
      ],
      "metadata": {}
    },
    {
      "outputs": [],
      "cell_type": "code",
      "source": [
        "1/2pi, 1/2*pi"
      ],
      "metadata": {},
      "execution_count": null
    },
    {
      "cell_type": "markdown",
      "source": [
        "Why? Because the first `2pi` is performed before division, as multiplication with numeric literals  has higher precedence than regular multiplication, which is at the same level as division.\n\nTo confuse things even more, consider"
      ],
      "metadata": {}
    },
    {
      "outputs": [],
      "cell_type": "code",
      "source": [
        "2pi^2pi"
      ],
      "metadata": {},
      "execution_count": null
    },
    {
      "cell_type": "markdown",
      "source": [
        "Is this the same as `2 * (pi^2) * pi` or `(2pi)^(2pi)`?. The former would be the case is powers had higher precedence than literal multiplication, the latter would be the case were it the reverse. In fact, the correct answer is `2 * (pi^(2*pi))`:"
      ],
      "metadata": {}
    },
    {
      "outputs": [],
      "cell_type": "code",
      "source": [
        "2pi^2pi, 2 * (pi/2) * pi, (2pi)^(2pi), 2 * (pi^(2pi))"
      ],
      "metadata": {},
      "execution_count": null
    },
    {
      "cell_type": "markdown",
      "source": [
        "This follows usual mathematical convention, but is a source of potential confusion. It can be best to be explicit about multiplication, save for the simplest of cases.\n\n\n## Functions\n\nOn the Google calculator, the square root button has a single purpose: for the current value find a square root if possible, and if not signal an error (such as what happens if the value is negative). For more general powers, the $x^y$ key can be used.\n\nIn `Julia`, functions are used to perform the actions that a\nspecialized button may do on the calculator. `Julia` provides many\nstandard mathematical functions - more than there could be buttons on\na calculator - and allows the user to easily define their own\nfunctions. For example, `Julia` provides the same set of functions as on\nGoogle's calculator, though with different names. For logarithms,\n$\\ln$ becomes `log` and $\\log$ is `log10` (computer programs almost\nexclusively reserve `log` for the natural log); for factorials, $x!$,\nthere is `factorial`; for powers $\\sqrt{}$ becomes `sqrt`, $EXP$\nbecomes `exp`, and $x^y$ is computed with the infix operator `^`. For the trigonometric\nfunctions, the basic names are similar: `sin`, `cos`, `tan`. These\nexpect radians. For angles in degrees, the convenience functions\n`sind`, `cosd`, and `tand` are provided. On the calculator, inverse\nfunctions like $\\sin^{-1}(x)$ are done by combining $Inv$ with\n$\\sin$. With `Julia`, the function name is `asin`, an abbreviation for\n\"arcsine.\" (Which is a good thing, as the notation using a power of\n$-1$ is often a source of confusion and is not supported by `Julia`.) Similarly, there\nare `asind`, `acos`, `acosd`, `atan`, and `atand` functions available\nto the `Julia` user.\n\nThe following table summarizes the above:"
      ],
      "metadata": {}
    },
    {
      "outputs": [],
      "cell_type": "code",
      "source": [
        "using DataFrames\ncalc = [\nL\" $+$, $-$, $\\times$, $\\div$\",\nL\"x^y\",\nL\"\\sqrt{}, \\sqrt[3]{}\",\nL\"e^x\",\nL\" $\\ln$, $\\log$\",\nL\"\\sin, \\cos, \\tan, \\sec, \\csc, \\cot\",\n\"In degrees, not radians\",\nL\"\\sin^{-1}, \\cos^{-1}, \\tan^{-1}\",\nL\"n!\",\n]\n\n\njulia = [\n\"`+`, `-`, `*`, `/`\",\n\"`^`\",\n\"`sqrt`, `cbrt`\",\n\"`exp`\",\n\"`log`, `log10`\",\n\"`sin`, `cos`, `tan`, `sec`, `csc`, `cot`\",\n\"`sind`, `cosd`, `tand`, `secd`, `cscd`, `cotd`\",\n\"`asin`, `acos`, `atan`\",\n\"`factorial`\"\n]\n\nCalculusWithJulia.WeaveSupport.table(DataFrame(Calculator=calc, Julia=julia))"
      ],
      "metadata": {},
      "execution_count": null
    },
    {
      "cell_type": "markdown",
      "source": [
        "Using a function is very straightforward. A function is called using parentheses, in a manner visually similar to how a function is called mathematically. So if we consider the `sqrt` function, we have:"
      ],
      "metadata": {}
    },
    {
      "outputs": [],
      "cell_type": "code",
      "source": [
        "sqrt(4), sqrt(5)"
      ],
      "metadata": {},
      "execution_count": null
    },
    {
      "cell_type": "markdown",
      "source": [
        "The function is referred to by name (`sqrt`) and called with parentheses. Any arguments are passed into the function using commas to separate values, should there be more than one. When there are numerous values for a function, the arguments may need to be given in a specific order or may possibly be specified with *keywords*.\n\nSome more examples:"
      ],
      "metadata": {}
    },
    {
      "outputs": [],
      "cell_type": "code",
      "source": [
        "exp(2), log(10), sqrt(100), 10^(1/2)"
      ],
      "metadata": {},
      "execution_count": null
    },
    {
      "outputs": [],
      "cell_type": "code",
      "source": [
        "note(\"\"\"\n\nParentheses have many roles. We've just seen that parentheses may be\nused for grouping, and now we see they are used to indicate a function\nis being called. These are familiar from their parallel usage in\ntraditional math notation. In `Julia`, a third usage is common, the\nmaking of a \"tuple,\" or a container of different objects, for example\n`(1, sqrt(2), pi)`. In these notes, the output of multiple commands separated by commas is a printed tuple.\n\n\"\"\")"
      ],
      "metadata": {},
      "execution_count": null
    },
    {
      "cell_type": "markdown",
      "source": [
        "<script>\n// XXX This seems to be no longer needed, as 2^(-1) is defined when -1 is a numeric literal\n//\n// `Julia`'s design embraces *polymorphism*, a term to indicate that the\n// same function may have different implementations and the one\n// ultimately called depends on the number and types of the\n// arguments. Polymorphism is also commonly referred to as *multiple\n// dispatch*. This is a great convenience for the user who only needs to\n// remember one function name for related uses, that may differ only in\n// technicalities.  For example, there are about $200$ methods\n// implemented for the generic function `+`. This may be expected from\n// mathematical analogy: the details of the operation of addition are\n// different for integers, than rational numbers, than polynomials,\n// though all can be added.\n//\n//\n//\n// The power operator, `^`, provides a concrete example. For integer\n// bases there is a different implementation than there is for real\n// bases. When the base is an integer, the answer may or may not be an\n// integer:\n//\n// ```julia;\n// 2^(-1), 2^2\n// ```\n//\n// However, for floating point bases the answer is always a floating point number\n//\n// ```julia;\n// 2.0^(-1), 2.0^2\n// ```\n</script>\n\n### Multiple arguments\n\nFor the logarithm, we mentioned that `log` is the natural log and\n`log10` implements the logarithm base 10. As well there is\n`log2`. However, in general there is no `logb` for any base\n`b`. Instead, the basic `log` function can take *two* arguments. When it\ndoes, the first is the base, and the second the value to take the\nlogarithm of. This avoids forcing the user to remember that $\\log_b(x)\n= \\log(x)/\\log(b)$.\n\nSo we have all these different, but related, uses to find logarithms:"
      ],
      "metadata": {}
    },
    {
      "outputs": [],
      "cell_type": "code",
      "source": [
        "log(e), log(2, e), log(10, e), log(e, 2)"
      ],
      "metadata": {},
      "execution_count": null
    },
    {
      "cell_type": "markdown",
      "source": [
        "In `Julia`, the \"generic\" function `log` not only has different implementations for\ndifferent types of arguments (real or complex), but also has a\ndifferent implementation depending on the number of arguments.\n\n### Examples\n\n\n##### Example\n\nA right triangle has sides $a=11$ and $b=12$. Find the length of the hypotenuse. As $c^2 = a^2 + b^2$ we have:"
      ],
      "metadata": {}
    },
    {
      "outputs": [],
      "cell_type": "code",
      "source": [
        "sqrt(11^2 + 12^2)"
      ],
      "metadata": {},
      "execution_count": null
    },
    {
      "cell_type": "markdown",
      "source": [
        "##### Example\n\nA formula from statistics to compute the variance of binomial random variable for parameters $p$ and $n$\nis $\\sqrt{p (1-p)/10}$. Compute this value for $p=1/4$ and $n=10$."
      ],
      "metadata": {}
    },
    {
      "outputs": [],
      "cell_type": "code",
      "source": [
        "sqrt((1/4 * (1 - 1/4)) / 10)"
      ],
      "metadata": {},
      "execution_count": null
    },
    {
      "cell_type": "markdown",
      "source": [
        "##### Example\n\nFind the distance between the points $(-3, -4)$ and $(5,6)$. Using the distance formula $\\sqrt{(x_1-x_0)^2+(y_1-y_0)^2}$, we have:"
      ],
      "metadata": {}
    },
    {
      "outputs": [],
      "cell_type": "code",
      "source": [
        "sqrt((5 - -3)^2 + (6 - -4)^2)"
      ],
      "metadata": {},
      "execution_count": null
    },
    {
      "cell_type": "markdown",
      "source": [
        "##### Example\n\nThe formula to compute the resistance of two resistors in parallel is\ngiven by: $1/(1/r_1 + 1/r_2)$. Suppose the resistance is $10$ in one resistor\nand $20$ in the other. What is the resistance in parallel?"
      ],
      "metadata": {}
    },
    {
      "outputs": [],
      "cell_type": "code",
      "source": [
        "1 / (1/10 + 1/20)"
      ],
      "metadata": {},
      "execution_count": null
    },
    {
      "cell_type": "markdown",
      "source": [
        "## Errors\n\nNot all computations on a calculator are valid. For example, the Google calculator will display `Error` as the output of $0/0$ or $\\sqrt{-1}$. These are also errors mathematically, though the second is not if the complex numbers are considered.\n\nIn `Julia`, there is a richer set of error types. The value `0/0` will in fact not be an error, but rather a value `NaN`. This is a special floating point value indicating \"not a number\" and is the result for various operations.  The output of $\\sqrt{-1}$ (computed via `sqrt(-1)`) will indicate a domain error:"
      ],
      "metadata": {}
    },
    {
      "outputs": [],
      "cell_type": "code",
      "source": [
        "sqrt(-1)"
      ],
      "metadata": {},
      "execution_count": null
    },
    {
      "cell_type": "markdown",
      "source": [
        "For integer or real-valued inputs, the `sqrt` function expects non-negative values, so that the output will always be a real number.\n\nThere are other types of errors. Overflow is a common one on most\ncalculators. The value of $1000!$ is actually *very* large (over 2500\ndigits large). On the Google calculator it returns `Infinity`, a\nslight stretch. For `factorial(1000)` `Julia` returns an\n`OverflowError`. This means that the answer is too large to be\nrepresented as a regular integer."
      ],
      "metadata": {}
    },
    {
      "outputs": [],
      "cell_type": "code",
      "source": [
        "factorial(1000)"
      ],
      "metadata": {},
      "execution_count": null
    },
    {
      "cell_type": "markdown",
      "source": [
        "How `Julia` handles overflow is a study in tradeoffs. For integer operations\nthat demand high performance, `Julia` does not check for overflow. So,\nfor example, if we are not careful strange answers can be\nhad. Consider the difference here between powers of 2:"
      ],
      "metadata": {}
    },
    {
      "outputs": [],
      "cell_type": "code",
      "source": [
        "2^62, 2^63"
      ],
      "metadata": {},
      "execution_count": null
    },
    {
      "cell_type": "markdown",
      "source": [
        "On a machine with $64$-bit integers, the first of these two values is\ncorrect, the second, clearly wrong, as the answer given is\nnegative. This is due to overflow. The cost of checking is considered\ntoo high, so no error is thrown. The user is expected to have a sense\nthat they need to be careful when their values are quite large. (Or\nthe user can use floating point numbers, which though not exact, can represent much\nbigger values.)"
      ],
      "metadata": {}
    },
    {
      "outputs": [],
      "cell_type": "code",
      "source": [
        "alert(\"\"\"\n\nIn a turnaround from a classic blues song, we can think of `Julia` as\nbuilt for speed, not for comfort. All of these errors above could be\nworked around so that the end user doesn't see them. However, this\nwould require slowing things down, either through checking of\noperations or allowing different types of outputs for similar type of\ninputs. These are tradeoffs that are not made for performance\nreasons. For the most part, the tradeoffs don't get in the way, but\nlearning where to be careful takes some time. Error messages\noften suggest a proper alternative.\n\n\"\"\")"
      ],
      "metadata": {},
      "execution_count": null
    },
    {
      "cell_type": "markdown",
      "source": [
        "##### Example\n\nDid Homer Simpson disprove [Fermat's Theorem](http://www.npr.org/sections/krulwich/2014/05/08/310818693/did-homer-simpson-actually-solve-fermat-s-last-theorem-take-a-look)?\n\nFermat's theorem states there are no solutions over the integers to $a^n + b^n = c^n$ when $n > 2$. In the photo accompanying the linked article, we see:\n\n$$~\n3987^{12} + 4365^{12} - 4472^{12}.\n~$$\n\nIf you were to do this on most calculators, the answer would be\n$0$. Were this true, it would show that there is at least one solution\nto $a^{12} + b^{12} = c^{12}$ over the integers - hence Fermat would be wrong. So is it $0$?\n\nWell, let's try something with `Julia` to see. Being clever, we check if $(3987^{12} + 4365^{12})^{1/12} = 4472$:"
      ],
      "metadata": {}
    },
    {
      "outputs": [],
      "cell_type": "code",
      "source": [
        "(3987^12 + 4365^12)^(1/12)"
      ],
      "metadata": {},
      "execution_count": null
    },
    {
      "cell_type": "markdown",
      "source": [
        "Not even close. Case closed. But wait? This number to be found must be *at least* as big as $3987$ and we got $28$. Doh! Something can't be right. Well, maybe integer powers are being an issue. (The largest $64$-bit integer is less than $10^{19}$ and we can see that $(4\\cdot 10^3)^{12}$ is bigger than $10^{36})$. Trying again using floating point values for the base, we see:"
      ],
      "metadata": {}
    },
    {
      "outputs": [],
      "cell_type": "code",
      "source": [
        "(3987.0^12 + 4365.0^12)^(1/12)"
      ],
      "metadata": {},
      "execution_count": null
    },
    {
      "cell_type": "markdown",
      "source": [
        "Ahh, we see something really close to $4472$, but not exactly. Why do\nmost calculators get this last part wrong? It isn't that they don't\nuse floating point, but rather the difference between the two numbers:"
      ],
      "metadata": {}
    },
    {
      "outputs": [],
      "cell_type": "code",
      "source": [
        "(3987.0^12 + 4365.0^12)^(1/12) - 4472"
      ],
      "metadata": {},
      "execution_count": null
    },
    {
      "cell_type": "markdown",
      "source": [
        "is less than $10^{-8}$ so on display with $8$ digits may be rounded to $0$.\n\nMoral: with `Julia` and with calculators, we still have to be mindful not to blindly accept an answer.\n\n\n\n\n\n\n## Questions\n\n###### Question\n\n\nCompute $22/7$ with `Julia`."
      ],
      "metadata": {}
    },
    {
      "outputs": [],
      "cell_type": "code",
      "source": [
        "val = 22/7\nnumericq(val)"
      ],
      "metadata": {},
      "execution_count": null
    },
    {
      "cell_type": "markdown",
      "source": [
        "###### Question\n\n\nCompute $\\sqrt{220}$ with `Julia`."
      ],
      "metadata": {}
    },
    {
      "outputs": [],
      "cell_type": "code",
      "source": [
        "val = sqrt(220)\nnumericq(val)"
      ],
      "metadata": {},
      "execution_count": null
    },
    {
      "cell_type": "markdown",
      "source": [
        "###### Question\n\n\nCompute $2^8$ with `Julia`."
      ],
      "metadata": {}
    },
    {
      "outputs": [],
      "cell_type": "code",
      "source": [
        "val = 2^8\nnumericq(val)"
      ],
      "metadata": {},
      "execution_count": null
    },
    {
      "cell_type": "markdown",
      "source": [
        "###### Question\n\nCompute the value of\n\n$$~\n\\frac{9 - 5 \\cdot (3-4)}{6 - 2}.\n~$$"
      ],
      "metadata": {}
    },
    {
      "outputs": [],
      "cell_type": "code",
      "source": [
        "val = (9-5*(3-4)) / (6-2)\nnumericq(val)"
      ],
      "metadata": {},
      "execution_count": null
    },
    {
      "cell_type": "markdown",
      "source": [
        "###### Question\n\n\nCompute the following using `Julia`:\n\n$$~\n\\frac{(.25 - .2)^2}{(1/4)^2 + (1/3)^2}\n~$$"
      ],
      "metadata": {}
    },
    {
      "outputs": [],
      "cell_type": "code",
      "source": [
        "val = (.25 - .2)^2/((1/4)^2 + (1/3)^2);\nnumericq(val)"
      ],
      "metadata": {},
      "execution_count": null
    },
    {
      "cell_type": "markdown",
      "source": [
        "###### Question\n\n\nCompute the decimal representation of the following using `Julia`:\n\n$$~\n1 + \\frac{1}{2} + \\frac{1}{2^2} + \\frac{1}{2^3} + \\frac{1}{2^4}\n~$$"
      ],
      "metadata": {}
    },
    {
      "outputs": [],
      "cell_type": "code",
      "source": [
        "val = sum((1/2).^(0:4));\nnumericq(val)"
      ],
      "metadata": {},
      "execution_count": null
    },
    {
      "cell_type": "markdown",
      "source": [
        "###### Question\n\nCompute the following using `Julia`:\n\n$$~\n\\frac{3 - 2^2}{4 - 2\\cdot3}\n~$$"
      ],
      "metadata": {}
    },
    {
      "outputs": [],
      "cell_type": "code",
      "source": [
        "val = (3 - 2^2)/(4 - 2*3);\nnumericq(val)"
      ],
      "metadata": {},
      "execution_count": null
    },
    {
      "cell_type": "markdown",
      "source": [
        "###### Question\n\nCompute the following using `Julia`:\n\n$$~\n(1/2) \\cdot 32 \\cdot 3^2 + 100 \\cdot 3 - 20\n~$$"
      ],
      "metadata": {}
    },
    {
      "outputs": [],
      "cell_type": "code",
      "source": [
        "val = (1/2)*32*3^2 + 100*3 - 20;\nnumericq(val)"
      ],
      "metadata": {},
      "execution_count": null
    },
    {
      "cell_type": "markdown",
      "source": [
        "###### Question\n\n\nWich of the following is a valid `Julia` expression for\n\n$$~\n\\frac{3 - 2}{4 - 1}\n~$$\n\nthat uses the least number of parentheses?"
      ],
      "metadata": {}
    },
    {
      "outputs": [],
      "cell_type": "code",
      "source": [
        "choices = [\nq\"(3 - 2)/ 4 - 1\",\nq\"3 - 2 / (4 - 1)\",\nq\"(3 - 2) / (4 - 1)\"]\nans = 3\nradioq(choices, ans)"
      ],
      "metadata": {},
      "execution_count": null
    },
    {
      "cell_type": "markdown",
      "source": [
        "###### Question\n\n\nWich of the following is a valid `Julia` expression for\n\n$$~\n\\frac{3\\cdot2}{4}\n~$$\n\nthat uses the least number of parentheses?"
      ],
      "metadata": {}
    },
    {
      "outputs": [],
      "cell_type": "code",
      "source": [
        "choices = [\nq\"3 * 2 / 4\",\nq\"(3 * 2) / 4\"\n]\nans = 1\nradioq(choices, ans)"
      ],
      "metadata": {},
      "execution_count": null
    },
    {
      "cell_type": "markdown",
      "source": [
        "###### Question\n\n\nWhich of the following is a valid `Julia` expression for\n\n$$~\n2^{4 - 2}\n~$$\n\nthat uses the least number of parentheses?"
      ],
      "metadata": {}
    },
    {
      "outputs": [],
      "cell_type": "code",
      "source": [
        "choices = [\nq\"2 ^ 4 - 2\",\nq\"(2 ^ 4) - 2\",\nq\"2 ^ (4 - 2)\"]\nans = 3\nradioq(choices, ans)"
      ],
      "metadata": {},
      "execution_count": null
    },
    {
      "cell_type": "markdown",
      "source": [
        "###### Question\n\nIn the U.S. version of the Office, the opening credits include a calculator calculation. The key sequence shown is `9653 +` which produces `11532`.  What value was added to?"
      ],
      "metadata": {}
    },
    {
      "outputs": [],
      "cell_type": "code",
      "source": [
        "val = 11532 - 9653\nnumericq(val)"
      ],
      "metadata": {},
      "execution_count": null
    },
    {
      "cell_type": "markdown",
      "source": [
        "###### Question\n\n\nWe saw that `1 / 2 / 3 / 4 / 5 / 6` is about $14$ divided by $10,000$. But what would be a more familiar expression representing it:"
      ],
      "metadata": {}
    },
    {
      "outputs": [],
      "cell_type": "code",
      "source": [
        "choices = [\nq\"1 / (2 / 3 / 4 / 5 / 6)\",\nq\"1 / 2 * 3 / 4  * 5 / 6\",\nq\"1 /(2 * 3 * 4 * 5 * 6)\"]\nans = 3\nradioq(choices, ans)"
      ],
      "metadata": {},
      "execution_count": null
    },
    {
      "cell_type": "markdown",
      "source": [
        "###### Question\n\n\nOne of these three expressions will produce a different answer, select\nthat one:"
      ],
      "metadata": {}
    },
    {
      "outputs": [],
      "cell_type": "code",
      "source": [
        "choices = [\nq\"2 - 3 - 4\",\nq\"(2 - 3) - 4\",\nq\"2 - (3 - 4)\"\n];\nans = 3;\nradioq(choices, ans)"
      ],
      "metadata": {},
      "execution_count": null
    },
    {
      "cell_type": "markdown",
      "source": [
        "###### Question\n\nOne of these three expressions will produce a different answer, select\nthat one:"
      ],
      "metadata": {}
    },
    {
      "outputs": [],
      "cell_type": "code",
      "source": [
        "choices = [\nq\"2 - 3 * 4\",\nq\"(2 - 3) * 4\",\nq\"2 - (3 * 4)\"\n];\nans = 2;\nradioq(choices, ans)"
      ],
      "metadata": {},
      "execution_count": null
    },
    {
      "cell_type": "markdown",
      "source": [
        "###### Question\n\nOne of these three expressions will produce a different answer, select\nthat one:"
      ],
      "metadata": {}
    },
    {
      "outputs": [],
      "cell_type": "code",
      "source": [
        "choices = [\nq\"-1^2\",\nq\"(-1)^2\",\nq\"-(1^2)\"\n];\nans = 2;\nradioq(choices, ans)"
      ],
      "metadata": {},
      "execution_count": null
    },
    {
      "cell_type": "markdown",
      "source": [
        "###### Question\n\nWhat is the value of $\\sin(\\pi/10)$?"
      ],
      "metadata": {}
    },
    {
      "outputs": [],
      "cell_type": "code",
      "source": [
        "val = sin(pi/10)\nnumericq(val)"
      ],
      "metadata": {},
      "execution_count": null
    },
    {
      "cell_type": "markdown",
      "source": [
        "###### Question\n\n\nWhat is the value of $\\sin(52^\\circ)$?"
      ],
      "metadata": {}
    },
    {
      "outputs": [],
      "cell_type": "code",
      "source": [
        "val = sind(52)\nnumericq(val)"
      ],
      "metadata": {},
      "execution_count": null
    },
    {
      "cell_type": "markdown",
      "source": [
        "###### Question\n\n\nIs $\\sin^{-1}(\\sin(3\\pi/2))$ equal to $3\\pi/2$? (The \"arc\" functions\ndo no use power notation, but instead a prefix of `a`.)"
      ],
      "metadata": {}
    },
    {
      "outputs": [],
      "cell_type": "code",
      "source": [
        "yesnoq(false)"
      ],
      "metadata": {},
      "execution_count": null
    },
    {
      "cell_type": "markdown",
      "source": [
        "###### Question\n\n\nWhat is the value of `round(3.5000)`"
      ],
      "metadata": {}
    },
    {
      "outputs": [],
      "cell_type": "code",
      "source": [
        "numericq(round(3.5))"
      ],
      "metadata": {},
      "execution_count": null
    },
    {
      "cell_type": "markdown",
      "source": [
        "###### Question\n\n\nWhat is the value of `sqrt(32 - 12)`"
      ],
      "metadata": {}
    },
    {
      "outputs": [],
      "cell_type": "code",
      "source": [
        "numericq(sqrt(32-12))"
      ],
      "metadata": {},
      "execution_count": null
    },
    {
      "cell_type": "markdown",
      "source": [
        "###### Question\n\n\nWhich is greater $e^\\pi$ or $\\pi^e$?"
      ],
      "metadata": {}
    },
    {
      "outputs": [],
      "cell_type": "code",
      "source": [
        "choices = [\nL\"exp(\\pi)\",\nL\"\\pi^exp(1)\"\n];\nans = exp(pi) - pi^exp(1) > 0 ? 1 : 2;\nradioq(choices, ans)"
      ],
      "metadata": {},
      "execution_count": null
    },
    {
      "cell_type": "markdown",
      "source": [
        "###### Question\n\n\nWhat is the value of $\\pi - (x - \\sin(x)/\\cos(x))$ when $x=3$?"
      ],
      "metadata": {}
    },
    {
      "outputs": [],
      "cell_type": "code",
      "source": [
        "x = 3;\nans = x - sin(x)/cos(x);\nnumericq(pi - ans)"
      ],
      "metadata": {},
      "execution_count": null
    },
    {
      "cell_type": "markdown",
      "source": [
        "###### Question\n\n\nFactorials in `Julia` are computed with the function `factorial`, not the postfix operator `!`, as with math notation. What is $10!$?"
      ],
      "metadata": {}
    },
    {
      "outputs": [],
      "cell_type": "code",
      "source": [
        "val = factorial(10)\nnumericq(val)"
      ],
      "metadata": {},
      "execution_count": null
    },
    {
      "cell_type": "markdown",
      "source": [
        "###### Question\n\nWill `-2^2` produce `4` (which is a unary `-` evaluated *before* `^`) or `-4` (which is a unary `-` evaluated *after* `^`)?"
      ],
      "metadata": {}
    },
    {
      "outputs": [],
      "cell_type": "code",
      "source": [
        "choices = [q\"4\", q\"-4\"]\nans = 2\nradioq(choices, ans)"
      ],
      "metadata": {},
      "execution_count": null
    },
    {
      "cell_type": "markdown",
      "source": [
        "###### Question\n\nA twitter post from popular mechanics generated some attention."
      ],
      "metadata": {}
    },
    {
      "outputs": [],
      "cell_type": "code",
      "source": [
        "ImageFile(\"figures/order_operations_pop_mech.png\")"
      ],
      "metadata": {},
      "execution_count": null
    },
    {
      "cell_type": "markdown",
      "source": [
        "What is the answer?"
      ],
      "metadata": {}
    },
    {
      "outputs": [],
      "cell_type": "code",
      "source": [
        "val = 8/2*(2+2)\nnumericq(val)"
      ],
      "metadata": {},
      "execution_count": null
    },
    {
      "cell_type": "markdown",
      "source": [
        "Does this expression return the *correct* answer using proper order of operations?"
      ],
      "metadata": {}
    },
    {
      "outputs": [],
      "cell_type": "code",
      "source": [
        "8÷2(2+2)"
      ],
      "metadata": {},
      "execution_count": null
    },
    {
      "outputs": [],
      "cell_type": "code",
      "source": [
        "yesnoq(false)"
      ],
      "metadata": {},
      "execution_count": null
    },
    {
      "cell_type": "markdown",
      "source": [
        "Why or why not:"
      ],
      "metadata": {}
    },
    {
      "outputs": [],
      "cell_type": "code",
      "source": [
        "choices = [\n\"The precedence of numeric literal coefficients used for implicit multiplication is higher than other binary operators such as multiplication (`*`), and division (`/`, `\\`, and `//`)\",\n\"Of course it is correct.\"\n]\nans=1\nradioq(choices, ans)"
      ],
      "metadata": {},
      "execution_count": null
    }
  ],
  "nbformat_minor": 2,
  "metadata": {
    "language_info": {
      "file_extension": ".jl",
      "mimetype": "application/julia",
      "name": "julia",
      "version": "1.5.0"
    },
    "kernelspec": {
      "name": "julia-1.5",
      "display_name": "Julia 1.5.0",
      "language": "julia"
    }
  },
  "nbformat": 4
}
