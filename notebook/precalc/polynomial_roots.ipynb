{
  "cells": [
    {
      "cell_type": "markdown",
      "source": [
        "# Roots of a polynomial"
      ],
      "metadata": {}
    },
    {
      "outputs": [],
      "cell_type": "code",
      "source": [
        "using CalculusWithJulia\nusing CalculusWithJulia.WeaveSupport\nusing Plots\nnothing"
      ],
      "metadata": {},
      "execution_count": null
    },
    {
      "cell_type": "markdown",
      "source": [
        "The\n[roots](http://en.wikipedia.org/wiki/Properties_of_polynomial_roots)\nof a polynomial are the values of $x$ that when substituted into\nthe expression yield $0$. For example, the polynomial $x^2 - x$ has\ntwo roots, $0$ and $1$. A simple graph verifies this:"
      ],
      "metadata": {}
    },
    {
      "outputs": [],
      "cell_type": "code",
      "source": [
        "using CalculusWithJulia  # loads SymPy\nusing Plots\nf(x) = x^2 - x\nplot(f, -2, 2)\nplot!(zero, -2, 2)"
      ],
      "metadata": {},
      "execution_count": null
    },
    {
      "cell_type": "markdown",
      "source": [
        "The graph crosses the $x$-axis at both $0$ and $1$.\n\nWhat is known about polynomial roots? Some simple questions might be:\n\n* Will we always have a root?\n* How many roots can there be?\n* How large can the roots be?\n\nWe look at such questions here.\n\n\nWe begin with a comment that ties together two concepts related to\npolynomials. It allows us to speak of roots or factors interchangeably:\n\n\n> The [factor theorem](http://en.wikipedia.org/wiki/Factor_theorem)\n> relates the *roots* of a polynomial with its *factors*: $r$ is a\n> root of $p$ if *and* only if $(x-r)$ is a factor of the polynomial\n> $p$.\n\nClearly, if $p$ is factored as $a(x-r_1) \\cdot (x-r_2) \\cdots (x -\nr_k)$ then each $r_i$ is a root, as a product involving at least one 0\nterm will be 0. The other implication is a consequence of polynomial\ndivision.\n\n### Polynomial Division\n\n[Euclidean division](http://en.wikipedia.org/wiki/Euclidean_division)\ndivision of integers $a, b$ uniquely writes $a = b\\cdot q + r$ where\n$0 \\leq r < |b|$. The quotient is $q$ and the remainder $r$. There is\nan analogy for polynomial division, where for two polynomial functions $f(x)$\nand $g(x)$ it is possible to write\n\n$$~\nf(x) = g(x) \\cdot q(x) + r(x)\n~$$\n\nwhere the degree of $r$ is less than the degree of $g(x)$. The\n[long-division algorithm](http://en.wikipedia.org/wiki/Long_division)\ncan be used to find both $q(x)$ and $r(x)$.\n\nFor the special case of a linear factor where $g(x) = x - c$,  the\nremainder must be of degree $0$ (a constant) or the $0$ polynomial. The above simplifies to\n\n$$~\nf(x) = (x-c) \\cdot q(x) + r\n~$$\n\nFrom this, we see that $f(c) = r$. Hence, when $c$ is a root of $f(x)$, then it\nmust be that $r=0$ and so, $(x-c)$ is a factor.\n\n\nThe division algorithm for the case of linear term, $(x-c)$, can be\ncarried out by the [synthetic division](http://en.wikipedia.org/wiki/Synthetic_division)\nalgorithm. This algorithm produces  $q(x)$ and $r$, a.k.a $f(c)$.  The\nWikipedia page describes the algorithm well.\n\nThe following is an example where $f(x) = x^4 + 2x^2 + 5$ and $g(x) = x-2$:\n\n```\n2 | 1 0 2  0  5\n  |   2 4 12 24\n  -------------\n    1 2 6 12 29\n```\n\nThe polynomial $f(x)$ is coded in terms of its coefficients ($a_n$,\n$a_{n-1}$, $\\dots$, $a_1$, $a_0$) and is written on the top row. The\nalgorithm then proceeds from left to right. The number just produced\non the bottom row is multiplied by $c$ and placed under the coefficient\nof $f(x)$. Then values are then added to produce the next number. The\nsequence produced above is `1 2 6 12 29`. The last value (`29`) is\n$r=f(c)$, the others encode the coefficients of `q(x)`, which for this problem\nis $q(x)=x^3 + 2x + 6 + 12$.  That is, we have written:\n\n$$~\nx^4 + 2x^2 + 5 = (x-2) \\cdot (x^3 + 2x + 6 + 12) + 29.\n~$$\n\nAs $r$ is not $0$, we can say that $2$ is not a root of $f(x)$.\n\n\nIf we were to track down the computation that produced $f(2) = 29$, we would have\n\n$$~\n5 + 2 \\cdot (0 + 2 \\cdot (2 + 2 \\cdot (0 + (2 \\cdot 1))))\n~$$\n\nIn terms of $c$ and the coefficients $x_0, x_1, x_2, x_3$, and $x_4$ this is\n\n$$~\nx_0 + c\\cdot(x_1 + c\\cdot(x_2 + c\\cdot(x_3 + c\\cdot x_4))),\n~$$\n\nThe above pattern provides a means to compute $f(c)$ and could easily be generalized for higher degree\npolynomials.  This generalization is called [Horner's](http://en.wikipedia.org/wiki/Horner%27s_method) method. Horner's\nmethod has the advantage of also being faster and more accurate when\nfloating point issues are accounted for. `Julia` has a built-in method\nto compute polynomial evaluations this way.\n\n\nThe `SymPy` package can carry out polynomial long division. The package was loaded with `CalculusWithJulia`. This command defines a variable that is assumed to be a real number:"
      ],
      "metadata": {}
    },
    {
      "outputs": [],
      "cell_type": "code",
      "source": [
        "@vars x real=true"
      ],
      "metadata": {},
      "execution_count": null
    },
    {
      "cell_type": "markdown",
      "source": [
        "This nieve attempt to divide won't \"just work\" though:"
      ],
      "metadata": {}
    },
    {
      "outputs": [],
      "cell_type": "code",
      "source": [
        "(x^4 + 2x^2 + 5) / (x-2)"
      ],
      "metadata": {},
      "execution_count": null
    },
    {
      "cell_type": "markdown",
      "source": [
        "`SymPy` is fairly conservative in how it simplifies answers, and, as\nwritten, there is no compelling reason to change the expressions,\nthough in our example we want it done.\n\nFor this task, `divrem` is available:"
      ],
      "metadata": {}
    },
    {
      "outputs": [],
      "cell_type": "code",
      "source": [
        "q, r = divrem(x^4 + 2x^2 + 5, x - 2)"
      ],
      "metadata": {},
      "execution_count": null
    },
    {
      "cell_type": "markdown",
      "source": [
        "The answer is a tuple containing the quotient and remainder. The quotient itself could be found with `div` or `÷` and the remainder with `rem`."
      ],
      "metadata": {}
    },
    {
      "outputs": [],
      "cell_type": "code",
      "source": [
        "note(\"\"\"For those who have worked with SymPy within Python, `divrem` is the `div` method renamed, as `Julia`'s `div` method has the generic meaning of returning the quotient.\"\"\")"
      ],
      "metadata": {},
      "execution_count": null
    },
    {
      "cell_type": "markdown",
      "source": [
        "As well, the `apart` function could  be used for this task. This function\ncomputes the\n[partial](http://en.wikipedia.org/wiki/Partial_fraction_decomposition)\nfraction decomposition of a ratio of polynomial functions."
      ],
      "metadata": {}
    },
    {
      "outputs": [],
      "cell_type": "code",
      "source": [
        "apart((x^4 + 2x^2 + 5) / (x-2))"
      ],
      "metadata": {},
      "execution_count": null
    },
    {
      "cell_type": "markdown",
      "source": [
        "The function `together` would combine such terms, as an \"inverse\" to\n`apart`. This isn't so much of interest at the moment, but will be\nwhen techniques of integration are looked at.\n\n\n\n\n### The rational root test\n\nFactoring polynomials to find zeros is a task that most all readers\nhere will recognize, and, perhaps, remember not so fondly. One helpful\ntrick to find possible zeros *by hand* is the [rational root\ntheorem](http://en.wikipedia.org/wiki/Rational_root_theorem): if a\npolynomial has integer coefficients with $a_0 \\neq 0$, than any\nrational root, $p/q$, must have $p$ dividing the constant $a_0$ and\n$q$ dividing the leading term $a_n$.\n\n\nTo glimpse why, suppose we have a polynomial with a rational root and\ninteger coefficients. With this in\nmind, a polynomial with identical roots may be written as $(qx\n-p)(a_{n-1}x^{n-1}+\\cdots a_1 x + a_0)$, where each coefficient is an\ninteger. Multiplying through, we get that the polynomial is\n$qa_{n-1}x^n + \\cdots + pa_0$. So $q$ is a factor of the leading\ncoefficient and $p$ is a factor of the constant.\n\nAn immediate consequence is that if the polynomial with integer\ncoefficients is monic, then any rational root must be an integer.\n\nThis gives a finite -though possibly large -set of values that can\nbe checked to exhaust the possibility of a rational root. By hand this\nprocess can be tedious, though may be speeded up using synthetic\ndivision. This task is one of the mainstays of high school algebra\nwhere problems are chosen judiciously to avoid too many possibilities.\n\n\nHowever, one of the great triumphs of computer algebra is the ability\nto factor polynomials with integer (or rational) coefficients over the\nrational numbers. This is typically done by first factoring over\nmodular numbers (akin to those on a clock face) and has nothing to do\nwith the rational root test.\n\n`SymPy` can quickly find such a factorization, even\nfor quite large polynomials with rational or integer coefficients.\n\nFor example, factoring $p = 2x^4 + x^3 -19x^2 -9x +9$. This has\n*possible* rational roots of plus or minus $1$ or $2$ divided by $1$,\n$3$, or $9$ - $12$ possible answers for this modest question. By hand\nthat can be a bit of work, but `factor` does it without fuss:"
      ],
      "metadata": {}
    },
    {
      "outputs": [],
      "cell_type": "code",
      "source": [
        "p = 2x^4 + x^3 - 19x^2 - 9x + 9\nfactor(p)"
      ],
      "metadata": {},
      "execution_count": null
    },
    {
      "cell_type": "markdown",
      "source": [
        "### Fundamental theorem of algebra\n\nThere is a basic fact about the roots of a polynomial of degree\n$n$. Before formally stating it, we consider the earlier observation\nthat a polynomial of degree $n$ for large values of $x$ has a graph\nthat looks like the leading term. However, except at $0$, monomials do\nnot cross the $x$ axis, the roots must be result of the interaction of\nlower order terms. Intuitively, since each term can contribute only\none basic shape up or down, there can't be arbitrarily many roots. In\nfact, a consequence of the\n[Fundamental Theorem of Algebra](http://en.wikipedia.org/wiki/Fundamental_theorem_of_algebra)\n(Gauss) is:\n\n> A polynomial of degree $n$ has at most $n$ real roots.\n\nThis statement can be proved with the factor theorem and the division algorithm.\n\nIn fact the fundamental theorem states that there are exactly $n$\nroots, though, in general, one must consider multiple roots and\npossible complex roots to get all $n$. (Consider $x^2$ to see why\nmultiplicity must be accounted for and $x^2 + 1$ to see why complex\nvalues may be necessary.)\n\n(The special case of the $0$ polynomial having no degree defined\neliminates needing to exclude it, as it has infinitely many roots. Otherwise, the language would be qualified to have $n \\geq 0$.)\n\n## Finding roots of a polynomial\n\nKnowing that a certain number of roots exist and actually finding\nthose roots are different matters. For the simplest cases (the linear\ncase) with $a_0+a_1x$, we know by solving algebraically that the root\nis $-a_0/a_1$. (We assume $a_1\\neq 0$.) Of course, when $a_1 \\neq 0$,\nthe graph of the polynomial will be a line with some non-zero slope,\nso will cross the $x$-axis as the line and this axis are not parallel.\n\nFor the quadratic case, there is the famous\n[quadratic formula](http://en.wikipedia.org/wiki/Quadratic_formula) (known since\n2000 BC) to find the two roots guaranteed by the formula:\n\n$$~\n\\frac{-b \\pm \\sqrt{b^2 - 4ac}}{2a}.\n~$$\n\nThe discriminant is defined as $b^2 - 4ac$. When this is negative, the\nsquare root requires the concept of complex numbers to be defined, and\nthe formula shows the two complex roots are conjugates. When the\ndiscriminant is $0$, then the root has multiplicity two, e.g., the\npolynomial will factor as $a_2(x-r)^2$. Finally, when the discriminant\nis positive, there will be two distinct, real roots. This figure shows\nthe 3 cases, that are illustrated by $x^2 -1$, $x^2$ and $x^2 + 1$:"
      ],
      "metadata": {}
    },
    {
      "outputs": [],
      "cell_type": "code",
      "source": [
        "plot(x^2 - 1,  -2, 2, legend=false)  # two roots\nplot!(x^2, -2, 2)                           # one (double) root\nplot!(x^2 + 1, -2, 2)                       # no real root\nplot!(zero, -2, 2)"
      ],
      "metadata": {},
      "execution_count": null
    },
    {
      "cell_type": "markdown",
      "source": [
        "There are similar formulas for the\n[cubic](http://en.wikipedia.org/wiki/Cubic_function#General_formula_for_roots)\nand\n[quartic](http://en.wikipedia.org/wiki/Quartic_function#General_formula_for_roots)\ncases. (The [cubic formula](http://arxiv.org/pdf/math/0005026v1.pdf)\nwas known to Cardano in 1545, though through Tartagli, and the quartic\nwas solved by Ferrari, Cardano's roommate.)\n\nIn general, there is no such formula using radicals for 5th degree\npolynomials or higher, a proof first given by Ruffini in 1803 with\nimprovement by Abel in 1824. Even though the fundamental theorem shows\nthat any polynomial can be factored into linear and quadratic terms,\nthere is no general method as to how. (It is the case that *some* such\npolynomials may be solvable by radicals, just not all of them.)\n\n\n\nFinding roots with `SymPy` can also be done through its `solve`\nfunction, a function which also has a more general usage, as it can solve\nsimple expressions or more than one expression. Here we illustrate\nthat `solve` can easily handle quadratic expressions:"
      ],
      "metadata": {}
    },
    {
      "outputs": [],
      "cell_type": "code",
      "source": [
        "solve(x^2 + 2x - 3)"
      ],
      "metadata": {},
      "execution_count": null
    },
    {
      "cell_type": "markdown",
      "source": [
        "The answer is a vector of values that when substituted in for the free\nvariable `x` produce 0. The call to `solve` does not have an equals\nsign. To solve a more complicated expression of the type $f(x) =\ng(x)$, one can solve $f(x) - g(x) = 0$ or use the `Eq` function.\n\n\nWhen the expression to solve has more than one free variable, the\nvariable to solve for should be explicitly stated with a second\nargument. For example, here we show that `solve` is aware of the\nquadratic formula:"
      ],
      "metadata": {}
    },
    {
      "outputs": [],
      "cell_type": "code",
      "source": [
        "@vars a b c\nsolve(a*x^2 + b*x + c, x)"
      ],
      "metadata": {},
      "execution_count": null
    },
    {
      "cell_type": "markdown",
      "source": [
        "The `solve` function will respect assumptions made when a variable is\ndefined through `symbols` or `@vars`:"
      ],
      "metadata": {}
    },
    {
      "outputs": [],
      "cell_type": "code",
      "source": [
        "@vars a\n@vars b real=true\nc = symbols(\"c\", positive=true)\nsolve(a^2 + 1)     # works, as a can be complex"
      ],
      "metadata": {},
      "execution_count": null
    },
    {
      "outputs": [],
      "cell_type": "code",
      "source": [
        "solve(b^2 + 1)     # fails, as b is assumed real"
      ],
      "metadata": {},
      "execution_count": null
    },
    {
      "outputs": [],
      "cell_type": "code",
      "source": [
        "solve(c + 1)       # fails, as c is assumed positive"
      ],
      "metadata": {},
      "execution_count": null
    },
    {
      "cell_type": "markdown",
      "source": [
        "Previously, it was mentioned that `factor` only factors polynomials\nwith integer coefficients over rational roots. However, `solve` can be\nused to factor. Here is an example:"
      ],
      "metadata": {}
    },
    {
      "outputs": [],
      "cell_type": "code",
      "source": [
        "p = x^2 - 2\nfactor(p)"
      ],
      "metadata": {},
      "execution_count": null
    },
    {
      "cell_type": "markdown",
      "source": [
        "Nothing is found, as the roots are $\\pm \\sqrt{2}$, irrational numbers."
      ],
      "metadata": {}
    },
    {
      "outputs": [],
      "cell_type": "code",
      "source": [
        "rts = solve(p)\nprod(x-r for r in rts)"
      ],
      "metadata": {},
      "execution_count": null
    },
    {
      "cell_type": "markdown",
      "source": [
        "Solving cubics and quartics can be done exactly using radicals. For\nexample, here we see the solutions to a quartic equation can be quite\ninvolved, yet still explicit. (We redefine `x` so that complex-valued\nsolutions, if any, will be found.)"
      ],
      "metadata": {}
    },
    {
      "outputs": [],
      "cell_type": "code",
      "source": [
        "@vars x\nsolve(x^4 - 2x - 1)"
      ],
      "metadata": {},
      "execution_count": null
    },
    {
      "cell_type": "markdown",
      "source": [
        "Some fifth degree polynomials are solvable in terms of radicals,\nhowever, `solve` will not seem to have luck with this particular fifth degree\npolynomial:"
      ],
      "metadata": {}
    },
    {
      "outputs": [],
      "cell_type": "code",
      "source": [
        "solve(x^5 - x + 1)"
      ],
      "metadata": {},
      "execution_count": null
    },
    {
      "cell_type": "markdown",
      "source": [
        "(Though there is no formula involving only radicals like the quadratic\nequation, there is a formula for the roots in terms of a function\ncalled the [Bring radical](http://en.wikipedia.org/wiki/Bring_radical).)\n\n### Numerically finding roots\n\nThe `solve` function can be used to get numeric approximations to the\nroots. It is as easy as calling `N` on the solutions:"
      ],
      "metadata": {}
    },
    {
      "outputs": [],
      "cell_type": "code",
      "source": [
        "rts = solve(x^5 - x + 1)\nN.(rts)     # note the `.(` to broadcast over all values in rts"
      ],
      "metadata": {},
      "execution_count": null
    },
    {
      "cell_type": "markdown",
      "source": [
        "Here we see another example:"
      ],
      "metadata": {}
    },
    {
      "outputs": [],
      "cell_type": "code",
      "source": [
        "ex = x^7 -3x^6 +  2x^5 -1x^3 +  2x^2 + 1x^1  - 2\nsolve(ex)"
      ],
      "metadata": {},
      "execution_count": null
    },
    {
      "cell_type": "markdown",
      "source": [
        "This finds two of the seven roots, the remainder can be found numerically:"
      ],
      "metadata": {}
    },
    {
      "outputs": [],
      "cell_type": "code",
      "source": [
        "N.(solve(ex))"
      ],
      "metadata": {},
      "execution_count": null
    },
    {
      "cell_type": "markdown",
      "source": [
        "### The solveset function\n\nSymPy is phasing in the `solveset` function to replace `solve`. The\nmain reason being that `solve` has too many different output\ntypes. The output of `solveset` is always a set. For tasks like this, we use\nthe `elements` function to access the individual answers. To\nillustrate:"
      ],
      "metadata": {}
    },
    {
      "outputs": [],
      "cell_type": "code",
      "source": [
        "p = 8x^4 - 8x^2  + 1\nrts = solveset(p)"
      ],
      "metadata": {},
      "execution_count": null
    },
    {
      "cell_type": "markdown",
      "source": [
        "The `rts` object does not allow immediate access to its elements. For that, as `rts` is a finite set, `elements` will work to return a vector:"
      ],
      "metadata": {}
    },
    {
      "outputs": [],
      "cell_type": "code",
      "source": [
        "elements(rts)"
      ],
      "metadata": {},
      "execution_count": null
    },
    {
      "cell_type": "markdown",
      "source": [
        "So to get the numeric approximation is"
      ],
      "metadata": {}
    },
    {
      "outputs": [],
      "cell_type": "code",
      "source": [
        "N.(elements(solveset(p)))"
      ],
      "metadata": {},
      "execution_count": null
    },
    {
      "cell_type": "markdown",
      "source": [
        "## Do numeric methods matter when you can just graph?\n\nIt may seem that certain practices related to\nroots of polynomials are unnecessary as we could just graph the\nequation and look for the roots. This feeling is perhaps motivated by the examples given in\ntextbooks to be worked by hand, which necessarily focus on smallish\nsolutions. But, in general, without some sense of where the roots are,\nan informative graph itself can be hard to produce. That is, technology doesn't\ndisplace thinking - it only supplements it.\n\nTake for example, the polynomial $(x-20)^5 - (x-20) + 1$. In this form\nwe might think the roots are near 20. However, were we presented with\nthis polynomial in expanded form: $x^5 - 100x^4 + 4000x^3 - 80000x^2 +\n799999x - 3199979$, we might be tempted to just graph it to find\nroots.  A naive graph might be to plot over $[-10, 10]$:"
      ],
      "metadata": {}
    },
    {
      "outputs": [],
      "cell_type": "code",
      "source": [
        "p =   x^5 - 100x^4 + 4000x^3 - 80000x^2 + 799999x - 3199979\nplot(p, -10, 10)"
      ],
      "metadata": {},
      "execution_count": null
    },
    {
      "cell_type": "markdown",
      "source": [
        "This seems to indicate a root near 10. But look at the scale of the\n$y$ axis. The value at $-10$ is around $-25,000,000$ so it is really\nhard to tell if $f$ is near $0$ when $x=10$, as the range is too\nlarge.\n\nA graph over $[10,20]$ is still unclear:"
      ],
      "metadata": {}
    },
    {
      "outputs": [],
      "cell_type": "code",
      "source": [
        "plot(p, 10,20)"
      ],
      "metadata": {},
      "execution_count": null
    },
    {
      "cell_type": "markdown",
      "source": [
        "We see that what looked like a zero near 10, was actually a number around $-100,000$.\n\n\nContinuing, a plot over $[15, 20]$ still isn't that useful. It isn't\nuntil we get close to 18 that the large values of the polynomial\nallow a clear vision of the values near $0$. That being said, plotting\nanything bigger than 22 quickly makes the large values hide those near\n$0$, and might make us think where the function dips back down there\nis a second or third zero, when only 1 is the case. (We know that, as this is the same $x^5 - x + 1$ shifted to the right by 20 units.)"
      ],
      "metadata": {}
    },
    {
      "outputs": [],
      "cell_type": "code",
      "source": [
        "plot(p, 18, 22)"
      ],
      "metadata": {},
      "execution_count": null
    },
    {
      "cell_type": "markdown",
      "source": [
        "Not that it can't be done, but graphically solving for a root\nhere can require some judicious choice of viewing window. Even worse\nis the case where something might graphically look like a root, but in\nfact not be a root. Something like $(x-100)^2 + 0.1$ will demonstrate.\n\nThe point of this is to say, that it is useful to know where to look\nfor roots, even if graphing calculators or graphing programs make\ndrawing graphs relatively painless. A better way in this case would be\nto find the real roots first, and then incorporate that information\ninto the choice of plot window.\n\n## Some facts about the real roots of a polynomial\n\nA polynomial with real coefficients may or may not have real\nroots. The following discusses some simple checks on the number of\nreal roots and bounds on how big they can be. This can be *roughly*\nused to narrow viewing windows when graphing polynomials.\n\n### Descartes' rule of signs\n\nThe study of polynomial roots is an old one. In 1637 Descartes\npublished a *simple* method to determine an upper bound on the number\nof *positive* real roots of a polynomial.\n\n> [Descartes' rule of signs](http://en.wikipedia.org/wiki/Descartes%27_rule_of_signs). if\n>  $p=a_n x^n + a_{n-1}x^{n-1} + \\cdots a_1x + a_0$ then the number of\n>  positive real roots is  either equal to the number of\n>  sign differences between consecutive nonzero coefficients, or is\n>  less than it by an even number. Repeated roots are counted separately.\n\nOne method of proof first shows that in synthetic division by $(x-c)$\nwith $c > 0$, we must have that any sign change in $q$ is related to a\nsign change in $p$ and there must be at least one less. This is then\nused to show that there can be only as many positive roots as sign\nchanges. That the difference comes in pairs is related to complex\nroots of real polynomials always coming in pairs.  A formal proof is\ngiven\n[here](http://mathweb.scranton.edu/monks/courses/ProblemSolving/POLYTHEOREMS.pdf).\n\n\nAn immediate consequence, is that a polynomial whose coefficients are\nall non-negative will have no positive real roots.\n\nApplying this to the polynomial $x^5 -x + 1$ we get that the sign\npattern is `+`, `-`, `+` which has two changes of sign. The number of\n*positive* real roots is either 2 or 0. In fact there are $0$ for this\ncase.\n\nWhat about negative roots? Cleary, any negative root of $p$ is a\npositive root of $q(x) = p(-x)$, as the graph of $q$ is just that of\n$p$ flipped through the $y$ axis. But the coefficients of $q$ are the\nsame as $p$, except for the odd-indexed coefficients ($a_1, a_3,\n\\dots$) have a changed sign.  Continuing with our example, for $q(x) = -x^5 +\nx + 1$ we get the new sign pattern `-`, `+`, `+` which yields one sign\nchange. That is, there *must* be a negative real root, and indeed there\nis, $x \\approx -1.1673$.\n\nFor another example, if we looked at $f(x) = x^5 - 100x^4 + 4000x^3 -\n80000x^2 + 799999x - 3199979$ again, we see that there could be 1, 3,\nor 5 *positive* roots. However, changing the signs of the odd powers\nleaves all \"-\" signs, so there are $0$ negative roots. From the graph,\nwe saw just 1 real root, not 3 or 5. We can verify numerically with:"
      ],
      "metadata": {}
    },
    {
      "outputs": [],
      "cell_type": "code",
      "source": [
        "p =  x^5 - 100x^4 + 4000x^3 - 80000x^2 + 799999x - 3199979\nN.(solve(p))"
      ],
      "metadata": {},
      "execution_count": null
    },
    {
      "cell_type": "markdown",
      "source": [
        "### Cauchy's bound on the magnitude of the real roots.\n\nDescartes' rule gives a bound on how many real roots there may\nbe. Cauchy provided a bound on how large they can be. Assume our\npolynomial is monic (if not, divide by $a_n$ to make it so, as this\nwon't effect the roots). Then any real root is no larger in absolute\nvalue than $|a_0| + |a_1| + |a_2| + \\cdots + |a_n|$, (this is\nexpressed in different ways.)\n\nTo see precisely\n[why](https://captainblack.wordpress.com/2009/03/08/cauchys-upper-bound-for-the-roots-of-a-polynomial/)\nthis bound works, suppose $x$ is a root with $|x| > 1$ and let $h$ be\nthe bound. Then since $x$ is a root, we can solve for $x^n$ as:\n\n$$~\nx_n = -(a_0 + a_1 x + \\cdots a_{n-1}x^{n-1})\n~$$\n\nWhich after taking absolute values of both sides, yields:\n\n$$~\n|x_n| \\leq |a_0| + |a_1||x| + |a_2||x^2| + \\cdots |a_{n-1}| |x^{n-1}| \\leq (h-1) (1 + |x| + |x^2| + \\cdots |x^{n-1}|).\n~$$\n\nThe last sum can be computed using a formula for geometric sums,\n$(|x^n| - 1)/(|x|-1)$. Rearranging, gives the inequality:\n\n$$~\n|x| - 1 \\leq (h-1) \\cdot (1 - \\frac{1}{|x^n|} ) \\leq (h-1)\n~$$\n\nfrom which it follows that $|x| \\leq h$, as desired.\n\n\nFor our polynomial $x^5 -x + 1$ we have the sum above is $3$. The lone\nreal root is approximately $-1.1673$ which satisfies $|-1.1673| \\leq\n3$."
      ],
      "metadata": {}
    },
    {
      "outputs": [],
      "cell_type": "code",
      "source": [
        "note(\"\"\" **Other numeric methods**\nFinding roots of polynomials numerically is implemented in a few `Julia`-only packages, for example the `roots` function of the `Polynomials` package and the `roots` function of the `PolynomialRoots` package, among other (`AMRVW`, `AMVW`, ...).\"\"\"\n\n)"
      ],
      "metadata": {},
      "execution_count": null
    },
    {
      "cell_type": "markdown",
      "source": [
        "## Questions\n\n###### Question\n\nWhat is the remainder of dividing $x^4 - x^3 - x^2 + 2$ by $x-2$?"
      ],
      "metadata": {}
    },
    {
      "outputs": [],
      "cell_type": "code",
      "source": [
        "choices = [L\"x^3 + x^2 + x + 2\",\nL\"x-2\",\nL\"6\",\nL\"0\"]\nans = 3\nradioq(choices, ans)"
      ],
      "metadata": {},
      "execution_count": null
    },
    {
      "cell_type": "markdown",
      "source": [
        "###### Question\n\nWhat is the remainder of dividing $x^4 - x^3 - x^2 + 2$ by $x^3 - 2x$?"
      ],
      "metadata": {}
    },
    {
      "outputs": [],
      "cell_type": "code",
      "source": [
        "choices = [L\"x - 1\",\nL\"x^2 - 2x + 2\",\n\"2\"\n]\nans = 2\nradioq(choices, ans)"
      ],
      "metadata": {},
      "execution_count": null
    },
    {
      "cell_type": "markdown",
      "source": [
        "###### Question\n\nWe have that $x^5 - x + 1 = (x^3 + x^2 - 1) \\cdot (x^2 - x + 1) + (-2x + 2)$.\n\nWhat is the remainder of dividing $x^5 - x + 1$ by $x^2 - x + 1$?"
      ],
      "metadata": {}
    },
    {
      "outputs": [],
      "cell_type": "code",
      "source": [
        "choices = [\nL\"x^2 - x + 1\",\nL\"x^3 + x^2 - 1\",\nL\"-2x + 2\"\n]\nans = 3\nradioq(choices, ans)"
      ],
      "metadata": {},
      "execution_count": null
    },
    {
      "cell_type": "markdown",
      "source": [
        "###### Question\n\nConsider this output from synthetic division\n\n```\n2 | 1 0 0 0 -1  1\n  |   2 4 8 16 30\n  ---------------\n    1 2 4 8 15 31\n```\n\nrepresenting $p(x) = q(x)\\cdot(x-c) + r$.\n\nWhat is $p(x)$?"
      ],
      "metadata": {}
    },
    {
      "outputs": [],
      "cell_type": "code",
      "source": [
        "choices = [\nL\"x^5 - x + 1\",\nL\"2x^4 + 4x^3 + 8x^2 + 16x + 30\",\nL\"x^5 + 2x^4 + 4x^3 + 8x^2 + 15x + 31\",\nL\"x^4 +2x^3 + 4x^2 + 8x + 15\",\nL\"31\"]\nans = 1\nradioq(choices, ans)"
      ],
      "metadata": {},
      "execution_count": null
    },
    {
      "cell_type": "markdown",
      "source": [
        "What is $q(x)$?"
      ],
      "metadata": {}
    },
    {
      "outputs": [],
      "cell_type": "code",
      "source": [
        "choices = [\nL\"x^5 - x + 1\",\nL\"2x^4 + 4x^3 + 8x^2 + 16x + 30\",\nL\"x^5 + 2x^4 + 4x^3 + 8x^2 + 15x + 31\",\nL\"x^4 +2x^3 + 4x^2 + 8x + 15\",\nL\"31\"]\nans = 4\nradioq(choices, ans)"
      ],
      "metadata": {},
      "execution_count": null
    },
    {
      "cell_type": "markdown",
      "source": [
        "What is $r$?"
      ],
      "metadata": {}
    },
    {
      "outputs": [],
      "cell_type": "code",
      "source": [
        "choices = [\nL\"x^5 - x + 1\",\nL\"2x^4 + 4x^3 + 8x^2 + 16x + 30\",\nL\"x^5 + 2x^4 + 4x^3 + 8x^2 + 15x + 31\",\nL\"x^4 +2x^3 + 4x^2 + 8x + 15\",\nL\"31\"]\nans = 5\nradioq(choices, ans)"
      ],
      "metadata": {},
      "execution_count": null
    },
    {
      "cell_type": "markdown",
      "source": [
        "###### Question\n\nLet $p=x^4 -9x^3 +30x^2 -44x + 24$\n\nFactor $p$. What are the factors?"
      ],
      "metadata": {}
    },
    {
      "outputs": [],
      "cell_type": "code",
      "source": [
        "choices = [\nL\" $2$ and  $3$\",\nL\" $(x-2)$ and $(x-3)$\",\nL\" $(x+2)$ and $(x+3)$\"]\nans = 2\nradioq(choices, ans)"
      ],
      "metadata": {},
      "execution_count": null
    },
    {
      "cell_type": "markdown",
      "source": [
        "###### Question\n\nDoes the expression $x^4 - 5$ factor over the rational numbers?"
      ],
      "metadata": {}
    },
    {
      "outputs": [],
      "cell_type": "code",
      "source": [
        "yesnoq(false)"
      ],
      "metadata": {},
      "execution_count": null
    },
    {
      "cell_type": "markdown",
      "source": [
        "Using `solve`, how many real roots does $x^4 - 5$ have:"
      ],
      "metadata": {}
    },
    {
      "outputs": [],
      "cell_type": "code",
      "source": [
        "numericq(2)"
      ],
      "metadata": {},
      "execution_count": null
    },
    {
      "cell_type": "markdown",
      "source": [
        "###### Question\n\nWhat are the numeric values of the real roots of $f(x) = x^6 - 5x^5 + x^4 - 3x^3 + x^2 - x + 1$?"
      ],
      "metadata": {}
    },
    {
      "outputs": [],
      "cell_type": "code",
      "source": [
        "choices = [\nq\"[-0.434235, -0.434235,  0.188049, 0.188049, 0.578696, 4.91368]\",\nq\"[-0.434235, -0.434235,  0.188049, 0.188049]\",\nq\"[0.578696, 4.91368]\",\nq\"[-0.434235+0.613836im, -0.434235-0.613836im]\"]\nans = 3\nradioq(choices, ans)"
      ],
      "metadata": {},
      "execution_count": null
    },
    {
      "cell_type": "markdown",
      "source": [
        "###### Question\n\nOdd polynomials must have at least one real root.\n\nConsider the polynomial $x^5 - 3x + 1$. Does it have more than one real root?"
      ],
      "metadata": {}
    },
    {
      "outputs": [],
      "cell_type": "code",
      "source": [
        "using Roots\nxs = fzeros(x -> x^5 - 3x + 1, -10, 10)\nyesnoq(length(xs) > 1)"
      ],
      "metadata": {},
      "execution_count": null
    },
    {
      "cell_type": "markdown",
      "source": [
        "Consider the polynomial $x^5 - 1.5x + 1$. Does it have more than one real root?"
      ],
      "metadata": {}
    },
    {
      "outputs": [],
      "cell_type": "code",
      "source": [
        "using Roots\nxs = fzeros(x -> x^5 - 1.5x + 1, -10, 10)\nyesnoq(length(xs) > 1)"
      ],
      "metadata": {},
      "execution_count": null
    },
    {
      "cell_type": "markdown",
      "source": [
        "###### Question\n\nWhat is the maximum number of positive, real roots that Descarte's bound says $p=x^5 + x^4 - x^3 + x^2 + x + 1$ can have?"
      ],
      "metadata": {}
    },
    {
      "outputs": [],
      "cell_type": "code",
      "source": [
        "numericq(2)"
      ],
      "metadata": {},
      "execution_count": null
    },
    {
      "cell_type": "markdown",
      "source": [
        "How many positive, real roots does it actually have?"
      ],
      "metadata": {}
    },
    {
      "outputs": [],
      "cell_type": "code",
      "source": [
        "numericq(0)"
      ],
      "metadata": {},
      "execution_count": null
    },
    {
      "cell_type": "markdown",
      "source": [
        "What is the maximum number of negative, real roots  that Descarte's bound says $p=x^5 + x^4 - x^3 + x^2 + x + 1$ can have?"
      ],
      "metadata": {}
    },
    {
      "outputs": [],
      "cell_type": "code",
      "source": [
        "numericq(3)"
      ],
      "metadata": {},
      "execution_count": null
    },
    {
      "cell_type": "markdown",
      "source": [
        "How many negative, real roots does it actually have?"
      ],
      "metadata": {}
    },
    {
      "outputs": [],
      "cell_type": "code",
      "source": [
        "numericq(1)"
      ],
      "metadata": {},
      "execution_count": null
    },
    {
      "cell_type": "markdown",
      "source": [
        "###### Question\n\nLet $f(x) = x^5 - 4x^4 + x^3 - 2x^2 + x$. What does Cauchy's bound say is the largest possible magnitude of a root?"
      ],
      "metadata": {}
    },
    {
      "outputs": [],
      "cell_type": "code",
      "source": [
        "ans = 1 + 4 + 1 + 2 + 1\nnumericq(ans)"
      ],
      "metadata": {},
      "execution_count": null
    },
    {
      "cell_type": "markdown",
      "source": [
        "What is the largest magnitude of a real root?"
      ],
      "metadata": {}
    },
    {
      "outputs": [],
      "cell_type": "code",
      "source": [
        "f(x) = x^5 - 4x^4 + x^3 - 2x^2 + x\nrts = fzeros(f, -5, 5)\nans = maximum(abs.(rts))\nnumericq(ans)"
      ],
      "metadata": {},
      "execution_count": null
    },
    {
      "cell_type": "markdown",
      "source": [
        "###### Question\n\nAs $1 + 2 + 3 + 4$ is $10$, Cauchy's bound says that the magnitude of\nthe largest real root of $x^3 - ax^2 + bx - c$ is $10$ where $a,b,c$\nis one of $2,3,4$. By considering all 6 such possible polynomials\n(such as $x^3 - 3x^2 + 2x - 4$) what is the largest magnitude or a root?"
      ],
      "metadata": {}
    },
    {
      "outputs": [],
      "cell_type": "code",
      "source": [
        "p = Permutation(0,2)\nq = Permutation(1,2)\nm = 0\nfor perm in (p, q, q*p, p*q, p*q*p, p^2)\n    global a,b,c =  perm([2,3,4])\n     fn = x -> x^3 - a*x^2 + b*x - c\n    rts_ = fzeros(fn, -10, 10)\n\tglobal a1 = maximum(abs.(rts_))\n\tglobal m = a1 > m ? a1 : m\nend\nnumericq(m)"
      ],
      "metadata": {},
      "execution_count": null
    },
    {
      "cell_type": "markdown",
      "source": [
        "###### Question\n\nThe roots of the [Chebyshev](https://en.wikipedia.org/wiki/Chebyshev_polynomials) polynomials are helpful for some numeric algorithms. These are a family of polynomials related by $T_{n+1}(x) = 2xT_n(x) - T_{n-1}(x)$ (a recurrence relation in the manner of the Fibonacci sequence). The first two are $T_0(x) = 1$ and $T_1(x) =x$.\n\n\n\n* Based on the relation, figure out $T_2(x)$. It is"
      ],
      "metadata": {}
    },
    {
      "outputs": [],
      "cell_type": "code",
      "source": [
        "choices = [L\"4x^2 - 1\", L\"2x^2\", L\"x\", L\"2x\"]\nans = 1\nradioq(choices, ans)"
      ],
      "metadata": {},
      "execution_count": null
    },
    {
      "cell_type": "markdown",
      "source": [
        "* True or false, the $degree$ of $T_n(x)$ is $n$: (Look at the defining relation and reason this out)."
      ],
      "metadata": {}
    },
    {
      "outputs": [],
      "cell_type": "code",
      "source": [
        "yesnoq(true)"
      ],
      "metadata": {},
      "execution_count": null
    },
    {
      "cell_type": "markdown",
      "source": [
        "* The fifth one is $T_5(x) = 32x^5 - 32x^3 + 6x$. Cauchy's bound says that the largest root has absolute value"
      ],
      "metadata": {}
    },
    {
      "outputs": [],
      "cell_type": "code",
      "source": [
        "1 + 1 + 6/32"
      ],
      "metadata": {},
      "execution_count": null
    },
    {
      "cell_type": "markdown",
      "source": [
        "The Chebyshev polynomials have the property that in fact all $n$ roots are real, distinct, and in $[-1, 1]$. Using `SymPy`, find the magnitude of the largest root:"
      ],
      "metadata": {}
    },
    {
      "outputs": [],
      "cell_type": "code",
      "source": [
        "import LinearAlgebra: norm\n@syms x\np = 16x^5 - 20x^3 + 5x\nrts = N.(solve(p))\nans = maximum(norm.(rts))\nnumericq(ans)"
      ],
      "metadata": {},
      "execution_count": null
    },
    {
      "cell_type": "markdown",
      "source": [
        "* Plotting `p` over the interval $[-2,2]$ does not help graphically identify the roots:"
      ],
      "metadata": {}
    },
    {
      "outputs": [],
      "cell_type": "code",
      "source": [
        "plot(p, -2, 2)"
      ],
      "metadata": {},
      "execution_count": null
    },
    {
      "cell_type": "markdown",
      "source": [
        "Does graphing over $[-1,1]$ show clearly the $5$ roots?"
      ],
      "metadata": {}
    },
    {
      "outputs": [],
      "cell_type": "code",
      "source": [
        "yesnoq(true)"
      ],
      "metadata": {},
      "execution_count": null
    }
  ],
  "nbformat_minor": 2,
  "metadata": {
    "language_info": {
      "file_extension": ".jl",
      "mimetype": "application/julia",
      "name": "julia",
      "version": "1.5.0"
    },
    "kernelspec": {
      "name": "julia-1.5",
      "display_name": "Julia 1.5.0",
      "language": "julia"
    }
  },
  "nbformat": 4
}
