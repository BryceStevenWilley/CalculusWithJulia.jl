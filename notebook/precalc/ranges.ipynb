{
  "cells": [
    {
      "cell_type": "markdown",
      "source": [
        "# Ranges and Sets"
      ],
      "metadata": {}
    },
    {
      "outputs": [],
      "cell_type": "code",
      "source": [
        "using CalculusWithJulia\nusing CalculusWithJulia.WeaveSupport\nusing Plots\nnothing"
      ],
      "metadata": {},
      "execution_count": null
    },
    {
      "cell_type": "markdown",
      "source": [
        "Sequences of numbers are prevalent in math. A simple one is just counting by ones:\n\n$$~\n1, 2, 3, 4, 5, 6, 7, 8, 9, 10, \\dots\n~$$\n\nOr counting by sevens:\n\n$$~\n7, 14, 21, 28, 35, 42, 49, \\dots\n~$$\n\nMore challenging for humans is [counting backwards](http://www.psychpage.com/learning/library/assess/mse.htm) by 7:\n\n$$~\n100, 93, 86, 79, \\dots\n~$$\n\nThese are examples of [arithmetic sequences](http://en.wikipedia.org/wiki/Arithmetic_progression). The form of the first $n+1$ terms in such a sequence is:\n\n$$~\na_0, a_0 + h, a_0 + 2h, a_0 + 3h, \\dots, a_0 + nh\n~$$\n\n\nThe formula for the $a_n$th term can be written in terms of $a_0$, or\nany other $0 < m \\leq n$ with $a_n = a_m + (n-m)\\cdot h$.\n\n\nA typical question might be: The first term of an arithmetic sequence\nis equal to 200 and the common difference is equal to -10. Find the\nvalue of $a_{20}$. We could find this using $a_n = a_0 + n\\cdot h$:"
      ],
      "metadata": {}
    },
    {
      "outputs": [],
      "cell_type": "code",
      "source": [
        "a0, h, n = 200, -10, 20\na0 + n * h"
      ],
      "metadata": {},
      "execution_count": null
    },
    {
      "cell_type": "markdown",
      "source": [
        "More complicated questions involve solving for an unknown first, as\nwith: an arithmetic sequence has a common difference equal to 10 and\nits 6th term is equal to 52. Find its 15th term, $a_{15}$. Here we have to\nanswer: $a_0 + 15 \\cdot 10$, but to find $a_0$, we use $52 = a_0 +\n6\\cdot(10)$. This yields $a_0=-8$, and so:"
      ],
      "metadata": {}
    },
    {
      "outputs": [],
      "cell_type": "code",
      "source": [
        "a0, h, n = -8, 10, 15\na0 + n * h"
      ],
      "metadata": {},
      "execution_count": null
    },
    {
      "cell_type": "markdown",
      "source": [
        "Rather than express sequences by the $a_0$, $h$, and $n$, `Julia` uses\nthe starting point (`a`), the difference (`h`) and a *suggested*\nstopping value (`b`).  That is, we need three values to specify these\nranges of numbers: a `start`, a `step`, and an `endof`. `Julia` gives\na convenient syntax for this: `a:h:b`. When the difference is just $1$, all\nnumbers between the start and end are specified by `a:b`, as in"
      ],
      "metadata": {}
    },
    {
      "outputs": [],
      "cell_type": "code",
      "source": [
        "1:10"
      ],
      "metadata": {},
      "execution_count": null
    },
    {
      "cell_type": "markdown",
      "source": [
        "But wait, nothing printed? This is because `1:10` is efficiently\nstored. Basically, only the current state and a means to generate the\nnext value are kept. To expand the values, you have to ask for them\nto be `collect`ed (though this typically isn't needed in practice):"
      ],
      "metadata": {}
    },
    {
      "outputs": [],
      "cell_type": "code",
      "source": [
        "collect(1:10)"
      ],
      "metadata": {},
      "execution_count": null
    },
    {
      "cell_type": "markdown",
      "source": [
        "When a non-default step size is needed, it goes in the middle, as in\n`a:h:b`. For example, counting by sevens from 1 to 50 is achieved by:"
      ],
      "metadata": {}
    },
    {
      "outputs": [],
      "cell_type": "code",
      "source": [
        "collect(1:7:50)"
      ],
      "metadata": {},
      "execution_count": null
    },
    {
      "cell_type": "markdown",
      "source": [
        "Or counting down from 100:"
      ],
      "metadata": {}
    },
    {
      "outputs": [],
      "cell_type": "code",
      "source": [
        "collect(100:-7:1)"
      ],
      "metadata": {},
      "execution_count": null
    },
    {
      "cell_type": "markdown",
      "source": [
        "In this last example, we said end with 1, but it ended with 2. The\nending value in the range is a suggestion to go up to, but not exceed. Negative values for `h`  are used to make decreasing sequences.\n\n### The range function\n\nFor generating points to make graphs, a natural set of points to\nspecify is $n$ evenly spaced points between $a$ and $b$. We can mimic\ncreating this set with the range operation by solving for the correct\nstep size. We have $a_0=a$ and $a_0 + (n-1) \\cdot h = b$. (Why $n-1$\nand not $n$?) Solving yields $h = (b-a)/(n-1)$. To be concrete we\nmight ask for 9 points between $-1$ and $1$:"
      ],
      "metadata": {}
    },
    {
      "outputs": [],
      "cell_type": "code",
      "source": [
        "a, b, n = -1, 1, 9\nh = (b-a)/(n-1)\ncollect(a:h:b)"
      ],
      "metadata": {},
      "execution_count": null
    },
    {
      "cell_type": "markdown",
      "source": [
        "Pretty neat. If we were doing this many times - such as once per plot - we'd want to encapsulate this into a function, for example:"
      ],
      "metadata": {}
    },
    {
      "outputs": [],
      "cell_type": "code",
      "source": [
        "function evenly_spaced(a, b, n)\n    h = (b-a)/(n-1)\n    collect(a:h:b)\nend"
      ],
      "metadata": {},
      "execution_count": null
    },
    {
      "cell_type": "markdown",
      "source": [
        "Great, let's try it out:"
      ],
      "metadata": {}
    },
    {
      "outputs": [],
      "cell_type": "code",
      "source": [
        "evenly_spaced(0, 2pi, 5)"
      ],
      "metadata": {},
      "execution_count": null
    },
    {
      "cell_type": "markdown",
      "source": [
        "Now, our implementation was straightforward, but only because it avoids somethings. Look at  something simple:"
      ],
      "metadata": {}
    },
    {
      "outputs": [],
      "cell_type": "code",
      "source": [
        "evenly_spaced(1/5, 3/5, 3)"
      ],
      "metadata": {},
      "execution_count": null
    },
    {
      "cell_type": "markdown",
      "source": [
        "It seems to work as expected. But looking just at the algorithm it isn't quite so clear:"
      ],
      "metadata": {}
    },
    {
      "outputs": [],
      "cell_type": "code",
      "source": [
        "1/5, 1/5 + 1*1/5, 1/5 + 2*1/5"
      ],
      "metadata": {},
      "execution_count": null
    },
    {
      "cell_type": "markdown",
      "source": [
        "Floating point roundoff leads to the last value *exceeding* `0.6`, so should it be included? Well, here it is pretty clear it *should* be, but\nbetter to have something programmed that hits both `a` and `b` and adjusts `h` accordingly.\n\nEnter the base function `range` which solves this seemingly\nsimple - but not really - task. It can use `a`, `b`, and `n`. Like the\nrange operation, this function returns a generator which can be\ncollected to realize the values.\n\nThe number of points is specified with keyword arguments, as in:"
      ],
      "metadata": {}
    },
    {
      "outputs": [],
      "cell_type": "code",
      "source": [
        "xs = range(-1, 1, length=9)"
      ],
      "metadata": {},
      "execution_count": null
    },
    {
      "cell_type": "markdown",
      "source": [
        "and"
      ],
      "metadata": {}
    },
    {
      "outputs": [],
      "cell_type": "code",
      "source": [
        "collect(xs)"
      ],
      "metadata": {},
      "execution_count": null
    },
    {
      "outputs": [],
      "cell_type": "code",
      "source": [
        "note(\"\"\"\nFor `Julia` version `1.0` the stop value is also specified with a keyword, as in `range(-1, stop=1, length=9)`. An adjustment will need to be made if that version is used.\n\"\"\")"
      ],
      "metadata": {},
      "execution_count": null
    },
    {
      "cell_type": "markdown",
      "source": [
        "## Filtering and modifying arithmetic progressions\n\nNow we concentrate on some more\ngeneral styles to modify a sequence to produce a new sequence.\n\nFor example, another way to get the values between 0 and 100 that are\nmultiples of 7 is to start with all 101 values and throw out those\nthat don't match. To check if a number is divisible by $7$, we could\nuse the `rem` function. It gives the remainder upon division.\nMultiples of `7` match `rem(m, 7) == 0`. Checking for divisibility by\nseven is unusual enough there is nothing built in for that, but\nchecking for division by $2$ is common, and for that, there is a\nbuilt-in function `iseven`.\n\nThe act of throwing out elements of a collection based on some\ncondition is called *filtering*. The `filter` function does this in\n`Julia`; the basic syntax being\n`filter(predicate_function, collection)`.\nThe \"`predicate_function`\" is one that returns either\n`true` or `false`, such as `iseven`. The output of `filter` consists\nof the new collection of values - those where the predicate returns `true`.\n\nTo see it used, lets start with the numbers between `0` and `25`\n(inclusive) and filter out those that are even:"
      ],
      "metadata": {}
    },
    {
      "outputs": [],
      "cell_type": "code",
      "source": [
        "filter(iseven, 0:25)"
      ],
      "metadata": {},
      "execution_count": null
    },
    {
      "cell_type": "markdown",
      "source": [
        "To get the numbers between 1 and 100 that are divisible by $7$\nrequires us to write a function akin to `iseven`, which isn't hard (e.g.,\n`is_seven(x)=x%7==0`), but isn't something we continue with just yet.\n\nFor another example, here is an inefficient way to list the prime\nnumbers between 100 and 200. This uses an inefficient `isprime`\nfunction (which simply checks all possible factors do not divide `n`\nevenly), defined below. For real-world usage, the `Primes` package\nprovides an alternative."
      ],
      "metadata": {}
    },
    {
      "outputs": [],
      "cell_type": "code",
      "source": [
        "isprime(n) =  all(!iszero(rem(n, i)) for i in 2:floor(Int,sqrt(n)))\nfilter(isprime, 100:200)"
      ],
      "metadata": {},
      "execution_count": null
    },
    {
      "cell_type": "markdown",
      "source": [
        "Illustrating `filter` at this point is mainly a motivation to\nillustrate that we can start with a regular set of numbers and then\nmodify or filter them. The function takes on more value once we discuss how\nto write predicate functions.\n\n## Comprehensions\n\nLet's return to the case of the set of even numbers between 0 and 100. We have many ways to describe this set:\n\n- The collection of numbers $0, 2, 4, 6 \\dots, 100$, or the arithmetic\n  sequence with step size 2, which is returned by `0:2:100`.\n\n- The numbers between 0 and 100 that are even, that is `filter(iseven, 0:100)`.\n\n- The set of numbers $\\{2k: k=0, \\dots, 50\\}$.\n\nWhile `Julia` has a special type for dealing with sets, we will use a\nvector for such a set. (Unlike a set, vectors can have repeated\nvalues, but as vectors are more widely used, we demonstrate them.)\nVectors are described more fully in a previous section, but as a\nreminder, vectors are constructed using square brackets: `[]` (a\nspecial syntax for\n[concatenation](http://docs.julialang.org/en/latest/manual/arrays/#concatenation)). Square\nbrackets are used in different contexts within `Julia`, in this\ncase we use them to create a *collection*. If we separate single\nvalues in our collection by commas (or semicolons), we will create a\nvector:"
      ],
      "metadata": {}
    },
    {
      "outputs": [],
      "cell_type": "code",
      "source": [
        "x = [0, 2, 4, 6, 8, 10]"
      ],
      "metadata": {},
      "execution_count": null
    },
    {
      "cell_type": "markdown",
      "source": [
        "That is of course only part of the set of even numbers we want.\nCreating more might be tedious were we to type them all out, as above. In such\ncases, it is best to *generate* the values.\n\n\nFor this simple case, a range can be used, but more generally a\n[comprehension](http://julia.readthedocs.org/en/latest/manual/arrays/#comprehensions)\nprovides this ability using a construct that closely mirrors  a set definition, such as $\\{2k:\nk=0, \\dots, 50\\}$. The simplest use of a comprehension takes this\nform (as we described in the section on vectors):\n\n`[expr for variable in collection]`\n\n\nThe expression typically involves the variable specified after the keyword\n`for`. The collection can be a range, a vector, or many other items\nthat are *iterable*. Here is how the mathematical set $\\{2k: k=0,\n\\dots, 50\\}$ may be generated by a comprehension:"
      ],
      "metadata": {}
    },
    {
      "outputs": [],
      "cell_type": "code",
      "source": [
        "[2k for k in 0:50]"
      ],
      "metadata": {},
      "execution_count": null
    },
    {
      "cell_type": "markdown",
      "source": [
        "The expression is `2k`, the variable `k`, and the collection is the range\nof values, `0:50`. The syntax is basically identical to how the math\nexpression is typically read aloud.\n\n\nFor some other examples, here is how we can create the first 10 numbers divisible by 7:"
      ],
      "metadata": {}
    },
    {
      "outputs": [],
      "cell_type": "code",
      "source": [
        "[7k for k in 1:10]"
      ],
      "metadata": {},
      "execution_count": null
    },
    {
      "cell_type": "markdown",
      "source": [
        "Here is how we can square the numbers between 1 and 10:"
      ],
      "metadata": {}
    },
    {
      "outputs": [],
      "cell_type": "code",
      "source": [
        "[x^2 for x in 1:10]"
      ],
      "metadata": {},
      "execution_count": null
    },
    {
      "cell_type": "markdown",
      "source": [
        "To generate other progressions, such as powers of 2, we could do:"
      ],
      "metadata": {}
    },
    {
      "outputs": [],
      "cell_type": "code",
      "source": [
        "[2^i for i in 1:10]"
      ],
      "metadata": {},
      "execution_count": null
    },
    {
      "cell_type": "markdown",
      "source": [
        "Here are decreasing powers of 2:"
      ],
      "metadata": {}
    },
    {
      "outputs": [],
      "cell_type": "code",
      "source": [
        "[1/2^i for i in 1:10]"
      ],
      "metadata": {},
      "execution_count": null
    },
    {
      "cell_type": "markdown",
      "source": [
        "Sometimes, the comprehension does not produce the type of output that\nmay be expected. This is related to `Julia`'s more limited abilities\nto infer types at the command line. If the output type is important,\nthe extra prefix of `T[]` can be used, where `T` is the desired\ntype. We will see that this will be needed at times with symbolic math.\n\n\n## Generators\n\nA typical pattern would be to generate a collection of numbers and then apply a function to them. For example, here is one way to sum the powers of `2`:"
      ],
      "metadata": {}
    },
    {
      "outputs": [],
      "cell_type": "code",
      "source": [
        "sum([2^i for i in 1:10])"
      ],
      "metadata": {},
      "execution_count": null
    },
    {
      "cell_type": "markdown",
      "source": [
        "Conceptually this is easy to understand, but computationally it is a\nbit inefficient. The generator syntax allows this type of task to be\ndone more efficiently. To use this syntax, we just need to drop the\n`[]`:"
      ],
      "metadata": {}
    },
    {
      "outputs": [],
      "cell_type": "code",
      "source": [
        "sum(2^i for i in 1:10)"
      ],
      "metadata": {},
      "execution_count": null
    },
    {
      "cell_type": "markdown",
      "source": [
        "(The difference being no intermediate object is created to store the collection of all values specified by the generator.)\n\n### Filtering generated expressions - the \"if\" keyword in a generator\n\nBoth comprehensions and generators allow for filtering through the keyword `if`. The following shows *one* way to add the prime numbers in $[1,100]$:"
      ],
      "metadata": {}
    },
    {
      "outputs": [],
      "cell_type": "code",
      "source": [
        "sum(p for p in 1:100 if isprime(p))"
      ],
      "metadata": {},
      "execution_count": null
    },
    {
      "cell_type": "markdown",
      "source": [
        "The value on the other side of `if` should be an expression that\nevaluates to either `true` or `false` for a given `p` (like a\npredicate function, but here specified as an expression). The value\nreturned by `isprime(p)` is such.\n\nIn this example, we use the fact that `rem(k, 7)` returns the\nremainder found from dividing `k` by `7`, and so is `0` when `k` is a\nmultiple of `7`:"
      ],
      "metadata": {}
    },
    {
      "outputs": [],
      "cell_type": "code",
      "source": [
        "sum(k for k in 1:100 if rem(k,7) == 0)  ## add multiples of 7"
      ],
      "metadata": {},
      "execution_count": null
    },
    {
      "cell_type": "markdown",
      "source": [
        "#### Example\n\nThis example of Stefan Karpinski comes from a\n[blog](http://julialang.org/blog/2016/10/julia-0.5-highlights) post\nhighlighting changes to the `Julia` language with version\n`v\"0.5.0\"`, which added features to comprehensions that made this example possible. It involves making change. First, a simple question: using\npennies, nickels, dimes, and quarters how many different ways can we\ngenerate one dollar? Clearly $100$ pennies, or $20$ nickels, or $10$ dimes,\nor $4$ quarters will do this, so the answer is at least four, but how\nmuch more than four?\n\nWell, we can use a comprehension to enumerate the\npossibilities. This example illustrates how comprehensions and generators can involve one or more variable for the iteration.\n\n\n\nFirst, we either have $0,1,2,3$, or $4$ quarters, or $0$, $25$\ncents, $50$ cents, $75$ cents, or a dollar's worth. If we have, say, $1$\nquarter, then we need to make up $75$ cents with the rest. If we had $3$\ndimes, then we need to make up $45$ cents out of nickels and pennies,\nif we then had $6$ nickels, we know we must need $15$ pennies.\n\n\nThe following expression shows how counting this can be done through\nenumeration. Here `q` is the amount contributed by quarters, `d` the\namount from dimes, `n` the amount from nickels, and `p` the amount from\npennies. `q` ranges over $0, 25, 50, 75, 100$ or `0:25:100`, etc. If\nwe know that the sum of quarters, dimes, nickels contributes a certain\namount, then the number of pennies must round things up to $100$."
      ],
      "metadata": {}
    },
    {
      "outputs": [],
      "cell_type": "code",
      "source": [
        "ways = [(q, d, n, p) for q = 0:25:100 for d = 0:10:(100 - q) for n = 0:5:(100 - q - d) for p = (100 - q - d - n)]\nlength(ways)"
      ],
      "metadata": {},
      "execution_count": null
    },
    {
      "cell_type": "markdown",
      "source": [
        "We see 242 cases, each distinct. The first $3$ are:"
      ],
      "metadata": {}
    },
    {
      "outputs": [],
      "cell_type": "code",
      "source": [
        "ways[1:3]"
      ],
      "metadata": {},
      "execution_count": null
    },
    {
      "cell_type": "markdown",
      "source": [
        "The generating expression reads naturally. It introduces the use of\nmultiple `for` statements, each subsequent one depending on the value\nof the previous (working left to right). Now suppose, like a shop\nkeeper, we want to ensure that the amount of pennies is less than the\namount from nickels, etc. We could use `filter` somehow to do this for\nour last answer, but using `if` allows for filtering while the events\nare generating. Here our condition is simply expressed: `q > d > n >\np`:"
      ],
      "metadata": {}
    },
    {
      "outputs": [],
      "cell_type": "code",
      "source": [
        "[(q, d, n, p) for q = 0:25:100 for d = 0:10:(100 - q) for n = 0:5:(100 - q - d) for p = (100 - q - d - n) if q > d > n > p]"
      ],
      "metadata": {},
      "execution_count": null
    },
    {
      "cell_type": "markdown",
      "source": [
        "## Random numbers\n\nWe have been discussing structured sets of numbers. On the opposite\nend of the spectrum are random numbers. `Julia` makes them easy to\ngenerate, especially random numbers chosen uniformly for $(0,1)$.\n\n- The `rand()` function returns a randomly chosen number in $(0,1)$.\n\n- The `rand(n)` function returns `n` randomly chosen numbers in $(0,1)$.\n\nTo illustrate, this will return a single number"
      ],
      "metadata": {}
    },
    {
      "outputs": [],
      "cell_type": "code",
      "source": [
        "rand()"
      ],
      "metadata": {},
      "execution_count": null
    },
    {
      "cell_type": "markdown",
      "source": [
        "If the command is run again, it is almost certain that a different value will be returned:"
      ],
      "metadata": {}
    },
    {
      "outputs": [],
      "cell_type": "code",
      "source": [
        "rand()"
      ],
      "metadata": {},
      "execution_count": null
    },
    {
      "cell_type": "markdown",
      "source": [
        "This call will return a vector of 10 such random numbers:"
      ],
      "metadata": {}
    },
    {
      "outputs": [],
      "cell_type": "code",
      "source": [
        "rand(10)"
      ],
      "metadata": {},
      "execution_count": null
    },
    {
      "cell_type": "markdown",
      "source": [
        "Easy to use. The only common source of confusion is the subtle distinction between `rand()` and `rand(1)`, as the latter is a vector of 1 random number and the former just 1 random number."
      ],
      "metadata": {}
    },
    {
      "outputs": [],
      "cell_type": "code",
      "source": [
        "alert(L\"\"\"\nThe documentation for `rand` shows that the value is in $[0,1)$, but in practice $0$ doesn't come up with any frequency - about 1 out of every $10^{19}$ numbers - so we say $(0,1)$.\n\"\"\")"
      ],
      "metadata": {},
      "execution_count": null
    },
    {
      "cell_type": "markdown",
      "source": [
        "## Questions\n\n###### Question\n\nWhich of these will produce the odd numbers between 1 and 99?"
      ],
      "metadata": {}
    },
    {
      "outputs": [],
      "cell_type": "code",
      "source": [
        "choices = [\nq\"1:99\",\nq\"1:3:99\",\nq\"1:2:99\"\n]\nans = 3\nradioq(choices, ans)"
      ],
      "metadata": {},
      "execution_count": null
    },
    {
      "cell_type": "markdown",
      "source": [
        "###### Question\n\nWhich of these will create the sequence $2, 9, 16, 23, \\dots, 72$?"
      ],
      "metadata": {}
    },
    {
      "outputs": [],
      "cell_type": "code",
      "source": [
        "choices = [q\"2:7:72\", q\"2:9:72\", q\"2:72\", q\"72:-7:2\"]\nans = 1\nradioq(choices, ans)"
      ],
      "metadata": {},
      "execution_count": null
    },
    {
      "cell_type": "markdown",
      "source": [
        "###### Question\nHow many numbers are in the sequence produced by `0:19:1000`?"
      ],
      "metadata": {}
    },
    {
      "outputs": [],
      "cell_type": "code",
      "source": [
        "val = length(collect(0:19:1000))\nnumericq(val)"
      ],
      "metadata": {},
      "execution_count": null
    },
    {
      "cell_type": "markdown",
      "source": [
        "###### Question\n\nThe range operation (`a:h:b`) can also be used to countdown. Which of these will do so, counting down from `10` to `1`? (You can call `collect` to visualize the generated numbers.)"
      ],
      "metadata": {}
    },
    {
      "outputs": [],
      "cell_type": "code",
      "source": [
        "choices = [\n\"`10:-1:1`\",\n\"`10:1`\",\n\"`1:-1:10`\",\n\"`1:10`\"\n]\nans = 1\nradioq(choices, ans)"
      ],
      "metadata": {},
      "execution_count": null
    },
    {
      "cell_type": "markdown",
      "source": [
        "###### Question\n\nWhat is the last number generated by `1:4:7`?"
      ],
      "metadata": {}
    },
    {
      "outputs": [],
      "cell_type": "code",
      "source": [
        "val = (1:4:7)[end]\nnumericq(val)"
      ],
      "metadata": {},
      "execution_count": null
    },
    {
      "cell_type": "markdown",
      "source": [
        "###### Question\n\nWhile the range operation can generate vectors by collecting, do the objects themselves act like vectors?\n\nDoes scalar multiplication work as expected? In particular, is the result of `2*(1:5)` *basically* the same as `2 * [1,2,3,4,5]`?"
      ],
      "metadata": {}
    },
    {
      "outputs": [],
      "cell_type": "code",
      "source": [
        "yesnoq(true)"
      ],
      "metadata": {},
      "execution_count": null
    },
    {
      "cell_type": "markdown",
      "source": [
        "Does vector addition work? as expected? In particular, is the result of `(1:4) + (2:5)` *basically* the same as `[1,2,3,4]` + `[2,3,4,5]`?"
      ],
      "metadata": {}
    },
    {
      "outputs": [],
      "cell_type": "code",
      "source": [
        "yesnoq(true)"
      ],
      "metadata": {},
      "execution_count": null
    },
    {
      "cell_type": "markdown",
      "source": [
        "What if parenthese are left off? Explain the output of `1:4 + 2:5`?"
      ],
      "metadata": {}
    },
    {
      "outputs": [],
      "cell_type": "code",
      "source": [
        "choices = [\"It is just random\",\n\"Addition happens prior to the use of `:` so this is like `1:(4+2):5`\",\n\"It gives the correct answer, a generator for the vector `[3,5,7,9]`\"\n]\nans = 2\nradioq(choices, ans)"
      ],
      "metadata": {},
      "execution_count": null
    },
    {
      "cell_type": "markdown",
      "source": [
        "###### Question\n\nHow is `a:b-1` interpreted:"
      ],
      "metadata": {}
    },
    {
      "outputs": [],
      "cell_type": "code",
      "source": [
        "choices = [\"as `a:(b-1)`\", \"as `(a:b) - 1`, which is `(a-1):(b-1)`\"]\nans = 1\nradioq(choices, ans)"
      ],
      "metadata": {},
      "execution_count": null
    },
    {
      "cell_type": "markdown",
      "source": [
        "###### Question\n\nCreate the sequence $10, 100, 1000, \\dots, 1,000,000$ using a list comprehension. Which of these works?"
      ],
      "metadata": {}
    },
    {
      "outputs": [],
      "cell_type": "code",
      "source": [
        "choices = [q\"[10^i for i in 1:6]\", q\"[10^i for i in [10, 100, 1000]]\", q\"[i^10 for i in [1:6]]\"]\nans = 1\nradioq(choices, ans)"
      ],
      "metadata": {},
      "execution_count": null
    },
    {
      "cell_type": "markdown",
      "source": [
        "###### Question\n\nCreate the sequence $0.1, 0.01, 0.001, \\dots, 0.0000001$ using a list comprehension. Which of these will work:"
      ],
      "metadata": {}
    },
    {
      "outputs": [],
      "cell_type": "code",
      "source": [
        "choices = [\nq\"[10^-i for i in 1:7]\",\nq\"[(1/10)^i for i in 1:7]\",\nq\"[i^(1/10) for i in 1:7]\"]\nans = 2\nradioq(choices, ans)"
      ],
      "metadata": {},
      "execution_count": null
    },
    {
      "cell_type": "markdown",
      "source": [
        "###### Question\n\nEvaluate the expression $x^3 - 2x + 3$ for each of the values $-5, -4, \\dots, 4, 5$ using a comprehension. Which of these will work?"
      ],
      "metadata": {}
    },
    {
      "outputs": [],
      "cell_type": "code",
      "source": [
        "choices = [q\"[x^3 - 2x + 3 for i in -5:5]\", q\"[x^3 - 2x + 3 for x in -(5:5)]\", q\"[x^3 - 2x + 3 for x in -5:5]\"]\nans = 3\nradioq(choices, ans)"
      ],
      "metadata": {},
      "execution_count": null
    },
    {
      "cell_type": "markdown",
      "source": [
        "###### Question\n\nHow many prime numbers are there between $1100$ and $1200$? (Use `filter` and `isprime`)"
      ],
      "metadata": {}
    },
    {
      "outputs": [],
      "cell_type": "code",
      "source": [
        "val = length(filter(isprime, 1100:1200))\nnumericq(val)"
      ],
      "metadata": {},
      "execution_count": null
    },
    {
      "cell_type": "markdown",
      "source": [
        "###### Question\n\nWhich has more prime numbers  the range `1000:2000` or the range `11000:12000`?"
      ],
      "metadata": {}
    },
    {
      "outputs": [],
      "cell_type": "code",
      "source": [
        "n1 = length(filter(isprime, 1000:2000))\nn2 = length(filter(isprime, 11_000:12_000))\nbooleanq(n1 > n2, labels=[q\"1000:2000\", q\"11000:12000\"])"
      ],
      "metadata": {},
      "execution_count": null
    },
    {
      "cell_type": "markdown",
      "source": [
        "###### Question\n\nWe can easily add an arithmetic progression with the `sum`\nfunction. For example, `sum(1:100)` will add the numbers $1, 2, ..., 100$.\n\n\nWhat is the sum of the odd numbers between $0$ and $100$?"
      ],
      "metadata": {}
    },
    {
      "outputs": [],
      "cell_type": "code",
      "source": [
        "val = sum(1:2:99)\nnumericq(val)"
      ],
      "metadata": {},
      "execution_count": null
    },
    {
      "cell_type": "markdown",
      "source": [
        "###### Question\n\nThe sum of the arithmetic progression $a, a+h, \\dots, a+n\\cdot h$ has\na simple formula. Using a few cases, can you tell if this is the\ncorrect one:\n\n$$~\n(n+1)\\cdot a + h \\cdot n(n+1)/2\n~$$"
      ],
      "metadata": {}
    },
    {
      "outputs": [],
      "cell_type": "code",
      "source": [
        "booleanq(true, labels=[\"Yes, this is true\", \"No, this is false\"])"
      ],
      "metadata": {},
      "execution_count": null
    },
    {
      "cell_type": "markdown",
      "source": [
        "###### Question\n\nA *geometric progression* is of the form $a^0, a^1, a^2, \\dots,\na^n$. These are easily generated by comprehensions of the form\n`[a^i for i in 0:n]`. Find the sum of the geometric progression $1,\n2^1, 2^2, \\dots, 2^{10}$."
      ],
      "metadata": {}
    },
    {
      "outputs": [],
      "cell_type": "code",
      "source": [
        "as = [2^i for i in 0:10]\nval = sum(as)\nnumericq(val)"
      ],
      "metadata": {},
      "execution_count": null
    },
    {
      "cell_type": "markdown",
      "source": [
        "Is your answer of the form $(1 - a^{n+1}) / (1-a)$?"
      ],
      "metadata": {}
    },
    {
      "outputs": [],
      "cell_type": "code",
      "source": [
        "yesnoq(true)"
      ],
      "metadata": {},
      "execution_count": null
    },
    {
      "cell_type": "markdown",
      "source": [
        "###### Question\n\nThe [product](http://en.wikipedia.org/wiki/Arithmetic_progression) of\nthe terms in an arithmetic progression has a known formula.  The product\ncan be found by an expression of the form `prod(a:h:b)`.  Find the product of the terms in the sequence $1,3,5,\\dots,19$."
      ],
      "metadata": {}
    },
    {
      "outputs": [],
      "cell_type": "code",
      "source": [
        "val = prod(1:2:19)\nnumericq(val)"
      ],
      "metadata": {},
      "execution_count": null
    }
  ],
  "nbformat_minor": 2,
  "metadata": {
    "language_info": {
      "file_extension": ".jl",
      "mimetype": "application/julia",
      "name": "julia",
      "version": "1.5.0"
    },
    "kernelspec": {
      "name": "julia-1.5",
      "display_name": "Julia 1.5.0",
      "language": "julia"
    }
  },
  "nbformat": 4
}
