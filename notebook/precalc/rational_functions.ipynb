{
  "cells": [
    {
      "cell_type": "markdown",
      "source": [
        "# Rational functions"
      ],
      "metadata": {}
    },
    {
      "outputs": [],
      "cell_type": "code",
      "source": [
        "using CalculusWithJulia\nusing CalculusWithJulia.WeaveSupport\nusing Plots\nnothing"
      ],
      "metadata": {},
      "execution_count": null
    },
    {
      "cell_type": "markdown",
      "source": [
        "A rational expression is the ratio of two polynomial expressions.\nSuch expressions arise in many modeling situations. As well, as many\nfacts are known about polynomial expressions, much can be determined\nabout rational expressions.  This section covers some additional\ndetails that arise when graphing such expressions.\n\n## Rational functions\n\n\n\nThe rational numbers are simply ratios of integers, of the form $p/q$\nfor non-zero $q$. A rational function is a ratio of *polynomial*\n*functions* of the form $p(x)/q(x)$, again $q$ is non-zero, but may\nhave zeros.\n\nWe know that polynomials have nice behaviors due to the following\nfacts:\n\n* Behaviors at $-\\infty$, $\\infty$ are known just from the leading term.\n\n* There are possible wiggles up and down, the exact behavior depends\n  on intermediate terms, but there can be no more than $n-1$ wiggles.\n\n* The number of zeros is no more than $n$, the degree of the polynomial.\n\nRational functions are not quite so nice:\n\n* behavior at $-\\infty$ and  $\\infty$ can be like a polynomial of any degree, including constants\n\n* behaviour at any value x can blow up due to division by 0 -\n  rational functions, unlike polynomials, are not always defined\n\n* The function may or may not cross zero, even if the range includes\n  every other point, as the graph of $f(x) =1/x$ will show.\n\n\nHere, as with our discussion on polynomials, we are interested for now in just\na few properties:\n\n* What happens to $f(x)$ when $x$ gets really big or really small (towards $\\infty$ or $-\\infty$)?\n\n* What happens near the values where $q(x) = 0$?\n\n* When is $f(x) = 0$?\n\n\nThese questions can often be answered with a graph, but with rational\nfunctions we will see that care must be take when producing\na useful graph.\n\nFor example, consider this graph generated from a simple rational\nfunction:\n\n$$~\nf(x) = \\frac{(x-1)^2 \\cdot (x-2)}{(x+3) \\cdot (x-3)}.\n~$$"
      ],
      "metadata": {}
    },
    {
      "outputs": [],
      "cell_type": "code",
      "source": [
        "using CalculusWithJulia   # loads the `SymPy` package\nusing Plots\nf(x) = (x-1)^2 * (x-2) / ((x+3)*(x-3) )\nplot(f, -10, 10)"
      ],
      "metadata": {},
      "execution_count": null
    },
    {
      "cell_type": "markdown",
      "source": [
        "We would be hard pressed to answer any of the three questions above\nfrom the graph, though, on inspection, we might think the strange spikes have something\nto do with $x$ values where $q(x)=0$.\n\nThe question of big or small $x$ is not answered well with this graph,\nas the spikes dominate the scale of the $y$-axis. Setting a much\nlarger viewing window illuminates this question:"
      ],
      "metadata": {}
    },
    {
      "outputs": [],
      "cell_type": "code",
      "source": [
        "plot(f, -100, 100)"
      ],
      "metadata": {},
      "execution_count": null
    },
    {
      "cell_type": "markdown",
      "source": [
        "We can see from this, that the function eventually looks like a\nslanted straight line. The *eventual* shape of the graph is something\nthat can be determined just from the two leading terms.\n\nThe spikes haven't vanished completely. It is just that with only a\nfew hundred points to make the graph, there aren't any values near\nenough to the problem to make a large spike. The spikes happen because\nthe function has a *vertical asymptote* at these values. Though not\nquite right, it is reasonable to think of the graph graph being made\nby selecting a few hundred points in the specified domain, computing\nthe corresponding $y$ values, plotting the pairs, and finally connecting the points with\nstraight line segments.  Near a vertical asymptote the function values\ncan be arbitrarily large in absolute values, though at the vertical asymptote the\nfunction is undefined. This graph doesn't show such detail.\n\nThe spikes will be related to the points where $q(x) = 0$, though not\nnecessarily, as not all such points will produce a vertical asymptote.\n\nWhere the function crosses $0$ is very hard to tell from these\ntwo graphs. As well, other finer features, such as local peaks or valleys,\nwhen present, can be hard to identify as the $y$-scale is set to\naccommodate the  asymptotes. Working around the asymptotes requires\nsome extra effort. Strategies are discussed herein.\n\n\n\n## Asymptotes\n\n\nFormally, an [asymptote](http://en.wikipedia.org/wiki/Asymptote) of a\ncurve is a line such that the distance between the curve and the line\napproaches $0$ as they tend to infinity. Tending to infinity can\nhappen as $x \\rightarrow \\pm \\infty$ *or* $y \\rightarrow \\pm \\infty$, the\nformer being related to *horizontal asymptotes* or *slant asymptotes*,\nthe latter being related to *vertical asymptotes*.\n\n### Behaviour as $x \\rightarrow \\infty$ or $x \\rightarrow -\\infty$.\n\nLet's look more closely at our example rational function using\nsymbolic math.\n\n\nIn particular, let's rewrite the expression in terms of its numerator and denominator:"
      ],
      "metadata": {}
    },
    {
      "outputs": [],
      "cell_type": "code",
      "source": [
        "@vars x real=true\na =  (x-1)^2 * (x-2)\nb = (x+3)*(x-3)"
      ],
      "metadata": {},
      "execution_count": null
    },
    {
      "cell_type": "markdown",
      "source": [
        "Euclid's\n[division](https://en.wikipedia.org/wiki/Polynomial_greatest_common_divisor#Euclidean_division)\nalgorithm can be used for polynomials $a(x)$ and $b(x)$ to produce $q(x)$ and\n$r(x)$ with $a = b\\cdot q + r$ *and* the degree of $r(x)$ is less than the\ndegree of $b(x)$. This is in direct analogy to the division algorithm of\nintegers, only there the value of the remainder, $r(x)$, satisfies $0\n\\leq r < b$. Given $q(x)$ and $r(x)$ as above, we can reexpress the rational function\n\n$$~\n\\frac{a(x)}{b(x)} = q(x)  + \\frac{r(x)}{b(x)}.\n~$$\n\nThe rational expression on the right-hand side has larger degree in the denominator.\n\n\nThe division algorithm is implemented in `Julia` generically through the `divrem` method:"
      ],
      "metadata": {}
    },
    {
      "outputs": [],
      "cell_type": "code",
      "source": [
        "q, r = divrem(a, b)"
      ],
      "metadata": {},
      "execution_count": null
    },
    {
      "cell_type": "markdown",
      "source": [
        "This yield the decomposition of `a/b`:"
      ],
      "metadata": {}
    },
    {
      "outputs": [],
      "cell_type": "code",
      "source": [
        "q + r/b"
      ],
      "metadata": {},
      "execution_count": null
    },
    {
      "cell_type": "markdown",
      "source": [
        "A similar result can be found using the `apart` function, which can be easier to use if the expression is not given in terms of a separate numerator and denominator."
      ],
      "metadata": {}
    },
    {
      "outputs": [],
      "cell_type": "code",
      "source": [
        "f(x) = (x-1)^2 * (x-2) / ((x+3)*(x-3))  # as a function\np = f(x)                                # a symbolic expression\napart(p)"
      ],
      "metadata": {},
      "execution_count": null
    },
    {
      "cell_type": "markdown",
      "source": [
        "This decomposition breaks the rational expression into two pieces: $x-4$\nand $40/(3x+9) + 2/(3x-9)$. The first piece would have a graph\nthat is the line with slope $1$ and $y$-intercept $4$. As $x$ goes to\n$\\infty$, the second piece will clearly go towards 0, as this simple\ngraph shows:"
      ],
      "metadata": {}
    },
    {
      "outputs": [],
      "cell_type": "code",
      "source": [
        "plot(apart(p) - (x - 4), 10, 100)"
      ],
      "metadata": {},
      "execution_count": null
    },
    {
      "cell_type": "markdown",
      "source": [
        "Similarly, a plot over $[-100, -10]$ would show decay towards $0$,\nthough in that case from below. Combining these two facts then, it is\nnow no surprise that the graph of the rational function $f(x)$ should\napproach a straight line, in this case $y=x-4$ as $x \\rightarrow \\pm\n\\infty$.\n\nWe can easily do most of this analysis without needing a\ncomputer or algebra. First, we should know that the graph of $y=mx$ is a line with\nslope $m$, the graph of $y = c$ is a constant line at height $c$, and\nthe graph of $y=c/x^m$, $m > 0$ will decay towards $0$ as $x\n\\rightarrow \\pm\\infty$. The latter should be clear, as $x^m$ gets big,\nso its reciprocal goes towards $0$.\n\n\nThe factored form, as $p$ is presented, is a bit hard to work with,\nrather we use the expanded form, which we get through the `cancel`\nfunction"
      ],
      "metadata": {}
    },
    {
      "outputs": [],
      "cell_type": "code",
      "source": [
        "cancel(p)"
      ],
      "metadata": {},
      "execution_count": null
    },
    {
      "cell_type": "markdown",
      "source": [
        "We can see that numerator is of degree 3 and the denominator of degree $2$.\nThe leading terms are $x^3$ and $x^2$ respectively. If we were to\npull those out we would get:\n\n$$~\n\\frac{x^3 \\cdot (1 - 4/x + 5/x^2 - 2/x^3)}{x^2 \\cdot (1 - 9/x^2)}.\n~$$\n\nThe terms $(1 - 4/x + 5/x^2 - 2/x^3)$ and $(1 - 9/x^2)$ go towards $1$\nas $x \\rightarrow \\pm \\infty$, as each term with $x$ goes towards\n$0$. So the dominant terms comes from the ratio of the leading terms,\n$x^3$ and $x^2$. This ratio is $x$, so their will be an asymptote of a\nline with slope $1$. (The fact that the asymptote is $y=x-4$ takes a\nbit more work, as a division step is needed.)\n\n\nJust by looking at the ratio of the two leading terms, the behaviour\nas $x \\rightarrow \\pm \\infty$ can be discerned. If this ratio is of:\n\n* the form $c x^m$ with $m > 1$ then the shape will follow the polynomial growth of of the monomial $c x^m$.\n\n* the form $c x^m$ with  $m=1$ then there will be a line with slope $c$ as a *slant asymptote*.\n\n* the form $cx^0$ with  $m=0$ (or just $c$) then there will be a *horizontal asymptote* $y=c$.\n\n* the form $c/x^{m}$ with $m  >  0$ then there will be a horizontal asymptote $y=0$, or the $y$ axis.\n\nTo expand on the first points where the degree of the numerator is\ngreater than that of the denominator, we have from the division\nalgorithm that if $a(x)$ is the numerator and $b(x)$ the denominator,\nthen $a(x)/b(x) = q(x) + r(x)/b(x)$ where the degree of $b(x)$ is\ngreater than the degree of $r(x)$, so the rightmost term will have a\nhorizontal asymptote of $0$. This says that the graph\nwill eventually approach the graph of $q(x)$, giving more detail than just\nsaying it follows the shape of the leading term of $q(x)$, at the\nexpense of the work required to find $q(x)$.\n\n\n##### Examples\n\n\nConsider the rational expression\n\n$$~\n\\frac{17x^5 - 300x^4 - 1/2}{x^5 - 2x^4 + 3x^3 - 4x^2 + 5}.\n~$$\n\nThe leading term of the numerator is $17x^5$ and the leading term of the denominator is $x^5$. The ratio is $17$ (or $17x^0 = 17x^{5-5}$). As such, we would have a horizontal asymptote $y=17$.\n\n----\n\nIf we consider instead this rational expression:\n\n$$~\n\\frac{x^5 - 2x^4 + 3x^3 - 4x^2 + 5}{5x^4 + 4x^3 + 3x^2 + 2x + 1}\n~$$\n\nThen we can see that the ratio of the leading terms is $x^5 / (5x^4) = (1/5)x$. We expect a slant asymptote with slope $1/5$, though we would need to divide to see the exact intercept. This is found with"
      ],
      "metadata": {}
    },
    {
      "outputs": [],
      "cell_type": "code",
      "source": [
        "p = (x^5 - 2x^4 + 3x^3 - 4x^2 + 5) / (5x^4 + 4x^3 + 3x^2 + 2x + 1)\napart(p)"
      ],
      "metadata": {},
      "execution_count": null
    },
    {
      "cell_type": "markdown",
      "source": [
        "----\n\nThe rational function\n\n$$~\n\\frac{5x^3 + 6x^2 + 2}{x-1}\n~$$\n\nhas decomposition $5x^2 + 11x + 11 + 13/(x-1)$:"
      ],
      "metadata": {}
    },
    {
      "outputs": [],
      "cell_type": "code",
      "source": [
        "a = 5x^3 + 6x^2 +2\nb = x-1\nq, r = divrem(a, b)"
      ],
      "metadata": {},
      "execution_count": null
    },
    {
      "cell_type": "markdown",
      "source": [
        "The graph of $a/b$ has nothing in common with the graph of $g$ for small $x$"
      ],
      "metadata": {}
    },
    {
      "outputs": [],
      "cell_type": "code",
      "source": [
        "plot(a/b, -3, 3)\nplot!(q, -3, 3)"
      ],
      "metadata": {},
      "execution_count": null
    },
    {
      "cell_type": "markdown",
      "source": [
        "But the graphs do match for large $x$:"
      ],
      "metadata": {}
    },
    {
      "outputs": [],
      "cell_type": "code",
      "source": [
        "plot(a/b, 5, 10)\nplot!(q, 5, 10)"
      ],
      "metadata": {},
      "execution_count": null
    },
    {
      "cell_type": "markdown",
      "source": [
        "----\n\nFinally, consider this rational expression in factored form:\n\n$$~\n\\frac{(x-2)^3\\cdot(x-4)\\cdot(x-3)}{(x-5)^4 \\cdot (x-6)^2}.\n~$$\n\nBy looking at the powers we can see that the leading term of the\nnumerator will the $x^5$ and the leading term of the denominator\n$x^6$. The ratio is $1/x^1$. As such, we expect the $y$-axis as a\nhorizontal asymptote:\n\n#### Partial fractions\n\nThe `apart` function was useful to express a rational function in\nterms of a polynomial plus additional rational functions whose\nhorizontal asymptotes are $0$.  This function computes the partial\nfraction\n[decomposition](https://en.wikipedia.org/wiki/Partial_fraction_decomposition)\nof a rational function. Outside of the initial polynomial, this\ndecomposition is a reexpression of a rational function into a sum of\nrational functions, where the denominators are *irreducible*, or\nunable to be further factored (non-trivially) and the numerators have\nlower degree than the denominator. Hence the horizontal asymptotes of $0$.\n\nTo see another example we have:"
      ],
      "metadata": {}
    },
    {
      "outputs": [],
      "cell_type": "code",
      "source": [
        "x = symbols(\"x\")\np = (x-1)*(x-2)\nq = (x-3)^3 * (x^2 - x - 1)\napart(p/q)"
      ],
      "metadata": {},
      "execution_count": null
    },
    {
      "cell_type": "markdown",
      "source": [
        "The denominator, $q$, has factors $x-3$ and $x^2 - x - 1$, each\nirreducible. The answer is expressed in terms of a sum of rational\nfunctions each with a denominator coming from one of these factors,\npossibly with a power.\n\n### Vertical asymptotes\n\nAs just discussed, the graph of $1/x$ will have a horizontal asymptote. However it will also show a spike at $0$:"
      ],
      "metadata": {}
    },
    {
      "outputs": [],
      "cell_type": "code",
      "source": [
        "plot(1/x, -1, 1)"
      ],
      "metadata": {},
      "execution_count": null
    },
    {
      "cell_type": "markdown",
      "source": [
        "Again, this spike is an artifact of the plotting algorithm. The\n$y$ values for $x$-values just smaller than $0$ are large negative\nvalues and the $x$ values just larger than $0$ produce large, positive\n$y$ values. The two points with $x$ components closest to $0$ are\nconnected with a line, though that is misleading.\n\nThe line $x = 0$ is a *vertical asymptote* for the graph of $1/x$. As\n$x$ values get close to $0$ from the right, the $y$ values go towards\n$\\infty$ and as the $x$ values get close to $0$ on the left, the $y$\nvalues go towards $-\\infty$.\n\nThis has everything to do with the fact that $0$ is a root of the denominator.\n\nFor a rational function $p(x)/q(x)$, the roots of $q(x)$ may or may\nnot be asymptotes. For a root $c$ if $p(c)$ is not zero then the line\n$x=c$ will be a vertical asymptote. If $c$ is a root of both $p(x)$\nand $q(x)$, then we can rewrite the expression as:\n\n$$~\n\\frac{p(x)}{q(x)} = \\frac{(x-c)^m r(x)}{(x-c)^n s(x)},\n~$$\n\nwhere both $r(c)$ and $s(c)$ are non zero. Knowing $m$ and $n$ (the multiplicities of the root $c$) allows the following to be said:\n\n* If $m < n$ then $x=c$ will be a vertical asymptote.\n\n* If $m \\geq n$ then $x=c$ will not be vertical asymptote. (The value\n  $c$ will be known as a removable singularity). In this case, the\n  graph of $p(x)/q(x)$ and the graph of $(x-c)^{m-n}r(x)/s(x)$ will\n  differ, as the latter will include a value for $x=c$, whereas $x=c$\n  is not in the domain of $p(x)/q(x)$.\n\nFinding the multiplicity may or may not be hard, but there is a quick check\nthat is often correct. With `Julia`, if you have a rational function\nthat has `f(c)` evaluate to `Inf` or `-Inf` then there will be a\nvertical asymptote. If the expression evaluates to `NaN`, more\nanalysis is needed. (The value of `0/0` is `NaN`, where as `1/0` is `Inf`.)\n\nFor example, the function $f(x) = ((x-1)^2 \\cdot (x-2)) / ((x+3) \\cdot\n(x-3))$ has vertical asymptotes at $-3$ and $3$, as its graph\nillustrated. Without the graph we could see this as well:"
      ],
      "metadata": {}
    },
    {
      "outputs": [],
      "cell_type": "code",
      "source": [
        "f(x) = (x-1)^2 * (x-2) / ((x+3)*(x-3) )\nf(3), f(-3)"
      ],
      "metadata": {},
      "execution_count": null
    },
    {
      "cell_type": "markdown",
      "source": [
        "#### Graphing with vertical asymptotes\n\nAs seen in several graphs, the basic plotting algorithm does a poor\njob with vertical asymptotes. For example, it may erroneously connect\ntheir values with a steep vertical line, or the $y$-axis scale can get\nso large as to make reading the rest of the graph impossible. There are some trick to work around this.\n\nConsider again the function $f(x) = ((x-1)^2 \\cdot (x-2)) / ((x+3)\n\\cdot(x-3))$. Without much work, we can see that $x=3$ and $x=-3$ will\nbe vertical asymptotes and there will be a slant asymptote with\nslope 1. How to graph this?\n\nWe can avoid the vertical asymptotes in our viewing window. For\nexample we could look at the area between the vertical asymptotes, by\nplotting over $(-2.9, 2.9)$, say:"
      ],
      "metadata": {}
    },
    {
      "outputs": [],
      "cell_type": "code",
      "source": [
        "f(x) = (x-1)^2 * (x-2) / ((x+3)*(x-3) )\nplot(f, -2.9, 2.9)"
      ],
      "metadata": {},
      "execution_count": null
    },
    {
      "cell_type": "markdown",
      "source": [
        "This backs off by $\\delta = 0.1$. As we have that $2.9 - 3$ is\n$\\delta$ and $1/\\delta$ is 10, the $y$ axis won't get too large, and\nindeed it doesn't.\n\nThis graph doesn't show well the two zeros at $x=1$ and $x=2$, for\nthat a narrower viewing window is needed.  By successively panning\nthroughout the interesting part of the graph, we can get a view of the\nfunction.\n\n\nWe can also clip the `y` axis. The `plot` function can be passed an\nargument `ylims=(lo, hi)` to limit which values are plotted. With this,\nwe can have:"
      ],
      "metadata": {}
    },
    {
      "outputs": [],
      "cell_type": "code",
      "source": [
        "plot(f, -5, 5, ylims=(-20, 20))"
      ],
      "metadata": {},
      "execution_count": null
    },
    {
      "cell_type": "markdown",
      "source": [
        "This isn't ideal, as the large values are still computed, just the\nviewing window is clipped. This leaves the vertical asymptotes still\neffecting the graph.\n\nThere is another way, we could ask `Julia` to not plot $y$ values that\nget too large. This is not a big request.  If instead of the value of\n`f(x)` - when it is large - -we use `NaN` instead, then the\nconnect-the-dots algorithm will skip those values.\n\nThis is actually quite easy to implement, if we operate on the\nfunction object. Here is a possible `trimplot` function:"
      ],
      "metadata": {}
    },
    {
      "outputs": [],
      "cell_type": "code",
      "source": [
        "function trimplot(f, a, b, c=20; kwargs...)\n   fn = x -> abs(f(x)) < c ? f(x) : NaN\n   plot(fn, a, b; kwargs...)\nend"
      ],
      "metadata": {},
      "execution_count": null
    },
    {
      "cell_type": "markdown",
      "source": [
        "As before, the `x ->` of the function indicates that this will return an anonymous function, which does what we want: replace large values with `NaN`.\n\n\nA more robust version of such a function is in the `CalculusWithJulia` package, so the above definition need not be used.\n\nNow to graph:"
      ],
      "metadata": {}
    },
    {
      "outputs": [],
      "cell_type": "code",
      "source": [
        "trimplot(f, -25, 25, 30)"
      ],
      "metadata": {},
      "execution_count": null
    },
    {
      "cell_type": "markdown",
      "source": [
        "We can see the general shape of 3 curves broken up by the vertical\nasymptotes. The two on the side heading off towards the line $x-4$ and\nthe one in the middle. We still can't see the precise location of the\nzeros, but that wouldn't be the case with most graphs that show\nasymptotic behaviors. However, we can clearly tell where to \"zoom in\"\nwere those of interest.\n\n\n### Sign charts\n\nWhen sketching graphs of rational functions by hand, it is useful to use sign charts.\nA sign chart of a function indicates when the function is positive,\nnegative, $0$, or undefined. It typically is represented along the\nlines of this one for $f(x) = x^3 - x$:\n\n```\n    -    0   +   0   -   0   +\n< ----- -1 ----- 0 ----- 1 ----- >\n```\n\n\nThe usual recipe for construction follows these steps:\n\n- Identify when the function is $0$ or undefined. Place those values\n  on a number line.\n\n- Identify \"test points\" within each implied interval (these are $(-\\infty, -1)$, $(-1,0)$, $(0,1)$, and $(1, \\infty)$ in the example) and check for the sign of $f(x)$ at these test points. Write in `-`, `+`, `0`, or `*`, as appropriate. The value comes from the fact that \"continuous\" functions may only change sign when they cross $0$ or are undefined.\n\nWith the computer, where it is convenient to draw a graph, it might be better to emphasize\nthe sign on the graph of the function. This helper function will do\nso, plotting the function and then coloring it different colors based on the sign of $f(x)$:"
      ],
      "metadata": {}
    },
    {
      "outputs": [],
      "cell_type": "code",
      "source": [
        "function signchart(f, a, b)\n   xs = range(a, stop=b, length=200)\n   ys = f.(xs)\n   cols = [fx < 0 ? :red  : :blue for fx in ys]\n   plot(xs, ys, color=cols, linewidth=5, legend=false)\n   plot!(zero, a, b)\n   end"
      ],
      "metadata": {},
      "execution_count": null
    },
    {
      "cell_type": "markdown",
      "source": [
        "(The function is defined in `CalculusWithJulia`, so need not be typed in.)"
      ],
      "metadata": {}
    },
    {
      "outputs": [],
      "cell_type": "code",
      "source": [
        "f(x) = x^3 - x\nsignchart(f, -3/2, 3/2)"
      ],
      "metadata": {},
      "execution_count": null
    },
    {
      "cell_type": "markdown",
      "source": [
        "## Pade approximate\n\nOne area where rational functions are employed is in approximating\nfunctions. Later, the Taylor polynomial will be seen to be a polynomial that\napproximates well a function (where \"well\" will be described\nlater). The Pade approximation is similar, though uses a rational\nfunction for the form $p(x)/q(x)$, where $q(0)=1$ is customary.\n\nSome example approximations are\n\n$$~\n\\sin(x) \\approx \\frac{x - 7/60 \\cdot x^3}{1 + 1/20 \\cdot x^2}\n~$$\n\nand\n\n$$~\n\\tan(x) \\approx \\frac{x - 1/15 \\cdot x^3}{1 - 2/5 \\cdot x^2}\n~$$\n\n\nWe can look graphically at these approximations:"
      ],
      "metadata": {}
    },
    {
      "outputs": [],
      "cell_type": "code",
      "source": [
        "sin_p(x) = (x - (7/60)*x^3) / (1 + (1/20)*x^2)\ntan_p(x) = (x - (1/15)*x^3) / (1 - (2/5)*x^2)\nplot(sin, -pi, pi)\nplot!(sin_p, -pi, pi)"
      ],
      "metadata": {},
      "execution_count": null
    },
    {
      "outputs": [],
      "cell_type": "code",
      "source": [
        "plot(tan, -pi/2 + 0.2, pi/2 - 0.2)\nplot!(tan_p, -pi/2 + 0.2, pi/2 - 0.2)"
      ],
      "metadata": {},
      "execution_count": null
    },
    {
      "cell_type": "markdown",
      "source": [
        "## Questions\n\n###### Question\n\nThe rational expression $(x^3 - 2x + 3) / (x^2 - x + 1)$ would have"
      ],
      "metadata": {}
    },
    {
      "outputs": [],
      "cell_type": "code",
      "source": [
        "choices = [L\"A horizontal asymptote $y=0$\",\nL\"A horizontal asymptote $y=1$\",\nL\"A slant asymptote with slope $m=1$\"]\nans = 3\nradioq(choices, ans)"
      ],
      "metadata": {},
      "execution_count": null
    },
    {
      "cell_type": "markdown",
      "source": [
        "###### Question\n\n\nThe rational expression $(x^2 - x + 1)/ (x^3 - 2x + 3)$ would have"
      ],
      "metadata": {}
    },
    {
      "outputs": [],
      "cell_type": "code",
      "source": [
        "choices = [L\"A horizontal asymptote $y=0$\",\nL\"A horizontal asymptote $y=1$\",\nL\"A slant asymptote with slope $m=1$\"]\nans = 1\nradioq(choices, ans)"
      ],
      "metadata": {},
      "execution_count": null
    },
    {
      "cell_type": "markdown",
      "source": [
        "###### Question\n\n\nThe rational expression $(x^2 - x + 1)/ (x^2 - 3x + 3)$ would have"
      ],
      "metadata": {}
    },
    {
      "outputs": [],
      "cell_type": "code",
      "source": [
        "choices = [L\"A horizontal asymptote $y=0$\",\nL\"A horizontal asymptote $y=1$\",\nL\"A slant asymptote with slope $m=1$\"]\nans = 2\nradioq(choices, ans)"
      ],
      "metadata": {},
      "execution_count": null
    },
    {
      "cell_type": "markdown",
      "source": [
        "###### Question\n\n\nThe rational expression\n\n$$~\n\\frac{(x-1)\\cdot(x-2)\\cdot(x-3)}{(x-4)\\cdot(x-5)\\cdot(x-6)}\n~$$\n\nwould have"
      ],
      "metadata": {}
    },
    {
      "outputs": [],
      "cell_type": "code",
      "source": [
        "choices = [L\"A horizontal asymptote $y=0$\",\nL\"A horizontal asymptote $y=1$\",\nL\"A slant asymptote with slope $m=1$\"]\nans = 2\nradioq(choices, ans)"
      ],
      "metadata": {},
      "execution_count": null
    },
    {
      "cell_type": "markdown",
      "source": [
        "###### Question\n\n\nThe rational expression\n\n$$~\n\\frac{(x-1)\\cdot(x-2)\\cdot(x-3)}{(x-4)\\cdot(x-5)\\cdot(x-6)}\n~$$\n\nwould have"
      ],
      "metadata": {}
    },
    {
      "outputs": [],
      "cell_type": "code",
      "source": [
        "choices = [L\"A vertical asymptote $x=1$\",\nL\"A slant asymptote with slope $m=1$\",\nL\"A vertical asymptote $x=5$\"\n]\nans = 3\nradioq(choices, ans)"
      ],
      "metadata": {},
      "execution_count": null
    },
    {
      "cell_type": "markdown",
      "source": [
        "###### Question\n\nThe rational expression\n\n$$~\n\\frac{x^3 - 3x^2 + 2x}{3x^2 - 6x + 2}\n~$$\n\nhas a slant asymptote. What is the equation of that line?"
      ],
      "metadata": {}
    },
    {
      "outputs": [],
      "cell_type": "code",
      "source": [
        "choices = [L\"y = 3x\",\nL\"y = (1/3)x\",\nL\"y = (1/3)x - (1/3)\"\n]\nans = 3\nradioq(choices, ans)"
      ],
      "metadata": {},
      "execution_count": null
    },
    {
      "cell_type": "markdown",
      "source": [
        "###### Question\n\nLook at the graph of the function $f(x) = ((x-1)\\cdot(x-2)) / ((x-3)\\cdot(x-4))$"
      ],
      "metadata": {}
    },
    {
      "outputs": [],
      "cell_type": "code",
      "source": [
        "f(x) = ((x-1) * (x-2)) / ((x-3) *(x-4))\ndelta = 1e-1\ncol = :blue\np = plot(f, -1, 3-delta, color=col, legend=false)\nplot!(p, f, 3+delta, 4-3delta, color=col)\nplot!(p,f, 4 + 5delta, 9, color=col)\np"
      ],
      "metadata": {},
      "execution_count": null
    },
    {
      "cell_type": "markdown",
      "source": [
        "Is the following common conception true: \"The graph of a function never crosses its asymptotes.\""
      ],
      "metadata": {}
    },
    {
      "outputs": [],
      "cell_type": "code",
      "source": [
        "choices = [\"No, the graph clearly crosses the drawn asymptote\",\n\"Yes, this is true\"]\nans = 1\nradioq(choices, ans)"
      ],
      "metadata": {},
      "execution_count": null
    },
    {
      "cell_type": "markdown",
      "source": [
        "(The wikipedia page indicates that the term \"asymptote\" was introduced\nby Apollonius of Perga in his work on conic sections, but in contrast\nto its modern meaning, he used it to mean any line that does not\nintersect the given curve. It can sometimes take a while to change perception.)\n\n\n\n###### Question\n\nConsider the two graphs of $f(x) = 1/x$ over $[10,20]$ and $[100, 200]$:"
      ],
      "metadata": {}
    },
    {
      "outputs": [],
      "cell_type": "code",
      "source": [
        "plot(x -> 1/x, 10, 20)"
      ],
      "metadata": {},
      "execution_count": null
    },
    {
      "outputs": [],
      "cell_type": "code",
      "source": [
        "plot(x -> 1/x, 100, 200)"
      ],
      "metadata": {},
      "execution_count": null
    },
    {
      "cell_type": "markdown",
      "source": [
        "The two shapes are basically identical and do not look like straight lines. How does this reconcile with the fact that $f(x)=1/x$ has a horizontal asymptote $y=0$?"
      ],
      "metadata": {}
    },
    {
      "outputs": [],
      "cell_type": "code",
      "source": [
        "choices = [\"The horizontal asymptote is not a straight line.\",\nL\"The $y$-axis scale shows that indeed the $y$ values are getting close to $0$.\",\nL\"The graph is always decreasing, hence it will eventually reach $-\\infty$.\"\n]\nans = 2\nradioq(choices, ans)"
      ],
      "metadata": {},
      "execution_count": null
    },
    {
      "cell_type": "markdown",
      "source": [
        "###### Question\n\nThe amount of drug in a bloodstream after $t$ hours is modeled by the rational function\n\n$$~\nr(t) = \\frac{50t^2}{t^3 + 20}, \\quad t \\geq  0.\n~$$\n\nWhat is the amount of the drug after $1$ hour?"
      ],
      "metadata": {}
    },
    {
      "outputs": [],
      "cell_type": "code",
      "source": [
        "r1(t) = 50t^2 / (t^3 + 20)\nval = r1(1)\nnumericq(val)"
      ],
      "metadata": {},
      "execution_count": null
    },
    {
      "cell_type": "markdown",
      "source": [
        "What is the amount of drug in the bloodstream after 24 hours?"
      ],
      "metadata": {}
    },
    {
      "outputs": [],
      "cell_type": "code",
      "source": [
        "val = r1(24)\nnumericq(val)"
      ],
      "metadata": {},
      "execution_count": null
    },
    {
      "cell_type": "markdown",
      "source": [
        "What is more accurate: the peak amount is"
      ],
      "metadata": {}
    },
    {
      "outputs": [],
      "cell_type": "code",
      "source": [
        "choices = [\"between 0 and 8 hours\", \"between 8 and 16 hours\", \"between 16 and 24 hours\", \"after one day\"]\nans = 1\nradioq(choices, ans)"
      ],
      "metadata": {},
      "execution_count": null
    },
    {
      "cell_type": "markdown",
      "source": [
        "This graph has"
      ],
      "metadata": {}
    },
    {
      "outputs": [],
      "cell_type": "code",
      "source": [
        "choices = [L\"a slant asymptote with slope $50$\",\nL\"a horizontal asymptote $y=20$\",\nL\"a horizontal asymptote $y=0$\",\nL\"a vertical asymptote with $x = 20^{1/3}$\"]\nans = 3\nradioq(choices, ans)"
      ],
      "metadata": {},
      "execution_count": null
    },
    {
      "cell_type": "markdown",
      "source": [
        "###### Question\n\nThe (low-order) Pade approximation for $\\sin(x)$ was seen to be $(x - 7/60 \\cdot x^3)/(1 + 1/20 \\cdot x^2)$. The graph showed that this approximation was fairly close\nover $[-\\pi, \\pi]$. Without graphing would you expect the behaviour of the function and its approximation to be similar for *large* values of $x$?"
      ],
      "metadata": {}
    },
    {
      "outputs": [],
      "cell_type": "code",
      "source": [
        "yesnoq(false)"
      ],
      "metadata": {},
      "execution_count": null
    },
    {
      "cell_type": "markdown",
      "source": [
        "Why?"
      ],
      "metadata": {}
    },
    {
      "outputs": [],
      "cell_type": "code",
      "source": [
        "choices = [\nL\"The $\\sin(x)$ oscillates, but the rational function eventually follows $7/60 \\cdot x^3$\",\nL\"The $\\sin(x)$ oscillates, but the rational function has a slant asymptote\",\nL\"The $\\sin(x)$ oscillates, but the rational function has a non-zero horizontal asymptote\",\nL\"The $\\sin(x)$ oscillates, but the rational function has a horizontal asymptote of $0$\"]\nans = 2\nradioq(choices, ans)"
      ],
      "metadata": {},
      "execution_count": null
    }
  ],
  "nbformat_minor": 2,
  "metadata": {
    "language_info": {
      "file_extension": ".jl",
      "mimetype": "application/julia",
      "name": "julia",
      "version": "1.5.0"
    },
    "kernelspec": {
      "name": "julia-1.5",
      "display_name": "Julia 1.5.0",
      "language": "julia"
    }
  },
  "nbformat": 4
}
