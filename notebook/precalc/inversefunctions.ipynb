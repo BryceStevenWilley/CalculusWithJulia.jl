{
  "cells": [
    {
      "cell_type": "markdown",
      "source": [
        "# The Inverse of a Function"
      ],
      "metadata": {}
    },
    {
      "outputs": [],
      "cell_type": "code",
      "source": [
        "using CalculusWithJulia\nusing CalculusWithJulia.WeaveSupport\nusing Plots\nnothing"
      ],
      "metadata": {},
      "execution_count": null
    },
    {
      "cell_type": "markdown",
      "source": [
        "A (univariate) mathematical function relates or associates values of\n$x$ to values $y$ using the notation $y=f(x)$. A key point is a given\n$x$ is associated with just one $y$ value, though a given $y$ value\nmay be associated with several different $x$ values.\n\nWe may conceptualize such a relation in many ways: through an algebraic\nrule; through the graph of $f$; through a description of what $f$\ndoes; or through a table of paired values, say.  For the moment, let's\nconsider a function as rule that takes in a value of $x$ and outputs a\nvalue $y$. If a rule is given defining the function, the computation\nof $y$ is straightforward. A different question is not so easy: for a\ngiven value $y$ what value - or *values* - of $x$ (if any) produce an output of\n$y$? That is, what $x$ value(s) satisfy $f(x)=y$?\n\n*If* for each $y$ in some set of values there is just one $x$ value, then this operation associates to each value $y$ a single value $x$, so it too is a function. When that is the case we call this an *inverse* function.\n\nWhy is this useful? When available, it can help us solve equations. If we can write our equation as $f(x) = y$, then we can \"solve\" for $x$ through $x = g(y)$, where $g$ is this inverse function.\n\nLet's explore when we can \"solve\" for an inverse function.\n\nConsider the graph of the function $f(x) = 2^x$:"
      ],
      "metadata": {}
    },
    {
      "outputs": [],
      "cell_type": "code",
      "source": [
        "using CalculusWithJulia   # to load the `Plots` package\nf(x) = 2^x\nplot(f, 0, 4)\nplot!([2,2,0], [0,f(2),f(2)])"
      ],
      "metadata": {},
      "execution_count": null
    },
    {
      "cell_type": "markdown",
      "source": [
        "The graph of a function is a representation of points $(x,f(x))$, so\nto *find* $f(c)$ from the graph, we begin on the $x$ axis at $c$, move\nvertically to the graph (the point $(c, f(c))$), and then move\nhorizontally to the $y$ axis, intersecting it at $f(c)$. The figure\nshows this for $c=2$, from which we can read that $f(c)$ is about\n$4$. This is how an $x$ is associated to a single $y$.\n\nIf we were to *reverse* the direction, starting at $f(c)$ on the $y$\naxis and then moving horizontally to the graph, and then vertically to\nthe $x$-axis we end up at a value $c$ with the correct $f(c)$. This\noperation will form a function **if** the initial movement\nhorizontally is guaranteed to find *no more than one* value on the graph. That\nis, to have an inverse function, there can not be two $x$ values\ncorresponding to a given $y$ value. This observation is often\nvisualized through the \"horizontal line test\" - the graph of a function with an\ninverse function can only intersect a horizontal line at most in one\nplace.\n\n\nMore formally, a function is called *one-to-one* *if* for any two $a\n\\neq b$, it must be that $f(a) \\neq f(b)$. Many functions are\none-to-one, many are not. Familiar one-to-one functions are linear functions ($f(x)=a \\cdot x + b$ with $a\\neq 0$), odd powers of $x$ ($f(x)=x^{2k+1}$), and functions of the form $f(x)=x^{1/n}$ for $x \\geq 0$. In contrast, all *even* functions are *not* one-to-one, as $f(x) = f(-x)$ for any nonzero $x$ in the domain of $f$.\n\nA class of functions that are guaranteed to be one-to-one are the\n*strictly* increasing functions (which satisfy $a < b$ implies $f(a) <\nf(b)$). Similarly, strictly decreasing functions are one-to-one. The\nterm strictly *monotonic* is used to describe either strictly\nincreasing or strictly decreasing.  By the above observations,\nstrictly monotonic function will have inverse functions.\n\nThe function $2^x$, graphed above, is strictly increasing, so it will\nhave an inverse function. That is we can solve for $x$ in an equation\nlike $2^x = 9$ using the inverse function of $f(x) = 2^x$, provided we\ncan identify the inverse function.\n\n## How to solve for an inverse function?\n\nIf we know an inverse function exists, how can we find it?\n\nIf our function is given by a graph, the process above describes how to find the inverse function.\n\nHowever, typically we have a rule describing our function. What is the\nprocess then?  A simple example helps illustrate. The *linear*\nfunction $f(x) = 9/5\\cdot x + 32$ is strictly increasing, hence has an\ninverse function. What should it be? Let's describe the action of $f$:\nit multiplies $x$ by $9/5$ and then adds $32$. To \"invert\" this we\n*first* invert the adding of $32$ by subtracting $32$, then we would\n\"invert\" multiplying by $9/5$ by *dividing* by $9/5$. Hence $g(x)=(x-32)/(9/5)$.\nWe would generally simplify this, but let's not for now. If we\nview a function as a composition of many actions, then we find the\ninverse by composing the inverse of these actions in **reverse**\norder. The reverse order might seem confusing, but this is how we get\ndressed and undressed: to dress we put on socks and then shoes. To\nundress we take off the shoes and then take off the socks.\n\nWhen we solve algebraically for $x$ in $y=9/5 \\cdot x + 32$ we do the same thing as we do verbally: we subtract $32$ from each side, and then divide by $9/5$ to isolate $x$:\n\n$$~\n\\begin{align}\ny &= 9/5 \\cdot x + 32\\\\\ny - 32 &= 9/5 \\cdot x\\\\\n(y-32) / (9/5) &= x.\n\\end{align}\n~$$\n\nFrom this, we have the function $g(y) = (y-32) / (9/5)$ is the inverse function of $f(x) =  9/5\\cdot x + 32$.\n\n*Usually* univariate functions are written with $x$ as the dummy variable, so it is typical to write $g(x) = (x-32) / (9/5)$ as the inverse function.\n\n*Usually* we use the name $f^{-1}$ for the inverse function of $f$, so this would be most often [seen](http://tinyurl.com/qypbueb) as $f^{-1}(x) = (x-32)/(9/5)$ or after simplification $f^{-1}(x) = (5/9) \\cdot (x-32)$."
      ],
      "metadata": {}
    },
    {
      "outputs": [],
      "cell_type": "code",
      "source": [
        "note(L\"\"\"The use of a negative exponent on the function name is *easily* confused for the notation for a reciprocal when it is used on a mathematical *expression*. An example might be the notation $(1/x)^{-1}$. As this is an expression this would simplify to $x$ and not the inverse of the *function* $f(x)=1/x$ (which is $f^{-1}(x) = 1/x$).\n\"\"\")"
      ],
      "metadata": {},
      "execution_count": null
    },
    {
      "cell_type": "markdown",
      "source": [
        "##### Example\n\nSuppose a transformation of $x$ is given by $y = f(x) = (ax + b)/(cx+d)$. This function is  invertible. Find the inverse and describe it's domain.\n\nFrom the expression $y=f(x)$ we *algebraically* solve for $x$:\n\n$$~\n\\begin{align*}\ny &= \\frac{ax +b}{cx+d}\\\\\ny \\cdot (cx + d) &= ax + b\\\\\nycx - ax &= b - yd\\\\\n(cy-a) \\cdot x &= b - dy\\\\\nx &= -\\frac{dy - b}{cy-a}.\n\\end{align*}\n~$$\n\nWe see that to solve for $x$ we need to divide by $cy-a$, so this expression can not be zero.\nSo, using $x$ as the dummy variable, we have\n\n$$~\nf^{-1}(x) = -\\frac{dx - b}{cx-a},\\quad  cx-a \\neq 0.\n~$$\n\n\n\n\n##### Example\n\nThe function $f(x) = (x-1)^5 + 2$ is strictly increasing and so will have an inverse function. Find it.\n\nAgain, we solve algebraically starting with $y=(x-1)^5 + 2$ and solving for $x$:\n\n$$~\n\\begin{align*}\ny &= (x-1)^5 + 2\\\\\ny - 2 &= (x-1)^5\\\\\n(y-2)^{1/5} &= x - 1\\\\\n(y-2)^{1/5} + 1 = x.\n\\end{align*}\n~$$\n\nWe see that $f^{-1}(x) = 1 + (x - 2)^{1/5}$. The fact that the power $5$ is an odd power is important, as this ensures a unique (real) solution to the fifth root of a value, in the above $y-2$.\n\n##### Example\n\nThe function $f(x) = x^x,  x \\geq 1/e$ is strictly\nincreasing. However, trying to algebraically solve for an inverse\nfunction will quickly run into problems (without using specially\ndefined functions). The existence of an inverse does not imply there\nwill always be luck in trying to find a mathematical rule defining the\ninverse.\n\n## Functions which are not always invertible\n\nConsider the function $f(x) = x^2$. The graph - a parabola - is clearly not *monotonic*. Hence no inverse function exists. Yet, we can solve equations $y=x^2$ quite easily: $y=\\sqrt{x}$ *or* $y=-\\sqrt{x}$. We know the square root undoes the squaring, but we need to be a little more careful to say the square root is the inverse of the squaring function.\n\nThe issue is there are generally *two* possible answers. To avoid this, we might choose to only take the *non-negative* answer. To make this all work as above, we restrict the domain of $f(x)$ and now consider the related function $f(x)=x^2, x \\geq 0$. This is now a monotonic function, so will have an inverse function. This is clearly $f^{-1}(x) = \\sqrt{x}$.\n\nThe [inverse function theorem](https://en.wikipedia.org/wiki/Inverse_function_theorem) basically says that if $f$ is *locally* monotonic, then an inverse function will exist *locally*. By \"local\" we mean in a neighborhood of $c$.\n\n##### Example\n\nConsider the function $f(x) = (1+x^2)^{-1}$. This bell-shaped function is even (symmetric about $0$), so can not possibly be one-to-one. However, if the domain is restricted to $[0,\\infty)$ it is. The restricted function is strictly decreasing and its inverse is found as follows:\n\n\n$$~\n\\begin{align*}\ny &= \\frac{1}{1 + x^2}\\\\\n1+x^2 &= \\frac{1}{y}\\\\\nx^2 &= \\frac{1}{y} - 1\\\\\nx &= \\sqrt{(1-y)/y}, \\quad 0 \\leq y \\leq 1.\n\\end{align*}\n~$$\n\nThen $f^{-1}(x) = \\sqrt{(1-x)/x}$ where $0 < x \\leq 1$. The somewhat\ncomplicated restriction for the the domain coincides with the range of\n$f(x)$. We shall see next that this is no coincidence.\n\n## Formal properties of the inverse function\n\nConsider again the graph of a monotonic function, in this case $f(x) = x^2 + 2, x \\geq 0$:"
      ],
      "metadata": {}
    },
    {
      "outputs": [],
      "cell_type": "code",
      "source": [
        "f(x) = x^2 + 2\nplot(f, 0, 4)\nplot!([2,2,0], [0,f(2),f(2)])"
      ],
      "metadata": {},
      "execution_count": null
    },
    {
      "cell_type": "markdown",
      "source": [
        "The graph is shown over the interval $(0,4)$, but the *domain* of $f(x)$ is all $x \\geq 0$. The *range* of $f(x)$ is clearly $2 \\leq x \\leq \\infty$.\n\nThe lines layered on the plot show how to associate an $x$ value to a $y$ value or vice versa (as $f(x)$ is one-to-one). The domain then of the inverse function is all the $y$ values for which an corresponding $x$ value exists: this is clearly all values bigger or equal to $2$. The *range* of the inverse function can be seen to be all the images for the values of $y$, which would be all $x \\geq 0$. This gives the relationship:\n\n> the *range* of $f(x)$ is the *domain* of $f^{-1}(x)$ and furthermore the *domain* of $f(x)$ is the *range* for $f^{-1}(x)$;\n\nFurther, from this we can see if we start at $x$, apply $f$ we get $y$, if we then apply $f^{-1}$ we will get back to $x$ so we have:\n\n> For all $x$ in the domain of $f$: $f^{-1}(f(x)) = x$.\n\nSimilarly, were we to start on the $y$ axis, we would see:\n\n> For all $x$ in the domain of $f^{-1}$: $f(f^{-1}(x)) = x$.\n\nIn short $f^{-1} \\circ f$ and $f \\circ f^{-1}$ are both identity functions, though on possibly different domains.\n\n## The graph of the inverse function\n\nThe graph of $f(x)$ is a representation of all values $(x,y)$ where $y=f(x)$. As the inverse flips around the role of $x$ and $y$ we have:\n\n> If $(x,y)$ is a point on the graph of $f(x)$, then $(y,x)$ will be a point on the graph of $f^{-1}(x)$.\n\n\nLet's see this in action. Take the function $2^x$. We can plot it by generating points to plot as follows:"
      ],
      "metadata": {}
    },
    {
      "outputs": [],
      "cell_type": "code",
      "source": [
        "f(x) = 2^x\nxs = range(0, 2, length=50)\nys = f.(xs)\nplot(xs, ys, color=:blue)\nplot!(ys, xs, color=:red) # the inverse"
      ],
      "metadata": {},
      "execution_count": null
    },
    {
      "cell_type": "markdown",
      "source": [
        "By flipping around the $x$ and $y$ values in the `plot!` command, we\nproduce the graph of the inverse function - when viewed as a function\nof $x$. We can see that the domain of the inverse function (in red) is\nclearly different from that of the function (in blue).\n\nThe inverse function graph can be viewed as a symmetry of the graph of\nthe function. Flipping the graph for $f(x)$ around the line $y=x$ will\nproduce the graph of the inverse function: Here we see for the graph\nof $f(x) = x^{1/3}$ and its inverse function:"
      ],
      "metadata": {}
    },
    {
      "outputs": [],
      "cell_type": "code",
      "source": [
        "f(x) = cbrt(x)\nxs = range(-2, 2, length=150)\nys = f.(xs)\nplot(xs, ys, color=:blue, aspect_ratio=:equal, legend=false)\nplot!(ys, xs, color=:red)\nplot!(identity, color=:green, linestyle=:dash)\nx, y = 1/2, f(1/2)\nplot!([x,y], [y,x], color=:green, linestyle=:dot)"
      ],
      "metadata": {},
      "execution_count": null
    },
    {
      "cell_type": "markdown",
      "source": [
        "We drew a line connecting $(1/2, f(1/2))$ to $(f(1/2),1/2)$. We can\nsee that it crosses the line $y=x$ perpendicularly, indicating that\npoints are symmetric about this line. (The plotting argument\n`aspect_ratio=:equal` ensures that the $x$ and $y$ axes are on the\nsame scale, so that this type of line will look perpendicular.)\n\n\nOne consequence of this symmetry, is that if $f$ is strictly increasing, then so is its inverse."
      ],
      "metadata": {}
    },
    {
      "outputs": [],
      "cell_type": "code",
      "source": [
        "note(L\"\"\"In the above we used `cbrt(x)` and not `x^(1/3)`. The latter usage assumes that $x \\geq 0$ as it isn't guaranteed that for all real exponents the answer will be a real number. The `cbrt` function knows there will always be a real answer and provides it.\n\"\"\")"
      ],
      "metadata": {},
      "execution_count": null
    },
    {
      "cell_type": "markdown",
      "source": [
        "## Lines\n\nThe slope of $f(x) = 9/5 \\cdot x + 32$ is clearly $9/5$ and the slope of the inverse function $f^{-1}(x) = 5/9 \\cdot (x-32)$ is clearly $5/9$ - or the reciprocal. This makes sense, as the slope is the rise over the run, and by flipping the $x$ and $y$ values we merely flip over the rise and the run.\n\nNow consider the graph of the *tangent line* to a function. This concept will be better defined later, for now, it is a line \"tangent\" to the graph of $f(x)$ at a point $x=c$.\n\nFor concreteness, we consider $f(x) = \\sqrt{x}$ at $c=2$. The tangent line will have slope $1/(2\\sqrt{2})$ and will go through the point $(2, f(2)$. We graph the function, its tangent line, and their inverses:"
      ],
      "metadata": {}
    },
    {
      "outputs": [],
      "cell_type": "code",
      "source": [
        "f(x) = sqrt(x)\nc = 2\ntl(x) = f(c) + 1/(2 * sqrt(2)) * (x - c)\nxs = range(0, 3, length=150)\nys = f.(xs)\nzs = tl.(xs)\nplot(xs, ys,  color=:blue, legend=false)\nplot!(xs, zs, color=:blue) # the tangent line\nplot!(ys, xs, color=:red)  # the inverse function\nplot!(zs, xs, color=:red)  # inverse of tangent line"
      ],
      "metadata": {},
      "execution_count": null
    },
    {
      "cell_type": "markdown",
      "source": [
        "What do we see? In blue, we can see the familiar square root graph along with a \"tangent\" line through the point $(2, f(2))$. The red graph of $f^{-1}(x) = x^2, x \\geq 0$ is seen and, perhaps surprisingly, a tangent line. This is at the point $(f(2), 2)$. We know the slope of this tangent line is the reciprocal of the slope of the red tangent line. This gives this informal observation:\n\n> If the graph of $f(x)$ has a tangent line at $(c, f(c))$ with slope $m$, then the graph of $f^{-1}(x)$ will have a tangent line at $(f(c), c)$ with slope $1/m$.\n\nThis is reminiscent of the formula for the slope of a perpendicular line, $-1/m$, but quite different, as this formula implies the two lines have either both positive slopes or both negative slopes, unlike the relationship in slopes between a line and a perpendicular line.\n\nThe key here is that the shape of $f(x)$ near $x=c$ is somewhat related to the shape of $f^{-1}(x)$ at $f(c)$. In this case, if we use the tangent line as a fill in for how steep a function is, we see from the relationship that if $f(x)$ is \"steep\" at $x=c$, then $f^{-1}(x)$ will be \"shallow\" at $x=f(c)$.\n\n\n\n## Questions\n\n###### Question\n\nIs it possible that a function have two different inverses?"
      ],
      "metadata": {}
    },
    {
      "outputs": [],
      "cell_type": "code",
      "source": [
        "choices = [L\"No, for all $x$ in the domain an an inverse, the value of any inverse will be the same, hence all inverse functions would be identical.\",\nL\"Yes, the function $f(x) = x^2, x \\geq 0$ will have a different inverse than the same function $f(x) = x^2,  x \\leq 0$\"]\nans = 1\nradioq(choices, ans)"
      ],
      "metadata": {},
      "execution_count": null
    },
    {
      "cell_type": "markdown",
      "source": [
        "###### Question\n\nA function takes a value $x$ adds $1$, divides by $2$, and then subtracts $1$. Is the function \"one-to-one\"?"
      ],
      "metadata": {}
    },
    {
      "outputs": [],
      "cell_type": "code",
      "source": [
        "choices = [L\"Yes, the function is the linear function $f(x)=(x+1)/2 + 1$ and so is monotonic.\",\nL\"No, the function is $1$ then $2$ then $1$, but not \\\"one-to-one\\\"\"\n]\nans = 1\nradioq(choices, ans)"
      ],
      "metadata": {},
      "execution_count": null
    },
    {
      "cell_type": "markdown",
      "source": [
        "###### Question\n\nIs the function $f(x) = x^5 - x - 1$ one-to-one?"
      ],
      "metadata": {}
    },
    {
      "outputs": [],
      "cell_type": "code",
      "source": [
        "choices=[L\"Yes, a graph over $(-100, 100)$ will show this.\",\nL\"No, a graph over $(-2,2)$ will show this.\"\n]\nans = 2\nradioq(choices, ans)"
      ],
      "metadata": {},
      "execution_count": null
    },
    {
      "cell_type": "markdown",
      "source": [
        "###### Question\n\nA function is given by the table\n\n```\nx  |   y\n--------\n1  |   3\n2  |   4\n3  |   5\n4  |   3\n5  |   4\n6  |   5\n```\n\nIs the function one-to-one?"
      ],
      "metadata": {}
    },
    {
      "outputs": [],
      "cell_type": "code",
      "source": [
        "yesnoq(false)"
      ],
      "metadata": {},
      "execution_count": null
    },
    {
      "cell_type": "markdown",
      "source": [
        "###### Question\n\nA function is defined by its graph."
      ],
      "metadata": {}
    },
    {
      "outputs": [],
      "cell_type": "code",
      "source": [
        "f(x) = x - sin(x)\nplot(f, 0, 6pi)"
      ],
      "metadata": {},
      "execution_count": null
    },
    {
      "cell_type": "markdown",
      "source": [
        "Over the domain shown, is the function one-to-one?"
      ],
      "metadata": {}
    },
    {
      "outputs": [],
      "cell_type": "code",
      "source": [
        "yesnoq(true)"
      ],
      "metadata": {},
      "execution_count": null
    },
    {
      "cell_type": "markdown",
      "source": [
        "###### Question\n\nSuppose $f(x) = x^{-1}$.\n\nWhat is $g(x) = (f(x))^{-1}$?"
      ],
      "metadata": {}
    },
    {
      "outputs": [],
      "cell_type": "code",
      "source": [
        "choices = [L\"g(x) = x\", L\"g(x) = x^{-1}\"]\nans = 1\nradioq(choices, ans)"
      ],
      "metadata": {},
      "execution_count": null
    },
    {
      "cell_type": "markdown",
      "source": [
        "What is $g(x) = f^{-1}(x)$?"
      ],
      "metadata": {}
    },
    {
      "outputs": [],
      "cell_type": "code",
      "source": [
        "choices = [L\"g(x) = x\", L\"g(x) = x^{-1}\"]\nans = 2\nradioq(choices, ans)"
      ],
      "metadata": {},
      "execution_count": null
    },
    {
      "cell_type": "markdown",
      "source": [
        "###### Question\n\nA function is given by its graph:"
      ],
      "metadata": {}
    },
    {
      "outputs": [],
      "cell_type": "code",
      "source": [
        "f(x) = sin(pi/4 * x)\nplot(f, -2, 2)"
      ],
      "metadata": {},
      "execution_count": null
    },
    {
      "cell_type": "markdown",
      "source": [
        "What is the value of $f(1)$?"
      ],
      "metadata": {}
    },
    {
      "outputs": [],
      "cell_type": "code",
      "source": [
        "val = f(1)\nnumericq(val, 0.2)"
      ],
      "metadata": {},
      "execution_count": null
    },
    {
      "cell_type": "markdown",
      "source": [
        "What is the value of $f^{-1}(1)$?"
      ],
      "metadata": {}
    },
    {
      "outputs": [],
      "cell_type": "code",
      "source": [
        "val = 2\nnumericq(val, 0.2)"
      ],
      "metadata": {},
      "execution_count": null
    },
    {
      "cell_type": "markdown",
      "source": [
        "What is the value of $(f(1))^{-1}$?"
      ],
      "metadata": {}
    },
    {
      "outputs": [],
      "cell_type": "code",
      "source": [
        "val = 1/f(1)\nnumericq(val, 0.2)"
      ],
      "metadata": {},
      "execution_count": null
    },
    {
      "cell_type": "markdown",
      "source": [
        "What is the value of $f^{-1}(1/2)$?"
      ],
      "metadata": {}
    },
    {
      "outputs": [],
      "cell_type": "code",
      "source": [
        "val = 2/3\nnumericq(val, 0.2)"
      ],
      "metadata": {},
      "execution_count": null
    },
    {
      "cell_type": "markdown",
      "source": [
        "###### Question\n\nA function is described as follows: for $x > 0$ it takes the square root, adds $1$ and divides by $2$.\n\nWhat is the inverse of this function?"
      ],
      "metadata": {}
    },
    {
      "outputs": [],
      "cell_type": "code",
      "source": [
        "choices=[\nL\"The function that multiplies by $2$, subtracts $1$ and then squares the value.\",\nL\"The function that divides by $2$, adds $1$, and then takes the square root of the value.\",\nL\"The function that takes square of the value, then subtracts $1$, and finally multiplies by $2$.\"\n]\nans = 1\nradioq(choices, ans)"
      ],
      "metadata": {},
      "execution_count": null
    },
    {
      "cell_type": "markdown",
      "source": [
        "###### Question\n\nA function, $f$, is specified by a table:\n\n```\nx  |  y\n-------\n1  |  2\n2  |  3\n3  |  5\n4  |  8\n5  |  13\n```\n\nWhat is $f(3)$?"
      ],
      "metadata": {}
    },
    {
      "outputs": [],
      "cell_type": "code",
      "source": [
        "numericq(5)"
      ],
      "metadata": {},
      "execution_count": null
    },
    {
      "cell_type": "markdown",
      "source": [
        "What is $f^{-1}(3)$?"
      ],
      "metadata": {}
    },
    {
      "outputs": [],
      "cell_type": "code",
      "source": [
        "numericq(2)"
      ],
      "metadata": {},
      "execution_count": null
    },
    {
      "cell_type": "markdown",
      "source": [
        "What is $f(5)^{-1}$?"
      ],
      "metadata": {}
    },
    {
      "outputs": [],
      "cell_type": "code",
      "source": [
        "numericq(1/13)"
      ],
      "metadata": {},
      "execution_count": null
    },
    {
      "cell_type": "markdown",
      "source": [
        "What is $f^{-1}(5)$?"
      ],
      "metadata": {}
    },
    {
      "outputs": [],
      "cell_type": "code",
      "source": [
        "numericq(3)"
      ],
      "metadata": {},
      "execution_count": null
    },
    {
      "cell_type": "markdown",
      "source": [
        "###### Question\n\nFind the inverse function of $f(x) = (x^3 + 4)/5$."
      ],
      "metadata": {}
    },
    {
      "outputs": [],
      "cell_type": "code",
      "source": [
        "choices = [\nL\"f^{-1}(x) = (5y-4)^{1/3}\",\nL\"f^{-1}(x) = (5y-4)^3\",\nL\"f^{-1}(x) = 5/(x^3 + 4)\"\n]\nans = 1\nradioq(choices, ans)"
      ],
      "metadata": {},
      "execution_count": null
    },
    {
      "cell_type": "markdown",
      "source": [
        "###### Question\n\nFind the inverse function of $f(x) = x^\\pi + e,  x \\geq 0$."
      ],
      "metadata": {}
    },
    {
      "outputs": [],
      "cell_type": "code",
      "source": [
        "choices = [\nL\"f^{-1}(x) = (x-e)^{1/\\pi}\",\nL\"f^{-1}(x) = (x-\\pi)^{e}\",\nL\"f^{-1}(x) = (x-e)^{\\pi}\"\n]\nans = 1\nradioq(choices, ans)"
      ],
      "metadata": {},
      "execution_count": null
    },
    {
      "cell_type": "markdown",
      "source": [
        "###### Question\nWhat is the *domain* of the inverse function for $f(x) = x^2 + 7,  x \\geq 0$?"
      ],
      "metadata": {}
    },
    {
      "outputs": [],
      "cell_type": "code",
      "source": [
        "choices = [\nL\"[7, \\infty)\",\nL\"(-\\infty, \\infty)\",\nL\"[0, \\infty)\"]\nans = 1\nradioq(choices, ans)"
      ],
      "metadata": {},
      "execution_count": null
    },
    {
      "cell_type": "markdown",
      "source": [
        "###### Question\n\nWhat is the *range* of the inverse function for $f(x) =  x^2 + 7,  x \\geq 0$?"
      ],
      "metadata": {}
    },
    {
      "outputs": [],
      "cell_type": "code",
      "source": [
        "choices = [\nL\"[7, \\infty)\",\nL\"(-\\infty, \\infty)\",\nL\"[0, \\infty)\"]\nans = 3\nradioq(choices, ans)"
      ],
      "metadata": {},
      "execution_count": null
    },
    {
      "cell_type": "markdown",
      "source": [
        "###### Question\n\nFrom plot, are blue and red inverse functions?"
      ],
      "metadata": {}
    },
    {
      "outputs": [],
      "cell_type": "code",
      "source": [
        "f(x) = x^3\nxs = range(0, 2, length=100)\nys = f.(xs)\nplot(xs, ys, color=:blue, legend=false)\nplot!(ys, xs, color=:red)\nplot!(x->x, linestyle=:dash)"
      ],
      "metadata": {},
      "execution_count": null
    },
    {
      "outputs": [],
      "cell_type": "code",
      "source": [
        "yesnoq(true)"
      ],
      "metadata": {},
      "execution_count": null
    },
    {
      "cell_type": "markdown",
      "source": [
        "From plot, are blue and red inverse functions?"
      ],
      "metadata": {}
    },
    {
      "outputs": [],
      "cell_type": "code",
      "source": [
        "f(x) = x^3 - x - 1\nxs = range(-2,2, length=100)\nys = f.(xs)\nplot(xs, ys, color=:blue, legend=false)\nplot!(-xs, -ys, color=:red)\nplot!(x->x, linestyle=:dash)"
      ],
      "metadata": {},
      "execution_count": null
    },
    {
      "outputs": [],
      "cell_type": "code",
      "source": [
        "yesnoq(false)"
      ],
      "metadata": {},
      "execution_count": null
    },
    {
      "cell_type": "markdown",
      "source": [
        "###### Question\n\nThe function $f(x) = (ax + b)/(cx + d)$ is known as a [Mobius](http://tinyurl.com/oemweyj) transformation and can be expressed as a composition of $4$ functions, $f4 \\circ f3 \\circ f2 \\circ f1$, where:\nthe translation $f1(x) = x + d/c$; the inversion and reflection $f2(x) = x^{-1}$; the scaling $f3(x) = ((bc-ad)/c^2) \\cdot x$; and the translation $f4(x) = x + a/c$.\n\nFor $x=10$, what is $f(10)$?"
      ],
      "metadata": {}
    },
    {
      "outputs": [],
      "cell_type": "code",
      "source": [
        "a,b,c,d = 1,2,3,5\nf1(x) = x + d/c; f2(x) = 1/x; f3(x) = (b*c-a*d)/c^2 * x; f4(x)= x + a/c\nf(x) = (a*x+b) / (c*x + d)\nnumericq(f(10))"
      ],
      "metadata": {},
      "execution_count": null
    },
    {
      "cell_type": "markdown",
      "source": [
        "For $x=10$, what is $f4(f3(f2(f1(10))))$?"
      ],
      "metadata": {}
    },
    {
      "outputs": [],
      "cell_type": "code",
      "source": [
        "numericq(f4(f3(f2(f1(10)))))"
      ],
      "metadata": {},
      "execution_count": null
    },
    {
      "cell_type": "markdown",
      "source": [
        "The last two answers should be the same, why?"
      ],
      "metadata": {}
    },
    {
      "outputs": [],
      "cell_type": "code",
      "source": [
        "choices = [L\"As $f4(f3(f2(f1(x))))=(f4 \\circ f3 \\circ f2 \\circ f1)(x)$\",\nL\"As $f4(f3(f2(f1(x))))=(f1 \\circ f2 \\circ f3 \\circ f4)(x)$\",\n\"As the latter is more complicated than the former.\"\n]\nans=1\nradioq(choices, ans)"
      ],
      "metadata": {},
      "execution_count": null
    },
    {
      "cell_type": "markdown",
      "source": [
        "Let $g1$, $g2$, $g3$, and $g4$ denote the inverse functions. Clearly, $g1(x) = x- d/c$ and $g4(x) = x - a/c$, as the inverse of adding a constant is subtracting the constant.\n\nWhat is $g2(x)=f2^{-1}(x)$?"
      ],
      "metadata": {}
    },
    {
      "outputs": [],
      "cell_type": "code",
      "source": [
        "choices = [L\"g2(x) = x^{-1}\", L\"g2(x) = x\", L\"g2(x) = x -1\"]\nans = 1\nradioq(choices, ans)"
      ],
      "metadata": {},
      "execution_count": null
    },
    {
      "cell_type": "markdown",
      "source": [
        "What is $g3(x)=f3^{-1}(x)$?"
      ],
      "metadata": {}
    },
    {
      "outputs": [],
      "cell_type": "code",
      "source": [
        "choices = [L\"c^2/(b\\cdot c - a\\cdot d) \\cdot  x\", L\"(b\\cdot c-a\\cdot d)/c^2 \\cdot  x\", L\"c^2 x\"]\nans = 1\nradioq(choices, ans)"
      ],
      "metadata": {},
      "execution_count": null
    },
    {
      "cell_type": "markdown",
      "source": [
        "Given these, what is the value of $g4(g3(g2(g1(f4(f3(f2(f1(10))))))))$?"
      ],
      "metadata": {}
    },
    {
      "outputs": [],
      "cell_type": "code",
      "source": [
        "g1(x) = x - d/c; g2(x) = 1/x; g3(x) = 1/((b*c-a*d)/c^2) *x; g4(x)= x - a/c\nval = g4(g3(g2(g1(f4(f3(f2(f1(10))))))))\nnumericq(val)"
      ],
      "metadata": {},
      "execution_count": null
    },
    {
      "cell_type": "markdown",
      "source": [
        "What about the value of $g1(g2(g3(g4(f4(f3(f2(f1(10))))))))$?"
      ],
      "metadata": {}
    },
    {
      "outputs": [],
      "cell_type": "code",
      "source": [
        "val = g1(g2(g3(g4(f4(f3(f2(f1(10))))))))\nnumericq(val)"
      ],
      "metadata": {},
      "execution_count": null
    }
  ],
  "nbformat_minor": 2,
  "metadata": {
    "language_info": {
      "file_extension": ".jl",
      "mimetype": "application/julia",
      "name": "julia",
      "version": "1.5.0"
    },
    "kernelspec": {
      "name": "julia-1.5",
      "display_name": "Julia 1.5.0",
      "language": "julia"
    }
  },
  "nbformat": 4
}
