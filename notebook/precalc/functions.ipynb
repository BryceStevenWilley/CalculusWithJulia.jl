{
  "cells": [
    {
      "cell_type": "markdown",
      "source": [
        "# Functions"
      ],
      "metadata": {}
    },
    {
      "outputs": [],
      "cell_type": "code",
      "source": [
        "using CalculusWithJulia\nusing CalculusWithJulia.WeaveSupport\nusing Plots\nnothing"
      ],
      "metadata": {},
      "execution_count": null
    },
    {
      "cell_type": "markdown",
      "source": [
        "A mathematical [function](http://en.wikipedia.org/wiki/Function_(mathematics)) is defined abstractly by\n\n> **Function:** A function is a *relation* which assigns to each element in the domain a *single* element in the range. A **relation** is a set of ordered pairs, $(x,y)$. The set of first coordinates is the domain, the set of second coordinates the range of the relation.\n\nThat is, a function gives a correspondence between  values in its domain with  values in its range.\n\nThis definition is abstract, as functions can be very general. With\nsingle-variable calculus, we generally specialize to real-valued\nfunctions of a single variable (*univariate functions*). These\ntypically have the correspondence given by a rule, such as $f(x) =\nx^2$ or $f(x) = \\sqrt{x}$. The function's domain may be implicit (as in all $x$\nfor which the rule is defined) or may be explicitly given as part of the\nrule. The function's range is then the image of its domain, or the set of all\n$f(x)$ for each $x$ in the domain ($\\{f(x): x \\in \\text{ domain}\\}$).\n\n\nSome examples of mathematical functions are:\n\n$$~\nf(x) = \\cos(x), \\quad g(x) = x^2 - x, \\quad h(x) = \\sqrt{x}, \\quad\ns(x) = \\begin{cases} -1 & x < 0\\\\1&x>0\\end{cases}.\n~$$\n\nFor these examples, the domain of both $f(x)$ and $g(x)$ is all real\nvalues of $x$, where as for $h(x)$ it is implicitly just the set of\nnon-negative numbers,\n$[0, \\infty)$. Finally, for $s(x)$, we can see that the domain is defined for every $x$ but $0$.\n\nIn general the range is harder to identify than the domain, and this is the case for these functions too. For $f(x)$ we know the $\\cos$ function is trapped in $[-1,1]$\nand it is intuitively clear than all values in that set are\npossible. The function $h(x)$ would have range\n$[0,\\infty)$.  The $s(x)$ function is either $-1$ or $1$, so only has two possible values in its range.  What about $g(x)$? It is a parabola that opens upward, so any $y$ values below the $y$ value of its vertex will not appear in the range. In this case, the symmetry indicates that the vertex will be at $(1/2, -1/4)$, so the range is $[-1/4, \\infty)$."
      ],
      "metadata": {}
    },
    {
      "outputs": [],
      "cell_type": "code",
      "source": [
        "note(\"\"\"\n\n**Thanks to Euler (1707-1783):** The formal idea of a function is a relatively modern concept in mathematics.  According to [Dunham](http://www.maa.org/sites/default/files/pdf/upload_library/22/Ford/dunham1.pdf),\n  Euler defined a function as an \"analytic expression composed in any way\n  whatsoever of the variable quantity and numbers or constant\n  quantities.\" He goes on to indicate that as Euler matured, so did\n  his notion of function, ending up closer to the modern idea of a\n  correspondence not necessarily tied to a particular formula or\n  “analytic expression.” He finishes by saying: \"It is fair to say\n  that we now study functions in analysis because of him.\"\n\n\"\"\")"
      ],
      "metadata": {},
      "execution_count": null
    },
    {
      "cell_type": "markdown",
      "source": [
        "We will see that defining functions within `Julia` can be as simple a concept as Euler started with, but that the more abstract concept has a great advantage that is exploited in the design of the language.\n\n## Defining simple mathematical functions\n\nThe notation `Julia` uses to define simple mathematical functions could not be more closely related to how they are written mathematically. For example, the functions $f(x)$, $g(x)$, and $h(x)$ above may be defined by:"
      ],
      "metadata": {}
    },
    {
      "outputs": [],
      "cell_type": "code",
      "source": [
        "f(x) = cos(x)\ng(x) = x^2 - x\nh(x) = sqrt(x)"
      ],
      "metadata": {},
      "execution_count": null
    },
    {
      "cell_type": "markdown",
      "source": [
        "The left-hand sign of the equals sign is still an assignment, though in this case an assignment to a function object which has a name and a specification of an argument, $x$ in each case above, though other *dummy variables* could be used. The right hand side is simply `Julia` code to compute the *rule* corresponding to the function.\n\nCalling the function also follows standard math notation:"
      ],
      "metadata": {}
    },
    {
      "outputs": [],
      "cell_type": "code",
      "source": [
        "f(pi), g(2), h(4)"
      ],
      "metadata": {},
      "execution_count": null
    },
    {
      "cell_type": "markdown",
      "source": [
        "For typical cases like the three above, there isn't really much new to learn."
      ],
      "metadata": {}
    },
    {
      "outputs": [],
      "cell_type": "code",
      "source": [
        "note(\"\"\" The equals sign in the definition of a function above is an *assignment*. Assignment restricts the expressions available on the *left*-hand side to a) a variable name, b) an indexing assignment, as in `xs[1]`, or c) a function assignment following this form `function_name(args...)`. Whereas function definitions and usage in `Julia` mirrors standard math notation; equations in math are not so mirrored in `Julia`. In mathematical equations, the left-hand of an equation is typically a complicated algebraic expression. Not so with `Julia`, where the left hand side of the equals sign is prescribed and quite limited.\n\"\"\")"
      ],
      "metadata": {},
      "execution_count": null
    },
    {
      "cell_type": "markdown",
      "source": [
        "### The domain of a function\n\nFunctions in `Julia` have an implicit domain, just as they do mathematically. In the case of $f(x)$ and $g(x)$, the right-hand side is defined for all real values of $x$, so the domain is all $x$. For $h(x)$ this isn't the case, of course. Trying to call $h(x)$ when $x < 0$ will give an error:"
      ],
      "metadata": {}
    },
    {
      "outputs": [],
      "cell_type": "code",
      "source": [
        "h(-1)"
      ],
      "metadata": {},
      "execution_count": null
    },
    {
      "cell_type": "markdown",
      "source": [
        "The `DomainError` is one of many different error types `Julia` has, in this case it is quite apt: the value $-1$ is not in the domain of the function.\n\n\n\n\n### Equations, functions, calling a function\n\nMathematically we tend to blur the distinction between the equation\n\n$$~\ny = 5/9 \\cdot (x - 32)\n~$$\n\nand the function\n\n$$~\nf(x) = 5/9 \\cdot (x - 32)\n~$$\n\nIn fact, the graph of a function $f(x)$ is simply defined as the graph of the\nequation $y=f(x)$. There is a distinction in `Julia` as a command such as"
      ],
      "metadata": {}
    },
    {
      "outputs": [],
      "cell_type": "code",
      "source": [
        "x = -40\ny = 5/9 * (x - 32)"
      ],
      "metadata": {},
      "execution_count": null
    },
    {
      "cell_type": "markdown",
      "source": [
        "will evaluate the righthand side with the value of `x` bound at the\ntime of assignment to `y`, whereas assignment to a function"
      ],
      "metadata": {}
    },
    {
      "outputs": [],
      "cell_type": "code",
      "source": [
        "f(x) = 5/9 * (x - 32)\nf(72)\t\t\t\t## room temperature"
      ],
      "metadata": {},
      "execution_count": null
    },
    {
      "cell_type": "markdown",
      "source": [
        "will create a function object which is called with a value of `x` at a later\ntime - the time the function is called. So the value of `x` defined when the function is created is not\nimportant here (as the value of `x` used by `f` is passed in as an argument).\n\n\n\nWithin `Julia`, we make note of the distinction between a function\nobject versus a function call. In the definition `f(x)=cos(x)`, the\nvariable `f` refers to a function object, whereas the expression\n`f(pi)` is a function call. This mirrors the math notation where an\n$f$ is used when properties of a function are being emphasized (such\nas $f \\circ g$ for composition) and $f(x)$ is used when the values\nrelated to the function are being emphasized (such as saying \"the plot\nof the equation $y=f(x)$).\n\nDistinguishing these three related but different concepts (equations, function objects, and function calls) is important when modeling on the computer.\n\n### Cases\n\nThe definition of $s(x)$ above has two cases:\n\n$$~\ns(x) = \\begin{cases} -1 & s < 0\\\\ 1 & s > 0. \\end{cases}\n~$$\n\nWe learn to read this as \"If $s$ is less than $0$, then the answer is\n$-1$. If $s$ is greater than $0$ the answer is $1$.\" Often - but not\nin this example - there is an \"otherwise\" case to catch those values\nof $x$ that are not explicitly mentioned. As there is no such\n\"otherwise\" case here, we can see that this function has no definition\nwhen $x=0$. This function is often called the \"sign\" function and is\nalso defined by $\\lvert x\\rvert/x$. (`Julia`'s `sign` function actually\ndefines `sign(0)` to be `0`.)\n\nHow do we create conditional statements in `Julia`? Programming languages generally have \"if-then-else\" constructs to handle conditional evaluation. In `Julia`, the following code will handle the above condition:"
      ],
      "metadata": {}
    },
    {
      "outputs": [],
      "cell_type": "code",
      "source": [
        "if x < 0\n  -1\nelseif x > 0\n   1\nend"
      ],
      "metadata": {},
      "execution_count": null
    },
    {
      "cell_type": "markdown",
      "source": [
        "The \"otherwise\" case would be caught with an `else` addition. So, for example, this would implement `Julia`'s definition of `sign` (which also assigns $0$ to $0$):"
      ],
      "metadata": {}
    },
    {
      "outputs": [],
      "cell_type": "code",
      "source": [
        "if x < 0\n  -1\nelseif x > 0\n   1\nelse\n   0\nend"
      ],
      "metadata": {},
      "execution_count": null
    },
    {
      "cell_type": "markdown",
      "source": [
        "The conditions for the `if` statements are expressions that evaluate to either `true` or `false`, such as generated by the Boolean operators `<`, `<=`, `==`, `!-`, `>=`, and `>`.\n\n\nIf familiar with `if` conditions, they are natural to use. However, for simpler cases of \"if-else\" `Julia` provides the more convenient *ternary* operator: `cond ? if_true : if_false`. (The name comes from the fact that there are three arguments specified.) The ternary operator checks the condition and if true returns the first expression, whereas if the condition is false the second condition is returned. Both expressions are evaluated. (The [short-circuit](http://julia.readthedocs.org/en/latest/manual/control-flow/#short-circuit-evaluation) operators can be used to avoid both evaluations.)\n\nFor example, here is one way to define an absolute value function:"
      ],
      "metadata": {}
    },
    {
      "outputs": [],
      "cell_type": "code",
      "source": [
        "f(x) = x >= 0 ? x : -x"
      ],
      "metadata": {},
      "execution_count": null
    },
    {
      "cell_type": "markdown",
      "source": [
        "The condition is `x >= 0` - or is `x` non-negative? If so, the value `x` is used, otherwise `-x` is used.\n\n\nHere is a means to implement a function which takes the larger of `x` or `10`:"
      ],
      "metadata": {}
    },
    {
      "outputs": [],
      "cell_type": "code",
      "source": [
        "f(x) = x > 10 ? x : 10.0"
      ],
      "metadata": {},
      "execution_count": null
    },
    {
      "cell_type": "markdown",
      "source": [
        "(This could also utilize the `max` function: `f(x) = max(x, 10.0)`.)\n\nOr similarly, a function to represent a cell phone plan where the first 500 minutes are 20 dollars and every additional minute is 5 cents:"
      ],
      "metadata": {}
    },
    {
      "outputs": [],
      "cell_type": "code",
      "source": [
        "cellplan(x) = x < 500 ? 20.0 : 20.0 + 0.05 * (x-500)"
      ],
      "metadata": {},
      "execution_count": null
    },
    {
      "outputs": [],
      "cell_type": "code",
      "source": [
        "alert(\"\"\"\n\nType stability. These last two definitions used `10.0` and `20.0`\ninstead of the integers `10` and `20` for the answer. Why the extra\ntyping? When `Julia` can predict the type of the output from the type\nof inputs, it can be more efficient. So when possible, we help out and\nensure the output is always the same type.\n\n\"\"\")"
      ],
      "metadata": {},
      "execution_count": null
    },
    {
      "cell_type": "markdown",
      "source": [
        "##### Example\n\nThe `ternary` operator can be used to define an explicit domain. For example, a falling body might have height given by $h(t) = 10 - 16t^2$. This model only applies for non-negative $t$ and non-negative $h$ values. So, in particular $0 \\leq t \\leq \\sqrt{10/16}$. To implement this function we might have:"
      ],
      "metadata": {}
    },
    {
      "outputs": [],
      "cell_type": "code",
      "source": [
        "h(t) = 0 <= t <= sqrt(10/16) ? 10.0 - 16t^2 : error(\"t is not in the domain\")"
      ],
      "metadata": {},
      "execution_count": null
    },
    {
      "cell_type": "markdown",
      "source": [
        "We might also have used `NaN` instead of an error, or $0$, as the\nfalling body would come to rest when it hits the ground.\n\n\n\n#### Nesting ternary operators\n\nThe function `s(x)` isn't quite so easy to implement, as there isn't an \"otherwise\" case. We could use an `if` statement, but instead illustrate using a second, nested ternary operator:"
      ],
      "metadata": {}
    },
    {
      "outputs": [],
      "cell_type": "code",
      "source": [
        "s(x) = x < 0 ? -1 : (x > 0 ? 1 : error(\"0 is not in the domain\"))"
      ],
      "metadata": {},
      "execution_count": null
    },
    {
      "cell_type": "markdown",
      "source": [
        "With nested ternary operators, the advantage over the `if` condition\nis not very compelling, but for simple cases the ternary operator is\nquite useful. (The extra parentheses around the expression when `x<0`\nis not true are actually unnecessary, though added here for clarity.)\n\n## Functions defined with the \"function\" keyword\n\n\nFor more complicated functions, say one with a few\nsteps to compute, an alternate form for defining a function can be\nused:\n\n```\nfunction function_name(function_arguments)\n  ...function_body...\nend\n```\n\nThe last value computed is returned unless the `function_body`\ncontains an explicit `return` statement.\n\nFor example, the following is a more verbose way to define $f(x) = x^2$:"
      ],
      "metadata": {}
    },
    {
      "outputs": [],
      "cell_type": "code",
      "source": [
        "function f(x)\n  return x^2\nend"
      ],
      "metadata": {},
      "execution_count": null
    },
    {
      "cell_type": "markdown",
      "source": [
        "The line `return x^2`, could have just been `x^2` as it is the last (and) only line evaluated."
      ],
      "metadata": {}
    },
    {
      "outputs": [],
      "cell_type": "code",
      "source": [
        "note(\"\"\"\nThe `return` keyword is not a function, so is not called with parentheses. An emtpy `return` statement will return a value of `nothing`.\n\"\"\")"
      ],
      "metadata": {},
      "execution_count": null
    },
    {
      "cell_type": "markdown",
      "source": [
        "##### Example\n\n\nImagine we have the following complicated function related to the trajectory of a [projectile](http://www.researchgate.net/publication/230963032_On_the_trajectories_of_projectiles_depicted_in_early_ballistic_woodcuts) with wind resistance:\n\n$$~\n\tf(x) = \\left(\\frac{g}{k v_0\\cos(\\theta)} + \\tan(\\theta) \\right) x + \\frac{g}{k^2}\\ln\\left(1 - \\frac{k}{v_0\\cos(\\theta)} x \\right)\n~$$\n\nHere $g$ is the gravitational constant $9.8$ and $v_0$, $\\theta$ and $k$ parameters, which we take to be $200$, $45$ degrees and $1/2$ respectively. With these values, the above function can be computed when $x=100$ with:"
      ],
      "metadata": {}
    },
    {
      "outputs": [],
      "cell_type": "code",
      "source": [
        "function f(x)\n  g, v0, theta, k = 9.8, 200, 45, 1/2\n  a = v0 * cosd(theta)\n\n  (g/(k*a) + tand(theta))* x + (g/k^2) * log(1 - k/a*x)\nend\nf(100)"
      ],
      "metadata": {},
      "execution_count": null
    },
    {
      "cell_type": "markdown",
      "source": [
        "By using a multi-line function our work is much easier to look over for errors.\n\n## Parameters, function context (scope), keyword arguments\n\nConsider two functions implementing the slope-intercept form and point-slope form of a line:\n\n$$~\nf(x) = m \\cdot x + b, \\quad g(x) = y_0 + m \\cdot (x - x_0).\n~$$\n\nBoth functions use the variable $x$, but there is no confusion, as we learn that this is just a dummy variable to be substituted for and so could have any name. Both also share a variable $m$ for a slope. Where does that value come from? In practice, there is a context that gives an answer. Despite the same name, there is no expectation that the slope will be the same for each function if the context is different. So when parameters are involved, a function involves a rule and a context to give specific values to the parameters.\n\n\n\nSomething similar is also true with `Julia`.  Consider the example of writing a function to model a linear equation with slope $m=2$ and $y$-intercept $3$. A typical means to do this would be to define constants, and then use the familiar formula:"
      ],
      "metadata": {}
    },
    {
      "outputs": [],
      "cell_type": "code",
      "source": [
        "m, b = 2, 3\nf(x) = m*x + b"
      ],
      "metadata": {},
      "execution_count": null
    },
    {
      "cell_type": "markdown",
      "source": [
        "This will work as expected. For example, $f(0)$ will be $b$  and $f(2)$ will be $7$:"
      ],
      "metadata": {}
    },
    {
      "outputs": [],
      "cell_type": "code",
      "source": [
        "f(0), f(2)"
      ],
      "metadata": {},
      "execution_count": null
    },
    {
      "cell_type": "markdown",
      "source": [
        "All fine, but what if somewhere later the values for $m$ and $b$ were *redefined*:"
      ],
      "metadata": {}
    },
    {
      "outputs": [],
      "cell_type": "code",
      "source": [
        "m, b = 3, 2"
      ],
      "metadata": {},
      "execution_count": null
    },
    {
      "cell_type": "markdown",
      "source": [
        "Now what happens with $f(0)$? When $f$ was defined `b` was $3$, but\nnow if we were to call `f`, `b` is 2. Which value will we get? More\ngenerally, when `f` is being evaluated in what context does `Julia`\nlook up the bindings for the variables it encounters? It could be that\nthe values are assigned when the function is defined, or it could be\nthat the values for the parameters are resolved when the function is\ncalled. If the latter, what context will be used?\n\n\nBefore discussing this, let's just see in this case:"
      ],
      "metadata": {}
    },
    {
      "outputs": [],
      "cell_type": "code",
      "source": [
        "f(0)"
      ],
      "metadata": {},
      "execution_count": null
    },
    {
      "cell_type": "markdown",
      "source": [
        "So the `b` is found from the currently stored value. This fact can be exploited. we can write template-like functions, such as `f(x)=mx+b` and reuse them just by updating the parameters separately.\n\n\n\nHow `Julia` resolves what a variable refers to is described in detail\nin the manual page\n[Scope of Variables](http://julia.readthedocs.org/en/latest/manual/variables-and-scoping/). In\nthis case, the function definition finds variables in the context of\nwhere the function was defined, the main workspace. As seen, this\ncontext can be modified after the function definition and prior to the\nfunction call. It is only when `b` is needed, that the context is\nconsulted, so the most recent binding is retrieved.  Contexts (more\nformally known as environments) allow the user to repurpose variable\nnames without there being name collision. For example, we typically\nuse `x` as a function argument, and different contexts allow this `x`\nto refer to different values.\n\n\nMostly this works as expected, but at times it can be complicated to\nreason about. In our example, definitions of the parameters can be\nforgotten, or the same variable name may have been used for some other\npurpose. The potential issue is with the parameters, the value for `x`\nis straightforward, as it is passed into the function. However, we can\nalso pass the parameters, such as $m$ and $b$, as arguments.  For\nparameters, we suggest using\n[keyword](http://julia.readthedocs.org/en/latest/manual/functions/#keyword-arguments)\narguments. These allow the specification of parameters, but also give\na default value. This can make usage explicit, yet still\nconvenient. For example, here is an alternate way of defining a line\nwith parameters `m` and `b`:"
      ],
      "metadata": {}
    },
    {
      "outputs": [],
      "cell_type": "code",
      "source": [
        "f(x; m=1, b=0) = m*x + b"
      ],
      "metadata": {},
      "execution_count": null
    },
    {
      "cell_type": "markdown",
      "source": [
        "The right-hand side is identical to before, but the left hand side is\ndifferent. Arguments defined *after* a semicolon are keyword\narguments. They are specified as `var=value` (or `var::Type=value` to\nrestrict the type) where the value is used as the default, should a\nvalue not be specified when the function is called.\n\nCalling a function with keyword arguments can be identical to before:"
      ],
      "metadata": {}
    },
    {
      "outputs": [],
      "cell_type": "code",
      "source": [
        "f(0)"
      ],
      "metadata": {},
      "execution_count": null
    },
    {
      "cell_type": "markdown",
      "source": [
        "During this call, values for `m` and `b` are found from how the\nfunction is called, not the main workspace. In this case, nothing is\nspecified so the defaults of $m=1$ and $b=0$ are used. Whereas, this\ncall will use the user-specified values for `m` and `b`:"
      ],
      "metadata": {}
    },
    {
      "outputs": [],
      "cell_type": "code",
      "source": [
        "f(0, m=3, b=2)"
      ],
      "metadata": {},
      "execution_count": null
    },
    {
      "cell_type": "markdown",
      "source": [
        "Keywords are used to mark the parameters whose values are to be changed from the default. Though one can use *positional arguments* for parameters - and there are good reasons to do so - using keyword arguments is a good practice if performance isn't paramount, as their usage is more explicit yet the defaults mean that a minimum amount of typing needs to be done.\n\n##### Example\n\nIn the example for multi-line functions we hard coded many variables inside the body of the function. In practice it can be better to pass these in as parameters along the lines of:"
      ],
      "metadata": {}
    },
    {
      "outputs": [],
      "cell_type": "code",
      "source": [
        "function f(x; g = 9.8, v0 = 200, theta = 45, k = 1/2)\n  a = v0 * cosd(theta)\n  (g/(k*a) + tand(theta))* x + (g/k^2) * log(1 - k/a*x)\nend"
      ],
      "metadata": {},
      "execution_count": null
    },
    {
      "cell_type": "markdown",
      "source": [
        "## Multiple dispatch\n\nThe concept of a function is of much more general use than its\nrestriction to mathematical functions of single real variable. A\nnatural application comes from describing basic properties of\ngeometric objects. The following function definitions likely will\ncause no great concern when skimmed over:"
      ],
      "metadata": {}
    },
    {
      "outputs": [],
      "cell_type": "code",
      "source": [
        "Area(w, h) = w * h\t\t                   # of a rectangle\nVolume(r, h) = pi * r^2 * h\t                   # of a cylinder\nSurfaceArea(r, h) = pi * r * (r + sqrt(h^2 + r^2)) # of a right circular cone, including the base"
      ],
      "metadata": {},
      "execution_count": null
    },
    {
      "cell_type": "markdown",
      "source": [
        "The right-hand sides may or may not be familiar, but it should be\nreasonable to believe that if push came to shove, the formulas could be looked\nup. However, the left-hand sides are subtly different - they have two\narguments, not one. In `Julia` it is trivial to define functions with\nmultiple arguments - we just did.\n\n\nEarlier we saw the `log` function can use a second argument to express\nthe base. This function is basically defined by `log(b,x)=log(x)/log(b)`. The `log(x)` value is the natural log, and this definition\njust uses the change-of-base formula for logarithms.\n\nBut not so fast, on the left side is a function with two arguments and on the right side the functions have one argument - yet they share the same name. How does `Julia` know which to use? `Julia` uses the number, order, and *type* of the arguments passed to a function to determine which function definition to use. This is technically known as [multiple dispatch](http://en.wikipedia.org/wiki/Multiple_dispatch) or **polymorphism**. As a feature of the language, it can be used to greatly simplify the number of functions the user must learn. The basic idea is that many functions are \"generic\" in that they will work for many different scenarios."
      ],
      "metadata": {}
    },
    {
      "outputs": [],
      "cell_type": "code",
      "source": [
        "alert(\"\"\"\nMultiple dispatch is very common in mathematics. For example, we learn different ways to add: integers (fingers, carrying), real numbers (align the decimal points), rational numbers (common denominators), complex numbers (add components), vectors (add components), polynomials (combine like monomials), ... yet we just use the same `+` notation for each operation. The concepts are related, the details different.\n\"\"\")"
      ],
      "metadata": {},
      "execution_count": null
    },
    {
      "cell_type": "markdown",
      "source": [
        "`Julia` is similarly structured.  `Julia` terminology would be to call the operation \"`+`\" a *generic function* and the different implementations *methods* of \"`+`\". This allows the user to just need to know a smaller collection of generic concepts yet still have the power of detail-specific implementations.  To see how many different methods are defined in the base `Julia` language for the `+` operator, we can use the command `methods(+)`. As there are so many ($\\approx 200$) and that number is growing, we illustrate how many different logarithm methods are implemented for \"numbers:\""
      ],
      "metadata": {}
    },
    {
      "outputs": [],
      "cell_type": "code",
      "source": [
        "methods(log, (Number,)) |> collect"
      ],
      "metadata": {},
      "execution_count": null
    },
    {
      "cell_type": "markdown",
      "source": [
        "(The arguments have *type annotations* such as `x::Float64` or\n`x::BigFloat`. `Julia` uses these to help resolve which method should\nbe called for a given set of arguments. This allows for different\noperations depending on the variable type. For example, in this case,\nthe `log` function for `Float64` values uses a fast algorithm, whereas\nfor `BigFloat` values an algorithm that can handle multiple precision\nis used.)\n\n##### Example. An application of composition and multiple dispatch\n\nAs mentioned `Julia`'s multiple dispatch allows multiple functions with the same name. The function that gets selected depends not just on the type of the arguments, but also on the number of arguments given to the function. We can exploit this to simplify our tasks. For example, consider this optimization problem:\n\n> For all rectangles of perimeter 20, what is the one with largest area?\n\nThe start of this problem is to represent the area in terms of one variable. We see next that composition can simplify this task, which when done by hand requires a certain amount of algebra.\n\nRepresenting the area of a rectangle in terms of two variables is easy, as the familiar formula of width times height applies:"
      ],
      "metadata": {}
    },
    {
      "outputs": [],
      "cell_type": "code",
      "source": [
        "Area(w, h) = w * h"
      ],
      "metadata": {},
      "execution_count": null
    },
    {
      "cell_type": "markdown",
      "source": [
        "But the other fact about this problem - that the perimeter is $20$ - means that height depends on width. For this question, we can see that $P=2w + 2h$ so that - as a function - `h` depends on `w` as follows:"
      ],
      "metadata": {}
    },
    {
      "outputs": [],
      "cell_type": "code",
      "source": [
        "h(w) = (20  - 2*w)/2"
      ],
      "metadata": {},
      "execution_count": null
    },
    {
      "cell_type": "markdown",
      "source": [
        "By hand we would substitute this last expression into that for the area and simplify (to get $A=w\\cdot (20-2 \\cdot w)/2 = -w^2 + 10$). However, within `Julia` we can let *composition* do the substitution and leave the algebraic simplification for `Julia` to do:"
      ],
      "metadata": {}
    },
    {
      "outputs": [],
      "cell_type": "code",
      "source": [
        "Area(w) = Area(w, h(w))"
      ],
      "metadata": {},
      "execution_count": null
    },
    {
      "cell_type": "markdown",
      "source": [
        "This might seem odd, just like with `log`, we now  have two *different* but related\nfunctions named `Area`. Julia will decide which to use based on the\nnumber of arguments when the function is called. This setup allows both to\nbe used on the same line, as above. This usage style is not common with\ncomputer languages, but is a feature of `Julia` which is built around\nthe concept of *generic* functions with multiple dispatch rules to\ndecide which rule to call.\n\n\nFor example, jumping ahead a bit, the `plot` function of `Plots` (loaded with the accompanying `CalculusWithJulia` package) expects functions of a single numeric\nvariable. Behind the scenes, then the function `A(w)` will be used in this graph:"
      ],
      "metadata": {}
    },
    {
      "outputs": [],
      "cell_type": "code",
      "source": [
        "using CalculusWithJulia\nusing Plots\nplot(Area, 0, 10)"
      ],
      "metadata": {},
      "execution_count": null
    },
    {
      "cell_type": "markdown",
      "source": [
        "From the graph, we can see that that width for maximum area is $w=5$ and so $h=5$ as well.\n\n\n\n\n\n## Anonymous functions\n\nSimple mathematical functions have a domain and range which are a subset of the real numbers, and generally have a concrete mathematical rule. However, the definition of a function is much more abstract. We've seen that functions for computer languages can be more complicated too, with, for example, the possibility of multiple input values. Things can get more abstract still.\n\nTake for example, the idea of the shift of a function. The following mathematical definition of a new function $g$ related to a function $f$:\n\n$$~\ng(x) = f(x-c)\n~$$\n\nhas an interpretation - the graph of $g$ will be the same as the graph of $f$ shifted to the right by $c$ units. That is $g$ is a transformation of $f$. From one perspective, the act of replacing $x$ with $x-c$ transforms a function into a new function. Mathematically, when we focus on transforming functions, the word [operator](http://en.wikipedia.org/wiki/Operator_%28mathematics%29) is sometimes used. This concept of transforming a function can be viewed as a certain type of function, in an abstract enough way. The relation would be just pairs of functions $(f,g)$ where $g(x) = f(x-c)$.\n\nWith `Julia` we can represent such operations. The simplest thing would be to do something like:"
      ],
      "metadata": {}
    },
    {
      "outputs": [],
      "cell_type": "code",
      "source": [
        "f(x) = x^2 - 2x\ng(x) = f(x -3)"
      ],
      "metadata": {},
      "execution_count": null
    },
    {
      "cell_type": "markdown",
      "source": [
        "Then $g$ has the graph of $f$ shifted by 3 units to the right. Now `f` above refers to something in the main workspace, in this example a specific function. Better would be to allow `f` to be an argument of a function. So we need to do something like:"
      ],
      "metadata": {}
    },
    {
      "outputs": [],
      "cell_type": "code",
      "source": [
        "function shift_right(f; c=0)\n  function(x)\n    f(x - c)\n  end\nend"
      ],
      "metadata": {},
      "execution_count": null
    },
    {
      "cell_type": "markdown",
      "source": [
        "That takes some parsing. In the body of the `shift_right` is the\ndefinition of a function. But this function has no name-- it is\n*anonymous*. But what it does should be clear - it subtracts $c$ from\n$x$ and evaluates $f$ at this new value. Since the last expression\ncreates a function, this function is returned by `shift_right`.\n\nSo we could have done something more complicated like:"
      ],
      "metadata": {}
    },
    {
      "outputs": [],
      "cell_type": "code",
      "source": [
        "f(x) = x^2 - 2x\nl = shift_right(f, c=3)"
      ],
      "metadata": {},
      "execution_count": null
    },
    {
      "cell_type": "markdown",
      "source": [
        "Then `l` is a function that is derived from `f`.\n\nAnonymous functions can be created with the `function` keyword, but we will use the \"arrow\" notation, `arg->body` to create them, The above, could have been defined as:"
      ],
      "metadata": {}
    },
    {
      "outputs": [],
      "cell_type": "code",
      "source": [
        "shift_right(f; c=0) = x -> f(x-c)"
      ],
      "metadata": {},
      "execution_count": null
    },
    {
      "cell_type": "markdown",
      "source": [
        "When the `->` is seen a function is being created."
      ],
      "metadata": {}
    },
    {
      "outputs": [],
      "cell_type": "code",
      "source": [
        "alert(\"\"\"\n\nGeneric versus anonymous functions. Julia has two types of functions,\ngeneric ones, as defined by `f(x)=x^2` and anonymous ones, as defined\nby `x -> x^2`. One gotcha is that `Julia` does not like to use the\nsame variable name for the two types.  In general, Julia is a dynamic\nlanguage, meaning variable names can be reused with different types\nof variables. But generic functions take more care, as when a new\nmethod is defined it gets added to a method table. So repurposing the\nname of a generic function for something else is not allowed. Similarly,\nrepurposing an already defined variable name for a generic function is\nnot allowed. This comes up when we use functions that return functions\nas we have different styles that can be used: When we defined `l =\nshift_right(f, c=3)` the value of `l` is assigned an anonymous\nfunction. This binding can be reused to define other variables.\nHowever, we could have defined the function `l` through `l(x) =\nshift_right(f, c=3)(x)`, being explicit about what happens to the\nvariable `x`. This would have made `l` a generic function. Meaning, we\nget an error if we tried to assign a variable to `l`, such as an\nexpression like `l=3`. We generally employ the latter style, even though\nit involves a bit more typing, as we tend to stick to generic\nfunctions for consistency.\n\n\"\"\")"
      ],
      "metadata": {},
      "execution_count": null
    },
    {
      "cell_type": "markdown",
      "source": [
        "##### Example: the secant line\n\nA secant line is a line through two points on the graph of a function. If we have a function $f(x)$, and two $x$-values $x=a$ and $x=b$, then we can find the slope between the points $(a,f(a))$ and $(b, f(b))$ with:\n\n$$~\nm = \\frac{f(b) - f(a)}{b - a}.\n~$$\n\nThe point-slope form a line then gives the equation of the tangent line as $y = f(a) + m \\cdot (x - a)$.\n\nTo model this in `Julia`, we would want to turn the inputs `f`,`a`, `b` into a function that implements the secant line (functions are much easier to work with than equations). Here is how we can do it:"
      ],
      "metadata": {}
    },
    {
      "outputs": [],
      "cell_type": "code",
      "source": [
        "function secant(f, a, b)\n   m = (f(b) - f(a)) / (b-a)\n   x -> f(a) + m * (x - a)\nend"
      ],
      "metadata": {},
      "execution_count": null
    },
    {
      "cell_type": "markdown",
      "source": [
        "The body of the function nearly mirrors the mathematical treatment. The main difference is in place of $y = \\dots$ we have a `x -> ...` to create an anonymous function.\n\nTo illustrate the use, suppose $f(x) = x^2 - 2$ and we have the secant line between $a=1$ and $b=2$. The value at $x=3/2$ is given by:"
      ],
      "metadata": {}
    },
    {
      "outputs": [],
      "cell_type": "code",
      "source": [
        "f(x) = x^2 - 2\na,b = 1, 2\nsecant(f,a,b)(3/2)"
      ],
      "metadata": {},
      "execution_count": null
    },
    {
      "cell_type": "markdown",
      "source": [
        "The last line employs double parentheses. The first pair, `secant(f,a,b)`, returns a function and the second pair, `(3/2)`, are used to call the returned function.\n\n##### Example: the secant method for finding a solution to $f(x) = 0$.\n\nThis last example, shows how using functions to collect a set of computations for simpler reuse can be very helpful.\n\nAn old method for finding a zero of an equation is the [secant\nmethod](https://en.wikipedia.org/wiki/Secant_method). We illustrate\nthe method with the function $f(x) = x^2 - 2$. In the last example we\nsaw how to create a function to evaluate the secant line between\n$(a,f(a))$ and $(b, f(b))$ at any point. In this example, we define a\nfunction to compute the $x$ coordinate of where the secant line\ncrosses the $x$ axis. This can be defined as follows:"
      ],
      "metadata": {}
    },
    {
      "outputs": [],
      "cell_type": "code",
      "source": [
        "function secant_intersection(f, a, b)\n   # solve 0 = f(b) + m * (x-b) where m is the slope of the secant line\n   # x = b - f(b) / m\n   m = (f(b) - f(a)) / (b - a)\n   b - f(b) / m\nend"
      ],
      "metadata": {},
      "execution_count": null
    },
    {
      "cell_type": "markdown",
      "source": [
        "We utilize this as follows. Suppose we wish to solve $f(x) = 0$ and we\nhave two \"rough\" guesses for the answer. In our example, we wish to\nsolve $f(x) = x^2 - 2$ and our \"rough\" guesses are $1$ and $2$. Call\nthese values $a$ and $b$. We *improve* our rough guesses by finding a\nvalue $c$ which is the intersection point of the secant line."
      ],
      "metadata": {}
    },
    {
      "outputs": [],
      "cell_type": "code",
      "source": [
        "f(x) = x^2 - 2\na, b = 1, 2\nc = secant_intersection(f, a, b)"
      ],
      "metadata": {},
      "execution_count": null
    },
    {
      "cell_type": "markdown",
      "source": [
        "In our example, we see that in trying to find an answer to $f(x) = 0$\n( $\\sqrt{2}\\approx 1.414\\dots$) our value found from the intersection\npoint is a better guess than either $a=1$ or $b=2$:"
      ],
      "metadata": {}
    },
    {
      "outputs": [],
      "cell_type": "code",
      "source": [
        "plot(f, a, b, linewidth=5, legend=false)\nplot!(zero, a, b)\nplot!([a, b], f.([a,b]))\nscatter!([c], [f(c)])"
      ],
      "metadata": {},
      "execution_count": null
    },
    {
      "cell_type": "markdown",
      "source": [
        "Still,  `f(c)` is not really close to $0$:"
      ],
      "metadata": {}
    },
    {
      "outputs": [],
      "cell_type": "code",
      "source": [
        "f(c)"
      ],
      "metadata": {},
      "execution_count": null
    },
    {
      "cell_type": "markdown",
      "source": [
        "*But* it is much closer than either $f(a)$ or $f(b)$, so it is an improvement. This suggests renaming $a$ and $b$ with the old $b$ and $c$ values and trying again we might do better still:"
      ],
      "metadata": {}
    },
    {
      "outputs": [],
      "cell_type": "code",
      "source": [
        "a, b = b, c\nc = secant_intersection(f, a, b)\nf(c)"
      ],
      "metadata": {},
      "execution_count": null
    },
    {
      "cell_type": "markdown",
      "source": [
        "Yes, now the function value at this new $c$ is even closer to $0$. Trying a few more times we see we just get closer and closer:"
      ],
      "metadata": {}
    },
    {
      "outputs": [],
      "cell_type": "code",
      "source": [
        "a, b = b, c\nc = secant_intersection(f, a, b)\nf(c)                 # like 1e-3\na, b = b, c\nc = secant_intersection(f, a, b)\nf(c)                 # like -6e-6\na, b = b, c\nc = secant_intersection(f, a, b)\nf(c)                 # like -8e-10\na, b = b, c\nc = secant_intersection(f, a, b)\nf(c)                 # pretty close now"
      ],
      "metadata": {},
      "execution_count": null
    },
    {
      "cell_type": "markdown",
      "source": [
        "Now our guess $c$ is basically the same as `sqrt(2)`. Repeating the above leads to only a slight improvement in the guess, as we are about as close as floating point values will allow.\n\nHere we see a visualization with all these points. As can be seen, it\nquickly converges at the scale of the visualization, as we can't see\nmuch closer than `1e-2`."
      ],
      "metadata": {}
    },
    {
      "outputs": [],
      "cell_type": "code",
      "source": [
        "a, b = 1, 2\nc = secant_intersection(f, a, b)\n\np = plot(f, a, b, linewidth=5, legend=false)\nplot!(p, zero, a, b)\n\nplot!(p, [a,b], f.([a,b]));\nscatter!(p, [c], [f(c)])\n\na, b = b, c\nc = secant_intersection(f, a, b)\nplot!(p, [a,b], f.([a,b]));\nscatter!(p, [c], [f(c)])\n\n\na, b = b, c\nc = secant_intersection(f, a, b)\nplot!(p, [a,b], f.([a,b]));\nscatter!(p, [c], [f(c)])\np"
      ],
      "metadata": {},
      "execution_count": null
    },
    {
      "cell_type": "markdown",
      "source": [
        "In most cases, this method can fairly quickly find a zero provided two good starting points are used.\n\n\n\n## Questions\n\n##### Question\n\nState the domain and range of $f(x) = |x + 2|$."
      ],
      "metadata": {}
    },
    {
      "outputs": [],
      "cell_type": "code",
      "source": [
        "choices = [\n\"Domain is all real numbers, range is all real numbers\",\n\"Domain is all real numbers, range is all non-negative numbers\",\n\"Domain is all non-negative numbers, range is all real numbers\",\n\"Domain is all non-negative numbers, range is all non-negative numbers\"\n]\nans = 2\nradioq(choices, ans)"
      ],
      "metadata": {},
      "execution_count": null
    },
    {
      "cell_type": "markdown",
      "source": [
        "##### Question\n\nState the domain and range of $f(x) = 1/(x-2)$."
      ],
      "metadata": {}
    },
    {
      "outputs": [],
      "cell_type": "code",
      "source": [
        "choices = [\n\"Domain is all real numbers, range is all real numbers\",\nL\"Domain is all real numbers except $2$, range is all real numbers except $0$\",\nL\"Domain is all non-negative numbers except $0$, range is all real numbers except $2$\",\nL\"Domain is all non-negative numbers except $-2$, range is all non-negative numbers except $0$\"\n]\nans = 2\nradioq(choices, ans)"
      ],
      "metadata": {},
      "execution_count": null
    },
    {
      "cell_type": "markdown",
      "source": [
        "##### Question\n\nWhich of these functions has a domain of all real $x$, but a range of $x > 0$?"
      ],
      "metadata": {}
    },
    {
      "outputs": [],
      "cell_type": "code",
      "source": [
        "choices = [\nL\"f(x) = 2^x\",\nL\"f(x) = 1/x^2\",\nL\"f(x) = |x|\",\nL\"f(x) = \\sqrt{x}\"]\nans = 1\nradioq(choices, ans)"
      ],
      "metadata": {},
      "execution_count": null
    },
    {
      "cell_type": "markdown",
      "source": [
        "###### Question\n\nWhich of these commands will make a function for $f(x) = \\sin(x + \\pi/3)$?"
      ],
      "metadata": {}
    },
    {
      "outputs": [],
      "cell_type": "code",
      "source": [
        "choices = [q\"f = sin(x + pi/3)\",\nq\"function f(x) = sin(x + pi/3)\",\nq\"f(x)  = sin(x + pi/3)\",\nq\"f: x -> sin(x + pi/3)\",\nq\"f x = sin(x + pi/3)\"]\nans = 3\nradioq(choices, ans)"
      ],
      "metadata": {},
      "execution_count": null
    },
    {
      "cell_type": "markdown",
      "source": [
        "###### Question\n\nWhich of these commands will create a function for $f(x) = (1 + x^2)^{-1}$?"
      ],
      "metadata": {}
    },
    {
      "outputs": [],
      "cell_type": "code",
      "source": [
        "choices = [q\"f(x) = (1 + x^2)^(-1)\",\nq\"function f(x) = (1 + x^2)^(-1)\",\nq\"f(x) := (1 + x^2)^(-1)\",\nq\"f[x] =  (1 + x^2)^(-1)\",\nq\"def f(x): (1 + x^2)^(-1)\"\n]\nans = 1\nradioq(choices, ans)"
      ],
      "metadata": {},
      "execution_count": null
    },
    {
      "cell_type": "markdown",
      "source": [
        "###### Question\n\nWill the following `Julia` commands create a function for\n\n$$~\nf(x) = \\begin{cases}\n30 & x < 500\\\\\n30 + 0.10 \\cdot (x-500) & \\text{otherwise.}\n\\end{cases}\n~$$"
      ],
      "metadata": {}
    },
    {
      "outputs": [],
      "cell_type": "code",
      "source": [
        "f(x) = x < 500 ? 30.0 : 30 + 0.10 * (x-500)"
      ],
      "metadata": {},
      "execution_count": null
    },
    {
      "outputs": [],
      "cell_type": "code",
      "source": [
        "booleanq(true, labels=[\"Yes\", \"No\"])"
      ],
      "metadata": {},
      "execution_count": null
    },
    {
      "cell_type": "markdown",
      "source": [
        "###### Question\n\nThe expression `max(0, x)` will be `0` if `x` is negative, but otherwise will take the value of `x`. Is this the same?"
      ],
      "metadata": {}
    },
    {
      "outputs": [],
      "cell_type": "code",
      "source": [
        "f(x) = x < 0 ? x : 0.0"
      ],
      "metadata": {},
      "execution_count": null
    },
    {
      "outputs": [],
      "cell_type": "code",
      "source": [
        "yesnoq(false)"
      ],
      "metadata": {},
      "execution_count": null
    },
    {
      "cell_type": "markdown",
      "source": [
        "###### Question\n\nIn statistics, the normal distribution has two parameters $\\mu$ and $\\sigma$ appearing as:\n\n$$~\nf(x; \\mu, \\sigma) = \\frac{1}{\\sqrt{2\\pi\\sigma}} e^{-\\frac{1}{2}\\frac{(x-\\mu)^2}{\\sigma}}.\n~$$\n\nDoes this function implement this with the default values of $\\mu=0$ and $\\sigma=1$?"
      ],
      "metadata": {}
    },
    {
      "outputs": [],
      "cell_type": "code",
      "source": [
        "f(x; mu=0, sigma=1) = 1/sqrt(2pi*sigma) * exp(-(1/2)*(x-mu)^2/sigma)"
      ],
      "metadata": {},
      "execution_count": null
    },
    {
      "outputs": [],
      "cell_type": "code",
      "source": [
        "booleanq(true, labels=[\"Yes\", \"No\"])"
      ],
      "metadata": {},
      "execution_count": null
    },
    {
      "cell_type": "markdown",
      "source": [
        "What value of $\\mu$ is used if the function is called as `f(x, sigma=2.7)`?"
      ],
      "metadata": {}
    },
    {
      "outputs": [],
      "cell_type": "code",
      "source": [
        "numericq(0)"
      ],
      "metadata": {},
      "execution_count": null
    },
    {
      "cell_type": "markdown",
      "source": [
        "What value of $\\mu$ is used if the function is called as `f(x, mu=70)`?"
      ],
      "metadata": {}
    },
    {
      "outputs": [],
      "cell_type": "code",
      "source": [
        "numericq(70)"
      ],
      "metadata": {},
      "execution_count": null
    },
    {
      "cell_type": "markdown",
      "source": [
        "What value of $\\mu$ is used if the function is called as `f(x, mu=70, sigma=2.7)`?"
      ],
      "metadata": {}
    },
    {
      "outputs": [],
      "cell_type": "code",
      "source": [
        "numericq(70)"
      ],
      "metadata": {},
      "execution_count": null
    },
    {
      "cell_type": "markdown",
      "source": [
        "###### Question\n\n`Julia` has keyword arguments (as just illustrated) but also\npositional arguments. These are matched by how the function is\ncalled. For example,"
      ],
      "metadata": {}
    },
    {
      "outputs": [],
      "cell_type": "code",
      "source": [
        "A(w, h) = w*h"
      ],
      "metadata": {},
      "execution_count": null
    },
    {
      "cell_type": "markdown",
      "source": [
        "when called as `A(10, 5)` will use 10 for `w` and `5` for `h`, as the\norder of `w` and `h` matches that of `10` and `5` in the call.\n\nThis is clear enough, but in fact positional arguments can have\ndefault values (then called\n[optional](http://julia.readthedocs.org/en/latest/manual/functions/#optional-arguments))\narguments). For example,"
      ],
      "metadata": {}
    },
    {
      "outputs": [],
      "cell_type": "code",
      "source": [
        "B(w, h=5) = w*h"
      ],
      "metadata": {},
      "execution_count": null
    },
    {
      "cell_type": "markdown",
      "source": [
        "Actually creates two functions: `B(w,h)` for when the call is, say, `B(10,5)` and `B(w)` when the call is `B(10)`.\n\nSuppose a function `C` is defined by"
      ],
      "metadata": {}
    },
    {
      "outputs": [],
      "cell_type": "code",
      "source": [
        "C(x, mu=0, sigma=1) = 1/sqrt(2pi*sigma) * exp(-(1/2)*(x-mu)^2/sigma)"
      ],
      "metadata": {},
      "execution_count": null
    },
    {
      "cell_type": "markdown",
      "source": [
        "This is *nearly* identical to the last question, save for a comma\ninstead of a semicolon after the `x`.\n\nWhat value of `mu` is used by the call `C(1, 70, 2.7)`?"
      ],
      "metadata": {}
    },
    {
      "outputs": [],
      "cell_type": "code",
      "source": [
        "numericq(70)"
      ],
      "metadata": {},
      "execution_count": null
    },
    {
      "cell_type": "markdown",
      "source": [
        "What value of `mu` is used by the call `C(1, 70)`?"
      ],
      "metadata": {}
    },
    {
      "outputs": [],
      "cell_type": "code",
      "source": [
        "numericq(70)"
      ],
      "metadata": {},
      "execution_count": null
    },
    {
      "cell_type": "markdown",
      "source": [
        "What value of `mu` is used by the call `C(1)`?"
      ],
      "metadata": {}
    },
    {
      "outputs": [],
      "cell_type": "code",
      "source": [
        "numericq(0)"
      ],
      "metadata": {},
      "execution_count": null
    },
    {
      "cell_type": "markdown",
      "source": [
        "Will the call `C(1, mu=70)` use a value of `70` for `mu`?"
      ],
      "metadata": {}
    },
    {
      "outputs": [],
      "cell_type": "code",
      "source": [
        "choices = [\"Yes, this will work just as it does for keyword arguments\",\n\"No, there will be an error that the function does not accept keyword arguments\"]\nans = 2\nradioq(choices, ans)"
      ],
      "metadata": {},
      "execution_count": null
    },
    {
      "cell_type": "markdown",
      "source": [
        "###### Question\n\nThis function mirrors that of the built-in `clamp` function:"
      ],
      "metadata": {}
    },
    {
      "outputs": [],
      "cell_type": "code",
      "source": [
        "klamp(x, a, b) = x < a ? a : (x > b ? b : x)"
      ],
      "metadata": {},
      "execution_count": null
    },
    {
      "cell_type": "markdown",
      "source": [
        "Can you tell what it does?"
      ],
      "metadata": {}
    },
    {
      "outputs": [],
      "cell_type": "code",
      "source": [
        "choices = [\n\"If `x` is in `[a,b]` it returns `x`, otherwise it returns `a` when `x` is less than `a` and `b` when  `x` is greater than `b`.\",\n\"If `x` is in `[a,b]` it returns `x`, otherwise it returns `NaN`\",\n\"`x` is the larger of the minimum of `x` and `a` and the value of `b`, aka `max(min(x,a),b)`\"\n]\nans = 1\nradioq(choices, ans)"
      ],
      "metadata": {},
      "execution_count": null
    },
    {
      "cell_type": "markdown",
      "source": [
        "###### Question\n\n`Julia` has syntax for the composition of  functions $f$ and $g$ using the Unicode operator `∘` entered as `\\circ[tab]`.\n\nThe notation to call a composition follows the math notation, where parentheses are necessary to separate the act of composition from the act of calling the function:\n\n$$~\n(f \\circ g)(x)\n~$$\n\n\nFor example"
      ],
      "metadata": {}
    },
    {
      "outputs": [],
      "cell_type": "code",
      "source": [
        "(sin ∘ cos)(pi/4)"
      ],
      "metadata": {},
      "execution_count": null
    },
    {
      "cell_type": "markdown",
      "source": [
        "What happens if you forget the extra parentheses and were to call `sin ∘ cos(pi/4)`?"
      ],
      "metadata": {}
    },
    {
      "outputs": [],
      "cell_type": "code",
      "source": [
        "choices = [\nL\"You still get $0.649...$\",\n\"You get a `MethodError`, as `cos(pi/4)` is evaluated as a number and `∘` is not defined for functions and numbers\",\n\"You get a `generic` function, but this won't be callable. If tried, it will give an method error.\"\n]\nans = 2\nradioq(choices, ans, keep_order=true)"
      ],
      "metadata": {},
      "execution_count": null
    },
    {
      "cell_type": "markdown",
      "source": [
        "###### Question\n\nThe [pipe](http://julia.readthedocs.org/en/latest/stdlib/base/#Base.|>) notation `ex |> f` takes the output of `ex` and uses it as the input to the function `f`. That is composition. What is the value of this expression `1 |> sin |> cos`?"
      ],
      "metadata": {}
    },
    {
      "outputs": [],
      "cell_type": "code",
      "source": [
        "choices = [\n\"It is `0.6663667453928805`, the same as `cos(sin(1))`\",\n\"It is `0.5143952585235492`, the same as `sin(cos(1))`\",\n\"It gives an error\"]\nans = 1\nradioq(choices, ans, keep_order=true)"
      ],
      "metadata": {},
      "execution_count": null
    },
    {
      "cell_type": "markdown",
      "source": [
        "###### Question\n\n`Julia` has implemented this *limited* set of algebraic operations on functions: `∘` for *composition* and `!` for *negation*. (Read `!` as \"not.\") The latter is useful for \"predicate\" functions (ones that return either `true` or `false`. What is output by this command?"
      ],
      "metadata": {}
    },
    {
      "outputs": [],
      "cell_type": "code",
      "source": [
        "fn = !iseven\nfn(3)"
      ],
      "metadata": {},
      "execution_count": null
    },
    {
      "outputs": [],
      "cell_type": "code",
      "source": [
        "booleanq(fn(3))"
      ],
      "metadata": {},
      "execution_count": null
    },
    {
      "cell_type": "markdown",
      "source": [
        "###### Question\n\nGeneric functions in `Julia` allow many algorithms to work without change for different number types. For example, [3000](https://pdfs.semanticscholar.org/1ef4/ee58a159dc7e437e190ec2839fb9a654596c.pdf) years ago, floating point numbers wouldn't have been used to carry out the secant method computations, rather rational numbers would have been. We can see the results of using rational numbers with no change to our key function, just by starting with rational numbers for `a` and `b`:"
      ],
      "metadata": {}
    },
    {
      "outputs": [],
      "cell_type": "code",
      "source": [
        "secant_intersection(f, a, b) = b - f(b) * (b - a) / (f(b) - f(a))  # rewritten\nf(x) = x^2 - 2\na, b = 1//1, 2//1\nc = secant_intersection(f, a, b)"
      ],
      "metadata": {},
      "execution_count": null
    },
    {
      "cell_type": "markdown",
      "source": [
        "Now `c` is `4//3` and not `1.333...`. This works as the key operations\nused: division, squaring, subtraction all have different\nimplementations for rational numbers that preserve this type.\n\nRepeat the secant method two more times to find a better approximation for $\\sqrt{2}$. What is the value of `c` found?"
      ],
      "metadata": {}
    },
    {
      "outputs": [],
      "cell_type": "code",
      "source": [
        "choices = [q\"4//3\", q\"7//5\", q\"58//41\", q\"816//577\"]\nans = 3\nradioq(choices, ans, keep_order=true)"
      ],
      "metadata": {},
      "execution_count": null
    },
    {
      "cell_type": "markdown",
      "source": [
        "How small is the value of $f(c)$ for this value?"
      ],
      "metadata": {}
    },
    {
      "outputs": [],
      "cell_type": "code",
      "source": [
        "val = f(58/41)\nnumericq(val)"
      ],
      "metadata": {},
      "execution_count": null
    },
    {
      "cell_type": "markdown",
      "source": [
        "How close is this answer to the true value of $\\sqrt{2}$?"
      ],
      "metadata": {}
    },
    {
      "outputs": [],
      "cell_type": "code",
      "source": [
        "choices = [L\"about $8$ parts in $100$\", L\"about $1$ parts in $100$\", L\"about $4$ parts in $10,000$\", L\"about $2$ parts in $1,000,000$\"]\nans = 3\nradioq(choices, ans, keep_order=true)"
      ],
      "metadata": {},
      "execution_count": null
    },
    {
      "cell_type": "markdown",
      "source": [
        "(Finding a good approximation to $\\sqrt{2}$ would be helpful to builders, for example, as it could be used to verify the trueness of a square room, say.)\n\n###### Question\n\n`Julia` does not have surface syntax for the *difference* of functions. This is a common thing to want when solving equations. The tools available solve $f(x)=0$, but problems may present as solving for $h(x) = g(x)$ or even $h(x) = c$, for some constant. Which of these solutions is **not** helpful if $h$ and $g$ are already defined?"
      ],
      "metadata": {}
    },
    {
      "outputs": [],
      "cell_type": "code",
      "source": [
        "choices = [\"Just use `f = h - g`\",\n\"Define `f(x) = h(x) - g(x)`\",\n\"Use `x -> h(x) - g(x)` when the difference is needed\"\n]\nans = 1\nradioq(choices, ans)"
      ],
      "metadata": {},
      "execution_count": null
    }
  ],
  "nbformat_minor": 2,
  "metadata": {
    "language_info": {
      "file_extension": ".jl",
      "mimetype": "application/julia",
      "name": "julia",
      "version": "1.5.0"
    },
    "kernelspec": {
      "name": "julia-1.5",
      "display_name": "Julia 1.5.0",
      "language": "julia"
    }
  },
  "nbformat": 4
}
