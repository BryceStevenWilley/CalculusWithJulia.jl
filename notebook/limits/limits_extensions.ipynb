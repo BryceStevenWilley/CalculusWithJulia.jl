{
  "cells": [
    {
      "cell_type": "markdown",
      "source": [
        "# Limits, issues, extensions of the concept"
      ],
      "metadata": {}
    },
    {
      "outputs": [],
      "cell_type": "code",
      "source": [
        "using CalculusWithJulia\nusing CalculusWithJulia.WeaveSupport\nusing Plots\nnothing"
      ],
      "metadata": {},
      "execution_count": null
    },
    {
      "cell_type": "markdown",
      "source": [
        "The limit of a function at $c$ need not exist for one of many\ndifferent reasons. Some of these reasons can be handled with\nextensions to the concept of the limit, others are just problematic in\nterms of limits. This section covers examples of each."
      ],
      "metadata": {}
    },
    {
      "outputs": [],
      "cell_type": "code",
      "source": [
        "using CalculusWithJulia\nusing Plots"
      ],
      "metadata": {},
      "execution_count": null
    },
    {
      "cell_type": "markdown",
      "source": [
        "Let's begin with a function that is just problematic. Consider\n\n$$~\nf(x) = \\sin(1/x)\n~$$\n\nAs this is a composition of nice functions it will have a limit\neverywhere except possibly when $x=0$, as then $1/x$ may not have a\nlimit. So rather than talk about where it is nice, let's consider the\nquestion of whether a limit exists at $c=0$.\n\n\nA graph shows the issue:"
      ],
      "metadata": {}
    },
    {
      "outputs": [],
      "cell_type": "code",
      "source": [
        "using CalculusWithJulia   # to load `Plots` and `SymPy`\nf(x) = sin(1/x)\nplot(f, range(-1, stop=1, length=1000))"
      ],
      "metadata": {},
      "execution_count": null
    },
    {
      "cell_type": "markdown",
      "source": [
        "The graph oscillates between $-1$ and $1$ infinitely many times on\nthis interval - so many times, that no matter how close one zooms in,\nthe graph on the screen will fail to capture them all. Graphically,\nthere is no single value of $L$ that the function gets close to, as it\nvaries between all the values in $[-1,1]$ as $x$ gets close to $0$. A\nsimple proof that there is no limit, is to take any $\\epsilon$ less\nthan $1$, then with any $\\delta > 0$, there are infinitely many $x$\nvalues where $f(x)=1$ and infinitely many where $f(x) = -1$. That is,\nthere is no $L$ with $|f(x) - L| < \\epsilon$ when $\\epsilon$ is less than $1$ for all $x$ near $0$.\n\nThis function basically has too many values it gets close to. Another\nfavorite example of such a function is the function that is $0$ if $x$\nis rational and $1$ if not. This function will have no limit anywhere,\nnot just at $0$, and for basically the same reason as above.\n\n\nThe issue isn't oscillation though. Take, for example, the function\n$f(x) = x \\cdot \\sin(1/x)$. This function again has a limit everywhere\nsave possibly $0$. But in this case, there is a limit at $0$ of\n$0$. This is because, the following is true:\n\n$$~\n-|x| \\leq x \\sin(1/x) \\leq |x|.\n~$$\n\nThe following figure illustrates:"
      ],
      "metadata": {}
    },
    {
      "outputs": [],
      "cell_type": "code",
      "source": [
        "f(x) = x * sin(1/x)\nplot(f, -1, 1)\nplot!(abs)\nplot!(x -> -abs(x))"
      ],
      "metadata": {},
      "execution_count": null
    },
    {
      "cell_type": "markdown",
      "source": [
        "The [squeeze](http://en.wikipedia.org/wiki/Squeeze_theorem) theorem of\ncalculus is the formal reason $f$ has a limit at $0$, as as both the\nupper function, $|x|$, and the lower function, $-|x|$, have a limit of\n$0$ at $0$.\n\n## Right and left limits\n\nAnother example where $f(x)$ has no limit is the  function $f(x) = x /|x|, x \\neq 0$. This\nfunction is $-1$ for negative $x$ and $1$ for positive $x$. Again,\nthis function will have a limit everywhere except possibly at $x=0$,\nwhere division by $0$ is possible.\n\nIt's graph is"
      ],
      "metadata": {}
    },
    {
      "outputs": [],
      "cell_type": "code",
      "source": [
        "f(x) = abs(x)/x\nplot(f, -2, 2)"
      ],
      "metadata": {},
      "execution_count": null
    },
    {
      "cell_type": "markdown",
      "source": [
        "The sharp jump at $0$ is misleading - again, the plotting algorithm\njust connects the points, it doesn't handle what is a fundamental\ndiscontinuity well - the function is not defined at $0$ and jumps\nfrom $-1$ to $1$ there. Similarly to our example of $\\sin(1/x)$, near\n$0$ the function get's close to both $1$ and $-1$, so will have no\nlimit. (Again, just take $\\epsilon$ smaller than $1$.)\n\nBut unlike the previous example, this function *would* have a limit if\nthe definition didn't consider values of $x$ on both sides of $c$. The\nlimit on the right side would be $1$, the limit on the left side would\nbe $-1$. This distinction is useful, so there is an extension of the idea of a\nlimit to *one-sided limits*.\n\n\nLet's loosen up the language in the definition of a limit to read:\n\n> The limit of $f(x)$ as $x$ approaches $c$ is $L$ if for every\n>  neighborhood, $V$, of $L$ there is a neighborhood, $U$, of $c$ for\n>  which $f(x)$ is in $V$ for every $x$ in $U$, except possibly $x=c$.\n\nThe $\\epsilon-\\delta$ definition has $V = (L-\\epsilon, L + \\epsilon)$\nand $U=(c-\\delta, c+\\delta)$. This is a rewriting of $L-\\epsilon <\nf(x) < L + \\epsilon$ as $|f(x) - L| < \\epsilon$.\n\nNow for the defintion:\n\n\n> A function $f(x)$ has a limit on the right of $c$, written $\\lim_{x\n>  \\rightarrow c+}f(x) = L$ if for every $\\epsilon > 0$, there exists a\n>  $\\delta > 0$ such that whenever $0 < x - c < \\delta$ it holds that\n>  $|f(x) - L| < \\epsilon$. That is, $U$ is $(c, c+\\delta)$\n\nSimilarly, a limit on the left is defined where $U=(c-\\delta, c)$.\n\nThe `SymPy` function `limit` has a keyword argument `dir=\"+\"` or\n`dir=\"-\"` to request that a one-sided limit be formed."
      ],
      "metadata": {}
    },
    {
      "outputs": [],
      "cell_type": "code",
      "source": [
        "@vars x\nf(x) = abs(x)/x\nlimit(f(x), x=>0, dir=\"+\"), limit(f(x), x=>0, dir=\"-\")"
      ],
      "metadata": {},
      "execution_count": null
    },
    {
      "outputs": [],
      "cell_type": "code",
      "source": [
        "alert(\"\"\"\nHowever, `SymPy` will actually *not* get this correct as a limit, as one can verify through `limit(f(x), x=>0)`. This is because `SymPy` defaults to `dir=\"+\"`. To be certain, you can check both to see they are equal.\n\"\"\")"
      ],
      "metadata": {},
      "execution_count": null
    },
    {
      "cell_type": "markdown",
      "source": [
        "The relation between the two concepts is that a function has a limit at $c$ if\nan only if the left and right limits exist and are equal. This\nfunction $f$ has both existing, but the two limits are not equal.\n\n\nThere are other such functions that jump. Another useful one is the\nfloor function, which just rounds down to the nearest integer. A graph shows the basic shape:"
      ],
      "metadata": {}
    },
    {
      "outputs": [],
      "cell_type": "code",
      "source": [
        "plot(floor, -5,5)"
      ],
      "metadata": {},
      "execution_count": null
    },
    {
      "cell_type": "markdown",
      "source": [
        "Again, the (nearly) vertical lines are an artifact of the graphing\nalgorithm and not actual points that solve $y=f(x)$. The floor\nfunction has limits except at the integers. There the left and right\nlimits differ.\n\nConsider the limit at $c=0$. If $0 < x < 1/2$, say, then $f(x) = 0$ as\nwe round down, so the right limit will be $0$. However, if $-1/2 < x <\n0$, then the $f(x) = -1$, again as we round down, so the left limit\nwill be $-1$. Again, with this example both the left and right limits\nexists, but at the integer values they are not equal, as they differ\nby 1.\n\n\nSome functions only have one-sided limits as they are not defined in\nan interval around $c$. There are many examples, but we will take\n$f(x) = x^x$ at $x=0$. This function is not well defined for all $x <\n0$, so it is typical to just take the domain to be $x > 0$. Still it\nhas a right limit $\\lim_{x \\rightarrow 0+} x^x = 1$. `SymPy` can verify:"
      ],
      "metadata": {}
    },
    {
      "outputs": [],
      "cell_type": "code",
      "source": [
        "@vars x real=true\nlimit(x^x, x, 0, dir=\"+\")"
      ],
      "metadata": {},
      "execution_count": null
    },
    {
      "cell_type": "markdown",
      "source": [
        "This agrees with the IEEE convention of assigning `0^0` to be `1`.\n\nHowever, not all such functions with indeterminate forms of $0^0$ will\nhave a limit of $1$.\n\n##### Example\n\nConsider this funny graph:"
      ],
      "metadata": {}
    },
    {
      "outputs": [],
      "cell_type": "code",
      "source": [
        "xs = range(0,stop=1, length=50)\n\nplot(x->x^2, -2, -1, legend=false)\nplot!(exp, -1,0)\nplot!(x -> 1-2x, 0, 1)\nplot!(sqrt, 1, 2)\nplot!(x -> 1-x, 2,3)"
      ],
      "metadata": {},
      "execution_count": null
    },
    {
      "cell_type": "markdown",
      "source": [
        "Describe the limits at $-1$, $0$, and $1$.\n\n* At $-1$ we see a jump, there is no limit but instead a left limit of 1 and a right limit appearing to be $1/2$.\n\n* At $0$ we see a limit of $1$.\n\n* Finally, at $1$ again there is a jump, so no limit. Instead the left limit is about $-1$ and the right limit $1$.\n\n\n\n\n## Limits at infinity\n\nThe loose definition of a horizontal asymptote is \"a line such that\nthe distance between the curve and the line approaches $0$ as they\ntend to infinity.\" This sounds like it should be defined by a\nlimit. The issue is, that the limit would be at $\\pm\\infty$ and not\nsome finite $c$. This means the idea of a neighborhood of $c$, $0 < |x-c| < \\delta$, needs\nreworking.\n\nThe basic idea for a limit at $+\\infty$ is that for any $\\epsilon$,\nthere exists an $M$ such that when $x > M$ it must be that $|f(x) - L|\n< \\epsilon$. For a horizontal asymptote, the line would be\n$y=L$. Similarly a limit at $-\\infty$ can be defined with $x < M$\nbeing the condition.\n\n\nLet's consider some cases.\n\nThe function $f(x) = \\sin(x)$ will not have a limit at $+\\infty$ for\nexactly the same reason that $f(x) = \\sin(1/x)$ does not have a limit\nat $c=0$ - it just oscillates between $-1$ and $1$ so never\neventually gets close to a single value.\n\n`SymPy` gives an odd answer here indicating the range of values:"
      ],
      "metadata": {}
    },
    {
      "outputs": [],
      "cell_type": "code",
      "source": [
        "limit(sin(x), x=>oo)"
      ],
      "metadata": {},
      "execution_count": null
    },
    {
      "cell_type": "markdown",
      "source": [
        "(We used `SymPy`'s `oo` for $\\infty$ and not `Inf`.)\n\n----\n\n\nHowever, a damped oscillation, such as $f(x) = e^{-x} \\sin(x)$ will have a limit:"
      ],
      "metadata": {}
    },
    {
      "outputs": [],
      "cell_type": "code",
      "source": [
        "@vars x real=true\nlimit(exp(-x)*sin(x), x=>oo)"
      ],
      "metadata": {},
      "execution_count": null
    },
    {
      "cell_type": "markdown",
      "source": [
        "----\n\nWe have rational functions will have the expected limit. In this\nexample $m = n$, so we get a horizontal asymptote that is not $y=0$:"
      ],
      "metadata": {}
    },
    {
      "outputs": [],
      "cell_type": "code",
      "source": [
        "limit((x^2 - 2x +2)/(4x^2 + 3x - 2), x=>oo)"
      ],
      "metadata": {},
      "execution_count": null
    },
    {
      "cell_type": "markdown",
      "source": [
        "----\n\nThough rational functions can have only one (at most) horizontal asymptote, this isn't true for all functions. Consider the following $f(x) = x / \\sqrt{x^2 + 4}$. It has different limits:"
      ],
      "metadata": {}
    },
    {
      "outputs": [],
      "cell_type": "code",
      "source": [
        "f(x) = x / sqrt(x^2 + 4)\nlimit(f(x), x=>oo), limit(f(x), x=>-oo)"
      ],
      "metadata": {},
      "execution_count": null
    },
    {
      "cell_type": "markdown",
      "source": [
        "(A simpler example showing this behavior is just the function $|x|/x$ considered earlier.)\n\n## Limits of infinity\n\nVertical asymptotes are nicely defined with horizontal asymptotes by\nthe graph getting close to some line. However, the formal definition\nof a limit won't be the same. For a vertical asymptote, the value of\n$f(x)$ heads towards positive or negative infinity, not some finite\n$L$. As such, a neighborhood like $(L-\\epsilon, L+\\epsilon)$ will no\nlonger make sense, rather we replace it with an expression like $(M,\n\\infty)$ or $(-\\infty, M)$. As in: the limit of $f(x)$ as $x$\napproaches $c$ is *infinity* if for every $M > 0$ there exists a\n$\\delta>0$ such that if $0 < |x-c| < \\delta$ then $f(x) > M$. Approaching $-\\infty$ would conclude with $f(x) < -M$ for all $M>0$.\n\n##### Examples\n\nConsider the function $f(x) = 1/x^2$. This will have a limit at every\npoint except possibly $0$, where division by $0$ is possible. In this\ncase, there is a vertical asymptote. The limit at $0$ is $\\infty$, in\nthe extended sense above. For $M>0$, we can take any $0 < \\delta <\n1/\\sqrt{M}$. The following graph shows $M=25$ where the function\nvalues are outside of the box, as $f(x) > M$ for those $x$ values with $0 < |x-0| < 1/\\sqrt{M}$."
      ],
      "metadata": {}
    },
    {
      "outputs": [],
      "cell_type": "code",
      "source": [
        "f(x) = 1/x^2\nM = 25\ndelta = 1/sqrt(M)\n\nf(x) = 1/x^2 > 50 ? NaN : 1/x^2\nplot(f, -1, 1, legend=false)\nplot!([-delta, delta],\t[M,M], color=colorant\"orange\")\nplot!([-delta, -delta], [0,M], color=colorant\"red\")\nplot!([delta, delta], [0,M], color=colorant\"red\")"
      ],
      "metadata": {},
      "execution_count": null
    },
    {
      "cell_type": "markdown",
      "source": [
        "----\n\nThe function $f(x)=1/x$ requires us to talk about left and right limits of infinity, with the natural generalization. We can see that the left limit at $0$ is $-\\infty$ and the right limit $\\infty$:"
      ],
      "metadata": {}
    },
    {
      "outputs": [],
      "cell_type": "code",
      "source": [
        "f(x) = 1/x\nplot(f, 1/50, 1,    color=:blue, legend=false)\nplot!(f, -1, -1/50, color=:blue)"
      ],
      "metadata": {},
      "execution_count": null
    },
    {
      "cell_type": "markdown",
      "source": [
        "`SymPy` agrees:"
      ],
      "metadata": {}
    },
    {
      "outputs": [],
      "cell_type": "code",
      "source": [
        "f(x) = 1/x\nlimit(f(x), x=>0, dir=\"-\"), limit(f(x), x=>0, dir=\"+\")"
      ],
      "metadata": {},
      "execution_count": null
    },
    {
      "cell_type": "markdown",
      "source": [
        "----\n\nConsider the function $f(x) = x^x(1 + \\log(x)), x > 0$. Does this have a *right* limit at $0$?\n\nA quick graph shows that a limit may be $-\\infty$:"
      ],
      "metadata": {}
    },
    {
      "outputs": [],
      "cell_type": "code",
      "source": [
        "f(x) = x^x * (1 + log(x))\nplot(f, 1/100, 1)"
      ],
      "metadata": {},
      "execution_count": null
    },
    {
      "cell_type": "markdown",
      "source": [
        "We can check with `SymPy`:"
      ],
      "metadata": {}
    },
    {
      "outputs": [],
      "cell_type": "code",
      "source": [
        "limit(f(x), x=>0, dir=\"+\")"
      ],
      "metadata": {},
      "execution_count": null
    },
    {
      "cell_type": "markdown",
      "source": [
        "## Limits of sequences\n\nAfter all this, we still can't formalize the basic question asked in\nthe introduction to limits: what is the area contained in a parabola. For that\nwe developed a sequence of sums: $s_n = 1/2 \\dot((1/4)^0 + (1/4)^1 + (1/4)^2 +\n\\cdots + (1/4)^n)$. This isn't a function of $x$, but rather depends\nonly on non-negative integer values of $n$. However, the same idea as\na limit at infinity can be used to define a limit.\n\n> Let $a_0,a_1, a_2, \\dots, a_n, \\dots$ be a sequence of values indexed by $n$.\n> We have $\\lim_{n \\rightarrow \\infty} a_n = L$ if for every $\\epsilon > 0$ there is an $M>0$ where if $n > M$ then $|a_n - L| < \\epsilon$.\n\n\nThis is essentially the same as a limit *at* infinity for a function,\nbut in this case the function's domain is only the non-negative\nintegers.\n\n`SymPy` is happy to compute limits of sequences. Defining this one involving a sum is best done with the `summation` function:"
      ],
      "metadata": {}
    },
    {
      "outputs": [],
      "cell_type": "code",
      "source": [
        "@vars i n integer=true\ns(n) = 1//2 * summation((1//4)^i, (i, 0, n))    # rationals make for an exact answer\nlimit(s(n), n=>oo)"
      ],
      "metadata": {},
      "execution_count": null
    },
    {
      "cell_type": "markdown",
      "source": [
        "## Summary\n\nThe following table captures the various changes to the definition of\nthe limit to accommodate some of the possible behaviors."
      ],
      "metadata": {}
    },
    {
      "outputs": [],
      "cell_type": "code",
      "source": [
        "limit_type=[\n\"limit\",\n\"right limit\",\n\"left limit\",\nL\"limit at $\\infty$\",\nL\"limit at $-\\infty$\",\nL\"limit of $\\infty$\",\nL\"limit of $-\\infty$\",\n\"limit of a sequence\"\n]\n\nNotation=[\nL\"\\lim_{x\\rightarrow c}f(x) = L\",\nL\"\\lim_{x\\rightarrow c+}f(x) = L\",\nL\"\\lim_{x\\rightarrow c-}f(x) = L\",\nL\"\\lim_{x\\rightarrow \\infty}f(x) = L\",\nL\"\\lim_{x\\rightarrow -\\infty}f(x) = L\",\nL\"\\lim_{x\\rightarrow c}f(x) = \\infty\",\nL\"\\lim_{x\\rightarrow c}f(x) = -\\infty\",\nL\"\\lim_{n \\rightarrow \\infty} a_n = L\"\n]\n\nVs = [\nL\"(L-\\epsilon, L+\\epsilon)\",\nL\"(L-\\epsilon, L+\\epsilon)\",\nL\"(L-\\epsilon, L+\\epsilon)\",\nL\"(L-\\epsilon, L+\\epsilon)\",\nL\"(L-\\epsilon, L+\\epsilon)\",\nL\"(M, \\infty)\",\nL\"(-\\infty, M)\",\nL\"(L-\\epsilon, L+\\epsilon)\"\n]\n\nUs = [\nL\"(c - \\delta, c+\\delta)\",\nL\"(c, c+\\delta)\",\nL\"(c - \\delta, c)\",\nL\"(M, \\infty)\",\nL\"(-\\infty, M)\",\nL\"(c - \\delta, c+\\delta)\",\nL\"(c - \\delta, c+\\delta)\",\nL\"(M, \\infty)\"\n]\n\nusing DataFrames\nd = DataFrame(Type=limit_type, Notation=Notation, V=Vs, U=Us)\ntable(d)"
      ],
      "metadata": {},
      "execution_count": null
    },
    {
      "cell_type": "markdown",
      "source": [
        "## Questions\n\n\n###### Question\n\nConsider the function $f(x) = \\sqrt{x}$.\n\nDoes this function have a limit at every $c > 0$?"
      ],
      "metadata": {}
    },
    {
      "outputs": [],
      "cell_type": "code",
      "source": [
        "booleanq(true, labels=[\"Yes\", \"No\"])"
      ],
      "metadata": {},
      "execution_count": null
    },
    {
      "cell_type": "markdown",
      "source": [
        "Does this function have a limit at $c=0$?"
      ],
      "metadata": {}
    },
    {
      "outputs": [],
      "cell_type": "code",
      "source": [
        "booleanq(false, labels=[\"Yes\", \"No\"])"
      ],
      "metadata": {},
      "execution_count": null
    },
    {
      "cell_type": "markdown",
      "source": [
        "Does this function have a right limit at $c=0$?"
      ],
      "metadata": {}
    },
    {
      "outputs": [],
      "cell_type": "code",
      "source": [
        "booleanq(true, labels=[\"Yes\", \"No\"])"
      ],
      "metadata": {},
      "execution_count": null
    },
    {
      "cell_type": "markdown",
      "source": [
        "Does this function have a left limit at $c=0$?"
      ],
      "metadata": {}
    },
    {
      "outputs": [],
      "cell_type": "code",
      "source": [
        "booleanq(false, labels=[\"Yes\", \"No\"])"
      ],
      "metadata": {},
      "execution_count": null
    },
    {
      "cell_type": "markdown",
      "source": [
        "##### Question\n\nFind $\\lim_{x \\rightarrow \\infty} \\sin(x)/x$."
      ],
      "metadata": {}
    },
    {
      "outputs": [],
      "cell_type": "code",
      "source": [
        "numericq(0)"
      ],
      "metadata": {},
      "execution_count": null
    },
    {
      "cell_type": "markdown",
      "source": [
        "###### Question\n\nFind $\\lim_{x \\rightarrow \\infty} (1-\\cos(x))/x^2$."
      ],
      "metadata": {}
    },
    {
      "outputs": [],
      "cell_type": "code",
      "source": [
        "numericq(0)"
      ],
      "metadata": {},
      "execution_count": null
    },
    {
      "cell_type": "markdown",
      "source": [
        "###### Question\n\nFind $\\lim_{x \\rightarrow \\infty} \\log(x)/x$."
      ],
      "metadata": {}
    },
    {
      "outputs": [],
      "cell_type": "code",
      "source": [
        "numericq(0)"
      ],
      "metadata": {},
      "execution_count": null
    },
    {
      "cell_type": "markdown",
      "source": [
        "###### Question\n\nFind $\\lim_{x \\rightarrow 2+} (x-3)/(x-2)$."
      ],
      "metadata": {}
    },
    {
      "outputs": [],
      "cell_type": "code",
      "source": [
        "choices=[L\"L=-\\infty\", L\"L=-1\", L\"L=0\", L\"L=\\infty\"]\nans = 1\nradioq(choices, ans)"
      ],
      "metadata": {},
      "execution_count": null
    },
    {
      "cell_type": "markdown",
      "source": [
        "Find $\\lim_{x \\rightarrow -3-} (x-3)/(x+3)$."
      ],
      "metadata": {}
    },
    {
      "outputs": [],
      "cell_type": "code",
      "source": [
        "choices=[L\"L=-\\infty\", L\"L=-1\", L\"L=0\", L\"L=\\infty\"]\nans = 4\nradioq(choices, ans)"
      ],
      "metadata": {},
      "execution_count": null
    },
    {
      "cell_type": "markdown",
      "source": [
        "###### Question <small>No limit</small>\n\nSome functions do not have a limit. Make a graph of $\\sin(1/x)$ from $0.0001$ to $1$ and look at the output. Why does a limit not exist?"
      ],
      "metadata": {}
    },
    {
      "outputs": [],
      "cell_type": "code",
      "source": [
        "choices=[\"The limit does exist - it is any number from -1 to 1\",\n  \"Err, the limit does exists and is 1\",\n  \"The function oscillates too much and its y values do not get close to any one value\",\n  \"Any function that oscillates does not have a limit.\"]\nans = 3\nradioq(choices, ans)"
      ],
      "metadata": {},
      "execution_count": null
    },
    {
      "cell_type": "markdown",
      "source": [
        "###### Question <small>$0^0$</small>\n\nIs the form $0^0$ really indeterminate? As mentioned `0^0` evaluates to `1`.\n\n\nConsider this limit:\n\n$$~\n\\lim_{x \\rightarrow 0+} x^{k\\cdot x} = L.\n~$$\n\nConsider different values of $k$ to see if this limit depends on $k$ or not. What is $L$?"
      ],
      "metadata": {}
    },
    {
      "outputs": [],
      "cell_type": "code",
      "source": [
        "choices = [L\"1\", L\"k\", L\"\\log(k)\", \"The limit does not exist\"]\nans = 1\nradioq(choices, ans)"
      ],
      "metadata": {},
      "execution_count": null
    },
    {
      "cell_type": "markdown",
      "source": [
        "Now, consider this limit:\n\n$$~\n\\lim_{x \\rightarrow 0+} x^{1/\\log_k(x)} = L.\n~$$\n\nIn `julia`, $\\log_k(x)$ is found with `log(k,x)`. The default, `log(x)` takes $k=e$ so gives the natural log. So, we would define `f`, for a given `k`, with"
      ],
      "metadata": {}
    },
    {
      "outputs": [],
      "cell_type": "code",
      "source": [
        "k = 10\t\t\t\t# say. Replace with actual value\nf(x) = x^(1/log(k, x))"
      ],
      "metadata": {},
      "execution_count": null
    },
    {
      "cell_type": "markdown",
      "source": [
        "Consider different values of $k$ to see if the limit depends on $k$ or not. What is $L$?"
      ],
      "metadata": {}
    },
    {
      "outputs": [],
      "cell_type": "code",
      "source": [
        "choices = [L\"1\", L\"k\", L\"\\log(k)\", \"The limit does not exist\"]\nans = 2\nradioq(choices, ans)"
      ],
      "metadata": {},
      "execution_count": null
    },
    {
      "cell_type": "markdown",
      "source": [
        "###### Question\n\nLimits *of* infinity *at* infinity. We could define this concept quite\neasily mashing together the two definitions. Suppose we did. Which of\nthese ratios would have a limit of infinity at infinity:\n\n$$~\nx^4/x^3,\\quad x^{100+1}/x^{100}, \\quad x/\\log(x), \\quad 3^x / 2^x, \\quad e^x/x^{100}\n~$$"
      ],
      "metadata": {}
    },
    {
      "outputs": [],
      "cell_type": "code",
      "source": [
        "choices=[\n\"the first one\",\n\"the first and second ones\",\n\"the first, second and third ones\",\n\"the first, second, third, and fourth ones\",\n\"all of them\"]\nans = 5\nradioq(choices, ans, keep_order=true)"
      ],
      "metadata": {},
      "execution_count": null
    },
    {
      "cell_type": "markdown",
      "source": [
        "###### Question\n\nA slant asymptote is a line $mx + b$ for which the graph of $f(x)$\ngets close to as $x$ gets large. We can't express this directly as a\nlimit, as \"$L$\" is not a number. How might we?"
      ],
      "metadata": {}
    },
    {
      "outputs": [],
      "cell_type": "code",
      "source": [
        "choices = [\nL\"We can talk about the limit at $\\infty$ of $f(x) - (mx + b)$ being $0$\",\nL\"We can talk about the limit at $\\infty$ of $f(x) - mx$ being $b$\",\nL\"We can say $f(x) - (mx+b)$ has a horizontal asymptote $y=0$\",\nL\"We can say $f(x) - mx$ has a horizontal asymptote $y=b$\",\n\"Any of the above\"]\nans = 5\nradioq(choices, ans)"
      ],
      "metadata": {},
      "execution_count": null
    },
    {
      "cell_type": "markdown",
      "source": [
        "###### Question\n\nSuppose a sequence of points $x_n$ converges to $a$ in the limiting sense. For a function $f(x)$, the sequence of points $f(x_n)$ may or may not converge.  One alternative definition of a [limit](https://en.wikipedia.org/wiki/Limit_of_a_function#In_terms_of_sequences) due to Heine is that $lim_{x \\rightarrow a}f(x) = L$ if *and* only if **all** sequences $x_n \\rightarrow a$ have $f(x_n) \\rightarrow L$.\n\nConsider the function $f(x) = \\sin(1/x)$, $a=0$, and the two sequences implicitly defined by $1/x_n = \\pi/2 + n \\cdot (2\\pi)$ and $y_n = 3\\pi/2 + n \\cdot(2\\pi)$, $n = 0, 1, 2, \\dots$.\n\nWhat is $\\lim_{x_n \\rightarrow 0} f(x_n)$?"
      ],
      "metadata": {}
    },
    {
      "outputs": [],
      "cell_type": "code",
      "source": [
        "numericq(1)"
      ],
      "metadata": {},
      "execution_count": null
    },
    {
      "cell_type": "markdown",
      "source": [
        "What is $\\lim_{x_n \\rightarrow 0} f(y_n)$?"
      ],
      "metadata": {}
    },
    {
      "outputs": [],
      "cell_type": "code",
      "source": [
        "numericq(-1)"
      ],
      "metadata": {},
      "execution_count": null
    },
    {
      "cell_type": "markdown",
      "source": [
        "This shows that"
      ],
      "metadata": {}
    },
    {
      "outputs": [],
      "cell_type": "code",
      "source": [
        "choices = [L\" $f(x)$ has a limit of $1$ as $x \\rightarrow 0$\",\nL\" $f(x)$ has a limit of $-11$ as $x \\rightarrow 0$\",\nL\" $f(x)$ does not have a limit as $x \\rightarrow 0$\"\n]\nans = 3\nradioq(choices, ans)"
      ],
      "metadata": {},
      "execution_count": null
    }
  ],
  "nbformat_minor": 2,
  "metadata": {
    "language_info": {
      "file_extension": ".jl",
      "mimetype": "application/julia",
      "name": "julia",
      "version": "1.5.0"
    },
    "kernelspec": {
      "name": "julia-1.5",
      "display_name": "Julia 1.5.0",
      "language": "julia"
    }
  },
  "nbformat": 4
}
