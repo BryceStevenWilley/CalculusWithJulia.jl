{
  "cells": [
    {
      "cell_type": "markdown",
      "source": [
        "# Continuity"
      ],
      "metadata": {}
    },
    {
      "outputs": [],
      "cell_type": "code",
      "source": [
        "using CalculusWithJulia\nusing CalculusWithJulia.WeaveSupport\nusing Plots\nnothing"
      ],
      "metadata": {},
      "execution_count": null
    },
    {
      "cell_type": "markdown",
      "source": [
        "The definition Google finds for *continuous* is *forming an unbroken whole; without interruption*.\n\nThe concept in calculus, as transferred to functions, is\nsimilar. Roughly speaking, a continuous function is one whose graph\ncould be drawn without having to lift (or interrupt) the pencil drawing it.\nnte(\nConsider these two graphs:"
      ],
      "metadata": {}
    },
    {
      "outputs": [],
      "cell_type": "code",
      "source": [
        "plt = plot([-1,0], [-1,-1],  color=:black, legend=false, linewidth=5)\nplot!(plt, [0, 1], [ 1, 1], color=:black, linewidth=5)\nplt"
      ],
      "metadata": {},
      "execution_count": null
    },
    {
      "cell_type": "markdown",
      "source": [
        "and"
      ],
      "metadata": {}
    },
    {
      "outputs": [],
      "cell_type": "code",
      "source": [
        "plot([-1,-.1, .1, 1], [-1,-1, 1, 1], color=:black, legend=false, linewidth=5)"
      ],
      "metadata": {},
      "execution_count": null
    },
    {
      "cell_type": "markdown",
      "source": [
        "Though similar at some level - they agree at nearly every value of\n$x$ - the first has a \"jump\" from $-1$ to $1$ instead of the\ntransition in the second one. The first is not continuous at $0$ - a\nbreak is needed to draw it - where as the second is continuous.\n\n\n\nA formal definition was a bit harder to come to. At\n[first](http://en.wikipedia.org/wiki/Intermediate_value_theorem) the\nconcept that for any $y$ between any two values in the range for\n$f(x)$, the function should take the value $y$ was included. Clearly\nthis could distinguish the two graphs above, as one takes no values in\n$(-1,1)$, whereas the other - the continuous one - takes on all values in that range.\n\n\nHowever, [Cauchy](http://en.wikipedia.org/wiki/Cours_d%27Analyse)\ndefined continuity by $f(x + \\alpha) - f(x)$ being small whenever\n$\\alpha$ was small. This basically rules out \"jumps\" and proves more\nuseful as a tool to describe continuity.\n\n\nThe [modern](http://en.wikipedia.org/wiki/Continuous_function#History)\ndefinition simply pushes the details to the definition of the limit:\n\n> A function $f(x)$ is continuous at $x=c$ if $\\lim_{x \\rightarrow c}f(x) = f(c)$.\n\nThis says three things\n\n* The limit exists at $c$.\n\n* The function is defined at $c$ ($c$ is in the domain).\n\n* The value of the limit is the same as $f(c)$.\n\n\nThis speaks to continuity at a point, we can extend this to continuity over an interval $(a,b)$ by saying:\n\n> A function $f(x)$ is continuous over $(a,b)$ if at each point $c$ with $a < c < b$, $f(x)$ is continuous at $c$.\n\nFinally, as with limits, it can be convenient to speak of *right*\ncontinuity and *left* continuity at a point, where the limit in the\ndefintion is replaced by a right or left limit, as appropriate."
      ],
      "metadata": {}
    },
    {
      "outputs": [],
      "cell_type": "code",
      "source": [
        "alert(\"\"\"\nThe limit in the definition of continuity is the basic limit and not an extended sense where\ninfinities are accounted for. As with limits, such extensions are qualified in the language,\nas in \"*right* continous.\"\n\"\"\")"
      ],
      "metadata": {},
      "execution_count": null
    },
    {
      "cell_type": "markdown",
      "source": [
        "##### Examples of continuity\n\nMost familiar functions are continuous everywhere.\n\n* For example, a monomial function $f(x) = ax^n$ for non-negative, integer $n$ will be continuous. This is because the limit exists everywhere, the domain of $f$ is all $x$ and there are no jumps.\n\n* Similarly, the basic trigonometric functions $\\sin(x)$, $\\cos(x)$ are continuous everywhere.\n\n* So are the exponential functions $f(x) = a^x, a > 0$.\n\n* The hyperbolic sine ($(e^x - e^{-x})/2$) and cosine ($(e^x + e^{-x})/2$) are, as $e^x$ is.\n\n* The hyperbolic tangent is, as $\\cosh(x) > 0$ for all $x$.\n\nSome familiar functions are continuous but not everywhere.\n\n* For example, $f(x) = \\sqrt{x}$ is continuous on $(0,\\infty)$ and right continuous at $0$, but it is not defined for negative $x$, so can't possibly be continuous there.\n\n* Similarly, $f(x) = \\log(x)$ is continuous on $(0,\\infty)$, but it is not defined at $x=0$, so is not right continuous at $0$.\n\n* The tangent function $\\tan(x) = \\sin(x)/\\cos(x)$ is continuous everywhere *except* the points $x$ with $\\cos(x) = 0$ ($\\pi/2 + k\\pi, k$ an integer).\n\n* The hyperbolic co-tangent is not continuous at $x=0$ when $\\sinh$ is $0$,\n\n* The semicircle $f(x) = \\sqrt{1 - x^2}$ is *continuous* on $(-1, 1)$. It is not continous at $-1$ and $1$, though it is right continuous at $-1$ and left continous at $1$.\n\n##### Examples of discontinuity\n\nThere are various reasons why a function may not be continuous.\n\n* The function $f(x) = \\sin(x)/x$ has a limit at $0$ but is not defined at $0$, so is not continuous at $0$. The function can be redefined to make it continuous.\n\n* The function $f(x) = 1/x$ is continuous everywhere *except* $x=0$.\n\n* A rational function $f(x) = p(x)/q(x)$ will be continuous everywhere except where $q(x)=0$.\n\n* The function\n\n$$~\nf(x) = \\begin{cases}\n         -1 & x < 0 \\\\\n          0 & x = 0 \\\\\n          1 & x > 0\n\\end{cases}\n~$$\n\nis implemented by `Julia`'s `sign` function. It has a value at $0$,\nbut no limit at $0$, so is not continuous at $0$. Furthermore, the\nleft and right limits exist at $0$ but are not equal to $f(0)$ so the\nfunction is not left or right continuous at $0$. It is continous everywhere except at $x=0$.\n\n* Similarly, the function defined by this graph"
      ],
      "metadata": {}
    },
    {
      "outputs": [],
      "cell_type": "code",
      "source": [
        "plot([-1,-.01], [-1,-.01], legend=false, color=:black)\nplot!([.01, 1], [.01, 1], color=:black)\nscatter!([0], [1/2], markersize=5, markershape=:circle)"
      ],
      "metadata": {},
      "execution_count": null
    },
    {
      "cell_type": "markdown",
      "source": [
        "is not continuous at $x=0$. It has a limit of $0$ at $0$, a function\nvalue $f(0) =1/2$, but the limit and the function value are not equal.\n\n* The `floor` function, which rounds down to the nearest integer, is also not continuous at the integers, but is right continuous at the integers, as, for example, $\\lim_{x \\rightarrow 0+} f(x) = f(0)$. This graph emphasizes the right continuity by placing a point for the value of the function when there is a jump:"
      ],
      "metadata": {}
    },
    {
      "outputs": [],
      "cell_type": "code",
      "source": [
        "x = [0,1]; y=[0,0]\nplt = plot(x.-2, y.-2, color=:black, legend=false)\nplot!(plt, x.-1, y.-1, color=:black)\nplot!(plt, x.-0, y.-0, color=:black)\nplot!(plt, x.+1, y.+1, color=:black)\nplot!(plt, x.+2, y.+2, color=:black)\nscatter!(plt, [-2,-1,0,1,2], [-2,-1,0,1,2], markersize=5, markershape=:circle)\nplt"
      ],
      "metadata": {},
      "execution_count": null
    },
    {
      "cell_type": "markdown",
      "source": [
        "* The function $f(x) = 1/x^2$ is not continuous at $x=0$: $f(x)$ is not defined at $x=0$ and $f(x)$ has no limit at $x=0$ (in the usual sense).\n\n* On the Wikipedia page for [continuity](https://en.wikipedia.org/wiki/Continuous_function) the example of Dirichlet's function is given:\n\n$$~\nf(x) =\n\\begin{cases}\n0 & \\text{if } x \\text{ is irrational,}\\\\\n1 & \\text{if } x \\text{ is rational.}\n\\end{cases}\n~$$\n\n\nThe limit for any $c$ is discontinuous, as any interval about $c$ will\ncontain *both* rational and irrational numbers so the function will\nnot take values in a small neighborhood around any potential $L$.\n\n##### Example\n\nLet a function be defined by cases:\n\n$$~\nf(x) = \\begin{cases}\n3x^2 + c & x \\geq 0,\\\\\n2x-3 & x < 0.\n\\end{cases}\n~$$\n\nWhat value of $c$ will make $f(x)$ a continuous function?\n\nTo be continuous we not that for $x < 0$ and for $x > 0$ the function is a simple polynomial, so is continous. At $x=0$ to be continuous we need a limit to exists and be equal to $f(0)$, which is $c$. A limit exists if the left and right limits are equal. This means we need to solve for $c$ to make the left and right limits equal."
      ],
      "metadata": {}
    },
    {
      "outputs": [],
      "cell_type": "code",
      "source": [
        "using CalculusWithJulia   # load `SymPy`\nusing Plots\n@vars x c\nex1 = 3x^2 + c\nex2 = 2x-3\ndel = limit(ex1, x=>0, dir=\"+\") - limit(ex2, x=>0, dir=\"-\")"
      ],
      "metadata": {},
      "execution_count": null
    },
    {
      "cell_type": "markdown",
      "source": [
        "We need to solve for $c$ to make `del` zero:"
      ],
      "metadata": {}
    },
    {
      "outputs": [],
      "cell_type": "code",
      "source": [
        "solve(del, c)"
      ],
      "metadata": {},
      "execution_count": null
    },
    {
      "cell_type": "markdown",
      "source": [
        "This gives the value of $c$.\n\n## Rules for continuity\n\nAs we've seen, functions can be combined in several ways. How do these relate with continuity?\n\nSuppose $f(x)$ and $g(x)$ are both continuous on $(a,b)$. Then\n\n* The function $h(x) = \\alpha f(x) + \\beta g(x)$ is continuous on $(a,b)$ for any real numbers $\\alpha$ and $\\beta$;\n\n* The function $h(x) = f(x) \\cdot g(x)$ is continuous on $(a,b)$; and\n\n* The function $h(x) = f(x) / g(x)$ is continuous at all points $c$ in $(a,b)$ **where** $g(c) \\neq 0$.\n\n* The function $h(x) = f(g(x))$ is continuous at $x=c$ *if*  $g(x)$ is continuous at $c$ *and* $f(x)$ is continous at $g(c)$.\n\nSo, continuity is preserved for all of the basic operations except when dividing by $0$.\n\n##### Examples\n\n* Since a monomial $f(x) = ax^n$ ($n$ a non-negative integer) is continuous, by the first rule, any polynomial will be continuous.\n\n* Since both $f(x) = e^x$ and $g(x)=\\sin(x)$ are continuous everywhere, so will be $h(x) = e^x \\cdot \\sin(x)$.\n\n* Since $f(x) = e^x$ is continuous everywhere and $g(x) = -x$ is continuous everywhere, the composition $h(x) = e^{-x}$ will be continuous everywhere.\n\n* Since $f(x) = x$ is continuous everywhere, the function $h(x) = 1/x$ - a ratio of continuous functions - will be continuous everywhere *except* possibly at $x=0$ (where it is not continuous).\n\n* The function $h(x) = e^{x\\log(x)}$ will be continuous on $(0,\\infty)$, the same domain that $g(x) = x\\log(x)$ is continuous. This function (also written as $x^x$) has a right limit at $0$ (of $1$), but is not right continuous, as $h(0)$ is not defined.\n\n\n## Questions\n\n###### Question\n\nLet $f(x) = \\sin(x)$ and $g(x) = \\cos(x)$. Which of these is not continuous everywhere?\n\n$$~\nf+g,~ f-g,~ f\\cdot g,~ f\\circ g,~ f/g\n~$$"
      ],
      "metadata": {}
    },
    {
      "outputs": [],
      "cell_type": "code",
      "source": [
        "choices = [L\"f+g\", L\"f-g\", L\"f\\cdot g\", L\"f\\circ g\", L\"f/g\"]\nans = length(choices)\nradioq(choices, ans)"
      ],
      "metadata": {},
      "execution_count": null
    },
    {
      "cell_type": "markdown",
      "source": [
        "###### Question\n\nLet $f(x) = \\sin(x)$, $g(x) = \\sqrt{x}$.\n\nWhen will $f\\circ g$ be continuous?"
      ],
      "metadata": {}
    },
    {
      "outputs": [],
      "cell_type": "code",
      "source": [
        "choices = [L\"For all $x$\", L\"For all $x > 0$\", L\"For all $x$ where $\\sin(x) > 0$\"]\nans = 2\nradioq(choices, ans, keep_order=true)"
      ],
      "metadata": {},
      "execution_count": null
    },
    {
      "cell_type": "markdown",
      "source": [
        "When will $g \\circ f$ be continuous?"
      ],
      "metadata": {}
    },
    {
      "outputs": [],
      "cell_type": "code",
      "source": [
        "choices = [L\"For all $x$\", L\"For all $x > 0$\", L\"For all $x$ where $\\sin(x) > 0$\"]\nans = 3\nradioq(choices, ans, keep_order=true)"
      ],
      "metadata": {},
      "execution_count": null
    },
    {
      "cell_type": "markdown",
      "source": [
        "###### Question\n\nThe composition $f\\circ g$ will be continuous everywhere provided:"
      ],
      "metadata": {}
    },
    {
      "outputs": [],
      "cell_type": "code",
      "source": [
        "choices = [\nL\"The function $g$ is continuous everywhere\",\nL\"The function $f$ is continuous everywhere\",\nL\"The function $g$ is continuous everywhere and $f$ is continuous on the range of $g$\",\nL\"The function $f$ is continuous everywhere and $g$ is continuous on the range of $f$\"]\nans = 3\nradioq(choices, ans, keep_order=true)"
      ],
      "metadata": {},
      "execution_count": null
    },
    {
      "cell_type": "markdown",
      "source": [
        "######  Question\n\nAt which values is $f(x) = 1/\\sqrt{x-2}$ not continuous?"
      ],
      "metadata": {}
    },
    {
      "outputs": [],
      "cell_type": "code",
      "source": [
        "choices=[\nL\"When $x > 2$\",\nL\"When $x \\geq 2$\",\nL\"When $x \\leq 2$\",\nL\"For $x \\geq 0$\"]\nans = 3\nradioq(choices, ans)"
      ],
      "metadata": {},
      "execution_count": null
    },
    {
      "cell_type": "markdown",
      "source": [
        "###### Question\n\nA value $x=c$ is a *removable singularity* for $f(x)$ if $f(x)$ is not\ncontinuous at $c$ but will be if $f(c)$ is redefined to be $\\lim_{x\n\\rightarrow c} f(x)$.\n\n\nThe function $f(x) = (x^2 - 4)/(x-2)$ has a removable singularity at\n$x=2$. What value would we redefine $f(2)$ to be, to make $f$ a\ncontinuous function?"
      ],
      "metadata": {}
    },
    {
      "outputs": [],
      "cell_type": "code",
      "source": [
        "f(x) = (x^2 -4)/(x-2);\nnumericq(f(2.00001), .001)"
      ],
      "metadata": {},
      "execution_count": null
    },
    {
      "cell_type": "markdown",
      "source": [
        "###### Question\n\nThe highly oscillatory function\n\n$$~\nf(x) = x^2 (\\cos(1/x) - 1)\n~$$\n\nhas a removable singularity at $x=0$. What value would we redefine\n$f(0)$ to be, to make $f$ a continuous function?"
      ],
      "metadata": {}
    },
    {
      "outputs": [],
      "cell_type": "code",
      "source": [
        "numericq(0, .001)"
      ],
      "metadata": {},
      "execution_count": null
    },
    {
      "cell_type": "markdown",
      "source": [
        "###### Question\n\nLet $f(x)$ be defined by\n\n$$~\nf(x) = \\begin{cases}\nc + \\sin(2x - \\pi/2) & x > 0\\\\\n3x - 4 & x \\leq 0.\n\\end{cases}\n~$$\n\nWhat value of $c$ will make $f(x)$ continuous?"
      ],
      "metadata": {}
    },
    {
      "outputs": [],
      "cell_type": "code",
      "source": [
        "val = (3*0 - 4) - (sin(2*0 - pi/2))\nnumericq(val)"
      ],
      "metadata": {},
      "execution_count": null
    },
    {
      "cell_type": "markdown",
      "source": [
        "###### Question\n\nSuppose $f(x)$, $g(x)$, and $h(x)$ are continuous functions on $(a,b)$. If $a < c < b$, are you sure that $lim_{x \\rightarrow c} f(g(x))$ is $f(g(c))$?"
      ],
      "metadata": {}
    },
    {
      "outputs": [],
      "cell_type": "code",
      "source": [
        "choices = [L\"No, as $g(c)$ may not be in the interval $(a,b)$\",\n\"Yes, composition of continuous functions results in a continous function, so the limit is just the function value.\"\n]\nans=1\nradioq(choices, ans)"
      ],
      "metadata": {},
      "execution_count": null
    },
    {
      "cell_type": "markdown",
      "source": [
        "###### Question\n\nConsider the function $f(x)$ given by the following graph"
      ],
      "metadata": {}
    },
    {
      "outputs": [],
      "cell_type": "code",
      "source": [
        "xs = range(0, stop=2, length=50)\nplot(xs, [sqrt(1 - (x-1)^2) for x in xs], legend=false, xlims=(0,4))\nplot!([2,3], [1,0])\nscatter!([3],[0], markersize=5)\nplot!([3,4],[1,0])\nscatter!([4],[0], markersize=5)"
      ],
      "metadata": {},
      "execution_count": null
    },
    {
      "cell_type": "markdown",
      "source": [
        "The function $f(x)$ is continous at $x=1$?"
      ],
      "metadata": {}
    },
    {
      "outputs": [],
      "cell_type": "code",
      "source": [
        "yesnoq(true)"
      ],
      "metadata": {},
      "execution_count": null
    },
    {
      "cell_type": "markdown",
      "source": [
        "The function $f(x)$ is continous at $x=2$?"
      ],
      "metadata": {}
    },
    {
      "outputs": [],
      "cell_type": "code",
      "source": [
        "yesnoq(false)"
      ],
      "metadata": {},
      "execution_count": null
    },
    {
      "cell_type": "markdown",
      "source": [
        "The function $f(x)$ is right continous at $x=3$?"
      ],
      "metadata": {}
    },
    {
      "outputs": [],
      "cell_type": "code",
      "source": [
        "yesnoq(false)"
      ],
      "metadata": {},
      "execution_count": null
    },
    {
      "cell_type": "markdown",
      "source": [
        "The function $f(x)$ is left continous at $x=4$?"
      ],
      "metadata": {}
    },
    {
      "outputs": [],
      "cell_type": "code",
      "source": [
        "yesnoq(true)"
      ],
      "metadata": {},
      "execution_count": null
    },
    {
      "cell_type": "markdown",
      "source": [
        "###### Question\n\nLet $f(x)$ and $g(x)$ be continuous functions whose graph of $[0,1]$ is given by:"
      ],
      "metadata": {}
    },
    {
      "outputs": [],
      "cell_type": "code",
      "source": [
        "plot(xs, [sin.(2pi*xs) cos.(2pi*xs)], layout=2, title=[\"f\" \"g\"], legend=false)"
      ],
      "metadata": {},
      "execution_count": null
    },
    {
      "cell_type": "markdown",
      "source": [
        "What is $\\lim_{x \\rightarrow 0.25} f(g(x))$?"
      ],
      "metadata": {}
    },
    {
      "outputs": [],
      "cell_type": "code",
      "source": [
        "val = sin(2pi * cos(2pi * 1/4))\nnumericq(val)"
      ],
      "metadata": {},
      "execution_count": null
    },
    {
      "cell_type": "markdown",
      "source": [
        "What is $\\lim{x \\rightarrow 0.25} g(f(x))$?"
      ],
      "metadata": {}
    },
    {
      "outputs": [],
      "cell_type": "code",
      "source": [
        "val = cos(2pi * sin(2pi * 1/4))\nnumericq(val)"
      ],
      "metadata": {},
      "execution_count": null
    },
    {
      "cell_type": "markdown",
      "source": [
        "What is $\\lim_{x \\rightarrow 0.5} f(g(x))$?"
      ],
      "metadata": {}
    },
    {
      "outputs": [],
      "cell_type": "code",
      "source": [
        "choices = [\"Can't tell\",\nL\"-1.0\",\nL\"0.0\"\n]\nans = 1\nradioq(choices, ans)"
      ],
      "metadata": {},
      "execution_count": null
    }
  ],
  "nbformat_minor": 2,
  "metadata": {
    "language_info": {
      "file_extension": ".jl",
      "mimetype": "application/julia",
      "name": "julia",
      "version": "1.5.0"
    },
    "kernelspec": {
      "name": "julia-1.5",
      "display_name": "Julia 1.5.0",
      "language": "julia"
    }
  },
  "nbformat": 4
}
