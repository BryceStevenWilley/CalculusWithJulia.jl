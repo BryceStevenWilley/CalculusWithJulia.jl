{
  "cells": [
    {
      "cell_type": "markdown",
      "source": [
        "# Implications of continuity"
      ],
      "metadata": {}
    },
    {
      "outputs": [],
      "cell_type": "code",
      "source": [
        "using CalculusWithJulia\nusing CalculusWithJulia.WeaveSupport\nusing Plots\nnothing"
      ],
      "metadata": {},
      "execution_count": null
    },
    {
      "cell_type": "markdown",
      "source": [
        "Continuity for functions is a valued property which carries\nimplications. In this section we discuss two: the intermediate value\ntheorem and the extreme value theorem. These two theorems speak to\nsome fundamental applications of calculus: finding zeros of a function and finding\nextrema of a function.\n\n## Intermediate Value Theorem\n\n> The *intermediate value theorem*: If $f$ is continuous on $[a,b]$\n>  with, say, $f(a) < f(b)$, then for any $y$ with $f(a) < y < f(b)$\n>  there exists a $c$ in $[a,b]$ with $f(c) = y$."
      ],
      "metadata": {}
    },
    {
      "outputs": [],
      "cell_type": "code",
      "source": [
        "### {{{IVT}}}\npyplot()\nfig_size=(400, 400)\n\n\n\nfunction IVT_graph(n)\n    f(x) = sin(pi*x) + 9x/10\n    a,b = [0,3]\n\n    xs = range(a,stop=b, length=50)\n\n\n    ## cheat -- pick an x, then find a y\n    Δ = .2\n    x = range(a + Δ, stop=b - Δ, length=6)[n]\n    y = f(x)\n\n    plt = plot(f, a, b, legend=false, size=fig_size)\n    plot!(plt, [0,x,x], [f(x),f(x),0], color=:orange, linewidth=3)\n\n    plot\n\nend\n\nn = 6\nanim = @animate for i=1:n\n    IVT_graph(i)\nend\n\nimgfile = tempname() * \".gif\"\ngif(anim, imgfile, fps = 1)\n\n\ncaption = L\"\"\"\n\nIllustration of intermediate value theorem. The theorem implies that any randomly chosen $y$\nvalue between $f(a)$ and $f(b)$ will have  at least one $x$ in $[a,b]$\nwith $f(x)=y$.\n\n\"\"\"\n\nplotly()\nImageFile(imgfile, caption)"
      ],
      "metadata": {},
      "execution_count": null
    },
    {
      "cell_type": "markdown",
      "source": [
        "In the early years of calculus, the intermediate value theorem was\nintricately connected with the definition of continuity, now it is a\nconsequence.\n\nThe basic proof starts with a set of points in $[a,b]$: $C = \\{x\n\\text{ in } [a,b] \\text{ with } f(x) \\leq y\\}$. The set is not empty\n(as $a$ is in $C$) so it *must* have a largest value, call it $c$\n(this requires the completeness property of the real numbers).  By\ncontinuity of $f$, it can be shown that $\\lim_{x \\rightarrow c-} f(x)\n= f(c) \\leq y$ and $\\lim_{y \\rightarrow c+}f(x) =f(c) \\geq y$, which\nforces $f(c) = y$.\n\n\n### Bolzano and the bisection method\n\nSuppose we have a continuous function $f(x)$ on $[a,b]$ with $f(a) <\n0$ and $f(b) > 0$. Then as $f(a) < 0 < f(b)$, the intermediate value\ntheorem guarantees the existence of a $c$ in $[a,b]$ with $f(c) =\n0$. This was a special case of the intermediate value theorem proved\nby Bolzano first. Such $c$ are called *zeros* of the function $f$.\n\nWe use this fact when a building a \"sign chart\" of a continous function.\nBetween any two consecutive zeros the function can not\nchange sign. (Why?) So a \"test point\" can be used to determine the\nsign of the function over an entire interval.\n\n\nHere, we use the Bolzano theorem to give an algorithm - the *bisection method* - to locate the value $c$ under the assumption $f$ is continous on $[a,b]$ and changes sign between $a$ and $b$."
      ],
      "metadata": {}
    },
    {
      "outputs": [],
      "cell_type": "code",
      "source": [
        "## {{{bisection_graph}}}\npyplot()\nfunction bisecting_graph(n)\n    f(x) = x^2 - 2\n    a,b = [0,2]\n\n    err = 2.0^(1-n)\n    title = \"b - a = $err\"\n    xs = range(a, stop=b, length=100)\n    plt = plot(f, a, b, legend=false, size=fig_size, title=title)\n\n    if n >= 1\n        for i in 1:n\n            c = (a+b)/2\n            if f(a) * f(c) < 0\n                a,b=a,c\n            else\n                a,b=c,b\n            end\n        end\n    end\n    plot!(plt, [a,b],[0,0], color=:orange, linewidth=3)\n    scatter!(plt, [a,b], [f(a), f(b)], color=:orange, markersize=5, markershape=:circle)\n\n    plt\n\nend\n\n\nn = 9\nanim = @animate for i=1:n\n    bisecting_graph(i-1)\nend\n\nimgfile = tempname() * \".gif\"\ngif(anim, imgfile, fps = 1)\n\n\ncaption = L\"\"\"\n\nIllustration of the bisection method to find a zero of a function. At\neach step the interval has $f(a)$ and $f(b)$ having opposite signs so\nthat the intermediate value theorem guaratees a zero.\n\n\"\"\"\n\nplotly()\nImageFile(imgfile, caption)"
      ],
      "metadata": {},
      "execution_count": null
    },
    {
      "cell_type": "markdown",
      "source": [
        "Call $[a,b]$ a *bracketing* interval if $f(a)$ and $f(b)$ have different signs.\nWe remark that having different signs can be expressed mathematically as $f(a) \\cdot f(b) < 0$.\n\nWe can narrow down where a zero is in $[a,b]$ by following this recipe:\n\n* Pick a midpoint of the interval, for concreteness $c = (a+b)/2$.\n\n* If $f(c) = 0$ we are done, having found a zero in $[a,b]$.\n\n* Otherwise if must be that either $f(a)\\cdot f(c) < 0$ or $f(c) \\cdot f(b) < 0$. If $f(a) \\cdot f(c) < 0$, then let $b=c$ and repeat the above. Otherwise, let $a=c$ and repeat the above.\n\nAt each step the bracketing interval is narrowed, indeed split in half\nas defined, or a zero is found.\n\nFor the real numbers this algorithm never stops unless a zero is\nfound. A \"limiting\" process is used to say that if it doesn't stop, it\nwill converge to some value.\n\nHowever, using floating point numbers leads to differences from the\nreal-number situation. In this case, due to the ultimate granularity of the\napproximation of floating point values to the real numbers, the\nbracketing interval eventually can't be subdivided, that is no $c$ is found over\nthe floating point numbers with $a < c < b$. So there is a natural\nstopping criteria: stop when there is an exact zero, or when the\nbracketing interval gets too small.\n\nWe can write a relatively simple program to implement this algorithm:"
      ],
      "metadata": {}
    },
    {
      "outputs": [],
      "cell_type": "code",
      "source": [
        "function bisection(f, a, b)\n  if f(a) == 0 return(a) end\n  if f(b) == 0 return(b) end\n  if f(a) * f(b) > 0 error(\"[a,b] is not a bracketing interval\") end\n\n  tol = 1e-14  # small number (but should depend on size of a, b)\n  c = a/2 + b/2\n\n  while abs(b-a) > tol\n    if f(c) == 0 return(c) end\n\n    if f(a) * f(c) < 0\n       a, b = a, c\n    else\n       a, b = c, b\n    end\n\n    c = a/2 + b/2\n\n  end\n  c\nend"
      ],
      "metadata": {},
      "execution_count": null
    },
    {
      "cell_type": "markdown",
      "source": [
        "This function uses a `while` loop to repeat the process of subdividing\n$[a,b]$. A `while` loop will repeat until the condition is no longer `true`.\nThe above will stop for reasonably sized floating point values (within $(-100, 100)$, say).\nThe value $c$ returned *need not* be an exact zero. Let's see:"
      ],
      "metadata": {}
    },
    {
      "outputs": [],
      "cell_type": "code",
      "source": [
        "c = bisection(sin, 3, 4)"
      ],
      "metadata": {},
      "execution_count": null
    },
    {
      "cell_type": "markdown",
      "source": [
        "This value of $c$ is a floating-point approximation to $\\pi$, but is not *quite* a zero:"
      ],
      "metadata": {}
    },
    {
      "outputs": [],
      "cell_type": "code",
      "source": [
        "sin(c)"
      ],
      "metadata": {},
      "execution_count": null
    },
    {
      "cell_type": "markdown",
      "source": [
        "(Even `pi` itself is not a \"zero\" due to floating point issues.)\n\n\n### The `find_zero` function.\n\nThe `Roots` package has a function `find_zero` that implements the\nbisection method when called as `find_zero(f, (a, b))` where $[a,b]$\nis a bracket. Its use is similar to `bisection` above. This package is loaded when `CalculusWithJulia` is. We illlustrate the usage of `find_zero`\nin the following:"
      ],
      "metadata": {}
    },
    {
      "outputs": [],
      "cell_type": "code",
      "source": [
        "using CalculusWithJulia  # loads `Roots`\nusing Plots\nfind_zero(sin, (3, 4))   # use a tuple, (a, b), to specify the bracketing interval"
      ],
      "metadata": {},
      "execution_count": null
    },
    {
      "outputs": [],
      "cell_type": "code",
      "source": [
        "alert(\"\"\"\nNotice, the call `find_zero(sin, (3,4))` again fits the template `action(function, args...)` that we see repeatedly. The `find_zero` function can also be called through `fzero`.\n\"\"\")"
      ],
      "metadata": {},
      "execution_count": null
    },
    {
      "cell_type": "markdown",
      "source": [
        "This function utilizes some facts about floating point values to\nguarantee that the answer will be a zero or the product of the\nfunction value at the floating point values just to the left and right\nwill be negative. No specification of a tolerance is needed.\n\n\n\n##### Example\n\nThe polynomial $f(x) = x^5 - x + 1$ has a zero between $-2$ and $-1$. Find it."
      ],
      "metadata": {}
    },
    {
      "outputs": [],
      "cell_type": "code",
      "source": [
        "f(x) = x^5 - x + 1\nc = find_zero(f, (-2, -1))\n(c, f(c))"
      ],
      "metadata": {},
      "execution_count": null
    },
    {
      "cell_type": "markdown",
      "source": [
        "We see, as before, that $f(c)$ is not quite $0$. (But you can check that `f(prevfloat(c))` is negative, while `f(c)` is seen to be positive.)\n\n\n##### Example\n\nThe function $f(x) = e^x - x^4$ has a zero between $5$ and $10$, as this graph shows:"
      ],
      "metadata": {}
    },
    {
      "outputs": [],
      "cell_type": "code",
      "source": [
        "f(x) = exp(x) - x^4\nplot(f, 5, 10)"
      ],
      "metadata": {},
      "execution_count": null
    },
    {
      "cell_type": "markdown",
      "source": [
        "Find the zero numerically. The plot shows $f(5) < 0 < f(10)$, so $[5,10]$ is a bracket. We thus have:"
      ],
      "metadata": {}
    },
    {
      "outputs": [],
      "cell_type": "code",
      "source": [
        "find_zero(f, (5, 10))"
      ],
      "metadata": {},
      "execution_count": null
    },
    {
      "cell_type": "markdown",
      "source": [
        "##### Example\n\nFind all real zeros of $f(x) = x^3 -x + 1$ using the bisection method.\n\nA plot will show us a bracketing interval:"
      ],
      "metadata": {}
    },
    {
      "outputs": [],
      "cell_type": "code",
      "source": [
        "f(x) = x^3 - x + 1\nplot(f, -3, 3)"
      ],
      "metadata": {},
      "execution_count": null
    },
    {
      "cell_type": "markdown",
      "source": [
        "It appears (and a plot over $[0,1]$ verifies) that there is one zero between $-2$ and $-1$. It is found with:"
      ],
      "metadata": {}
    },
    {
      "outputs": [],
      "cell_type": "code",
      "source": [
        "find_zero(f, (-2, -1))"
      ],
      "metadata": {},
      "execution_count": null
    },
    {
      "cell_type": "markdown",
      "source": [
        "##### Example\n\nThe equation $\\cos(x) = x$ has just one solution, as can be seen in this plot:"
      ],
      "metadata": {}
    },
    {
      "outputs": [],
      "cell_type": "code",
      "source": [
        "f(x) = cos(x)\ng(x) = x\nplot(f, -pi, pi)\nplot!(g)"
      ],
      "metadata": {},
      "execution_count": null
    },
    {
      "cell_type": "markdown",
      "source": [
        "Find it.\n\nWe see from the graph that it is clearly between $0$ and $2$, so all we need is a function. (We have two.) The trick is to observe that solving $f(x) = g(x)$ is the same problem as solving for $x$ where $f(x) - g(x) = 0$. So we define the difference and use that:"
      ],
      "metadata": {}
    },
    {
      "outputs": [],
      "cell_type": "code",
      "source": [
        "h(x) = f(x) - g(x)\nfind_zero(h, (0, 2))"
      ],
      "metadata": {},
      "execution_count": null
    },
    {
      "cell_type": "markdown",
      "source": [
        "##### Example\n\nWe wish to compare two trash collection plans\n\n* Plan 1: You pay 47.49 plus 0.77 per bag.\n\n* Plan 2: You pay 30.00 plus 2.00 per bag.\n\nThere are some cases where plan 1 is cheaper and some where plan 2 is. Categorize them.\n\n\nBoth plans are *linear models* and may be written in *slope-intercept* form:"
      ],
      "metadata": {}
    },
    {
      "outputs": [],
      "cell_type": "code",
      "source": [
        "plan1(x) = 47.49 + 0.77x\nplan2(x) = 30.00 + 2.00x"
      ],
      "metadata": {},
      "execution_count": null
    },
    {
      "cell_type": "markdown",
      "source": [
        "Assuming this is a realistic problem and an average American household\nmight produce 10-20 bags of trash a month (yes, that seems too much!)\nwe plot in that range:"
      ],
      "metadata": {}
    },
    {
      "outputs": [],
      "cell_type": "code",
      "source": [
        "plot(plan1, 10, 20)\nplot!(plan2)"
      ],
      "metadata": {},
      "execution_count": null
    },
    {
      "cell_type": "markdown",
      "source": [
        "We can see the intersection point is around 14 and that if a family\ngenerates between 0-14 bags of trash per month that plan 2 would be\ncheaper.\n\nLet's get a numeric value, using a simple bracket and an anonymous function:"
      ],
      "metadata": {}
    },
    {
      "outputs": [],
      "cell_type": "code",
      "source": [
        "find_zero(x -> plan1(x) - plan2(x), (10, 20))"
      ],
      "metadata": {},
      "execution_count": null
    },
    {
      "cell_type": "markdown",
      "source": [
        "##### Example, the flight of an arrow\n\nThe flight of an arrow can be modeled using various functions,\ndepending on assumptions. Suppose an arrow is launched in the air from\na height of 0 feet above the ground at an angle of $\\theta =\n\\pi/4$. With a suitable choice for the initial velocity, a model\nwithout wind resistance for the height of the arrow at a distance $x$\nunits away may be:\n\n$$~\nj(x) = \\tan(\\theta) x - (1//2) \\cdot g(\\frac{x}{v_0 \\cos\\theta})^2.\n~$$\n\nIn `julia` we have, taking $v_0=200$:"
      ],
      "metadata": {}
    },
    {
      "outputs": [],
      "cell_type": "code",
      "source": [
        "j(x; theta=pi/4, g=32, v0=200) = tan(theta)*x - (1/2)*g*(x/(v0*cos(theta)))^2"
      ],
      "metadata": {},
      "execution_count": null
    },
    {
      "cell_type": "markdown",
      "source": [
        "With a velocity-dependent wind resistance given by $\\gamma$, again with some units, a similar\nequation can be constructed. It takes a different form:\n\n$$~\ny(x) = (\\frac{g}{\\gamma v_0 \\cos(\\theta)} + \\tan(\\theta)) \\cdot x  +\n      \\frac{g}{\\gamma^2}\\log(\\frac{v_0\\cos(\\theta) - \\gamma x}{v_0\\cos(\\theta)})\n~$$\n\nAgain, $v_0$ is the initial velocity and is taken to be $200$\nand $\\gamma$ a resistance, which we take to be $1$. With this, we have\nthe following `julia` definition (with a slight reworking of $\\gamma$):"
      ],
      "metadata": {}
    },
    {
      "outputs": [],
      "cell_type": "code",
      "source": [
        "function y(x; theta=pi/4, g=32, v0=200, gamma=1)\n\t a = gamma * v0 * cos(theta)\n\t (g/a + tan(theta)) * x + g/gamma^2 * log((a-gamma^2 * x)/a)\nend"
      ],
      "metadata": {},
      "execution_count": null
    },
    {
      "cell_type": "markdown",
      "source": [
        "For each model, we wish to find the value of $x$ after launching where\nthe height is modeled to be 0. That is how far will the arrow travel\nbefore touching the ground?\n\n\nFor the model without wind resistance, we can graph the function\neasily enough. Let's guess the distance is no more than 500 feet:"
      ],
      "metadata": {}
    },
    {
      "outputs": [],
      "cell_type": "code",
      "source": [
        "plot(j, 0, 500)"
      ],
      "metadata": {},
      "execution_count": null
    },
    {
      "cell_type": "markdown",
      "source": [
        "Well, we haven't even seen the peak yet. Better to do a little spade\nwork first. This is a quadratic function, so we can use `roots` from `SymPy` to find the roots:"
      ],
      "metadata": {}
    },
    {
      "outputs": [],
      "cell_type": "code",
      "source": [
        "@vars x\nroots(j(x))"
      ],
      "metadata": {},
      "execution_count": null
    },
    {
      "cell_type": "markdown",
      "source": [
        "We see that $1250$ is the largest root. So we plot over this domain to visualize the flight:"
      ],
      "metadata": {}
    },
    {
      "outputs": [],
      "cell_type": "code",
      "source": [
        "plot(j, 0, 1250)"
      ],
      "metadata": {},
      "execution_count": null
    },
    {
      "cell_type": "markdown",
      "source": [
        "As for the model with wind resistance,  a quick plot over the same interval, $[0, 1250]$ yields:"
      ],
      "metadata": {}
    },
    {
      "outputs": [],
      "cell_type": "code",
      "source": [
        "plot(y, 0, 1250)"
      ],
      "metadata": {},
      "execution_count": null
    },
    {
      "cell_type": "markdown",
      "source": [
        "Oh, \"Domain Error.\" Of course, when the argument to the logarithm is negative we will have issues.\nWe don't have the simplicity of using `poly_roots` to find out the answer, so we solve for when $a-\\gamma^2 x$ is $0$:"
      ],
      "metadata": {}
    },
    {
      "outputs": [],
      "cell_type": "code",
      "source": [
        "gamma = 1\na = 200 * cos(pi/4)\nb = a/gamma^2"
      ],
      "metadata": {},
      "execution_count": null
    },
    {
      "cell_type": "markdown",
      "source": [
        "We try on the reduced interval avoiding\nthe obvious *asymptote* at `b`  by subtracting $1$:"
      ],
      "metadata": {}
    },
    {
      "outputs": [],
      "cell_type": "code",
      "source": [
        "plot(y, 0, b - 1)"
      ],
      "metadata": {},
      "execution_count": null
    },
    {
      "cell_type": "markdown",
      "source": [
        "Now we can see the zero is around 140. A simple bracket will be $[b/2, b-1]$, so we cam solve:"
      ],
      "metadata": {}
    },
    {
      "outputs": [],
      "cell_type": "code",
      "source": [
        "x1 = find_zero(y, (b/2, b-1/10))"
      ],
      "metadata": {},
      "execution_count": null
    },
    {
      "cell_type": "markdown",
      "source": [
        "The answer is approximately $140.7$\n\n\nFinally, we plot both graphs at once to see that it was a very windy\nday indeed."
      ],
      "metadata": {}
    },
    {
      "outputs": [],
      "cell_type": "code",
      "source": [
        "plot(j, 0, 1250)\nplot!(y, 0, x1)"
      ],
      "metadata": {},
      "execution_count": null
    },
    {
      "cell_type": "markdown",
      "source": [
        "##### Example: bisection and non-continuity\n\nThe Bolzano theorem assumes a continuous function $f$, and when\napplicable, yields an algorithm to find a guaranteed zero. However,\nthe algorithm itself does not know that the function is continuous or\nnot, only that the function changes sign. As such, it can produce\nanswers that are not \"zeros\" when used with discontinuous\nfunctions. However, this can still be fruitful, as the algorithm will\nyield information about crossing values of $0$, possibly at\ndiscontinuities.\n\nFor example, let $f(x) = 1/x$. Clearly the interval $[-1,1]$ is a\n\"bracketing\" interval as $f(x)$ changes sign between $a$ and $b$. What\ndoes the algorithm yield:"
      ],
      "metadata": {}
    },
    {
      "outputs": [],
      "cell_type": "code",
      "source": [
        "f(x) = 1/x\nx0 = find_zero(f, (-1, 1))"
      ],
      "metadata": {},
      "execution_count": null
    },
    {
      "cell_type": "markdown",
      "source": [
        "The function is not defined at the answer, but we do have the fact\nthat just to the left of the answer (`prevfloat`) and just to the\nright of the answer (`nextfloat`) the function changes sign:"
      ],
      "metadata": {}
    },
    {
      "outputs": [],
      "cell_type": "code",
      "source": [
        "sign(f(prevfloat(x0))), sign(f(nextfloat(x0)))"
      ],
      "metadata": {},
      "execution_count": null
    },
    {
      "cell_type": "markdown",
      "source": [
        "So, the \"bisection method\" applied here finds a point where the function crosses\n$0$, either by continuity or by jumping over the $0$.  (A `jump`\ndiscontinuity at $x=c$ is defined by the left and right limits of $f$\nat $c$ existing but being unequal. The algorithm can find $c$ when\nthis type of function jumps over $0$.)\n\n\n### The `find_zeros` function\n\nThe bisection method suggests a naive means to search for all zeros within\nan interval $(a, b)$: split the interval into many small intervals and for each that is a\nbracketing interval find a zero. This simple description has three\nflaws: it might miss values where the function doesn't't actually\ncross the $x$ axis; it might miss values where the function just dips\nto the other side; and it might miss multiple values in the same small\ninterval.\n\nStill, with some engineering, this can be a useful approach, save the\ncaveats. This idea is implemented in the `find_zeros` function of the `Roots` package. The function is\ncalled via `find_zeros(f, a, b)` but here the interval\n$[a,b]$ is not necessarily a bracketing interval.\n\nTo see, we have:"
      ],
      "metadata": {}
    },
    {
      "outputs": [],
      "cell_type": "code",
      "source": [
        "f(x) = cos(10*pi*x)\nfind_zeros(f, 0, 1)"
      ],
      "metadata": {},
      "execution_count": null
    },
    {
      "cell_type": "markdown",
      "source": [
        "Or for a polynomial:"
      ],
      "metadata": {}
    },
    {
      "outputs": [],
      "cell_type": "code",
      "source": [
        "f(x) = x^5 - x^4 + x^3 - x^2 + 1\nfind_zeros(f, -10, 10)"
      ],
      "metadata": {},
      "execution_count": null
    },
    {
      "cell_type": "markdown",
      "source": [
        "(Here $-10$ and $10$ were arbitrarily chosen. Cauchy's method could be used to be more systematic.)\n\n\n##### Solving f(x) = g(x)\n\nUse `find_zeros` to find when $e^x = x^5$ in the interval $[-20, 20]$. Verify the answers.\n\nTo proceed with `find_zeros`, we define $f(x) = e^x - x^5$, as $f(x) = 0$ precisely when $e^x = x^5$.\nThe zeros are then found with:"
      ],
      "metadata": {}
    },
    {
      "outputs": [],
      "cell_type": "code",
      "source": [
        "f(x) = exp(x) - x^5\nzs = find_zeros(f, -20, 20)"
      ],
      "metadata": {},
      "execution_count": null
    },
    {
      "cell_type": "markdown",
      "source": [
        "The output of `find_zeros` is a vector of values. To check that each value\nis an approximate zero can be done with the \".\" (broadcast) syntax:"
      ],
      "metadata": {}
    },
    {
      "outputs": [],
      "cell_type": "code",
      "source": [
        "f.(zs)"
      ],
      "metadata": {},
      "execution_count": null
    },
    {
      "cell_type": "markdown",
      "source": [
        "(For a continuous function this should be the case that the values\nreturned by `find_zeros` are approximate zeros. Bear in mind that if $f$ is not\ncontinous the algorithm might find jumping points that are not zeros and may not even be in the domain of the function.)\n\n\n## Extreme value theorem\n\nThe Extreme Value Theorem is another consequence of continuity.\n\nTo discuss the extreme value theorem, we define an *absolute maximum*\nof $f(x)$ over an interval $I$ to be a value $f(c)$, $c$ in $I$, where\n$f(x) \\leq f(c)$ for any $x$ in $I$. Similarly, an *absolute minimum* of\n$f(x)$ over an interval $I$ can be defined.\n\nThis chart of the [Hardrock 100](http://hardrock100.com/) illustrates the two concepts."
      ],
      "metadata": {}
    },
    {
      "outputs": [],
      "cell_type": "code",
      "source": [
        "###{{{hardrock_profile}}}\nimgfile = \"figures/hardrock-100.png\"\nhardrock_profile =  gif_to_data(imgfile, \"\"\"\nElevation profile of the  Hardrock 100 ultramarathon. Treating the profile as a function, the absolute maximum is just about 14,000 feet and the absolute minimum about 7600 feet. These are of interest to the runner for different reasons. Also of interest would be each local maxima and local minima - the peaks and valleys of the graph - and the total elevation climbed - the latter so important/unforgettable its value makes it into the chart's title.\n                             \"\"\")\n\nImageFile(imgfile, caption)"
      ],
      "metadata": {},
      "execution_count": null
    },
    {
      "cell_type": "markdown",
      "source": [
        "The extreme value theorem discusses an assumption that ensures such\nabsolute maximum and absolute minimum values exist.\n\n> The *extreme value theorem*: If $f(x)$ is continuous over a closed\n>  interval $[a,b]$ then $f$ has an absolute maximum and an absolute\n>  minimum over $[a,b]$.\n\n(By continuous over $[a,b]$ we mean continuous on $(a,b)$ and right\ncontinuous at $a$ and left continuous at $b$.)\n\nThe assumption that $[a,b]$ includes its endpoints (it is closed)  is crucial to make a\nguarantee. There are functions which are continuous on open intervals\nfor which this result is not true. For example, $f(x) = 1/x$ on $(0,1)$. This\nfunction will have no smallest value or largest value, as defined above.\n\nThe extreme value theorem is an important theoretical tool for\ninvestigating maxima and minima of functions.\n\n\n##### Example\n\nThe function $f(x) = \\sqrt{1-x^2}$ is continuous on the interval\n$[-1,1]$ (in the sense above). It then has an absolute maximum, we can\nsee to be $1$ occurring at an interior point $0$. The absolute minimum\nis $0$, it occurs at each endpoint.\n\n##### Example\n\nThe function $f(x) = x \\cdot e^{-x}$ on the closed interval $[0, 5]$ is continuous. Hence it has an absolute maximum, which a graph shows to be $0.4$. It has an absolute minimum, clearly the value $0$ occurring at the endpoint."
      ],
      "metadata": {}
    },
    {
      "outputs": [],
      "cell_type": "code",
      "source": [
        "f(x) = x * exp(-x)\nplot(f, 0, 5)"
      ],
      "metadata": {},
      "execution_count": null
    },
    {
      "cell_type": "markdown",
      "source": [
        "##### Example\n\nThe tangent function does not have a *guarantee* of absolute maximum\nor minimum over $(-\\pi/2, \\pi/2)$, as it is not *continuous* at the\nendpoints. In fact, it doesn't have either extrema - it has vertical asymptotes at each.\n\n\n##### Example\n\nThe function $f(x) = x^{2/3}$ over the interval $[-2,2]$ has cusp at $0$. However, it is continuous on this closed interval, so must have an absolute maximum and absolute minimum. They can be seen from the graph to occur at the endpoints and the cusp at $x=0$, respectively:"
      ],
      "metadata": {}
    },
    {
      "outputs": [],
      "cell_type": "code",
      "source": [
        "f(x) = (x^2)^(1/3)\nplot(f, -2, 2)"
      ],
      "metadata": {},
      "execution_count": null
    },
    {
      "cell_type": "markdown",
      "source": [
        "(The definition `x^(2/3)` fails, can you see why?)\n\n\n##### Example\n\nA New York Times [article](https://www.nytimes.com/2016/07/30/world/europe/norway-considers-a-birthday-gift-for-finland-the-peak-of-an-arctic-mountain.html) discusses an idea of Norway moving its border some 490 feet north and 650 feet east in order to have the peak of Mount Halti be the highest point in Finland, as currently it would be on the boundary. Mathematically this hints at a higher dimensional version of the extreme value theorem.\n\n## Questions\n\n\n###### Question\n\nThere is negative zero in the interval $[-10, 0]$ for the function\n$f(x) = e^x - x^4$. Find its value numerically:"
      ],
      "metadata": {}
    },
    {
      "outputs": [],
      "cell_type": "code",
      "source": [
        "f(x) = exp(x) - x^4\nval = find_zero(f, (-10, 0));\nnumericq(val, 1e-3)"
      ],
      "metadata": {},
      "execution_count": null
    },
    {
      "cell_type": "markdown",
      "source": [
        "###### Question\n\nThere is  zero in the interval $[0, 5]$ for the function\n$f(x) = e^x - x^4$. Find its value numerically:"
      ],
      "metadata": {}
    },
    {
      "outputs": [],
      "cell_type": "code",
      "source": [
        "f(x) = exp(x) - x^4\nval = find_zero(f, (0, 5));\nnumericq(val, 1e-3)"
      ],
      "metadata": {},
      "execution_count": null
    },
    {
      "cell_type": "markdown",
      "source": [
        "###### Question\n\nLet $f(x) = x^2 - 10 \\cdot x \\cdot \\log(x)$. This function has two\nzeros on the positive $x$ axis. You are asked to find the largest\n(graph and bracket...)."
      ],
      "metadata": {}
    },
    {
      "outputs": [],
      "cell_type": "code",
      "source": [
        "b = 10\nf(x) =  x^2 - b * x * log(x)\nval = find_zero(f, (10, 500))\nnumericq(val, 1e-3)"
      ],
      "metadata": {},
      "execution_count": null
    },
    {
      "cell_type": "markdown",
      "source": [
        "###### Question\n\nThe `airyai` function has infinitely many negative roots, as the\nfunction oscillates when $x < 0$ and *no* positive roots. Find the\n*second largest root* using the graph to bracket the answer, and then\nsolve."
      ],
      "metadata": {}
    },
    {
      "outputs": [],
      "cell_type": "code",
      "source": [
        "plot(airyai, -10, 10)   # `airyai` loaded in `SpecialFunctions` by `CalculusWithJulia`"
      ],
      "metadata": {},
      "execution_count": null
    },
    {
      "cell_type": "markdown",
      "source": [
        "The second largest root is:"
      ],
      "metadata": {}
    },
    {
      "outputs": [],
      "cell_type": "code",
      "source": [
        "val = find_zero(airyai, (-5, -4));\nnumericq(val, 1e-8)"
      ],
      "metadata": {},
      "execution_count": null
    },
    {
      "cell_type": "markdown",
      "source": [
        "###### Question\n\n(From [Strang](http://ocw.mit.edu/ans7870/resources/Strang/Edited/Calculus/Calculus.pdf), p. 37)\n\nCertainly $x^3$ equals $3^x$ at $x=3$. Find the largest value for which $x^3 = 3x$."
      ],
      "metadata": {}
    },
    {
      "outputs": [],
      "cell_type": "code",
      "source": [
        "val = maximum(find_zeros(x -> x^3 - 3^x, 0, 20))\nnumericq(val)"
      ],
      "metadata": {},
      "execution_count": null
    },
    {
      "cell_type": "markdown",
      "source": [
        "Compare $x^2$ and $2^x$. They meet at $2$, where do the meet again?"
      ],
      "metadata": {}
    },
    {
      "outputs": [],
      "cell_type": "code",
      "source": [
        "choices = [\"Only before 2\", \"Only after 2\", \"Before and after 2\"]\nans = 3\nradioq(choices, ans)"
      ],
      "metadata": {},
      "execution_count": null
    },
    {
      "cell_type": "markdown",
      "source": [
        "Just by graphing, find a number in $b$ with $2 < b < 3$ where for\nvalues less than $b$ there is a zero beyond $b$ of $b^x - x^b$ and for values more than $b$ there isn't."
      ],
      "metadata": {}
    },
    {
      "outputs": [],
      "cell_type": "code",
      "source": [
        "choices=[\nL\"$b \\approx 2.2$\",\nL\"$b \\approx 2.5$\",\nL\"$b \\approx 2.7$\",\nL\"$b \\approx 2.9$\"]\nans = 3\nradioq(choices, ans)"
      ],
      "metadata": {},
      "execution_count": null
    },
    {
      "cell_type": "markdown",
      "source": [
        "###### Question <small>What goes up must come down...</small>"
      ],
      "metadata": {}
    },
    {
      "outputs": [],
      "cell_type": "code",
      "source": [
        "### {{{cannonball_img}}}\nimgfile = \"figures/cannonball.jpg\"\ncannonball_img = gif_to_data(imgfile, \"\"\"\nTrajectories of potential cannonball fires with air-resistance included. (http://ej.iop.org/images/0143-0807/33/1/149/Full/ejp405251f1_online.jpg)\n\"\"\")\nImageFile(imgfile, caption)"
      ],
      "metadata": {},
      "execution_count": null
    },
    {
      "cell_type": "markdown",
      "source": [
        "In 1638, according to Amir D. [Aczel](http://books.google.com/books?id=kvGt2OlUnQ4C&pg=PA28&lpg=PA28&dq=mersenne+cannon+ball+tests&source=bl&ots=wEUd7e0jFk&sig=LpFuPoUvODzJdaoug4CJsIGZZHw&hl=en&sa=X&ei=KUGcU6OAKJCfyASnioCoBA&ved=0CCEQ6AEwAA#v=onepage&q=mersenne%20cannon%20ball%20tests&f=false),\nan experiment was performed in the French Countryside. A monk, Marin\nMersenne, launched a cannonball straight up into the air in an attempt\nto help Descartes prove facts about the rotation of the earth. Though\nthe experiment was not successful, Mersenne later observed that the\ntime for the cannonball to go up was greater than the time to come\ndown. [\"Vertical Projection in a Resisting Medium: Reflections on Observations of Mersenne\".](http://www.maa.org/publications/periodicals/american-mathematical-monthly/american-mathematical-monthly-contents-junejuly-2014)\n\nThis isn't the case for simple ballistic motion where the time to go\nup is equal to the time to come down. We can \"prove\" this numerically. For simple ballistic\nmotion:\n\n$$~\nf(t) = -(1/2)\\cdot 32 t^2 + v_0t.\n~$$\n\nThe time to go up and down are found by\nthe two zeros of this function. The peak time is related to a zero of\na function given by `D(f)`, which for now we'll take as a mystery\nfunction, but later will be known as the derivative. Here is its definition:"
      ],
      "metadata": {}
    },
    {
      "outputs": [],
      "cell_type": "code",
      "source": [
        "using ForwardDiff\nD(f) = x -> ForwardDiff.derivative(f, x)"
      ],
      "metadata": {},
      "execution_count": null
    },
    {
      "cell_type": "markdown",
      "source": [
        "Let $v_0= 390$. The three times in question can be found from the zeros of `f` and `D(f)`. What are they?"
      ],
      "metadata": {}
    },
    {
      "outputs": [],
      "cell_type": "code",
      "source": [
        "choices = [L\"(0.0, 12.1875, 24.375)\",\n\tL\"(-4.9731, 0.0, 4.9731)\",\n\tL\"(0.0, 625.0, 1250.0)\"]\nans = 1\nradioq(choices, ans)"
      ],
      "metadata": {},
      "execution_count": null
    },
    {
      "cell_type": "markdown",
      "source": [
        "###### Question <small>What goes up must come down... (again)</small>\n\nFor simple ballistic motion you find that the time to go up is the\ntime to come down. For motion within a resistant medium, such as air,\nthis isn't the case. Suppose a model for the height as a function of time is given by\n\n$$~\nh(t) = (\\frac{g}{\\gamma^2} + \\frac{v_0}{\\gamma})(1 - e^{-\\gamma t}) - \\frac{gt}{\\gamma}\n~$$\n\n([From \"On the trajectories of projectiles depicted in early ballistic Woodcuts\"](http://www.researchgate.net/publication/230963032_On_the_trajectories_of_projectiles_depicted_in_early_ballistic_woodcuts))\n\nHere $g=32$, again we take $v_0=390$, and $\\gamma$ is a drag\ncoefficient that we will take to be $1$.  This is valid when $h(t)\n\\geq 0$.  In `Julia`, rather than hard-code the parameter values, for\nadded flexibility we can pass them in as keyword arguments:"
      ],
      "metadata": {}
    },
    {
      "outputs": [],
      "cell_type": "code",
      "source": [
        "h(t; g=32, v0=390, gamma=1) = (g/gamma^2 + v0/gamma)*(1 - exp(-gamma*t)) - g*t/gamma"
      ],
      "metadata": {},
      "execution_count": null
    },
    {
      "cell_type": "markdown",
      "source": [
        "Now find the three times: $t_0$, the starting time; $t_a$, the time at\nthe apex of the flight; and $t_f$, the time the object returns to the\nground."
      ],
      "metadata": {}
    },
    {
      "outputs": [],
      "cell_type": "code",
      "source": [
        "t0 = 0.0\ntf = find_zero(h, (10, 20))\nta = find_zero(D(h), (t0, tf))\nchoices = [L\"(0, 13.187, 30.0)\",\n\tL\"(0, 32.0, 390.0)\",\n\tL\"(0, 2.579, 13.187)\"]\nans = 3\nradioq(choices, ans)"
      ],
      "metadata": {},
      "execution_count": null
    },
    {
      "cell_type": "markdown",
      "source": [
        "###### Question\n\nPart of the proof of the intermediate value theorem rests on knowing what the limit is of $f(x)$ when $f(x) > y$ for all $x$. What can we say about $L$ supposing $L = \\lim_{x \\rightarrow c+}f(x)$ under  this assumption on $f$?"
      ],
      "metadata": {}
    },
    {
      "outputs": [],
      "cell_type": "code",
      "source": [
        "choices = [L\"It must be that $L > y$ as each $f(x)$ is.\",\nL\"It must be that $L \\geq y$\",\nL\"It can happen that $L < y$, $L=y$, or $L>y$\"]\nans = 2\nradioq(choices, 2, keep_order=true)"
      ],
      "metadata": {},
      "execution_count": null
    },
    {
      "cell_type": "markdown",
      "source": [
        "###### Question\n\nThe extreme value theorem has two assumptions: a continuous function\nand a *closed* interval. Which of the following examples fails to\nsatisfy the consequence of the  extreme value theorem because the interval is not closed?\n(The consequence - the existence of an absolute maximum and minimum - can happen even if the theorem does not apply.)"
      ],
      "metadata": {}
    },
    {
      "outputs": [],
      "cell_type": "code",
      "source": [
        "choices = [\nL\"f(x) = \\sin(x),~ I=(-2\\pi, 2\\pi)\",\nL\"f(x) = \\sin(x),~ I=(-\\pi, \\pi)\",\nL\"f(x) = \\sin(x),~ I=(-\\pi/2, \\pi/2)\",\n\"None of the above\"]\nans = 3\nradioq(choices, ans, keep_order=true)"
      ],
      "metadata": {},
      "execution_count": null
    },
    {
      "cell_type": "markdown",
      "source": [
        "###### Question\n\nThe extreme value theorem has two assumptions: a continuous function\nand a *closed* interval. Which of the following examples fails to\nsatisfy the consequence of the  extreme value theorem because the function is not continuous?"
      ],
      "metadata": {}
    },
    {
      "outputs": [],
      "cell_type": "code",
      "source": [
        "choices = [\nL\"f(x) = 1/x,~ I=[1,2]\",\nL\"f(x) = 1/x,~ I=[-2, -1]\",\nL\"f(x) = 1/x,~ I=[-1, 1]\",\n\"none of the above\"]\nans = 3\nradioq(choices, ans, keep_order=true)"
      ],
      "metadata": {},
      "execution_count": null
    },
    {
      "cell_type": "markdown",
      "source": [
        "###### Question\n\n\nThe extreme value theorem has two assumptions: a continuous function\nand a *closed* interval. Which of the following examples fails to\nsatisfy the consequence of the  extreme value theorem because the function is not continuous?"
      ],
      "metadata": {}
    },
    {
      "outputs": [],
      "cell_type": "code",
      "source": [
        "choices = [\nL\"f(x) = \\text{sign}(x),~  I=[-1, 1]\",\nL\"f(x) = 1/x,~      I=[-4, -1]\",\nL\"f(x) = \\text{floor}(x),~ I=[-1/2, 1/2]\",\n\"none of the above\"]\nans = 4\nradioq(choices, ans, keep_order=true)"
      ],
      "metadata": {},
      "execution_count": null
    },
    {
      "cell_type": "markdown",
      "source": [
        "###### Question\n\nThe function $f(x) = x^3 - x$ is continuous over the interval\n$I=[-2,2]$. Find a value $c$ for which $M=f(c)$ is an absolute maximum\nover $I$."
      ],
      "metadata": {}
    },
    {
      "outputs": [],
      "cell_type": "code",
      "source": [
        "val = 2\nnumericq(val)"
      ],
      "metadata": {},
      "execution_count": null
    },
    {
      "cell_type": "markdown",
      "source": [
        "###### Question\n\n\nThe function $f(x) = x^3 - x$ is continuous over the interval\n$I=[-1,1]$. Find a value $c$ for which $M=f(c)$ is an absolute maximum\nover $I$."
      ],
      "metadata": {}
    },
    {
      "outputs": [],
      "cell_type": "code",
      "source": [
        "val = -sqrt(3)/3\nnumericq(val)"
      ],
      "metadata": {},
      "execution_count": null
    },
    {
      "cell_type": "markdown",
      "source": [
        "###### Question\n\nConsider the continuous function $f(x) = \\sin(x)$ over the closed interval $I=[0, 10\\pi]$. Which of these is true?"
      ],
      "metadata": {}
    },
    {
      "outputs": [],
      "cell_type": "code",
      "source": [
        "choices = [\nL\"There is no value $c$ for which $f(c)$ is an absolute maximum over $I$.\",\nL\"There is just one value of $c$ for which $f(c)$ is an absolute maximum over $I$.\",\nL\"There are many values of $c$ for which $f(c)$ is an absolute maximum over $I$.\"\n]\nans = 3\nradioq(choices, ans, keep_order=true)"
      ],
      "metadata": {},
      "execution_count": null
    },
    {
      "cell_type": "markdown",
      "source": [
        "###### Question\n\nConsider the continuous function $f(x) = \\sin(x)$ over the closed interval $I=[0, 10\\pi]$. Which of these is true?"
      ],
      "metadata": {}
    },
    {
      "outputs": [],
      "cell_type": "code",
      "source": [
        "choices = [\nL\"There is no value $M$ for which $M=f(c)$, $c$ in $I$ for which $M$ is an absolute maximum over $I$.\",\nL\"There is just one value $M$ for which $M=f(c)$, $c$ in $I$ for which $M$ is an absolute maximum over $I$.\",\nL\"There are many values $M$ for which $M=f(c)$, $c$ in $I$ for which $M$ is an absolute maximum over $I$.\"\n]\nans = 2\nradioq(choices, ans, keep_order=true)"
      ],
      "metadata": {},
      "execution_count": null
    },
    {
      "cell_type": "markdown",
      "source": [
        "###### Question\n\nThe extreme value theorem says that on a closed interval a continuous\nfunction has an extreme value $M=f(c)$ for some $c$. Does it also say\nthat $c$ is unique? Which of these examples might help you answer this?"
      ],
      "metadata": {}
    },
    {
      "outputs": [],
      "cell_type": "code",
      "source": [
        "choices = [\nL\"f(x) = \\sin(x),\\quad I=[-\\pi/2, \\pi/2]\",\nL\"f(x) = \\sin(x),\\quad I=[0, 2\\pi]\",\nL\"f(x) = \\sin(x),\\quad I=[-2\\pi, 2\\pi]\"]\nans = 3\nradioq(choices, ans)"
      ],
      "metadata": {},
      "execution_count": null
    },
    {
      "cell_type": "markdown",
      "source": [
        "##### Question\n\nThe zeros of the equation $\\cos(x) \\cdot \\cosh(x) = 1$ are related to vibrations of rods. Using `find_zeros`, what is the largest zero in the interval $[0, 6\\pi]$?"
      ],
      "metadata": {}
    },
    {
      "outputs": [],
      "cell_type": "code",
      "source": [
        "val = maximum(find_zeros(x -> cos(x) * cosh(x) - 1, 0, 6pi))\nnumericq(val)"
      ],
      "metadata": {},
      "execution_count": null
    },
    {
      "cell_type": "markdown",
      "source": [
        "##### Question\n\nA parametric equation is specified by a parameterization $(f(t), g(t)), a \\leq t \\leq b$. The parameterization will be continuous if and only if each function is continuous.\n\nSuppose $k_x$ and $k_y$ are positive integers and $a, b$ are positive numbers, will the [Lissajous](https://en.wikipedia.org/wiki/Parametric_equation#Lissajous_Curve) curve given by $(a\\cos(k_x t), b\\sin(k_y t))$ be continuous?"
      ],
      "metadata": {}
    },
    {
      "outputs": [],
      "cell_type": "code",
      "source": [
        "yesnoq(true)"
      ],
      "metadata": {},
      "execution_count": null
    },
    {
      "cell_type": "markdown",
      "source": [
        "Here is a sample graph for $a=1, b=2, k_x=3, k_y=4$:"
      ],
      "metadata": {}
    },
    {
      "outputs": [],
      "cell_type": "code",
      "source": [
        "a,b = 1, 2\nk_x, k_y = 3, 4\nplot(t -> a * cos(k_x *t), t-> b * sin(k_y * t), 0, 4pi)"
      ],
      "metadata": {},
      "execution_count": null
    }
  ],
  "nbformat_minor": 2,
  "metadata": {
    "language_info": {
      "file_extension": ".jl",
      "mimetype": "application/julia",
      "name": "julia",
      "version": "1.5.0"
    },
    "kernelspec": {
      "name": "julia-1.5",
      "display_name": "Julia 1.5.0",
      "language": "julia"
    }
  },
  "nbformat": 4
}
