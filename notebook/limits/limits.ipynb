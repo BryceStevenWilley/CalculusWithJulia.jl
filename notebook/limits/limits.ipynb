{
  "cells": [
    {
      "cell_type": "markdown",
      "source": [
        "# Limits"
      ],
      "metadata": {}
    },
    {
      "outputs": [],
      "cell_type": "code",
      "source": [
        "using CalculusWithJulia\nusing CalculusWithJulia.WeaveSupport\nusing Plots\nnothing"
      ],
      "metadata": {},
      "execution_count": null
    },
    {
      "cell_type": "markdown",
      "source": [
        "An historic problem in the history of math was to find the area under\nthe graph of $f(x)=x^2$ between $[0,1]$.\n\n\n\nThere isn't a ready-made formula for the area of this\nshape, as there is for a triangle or a square. However,\n[Archimedes](http://en.wikipedia.org/wiki/The_Quadrature_of_the_Parabola)\nfound a method to compute areas enclosed by a parabola and line\nsegments that cross the parabola."
      ],
      "metadata": {}
    },
    {
      "outputs": [],
      "cell_type": "code",
      "source": [
        "###{{{archimedes_parabola}}}\npyplot()\nfig_size=(400, 300)\n\nf(x) = x^2\ncolors = [:black, :blue, :orange, :red, :green, :orange, :purple]\n\n## Area of parabola\nfunction make_triangle_graph(n)\n    title = \"Area of parabolic cup ...\"\n    n==1 && (title = \"\\${Area = }1/2\\$\")\n    n==2 && (title = \"\\${Area = previous }+ 1/8\\$\")\n    n==3 && (title = \"\\${Area = previous }+ 2*(1/8)^2\\$\")\n    n==4 && (title = \"\\${Area = previous }+ 4*(1/8)^3\\$\")\n    n==5 && (title = \"\\${Area = previous }+ 8*(1/8)^4\\$\")\n    n==6 && (title = \"\\${Area = previous }+ 16*(1/8)^5\\$\")\n    n==7 && (title = \"\\${Area = previous }+ 32*(1/8)^6\\$\")\n\n\n\n    plt = plot(f, 0, 1, legend=false, size = fig_size, linewidth=2)\n    annotate!(plt, [(0.05, 0.9, text(title,:left))])  # if in title, it grows funny with gr\n    n >= 1 && plot!(plt, [1,0,0,1, 0], [1,1,0,1,1], color=colors[1], linetype=:polygon, fill=colors[1], alpha=.2)\n    n == 1 && plot!(plt, [1,0,0,1, 0], [1,1,0,1,1], color=colors[1], linewidth=2)\n    for k in 2:n\n        xs = range(0,stop=1, length=1+2^(k-1))\n        ys = map(f, xs)\n        k < n && plot!(plt, xs, ys, linetype=:polygon, fill=:black, alpha=.2)\n        if k == n\n            plot!(plt, xs, ys, color=colors[k], linetype=:polygon, fill=:black, alpha=.2)\n            plot!(plt, xs, ys, color=:black, linewidth=2)\n        end\n    end\n    plt\nend\n\n\nn = 7\nanim = @animate for i=1:n\n    make_triangle_graph(i)\nend\n\nimgfile = tempname() * \".gif\"\ngif(anim, imgfile, fps = 1)\n\n\ncaption = L\"\"\"\nThe first triangle has area $1/2$, the second has area $1/8$, then $2$ have area $(1/8)^2$, $4$ have area $(1/8)^3$, ...\nWith some algebra, the total area then should be $1/2 \\cdot (1 + (1/4) + (1/4)^2 + \\cdots) = 2/3$.\n\"\"\"\n\nplotly()\nImageFile(imgfile, caption)"
      ],
      "metadata": {},
      "execution_count": null
    },
    {
      "cell_type": "markdown",
      "source": [
        "The figure illustrates a means to compute the area bounded by the\nparabola, the line $y=1$ and the line $x=0$ using triangles. It\nsuggests that this area can be found by adding the following sum\n\n$$~\nA = 1/2 + 1/8 + 2 \\cdot (1/8)^2 + 4 \\cdot (1/8)^3 + \\cdots\n~$$\n\nThis value is $2/3$, so the area under the curve would be\n$1/3$. Forget about this specific value - which through more modern machinery becomes uneventful - and focus for a minute on the\nmethod: a problem is solved by a suggestion of an infinite process, in\nthis case the creation of more triangles to approximate the\nunaccounted for area. This is the so-call method of\n[exhaustion](http://en.wikipedia.org/wiki/Method_of_exhaustion) known\nsince the 5th century BC. Archimedes used this method to solve a wide\nrange of area problems related to basic geometric shapes, including a\nmore general statement of what we described above.\n\nThe $\\cdots$ in the sum expression are the indication that this process continues and that\nthe answer is at the end of an *infinite* process. To make this line of\nreasoning rigorous requires the concept of a limit. The concept of a\nlimit is then an old one, but it wasn't until the age of calculus\nthat it was formalized.\n\n[Fermat](http://en.wikipedia.org/wiki/Adequality) in the 1600s\nessentially took a limit to find the slope of a tangent line to a\npolynomial curve. Newton in the late 1600s, exploited the idea in his\ndevelopment of calculus (as did Leibniz). Yet it wasn't until the\n1800s that\n[Bolzano](http://en.wikipedia.org/wiki/Limit_of_a_function#History),\nCauchy and Weierstrass put the idea on a firm footing.\n\n\nTo make things more precise, we begin by discussing the limit of a univariate function as $x$ approaches $c$.\n\nInformally, if a limit exists it is the value that $f(x)$ gets close to as $x$ gets close to - but not equal to - $c$.\n\nThe modern formulation is due to Weirstrass:\n\n> The limit of $f(x)$ as $x$ approaches $c$ is $L$ if for every real $\\epsilon > 0$,\n> there exists a real $\\delta > 0$ such that for all real $x$, $0 < \\lvert x − c \\rvert < \\delta$\n> implies $\\lvert f(x) − L \\rvert < \\epsilon$. The notation used is $\\lim_{x \\rightarrow c}f(x) = L$.\n\nWe comment on this later.\n\n\nCauchy begins his incredibly influential\n[treatise](http://gallica.bnf.fr/ark:/12148/bpt6k90196z/f25.image) on\ncalculus considering two examples, the limit as $x$ goes to $0$ of\n\n$$~ \\frac{\\sin(x)}{x} \\quad\\text{and}\\quad (1 + x)^{1/x}.  ~$$\n\nThese take the indeterminate forms $0/0$ and $1^\\infty$, which are\nfound by just putting $0$ in for $x$. An expression does not need to\nbe defined at $c$, as these two aren't, to discuss its limit. Cauchy\nillustrates two methods to approach the questions above. The first is\nto pull out an inequality:\n\n$$~\n\\frac{\\sin(x)}{\\sin(x)} > \\frac{\\sin(x)}{x} > \\frac{\\sin(x)}{\\tan(x)}.\n~$$\n\nThis bounds the expression $\\sin(x)/x$ between $1$ and $\\cos(x)$ and as $x$ gets close to $0$, the value of $\\cos(x)$ \"clearly\" goes to $1$, hence $L$ must be $1$. This is an application of the squeeze theorem.\n\nTo discuss the case of $(1+x)^{1/x}$, Cauchy first resorts to log tables\nto illustrate an approximate value. We can use `Julia` to find his\napproximate value:"
      ],
      "metadata": {}
    },
    {
      "outputs": [],
      "cell_type": "code",
      "source": [
        "x = 1/10000\n(1 + x)^(1/x)"
      ],
      "metadata": {},
      "execution_count": null
    },
    {
      "cell_type": "markdown",
      "source": [
        "A table can show the progression to this value:"
      ],
      "metadata": {}
    },
    {
      "outputs": [],
      "cell_type": "code",
      "source": [
        "f(x) = (1 + x)^(1/x)\nxs = [1/10^i for i in 1:5]\n[xs f.(xs)]"
      ],
      "metadata": {},
      "execution_count": null
    },
    {
      "cell_type": "markdown",
      "source": [
        "However viewed, this is an approximate value for the actual answer - which is $e$. Cauchy\ndemonstrates this value with a fair amount of work.\n\nThese two cases illustrate that though the definition of the limit\nexists, the computation of a limit is generally found by other means\nand the intuition of the value of the limit can be gained numerically.\n\n### Indeterminate forms\n\nFirst it should be noted that for most of the functions encountered, the concepts of a limit at a typical point $c$ is nothing more than just function evaluation at $c$. This is because, at a typical point, the functions are nicely behaved. However, most questions asked about limits find points that are not typical. For these, the result of evaluating the function at $c$ is typically undefined, and the value comes in one of several *indeterminate forms*: $0/0$, $\\infty/\\infty$, $0 \\cdot \\infty$, $\\infty - \\infty$, $0^0$, $1^\\infty$, and $\\infty^0$.\n\n`Julia` can help - at times - identify these indeterminate forms, as many such operations produce `NaN`. For example:"
      ],
      "metadata": {}
    },
    {
      "outputs": [],
      "cell_type": "code",
      "source": [
        "0/0, Inf/Inf, 0 * Inf, Inf - Inf"
      ],
      "metadata": {},
      "execution_count": null
    },
    {
      "cell_type": "markdown",
      "source": [
        "However, the values with powers generally do not help, as the IEEE standard has `0^0` evaluating to 1:"
      ],
      "metadata": {}
    },
    {
      "outputs": [],
      "cell_type": "code",
      "source": [
        "0^0, 1^Inf, Inf^0"
      ],
      "metadata": {},
      "execution_count": null
    },
    {
      "cell_type": "markdown",
      "source": [
        "However, this can be unreliable, as floating point issues may mask the true evaluation. However, as a cheap trick it can work. So, the limit as $x$ goes to $1$ of $\\sin(x)/x$ is simply found by evaluation:"
      ],
      "metadata": {}
    },
    {
      "outputs": [],
      "cell_type": "code",
      "source": [
        "x = 1\nsin(x) / x"
      ],
      "metadata": {},
      "execution_count": null
    },
    {
      "cell_type": "markdown",
      "source": [
        "But at $x=0$ we get an indicator that there is an issue with just evaluating the function:"
      ],
      "metadata": {}
    },
    {
      "outputs": [],
      "cell_type": "code",
      "source": [
        "x = 0\nsin(x) / x"
      ],
      "metadata": {},
      "execution_count": null
    },
    {
      "cell_type": "markdown",
      "source": [
        "The above is really just a heuristic. For some functions this is just\nnot true. For example, the $f(x) = \\sqrt{x}$ is only defined on $[0,\n\\infty)$ There is technically no limit at $0$, per se, as the function\nis not defined around $0$. Other functions jump at values, and will\nnot have a limit, despite having well defined values. The `floor`\nfunction is the function that rounds down to the nearest integer. At\ninteger values there will be a jump, even though the function is\ndefined.\n\n## Graphical approaches to limits\n\nLet's return to the function $f(x) = \\sin(x)/x$. This function was studied by Euler as part of his solution to the [Basel](http://en.wikipedia.org/wiki/Basel_problem) problem. He knew that near $0$, $\\sin(x) \\approx x$, so the ratio is close to $1$ if $x$ is near $0$. Hence, the intuition is $\\lim_{x \\rightarrow 0} \\sin(x)/x = 1$, as Cauchy wrote. We can verify this limit graphically two ways. First, a simple graph shows no issue at $0$:"
      ],
      "metadata": {}
    },
    {
      "outputs": [],
      "cell_type": "code",
      "source": [
        "using CalculusWithJulia  # loads SymPy\nusing Plots\nf(x) = sin(x)/x\nplot(f, -pi/2, pi/2)"
      ],
      "metadata": {},
      "execution_count": null
    },
    {
      "cell_type": "markdown",
      "source": [
        "The $y$ values of the graph seem to go to $1$ as the $x$ values get\nclose to 0. (That the graph looks defined at $0$ is due to the fact\nthat the points sampled to graph do not include $0$. Otherwise, since\n`f(0)` is `NaN`, there would be no lines connecting to the value with\n`x=0`.)\n\nWe can also verify Euler's intuition through this graph:"
      ],
      "metadata": {}
    },
    {
      "outputs": [],
      "cell_type": "code",
      "source": [
        "plot([sin, x -> x], -pi/2,  pi/2)"
      ],
      "metadata": {},
      "execution_count": null
    },
    {
      "cell_type": "markdown",
      "source": [
        "That the two are indistinguishable near $0$ makes it easy to see that their ratio should be going towards $1$.\n\n\nThe graphical approach to limits - plotting $f(x)$ around $c$ and\nobserving if the $y$ values seem to converge to an $L$ value when $x$\nget close to $c$ - allows us to gather quickly if a function seems to\nhave a limit at $c$, though the precise value of $L$ may be hard to identify.\n\n##### Example\n\n\nConsider now the following limit\n\n$$~\n\\lim_{x \\rightarrow 2} \\frac{x^2 - 5x + 6}{x^2 +x - 6}\n~$$\n\nNoting that this is a ratio of nice polynomial functions, we first\ncheck whether there is anything to do:"
      ],
      "metadata": {}
    },
    {
      "outputs": [],
      "cell_type": "code",
      "source": [
        "f(x) = (x^2 - 5x + 6) / (x^2 + x - 6)\nc = 2\nf(c)"
      ],
      "metadata": {},
      "execution_count": null
    },
    {
      "cell_type": "markdown",
      "source": [
        "The `NaN` indicates that this function is indeterminate at $c=2$. A\nquick plot gives us an idea that the limit exists and is roughly\n$-0.2$:"
      ],
      "metadata": {}
    },
    {
      "outputs": [],
      "cell_type": "code",
      "source": [
        "c, delta = 2, 1\nplot(f, c - delta, c + delta)"
      ],
      "metadata": {},
      "execution_count": null
    },
    {
      "cell_type": "markdown",
      "source": [
        "The graph looks \"continuous.\" In fact, the value $c=2$ is termed a\n*removable singularity* as redefining $f(x)$ to be $-0.2$ when\n$x=2$ results in a \"continuous\" function.\n\nAs an aside, we can redefine `f` using the \"ternary operator\":"
      ],
      "metadata": {}
    },
    {
      "outputs": [],
      "cell_type": "code",
      "source": [
        "f(x) = x == 2.0 ? -0.2 :  (x^2 - 5x + 6) / (x^2 + x - 6)"
      ],
      "metadata": {},
      "execution_count": null
    },
    {
      "cell_type": "markdown",
      "source": [
        "This particular case is a textbook example: one can easily factor\n$f(x)$ to get:\n\n$$~\nf(x) = \\frac{(x-2)(x-3)}{(x-2)(x+3)}\n~$$\n\nWritten in this form, we clearly see that this is the same function as\n$g(x) = (x-3)/(x+3)$ when $x \\neq 2$. The function $g(x)$ is\n\"continuous\" at $x=2$. So were one to redefine $f(x)$ at $x=2$ to be\n$g(2) = (2 - 3)/(2 + 3) = -0.2$ it would be made continuous, hence the\nterm removable singularity.\n\n\n\n## Numerical approaches to limits\n\nThe investigation of $\\lim_{x \\rightarrow 0}(1 + x)^{1/x}$ by\nevaluating the function at $1/10000$ by Cauchy can be done much more easily\nnowadays. As does a graphical approach, a numerical approach can\ngive insight into a limit and often a good numeric estimate.\n\nThe basic idea is to create a sequence of $x$ values going towards $c$\nand then investigate if the corresponding $y$ values are eventually near some\n$L$.\n\nBest, to see by example. Suppose we are asked to investigate\n\n$$~\n\\lim_{x \\rightarrow 25} \\frac{\\sqrt{x} - 5}{\\sqrt{x - 16} - 3}.\n~$$\n\nWe first define a function and check if there are issues at 25:"
      ],
      "metadata": {}
    },
    {
      "outputs": [],
      "cell_type": "code",
      "source": [
        "f(x) = (sqrt(x) - 5) / (sqrt(x-16) - 3)\nc = 25\nf(c)"
      ],
      "metadata": {},
      "execution_count": null
    },
    {
      "cell_type": "markdown",
      "source": [
        "So yes, an issue of the indeterminate form $0/0$. We investigate numerically by making a set of numbers getting close to $c$. This is most easily done making numbers getting close to $0$ and adding them to or subtracting them from $c$. Some natural candidates are negative powers of 10:"
      ],
      "metadata": {}
    },
    {
      "outputs": [],
      "cell_type": "code",
      "source": [
        "hs = [1/10^i for i in 1:8]"
      ],
      "metadata": {},
      "execution_count": null
    },
    {
      "cell_type": "markdown",
      "source": [
        "We can add these to $c$ and then evaluate:"
      ],
      "metadata": {}
    },
    {
      "outputs": [],
      "cell_type": "code",
      "source": [
        "xs = c .+ hs\nys = f.(xs)"
      ],
      "metadata": {},
      "execution_count": null
    },
    {
      "cell_type": "markdown",
      "source": [
        "To visualize, we can put in a table using `[xs ys]` notation:"
      ],
      "metadata": {}
    },
    {
      "outputs": [],
      "cell_type": "code",
      "source": [
        "[xs ys]"
      ],
      "metadata": {},
      "execution_count": null
    },
    {
      "cell_type": "markdown",
      "source": [
        "The $y$-values seem to be getting near $0.6$.\n\nSince limits are defined by the expression $0 < \\lvert x-c\\rvert < \\delta$, we should also look at values smaller than $c$. There isn't much difference (note the `.-` sign in `c .- hs`):"
      ],
      "metadata": {}
    },
    {
      "outputs": [],
      "cell_type": "code",
      "source": [
        "xs = c .- hs\nys = f.(xs)\n[xs ys]"
      ],
      "metadata": {},
      "execution_count": null
    },
    {
      "cell_type": "markdown",
      "source": [
        "Same story. The numeric evidence supports a limit of $L=0.6$.\n\n##### Example, the secant line\n\nLet $f(x) = x^x$ and consider the ratio:\n\n$$~\n\\frac{f(c + h) - f(c)}{h}\n~$$\n\nAs $h$ goes to $0$, this will take the form $0/0$ in most cases, and\nin the particular case of $f(x) = x^x$ and $c=1$ it will be. The\nexpression has a geometric interpretation of being the slope of the\nsecant line connecting the two points $(c,f(c))$ and $(c+h, f(c+h))$.\n\nTo look at the limit in this example, we have (recycling the values in `hs`):"
      ],
      "metadata": {}
    },
    {
      "outputs": [],
      "cell_type": "code",
      "source": [
        "c = 1\nf(x) = x^x\nys = [(f(c + h) - f(c)) / h for  h in hs]\n[hs ys]"
      ],
      "metadata": {},
      "execution_count": null
    },
    {
      "cell_type": "markdown",
      "source": [
        "The limit looks like $L=1$. A similar check on the left will confirm this numerically:"
      ],
      "metadata": {}
    },
    {
      "outputs": [],
      "cell_type": "code",
      "source": [
        "ys = [(f(c + h) - f(c)) / h for  h in -hs]\n[-hs ys]"
      ],
      "metadata": {},
      "execution_count": null
    },
    {
      "cell_type": "markdown",
      "source": [
        "### Issues with the numeric approach\n\nThe numeric approach often gives a good intuition as to the existence of a limit and its value. However, it can be misleading. Consider this limit question:\n\n$$~\n\\lim_{x \\rightarrow 0} \\frac{1 - \\cos(x)}{x^2}.\n~$$\n\nWe can see that it is indeterminate of the form $0/0$:"
      ],
      "metadata": {}
    },
    {
      "outputs": [],
      "cell_type": "code",
      "source": [
        "f(x) = (1 - cos(x)) / x^2\nf(0)"
      ],
      "metadata": {},
      "execution_count": null
    },
    {
      "cell_type": "markdown",
      "source": [
        "What is the value of $L$, if it exists? A quick attempt numerically yields:"
      ],
      "metadata": {}
    },
    {
      "outputs": [],
      "cell_type": "code",
      "source": [
        "c = 0\nxs = c .+ hs\nys = [f(x) for x in xs]\n[xs ys]"
      ],
      "metadata": {},
      "execution_count": null
    },
    {
      "cell_type": "markdown",
      "source": [
        "Hmm, the values in `ys` appear to be going to $0.5$, but then end up at\n$0$. Is the limit $0$ or $1/2$? The answer is $1/2$. The last $0$ is\nan artifact of floating point arithmetic. To investigate, we look more carefully at the two ratios:"
      ],
      "metadata": {}
    },
    {
      "outputs": [],
      "cell_type": "code",
      "source": [
        "y1s = [1 - cos(x) for x in xs]\ny2s = [x^2 for x in xs]\n[xs y1s y2s]"
      ],
      "metadata": {},
      "execution_count": null
    },
    {
      "cell_type": "markdown",
      "source": [
        "Looking at the bottom of the second column reveals the error. The value of `1 - cos(1.0e-8)` is\n`0` and not a value around `5e-17`, as would be expected from the pattern above it. This is because the smallest\nfloating point value less than `1.0` is more than `5e-17` units away,\nso `cos(1e-8)` is evaluated to be `1.0`. There just isn't enough\ngranularity to get this close to $0$.\n\nNot that we needed to. The answer would have been clear if we had\nstopped with `x=1e-6`, say.\n\nIn general, some functions will frustrate the numeric approach. It is\nbest to be wary of results. At a minimum they should confirm what a quick\ngraph shows.\n\n## Symbolic approach to limits\n\nThe `SymPy` package provides a `limit` function for finding the limit\nof an expression in a given variable. It is loaded above, when the `CalculusWithJulia` package was loaded. The `limit` function's use requires the expression,\nthe variable and a value for $c$. (Similar to the three things in the\nnotation $\\lim_{x \\rightarrow c}f(x)$.)\n\nFor example, the limit at $0$ of $(1-\\cos(x))/x^2$ is easily handled:"
      ],
      "metadata": {}
    },
    {
      "outputs": [],
      "cell_type": "code",
      "source": [
        "@vars x real=true\nf(x) = (1 - cos(x)) / x^2\nlimit(f(x), x=>0)\t\t# f(x) is a symbolic expression when x is"
      ],
      "metadata": {},
      "execution_count": null
    },
    {
      "cell_type": "markdown",
      "source": [
        "The pair notation (`x=>0`) is used to indicate the variable and the value it is going to.\n\nAs a convenience, there is also an \"operator\" version of `limit` for univariate functions, where only a function object and `c` need be specified:"
      ],
      "metadata": {}
    },
    {
      "outputs": [],
      "cell_type": "code",
      "source": [
        "limit(f, 0)"
      ],
      "metadata": {},
      "execution_count": null
    },
    {
      "cell_type": "markdown",
      "source": [
        "##### Examples\n\nFind the [limits](http://en.wikipedia.org/wiki/L%27H%C3%B4pital%27s_rule):\n\n$$~\n\\lim_{x \\rightarrow 0} \\frac{2\\sin(x) - \\sin(2x)}{x - \\sin(x)}, \\quad\n\\lim_{x \\rightarrow 0} \\frac{e^x - 1 - x}{x^2}, \\quad\n\\lim_{\\rho \\rightarrow 0} \\frac{x^{1-\\rho} - 1}{1 - \\rho}.\n~$$\n\nWe have for the first:"
      ],
      "metadata": {}
    },
    {
      "outputs": [],
      "cell_type": "code",
      "source": [
        "limit( (2sin(x) - sin(2x)) / (x - sin(x)), x=>0)"
      ],
      "metadata": {},
      "execution_count": null
    },
    {
      "cell_type": "markdown",
      "source": [
        "The second is similarly done, though here we define a function for variety:"
      ],
      "metadata": {}
    },
    {
      "outputs": [],
      "cell_type": "code",
      "source": [
        "f(x) = (exp(x) - 1 - x) / x^2\nlimit(f, 0)"
      ],
      "metadata": {},
      "execution_count": null
    },
    {
      "cell_type": "markdown",
      "source": [
        "Finally, for the third we define a new variable and proceed:"
      ],
      "metadata": {}
    },
    {
      "outputs": [],
      "cell_type": "code",
      "source": [
        "@vars rho real=true\nlimit( (x^(1-rho) - 1) / (1 - rho), rho=>1)"
      ],
      "metadata": {},
      "execution_count": null
    },
    {
      "cell_type": "markdown",
      "source": [
        "##### Example, floating point conversion issues\n\nThe [algorithm](http://www.cybertester.com/data/gruntz.pdf)\nimplemented in `SymPy` for symbolic limits is quite powerful. However,\nsome care must be exercised to avoid undesirable conversions from\nexact values to floating point values.\n\n\nTo Illustrate, let's look at the limit as $x$ goes to $\\pi/2$ of $f(x)\n= \\cos(x) / (x - \\pi/2)$. We follow our past practice:"
      ],
      "metadata": {}
    },
    {
      "outputs": [],
      "cell_type": "code",
      "source": [
        "c = pi/2\nf(x) = cos(x) / (x - pi/2)\nf(c)"
      ],
      "metadata": {},
      "execution_count": null
    },
    {
      "cell_type": "markdown",
      "source": [
        "The value is not `NaN`, rather `Inf`. This is because `cos(pi/2)` is\nnot exactly $0$ as it should be, as `pi/2` is rounded. This minor\ndifference is important. If we try and correct for this by using `PI` we have:"
      ],
      "metadata": {}
    },
    {
      "outputs": [],
      "cell_type": "code",
      "source": [
        "limit(f(x), x=>PI/2)"
      ],
      "metadata": {},
      "execution_count": null
    },
    {
      "cell_type": "markdown",
      "source": [
        "The value is not right, as this simple graph suggests the limit is in fact $-1$:"
      ],
      "metadata": {}
    },
    {
      "outputs": [],
      "cell_type": "code",
      "source": [
        "plot(f, c - pi/4, c + pi/4)"
      ],
      "metadata": {},
      "execution_count": null
    },
    {
      "cell_type": "markdown",
      "source": [
        "The difference between `pi` and `PI` can be significant, and though\nusually `pi` is silently converted to `PI`, it doesn't happen here as\nthe division by `2` happens first, which turns the symbol into an approximate\nfloating point number. Hence, `SymPy` is giving the correct answer for\nthe problem it is given, it just isn't the problem we wanted to look\nat.\n\nTrying again, being more aware of how `pi` and `PI` differ, we have:"
      ],
      "metadata": {}
    },
    {
      "outputs": [],
      "cell_type": "code",
      "source": [
        "f(x) = cos(x) / (x - PI/2)\nlimit(f(x), x => PI/2)"
      ],
      "metadata": {},
      "execution_count": null
    },
    {
      "cell_type": "markdown",
      "source": [
        "## Rules for limits\n\nThe `limit` function doesn't compute limits from the definition,\nrather it applies some known facts about functions within a set of\nrules. Some of these rules are the following. Suppose the individual limits of $f$ and $g$ always exist below."
      ],
      "metadata": {}
    },
    {
      "outputs": [],
      "cell_type": "code",
      "source": [
        "using DataFrames\nrules = [L\"\\lim_{x \\rightarrow c} (a \\cdot f(x) + b \\cdot g(x)) = a \\cdot\n  \\lim_{x \\rightarrow c} f(x) + b \\cdot \\lim_{x \\rightarrow c}\n  g(x)\",\n  L\"\\lim_{x \\rightarrow c} f(x) \\cdot g(x) = \\lim_{x \\rightarrow c}\n  f(x) \\cdot \\lim_{x \\rightarrow c} g(x)\",\n  L\" $\\lim_{x \\rightarrow c} f(x) / g(x) = \\lim_{x \\rightarrow c} f(x) /\n  \\lim_{x \\rightarrow c} g(x)$ - provided $\\lim_{x \\rightarrow c} g(x) \\neq 0$\",\n  L\" $\\lim_{x \\rightarrow c} (f \\circ g)(x) = \\lim_{x \\rightarrow L}\n  f(x)$, where $\\lim_{x \\rightarrow c}g(x) = L$\"]\ndescr = [\"\"\" This says that limits involving sums, differences or scalar\n  multiples of functions can be computed by first doing the individual\n  limits and then combining the answers.\"\"\",\n  \"\"\"This says limits of\n  products can be found by computing the limit of the individual\n  factors and then combining.\"\"\",\n  L\"\"\"This says limits of ratios can be found by computing\n  the limit of the individual terms and then dividing provided you\n  don't divide by $0$. The last part is really important, as this rule\n  is no help with the common indeterminate form $0/0$.\"\"\",\n  L\"\"\"This says the limit of\n  compositions can be found by taking the limit of the interior\n  function ($L$) and then finding the limit of the exterior function\n  as $x$ approaches $L$.\"\"\"]\n  d = DataFrame(Rule=rules, Description=descr)\n  table(d)"
      ],
      "metadata": {},
      "execution_count": null
    },
    {
      "cell_type": "markdown",
      "source": [
        "These, together with the fact that our basic algebraic functions have limits\nthat can be found by simple evaluation, mean that many limits are easy to\ncompute.\n\n##### Example, composition\n\nFor example, consider for some non-zero $k$ the following limit:\n\n$$~\n\\lim_{x \\rightarrow 0} \\frac{\\sin(kx)}{x}.\n~$$\n\nThis is clearly related to the function $f(x) = \\sin(x)/x$, but is in fact the limit of the function $g(x) = k f(kx)$. This then follows:\n\n\n$$~\n\\lim_{x \\rightarrow 0} \\frac{\\sin(kx)}{x} = \\lim_{x \\rightarrow 0} k f(kx) = k \\lim_{x \\rightarrow 0} f(kx) = k\\lim_{x \\rightarrow 0} f(x) = k.\n~$$\n\nWhy does the limit of $f(kx)$ at 0 equal the limit of $f(x)$ at 0?\nWell, $f(kx)$ is a composition, $f(h(x))$ where $h(x) = kx$. The limit\nof $h$ at 0 is 0, so this is a special case of the rule for\ncompositions.\n\nBasically when taking a limit as $x$ goes to $0$ we can multiply $x$ by any constant and figure out the limit for that. (It is as though we \"go to\" $0$ faster or slower. but are still going to $0$. This can be generalized to any function $g(x)$ with a limit of $0$ at $0$: $\\lim_{x \\rightarrow 0}f(g(x)) = \\lim_{x \\rightarrow 0}f(x)$.)\n\n##### Example, products\n\nConsider this complicated limit found on this [Wikipedia](http://en.wikipedia.org/wiki/L%27H%C3%B4pital%27s_rule) page.\n\n$$~\n\\lim_{x \\rightarrow 1/2} \\frac{\\sin(\\pi x)}{\\pi x} \\cdot \\frac{\\cos(\\pi x)}{1 - (2x)^2}.\n~$$\n\nWe know the first factor has a limit found by evaluation: $2/\\pi$, so it is really just a constant. The second we can compute:"
      ],
      "metadata": {}
    },
    {
      "outputs": [],
      "cell_type": "code",
      "source": [
        "g(x) = cos(PI*x) / (1 - (2x)^2)\nlimit(g, 1//2)"
      ],
      "metadata": {},
      "execution_count": null
    },
    {
      "cell_type": "markdown",
      "source": [
        "Putting together, we would get $1/2$. Which we could have done directly in this case:"
      ],
      "metadata": {}
    },
    {
      "outputs": [],
      "cell_type": "code",
      "source": [
        "limit(sin(PI*x)/(PI*x) * g(x), x=>1//2)"
      ],
      "metadata": {},
      "execution_count": null
    },
    {
      "cell_type": "markdown",
      "source": [
        "##### Example, ratios\n\nConsider again the limit of $\\cos(\\pi x) / (1 - (2x)^2)$ at $c=1/2$. A graph of both the top and bottom functions shows the indeterminate, $0/0$, form:"
      ],
      "metadata": {}
    },
    {
      "outputs": [],
      "cell_type": "code",
      "source": [
        "plot(cos(pi*x), 0.4, 0.6)\nplot!(1 - (2x)^2)"
      ],
      "metadata": {},
      "execution_count": null
    },
    {
      "cell_type": "markdown",
      "source": [
        "However, following Euler's insight that $\\sin(x)/x$ will have a limit\nat $0$ of $1$ as $\\sin(x) \\approx x$, and $x/x$ has a limit of $1$ at\n$c=0$, we can see that $\\cos(\\pi x)$ looks like $-\\pi\\cdot (x - 1/2)$\nand $(1 - (2x)^2)$ looks like $-4(x-1/2)$ around $x=1/2$:"
      ],
      "metadata": {}
    },
    {
      "outputs": [],
      "cell_type": "code",
      "source": [
        "plot(cos(pi*x), 0.4, 0.6)\nplot!(-pi*(x - 1/2))"
      ],
      "metadata": {},
      "execution_count": null
    },
    {
      "outputs": [],
      "cell_type": "code",
      "source": [
        "plot(1 - (2x)^2, 0.4, 0.6)\nplot!(-4(x - 1/2))"
      ],
      "metadata": {},
      "execution_count": null
    },
    {
      "cell_type": "markdown",
      "source": [
        "So around $c=1/2$ the ratio should look like $-\\pi (x-1/2) / ( -4(x -\t 1/2)) = \\pi/4$, which indeed it does, as that is the limit.\n\nThis is the basis of L'Hôpital's rule, which we will return to once the derivative is discussed.\n\n\n\n## Limits from the definition\n\nThe formal definition of a limit involves clarifying what it means for\n$f(x)$ to be \"close to $L$\" when $x$ is \"close to $c$\". These are\nquantified by the inequalities $0 < \\lvert x-c\\rvert < \\delta$ and the $\\lvert f(x) -\nL\\rvert < \\epsilon$. The second does not have the restriction that it is\ngreater than $0$, as indeed $f(x)$ can equal $L$. The order is\nimportant: it says for any idea of close for $f(x)$ to $L$, an idea of close must be found for $x$ to $c$.\n\nThe key is identifying a value for $\\delta$  for a given value of $\\epsilon$.\n\nA simple case is the linear case. Consider the function $f(x) = 3x + 2$. Verify that the limit at $c=1$ is $5$.\n\nWe show \"numerically\" that $\\delta = \\epsilon/3$."
      ],
      "metadata": {}
    },
    {
      "outputs": [],
      "cell_type": "code",
      "source": [
        "f(x) = 3x + 2\nc, L = 1, 5\nepsilon = rand()                 # some number in (0,1)\ndelta = epsilon / 3\nxs = c .+ delta * rand(100)       # 100 numbers, c < x < c + delta\nas = [abs(f(x) - L) < epsilon for x in xs]\nall(as)                          # are all the as true?"
      ],
      "metadata": {},
      "execution_count": null
    },
    {
      "cell_type": "markdown",
      "source": [
        "These lines produce a random $\\epsilon$, the resulting $\\delta$, and then verify for 100 numbers\nwithin $(c, c+\\delta)$ that the inequality $\\lvert f(x) - L \\rvert < \\epsilon$\nholds for each. Running them again and again should always produce\n`true` if $L$ is the limit and $\\delta$ is chosen properly.\n\n(Of course, we should also verify values to the left of $c$.)\n\n\nIf there is worry about the possibility that `epsilon == 0`, we could\nreplace its definition with `epsilon = max(eps(), rand())`.\n\n\nIn this case, $\\delta$ is easy to guess, as the function is linear and\nhas slope $3$. This basically says the $y$ scale is 3 times the $x$\nscale. For non-linear functions, finding $\\delta$ for a given\n$\\epsilon$ can be a challenge. For the function $f(x) = x^3$,\nillustrated below, a value of $\\delta=\\epsilon^{1/3}$ is used for $c=0$:"
      ],
      "metadata": {}
    },
    {
      "outputs": [],
      "cell_type": "code",
      "source": [
        "## {{{ limit_e_d }}}\npyplot()\nfunction make_limit_e_d(n)\n    f(x) = x^3\n\n    xs = range(-.9, stop=.9, length=50)\n    ys = map(f, xs)\n\n\n    plt = plot(f, -.9, .9, legend=false, size=fig_size)\n    if n == 0\n        nothing\n    else\n        k = div(n+1,2)\n        epsilon = 1/2^k\n        delta = cbrt(epsilon)\n        if isodd(n)\n            plot!(plt, xs, 0*xs .+ epsilon, color=:orange)\n            plot!(plt, xs, 0*xs .- epsilon, color=:orange)\n        else\n            plot!(delta * [-1,  1], epsilon * [ 1, 1], color=:orange)\n            plot!(delta * [ 1, -1], epsilon * [-1,-1], color=:orange)\n            plot!(delta * [-1, -1], epsilon * [-1, 1], color=:red)\n            plot!(delta * [ 1,  1], epsilon * [-1, 1], color=:red)\n        end\n    end\n    plt\nend\n\n\nn = 11\nanim = @animate for i=1:n\n    make_limit_e_d(i-1)\nend\n\nimgfile = tempname() * \".gif\"\ngif(anim, imgfile, fps = 1)\n\n\ncaption = L\"\"\"\n\nDemonstration of $\\epsilon$-$\\delta$ proof of $\\lim_{x \\rightarrow 0}\nx^3 = 0$. For any $\\epsilon>0$ (the orange lines) there exists a\n$\\delta>0$ (the red lines of the box) for which the function $f(x)$\ndoes not leave the top or bottom of the box (except possibly at the\nedges). In this example $\\delta^3=\\epsilon$.\n\n\"\"\"\n\nplotly()\nImageFile(imgfile, caption)"
      ],
      "metadata": {},
      "execution_count": null
    },
    {
      "cell_type": "markdown",
      "source": [
        "## Questions\n\n\n###### Question\n\nFrom the graph, find the limit:\n\n$$~\nL = \\lim_{x\\rightarrow 1}  \\frac{x^2−3x+2}{x^2−6x+5}\n~$$"
      ],
      "metadata": {}
    },
    {
      "outputs": [],
      "cell_type": "code",
      "source": [
        "f(x) = (x^2 - 3x +2) / (x^2 - 6x + 5)\nplot(f, 0,2)"
      ],
      "metadata": {},
      "execution_count": null
    },
    {
      "outputs": [],
      "cell_type": "code",
      "source": [
        "ans = 1/4\nnumericq(ans, 1e-1)"
      ],
      "metadata": {},
      "execution_count": null
    },
    {
      "cell_type": "markdown",
      "source": [
        "###### Question\n\nFrom the graph, find the limit $L$:\n\n$$~\nL = \\lim_{x \\rightarrow -2} \\frac{x}{x+1} \\frac{x^2}{x^2 + 4}\n~$$"
      ],
      "metadata": {}
    },
    {
      "outputs": [],
      "cell_type": "code",
      "source": [
        "f(x) = x/(x+1)*x^2/(x^2+4)\nplot(f, -3, -1.25)"
      ],
      "metadata": {},
      "execution_count": null
    },
    {
      "outputs": [],
      "cell_type": "code",
      "source": [
        "f(x) = x/(x+1)*x^2/(x^2+4)\nval = f(-2)\nnumericq(val, 1e-1)"
      ],
      "metadata": {},
      "execution_count": null
    },
    {
      "cell_type": "markdown",
      "source": [
        "###### Question\n\nGraphically investigate the limit\n\n$$~\nL = \\lim_{x \\rightarrow 0} \\frac{e^x - 1}{x}.\n~$$\n\nWhat is the value of $L$?"
      ],
      "metadata": {}
    },
    {
      "outputs": [],
      "cell_type": "code",
      "source": [
        "f(x) = (exp(x) - 1)/x\np = plot(f, -1, 1)"
      ],
      "metadata": {},
      "execution_count": null
    },
    {
      "outputs": [],
      "cell_type": "code",
      "source": [
        "val = N(limit(f, 0))\nnumericq(val, 1e-1)"
      ],
      "metadata": {},
      "execution_count": null
    },
    {
      "cell_type": "markdown",
      "source": [
        "###### Question\n\nGraphically investigate the limit\n\n$$~\n\\lim_{x \\rightarrow 0} \\frac{\\cos(x) - 1}{x}.\n~$$\n\nThe limit exists, what is the value?"
      ],
      "metadata": {}
    },
    {
      "outputs": [],
      "cell_type": "code",
      "source": [
        "val = 0\nnumericq(val, 1e-2)"
      ],
      "metadata": {},
      "execution_count": null
    },
    {
      "cell_type": "markdown",
      "source": [
        "###### Question\n\nThe following limit is commonly used:\n\n$$~\n\\lim_{h \\rightarrow 0} \\frac{e^{x + h} - e^x}{h} = L.\n~$$\n\nFactoring out $e^x$ from the top and using rules of limits this becomes,\n\n$$~\nL = e^x \\lim_{h \\rightarrow 0} \\frac{e^h - 1}{h}.\n~$$\n\nWhat is $L$?"
      ],
      "metadata": {}
    },
    {
      "outputs": [],
      "cell_type": "code",
      "source": [
        "choices = [L\"0\", L\"1\", L\"e^x\"]\nans = 3\nradioq(choices, ans)"
      ],
      "metadata": {},
      "execution_count": null
    },
    {
      "cell_type": "markdown",
      "source": [
        "###### Question\n\nThe following limit is commonly used:\n\n$$~\n\\lim_{h \\rightarrow 0} \\frac{\\sin(x + h) - \\sin(x)}{h} = L.\n~$$\n\nThe answer should depend on $x$, though it is possible it is a\nconstant.  Using a double angle formula and the rules of limits, this\ncan be written as:\n\n$$~\nL = \\cos(x) \\lim_{h \\rightarrow 0}\\frac{\\sin(h)}{h} + \\sin(x) \\lim_{h \\rightarrow 0}\\frac{\\cos(h)-1}{h}.\n~$$\n\nUsing the last result, what is the value of $L$?"
      ],
      "metadata": {}
    },
    {
      "outputs": [],
      "cell_type": "code",
      "source": [
        "choices = [L\"\\cos(x)\", L\"\\sin(x)\", \"1\", \"0\", L\"\\sin(h)/h\"]\nans = 1\nradioq(choices, ans)"
      ],
      "metadata": {},
      "execution_count": null
    },
    {
      "cell_type": "markdown",
      "source": [
        "###### Question <small>Squeeze theorem</small>\n\nLet's look at the function $f(x) = x \\sin(1/x)$. A graph around $0$\ncan be made with:"
      ],
      "metadata": {}
    },
    {
      "outputs": [],
      "cell_type": "code",
      "source": [
        "f(x) = x == 0 ? NaN : x * sin(1/x)\nc, delta = 0, 1/4\nplot([f, abs, x -> -abs(x)], c - delta, c + delta)"
      ],
      "metadata": {},
      "execution_count": null
    },
    {
      "cell_type": "markdown",
      "source": [
        "This graph clearly oscillates near $0$. To the graph of $f$, we added\ngraphs of both $g(x) = \\lvert x\\rvert$ and $h(x) = - \\lvert x\\rvert$. From this graph it is\neasy to see by the \"squeeze theorem\" that the limit at $x=0$ is\n$0$. Why?"
      ],
      "metadata": {}
    },
    {
      "outputs": [],
      "cell_type": "code",
      "source": [
        "choices=[L\"\"\"The functions $g$ and $h$ both have a limit of $0$ at $x=0$ and the function $f$ is in\nbetween both $g$ and $h$, so must to have a limit of $0$.\n\"\"\",\n\tL\"The functions $g$ and $h$ squeeze each other as $g(x) > h(x)$\",\n         L\"The function $f$ has no limit - it oscillates too much near $0$\"]\nans = 1\nradioq(choices, ans)"
      ],
      "metadata": {},
      "execution_count": null
    },
    {
      "cell_type": "markdown",
      "source": [
        "###### Question\n\nFind the limit as $x$ goes to $2$ of\n\n$$~\nf(x) = \\frac{3x^2 - x -10}{x^2 - 4}\n~$$"
      ],
      "metadata": {}
    },
    {
      "outputs": [],
      "cell_type": "code",
      "source": [
        "f(x) = (3x^2 - x - 10)/(x^2 - 4);\nval = convert(Float64, N(limit(f, 2)))\nnumericq(val)"
      ],
      "metadata": {},
      "execution_count": null
    },
    {
      "cell_type": "markdown",
      "source": [
        "###### Question\n\nFind the limit as $x$ goes to $-2$ of\n\n$$~\nf(x) = \\frac{\\frac{1}{x} + \\frac{1}{2}}{x^3 + 8}\n~$$"
      ],
      "metadata": {}
    },
    {
      "outputs": [],
      "cell_type": "code",
      "source": [
        "f(x) = ((1/x) + (1/2))/(x^3 + 8)\nnumericq(-1/48, .001)"
      ],
      "metadata": {},
      "execution_count": null
    },
    {
      "cell_type": "markdown",
      "source": [
        "###### Question\n\nFind the limit as $x$ goes to $27$ of\n\n$$~\nf(x) = \\frac{x - 27}{x^{1/3} - 3}\n~$$"
      ],
      "metadata": {}
    },
    {
      "outputs": [],
      "cell_type": "code",
      "source": [
        "f(x) = (x - 27)/(x^(1//3) - 3)\nval = N(limit(f, 27))\nnumericq(val)"
      ],
      "metadata": {},
      "execution_count": null
    },
    {
      "cell_type": "markdown",
      "source": [
        "###### Question\n\nFind the limit\n\n$$~\nL = \\lim_{x \\rightarrow \\pi/2} \\frac{\\tan (2x)}{x - \\pi/2}\n~$$"
      ],
      "metadata": {}
    },
    {
      "outputs": [],
      "cell_type": "code",
      "source": [
        "f(x) = tan(2x)/(x-PI/2)\nval = N(limit(f, PI/2))\nnumericq(val)"
      ],
      "metadata": {},
      "execution_count": null
    },
    {
      "cell_type": "markdown",
      "source": [
        "###### Question\n\nThe limit of $\\sin(x)/x$ at $0$ has a numeric value. This depends upon\nthe fact that $x$ is measured in radians. Try to find this limit:\n`limit(sind(x)/x, x=>0)`. What is the value?"
      ],
      "metadata": {}
    },
    {
      "outputs": [],
      "cell_type": "code",
      "source": [
        "choices = [q\"0\", q\"1\", q\"pi/180\", q\"180/pi\"]\nans = 3\nradioq(choices, ans)"
      ],
      "metadata": {},
      "execution_count": null
    },
    {
      "cell_type": "markdown",
      "source": [
        "What is the limit `limit(sinpi(x)/x, x=>0)`?"
      ],
      "metadata": {}
    },
    {
      "outputs": [],
      "cell_type": "code",
      "source": [
        "choices = [q\"0\", q\"1\", q\"pi\", q\"1/pi\"]\nans = 3\nradioq(choices, ans)"
      ],
      "metadata": {},
      "execution_count": null
    },
    {
      "cell_type": "markdown",
      "source": [
        "###### Question <small>limit properties</small>\n\nThere are several properties of limits that allow one to break down\nmore complicated problems into smaller subproblems. For example,\n\n$$~\n\\lim (f(x) + g(x)) = \\lim f(x) + \\lim g(x)\n~$$\n\nis notation to indicate that one can take a limit of the sum of two\nfunction or take the limit of each first, then add and the answer will\nbe unchanged, provided all the limits in question exist.\n\nUse one or the either to find the limit of $f(x) = \\sin(x) + \\tan(x) +\n\\cos(x)$ as $x$ goes to $0$."
      ],
      "metadata": {}
    },
    {
      "outputs": [],
      "cell_type": "code",
      "source": [
        "f(x) = sin(x) + tan(x) + cos(x)\nnumericq(f(0), 1e-5)"
      ],
      "metadata": {},
      "execution_count": null
    },
    {
      "cell_type": "markdown",
      "source": [
        "###### Question\n\nDoes this function have a limit as $h$ goes to $0$ from the right\n(that is, assume $h>0$)?\n\n$$~\n\\frac{h^h - 1}{h}\n~$$"
      ],
      "metadata": {}
    },
    {
      "outputs": [],
      "cell_type": "code",
      "source": [
        "choices = [\n\"Yes, the value is `-9.2061`\",\n\"Yes, the value is `-11.5123`\",\n\"No, the value heads to negative infinity\"\n];\nans = 3;\nradioq(choices, ans)"
      ],
      "metadata": {},
      "execution_count": null
    },
    {
      "cell_type": "markdown",
      "source": [
        "###### Question\n\nCompute the limit\n\n$$~\n\\lim_{x \\rightarrow 1} \\frac{x}{x-1} - \\frac{1}{\\log(x)}.\n~$$"
      ],
      "metadata": {}
    },
    {
      "outputs": [],
      "cell_type": "code",
      "source": [
        "f(x) = x/(x-1) - 1/log(x)\nval = convert(Float64, N(limit(f, 1)))\nnumericq(val)"
      ],
      "metadata": {},
      "execution_count": null
    },
    {
      "cell_type": "markdown",
      "source": [
        "###### Question\n\nCompute the limit\n\n$$~\n\\lim_{x \\rightarrow 1/2} \\frac{1}{\\pi} \\frac{\\cos(\\pi x)}{1 - (2x)^2}.\n~$$"
      ],
      "metadata": {}
    },
    {
      "outputs": [],
      "cell_type": "code",
      "source": [
        "f(x) =  1/PI * cos(PI*x)/(1 - (2x)^2)\nval = N(limit(f, 1//2))\nnumericq(val)"
      ],
      "metadata": {},
      "execution_count": null
    }
  ],
  "nbformat_minor": 2,
  "metadata": {
    "language_info": {
      "file_extension": ".jl",
      "mimetype": "application/julia",
      "name": "julia",
      "version": "1.5.0"
    },
    "kernelspec": {
      "name": "julia-1.5",
      "display_name": "Julia 1.5.0",
      "language": "julia"
    }
  },
  "nbformat": 4
}
